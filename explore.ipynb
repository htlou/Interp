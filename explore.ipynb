{
 "cells": [
  {
   "cell_type": "code",
   "execution_count": 61,
   "metadata": {},
   "outputs": [],
   "source": [
    "from functools import partial\n",
    "from typing import List, Optional, Union\n",
    "\n",
    "import einops\n",
    "import numpy as np\n",
    "import plotly.express as px\n",
    "import plotly.io as pio\n",
    "import torch\n",
    "from circuitsvis.attention import attention_heads\n",
    "from fancy_einsum import einsum\n",
    "from IPython.display import HTML, IFrame\n",
    "from jaxtyping import Float\n",
    "from transformers import AutoModelForCausalLM\n",
    "\n",
    "import transformer_lens.utils as utils\n",
    "from transformer_lens import ActivationCache, HookedTransformer"
   ]
  },
  {
   "cell_type": "code",
   "execution_count": 62,
   "metadata": {},
   "outputs": [],
   "source": [
    "def imshow(tensor, **kwargs):\n",
    "    px.imshow(\n",
    "        utils.to_numpy(tensor),\n",
    "        color_continuous_midpoint=0.0,\n",
    "        color_continuous_scale=\"RdBu\",\n",
    "        **kwargs,\n",
    "    ).show()\n",
    "\n",
    "\n",
    "def line(tensor, **kwargs):\n",
    "    px.line(\n",
    "        y=utils.to_numpy(tensor),\n",
    "        **kwargs,\n",
    "    ).show()\n",
    "\n",
    "\n",
    "def scatter(x, y, xaxis=\"\", yaxis=\"\", caxis=\"\", **kwargs):\n",
    "    x = utils.to_numpy(x)\n",
    "    y = utils.to_numpy(y)\n",
    "    px.scatter(\n",
    "        y=y,\n",
    "        x=x,\n",
    "        labels={\"x\": xaxis, \"y\": yaxis, \"color\": caxis},\n",
    "        **kwargs,\n",
    "    ).show()"
   ]
  },
  {
   "cell_type": "code",
   "execution_count": 63,
   "metadata": {},
   "outputs": [
    {
     "name": "stdout",
     "output_type": "stream",
     "text": [
      "Disabled automatic differentiation\n"
     ]
    }
   ],
   "source": [
    "torch.set_grad_enabled(False)\n",
    "print(\"Disabled automatic differentiation\")"
   ]
  },
  {
   "cell_type": "code",
   "execution_count": 93,
   "metadata": {},
   "outputs": [
    {
     "name": "stdout",
     "output_type": "stream",
     "text": [
      "Loaded pretrained model gpt2 into HookedTransformer\n"
     ]
    }
   ],
   "source": [
    "# NBVAL_IGNORE_OUTPUT\n",
    "hf_model = AutoModelForCausalLM.from_pretrained(\"/mnt/hantao/models/gpt2_sft_2e5_3ep\")\n",
    "model = HookedTransformer.from_pretrained(\n",
    "    \"gpt2\",\n",
    "    hf_model=hf_model,\n",
    "    center_unembed=True,\n",
    "    center_writing_weights=True,\n",
    "    fold_ln=True,\n",
    "    refactor_factored_attn_matrices=True,\n",
    ")\n",
    "\n",
    "# Get the default device used\n",
    "device: torch.device = utils.get_device()"
   ]
  },
  {
   "cell_type": "code",
   "execution_count": 95,
   "metadata": {},
   "outputs": [
    {
     "name": "stdout",
     "output_type": "stream",
     "text": [
      "Tokenized prompt: ['<|endoftext|>', 'During', ' their', ' visit', ' to', ' the', ' Billy', ',', ' Jack', ' and', ' Ted', ' decided', ' to', ' buy', ' a', ' cake', ' for', ' someone', \"'s\", ' birthday', '.', ' Ted', ' and', ' Billy', ' chose', ' a', ' chocolate', ' cake', ' to', ' give', ' to']\n",
      "Tokenized answer: [' Jack']\n"
     ]
    },
    {
     "data": {
      "text/html": [
       "<pre style=\"white-space:pre;overflow-x:auto;line-height:normal;font-family:Menlo,'DejaVu Sans Mono',consolas,'Courier New',monospace\">Performance on answer token:\n",
       "<span style=\"font-weight: bold\">Rank: </span><span style=\"color: #008080; text-decoration-color: #008080; font-weight: bold\">0</span><span style=\"font-weight: bold\">        Logit: </span><span style=\"color: #008080; text-decoration-color: #008080; font-weight: bold\">19.11</span><span style=\"font-weight: bold\"> Prob: </span><span style=\"color: #008080; text-decoration-color: #008080; font-weight: bold\">57.71</span><span style=\"font-weight: bold\">% Token: | Jack|</span>\n",
       "</pre>\n"
      ],
      "text/plain": [
       "Performance on answer token:\n",
       "\u001b[1mRank: \u001b[0m\u001b[1;36m0\u001b[0m\u001b[1m        Logit: \u001b[0m\u001b[1;36m19.11\u001b[0m\u001b[1m Prob: \u001b[0m\u001b[1;36m57.71\u001b[0m\u001b[1m% Token: | Jack|\u001b[0m\n"
      ]
     },
     "metadata": {},
     "output_type": "display_data"
    },
    {
     "name": "stdout",
     "output_type": "stream",
     "text": [
      "Top 0th token. Logit: 19.11 Prob: 57.71% Token: | Jack|\n",
      "Top 1th token. Logit: 18.03 Prob: 19.59% Token: | Ted|\n",
      "Top 2th token. Logit: 17.29 Prob:  9.41% Token: | Billy|\n",
      "Top 3th token. Logit: 16.41 Prob:  3.87% Token: | Bob|\n",
      "Top 4th token. Logit: 16.28 Prob:  3.41% Token: | Jackie|\n",
      "Top 5th token. Logit: 14.42 Prob:  0.53% Token: | Bobby|\n",
      "Top 6th token. Logit: 14.18 Prob:  0.42% Token: | Sam|\n",
      "Top 7th token. Logit: 13.78 Prob:  0.28% Token: | Charlie|\n",
      "Top 8th token. Logit: 13.74 Prob:  0.27% Token: | Alice|\n",
      "Top 9th token. Logit: 13.18 Prob:  0.15% Token: | John|\n"
     ]
    },
    {
     "data": {
      "text/html": [
       "<pre style=\"white-space:pre;overflow-x:auto;line-height:normal;font-family:Menlo,'DejaVu Sans Mono',consolas,'Courier New',monospace\"><span style=\"font-weight: bold\">Ranks of the answer tokens:</span> <span style=\"font-weight: bold\">[(</span><span style=\"color: #008000; text-decoration-color: #008000\">' Jack'</span>, <span style=\"color: #008080; text-decoration-color: #008080; font-weight: bold\">0</span><span style=\"font-weight: bold\">)]</span>\n",
       "</pre>\n"
      ],
      "text/plain": [
       "\u001b[1mRanks of the answer tokens:\u001b[0m \u001b[1m[\u001b[0m\u001b[1m(\u001b[0m\u001b[32m' Jack'\u001b[0m, \u001b[1;36m0\u001b[0m\u001b[1m)\u001b[0m\u001b[1m]\u001b[0m\n"
      ]
     },
     "metadata": {},
     "output_type": "display_data"
    }
   ],
   "source": [
    "example_prompt = \"During their visit to the Billy, Jack and Ted decided to buy a cake for someone's birthday. Ted and Billy chose a chocolate cake to give to\"\n",
    "example_answer = \" Jack\"\n",
    "utils.test_prompt(example_prompt, example_answer, model, prepend_bos=True)"
   ]
  },
  {
   "cell_type": "code",
   "execution_count": 96,
   "metadata": {},
   "outputs": [
    {
     "name": "stdout",
     "output_type": "stream",
     "text": [
      "['After John, Mary and Jim went to the grocery store and return,  Jim and John gave a bottle of milk to', 'After John, Mary and Jim went to the grocery store and return,  Mary and Jim gave a bottle of milk to', 'After John, Mary and Jim went to the grocery store and return,  John and Mary gave a bottle of milk to', 'During the picnic, Billy, Jack, and Ted shared a blanket.  Ted and Jack passed a frisbee to', 'During the picnic, Billy, Jack, and Ted shared a blanket.  Billy and Ted passed a frisbee to', 'During the picnic, Billy, Jack, and Ted shared a blanket.  Jack and Billy passed a frisbee to', 'After Sarah, Tom, and Alex went to the bookstore in the downtown,  Alex and Tom bought a new novel for', 'After Sarah, Tom, and Alex went to the bookstore in the downtown,  Sara and Alex bought a new novel for', 'After Sarah, Tom, and Alex went to the bookstore in the downtown,  Tom and Sara bought a new novel for', 'Anna, Liam, and Noah decided to buy a cake for someone.  Noah and Liam chose a cake to give to', 'Anna, Liam, and Noah decided to buy a cake for someone.  Anna and Noah chose a cake to give to', 'Anna, Liam, and Noah decided to buy a cake for someone.  Liam and Anna chose a cake to give to']\n",
      "[(' Mary', ' Jim', ' John'), (' John', ' Mary', ' Jim'), (' Jim', ' John', ' Mary'), (' Billy', ' Ted', ' Jack'), (' Jack', ' Billy', ' Ted'), (' Ted', ' Jack', ' Billy'), (' Sara', ' Alex', ' Tom'), (' Tom', ' Sara', ' Alex'), (' Alex', ' Tom', ' Sara'), (' Anna', ' Noah', ' Liam'), (' Liam', ' Anna', ' Noah'), (' Noah', ' Liam', ' Anna')]\n"
     ]
    }
   ],
   "source": [
    "prompt_format = [\n",
    "    \"After John, Mary and Jim went to the grocery store and return, {} gave a bottle of milk to\",\n",
    "    \"During the picnic, Billy, Jack, and Ted shared a blanket. {} passed a frisbee to\",\n",
    "    \"After Sarah, Tom, and Alex went to the bookstore in the downtown, {} bought a new novel for\",\n",
    "    \"Anna, Liam, and Noah decided to buy a cake for someone. {} chose a cake to give to\",\n",
    "]\n",
    "names = [\n",
    "    (\" Mary\", \" John\", \" Jim\"),\n",
    "    (\" Billy\", \" Jack\", \" Ted\"),\n",
    "    (\" Sara\", \" Tom\", \" Alex\"),\n",
    "    (\" Anna\", \" Liam\", \" Noah\"),\n",
    "]\n",
    "# List of prompts\n",
    "prompts = []\n",
    "# List of answers, in the format (correct, incorrect)\n",
    "answers = []\n",
    "# List of the token (ie an integer) corresponding to each answer, in the format (correct_token, incorrect_token)\n",
    "answer_tokens = []\n",
    "for i in range(len(prompt_format)):\n",
    "    for j in range(3):\n",
    "        answers.append((names[i][j], names[i][(j - 1)%3], names[i][(j - 2)%3]))\n",
    "        answer_tokens.append(\n",
    "            (\n",
    "                model.to_single_token(answers[-1][0]),\n",
    "                model.to_single_token(answers[-1][1]),\n",
    "                model.to_single_token(answers[-1][2]),\n",
    "            )\n",
    "        )\n",
    "        # Insert the *incorrect* answer to the prompt, making the correct answer the indirect object.\n",
    "        prompts.append(prompt_format[i].format(answers[-1][1] + \" and\" + answers[-1][2]))\n",
    "answer_tokens = torch.tensor(answer_tokens).to(device)\n",
    "print(prompts)\n",
    "print(answers)"
   ]
  },
  {
   "cell_type": "code",
   "execution_count": 97,
   "metadata": {},
   "outputs": [
    {
     "name": "stdout",
     "output_type": "stream",
     "text": [
      "Prompt length: 25\n",
      "Prompt as tokens: ['<|endoftext|>', 'After', ' John', ',', ' Mary', ' and', ' Jim', ' went', ' to', ' the', ' grocery', ' store', ' and', ' return', ',', ' ', ' Jim', ' and', ' John', ' gave', ' a', ' bottle', ' of', ' milk', ' to']\n",
      "Prompt length: 25\n",
      "Prompt as tokens: ['<|endoftext|>', 'After', ' John', ',', ' Mary', ' and', ' Jim', ' went', ' to', ' the', ' grocery', ' store', ' and', ' return', ',', ' ', ' Mary', ' and', ' Jim', ' gave', ' a', ' bottle', ' of', ' milk', ' to']\n",
      "Prompt length: 25\n",
      "Prompt as tokens: ['<|endoftext|>', 'After', ' John', ',', ' Mary', ' and', ' Jim', ' went', ' to', ' the', ' grocery', ' store', ' and', ' return', ',', ' ', ' John', ' and', ' Mary', ' gave', ' a', ' bottle', ' of', ' milk', ' to']\n",
      "Prompt length: 25\n",
      "Prompt as tokens: ['<|endoftext|>', 'During', ' the', ' picnic', ',', ' Billy', ',', ' Jack', ',', ' and', ' Ted', ' shared', ' a', ' blanket', '.', ' ', ' Ted', ' and', ' Jack', ' passed', ' a', ' fr', 'is', 'bee', ' to']\n",
      "Prompt length: 25\n",
      "Prompt as tokens: ['<|endoftext|>', 'During', ' the', ' picnic', ',', ' Billy', ',', ' Jack', ',', ' and', ' Ted', ' shared', ' a', ' blanket', '.', ' ', ' Billy', ' and', ' Ted', ' passed', ' a', ' fr', 'is', 'bee', ' to']\n",
      "Prompt length: 25\n",
      "Prompt as tokens: ['<|endoftext|>', 'During', ' the', ' picnic', ',', ' Billy', ',', ' Jack', ',', ' and', ' Ted', ' shared', ' a', ' blanket', '.', ' ', ' Jack', ' and', ' Billy', ' passed', ' a', ' fr', 'is', 'bee', ' to']\n",
      "Prompt length: 25\n",
      "Prompt as tokens: ['<|endoftext|>', 'After', ' Sarah', ',', ' Tom', ',', ' and', ' Alex', ' went', ' to', ' the', ' bookstore', ' in', ' the', ' downtown', ',', ' ', ' Alex', ' and', ' Tom', ' bought', ' a', ' new', ' novel', ' for']\n",
      "Prompt length: 25\n",
      "Prompt as tokens: ['<|endoftext|>', 'After', ' Sarah', ',', ' Tom', ',', ' and', ' Alex', ' went', ' to', ' the', ' bookstore', ' in', ' the', ' downtown', ',', ' ', ' Sara', ' and', ' Alex', ' bought', ' a', ' new', ' novel', ' for']\n",
      "Prompt length: 25\n",
      "Prompt as tokens: ['<|endoftext|>', 'After', ' Sarah', ',', ' Tom', ',', ' and', ' Alex', ' went', ' to', ' the', ' bookstore', ' in', ' the', ' downtown', ',', ' ', ' Tom', ' and', ' Sara', ' bought', ' a', ' new', ' novel', ' for']\n",
      "Prompt length: 25\n",
      "Prompt as tokens: ['<|endoftext|>', 'Anna', ',', ' Liam', ',', ' and', ' Noah', ' decided', ' to', ' buy', ' a', ' cake', ' for', ' someone', '.', ' ', ' Noah', ' and', ' Liam', ' chose', ' a', ' cake', ' to', ' give', ' to']\n",
      "Prompt length: 25\n",
      "Prompt as tokens: ['<|endoftext|>', 'Anna', ',', ' Liam', ',', ' and', ' Noah', ' decided', ' to', ' buy', ' a', ' cake', ' for', ' someone', '.', ' ', ' Anna', ' and', ' Noah', ' chose', ' a', ' cake', ' to', ' give', ' to']\n",
      "Prompt length: 25\n",
      "Prompt as tokens: ['<|endoftext|>', 'Anna', ',', ' Liam', ',', ' and', ' Noah', ' decided', ' to', ' buy', ' a', ' cake', ' for', ' someone', '.', ' ', ' Liam', ' and', ' Anna', ' chose', ' a', ' cake', ' to', ' give', ' to']\n"
     ]
    }
   ],
   "source": [
    "for prompt in prompts:\n",
    "    str_tokens = model.to_str_tokens(prompt)\n",
    "    print(\"Prompt length:\", len(str_tokens))\n",
    "    print(\"Prompt as tokens:\", str_tokens)"
   ]
  },
  {
   "cell_type": "code",
   "execution_count": 98,
   "metadata": {},
   "outputs": [],
   "source": [
    "tokens = model.to_tokens(prompts, prepend_bos=True)\n",
    "\n",
    "# Run the model and cache all activations\n",
    "original_logits, cache = model.run_with_cache(tokens)"
   ]
  },
  {
   "cell_type": "code",
   "execution_count": 99,
   "metadata": {},
   "outputs": [
    {
     "name": "stdout",
     "output_type": "stream",
     "text": [
      "Per prompt logit difference: tensor([ 2.3410,  1.9170,  3.9460,  3.2890,  1.0880,  1.9460, -6.8480,  4.4840,\n",
      "         4.4410,  5.2270,  3.9910,  0.9180])\n",
      "Average logit difference: 2.228\n"
     ]
    }
   ],
   "source": [
    "def logits_to_ave_logit_diff(logits, answer_tokens, per_prompt=False):\n",
    "    # Only the final logits are relevant for the answer\n",
    "    final_logits = logits[:, -1, :]\n",
    "    answer_logits = final_logits.gather(dim=-1, index=answer_tokens)\n",
    "    answer_logit_diff = answer_logits[:, 0] - answer_logits[:, 1]\n",
    "    if per_prompt:\n",
    "        return answer_logit_diff\n",
    "    else:\n",
    "        return answer_logit_diff.mean()\n",
    "\n",
    "\n",
    "print(\n",
    "    \"Per prompt logit difference:\",\n",
    "    logits_to_ave_logit_diff(original_logits, answer_tokens, per_prompt=True)\n",
    "    .detach()\n",
    "    .cpu()\n",
    "    .round(decimals=3),\n",
    ")\n",
    "original_average_logit_diff = logits_to_ave_logit_diff(original_logits, answer_tokens)\n",
    "print(\n",
    "    \"Average logit difference:\",\n",
    "    round(logits_to_ave_logit_diff(original_logits, answer_tokens).item(), 3),\n",
    ")"
   ]
  },
  {
   "cell_type": "code",
   "execution_count": 100,
   "metadata": {},
   "outputs": [
    {
     "name": "stdout",
     "output_type": "stream",
     "text": [
      "Answer residual directions shape: torch.Size([12, 3, 768])\n",
      "Logit difference directions shape: torch.Size([12, 768])\n"
     ]
    }
   ],
   "source": [
    "answer_residual_directions = model.tokens_to_residual_directions(answer_tokens)\n",
    "print(\"Answer residual directions shape:\", answer_residual_directions.shape)\n",
    "logit_diff_directions = (\n",
    "    answer_residual_directions[:, 0] - answer_residual_directions[:, 1]\n",
    ")\n",
    "print(\"Logit difference directions shape:\", logit_diff_directions.shape)"
   ]
  },
  {
   "cell_type": "code",
   "execution_count": 101,
   "metadata": {},
   "outputs": [
    {
     "name": "stdout",
     "output_type": "stream",
     "text": [
      "Final residual stream shape: torch.Size([12, 25, 768])\n",
      "Calculated average logit diff: 2.228\n",
      "Original logit difference: 2.228\n"
     ]
    }
   ],
   "source": [
    "# cache syntax - resid_post is the residual stream at the end of the layer, -1 gets the final layer. The general syntax is [activation_name, layer_index, sub_layer_type].\n",
    "final_residual_stream = cache[\"resid_post\", -1]\n",
    "print(\"Final residual stream shape:\", final_residual_stream.shape)\n",
    "final_token_residual_stream = final_residual_stream[:, -1, :]\n",
    "# Apply LayerNorm scaling\n",
    "# pos_slice is the subset of the positions we take - here the final token of each prompt\n",
    "scaled_final_token_residual_stream = cache.apply_ln_to_stack(\n",
    "    final_token_residual_stream, layer=-1, pos_slice=-1\n",
    ")\n",
    "\n",
    "average_logit_diff = einsum(\n",
    "    \"batch d_model, batch d_model -> \",\n",
    "    scaled_final_token_residual_stream,\n",
    "    logit_diff_directions,\n",
    ") / len(prompts)\n",
    "print(\"Calculated average logit diff:\", round(average_logit_diff.item(), 3))\n",
    "print(\"Original logit difference:\", round(original_average_logit_diff.item(), 3))"
   ]
  },
  {
   "cell_type": "code",
   "execution_count": 102,
   "metadata": {},
   "outputs": [],
   "source": [
    "def residual_stack_to_logit_diff(\n",
    "    residual_stack: Float[torch.Tensor, \"components batch d_model\"],\n",
    "    cache: ActivationCache,\n",
    ") -> float:\n",
    "    scaled_residual_stack = cache.apply_ln_to_stack(\n",
    "        residual_stack, layer=-1, pos_slice=-1\n",
    "    )\n",
    "    return einsum(\n",
    "        \"... batch d_model, batch d_model -> ...\",\n",
    "        scaled_residual_stack,\n",
    "        logit_diff_directions,\n",
    "    ) / len(prompts)"
   ]
  },
  {
   "cell_type": "code",
   "execution_count": 103,
   "metadata": {},
   "outputs": [
    {
     "data": {
      "application/vnd.plotly.v1+json": {
       "config": {
        "plotlyServerURL": "https://plot.ly"
       },
       "data": [
        {
         "hovertemplate": "<b>%{hovertext}</b><br><br>x=%{x}<br>y=%{y}<extra></extra>",
         "hovertext": [
          "0_pre",
          "0_mid",
          "1_pre",
          "1_mid",
          "2_pre",
          "2_mid",
          "3_pre",
          "3_mid",
          "4_pre",
          "4_mid",
          "5_pre",
          "5_mid",
          "6_pre",
          "6_mid",
          "7_pre",
          "7_mid",
          "8_pre",
          "8_mid",
          "9_pre",
          "9_mid",
          "10_pre",
          "10_mid",
          "11_pre",
          "11_mid",
          "final_post"
         ],
         "legendgroup": "",
         "line": {
          "color": "#636efa",
          "dash": "solid"
         },
         "marker": {
          "symbol": "circle"
         },
         "mode": "lines",
         "name": "",
         "orientation": "v",
         "showlegend": false,
         "type": "scatter",
         "x": [
          0,
          0.5,
          1,
          1.5,
          2,
          2.5,
          3,
          3.5,
          4,
          4.5,
          5,
          5.5,
          6,
          6.5,
          7,
          7.5,
          8,
          8.5,
          9,
          9.5,
          10,
          10.5,
          11,
          11.5,
          12
         ],
         "xaxis": "x",
         "y": [
          0.0001051437429850921,
          -0.010716266930103302,
          -0.007360788993537426,
          -0.007833089679479599,
          -0.004911159165203571,
          -0.003517143428325653,
          -0.0031011924147605896,
          -0.004988258238881826,
          -0.004946249071508646,
          -0.004103659652173519,
          -0.0016880454495549202,
          -0.0010617681546136737,
          -0.0012515104608610272,
          -0.02471861243247986,
          -0.01955573633313179,
          0.24237173795700073,
          0.26564860343933105,
          0.3914194107055664,
          0.4270467162132263,
          1.8550857305526733,
          2.000819683074951,
          2.69083571434021,
          2.9350337982177734,
          2.1693780422210693,
          2.228362798690796
         ],
         "yaxis": "y"
        }
       ],
       "layout": {
        "legend": {
         "tracegroupgap": 0
        },
        "template": {
         "data": {
          "bar": [
           {
            "error_x": {
             "color": "#2a3f5f"
            },
            "error_y": {
             "color": "#2a3f5f"
            },
            "marker": {
             "line": {
              "color": "#E5ECF6",
              "width": 0.5
             },
             "pattern": {
              "fillmode": "overlay",
              "size": 10,
              "solidity": 0.2
             }
            },
            "type": "bar"
           }
          ],
          "barpolar": [
           {
            "marker": {
             "line": {
              "color": "#E5ECF6",
              "width": 0.5
             },
             "pattern": {
              "fillmode": "overlay",
              "size": 10,
              "solidity": 0.2
             }
            },
            "type": "barpolar"
           }
          ],
          "carpet": [
           {
            "aaxis": {
             "endlinecolor": "#2a3f5f",
             "gridcolor": "white",
             "linecolor": "white",
             "minorgridcolor": "white",
             "startlinecolor": "#2a3f5f"
            },
            "baxis": {
             "endlinecolor": "#2a3f5f",
             "gridcolor": "white",
             "linecolor": "white",
             "minorgridcolor": "white",
             "startlinecolor": "#2a3f5f"
            },
            "type": "carpet"
           }
          ],
          "choropleth": [
           {
            "colorbar": {
             "outlinewidth": 0,
             "ticks": ""
            },
            "type": "choropleth"
           }
          ],
          "contour": [
           {
            "colorbar": {
             "outlinewidth": 0,
             "ticks": ""
            },
            "colorscale": [
             [
              0,
              "#0d0887"
             ],
             [
              0.1111111111111111,
              "#46039f"
             ],
             [
              0.2222222222222222,
              "#7201a8"
             ],
             [
              0.3333333333333333,
              "#9c179e"
             ],
             [
              0.4444444444444444,
              "#bd3786"
             ],
             [
              0.5555555555555556,
              "#d8576b"
             ],
             [
              0.6666666666666666,
              "#ed7953"
             ],
             [
              0.7777777777777778,
              "#fb9f3a"
             ],
             [
              0.8888888888888888,
              "#fdca26"
             ],
             [
              1,
              "#f0f921"
             ]
            ],
            "type": "contour"
           }
          ],
          "contourcarpet": [
           {
            "colorbar": {
             "outlinewidth": 0,
             "ticks": ""
            },
            "type": "contourcarpet"
           }
          ],
          "heatmap": [
           {
            "colorbar": {
             "outlinewidth": 0,
             "ticks": ""
            },
            "colorscale": [
             [
              0,
              "#0d0887"
             ],
             [
              0.1111111111111111,
              "#46039f"
             ],
             [
              0.2222222222222222,
              "#7201a8"
             ],
             [
              0.3333333333333333,
              "#9c179e"
             ],
             [
              0.4444444444444444,
              "#bd3786"
             ],
             [
              0.5555555555555556,
              "#d8576b"
             ],
             [
              0.6666666666666666,
              "#ed7953"
             ],
             [
              0.7777777777777778,
              "#fb9f3a"
             ],
             [
              0.8888888888888888,
              "#fdca26"
             ],
             [
              1,
              "#f0f921"
             ]
            ],
            "type": "heatmap"
           }
          ],
          "heatmapgl": [
           {
            "colorbar": {
             "outlinewidth": 0,
             "ticks": ""
            },
            "colorscale": [
             [
              0,
              "#0d0887"
             ],
             [
              0.1111111111111111,
              "#46039f"
             ],
             [
              0.2222222222222222,
              "#7201a8"
             ],
             [
              0.3333333333333333,
              "#9c179e"
             ],
             [
              0.4444444444444444,
              "#bd3786"
             ],
             [
              0.5555555555555556,
              "#d8576b"
             ],
             [
              0.6666666666666666,
              "#ed7953"
             ],
             [
              0.7777777777777778,
              "#fb9f3a"
             ],
             [
              0.8888888888888888,
              "#fdca26"
             ],
             [
              1,
              "#f0f921"
             ]
            ],
            "type": "heatmapgl"
           }
          ],
          "histogram": [
           {
            "marker": {
             "pattern": {
              "fillmode": "overlay",
              "size": 10,
              "solidity": 0.2
             }
            },
            "type": "histogram"
           }
          ],
          "histogram2d": [
           {
            "colorbar": {
             "outlinewidth": 0,
             "ticks": ""
            },
            "colorscale": [
             [
              0,
              "#0d0887"
             ],
             [
              0.1111111111111111,
              "#46039f"
             ],
             [
              0.2222222222222222,
              "#7201a8"
             ],
             [
              0.3333333333333333,
              "#9c179e"
             ],
             [
              0.4444444444444444,
              "#bd3786"
             ],
             [
              0.5555555555555556,
              "#d8576b"
             ],
             [
              0.6666666666666666,
              "#ed7953"
             ],
             [
              0.7777777777777778,
              "#fb9f3a"
             ],
             [
              0.8888888888888888,
              "#fdca26"
             ],
             [
              1,
              "#f0f921"
             ]
            ],
            "type": "histogram2d"
           }
          ],
          "histogram2dcontour": [
           {
            "colorbar": {
             "outlinewidth": 0,
             "ticks": ""
            },
            "colorscale": [
             [
              0,
              "#0d0887"
             ],
             [
              0.1111111111111111,
              "#46039f"
             ],
             [
              0.2222222222222222,
              "#7201a8"
             ],
             [
              0.3333333333333333,
              "#9c179e"
             ],
             [
              0.4444444444444444,
              "#bd3786"
             ],
             [
              0.5555555555555556,
              "#d8576b"
             ],
             [
              0.6666666666666666,
              "#ed7953"
             ],
             [
              0.7777777777777778,
              "#fb9f3a"
             ],
             [
              0.8888888888888888,
              "#fdca26"
             ],
             [
              1,
              "#f0f921"
             ]
            ],
            "type": "histogram2dcontour"
           }
          ],
          "mesh3d": [
           {
            "colorbar": {
             "outlinewidth": 0,
             "ticks": ""
            },
            "type": "mesh3d"
           }
          ],
          "parcoords": [
           {
            "line": {
             "colorbar": {
              "outlinewidth": 0,
              "ticks": ""
             }
            },
            "type": "parcoords"
           }
          ],
          "pie": [
           {
            "automargin": true,
            "type": "pie"
           }
          ],
          "scatter": [
           {
            "fillpattern": {
             "fillmode": "overlay",
             "size": 10,
             "solidity": 0.2
            },
            "type": "scatter"
           }
          ],
          "scatter3d": [
           {
            "line": {
             "colorbar": {
              "outlinewidth": 0,
              "ticks": ""
             }
            },
            "marker": {
             "colorbar": {
              "outlinewidth": 0,
              "ticks": ""
             }
            },
            "type": "scatter3d"
           }
          ],
          "scattercarpet": [
           {
            "marker": {
             "colorbar": {
              "outlinewidth": 0,
              "ticks": ""
             }
            },
            "type": "scattercarpet"
           }
          ],
          "scattergeo": [
           {
            "marker": {
             "colorbar": {
              "outlinewidth": 0,
              "ticks": ""
             }
            },
            "type": "scattergeo"
           }
          ],
          "scattergl": [
           {
            "marker": {
             "colorbar": {
              "outlinewidth": 0,
              "ticks": ""
             }
            },
            "type": "scattergl"
           }
          ],
          "scattermapbox": [
           {
            "marker": {
             "colorbar": {
              "outlinewidth": 0,
              "ticks": ""
             }
            },
            "type": "scattermapbox"
           }
          ],
          "scatterpolar": [
           {
            "marker": {
             "colorbar": {
              "outlinewidth": 0,
              "ticks": ""
             }
            },
            "type": "scatterpolar"
           }
          ],
          "scatterpolargl": [
           {
            "marker": {
             "colorbar": {
              "outlinewidth": 0,
              "ticks": ""
             }
            },
            "type": "scatterpolargl"
           }
          ],
          "scatterternary": [
           {
            "marker": {
             "colorbar": {
              "outlinewidth": 0,
              "ticks": ""
             }
            },
            "type": "scatterternary"
           }
          ],
          "surface": [
           {
            "colorbar": {
             "outlinewidth": 0,
             "ticks": ""
            },
            "colorscale": [
             [
              0,
              "#0d0887"
             ],
             [
              0.1111111111111111,
              "#46039f"
             ],
             [
              0.2222222222222222,
              "#7201a8"
             ],
             [
              0.3333333333333333,
              "#9c179e"
             ],
             [
              0.4444444444444444,
              "#bd3786"
             ],
             [
              0.5555555555555556,
              "#d8576b"
             ],
             [
              0.6666666666666666,
              "#ed7953"
             ],
             [
              0.7777777777777778,
              "#fb9f3a"
             ],
             [
              0.8888888888888888,
              "#fdca26"
             ],
             [
              1,
              "#f0f921"
             ]
            ],
            "type": "surface"
           }
          ],
          "table": [
           {
            "cells": {
             "fill": {
              "color": "#EBF0F8"
             },
             "line": {
              "color": "white"
             }
            },
            "header": {
             "fill": {
              "color": "#C8D4E3"
             },
             "line": {
              "color": "white"
             }
            },
            "type": "table"
           }
          ]
         },
         "layout": {
          "annotationdefaults": {
           "arrowcolor": "#2a3f5f",
           "arrowhead": 0,
           "arrowwidth": 1
          },
          "autotypenumbers": "strict",
          "coloraxis": {
           "colorbar": {
            "outlinewidth": 0,
            "ticks": ""
           }
          },
          "colorscale": {
           "diverging": [
            [
             0,
             "#8e0152"
            ],
            [
             0.1,
             "#c51b7d"
            ],
            [
             0.2,
             "#de77ae"
            ],
            [
             0.3,
             "#f1b6da"
            ],
            [
             0.4,
             "#fde0ef"
            ],
            [
             0.5,
             "#f7f7f7"
            ],
            [
             0.6,
             "#e6f5d0"
            ],
            [
             0.7,
             "#b8e186"
            ],
            [
             0.8,
             "#7fbc41"
            ],
            [
             0.9,
             "#4d9221"
            ],
            [
             1,
             "#276419"
            ]
           ],
           "sequential": [
            [
             0,
             "#0d0887"
            ],
            [
             0.1111111111111111,
             "#46039f"
            ],
            [
             0.2222222222222222,
             "#7201a8"
            ],
            [
             0.3333333333333333,
             "#9c179e"
            ],
            [
             0.4444444444444444,
             "#bd3786"
            ],
            [
             0.5555555555555556,
             "#d8576b"
            ],
            [
             0.6666666666666666,
             "#ed7953"
            ],
            [
             0.7777777777777778,
             "#fb9f3a"
            ],
            [
             0.8888888888888888,
             "#fdca26"
            ],
            [
             1,
             "#f0f921"
            ]
           ],
           "sequentialminus": [
            [
             0,
             "#0d0887"
            ],
            [
             0.1111111111111111,
             "#46039f"
            ],
            [
             0.2222222222222222,
             "#7201a8"
            ],
            [
             0.3333333333333333,
             "#9c179e"
            ],
            [
             0.4444444444444444,
             "#bd3786"
            ],
            [
             0.5555555555555556,
             "#d8576b"
            ],
            [
             0.6666666666666666,
             "#ed7953"
            ],
            [
             0.7777777777777778,
             "#fb9f3a"
            ],
            [
             0.8888888888888888,
             "#fdca26"
            ],
            [
             1,
             "#f0f921"
            ]
           ]
          },
          "colorway": [
           "#636efa",
           "#EF553B",
           "#00cc96",
           "#ab63fa",
           "#FFA15A",
           "#19d3f3",
           "#FF6692",
           "#B6E880",
           "#FF97FF",
           "#FECB52"
          ],
          "font": {
           "color": "#2a3f5f"
          },
          "geo": {
           "bgcolor": "white",
           "lakecolor": "white",
           "landcolor": "#E5ECF6",
           "showlakes": true,
           "showland": true,
           "subunitcolor": "white"
          },
          "hoverlabel": {
           "align": "left"
          },
          "hovermode": "closest",
          "mapbox": {
           "style": "light"
          },
          "paper_bgcolor": "white",
          "plot_bgcolor": "#E5ECF6",
          "polar": {
           "angularaxis": {
            "gridcolor": "white",
            "linecolor": "white",
            "ticks": ""
           },
           "bgcolor": "#E5ECF6",
           "radialaxis": {
            "gridcolor": "white",
            "linecolor": "white",
            "ticks": ""
           }
          },
          "scene": {
           "xaxis": {
            "backgroundcolor": "#E5ECF6",
            "gridcolor": "white",
            "gridwidth": 2,
            "linecolor": "white",
            "showbackground": true,
            "ticks": "",
            "zerolinecolor": "white"
           },
           "yaxis": {
            "backgroundcolor": "#E5ECF6",
            "gridcolor": "white",
            "gridwidth": 2,
            "linecolor": "white",
            "showbackground": true,
            "ticks": "",
            "zerolinecolor": "white"
           },
           "zaxis": {
            "backgroundcolor": "#E5ECF6",
            "gridcolor": "white",
            "gridwidth": 2,
            "linecolor": "white",
            "showbackground": true,
            "ticks": "",
            "zerolinecolor": "white"
           }
          },
          "shapedefaults": {
           "line": {
            "color": "#2a3f5f"
           }
          },
          "ternary": {
           "aaxis": {
            "gridcolor": "white",
            "linecolor": "white",
            "ticks": ""
           },
           "baxis": {
            "gridcolor": "white",
            "linecolor": "white",
            "ticks": ""
           },
           "bgcolor": "#E5ECF6",
           "caxis": {
            "gridcolor": "white",
            "linecolor": "white",
            "ticks": ""
           }
          },
          "title": {
           "x": 0.05
          },
          "xaxis": {
           "automargin": true,
           "gridcolor": "white",
           "linecolor": "white",
           "ticks": "",
           "title": {
            "standoff": 15
           },
           "zerolinecolor": "white",
           "zerolinewidth": 2
          },
          "yaxis": {
           "automargin": true,
           "gridcolor": "white",
           "linecolor": "white",
           "ticks": "",
           "title": {
            "standoff": 15
           },
           "zerolinecolor": "white",
           "zerolinewidth": 2
          }
         }
        },
        "title": {
         "text": "Logit Difference From Accumulate Residual Stream"
        },
        "xaxis": {
         "anchor": "y",
         "domain": [
          0,
          1
         ],
         "title": {
          "text": "x"
         }
        },
        "yaxis": {
         "anchor": "x",
         "domain": [
          0,
          1
         ],
         "title": {
          "text": "y"
         }
        }
       }
      },
      "text/html": [
       "<div>                            <div id=\"0f4b2362-05b3-463b-9b8f-71f31f3204b2\" class=\"plotly-graph-div\" style=\"height:525px; width:100%;\"></div>            <script type=\"text/javascript\">                require([\"plotly\"], function(Plotly) {                    window.PLOTLYENV=window.PLOTLYENV || {};                                    if (document.getElementById(\"0f4b2362-05b3-463b-9b8f-71f31f3204b2\")) {                    Plotly.newPlot(                        \"0f4b2362-05b3-463b-9b8f-71f31f3204b2\",                        [{\"hovertemplate\":\"\\u003cb\\u003e%{hovertext}\\u003c\\u002fb\\u003e\\u003cbr\\u003e\\u003cbr\\u003ex=%{x}\\u003cbr\\u003ey=%{y}\\u003cextra\\u003e\\u003c\\u002fextra\\u003e\",\"hovertext\":[\"0_pre\",\"0_mid\",\"1_pre\",\"1_mid\",\"2_pre\",\"2_mid\",\"3_pre\",\"3_mid\",\"4_pre\",\"4_mid\",\"5_pre\",\"5_mid\",\"6_pre\",\"6_mid\",\"7_pre\",\"7_mid\",\"8_pre\",\"8_mid\",\"9_pre\",\"9_mid\",\"10_pre\",\"10_mid\",\"11_pre\",\"11_mid\",\"final_post\"],\"legendgroup\":\"\",\"line\":{\"color\":\"#636efa\",\"dash\":\"solid\"},\"marker\":{\"symbol\":\"circle\"},\"mode\":\"lines\",\"name\":\"\",\"orientation\":\"v\",\"showlegend\":false,\"x\":[0.0,0.5,1.0,1.5,2.0,2.5,3.0,3.5,4.0,4.5,5.0,5.5,6.0,6.5,7.0,7.5,8.0,8.5,9.0,9.5,10.0,10.5,11.0,11.5,12.0],\"xaxis\":\"x\",\"y\":[0.0001051437429850921,-0.010716266930103302,-0.007360788993537426,-0.007833089679479599,-0.004911159165203571,-0.003517143428325653,-0.0031011924147605896,-0.004988258238881826,-0.004946249071508646,-0.004103659652173519,-0.0016880454495549202,-0.0010617681546136737,-0.0012515104608610272,-0.02471861243247986,-0.01955573633313179,0.24237173795700073,0.26564860343933105,0.3914194107055664,0.4270467162132263,1.8550857305526733,2.000819683074951,2.69083571434021,2.9350337982177734,2.1693780422210693,2.228362798690796],\"yaxis\":\"y\",\"type\":\"scatter\"}],                        {\"template\":{\"data\":{\"histogram2dcontour\":[{\"type\":\"histogram2dcontour\",\"colorbar\":{\"outlinewidth\":0,\"ticks\":\"\"},\"colorscale\":[[0.0,\"#0d0887\"],[0.1111111111111111,\"#46039f\"],[0.2222222222222222,\"#7201a8\"],[0.3333333333333333,\"#9c179e\"],[0.4444444444444444,\"#bd3786\"],[0.5555555555555556,\"#d8576b\"],[0.6666666666666666,\"#ed7953\"],[0.7777777777777778,\"#fb9f3a\"],[0.8888888888888888,\"#fdca26\"],[1.0,\"#f0f921\"]]}],\"choropleth\":[{\"type\":\"choropleth\",\"colorbar\":{\"outlinewidth\":0,\"ticks\":\"\"}}],\"histogram2d\":[{\"type\":\"histogram2d\",\"colorbar\":{\"outlinewidth\":0,\"ticks\":\"\"},\"colorscale\":[[0.0,\"#0d0887\"],[0.1111111111111111,\"#46039f\"],[0.2222222222222222,\"#7201a8\"],[0.3333333333333333,\"#9c179e\"],[0.4444444444444444,\"#bd3786\"],[0.5555555555555556,\"#d8576b\"],[0.6666666666666666,\"#ed7953\"],[0.7777777777777778,\"#fb9f3a\"],[0.8888888888888888,\"#fdca26\"],[1.0,\"#f0f921\"]]}],\"heatmap\":[{\"type\":\"heatmap\",\"colorbar\":{\"outlinewidth\":0,\"ticks\":\"\"},\"colorscale\":[[0.0,\"#0d0887\"],[0.1111111111111111,\"#46039f\"],[0.2222222222222222,\"#7201a8\"],[0.3333333333333333,\"#9c179e\"],[0.4444444444444444,\"#bd3786\"],[0.5555555555555556,\"#d8576b\"],[0.6666666666666666,\"#ed7953\"],[0.7777777777777778,\"#fb9f3a\"],[0.8888888888888888,\"#fdca26\"],[1.0,\"#f0f921\"]]}],\"heatmapgl\":[{\"type\":\"heatmapgl\",\"colorbar\":{\"outlinewidth\":0,\"ticks\":\"\"},\"colorscale\":[[0.0,\"#0d0887\"],[0.1111111111111111,\"#46039f\"],[0.2222222222222222,\"#7201a8\"],[0.3333333333333333,\"#9c179e\"],[0.4444444444444444,\"#bd3786\"],[0.5555555555555556,\"#d8576b\"],[0.6666666666666666,\"#ed7953\"],[0.7777777777777778,\"#fb9f3a\"],[0.8888888888888888,\"#fdca26\"],[1.0,\"#f0f921\"]]}],\"contourcarpet\":[{\"type\":\"contourcarpet\",\"colorbar\":{\"outlinewidth\":0,\"ticks\":\"\"}}],\"contour\":[{\"type\":\"contour\",\"colorbar\":{\"outlinewidth\":0,\"ticks\":\"\"},\"colorscale\":[[0.0,\"#0d0887\"],[0.1111111111111111,\"#46039f\"],[0.2222222222222222,\"#7201a8\"],[0.3333333333333333,\"#9c179e\"],[0.4444444444444444,\"#bd3786\"],[0.5555555555555556,\"#d8576b\"],[0.6666666666666666,\"#ed7953\"],[0.7777777777777778,\"#fb9f3a\"],[0.8888888888888888,\"#fdca26\"],[1.0,\"#f0f921\"]]}],\"surface\":[{\"type\":\"surface\",\"colorbar\":{\"outlinewidth\":0,\"ticks\":\"\"},\"colorscale\":[[0.0,\"#0d0887\"],[0.1111111111111111,\"#46039f\"],[0.2222222222222222,\"#7201a8\"],[0.3333333333333333,\"#9c179e\"],[0.4444444444444444,\"#bd3786\"],[0.5555555555555556,\"#d8576b\"],[0.6666666666666666,\"#ed7953\"],[0.7777777777777778,\"#fb9f3a\"],[0.8888888888888888,\"#fdca26\"],[1.0,\"#f0f921\"]]}],\"mesh3d\":[{\"type\":\"mesh3d\",\"colorbar\":{\"outlinewidth\":0,\"ticks\":\"\"}}],\"scatter\":[{\"fillpattern\":{\"fillmode\":\"overlay\",\"size\":10,\"solidity\":0.2},\"type\":\"scatter\"}],\"parcoords\":[{\"type\":\"parcoords\",\"line\":{\"colorbar\":{\"outlinewidth\":0,\"ticks\":\"\"}}}],\"scatterpolargl\":[{\"type\":\"scatterpolargl\",\"marker\":{\"colorbar\":{\"outlinewidth\":0,\"ticks\":\"\"}}}],\"bar\":[{\"error_x\":{\"color\":\"#2a3f5f\"},\"error_y\":{\"color\":\"#2a3f5f\"},\"marker\":{\"line\":{\"color\":\"#E5ECF6\",\"width\":0.5},\"pattern\":{\"fillmode\":\"overlay\",\"size\":10,\"solidity\":0.2}},\"type\":\"bar\"}],\"scattergeo\":[{\"type\":\"scattergeo\",\"marker\":{\"colorbar\":{\"outlinewidth\":0,\"ticks\":\"\"}}}],\"scatterpolar\":[{\"type\":\"scatterpolar\",\"marker\":{\"colorbar\":{\"outlinewidth\":0,\"ticks\":\"\"}}}],\"histogram\":[{\"marker\":{\"pattern\":{\"fillmode\":\"overlay\",\"size\":10,\"solidity\":0.2}},\"type\":\"histogram\"}],\"scattergl\":[{\"type\":\"scattergl\",\"marker\":{\"colorbar\":{\"outlinewidth\":0,\"ticks\":\"\"}}}],\"scatter3d\":[{\"type\":\"scatter3d\",\"line\":{\"colorbar\":{\"outlinewidth\":0,\"ticks\":\"\"}},\"marker\":{\"colorbar\":{\"outlinewidth\":0,\"ticks\":\"\"}}}],\"scattermapbox\":[{\"type\":\"scattermapbox\",\"marker\":{\"colorbar\":{\"outlinewidth\":0,\"ticks\":\"\"}}}],\"scatterternary\":[{\"type\":\"scatterternary\",\"marker\":{\"colorbar\":{\"outlinewidth\":0,\"ticks\":\"\"}}}],\"scattercarpet\":[{\"type\":\"scattercarpet\",\"marker\":{\"colorbar\":{\"outlinewidth\":0,\"ticks\":\"\"}}}],\"carpet\":[{\"aaxis\":{\"endlinecolor\":\"#2a3f5f\",\"gridcolor\":\"white\",\"linecolor\":\"white\",\"minorgridcolor\":\"white\",\"startlinecolor\":\"#2a3f5f\"},\"baxis\":{\"endlinecolor\":\"#2a3f5f\",\"gridcolor\":\"white\",\"linecolor\":\"white\",\"minorgridcolor\":\"white\",\"startlinecolor\":\"#2a3f5f\"},\"type\":\"carpet\"}],\"table\":[{\"cells\":{\"fill\":{\"color\":\"#EBF0F8\"},\"line\":{\"color\":\"white\"}},\"header\":{\"fill\":{\"color\":\"#C8D4E3\"},\"line\":{\"color\":\"white\"}},\"type\":\"table\"}],\"barpolar\":[{\"marker\":{\"line\":{\"color\":\"#E5ECF6\",\"width\":0.5},\"pattern\":{\"fillmode\":\"overlay\",\"size\":10,\"solidity\":0.2}},\"type\":\"barpolar\"}],\"pie\":[{\"automargin\":true,\"type\":\"pie\"}]},\"layout\":{\"autotypenumbers\":\"strict\",\"colorway\":[\"#636efa\",\"#EF553B\",\"#00cc96\",\"#ab63fa\",\"#FFA15A\",\"#19d3f3\",\"#FF6692\",\"#B6E880\",\"#FF97FF\",\"#FECB52\"],\"font\":{\"color\":\"#2a3f5f\"},\"hovermode\":\"closest\",\"hoverlabel\":{\"align\":\"left\"},\"paper_bgcolor\":\"white\",\"plot_bgcolor\":\"#E5ECF6\",\"polar\":{\"bgcolor\":\"#E5ECF6\",\"angularaxis\":{\"gridcolor\":\"white\",\"linecolor\":\"white\",\"ticks\":\"\"},\"radialaxis\":{\"gridcolor\":\"white\",\"linecolor\":\"white\",\"ticks\":\"\"}},\"ternary\":{\"bgcolor\":\"#E5ECF6\",\"aaxis\":{\"gridcolor\":\"white\",\"linecolor\":\"white\",\"ticks\":\"\"},\"baxis\":{\"gridcolor\":\"white\",\"linecolor\":\"white\",\"ticks\":\"\"},\"caxis\":{\"gridcolor\":\"white\",\"linecolor\":\"white\",\"ticks\":\"\"}},\"coloraxis\":{\"colorbar\":{\"outlinewidth\":0,\"ticks\":\"\"}},\"colorscale\":{\"sequential\":[[0.0,\"#0d0887\"],[0.1111111111111111,\"#46039f\"],[0.2222222222222222,\"#7201a8\"],[0.3333333333333333,\"#9c179e\"],[0.4444444444444444,\"#bd3786\"],[0.5555555555555556,\"#d8576b\"],[0.6666666666666666,\"#ed7953\"],[0.7777777777777778,\"#fb9f3a\"],[0.8888888888888888,\"#fdca26\"],[1.0,\"#f0f921\"]],\"sequentialminus\":[[0.0,\"#0d0887\"],[0.1111111111111111,\"#46039f\"],[0.2222222222222222,\"#7201a8\"],[0.3333333333333333,\"#9c179e\"],[0.4444444444444444,\"#bd3786\"],[0.5555555555555556,\"#d8576b\"],[0.6666666666666666,\"#ed7953\"],[0.7777777777777778,\"#fb9f3a\"],[0.8888888888888888,\"#fdca26\"],[1.0,\"#f0f921\"]],\"diverging\":[[0,\"#8e0152\"],[0.1,\"#c51b7d\"],[0.2,\"#de77ae\"],[0.3,\"#f1b6da\"],[0.4,\"#fde0ef\"],[0.5,\"#f7f7f7\"],[0.6,\"#e6f5d0\"],[0.7,\"#b8e186\"],[0.8,\"#7fbc41\"],[0.9,\"#4d9221\"],[1,\"#276419\"]]},\"xaxis\":{\"gridcolor\":\"white\",\"linecolor\":\"white\",\"ticks\":\"\",\"title\":{\"standoff\":15},\"zerolinecolor\":\"white\",\"automargin\":true,\"zerolinewidth\":2},\"yaxis\":{\"gridcolor\":\"white\",\"linecolor\":\"white\",\"ticks\":\"\",\"title\":{\"standoff\":15},\"zerolinecolor\":\"white\",\"automargin\":true,\"zerolinewidth\":2},\"scene\":{\"xaxis\":{\"backgroundcolor\":\"#E5ECF6\",\"gridcolor\":\"white\",\"linecolor\":\"white\",\"showbackground\":true,\"ticks\":\"\",\"zerolinecolor\":\"white\",\"gridwidth\":2},\"yaxis\":{\"backgroundcolor\":\"#E5ECF6\",\"gridcolor\":\"white\",\"linecolor\":\"white\",\"showbackground\":true,\"ticks\":\"\",\"zerolinecolor\":\"white\",\"gridwidth\":2},\"zaxis\":{\"backgroundcolor\":\"#E5ECF6\",\"gridcolor\":\"white\",\"linecolor\":\"white\",\"showbackground\":true,\"ticks\":\"\",\"zerolinecolor\":\"white\",\"gridwidth\":2}},\"shapedefaults\":{\"line\":{\"color\":\"#2a3f5f\"}},\"annotationdefaults\":{\"arrowcolor\":\"#2a3f5f\",\"arrowhead\":0,\"arrowwidth\":1},\"geo\":{\"bgcolor\":\"white\",\"landcolor\":\"#E5ECF6\",\"subunitcolor\":\"white\",\"showland\":true,\"showlakes\":true,\"lakecolor\":\"white\"},\"title\":{\"x\":0.05},\"mapbox\":{\"style\":\"light\"}}},\"xaxis\":{\"anchor\":\"y\",\"domain\":[0.0,1.0],\"title\":{\"text\":\"x\"}},\"yaxis\":{\"anchor\":\"x\",\"domain\":[0.0,1.0],\"title\":{\"text\":\"y\"}},\"legend\":{\"tracegroupgap\":0},\"title\":{\"text\":\"Logit Difference From Accumulate Residual Stream\"}},                        {\"responsive\": true}                    ).then(function(){\n",
       "                            \n",
       "var gd = document.getElementById('0f4b2362-05b3-463b-9b8f-71f31f3204b2');\n",
       "var x = new MutationObserver(function (mutations, observer) {{\n",
       "        var display = window.getComputedStyle(gd).display;\n",
       "        if (!display || display === 'none') {{\n",
       "            console.log([gd, 'removed!']);\n",
       "            Plotly.purge(gd);\n",
       "            observer.disconnect();\n",
       "        }}\n",
       "}});\n",
       "\n",
       "// Listen for the removal of the full notebook cells\n",
       "var notebookContainer = gd.closest('#notebook-container');\n",
       "if (notebookContainer) {{\n",
       "    x.observe(notebookContainer, {childList: true});\n",
       "}}\n",
       "\n",
       "// Listen for the clearing of the current output cell\n",
       "var outputEl = gd.closest('.output');\n",
       "if (outputEl) {{\n",
       "    x.observe(outputEl, {childList: true});\n",
       "}}\n",
       "\n",
       "                        })                };                });            </script>        </div>"
      ]
     },
     "metadata": {},
     "output_type": "display_data"
    }
   ],
   "source": [
    "accumulated_residual, labels = cache.accumulated_resid(\n",
    "    layer=-1, incl_mid=True, pos_slice=-1, return_labels=True\n",
    ")\n",
    "logit_lens_logit_diffs = residual_stack_to_logit_diff(accumulated_residual, cache)\n",
    "line(\n",
    "    logit_lens_logit_diffs,\n",
    "    x=np.arange(model.cfg.n_layers * 2 + 1) / 2,\n",
    "    hover_name=labels,\n",
    "    title=\"Logit Difference From Accumulate Residual Stream\",\n",
    ")"
   ]
  },
  {
   "cell_type": "code",
   "execution_count": 104,
   "metadata": {},
   "outputs": [
    {
     "data": {
      "application/vnd.plotly.v1+json": {
       "config": {
        "plotlyServerURL": "https://plot.ly"
       },
       "data": [
        {
         "hovertemplate": "<b>%{hovertext}</b><br><br>x=%{x}<br>y=%{y}<extra></extra>",
         "hovertext": [
          "embed",
          "pos_embed",
          "0_attn_out",
          "0_mlp_out",
          "1_attn_out",
          "1_mlp_out",
          "2_attn_out",
          "2_mlp_out",
          "3_attn_out",
          "3_mlp_out",
          "4_attn_out",
          "4_mlp_out",
          "5_attn_out",
          "5_mlp_out",
          "6_attn_out",
          "6_mlp_out",
          "7_attn_out",
          "7_mlp_out",
          "8_attn_out",
          "8_mlp_out",
          "9_attn_out",
          "9_mlp_out",
          "10_attn_out",
          "10_mlp_out",
          "11_attn_out",
          "11_mlp_out"
         ],
         "legendgroup": "",
         "line": {
          "color": "#636efa",
          "dash": "solid"
         },
         "marker": {
          "symbol": "circle"
         },
         "mode": "lines",
         "name": "",
         "orientation": "v",
         "showlegend": false,
         "type": "scatter",
         "x": [
          0,
          1,
          2,
          3,
          4,
          5,
          6,
          7,
          8,
          9,
          10,
          11,
          12,
          13,
          14,
          15,
          16,
          17,
          18,
          19,
          20,
          21,
          22,
          23,
          24,
          25
         ],
         "xaxis": "x",
         "y": [
          -0.00001509842331870459,
          0.00012024270836263895,
          -0.010821412317454815,
          0.0033554702531546354,
          -0.0004722903831861913,
          0.0029219118878245354,
          0.0013940294738858938,
          0.00041594679350964725,
          -0.0018870518542826176,
          0.00004199937029625289,
          0.0008426018757745624,
          0.002415624214336276,
          0.0006262705428525805,
          -0.00018976419232785702,
          -0.023467089980840683,
          0.0051628341898322105,
          0.2619275152683258,
          0.023276884108781815,
          0.12577080726623535,
          0.035627271980047226,
          1.4280389547348022,
          0.14573408663272858,
          0.6900160312652588,
          0.24419796466827393,
          -0.7656556963920593,
          0.05898435041308403
         ],
         "yaxis": "y"
        }
       ],
       "layout": {
        "legend": {
         "tracegroupgap": 0
        },
        "template": {
         "data": {
          "bar": [
           {
            "error_x": {
             "color": "#2a3f5f"
            },
            "error_y": {
             "color": "#2a3f5f"
            },
            "marker": {
             "line": {
              "color": "#E5ECF6",
              "width": 0.5
             },
             "pattern": {
              "fillmode": "overlay",
              "size": 10,
              "solidity": 0.2
             }
            },
            "type": "bar"
           }
          ],
          "barpolar": [
           {
            "marker": {
             "line": {
              "color": "#E5ECF6",
              "width": 0.5
             },
             "pattern": {
              "fillmode": "overlay",
              "size": 10,
              "solidity": 0.2
             }
            },
            "type": "barpolar"
           }
          ],
          "carpet": [
           {
            "aaxis": {
             "endlinecolor": "#2a3f5f",
             "gridcolor": "white",
             "linecolor": "white",
             "minorgridcolor": "white",
             "startlinecolor": "#2a3f5f"
            },
            "baxis": {
             "endlinecolor": "#2a3f5f",
             "gridcolor": "white",
             "linecolor": "white",
             "minorgridcolor": "white",
             "startlinecolor": "#2a3f5f"
            },
            "type": "carpet"
           }
          ],
          "choropleth": [
           {
            "colorbar": {
             "outlinewidth": 0,
             "ticks": ""
            },
            "type": "choropleth"
           }
          ],
          "contour": [
           {
            "colorbar": {
             "outlinewidth": 0,
             "ticks": ""
            },
            "colorscale": [
             [
              0,
              "#0d0887"
             ],
             [
              0.1111111111111111,
              "#46039f"
             ],
             [
              0.2222222222222222,
              "#7201a8"
             ],
             [
              0.3333333333333333,
              "#9c179e"
             ],
             [
              0.4444444444444444,
              "#bd3786"
             ],
             [
              0.5555555555555556,
              "#d8576b"
             ],
             [
              0.6666666666666666,
              "#ed7953"
             ],
             [
              0.7777777777777778,
              "#fb9f3a"
             ],
             [
              0.8888888888888888,
              "#fdca26"
             ],
             [
              1,
              "#f0f921"
             ]
            ],
            "type": "contour"
           }
          ],
          "contourcarpet": [
           {
            "colorbar": {
             "outlinewidth": 0,
             "ticks": ""
            },
            "type": "contourcarpet"
           }
          ],
          "heatmap": [
           {
            "colorbar": {
             "outlinewidth": 0,
             "ticks": ""
            },
            "colorscale": [
             [
              0,
              "#0d0887"
             ],
             [
              0.1111111111111111,
              "#46039f"
             ],
             [
              0.2222222222222222,
              "#7201a8"
             ],
             [
              0.3333333333333333,
              "#9c179e"
             ],
             [
              0.4444444444444444,
              "#bd3786"
             ],
             [
              0.5555555555555556,
              "#d8576b"
             ],
             [
              0.6666666666666666,
              "#ed7953"
             ],
             [
              0.7777777777777778,
              "#fb9f3a"
             ],
             [
              0.8888888888888888,
              "#fdca26"
             ],
             [
              1,
              "#f0f921"
             ]
            ],
            "type": "heatmap"
           }
          ],
          "heatmapgl": [
           {
            "colorbar": {
             "outlinewidth": 0,
             "ticks": ""
            },
            "colorscale": [
             [
              0,
              "#0d0887"
             ],
             [
              0.1111111111111111,
              "#46039f"
             ],
             [
              0.2222222222222222,
              "#7201a8"
             ],
             [
              0.3333333333333333,
              "#9c179e"
             ],
             [
              0.4444444444444444,
              "#bd3786"
             ],
             [
              0.5555555555555556,
              "#d8576b"
             ],
             [
              0.6666666666666666,
              "#ed7953"
             ],
             [
              0.7777777777777778,
              "#fb9f3a"
             ],
             [
              0.8888888888888888,
              "#fdca26"
             ],
             [
              1,
              "#f0f921"
             ]
            ],
            "type": "heatmapgl"
           }
          ],
          "histogram": [
           {
            "marker": {
             "pattern": {
              "fillmode": "overlay",
              "size": 10,
              "solidity": 0.2
             }
            },
            "type": "histogram"
           }
          ],
          "histogram2d": [
           {
            "colorbar": {
             "outlinewidth": 0,
             "ticks": ""
            },
            "colorscale": [
             [
              0,
              "#0d0887"
             ],
             [
              0.1111111111111111,
              "#46039f"
             ],
             [
              0.2222222222222222,
              "#7201a8"
             ],
             [
              0.3333333333333333,
              "#9c179e"
             ],
             [
              0.4444444444444444,
              "#bd3786"
             ],
             [
              0.5555555555555556,
              "#d8576b"
             ],
             [
              0.6666666666666666,
              "#ed7953"
             ],
             [
              0.7777777777777778,
              "#fb9f3a"
             ],
             [
              0.8888888888888888,
              "#fdca26"
             ],
             [
              1,
              "#f0f921"
             ]
            ],
            "type": "histogram2d"
           }
          ],
          "histogram2dcontour": [
           {
            "colorbar": {
             "outlinewidth": 0,
             "ticks": ""
            },
            "colorscale": [
             [
              0,
              "#0d0887"
             ],
             [
              0.1111111111111111,
              "#46039f"
             ],
             [
              0.2222222222222222,
              "#7201a8"
             ],
             [
              0.3333333333333333,
              "#9c179e"
             ],
             [
              0.4444444444444444,
              "#bd3786"
             ],
             [
              0.5555555555555556,
              "#d8576b"
             ],
             [
              0.6666666666666666,
              "#ed7953"
             ],
             [
              0.7777777777777778,
              "#fb9f3a"
             ],
             [
              0.8888888888888888,
              "#fdca26"
             ],
             [
              1,
              "#f0f921"
             ]
            ],
            "type": "histogram2dcontour"
           }
          ],
          "mesh3d": [
           {
            "colorbar": {
             "outlinewidth": 0,
             "ticks": ""
            },
            "type": "mesh3d"
           }
          ],
          "parcoords": [
           {
            "line": {
             "colorbar": {
              "outlinewidth": 0,
              "ticks": ""
             }
            },
            "type": "parcoords"
           }
          ],
          "pie": [
           {
            "automargin": true,
            "type": "pie"
           }
          ],
          "scatter": [
           {
            "fillpattern": {
             "fillmode": "overlay",
             "size": 10,
             "solidity": 0.2
            },
            "type": "scatter"
           }
          ],
          "scatter3d": [
           {
            "line": {
             "colorbar": {
              "outlinewidth": 0,
              "ticks": ""
             }
            },
            "marker": {
             "colorbar": {
              "outlinewidth": 0,
              "ticks": ""
             }
            },
            "type": "scatter3d"
           }
          ],
          "scattercarpet": [
           {
            "marker": {
             "colorbar": {
              "outlinewidth": 0,
              "ticks": ""
             }
            },
            "type": "scattercarpet"
           }
          ],
          "scattergeo": [
           {
            "marker": {
             "colorbar": {
              "outlinewidth": 0,
              "ticks": ""
             }
            },
            "type": "scattergeo"
           }
          ],
          "scattergl": [
           {
            "marker": {
             "colorbar": {
              "outlinewidth": 0,
              "ticks": ""
             }
            },
            "type": "scattergl"
           }
          ],
          "scattermapbox": [
           {
            "marker": {
             "colorbar": {
              "outlinewidth": 0,
              "ticks": ""
             }
            },
            "type": "scattermapbox"
           }
          ],
          "scatterpolar": [
           {
            "marker": {
             "colorbar": {
              "outlinewidth": 0,
              "ticks": ""
             }
            },
            "type": "scatterpolar"
           }
          ],
          "scatterpolargl": [
           {
            "marker": {
             "colorbar": {
              "outlinewidth": 0,
              "ticks": ""
             }
            },
            "type": "scatterpolargl"
           }
          ],
          "scatterternary": [
           {
            "marker": {
             "colorbar": {
              "outlinewidth": 0,
              "ticks": ""
             }
            },
            "type": "scatterternary"
           }
          ],
          "surface": [
           {
            "colorbar": {
             "outlinewidth": 0,
             "ticks": ""
            },
            "colorscale": [
             [
              0,
              "#0d0887"
             ],
             [
              0.1111111111111111,
              "#46039f"
             ],
             [
              0.2222222222222222,
              "#7201a8"
             ],
             [
              0.3333333333333333,
              "#9c179e"
             ],
             [
              0.4444444444444444,
              "#bd3786"
             ],
             [
              0.5555555555555556,
              "#d8576b"
             ],
             [
              0.6666666666666666,
              "#ed7953"
             ],
             [
              0.7777777777777778,
              "#fb9f3a"
             ],
             [
              0.8888888888888888,
              "#fdca26"
             ],
             [
              1,
              "#f0f921"
             ]
            ],
            "type": "surface"
           }
          ],
          "table": [
           {
            "cells": {
             "fill": {
              "color": "#EBF0F8"
             },
             "line": {
              "color": "white"
             }
            },
            "header": {
             "fill": {
              "color": "#C8D4E3"
             },
             "line": {
              "color": "white"
             }
            },
            "type": "table"
           }
          ]
         },
         "layout": {
          "annotationdefaults": {
           "arrowcolor": "#2a3f5f",
           "arrowhead": 0,
           "arrowwidth": 1
          },
          "autotypenumbers": "strict",
          "coloraxis": {
           "colorbar": {
            "outlinewidth": 0,
            "ticks": ""
           }
          },
          "colorscale": {
           "diverging": [
            [
             0,
             "#8e0152"
            ],
            [
             0.1,
             "#c51b7d"
            ],
            [
             0.2,
             "#de77ae"
            ],
            [
             0.3,
             "#f1b6da"
            ],
            [
             0.4,
             "#fde0ef"
            ],
            [
             0.5,
             "#f7f7f7"
            ],
            [
             0.6,
             "#e6f5d0"
            ],
            [
             0.7,
             "#b8e186"
            ],
            [
             0.8,
             "#7fbc41"
            ],
            [
             0.9,
             "#4d9221"
            ],
            [
             1,
             "#276419"
            ]
           ],
           "sequential": [
            [
             0,
             "#0d0887"
            ],
            [
             0.1111111111111111,
             "#46039f"
            ],
            [
             0.2222222222222222,
             "#7201a8"
            ],
            [
             0.3333333333333333,
             "#9c179e"
            ],
            [
             0.4444444444444444,
             "#bd3786"
            ],
            [
             0.5555555555555556,
             "#d8576b"
            ],
            [
             0.6666666666666666,
             "#ed7953"
            ],
            [
             0.7777777777777778,
             "#fb9f3a"
            ],
            [
             0.8888888888888888,
             "#fdca26"
            ],
            [
             1,
             "#f0f921"
            ]
           ],
           "sequentialminus": [
            [
             0,
             "#0d0887"
            ],
            [
             0.1111111111111111,
             "#46039f"
            ],
            [
             0.2222222222222222,
             "#7201a8"
            ],
            [
             0.3333333333333333,
             "#9c179e"
            ],
            [
             0.4444444444444444,
             "#bd3786"
            ],
            [
             0.5555555555555556,
             "#d8576b"
            ],
            [
             0.6666666666666666,
             "#ed7953"
            ],
            [
             0.7777777777777778,
             "#fb9f3a"
            ],
            [
             0.8888888888888888,
             "#fdca26"
            ],
            [
             1,
             "#f0f921"
            ]
           ]
          },
          "colorway": [
           "#636efa",
           "#EF553B",
           "#00cc96",
           "#ab63fa",
           "#FFA15A",
           "#19d3f3",
           "#FF6692",
           "#B6E880",
           "#FF97FF",
           "#FECB52"
          ],
          "font": {
           "color": "#2a3f5f"
          },
          "geo": {
           "bgcolor": "white",
           "lakecolor": "white",
           "landcolor": "#E5ECF6",
           "showlakes": true,
           "showland": true,
           "subunitcolor": "white"
          },
          "hoverlabel": {
           "align": "left"
          },
          "hovermode": "closest",
          "mapbox": {
           "style": "light"
          },
          "paper_bgcolor": "white",
          "plot_bgcolor": "#E5ECF6",
          "polar": {
           "angularaxis": {
            "gridcolor": "white",
            "linecolor": "white",
            "ticks": ""
           },
           "bgcolor": "#E5ECF6",
           "radialaxis": {
            "gridcolor": "white",
            "linecolor": "white",
            "ticks": ""
           }
          },
          "scene": {
           "xaxis": {
            "backgroundcolor": "#E5ECF6",
            "gridcolor": "white",
            "gridwidth": 2,
            "linecolor": "white",
            "showbackground": true,
            "ticks": "",
            "zerolinecolor": "white"
           },
           "yaxis": {
            "backgroundcolor": "#E5ECF6",
            "gridcolor": "white",
            "gridwidth": 2,
            "linecolor": "white",
            "showbackground": true,
            "ticks": "",
            "zerolinecolor": "white"
           },
           "zaxis": {
            "backgroundcolor": "#E5ECF6",
            "gridcolor": "white",
            "gridwidth": 2,
            "linecolor": "white",
            "showbackground": true,
            "ticks": "",
            "zerolinecolor": "white"
           }
          },
          "shapedefaults": {
           "line": {
            "color": "#2a3f5f"
           }
          },
          "ternary": {
           "aaxis": {
            "gridcolor": "white",
            "linecolor": "white",
            "ticks": ""
           },
           "baxis": {
            "gridcolor": "white",
            "linecolor": "white",
            "ticks": ""
           },
           "bgcolor": "#E5ECF6",
           "caxis": {
            "gridcolor": "white",
            "linecolor": "white",
            "ticks": ""
           }
          },
          "title": {
           "x": 0.05
          },
          "xaxis": {
           "automargin": true,
           "gridcolor": "white",
           "linecolor": "white",
           "ticks": "",
           "title": {
            "standoff": 15
           },
           "zerolinecolor": "white",
           "zerolinewidth": 2
          },
          "yaxis": {
           "automargin": true,
           "gridcolor": "white",
           "linecolor": "white",
           "ticks": "",
           "title": {
            "standoff": 15
           },
           "zerolinecolor": "white",
           "zerolinewidth": 2
          }
         }
        },
        "title": {
         "text": "Logit Difference From Each Layer"
        },
        "xaxis": {
         "anchor": "y",
         "domain": [
          0,
          1
         ],
         "title": {
          "text": "x"
         }
        },
        "yaxis": {
         "anchor": "x",
         "domain": [
          0,
          1
         ],
         "title": {
          "text": "y"
         }
        }
       }
      },
      "text/html": [
       "<div>                            <div id=\"1b58d225-03d3-4389-97d6-d8140db1be50\" class=\"plotly-graph-div\" style=\"height:525px; width:100%;\"></div>            <script type=\"text/javascript\">                require([\"plotly\"], function(Plotly) {                    window.PLOTLYENV=window.PLOTLYENV || {};                                    if (document.getElementById(\"1b58d225-03d3-4389-97d6-d8140db1be50\")) {                    Plotly.newPlot(                        \"1b58d225-03d3-4389-97d6-d8140db1be50\",                        [{\"hovertemplate\":\"\\u003cb\\u003e%{hovertext}\\u003c\\u002fb\\u003e\\u003cbr\\u003e\\u003cbr\\u003ex=%{x}\\u003cbr\\u003ey=%{y}\\u003cextra\\u003e\\u003c\\u002fextra\\u003e\",\"hovertext\":[\"embed\",\"pos_embed\",\"0_attn_out\",\"0_mlp_out\",\"1_attn_out\",\"1_mlp_out\",\"2_attn_out\",\"2_mlp_out\",\"3_attn_out\",\"3_mlp_out\",\"4_attn_out\",\"4_mlp_out\",\"5_attn_out\",\"5_mlp_out\",\"6_attn_out\",\"6_mlp_out\",\"7_attn_out\",\"7_mlp_out\",\"8_attn_out\",\"8_mlp_out\",\"9_attn_out\",\"9_mlp_out\",\"10_attn_out\",\"10_mlp_out\",\"11_attn_out\",\"11_mlp_out\"],\"legendgroup\":\"\",\"line\":{\"color\":\"#636efa\",\"dash\":\"solid\"},\"marker\":{\"symbol\":\"circle\"},\"mode\":\"lines\",\"name\":\"\",\"orientation\":\"v\",\"showlegend\":false,\"x\":[0,1,2,3,4,5,6,7,8,9,10,11,12,13,14,15,16,17,18,19,20,21,22,23,24,25],\"xaxis\":\"x\",\"y\":[-1.509842331870459e-05,0.00012024270836263895,-0.010821412317454815,0.0033554702531546354,-0.0004722903831861913,0.0029219118878245354,0.0013940294738858938,0.00041594679350964725,-0.0018870518542826176,4.199937029625289e-05,0.0008426018757745624,0.002415624214336276,0.0006262705428525805,-0.00018976419232785702,-0.023467089980840683,0.0051628341898322105,0.2619275152683258,0.023276884108781815,0.12577080726623535,0.035627271980047226,1.4280389547348022,0.14573408663272858,0.6900160312652588,0.24419796466827393,-0.7656556963920593,0.05898435041308403],\"yaxis\":\"y\",\"type\":\"scatter\"}],                        {\"template\":{\"data\":{\"histogram2dcontour\":[{\"type\":\"histogram2dcontour\",\"colorbar\":{\"outlinewidth\":0,\"ticks\":\"\"},\"colorscale\":[[0.0,\"#0d0887\"],[0.1111111111111111,\"#46039f\"],[0.2222222222222222,\"#7201a8\"],[0.3333333333333333,\"#9c179e\"],[0.4444444444444444,\"#bd3786\"],[0.5555555555555556,\"#d8576b\"],[0.6666666666666666,\"#ed7953\"],[0.7777777777777778,\"#fb9f3a\"],[0.8888888888888888,\"#fdca26\"],[1.0,\"#f0f921\"]]}],\"choropleth\":[{\"type\":\"choropleth\",\"colorbar\":{\"outlinewidth\":0,\"ticks\":\"\"}}],\"histogram2d\":[{\"type\":\"histogram2d\",\"colorbar\":{\"outlinewidth\":0,\"ticks\":\"\"},\"colorscale\":[[0.0,\"#0d0887\"],[0.1111111111111111,\"#46039f\"],[0.2222222222222222,\"#7201a8\"],[0.3333333333333333,\"#9c179e\"],[0.4444444444444444,\"#bd3786\"],[0.5555555555555556,\"#d8576b\"],[0.6666666666666666,\"#ed7953\"],[0.7777777777777778,\"#fb9f3a\"],[0.8888888888888888,\"#fdca26\"],[1.0,\"#f0f921\"]]}],\"heatmap\":[{\"type\":\"heatmap\",\"colorbar\":{\"outlinewidth\":0,\"ticks\":\"\"},\"colorscale\":[[0.0,\"#0d0887\"],[0.1111111111111111,\"#46039f\"],[0.2222222222222222,\"#7201a8\"],[0.3333333333333333,\"#9c179e\"],[0.4444444444444444,\"#bd3786\"],[0.5555555555555556,\"#d8576b\"],[0.6666666666666666,\"#ed7953\"],[0.7777777777777778,\"#fb9f3a\"],[0.8888888888888888,\"#fdca26\"],[1.0,\"#f0f921\"]]}],\"heatmapgl\":[{\"type\":\"heatmapgl\",\"colorbar\":{\"outlinewidth\":0,\"ticks\":\"\"},\"colorscale\":[[0.0,\"#0d0887\"],[0.1111111111111111,\"#46039f\"],[0.2222222222222222,\"#7201a8\"],[0.3333333333333333,\"#9c179e\"],[0.4444444444444444,\"#bd3786\"],[0.5555555555555556,\"#d8576b\"],[0.6666666666666666,\"#ed7953\"],[0.7777777777777778,\"#fb9f3a\"],[0.8888888888888888,\"#fdca26\"],[1.0,\"#f0f921\"]]}],\"contourcarpet\":[{\"type\":\"contourcarpet\",\"colorbar\":{\"outlinewidth\":0,\"ticks\":\"\"}}],\"contour\":[{\"type\":\"contour\",\"colorbar\":{\"outlinewidth\":0,\"ticks\":\"\"},\"colorscale\":[[0.0,\"#0d0887\"],[0.1111111111111111,\"#46039f\"],[0.2222222222222222,\"#7201a8\"],[0.3333333333333333,\"#9c179e\"],[0.4444444444444444,\"#bd3786\"],[0.5555555555555556,\"#d8576b\"],[0.6666666666666666,\"#ed7953\"],[0.7777777777777778,\"#fb9f3a\"],[0.8888888888888888,\"#fdca26\"],[1.0,\"#f0f921\"]]}],\"surface\":[{\"type\":\"surface\",\"colorbar\":{\"outlinewidth\":0,\"ticks\":\"\"},\"colorscale\":[[0.0,\"#0d0887\"],[0.1111111111111111,\"#46039f\"],[0.2222222222222222,\"#7201a8\"],[0.3333333333333333,\"#9c179e\"],[0.4444444444444444,\"#bd3786\"],[0.5555555555555556,\"#d8576b\"],[0.6666666666666666,\"#ed7953\"],[0.7777777777777778,\"#fb9f3a\"],[0.8888888888888888,\"#fdca26\"],[1.0,\"#f0f921\"]]}],\"mesh3d\":[{\"type\":\"mesh3d\",\"colorbar\":{\"outlinewidth\":0,\"ticks\":\"\"}}],\"scatter\":[{\"fillpattern\":{\"fillmode\":\"overlay\",\"size\":10,\"solidity\":0.2},\"type\":\"scatter\"}],\"parcoords\":[{\"type\":\"parcoords\",\"line\":{\"colorbar\":{\"outlinewidth\":0,\"ticks\":\"\"}}}],\"scatterpolargl\":[{\"type\":\"scatterpolargl\",\"marker\":{\"colorbar\":{\"outlinewidth\":0,\"ticks\":\"\"}}}],\"bar\":[{\"error_x\":{\"color\":\"#2a3f5f\"},\"error_y\":{\"color\":\"#2a3f5f\"},\"marker\":{\"line\":{\"color\":\"#E5ECF6\",\"width\":0.5},\"pattern\":{\"fillmode\":\"overlay\",\"size\":10,\"solidity\":0.2}},\"type\":\"bar\"}],\"scattergeo\":[{\"type\":\"scattergeo\",\"marker\":{\"colorbar\":{\"outlinewidth\":0,\"ticks\":\"\"}}}],\"scatterpolar\":[{\"type\":\"scatterpolar\",\"marker\":{\"colorbar\":{\"outlinewidth\":0,\"ticks\":\"\"}}}],\"histogram\":[{\"marker\":{\"pattern\":{\"fillmode\":\"overlay\",\"size\":10,\"solidity\":0.2}},\"type\":\"histogram\"}],\"scattergl\":[{\"type\":\"scattergl\",\"marker\":{\"colorbar\":{\"outlinewidth\":0,\"ticks\":\"\"}}}],\"scatter3d\":[{\"type\":\"scatter3d\",\"line\":{\"colorbar\":{\"outlinewidth\":0,\"ticks\":\"\"}},\"marker\":{\"colorbar\":{\"outlinewidth\":0,\"ticks\":\"\"}}}],\"scattermapbox\":[{\"type\":\"scattermapbox\",\"marker\":{\"colorbar\":{\"outlinewidth\":0,\"ticks\":\"\"}}}],\"scatterternary\":[{\"type\":\"scatterternary\",\"marker\":{\"colorbar\":{\"outlinewidth\":0,\"ticks\":\"\"}}}],\"scattercarpet\":[{\"type\":\"scattercarpet\",\"marker\":{\"colorbar\":{\"outlinewidth\":0,\"ticks\":\"\"}}}],\"carpet\":[{\"aaxis\":{\"endlinecolor\":\"#2a3f5f\",\"gridcolor\":\"white\",\"linecolor\":\"white\",\"minorgridcolor\":\"white\",\"startlinecolor\":\"#2a3f5f\"},\"baxis\":{\"endlinecolor\":\"#2a3f5f\",\"gridcolor\":\"white\",\"linecolor\":\"white\",\"minorgridcolor\":\"white\",\"startlinecolor\":\"#2a3f5f\"},\"type\":\"carpet\"}],\"table\":[{\"cells\":{\"fill\":{\"color\":\"#EBF0F8\"},\"line\":{\"color\":\"white\"}},\"header\":{\"fill\":{\"color\":\"#C8D4E3\"},\"line\":{\"color\":\"white\"}},\"type\":\"table\"}],\"barpolar\":[{\"marker\":{\"line\":{\"color\":\"#E5ECF6\",\"width\":0.5},\"pattern\":{\"fillmode\":\"overlay\",\"size\":10,\"solidity\":0.2}},\"type\":\"barpolar\"}],\"pie\":[{\"automargin\":true,\"type\":\"pie\"}]},\"layout\":{\"autotypenumbers\":\"strict\",\"colorway\":[\"#636efa\",\"#EF553B\",\"#00cc96\",\"#ab63fa\",\"#FFA15A\",\"#19d3f3\",\"#FF6692\",\"#B6E880\",\"#FF97FF\",\"#FECB52\"],\"font\":{\"color\":\"#2a3f5f\"},\"hovermode\":\"closest\",\"hoverlabel\":{\"align\":\"left\"},\"paper_bgcolor\":\"white\",\"plot_bgcolor\":\"#E5ECF6\",\"polar\":{\"bgcolor\":\"#E5ECF6\",\"angularaxis\":{\"gridcolor\":\"white\",\"linecolor\":\"white\",\"ticks\":\"\"},\"radialaxis\":{\"gridcolor\":\"white\",\"linecolor\":\"white\",\"ticks\":\"\"}},\"ternary\":{\"bgcolor\":\"#E5ECF6\",\"aaxis\":{\"gridcolor\":\"white\",\"linecolor\":\"white\",\"ticks\":\"\"},\"baxis\":{\"gridcolor\":\"white\",\"linecolor\":\"white\",\"ticks\":\"\"},\"caxis\":{\"gridcolor\":\"white\",\"linecolor\":\"white\",\"ticks\":\"\"}},\"coloraxis\":{\"colorbar\":{\"outlinewidth\":0,\"ticks\":\"\"}},\"colorscale\":{\"sequential\":[[0.0,\"#0d0887\"],[0.1111111111111111,\"#46039f\"],[0.2222222222222222,\"#7201a8\"],[0.3333333333333333,\"#9c179e\"],[0.4444444444444444,\"#bd3786\"],[0.5555555555555556,\"#d8576b\"],[0.6666666666666666,\"#ed7953\"],[0.7777777777777778,\"#fb9f3a\"],[0.8888888888888888,\"#fdca26\"],[1.0,\"#f0f921\"]],\"sequentialminus\":[[0.0,\"#0d0887\"],[0.1111111111111111,\"#46039f\"],[0.2222222222222222,\"#7201a8\"],[0.3333333333333333,\"#9c179e\"],[0.4444444444444444,\"#bd3786\"],[0.5555555555555556,\"#d8576b\"],[0.6666666666666666,\"#ed7953\"],[0.7777777777777778,\"#fb9f3a\"],[0.8888888888888888,\"#fdca26\"],[1.0,\"#f0f921\"]],\"diverging\":[[0,\"#8e0152\"],[0.1,\"#c51b7d\"],[0.2,\"#de77ae\"],[0.3,\"#f1b6da\"],[0.4,\"#fde0ef\"],[0.5,\"#f7f7f7\"],[0.6,\"#e6f5d0\"],[0.7,\"#b8e186\"],[0.8,\"#7fbc41\"],[0.9,\"#4d9221\"],[1,\"#276419\"]]},\"xaxis\":{\"gridcolor\":\"white\",\"linecolor\":\"white\",\"ticks\":\"\",\"title\":{\"standoff\":15},\"zerolinecolor\":\"white\",\"automargin\":true,\"zerolinewidth\":2},\"yaxis\":{\"gridcolor\":\"white\",\"linecolor\":\"white\",\"ticks\":\"\",\"title\":{\"standoff\":15},\"zerolinecolor\":\"white\",\"automargin\":true,\"zerolinewidth\":2},\"scene\":{\"xaxis\":{\"backgroundcolor\":\"#E5ECF6\",\"gridcolor\":\"white\",\"linecolor\":\"white\",\"showbackground\":true,\"ticks\":\"\",\"zerolinecolor\":\"white\",\"gridwidth\":2},\"yaxis\":{\"backgroundcolor\":\"#E5ECF6\",\"gridcolor\":\"white\",\"linecolor\":\"white\",\"showbackground\":true,\"ticks\":\"\",\"zerolinecolor\":\"white\",\"gridwidth\":2},\"zaxis\":{\"backgroundcolor\":\"#E5ECF6\",\"gridcolor\":\"white\",\"linecolor\":\"white\",\"showbackground\":true,\"ticks\":\"\",\"zerolinecolor\":\"white\",\"gridwidth\":2}},\"shapedefaults\":{\"line\":{\"color\":\"#2a3f5f\"}},\"annotationdefaults\":{\"arrowcolor\":\"#2a3f5f\",\"arrowhead\":0,\"arrowwidth\":1},\"geo\":{\"bgcolor\":\"white\",\"landcolor\":\"#E5ECF6\",\"subunitcolor\":\"white\",\"showland\":true,\"showlakes\":true,\"lakecolor\":\"white\"},\"title\":{\"x\":0.05},\"mapbox\":{\"style\":\"light\"}}},\"xaxis\":{\"anchor\":\"y\",\"domain\":[0.0,1.0],\"title\":{\"text\":\"x\"}},\"yaxis\":{\"anchor\":\"x\",\"domain\":[0.0,1.0],\"title\":{\"text\":\"y\"}},\"legend\":{\"tracegroupgap\":0},\"title\":{\"text\":\"Logit Difference From Each Layer\"}},                        {\"responsive\": true}                    ).then(function(){\n",
       "                            \n",
       "var gd = document.getElementById('1b58d225-03d3-4389-97d6-d8140db1be50');\n",
       "var x = new MutationObserver(function (mutations, observer) {{\n",
       "        var display = window.getComputedStyle(gd).display;\n",
       "        if (!display || display === 'none') {{\n",
       "            console.log([gd, 'removed!']);\n",
       "            Plotly.purge(gd);\n",
       "            observer.disconnect();\n",
       "        }}\n",
       "}});\n",
       "\n",
       "// Listen for the removal of the full notebook cells\n",
       "var notebookContainer = gd.closest('#notebook-container');\n",
       "if (notebookContainer) {{\n",
       "    x.observe(notebookContainer, {childList: true});\n",
       "}}\n",
       "\n",
       "// Listen for the clearing of the current output cell\n",
       "var outputEl = gd.closest('.output');\n",
       "if (outputEl) {{\n",
       "    x.observe(outputEl, {childList: true});\n",
       "}}\n",
       "\n",
       "                        })                };                });            </script>        </div>"
      ]
     },
     "metadata": {},
     "output_type": "display_data"
    }
   ],
   "source": [
    "per_layer_residual, labels = cache.decompose_resid(\n",
    "    layer=-1, pos_slice=-1, return_labels=True\n",
    ")\n",
    "per_layer_logit_diffs = residual_stack_to_logit_diff(per_layer_residual, cache)\n",
    "line(per_layer_logit_diffs, hover_name=labels, title=\"Logit Difference From Each Layer\")"
   ]
  },
  {
   "cell_type": "markdown",
   "metadata": {},
   "source": [
    "Compared with the logit difference of the original model, these two plots show that most parts of the process is quite the same, although at layer 10 is displays some difference: its logit difference continues to grow(although decreases at 11 remains the same) instead of beginning to decrease.\n",
    "That suggestst that the difference might happens in layer 10.\n",
    "Let's make a gif graph of the sliced models."
   ]
  },
  {
   "cell_type": "code",
   "execution_count": 105,
   "metadata": {},
   "outputs": [
    {
     "name": "stdout",
     "output_type": "stream",
     "text": [
      "Tried to stack head results when they weren't cached. Computing head results now\n"
     ]
    },
    {
     "data": {
      "application/vnd.plotly.v1+json": {
       "config": {
        "plotlyServerURL": "https://plot.ly"
       },
       "data": [
        {
         "coloraxis": "coloraxis",
         "hovertemplate": "Head: %{x}<br>Layer: %{y}<br>color: %{z}<extra></extra>",
         "name": "0",
         "type": "heatmap",
         "xaxis": "x",
         "yaxis": "y",
         "z": [
          [
           -0.003615856170654297,
           -0.00005231297109276056,
           -0.0006643016240559518,
           0.00017332957941107452,
           -0.00027481120196171105,
           -0.00034377630800008774,
           -0.005090353079140186,
           -0.0005658126319758594,
           -0.00023033723118714988,
           0.0000764383003115654,
           0.0002360838552704081,
           -0.0005589723587036133
          ],
          [
           -0.00039491354255005717,
           -0.00026356015587225556,
           0.0007924739038571715,
           0.000030670471460325643,
           -0.001308409497141838,
           0.0003335674700792879,
           -0.0016615442000329494,
           -0.003759504295885563,
           0.0022429318632930517,
           0.0018707036506384611,
           0.00021214217122178525,
           0.0015962067991495132
          ],
          [
           0.0002967916370835155,
           -0.002062656683847308,
           0.0003864542522933334,
           -0.00019164556579198688,
           0.00006785938603570685,
           0.00022349813662003726,
           0.00011843000538647175,
           0.003067121608182788,
           0.00004489087586989626,
           -0.0011374754831194878,
           0.0007021428900770843,
           0.0000031942133773554815
          ],
          [
           -0.000001860898919403553,
           -0.000028880311219836585,
           -0.0002142774173989892,
           0.00018470191571395844,
           0.000369903864338994,
           -0.0001159615203505382,
           -0.001187147106975317,
           -0.00024038428091444075,
           0.00017972354544326663,
           -0.0005168791394680738,
           -0.00014308406389318407,
           -0.00013558505452238023
          ],
          [
           0.0006074013072066009,
           -0.00019937430624850094,
           -0.0005290932604111731,
           0.00003269450826337561,
           0.0018537293653935194,
           -0.0006780148833058774,
           -0.00020960552501492202,
           0.0003853983653243631,
           0.00016888472600840032,
           -0.0005109463818371296,
           0.0002885739377234131,
           -0.000342153653036803
          ],
          [
           0.000241637957515195,
           -0.00009686447447165847,
           -0.0013653062051162124,
           -0.000057586643379181623,
           -0.00003636162728071213,
           -0.00019590201554819942,
           0.00002740438503678888,
           -0.0002529671764932573,
           0.0001600981195224449,
           0.0009142816998064518,
           -0.0010812202235683799,
           0.002337538404390216
          ],
          [
           -0.015734927728772163,
           -0.0008623023750260472,
           0.0017592780059203506,
           -0.005346769466996193,
           -0.004881706088781357,
           0.0018319784430786967,
           0.001244362909346819,
           -0.000506432494148612,
           -0.000280094041954726,
           -0.000012606770724232774,
           -0.0009294450283050537,
           0.00033794058253988624
          ],
          [
           -0.0001379549503326416,
           -0.0014417641796171665,
           -0.0032426384277641773,
           0.08770038932561874,
           -0.0018419234547764063,
           -0.00928907934576273,
           0.00019708053150679916,
           -0.0016266820020973682,
           -0.00521931191906333,
           0.19544515013694763,
           0.001014810986816883,
           0.00008951952622737736
          ],
          [
           0.0003968902165070176,
           -0.0011045816354453564,
           -0.03554032742977142,
           0.0006201115320436656,
           0.0012632895959541202,
           -0.007192092947661877,
           -0.02214285358786583,
           0.0004989235894754529,
           -0.0231975968927145,
           0.0015486427582800388,
           0.21460792422294617,
           -0.0041025616228580475
          ],
          [
           0.02805512398481369,
           0.0037896372377872467,
           0.023385722190141678,
           0.0011143202427774668,
           -0.03706973046064377,
           0.032100047916173935,
           0.3826056122779846,
           0.09152885526418686,
           0.009731899946928024,
           0.8968026638031006,
           -0.00005684731877408922,
           -0.004214184358716011
          ],
          [
           0.47205275297164917,
           0.17081820964813232,
           -0.05585477501153946,
           0.009176000021398067,
           0.0030212539713829756,
           -0.000013548647984862328,
           0.17535792291164398,
           -0.3602389991283417,
           0.001825019484385848,
           -0.016203150153160095,
           0.29933273792266846,
           -0.00884149968624115
          ],
          [
           0.00994451716542244,
           0.08185990154743195,
           -0.37445491552352905,
           0.01110401377081871,
           -0.0021389476023614407,
           -0.002930442336946726,
           -0.024676423519849777,
           0.00298216356895864,
           -0.0011305718217045069,
           0.026100989431142807,
           -0.4943122863769531,
           0.0023368007969111204
          ]
         ]
        }
       ],
       "layout": {
        "coloraxis": {
         "cmid": 0,
         "colorscale": [
          [
           0,
           "rgb(103,0,31)"
          ],
          [
           0.1,
           "rgb(178,24,43)"
          ],
          [
           0.2,
           "rgb(214,96,77)"
          ],
          [
           0.3,
           "rgb(244,165,130)"
          ],
          [
           0.4,
           "rgb(253,219,199)"
          ],
          [
           0.5,
           "rgb(247,247,247)"
          ],
          [
           0.6,
           "rgb(209,229,240)"
          ],
          [
           0.7,
           "rgb(146,197,222)"
          ],
          [
           0.8,
           "rgb(67,147,195)"
          ],
          [
           0.9,
           "rgb(33,102,172)"
          ],
          [
           1,
           "rgb(5,48,97)"
          ]
         ]
        },
        "template": {
         "data": {
          "bar": [
           {
            "error_x": {
             "color": "#2a3f5f"
            },
            "error_y": {
             "color": "#2a3f5f"
            },
            "marker": {
             "line": {
              "color": "#E5ECF6",
              "width": 0.5
             },
             "pattern": {
              "fillmode": "overlay",
              "size": 10,
              "solidity": 0.2
             }
            },
            "type": "bar"
           }
          ],
          "barpolar": [
           {
            "marker": {
             "line": {
              "color": "#E5ECF6",
              "width": 0.5
             },
             "pattern": {
              "fillmode": "overlay",
              "size": 10,
              "solidity": 0.2
             }
            },
            "type": "barpolar"
           }
          ],
          "carpet": [
           {
            "aaxis": {
             "endlinecolor": "#2a3f5f",
             "gridcolor": "white",
             "linecolor": "white",
             "minorgridcolor": "white",
             "startlinecolor": "#2a3f5f"
            },
            "baxis": {
             "endlinecolor": "#2a3f5f",
             "gridcolor": "white",
             "linecolor": "white",
             "minorgridcolor": "white",
             "startlinecolor": "#2a3f5f"
            },
            "type": "carpet"
           }
          ],
          "choropleth": [
           {
            "colorbar": {
             "outlinewidth": 0,
             "ticks": ""
            },
            "type": "choropleth"
           }
          ],
          "contour": [
           {
            "colorbar": {
             "outlinewidth": 0,
             "ticks": ""
            },
            "colorscale": [
             [
              0,
              "#0d0887"
             ],
             [
              0.1111111111111111,
              "#46039f"
             ],
             [
              0.2222222222222222,
              "#7201a8"
             ],
             [
              0.3333333333333333,
              "#9c179e"
             ],
             [
              0.4444444444444444,
              "#bd3786"
             ],
             [
              0.5555555555555556,
              "#d8576b"
             ],
             [
              0.6666666666666666,
              "#ed7953"
             ],
             [
              0.7777777777777778,
              "#fb9f3a"
             ],
             [
              0.8888888888888888,
              "#fdca26"
             ],
             [
              1,
              "#f0f921"
             ]
            ],
            "type": "contour"
           }
          ],
          "contourcarpet": [
           {
            "colorbar": {
             "outlinewidth": 0,
             "ticks": ""
            },
            "type": "contourcarpet"
           }
          ],
          "heatmap": [
           {
            "colorbar": {
             "outlinewidth": 0,
             "ticks": ""
            },
            "colorscale": [
             [
              0,
              "#0d0887"
             ],
             [
              0.1111111111111111,
              "#46039f"
             ],
             [
              0.2222222222222222,
              "#7201a8"
             ],
             [
              0.3333333333333333,
              "#9c179e"
             ],
             [
              0.4444444444444444,
              "#bd3786"
             ],
             [
              0.5555555555555556,
              "#d8576b"
             ],
             [
              0.6666666666666666,
              "#ed7953"
             ],
             [
              0.7777777777777778,
              "#fb9f3a"
             ],
             [
              0.8888888888888888,
              "#fdca26"
             ],
             [
              1,
              "#f0f921"
             ]
            ],
            "type": "heatmap"
           }
          ],
          "heatmapgl": [
           {
            "colorbar": {
             "outlinewidth": 0,
             "ticks": ""
            },
            "colorscale": [
             [
              0,
              "#0d0887"
             ],
             [
              0.1111111111111111,
              "#46039f"
             ],
             [
              0.2222222222222222,
              "#7201a8"
             ],
             [
              0.3333333333333333,
              "#9c179e"
             ],
             [
              0.4444444444444444,
              "#bd3786"
             ],
             [
              0.5555555555555556,
              "#d8576b"
             ],
             [
              0.6666666666666666,
              "#ed7953"
             ],
             [
              0.7777777777777778,
              "#fb9f3a"
             ],
             [
              0.8888888888888888,
              "#fdca26"
             ],
             [
              1,
              "#f0f921"
             ]
            ],
            "type": "heatmapgl"
           }
          ],
          "histogram": [
           {
            "marker": {
             "pattern": {
              "fillmode": "overlay",
              "size": 10,
              "solidity": 0.2
             }
            },
            "type": "histogram"
           }
          ],
          "histogram2d": [
           {
            "colorbar": {
             "outlinewidth": 0,
             "ticks": ""
            },
            "colorscale": [
             [
              0,
              "#0d0887"
             ],
             [
              0.1111111111111111,
              "#46039f"
             ],
             [
              0.2222222222222222,
              "#7201a8"
             ],
             [
              0.3333333333333333,
              "#9c179e"
             ],
             [
              0.4444444444444444,
              "#bd3786"
             ],
             [
              0.5555555555555556,
              "#d8576b"
             ],
             [
              0.6666666666666666,
              "#ed7953"
             ],
             [
              0.7777777777777778,
              "#fb9f3a"
             ],
             [
              0.8888888888888888,
              "#fdca26"
             ],
             [
              1,
              "#f0f921"
             ]
            ],
            "type": "histogram2d"
           }
          ],
          "histogram2dcontour": [
           {
            "colorbar": {
             "outlinewidth": 0,
             "ticks": ""
            },
            "colorscale": [
             [
              0,
              "#0d0887"
             ],
             [
              0.1111111111111111,
              "#46039f"
             ],
             [
              0.2222222222222222,
              "#7201a8"
             ],
             [
              0.3333333333333333,
              "#9c179e"
             ],
             [
              0.4444444444444444,
              "#bd3786"
             ],
             [
              0.5555555555555556,
              "#d8576b"
             ],
             [
              0.6666666666666666,
              "#ed7953"
             ],
             [
              0.7777777777777778,
              "#fb9f3a"
             ],
             [
              0.8888888888888888,
              "#fdca26"
             ],
             [
              1,
              "#f0f921"
             ]
            ],
            "type": "histogram2dcontour"
           }
          ],
          "mesh3d": [
           {
            "colorbar": {
             "outlinewidth": 0,
             "ticks": ""
            },
            "type": "mesh3d"
           }
          ],
          "parcoords": [
           {
            "line": {
             "colorbar": {
              "outlinewidth": 0,
              "ticks": ""
             }
            },
            "type": "parcoords"
           }
          ],
          "pie": [
           {
            "automargin": true,
            "type": "pie"
           }
          ],
          "scatter": [
           {
            "fillpattern": {
             "fillmode": "overlay",
             "size": 10,
             "solidity": 0.2
            },
            "type": "scatter"
           }
          ],
          "scatter3d": [
           {
            "line": {
             "colorbar": {
              "outlinewidth": 0,
              "ticks": ""
             }
            },
            "marker": {
             "colorbar": {
              "outlinewidth": 0,
              "ticks": ""
             }
            },
            "type": "scatter3d"
           }
          ],
          "scattercarpet": [
           {
            "marker": {
             "colorbar": {
              "outlinewidth": 0,
              "ticks": ""
             }
            },
            "type": "scattercarpet"
           }
          ],
          "scattergeo": [
           {
            "marker": {
             "colorbar": {
              "outlinewidth": 0,
              "ticks": ""
             }
            },
            "type": "scattergeo"
           }
          ],
          "scattergl": [
           {
            "marker": {
             "colorbar": {
              "outlinewidth": 0,
              "ticks": ""
             }
            },
            "type": "scattergl"
           }
          ],
          "scattermapbox": [
           {
            "marker": {
             "colorbar": {
              "outlinewidth": 0,
              "ticks": ""
             }
            },
            "type": "scattermapbox"
           }
          ],
          "scatterpolar": [
           {
            "marker": {
             "colorbar": {
              "outlinewidth": 0,
              "ticks": ""
             }
            },
            "type": "scatterpolar"
           }
          ],
          "scatterpolargl": [
           {
            "marker": {
             "colorbar": {
              "outlinewidth": 0,
              "ticks": ""
             }
            },
            "type": "scatterpolargl"
           }
          ],
          "scatterternary": [
           {
            "marker": {
             "colorbar": {
              "outlinewidth": 0,
              "ticks": ""
             }
            },
            "type": "scatterternary"
           }
          ],
          "surface": [
           {
            "colorbar": {
             "outlinewidth": 0,
             "ticks": ""
            },
            "colorscale": [
             [
              0,
              "#0d0887"
             ],
             [
              0.1111111111111111,
              "#46039f"
             ],
             [
              0.2222222222222222,
              "#7201a8"
             ],
             [
              0.3333333333333333,
              "#9c179e"
             ],
             [
              0.4444444444444444,
              "#bd3786"
             ],
             [
              0.5555555555555556,
              "#d8576b"
             ],
             [
              0.6666666666666666,
              "#ed7953"
             ],
             [
              0.7777777777777778,
              "#fb9f3a"
             ],
             [
              0.8888888888888888,
              "#fdca26"
             ],
             [
              1,
              "#f0f921"
             ]
            ],
            "type": "surface"
           }
          ],
          "table": [
           {
            "cells": {
             "fill": {
              "color": "#EBF0F8"
             },
             "line": {
              "color": "white"
             }
            },
            "header": {
             "fill": {
              "color": "#C8D4E3"
             },
             "line": {
              "color": "white"
             }
            },
            "type": "table"
           }
          ]
         },
         "layout": {
          "annotationdefaults": {
           "arrowcolor": "#2a3f5f",
           "arrowhead": 0,
           "arrowwidth": 1
          },
          "autotypenumbers": "strict",
          "coloraxis": {
           "colorbar": {
            "outlinewidth": 0,
            "ticks": ""
           }
          },
          "colorscale": {
           "diverging": [
            [
             0,
             "#8e0152"
            ],
            [
             0.1,
             "#c51b7d"
            ],
            [
             0.2,
             "#de77ae"
            ],
            [
             0.3,
             "#f1b6da"
            ],
            [
             0.4,
             "#fde0ef"
            ],
            [
             0.5,
             "#f7f7f7"
            ],
            [
             0.6,
             "#e6f5d0"
            ],
            [
             0.7,
             "#b8e186"
            ],
            [
             0.8,
             "#7fbc41"
            ],
            [
             0.9,
             "#4d9221"
            ],
            [
             1,
             "#276419"
            ]
           ],
           "sequential": [
            [
             0,
             "#0d0887"
            ],
            [
             0.1111111111111111,
             "#46039f"
            ],
            [
             0.2222222222222222,
             "#7201a8"
            ],
            [
             0.3333333333333333,
             "#9c179e"
            ],
            [
             0.4444444444444444,
             "#bd3786"
            ],
            [
             0.5555555555555556,
             "#d8576b"
            ],
            [
             0.6666666666666666,
             "#ed7953"
            ],
            [
             0.7777777777777778,
             "#fb9f3a"
            ],
            [
             0.8888888888888888,
             "#fdca26"
            ],
            [
             1,
             "#f0f921"
            ]
           ],
           "sequentialminus": [
            [
             0,
             "#0d0887"
            ],
            [
             0.1111111111111111,
             "#46039f"
            ],
            [
             0.2222222222222222,
             "#7201a8"
            ],
            [
             0.3333333333333333,
             "#9c179e"
            ],
            [
             0.4444444444444444,
             "#bd3786"
            ],
            [
             0.5555555555555556,
             "#d8576b"
            ],
            [
             0.6666666666666666,
             "#ed7953"
            ],
            [
             0.7777777777777778,
             "#fb9f3a"
            ],
            [
             0.8888888888888888,
             "#fdca26"
            ],
            [
             1,
             "#f0f921"
            ]
           ]
          },
          "colorway": [
           "#636efa",
           "#EF553B",
           "#00cc96",
           "#ab63fa",
           "#FFA15A",
           "#19d3f3",
           "#FF6692",
           "#B6E880",
           "#FF97FF",
           "#FECB52"
          ],
          "font": {
           "color": "#2a3f5f"
          },
          "geo": {
           "bgcolor": "white",
           "lakecolor": "white",
           "landcolor": "#E5ECF6",
           "showlakes": true,
           "showland": true,
           "subunitcolor": "white"
          },
          "hoverlabel": {
           "align": "left"
          },
          "hovermode": "closest",
          "mapbox": {
           "style": "light"
          },
          "paper_bgcolor": "white",
          "plot_bgcolor": "#E5ECF6",
          "polar": {
           "angularaxis": {
            "gridcolor": "white",
            "linecolor": "white",
            "ticks": ""
           },
           "bgcolor": "#E5ECF6",
           "radialaxis": {
            "gridcolor": "white",
            "linecolor": "white",
            "ticks": ""
           }
          },
          "scene": {
           "xaxis": {
            "backgroundcolor": "#E5ECF6",
            "gridcolor": "white",
            "gridwidth": 2,
            "linecolor": "white",
            "showbackground": true,
            "ticks": "",
            "zerolinecolor": "white"
           },
           "yaxis": {
            "backgroundcolor": "#E5ECF6",
            "gridcolor": "white",
            "gridwidth": 2,
            "linecolor": "white",
            "showbackground": true,
            "ticks": "",
            "zerolinecolor": "white"
           },
           "zaxis": {
            "backgroundcolor": "#E5ECF6",
            "gridcolor": "white",
            "gridwidth": 2,
            "linecolor": "white",
            "showbackground": true,
            "ticks": "",
            "zerolinecolor": "white"
           }
          },
          "shapedefaults": {
           "line": {
            "color": "#2a3f5f"
           }
          },
          "ternary": {
           "aaxis": {
            "gridcolor": "white",
            "linecolor": "white",
            "ticks": ""
           },
           "baxis": {
            "gridcolor": "white",
            "linecolor": "white",
            "ticks": ""
           },
           "bgcolor": "#E5ECF6",
           "caxis": {
            "gridcolor": "white",
            "linecolor": "white",
            "ticks": ""
           }
          },
          "title": {
           "x": 0.05
          },
          "xaxis": {
           "automargin": true,
           "gridcolor": "white",
           "linecolor": "white",
           "ticks": "",
           "title": {
            "standoff": 15
           },
           "zerolinecolor": "white",
           "zerolinewidth": 2
          },
          "yaxis": {
           "automargin": true,
           "gridcolor": "white",
           "linecolor": "white",
           "ticks": "",
           "title": {
            "standoff": 15
           },
           "zerolinecolor": "white",
           "zerolinewidth": 2
          }
         }
        },
        "title": {
         "text": "Logit Difference From Each Head"
        },
        "xaxis": {
         "anchor": "y",
         "constrain": "domain",
         "domain": [
          0,
          1
         ],
         "scaleanchor": "y",
         "title": {
          "text": "Head"
         }
        },
        "yaxis": {
         "anchor": "x",
         "autorange": "reversed",
         "constrain": "domain",
         "domain": [
          0,
          1
         ],
         "title": {
          "text": "Layer"
         }
        }
       }
      },
      "text/html": [
       "<div>                            <div id=\"e54332e1-8106-446a-97a7-1b1e4f616ada\" class=\"plotly-graph-div\" style=\"height:525px; width:100%;\"></div>            <script type=\"text/javascript\">                require([\"plotly\"], function(Plotly) {                    window.PLOTLYENV=window.PLOTLYENV || {};                                    if (document.getElementById(\"e54332e1-8106-446a-97a7-1b1e4f616ada\")) {                    Plotly.newPlot(                        \"e54332e1-8106-446a-97a7-1b1e4f616ada\",                        [{\"coloraxis\":\"coloraxis\",\"name\":\"0\",\"z\":[[-0.003615856170654297,-5.231297109276056e-05,-0.0006643016240559518,0.00017332957941107452,-0.00027481120196171105,-0.00034377630800008774,-0.005090353079140186,-0.0005658126319758594,-0.00023033723118714988,7.64383003115654e-05,0.0002360838552704081,-0.0005589723587036133],[-0.00039491354255005717,-0.00026356015587225556,0.0007924739038571715,3.0670471460325643e-05,-0.001308409497141838,0.0003335674700792879,-0.0016615442000329494,-0.003759504295885563,0.0022429318632930517,0.0018707036506384611,0.00021214217122178525,0.0015962067991495132],[0.0002967916370835155,-0.002062656683847308,0.0003864542522933334,-0.00019164556579198688,6.785938603570685e-05,0.00022349813662003726,0.00011843000538647175,0.003067121608182788,4.489087586989626e-05,-0.0011374754831194878,0.0007021428900770843,3.1942133773554815e-06],[-1.860898919403553e-06,-2.8880311219836585e-05,-0.0002142774173989892,0.00018470191571395844,0.000369903864338994,-0.0001159615203505382,-0.001187147106975317,-0.00024038428091444075,0.00017972354544326663,-0.0005168791394680738,-0.00014308406389318407,-0.00013558505452238023],[0.0006074013072066009,-0.00019937430624850094,-0.0005290932604111731,3.269450826337561e-05,0.0018537293653935194,-0.0006780148833058774,-0.00020960552501492202,0.0003853983653243631,0.00016888472600840032,-0.0005109463818371296,0.0002885739377234131,-0.000342153653036803],[0.000241637957515195,-9.686447447165847e-05,-0.0013653062051162124,-5.7586643379181623e-05,-3.636162728071213e-05,-0.00019590201554819942,2.740438503678888e-05,-0.0002529671764932573,0.0001600981195224449,0.0009142816998064518,-0.0010812202235683799,0.002337538404390216],[-0.015734927728772163,-0.0008623023750260472,0.0017592780059203506,-0.005346769466996193,-0.004881706088781357,0.0018319784430786967,0.001244362909346819,-0.000506432494148612,-0.000280094041954726,-1.2606770724232774e-05,-0.0009294450283050537,0.00033794058253988624],[-0.0001379549503326416,-0.0014417641796171665,-0.0032426384277641773,0.08770038932561874,-0.0018419234547764063,-0.00928907934576273,0.00019708053150679916,-0.0016266820020973682,-0.00521931191906333,0.19544515013694763,0.001014810986816883,8.951952622737736e-05],[0.0003968902165070176,-0.0011045816354453564,-0.03554032742977142,0.0006201115320436656,0.0012632895959541202,-0.007192092947661877,-0.02214285358786583,0.0004989235894754529,-0.0231975968927145,0.0015486427582800388,0.21460792422294617,-0.0041025616228580475],[0.02805512398481369,0.0037896372377872467,0.023385722190141678,0.0011143202427774668,-0.03706973046064377,0.032100047916173935,0.3826056122779846,0.09152885526418686,0.009731899946928024,0.8968026638031006,-5.684731877408922e-05,-0.004214184358716011],[0.47205275297164917,0.17081820964813232,-0.05585477501153946,0.009176000021398067,0.0030212539713829756,-1.3548647984862328e-05,0.17535792291164398,-0.3602389991283417,0.001825019484385848,-0.016203150153160095,0.29933273792266846,-0.00884149968624115],[0.00994451716542244,0.08185990154743195,-0.37445491552352905,0.01110401377081871,-0.0021389476023614407,-0.002930442336946726,-0.024676423519849777,0.00298216356895864,-0.0011305718217045069,0.026100989431142807,-0.4943122863769531,0.0023368007969111204]],\"type\":\"heatmap\",\"xaxis\":\"x\",\"yaxis\":\"y\",\"hovertemplate\":\"Head: %{x}\\u003cbr\\u003eLayer: %{y}\\u003cbr\\u003ecolor: %{z}\\u003cextra\\u003e\\u003c\\u002fextra\\u003e\"}],                        {\"template\":{\"data\":{\"histogram2dcontour\":[{\"type\":\"histogram2dcontour\",\"colorbar\":{\"outlinewidth\":0,\"ticks\":\"\"},\"colorscale\":[[0.0,\"#0d0887\"],[0.1111111111111111,\"#46039f\"],[0.2222222222222222,\"#7201a8\"],[0.3333333333333333,\"#9c179e\"],[0.4444444444444444,\"#bd3786\"],[0.5555555555555556,\"#d8576b\"],[0.6666666666666666,\"#ed7953\"],[0.7777777777777778,\"#fb9f3a\"],[0.8888888888888888,\"#fdca26\"],[1.0,\"#f0f921\"]]}],\"choropleth\":[{\"type\":\"choropleth\",\"colorbar\":{\"outlinewidth\":0,\"ticks\":\"\"}}],\"histogram2d\":[{\"type\":\"histogram2d\",\"colorbar\":{\"outlinewidth\":0,\"ticks\":\"\"},\"colorscale\":[[0.0,\"#0d0887\"],[0.1111111111111111,\"#46039f\"],[0.2222222222222222,\"#7201a8\"],[0.3333333333333333,\"#9c179e\"],[0.4444444444444444,\"#bd3786\"],[0.5555555555555556,\"#d8576b\"],[0.6666666666666666,\"#ed7953\"],[0.7777777777777778,\"#fb9f3a\"],[0.8888888888888888,\"#fdca26\"],[1.0,\"#f0f921\"]]}],\"heatmap\":[{\"type\":\"heatmap\",\"colorbar\":{\"outlinewidth\":0,\"ticks\":\"\"},\"colorscale\":[[0.0,\"#0d0887\"],[0.1111111111111111,\"#46039f\"],[0.2222222222222222,\"#7201a8\"],[0.3333333333333333,\"#9c179e\"],[0.4444444444444444,\"#bd3786\"],[0.5555555555555556,\"#d8576b\"],[0.6666666666666666,\"#ed7953\"],[0.7777777777777778,\"#fb9f3a\"],[0.8888888888888888,\"#fdca26\"],[1.0,\"#f0f921\"]]}],\"heatmapgl\":[{\"type\":\"heatmapgl\",\"colorbar\":{\"outlinewidth\":0,\"ticks\":\"\"},\"colorscale\":[[0.0,\"#0d0887\"],[0.1111111111111111,\"#46039f\"],[0.2222222222222222,\"#7201a8\"],[0.3333333333333333,\"#9c179e\"],[0.4444444444444444,\"#bd3786\"],[0.5555555555555556,\"#d8576b\"],[0.6666666666666666,\"#ed7953\"],[0.7777777777777778,\"#fb9f3a\"],[0.8888888888888888,\"#fdca26\"],[1.0,\"#f0f921\"]]}],\"contourcarpet\":[{\"type\":\"contourcarpet\",\"colorbar\":{\"outlinewidth\":0,\"ticks\":\"\"}}],\"contour\":[{\"type\":\"contour\",\"colorbar\":{\"outlinewidth\":0,\"ticks\":\"\"},\"colorscale\":[[0.0,\"#0d0887\"],[0.1111111111111111,\"#46039f\"],[0.2222222222222222,\"#7201a8\"],[0.3333333333333333,\"#9c179e\"],[0.4444444444444444,\"#bd3786\"],[0.5555555555555556,\"#d8576b\"],[0.6666666666666666,\"#ed7953\"],[0.7777777777777778,\"#fb9f3a\"],[0.8888888888888888,\"#fdca26\"],[1.0,\"#f0f921\"]]}],\"surface\":[{\"type\":\"surface\",\"colorbar\":{\"outlinewidth\":0,\"ticks\":\"\"},\"colorscale\":[[0.0,\"#0d0887\"],[0.1111111111111111,\"#46039f\"],[0.2222222222222222,\"#7201a8\"],[0.3333333333333333,\"#9c179e\"],[0.4444444444444444,\"#bd3786\"],[0.5555555555555556,\"#d8576b\"],[0.6666666666666666,\"#ed7953\"],[0.7777777777777778,\"#fb9f3a\"],[0.8888888888888888,\"#fdca26\"],[1.0,\"#f0f921\"]]}],\"mesh3d\":[{\"type\":\"mesh3d\",\"colorbar\":{\"outlinewidth\":0,\"ticks\":\"\"}}],\"scatter\":[{\"fillpattern\":{\"fillmode\":\"overlay\",\"size\":10,\"solidity\":0.2},\"type\":\"scatter\"}],\"parcoords\":[{\"type\":\"parcoords\",\"line\":{\"colorbar\":{\"outlinewidth\":0,\"ticks\":\"\"}}}],\"scatterpolargl\":[{\"type\":\"scatterpolargl\",\"marker\":{\"colorbar\":{\"outlinewidth\":0,\"ticks\":\"\"}}}],\"bar\":[{\"error_x\":{\"color\":\"#2a3f5f\"},\"error_y\":{\"color\":\"#2a3f5f\"},\"marker\":{\"line\":{\"color\":\"#E5ECF6\",\"width\":0.5},\"pattern\":{\"fillmode\":\"overlay\",\"size\":10,\"solidity\":0.2}},\"type\":\"bar\"}],\"scattergeo\":[{\"type\":\"scattergeo\",\"marker\":{\"colorbar\":{\"outlinewidth\":0,\"ticks\":\"\"}}}],\"scatterpolar\":[{\"type\":\"scatterpolar\",\"marker\":{\"colorbar\":{\"outlinewidth\":0,\"ticks\":\"\"}}}],\"histogram\":[{\"marker\":{\"pattern\":{\"fillmode\":\"overlay\",\"size\":10,\"solidity\":0.2}},\"type\":\"histogram\"}],\"scattergl\":[{\"type\":\"scattergl\",\"marker\":{\"colorbar\":{\"outlinewidth\":0,\"ticks\":\"\"}}}],\"scatter3d\":[{\"type\":\"scatter3d\",\"line\":{\"colorbar\":{\"outlinewidth\":0,\"ticks\":\"\"}},\"marker\":{\"colorbar\":{\"outlinewidth\":0,\"ticks\":\"\"}}}],\"scattermapbox\":[{\"type\":\"scattermapbox\",\"marker\":{\"colorbar\":{\"outlinewidth\":0,\"ticks\":\"\"}}}],\"scatterternary\":[{\"type\":\"scatterternary\",\"marker\":{\"colorbar\":{\"outlinewidth\":0,\"ticks\":\"\"}}}],\"scattercarpet\":[{\"type\":\"scattercarpet\",\"marker\":{\"colorbar\":{\"outlinewidth\":0,\"ticks\":\"\"}}}],\"carpet\":[{\"aaxis\":{\"endlinecolor\":\"#2a3f5f\",\"gridcolor\":\"white\",\"linecolor\":\"white\",\"minorgridcolor\":\"white\",\"startlinecolor\":\"#2a3f5f\"},\"baxis\":{\"endlinecolor\":\"#2a3f5f\",\"gridcolor\":\"white\",\"linecolor\":\"white\",\"minorgridcolor\":\"white\",\"startlinecolor\":\"#2a3f5f\"},\"type\":\"carpet\"}],\"table\":[{\"cells\":{\"fill\":{\"color\":\"#EBF0F8\"},\"line\":{\"color\":\"white\"}},\"header\":{\"fill\":{\"color\":\"#C8D4E3\"},\"line\":{\"color\":\"white\"}},\"type\":\"table\"}],\"barpolar\":[{\"marker\":{\"line\":{\"color\":\"#E5ECF6\",\"width\":0.5},\"pattern\":{\"fillmode\":\"overlay\",\"size\":10,\"solidity\":0.2}},\"type\":\"barpolar\"}],\"pie\":[{\"automargin\":true,\"type\":\"pie\"}]},\"layout\":{\"autotypenumbers\":\"strict\",\"colorway\":[\"#636efa\",\"#EF553B\",\"#00cc96\",\"#ab63fa\",\"#FFA15A\",\"#19d3f3\",\"#FF6692\",\"#B6E880\",\"#FF97FF\",\"#FECB52\"],\"font\":{\"color\":\"#2a3f5f\"},\"hovermode\":\"closest\",\"hoverlabel\":{\"align\":\"left\"},\"paper_bgcolor\":\"white\",\"plot_bgcolor\":\"#E5ECF6\",\"polar\":{\"bgcolor\":\"#E5ECF6\",\"angularaxis\":{\"gridcolor\":\"white\",\"linecolor\":\"white\",\"ticks\":\"\"},\"radialaxis\":{\"gridcolor\":\"white\",\"linecolor\":\"white\",\"ticks\":\"\"}},\"ternary\":{\"bgcolor\":\"#E5ECF6\",\"aaxis\":{\"gridcolor\":\"white\",\"linecolor\":\"white\",\"ticks\":\"\"},\"baxis\":{\"gridcolor\":\"white\",\"linecolor\":\"white\",\"ticks\":\"\"},\"caxis\":{\"gridcolor\":\"white\",\"linecolor\":\"white\",\"ticks\":\"\"}},\"coloraxis\":{\"colorbar\":{\"outlinewidth\":0,\"ticks\":\"\"}},\"colorscale\":{\"sequential\":[[0.0,\"#0d0887\"],[0.1111111111111111,\"#46039f\"],[0.2222222222222222,\"#7201a8\"],[0.3333333333333333,\"#9c179e\"],[0.4444444444444444,\"#bd3786\"],[0.5555555555555556,\"#d8576b\"],[0.6666666666666666,\"#ed7953\"],[0.7777777777777778,\"#fb9f3a\"],[0.8888888888888888,\"#fdca26\"],[1.0,\"#f0f921\"]],\"sequentialminus\":[[0.0,\"#0d0887\"],[0.1111111111111111,\"#46039f\"],[0.2222222222222222,\"#7201a8\"],[0.3333333333333333,\"#9c179e\"],[0.4444444444444444,\"#bd3786\"],[0.5555555555555556,\"#d8576b\"],[0.6666666666666666,\"#ed7953\"],[0.7777777777777778,\"#fb9f3a\"],[0.8888888888888888,\"#fdca26\"],[1.0,\"#f0f921\"]],\"diverging\":[[0,\"#8e0152\"],[0.1,\"#c51b7d\"],[0.2,\"#de77ae\"],[0.3,\"#f1b6da\"],[0.4,\"#fde0ef\"],[0.5,\"#f7f7f7\"],[0.6,\"#e6f5d0\"],[0.7,\"#b8e186\"],[0.8,\"#7fbc41\"],[0.9,\"#4d9221\"],[1,\"#276419\"]]},\"xaxis\":{\"gridcolor\":\"white\",\"linecolor\":\"white\",\"ticks\":\"\",\"title\":{\"standoff\":15},\"zerolinecolor\":\"white\",\"automargin\":true,\"zerolinewidth\":2},\"yaxis\":{\"gridcolor\":\"white\",\"linecolor\":\"white\",\"ticks\":\"\",\"title\":{\"standoff\":15},\"zerolinecolor\":\"white\",\"automargin\":true,\"zerolinewidth\":2},\"scene\":{\"xaxis\":{\"backgroundcolor\":\"#E5ECF6\",\"gridcolor\":\"white\",\"linecolor\":\"white\",\"showbackground\":true,\"ticks\":\"\",\"zerolinecolor\":\"white\",\"gridwidth\":2},\"yaxis\":{\"backgroundcolor\":\"#E5ECF6\",\"gridcolor\":\"white\",\"linecolor\":\"white\",\"showbackground\":true,\"ticks\":\"\",\"zerolinecolor\":\"white\",\"gridwidth\":2},\"zaxis\":{\"backgroundcolor\":\"#E5ECF6\",\"gridcolor\":\"white\",\"linecolor\":\"white\",\"showbackground\":true,\"ticks\":\"\",\"zerolinecolor\":\"white\",\"gridwidth\":2}},\"shapedefaults\":{\"line\":{\"color\":\"#2a3f5f\"}},\"annotationdefaults\":{\"arrowcolor\":\"#2a3f5f\",\"arrowhead\":0,\"arrowwidth\":1},\"geo\":{\"bgcolor\":\"white\",\"landcolor\":\"#E5ECF6\",\"subunitcolor\":\"white\",\"showland\":true,\"showlakes\":true,\"lakecolor\":\"white\"},\"title\":{\"x\":0.05},\"mapbox\":{\"style\":\"light\"}}},\"xaxis\":{\"anchor\":\"y\",\"domain\":[0.0,1.0],\"scaleanchor\":\"y\",\"constrain\":\"domain\",\"title\":{\"text\":\"Head\"}},\"yaxis\":{\"anchor\":\"x\",\"domain\":[0.0,1.0],\"autorange\":\"reversed\",\"constrain\":\"domain\",\"title\":{\"text\":\"Layer\"}},\"coloraxis\":{\"colorscale\":[[0.0,\"rgb(103,0,31)\"],[0.1,\"rgb(178,24,43)\"],[0.2,\"rgb(214,96,77)\"],[0.3,\"rgb(244,165,130)\"],[0.4,\"rgb(253,219,199)\"],[0.5,\"rgb(247,247,247)\"],[0.6,\"rgb(209,229,240)\"],[0.7,\"rgb(146,197,222)\"],[0.8,\"rgb(67,147,195)\"],[0.9,\"rgb(33,102,172)\"],[1.0,\"rgb(5,48,97)\"]],\"cmid\":0.0},\"title\":{\"text\":\"Logit Difference From Each Head\"}},                        {\"responsive\": true}                    ).then(function(){\n",
       "                            \n",
       "var gd = document.getElementById('e54332e1-8106-446a-97a7-1b1e4f616ada');\n",
       "var x = new MutationObserver(function (mutations, observer) {{\n",
       "        var display = window.getComputedStyle(gd).display;\n",
       "        if (!display || display === 'none') {{\n",
       "            console.log([gd, 'removed!']);\n",
       "            Plotly.purge(gd);\n",
       "            observer.disconnect();\n",
       "        }}\n",
       "}});\n",
       "\n",
       "// Listen for the removal of the full notebook cells\n",
       "var notebookContainer = gd.closest('#notebook-container');\n",
       "if (notebookContainer) {{\n",
       "    x.observe(notebookContainer, {childList: true});\n",
       "}}\n",
       "\n",
       "// Listen for the clearing of the current output cell\n",
       "var outputEl = gd.closest('.output');\n",
       "if (outputEl) {{\n",
       "    x.observe(outputEl, {childList: true});\n",
       "}}\n",
       "\n",
       "                        })                };                });            </script>        </div>"
      ]
     },
     "metadata": {},
     "output_type": "display_data"
    }
   ],
   "source": [
    "per_head_residual, labels = cache.stack_head_results(\n",
    "    layer=-1, pos_slice=-1, return_labels=True\n",
    ")\n",
    "per_head_logit_diffs = residual_stack_to_logit_diff(per_head_residual, cache)\n",
    "per_head_logit_diffs = einops.rearrange(\n",
    "    per_head_logit_diffs,\n",
    "    \"(layer head_index) -> layer head_index\",\n",
    "    layer=model.cfg.n_layers,\n",
    "    head_index=model.cfg.n_heads,\n",
    ")\n",
    "imshow(\n",
    "    per_head_logit_diffs,\n",
    "    labels={\"x\": \"Head\", \"y\": \"Layer\"},\n",
    "    title=\"Logit Difference From Each Head\",\n",
    ")"
   ]
  },
  {
   "cell_type": "markdown",
   "metadata": {},
   "source": [
    "L10H0 and L10H7 calls for my attention. its activation rate has the biggest changing over the time. "
   ]
  },
  {
   "cell_type": "code",
   "execution_count": 106,
   "metadata": {},
   "outputs": [],
   "source": [
    "def visualize_attention_patterns(\n",
    "    heads: Union[List[int], int, Float[torch.Tensor, \"heads\"]],\n",
    "    local_cache: ActivationCache,\n",
    "    local_tokens: torch.Tensor,\n",
    "    title: Optional[str] = \"\",\n",
    "    max_width: Optional[int] = 700,\n",
    ") -> str:\n",
    "    # If a single head is given, convert to a list\n",
    "    if isinstance(heads, int):\n",
    "        heads = [heads]\n",
    "\n",
    "    # Create the plotting data\n",
    "    labels: List[str] = []\n",
    "    patterns: List[Float[torch.Tensor, \"dest_pos src_pos\"]] = []\n",
    "\n",
    "    # Assume we have a single batch item\n",
    "    batch_index = 0\n",
    "\n",
    "    for head in heads:\n",
    "        # Set the label\n",
    "        layer = head // model.cfg.n_heads\n",
    "        head_index = head % model.cfg.n_heads\n",
    "        labels.append(f\"L{layer}H{head_index}\")\n",
    "\n",
    "        # Get the attention patterns for the head\n",
    "        # Attention patterns have shape [batch, head_index, query_pos, key_pos]\n",
    "        patterns.append(local_cache[\"attn\", layer][batch_index, head_index])\n",
    "\n",
    "    # Convert the tokens to strings (for the axis labels)\n",
    "    str_tokens = model.to_str_tokens(local_tokens)\n",
    "\n",
    "    # Combine the patterns into a single tensor\n",
    "    patterns: Float[torch.Tensor, \"head_index dest_pos src_pos\"] = torch.stack(\n",
    "        patterns, dim=0\n",
    "    )\n",
    "\n",
    "    # Circuitsvis Plot (note we get the code version so we can concatenate with the title)\n",
    "    plot = attention_heads(\n",
    "        attention=patterns, tokens=str_tokens, attention_head_names=labels\n",
    "    ).show_code()\n",
    "\n",
    "    # Display the title\n",
    "    title_html = f\"<h2>{title}</h2><br/>\"\n",
    "\n",
    "    # Return the visualisation as raw code\n",
    "    return f\"<div style='max-width: {str(max_width)}px;'>{title_html + plot}</div>\""
   ]
  },
  {
   "cell_type": "code",
   "execution_count": 107,
   "metadata": {},
   "outputs": [
    {
     "data": {
      "text/html": [
       "<div style='max-width: 700px;'><h2>Top 3 Positive Logit Attribution Heads</h2><br/><div id=\"circuits-vis-7a1c1856-5ad3\" style=\"margin: 15px 0;\"/>\n",
       "    <script crossorigin type=\"module\">\n",
       "    import { render, AttentionHeads } from \"https://unpkg.com/circuitsvis@1.43.2/dist/cdn/esm.js\";\n",
       "    render(\n",
       "      \"circuits-vis-7a1c1856-5ad3\",\n",
       "      AttentionHeads,\n",
       "      {\"attention\": [[[1.0, 0.0, 0.0, 0.0, 0.0, 0.0, 0.0, 0.0, 0.0, 0.0, 0.0, 0.0, 0.0, 0.0, 0.0, 0.0, 0.0, 0.0, 0.0, 0.0, 0.0, 0.0, 0.0, 0.0, 0.0], [0.9847356081008911, 0.015264462679624557, 0.0, 0.0, 0.0, 0.0, 0.0, 0.0, 0.0, 0.0, 0.0, 0.0, 0.0, 0.0, 0.0, 0.0, 0.0, 0.0, 0.0, 0.0, 0.0, 0.0, 0.0, 0.0, 0.0], [0.9594191312789917, 0.005407329648733139, 0.035173531621694565, 0.0, 0.0, 0.0, 0.0, 0.0, 0.0, 0.0, 0.0, 0.0, 0.0, 0.0, 0.0, 0.0, 0.0, 0.0, 0.0, 0.0, 0.0, 0.0, 0.0, 0.0, 0.0], [0.794948399066925, 0.01754068210721016, 0.1781478077173233, 0.00936304684728384, 0.0, 0.0, 0.0, 0.0, 0.0, 0.0, 0.0, 0.0, 0.0, 0.0, 0.0, 0.0, 0.0, 0.0, 0.0, 0.0, 0.0, 0.0, 0.0, 0.0, 0.0], [0.9262835383415222, 0.01260426826775074, 0.026591124013066292, 0.0026284148916602135, 0.031892675906419754, 0.0, 0.0, 0.0, 0.0, 0.0, 0.0, 0.0, 0.0, 0.0, 0.0, 0.0, 0.0, 0.0, 0.0, 0.0, 0.0, 0.0, 0.0, 0.0, 0.0], [0.865225076675415, 0.012326393276453018, 0.07510707527399063, 0.00198023347184062, 0.0432971827685833, 0.0020639654248952866, 0.0, 0.0, 0.0, 0.0, 0.0, 0.0, 0.0, 0.0, 0.0, 0.0, 0.0, 0.0, 0.0, 0.0, 0.0, 0.0, 0.0, 0.0, 0.0], [0.8124770522117615, 0.02772386185824871, 0.05965818464756012, 0.005389590747654438, 0.025030743330717087, 0.0018385415896773338, 0.06788202375173569, 0.0, 0.0, 0.0, 0.0, 0.0, 0.0, 0.0, 0.0, 0.0, 0.0, 0.0, 0.0, 0.0, 0.0, 0.0, 0.0, 0.0, 0.0], [0.9577632546424866, 0.014109996147453785, 0.010525504127144814, 0.0017377253388985991, 0.001392921432852745, 0.000645973370410502, 0.00901870522648096, 0.0048058610409498215, 0.0, 0.0, 0.0, 0.0, 0.0, 0.0, 0.0, 0.0, 0.0, 0.0, 0.0, 0.0, 0.0, 0.0, 0.0, 0.0, 0.0], [0.7688183784484863, 0.005625465419143438, 0.07284621149301529, 0.0016648932360112667, 0.02601083740592003, 0.0005185145419090986, 0.11866163462400436, 0.0021596853621304035, 0.0036944299936294556, 0.0, 0.0, 0.0, 0.0, 0.0, 0.0, 0.0, 0.0, 0.0, 0.0, 0.0, 0.0, 0.0, 0.0, 0.0, 0.0], [0.9614661931991577, 0.003666609525680542, 0.006167003884911537, 0.001439155312255025, 0.0032168047036975622, 0.0006941066239960492, 0.01321153249591589, 0.0006400611600838602, 0.000793621176853776, 0.008704976178705692, 0.0, 0.0, 0.0, 0.0, 0.0, 0.0, 0.0, 0.0, 0.0, 0.0, 0.0, 0.0, 0.0, 0.0, 0.0], [0.9696208834648132, 0.010497597977519035, 0.0016808948712423444, 0.00022624565463047475, 0.0005438412772491574, 0.0003675633925013244, 0.003227033419534564, 0.0003888006031047553, 8.841734234010801e-05, 0.00047207411262206733, 0.012886663898825645, 0.0, 0.0, 0.0, 0.0, 0.0, 0.0, 0.0, 0.0, 0.0, 0.0, 0.0, 0.0, 0.0, 0.0], [0.7260898351669312, 0.11137884855270386, 0.04791907221078873, 0.0007692626095376909, 0.026948554441332817, 0.0036305978428572416, 0.06875927746295929, 0.0009434483363293111, 0.0007006875239312649, 0.0014502116246148944, 0.003247989807277918, 0.008162222802639008, 0.0, 0.0, 0.0, 0.0, 0.0, 0.0, 0.0, 0.0, 0.0, 0.0, 0.0, 0.0, 0.0], [0.49927306175231934, 0.02012251690030098, 0.1790812462568283, 0.006564212962985039, 0.07540451735258102, 0.0032174689695239067, 0.1859234720468521, 0.007688469719141722, 0.0033883817959576845, 0.00460725137963891, 0.003771640593186021, 0.004806789569556713, 0.0061510102823376656, 0.0, 0.0, 0.0, 0.0, 0.0, 0.0, 0.0, 0.0, 0.0, 0.0, 0.0, 0.0], [0.8066196441650391, 0.02140912599861622, 0.05339008569717407, 0.002025584690272808, 0.04238246753811836, 0.0018234818708151579, 0.06303247064352036, 0.00022121482470538467, 0.001608321093954146, 0.0008028034935705364, 0.0027445186860859394, 0.001077383174560964, 0.0009983698837459087, 0.00186453340575099, 0.0, 0.0, 0.0, 0.0, 0.0, 0.0, 0.0, 0.0, 0.0, 0.0, 0.0], [0.09347463399171829, 0.014095389284193516, 0.30286452174186707, 0.002122994977980852, 0.27396538853645325, 0.001356842345558107, 0.3054988384246826, 0.0005829943693242967, 0.00037167395930737257, 0.0007615164504386485, 0.0008338661282323301, 0.00018931776867248118, 0.0004940766957588494, 0.0009111172403208911, 0.002476881258189678, 0.0, 0.0, 0.0, 0.0, 0.0, 0.0, 0.0, 0.0, 0.0, 0.0], [0.8442932963371277, 0.01811516284942627, 0.03992457687854767, 0.003322779666632414, 0.0304454006254673, 0.0011834462638944387, 0.03621352091431618, 0.0003863434831146151, 8.201420860132203e-05, 0.0006069547380320728, 0.0011086532613262534, 0.0008025758434087038, 0.001379975350573659, 0.000138023795443587, 0.0036441010888665915, 0.018353085964918137, 0.0, 0.0, 0.0, 0.0, 0.0, 0.0, 0.0, 0.0, 0.0], [0.40393826365470886, 0.04810061305761337, 0.05933784693479538, 0.023462848737835884, 0.06330598890781403, 0.013306360691785812, 0.17730994522571564, 0.03187919408082962, 0.004531772341579199, 0.0037445463240146637, 0.00310504250228405, 0.0040100314654409885, 0.0038276740815490484, 0.011010771617293358, 0.006326284725219011, 0.012754577212035656, 0.1300482153892517, 0.0, 0.0, 0.0, 0.0, 0.0, 0.0, 0.0, 0.0], [0.16154660284519196, 0.05182310938835144, 0.2002580463886261, 0.00973028689622879, 0.26436132192611694, 0.0030088969506323338, 0.11526571214199066, 0.0005715248407796025, 0.0004897178732790053, 0.0021722677629441023, 0.0005130124627612531, 0.0001160277024609968, 0.0003935323911719024, 0.00024566694628447294, 0.0040189907886087894, 0.017252182587981224, 0.16511568427085876, 0.0031174339819699526, 0.0, 0.0, 0.0, 0.0, 0.0, 0.0, 0.0], [0.15649069845676422, 0.030692532658576965, 0.042975932359695435, 0.1038009375333786, 0.11491118371486664, 0.020489340648055077, 0.0496082678437233, 0.06356172263622284, 0.005845191422849894, 0.0018109467346221209, 0.0012459434801712632, 0.0025011927355080843, 0.0004671824863180518, 0.003552256152033806, 0.004141987767070532, 0.006531964521855116, 0.02908339910209179, 0.15425053238868713, 0.20803874731063843, 0.0, 0.0, 0.0, 0.0, 0.0, 0.0], [0.1028677299618721, 0.03816026449203491, 0.2333383560180664, 0.0084022656083107, 0.21294789016246796, 0.0018255430040881038, 0.20484702289104462, 0.0014391778968274593, 0.000906539149582386, 0.0020967433229088783, 0.005271126050502062, 0.0013236396480351686, 0.0004829350800719112, 0.0015526750357821584, 0.00690756319090724, 0.02411600761115551, 0.10241317749023438, 0.0006351451738737524, 0.04416978359222412, 0.006296447012573481, 0.0, 0.0, 0.0, 0.0, 0.0], [0.7900339961051941, 0.03739214316010475, 0.030411582440137863, 0.005486452020704746, 0.02027115412056446, 0.004062160849571228, 0.029358215630054474, 0.0020491303876042366, 0.0014541796408593655, 0.0008766342070885003, 0.015573941171169281, 0.00447086850181222, 0.0012507594656199217, 0.00418951315805316, 0.00468262005597353, 0.0074317255057394505, 0.006591381970793009, 0.0007902072393335402, 0.0016937627224251628, 0.007085017394274473, 0.02484445832669735, 0.0, 0.0, 0.0, 0.0], [0.77166748046875, 0.058791518211364746, 0.020455647259950638, 0.0018672302830964327, 0.010359366424381733, 0.0037524413783103228, 0.02481437847018242, 0.0008988526533357799, 0.0040155746974051, 0.001428517047315836, 0.00239047990180552, 0.0026961902622133493, 0.003749073250219226, 0.004955804906785488, 0.004368299152702093, 0.009733431972563267, 0.004999465309083462, 0.0002978536067530513, 0.0011590521316975355, 0.002497375011444092, 0.009941070340573788, 0.055160947144031525, 0.0, 0.0, 0.0], [0.6088755130767822, 0.05780252814292908, 0.06175563111901283, 0.0015089277876541018, 0.07932672649621964, 0.0011878447839990258, 0.07268769294023514, 0.00012730818707495928, 0.00024386811128351837, 0.001450281823053956, 0.0058859894052147865, 0.000757531204726547, 0.0007310572545975447, 0.0005929429898969829, 0.002457659225910902, 0.02426808886229992, 0.016508618369698524, 0.00012784352293238044, 0.010563056915998459, 0.0007929522544145584, 0.026106158271431923, 0.02260444313287735, 0.003637313609942794, 0.0, 0.0], [0.6431015133857727, 0.10125464200973511, 0.02206626906991005, 0.001830519293434918, 0.021571623161435127, 0.00490074697881937, 0.04322395473718643, 0.0006722842226736248, 0.002705917926505208, 0.001047900295816362, 0.0017848254647105932, 0.0034687528386712074, 0.003237660974264145, 0.003889104351401329, 0.0037504248321056366, 0.024054037407040596, 0.0067239487543702126, 0.0004384234780445695, 0.0009242917876690626, 0.001793541363440454, 0.008326182141900063, 0.029580645263195038, 0.00865568034350872, 0.06099706515669823, 0.0], [0.0076843006536364555, 0.004959964193403721, 0.17897087335586548, 0.003742724424228072, 0.4145098924636841, 0.0010101828956976533, 0.2683686316013336, 7.42498305044137e-05, 5.449210584629327e-05, 0.000827375624794513, 0.00015502992027904838, 3.0317889468278736e-05, 0.00011249024828430265, 4.585584974847734e-05, 0.0007379763992503285, 0.008931917138397694, 0.08723487704992294, 8.317347237607464e-05, 0.020225388929247856, 4.645837179850787e-05, 0.0004437754687387496, 0.00012983864871785045, 2.5173992980853654e-05, 0.0003992035344708711, 0.001195850083604455]], [[1.0, 0.0, 0.0, 0.0, 0.0, 0.0, 0.0, 0.0, 0.0, 0.0, 0.0, 0.0, 0.0, 0.0, 0.0, 0.0, 0.0, 0.0, 0.0, 0.0, 0.0, 0.0, 0.0, 0.0, 0.0], [0.9632198810577393, 0.03678012639284134, 0.0, 0.0, 0.0, 0.0, 0.0, 0.0, 0.0, 0.0, 0.0, 0.0, 0.0, 0.0, 0.0, 0.0, 0.0, 0.0, 0.0, 0.0, 0.0, 0.0, 0.0, 0.0, 0.0], [0.7870935201644897, 0.011823760345578194, 0.20108270645141602, 0.0, 0.0, 0.0, 0.0, 0.0, 0.0, 0.0, 0.0, 0.0, 0.0, 0.0, 0.0, 0.0, 0.0, 0.0, 0.0, 0.0, 0.0, 0.0, 0.0, 0.0, 0.0], [0.7344034910202026, 0.010742849670350552, 0.23067176342010498, 0.024181876331567764, 0.0, 0.0, 0.0, 0.0, 0.0, 0.0, 0.0, 0.0, 0.0, 0.0, 0.0, 0.0, 0.0, 0.0, 0.0, 0.0, 0.0, 0.0, 0.0, 0.0, 0.0], [0.5959656238555908, 0.012918507680296898, 0.17132385075092316, 0.016840288415551186, 0.20295163989067078, 0.0, 0.0, 0.0, 0.0, 0.0, 0.0, 0.0, 0.0, 0.0, 0.0, 0.0, 0.0, 0.0, 0.0, 0.0, 0.0, 0.0, 0.0, 0.0, 0.0], [0.6546053886413574, 0.004843628965318203, 0.17516106367111206, 0.006677390541881323, 0.1525154411792755, 0.006197185255587101, 0.0, 0.0, 0.0, 0.0, 0.0, 0.0, 0.0, 0.0, 0.0, 0.0, 0.0, 0.0, 0.0, 0.0, 0.0, 0.0, 0.0, 0.0, 0.0], [0.4568638503551483, 0.008123247884213924, 0.1975451558828354, 0.013293860480189323, 0.15218877792358398, 0.0045348661951720715, 0.1674501895904541, 0.0, 0.0, 0.0, 0.0, 0.0, 0.0, 0.0, 0.0, 0.0, 0.0, 0.0, 0.0, 0.0, 0.0, 0.0, 0.0, 0.0, 0.0], [0.8981605768203735, 0.007523315493017435, 0.015236742794513702, 0.01436876691877842, 0.029103897511959076, 0.003943419083952904, 0.012666293419897556, 0.01899692602455616, 0.0, 0.0, 0.0, 0.0, 0.0, 0.0, 0.0, 0.0, 0.0, 0.0, 0.0, 0.0, 0.0, 0.0, 0.0, 0.0, 0.0], [0.5271966457366943, 0.008721575140953064, 0.144373819231987, 0.011553017422556877, 0.10285452753305435, 0.004731338005512953, 0.1777305006980896, 0.01477896235883236, 0.008059663698077202, 0.0, 0.0, 0.0, 0.0, 0.0, 0.0, 0.0, 0.0, 0.0, 0.0, 0.0, 0.0, 0.0, 0.0, 0.0, 0.0], [0.7758954167366028, 0.011928060092031956, 0.04511971399188042, 0.01829960197210312, 0.042543962597846985, 0.01035274751484394, 0.05316312983632088, 0.013343856669962406, 0.01407352089881897, 0.01527996826916933, 0.0, 0.0, 0.0, 0.0, 0.0, 0.0, 0.0, 0.0, 0.0, 0.0, 0.0, 0.0, 0.0, 0.0, 0.0], [0.9218538999557495, 0.009221743792295456, 0.015899786725640297, 0.0020640750881284475, 0.005037535447627306, 0.0006552904960699379, 0.0066843763925135136, 0.0015591291012242436, 0.0010485296370461583, 0.0011863606050610542, 0.03478923812508583, 0.0, 0.0, 0.0, 0.0, 0.0, 0.0, 0.0, 0.0, 0.0, 0.0, 0.0, 0.0, 0.0, 0.0], [0.15983743965625763, 0.009409066289663315, 0.2989431619644165, 0.0016402751207351685, 0.22534458339214325, 0.00047676105168648064, 0.2922145426273346, 0.0015671920264139771, 0.00025521250790916383, 0.0003759629325941205, 0.0066678402945399284, 0.003267910098657012, 0.0, 0.0, 0.0, 0.0, 0.0, 0.0, 0.0, 0.0, 0.0, 0.0, 0.0, 0.0, 0.0], [0.25648802518844604, 0.011625264771282673, 0.18640825152397156, 0.010408470407128334, 0.23909637331962585, 0.0037598388735204935, 0.23366370797157288, 0.011461745016276836, 0.0034260733518749475, 0.004551926627755165, 0.024268437176942825, 0.010509926825761795, 0.0043319459073245525, 0.0, 0.0, 0.0, 0.0, 0.0, 0.0, 0.0, 0.0, 0.0, 0.0, 0.0, 0.0], [0.39638781547546387, 0.011390874162316322, 0.10150570422410965, 0.006917946971952915, 0.22308628261089325, 0.0034440557938069105, 0.1790325939655304, 0.005655077286064625, 0.0014119778061285615, 0.0014260750031098723, 0.04437759518623352, 0.01757126860320568, 0.002198009518906474, 0.00559477973729372, 0.0, 0.0, 0.0, 0.0, 0.0, 0.0, 0.0, 0.0, 0.0, 0.0, 0.0], [0.14473795890808105, 0.006736429408192635, 0.19780333340168, 0.00327688897959888, 0.33007922768592834, 0.0018772922921925783, 0.3014228641986847, 0.0021949193906039, 0.0003736827347893268, 0.0004997123614884913, 0.006377963814884424, 0.0009872607188299298, 0.0005571266519837081, 0.0009048786014318466, 0.002170523162931204, 0.0, 0.0, 0.0, 0.0, 0.0, 0.0, 0.0, 0.0, 0.0, 0.0], [0.603057324886322, 0.023206567391753197, 0.05862203612923622, 0.005389735102653503, 0.12136530876159668, 0.004357059020549059, 0.10724060982465744, 0.001159698236733675, 0.0004311013035476208, 0.00030201266054064035, 0.006386192515492439, 0.002657652134075761, 0.0018519709119573236, 0.00071849295636639, 0.006755544804036617, 0.056498702615499496, 0.0, 0.0, 0.0, 0.0, 0.0, 0.0, 0.0, 0.0, 0.0], [0.16701968014240265, 0.005153031088411808, 0.0836927592754364, 0.004557020962238312, 0.22853060066699982, 0.0012676150072366, 0.17350104451179504, 0.005875153932720423, 0.0005615113768726587, 0.0005736990715377033, 0.008837925270199776, 0.002885224064812064, 0.0005018266965635121, 0.002554135862737894, 0.0027275586035102606, 0.04738028347492218, 0.26438093185424805, 0.0, 0.0, 0.0, 0.0, 0.0, 0.0, 0.0, 0.0], [0.21117910742759705, 0.009073236957192421, 0.1439979523420334, 0.0009813050273805857, 0.4240032732486725, 0.0005689834360964596, 0.10171319544315338, 0.0008375987526960671, 0.00026385459932498634, 0.00028924987418577075, 0.003598310984671116, 0.00034005165798589587, 0.00013508221309166402, 0.00024929357459768653, 0.0004389090754557401, 0.014019793830811977, 0.08792564272880554, 0.0003851122746709734, 0.0, 0.0, 0.0, 0.0, 0.0, 0.0, 0.0], [0.0663369670510292, 0.003512459574267268, 0.03940605744719505, 0.002006791764870286, 0.2244383841753006, 0.0005355612956918776, 0.16466496884822845, 0.010594343766570091, 0.0005113250808790326, 0.00014155292592477053, 0.006819728296250105, 0.0023534907959401608, 0.00011593128147069365, 0.006361968349665403, 0.0010081601794809103, 0.04339149594306946, 0.2406255155801773, 0.0020521660335361958, 0.18512310087680817, 0.0, 0.0, 0.0, 0.0, 0.0, 0.0], [0.18856514990329742, 0.01355030294507742, 0.1303897351026535, 0.0030299455393105745, 0.36888593435287476, 0.0016465219669044018, 0.1369819939136505, 0.0029608733020722866, 0.0009922031313180923, 0.0012381917331367731, 0.012147722765803337, 0.0017922528786584735, 0.0005040060495957732, 0.0010425724321976304, 0.0019397663418203592, 0.046744026243686676, 0.06312134861946106, 0.0005672377883456647, 0.018853791058063507, 0.005046512931585312, 0.0, 0.0, 0.0, 0.0, 0.0], [0.5291765928268433, 0.012239081785082817, 0.0327729731798172, 0.015267967246472836, 0.05364791303873062, 0.008708900772035122, 0.027949275448918343, 0.006991908419877291, 0.005974114872515202, 0.002971019595861435, 0.1262236386537552, 0.024914434179663658, 0.0024940117727965117, 0.0045079137198626995, 0.010322497226297855, 0.07084855437278748, 0.01402005273848772, 0.005141894333064556, 0.006068653427064419, 0.03164651244878769, 0.008112101815640926, 0.0, 0.0, 0.0, 0.0], [0.6566891670227051, 0.015260943211615086, 0.041754014790058136, 0.003131059231236577, 0.048516061156988144, 0.0016707185423001647, 0.04380999132990837, 0.002131963614374399, 0.001360586960799992, 0.000789221259765327, 0.011473173275589943, 0.005982716102153063, 0.0011816543992608786, 0.0014144298620522022, 0.0036502289585769176, 0.07971645146608353, 0.029024986550211906, 0.001201312872581184, 0.005915505345910788, 0.007528217509388924, 0.0016923287184908986, 0.036105282604694366, 0.0, 0.0, 0.0], [0.4032304286956787, 0.007356541696935892, 0.03334667161107063, 0.0026345280930399895, 0.12288433313369751, 0.002414035378023982, 0.09150492399930954, 0.0019779407884925604, 0.001501961494795978, 0.001602435251697898, 0.09305631369352341, 0.009895268827676773, 0.0011760082561522722, 0.0009255876066163182, 0.0021383098792284727, 0.04122019559144974, 0.03505643084645271, 0.0009136006119661033, 0.00451194541528821, 0.004449027590453625, 0.002244444563984871, 0.12029018253087997, 0.015668924897909164, 0.0, 0.0], [0.4913772642612457, 0.012245574966073036, 0.07182793319225311, 0.0026963897980749607, 0.08580363541841507, 0.0015844691079109907, 0.10030987858772278, 0.0013761493610218167, 0.0007239615079015493, 0.00046831858344376087, 0.009797682985663414, 0.004035032354295254, 0.0007040768978185952, 0.0006002280279062688, 0.0024223611690104008, 0.06749533116817474, 0.03198879584670067, 0.000728679180610925, 0.005909345578402281, 0.0026004912797361612, 0.0008512284839525819, 0.025957651436328888, 0.004292961675673723, 0.07420259714126587, 0.0], [0.08249151706695557, 0.00864393264055252, 0.11890317499637604, 0.0012741649989038706, 0.5492374300956726, 0.0003204320964869112, 0.13772976398468018, 0.0007445848314091563, 0.00014814849419053644, 0.00017471180763095617, 0.0014693799894303083, 0.0002315688325325027, 8.830799197312444e-05, 0.00010036674211733043, 0.00038718804717063904, 0.014749256893992424, 0.060957178473472595, 0.00012617716856766492, 0.010246694087982178, 0.0006159432232379913, 0.00018674577586352825, 0.0007286969921551645, 0.0001295511901844293, 0.009118513204157352, 0.0011965044541284442]], [[1.0, 0.0, 0.0, 0.0, 0.0, 0.0, 0.0, 0.0, 0.0, 0.0, 0.0, 0.0, 0.0, 0.0, 0.0, 0.0, 0.0, 0.0, 0.0, 0.0, 0.0, 0.0, 0.0, 0.0, 0.0], [0.9927243590354919, 0.00727563351392746, 0.0, 0.0, 0.0, 0.0, 0.0, 0.0, 0.0, 0.0, 0.0, 0.0, 0.0, 0.0, 0.0, 0.0, 0.0, 0.0, 0.0, 0.0, 0.0, 0.0, 0.0, 0.0, 0.0], [0.9745466113090515, 0.001956529449671507, 0.023496849462389946, 0.0, 0.0, 0.0, 0.0, 0.0, 0.0, 0.0, 0.0, 0.0, 0.0, 0.0, 0.0, 0.0, 0.0, 0.0, 0.0, 0.0, 0.0, 0.0, 0.0, 0.0, 0.0], [0.8715685606002808, 0.006636958569288254, 0.11739953607320786, 0.004394961055368185, 0.0, 0.0, 0.0, 0.0, 0.0, 0.0, 0.0, 0.0, 0.0, 0.0, 0.0, 0.0, 0.0, 0.0, 0.0, 0.0, 0.0, 0.0, 0.0, 0.0, 0.0], [0.9483657479286194, 0.009188322350382805, 0.010807785205543041, 0.00352019676938653, 0.028117986395955086, 0.0, 0.0, 0.0, 0.0, 0.0, 0.0, 0.0, 0.0, 0.0, 0.0, 0.0, 0.0, 0.0, 0.0, 0.0, 0.0, 0.0, 0.0, 0.0, 0.0], [0.7779544591903687, 0.002631950192153454, 0.10535293817520142, 0.0016283141449093819, 0.10987874865531921, 0.002553566824644804, 0.0, 0.0, 0.0, 0.0, 0.0, 0.0, 0.0, 0.0, 0.0, 0.0, 0.0, 0.0, 0.0, 0.0, 0.0, 0.0, 0.0, 0.0, 0.0], [0.860560953617096, 0.016436636447906494, 0.040516484528779984, 0.004399414174258709, 0.03868895769119263, 0.004216348752379417, 0.03518115356564522, 0.0, 0.0, 0.0, 0.0, 0.0, 0.0, 0.0, 0.0, 0.0, 0.0, 0.0, 0.0, 0.0, 0.0, 0.0, 0.0, 0.0, 0.0], [0.968377411365509, 0.006711618509143591, 0.005923558957874775, 0.0014876472996547818, 0.005530836991965771, 0.0008017002255655825, 0.006149386987090111, 0.005017932970076799, 0.0, 0.0, 0.0, 0.0, 0.0, 0.0, 0.0, 0.0, 0.0, 0.0, 0.0, 0.0, 0.0, 0.0, 0.0, 0.0, 0.0], [0.8129168152809143, 0.005953728221356869, 0.06150961294770241, 0.0008898820960894227, 0.056914594024419785, 0.0006248456775210798, 0.05855468660593033, 0.0016314084641635418, 0.0010044482769444585, 0.0, 0.0, 0.0, 0.0, 0.0, 0.0, 0.0, 0.0, 0.0, 0.0, 0.0, 0.0, 0.0, 0.0, 0.0, 0.0], [0.983472466468811, 0.0028878168668597937, 0.0028164167888462543, 0.0006155659793876112, 0.003595449263229966, 0.0004831563855987042, 0.004057456273585558, 0.0007560068625025451, 0.00042911185300908983, 0.0008865198469720781, 0.0, 0.0, 0.0, 0.0, 0.0, 0.0, 0.0, 0.0, 0.0, 0.0, 0.0, 0.0, 0.0, 0.0, 0.0], [0.980535089969635, 0.005497694481164217, 0.0014184932224452496, 0.0003328151360619813, 0.00040109638939611614, 0.00021533404651563615, 0.0008777697803452611, 0.00020679147564806044, 0.00023060105741024017, 0.0004675986128859222, 0.009816821664571762, 0.0, 0.0, 0.0, 0.0, 0.0, 0.0, 0.0, 0.0, 0.0, 0.0, 0.0, 0.0, 0.0, 0.0], [0.8505634665489197, 0.07388534396886826, 0.02491004951298237, 0.0012346653966233134, 0.014717609621584415, 0.0004952246672473848, 0.020903095602989197, 0.0010253883665427566, 0.0006927364156581461, 0.000816098996438086, 0.005520957056432962, 0.005235373508185148, 0.0, 0.0, 0.0, 0.0, 0.0, 0.0, 0.0, 0.0, 0.0, 0.0, 0.0, 0.0, 0.0], [0.6077778935432434, 0.022802893072366714, 0.09363872557878494, 0.004202316515147686, 0.1506653130054474, 0.0033715269528329372, 0.09786327183246613, 0.00717809097841382, 0.0015969197265803814, 0.0009569436660967767, 0.005206563044339418, 0.003068346995860338, 0.0016712137730792165, 0.0, 0.0, 0.0, 0.0, 0.0, 0.0, 0.0, 0.0, 0.0, 0.0, 0.0, 0.0], [0.8764580488204956, 0.013838977552950382, 0.017242684960365295, 0.003857230069115758, 0.0365477092564106, 0.0022405944764614105, 0.03327864408493042, 0.002359663601964712, 0.002724831225350499, 0.0014049054589122534, 0.0031942962668836117, 0.0027483508456498384, 0.001230885274708271, 0.002873268909752369, 0.0, 0.0, 0.0, 0.0, 0.0, 0.0, 0.0, 0.0, 0.0, 0.0, 0.0], [0.2187540978193283, 0.011610067449510098, 0.17255420982837677, 0.0009431520593352616, 0.42294710874557495, 0.00044383882777765393, 0.16888144612312317, 0.000493222672957927, 8.201107266359031e-05, 0.00014652073150500655, 0.001245461287908256, 0.0002646941284183413, 9.834545198827982e-05, 0.0007927373517304659, 0.0007429967517964542, 0.0, 0.0, 0.0, 0.0, 0.0, 0.0, 0.0, 0.0, 0.0, 0.0], [0.8762423396110535, 0.0223959069699049, 0.020802810788154602, 0.006702927406877279, 0.02030864544212818, 0.0017919172532856464, 0.030218807980418205, 0.0008767576073296368, 0.0005169087089598179, 0.0008916311198845506, 0.000673128932248801, 0.0005239614401943982, 0.0008144270395860076, 0.0002174096298404038, 0.005061186384409666, 0.011961191892623901, 0.0, 0.0, 0.0, 0.0, 0.0, 0.0, 0.0, 0.0, 0.0], [0.7474998235702515, 0.01873977668583393, 0.018468838185071945, 0.0030602263286709785, 0.06491879373788834, 0.0044505479745566845, 0.04031357914209366, 0.007048215717077255, 0.0009703963296487927, 0.00038860022323206067, 0.007178276777267456, 0.007592353038489819, 0.0012294440530240536, 0.004369801376014948, 0.0010255725355818868, 0.014297003857791424, 0.058448806405067444, 0.0, 0.0, 0.0, 0.0, 0.0, 0.0, 0.0, 0.0], [0.21868722140789032, 0.0018449320923537016, 0.1232573390007019, 0.00014999111590441316, 0.4721706807613373, 0.00019406889623496681, 0.10072961449623108, 6.42144659650512e-05, 1.0977913916576654e-05, 4.946026820107363e-05, 0.0005586346378549933, 0.00015545407950412482, 7.198228558991104e-06, 2.875967948057223e-05, 1.7997999748331495e-05, 0.007832038216292858, 0.07415556162595749, 8.584989700466394e-05, 0.0, 0.0, 0.0, 0.0, 0.0, 0.0, 0.0], [0.6151404976844788, 0.012020348571240902, 0.01946279965341091, 0.004752081818878651, 0.08901586383581161, 0.007050562649965286, 0.03906481713056564, 0.020937800407409668, 0.0007272925577126443, 0.0001264173915842548, 0.008560912683606148, 0.007721811067312956, 0.00036713993176817894, 0.004001512657850981, 0.0008317478932440281, 0.00824639480561018, 0.07888354361057281, 0.007384963799268007, 0.07570348680019379, 0.0, 0.0, 0.0, 0.0, 0.0, 0.0], [0.19697648286819458, 0.004302185494452715, 0.12038114666938782, 0.0013952931622043252, 0.41239067912101746, 0.0011443148832768202, 0.13727988302707672, 0.000844233320094645, 0.0002762660733424127, 0.000877726823091507, 0.005100471433252096, 0.0017126869643107057, 8.506904123350978e-05, 0.0013790650991722941, 0.0003746126894839108, 0.02670271508395672, 0.0513869933784008, 0.00017642909369897097, 0.03524084761738777, 0.0019729607738554478, 0.0, 0.0, 0.0, 0.0, 0.0], [0.896481990814209, 0.01042457390576601, 0.005662188865244389, 0.0033481549471616745, 0.013335267081856728, 0.001392363104969263, 0.006412955932319164, 0.0023188453633338213, 0.000904940243344754, 0.00038195180241018534, 0.007782911416143179, 0.002654430689290166, 0.0002912151103373617, 0.005518000572919846, 0.0020945763681083918, 0.0032358872704207897, 0.0062146722339093685, 0.0005526716122403741, 0.0016413041157647967, 0.004215545486658812, 0.025135552510619164, 0.0, 0.0, 0.0, 0.0], [0.9189496636390686, 0.014272714033722878, 0.009725745767354965, 0.0008841013186611235, 0.011660438030958176, 0.0003736821818165481, 0.013158475048840046, 0.0005764759262092412, 0.00045032522757537663, 0.00022003223421052098, 0.0006577838212251663, 0.0007799142622388899, 0.0003770367184188217, 0.0011484891874715686, 0.0012436173856258392, 0.0038700385484844446, 0.0063681891188025475, 0.00010576419299468398, 0.0008168853237293661, 0.000732860469724983, 0.001921929302625358, 0.011705823242664337, 0.0, 0.0, 0.0], [0.8127987384796143, 0.01111103966832161, 0.03543471172451973, 0.0004872240824624896, 0.04622860997915268, 0.00013396976282820106, 0.03489260375499725, 6.6587861510925e-05, 3.2326362997991964e-05, 0.00010365679190726951, 0.0023043048568069935, 0.0005544726736843586, 2.541529647714924e-05, 0.00010811986430780962, 0.0002504023432265967, 0.009331496432423592, 0.022811368107795715, 5.169513315195218e-05, 0.0038867422845214605, 0.00024369137827306986, 0.002088588662445545, 0.016400741413235664, 0.0006534656276926398, 0.0, 0.0], [0.8030685186386108, 0.04727598652243614, 0.009467779658734798, 0.00108159682713449, 0.008633075281977654, 0.0005944951553829014, 0.01528126560151577, 0.0008338784682564437, 0.00038229639176279306, 0.00017403991660103202, 0.0010484474478289485, 0.0021905042231082916, 0.0007628549356013536, 0.0013315222458913922, 0.003450714750215411, 0.023704461753368378, 0.011167038232088089, 0.00011687451478792354, 0.0006044033216312528, 0.0011485392460599542, 0.0022385509219020605, 0.013464702293276787, 0.002405129373073578, 0.04957349970936775, 0.0], [0.02337353304028511, 0.0006014850805513561, 0.1490890085697174, 8.88667709659785e-05, 0.6172617077827454, 6.58089411444962e-05, 0.13967639207839966, 2.576997212599963e-05, 2.625570232339669e-06, 1.6186973880394362e-05, 0.00022442986664827913, 3.932671825168654e-05, 1.7269398995267693e-06, 1.7426078557036817e-05, 4.4687594709102996e-06, 0.005408687982708216, 0.04863376542925835, 6.7808018684445415e-06, 0.012701368890702724, 2.540281457186211e-05, 2.3938498998177238e-05, 0.0002398476208327338, 3.2235650451184483e-06, 0.00235849735327065, 0.00010977422789437696]]], \"attentionHeadNames\": [\"L9H9\", \"L10H0\", \"L9H6\"], \"tokens\": [\"<|endoftext|>\", \"After\", \" John\", \",\", \" Mary\", \" and\", \" Jim\", \" went\", \" to\", \" the\", \" grocery\", \" store\", \" and\", \" return\", \",\", \" \", \" Jim\", \" and\", \" John\", \" gave\", \" a\", \" bottle\", \" of\", \" milk\", \" to\"]}\n",
       "    )\n",
       "    </script></div><div style='max-width: 700px;'><h2>Top 3 Negative Logit Attribution Heads</h2><br/><div id=\"circuits-vis-8105e92e-9045\" style=\"margin: 15px 0;\"/>\n",
       "    <script crossorigin type=\"module\">\n",
       "    import { render, AttentionHeads } from \"https://unpkg.com/circuitsvis@1.43.2/dist/cdn/esm.js\";\n",
       "    render(\n",
       "      \"circuits-vis-8105e92e-9045\",\n",
       "      AttentionHeads,\n",
       "      {\"attention\": [[[1.0, 0.0, 0.0, 0.0, 0.0, 0.0, 0.0, 0.0, 0.0, 0.0, 0.0, 0.0, 0.0, 0.0, 0.0, 0.0, 0.0, 0.0, 0.0, 0.0, 0.0, 0.0, 0.0, 0.0, 0.0], [0.8979308009147644, 0.10206916928291321, 0.0, 0.0, 0.0, 0.0, 0.0, 0.0, 0.0, 0.0, 0.0, 0.0, 0.0, 0.0, 0.0, 0.0, 0.0, 0.0, 0.0, 0.0, 0.0, 0.0, 0.0, 0.0, 0.0], [0.8729650378227234, 0.04218238592147827, 0.0848526880145073, 0.0, 0.0, 0.0, 0.0, 0.0, 0.0, 0.0, 0.0, 0.0, 0.0, 0.0, 0.0, 0.0, 0.0, 0.0, 0.0, 0.0, 0.0, 0.0, 0.0, 0.0, 0.0], [0.3247550427913666, 0.027095647528767586, 0.46381112933158875, 0.18433810770511627, 0.0, 0.0, 0.0, 0.0, 0.0, 0.0, 0.0, 0.0, 0.0, 0.0, 0.0, 0.0, 0.0, 0.0, 0.0, 0.0, 0.0, 0.0, 0.0, 0.0, 0.0], [0.6239738464355469, 0.027887580916285515, 0.10586688667535782, 0.1380114108324051, 0.10426029562950134, 0.0, 0.0, 0.0, 0.0, 0.0, 0.0, 0.0, 0.0, 0.0, 0.0, 0.0, 0.0, 0.0, 0.0, 0.0, 0.0, 0.0, 0.0, 0.0, 0.0], [0.18250590562820435, 0.012433386407792568, 0.29612597823143005, 0.13473808765411377, 0.2847920358181, 0.08940460532903671, 0.0, 0.0, 0.0, 0.0, 0.0, 0.0, 0.0, 0.0, 0.0, 0.0, 0.0, 0.0, 0.0, 0.0, 0.0, 0.0, 0.0, 0.0, 0.0], [0.4079042971134186, 0.020753171294927597, 0.20631179213523865, 0.1096625030040741, 0.09268713742494583, 0.055323630571365356, 0.10735747218132019, 0.0, 0.0, 0.0, 0.0, 0.0, 0.0, 0.0, 0.0, 0.0, 0.0, 0.0, 0.0, 0.0, 0.0, 0.0, 0.0, 0.0, 0.0], [0.8634949922561646, 0.02658367156982422, 0.004181889351457357, 0.05373094603419304, 0.0033986642956733704, 0.022977590560913086, 0.0019379828590899706, 0.023694247007369995, 0.0, 0.0, 0.0, 0.0, 0.0, 0.0, 0.0, 0.0, 0.0, 0.0, 0.0, 0.0, 0.0, 0.0, 0.0, 0.0, 0.0], [0.21002493798732758, 0.025435704737901688, 0.20914462208747864, 0.06592583656311035, 0.14231182634830475, 0.030056167393922806, 0.25567570328712463, 0.03409799560904503, 0.027327202260494232, 0.0, 0.0, 0.0, 0.0, 0.0, 0.0, 0.0, 0.0, 0.0, 0.0, 0.0, 0.0, 0.0, 0.0, 0.0, 0.0], [0.6242587566375732, 0.03304111585021019, 0.036971479654312134, 0.05037368834018707, 0.02257029339671135, 0.05813517048954964, 0.01723746582865715, 0.016345104202628136, 0.06808111071586609, 0.07298588007688522, 0.0, 0.0, 0.0, 0.0, 0.0, 0.0, 0.0, 0.0, 0.0, 0.0, 0.0, 0.0, 0.0, 0.0, 0.0], [0.8173179626464844, 0.016834145411849022, 0.007294452283531427, 0.016665248200297356, 0.001353433821350336, 0.010659032501280308, 0.002090758876875043, 0.019662678241729736, 0.017081502825021744, 0.04296588525176048, 0.04807492345571518, 0.0, 0.0, 0.0, 0.0, 0.0, 0.0, 0.0, 0.0, 0.0, 0.0, 0.0, 0.0, 0.0, 0.0], [0.013134762644767761, 0.009498253464698792, 0.5092244744300842, 0.04143957048654556, 0.07954834401607513, 0.026486773043870926, 0.2923159599304199, 0.006192346569150686, 0.006315675098448992, 0.00944521278142929, 0.0011256136931478977, 0.005272888578474522, 0.0, 0.0, 0.0, 0.0, 0.0, 0.0, 0.0, 0.0, 0.0, 0.0, 0.0, 0.0, 0.0], [0.02448638156056404, 0.006308132316917181, 0.21260438859462738, 0.03829159215092659, 0.29539310932159424, 0.029309770092368126, 0.32937178015708923, 0.016986027359962463, 0.006366746500134468, 0.0012666390975937247, 0.0020915959030389786, 0.003987959586083889, 0.03353586047887802, 0.0, 0.0, 0.0, 0.0, 0.0, 0.0, 0.0, 0.0, 0.0, 0.0, 0.0, 0.0], [0.12164583057165146, 0.014040842652320862, 0.2375398576259613, 0.07869647443294525, 0.1528405249118805, 0.07020308822393417, 0.19281430542469025, 0.01138367597013712, 0.005771238822489977, 0.008204060606658459, 0.008505546487867832, 0.011651581153273582, 0.06199890375137329, 0.02470416948199272, 0.0, 0.0, 0.0, 0.0, 0.0, 0.0, 0.0, 0.0, 0.0, 0.0, 0.0], [0.009860504418611526, 0.0047051748260855675, 0.1098182275891304, 0.021881308406591415, 0.277692973613739, 0.01666022650897503, 0.5371700525283813, 0.0013624511193484068, 0.000997222145088017, 0.0011464495910331607, 0.0001291281805606559, 0.0004758007125928998, 0.006720923352986574, 0.001438612467609346, 0.009940961375832558, 0.0, 0.0, 0.0, 0.0, 0.0, 0.0, 0.0, 0.0, 0.0, 0.0], [0.5480992197990417, 0.03879379853606224, 0.04421796277165413, 0.0906938910484314, 0.04783490300178528, 0.026246286928653717, 0.0860619992017746, 0.006134707015007734, 0.004210872575640678, 0.0053766462951898575, 0.0005852816975675523, 0.0027186053339391947, 0.018584134057164192, 0.0037211854942142963, 0.05012543499469757, 0.026595115661621094, 0.0, 0.0, 0.0, 0.0, 0.0, 0.0, 0.0, 0.0, 0.0], [0.09944356977939606, 0.013377092778682709, 0.03047143667936325, 0.143180713057518, 0.05048716440796852, 0.0496085025370121, 0.15084226429462433, 0.007209631614387035, 0.0017347735119983554, 0.0016205344581976533, 0.0001745218614814803, 0.0008546101744286716, 0.022603783756494522, 0.004292279947549105, 0.039900392293930054, 0.004076844546943903, 0.3801218867301941, 0.0, 0.0, 0.0, 0.0, 0.0, 0.0, 0.0, 0.0], [0.027918310835957527, 0.0026183295994997025, 0.03400165215134621, 0.035097260028123856, 0.5428775548934937, 0.025951411575078964, 0.09954967349767685, 0.0004502817173488438, 0.00045873119961470366, 0.0006965425563976169, 1.6747617337387055e-05, 9.502425382379442e-05, 0.003880780888721347, 0.00032328307861462235, 0.012606809847056866, 0.008013891987502575, 0.1497924029827118, 0.05565136298537254, 0.0, 0.0, 0.0, 0.0, 0.0, 0.0, 0.0], [0.02443874627351761, 0.006924885790795088, 0.03595203906297684, 0.07393909990787506, 0.07048873603343964, 0.0719725638628006, 0.1289987862110138, 0.006617793347686529, 0.0018403632566332817, 0.0013146820710971951, 0.0001693538506515324, 0.0006200318457558751, 0.02589794062077999, 0.002958372002467513, 0.030345873907208443, 0.0032506173010915518, 0.32951807975769043, 0.08550168573856354, 0.09925033152103424, 0.0, 0.0, 0.0, 0.0, 0.0, 0.0], [0.008160312660038471, 0.0027213781140744686, 0.049041997641325, 0.01968781091272831, 0.3097977340221405, 0.019499750807881355, 0.2220924198627472, 0.0006137824384495616, 0.0003931363462470472, 0.0011167554184794426, 0.00016661638801451772, 0.0003574092697817832, 0.004049315582960844, 0.0006995224975980818, 0.010064690373837948, 0.0034478972665965557, 0.25687336921691895, 0.03961455076932907, 0.046402815729379654, 0.00519872922450304, 0.0, 0.0, 0.0, 0.0, 0.0], [0.4187193810939789, 0.020606232807040215, 0.01997317187488079, 0.034077197313308716, 0.011142436414957047, 0.0189152043312788, 0.004577816464006901, 0.012024513445794582, 0.005112856160849333, 0.0029280732851475477, 0.008534019812941551, 0.006682405713945627, 0.009727349504828453, 0.03951761871576309, 0.024062687531113625, 0.03857671841979027, 0.013666626997292042, 0.03189452365040779, 0.007661751471459866, 0.20824389159679413, 0.06335553526878357, 0.0, 0.0, 0.0, 0.0], [0.17161092162132263, 0.024571217596530914, 0.037215691059827805, 0.08429621905088425, 0.01929745264351368, 0.05476302281022072, 0.025539977476000786, 0.01207452081143856, 0.009909619577229023, 0.013175766915082932, 0.0010939933126792312, 0.0023085966240614653, 0.028362883254885674, 0.017667533829808235, 0.05581095442175865, 0.07125335931777954, 0.06100703775882721, 0.06834746152162552, 0.02104335092008114, 0.0876307487487793, 0.10536060482263565, 0.027659131214022636, 0.0, 0.0, 0.0], [0.11506244540214539, 0.01749754138290882, 0.07668539881706238, 0.0409897044301033, 0.1402779072523117, 0.0334828682243824, 0.10262276232242584, 0.0021442980505526066, 0.0034912738483399153, 0.0038818742614239454, 0.0015774248167872429, 0.0009760109824128449, 0.007458328269422054, 0.0009567034430801868, 0.023296091705560684, 0.030993059277534485, 0.11869315057992935, 0.07747727632522583, 0.03570973500609398, 0.027577105909585953, 0.010216635651886463, 0.04838443174958229, 0.08054795861244202, 0.0, 0.0], [0.13818028569221497, 0.020472008734941483, 0.07548537105321884, 0.044367533177137375, 0.01888756826519966, 0.03200489282608032, 0.03176932781934738, 0.00940644834190607, 0.007326007355004549, 0.007118696812540293, 0.0014220221200957894, 0.003046893747523427, 0.02163245715200901, 0.012204109691083431, 0.05660327896475792, 0.10820860415697098, 0.07730758190155029, 0.06163368374109268, 0.03093598783016205, 0.043348558247089386, 0.04563925415277481, 0.03815273568034172, 0.0755264163017273, 0.03932025656104088, 0.0], [0.0031587870325893164, 0.0014398788334801793, 0.028277933597564697, 0.02001572586596012, 0.46785247325897217, 0.013167577795684338, 0.18137703835964203, 0.00012189380504423752, 9.376535308547318e-05, 0.0002708638785406947, 9.251933988707606e-06, 4.052196891279891e-05, 0.001041472190991044, 9.312834299635142e-05, 0.005364934913814068, 0.0029330304823815823, 0.21146851778030396, 0.030593499541282654, 0.023411046713590622, 0.0013848076341673732, 8.847427670843899e-05, 2.7713418603525497e-05, 0.0002526382450014353, 0.00030088084167800844, 0.007214163895696402]], [[1.0, 0.0, 0.0, 0.0, 0.0, 0.0, 0.0, 0.0, 0.0, 0.0, 0.0, 0.0, 0.0, 0.0, 0.0, 0.0, 0.0, 0.0, 0.0, 0.0, 0.0, 0.0, 0.0, 0.0, 0.0], [0.9374700784683228, 0.06252991408109665, 0.0, 0.0, 0.0, 0.0, 0.0, 0.0, 0.0, 0.0, 0.0, 0.0, 0.0, 0.0, 0.0, 0.0, 0.0, 0.0, 0.0, 0.0, 0.0, 0.0, 0.0, 0.0, 0.0], [0.9412386417388916, 0.020480560138821602, 0.03828079625964165, 0.0, 0.0, 0.0, 0.0, 0.0, 0.0, 0.0, 0.0, 0.0, 0.0, 0.0, 0.0, 0.0, 0.0, 0.0, 0.0, 0.0, 0.0, 0.0, 0.0, 0.0, 0.0], [0.811972439289093, 0.036437273025512695, 0.07202401012182236, 0.07956631481647491, 0.0, 0.0, 0.0, 0.0, 0.0, 0.0, 0.0, 0.0, 0.0, 0.0, 0.0, 0.0, 0.0, 0.0, 0.0, 0.0, 0.0, 0.0, 0.0, 0.0, 0.0], [0.8230701684951782, 0.0233079232275486, 0.034882523119449615, 0.062272343784570694, 0.056467048823833466, 0.0, 0.0, 0.0, 0.0, 0.0, 0.0, 0.0, 0.0, 0.0, 0.0, 0.0, 0.0, 0.0, 0.0, 0.0, 0.0, 0.0, 0.0, 0.0, 0.0], [0.6690689325332642, 0.018453678116202354, 0.07722410559654236, 0.059577297419309616, 0.10875505208969116, 0.06692096590995789, 0.0, 0.0, 0.0, 0.0, 0.0, 0.0, 0.0, 0.0, 0.0, 0.0, 0.0, 0.0, 0.0, 0.0, 0.0, 0.0, 0.0, 0.0, 0.0], [0.7433889508247375, 0.027123330160975456, 0.04980657622218132, 0.03356648236513138, 0.10002294182777405, 0.006768607068806887, 0.039323046803474426, 0.0, 0.0, 0.0, 0.0, 0.0, 0.0, 0.0, 0.0, 0.0, 0.0, 0.0, 0.0, 0.0, 0.0, 0.0, 0.0, 0.0, 0.0], [0.8600085973739624, 0.030501333996653557, 0.01953382045030594, 0.015336355194449425, 0.055500127375125885, 0.0046673184260725975, 0.009481500834226608, 0.0049709053710103035, 0.0, 0.0, 0.0, 0.0, 0.0, 0.0, 0.0, 0.0, 0.0, 0.0, 0.0, 0.0, 0.0, 0.0, 0.0, 0.0, 0.0], [0.8001765608787537, 0.03157429397106171, 0.04645055904984474, 0.023438572883605957, 0.046958837658166885, 0.008848893456161022, 0.030732683837413788, 0.0027970445808023214, 0.009022627025842667, 0.0, 0.0, 0.0, 0.0, 0.0, 0.0, 0.0, 0.0, 0.0, 0.0, 0.0, 0.0, 0.0, 0.0, 0.0, 0.0], [0.8600288033485413, 0.029583318158984184, 0.016742879524827003, 0.016970017924904823, 0.016665397211909294, 0.00644534220919013, 0.010682911612093449, 0.0019518891349434853, 0.01134524680674076, 0.029584171250462532, 0.0, 0.0, 0.0, 0.0, 0.0, 0.0, 0.0, 0.0, 0.0, 0.0, 0.0, 0.0, 0.0, 0.0, 0.0], [0.9080935716629028, 0.027304047718644142, 0.008151245303452015, 0.013678629882633686, 0.014774033799767494, 0.003305710619315505, 0.005401805508881807, 0.0029278455767780542, 0.002749817678704858, 0.002439154777675867, 0.011174056679010391, 0.0, 0.0, 0.0, 0.0, 0.0, 0.0, 0.0, 0.0, 0.0, 0.0, 0.0, 0.0, 0.0, 0.0], [0.30050140619277954, 0.052370037883520126, 0.1197127252817154, 0.03901302069425583, 0.33557432889938354, 0.010525117628276348, 0.11348053067922592, 0.002379746176302433, 0.0030427593737840652, 0.0029460862278938293, 0.004884414840489626, 0.015569896437227726, 0.0, 0.0, 0.0, 0.0, 0.0, 0.0, 0.0, 0.0, 0.0, 0.0, 0.0, 0.0, 0.0], [0.5185335278511047, 0.034104760736227036, 0.10116022080183029, 0.025301821529865265, 0.16330192983150482, 0.013479121029376984, 0.10285360366106033, 0.0041874065063893795, 0.0030699260532855988, 0.003845102386549115, 0.011895985342562199, 0.008487734943628311, 0.009778901003301144, 0.0, 0.0, 0.0, 0.0, 0.0, 0.0, 0.0, 0.0, 0.0, 0.0, 0.0, 0.0], [0.5653917789459229, 0.029821712523698807, 0.07020872831344604, 0.03047310933470726, 0.18440453708171844, 0.00879975501447916, 0.057565901428461075, 0.0036982286255806684, 0.001965864561498165, 0.0025935235898941755, 0.022306906059384346, 0.011671901680529118, 0.00688164122402668, 0.004216318018734455, 0.0, 0.0, 0.0, 0.0, 0.0, 0.0, 0.0, 0.0, 0.0, 0.0, 0.0], [0.681826651096344, 0.027075279504060745, 0.053727105259895325, 0.02183840237557888, 0.10763297975063324, 0.0124796312302351, 0.042634543031454086, 0.001713744830340147, 0.0020709566306322813, 0.00285061402246356, 0.011313657276332378, 0.006642312742769718, 0.005795387551188469, 0.0021993224509060383, 0.02019946649670601, 0.0, 0.0, 0.0, 0.0, 0.0, 0.0, 0.0, 0.0, 0.0, 0.0], [0.7429198622703552, 0.03046097420156002, 0.03423955664038658, 0.0156412310898304, 0.051879338920116425, 0.006736528128385544, 0.018687384203076363, 0.0014756531454622746, 0.0010733924573287368, 0.0009778633248060942, 0.0018164529465138912, 0.0015705629484727979, 0.002058063866570592, 0.000580238935071975, 0.010249282233417034, 0.07963362336158752, 0.0, 0.0, 0.0, 0.0, 0.0, 0.0, 0.0, 0.0, 0.0], [0.46643248200416565, 0.019244983792304993, 0.04093708470463753, 0.01470956951379776, 0.12872633337974548, 0.004583684727549553, 0.02236223965883255, 0.0044028074480593204, 0.0007551861344836652, 0.0008594622486270964, 0.018183309584856033, 0.010181277059018612, 0.0022791416849941015, 0.003918136470019817, 0.01129208318889141, 0.19118274748325348, 0.05994945764541626, 0.0, 0.0, 0.0, 0.0, 0.0, 0.0, 0.0, 0.0], [0.6564584970474243, 0.012221988290548325, 0.03465103358030319, 0.015580030158162117, 0.12176332622766495, 0.011614013463258743, 0.029355879873037338, 0.000901959661860019, 0.0009917857823893428, 0.0010988825233653188, 0.004045466892421246, 0.0021209451369941235, 0.0019861487671732903, 0.0011566049652174115, 0.009650920517742634, 0.06491680443286896, 0.01987791620194912, 0.01160773541778326, 0.0, 0.0, 0.0, 0.0, 0.0, 0.0, 0.0], [0.4899100363254547, 0.020098688080906868, 0.021668143570423126, 0.02075071819126606, 0.07680179923772812, 0.008967796340584755, 0.01567034237086773, 0.0034165435936301947, 0.0008550112252123654, 0.0009213374578393996, 0.009950359351933002, 0.009527799673378468, 0.0028822387102991343, 0.004170007072389126, 0.013800112530589104, 0.19626392424106598, 0.041965264827013016, 0.015663044527173042, 0.0467168428003788, 0.0, 0.0, 0.0, 0.0, 0.0, 0.0], [0.5190324187278748, 0.022445477545261383, 0.049833618104457855, 0.01662568561732769, 0.12758710980415344, 0.012047982774674892, 0.03755005821585655, 0.0014146615285426378, 0.002282315632328391, 0.00449034571647644, 0.013779109343886375, 0.005672618746757507, 0.003738617757335305, 0.002402407582849264, 0.016221793368458748, 0.08690281957387924, 0.02599192224442959, 0.013247501105070114, 0.02211935818195343, 0.016614148393273354, 0.0, 0.0, 0.0, 0.0, 0.0], [0.6294369697570801, 0.016575375571846962, 0.03421037644147873, 0.009474938735365868, 0.053971316665410995, 0.005799676291644573, 0.020926758646965027, 0.0039643701165914536, 0.004389886744320393, 0.005296030081808567, 0.0494685061275959, 0.018151484429836273, 0.002560707274824381, 0.008307402953505516, 0.009467852301895618, 0.061709653586149216, 0.01666194573044777, 0.006023897789418697, 0.016559531912207603, 0.02167646400630474, 0.005366880912333727, 0.0, 0.0, 0.0, 0.0], [0.4257907271385193, 0.016471408307552338, 0.05405299738049507, 0.020297378301620483, 0.07051390409469604, 0.008630003780126572, 0.05199470371007919, 0.004127818159759045, 0.0015458547277376056, 0.0011711372062563896, 0.0071099549531936646, 0.0045014857314527035, 0.004521636757999659, 0.007337859831750393, 0.014907277189195156, 0.14376895129680634, 0.0539998784661293, 0.009283969178795815, 0.039873745292425156, 0.027552058920264244, 0.004707173444330692, 0.027840103954076767, 0.0, 0.0, 0.0], [0.6010223031044006, 0.014279868453741074, 0.05193397402763367, 0.010075495578348637, 0.06534278392791748, 0.005271474830806255, 0.040465567260980606, 0.000708914187271148, 0.0013748506316915154, 0.002816913416609168, 0.02195112220942974, 0.0027044792659580708, 0.0019219372188672423, 0.0007452163263224065, 0.0076647293753921986, 0.06699596345424652, 0.01730521209537983, 0.004798654932528734, 0.013061173260211945, 0.005538762081414461, 0.0019634959753602743, 0.03708964213728905, 0.024967538192868233, 0.0, 0.0], [0.35585135221481323, 0.0273470189422369, 0.06511193513870239, 0.01649712584912777, 0.0850084125995636, 0.008509046398103237, 0.06650802493095398, 0.002191212959587574, 0.001885587815195322, 0.0013408286031335592, 0.006351508665829897, 0.005340087227523327, 0.003640740877017379, 0.004198831971734762, 0.01701330952346325, 0.12837672233581543, 0.0607210248708725, 0.008004747331142426, 0.023562677204608917, 0.009161091409623623, 0.0028015500865876675, 0.032993581146001816, 0.015145054087042809, 0.05243851989507675, 0.0], [0.4631921350955963, 0.017242979258298874, 0.03954806923866272, 0.019181737676262856, 0.11644135415554047, 0.01103231217712164, 0.03986261785030365, 0.0009792385390028358, 0.0010462079662829638, 0.0016584486002102494, 0.003579160198569298, 0.0020001514349132776, 0.0023129333276301622, 0.001160009647719562, 0.010503720492124557, 0.1350744515657425, 0.030448783189058304, 0.010852578096091747, 0.022128861397504807, 0.011947673745453358, 0.0008890244062058628, 0.0046109771355986595, 0.0003746530564967543, 0.01979803666472435, 0.034133896231651306]], [[1.0, 0.0, 0.0, 0.0, 0.0, 0.0, 0.0, 0.0, 0.0, 0.0, 0.0, 0.0, 0.0, 0.0, 0.0, 0.0, 0.0, 0.0, 0.0, 0.0, 0.0, 0.0, 0.0, 0.0, 0.0], [0.9404988288879395, 0.05950121581554413, 0.0, 0.0, 0.0, 0.0, 0.0, 0.0, 0.0, 0.0, 0.0, 0.0, 0.0, 0.0, 0.0, 0.0, 0.0, 0.0, 0.0, 0.0, 0.0, 0.0, 0.0, 0.0, 0.0], [0.9067906737327576, 0.007377409376204014, 0.0858319029211998, 0.0, 0.0, 0.0, 0.0, 0.0, 0.0, 0.0, 0.0, 0.0, 0.0, 0.0, 0.0, 0.0, 0.0, 0.0, 0.0, 0.0, 0.0, 0.0, 0.0, 0.0, 0.0], [0.566180944442749, 0.01822124421596527, 0.24611042439937592, 0.16948743164539337, 0.0, 0.0, 0.0, 0.0, 0.0, 0.0, 0.0, 0.0, 0.0, 0.0, 0.0, 0.0, 0.0, 0.0, 0.0, 0.0, 0.0, 0.0, 0.0, 0.0, 0.0], [0.7234638333320618, 0.01165748294442892, 0.046748336404561996, 0.08578110486268997, 0.1323491632938385, 0.0, 0.0, 0.0, 0.0, 0.0, 0.0, 0.0, 0.0, 0.0, 0.0, 0.0, 0.0, 0.0, 0.0, 0.0, 0.0, 0.0, 0.0, 0.0, 0.0], [0.351190984249115, 0.006437838543206453, 0.14148211479187012, 0.044776756316423416, 0.4253618121147156, 0.030750490725040436, 0.0, 0.0, 0.0, 0.0, 0.0, 0.0, 0.0, 0.0, 0.0, 0.0, 0.0, 0.0, 0.0, 0.0, 0.0, 0.0, 0.0, 0.0, 0.0], [0.6839714050292969, 0.016454007476568222, 0.08618103712797165, 0.08106842637062073, 0.03978779539465904, 0.043210502713918686, 0.049326758831739426, 0.0, 0.0, 0.0, 0.0, 0.0, 0.0, 0.0, 0.0, 0.0, 0.0, 0.0, 0.0, 0.0, 0.0, 0.0, 0.0, 0.0, 0.0], [0.8951897025108337, 0.019959764555096626, 0.0037378568667918444, 0.025453947484493256, 0.0014014998450875282, 0.015526888892054558, 0.0005915003130212426, 0.03813891112804413, 0.0, 0.0, 0.0, 0.0, 0.0, 0.0, 0.0, 0.0, 0.0, 0.0, 0.0, 0.0, 0.0, 0.0, 0.0, 0.0, 0.0], [0.41483941674232483, 0.011509804986417294, 0.1268705129623413, 0.059086136519908905, 0.11699678003787994, 0.04161515086889267, 0.14468932151794434, 0.028544101864099503, 0.05584879592061043, 0.0, 0.0, 0.0, 0.0, 0.0, 0.0, 0.0, 0.0, 0.0, 0.0, 0.0, 0.0, 0.0, 0.0, 0.0, 0.0], [0.6998870372772217, 0.016260582953691483, 0.02236415445804596, 0.05865607410669327, 0.021329089999198914, 0.05837438628077507, 0.013686208985745907, 0.01027075294405222, 0.05934212729334831, 0.039829567074775696, 0.0, 0.0, 0.0, 0.0, 0.0, 0.0, 0.0, 0.0, 0.0, 0.0, 0.0, 0.0, 0.0, 0.0, 0.0], [0.9397880434989929, 0.007674774620682001, 0.0014298480236902833, 0.008362713269889355, 0.0005257460870780051, 0.005683272611349821, 0.0005806307308375835, 0.0021895531099289656, 0.006544142961502075, 0.006019516848027706, 0.021201753988862038, 0.0, 0.0, 0.0, 0.0, 0.0, 0.0, 0.0, 0.0, 0.0, 0.0, 0.0, 0.0, 0.0, 0.0], [0.3514222502708435, 0.22236308455467224, 0.076483815908432, 0.10712563991546631, 0.04139436408877373, 0.05140608549118042, 0.04105177894234657, 0.02816082537174225, 0.03794937580823898, 0.018214818090200424, 0.004492436069995165, 0.019935570657253265, 0.0, 0.0, 0.0, 0.0, 0.0, 0.0, 0.0, 0.0, 0.0, 0.0, 0.0, 0.0, 0.0], [0.46100300550460815, 0.02008208818733692, 0.08947224169969559, 0.08134765177965164, 0.043814048171043396, 0.04453415051102638, 0.06461042910814285, 0.06711297482252121, 0.06453505158424377, 0.015896324068307877, 0.0024053878150880337, 0.009943804703652859, 0.035242773592472076, 0.0, 0.0, 0.0, 0.0, 0.0, 0.0, 0.0, 0.0, 0.0, 0.0, 0.0, 0.0], [0.6592568159103394, 0.01916823908686638, 0.053845085203647614, 0.0250877495855093, 0.07979528605937958, 0.024574067443609238, 0.01988346502184868, 0.01378351915627718, 0.02744736708700657, 0.007673322688788176, 0.004957587458193302, 0.016713496297597885, 0.028450006619095802, 0.019363930448889732, 0.0, 0.0, 0.0, 0.0, 0.0, 0.0, 0.0, 0.0, 0.0, 0.0, 0.0], [0.05418888479471207, 0.006147416308522224, 0.3371485769748688, 0.029025107622146606, 0.3774246871471405, 0.02304433472454548, 0.12568578124046326, 0.0034805687610059977, 0.006539489608258009, 0.003251972608268261, 0.00020384926756378263, 0.00039786301204003394, 0.005037378054112196, 0.0024752221070230007, 0.02594889886677265, 0.0, 0.0, 0.0, 0.0, 0.0, 0.0, 0.0, 0.0, 0.0, 0.0], [0.8408015370368958, 0.006852366495877504, 0.01987084001302719, 0.01329293567687273, 0.007446410600095987, 0.007433145307004452, 0.005548694636672735, 0.001042281510308385, 0.0020072096958756447, 0.0009503340697847307, 9.145903459284455e-05, 0.000315714132739231, 0.0026137216482311487, 0.0008634935948066413, 0.01198592409491539, 0.07888387888669968, 0.0, 0.0, 0.0, 0.0, 0.0, 0.0, 0.0, 0.0, 0.0], [0.37455883622169495, 0.025519786402583122, 0.03648802265524864, 0.14768171310424805, 0.007183015812188387, 0.062163885682821274, 0.04527129605412483, 0.03253449127078056, 0.0227322019636631, 0.004236621782183647, 4.583924601320177e-05, 0.00046603931696154177, 0.019046876579523087, 0.006076768506318331, 0.059278760105371475, 0.0726306363940239, 0.0840851366519928, 0.0, 0.0, 0.0, 0.0, 0.0, 0.0, 0.0, 0.0], [0.11439833790063858, 0.004839516244828701, 0.12456225603818893, 0.04070614278316498, 0.3881063759326935, 0.01698143221437931, 0.044882338494062424, 0.0006298852385953069, 0.0035934268962591887, 0.004135568626224995, 3.742954504559748e-05, 0.00011978412658208981, 0.002967987209558487, 0.00024753506295382977, 0.024070756509900093, 0.011281217448413372, 0.1983804851770401, 0.02005947008728981, 0.0, 0.0, 0.0, 0.0, 0.0, 0.0, 0.0], [0.1890055537223816, 0.0212111696600914, 0.05299964174628258, 0.24515625834465027, 0.012762660160660744, 0.07928414642810822, 0.006180647294968367, 0.04367366433143616, 0.029069168493151665, 0.003982091788202524, 1.949256329680793e-05, 9.507543290965259e-05, 0.011913858354091644, 0.004059283994138241, 0.07155589759349823, 0.0497727207839489, 0.0190478153526783, 0.11934706568717957, 0.040863871574401855, 0.0, 0.0, 0.0, 0.0, 0.0, 0.0], [0.11043662577867508, 0.00735945301130414, 0.18130652606487274, 0.03583729639649391, 0.15792161226272583, 0.030846158042550087, 0.08294326066970825, 0.006926388945430517, 0.014295471832156181, 0.006679624319076538, 0.00047724603791721165, 0.0013910576235502958, 0.011351853609085083, 0.00581948459148407, 0.04276030883193016, 0.04120844230055809, 0.0942203551530838, 0.02824140153825283, 0.10798816382884979, 0.03198930621147156, 0.0, 0.0, 0.0, 0.0, 0.0], [0.5705823302268982, 0.010926091112196445, 0.015718065202236176, 0.025976061820983887, 0.0035048064310103655, 0.021969059482216835, 0.005139692220836878, 0.007654573768377304, 0.030039437115192413, 0.011883636936545372, 0.003124452428892255, 0.009305000305175781, 0.023016834631562233, 0.0170612595975399, 0.04053330048918724, 0.04750910401344299, 0.004024249501526356, 0.024880794808268547, 0.003989750519394875, 0.07294953614473343, 0.05021199956536293, 0.0, 0.0, 0.0, 0.0], [0.6128436326980591, 0.011117110028862953, 0.009161794558167458, 0.019922776147723198, 0.006203213706612587, 0.019753169268369675, 0.004632613155990839, 0.004040224477648735, 0.012108870781958103, 0.004260961432009935, 0.0010717931436374784, 0.004326990805566311, 0.015946339815855026, 0.009729765355587006, 0.034128155559301376, 0.04474491626024246, 0.006027631927281618, 0.023062018677592278, 0.0027549415826797485, 0.07298070937395096, 0.01896791346371174, 0.06221450865268707, 0.0, 0.0, 0.0], [0.5102652311325073, 0.004160542506724596, 0.028429578989744186, 0.03022964671254158, 0.0421530045568943, 0.02328488416969776, 0.018446004018187523, 0.00079589948290959, 0.005940354894846678, 0.005966850556433201, 0.000887205358594656, 0.0014872777974233031, 0.008498153649270535, 0.0003140037297271192, 0.025852588936686516, 0.03962229564785957, 0.0160366203635931, 0.019755231216549873, 0.008052533492445946, 0.007270578294992447, 0.015361176803708076, 0.03624069318175316, 0.15094970166683197, 0.0, 0.0], [0.4556232988834381, 0.013557068072259426, 0.010556470602750778, 0.015361557714641094, 0.010231326334178448, 0.015798550099134445, 0.007439888548105955, 0.004000959452241659, 0.008997045457363129, 0.0029127979651093483, 0.0014515251386910677, 0.0032366844825446606, 0.015307901427149773, 0.006243131589144468, 0.03266085311770439, 0.06876999884843826, 0.009890020824968815, 0.021192517131567, 0.0032297344878315926, 0.06947717070579529, 0.016841290518641472, 0.04147043451666832, 0.0759272575378418, 0.08982247114181519, 0.0], [0.01992184855043888, 0.0025683261919766665, 0.0728687196969986, 0.02790754847228527, 0.5867248773574829, 0.018355704843997955, 0.03444639593362808, 0.00027877255342900753, 0.0017758950125426054, 0.002268975367769599, 8.754574992053676e-06, 4.8791818699100986e-05, 0.0013232752680778503, 8.513267675880343e-05, 0.01157346460968256, 0.0034236612264066935, 0.07898532599210739, 0.014176384545862675, 0.09773410856723785, 0.0014748600078746676, 0.003406053874641657, 2.167669117625337e-05, 0.0009949359809979796, 0.0004637344682123512, 0.01916278712451458]]], \"attentionHeadNames\": [\"L11H10\", \"L11H2\", \"L10H7\"], \"tokens\": [\"<|endoftext|>\", \"After\", \" John\", \",\", \" Mary\", \" and\", \" Jim\", \" went\", \" to\", \" the\", \" grocery\", \" store\", \" and\", \" return\", \",\", \" \", \" Jim\", \" and\", \" John\", \" gave\", \" a\", \" bottle\", \" of\", \" milk\", \" to\"]}\n",
       "    )\n",
       "    </script></div>"
      ],
      "text/plain": [
       "<IPython.core.display.HTML object>"
      ]
     },
     "execution_count": 107,
     "metadata": {},
     "output_type": "execute_result"
    }
   ],
   "source": [
    "top_k = 3\n",
    "\n",
    "top_positive_logit_attr_heads = torch.topk(\n",
    "    per_head_logit_diffs.flatten(), k=top_k\n",
    ").indices\n",
    "\n",
    "positive_html = visualize_attention_patterns(\n",
    "    top_positive_logit_attr_heads,\n",
    "    cache,\n",
    "    tokens[0],\n",
    "    f\"Top {top_k} Positive Logit Attribution Heads\",\n",
    ")\n",
    "\n",
    "top_negative_logit_attr_heads = torch.topk(\n",
    "    -per_head_logit_diffs.flatten(), k=top_k\n",
    ").indices\n",
    "\n",
    "negative_html = visualize_attention_patterns(\n",
    "    top_negative_logit_attr_heads,\n",
    "    cache,\n",
    "    tokens[0],\n",
    "    title=f\"Top {top_k} Negative Logit Attribution Heads\",\n",
    ")\n",
    "\n",
    "HTML(positive_html + negative_html)"
   ]
  },
  {
   "cell_type": "code",
   "execution_count": 133,
   "metadata": {},
   "outputs": [
    {
     "name": "stdout",
     "output_type": "stream",
     "text": [
      "Corrupted Average Logit Diff: 0.14\n",
      "Clean Average Logit Diff: 2.23\n"
     ]
    }
   ],
   "source": [
    "corrupted_prompts = []\n",
    "for i in range(0, len(prompts), 3):\n",
    "    # Add second prompt in the trio first\n",
    "    corrupted_prompts.append(prompts[(i + 1) % len(prompts)])\n",
    "    # Then add the first prompt\n",
    "    corrupted_prompts.append(prompts[i % len(prompts)])\n",
    "    # Finally, add the third prompt, wrapping around the list safely\n",
    "    corrupted_prompts.append(prompts[(i + 2) % len(prompts)])\n",
    "    \n",
    "\n",
    "# Proceed with tokenization and model running as before\n",
    "corrupted_tokens = model.to_tokens(corrupted_prompts, prepend_bos=True)\n",
    "corrupted_logits, corrupted_cache = model.run_with_cache(corrupted_tokens, return_type=\"logits\")\n",
    "corrupted_average_logit_diff = logits_to_ave_logit_diff(corrupted_logits, answer_tokens)\n",
    "print(\"Corrupted Average Logit Diff:\", round(corrupted_average_logit_diff.item(), 2))\n",
    "print(\"Clean Average Logit Diff:\", round(original_average_logit_diff.item(), 2))"
   ]
  },
  {
   "cell_type": "code",
   "execution_count": 134,
   "metadata": {},
   "outputs": [
    {
     "data": {
      "text/plain": [
       "['<|endoftext|>After John, Mary and Jim went to the grocery store and return,  Mary and Jim gave a bottle of milk to',\n",
       " '<|endoftext|>After John, Mary and Jim went to the grocery store and return,  Jim and John gave a bottle of milk to',\n",
       " '<|endoftext|>After John, Mary and Jim went to the grocery store and return,  John and Mary gave a bottle of milk to',\n",
       " '<|endoftext|>During the picnic, Billy, Jack, and Ted shared a blanket.  Billy and Ted passed a frisbee to',\n",
       " '<|endoftext|>During the picnic, Billy, Jack, and Ted shared a blanket.  Ted and Jack passed a frisbee to',\n",
       " '<|endoftext|>During the picnic, Billy, Jack, and Ted shared a blanket.  Jack and Billy passed a frisbee to',\n",
       " '<|endoftext|>After Sarah, Tom, and Alex went to the bookstore in the downtown,  Sara and Alex bought a new novel for',\n",
       " '<|endoftext|>After Sarah, Tom, and Alex went to the bookstore in the downtown,  Alex and Tom bought a new novel for',\n",
       " '<|endoftext|>After Sarah, Tom, and Alex went to the bookstore in the downtown,  Tom and Sara bought a new novel for',\n",
       " '<|endoftext|>Anna, Liam, and Noah decided to buy a cake for someone.  Anna and Noah chose a cake to give to',\n",
       " '<|endoftext|>Anna, Liam, and Noah decided to buy a cake for someone.  Noah and Liam chose a cake to give to',\n",
       " '<|endoftext|>Anna, Liam, and Noah decided to buy a cake for someone.  Liam and Anna chose a cake to give to']"
      ]
     },
     "execution_count": 134,
     "metadata": {},
     "output_type": "execute_result"
    }
   ],
   "source": [
    "model.to_string(corrupted_tokens)"
   ]
  },
  {
   "cell_type": "code",
   "execution_count": 135,
   "metadata": {},
   "outputs": [],
   "source": [
    "def patch_residual_component(\n",
    "    corrupted_residual_component: Float[torch.Tensor, \"batch pos d_model\"],\n",
    "    hook,\n",
    "    pos,\n",
    "    clean_cache,\n",
    "):\n",
    "    corrupted_residual_component[:, pos, :] = clean_cache[hook.name][:, pos, :]\n",
    "    return corrupted_residual_component\n",
    "\n",
    "\n",
    "def normalize_patched_logit_diff(patched_logit_diff):\n",
    "    # Subtract corrupted logit diff to measure the improvement, divide by the total improvement from clean to corrupted to normalise\n",
    "    # 0 means zero change, negative means actively made worse, 1 means totally recovered clean performance, >1 means actively *improved* on clean performance\n",
    "    return (patched_logit_diff - corrupted_average_logit_diff) / (\n",
    "        original_average_logit_diff - corrupted_average_logit_diff\n",
    "    )\n",
    "\n",
    "\n",
    "patched_residual_stream_diff = torch.zeros(\n",
    "    model.cfg.n_layers, tokens.shape[1], device=device, dtype=torch.float32\n",
    ")\n",
    "for layer in range(model.cfg.n_layers):\n",
    "    for position in range(tokens.shape[1]):\n",
    "        hook_fn = partial(patch_residual_component, pos=position, clean_cache=cache)\n",
    "        patched_logits = model.run_with_hooks(\n",
    "            corrupted_tokens,\n",
    "            fwd_hooks=[(utils.get_act_name(\"resid_pre\", layer), hook_fn)],\n",
    "            return_type=\"logits\",\n",
    "        )\n",
    "        patched_logit_diff = logits_to_ave_logit_diff(patched_logits, answer_tokens)\n",
    "\n",
    "        patched_residual_stream_diff[layer, position] = normalize_patched_logit_diff(\n",
    "            patched_logit_diff\n",
    "        )"
   ]
  },
  {
   "cell_type": "code",
   "execution_count": 136,
   "metadata": {},
   "outputs": [
    {
     "data": {
      "application/vnd.plotly.v1+json": {
       "config": {
        "plotlyServerURL": "https://plot.ly"
       },
       "data": [
        {
         "coloraxis": "coloraxis",
         "hovertemplate": "Position: %{x}<br>Layer: %{y}<br>color: %{z}<extra></extra>",
         "name": "0",
         "type": "heatmap",
         "x": [
          "<|endoftext|>_0",
          "After_1",
          " John_2",
          ",_3",
          " Mary_4",
          " and_5",
          " Jim_6",
          " went_7",
          " to_8",
          " the_9",
          " grocery_10",
          " store_11",
          " and_12",
          " return_13",
          ",_14",
          " _15",
          " Jim_16",
          " and_17",
          " John_18",
          " gave_19",
          " a_20",
          " bottle_21",
          " of_22",
          " milk_23",
          " to_24"
         ],
         "xaxis": "x",
         "yaxis": "y",
         "z": [
          [
           0,
           0,
           0,
           0,
           0,
           0,
           0,
           0,
           0,
           0,
           0,
           0,
           0,
           0,
           0,
           0,
           1.0507057905197144,
           -0.3672848343849182,
           -0.018772758543491364,
           -0.014716530218720436,
           0,
           0,
           0,
           0,
           0
          ],
          [
           0,
           0,
           0,
           0,
           0,
           0,
           0,
           0,
           0,
           0,
           0,
           0,
           0,
           0,
           0,
           0,
           1.032220482826233,
           -0.37286651134490967,
           0.009338384494185448,
           -0.005928853061050177,
           -0.0006009693024680018,
           0.0004322501190472394,
           -0.00018977338913828135,
           -0.0015602384228259325,
           0.00026216014521196485
          ],
          [
           0,
           0,
           0,
           0,
           0,
           0,
           0,
           0,
           0,
           0,
           0,
           0,
           0,
           0,
           0,
           0,
           1.0495895147323608,
           -0.3658182621002197,
           -0.006135611329227686,
           -0.00920785404741764,
           -0.0008099692058749497,
           0.0007157357758842409,
           0.000043907541112275794,
           -0.0015750884776934981,
           -0.0003518671728670597
          ],
          [
           0,
           0,
           0,
           0,
           0,
           0,
           0,
           0,
           0,
           0,
           0,
           0,
           0,
           0,
           0,
           0,
           1.0641448497772217,
           -0.3664410412311554,
           -0.005218186415731907,
           0.0001948780845850706,
           -0.0010262869764119387,
           0.00006519020098494366,
           0.000546481111086905,
           -0.000927362940274179,
           -0.0027758132200688124
          ],
          [
           0,
           0,
           0,
           0,
           0,
           0,
           0,
           0,
           0,
           0,
           0,
           0,
           0,
           0,
           0,
           0,
           1.1653976440429688,
           -0.4235265851020813,
           -0.058267634361982346,
           0.002738574054092169,
           -0.001111810328438878,
           -0.00039755957550369203,
           0.0007619992829859257,
           0.0005663572810590267,
           -0.0031373901292681694
          ],
          [
           0,
           0,
           0,
           0,
           0,
           0,
           0,
           0,
           0,
           0,
           0,
           0,
           0,
           0,
           0,
           0,
           1.191404938697815,
           -0.584420382976532,
           -0.09939167648553848,
           0.015786267817020416,
           -0.00036641021142713726,
           -0.000448585138656199,
           0.0006537440349347889,
           -0.0013486112002283335,
           -0.004999733995646238
          ],
          [
           0,
           0,
           0,
           0,
           0,
           0,
           0,
           0,
           0,
           0,
           0,
           0,
           0,
           0,
           0,
           0,
           1.2341521978378296,
           -0.37165552377700806,
           -0.17036877572536469,
           0.0335673950612545,
           -0.0006764331483282149,
           -0.00022933301806915551,
           0.0005393630708567798,
           -0.0002735047019086778,
           -0.002130101202055812
          ],
          [
           0,
           0,
           0,
           0,
           0,
           0,
           0,
           0,
           0,
           0,
           0,
           0,
           0,
           0,
           0,
           0,
           1.1923283338546753,
           -0.34579232335090637,
           -0.09835498780012131,
           0.04008682072162628,
           -0.0029111341573297977,
           -0.001280029769986868,
           -0.0007003074279054999,
           -0.0014308147365227342,
           0.014799125492572784
          ],
          [
           0,
           0,
           0,
           0,
           0,
           0,
           0,
           0,
           0,
           0,
           0,
           0,
           0,
           0,
           0,
           0,
           0.7558143138885498,
           -0.3539123237133026,
           -0.03362347558140755,
           0.03730563819408417,
           -0.0006344389985315502,
           0.00039402555557899177,
           0.012553266249597073,
           0.010504454374313354,
           0.48649829626083374
          ],
          [
           0,
           0,
           0,
           0,
           0,
           0,
           0,
           0,
           0,
           0,
           0,
           0,
           0,
           0,
           0,
           0,
           0.35346245765686035,
           -0.3802545666694641,
           -0.0488915890455246,
           0.057885002344846725,
           -0.0010757846757769585,
           0.0012758102966472507,
           0.014849879778921604,
           0.016223128885030746,
           1.0352190732955933
          ],
          [
           0,
           0,
           0,
           0,
           0,
           0,
           0,
           0,
           0,
           0,
           0,
           0,
           0,
           0,
           0,
           0,
           0.1045510396361351,
           -0.31877973675727844,
           -0.0236126109957695,
           0.015049213543534279,
           -0.00011407393321860582,
           -0.00008391695155296475,
           0.0068723298609256744,
           0.005884652957320213,
           1.204937219619751
          ],
          [
           0,
           0,
           0,
           0,
           0,
           0,
           0,
           0,
           0,
           0,
           0,
           0,
           0,
           0,
           0,
           0,
           -0.008870911784470081,
           -0.15652011334896088,
           -0.03584187850356102,
           -0.00777452252805233,
           -0.0017480769893154502,
           -0.00021638920588884503,
           0.006351207848638296,
           0.0044748494401574135,
           1.1916818618774414
          ]
         ]
        }
       ],
       "layout": {
        "coloraxis": {
         "cmid": 0,
         "colorscale": [
          [
           0,
           "rgb(103,0,31)"
          ],
          [
           0.1,
           "rgb(178,24,43)"
          ],
          [
           0.2,
           "rgb(214,96,77)"
          ],
          [
           0.3,
           "rgb(244,165,130)"
          ],
          [
           0.4,
           "rgb(253,219,199)"
          ],
          [
           0.5,
           "rgb(247,247,247)"
          ],
          [
           0.6,
           "rgb(209,229,240)"
          ],
          [
           0.7,
           "rgb(146,197,222)"
          ],
          [
           0.8,
           "rgb(67,147,195)"
          ],
          [
           0.9,
           "rgb(33,102,172)"
          ],
          [
           1,
           "rgb(5,48,97)"
          ]
         ]
        },
        "template": {
         "data": {
          "bar": [
           {
            "error_x": {
             "color": "#2a3f5f"
            },
            "error_y": {
             "color": "#2a3f5f"
            },
            "marker": {
             "line": {
              "color": "#E5ECF6",
              "width": 0.5
             },
             "pattern": {
              "fillmode": "overlay",
              "size": 10,
              "solidity": 0.2
             }
            },
            "type": "bar"
           }
          ],
          "barpolar": [
           {
            "marker": {
             "line": {
              "color": "#E5ECF6",
              "width": 0.5
             },
             "pattern": {
              "fillmode": "overlay",
              "size": 10,
              "solidity": 0.2
             }
            },
            "type": "barpolar"
           }
          ],
          "carpet": [
           {
            "aaxis": {
             "endlinecolor": "#2a3f5f",
             "gridcolor": "white",
             "linecolor": "white",
             "minorgridcolor": "white",
             "startlinecolor": "#2a3f5f"
            },
            "baxis": {
             "endlinecolor": "#2a3f5f",
             "gridcolor": "white",
             "linecolor": "white",
             "minorgridcolor": "white",
             "startlinecolor": "#2a3f5f"
            },
            "type": "carpet"
           }
          ],
          "choropleth": [
           {
            "colorbar": {
             "outlinewidth": 0,
             "ticks": ""
            },
            "type": "choropleth"
           }
          ],
          "contour": [
           {
            "colorbar": {
             "outlinewidth": 0,
             "ticks": ""
            },
            "colorscale": [
             [
              0,
              "#0d0887"
             ],
             [
              0.1111111111111111,
              "#46039f"
             ],
             [
              0.2222222222222222,
              "#7201a8"
             ],
             [
              0.3333333333333333,
              "#9c179e"
             ],
             [
              0.4444444444444444,
              "#bd3786"
             ],
             [
              0.5555555555555556,
              "#d8576b"
             ],
             [
              0.6666666666666666,
              "#ed7953"
             ],
             [
              0.7777777777777778,
              "#fb9f3a"
             ],
             [
              0.8888888888888888,
              "#fdca26"
             ],
             [
              1,
              "#f0f921"
             ]
            ],
            "type": "contour"
           }
          ],
          "contourcarpet": [
           {
            "colorbar": {
             "outlinewidth": 0,
             "ticks": ""
            },
            "type": "contourcarpet"
           }
          ],
          "heatmap": [
           {
            "colorbar": {
             "outlinewidth": 0,
             "ticks": ""
            },
            "colorscale": [
             [
              0,
              "#0d0887"
             ],
             [
              0.1111111111111111,
              "#46039f"
             ],
             [
              0.2222222222222222,
              "#7201a8"
             ],
             [
              0.3333333333333333,
              "#9c179e"
             ],
             [
              0.4444444444444444,
              "#bd3786"
             ],
             [
              0.5555555555555556,
              "#d8576b"
             ],
             [
              0.6666666666666666,
              "#ed7953"
             ],
             [
              0.7777777777777778,
              "#fb9f3a"
             ],
             [
              0.8888888888888888,
              "#fdca26"
             ],
             [
              1,
              "#f0f921"
             ]
            ],
            "type": "heatmap"
           }
          ],
          "heatmapgl": [
           {
            "colorbar": {
             "outlinewidth": 0,
             "ticks": ""
            },
            "colorscale": [
             [
              0,
              "#0d0887"
             ],
             [
              0.1111111111111111,
              "#46039f"
             ],
             [
              0.2222222222222222,
              "#7201a8"
             ],
             [
              0.3333333333333333,
              "#9c179e"
             ],
             [
              0.4444444444444444,
              "#bd3786"
             ],
             [
              0.5555555555555556,
              "#d8576b"
             ],
             [
              0.6666666666666666,
              "#ed7953"
             ],
             [
              0.7777777777777778,
              "#fb9f3a"
             ],
             [
              0.8888888888888888,
              "#fdca26"
             ],
             [
              1,
              "#f0f921"
             ]
            ],
            "type": "heatmapgl"
           }
          ],
          "histogram": [
           {
            "marker": {
             "pattern": {
              "fillmode": "overlay",
              "size": 10,
              "solidity": 0.2
             }
            },
            "type": "histogram"
           }
          ],
          "histogram2d": [
           {
            "colorbar": {
             "outlinewidth": 0,
             "ticks": ""
            },
            "colorscale": [
             [
              0,
              "#0d0887"
             ],
             [
              0.1111111111111111,
              "#46039f"
             ],
             [
              0.2222222222222222,
              "#7201a8"
             ],
             [
              0.3333333333333333,
              "#9c179e"
             ],
             [
              0.4444444444444444,
              "#bd3786"
             ],
             [
              0.5555555555555556,
              "#d8576b"
             ],
             [
              0.6666666666666666,
              "#ed7953"
             ],
             [
              0.7777777777777778,
              "#fb9f3a"
             ],
             [
              0.8888888888888888,
              "#fdca26"
             ],
             [
              1,
              "#f0f921"
             ]
            ],
            "type": "histogram2d"
           }
          ],
          "histogram2dcontour": [
           {
            "colorbar": {
             "outlinewidth": 0,
             "ticks": ""
            },
            "colorscale": [
             [
              0,
              "#0d0887"
             ],
             [
              0.1111111111111111,
              "#46039f"
             ],
             [
              0.2222222222222222,
              "#7201a8"
             ],
             [
              0.3333333333333333,
              "#9c179e"
             ],
             [
              0.4444444444444444,
              "#bd3786"
             ],
             [
              0.5555555555555556,
              "#d8576b"
             ],
             [
              0.6666666666666666,
              "#ed7953"
             ],
             [
              0.7777777777777778,
              "#fb9f3a"
             ],
             [
              0.8888888888888888,
              "#fdca26"
             ],
             [
              1,
              "#f0f921"
             ]
            ],
            "type": "histogram2dcontour"
           }
          ],
          "mesh3d": [
           {
            "colorbar": {
             "outlinewidth": 0,
             "ticks": ""
            },
            "type": "mesh3d"
           }
          ],
          "parcoords": [
           {
            "line": {
             "colorbar": {
              "outlinewidth": 0,
              "ticks": ""
             }
            },
            "type": "parcoords"
           }
          ],
          "pie": [
           {
            "automargin": true,
            "type": "pie"
           }
          ],
          "scatter": [
           {
            "fillpattern": {
             "fillmode": "overlay",
             "size": 10,
             "solidity": 0.2
            },
            "type": "scatter"
           }
          ],
          "scatter3d": [
           {
            "line": {
             "colorbar": {
              "outlinewidth": 0,
              "ticks": ""
             }
            },
            "marker": {
             "colorbar": {
              "outlinewidth": 0,
              "ticks": ""
             }
            },
            "type": "scatter3d"
           }
          ],
          "scattercarpet": [
           {
            "marker": {
             "colorbar": {
              "outlinewidth": 0,
              "ticks": ""
             }
            },
            "type": "scattercarpet"
           }
          ],
          "scattergeo": [
           {
            "marker": {
             "colorbar": {
              "outlinewidth": 0,
              "ticks": ""
             }
            },
            "type": "scattergeo"
           }
          ],
          "scattergl": [
           {
            "marker": {
             "colorbar": {
              "outlinewidth": 0,
              "ticks": ""
             }
            },
            "type": "scattergl"
           }
          ],
          "scattermapbox": [
           {
            "marker": {
             "colorbar": {
              "outlinewidth": 0,
              "ticks": ""
             }
            },
            "type": "scattermapbox"
           }
          ],
          "scatterpolar": [
           {
            "marker": {
             "colorbar": {
              "outlinewidth": 0,
              "ticks": ""
             }
            },
            "type": "scatterpolar"
           }
          ],
          "scatterpolargl": [
           {
            "marker": {
             "colorbar": {
              "outlinewidth": 0,
              "ticks": ""
             }
            },
            "type": "scatterpolargl"
           }
          ],
          "scatterternary": [
           {
            "marker": {
             "colorbar": {
              "outlinewidth": 0,
              "ticks": ""
             }
            },
            "type": "scatterternary"
           }
          ],
          "surface": [
           {
            "colorbar": {
             "outlinewidth": 0,
             "ticks": ""
            },
            "colorscale": [
             [
              0,
              "#0d0887"
             ],
             [
              0.1111111111111111,
              "#46039f"
             ],
             [
              0.2222222222222222,
              "#7201a8"
             ],
             [
              0.3333333333333333,
              "#9c179e"
             ],
             [
              0.4444444444444444,
              "#bd3786"
             ],
             [
              0.5555555555555556,
              "#d8576b"
             ],
             [
              0.6666666666666666,
              "#ed7953"
             ],
             [
              0.7777777777777778,
              "#fb9f3a"
             ],
             [
              0.8888888888888888,
              "#fdca26"
             ],
             [
              1,
              "#f0f921"
             ]
            ],
            "type": "surface"
           }
          ],
          "table": [
           {
            "cells": {
             "fill": {
              "color": "#EBF0F8"
             },
             "line": {
              "color": "white"
             }
            },
            "header": {
             "fill": {
              "color": "#C8D4E3"
             },
             "line": {
              "color": "white"
             }
            },
            "type": "table"
           }
          ]
         },
         "layout": {
          "annotationdefaults": {
           "arrowcolor": "#2a3f5f",
           "arrowhead": 0,
           "arrowwidth": 1
          },
          "autotypenumbers": "strict",
          "coloraxis": {
           "colorbar": {
            "outlinewidth": 0,
            "ticks": ""
           }
          },
          "colorscale": {
           "diverging": [
            [
             0,
             "#8e0152"
            ],
            [
             0.1,
             "#c51b7d"
            ],
            [
             0.2,
             "#de77ae"
            ],
            [
             0.3,
             "#f1b6da"
            ],
            [
             0.4,
             "#fde0ef"
            ],
            [
             0.5,
             "#f7f7f7"
            ],
            [
             0.6,
             "#e6f5d0"
            ],
            [
             0.7,
             "#b8e186"
            ],
            [
             0.8,
             "#7fbc41"
            ],
            [
             0.9,
             "#4d9221"
            ],
            [
             1,
             "#276419"
            ]
           ],
           "sequential": [
            [
             0,
             "#0d0887"
            ],
            [
             0.1111111111111111,
             "#46039f"
            ],
            [
             0.2222222222222222,
             "#7201a8"
            ],
            [
             0.3333333333333333,
             "#9c179e"
            ],
            [
             0.4444444444444444,
             "#bd3786"
            ],
            [
             0.5555555555555556,
             "#d8576b"
            ],
            [
             0.6666666666666666,
             "#ed7953"
            ],
            [
             0.7777777777777778,
             "#fb9f3a"
            ],
            [
             0.8888888888888888,
             "#fdca26"
            ],
            [
             1,
             "#f0f921"
            ]
           ],
           "sequentialminus": [
            [
             0,
             "#0d0887"
            ],
            [
             0.1111111111111111,
             "#46039f"
            ],
            [
             0.2222222222222222,
             "#7201a8"
            ],
            [
             0.3333333333333333,
             "#9c179e"
            ],
            [
             0.4444444444444444,
             "#bd3786"
            ],
            [
             0.5555555555555556,
             "#d8576b"
            ],
            [
             0.6666666666666666,
             "#ed7953"
            ],
            [
             0.7777777777777778,
             "#fb9f3a"
            ],
            [
             0.8888888888888888,
             "#fdca26"
            ],
            [
             1,
             "#f0f921"
            ]
           ]
          },
          "colorway": [
           "#636efa",
           "#EF553B",
           "#00cc96",
           "#ab63fa",
           "#FFA15A",
           "#19d3f3",
           "#FF6692",
           "#B6E880",
           "#FF97FF",
           "#FECB52"
          ],
          "font": {
           "color": "#2a3f5f"
          },
          "geo": {
           "bgcolor": "white",
           "lakecolor": "white",
           "landcolor": "#E5ECF6",
           "showlakes": true,
           "showland": true,
           "subunitcolor": "white"
          },
          "hoverlabel": {
           "align": "left"
          },
          "hovermode": "closest",
          "mapbox": {
           "style": "light"
          },
          "paper_bgcolor": "white",
          "plot_bgcolor": "#E5ECF6",
          "polar": {
           "angularaxis": {
            "gridcolor": "white",
            "linecolor": "white",
            "ticks": ""
           },
           "bgcolor": "#E5ECF6",
           "radialaxis": {
            "gridcolor": "white",
            "linecolor": "white",
            "ticks": ""
           }
          },
          "scene": {
           "xaxis": {
            "backgroundcolor": "#E5ECF6",
            "gridcolor": "white",
            "gridwidth": 2,
            "linecolor": "white",
            "showbackground": true,
            "ticks": "",
            "zerolinecolor": "white"
           },
           "yaxis": {
            "backgroundcolor": "#E5ECF6",
            "gridcolor": "white",
            "gridwidth": 2,
            "linecolor": "white",
            "showbackground": true,
            "ticks": "",
            "zerolinecolor": "white"
           },
           "zaxis": {
            "backgroundcolor": "#E5ECF6",
            "gridcolor": "white",
            "gridwidth": 2,
            "linecolor": "white",
            "showbackground": true,
            "ticks": "",
            "zerolinecolor": "white"
           }
          },
          "shapedefaults": {
           "line": {
            "color": "#2a3f5f"
           }
          },
          "ternary": {
           "aaxis": {
            "gridcolor": "white",
            "linecolor": "white",
            "ticks": ""
           },
           "baxis": {
            "gridcolor": "white",
            "linecolor": "white",
            "ticks": ""
           },
           "bgcolor": "#E5ECF6",
           "caxis": {
            "gridcolor": "white",
            "linecolor": "white",
            "ticks": ""
           }
          },
          "title": {
           "x": 0.05
          },
          "xaxis": {
           "automargin": true,
           "gridcolor": "white",
           "linecolor": "white",
           "ticks": "",
           "title": {
            "standoff": 15
           },
           "zerolinecolor": "white",
           "zerolinewidth": 2
          },
          "yaxis": {
           "automargin": true,
           "gridcolor": "white",
           "linecolor": "white",
           "ticks": "",
           "title": {
            "standoff": 15
           },
           "zerolinecolor": "white",
           "zerolinewidth": 2
          }
         }
        },
        "title": {
         "text": "Logit Difference From Patched Residual Stream"
        },
        "xaxis": {
         "anchor": "y",
         "constrain": "domain",
         "domain": [
          0,
          1
         ],
         "scaleanchor": "y",
         "title": {
          "text": "Position"
         }
        },
        "yaxis": {
         "anchor": "x",
         "autorange": "reversed",
         "constrain": "domain",
         "domain": [
          0,
          1
         ],
         "title": {
          "text": "Layer"
         }
        }
       }
      },
      "text/html": [
       "<div>                            <div id=\"110f8ec5-2b1e-41eb-95fe-cf2119c62250\" class=\"plotly-graph-div\" style=\"height:525px; width:100%;\"></div>            <script type=\"text/javascript\">                require([\"plotly\"], function(Plotly) {                    window.PLOTLYENV=window.PLOTLYENV || {};                                    if (document.getElementById(\"110f8ec5-2b1e-41eb-95fe-cf2119c62250\")) {                    Plotly.newPlot(                        \"110f8ec5-2b1e-41eb-95fe-cf2119c62250\",                        [{\"coloraxis\":\"coloraxis\",\"name\":\"0\",\"x\":[\"\\u003c|endoftext|\\u003e_0\",\"After_1\",\" John_2\",\",_3\",\" Mary_4\",\" and_5\",\" Jim_6\",\" went_7\",\" to_8\",\" the_9\",\" grocery_10\",\" store_11\",\" and_12\",\" return_13\",\",_14\",\" _15\",\" Jim_16\",\" and_17\",\" John_18\",\" gave_19\",\" a_20\",\" bottle_21\",\" of_22\",\" milk_23\",\" to_24\"],\"z\":[[0.0,0.0,0.0,0.0,0.0,0.0,0.0,0.0,0.0,0.0,0.0,0.0,0.0,0.0,0.0,0.0,1.0507057905197144,-0.3672848343849182,-0.018772758543491364,-0.014716530218720436,0.0,0.0,0.0,0.0,0.0],[0.0,0.0,0.0,0.0,0.0,0.0,0.0,0.0,0.0,0.0,0.0,0.0,0.0,0.0,0.0,0.0,1.032220482826233,-0.37286651134490967,0.009338384494185448,-0.005928853061050177,-0.0006009693024680018,0.0004322501190472394,-0.00018977338913828135,-0.0015602384228259325,0.00026216014521196485],[0.0,0.0,0.0,0.0,0.0,0.0,0.0,0.0,0.0,0.0,0.0,0.0,0.0,0.0,0.0,0.0,1.0495895147323608,-0.3658182621002197,-0.006135611329227686,-0.00920785404741764,-0.0008099692058749497,0.0007157357758842409,4.3907541112275794e-05,-0.0015750884776934981,-0.0003518671728670597],[0.0,0.0,0.0,0.0,0.0,0.0,0.0,0.0,0.0,0.0,0.0,0.0,0.0,0.0,0.0,0.0,1.0641448497772217,-0.3664410412311554,-0.005218186415731907,0.0001948780845850706,-0.0010262869764119387,6.519020098494366e-05,0.000546481111086905,-0.000927362940274179,-0.0027758132200688124],[0.0,0.0,0.0,0.0,0.0,0.0,0.0,0.0,0.0,0.0,0.0,0.0,0.0,0.0,0.0,0.0,1.1653976440429688,-0.4235265851020813,-0.058267634361982346,0.002738574054092169,-0.001111810328438878,-0.00039755957550369203,0.0007619992829859257,0.0005663572810590267,-0.0031373901292681694],[0.0,0.0,0.0,0.0,0.0,0.0,0.0,0.0,0.0,0.0,0.0,0.0,0.0,0.0,0.0,0.0,1.191404938697815,-0.584420382976532,-0.09939167648553848,0.015786267817020416,-0.00036641021142713726,-0.000448585138656199,0.0006537440349347889,-0.0013486112002283335,-0.004999733995646238],[0.0,0.0,0.0,0.0,0.0,0.0,0.0,0.0,0.0,0.0,0.0,0.0,0.0,0.0,0.0,0.0,1.2341521978378296,-0.37165552377700806,-0.17036877572536469,0.0335673950612545,-0.0006764331483282149,-0.00022933301806915551,0.0005393630708567798,-0.0002735047019086778,-0.002130101202055812],[0.0,0.0,0.0,0.0,0.0,0.0,0.0,0.0,0.0,0.0,0.0,0.0,0.0,0.0,0.0,0.0,1.1923283338546753,-0.34579232335090637,-0.09835498780012131,0.04008682072162628,-0.0029111341573297977,-0.001280029769986868,-0.0007003074279054999,-0.0014308147365227342,0.014799125492572784],[0.0,0.0,0.0,0.0,0.0,0.0,0.0,0.0,0.0,0.0,0.0,0.0,0.0,0.0,0.0,0.0,0.7558143138885498,-0.3539123237133026,-0.03362347558140755,0.03730563819408417,-0.0006344389985315502,0.00039402555557899177,0.012553266249597073,0.010504454374313354,0.48649829626083374],[0.0,0.0,0.0,0.0,0.0,0.0,0.0,0.0,0.0,0.0,0.0,0.0,0.0,0.0,0.0,0.0,0.35346245765686035,-0.3802545666694641,-0.0488915890455246,0.057885002344846725,-0.0010757846757769585,0.0012758102966472507,0.014849879778921604,0.016223128885030746,1.0352190732955933],[0.0,0.0,0.0,0.0,0.0,0.0,0.0,0.0,0.0,0.0,0.0,0.0,0.0,0.0,0.0,0.0,0.1045510396361351,-0.31877973675727844,-0.0236126109957695,0.015049213543534279,-0.00011407393321860582,-8.391695155296475e-05,0.0068723298609256744,0.005884652957320213,1.204937219619751],[0.0,0.0,0.0,0.0,0.0,0.0,0.0,0.0,0.0,0.0,0.0,0.0,0.0,0.0,0.0,0.0,-0.008870911784470081,-0.15652011334896088,-0.03584187850356102,-0.00777452252805233,-0.0017480769893154502,-0.00021638920588884503,0.006351207848638296,0.0044748494401574135,1.1916818618774414]],\"type\":\"heatmap\",\"xaxis\":\"x\",\"yaxis\":\"y\",\"hovertemplate\":\"Position: %{x}\\u003cbr\\u003eLayer: %{y}\\u003cbr\\u003ecolor: %{z}\\u003cextra\\u003e\\u003c\\u002fextra\\u003e\"}],                        {\"template\":{\"data\":{\"histogram2dcontour\":[{\"type\":\"histogram2dcontour\",\"colorbar\":{\"outlinewidth\":0,\"ticks\":\"\"},\"colorscale\":[[0.0,\"#0d0887\"],[0.1111111111111111,\"#46039f\"],[0.2222222222222222,\"#7201a8\"],[0.3333333333333333,\"#9c179e\"],[0.4444444444444444,\"#bd3786\"],[0.5555555555555556,\"#d8576b\"],[0.6666666666666666,\"#ed7953\"],[0.7777777777777778,\"#fb9f3a\"],[0.8888888888888888,\"#fdca26\"],[1.0,\"#f0f921\"]]}],\"choropleth\":[{\"type\":\"choropleth\",\"colorbar\":{\"outlinewidth\":0,\"ticks\":\"\"}}],\"histogram2d\":[{\"type\":\"histogram2d\",\"colorbar\":{\"outlinewidth\":0,\"ticks\":\"\"},\"colorscale\":[[0.0,\"#0d0887\"],[0.1111111111111111,\"#46039f\"],[0.2222222222222222,\"#7201a8\"],[0.3333333333333333,\"#9c179e\"],[0.4444444444444444,\"#bd3786\"],[0.5555555555555556,\"#d8576b\"],[0.6666666666666666,\"#ed7953\"],[0.7777777777777778,\"#fb9f3a\"],[0.8888888888888888,\"#fdca26\"],[1.0,\"#f0f921\"]]}],\"heatmap\":[{\"type\":\"heatmap\",\"colorbar\":{\"outlinewidth\":0,\"ticks\":\"\"},\"colorscale\":[[0.0,\"#0d0887\"],[0.1111111111111111,\"#46039f\"],[0.2222222222222222,\"#7201a8\"],[0.3333333333333333,\"#9c179e\"],[0.4444444444444444,\"#bd3786\"],[0.5555555555555556,\"#d8576b\"],[0.6666666666666666,\"#ed7953\"],[0.7777777777777778,\"#fb9f3a\"],[0.8888888888888888,\"#fdca26\"],[1.0,\"#f0f921\"]]}],\"heatmapgl\":[{\"type\":\"heatmapgl\",\"colorbar\":{\"outlinewidth\":0,\"ticks\":\"\"},\"colorscale\":[[0.0,\"#0d0887\"],[0.1111111111111111,\"#46039f\"],[0.2222222222222222,\"#7201a8\"],[0.3333333333333333,\"#9c179e\"],[0.4444444444444444,\"#bd3786\"],[0.5555555555555556,\"#d8576b\"],[0.6666666666666666,\"#ed7953\"],[0.7777777777777778,\"#fb9f3a\"],[0.8888888888888888,\"#fdca26\"],[1.0,\"#f0f921\"]]}],\"contourcarpet\":[{\"type\":\"contourcarpet\",\"colorbar\":{\"outlinewidth\":0,\"ticks\":\"\"}}],\"contour\":[{\"type\":\"contour\",\"colorbar\":{\"outlinewidth\":0,\"ticks\":\"\"},\"colorscale\":[[0.0,\"#0d0887\"],[0.1111111111111111,\"#46039f\"],[0.2222222222222222,\"#7201a8\"],[0.3333333333333333,\"#9c179e\"],[0.4444444444444444,\"#bd3786\"],[0.5555555555555556,\"#d8576b\"],[0.6666666666666666,\"#ed7953\"],[0.7777777777777778,\"#fb9f3a\"],[0.8888888888888888,\"#fdca26\"],[1.0,\"#f0f921\"]]}],\"surface\":[{\"type\":\"surface\",\"colorbar\":{\"outlinewidth\":0,\"ticks\":\"\"},\"colorscale\":[[0.0,\"#0d0887\"],[0.1111111111111111,\"#46039f\"],[0.2222222222222222,\"#7201a8\"],[0.3333333333333333,\"#9c179e\"],[0.4444444444444444,\"#bd3786\"],[0.5555555555555556,\"#d8576b\"],[0.6666666666666666,\"#ed7953\"],[0.7777777777777778,\"#fb9f3a\"],[0.8888888888888888,\"#fdca26\"],[1.0,\"#f0f921\"]]}],\"mesh3d\":[{\"type\":\"mesh3d\",\"colorbar\":{\"outlinewidth\":0,\"ticks\":\"\"}}],\"scatter\":[{\"fillpattern\":{\"fillmode\":\"overlay\",\"size\":10,\"solidity\":0.2},\"type\":\"scatter\"}],\"parcoords\":[{\"type\":\"parcoords\",\"line\":{\"colorbar\":{\"outlinewidth\":0,\"ticks\":\"\"}}}],\"scatterpolargl\":[{\"type\":\"scatterpolargl\",\"marker\":{\"colorbar\":{\"outlinewidth\":0,\"ticks\":\"\"}}}],\"bar\":[{\"error_x\":{\"color\":\"#2a3f5f\"},\"error_y\":{\"color\":\"#2a3f5f\"},\"marker\":{\"line\":{\"color\":\"#E5ECF6\",\"width\":0.5},\"pattern\":{\"fillmode\":\"overlay\",\"size\":10,\"solidity\":0.2}},\"type\":\"bar\"}],\"scattergeo\":[{\"type\":\"scattergeo\",\"marker\":{\"colorbar\":{\"outlinewidth\":0,\"ticks\":\"\"}}}],\"scatterpolar\":[{\"type\":\"scatterpolar\",\"marker\":{\"colorbar\":{\"outlinewidth\":0,\"ticks\":\"\"}}}],\"histogram\":[{\"marker\":{\"pattern\":{\"fillmode\":\"overlay\",\"size\":10,\"solidity\":0.2}},\"type\":\"histogram\"}],\"scattergl\":[{\"type\":\"scattergl\",\"marker\":{\"colorbar\":{\"outlinewidth\":0,\"ticks\":\"\"}}}],\"scatter3d\":[{\"type\":\"scatter3d\",\"line\":{\"colorbar\":{\"outlinewidth\":0,\"ticks\":\"\"}},\"marker\":{\"colorbar\":{\"outlinewidth\":0,\"ticks\":\"\"}}}],\"scattermapbox\":[{\"type\":\"scattermapbox\",\"marker\":{\"colorbar\":{\"outlinewidth\":0,\"ticks\":\"\"}}}],\"scatterternary\":[{\"type\":\"scatterternary\",\"marker\":{\"colorbar\":{\"outlinewidth\":0,\"ticks\":\"\"}}}],\"scattercarpet\":[{\"type\":\"scattercarpet\",\"marker\":{\"colorbar\":{\"outlinewidth\":0,\"ticks\":\"\"}}}],\"carpet\":[{\"aaxis\":{\"endlinecolor\":\"#2a3f5f\",\"gridcolor\":\"white\",\"linecolor\":\"white\",\"minorgridcolor\":\"white\",\"startlinecolor\":\"#2a3f5f\"},\"baxis\":{\"endlinecolor\":\"#2a3f5f\",\"gridcolor\":\"white\",\"linecolor\":\"white\",\"minorgridcolor\":\"white\",\"startlinecolor\":\"#2a3f5f\"},\"type\":\"carpet\"}],\"table\":[{\"cells\":{\"fill\":{\"color\":\"#EBF0F8\"},\"line\":{\"color\":\"white\"}},\"header\":{\"fill\":{\"color\":\"#C8D4E3\"},\"line\":{\"color\":\"white\"}},\"type\":\"table\"}],\"barpolar\":[{\"marker\":{\"line\":{\"color\":\"#E5ECF6\",\"width\":0.5},\"pattern\":{\"fillmode\":\"overlay\",\"size\":10,\"solidity\":0.2}},\"type\":\"barpolar\"}],\"pie\":[{\"automargin\":true,\"type\":\"pie\"}]},\"layout\":{\"autotypenumbers\":\"strict\",\"colorway\":[\"#636efa\",\"#EF553B\",\"#00cc96\",\"#ab63fa\",\"#FFA15A\",\"#19d3f3\",\"#FF6692\",\"#B6E880\",\"#FF97FF\",\"#FECB52\"],\"font\":{\"color\":\"#2a3f5f\"},\"hovermode\":\"closest\",\"hoverlabel\":{\"align\":\"left\"},\"paper_bgcolor\":\"white\",\"plot_bgcolor\":\"#E5ECF6\",\"polar\":{\"bgcolor\":\"#E5ECF6\",\"angularaxis\":{\"gridcolor\":\"white\",\"linecolor\":\"white\",\"ticks\":\"\"},\"radialaxis\":{\"gridcolor\":\"white\",\"linecolor\":\"white\",\"ticks\":\"\"}},\"ternary\":{\"bgcolor\":\"#E5ECF6\",\"aaxis\":{\"gridcolor\":\"white\",\"linecolor\":\"white\",\"ticks\":\"\"},\"baxis\":{\"gridcolor\":\"white\",\"linecolor\":\"white\",\"ticks\":\"\"},\"caxis\":{\"gridcolor\":\"white\",\"linecolor\":\"white\",\"ticks\":\"\"}},\"coloraxis\":{\"colorbar\":{\"outlinewidth\":0,\"ticks\":\"\"}},\"colorscale\":{\"sequential\":[[0.0,\"#0d0887\"],[0.1111111111111111,\"#46039f\"],[0.2222222222222222,\"#7201a8\"],[0.3333333333333333,\"#9c179e\"],[0.4444444444444444,\"#bd3786\"],[0.5555555555555556,\"#d8576b\"],[0.6666666666666666,\"#ed7953\"],[0.7777777777777778,\"#fb9f3a\"],[0.8888888888888888,\"#fdca26\"],[1.0,\"#f0f921\"]],\"sequentialminus\":[[0.0,\"#0d0887\"],[0.1111111111111111,\"#46039f\"],[0.2222222222222222,\"#7201a8\"],[0.3333333333333333,\"#9c179e\"],[0.4444444444444444,\"#bd3786\"],[0.5555555555555556,\"#d8576b\"],[0.6666666666666666,\"#ed7953\"],[0.7777777777777778,\"#fb9f3a\"],[0.8888888888888888,\"#fdca26\"],[1.0,\"#f0f921\"]],\"diverging\":[[0,\"#8e0152\"],[0.1,\"#c51b7d\"],[0.2,\"#de77ae\"],[0.3,\"#f1b6da\"],[0.4,\"#fde0ef\"],[0.5,\"#f7f7f7\"],[0.6,\"#e6f5d0\"],[0.7,\"#b8e186\"],[0.8,\"#7fbc41\"],[0.9,\"#4d9221\"],[1,\"#276419\"]]},\"xaxis\":{\"gridcolor\":\"white\",\"linecolor\":\"white\",\"ticks\":\"\",\"title\":{\"standoff\":15},\"zerolinecolor\":\"white\",\"automargin\":true,\"zerolinewidth\":2},\"yaxis\":{\"gridcolor\":\"white\",\"linecolor\":\"white\",\"ticks\":\"\",\"title\":{\"standoff\":15},\"zerolinecolor\":\"white\",\"automargin\":true,\"zerolinewidth\":2},\"scene\":{\"xaxis\":{\"backgroundcolor\":\"#E5ECF6\",\"gridcolor\":\"white\",\"linecolor\":\"white\",\"showbackground\":true,\"ticks\":\"\",\"zerolinecolor\":\"white\",\"gridwidth\":2},\"yaxis\":{\"backgroundcolor\":\"#E5ECF6\",\"gridcolor\":\"white\",\"linecolor\":\"white\",\"showbackground\":true,\"ticks\":\"\",\"zerolinecolor\":\"white\",\"gridwidth\":2},\"zaxis\":{\"backgroundcolor\":\"#E5ECF6\",\"gridcolor\":\"white\",\"linecolor\":\"white\",\"showbackground\":true,\"ticks\":\"\",\"zerolinecolor\":\"white\",\"gridwidth\":2}},\"shapedefaults\":{\"line\":{\"color\":\"#2a3f5f\"}},\"annotationdefaults\":{\"arrowcolor\":\"#2a3f5f\",\"arrowhead\":0,\"arrowwidth\":1},\"geo\":{\"bgcolor\":\"white\",\"landcolor\":\"#E5ECF6\",\"subunitcolor\":\"white\",\"showland\":true,\"showlakes\":true,\"lakecolor\":\"white\"},\"title\":{\"x\":0.05},\"mapbox\":{\"style\":\"light\"}}},\"xaxis\":{\"anchor\":\"y\",\"domain\":[0.0,1.0],\"scaleanchor\":\"y\",\"constrain\":\"domain\",\"title\":{\"text\":\"Position\"}},\"yaxis\":{\"anchor\":\"x\",\"domain\":[0.0,1.0],\"autorange\":\"reversed\",\"constrain\":\"domain\",\"title\":{\"text\":\"Layer\"}},\"coloraxis\":{\"colorscale\":[[0.0,\"rgb(103,0,31)\"],[0.1,\"rgb(178,24,43)\"],[0.2,\"rgb(214,96,77)\"],[0.3,\"rgb(244,165,130)\"],[0.4,\"rgb(253,219,199)\"],[0.5,\"rgb(247,247,247)\"],[0.6,\"rgb(209,229,240)\"],[0.7,\"rgb(146,197,222)\"],[0.8,\"rgb(67,147,195)\"],[0.9,\"rgb(33,102,172)\"],[1.0,\"rgb(5,48,97)\"]],\"cmid\":0.0},\"title\":{\"text\":\"Logit Difference From Patched Residual Stream\"}},                        {\"responsive\": true}                    ).then(function(){\n",
       "                            \n",
       "var gd = document.getElementById('110f8ec5-2b1e-41eb-95fe-cf2119c62250');\n",
       "var x = new MutationObserver(function (mutations, observer) {{\n",
       "        var display = window.getComputedStyle(gd).display;\n",
       "        if (!display || display === 'none') {{\n",
       "            console.log([gd, 'removed!']);\n",
       "            Plotly.purge(gd);\n",
       "            observer.disconnect();\n",
       "        }}\n",
       "}});\n",
       "\n",
       "// Listen for the removal of the full notebook cells\n",
       "var notebookContainer = gd.closest('#notebook-container');\n",
       "if (notebookContainer) {{\n",
       "    x.observe(notebookContainer, {childList: true});\n",
       "}}\n",
       "\n",
       "// Listen for the clearing of the current output cell\n",
       "var outputEl = gd.closest('.output');\n",
       "if (outputEl) {{\n",
       "    x.observe(outputEl, {childList: true});\n",
       "}}\n",
       "\n",
       "                        })                };                });            </script>        </div>"
      ]
     },
     "metadata": {},
     "output_type": "display_data"
    }
   ],
   "source": [
    "prompt_position_labels = [\n",
    "    f\"{tok}_{i}\" for i, tok in enumerate(model.to_str_tokens(tokens[0]))\n",
    "]\n",
    "imshow(\n",
    "    patched_residual_stream_diff,\n",
    "    x=prompt_position_labels,\n",
    "    title=\"Logit Difference From Patched Residual Stream\",\n",
    "    labels={\"x\": \"Position\", \"y\": \"Layer\"},\n",
    ")"
   ]
  },
  {
   "cell_type": "markdown",
   "metadata": {},
   "source": [
    "The info of \"Jim\", \"and\", \"John\"(John is mild, but exists) is moved to the last token in the 7/8 layers. The difference is that \"and\" and a little bit of \"John\" is moved toward the last token too. Let's make a gif out of that."
   ]
  },
  {
   "cell_type": "code",
   "execution_count": 112,
   "metadata": {},
   "outputs": [],
   "source": [
    "patched_attn_diff = torch.zeros(\n",
    "    model.cfg.n_layers, tokens.shape[1], device=device, dtype=torch.float32\n",
    ")\n",
    "patched_mlp_diff = torch.zeros(\n",
    "    model.cfg.n_layers, tokens.shape[1], device=device, dtype=torch.float32\n",
    ")\n",
    "for layer in range(model.cfg.n_layers):\n",
    "    for position in range(tokens.shape[1]):\n",
    "        hook_fn = partial(patch_residual_component, pos=position, clean_cache=cache)\n",
    "        patched_attn_logits = model.run_with_hooks(\n",
    "            corrupted_tokens,\n",
    "            fwd_hooks=[(utils.get_act_name(\"attn_out\", layer), hook_fn)],\n",
    "            return_type=\"logits\",\n",
    "        )\n",
    "        patched_attn_logit_diff = logits_to_ave_logit_diff(\n",
    "            patched_attn_logits, answer_tokens\n",
    "        )\n",
    "        patched_mlp_logits = model.run_with_hooks(\n",
    "            corrupted_tokens,\n",
    "            fwd_hooks=[(utils.get_act_name(\"mlp_out\", layer), hook_fn)],\n",
    "            return_type=\"logits\",\n",
    "        )\n",
    "        patched_mlp_logit_diff = logits_to_ave_logit_diff(\n",
    "            patched_mlp_logits, answer_tokens\n",
    "        )\n",
    "\n",
    "        patched_attn_diff[layer, position] = normalize_patched_logit_diff(\n",
    "            patched_attn_logit_diff\n",
    "        )\n",
    "        patched_mlp_diff[layer, position] = normalize_patched_logit_diff(\n",
    "            patched_mlp_logit_diff\n",
    "        )"
   ]
  },
  {
   "cell_type": "code",
   "execution_count": 113,
   "metadata": {},
   "outputs": [
    {
     "data": {
      "application/vnd.plotly.v1+json": {
       "config": {
        "plotlyServerURL": "https://plot.ly"
       },
       "data": [
        {
         "coloraxis": "coloraxis",
         "hovertemplate": "Position: %{x}<br>Layer: %{y}<br>color: %{z}<extra></extra>",
         "name": "0",
         "type": "heatmap",
         "x": [
          "<|endoftext|>_0",
          "After_1",
          " John_2",
          ",_3",
          " Mary_4",
          " and_5",
          " Jim_6",
          " went_7",
          " to_8",
          " the_9",
          " grocery_10",
          " store_11",
          " and_12",
          " return_13",
          ",_14",
          " _15",
          " Jim_16",
          " and_17",
          " John_18",
          " gave_19",
          " a_20",
          " bottle_21",
          " of_22",
          " milk_23",
          " to_24"
         ],
         "xaxis": "x",
         "yaxis": "y",
         "z": [
          [
           0,
           0.001432690187357366,
           0.1387714445590973,
           -0.0037618845235556364,
           -0.032717783004045486,
           -0.011844364926218987,
           -0.14154620468616486,
           0.017970625311136246,
           -0.0017797073815017939,
           0.003244318999350071,
           -0.009412326849997044,
           0.003918359521776438,
           0.00008482356497552246,
           0.008372004143893719,
           -0.011345635168254375,
           0.005940738599747419,
           0.11921988427639008,
           -0.2991771399974823,
           0.06233686953783035,
           0.00020045306882821023,
           -0.007812692783772945,
           0.0022227035369724035,
           -0.00011833252210635692,
           0.0026526565197855234,
           0.0028252210468053818
          ],
          [
           0,
           0.0013491108547896147,
           -0.0005593121168203652,
           -0.010548627935349941,
           -0.005631392356008291,
           -0.002909615635871887,
           -0.00977187231183052,
           -0.0033757376950234175,
           0.00018715245823841542,
           0.0005049512255936861,
           -0.0018436361569911242,
           -0.00021757223294116557,
           0.0016977156046777964,
           0.0004632044583559036,
           -0.000831974612083286,
           -0.000571754586417228,
           -0.005610454827547073,
           0.004432106390595436,
           0.007790467701852322,
           -0.0049175359308719635,
           -0.0031371419318020344,
           0.001279990654438734,
           0.00037880995660088956,
           -0.0009110488463193178,
           0.004171929322183132
          ],
          [
           0,
           0.004094228148460388,
           0.00840263906866312,
           -0.012227422557771206,
           -0.004763077013194561,
           -0.007355237379670143,
           -0.0015973603585734963,
           -0.013853228650987148,
           -0.00009130225225817412,
           0.002819943707436323,
           -0.004269324243068695,
           -0.0008717906312085688,
           0.0002701740013435483,
           0.0020136265084147453,
           0.0013930887216702104,
           0.0038671738002449274,
           0.000644350191578269,
           0.031023286283016205,
           -0.0020881956443190575,
           0.021708568558096886,
           -0.002435598988085985,
           -0.0009703009272925556,
           0.0007290450157597661,
           0.002892710966989398,
           0.0026141705457121134
          ],
          [
           0,
           0.0018722539534792304,
           -0.000015574585631839,
           0.00361098675057292,
           -0.01978890411555767,
           -0.0013528007548302412,
           -0.00045968624181114137,
           -0.004230881109833717,
           0.00032247541821561754,
           0.000010211436347162817,
           -0.0012070088414475322,
           -0.0003227328706998378,
           -0.0014146700268611312,
           -0.002520251087844372,
           0.005122794304043055,
           0.0032465930562466383,
           0.03696166351437569,
           0.00895465724170208,
           -0.06737196445465088,
           -0.05934140086174011,
           0.0015563000924885273,
           0.0028289109468460083,
           -0.0007082789088599384,
           -0.0020240952726453543,
           0.004202005919069052
          ],
          [
           0,
           0.0029339429456740618,
           0.0027839033864438534,
           -0.01085424143821001,
           -0.013935177586972713,
           -0.02493950165808201,
           -0.013897506520152092,
           -0.01738630048930645,
           0.00570167088881135,
           -0.001518157310783863,
           0.0003891071828547865,
           -0.0075887273997068405,
           -0.002794114872813225,
           -0.006243005860596895,
           0.004113063216209412,
           0.0031624988187104464,
           0.015231214463710785,
           0.05045071616768837,
           0.055139392614364624,
           0.02106546238064766,
           0.00003312280750833452,
           -0.0005853126640431583,
           0.002010623225942254,
           -0.0033533840905874968,
           0.004481018520891666
          ],
          [
           0,
           0.0014866649871692061,
           0.009339645504951477,
           -0.016330230981111526,
           -0.01348729059100151,
           -0.008625145070254803,
           -0.012817754410207272,
           0.012531791813671589,
           -0.0030707246623933315,
           0.00026197911938652396,
           0.007754555903375149,
           0.00039318317431025207,
           0.003600003197789192,
           -0.0004909212002530694,
           0.0026566036976873875,
           -0.002341336337849498,
           0.03016204945743084,
           -0.08519992977380753,
           -0.15682190656661987,
           -0.04797963425517082,
           0.002982983598485589,
           0.000903754960745573,
           0.0006131152040325105,
           0.0007311903173103929,
           0.02128663845360279
          ],
          [
           0,
           -0.0009512081160210073,
           0.001362239825539291,
           -0.00403034221380949,
           -0.006263385992497206,
           0.00020783275249414146,
           0.003020439762622118,
           0.0009510365198366344,
           -0.0023087712470442057,
           -0.0031218675430864096,
           0.0010970429284498096,
           0.0007529432186856866,
           0.000708021514583379,
           0.0038590647745877504,
           -0.004586307797580957,
           0.0003352611674927175,
           0.06553004682064056,
           -0.03910353407263756,
           0.0886939987540245,
           0.007255353964865208,
           0.000382070749765262,
           0.0006810770137235522,
           -0.0028124782256782055,
           0.0008473775815218687,
           -0.003915785346180201
          ],
          [
           0,
           -0.000014416144949791487,
           0.0018105133203789592,
           -0.0016146940179169178,
           0.002574182813987136,
           -0.005891569424420595,
           0.0048478576354682446,
           0.004233197774738073,
           0.000028660668249358423,
           0.0020501818507909775,
           0.0005831673624925315,
           0.00046955441939644516,
           0.0015982184559106827,
           0.0005562229198403656,
           0.0001560890959808603,
           0.0031684627756476402,
           0.010757705196738243,
           0.002092143055051565,
           0.0018066518241539598,
           0.020212292671203613,
           0.0012030616635456681,
           0.0010723724262788892,
           -0.0014395121252164245,
           0.004735531751066446,
           0.3561214208602905
          ],
          [
           0,
           -0.005091087426990271,
           0.00019225817231927067,
           0.0071878209710121155,
           0.006061817519366741,
           -0.001725603942759335,
           -0.004410095978528261,
           0.00031239271629601717,
           -0.0004507619596552104,
           -0.0005584110622294247,
           0.002141698496416211,
           -0.0003347463207319379,
           0.00003621198266046122,
           0.001885468722321093,
           -0.001973638776689768,
           -0.0013953626621514559,
           0.00879745278507471,
           -0.008389852941036224,
           0.011667037382721901,
           0.008211109787225723,
           0.0007344511104747653,
           0.00007894555164966732,
           0.00013257704267743975,
           -0.00030059379059821367,
           0.23109054565429688
          ],
          [
           0,
           -0.005165098700672388,
           0.025696134194731712,
           0.0026746238581836224,
           0.00597107270732522,
           -0.008148039691150188,
           0.018884506076574326,
           0.008675172924995422,
           0.0007988088764250278,
           0.00029716137214563787,
           0.0008663845364935696,
           -0.00015716171765234321,
           0.000057321336498716846,
           -0.0010085724061354995,
           0.012221887707710266,
           0.0018199095502495766,
           -0.016669610515236855,
           -0.04080721363425255,
           -0.010220145806670189,
           -0.0016385492635890841,
           -0.00011786056711571291,
           0.00004410653855302371,
           0.000435916765127331,
           -0.0012155899312347174,
           0.6789758205413818
          ],
          [
           0,
           -0.0014304162468761206,
           0.005926966201514006,
           0.002443922683596611,
           -0.0006009730277583003,
           -0.010467151179909706,
           0.0005897748051211238,
           -0.0005448959418572485,
           0.0004298242274671793,
           0.0011762030189856887,
           -0.0009661391377449036,
           0.00015192729188129306,
           -0.0019317633705213666,
           -0.0033951736986637115,
           0.0006069368682801723,
           0.003971991129219532,
           -0.01865500584244728,
           -0.007732159458100796,
           -0.011130593717098236,
           -0.0006711659370921552,
           -0.0007748248754069209,
           -0.00008563876326661557,
           -0.0012011737562716007,
           -0.0035479161888360977,
           0.24075399339199066
          ],
          [
           0,
           0,
           0,
           0,
           0,
           0,
           0,
           0,
           0,
           0,
           0,
           0,
           0,
           0,
           0,
           0,
           0,
           0,
           0,
           0,
           0,
           0,
           0,
           0,
           -0.7922380566596985
          ]
         ]
        }
       ],
       "layout": {
        "coloraxis": {
         "cmid": 0,
         "colorscale": [
          [
           0,
           "rgb(103,0,31)"
          ],
          [
           0.1,
           "rgb(178,24,43)"
          ],
          [
           0.2,
           "rgb(214,96,77)"
          ],
          [
           0.3,
           "rgb(244,165,130)"
          ],
          [
           0.4,
           "rgb(253,219,199)"
          ],
          [
           0.5,
           "rgb(247,247,247)"
          ],
          [
           0.6,
           "rgb(209,229,240)"
          ],
          [
           0.7,
           "rgb(146,197,222)"
          ],
          [
           0.8,
           "rgb(67,147,195)"
          ],
          [
           0.9,
           "rgb(33,102,172)"
          ],
          [
           1,
           "rgb(5,48,97)"
          ]
         ]
        },
        "template": {
         "data": {
          "bar": [
           {
            "error_x": {
             "color": "#2a3f5f"
            },
            "error_y": {
             "color": "#2a3f5f"
            },
            "marker": {
             "line": {
              "color": "#E5ECF6",
              "width": 0.5
             },
             "pattern": {
              "fillmode": "overlay",
              "size": 10,
              "solidity": 0.2
             }
            },
            "type": "bar"
           }
          ],
          "barpolar": [
           {
            "marker": {
             "line": {
              "color": "#E5ECF6",
              "width": 0.5
             },
             "pattern": {
              "fillmode": "overlay",
              "size": 10,
              "solidity": 0.2
             }
            },
            "type": "barpolar"
           }
          ],
          "carpet": [
           {
            "aaxis": {
             "endlinecolor": "#2a3f5f",
             "gridcolor": "white",
             "linecolor": "white",
             "minorgridcolor": "white",
             "startlinecolor": "#2a3f5f"
            },
            "baxis": {
             "endlinecolor": "#2a3f5f",
             "gridcolor": "white",
             "linecolor": "white",
             "minorgridcolor": "white",
             "startlinecolor": "#2a3f5f"
            },
            "type": "carpet"
           }
          ],
          "choropleth": [
           {
            "colorbar": {
             "outlinewidth": 0,
             "ticks": ""
            },
            "type": "choropleth"
           }
          ],
          "contour": [
           {
            "colorbar": {
             "outlinewidth": 0,
             "ticks": ""
            },
            "colorscale": [
             [
              0,
              "#0d0887"
             ],
             [
              0.1111111111111111,
              "#46039f"
             ],
             [
              0.2222222222222222,
              "#7201a8"
             ],
             [
              0.3333333333333333,
              "#9c179e"
             ],
             [
              0.4444444444444444,
              "#bd3786"
             ],
             [
              0.5555555555555556,
              "#d8576b"
             ],
             [
              0.6666666666666666,
              "#ed7953"
             ],
             [
              0.7777777777777778,
              "#fb9f3a"
             ],
             [
              0.8888888888888888,
              "#fdca26"
             ],
             [
              1,
              "#f0f921"
             ]
            ],
            "type": "contour"
           }
          ],
          "contourcarpet": [
           {
            "colorbar": {
             "outlinewidth": 0,
             "ticks": ""
            },
            "type": "contourcarpet"
           }
          ],
          "heatmap": [
           {
            "colorbar": {
             "outlinewidth": 0,
             "ticks": ""
            },
            "colorscale": [
             [
              0,
              "#0d0887"
             ],
             [
              0.1111111111111111,
              "#46039f"
             ],
             [
              0.2222222222222222,
              "#7201a8"
             ],
             [
              0.3333333333333333,
              "#9c179e"
             ],
             [
              0.4444444444444444,
              "#bd3786"
             ],
             [
              0.5555555555555556,
              "#d8576b"
             ],
             [
              0.6666666666666666,
              "#ed7953"
             ],
             [
              0.7777777777777778,
              "#fb9f3a"
             ],
             [
              0.8888888888888888,
              "#fdca26"
             ],
             [
              1,
              "#f0f921"
             ]
            ],
            "type": "heatmap"
           }
          ],
          "heatmapgl": [
           {
            "colorbar": {
             "outlinewidth": 0,
             "ticks": ""
            },
            "colorscale": [
             [
              0,
              "#0d0887"
             ],
             [
              0.1111111111111111,
              "#46039f"
             ],
             [
              0.2222222222222222,
              "#7201a8"
             ],
             [
              0.3333333333333333,
              "#9c179e"
             ],
             [
              0.4444444444444444,
              "#bd3786"
             ],
             [
              0.5555555555555556,
              "#d8576b"
             ],
             [
              0.6666666666666666,
              "#ed7953"
             ],
             [
              0.7777777777777778,
              "#fb9f3a"
             ],
             [
              0.8888888888888888,
              "#fdca26"
             ],
             [
              1,
              "#f0f921"
             ]
            ],
            "type": "heatmapgl"
           }
          ],
          "histogram": [
           {
            "marker": {
             "pattern": {
              "fillmode": "overlay",
              "size": 10,
              "solidity": 0.2
             }
            },
            "type": "histogram"
           }
          ],
          "histogram2d": [
           {
            "colorbar": {
             "outlinewidth": 0,
             "ticks": ""
            },
            "colorscale": [
             [
              0,
              "#0d0887"
             ],
             [
              0.1111111111111111,
              "#46039f"
             ],
             [
              0.2222222222222222,
              "#7201a8"
             ],
             [
              0.3333333333333333,
              "#9c179e"
             ],
             [
              0.4444444444444444,
              "#bd3786"
             ],
             [
              0.5555555555555556,
              "#d8576b"
             ],
             [
              0.6666666666666666,
              "#ed7953"
             ],
             [
              0.7777777777777778,
              "#fb9f3a"
             ],
             [
              0.8888888888888888,
              "#fdca26"
             ],
             [
              1,
              "#f0f921"
             ]
            ],
            "type": "histogram2d"
           }
          ],
          "histogram2dcontour": [
           {
            "colorbar": {
             "outlinewidth": 0,
             "ticks": ""
            },
            "colorscale": [
             [
              0,
              "#0d0887"
             ],
             [
              0.1111111111111111,
              "#46039f"
             ],
             [
              0.2222222222222222,
              "#7201a8"
             ],
             [
              0.3333333333333333,
              "#9c179e"
             ],
             [
              0.4444444444444444,
              "#bd3786"
             ],
             [
              0.5555555555555556,
              "#d8576b"
             ],
             [
              0.6666666666666666,
              "#ed7953"
             ],
             [
              0.7777777777777778,
              "#fb9f3a"
             ],
             [
              0.8888888888888888,
              "#fdca26"
             ],
             [
              1,
              "#f0f921"
             ]
            ],
            "type": "histogram2dcontour"
           }
          ],
          "mesh3d": [
           {
            "colorbar": {
             "outlinewidth": 0,
             "ticks": ""
            },
            "type": "mesh3d"
           }
          ],
          "parcoords": [
           {
            "line": {
             "colorbar": {
              "outlinewidth": 0,
              "ticks": ""
             }
            },
            "type": "parcoords"
           }
          ],
          "pie": [
           {
            "automargin": true,
            "type": "pie"
           }
          ],
          "scatter": [
           {
            "fillpattern": {
             "fillmode": "overlay",
             "size": 10,
             "solidity": 0.2
            },
            "type": "scatter"
           }
          ],
          "scatter3d": [
           {
            "line": {
             "colorbar": {
              "outlinewidth": 0,
              "ticks": ""
             }
            },
            "marker": {
             "colorbar": {
              "outlinewidth": 0,
              "ticks": ""
             }
            },
            "type": "scatter3d"
           }
          ],
          "scattercarpet": [
           {
            "marker": {
             "colorbar": {
              "outlinewidth": 0,
              "ticks": ""
             }
            },
            "type": "scattercarpet"
           }
          ],
          "scattergeo": [
           {
            "marker": {
             "colorbar": {
              "outlinewidth": 0,
              "ticks": ""
             }
            },
            "type": "scattergeo"
           }
          ],
          "scattergl": [
           {
            "marker": {
             "colorbar": {
              "outlinewidth": 0,
              "ticks": ""
             }
            },
            "type": "scattergl"
           }
          ],
          "scattermapbox": [
           {
            "marker": {
             "colorbar": {
              "outlinewidth": 0,
              "ticks": ""
             }
            },
            "type": "scattermapbox"
           }
          ],
          "scatterpolar": [
           {
            "marker": {
             "colorbar": {
              "outlinewidth": 0,
              "ticks": ""
             }
            },
            "type": "scatterpolar"
           }
          ],
          "scatterpolargl": [
           {
            "marker": {
             "colorbar": {
              "outlinewidth": 0,
              "ticks": ""
             }
            },
            "type": "scatterpolargl"
           }
          ],
          "scatterternary": [
           {
            "marker": {
             "colorbar": {
              "outlinewidth": 0,
              "ticks": ""
             }
            },
            "type": "scatterternary"
           }
          ],
          "surface": [
           {
            "colorbar": {
             "outlinewidth": 0,
             "ticks": ""
            },
            "colorscale": [
             [
              0,
              "#0d0887"
             ],
             [
              0.1111111111111111,
              "#46039f"
             ],
             [
              0.2222222222222222,
              "#7201a8"
             ],
             [
              0.3333333333333333,
              "#9c179e"
             ],
             [
              0.4444444444444444,
              "#bd3786"
             ],
             [
              0.5555555555555556,
              "#d8576b"
             ],
             [
              0.6666666666666666,
              "#ed7953"
             ],
             [
              0.7777777777777778,
              "#fb9f3a"
             ],
             [
              0.8888888888888888,
              "#fdca26"
             ],
             [
              1,
              "#f0f921"
             ]
            ],
            "type": "surface"
           }
          ],
          "table": [
           {
            "cells": {
             "fill": {
              "color": "#EBF0F8"
             },
             "line": {
              "color": "white"
             }
            },
            "header": {
             "fill": {
              "color": "#C8D4E3"
             },
             "line": {
              "color": "white"
             }
            },
            "type": "table"
           }
          ]
         },
         "layout": {
          "annotationdefaults": {
           "arrowcolor": "#2a3f5f",
           "arrowhead": 0,
           "arrowwidth": 1
          },
          "autotypenumbers": "strict",
          "coloraxis": {
           "colorbar": {
            "outlinewidth": 0,
            "ticks": ""
           }
          },
          "colorscale": {
           "diverging": [
            [
             0,
             "#8e0152"
            ],
            [
             0.1,
             "#c51b7d"
            ],
            [
             0.2,
             "#de77ae"
            ],
            [
             0.3,
             "#f1b6da"
            ],
            [
             0.4,
             "#fde0ef"
            ],
            [
             0.5,
             "#f7f7f7"
            ],
            [
             0.6,
             "#e6f5d0"
            ],
            [
             0.7,
             "#b8e186"
            ],
            [
             0.8,
             "#7fbc41"
            ],
            [
             0.9,
             "#4d9221"
            ],
            [
             1,
             "#276419"
            ]
           ],
           "sequential": [
            [
             0,
             "#0d0887"
            ],
            [
             0.1111111111111111,
             "#46039f"
            ],
            [
             0.2222222222222222,
             "#7201a8"
            ],
            [
             0.3333333333333333,
             "#9c179e"
            ],
            [
             0.4444444444444444,
             "#bd3786"
            ],
            [
             0.5555555555555556,
             "#d8576b"
            ],
            [
             0.6666666666666666,
             "#ed7953"
            ],
            [
             0.7777777777777778,
             "#fb9f3a"
            ],
            [
             0.8888888888888888,
             "#fdca26"
            ],
            [
             1,
             "#f0f921"
            ]
           ],
           "sequentialminus": [
            [
             0,
             "#0d0887"
            ],
            [
             0.1111111111111111,
             "#46039f"
            ],
            [
             0.2222222222222222,
             "#7201a8"
            ],
            [
             0.3333333333333333,
             "#9c179e"
            ],
            [
             0.4444444444444444,
             "#bd3786"
            ],
            [
             0.5555555555555556,
             "#d8576b"
            ],
            [
             0.6666666666666666,
             "#ed7953"
            ],
            [
             0.7777777777777778,
             "#fb9f3a"
            ],
            [
             0.8888888888888888,
             "#fdca26"
            ],
            [
             1,
             "#f0f921"
            ]
           ]
          },
          "colorway": [
           "#636efa",
           "#EF553B",
           "#00cc96",
           "#ab63fa",
           "#FFA15A",
           "#19d3f3",
           "#FF6692",
           "#B6E880",
           "#FF97FF",
           "#FECB52"
          ],
          "font": {
           "color": "#2a3f5f"
          },
          "geo": {
           "bgcolor": "white",
           "lakecolor": "white",
           "landcolor": "#E5ECF6",
           "showlakes": true,
           "showland": true,
           "subunitcolor": "white"
          },
          "hoverlabel": {
           "align": "left"
          },
          "hovermode": "closest",
          "mapbox": {
           "style": "light"
          },
          "paper_bgcolor": "white",
          "plot_bgcolor": "#E5ECF6",
          "polar": {
           "angularaxis": {
            "gridcolor": "white",
            "linecolor": "white",
            "ticks": ""
           },
           "bgcolor": "#E5ECF6",
           "radialaxis": {
            "gridcolor": "white",
            "linecolor": "white",
            "ticks": ""
           }
          },
          "scene": {
           "xaxis": {
            "backgroundcolor": "#E5ECF6",
            "gridcolor": "white",
            "gridwidth": 2,
            "linecolor": "white",
            "showbackground": true,
            "ticks": "",
            "zerolinecolor": "white"
           },
           "yaxis": {
            "backgroundcolor": "#E5ECF6",
            "gridcolor": "white",
            "gridwidth": 2,
            "linecolor": "white",
            "showbackground": true,
            "ticks": "",
            "zerolinecolor": "white"
           },
           "zaxis": {
            "backgroundcolor": "#E5ECF6",
            "gridcolor": "white",
            "gridwidth": 2,
            "linecolor": "white",
            "showbackground": true,
            "ticks": "",
            "zerolinecolor": "white"
           }
          },
          "shapedefaults": {
           "line": {
            "color": "#2a3f5f"
           }
          },
          "ternary": {
           "aaxis": {
            "gridcolor": "white",
            "linecolor": "white",
            "ticks": ""
           },
           "baxis": {
            "gridcolor": "white",
            "linecolor": "white",
            "ticks": ""
           },
           "bgcolor": "#E5ECF6",
           "caxis": {
            "gridcolor": "white",
            "linecolor": "white",
            "ticks": ""
           }
          },
          "title": {
           "x": 0.05
          },
          "xaxis": {
           "automargin": true,
           "gridcolor": "white",
           "linecolor": "white",
           "ticks": "",
           "title": {
            "standoff": 15
           },
           "zerolinecolor": "white",
           "zerolinewidth": 2
          },
          "yaxis": {
           "automargin": true,
           "gridcolor": "white",
           "linecolor": "white",
           "ticks": "",
           "title": {
            "standoff": 15
           },
           "zerolinecolor": "white",
           "zerolinewidth": 2
          }
         }
        },
        "title": {
         "text": "Logit Difference From Patched Attention Layer"
        },
        "xaxis": {
         "anchor": "y",
         "constrain": "domain",
         "domain": [
          0,
          1
         ],
         "scaleanchor": "y",
         "title": {
          "text": "Position"
         }
        },
        "yaxis": {
         "anchor": "x",
         "autorange": "reversed",
         "constrain": "domain",
         "domain": [
          0,
          1
         ],
         "title": {
          "text": "Layer"
         }
        }
       }
      },
      "text/html": [
       "<div>                            <div id=\"ef4e321a-3179-4836-9308-00d424b9f73c\" class=\"plotly-graph-div\" style=\"height:525px; width:100%;\"></div>            <script type=\"text/javascript\">                require([\"plotly\"], function(Plotly) {                    window.PLOTLYENV=window.PLOTLYENV || {};                                    if (document.getElementById(\"ef4e321a-3179-4836-9308-00d424b9f73c\")) {                    Plotly.newPlot(                        \"ef4e321a-3179-4836-9308-00d424b9f73c\",                        [{\"coloraxis\":\"coloraxis\",\"name\":\"0\",\"x\":[\"\\u003c|endoftext|\\u003e_0\",\"After_1\",\" John_2\",\",_3\",\" Mary_4\",\" and_5\",\" Jim_6\",\" went_7\",\" to_8\",\" the_9\",\" grocery_10\",\" store_11\",\" and_12\",\" return_13\",\",_14\",\" _15\",\" Jim_16\",\" and_17\",\" John_18\",\" gave_19\",\" a_20\",\" bottle_21\",\" of_22\",\" milk_23\",\" to_24\"],\"z\":[[0.0,0.001432690187357366,0.1387714445590973,-0.0037618845235556364,-0.032717783004045486,-0.011844364926218987,-0.14154620468616486,0.017970625311136246,-0.0017797073815017939,0.003244318999350071,-0.009412326849997044,0.003918359521776438,8.482356497552246e-05,0.008372004143893719,-0.011345635168254375,0.005940738599747419,0.11921988427639008,-0.2991771399974823,0.06233686953783035,0.00020045306882821023,-0.007812692783772945,0.0022227035369724035,-0.00011833252210635692,0.0026526565197855234,0.0028252210468053818],[0.0,0.0013491108547896147,-0.0005593121168203652,-0.010548627935349941,-0.005631392356008291,-0.002909615635871887,-0.00977187231183052,-0.0033757376950234175,0.00018715245823841542,0.0005049512255936861,-0.0018436361569911242,-0.00021757223294116557,0.0016977156046777964,0.0004632044583559036,-0.000831974612083286,-0.000571754586417228,-0.005610454827547073,0.004432106390595436,0.007790467701852322,-0.0049175359308719635,-0.0031371419318020344,0.001279990654438734,0.00037880995660088956,-0.0009110488463193178,0.004171929322183132],[0.0,0.004094228148460388,0.00840263906866312,-0.012227422557771206,-0.004763077013194561,-0.007355237379670143,-0.0015973603585734963,-0.013853228650987148,-9.130225225817412e-05,0.002819943707436323,-0.004269324243068695,-0.0008717906312085688,0.0002701740013435483,0.0020136265084147453,0.0013930887216702104,0.0038671738002449274,0.000644350191578269,0.031023286283016205,-0.0020881956443190575,0.021708568558096886,-0.002435598988085985,-0.0009703009272925556,0.0007290450157597661,0.002892710966989398,0.0026141705457121134],[0.0,0.0018722539534792304,-1.5574585631839e-05,0.00361098675057292,-0.01978890411555767,-0.0013528007548302412,-0.00045968624181114137,-0.004230881109833717,0.00032247541821561754,1.0211436347162817e-05,-0.0012070088414475322,-0.0003227328706998378,-0.0014146700268611312,-0.002520251087844372,0.005122794304043055,0.0032465930562466383,0.03696166351437569,0.00895465724170208,-0.06737196445465088,-0.05934140086174011,0.0015563000924885273,0.0028289109468460083,-0.0007082789088599384,-0.0020240952726453543,0.004202005919069052],[0.0,0.0029339429456740618,0.0027839033864438534,-0.01085424143821001,-0.013935177586972713,-0.02493950165808201,-0.013897506520152092,-0.01738630048930645,0.00570167088881135,-0.001518157310783863,0.0003891071828547865,-0.0075887273997068405,-0.002794114872813225,-0.006243005860596895,0.004113063216209412,0.0031624988187104464,0.015231214463710785,0.05045071616768837,0.055139392614364624,0.02106546238064766,3.312280750833452e-05,-0.0005853126640431583,0.002010623225942254,-0.0033533840905874968,0.004481018520891666],[0.0,0.0014866649871692061,0.009339645504951477,-0.016330230981111526,-0.01348729059100151,-0.008625145070254803,-0.012817754410207272,0.012531791813671589,-0.0030707246623933315,0.00026197911938652396,0.007754555903375149,0.00039318317431025207,0.003600003197789192,-0.0004909212002530694,0.0026566036976873875,-0.002341336337849498,0.03016204945743084,-0.08519992977380753,-0.15682190656661987,-0.04797963425517082,0.002982983598485589,0.000903754960745573,0.0006131152040325105,0.0007311903173103929,0.02128663845360279],[0.0,-0.0009512081160210073,0.001362239825539291,-0.00403034221380949,-0.006263385992497206,0.00020783275249414146,0.003020439762622118,0.0009510365198366344,-0.0023087712470442057,-0.0031218675430864096,0.0010970429284498096,0.0007529432186856866,0.000708021514583379,0.0038590647745877504,-0.004586307797580957,0.0003352611674927175,0.06553004682064056,-0.03910353407263756,0.0886939987540245,0.007255353964865208,0.000382070749765262,0.0006810770137235522,-0.0028124782256782055,0.0008473775815218687,-0.003915785346180201],[0.0,-1.4416144949791487e-05,0.0018105133203789592,-0.0016146940179169178,0.002574182813987136,-0.005891569424420595,0.0048478576354682446,0.004233197774738073,2.8660668249358423e-05,0.0020501818507909775,0.0005831673624925315,0.00046955441939644516,0.0015982184559106827,0.0005562229198403656,0.0001560890959808603,0.0031684627756476402,0.010757705196738243,0.002092143055051565,0.0018066518241539598,0.020212292671203613,0.0012030616635456681,0.0010723724262788892,-0.0014395121252164245,0.004735531751066446,0.3561214208602905],[0.0,-0.005091087426990271,0.00019225817231927067,0.0071878209710121155,0.006061817519366741,-0.001725603942759335,-0.004410095978528261,0.00031239271629601717,-0.0004507619596552104,-0.0005584110622294247,0.002141698496416211,-0.0003347463207319379,3.621198266046122e-05,0.001885468722321093,-0.001973638776689768,-0.0013953626621514559,0.00879745278507471,-0.008389852941036224,0.011667037382721901,0.008211109787225723,0.0007344511104747653,7.894555164966732e-05,0.00013257704267743975,-0.00030059379059821367,0.23109054565429688],[0.0,-0.005165098700672388,0.025696134194731712,0.0026746238581836224,0.00597107270732522,-0.008148039691150188,0.018884506076574326,0.008675172924995422,0.0007988088764250278,0.00029716137214563787,0.0008663845364935696,-0.00015716171765234321,5.7321336498716846e-05,-0.0010085724061354995,0.012221887707710266,0.0018199095502495766,-0.016669610515236855,-0.04080721363425255,-0.010220145806670189,-0.0016385492635890841,-0.00011786056711571291,4.410653855302371e-05,0.000435916765127331,-0.0012155899312347174,0.6789758205413818],[0.0,-0.0014304162468761206,0.005926966201514006,0.002443922683596611,-0.0006009730277583003,-0.010467151179909706,0.0005897748051211238,-0.0005448959418572485,0.0004298242274671793,0.0011762030189856887,-0.0009661391377449036,0.00015192729188129306,-0.0019317633705213666,-0.0033951736986637115,0.0006069368682801723,0.003971991129219532,-0.01865500584244728,-0.007732159458100796,-0.011130593717098236,-0.0006711659370921552,-0.0007748248754069209,-8.563876326661557e-05,-0.0012011737562716007,-0.0035479161888360977,0.24075399339199066],[0.0,0.0,0.0,0.0,0.0,0.0,0.0,0.0,0.0,0.0,0.0,0.0,0.0,0.0,0.0,0.0,0.0,0.0,0.0,0.0,0.0,0.0,0.0,0.0,-0.7922380566596985]],\"type\":\"heatmap\",\"xaxis\":\"x\",\"yaxis\":\"y\",\"hovertemplate\":\"Position: %{x}\\u003cbr\\u003eLayer: %{y}\\u003cbr\\u003ecolor: %{z}\\u003cextra\\u003e\\u003c\\u002fextra\\u003e\"}],                        {\"template\":{\"data\":{\"histogram2dcontour\":[{\"type\":\"histogram2dcontour\",\"colorbar\":{\"outlinewidth\":0,\"ticks\":\"\"},\"colorscale\":[[0.0,\"#0d0887\"],[0.1111111111111111,\"#46039f\"],[0.2222222222222222,\"#7201a8\"],[0.3333333333333333,\"#9c179e\"],[0.4444444444444444,\"#bd3786\"],[0.5555555555555556,\"#d8576b\"],[0.6666666666666666,\"#ed7953\"],[0.7777777777777778,\"#fb9f3a\"],[0.8888888888888888,\"#fdca26\"],[1.0,\"#f0f921\"]]}],\"choropleth\":[{\"type\":\"choropleth\",\"colorbar\":{\"outlinewidth\":0,\"ticks\":\"\"}}],\"histogram2d\":[{\"type\":\"histogram2d\",\"colorbar\":{\"outlinewidth\":0,\"ticks\":\"\"},\"colorscale\":[[0.0,\"#0d0887\"],[0.1111111111111111,\"#46039f\"],[0.2222222222222222,\"#7201a8\"],[0.3333333333333333,\"#9c179e\"],[0.4444444444444444,\"#bd3786\"],[0.5555555555555556,\"#d8576b\"],[0.6666666666666666,\"#ed7953\"],[0.7777777777777778,\"#fb9f3a\"],[0.8888888888888888,\"#fdca26\"],[1.0,\"#f0f921\"]]}],\"heatmap\":[{\"type\":\"heatmap\",\"colorbar\":{\"outlinewidth\":0,\"ticks\":\"\"},\"colorscale\":[[0.0,\"#0d0887\"],[0.1111111111111111,\"#46039f\"],[0.2222222222222222,\"#7201a8\"],[0.3333333333333333,\"#9c179e\"],[0.4444444444444444,\"#bd3786\"],[0.5555555555555556,\"#d8576b\"],[0.6666666666666666,\"#ed7953\"],[0.7777777777777778,\"#fb9f3a\"],[0.8888888888888888,\"#fdca26\"],[1.0,\"#f0f921\"]]}],\"heatmapgl\":[{\"type\":\"heatmapgl\",\"colorbar\":{\"outlinewidth\":0,\"ticks\":\"\"},\"colorscale\":[[0.0,\"#0d0887\"],[0.1111111111111111,\"#46039f\"],[0.2222222222222222,\"#7201a8\"],[0.3333333333333333,\"#9c179e\"],[0.4444444444444444,\"#bd3786\"],[0.5555555555555556,\"#d8576b\"],[0.6666666666666666,\"#ed7953\"],[0.7777777777777778,\"#fb9f3a\"],[0.8888888888888888,\"#fdca26\"],[1.0,\"#f0f921\"]]}],\"contourcarpet\":[{\"type\":\"contourcarpet\",\"colorbar\":{\"outlinewidth\":0,\"ticks\":\"\"}}],\"contour\":[{\"type\":\"contour\",\"colorbar\":{\"outlinewidth\":0,\"ticks\":\"\"},\"colorscale\":[[0.0,\"#0d0887\"],[0.1111111111111111,\"#46039f\"],[0.2222222222222222,\"#7201a8\"],[0.3333333333333333,\"#9c179e\"],[0.4444444444444444,\"#bd3786\"],[0.5555555555555556,\"#d8576b\"],[0.6666666666666666,\"#ed7953\"],[0.7777777777777778,\"#fb9f3a\"],[0.8888888888888888,\"#fdca26\"],[1.0,\"#f0f921\"]]}],\"surface\":[{\"type\":\"surface\",\"colorbar\":{\"outlinewidth\":0,\"ticks\":\"\"},\"colorscale\":[[0.0,\"#0d0887\"],[0.1111111111111111,\"#46039f\"],[0.2222222222222222,\"#7201a8\"],[0.3333333333333333,\"#9c179e\"],[0.4444444444444444,\"#bd3786\"],[0.5555555555555556,\"#d8576b\"],[0.6666666666666666,\"#ed7953\"],[0.7777777777777778,\"#fb9f3a\"],[0.8888888888888888,\"#fdca26\"],[1.0,\"#f0f921\"]]}],\"mesh3d\":[{\"type\":\"mesh3d\",\"colorbar\":{\"outlinewidth\":0,\"ticks\":\"\"}}],\"scatter\":[{\"fillpattern\":{\"fillmode\":\"overlay\",\"size\":10,\"solidity\":0.2},\"type\":\"scatter\"}],\"parcoords\":[{\"type\":\"parcoords\",\"line\":{\"colorbar\":{\"outlinewidth\":0,\"ticks\":\"\"}}}],\"scatterpolargl\":[{\"type\":\"scatterpolargl\",\"marker\":{\"colorbar\":{\"outlinewidth\":0,\"ticks\":\"\"}}}],\"bar\":[{\"error_x\":{\"color\":\"#2a3f5f\"},\"error_y\":{\"color\":\"#2a3f5f\"},\"marker\":{\"line\":{\"color\":\"#E5ECF6\",\"width\":0.5},\"pattern\":{\"fillmode\":\"overlay\",\"size\":10,\"solidity\":0.2}},\"type\":\"bar\"}],\"scattergeo\":[{\"type\":\"scattergeo\",\"marker\":{\"colorbar\":{\"outlinewidth\":0,\"ticks\":\"\"}}}],\"scatterpolar\":[{\"type\":\"scatterpolar\",\"marker\":{\"colorbar\":{\"outlinewidth\":0,\"ticks\":\"\"}}}],\"histogram\":[{\"marker\":{\"pattern\":{\"fillmode\":\"overlay\",\"size\":10,\"solidity\":0.2}},\"type\":\"histogram\"}],\"scattergl\":[{\"type\":\"scattergl\",\"marker\":{\"colorbar\":{\"outlinewidth\":0,\"ticks\":\"\"}}}],\"scatter3d\":[{\"type\":\"scatter3d\",\"line\":{\"colorbar\":{\"outlinewidth\":0,\"ticks\":\"\"}},\"marker\":{\"colorbar\":{\"outlinewidth\":0,\"ticks\":\"\"}}}],\"scattermapbox\":[{\"type\":\"scattermapbox\",\"marker\":{\"colorbar\":{\"outlinewidth\":0,\"ticks\":\"\"}}}],\"scatterternary\":[{\"type\":\"scatterternary\",\"marker\":{\"colorbar\":{\"outlinewidth\":0,\"ticks\":\"\"}}}],\"scattercarpet\":[{\"type\":\"scattercarpet\",\"marker\":{\"colorbar\":{\"outlinewidth\":0,\"ticks\":\"\"}}}],\"carpet\":[{\"aaxis\":{\"endlinecolor\":\"#2a3f5f\",\"gridcolor\":\"white\",\"linecolor\":\"white\",\"minorgridcolor\":\"white\",\"startlinecolor\":\"#2a3f5f\"},\"baxis\":{\"endlinecolor\":\"#2a3f5f\",\"gridcolor\":\"white\",\"linecolor\":\"white\",\"minorgridcolor\":\"white\",\"startlinecolor\":\"#2a3f5f\"},\"type\":\"carpet\"}],\"table\":[{\"cells\":{\"fill\":{\"color\":\"#EBF0F8\"},\"line\":{\"color\":\"white\"}},\"header\":{\"fill\":{\"color\":\"#C8D4E3\"},\"line\":{\"color\":\"white\"}},\"type\":\"table\"}],\"barpolar\":[{\"marker\":{\"line\":{\"color\":\"#E5ECF6\",\"width\":0.5},\"pattern\":{\"fillmode\":\"overlay\",\"size\":10,\"solidity\":0.2}},\"type\":\"barpolar\"}],\"pie\":[{\"automargin\":true,\"type\":\"pie\"}]},\"layout\":{\"autotypenumbers\":\"strict\",\"colorway\":[\"#636efa\",\"#EF553B\",\"#00cc96\",\"#ab63fa\",\"#FFA15A\",\"#19d3f3\",\"#FF6692\",\"#B6E880\",\"#FF97FF\",\"#FECB52\"],\"font\":{\"color\":\"#2a3f5f\"},\"hovermode\":\"closest\",\"hoverlabel\":{\"align\":\"left\"},\"paper_bgcolor\":\"white\",\"plot_bgcolor\":\"#E5ECF6\",\"polar\":{\"bgcolor\":\"#E5ECF6\",\"angularaxis\":{\"gridcolor\":\"white\",\"linecolor\":\"white\",\"ticks\":\"\"},\"radialaxis\":{\"gridcolor\":\"white\",\"linecolor\":\"white\",\"ticks\":\"\"}},\"ternary\":{\"bgcolor\":\"#E5ECF6\",\"aaxis\":{\"gridcolor\":\"white\",\"linecolor\":\"white\",\"ticks\":\"\"},\"baxis\":{\"gridcolor\":\"white\",\"linecolor\":\"white\",\"ticks\":\"\"},\"caxis\":{\"gridcolor\":\"white\",\"linecolor\":\"white\",\"ticks\":\"\"}},\"coloraxis\":{\"colorbar\":{\"outlinewidth\":0,\"ticks\":\"\"}},\"colorscale\":{\"sequential\":[[0.0,\"#0d0887\"],[0.1111111111111111,\"#46039f\"],[0.2222222222222222,\"#7201a8\"],[0.3333333333333333,\"#9c179e\"],[0.4444444444444444,\"#bd3786\"],[0.5555555555555556,\"#d8576b\"],[0.6666666666666666,\"#ed7953\"],[0.7777777777777778,\"#fb9f3a\"],[0.8888888888888888,\"#fdca26\"],[1.0,\"#f0f921\"]],\"sequentialminus\":[[0.0,\"#0d0887\"],[0.1111111111111111,\"#46039f\"],[0.2222222222222222,\"#7201a8\"],[0.3333333333333333,\"#9c179e\"],[0.4444444444444444,\"#bd3786\"],[0.5555555555555556,\"#d8576b\"],[0.6666666666666666,\"#ed7953\"],[0.7777777777777778,\"#fb9f3a\"],[0.8888888888888888,\"#fdca26\"],[1.0,\"#f0f921\"]],\"diverging\":[[0,\"#8e0152\"],[0.1,\"#c51b7d\"],[0.2,\"#de77ae\"],[0.3,\"#f1b6da\"],[0.4,\"#fde0ef\"],[0.5,\"#f7f7f7\"],[0.6,\"#e6f5d0\"],[0.7,\"#b8e186\"],[0.8,\"#7fbc41\"],[0.9,\"#4d9221\"],[1,\"#276419\"]]},\"xaxis\":{\"gridcolor\":\"white\",\"linecolor\":\"white\",\"ticks\":\"\",\"title\":{\"standoff\":15},\"zerolinecolor\":\"white\",\"automargin\":true,\"zerolinewidth\":2},\"yaxis\":{\"gridcolor\":\"white\",\"linecolor\":\"white\",\"ticks\":\"\",\"title\":{\"standoff\":15},\"zerolinecolor\":\"white\",\"automargin\":true,\"zerolinewidth\":2},\"scene\":{\"xaxis\":{\"backgroundcolor\":\"#E5ECF6\",\"gridcolor\":\"white\",\"linecolor\":\"white\",\"showbackground\":true,\"ticks\":\"\",\"zerolinecolor\":\"white\",\"gridwidth\":2},\"yaxis\":{\"backgroundcolor\":\"#E5ECF6\",\"gridcolor\":\"white\",\"linecolor\":\"white\",\"showbackground\":true,\"ticks\":\"\",\"zerolinecolor\":\"white\",\"gridwidth\":2},\"zaxis\":{\"backgroundcolor\":\"#E5ECF6\",\"gridcolor\":\"white\",\"linecolor\":\"white\",\"showbackground\":true,\"ticks\":\"\",\"zerolinecolor\":\"white\",\"gridwidth\":2}},\"shapedefaults\":{\"line\":{\"color\":\"#2a3f5f\"}},\"annotationdefaults\":{\"arrowcolor\":\"#2a3f5f\",\"arrowhead\":0,\"arrowwidth\":1},\"geo\":{\"bgcolor\":\"white\",\"landcolor\":\"#E5ECF6\",\"subunitcolor\":\"white\",\"showland\":true,\"showlakes\":true,\"lakecolor\":\"white\"},\"title\":{\"x\":0.05},\"mapbox\":{\"style\":\"light\"}}},\"xaxis\":{\"anchor\":\"y\",\"domain\":[0.0,1.0],\"scaleanchor\":\"y\",\"constrain\":\"domain\",\"title\":{\"text\":\"Position\"}},\"yaxis\":{\"anchor\":\"x\",\"domain\":[0.0,1.0],\"autorange\":\"reversed\",\"constrain\":\"domain\",\"title\":{\"text\":\"Layer\"}},\"coloraxis\":{\"colorscale\":[[0.0,\"rgb(103,0,31)\"],[0.1,\"rgb(178,24,43)\"],[0.2,\"rgb(214,96,77)\"],[0.3,\"rgb(244,165,130)\"],[0.4,\"rgb(253,219,199)\"],[0.5,\"rgb(247,247,247)\"],[0.6,\"rgb(209,229,240)\"],[0.7,\"rgb(146,197,222)\"],[0.8,\"rgb(67,147,195)\"],[0.9,\"rgb(33,102,172)\"],[1.0,\"rgb(5,48,97)\"]],\"cmid\":0.0},\"title\":{\"text\":\"Logit Difference From Patched Attention Layer\"}},                        {\"responsive\": true}                    ).then(function(){\n",
       "                            \n",
       "var gd = document.getElementById('ef4e321a-3179-4836-9308-00d424b9f73c');\n",
       "var x = new MutationObserver(function (mutations, observer) {{\n",
       "        var display = window.getComputedStyle(gd).display;\n",
       "        if (!display || display === 'none') {{\n",
       "            console.log([gd, 'removed!']);\n",
       "            Plotly.purge(gd);\n",
       "            observer.disconnect();\n",
       "        }}\n",
       "}});\n",
       "\n",
       "// Listen for the removal of the full notebook cells\n",
       "var notebookContainer = gd.closest('#notebook-container');\n",
       "if (notebookContainer) {{\n",
       "    x.observe(notebookContainer, {childList: true});\n",
       "}}\n",
       "\n",
       "// Listen for the clearing of the current output cell\n",
       "var outputEl = gd.closest('.output');\n",
       "if (outputEl) {{\n",
       "    x.observe(outputEl, {childList: true});\n",
       "}}\n",
       "\n",
       "                        })                };                });            </script>        </div>"
      ]
     },
     "metadata": {},
     "output_type": "display_data"
    }
   ],
   "source": [
    "imshow(\n",
    "    patched_attn_diff,\n",
    "    x=prompt_position_labels,\n",
    "    title=\"Logit Difference From Patched Attention Layer\",\n",
    "    labels={\"x\": \"Position\", \"y\": \"Layer\"},\n",
    ")"
   ]
  },
  {
   "cell_type": "code",
   "execution_count": 114,
   "metadata": {},
   "outputs": [
    {
     "data": {
      "application/vnd.plotly.v1+json": {
       "config": {
        "plotlyServerURL": "https://plot.ly"
       },
       "data": [
        {
         "coloraxis": "coloraxis",
         "hovertemplate": "Position: %{x}<br>Layer: %{y}<br>color: %{z}<extra></extra>",
         "name": "0",
         "type": "heatmap",
         "x": [
          "<|endoftext|>_0",
          "After_1",
          " John_2",
          ",_3",
          " Mary_4",
          " and_5",
          " Jim_6",
          " went_7",
          " to_8",
          " the_9",
          " grocery_10",
          " store_11",
          " and_12",
          " return_13",
          ",_14",
          " _15",
          " Jim_16",
          " and_17",
          " John_18",
          " gave_19",
          " a_20",
          " bottle_21",
          " of_22",
          " milk_23",
          " to_24"
         ],
         "xaxis": "x",
         "yaxis": "y",
         "z": [
          [
           0,
           0.10180582851171494,
           -0.15320608019828796,
           0.0278482586145401,
           -0.1268995702266693,
           0.31484517455101013,
           -0.141822949051857,
           0.08153127878904343,
           0.006692395079880953,
           0.008711513131856918,
           -0.12478096038103104,
           0.008420659229159355,
           0.028060339391231537,
           0.04107528552412987,
           -0.028992926701903343,
           0.017634764313697815,
           0.5651467442512512,
           -0.6184287071228027,
           -0.15313562750816345,
           0.04117560014128685,
           -0.012001526542007923,
           0.005356370005756617,
           0.00010897919128183275,
           -0.03534993156790733,
           -0.041994359344244
          ],
          [
           0,
           -0.028108693659305573,
           -0.010967511683702469,
           -0.016098199412226677,
           0.00125257414765656,
           0.004495992325246334,
           -0.014542114920914173,
           -0.0030289350543171167,
           0.0030016901437193155,
           0.003178502433001995,
           -0.0018448804039508104,
           -0.000885520305018872,
           0.001894950750283897,
           0.00963942427188158,
           -0.002193056046962738,
           -0.004733815789222717,
           0.01325036771595478,
           -0.05844622477889061,
           0.0012874131789430976,
           0.031158780679106712,
           0.00173534348141402,
           0.00041077431524172425,
           0.0009727465221658349,
           0.0009223329252563417,
           0.000237094092881307
          ],
          [
           0,
           0.015509454533457756,
           0.008273580111563206,
           -0.005618521012365818,
           0.007898502983152866,
           0.001169509720057249,
           -0.015560083091259003,
           0.037685345858335495,
           -0.0021292560268193483,
           -0.001877531292848289,
           -0.011972222477197647,
           0.004447466693818569,
           0.000569780939258635,
           0.005033465567976236,
           0.0028388649225234985,
           0.001566125312820077,
           -0.04021332040429115,
           -0.03782882168889046,
           -0.015455994755029678,
           0.009319780394434929,
           -0.0026746238581836224,
           0.0011363440426066518,
           -0.0007869670516811311,
           0.0050723375752568245,
           -0.00011738860484911129
          ],
          [
           0,
           -0.009465743787586689,
           -0.010602517053484917,
           -0.008136669173836708,
           -0.018151257187128067,
           -0.0008340769563801587,
           -0.03174066171050072,
           0.004720000084489584,
           -0.004279192537069321,
           0.00244765542447567,
           -0.00772825488820672,
           -0.00013073212176095694,
           0.0020199764985591173,
           0.007583750411868095,
           0.0007704914314672351,
           0.013271134346723557,
           0.018261007964611053,
           -0.014283567667007446,
           -0.03543642908334732,
           0.05489933863282204,
           -0.0016984449466690421,
           0.0020217355340719223,
           -0.0012305208947509527,
           -0.003793677082285285,
           -0.015010252594947815
          ],
          [
           0,
           -0.025230055674910545,
           -0.00003818562254309654,
           -0.016598431393504143,
           0.0013724513119086623,
           -0.003361321520060301,
           -0.0251950453966856,
           -0.01400815974920988,
           0.0010366752976551652,
           -0.001365843927487731,
           0.0022211589384824038,
           0.005636197980493307,
           0.0008742791251279414,
           0.0016755765536800027,
           0.002959814853966236,
           0.012638067826628685,
           0.02328318916261196,
           0.023347675800323486,
           0.05022893846035004,
           0.023698296397924423,
           -0.0060986727476119995,
           0.0018543624319136143,
           0.001370391808450222,
           0.006692180410027504,
           -0.006724445149302483
          ],
          [
           0,
           -0.0004535508051048964,
           -0.00858661625534296,
           -0.021597744897007942,
           0.007971999235451221,
           0.006786829326301813,
           -0.006843550130724907,
           0.03469691425561905,
           -0.0026215072721242905,
           0.0016624904237687588,
           -0.0008256246219389141,
           0.0004890334093943238,
           0.0017256897408515215,
           0.006902158260345459,
           -0.0019619257654994726,
           0.0019247698364779353,
           0.045027025043964386,
           0.013370330445468426,
           -0.0723518431186676,
           0.04406372085213661,
           0.0067194681614637375,
           -0.001614736975170672,
           0.004545376170426607,
           -0.00001965057890629396,
           -0.031032811850309372
          ],
          [
           0,
           -0.014640968292951584,
           0.003216344863176346,
           0.0033632523845881224,
           -0.021310795098543167,
           0.0057160016149282455,
           0.030955323949456215,
           -0.008402681909501553,
           -0.0031477822922170162,
           0.0036009899340569973,
           0.009477284736931324,
           0.0012342965928837657,
           0.0018446658505126834,
           0.0043210675939917564,
           0.0020744232460856438,
           -0.0068079386837780476,
           0.05045946687459946,
           -0.05940030887722969,
           0.0228072851896286,
           0.011388410814106464,
           -0.0024581244215369225,
           0.0013195921201258898,
           0.0008405127446167171,
           -0.0032016714103519917,
           -0.008790930733084679
          ],
          [
           0,
           -0.02845948562026024,
           0.03490045666694641,
           0.004524266812950373,
           -0.02473754622042179,
           -0.0054779634810984135,
           0.006878045853227377,
           -0.012571007013320923,
           -0.0010454708244651556,
           0.0030326249543577433,
           0.007669603452086449,
           0.0006700074882246554,
           0.0003920247545465827,
           -0.003321119351312518,
           -0.006643096916377544,
           0.003413708880543709,
           0.034363798797130585,
           -0.026510175317525864,
           -0.026360606774687767,
           -0.049802202731370926,
           0.0028099468909204006,
           0.001064392039552331,
           -0.000713170098606497,
           -0.004074534401297569,
           -0.00409581558778882
          ],
          [
           0,
           0.012796645052731037,
           0.025953050702810287,
           0.011206192895770073,
           0.011325855739414692,
           -0.0004169526509940624,
           0.00925812590867281,
           -0.007061594165861607,
           -0.00023216000408865511,
           0.0007461212808266282,
           -0.008290441706776619,
           0.00001973638791241683,
           0.0003966155927628279,
           0.006964284926652908,
           -0.004128594882786274,
           0.0007091799634508789,
           -0.0010813395492732525,
           -0.012737779878079891,
           -0.005672238301485777,
           0.0025239409878849983,
           0.004810873419046402,
           0.00018848251784220338,
           -0.0016445989022031426,
           -0.0002640814636833966,
           0.018843017518520355
          ],
          [
           0,
           0.0037093255668878555,
           0.01192730013281107,
           -0.006653050892055035,
           -0.0022923387587070465,
           -0.019341403618454933,
           0.0010746034095063806,
           -0.016397077590227127,
           -0.00025923317298293114,
           -0.0006761000258848071,
           -0.006496360991150141,
           0.00013249123003333807,
           0.00011382747470634058,
           0.001918591558933258,
           -0.003878200426697731,
           -0.00659941928461194,
           -0.011349624954164028,
           -0.024414341896772385,
           -0.0038140141405165195,
           -0.006144323851913214,
           0.0018530752277001739,
           -0.00019581930246204138,
           0.000015360059478553012,
           -0.0006331948097795248,
           0.10588748753070831
          ],
          [
           0,
           0.009478658437728882,
           0.009731669910252094,
           0.001289472682401538,
           -0.00588860921561718,
           0.007352062035351992,
           0.010417895391583443,
           -0.008005766198039055,
           0.0008013831684365869,
           0.0023368741385638714,
           -0.0009133228450082242,
           -0.0001823470665840432,
           -0.0003651231818366796,
           0.0006956647848710418,
           -0.004291119985282421,
           -0.0026822180952876806,
           0.00007602800178574398,
           0.02047710493206978,
           -0.005064872093498707,
           0.0024305791594088078,
           -0.0005271761328913271,
           -0.00013094664609525353,
           -0.0007967923302203417,
           -0.00004247614197083749,
           0.18944212794303894
          ],
          [
           0,
           0,
           0,
           0,
           0,
           0,
           0,
           0,
           0,
           0,
           0,
           0,
           0,
           0,
           0,
           0,
           0,
           0,
           0,
           0,
           0,
           0,
           0,
           0,
           0.047384582459926605
          ]
         ]
        }
       ],
       "layout": {
        "coloraxis": {
         "cmid": 0,
         "colorscale": [
          [
           0,
           "rgb(103,0,31)"
          ],
          [
           0.1,
           "rgb(178,24,43)"
          ],
          [
           0.2,
           "rgb(214,96,77)"
          ],
          [
           0.3,
           "rgb(244,165,130)"
          ],
          [
           0.4,
           "rgb(253,219,199)"
          ],
          [
           0.5,
           "rgb(247,247,247)"
          ],
          [
           0.6,
           "rgb(209,229,240)"
          ],
          [
           0.7,
           "rgb(146,197,222)"
          ],
          [
           0.8,
           "rgb(67,147,195)"
          ],
          [
           0.9,
           "rgb(33,102,172)"
          ],
          [
           1,
           "rgb(5,48,97)"
          ]
         ]
        },
        "template": {
         "data": {
          "bar": [
           {
            "error_x": {
             "color": "#2a3f5f"
            },
            "error_y": {
             "color": "#2a3f5f"
            },
            "marker": {
             "line": {
              "color": "#E5ECF6",
              "width": 0.5
             },
             "pattern": {
              "fillmode": "overlay",
              "size": 10,
              "solidity": 0.2
             }
            },
            "type": "bar"
           }
          ],
          "barpolar": [
           {
            "marker": {
             "line": {
              "color": "#E5ECF6",
              "width": 0.5
             },
             "pattern": {
              "fillmode": "overlay",
              "size": 10,
              "solidity": 0.2
             }
            },
            "type": "barpolar"
           }
          ],
          "carpet": [
           {
            "aaxis": {
             "endlinecolor": "#2a3f5f",
             "gridcolor": "white",
             "linecolor": "white",
             "minorgridcolor": "white",
             "startlinecolor": "#2a3f5f"
            },
            "baxis": {
             "endlinecolor": "#2a3f5f",
             "gridcolor": "white",
             "linecolor": "white",
             "minorgridcolor": "white",
             "startlinecolor": "#2a3f5f"
            },
            "type": "carpet"
           }
          ],
          "choropleth": [
           {
            "colorbar": {
             "outlinewidth": 0,
             "ticks": ""
            },
            "type": "choropleth"
           }
          ],
          "contour": [
           {
            "colorbar": {
             "outlinewidth": 0,
             "ticks": ""
            },
            "colorscale": [
             [
              0,
              "#0d0887"
             ],
             [
              0.1111111111111111,
              "#46039f"
             ],
             [
              0.2222222222222222,
              "#7201a8"
             ],
             [
              0.3333333333333333,
              "#9c179e"
             ],
             [
              0.4444444444444444,
              "#bd3786"
             ],
             [
              0.5555555555555556,
              "#d8576b"
             ],
             [
              0.6666666666666666,
              "#ed7953"
             ],
             [
              0.7777777777777778,
              "#fb9f3a"
             ],
             [
              0.8888888888888888,
              "#fdca26"
             ],
             [
              1,
              "#f0f921"
             ]
            ],
            "type": "contour"
           }
          ],
          "contourcarpet": [
           {
            "colorbar": {
             "outlinewidth": 0,
             "ticks": ""
            },
            "type": "contourcarpet"
           }
          ],
          "heatmap": [
           {
            "colorbar": {
             "outlinewidth": 0,
             "ticks": ""
            },
            "colorscale": [
             [
              0,
              "#0d0887"
             ],
             [
              0.1111111111111111,
              "#46039f"
             ],
             [
              0.2222222222222222,
              "#7201a8"
             ],
             [
              0.3333333333333333,
              "#9c179e"
             ],
             [
              0.4444444444444444,
              "#bd3786"
             ],
             [
              0.5555555555555556,
              "#d8576b"
             ],
             [
              0.6666666666666666,
              "#ed7953"
             ],
             [
              0.7777777777777778,
              "#fb9f3a"
             ],
             [
              0.8888888888888888,
              "#fdca26"
             ],
             [
              1,
              "#f0f921"
             ]
            ],
            "type": "heatmap"
           }
          ],
          "heatmapgl": [
           {
            "colorbar": {
             "outlinewidth": 0,
             "ticks": ""
            },
            "colorscale": [
             [
              0,
              "#0d0887"
             ],
             [
              0.1111111111111111,
              "#46039f"
             ],
             [
              0.2222222222222222,
              "#7201a8"
             ],
             [
              0.3333333333333333,
              "#9c179e"
             ],
             [
              0.4444444444444444,
              "#bd3786"
             ],
             [
              0.5555555555555556,
              "#d8576b"
             ],
             [
              0.6666666666666666,
              "#ed7953"
             ],
             [
              0.7777777777777778,
              "#fb9f3a"
             ],
             [
              0.8888888888888888,
              "#fdca26"
             ],
             [
              1,
              "#f0f921"
             ]
            ],
            "type": "heatmapgl"
           }
          ],
          "histogram": [
           {
            "marker": {
             "pattern": {
              "fillmode": "overlay",
              "size": 10,
              "solidity": 0.2
             }
            },
            "type": "histogram"
           }
          ],
          "histogram2d": [
           {
            "colorbar": {
             "outlinewidth": 0,
             "ticks": ""
            },
            "colorscale": [
             [
              0,
              "#0d0887"
             ],
             [
              0.1111111111111111,
              "#46039f"
             ],
             [
              0.2222222222222222,
              "#7201a8"
             ],
             [
              0.3333333333333333,
              "#9c179e"
             ],
             [
              0.4444444444444444,
              "#bd3786"
             ],
             [
              0.5555555555555556,
              "#d8576b"
             ],
             [
              0.6666666666666666,
              "#ed7953"
             ],
             [
              0.7777777777777778,
              "#fb9f3a"
             ],
             [
              0.8888888888888888,
              "#fdca26"
             ],
             [
              1,
              "#f0f921"
             ]
            ],
            "type": "histogram2d"
           }
          ],
          "histogram2dcontour": [
           {
            "colorbar": {
             "outlinewidth": 0,
             "ticks": ""
            },
            "colorscale": [
             [
              0,
              "#0d0887"
             ],
             [
              0.1111111111111111,
              "#46039f"
             ],
             [
              0.2222222222222222,
              "#7201a8"
             ],
             [
              0.3333333333333333,
              "#9c179e"
             ],
             [
              0.4444444444444444,
              "#bd3786"
             ],
             [
              0.5555555555555556,
              "#d8576b"
             ],
             [
              0.6666666666666666,
              "#ed7953"
             ],
             [
              0.7777777777777778,
              "#fb9f3a"
             ],
             [
              0.8888888888888888,
              "#fdca26"
             ],
             [
              1,
              "#f0f921"
             ]
            ],
            "type": "histogram2dcontour"
           }
          ],
          "mesh3d": [
           {
            "colorbar": {
             "outlinewidth": 0,
             "ticks": ""
            },
            "type": "mesh3d"
           }
          ],
          "parcoords": [
           {
            "line": {
             "colorbar": {
              "outlinewidth": 0,
              "ticks": ""
             }
            },
            "type": "parcoords"
           }
          ],
          "pie": [
           {
            "automargin": true,
            "type": "pie"
           }
          ],
          "scatter": [
           {
            "fillpattern": {
             "fillmode": "overlay",
             "size": 10,
             "solidity": 0.2
            },
            "type": "scatter"
           }
          ],
          "scatter3d": [
           {
            "line": {
             "colorbar": {
              "outlinewidth": 0,
              "ticks": ""
             }
            },
            "marker": {
             "colorbar": {
              "outlinewidth": 0,
              "ticks": ""
             }
            },
            "type": "scatter3d"
           }
          ],
          "scattercarpet": [
           {
            "marker": {
             "colorbar": {
              "outlinewidth": 0,
              "ticks": ""
             }
            },
            "type": "scattercarpet"
           }
          ],
          "scattergeo": [
           {
            "marker": {
             "colorbar": {
              "outlinewidth": 0,
              "ticks": ""
             }
            },
            "type": "scattergeo"
           }
          ],
          "scattergl": [
           {
            "marker": {
             "colorbar": {
              "outlinewidth": 0,
              "ticks": ""
             }
            },
            "type": "scattergl"
           }
          ],
          "scattermapbox": [
           {
            "marker": {
             "colorbar": {
              "outlinewidth": 0,
              "ticks": ""
             }
            },
            "type": "scattermapbox"
           }
          ],
          "scatterpolar": [
           {
            "marker": {
             "colorbar": {
              "outlinewidth": 0,
              "ticks": ""
             }
            },
            "type": "scatterpolar"
           }
          ],
          "scatterpolargl": [
           {
            "marker": {
             "colorbar": {
              "outlinewidth": 0,
              "ticks": ""
             }
            },
            "type": "scatterpolargl"
           }
          ],
          "scatterternary": [
           {
            "marker": {
             "colorbar": {
              "outlinewidth": 0,
              "ticks": ""
             }
            },
            "type": "scatterternary"
           }
          ],
          "surface": [
           {
            "colorbar": {
             "outlinewidth": 0,
             "ticks": ""
            },
            "colorscale": [
             [
              0,
              "#0d0887"
             ],
             [
              0.1111111111111111,
              "#46039f"
             ],
             [
              0.2222222222222222,
              "#7201a8"
             ],
             [
              0.3333333333333333,
              "#9c179e"
             ],
             [
              0.4444444444444444,
              "#bd3786"
             ],
             [
              0.5555555555555556,
              "#d8576b"
             ],
             [
              0.6666666666666666,
              "#ed7953"
             ],
             [
              0.7777777777777778,
              "#fb9f3a"
             ],
             [
              0.8888888888888888,
              "#fdca26"
             ],
             [
              1,
              "#f0f921"
             ]
            ],
            "type": "surface"
           }
          ],
          "table": [
           {
            "cells": {
             "fill": {
              "color": "#EBF0F8"
             },
             "line": {
              "color": "white"
             }
            },
            "header": {
             "fill": {
              "color": "#C8D4E3"
             },
             "line": {
              "color": "white"
             }
            },
            "type": "table"
           }
          ]
         },
         "layout": {
          "annotationdefaults": {
           "arrowcolor": "#2a3f5f",
           "arrowhead": 0,
           "arrowwidth": 1
          },
          "autotypenumbers": "strict",
          "coloraxis": {
           "colorbar": {
            "outlinewidth": 0,
            "ticks": ""
           }
          },
          "colorscale": {
           "diverging": [
            [
             0,
             "#8e0152"
            ],
            [
             0.1,
             "#c51b7d"
            ],
            [
             0.2,
             "#de77ae"
            ],
            [
             0.3,
             "#f1b6da"
            ],
            [
             0.4,
             "#fde0ef"
            ],
            [
             0.5,
             "#f7f7f7"
            ],
            [
             0.6,
             "#e6f5d0"
            ],
            [
             0.7,
             "#b8e186"
            ],
            [
             0.8,
             "#7fbc41"
            ],
            [
             0.9,
             "#4d9221"
            ],
            [
             1,
             "#276419"
            ]
           ],
           "sequential": [
            [
             0,
             "#0d0887"
            ],
            [
             0.1111111111111111,
             "#46039f"
            ],
            [
             0.2222222222222222,
             "#7201a8"
            ],
            [
             0.3333333333333333,
             "#9c179e"
            ],
            [
             0.4444444444444444,
             "#bd3786"
            ],
            [
             0.5555555555555556,
             "#d8576b"
            ],
            [
             0.6666666666666666,
             "#ed7953"
            ],
            [
             0.7777777777777778,
             "#fb9f3a"
            ],
            [
             0.8888888888888888,
             "#fdca26"
            ],
            [
             1,
             "#f0f921"
            ]
           ],
           "sequentialminus": [
            [
             0,
             "#0d0887"
            ],
            [
             0.1111111111111111,
             "#46039f"
            ],
            [
             0.2222222222222222,
             "#7201a8"
            ],
            [
             0.3333333333333333,
             "#9c179e"
            ],
            [
             0.4444444444444444,
             "#bd3786"
            ],
            [
             0.5555555555555556,
             "#d8576b"
            ],
            [
             0.6666666666666666,
             "#ed7953"
            ],
            [
             0.7777777777777778,
             "#fb9f3a"
            ],
            [
             0.8888888888888888,
             "#fdca26"
            ],
            [
             1,
             "#f0f921"
            ]
           ]
          },
          "colorway": [
           "#636efa",
           "#EF553B",
           "#00cc96",
           "#ab63fa",
           "#FFA15A",
           "#19d3f3",
           "#FF6692",
           "#B6E880",
           "#FF97FF",
           "#FECB52"
          ],
          "font": {
           "color": "#2a3f5f"
          },
          "geo": {
           "bgcolor": "white",
           "lakecolor": "white",
           "landcolor": "#E5ECF6",
           "showlakes": true,
           "showland": true,
           "subunitcolor": "white"
          },
          "hoverlabel": {
           "align": "left"
          },
          "hovermode": "closest",
          "mapbox": {
           "style": "light"
          },
          "paper_bgcolor": "white",
          "plot_bgcolor": "#E5ECF6",
          "polar": {
           "angularaxis": {
            "gridcolor": "white",
            "linecolor": "white",
            "ticks": ""
           },
           "bgcolor": "#E5ECF6",
           "radialaxis": {
            "gridcolor": "white",
            "linecolor": "white",
            "ticks": ""
           }
          },
          "scene": {
           "xaxis": {
            "backgroundcolor": "#E5ECF6",
            "gridcolor": "white",
            "gridwidth": 2,
            "linecolor": "white",
            "showbackground": true,
            "ticks": "",
            "zerolinecolor": "white"
           },
           "yaxis": {
            "backgroundcolor": "#E5ECF6",
            "gridcolor": "white",
            "gridwidth": 2,
            "linecolor": "white",
            "showbackground": true,
            "ticks": "",
            "zerolinecolor": "white"
           },
           "zaxis": {
            "backgroundcolor": "#E5ECF6",
            "gridcolor": "white",
            "gridwidth": 2,
            "linecolor": "white",
            "showbackground": true,
            "ticks": "",
            "zerolinecolor": "white"
           }
          },
          "shapedefaults": {
           "line": {
            "color": "#2a3f5f"
           }
          },
          "ternary": {
           "aaxis": {
            "gridcolor": "white",
            "linecolor": "white",
            "ticks": ""
           },
           "baxis": {
            "gridcolor": "white",
            "linecolor": "white",
            "ticks": ""
           },
           "bgcolor": "#E5ECF6",
           "caxis": {
            "gridcolor": "white",
            "linecolor": "white",
            "ticks": ""
           }
          },
          "title": {
           "x": 0.05
          },
          "xaxis": {
           "automargin": true,
           "gridcolor": "white",
           "linecolor": "white",
           "ticks": "",
           "title": {
            "standoff": 15
           },
           "zerolinecolor": "white",
           "zerolinewidth": 2
          },
          "yaxis": {
           "automargin": true,
           "gridcolor": "white",
           "linecolor": "white",
           "ticks": "",
           "title": {
            "standoff": 15
           },
           "zerolinecolor": "white",
           "zerolinewidth": 2
          }
         }
        },
        "title": {
         "text": "Logit Difference From Patched MLP Layer"
        },
        "xaxis": {
         "anchor": "y",
         "constrain": "domain",
         "domain": [
          0,
          1
         ],
         "scaleanchor": "y",
         "title": {
          "text": "Position"
         }
        },
        "yaxis": {
         "anchor": "x",
         "autorange": "reversed",
         "constrain": "domain",
         "domain": [
          0,
          1
         ],
         "title": {
          "text": "Layer"
         }
        }
       }
      },
      "text/html": [
       "<div>                            <div id=\"1eeab800-c131-43ba-a171-8a26b945324a\" class=\"plotly-graph-div\" style=\"height:525px; width:100%;\"></div>            <script type=\"text/javascript\">                require([\"plotly\"], function(Plotly) {                    window.PLOTLYENV=window.PLOTLYENV || {};                                    if (document.getElementById(\"1eeab800-c131-43ba-a171-8a26b945324a\")) {                    Plotly.newPlot(                        \"1eeab800-c131-43ba-a171-8a26b945324a\",                        [{\"coloraxis\":\"coloraxis\",\"name\":\"0\",\"x\":[\"\\u003c|endoftext|\\u003e_0\",\"After_1\",\" John_2\",\",_3\",\" Mary_4\",\" and_5\",\" Jim_6\",\" went_7\",\" to_8\",\" the_9\",\" grocery_10\",\" store_11\",\" and_12\",\" return_13\",\",_14\",\" _15\",\" Jim_16\",\" and_17\",\" John_18\",\" gave_19\",\" a_20\",\" bottle_21\",\" of_22\",\" milk_23\",\" to_24\"],\"z\":[[0.0,0.10180582851171494,-0.15320608019828796,0.0278482586145401,-0.1268995702266693,0.31484517455101013,-0.141822949051857,0.08153127878904343,0.006692395079880953,0.008711513131856918,-0.12478096038103104,0.008420659229159355,0.028060339391231537,0.04107528552412987,-0.028992926701903343,0.017634764313697815,0.5651467442512512,-0.6184287071228027,-0.15313562750816345,0.04117560014128685,-0.012001526542007923,0.005356370005756617,0.00010897919128183275,-0.03534993156790733,-0.041994359344244],[0.0,-0.028108693659305573,-0.010967511683702469,-0.016098199412226677,0.00125257414765656,0.004495992325246334,-0.014542114920914173,-0.0030289350543171167,0.0030016901437193155,0.003178502433001995,-0.0018448804039508104,-0.000885520305018872,0.001894950750283897,0.00963942427188158,-0.002193056046962738,-0.004733815789222717,0.01325036771595478,-0.05844622477889061,0.0012874131789430976,0.031158780679106712,0.00173534348141402,0.00041077431524172425,0.0009727465221658349,0.0009223329252563417,0.000237094092881307],[0.0,0.015509454533457756,0.008273580111563206,-0.005618521012365818,0.007898502983152866,0.001169509720057249,-0.015560083091259003,0.037685345858335495,-0.0021292560268193483,-0.001877531292848289,-0.011972222477197647,0.004447466693818569,0.000569780939258635,0.005033465567976236,0.0028388649225234985,0.001566125312820077,-0.04021332040429115,-0.03782882168889046,-0.015455994755029678,0.009319780394434929,-0.0026746238581836224,0.0011363440426066518,-0.0007869670516811311,0.0050723375752568245,-0.00011738860484911129],[0.0,-0.009465743787586689,-0.010602517053484917,-0.008136669173836708,-0.018151257187128067,-0.0008340769563801587,-0.03174066171050072,0.004720000084489584,-0.004279192537069321,0.00244765542447567,-0.00772825488820672,-0.00013073212176095694,0.0020199764985591173,0.007583750411868095,0.0007704914314672351,0.013271134346723557,0.018261007964611053,-0.014283567667007446,-0.03543642908334732,0.05489933863282204,-0.0016984449466690421,0.0020217355340719223,-0.0012305208947509527,-0.003793677082285285,-0.015010252594947815],[0.0,-0.025230055674910545,-3.818562254309654e-05,-0.016598431393504143,0.0013724513119086623,-0.003361321520060301,-0.0251950453966856,-0.01400815974920988,0.0010366752976551652,-0.001365843927487731,0.0022211589384824038,0.005636197980493307,0.0008742791251279414,0.0016755765536800027,0.002959814853966236,0.012638067826628685,0.02328318916261196,0.023347675800323486,0.05022893846035004,0.023698296397924423,-0.0060986727476119995,0.0018543624319136143,0.001370391808450222,0.006692180410027504,-0.006724445149302483],[0.0,-0.0004535508051048964,-0.00858661625534296,-0.021597744897007942,0.007971999235451221,0.006786829326301813,-0.006843550130724907,0.03469691425561905,-0.0026215072721242905,0.0016624904237687588,-0.0008256246219389141,0.0004890334093943238,0.0017256897408515215,0.006902158260345459,-0.0019619257654994726,0.0019247698364779353,0.045027025043964386,0.013370330445468426,-0.0723518431186676,0.04406372085213661,0.0067194681614637375,-0.001614736975170672,0.004545376170426607,-1.965057890629396e-05,-0.031032811850309372],[0.0,-0.014640968292951584,0.003216344863176346,0.0033632523845881224,-0.021310795098543167,0.0057160016149282455,0.030955323949456215,-0.008402681909501553,-0.0031477822922170162,0.0036009899340569973,0.009477284736931324,0.0012342965928837657,0.0018446658505126834,0.0043210675939917564,0.0020744232460856438,-0.0068079386837780476,0.05045946687459946,-0.05940030887722969,0.0228072851896286,0.011388410814106464,-0.0024581244215369225,0.0013195921201258898,0.0008405127446167171,-0.0032016714103519917,-0.008790930733084679],[0.0,-0.02845948562026024,0.03490045666694641,0.004524266812950373,-0.02473754622042179,-0.0054779634810984135,0.006878045853227377,-0.012571007013320923,-0.0010454708244651556,0.0030326249543577433,0.007669603452086449,0.0006700074882246554,0.0003920247545465827,-0.003321119351312518,-0.006643096916377544,0.003413708880543709,0.034363798797130585,-0.026510175317525864,-0.026360606774687767,-0.049802202731370926,0.0028099468909204006,0.001064392039552331,-0.000713170098606497,-0.004074534401297569,-0.00409581558778882],[0.0,0.012796645052731037,0.025953050702810287,0.011206192895770073,0.011325855739414692,-0.0004169526509940624,0.00925812590867281,-0.007061594165861607,-0.00023216000408865511,0.0007461212808266282,-0.008290441706776619,1.973638791241683e-05,0.0003966155927628279,0.006964284926652908,-0.004128594882786274,0.0007091799634508789,-0.0010813395492732525,-0.012737779878079891,-0.005672238301485777,0.0025239409878849983,0.004810873419046402,0.00018848251784220338,-0.0016445989022031426,-0.0002640814636833966,0.018843017518520355],[0.0,0.0037093255668878555,0.01192730013281107,-0.006653050892055035,-0.0022923387587070465,-0.019341403618454933,0.0010746034095063806,-0.016397077590227127,-0.00025923317298293114,-0.0006761000258848071,-0.006496360991150141,0.00013249123003333807,0.00011382747470634058,0.001918591558933258,-0.003878200426697731,-0.00659941928461194,-0.011349624954164028,-0.024414341896772385,-0.0038140141405165195,-0.006144323851913214,0.0018530752277001739,-0.00019581930246204138,1.5360059478553012e-05,-0.0006331948097795248,0.10588748753070831],[0.0,0.009478658437728882,0.009731669910252094,0.001289472682401538,-0.00588860921561718,0.007352062035351992,0.010417895391583443,-0.008005766198039055,0.0008013831684365869,0.0023368741385638714,-0.0009133228450082242,-0.0001823470665840432,-0.0003651231818366796,0.0006956647848710418,-0.004291119985282421,-0.0026822180952876806,7.602800178574398e-05,0.02047710493206978,-0.005064872093498707,0.0024305791594088078,-0.0005271761328913271,-0.00013094664609525353,-0.0007967923302203417,-4.247614197083749e-05,0.18944212794303894],[0.0,0.0,0.0,0.0,0.0,0.0,0.0,0.0,0.0,0.0,0.0,0.0,0.0,0.0,0.0,0.0,0.0,0.0,0.0,0.0,0.0,0.0,0.0,0.0,0.047384582459926605]],\"type\":\"heatmap\",\"xaxis\":\"x\",\"yaxis\":\"y\",\"hovertemplate\":\"Position: %{x}\\u003cbr\\u003eLayer: %{y}\\u003cbr\\u003ecolor: %{z}\\u003cextra\\u003e\\u003c\\u002fextra\\u003e\"}],                        {\"template\":{\"data\":{\"histogram2dcontour\":[{\"type\":\"histogram2dcontour\",\"colorbar\":{\"outlinewidth\":0,\"ticks\":\"\"},\"colorscale\":[[0.0,\"#0d0887\"],[0.1111111111111111,\"#46039f\"],[0.2222222222222222,\"#7201a8\"],[0.3333333333333333,\"#9c179e\"],[0.4444444444444444,\"#bd3786\"],[0.5555555555555556,\"#d8576b\"],[0.6666666666666666,\"#ed7953\"],[0.7777777777777778,\"#fb9f3a\"],[0.8888888888888888,\"#fdca26\"],[1.0,\"#f0f921\"]]}],\"choropleth\":[{\"type\":\"choropleth\",\"colorbar\":{\"outlinewidth\":0,\"ticks\":\"\"}}],\"histogram2d\":[{\"type\":\"histogram2d\",\"colorbar\":{\"outlinewidth\":0,\"ticks\":\"\"},\"colorscale\":[[0.0,\"#0d0887\"],[0.1111111111111111,\"#46039f\"],[0.2222222222222222,\"#7201a8\"],[0.3333333333333333,\"#9c179e\"],[0.4444444444444444,\"#bd3786\"],[0.5555555555555556,\"#d8576b\"],[0.6666666666666666,\"#ed7953\"],[0.7777777777777778,\"#fb9f3a\"],[0.8888888888888888,\"#fdca26\"],[1.0,\"#f0f921\"]]}],\"heatmap\":[{\"type\":\"heatmap\",\"colorbar\":{\"outlinewidth\":0,\"ticks\":\"\"},\"colorscale\":[[0.0,\"#0d0887\"],[0.1111111111111111,\"#46039f\"],[0.2222222222222222,\"#7201a8\"],[0.3333333333333333,\"#9c179e\"],[0.4444444444444444,\"#bd3786\"],[0.5555555555555556,\"#d8576b\"],[0.6666666666666666,\"#ed7953\"],[0.7777777777777778,\"#fb9f3a\"],[0.8888888888888888,\"#fdca26\"],[1.0,\"#f0f921\"]]}],\"heatmapgl\":[{\"type\":\"heatmapgl\",\"colorbar\":{\"outlinewidth\":0,\"ticks\":\"\"},\"colorscale\":[[0.0,\"#0d0887\"],[0.1111111111111111,\"#46039f\"],[0.2222222222222222,\"#7201a8\"],[0.3333333333333333,\"#9c179e\"],[0.4444444444444444,\"#bd3786\"],[0.5555555555555556,\"#d8576b\"],[0.6666666666666666,\"#ed7953\"],[0.7777777777777778,\"#fb9f3a\"],[0.8888888888888888,\"#fdca26\"],[1.0,\"#f0f921\"]]}],\"contourcarpet\":[{\"type\":\"contourcarpet\",\"colorbar\":{\"outlinewidth\":0,\"ticks\":\"\"}}],\"contour\":[{\"type\":\"contour\",\"colorbar\":{\"outlinewidth\":0,\"ticks\":\"\"},\"colorscale\":[[0.0,\"#0d0887\"],[0.1111111111111111,\"#46039f\"],[0.2222222222222222,\"#7201a8\"],[0.3333333333333333,\"#9c179e\"],[0.4444444444444444,\"#bd3786\"],[0.5555555555555556,\"#d8576b\"],[0.6666666666666666,\"#ed7953\"],[0.7777777777777778,\"#fb9f3a\"],[0.8888888888888888,\"#fdca26\"],[1.0,\"#f0f921\"]]}],\"surface\":[{\"type\":\"surface\",\"colorbar\":{\"outlinewidth\":0,\"ticks\":\"\"},\"colorscale\":[[0.0,\"#0d0887\"],[0.1111111111111111,\"#46039f\"],[0.2222222222222222,\"#7201a8\"],[0.3333333333333333,\"#9c179e\"],[0.4444444444444444,\"#bd3786\"],[0.5555555555555556,\"#d8576b\"],[0.6666666666666666,\"#ed7953\"],[0.7777777777777778,\"#fb9f3a\"],[0.8888888888888888,\"#fdca26\"],[1.0,\"#f0f921\"]]}],\"mesh3d\":[{\"type\":\"mesh3d\",\"colorbar\":{\"outlinewidth\":0,\"ticks\":\"\"}}],\"scatter\":[{\"fillpattern\":{\"fillmode\":\"overlay\",\"size\":10,\"solidity\":0.2},\"type\":\"scatter\"}],\"parcoords\":[{\"type\":\"parcoords\",\"line\":{\"colorbar\":{\"outlinewidth\":0,\"ticks\":\"\"}}}],\"scatterpolargl\":[{\"type\":\"scatterpolargl\",\"marker\":{\"colorbar\":{\"outlinewidth\":0,\"ticks\":\"\"}}}],\"bar\":[{\"error_x\":{\"color\":\"#2a3f5f\"},\"error_y\":{\"color\":\"#2a3f5f\"},\"marker\":{\"line\":{\"color\":\"#E5ECF6\",\"width\":0.5},\"pattern\":{\"fillmode\":\"overlay\",\"size\":10,\"solidity\":0.2}},\"type\":\"bar\"}],\"scattergeo\":[{\"type\":\"scattergeo\",\"marker\":{\"colorbar\":{\"outlinewidth\":0,\"ticks\":\"\"}}}],\"scatterpolar\":[{\"type\":\"scatterpolar\",\"marker\":{\"colorbar\":{\"outlinewidth\":0,\"ticks\":\"\"}}}],\"histogram\":[{\"marker\":{\"pattern\":{\"fillmode\":\"overlay\",\"size\":10,\"solidity\":0.2}},\"type\":\"histogram\"}],\"scattergl\":[{\"type\":\"scattergl\",\"marker\":{\"colorbar\":{\"outlinewidth\":0,\"ticks\":\"\"}}}],\"scatter3d\":[{\"type\":\"scatter3d\",\"line\":{\"colorbar\":{\"outlinewidth\":0,\"ticks\":\"\"}},\"marker\":{\"colorbar\":{\"outlinewidth\":0,\"ticks\":\"\"}}}],\"scattermapbox\":[{\"type\":\"scattermapbox\",\"marker\":{\"colorbar\":{\"outlinewidth\":0,\"ticks\":\"\"}}}],\"scatterternary\":[{\"type\":\"scatterternary\",\"marker\":{\"colorbar\":{\"outlinewidth\":0,\"ticks\":\"\"}}}],\"scattercarpet\":[{\"type\":\"scattercarpet\",\"marker\":{\"colorbar\":{\"outlinewidth\":0,\"ticks\":\"\"}}}],\"carpet\":[{\"aaxis\":{\"endlinecolor\":\"#2a3f5f\",\"gridcolor\":\"white\",\"linecolor\":\"white\",\"minorgridcolor\":\"white\",\"startlinecolor\":\"#2a3f5f\"},\"baxis\":{\"endlinecolor\":\"#2a3f5f\",\"gridcolor\":\"white\",\"linecolor\":\"white\",\"minorgridcolor\":\"white\",\"startlinecolor\":\"#2a3f5f\"},\"type\":\"carpet\"}],\"table\":[{\"cells\":{\"fill\":{\"color\":\"#EBF0F8\"},\"line\":{\"color\":\"white\"}},\"header\":{\"fill\":{\"color\":\"#C8D4E3\"},\"line\":{\"color\":\"white\"}},\"type\":\"table\"}],\"barpolar\":[{\"marker\":{\"line\":{\"color\":\"#E5ECF6\",\"width\":0.5},\"pattern\":{\"fillmode\":\"overlay\",\"size\":10,\"solidity\":0.2}},\"type\":\"barpolar\"}],\"pie\":[{\"automargin\":true,\"type\":\"pie\"}]},\"layout\":{\"autotypenumbers\":\"strict\",\"colorway\":[\"#636efa\",\"#EF553B\",\"#00cc96\",\"#ab63fa\",\"#FFA15A\",\"#19d3f3\",\"#FF6692\",\"#B6E880\",\"#FF97FF\",\"#FECB52\"],\"font\":{\"color\":\"#2a3f5f\"},\"hovermode\":\"closest\",\"hoverlabel\":{\"align\":\"left\"},\"paper_bgcolor\":\"white\",\"plot_bgcolor\":\"#E5ECF6\",\"polar\":{\"bgcolor\":\"#E5ECF6\",\"angularaxis\":{\"gridcolor\":\"white\",\"linecolor\":\"white\",\"ticks\":\"\"},\"radialaxis\":{\"gridcolor\":\"white\",\"linecolor\":\"white\",\"ticks\":\"\"}},\"ternary\":{\"bgcolor\":\"#E5ECF6\",\"aaxis\":{\"gridcolor\":\"white\",\"linecolor\":\"white\",\"ticks\":\"\"},\"baxis\":{\"gridcolor\":\"white\",\"linecolor\":\"white\",\"ticks\":\"\"},\"caxis\":{\"gridcolor\":\"white\",\"linecolor\":\"white\",\"ticks\":\"\"}},\"coloraxis\":{\"colorbar\":{\"outlinewidth\":0,\"ticks\":\"\"}},\"colorscale\":{\"sequential\":[[0.0,\"#0d0887\"],[0.1111111111111111,\"#46039f\"],[0.2222222222222222,\"#7201a8\"],[0.3333333333333333,\"#9c179e\"],[0.4444444444444444,\"#bd3786\"],[0.5555555555555556,\"#d8576b\"],[0.6666666666666666,\"#ed7953\"],[0.7777777777777778,\"#fb9f3a\"],[0.8888888888888888,\"#fdca26\"],[1.0,\"#f0f921\"]],\"sequentialminus\":[[0.0,\"#0d0887\"],[0.1111111111111111,\"#46039f\"],[0.2222222222222222,\"#7201a8\"],[0.3333333333333333,\"#9c179e\"],[0.4444444444444444,\"#bd3786\"],[0.5555555555555556,\"#d8576b\"],[0.6666666666666666,\"#ed7953\"],[0.7777777777777778,\"#fb9f3a\"],[0.8888888888888888,\"#fdca26\"],[1.0,\"#f0f921\"]],\"diverging\":[[0,\"#8e0152\"],[0.1,\"#c51b7d\"],[0.2,\"#de77ae\"],[0.3,\"#f1b6da\"],[0.4,\"#fde0ef\"],[0.5,\"#f7f7f7\"],[0.6,\"#e6f5d0\"],[0.7,\"#b8e186\"],[0.8,\"#7fbc41\"],[0.9,\"#4d9221\"],[1,\"#276419\"]]},\"xaxis\":{\"gridcolor\":\"white\",\"linecolor\":\"white\",\"ticks\":\"\",\"title\":{\"standoff\":15},\"zerolinecolor\":\"white\",\"automargin\":true,\"zerolinewidth\":2},\"yaxis\":{\"gridcolor\":\"white\",\"linecolor\":\"white\",\"ticks\":\"\",\"title\":{\"standoff\":15},\"zerolinecolor\":\"white\",\"automargin\":true,\"zerolinewidth\":2},\"scene\":{\"xaxis\":{\"backgroundcolor\":\"#E5ECF6\",\"gridcolor\":\"white\",\"linecolor\":\"white\",\"showbackground\":true,\"ticks\":\"\",\"zerolinecolor\":\"white\",\"gridwidth\":2},\"yaxis\":{\"backgroundcolor\":\"#E5ECF6\",\"gridcolor\":\"white\",\"linecolor\":\"white\",\"showbackground\":true,\"ticks\":\"\",\"zerolinecolor\":\"white\",\"gridwidth\":2},\"zaxis\":{\"backgroundcolor\":\"#E5ECF6\",\"gridcolor\":\"white\",\"linecolor\":\"white\",\"showbackground\":true,\"ticks\":\"\",\"zerolinecolor\":\"white\",\"gridwidth\":2}},\"shapedefaults\":{\"line\":{\"color\":\"#2a3f5f\"}},\"annotationdefaults\":{\"arrowcolor\":\"#2a3f5f\",\"arrowhead\":0,\"arrowwidth\":1},\"geo\":{\"bgcolor\":\"white\",\"landcolor\":\"#E5ECF6\",\"subunitcolor\":\"white\",\"showland\":true,\"showlakes\":true,\"lakecolor\":\"white\"},\"title\":{\"x\":0.05},\"mapbox\":{\"style\":\"light\"}}},\"xaxis\":{\"anchor\":\"y\",\"domain\":[0.0,1.0],\"scaleanchor\":\"y\",\"constrain\":\"domain\",\"title\":{\"text\":\"Position\"}},\"yaxis\":{\"anchor\":\"x\",\"domain\":[0.0,1.0],\"autorange\":\"reversed\",\"constrain\":\"domain\",\"title\":{\"text\":\"Layer\"}},\"coloraxis\":{\"colorscale\":[[0.0,\"rgb(103,0,31)\"],[0.1,\"rgb(178,24,43)\"],[0.2,\"rgb(214,96,77)\"],[0.3,\"rgb(244,165,130)\"],[0.4,\"rgb(253,219,199)\"],[0.5,\"rgb(247,247,247)\"],[0.6,\"rgb(209,229,240)\"],[0.7,\"rgb(146,197,222)\"],[0.8,\"rgb(67,147,195)\"],[0.9,\"rgb(33,102,172)\"],[1.0,\"rgb(5,48,97)\"]],\"cmid\":0.0},\"title\":{\"text\":\"Logit Difference From Patched MLP Layer\"}},                        {\"responsive\": true}                    ).then(function(){\n",
       "                            \n",
       "var gd = document.getElementById('1eeab800-c131-43ba-a171-8a26b945324a');\n",
       "var x = new MutationObserver(function (mutations, observer) {{\n",
       "        var display = window.getComputedStyle(gd).display;\n",
       "        if (!display || display === 'none') {{\n",
       "            console.log([gd, 'removed!']);\n",
       "            Plotly.purge(gd);\n",
       "            observer.disconnect();\n",
       "        }}\n",
       "}});\n",
       "\n",
       "// Listen for the removal of the full notebook cells\n",
       "var notebookContainer = gd.closest('#notebook-container');\n",
       "if (notebookContainer) {{\n",
       "    x.observe(notebookContainer, {childList: true});\n",
       "}}\n",
       "\n",
       "// Listen for the clearing of the current output cell\n",
       "var outputEl = gd.closest('.output');\n",
       "if (outputEl) {{\n",
       "    x.observe(outputEl, {childList: true});\n",
       "}}\n",
       "\n",
       "                        })                };                });            </script>        </div>"
      ]
     },
     "metadata": {},
     "output_type": "display_data"
    }
   ],
   "source": [
    "imshow(\n",
    "    patched_mlp_diff,\n",
    "    x=prompt_position_labels,\n",
    "    title=\"Logit Difference From Patched MLP Layer\",\n",
    "    labels={\"x\": \"Position\", \"y\": \"Layer\"},\n",
    ")"
   ]
  },
  {
   "cell_type": "code",
   "execution_count": 115,
   "metadata": {},
   "outputs": [],
   "source": [
    "def patch_head_vector(\n",
    "    corrupted_head_vector: Float[torch.Tensor, \"batch pos head_index d_head\"],\n",
    "    hook,\n",
    "    head_index,\n",
    "    clean_cache,\n",
    "):\n",
    "    corrupted_head_vector[:, :, head_index, :] = clean_cache[hook.name][\n",
    "        :, :, head_index, :\n",
    "    ]\n",
    "    return corrupted_head_vector\n",
    "\n",
    "\n",
    "patched_head_z_diff = torch.zeros(\n",
    "    model.cfg.n_layers, model.cfg.n_heads, device=device, dtype=torch.float32\n",
    ")\n",
    "for layer in range(model.cfg.n_layers):\n",
    "    for head_index in range(model.cfg.n_heads):\n",
    "        hook_fn = partial(patch_head_vector, head_index=head_index, clean_cache=cache)\n",
    "        patched_logits = model.run_with_hooks(\n",
    "            corrupted_tokens,\n",
    "            fwd_hooks=[(utils.get_act_name(\"z\", layer, \"attn\"), hook_fn)],\n",
    "            return_type=\"logits\",\n",
    "        )\n",
    "        patched_logit_diff = logits_to_ave_logit_diff(patched_logits, answer_tokens)\n",
    "\n",
    "        patched_head_z_diff[layer, head_index] = normalize_patched_logit_diff(\n",
    "            patched_logit_diff\n",
    "        )"
   ]
  },
  {
   "cell_type": "code",
   "execution_count": 116,
   "metadata": {},
   "outputs": [
    {
     "data": {
      "application/vnd.plotly.v1+json": {
       "config": {
        "plotlyServerURL": "https://plot.ly"
       },
       "data": [
        {
         "coloraxis": "coloraxis",
         "hovertemplate": "Head: %{x}<br>Layer: %{y}<br>color: %{z}<extra></extra>",
         "name": "0",
         "type": "heatmap",
         "xaxis": "x",
         "yaxis": "y",
         "z": [
          [
           0.027604686096310616,
           -0.17525604367256165,
           0.0575047992169857,
           0.10173237323760986,
           0.03230014443397522,
           -0.004374356009066105,
           0.01860094629228115,
           0.015283344313502312,
           0.005278926342725754,
           0.0031555911991745234,
           -0.08810006082057953,
           -0.015406182035803795
          ],
          [
           -0.006304961163550615,
           -0.014976143836975098,
           -0.005799323320388794,
           0.003807578468695283,
           -0.007701096124947071,
           -0.027228236198425293,
           0.0018192660063505173,
           -0.006768336985260248,
           0.01015153992921114,
           -0.004818896763026714,
           -0.018635742366313934,
           0.03841941058635712
          ],
          [
           0.004197672475129366,
           -0.0008290141122415662,
           0.035190239548683167,
           0.01902519166469574,
           0.003309449180960655,
           -0.0035217441618442535,
           -0.012830025516450405,
           -0.008340512402355671,
           0.0008768963161855936,
           -0.0020281283650547266,
           -0.006527596153318882,
           -0.008000616915524006
          ],
          [
           -0.05992220714688301,
           -0.021362151950597763,
           -0.016064004972577095,
           -0.0012019460555166006,
           -0.10464130342006683,
           -0.016974110156297684,
           0.03542239964008331,
           0.01168673112988472,
           -0.0019124561222270131,
           0.014176648110151291,
           0.020774737000465393,
           0.0016796954441815615
          ],
          [
           -0.0015889938222244382,
           -0.015309430658817291,
           0.00615200400352478,
           0.14682114124298096,
           -0.06591327488422394,
           0.009469390846788883,
           -0.04345386475324631,
           -0.0011275485157966614,
           0.006170710548758507,
           -0.0155936349183321,
           -0.0014765392988920212,
           0.012955738231539726
          ],
          [
           0.004133142996579409,
           0.019387012347579002,
           0.05480816587805748,
           -0.01271915901452303,
           -0.007424657698720694,
           -0.22583165764808655,
           0.03330545499920845,
           0.016696127131581306,
           -0.06560778617858887,
           -0.10944321006536484,
           -0.010508297011256218,
           -0.036419257521629333
          ],
          [
           0.17250555753707886,
           -0.05415506288409233,
           0.004544903989881277,
           0.011823555454611778,
           -0.0032367678359150887,
           -0.024921180680394173,
           -0.03612273931503296,
           0.002839551540091634,
           -0.0027994781266897917,
           0.012980193831026554,
           -0.007318038493394852,
           0.019179049879312515
          ],
          [
           0.004359253216534853,
           -0.00534564396366477,
           0.0028034253045916557,
           0.11326748132705688,
           0.0015731188468635082,
           -0.018593352288007736,
           0.011171482503414154,
           0.000920616730581969,
           0.021533988416194916,
           0.28129810094833374,
           -0.004104825668036938,
           0.0038139712996780872
          ],
          [
           -0.004469262436032295,
           -0.004050679039210081,
           -0.014173815958201885,
           -0.016129564493894577,
           -0.004331021569669247,
           0.03133730962872505,
           -0.07597458362579346,
           0.01659821718931198,
           0.005286606028676033,
           -0.006474522408097982,
           0.3398260474205017,
           -0.019245339557528496
          ],
          [
           -0.0037321511190384626,
           0.027829939499497414,
           -0.005505036562681198,
           0.015423472970724106,
           -0.06413858383893967,
           0.045362330973148346,
           0.04280693829059601,
           0.2307412177324295,
           -0.01744808256626129,
           0.3614153265953064,
           0.001073144725523889,
           0.02867070958018303
          ],
          [
           0.29022523760795593,
           0.04568703845143318,
           -0.08170203864574432,
           -0.004223715979605913,
           0.0052661835215985775,
           0.0018925052136182785,
           0.02020568586885929,
           -0.17669101059436798,
           -0.009186516515910625,
           0.004714937414973974,
           0.046592336148023605,
           -0.024440256878733635
          ],
          [
           0.018546799197793007,
           -0.10287884622812271,
           -0.2649326026439667,
           -0.002515746047720313,
           -0.0003237625933252275,
           -0.03249158710241318,
           -0.05200924724340439,
           0.020751353353261948,
           0.003457128768786788,
           0.024378130212426186,
           -0.40415331721305847,
           0.004604842513799667
          ]
         ]
        }
       ],
       "layout": {
        "coloraxis": {
         "cmid": 0,
         "colorscale": [
          [
           0,
           "rgb(103,0,31)"
          ],
          [
           0.1,
           "rgb(178,24,43)"
          ],
          [
           0.2,
           "rgb(214,96,77)"
          ],
          [
           0.3,
           "rgb(244,165,130)"
          ],
          [
           0.4,
           "rgb(253,219,199)"
          ],
          [
           0.5,
           "rgb(247,247,247)"
          ],
          [
           0.6,
           "rgb(209,229,240)"
          ],
          [
           0.7,
           "rgb(146,197,222)"
          ],
          [
           0.8,
           "rgb(67,147,195)"
          ],
          [
           0.9,
           "rgb(33,102,172)"
          ],
          [
           1,
           "rgb(5,48,97)"
          ]
         ]
        },
        "template": {
         "data": {
          "bar": [
           {
            "error_x": {
             "color": "#2a3f5f"
            },
            "error_y": {
             "color": "#2a3f5f"
            },
            "marker": {
             "line": {
              "color": "#E5ECF6",
              "width": 0.5
             },
             "pattern": {
              "fillmode": "overlay",
              "size": 10,
              "solidity": 0.2
             }
            },
            "type": "bar"
           }
          ],
          "barpolar": [
           {
            "marker": {
             "line": {
              "color": "#E5ECF6",
              "width": 0.5
             },
             "pattern": {
              "fillmode": "overlay",
              "size": 10,
              "solidity": 0.2
             }
            },
            "type": "barpolar"
           }
          ],
          "carpet": [
           {
            "aaxis": {
             "endlinecolor": "#2a3f5f",
             "gridcolor": "white",
             "linecolor": "white",
             "minorgridcolor": "white",
             "startlinecolor": "#2a3f5f"
            },
            "baxis": {
             "endlinecolor": "#2a3f5f",
             "gridcolor": "white",
             "linecolor": "white",
             "minorgridcolor": "white",
             "startlinecolor": "#2a3f5f"
            },
            "type": "carpet"
           }
          ],
          "choropleth": [
           {
            "colorbar": {
             "outlinewidth": 0,
             "ticks": ""
            },
            "type": "choropleth"
           }
          ],
          "contour": [
           {
            "colorbar": {
             "outlinewidth": 0,
             "ticks": ""
            },
            "colorscale": [
             [
              0,
              "#0d0887"
             ],
             [
              0.1111111111111111,
              "#46039f"
             ],
             [
              0.2222222222222222,
              "#7201a8"
             ],
             [
              0.3333333333333333,
              "#9c179e"
             ],
             [
              0.4444444444444444,
              "#bd3786"
             ],
             [
              0.5555555555555556,
              "#d8576b"
             ],
             [
              0.6666666666666666,
              "#ed7953"
             ],
             [
              0.7777777777777778,
              "#fb9f3a"
             ],
             [
              0.8888888888888888,
              "#fdca26"
             ],
             [
              1,
              "#f0f921"
             ]
            ],
            "type": "contour"
           }
          ],
          "contourcarpet": [
           {
            "colorbar": {
             "outlinewidth": 0,
             "ticks": ""
            },
            "type": "contourcarpet"
           }
          ],
          "heatmap": [
           {
            "colorbar": {
             "outlinewidth": 0,
             "ticks": ""
            },
            "colorscale": [
             [
              0,
              "#0d0887"
             ],
             [
              0.1111111111111111,
              "#46039f"
             ],
             [
              0.2222222222222222,
              "#7201a8"
             ],
             [
              0.3333333333333333,
              "#9c179e"
             ],
             [
              0.4444444444444444,
              "#bd3786"
             ],
             [
              0.5555555555555556,
              "#d8576b"
             ],
             [
              0.6666666666666666,
              "#ed7953"
             ],
             [
              0.7777777777777778,
              "#fb9f3a"
             ],
             [
              0.8888888888888888,
              "#fdca26"
             ],
             [
              1,
              "#f0f921"
             ]
            ],
            "type": "heatmap"
           }
          ],
          "heatmapgl": [
           {
            "colorbar": {
             "outlinewidth": 0,
             "ticks": ""
            },
            "colorscale": [
             [
              0,
              "#0d0887"
             ],
             [
              0.1111111111111111,
              "#46039f"
             ],
             [
              0.2222222222222222,
              "#7201a8"
             ],
             [
              0.3333333333333333,
              "#9c179e"
             ],
             [
              0.4444444444444444,
              "#bd3786"
             ],
             [
              0.5555555555555556,
              "#d8576b"
             ],
             [
              0.6666666666666666,
              "#ed7953"
             ],
             [
              0.7777777777777778,
              "#fb9f3a"
             ],
             [
              0.8888888888888888,
              "#fdca26"
             ],
             [
              1,
              "#f0f921"
             ]
            ],
            "type": "heatmapgl"
           }
          ],
          "histogram": [
           {
            "marker": {
             "pattern": {
              "fillmode": "overlay",
              "size": 10,
              "solidity": 0.2
             }
            },
            "type": "histogram"
           }
          ],
          "histogram2d": [
           {
            "colorbar": {
             "outlinewidth": 0,
             "ticks": ""
            },
            "colorscale": [
             [
              0,
              "#0d0887"
             ],
             [
              0.1111111111111111,
              "#46039f"
             ],
             [
              0.2222222222222222,
              "#7201a8"
             ],
             [
              0.3333333333333333,
              "#9c179e"
             ],
             [
              0.4444444444444444,
              "#bd3786"
             ],
             [
              0.5555555555555556,
              "#d8576b"
             ],
             [
              0.6666666666666666,
              "#ed7953"
             ],
             [
              0.7777777777777778,
              "#fb9f3a"
             ],
             [
              0.8888888888888888,
              "#fdca26"
             ],
             [
              1,
              "#f0f921"
             ]
            ],
            "type": "histogram2d"
           }
          ],
          "histogram2dcontour": [
           {
            "colorbar": {
             "outlinewidth": 0,
             "ticks": ""
            },
            "colorscale": [
             [
              0,
              "#0d0887"
             ],
             [
              0.1111111111111111,
              "#46039f"
             ],
             [
              0.2222222222222222,
              "#7201a8"
             ],
             [
              0.3333333333333333,
              "#9c179e"
             ],
             [
              0.4444444444444444,
              "#bd3786"
             ],
             [
              0.5555555555555556,
              "#d8576b"
             ],
             [
              0.6666666666666666,
              "#ed7953"
             ],
             [
              0.7777777777777778,
              "#fb9f3a"
             ],
             [
              0.8888888888888888,
              "#fdca26"
             ],
             [
              1,
              "#f0f921"
             ]
            ],
            "type": "histogram2dcontour"
           }
          ],
          "mesh3d": [
           {
            "colorbar": {
             "outlinewidth": 0,
             "ticks": ""
            },
            "type": "mesh3d"
           }
          ],
          "parcoords": [
           {
            "line": {
             "colorbar": {
              "outlinewidth": 0,
              "ticks": ""
             }
            },
            "type": "parcoords"
           }
          ],
          "pie": [
           {
            "automargin": true,
            "type": "pie"
           }
          ],
          "scatter": [
           {
            "fillpattern": {
             "fillmode": "overlay",
             "size": 10,
             "solidity": 0.2
            },
            "type": "scatter"
           }
          ],
          "scatter3d": [
           {
            "line": {
             "colorbar": {
              "outlinewidth": 0,
              "ticks": ""
             }
            },
            "marker": {
             "colorbar": {
              "outlinewidth": 0,
              "ticks": ""
             }
            },
            "type": "scatter3d"
           }
          ],
          "scattercarpet": [
           {
            "marker": {
             "colorbar": {
              "outlinewidth": 0,
              "ticks": ""
             }
            },
            "type": "scattercarpet"
           }
          ],
          "scattergeo": [
           {
            "marker": {
             "colorbar": {
              "outlinewidth": 0,
              "ticks": ""
             }
            },
            "type": "scattergeo"
           }
          ],
          "scattergl": [
           {
            "marker": {
             "colorbar": {
              "outlinewidth": 0,
              "ticks": ""
             }
            },
            "type": "scattergl"
           }
          ],
          "scattermapbox": [
           {
            "marker": {
             "colorbar": {
              "outlinewidth": 0,
              "ticks": ""
             }
            },
            "type": "scattermapbox"
           }
          ],
          "scatterpolar": [
           {
            "marker": {
             "colorbar": {
              "outlinewidth": 0,
              "ticks": ""
             }
            },
            "type": "scatterpolar"
           }
          ],
          "scatterpolargl": [
           {
            "marker": {
             "colorbar": {
              "outlinewidth": 0,
              "ticks": ""
             }
            },
            "type": "scatterpolargl"
           }
          ],
          "scatterternary": [
           {
            "marker": {
             "colorbar": {
              "outlinewidth": 0,
              "ticks": ""
             }
            },
            "type": "scatterternary"
           }
          ],
          "surface": [
           {
            "colorbar": {
             "outlinewidth": 0,
             "ticks": ""
            },
            "colorscale": [
             [
              0,
              "#0d0887"
             ],
             [
              0.1111111111111111,
              "#46039f"
             ],
             [
              0.2222222222222222,
              "#7201a8"
             ],
             [
              0.3333333333333333,
              "#9c179e"
             ],
             [
              0.4444444444444444,
              "#bd3786"
             ],
             [
              0.5555555555555556,
              "#d8576b"
             ],
             [
              0.6666666666666666,
              "#ed7953"
             ],
             [
              0.7777777777777778,
              "#fb9f3a"
             ],
             [
              0.8888888888888888,
              "#fdca26"
             ],
             [
              1,
              "#f0f921"
             ]
            ],
            "type": "surface"
           }
          ],
          "table": [
           {
            "cells": {
             "fill": {
              "color": "#EBF0F8"
             },
             "line": {
              "color": "white"
             }
            },
            "header": {
             "fill": {
              "color": "#C8D4E3"
             },
             "line": {
              "color": "white"
             }
            },
            "type": "table"
           }
          ]
         },
         "layout": {
          "annotationdefaults": {
           "arrowcolor": "#2a3f5f",
           "arrowhead": 0,
           "arrowwidth": 1
          },
          "autotypenumbers": "strict",
          "coloraxis": {
           "colorbar": {
            "outlinewidth": 0,
            "ticks": ""
           }
          },
          "colorscale": {
           "diverging": [
            [
             0,
             "#8e0152"
            ],
            [
             0.1,
             "#c51b7d"
            ],
            [
             0.2,
             "#de77ae"
            ],
            [
             0.3,
             "#f1b6da"
            ],
            [
             0.4,
             "#fde0ef"
            ],
            [
             0.5,
             "#f7f7f7"
            ],
            [
             0.6,
             "#e6f5d0"
            ],
            [
             0.7,
             "#b8e186"
            ],
            [
             0.8,
             "#7fbc41"
            ],
            [
             0.9,
             "#4d9221"
            ],
            [
             1,
             "#276419"
            ]
           ],
           "sequential": [
            [
             0,
             "#0d0887"
            ],
            [
             0.1111111111111111,
             "#46039f"
            ],
            [
             0.2222222222222222,
             "#7201a8"
            ],
            [
             0.3333333333333333,
             "#9c179e"
            ],
            [
             0.4444444444444444,
             "#bd3786"
            ],
            [
             0.5555555555555556,
             "#d8576b"
            ],
            [
             0.6666666666666666,
             "#ed7953"
            ],
            [
             0.7777777777777778,
             "#fb9f3a"
            ],
            [
             0.8888888888888888,
             "#fdca26"
            ],
            [
             1,
             "#f0f921"
            ]
           ],
           "sequentialminus": [
            [
             0,
             "#0d0887"
            ],
            [
             0.1111111111111111,
             "#46039f"
            ],
            [
             0.2222222222222222,
             "#7201a8"
            ],
            [
             0.3333333333333333,
             "#9c179e"
            ],
            [
             0.4444444444444444,
             "#bd3786"
            ],
            [
             0.5555555555555556,
             "#d8576b"
            ],
            [
             0.6666666666666666,
             "#ed7953"
            ],
            [
             0.7777777777777778,
             "#fb9f3a"
            ],
            [
             0.8888888888888888,
             "#fdca26"
            ],
            [
             1,
             "#f0f921"
            ]
           ]
          },
          "colorway": [
           "#636efa",
           "#EF553B",
           "#00cc96",
           "#ab63fa",
           "#FFA15A",
           "#19d3f3",
           "#FF6692",
           "#B6E880",
           "#FF97FF",
           "#FECB52"
          ],
          "font": {
           "color": "#2a3f5f"
          },
          "geo": {
           "bgcolor": "white",
           "lakecolor": "white",
           "landcolor": "#E5ECF6",
           "showlakes": true,
           "showland": true,
           "subunitcolor": "white"
          },
          "hoverlabel": {
           "align": "left"
          },
          "hovermode": "closest",
          "mapbox": {
           "style": "light"
          },
          "paper_bgcolor": "white",
          "plot_bgcolor": "#E5ECF6",
          "polar": {
           "angularaxis": {
            "gridcolor": "white",
            "linecolor": "white",
            "ticks": ""
           },
           "bgcolor": "#E5ECF6",
           "radialaxis": {
            "gridcolor": "white",
            "linecolor": "white",
            "ticks": ""
           }
          },
          "scene": {
           "xaxis": {
            "backgroundcolor": "#E5ECF6",
            "gridcolor": "white",
            "gridwidth": 2,
            "linecolor": "white",
            "showbackground": true,
            "ticks": "",
            "zerolinecolor": "white"
           },
           "yaxis": {
            "backgroundcolor": "#E5ECF6",
            "gridcolor": "white",
            "gridwidth": 2,
            "linecolor": "white",
            "showbackground": true,
            "ticks": "",
            "zerolinecolor": "white"
           },
           "zaxis": {
            "backgroundcolor": "#E5ECF6",
            "gridcolor": "white",
            "gridwidth": 2,
            "linecolor": "white",
            "showbackground": true,
            "ticks": "",
            "zerolinecolor": "white"
           }
          },
          "shapedefaults": {
           "line": {
            "color": "#2a3f5f"
           }
          },
          "ternary": {
           "aaxis": {
            "gridcolor": "white",
            "linecolor": "white",
            "ticks": ""
           },
           "baxis": {
            "gridcolor": "white",
            "linecolor": "white",
            "ticks": ""
           },
           "bgcolor": "#E5ECF6",
           "caxis": {
            "gridcolor": "white",
            "linecolor": "white",
            "ticks": ""
           }
          },
          "title": {
           "x": 0.05
          },
          "xaxis": {
           "automargin": true,
           "gridcolor": "white",
           "linecolor": "white",
           "ticks": "",
           "title": {
            "standoff": 15
           },
           "zerolinecolor": "white",
           "zerolinewidth": 2
          },
          "yaxis": {
           "automargin": true,
           "gridcolor": "white",
           "linecolor": "white",
           "ticks": "",
           "title": {
            "standoff": 15
           },
           "zerolinecolor": "white",
           "zerolinewidth": 2
          }
         }
        },
        "title": {
         "text": "Logit Difference From Patched Head Output"
        },
        "xaxis": {
         "anchor": "y",
         "constrain": "domain",
         "domain": [
          0,
          1
         ],
         "scaleanchor": "y",
         "title": {
          "text": "Head"
         }
        },
        "yaxis": {
         "anchor": "x",
         "autorange": "reversed",
         "constrain": "domain",
         "domain": [
          0,
          1
         ],
         "title": {
          "text": "Layer"
         }
        }
       }
      },
      "text/html": [
       "<div>                            <div id=\"5e0b5c0a-34e4-4553-8ce2-f30f976ccab0\" class=\"plotly-graph-div\" style=\"height:525px; width:100%;\"></div>            <script type=\"text/javascript\">                require([\"plotly\"], function(Plotly) {                    window.PLOTLYENV=window.PLOTLYENV || {};                                    if (document.getElementById(\"5e0b5c0a-34e4-4553-8ce2-f30f976ccab0\")) {                    Plotly.newPlot(                        \"5e0b5c0a-34e4-4553-8ce2-f30f976ccab0\",                        [{\"coloraxis\":\"coloraxis\",\"name\":\"0\",\"z\":[[0.027604686096310616,-0.17525604367256165,0.0575047992169857,0.10173237323760986,0.03230014443397522,-0.004374356009066105,0.01860094629228115,0.015283344313502312,0.005278926342725754,0.0031555911991745234,-0.08810006082057953,-0.015406182035803795],[-0.006304961163550615,-0.014976143836975098,-0.005799323320388794,0.003807578468695283,-0.007701096124947071,-0.027228236198425293,0.0018192660063505173,-0.006768336985260248,0.01015153992921114,-0.004818896763026714,-0.018635742366313934,0.03841941058635712],[0.004197672475129366,-0.0008290141122415662,0.035190239548683167,0.01902519166469574,0.003309449180960655,-0.0035217441618442535,-0.012830025516450405,-0.008340512402355671,0.0008768963161855936,-0.0020281283650547266,-0.006527596153318882,-0.008000616915524006],[-0.05992220714688301,-0.021362151950597763,-0.016064004972577095,-0.0012019460555166006,-0.10464130342006683,-0.016974110156297684,0.03542239964008331,0.01168673112988472,-0.0019124561222270131,0.014176648110151291,0.020774737000465393,0.0016796954441815615],[-0.0015889938222244382,-0.015309430658817291,0.00615200400352478,0.14682114124298096,-0.06591327488422394,0.009469390846788883,-0.04345386475324631,-0.0011275485157966614,0.006170710548758507,-0.0155936349183321,-0.0014765392988920212,0.012955738231539726],[0.004133142996579409,0.019387012347579002,0.05480816587805748,-0.01271915901452303,-0.007424657698720694,-0.22583165764808655,0.03330545499920845,0.016696127131581306,-0.06560778617858887,-0.10944321006536484,-0.010508297011256218,-0.036419257521629333],[0.17250555753707886,-0.05415506288409233,0.004544903989881277,0.011823555454611778,-0.0032367678359150887,-0.024921180680394173,-0.03612273931503296,0.002839551540091634,-0.0027994781266897917,0.012980193831026554,-0.007318038493394852,0.019179049879312515],[0.004359253216534853,-0.00534564396366477,0.0028034253045916557,0.11326748132705688,0.0015731188468635082,-0.018593352288007736,0.011171482503414154,0.000920616730581969,0.021533988416194916,0.28129810094833374,-0.004104825668036938,0.0038139712996780872],[-0.004469262436032295,-0.004050679039210081,-0.014173815958201885,-0.016129564493894577,-0.004331021569669247,0.03133730962872505,-0.07597458362579346,0.01659821718931198,0.005286606028676033,-0.006474522408097982,0.3398260474205017,-0.019245339557528496],[-0.0037321511190384626,0.027829939499497414,-0.005505036562681198,0.015423472970724106,-0.06413858383893967,0.045362330973148346,0.04280693829059601,0.2307412177324295,-0.01744808256626129,0.3614153265953064,0.001073144725523889,0.02867070958018303],[0.29022523760795593,0.04568703845143318,-0.08170203864574432,-0.004223715979605913,0.0052661835215985775,0.0018925052136182785,0.02020568586885929,-0.17669101059436798,-0.009186516515910625,0.004714937414973974,0.046592336148023605,-0.024440256878733635],[0.018546799197793007,-0.10287884622812271,-0.2649326026439667,-0.002515746047720313,-0.0003237625933252275,-0.03249158710241318,-0.05200924724340439,0.020751353353261948,0.003457128768786788,0.024378130212426186,-0.40415331721305847,0.004604842513799667]],\"type\":\"heatmap\",\"xaxis\":\"x\",\"yaxis\":\"y\",\"hovertemplate\":\"Head: %{x}\\u003cbr\\u003eLayer: %{y}\\u003cbr\\u003ecolor: %{z}\\u003cextra\\u003e\\u003c\\u002fextra\\u003e\"}],                        {\"template\":{\"data\":{\"histogram2dcontour\":[{\"type\":\"histogram2dcontour\",\"colorbar\":{\"outlinewidth\":0,\"ticks\":\"\"},\"colorscale\":[[0.0,\"#0d0887\"],[0.1111111111111111,\"#46039f\"],[0.2222222222222222,\"#7201a8\"],[0.3333333333333333,\"#9c179e\"],[0.4444444444444444,\"#bd3786\"],[0.5555555555555556,\"#d8576b\"],[0.6666666666666666,\"#ed7953\"],[0.7777777777777778,\"#fb9f3a\"],[0.8888888888888888,\"#fdca26\"],[1.0,\"#f0f921\"]]}],\"choropleth\":[{\"type\":\"choropleth\",\"colorbar\":{\"outlinewidth\":0,\"ticks\":\"\"}}],\"histogram2d\":[{\"type\":\"histogram2d\",\"colorbar\":{\"outlinewidth\":0,\"ticks\":\"\"},\"colorscale\":[[0.0,\"#0d0887\"],[0.1111111111111111,\"#46039f\"],[0.2222222222222222,\"#7201a8\"],[0.3333333333333333,\"#9c179e\"],[0.4444444444444444,\"#bd3786\"],[0.5555555555555556,\"#d8576b\"],[0.6666666666666666,\"#ed7953\"],[0.7777777777777778,\"#fb9f3a\"],[0.8888888888888888,\"#fdca26\"],[1.0,\"#f0f921\"]]}],\"heatmap\":[{\"type\":\"heatmap\",\"colorbar\":{\"outlinewidth\":0,\"ticks\":\"\"},\"colorscale\":[[0.0,\"#0d0887\"],[0.1111111111111111,\"#46039f\"],[0.2222222222222222,\"#7201a8\"],[0.3333333333333333,\"#9c179e\"],[0.4444444444444444,\"#bd3786\"],[0.5555555555555556,\"#d8576b\"],[0.6666666666666666,\"#ed7953\"],[0.7777777777777778,\"#fb9f3a\"],[0.8888888888888888,\"#fdca26\"],[1.0,\"#f0f921\"]]}],\"heatmapgl\":[{\"type\":\"heatmapgl\",\"colorbar\":{\"outlinewidth\":0,\"ticks\":\"\"},\"colorscale\":[[0.0,\"#0d0887\"],[0.1111111111111111,\"#46039f\"],[0.2222222222222222,\"#7201a8\"],[0.3333333333333333,\"#9c179e\"],[0.4444444444444444,\"#bd3786\"],[0.5555555555555556,\"#d8576b\"],[0.6666666666666666,\"#ed7953\"],[0.7777777777777778,\"#fb9f3a\"],[0.8888888888888888,\"#fdca26\"],[1.0,\"#f0f921\"]]}],\"contourcarpet\":[{\"type\":\"contourcarpet\",\"colorbar\":{\"outlinewidth\":0,\"ticks\":\"\"}}],\"contour\":[{\"type\":\"contour\",\"colorbar\":{\"outlinewidth\":0,\"ticks\":\"\"},\"colorscale\":[[0.0,\"#0d0887\"],[0.1111111111111111,\"#46039f\"],[0.2222222222222222,\"#7201a8\"],[0.3333333333333333,\"#9c179e\"],[0.4444444444444444,\"#bd3786\"],[0.5555555555555556,\"#d8576b\"],[0.6666666666666666,\"#ed7953\"],[0.7777777777777778,\"#fb9f3a\"],[0.8888888888888888,\"#fdca26\"],[1.0,\"#f0f921\"]]}],\"surface\":[{\"type\":\"surface\",\"colorbar\":{\"outlinewidth\":0,\"ticks\":\"\"},\"colorscale\":[[0.0,\"#0d0887\"],[0.1111111111111111,\"#46039f\"],[0.2222222222222222,\"#7201a8\"],[0.3333333333333333,\"#9c179e\"],[0.4444444444444444,\"#bd3786\"],[0.5555555555555556,\"#d8576b\"],[0.6666666666666666,\"#ed7953\"],[0.7777777777777778,\"#fb9f3a\"],[0.8888888888888888,\"#fdca26\"],[1.0,\"#f0f921\"]]}],\"mesh3d\":[{\"type\":\"mesh3d\",\"colorbar\":{\"outlinewidth\":0,\"ticks\":\"\"}}],\"scatter\":[{\"fillpattern\":{\"fillmode\":\"overlay\",\"size\":10,\"solidity\":0.2},\"type\":\"scatter\"}],\"parcoords\":[{\"type\":\"parcoords\",\"line\":{\"colorbar\":{\"outlinewidth\":0,\"ticks\":\"\"}}}],\"scatterpolargl\":[{\"type\":\"scatterpolargl\",\"marker\":{\"colorbar\":{\"outlinewidth\":0,\"ticks\":\"\"}}}],\"bar\":[{\"error_x\":{\"color\":\"#2a3f5f\"},\"error_y\":{\"color\":\"#2a3f5f\"},\"marker\":{\"line\":{\"color\":\"#E5ECF6\",\"width\":0.5},\"pattern\":{\"fillmode\":\"overlay\",\"size\":10,\"solidity\":0.2}},\"type\":\"bar\"}],\"scattergeo\":[{\"type\":\"scattergeo\",\"marker\":{\"colorbar\":{\"outlinewidth\":0,\"ticks\":\"\"}}}],\"scatterpolar\":[{\"type\":\"scatterpolar\",\"marker\":{\"colorbar\":{\"outlinewidth\":0,\"ticks\":\"\"}}}],\"histogram\":[{\"marker\":{\"pattern\":{\"fillmode\":\"overlay\",\"size\":10,\"solidity\":0.2}},\"type\":\"histogram\"}],\"scattergl\":[{\"type\":\"scattergl\",\"marker\":{\"colorbar\":{\"outlinewidth\":0,\"ticks\":\"\"}}}],\"scatter3d\":[{\"type\":\"scatter3d\",\"line\":{\"colorbar\":{\"outlinewidth\":0,\"ticks\":\"\"}},\"marker\":{\"colorbar\":{\"outlinewidth\":0,\"ticks\":\"\"}}}],\"scattermapbox\":[{\"type\":\"scattermapbox\",\"marker\":{\"colorbar\":{\"outlinewidth\":0,\"ticks\":\"\"}}}],\"scatterternary\":[{\"type\":\"scatterternary\",\"marker\":{\"colorbar\":{\"outlinewidth\":0,\"ticks\":\"\"}}}],\"scattercarpet\":[{\"type\":\"scattercarpet\",\"marker\":{\"colorbar\":{\"outlinewidth\":0,\"ticks\":\"\"}}}],\"carpet\":[{\"aaxis\":{\"endlinecolor\":\"#2a3f5f\",\"gridcolor\":\"white\",\"linecolor\":\"white\",\"minorgridcolor\":\"white\",\"startlinecolor\":\"#2a3f5f\"},\"baxis\":{\"endlinecolor\":\"#2a3f5f\",\"gridcolor\":\"white\",\"linecolor\":\"white\",\"minorgridcolor\":\"white\",\"startlinecolor\":\"#2a3f5f\"},\"type\":\"carpet\"}],\"table\":[{\"cells\":{\"fill\":{\"color\":\"#EBF0F8\"},\"line\":{\"color\":\"white\"}},\"header\":{\"fill\":{\"color\":\"#C8D4E3\"},\"line\":{\"color\":\"white\"}},\"type\":\"table\"}],\"barpolar\":[{\"marker\":{\"line\":{\"color\":\"#E5ECF6\",\"width\":0.5},\"pattern\":{\"fillmode\":\"overlay\",\"size\":10,\"solidity\":0.2}},\"type\":\"barpolar\"}],\"pie\":[{\"automargin\":true,\"type\":\"pie\"}]},\"layout\":{\"autotypenumbers\":\"strict\",\"colorway\":[\"#636efa\",\"#EF553B\",\"#00cc96\",\"#ab63fa\",\"#FFA15A\",\"#19d3f3\",\"#FF6692\",\"#B6E880\",\"#FF97FF\",\"#FECB52\"],\"font\":{\"color\":\"#2a3f5f\"},\"hovermode\":\"closest\",\"hoverlabel\":{\"align\":\"left\"},\"paper_bgcolor\":\"white\",\"plot_bgcolor\":\"#E5ECF6\",\"polar\":{\"bgcolor\":\"#E5ECF6\",\"angularaxis\":{\"gridcolor\":\"white\",\"linecolor\":\"white\",\"ticks\":\"\"},\"radialaxis\":{\"gridcolor\":\"white\",\"linecolor\":\"white\",\"ticks\":\"\"}},\"ternary\":{\"bgcolor\":\"#E5ECF6\",\"aaxis\":{\"gridcolor\":\"white\",\"linecolor\":\"white\",\"ticks\":\"\"},\"baxis\":{\"gridcolor\":\"white\",\"linecolor\":\"white\",\"ticks\":\"\"},\"caxis\":{\"gridcolor\":\"white\",\"linecolor\":\"white\",\"ticks\":\"\"}},\"coloraxis\":{\"colorbar\":{\"outlinewidth\":0,\"ticks\":\"\"}},\"colorscale\":{\"sequential\":[[0.0,\"#0d0887\"],[0.1111111111111111,\"#46039f\"],[0.2222222222222222,\"#7201a8\"],[0.3333333333333333,\"#9c179e\"],[0.4444444444444444,\"#bd3786\"],[0.5555555555555556,\"#d8576b\"],[0.6666666666666666,\"#ed7953\"],[0.7777777777777778,\"#fb9f3a\"],[0.8888888888888888,\"#fdca26\"],[1.0,\"#f0f921\"]],\"sequentialminus\":[[0.0,\"#0d0887\"],[0.1111111111111111,\"#46039f\"],[0.2222222222222222,\"#7201a8\"],[0.3333333333333333,\"#9c179e\"],[0.4444444444444444,\"#bd3786\"],[0.5555555555555556,\"#d8576b\"],[0.6666666666666666,\"#ed7953\"],[0.7777777777777778,\"#fb9f3a\"],[0.8888888888888888,\"#fdca26\"],[1.0,\"#f0f921\"]],\"diverging\":[[0,\"#8e0152\"],[0.1,\"#c51b7d\"],[0.2,\"#de77ae\"],[0.3,\"#f1b6da\"],[0.4,\"#fde0ef\"],[0.5,\"#f7f7f7\"],[0.6,\"#e6f5d0\"],[0.7,\"#b8e186\"],[0.8,\"#7fbc41\"],[0.9,\"#4d9221\"],[1,\"#276419\"]]},\"xaxis\":{\"gridcolor\":\"white\",\"linecolor\":\"white\",\"ticks\":\"\",\"title\":{\"standoff\":15},\"zerolinecolor\":\"white\",\"automargin\":true,\"zerolinewidth\":2},\"yaxis\":{\"gridcolor\":\"white\",\"linecolor\":\"white\",\"ticks\":\"\",\"title\":{\"standoff\":15},\"zerolinecolor\":\"white\",\"automargin\":true,\"zerolinewidth\":2},\"scene\":{\"xaxis\":{\"backgroundcolor\":\"#E5ECF6\",\"gridcolor\":\"white\",\"linecolor\":\"white\",\"showbackground\":true,\"ticks\":\"\",\"zerolinecolor\":\"white\",\"gridwidth\":2},\"yaxis\":{\"backgroundcolor\":\"#E5ECF6\",\"gridcolor\":\"white\",\"linecolor\":\"white\",\"showbackground\":true,\"ticks\":\"\",\"zerolinecolor\":\"white\",\"gridwidth\":2},\"zaxis\":{\"backgroundcolor\":\"#E5ECF6\",\"gridcolor\":\"white\",\"linecolor\":\"white\",\"showbackground\":true,\"ticks\":\"\",\"zerolinecolor\":\"white\",\"gridwidth\":2}},\"shapedefaults\":{\"line\":{\"color\":\"#2a3f5f\"}},\"annotationdefaults\":{\"arrowcolor\":\"#2a3f5f\",\"arrowhead\":0,\"arrowwidth\":1},\"geo\":{\"bgcolor\":\"white\",\"landcolor\":\"#E5ECF6\",\"subunitcolor\":\"white\",\"showland\":true,\"showlakes\":true,\"lakecolor\":\"white\"},\"title\":{\"x\":0.05},\"mapbox\":{\"style\":\"light\"}}},\"xaxis\":{\"anchor\":\"y\",\"domain\":[0.0,1.0],\"scaleanchor\":\"y\",\"constrain\":\"domain\",\"title\":{\"text\":\"Head\"}},\"yaxis\":{\"anchor\":\"x\",\"domain\":[0.0,1.0],\"autorange\":\"reversed\",\"constrain\":\"domain\",\"title\":{\"text\":\"Layer\"}},\"coloraxis\":{\"colorscale\":[[0.0,\"rgb(103,0,31)\"],[0.1,\"rgb(178,24,43)\"],[0.2,\"rgb(214,96,77)\"],[0.3,\"rgb(244,165,130)\"],[0.4,\"rgb(253,219,199)\"],[0.5,\"rgb(247,247,247)\"],[0.6,\"rgb(209,229,240)\"],[0.7,\"rgb(146,197,222)\"],[0.8,\"rgb(67,147,195)\"],[0.9,\"rgb(33,102,172)\"],[1.0,\"rgb(5,48,97)\"]],\"cmid\":0.0},\"title\":{\"text\":\"Logit Difference From Patched Head Output\"}},                        {\"responsive\": true}                    ).then(function(){\n",
       "                            \n",
       "var gd = document.getElementById('5e0b5c0a-34e4-4553-8ce2-f30f976ccab0');\n",
       "var x = new MutationObserver(function (mutations, observer) {{\n",
       "        var display = window.getComputedStyle(gd).display;\n",
       "        if (!display || display === 'none') {{\n",
       "            console.log([gd, 'removed!']);\n",
       "            Plotly.purge(gd);\n",
       "            observer.disconnect();\n",
       "        }}\n",
       "}});\n",
       "\n",
       "// Listen for the removal of the full notebook cells\n",
       "var notebookContainer = gd.closest('#notebook-container');\n",
       "if (notebookContainer) {{\n",
       "    x.observe(notebookContainer, {childList: true});\n",
       "}}\n",
       "\n",
       "// Listen for the clearing of the current output cell\n",
       "var outputEl = gd.closest('.output');\n",
       "if (outputEl) {{\n",
       "    x.observe(outputEl, {childList: true});\n",
       "}}\n",
       "\n",
       "                        })                };                });            </script>        </div>"
      ]
     },
     "metadata": {},
     "output_type": "display_data"
    }
   ],
   "source": [
    "imshow(\n",
    "    patched_head_z_diff,\n",
    "    title=\"Logit Difference From Patched Head Output\",\n",
    "    labels={\"x\": \"Head\", \"y\": \"Layer\"},\n",
    ")"
   ]
  },
  {
   "cell_type": "code",
   "execution_count": 117,
   "metadata": {},
   "outputs": [],
   "source": [
    "patched_head_v_diff = torch.zeros(\n",
    "    model.cfg.n_layers, model.cfg.n_heads, device=device, dtype=torch.float32\n",
    ")\n",
    "for layer in range(model.cfg.n_layers):\n",
    "    for head_index in range(model.cfg.n_heads):\n",
    "        hook_fn = partial(patch_head_vector, head_index=head_index, clean_cache=cache)\n",
    "        patched_logits = model.run_with_hooks(\n",
    "            corrupted_tokens,\n",
    "            fwd_hooks=[(utils.get_act_name(\"v\", layer, \"attn\"), hook_fn)],\n",
    "            return_type=\"logits\",\n",
    "        )\n",
    "        patched_logit_diff = logits_to_ave_logit_diff(patched_logits, answer_tokens)\n",
    "\n",
    "        patched_head_v_diff[layer, head_index] = normalize_patched_logit_diff(\n",
    "            patched_logit_diff\n",
    "        )"
   ]
  },
  {
   "cell_type": "code",
   "execution_count": 118,
   "metadata": {},
   "outputs": [
    {
     "data": {
      "application/vnd.plotly.v1+json": {
       "config": {
        "plotlyServerURL": "https://plot.ly"
       },
       "data": [
        {
         "coloraxis": "coloraxis",
         "hovertemplate": "Head: %{x}<br>Layer: %{y}<br>color: %{z}<extra></extra>",
         "name": "0",
         "type": "heatmap",
         "xaxis": "x",
         "yaxis": "y",
         "z": [
          [
           0.022435683757066727,
           -0.10056668519973755,
           0.026702003553509712,
           0.09852049499750137,
           0.0322585254907608,
           -0.011184139177203178,
           0.0025760706048458815,
           0.0020567034371197224,
           0.006314657628536224,
           0.020740026608109474,
           -0.06696466356515884,
           -0.01927245408296585
          ],
          [
           -0.00030951807275414467,
           -0.02269028313457966,
           -0.006558444816619158,
           0.0022939261980354786,
           -0.005413519684225321,
           -0.021823983639478683,
           0.005211522337049246,
           -0.0045083062723279,
           0.004518646281212568,
           -0.007201508153229952,
           -0.018641361966729164,
           0.003812297945842147
          ],
          [
           -0.011597917415201664,
           0.014701378531754017,
           0.031058983877301216,
           0.01402351912111044,
           0.010786966420710087,
           -0.010969485156238079,
           -0.0073717557825148106,
           0.00009404818410985172,
           -0.022873273119330406,
           0.015812451019883156,
           -0.020453333854675293,
           -0.0077308290638029575
          ],
          [
           -0.07911507040262222,
           -0.004253706429153681,
           0.003676031017675996,
           0.005792801734060049,
           -0.06750411540269852,
           -0.02125248685479164,
           0.021939527243375778,
           0.027043400332331657,
           0.00828932598233223,
           -0.0030141756869852543,
           0.020234432071447372,
           0.006725003011524677
          ],
          [
           -0.00252707302570343,
           -0.025702226907014847,
           -0.0035377047024667263,
           0.11806333810091019,
           -0.05172426998615265,
           -0.0039671859703958035,
           -0.022501885890960693,
           -0.002260030945762992,
           0.0053495909087359905,
           -0.01544372458010912,
           -0.011218421161174774,
           0.013018036261200905
          ],
          [
           -0.022700536996126175,
           0.0011040364624932408,
           0.035412829369306564,
           -0.0060233743861317635,
           -0.0006311783217824996,
           -0.020193757489323616,
           0.026463065296411514,
           0.012622750364243984,
           -0.01328284665942192,
           -0.09426571428775787,
           0.012550626881420612,
           -0.03773627430200577
          ],
          [
           0.18053433299064636,
           -0.005633623339235783,
           0.005735780578106642,
           0.004538682755082846,
           -0.008499003946781158,
           -0.025753241032361984,
           -0.013138385489583015,
           0.008949551731348038,
           0.017195414751768112,
           -0.015235290862619877,
           -0.0056260721758008,
           0.01589791849255562
          ],
          [
           0.0056425477378070354,
           -0.011430028825998306,
           -0.012445852160453796,
           0.1562458723783493,
           0.010422572493553162,
           -0.022969380021095276,
           0.009030384942889214,
           -0.0015451876679435372,
           0.02382705546915531,
           0.25603803992271423,
           0.0024334967602044344,
           0.005555793642997742
          ],
          [
           -0.0021362495608627796,
           -0.002613527001813054,
           -0.01905488222837448,
           -0.04362698644399643,
           -0.009057029150426388,
           0.04882632568478584,
           -0.046370815485715866,
           0.015670521184802055,
           -0.002743358025327325,
           0.005883202888071537,
           0.35758671164512634,
           -0.016377169638872147
          ],
          [
           0.022322628647089005,
           0.010989264585077763,
           -0.02835947461426258,
           0.012775450013577938,
           -0.07482073456048965,
           0.041553765535354614,
           -0.007833114825189114,
           0.22910557687282562,
           -0.0133604621514678,
           -0.1251680850982666,
           -0.0009313859045505524,
           -0.000027545134798856452
          ],
          [
           -0.0684259757399559,
           0.033141687512397766,
           -0.0895356759428978,
           -0.034901831299066544,
           -0.0009660104406066239,
           0.0010261634597554803,
           -0.06278153508901596,
           0.30301064252853394,
           0.001835484174080193,
           -0.00674739945679903,
           -0.14323443174362183,
           -0.013904886320233345
          ],
          [
           0.030804941430687904,
           -0.07152973860502243,
           -0.18157744407653809,
           0.027155425399541855,
           0.0041915797628462315,
           0.008576104417443275,
           -0.05492306500673294,
           0.017597049474716187,
           -0.0005164926988072693,
           -0.0025434198323637247,
           0.19711452722549438,
           0.015231343917548656
          ]
         ]
        }
       ],
       "layout": {
        "coloraxis": {
         "cmid": 0,
         "colorscale": [
          [
           0,
           "rgb(103,0,31)"
          ],
          [
           0.1,
           "rgb(178,24,43)"
          ],
          [
           0.2,
           "rgb(214,96,77)"
          ],
          [
           0.3,
           "rgb(244,165,130)"
          ],
          [
           0.4,
           "rgb(253,219,199)"
          ],
          [
           0.5,
           "rgb(247,247,247)"
          ],
          [
           0.6,
           "rgb(209,229,240)"
          ],
          [
           0.7,
           "rgb(146,197,222)"
          ],
          [
           0.8,
           "rgb(67,147,195)"
          ],
          [
           0.9,
           "rgb(33,102,172)"
          ],
          [
           1,
           "rgb(5,48,97)"
          ]
         ]
        },
        "template": {
         "data": {
          "bar": [
           {
            "error_x": {
             "color": "#2a3f5f"
            },
            "error_y": {
             "color": "#2a3f5f"
            },
            "marker": {
             "line": {
              "color": "#E5ECF6",
              "width": 0.5
             },
             "pattern": {
              "fillmode": "overlay",
              "size": 10,
              "solidity": 0.2
             }
            },
            "type": "bar"
           }
          ],
          "barpolar": [
           {
            "marker": {
             "line": {
              "color": "#E5ECF6",
              "width": 0.5
             },
             "pattern": {
              "fillmode": "overlay",
              "size": 10,
              "solidity": 0.2
             }
            },
            "type": "barpolar"
           }
          ],
          "carpet": [
           {
            "aaxis": {
             "endlinecolor": "#2a3f5f",
             "gridcolor": "white",
             "linecolor": "white",
             "minorgridcolor": "white",
             "startlinecolor": "#2a3f5f"
            },
            "baxis": {
             "endlinecolor": "#2a3f5f",
             "gridcolor": "white",
             "linecolor": "white",
             "minorgridcolor": "white",
             "startlinecolor": "#2a3f5f"
            },
            "type": "carpet"
           }
          ],
          "choropleth": [
           {
            "colorbar": {
             "outlinewidth": 0,
             "ticks": ""
            },
            "type": "choropleth"
           }
          ],
          "contour": [
           {
            "colorbar": {
             "outlinewidth": 0,
             "ticks": ""
            },
            "colorscale": [
             [
              0,
              "#0d0887"
             ],
             [
              0.1111111111111111,
              "#46039f"
             ],
             [
              0.2222222222222222,
              "#7201a8"
             ],
             [
              0.3333333333333333,
              "#9c179e"
             ],
             [
              0.4444444444444444,
              "#bd3786"
             ],
             [
              0.5555555555555556,
              "#d8576b"
             ],
             [
              0.6666666666666666,
              "#ed7953"
             ],
             [
              0.7777777777777778,
              "#fb9f3a"
             ],
             [
              0.8888888888888888,
              "#fdca26"
             ],
             [
              1,
              "#f0f921"
             ]
            ],
            "type": "contour"
           }
          ],
          "contourcarpet": [
           {
            "colorbar": {
             "outlinewidth": 0,
             "ticks": ""
            },
            "type": "contourcarpet"
           }
          ],
          "heatmap": [
           {
            "colorbar": {
             "outlinewidth": 0,
             "ticks": ""
            },
            "colorscale": [
             [
              0,
              "#0d0887"
             ],
             [
              0.1111111111111111,
              "#46039f"
             ],
             [
              0.2222222222222222,
              "#7201a8"
             ],
             [
              0.3333333333333333,
              "#9c179e"
             ],
             [
              0.4444444444444444,
              "#bd3786"
             ],
             [
              0.5555555555555556,
              "#d8576b"
             ],
             [
              0.6666666666666666,
              "#ed7953"
             ],
             [
              0.7777777777777778,
              "#fb9f3a"
             ],
             [
              0.8888888888888888,
              "#fdca26"
             ],
             [
              1,
              "#f0f921"
             ]
            ],
            "type": "heatmap"
           }
          ],
          "heatmapgl": [
           {
            "colorbar": {
             "outlinewidth": 0,
             "ticks": ""
            },
            "colorscale": [
             [
              0,
              "#0d0887"
             ],
             [
              0.1111111111111111,
              "#46039f"
             ],
             [
              0.2222222222222222,
              "#7201a8"
             ],
             [
              0.3333333333333333,
              "#9c179e"
             ],
             [
              0.4444444444444444,
              "#bd3786"
             ],
             [
              0.5555555555555556,
              "#d8576b"
             ],
             [
              0.6666666666666666,
              "#ed7953"
             ],
             [
              0.7777777777777778,
              "#fb9f3a"
             ],
             [
              0.8888888888888888,
              "#fdca26"
             ],
             [
              1,
              "#f0f921"
             ]
            ],
            "type": "heatmapgl"
           }
          ],
          "histogram": [
           {
            "marker": {
             "pattern": {
              "fillmode": "overlay",
              "size": 10,
              "solidity": 0.2
             }
            },
            "type": "histogram"
           }
          ],
          "histogram2d": [
           {
            "colorbar": {
             "outlinewidth": 0,
             "ticks": ""
            },
            "colorscale": [
             [
              0,
              "#0d0887"
             ],
             [
              0.1111111111111111,
              "#46039f"
             ],
             [
              0.2222222222222222,
              "#7201a8"
             ],
             [
              0.3333333333333333,
              "#9c179e"
             ],
             [
              0.4444444444444444,
              "#bd3786"
             ],
             [
              0.5555555555555556,
              "#d8576b"
             ],
             [
              0.6666666666666666,
              "#ed7953"
             ],
             [
              0.7777777777777778,
              "#fb9f3a"
             ],
             [
              0.8888888888888888,
              "#fdca26"
             ],
             [
              1,
              "#f0f921"
             ]
            ],
            "type": "histogram2d"
           }
          ],
          "histogram2dcontour": [
           {
            "colorbar": {
             "outlinewidth": 0,
             "ticks": ""
            },
            "colorscale": [
             [
              0,
              "#0d0887"
             ],
             [
              0.1111111111111111,
              "#46039f"
             ],
             [
              0.2222222222222222,
              "#7201a8"
             ],
             [
              0.3333333333333333,
              "#9c179e"
             ],
             [
              0.4444444444444444,
              "#bd3786"
             ],
             [
              0.5555555555555556,
              "#d8576b"
             ],
             [
              0.6666666666666666,
              "#ed7953"
             ],
             [
              0.7777777777777778,
              "#fb9f3a"
             ],
             [
              0.8888888888888888,
              "#fdca26"
             ],
             [
              1,
              "#f0f921"
             ]
            ],
            "type": "histogram2dcontour"
           }
          ],
          "mesh3d": [
           {
            "colorbar": {
             "outlinewidth": 0,
             "ticks": ""
            },
            "type": "mesh3d"
           }
          ],
          "parcoords": [
           {
            "line": {
             "colorbar": {
              "outlinewidth": 0,
              "ticks": ""
             }
            },
            "type": "parcoords"
           }
          ],
          "pie": [
           {
            "automargin": true,
            "type": "pie"
           }
          ],
          "scatter": [
           {
            "fillpattern": {
             "fillmode": "overlay",
             "size": 10,
             "solidity": 0.2
            },
            "type": "scatter"
           }
          ],
          "scatter3d": [
           {
            "line": {
             "colorbar": {
              "outlinewidth": 0,
              "ticks": ""
             }
            },
            "marker": {
             "colorbar": {
              "outlinewidth": 0,
              "ticks": ""
             }
            },
            "type": "scatter3d"
           }
          ],
          "scattercarpet": [
           {
            "marker": {
             "colorbar": {
              "outlinewidth": 0,
              "ticks": ""
             }
            },
            "type": "scattercarpet"
           }
          ],
          "scattergeo": [
           {
            "marker": {
             "colorbar": {
              "outlinewidth": 0,
              "ticks": ""
             }
            },
            "type": "scattergeo"
           }
          ],
          "scattergl": [
           {
            "marker": {
             "colorbar": {
              "outlinewidth": 0,
              "ticks": ""
             }
            },
            "type": "scattergl"
           }
          ],
          "scattermapbox": [
           {
            "marker": {
             "colorbar": {
              "outlinewidth": 0,
              "ticks": ""
             }
            },
            "type": "scattermapbox"
           }
          ],
          "scatterpolar": [
           {
            "marker": {
             "colorbar": {
              "outlinewidth": 0,
              "ticks": ""
             }
            },
            "type": "scatterpolar"
           }
          ],
          "scatterpolargl": [
           {
            "marker": {
             "colorbar": {
              "outlinewidth": 0,
              "ticks": ""
             }
            },
            "type": "scatterpolargl"
           }
          ],
          "scatterternary": [
           {
            "marker": {
             "colorbar": {
              "outlinewidth": 0,
              "ticks": ""
             }
            },
            "type": "scatterternary"
           }
          ],
          "surface": [
           {
            "colorbar": {
             "outlinewidth": 0,
             "ticks": ""
            },
            "colorscale": [
             [
              0,
              "#0d0887"
             ],
             [
              0.1111111111111111,
              "#46039f"
             ],
             [
              0.2222222222222222,
              "#7201a8"
             ],
             [
              0.3333333333333333,
              "#9c179e"
             ],
             [
              0.4444444444444444,
              "#bd3786"
             ],
             [
              0.5555555555555556,
              "#d8576b"
             ],
             [
              0.6666666666666666,
              "#ed7953"
             ],
             [
              0.7777777777777778,
              "#fb9f3a"
             ],
             [
              0.8888888888888888,
              "#fdca26"
             ],
             [
              1,
              "#f0f921"
             ]
            ],
            "type": "surface"
           }
          ],
          "table": [
           {
            "cells": {
             "fill": {
              "color": "#EBF0F8"
             },
             "line": {
              "color": "white"
             }
            },
            "header": {
             "fill": {
              "color": "#C8D4E3"
             },
             "line": {
              "color": "white"
             }
            },
            "type": "table"
           }
          ]
         },
         "layout": {
          "annotationdefaults": {
           "arrowcolor": "#2a3f5f",
           "arrowhead": 0,
           "arrowwidth": 1
          },
          "autotypenumbers": "strict",
          "coloraxis": {
           "colorbar": {
            "outlinewidth": 0,
            "ticks": ""
           }
          },
          "colorscale": {
           "diverging": [
            [
             0,
             "#8e0152"
            ],
            [
             0.1,
             "#c51b7d"
            ],
            [
             0.2,
             "#de77ae"
            ],
            [
             0.3,
             "#f1b6da"
            ],
            [
             0.4,
             "#fde0ef"
            ],
            [
             0.5,
             "#f7f7f7"
            ],
            [
             0.6,
             "#e6f5d0"
            ],
            [
             0.7,
             "#b8e186"
            ],
            [
             0.8,
             "#7fbc41"
            ],
            [
             0.9,
             "#4d9221"
            ],
            [
             1,
             "#276419"
            ]
           ],
           "sequential": [
            [
             0,
             "#0d0887"
            ],
            [
             0.1111111111111111,
             "#46039f"
            ],
            [
             0.2222222222222222,
             "#7201a8"
            ],
            [
             0.3333333333333333,
             "#9c179e"
            ],
            [
             0.4444444444444444,
             "#bd3786"
            ],
            [
             0.5555555555555556,
             "#d8576b"
            ],
            [
             0.6666666666666666,
             "#ed7953"
            ],
            [
             0.7777777777777778,
             "#fb9f3a"
            ],
            [
             0.8888888888888888,
             "#fdca26"
            ],
            [
             1,
             "#f0f921"
            ]
           ],
           "sequentialminus": [
            [
             0,
             "#0d0887"
            ],
            [
             0.1111111111111111,
             "#46039f"
            ],
            [
             0.2222222222222222,
             "#7201a8"
            ],
            [
             0.3333333333333333,
             "#9c179e"
            ],
            [
             0.4444444444444444,
             "#bd3786"
            ],
            [
             0.5555555555555556,
             "#d8576b"
            ],
            [
             0.6666666666666666,
             "#ed7953"
            ],
            [
             0.7777777777777778,
             "#fb9f3a"
            ],
            [
             0.8888888888888888,
             "#fdca26"
            ],
            [
             1,
             "#f0f921"
            ]
           ]
          },
          "colorway": [
           "#636efa",
           "#EF553B",
           "#00cc96",
           "#ab63fa",
           "#FFA15A",
           "#19d3f3",
           "#FF6692",
           "#B6E880",
           "#FF97FF",
           "#FECB52"
          ],
          "font": {
           "color": "#2a3f5f"
          },
          "geo": {
           "bgcolor": "white",
           "lakecolor": "white",
           "landcolor": "#E5ECF6",
           "showlakes": true,
           "showland": true,
           "subunitcolor": "white"
          },
          "hoverlabel": {
           "align": "left"
          },
          "hovermode": "closest",
          "mapbox": {
           "style": "light"
          },
          "paper_bgcolor": "white",
          "plot_bgcolor": "#E5ECF6",
          "polar": {
           "angularaxis": {
            "gridcolor": "white",
            "linecolor": "white",
            "ticks": ""
           },
           "bgcolor": "#E5ECF6",
           "radialaxis": {
            "gridcolor": "white",
            "linecolor": "white",
            "ticks": ""
           }
          },
          "scene": {
           "xaxis": {
            "backgroundcolor": "#E5ECF6",
            "gridcolor": "white",
            "gridwidth": 2,
            "linecolor": "white",
            "showbackground": true,
            "ticks": "",
            "zerolinecolor": "white"
           },
           "yaxis": {
            "backgroundcolor": "#E5ECF6",
            "gridcolor": "white",
            "gridwidth": 2,
            "linecolor": "white",
            "showbackground": true,
            "ticks": "",
            "zerolinecolor": "white"
           },
           "zaxis": {
            "backgroundcolor": "#E5ECF6",
            "gridcolor": "white",
            "gridwidth": 2,
            "linecolor": "white",
            "showbackground": true,
            "ticks": "",
            "zerolinecolor": "white"
           }
          },
          "shapedefaults": {
           "line": {
            "color": "#2a3f5f"
           }
          },
          "ternary": {
           "aaxis": {
            "gridcolor": "white",
            "linecolor": "white",
            "ticks": ""
           },
           "baxis": {
            "gridcolor": "white",
            "linecolor": "white",
            "ticks": ""
           },
           "bgcolor": "#E5ECF6",
           "caxis": {
            "gridcolor": "white",
            "linecolor": "white",
            "ticks": ""
           }
          },
          "title": {
           "x": 0.05
          },
          "xaxis": {
           "automargin": true,
           "gridcolor": "white",
           "linecolor": "white",
           "ticks": "",
           "title": {
            "standoff": 15
           },
           "zerolinecolor": "white",
           "zerolinewidth": 2
          },
          "yaxis": {
           "automargin": true,
           "gridcolor": "white",
           "linecolor": "white",
           "ticks": "",
           "title": {
            "standoff": 15
           },
           "zerolinecolor": "white",
           "zerolinewidth": 2
          }
         }
        },
        "title": {
         "text": "Logit Difference From Patched Head Value"
        },
        "xaxis": {
         "anchor": "y",
         "constrain": "domain",
         "domain": [
          0,
          1
         ],
         "scaleanchor": "y",
         "title": {
          "text": "Head"
         }
        },
        "yaxis": {
         "anchor": "x",
         "autorange": "reversed",
         "constrain": "domain",
         "domain": [
          0,
          1
         ],
         "title": {
          "text": "Layer"
         }
        }
       }
      },
      "text/html": [
       "<div>                            <div id=\"c3b06863-dcf6-40ad-8f15-8a7e99abd68b\" class=\"plotly-graph-div\" style=\"height:525px; width:100%;\"></div>            <script type=\"text/javascript\">                require([\"plotly\"], function(Plotly) {                    window.PLOTLYENV=window.PLOTLYENV || {};                                    if (document.getElementById(\"c3b06863-dcf6-40ad-8f15-8a7e99abd68b\")) {                    Plotly.newPlot(                        \"c3b06863-dcf6-40ad-8f15-8a7e99abd68b\",                        [{\"coloraxis\":\"coloraxis\",\"name\":\"0\",\"z\":[[0.022435683757066727,-0.10056668519973755,0.026702003553509712,0.09852049499750137,0.0322585254907608,-0.011184139177203178,0.0025760706048458815,0.0020567034371197224,0.006314657628536224,0.020740026608109474,-0.06696466356515884,-0.01927245408296585],[-0.00030951807275414467,-0.02269028313457966,-0.006558444816619158,0.0022939261980354786,-0.005413519684225321,-0.021823983639478683,0.005211522337049246,-0.0045083062723279,0.004518646281212568,-0.007201508153229952,-0.018641361966729164,0.003812297945842147],[-0.011597917415201664,0.014701378531754017,0.031058983877301216,0.01402351912111044,0.010786966420710087,-0.010969485156238079,-0.0073717557825148106,9.404818410985172e-05,-0.022873273119330406,0.015812451019883156,-0.020453333854675293,-0.0077308290638029575],[-0.07911507040262222,-0.004253706429153681,0.003676031017675996,0.005792801734060049,-0.06750411540269852,-0.02125248685479164,0.021939527243375778,0.027043400332331657,0.00828932598233223,-0.0030141756869852543,0.020234432071447372,0.006725003011524677],[-0.00252707302570343,-0.025702226907014847,-0.0035377047024667263,0.11806333810091019,-0.05172426998615265,-0.0039671859703958035,-0.022501885890960693,-0.002260030945762992,0.0053495909087359905,-0.01544372458010912,-0.011218421161174774,0.013018036261200905],[-0.022700536996126175,0.0011040364624932408,0.035412829369306564,-0.0060233743861317635,-0.0006311783217824996,-0.020193757489323616,0.026463065296411514,0.012622750364243984,-0.01328284665942192,-0.09426571428775787,0.012550626881420612,-0.03773627430200577],[0.18053433299064636,-0.005633623339235783,0.005735780578106642,0.004538682755082846,-0.008499003946781158,-0.025753241032361984,-0.013138385489583015,0.008949551731348038,0.017195414751768112,-0.015235290862619877,-0.0056260721758008,0.01589791849255562],[0.0056425477378070354,-0.011430028825998306,-0.012445852160453796,0.1562458723783493,0.010422572493553162,-0.022969380021095276,0.009030384942889214,-0.0015451876679435372,0.02382705546915531,0.25603803992271423,0.0024334967602044344,0.005555793642997742],[-0.0021362495608627796,-0.002613527001813054,-0.01905488222837448,-0.04362698644399643,-0.009057029150426388,0.04882632568478584,-0.046370815485715866,0.015670521184802055,-0.002743358025327325,0.005883202888071537,0.35758671164512634,-0.016377169638872147],[0.022322628647089005,0.010989264585077763,-0.02835947461426258,0.012775450013577938,-0.07482073456048965,0.041553765535354614,-0.007833114825189114,0.22910557687282562,-0.0133604621514678,-0.1251680850982666,-0.0009313859045505524,-2.7545134798856452e-05],[-0.0684259757399559,0.033141687512397766,-0.0895356759428978,-0.034901831299066544,-0.0009660104406066239,0.0010261634597554803,-0.06278153508901596,0.30301064252853394,0.001835484174080193,-0.00674739945679903,-0.14323443174362183,-0.013904886320233345],[0.030804941430687904,-0.07152973860502243,-0.18157744407653809,0.027155425399541855,0.0041915797628462315,0.008576104417443275,-0.05492306500673294,0.017597049474716187,-0.0005164926988072693,-0.0025434198323637247,0.19711452722549438,0.015231343917548656]],\"type\":\"heatmap\",\"xaxis\":\"x\",\"yaxis\":\"y\",\"hovertemplate\":\"Head: %{x}\\u003cbr\\u003eLayer: %{y}\\u003cbr\\u003ecolor: %{z}\\u003cextra\\u003e\\u003c\\u002fextra\\u003e\"}],                        {\"template\":{\"data\":{\"histogram2dcontour\":[{\"type\":\"histogram2dcontour\",\"colorbar\":{\"outlinewidth\":0,\"ticks\":\"\"},\"colorscale\":[[0.0,\"#0d0887\"],[0.1111111111111111,\"#46039f\"],[0.2222222222222222,\"#7201a8\"],[0.3333333333333333,\"#9c179e\"],[0.4444444444444444,\"#bd3786\"],[0.5555555555555556,\"#d8576b\"],[0.6666666666666666,\"#ed7953\"],[0.7777777777777778,\"#fb9f3a\"],[0.8888888888888888,\"#fdca26\"],[1.0,\"#f0f921\"]]}],\"choropleth\":[{\"type\":\"choropleth\",\"colorbar\":{\"outlinewidth\":0,\"ticks\":\"\"}}],\"histogram2d\":[{\"type\":\"histogram2d\",\"colorbar\":{\"outlinewidth\":0,\"ticks\":\"\"},\"colorscale\":[[0.0,\"#0d0887\"],[0.1111111111111111,\"#46039f\"],[0.2222222222222222,\"#7201a8\"],[0.3333333333333333,\"#9c179e\"],[0.4444444444444444,\"#bd3786\"],[0.5555555555555556,\"#d8576b\"],[0.6666666666666666,\"#ed7953\"],[0.7777777777777778,\"#fb9f3a\"],[0.8888888888888888,\"#fdca26\"],[1.0,\"#f0f921\"]]}],\"heatmap\":[{\"type\":\"heatmap\",\"colorbar\":{\"outlinewidth\":0,\"ticks\":\"\"},\"colorscale\":[[0.0,\"#0d0887\"],[0.1111111111111111,\"#46039f\"],[0.2222222222222222,\"#7201a8\"],[0.3333333333333333,\"#9c179e\"],[0.4444444444444444,\"#bd3786\"],[0.5555555555555556,\"#d8576b\"],[0.6666666666666666,\"#ed7953\"],[0.7777777777777778,\"#fb9f3a\"],[0.8888888888888888,\"#fdca26\"],[1.0,\"#f0f921\"]]}],\"heatmapgl\":[{\"type\":\"heatmapgl\",\"colorbar\":{\"outlinewidth\":0,\"ticks\":\"\"},\"colorscale\":[[0.0,\"#0d0887\"],[0.1111111111111111,\"#46039f\"],[0.2222222222222222,\"#7201a8\"],[0.3333333333333333,\"#9c179e\"],[0.4444444444444444,\"#bd3786\"],[0.5555555555555556,\"#d8576b\"],[0.6666666666666666,\"#ed7953\"],[0.7777777777777778,\"#fb9f3a\"],[0.8888888888888888,\"#fdca26\"],[1.0,\"#f0f921\"]]}],\"contourcarpet\":[{\"type\":\"contourcarpet\",\"colorbar\":{\"outlinewidth\":0,\"ticks\":\"\"}}],\"contour\":[{\"type\":\"contour\",\"colorbar\":{\"outlinewidth\":0,\"ticks\":\"\"},\"colorscale\":[[0.0,\"#0d0887\"],[0.1111111111111111,\"#46039f\"],[0.2222222222222222,\"#7201a8\"],[0.3333333333333333,\"#9c179e\"],[0.4444444444444444,\"#bd3786\"],[0.5555555555555556,\"#d8576b\"],[0.6666666666666666,\"#ed7953\"],[0.7777777777777778,\"#fb9f3a\"],[0.8888888888888888,\"#fdca26\"],[1.0,\"#f0f921\"]]}],\"surface\":[{\"type\":\"surface\",\"colorbar\":{\"outlinewidth\":0,\"ticks\":\"\"},\"colorscale\":[[0.0,\"#0d0887\"],[0.1111111111111111,\"#46039f\"],[0.2222222222222222,\"#7201a8\"],[0.3333333333333333,\"#9c179e\"],[0.4444444444444444,\"#bd3786\"],[0.5555555555555556,\"#d8576b\"],[0.6666666666666666,\"#ed7953\"],[0.7777777777777778,\"#fb9f3a\"],[0.8888888888888888,\"#fdca26\"],[1.0,\"#f0f921\"]]}],\"mesh3d\":[{\"type\":\"mesh3d\",\"colorbar\":{\"outlinewidth\":0,\"ticks\":\"\"}}],\"scatter\":[{\"fillpattern\":{\"fillmode\":\"overlay\",\"size\":10,\"solidity\":0.2},\"type\":\"scatter\"}],\"parcoords\":[{\"type\":\"parcoords\",\"line\":{\"colorbar\":{\"outlinewidth\":0,\"ticks\":\"\"}}}],\"scatterpolargl\":[{\"type\":\"scatterpolargl\",\"marker\":{\"colorbar\":{\"outlinewidth\":0,\"ticks\":\"\"}}}],\"bar\":[{\"error_x\":{\"color\":\"#2a3f5f\"},\"error_y\":{\"color\":\"#2a3f5f\"},\"marker\":{\"line\":{\"color\":\"#E5ECF6\",\"width\":0.5},\"pattern\":{\"fillmode\":\"overlay\",\"size\":10,\"solidity\":0.2}},\"type\":\"bar\"}],\"scattergeo\":[{\"type\":\"scattergeo\",\"marker\":{\"colorbar\":{\"outlinewidth\":0,\"ticks\":\"\"}}}],\"scatterpolar\":[{\"type\":\"scatterpolar\",\"marker\":{\"colorbar\":{\"outlinewidth\":0,\"ticks\":\"\"}}}],\"histogram\":[{\"marker\":{\"pattern\":{\"fillmode\":\"overlay\",\"size\":10,\"solidity\":0.2}},\"type\":\"histogram\"}],\"scattergl\":[{\"type\":\"scattergl\",\"marker\":{\"colorbar\":{\"outlinewidth\":0,\"ticks\":\"\"}}}],\"scatter3d\":[{\"type\":\"scatter3d\",\"line\":{\"colorbar\":{\"outlinewidth\":0,\"ticks\":\"\"}},\"marker\":{\"colorbar\":{\"outlinewidth\":0,\"ticks\":\"\"}}}],\"scattermapbox\":[{\"type\":\"scattermapbox\",\"marker\":{\"colorbar\":{\"outlinewidth\":0,\"ticks\":\"\"}}}],\"scatterternary\":[{\"type\":\"scatterternary\",\"marker\":{\"colorbar\":{\"outlinewidth\":0,\"ticks\":\"\"}}}],\"scattercarpet\":[{\"type\":\"scattercarpet\",\"marker\":{\"colorbar\":{\"outlinewidth\":0,\"ticks\":\"\"}}}],\"carpet\":[{\"aaxis\":{\"endlinecolor\":\"#2a3f5f\",\"gridcolor\":\"white\",\"linecolor\":\"white\",\"minorgridcolor\":\"white\",\"startlinecolor\":\"#2a3f5f\"},\"baxis\":{\"endlinecolor\":\"#2a3f5f\",\"gridcolor\":\"white\",\"linecolor\":\"white\",\"minorgridcolor\":\"white\",\"startlinecolor\":\"#2a3f5f\"},\"type\":\"carpet\"}],\"table\":[{\"cells\":{\"fill\":{\"color\":\"#EBF0F8\"},\"line\":{\"color\":\"white\"}},\"header\":{\"fill\":{\"color\":\"#C8D4E3\"},\"line\":{\"color\":\"white\"}},\"type\":\"table\"}],\"barpolar\":[{\"marker\":{\"line\":{\"color\":\"#E5ECF6\",\"width\":0.5},\"pattern\":{\"fillmode\":\"overlay\",\"size\":10,\"solidity\":0.2}},\"type\":\"barpolar\"}],\"pie\":[{\"automargin\":true,\"type\":\"pie\"}]},\"layout\":{\"autotypenumbers\":\"strict\",\"colorway\":[\"#636efa\",\"#EF553B\",\"#00cc96\",\"#ab63fa\",\"#FFA15A\",\"#19d3f3\",\"#FF6692\",\"#B6E880\",\"#FF97FF\",\"#FECB52\"],\"font\":{\"color\":\"#2a3f5f\"},\"hovermode\":\"closest\",\"hoverlabel\":{\"align\":\"left\"},\"paper_bgcolor\":\"white\",\"plot_bgcolor\":\"#E5ECF6\",\"polar\":{\"bgcolor\":\"#E5ECF6\",\"angularaxis\":{\"gridcolor\":\"white\",\"linecolor\":\"white\",\"ticks\":\"\"},\"radialaxis\":{\"gridcolor\":\"white\",\"linecolor\":\"white\",\"ticks\":\"\"}},\"ternary\":{\"bgcolor\":\"#E5ECF6\",\"aaxis\":{\"gridcolor\":\"white\",\"linecolor\":\"white\",\"ticks\":\"\"},\"baxis\":{\"gridcolor\":\"white\",\"linecolor\":\"white\",\"ticks\":\"\"},\"caxis\":{\"gridcolor\":\"white\",\"linecolor\":\"white\",\"ticks\":\"\"}},\"coloraxis\":{\"colorbar\":{\"outlinewidth\":0,\"ticks\":\"\"}},\"colorscale\":{\"sequential\":[[0.0,\"#0d0887\"],[0.1111111111111111,\"#46039f\"],[0.2222222222222222,\"#7201a8\"],[0.3333333333333333,\"#9c179e\"],[0.4444444444444444,\"#bd3786\"],[0.5555555555555556,\"#d8576b\"],[0.6666666666666666,\"#ed7953\"],[0.7777777777777778,\"#fb9f3a\"],[0.8888888888888888,\"#fdca26\"],[1.0,\"#f0f921\"]],\"sequentialminus\":[[0.0,\"#0d0887\"],[0.1111111111111111,\"#46039f\"],[0.2222222222222222,\"#7201a8\"],[0.3333333333333333,\"#9c179e\"],[0.4444444444444444,\"#bd3786\"],[0.5555555555555556,\"#d8576b\"],[0.6666666666666666,\"#ed7953\"],[0.7777777777777778,\"#fb9f3a\"],[0.8888888888888888,\"#fdca26\"],[1.0,\"#f0f921\"]],\"diverging\":[[0,\"#8e0152\"],[0.1,\"#c51b7d\"],[0.2,\"#de77ae\"],[0.3,\"#f1b6da\"],[0.4,\"#fde0ef\"],[0.5,\"#f7f7f7\"],[0.6,\"#e6f5d0\"],[0.7,\"#b8e186\"],[0.8,\"#7fbc41\"],[0.9,\"#4d9221\"],[1,\"#276419\"]]},\"xaxis\":{\"gridcolor\":\"white\",\"linecolor\":\"white\",\"ticks\":\"\",\"title\":{\"standoff\":15},\"zerolinecolor\":\"white\",\"automargin\":true,\"zerolinewidth\":2},\"yaxis\":{\"gridcolor\":\"white\",\"linecolor\":\"white\",\"ticks\":\"\",\"title\":{\"standoff\":15},\"zerolinecolor\":\"white\",\"automargin\":true,\"zerolinewidth\":2},\"scene\":{\"xaxis\":{\"backgroundcolor\":\"#E5ECF6\",\"gridcolor\":\"white\",\"linecolor\":\"white\",\"showbackground\":true,\"ticks\":\"\",\"zerolinecolor\":\"white\",\"gridwidth\":2},\"yaxis\":{\"backgroundcolor\":\"#E5ECF6\",\"gridcolor\":\"white\",\"linecolor\":\"white\",\"showbackground\":true,\"ticks\":\"\",\"zerolinecolor\":\"white\",\"gridwidth\":2},\"zaxis\":{\"backgroundcolor\":\"#E5ECF6\",\"gridcolor\":\"white\",\"linecolor\":\"white\",\"showbackground\":true,\"ticks\":\"\",\"zerolinecolor\":\"white\",\"gridwidth\":2}},\"shapedefaults\":{\"line\":{\"color\":\"#2a3f5f\"}},\"annotationdefaults\":{\"arrowcolor\":\"#2a3f5f\",\"arrowhead\":0,\"arrowwidth\":1},\"geo\":{\"bgcolor\":\"white\",\"landcolor\":\"#E5ECF6\",\"subunitcolor\":\"white\",\"showland\":true,\"showlakes\":true,\"lakecolor\":\"white\"},\"title\":{\"x\":0.05},\"mapbox\":{\"style\":\"light\"}}},\"xaxis\":{\"anchor\":\"y\",\"domain\":[0.0,1.0],\"scaleanchor\":\"y\",\"constrain\":\"domain\",\"title\":{\"text\":\"Head\"}},\"yaxis\":{\"anchor\":\"x\",\"domain\":[0.0,1.0],\"autorange\":\"reversed\",\"constrain\":\"domain\",\"title\":{\"text\":\"Layer\"}},\"coloraxis\":{\"colorscale\":[[0.0,\"rgb(103,0,31)\"],[0.1,\"rgb(178,24,43)\"],[0.2,\"rgb(214,96,77)\"],[0.3,\"rgb(244,165,130)\"],[0.4,\"rgb(253,219,199)\"],[0.5,\"rgb(247,247,247)\"],[0.6,\"rgb(209,229,240)\"],[0.7,\"rgb(146,197,222)\"],[0.8,\"rgb(67,147,195)\"],[0.9,\"rgb(33,102,172)\"],[1.0,\"rgb(5,48,97)\"]],\"cmid\":0.0},\"title\":{\"text\":\"Logit Difference From Patched Head Value\"}},                        {\"responsive\": true}                    ).then(function(){\n",
       "                            \n",
       "var gd = document.getElementById('c3b06863-dcf6-40ad-8f15-8a7e99abd68b');\n",
       "var x = new MutationObserver(function (mutations, observer) {{\n",
       "        var display = window.getComputedStyle(gd).display;\n",
       "        if (!display || display === 'none') {{\n",
       "            console.log([gd, 'removed!']);\n",
       "            Plotly.purge(gd);\n",
       "            observer.disconnect();\n",
       "        }}\n",
       "}});\n",
       "\n",
       "// Listen for the removal of the full notebook cells\n",
       "var notebookContainer = gd.closest('#notebook-container');\n",
       "if (notebookContainer) {{\n",
       "    x.observe(notebookContainer, {childList: true});\n",
       "}}\n",
       "\n",
       "// Listen for the clearing of the current output cell\n",
       "var outputEl = gd.closest('.output');\n",
       "if (outputEl) {{\n",
       "    x.observe(outputEl, {childList: true});\n",
       "}}\n",
       "\n",
       "                        })                };                });            </script>        </div>"
      ]
     },
     "metadata": {},
     "output_type": "display_data"
    }
   ],
   "source": [
    "imshow(\n",
    "    patched_head_v_diff,\n",
    "    title=\"Logit Difference From Patched Head Value\",\n",
    "    labels={\"x\": \"Head\", \"y\": \"Layer\"},\n",
    ")"
   ]
  },
  {
   "cell_type": "code",
   "execution_count": 119,
   "metadata": {},
   "outputs": [
    {
     "data": {
      "application/vnd.plotly.v1+json": {
       "config": {
        "plotlyServerURL": "https://plot.ly"
       },
       "data": [
        {
         "hovertemplate": "<b>%{hovertext}</b><br><br>Value Patch=%{x}<br>Output Patch=%{y}<br>Layer=%{marker.color}<extra></extra>",
         "hovertext": [
          "L0H0",
          "L0H1",
          "L0H2",
          "L0H3",
          "L0H4",
          "L0H5",
          "L0H6",
          "L0H7",
          "L0H8",
          "L0H9",
          "L0H10",
          "L0H11",
          "L1H0",
          "L1H1",
          "L1H2",
          "L1H3",
          "L1H4",
          "L1H5",
          "L1H6",
          "L1H7",
          "L1H8",
          "L1H9",
          "L1H10",
          "L1H11",
          "L2H0",
          "L2H1",
          "L2H2",
          "L2H3",
          "L2H4",
          "L2H5",
          "L2H6",
          "L2H7",
          "L2H8",
          "L2H9",
          "L2H10",
          "L2H11",
          "L3H0",
          "L3H1",
          "L3H2",
          "L3H3",
          "L3H4",
          "L3H5",
          "L3H6",
          "L3H7",
          "L3H8",
          "L3H9",
          "L3H10",
          "L3H11",
          "L4H0",
          "L4H1",
          "L4H2",
          "L4H3",
          "L4H4",
          "L4H5",
          "L4H6",
          "L4H7",
          "L4H8",
          "L4H9",
          "L4H10",
          "L4H11",
          "L5H0",
          "L5H1",
          "L5H2",
          "L5H3",
          "L5H4",
          "L5H5",
          "L5H6",
          "L5H7",
          "L5H8",
          "L5H9",
          "L5H10",
          "L5H11",
          "L6H0",
          "L6H1",
          "L6H2",
          "L6H3",
          "L6H4",
          "L6H5",
          "L6H6",
          "L6H7",
          "L6H8",
          "L6H9",
          "L6H10",
          "L6H11",
          "L7H0",
          "L7H1",
          "L7H2",
          "L7H3",
          "L7H4",
          "L7H5",
          "L7H6",
          "L7H7",
          "L7H8",
          "L7H9",
          "L7H10",
          "L7H11",
          "L8H0",
          "L8H1",
          "L8H2",
          "L8H3",
          "L8H4",
          "L8H5",
          "L8H6",
          "L8H7",
          "L8H8",
          "L8H9",
          "L8H10",
          "L8H11",
          "L9H0",
          "L9H1",
          "L9H2",
          "L9H3",
          "L9H4",
          "L9H5",
          "L9H6",
          "L9H7",
          "L9H8",
          "L9H9",
          "L9H10",
          "L9H11",
          "L10H0",
          "L10H1",
          "L10H2",
          "L10H3",
          "L10H4",
          "L10H5",
          "L10H6",
          "L10H7",
          "L10H8",
          "L10H9",
          "L10H10",
          "L10H11",
          "L11H0",
          "L11H1",
          "L11H2",
          "L11H3",
          "L11H4",
          "L11H5",
          "L11H6",
          "L11H7",
          "L11H8",
          "L11H9",
          "L11H10",
          "L11H11"
         ],
         "legendgroup": "",
         "marker": {
          "color": [
           0,
           0,
           0,
           0,
           0,
           0,
           0,
           0,
           0,
           0,
           0,
           0,
           1,
           1,
           1,
           1,
           1,
           1,
           1,
           1,
           1,
           1,
           1,
           1,
           2,
           2,
           2,
           2,
           2,
           2,
           2,
           2,
           2,
           2,
           2,
           2,
           3,
           3,
           3,
           3,
           3,
           3,
           3,
           3,
           3,
           3,
           3,
           3,
           4,
           4,
           4,
           4,
           4,
           4,
           4,
           4,
           4,
           4,
           4,
           4,
           5,
           5,
           5,
           5,
           5,
           5,
           5,
           5,
           5,
           5,
           5,
           5,
           6,
           6,
           6,
           6,
           6,
           6,
           6,
           6,
           6,
           6,
           6,
           6,
           7,
           7,
           7,
           7,
           7,
           7,
           7,
           7,
           7,
           7,
           7,
           7,
           8,
           8,
           8,
           8,
           8,
           8,
           8,
           8,
           8,
           8,
           8,
           8,
           9,
           9,
           9,
           9,
           9,
           9,
           9,
           9,
           9,
           9,
           9,
           9,
           10,
           10,
           10,
           10,
           10,
           10,
           10,
           10,
           10,
           10,
           10,
           10,
           11,
           11,
           11,
           11,
           11,
           11,
           11,
           11,
           11,
           11,
           11,
           11
          ],
          "coloraxis": "coloraxis",
          "symbol": "circle"
         },
         "mode": "markers",
         "name": "",
         "orientation": "v",
         "showlegend": false,
         "type": "scatter",
         "x": [
          0.022435683757066727,
          -0.10056668519973755,
          0.026702003553509712,
          0.09852049499750137,
          0.0322585254907608,
          -0.011184139177203178,
          0.0025760706048458815,
          0.0020567034371197224,
          0.006314657628536224,
          0.020740026608109474,
          -0.06696466356515884,
          -0.01927245408296585,
          -0.00030951807275414467,
          -0.02269028313457966,
          -0.006558444816619158,
          0.0022939261980354786,
          -0.005413519684225321,
          -0.021823983639478683,
          0.005211522337049246,
          -0.0045083062723279,
          0.004518646281212568,
          -0.007201508153229952,
          -0.018641361966729164,
          0.003812297945842147,
          -0.011597917415201664,
          0.014701378531754017,
          0.031058983877301216,
          0.01402351912111044,
          0.010786966420710087,
          -0.010969485156238079,
          -0.0073717557825148106,
          0.00009404818410985172,
          -0.022873273119330406,
          0.015812451019883156,
          -0.020453333854675293,
          -0.0077308290638029575,
          -0.07911507040262222,
          -0.004253706429153681,
          0.003676031017675996,
          0.005792801734060049,
          -0.06750411540269852,
          -0.02125248685479164,
          0.021939527243375778,
          0.027043400332331657,
          0.00828932598233223,
          -0.0030141756869852543,
          0.020234432071447372,
          0.006725003011524677,
          -0.00252707302570343,
          -0.025702226907014847,
          -0.0035377047024667263,
          0.11806333810091019,
          -0.05172426998615265,
          -0.0039671859703958035,
          -0.022501885890960693,
          -0.002260030945762992,
          0.0053495909087359905,
          -0.01544372458010912,
          -0.011218421161174774,
          0.013018036261200905,
          -0.022700536996126175,
          0.0011040364624932408,
          0.035412829369306564,
          -0.0060233743861317635,
          -0.0006311783217824996,
          -0.020193757489323616,
          0.026463065296411514,
          0.012622750364243984,
          -0.01328284665942192,
          -0.09426571428775787,
          0.012550626881420612,
          -0.03773627430200577,
          0.18053433299064636,
          -0.005633623339235783,
          0.005735780578106642,
          0.004538682755082846,
          -0.008499003946781158,
          -0.025753241032361984,
          -0.013138385489583015,
          0.008949551731348038,
          0.017195414751768112,
          -0.015235290862619877,
          -0.0056260721758008,
          0.01589791849255562,
          0.0056425477378070354,
          -0.011430028825998306,
          -0.012445852160453796,
          0.1562458723783493,
          0.010422572493553162,
          -0.022969380021095276,
          0.009030384942889214,
          -0.0015451876679435372,
          0.02382705546915531,
          0.25603803992271423,
          0.0024334967602044344,
          0.005555793642997742,
          -0.0021362495608627796,
          -0.002613527001813054,
          -0.01905488222837448,
          -0.04362698644399643,
          -0.009057029150426388,
          0.04882632568478584,
          -0.046370815485715866,
          0.015670521184802055,
          -0.002743358025327325,
          0.005883202888071537,
          0.35758671164512634,
          -0.016377169638872147,
          0.022322628647089005,
          0.010989264585077763,
          -0.02835947461426258,
          0.012775450013577938,
          -0.07482073456048965,
          0.041553765535354614,
          -0.007833114825189114,
          0.22910557687282562,
          -0.0133604621514678,
          -0.1251680850982666,
          -0.0009313859045505524,
          -0.000027545134798856452,
          -0.0684259757399559,
          0.033141687512397766,
          -0.0895356759428978,
          -0.034901831299066544,
          -0.0009660104406066239,
          0.0010261634597554803,
          -0.06278153508901596,
          0.30301064252853394,
          0.001835484174080193,
          -0.00674739945679903,
          -0.14323443174362183,
          -0.013904886320233345,
          0.030804941430687904,
          -0.07152973860502243,
          -0.18157744407653809,
          0.027155425399541855,
          0.0041915797628462315,
          0.008576104417443275,
          -0.05492306500673294,
          0.017597049474716187,
          -0.0005164926988072693,
          -0.0025434198323637247,
          0.19711452722549438,
          0.015231343917548656
         ],
         "xaxis": "x",
         "y": [
          0.027604686096310616,
          -0.17525604367256165,
          0.0575047992169857,
          0.10173237323760986,
          0.03230014443397522,
          -0.004374356009066105,
          0.01860094629228115,
          0.015283344313502312,
          0.005278926342725754,
          0.0031555911991745234,
          -0.08810006082057953,
          -0.015406182035803795,
          -0.006304961163550615,
          -0.014976143836975098,
          -0.005799323320388794,
          0.003807578468695283,
          -0.007701096124947071,
          -0.027228236198425293,
          0.0018192660063505173,
          -0.006768336985260248,
          0.01015153992921114,
          -0.004818896763026714,
          -0.018635742366313934,
          0.03841941058635712,
          0.004197672475129366,
          -0.0008290141122415662,
          0.035190239548683167,
          0.01902519166469574,
          0.003309449180960655,
          -0.0035217441618442535,
          -0.012830025516450405,
          -0.008340512402355671,
          0.0008768963161855936,
          -0.0020281283650547266,
          -0.006527596153318882,
          -0.008000616915524006,
          -0.05992220714688301,
          -0.021362151950597763,
          -0.016064004972577095,
          -0.0012019460555166006,
          -0.10464130342006683,
          -0.016974110156297684,
          0.03542239964008331,
          0.01168673112988472,
          -0.0019124561222270131,
          0.014176648110151291,
          0.020774737000465393,
          0.0016796954441815615,
          -0.0015889938222244382,
          -0.015309430658817291,
          0.00615200400352478,
          0.14682114124298096,
          -0.06591327488422394,
          0.009469390846788883,
          -0.04345386475324631,
          -0.0011275485157966614,
          0.006170710548758507,
          -0.0155936349183321,
          -0.0014765392988920212,
          0.012955738231539726,
          0.004133142996579409,
          0.019387012347579002,
          0.05480816587805748,
          -0.01271915901452303,
          -0.007424657698720694,
          -0.22583165764808655,
          0.03330545499920845,
          0.016696127131581306,
          -0.06560778617858887,
          -0.10944321006536484,
          -0.010508297011256218,
          -0.036419257521629333,
          0.17250555753707886,
          -0.05415506288409233,
          0.004544903989881277,
          0.011823555454611778,
          -0.0032367678359150887,
          -0.024921180680394173,
          -0.03612273931503296,
          0.002839551540091634,
          -0.0027994781266897917,
          0.012980193831026554,
          -0.007318038493394852,
          0.019179049879312515,
          0.004359253216534853,
          -0.00534564396366477,
          0.0028034253045916557,
          0.11326748132705688,
          0.0015731188468635082,
          -0.018593352288007736,
          0.011171482503414154,
          0.000920616730581969,
          0.021533988416194916,
          0.28129810094833374,
          -0.004104825668036938,
          0.0038139712996780872,
          -0.004469262436032295,
          -0.004050679039210081,
          -0.014173815958201885,
          -0.016129564493894577,
          -0.004331021569669247,
          0.03133730962872505,
          -0.07597458362579346,
          0.01659821718931198,
          0.005286606028676033,
          -0.006474522408097982,
          0.3398260474205017,
          -0.019245339557528496,
          -0.0037321511190384626,
          0.027829939499497414,
          -0.005505036562681198,
          0.015423472970724106,
          -0.06413858383893967,
          0.045362330973148346,
          0.04280693829059601,
          0.2307412177324295,
          -0.01744808256626129,
          0.3614153265953064,
          0.001073144725523889,
          0.02867070958018303,
          0.29022523760795593,
          0.04568703845143318,
          -0.08170203864574432,
          -0.004223715979605913,
          0.0052661835215985775,
          0.0018925052136182785,
          0.02020568586885929,
          -0.17669101059436798,
          -0.009186516515910625,
          0.004714937414973974,
          0.046592336148023605,
          -0.024440256878733635,
          0.018546799197793007,
          -0.10287884622812271,
          -0.2649326026439667,
          -0.002515746047720313,
          -0.0003237625933252275,
          -0.03249158710241318,
          -0.05200924724340439,
          0.020751353353261948,
          0.003457128768786788,
          0.024378130212426186,
          -0.40415331721305847,
          0.004604842513799667
         ],
         "yaxis": "y"
        }
       ],
       "layout": {
        "coloraxis": {
         "colorbar": {
          "title": {
           "text": "Layer"
          }
         },
         "colorscale": [
          [
           0,
           "#0d0887"
          ],
          [
           0.1111111111111111,
           "#46039f"
          ],
          [
           0.2222222222222222,
           "#7201a8"
          ],
          [
           0.3333333333333333,
           "#9c179e"
          ],
          [
           0.4444444444444444,
           "#bd3786"
          ],
          [
           0.5555555555555556,
           "#d8576b"
          ],
          [
           0.6666666666666666,
           "#ed7953"
          ],
          [
           0.7777777777777778,
           "#fb9f3a"
          ],
          [
           0.8888888888888888,
           "#fdca26"
          ],
          [
           1,
           "#f0f921"
          ]
         ]
        },
        "legend": {
         "tracegroupgap": 0
        },
        "template": {
         "data": {
          "bar": [
           {
            "error_x": {
             "color": "#2a3f5f"
            },
            "error_y": {
             "color": "#2a3f5f"
            },
            "marker": {
             "line": {
              "color": "#E5ECF6",
              "width": 0.5
             },
             "pattern": {
              "fillmode": "overlay",
              "size": 10,
              "solidity": 0.2
             }
            },
            "type": "bar"
           }
          ],
          "barpolar": [
           {
            "marker": {
             "line": {
              "color": "#E5ECF6",
              "width": 0.5
             },
             "pattern": {
              "fillmode": "overlay",
              "size": 10,
              "solidity": 0.2
             }
            },
            "type": "barpolar"
           }
          ],
          "carpet": [
           {
            "aaxis": {
             "endlinecolor": "#2a3f5f",
             "gridcolor": "white",
             "linecolor": "white",
             "minorgridcolor": "white",
             "startlinecolor": "#2a3f5f"
            },
            "baxis": {
             "endlinecolor": "#2a3f5f",
             "gridcolor": "white",
             "linecolor": "white",
             "minorgridcolor": "white",
             "startlinecolor": "#2a3f5f"
            },
            "type": "carpet"
           }
          ],
          "choropleth": [
           {
            "colorbar": {
             "outlinewidth": 0,
             "ticks": ""
            },
            "type": "choropleth"
           }
          ],
          "contour": [
           {
            "colorbar": {
             "outlinewidth": 0,
             "ticks": ""
            },
            "colorscale": [
             [
              0,
              "#0d0887"
             ],
             [
              0.1111111111111111,
              "#46039f"
             ],
             [
              0.2222222222222222,
              "#7201a8"
             ],
             [
              0.3333333333333333,
              "#9c179e"
             ],
             [
              0.4444444444444444,
              "#bd3786"
             ],
             [
              0.5555555555555556,
              "#d8576b"
             ],
             [
              0.6666666666666666,
              "#ed7953"
             ],
             [
              0.7777777777777778,
              "#fb9f3a"
             ],
             [
              0.8888888888888888,
              "#fdca26"
             ],
             [
              1,
              "#f0f921"
             ]
            ],
            "type": "contour"
           }
          ],
          "contourcarpet": [
           {
            "colorbar": {
             "outlinewidth": 0,
             "ticks": ""
            },
            "type": "contourcarpet"
           }
          ],
          "heatmap": [
           {
            "colorbar": {
             "outlinewidth": 0,
             "ticks": ""
            },
            "colorscale": [
             [
              0,
              "#0d0887"
             ],
             [
              0.1111111111111111,
              "#46039f"
             ],
             [
              0.2222222222222222,
              "#7201a8"
             ],
             [
              0.3333333333333333,
              "#9c179e"
             ],
             [
              0.4444444444444444,
              "#bd3786"
             ],
             [
              0.5555555555555556,
              "#d8576b"
             ],
             [
              0.6666666666666666,
              "#ed7953"
             ],
             [
              0.7777777777777778,
              "#fb9f3a"
             ],
             [
              0.8888888888888888,
              "#fdca26"
             ],
             [
              1,
              "#f0f921"
             ]
            ],
            "type": "heatmap"
           }
          ],
          "heatmapgl": [
           {
            "colorbar": {
             "outlinewidth": 0,
             "ticks": ""
            },
            "colorscale": [
             [
              0,
              "#0d0887"
             ],
             [
              0.1111111111111111,
              "#46039f"
             ],
             [
              0.2222222222222222,
              "#7201a8"
             ],
             [
              0.3333333333333333,
              "#9c179e"
             ],
             [
              0.4444444444444444,
              "#bd3786"
             ],
             [
              0.5555555555555556,
              "#d8576b"
             ],
             [
              0.6666666666666666,
              "#ed7953"
             ],
             [
              0.7777777777777778,
              "#fb9f3a"
             ],
             [
              0.8888888888888888,
              "#fdca26"
             ],
             [
              1,
              "#f0f921"
             ]
            ],
            "type": "heatmapgl"
           }
          ],
          "histogram": [
           {
            "marker": {
             "pattern": {
              "fillmode": "overlay",
              "size": 10,
              "solidity": 0.2
             }
            },
            "type": "histogram"
           }
          ],
          "histogram2d": [
           {
            "colorbar": {
             "outlinewidth": 0,
             "ticks": ""
            },
            "colorscale": [
             [
              0,
              "#0d0887"
             ],
             [
              0.1111111111111111,
              "#46039f"
             ],
             [
              0.2222222222222222,
              "#7201a8"
             ],
             [
              0.3333333333333333,
              "#9c179e"
             ],
             [
              0.4444444444444444,
              "#bd3786"
             ],
             [
              0.5555555555555556,
              "#d8576b"
             ],
             [
              0.6666666666666666,
              "#ed7953"
             ],
             [
              0.7777777777777778,
              "#fb9f3a"
             ],
             [
              0.8888888888888888,
              "#fdca26"
             ],
             [
              1,
              "#f0f921"
             ]
            ],
            "type": "histogram2d"
           }
          ],
          "histogram2dcontour": [
           {
            "colorbar": {
             "outlinewidth": 0,
             "ticks": ""
            },
            "colorscale": [
             [
              0,
              "#0d0887"
             ],
             [
              0.1111111111111111,
              "#46039f"
             ],
             [
              0.2222222222222222,
              "#7201a8"
             ],
             [
              0.3333333333333333,
              "#9c179e"
             ],
             [
              0.4444444444444444,
              "#bd3786"
             ],
             [
              0.5555555555555556,
              "#d8576b"
             ],
             [
              0.6666666666666666,
              "#ed7953"
             ],
             [
              0.7777777777777778,
              "#fb9f3a"
             ],
             [
              0.8888888888888888,
              "#fdca26"
             ],
             [
              1,
              "#f0f921"
             ]
            ],
            "type": "histogram2dcontour"
           }
          ],
          "mesh3d": [
           {
            "colorbar": {
             "outlinewidth": 0,
             "ticks": ""
            },
            "type": "mesh3d"
           }
          ],
          "parcoords": [
           {
            "line": {
             "colorbar": {
              "outlinewidth": 0,
              "ticks": ""
             }
            },
            "type": "parcoords"
           }
          ],
          "pie": [
           {
            "automargin": true,
            "type": "pie"
           }
          ],
          "scatter": [
           {
            "fillpattern": {
             "fillmode": "overlay",
             "size": 10,
             "solidity": 0.2
            },
            "type": "scatter"
           }
          ],
          "scatter3d": [
           {
            "line": {
             "colorbar": {
              "outlinewidth": 0,
              "ticks": ""
             }
            },
            "marker": {
             "colorbar": {
              "outlinewidth": 0,
              "ticks": ""
             }
            },
            "type": "scatter3d"
           }
          ],
          "scattercarpet": [
           {
            "marker": {
             "colorbar": {
              "outlinewidth": 0,
              "ticks": ""
             }
            },
            "type": "scattercarpet"
           }
          ],
          "scattergeo": [
           {
            "marker": {
             "colorbar": {
              "outlinewidth": 0,
              "ticks": ""
             }
            },
            "type": "scattergeo"
           }
          ],
          "scattergl": [
           {
            "marker": {
             "colorbar": {
              "outlinewidth": 0,
              "ticks": ""
             }
            },
            "type": "scattergl"
           }
          ],
          "scattermapbox": [
           {
            "marker": {
             "colorbar": {
              "outlinewidth": 0,
              "ticks": ""
             }
            },
            "type": "scattermapbox"
           }
          ],
          "scatterpolar": [
           {
            "marker": {
             "colorbar": {
              "outlinewidth": 0,
              "ticks": ""
             }
            },
            "type": "scatterpolar"
           }
          ],
          "scatterpolargl": [
           {
            "marker": {
             "colorbar": {
              "outlinewidth": 0,
              "ticks": ""
             }
            },
            "type": "scatterpolargl"
           }
          ],
          "scatterternary": [
           {
            "marker": {
             "colorbar": {
              "outlinewidth": 0,
              "ticks": ""
             }
            },
            "type": "scatterternary"
           }
          ],
          "surface": [
           {
            "colorbar": {
             "outlinewidth": 0,
             "ticks": ""
            },
            "colorscale": [
             [
              0,
              "#0d0887"
             ],
             [
              0.1111111111111111,
              "#46039f"
             ],
             [
              0.2222222222222222,
              "#7201a8"
             ],
             [
              0.3333333333333333,
              "#9c179e"
             ],
             [
              0.4444444444444444,
              "#bd3786"
             ],
             [
              0.5555555555555556,
              "#d8576b"
             ],
             [
              0.6666666666666666,
              "#ed7953"
             ],
             [
              0.7777777777777778,
              "#fb9f3a"
             ],
             [
              0.8888888888888888,
              "#fdca26"
             ],
             [
              1,
              "#f0f921"
             ]
            ],
            "type": "surface"
           }
          ],
          "table": [
           {
            "cells": {
             "fill": {
              "color": "#EBF0F8"
             },
             "line": {
              "color": "white"
             }
            },
            "header": {
             "fill": {
              "color": "#C8D4E3"
             },
             "line": {
              "color": "white"
             }
            },
            "type": "table"
           }
          ]
         },
         "layout": {
          "annotationdefaults": {
           "arrowcolor": "#2a3f5f",
           "arrowhead": 0,
           "arrowwidth": 1
          },
          "autotypenumbers": "strict",
          "coloraxis": {
           "colorbar": {
            "outlinewidth": 0,
            "ticks": ""
           }
          },
          "colorscale": {
           "diverging": [
            [
             0,
             "#8e0152"
            ],
            [
             0.1,
             "#c51b7d"
            ],
            [
             0.2,
             "#de77ae"
            ],
            [
             0.3,
             "#f1b6da"
            ],
            [
             0.4,
             "#fde0ef"
            ],
            [
             0.5,
             "#f7f7f7"
            ],
            [
             0.6,
             "#e6f5d0"
            ],
            [
             0.7,
             "#b8e186"
            ],
            [
             0.8,
             "#7fbc41"
            ],
            [
             0.9,
             "#4d9221"
            ],
            [
             1,
             "#276419"
            ]
           ],
           "sequential": [
            [
             0,
             "#0d0887"
            ],
            [
             0.1111111111111111,
             "#46039f"
            ],
            [
             0.2222222222222222,
             "#7201a8"
            ],
            [
             0.3333333333333333,
             "#9c179e"
            ],
            [
             0.4444444444444444,
             "#bd3786"
            ],
            [
             0.5555555555555556,
             "#d8576b"
            ],
            [
             0.6666666666666666,
             "#ed7953"
            ],
            [
             0.7777777777777778,
             "#fb9f3a"
            ],
            [
             0.8888888888888888,
             "#fdca26"
            ],
            [
             1,
             "#f0f921"
            ]
           ],
           "sequentialminus": [
            [
             0,
             "#0d0887"
            ],
            [
             0.1111111111111111,
             "#46039f"
            ],
            [
             0.2222222222222222,
             "#7201a8"
            ],
            [
             0.3333333333333333,
             "#9c179e"
            ],
            [
             0.4444444444444444,
             "#bd3786"
            ],
            [
             0.5555555555555556,
             "#d8576b"
            ],
            [
             0.6666666666666666,
             "#ed7953"
            ],
            [
             0.7777777777777778,
             "#fb9f3a"
            ],
            [
             0.8888888888888888,
             "#fdca26"
            ],
            [
             1,
             "#f0f921"
            ]
           ]
          },
          "colorway": [
           "#636efa",
           "#EF553B",
           "#00cc96",
           "#ab63fa",
           "#FFA15A",
           "#19d3f3",
           "#FF6692",
           "#B6E880",
           "#FF97FF",
           "#FECB52"
          ],
          "font": {
           "color": "#2a3f5f"
          },
          "geo": {
           "bgcolor": "white",
           "lakecolor": "white",
           "landcolor": "#E5ECF6",
           "showlakes": true,
           "showland": true,
           "subunitcolor": "white"
          },
          "hoverlabel": {
           "align": "left"
          },
          "hovermode": "closest",
          "mapbox": {
           "style": "light"
          },
          "paper_bgcolor": "white",
          "plot_bgcolor": "#E5ECF6",
          "polar": {
           "angularaxis": {
            "gridcolor": "white",
            "linecolor": "white",
            "ticks": ""
           },
           "bgcolor": "#E5ECF6",
           "radialaxis": {
            "gridcolor": "white",
            "linecolor": "white",
            "ticks": ""
           }
          },
          "scene": {
           "xaxis": {
            "backgroundcolor": "#E5ECF6",
            "gridcolor": "white",
            "gridwidth": 2,
            "linecolor": "white",
            "showbackground": true,
            "ticks": "",
            "zerolinecolor": "white"
           },
           "yaxis": {
            "backgroundcolor": "#E5ECF6",
            "gridcolor": "white",
            "gridwidth": 2,
            "linecolor": "white",
            "showbackground": true,
            "ticks": "",
            "zerolinecolor": "white"
           },
           "zaxis": {
            "backgroundcolor": "#E5ECF6",
            "gridcolor": "white",
            "gridwidth": 2,
            "linecolor": "white",
            "showbackground": true,
            "ticks": "",
            "zerolinecolor": "white"
           }
          },
          "shapedefaults": {
           "line": {
            "color": "#2a3f5f"
           }
          },
          "ternary": {
           "aaxis": {
            "gridcolor": "white",
            "linecolor": "white",
            "ticks": ""
           },
           "baxis": {
            "gridcolor": "white",
            "linecolor": "white",
            "ticks": ""
           },
           "bgcolor": "#E5ECF6",
           "caxis": {
            "gridcolor": "white",
            "linecolor": "white",
            "ticks": ""
           }
          },
          "title": {
           "x": 0.05
          },
          "xaxis": {
           "automargin": true,
           "gridcolor": "white",
           "linecolor": "white",
           "ticks": "",
           "title": {
            "standoff": 15
           },
           "zerolinecolor": "white",
           "zerolinewidth": 2
          },
          "yaxis": {
           "automargin": true,
           "gridcolor": "white",
           "linecolor": "white",
           "ticks": "",
           "title": {
            "standoff": 15
           },
           "zerolinecolor": "white",
           "zerolinewidth": 2
          }
         }
        },
        "title": {
         "text": "Scatter plot of output patching vs value patching"
        },
        "xaxis": {
         "anchor": "y",
         "domain": [
          0,
          1
         ],
         "range": [
          -0.5,
          0.5
         ],
         "title": {
          "text": "Value Patch"
         }
        },
        "yaxis": {
         "anchor": "x",
         "domain": [
          0,
          1
         ],
         "range": [
          -0.5,
          0.5
         ],
         "title": {
          "text": "Output Patch"
         }
        }
       }
      },
      "text/html": [
       "<div>                            <div id=\"791b46ff-a973-4c38-bbcf-c878734852fd\" class=\"plotly-graph-div\" style=\"height:525px; width:100%;\"></div>            <script type=\"text/javascript\">                require([\"plotly\"], function(Plotly) {                    window.PLOTLYENV=window.PLOTLYENV || {};                                    if (document.getElementById(\"791b46ff-a973-4c38-bbcf-c878734852fd\")) {                    Plotly.newPlot(                        \"791b46ff-a973-4c38-bbcf-c878734852fd\",                        [{\"hovertemplate\":\"\\u003cb\\u003e%{hovertext}\\u003c\\u002fb\\u003e\\u003cbr\\u003e\\u003cbr\\u003eValue Patch=%{x}\\u003cbr\\u003eOutput Patch=%{y}\\u003cbr\\u003eLayer=%{marker.color}\\u003cextra\\u003e\\u003c\\u002fextra\\u003e\",\"hovertext\":[\"L0H0\",\"L0H1\",\"L0H2\",\"L0H3\",\"L0H4\",\"L0H5\",\"L0H6\",\"L0H7\",\"L0H8\",\"L0H9\",\"L0H10\",\"L0H11\",\"L1H0\",\"L1H1\",\"L1H2\",\"L1H3\",\"L1H4\",\"L1H5\",\"L1H6\",\"L1H7\",\"L1H8\",\"L1H9\",\"L1H10\",\"L1H11\",\"L2H0\",\"L2H1\",\"L2H2\",\"L2H3\",\"L2H4\",\"L2H5\",\"L2H6\",\"L2H7\",\"L2H8\",\"L2H9\",\"L2H10\",\"L2H11\",\"L3H0\",\"L3H1\",\"L3H2\",\"L3H3\",\"L3H4\",\"L3H5\",\"L3H6\",\"L3H7\",\"L3H8\",\"L3H9\",\"L3H10\",\"L3H11\",\"L4H0\",\"L4H1\",\"L4H2\",\"L4H3\",\"L4H4\",\"L4H5\",\"L4H6\",\"L4H7\",\"L4H8\",\"L4H9\",\"L4H10\",\"L4H11\",\"L5H0\",\"L5H1\",\"L5H2\",\"L5H3\",\"L5H4\",\"L5H5\",\"L5H6\",\"L5H7\",\"L5H8\",\"L5H9\",\"L5H10\",\"L5H11\",\"L6H0\",\"L6H1\",\"L6H2\",\"L6H3\",\"L6H4\",\"L6H5\",\"L6H6\",\"L6H7\",\"L6H8\",\"L6H9\",\"L6H10\",\"L6H11\",\"L7H0\",\"L7H1\",\"L7H2\",\"L7H3\",\"L7H4\",\"L7H5\",\"L7H6\",\"L7H7\",\"L7H8\",\"L7H9\",\"L7H10\",\"L7H11\",\"L8H0\",\"L8H1\",\"L8H2\",\"L8H3\",\"L8H4\",\"L8H5\",\"L8H6\",\"L8H7\",\"L8H8\",\"L8H9\",\"L8H10\",\"L8H11\",\"L9H0\",\"L9H1\",\"L9H2\",\"L9H3\",\"L9H4\",\"L9H5\",\"L9H6\",\"L9H7\",\"L9H8\",\"L9H9\",\"L9H10\",\"L9H11\",\"L10H0\",\"L10H1\",\"L10H2\",\"L10H3\",\"L10H4\",\"L10H5\",\"L10H6\",\"L10H7\",\"L10H8\",\"L10H9\",\"L10H10\",\"L10H11\",\"L11H0\",\"L11H1\",\"L11H2\",\"L11H3\",\"L11H4\",\"L11H5\",\"L11H6\",\"L11H7\",\"L11H8\",\"L11H9\",\"L11H10\",\"L11H11\"],\"legendgroup\":\"\",\"marker\":{\"color\":[0,0,0,0,0,0,0,0,0,0,0,0,1,1,1,1,1,1,1,1,1,1,1,1,2,2,2,2,2,2,2,2,2,2,2,2,3,3,3,3,3,3,3,3,3,3,3,3,4,4,4,4,4,4,4,4,4,4,4,4,5,5,5,5,5,5,5,5,5,5,5,5,6,6,6,6,6,6,6,6,6,6,6,6,7,7,7,7,7,7,7,7,7,7,7,7,8,8,8,8,8,8,8,8,8,8,8,8,9,9,9,9,9,9,9,9,9,9,9,9,10,10,10,10,10,10,10,10,10,10,10,10,11,11,11,11,11,11,11,11,11,11,11,11],\"coloraxis\":\"coloraxis\",\"symbol\":\"circle\"},\"mode\":\"markers\",\"name\":\"\",\"orientation\":\"v\",\"showlegend\":false,\"x\":[0.022435683757066727,-0.10056668519973755,0.026702003553509712,0.09852049499750137,0.0322585254907608,-0.011184139177203178,0.0025760706048458815,0.0020567034371197224,0.006314657628536224,0.020740026608109474,-0.06696466356515884,-0.01927245408296585,-0.00030951807275414467,-0.02269028313457966,-0.006558444816619158,0.0022939261980354786,-0.005413519684225321,-0.021823983639478683,0.005211522337049246,-0.0045083062723279,0.004518646281212568,-0.007201508153229952,-0.018641361966729164,0.003812297945842147,-0.011597917415201664,0.014701378531754017,0.031058983877301216,0.01402351912111044,0.010786966420710087,-0.010969485156238079,-0.0073717557825148106,9.404818410985172e-05,-0.022873273119330406,0.015812451019883156,-0.020453333854675293,-0.0077308290638029575,-0.07911507040262222,-0.004253706429153681,0.003676031017675996,0.005792801734060049,-0.06750411540269852,-0.02125248685479164,0.021939527243375778,0.027043400332331657,0.00828932598233223,-0.0030141756869852543,0.020234432071447372,0.006725003011524677,-0.00252707302570343,-0.025702226907014847,-0.0035377047024667263,0.11806333810091019,-0.05172426998615265,-0.0039671859703958035,-0.022501885890960693,-0.002260030945762992,0.0053495909087359905,-0.01544372458010912,-0.011218421161174774,0.013018036261200905,-0.022700536996126175,0.0011040364624932408,0.035412829369306564,-0.0060233743861317635,-0.0006311783217824996,-0.020193757489323616,0.026463065296411514,0.012622750364243984,-0.01328284665942192,-0.09426571428775787,0.012550626881420612,-0.03773627430200577,0.18053433299064636,-0.005633623339235783,0.005735780578106642,0.004538682755082846,-0.008499003946781158,-0.025753241032361984,-0.013138385489583015,0.008949551731348038,0.017195414751768112,-0.015235290862619877,-0.0056260721758008,0.01589791849255562,0.0056425477378070354,-0.011430028825998306,-0.012445852160453796,0.1562458723783493,0.010422572493553162,-0.022969380021095276,0.009030384942889214,-0.0015451876679435372,0.02382705546915531,0.25603803992271423,0.0024334967602044344,0.005555793642997742,-0.0021362495608627796,-0.002613527001813054,-0.01905488222837448,-0.04362698644399643,-0.009057029150426388,0.04882632568478584,-0.046370815485715866,0.015670521184802055,-0.002743358025327325,0.005883202888071537,0.35758671164512634,-0.016377169638872147,0.022322628647089005,0.010989264585077763,-0.02835947461426258,0.012775450013577938,-0.07482073456048965,0.041553765535354614,-0.007833114825189114,0.22910557687282562,-0.0133604621514678,-0.1251680850982666,-0.0009313859045505524,-2.7545134798856452e-05,-0.0684259757399559,0.033141687512397766,-0.0895356759428978,-0.034901831299066544,-0.0009660104406066239,0.0010261634597554803,-0.06278153508901596,0.30301064252853394,0.001835484174080193,-0.00674739945679903,-0.14323443174362183,-0.013904886320233345,0.030804941430687904,-0.07152973860502243,-0.18157744407653809,0.027155425399541855,0.0041915797628462315,0.008576104417443275,-0.05492306500673294,0.017597049474716187,-0.0005164926988072693,-0.0025434198323637247,0.19711452722549438,0.015231343917548656],\"xaxis\":\"x\",\"y\":[0.027604686096310616,-0.17525604367256165,0.0575047992169857,0.10173237323760986,0.03230014443397522,-0.004374356009066105,0.01860094629228115,0.015283344313502312,0.005278926342725754,0.0031555911991745234,-0.08810006082057953,-0.015406182035803795,-0.006304961163550615,-0.014976143836975098,-0.005799323320388794,0.003807578468695283,-0.007701096124947071,-0.027228236198425293,0.0018192660063505173,-0.006768336985260248,0.01015153992921114,-0.004818896763026714,-0.018635742366313934,0.03841941058635712,0.004197672475129366,-0.0008290141122415662,0.035190239548683167,0.01902519166469574,0.003309449180960655,-0.0035217441618442535,-0.012830025516450405,-0.008340512402355671,0.0008768963161855936,-0.0020281283650547266,-0.006527596153318882,-0.008000616915524006,-0.05992220714688301,-0.021362151950597763,-0.016064004972577095,-0.0012019460555166006,-0.10464130342006683,-0.016974110156297684,0.03542239964008331,0.01168673112988472,-0.0019124561222270131,0.014176648110151291,0.020774737000465393,0.0016796954441815615,-0.0015889938222244382,-0.015309430658817291,0.00615200400352478,0.14682114124298096,-0.06591327488422394,0.009469390846788883,-0.04345386475324631,-0.0011275485157966614,0.006170710548758507,-0.0155936349183321,-0.0014765392988920212,0.012955738231539726,0.004133142996579409,0.019387012347579002,0.05480816587805748,-0.01271915901452303,-0.007424657698720694,-0.22583165764808655,0.03330545499920845,0.016696127131581306,-0.06560778617858887,-0.10944321006536484,-0.010508297011256218,-0.036419257521629333,0.17250555753707886,-0.05415506288409233,0.004544903989881277,0.011823555454611778,-0.0032367678359150887,-0.024921180680394173,-0.03612273931503296,0.002839551540091634,-0.0027994781266897917,0.012980193831026554,-0.007318038493394852,0.019179049879312515,0.004359253216534853,-0.00534564396366477,0.0028034253045916557,0.11326748132705688,0.0015731188468635082,-0.018593352288007736,0.011171482503414154,0.000920616730581969,0.021533988416194916,0.28129810094833374,-0.004104825668036938,0.0038139712996780872,-0.004469262436032295,-0.004050679039210081,-0.014173815958201885,-0.016129564493894577,-0.004331021569669247,0.03133730962872505,-0.07597458362579346,0.01659821718931198,0.005286606028676033,-0.006474522408097982,0.3398260474205017,-0.019245339557528496,-0.0037321511190384626,0.027829939499497414,-0.005505036562681198,0.015423472970724106,-0.06413858383893967,0.045362330973148346,0.04280693829059601,0.2307412177324295,-0.01744808256626129,0.3614153265953064,0.001073144725523889,0.02867070958018303,0.29022523760795593,0.04568703845143318,-0.08170203864574432,-0.004223715979605913,0.0052661835215985775,0.0018925052136182785,0.02020568586885929,-0.17669101059436798,-0.009186516515910625,0.004714937414973974,0.046592336148023605,-0.024440256878733635,0.018546799197793007,-0.10287884622812271,-0.2649326026439667,-0.002515746047720313,-0.0003237625933252275,-0.03249158710241318,-0.05200924724340439,0.020751353353261948,0.003457128768786788,0.024378130212426186,-0.40415331721305847,0.004604842513799667],\"yaxis\":\"y\",\"type\":\"scatter\"}],                        {\"template\":{\"data\":{\"histogram2dcontour\":[{\"type\":\"histogram2dcontour\",\"colorbar\":{\"outlinewidth\":0,\"ticks\":\"\"},\"colorscale\":[[0.0,\"#0d0887\"],[0.1111111111111111,\"#46039f\"],[0.2222222222222222,\"#7201a8\"],[0.3333333333333333,\"#9c179e\"],[0.4444444444444444,\"#bd3786\"],[0.5555555555555556,\"#d8576b\"],[0.6666666666666666,\"#ed7953\"],[0.7777777777777778,\"#fb9f3a\"],[0.8888888888888888,\"#fdca26\"],[1.0,\"#f0f921\"]]}],\"choropleth\":[{\"type\":\"choropleth\",\"colorbar\":{\"outlinewidth\":0,\"ticks\":\"\"}}],\"histogram2d\":[{\"type\":\"histogram2d\",\"colorbar\":{\"outlinewidth\":0,\"ticks\":\"\"},\"colorscale\":[[0.0,\"#0d0887\"],[0.1111111111111111,\"#46039f\"],[0.2222222222222222,\"#7201a8\"],[0.3333333333333333,\"#9c179e\"],[0.4444444444444444,\"#bd3786\"],[0.5555555555555556,\"#d8576b\"],[0.6666666666666666,\"#ed7953\"],[0.7777777777777778,\"#fb9f3a\"],[0.8888888888888888,\"#fdca26\"],[1.0,\"#f0f921\"]]}],\"heatmap\":[{\"type\":\"heatmap\",\"colorbar\":{\"outlinewidth\":0,\"ticks\":\"\"},\"colorscale\":[[0.0,\"#0d0887\"],[0.1111111111111111,\"#46039f\"],[0.2222222222222222,\"#7201a8\"],[0.3333333333333333,\"#9c179e\"],[0.4444444444444444,\"#bd3786\"],[0.5555555555555556,\"#d8576b\"],[0.6666666666666666,\"#ed7953\"],[0.7777777777777778,\"#fb9f3a\"],[0.8888888888888888,\"#fdca26\"],[1.0,\"#f0f921\"]]}],\"heatmapgl\":[{\"type\":\"heatmapgl\",\"colorbar\":{\"outlinewidth\":0,\"ticks\":\"\"},\"colorscale\":[[0.0,\"#0d0887\"],[0.1111111111111111,\"#46039f\"],[0.2222222222222222,\"#7201a8\"],[0.3333333333333333,\"#9c179e\"],[0.4444444444444444,\"#bd3786\"],[0.5555555555555556,\"#d8576b\"],[0.6666666666666666,\"#ed7953\"],[0.7777777777777778,\"#fb9f3a\"],[0.8888888888888888,\"#fdca26\"],[1.0,\"#f0f921\"]]}],\"contourcarpet\":[{\"type\":\"contourcarpet\",\"colorbar\":{\"outlinewidth\":0,\"ticks\":\"\"}}],\"contour\":[{\"type\":\"contour\",\"colorbar\":{\"outlinewidth\":0,\"ticks\":\"\"},\"colorscale\":[[0.0,\"#0d0887\"],[0.1111111111111111,\"#46039f\"],[0.2222222222222222,\"#7201a8\"],[0.3333333333333333,\"#9c179e\"],[0.4444444444444444,\"#bd3786\"],[0.5555555555555556,\"#d8576b\"],[0.6666666666666666,\"#ed7953\"],[0.7777777777777778,\"#fb9f3a\"],[0.8888888888888888,\"#fdca26\"],[1.0,\"#f0f921\"]]}],\"surface\":[{\"type\":\"surface\",\"colorbar\":{\"outlinewidth\":0,\"ticks\":\"\"},\"colorscale\":[[0.0,\"#0d0887\"],[0.1111111111111111,\"#46039f\"],[0.2222222222222222,\"#7201a8\"],[0.3333333333333333,\"#9c179e\"],[0.4444444444444444,\"#bd3786\"],[0.5555555555555556,\"#d8576b\"],[0.6666666666666666,\"#ed7953\"],[0.7777777777777778,\"#fb9f3a\"],[0.8888888888888888,\"#fdca26\"],[1.0,\"#f0f921\"]]}],\"mesh3d\":[{\"type\":\"mesh3d\",\"colorbar\":{\"outlinewidth\":0,\"ticks\":\"\"}}],\"scatter\":[{\"fillpattern\":{\"fillmode\":\"overlay\",\"size\":10,\"solidity\":0.2},\"type\":\"scatter\"}],\"parcoords\":[{\"type\":\"parcoords\",\"line\":{\"colorbar\":{\"outlinewidth\":0,\"ticks\":\"\"}}}],\"scatterpolargl\":[{\"type\":\"scatterpolargl\",\"marker\":{\"colorbar\":{\"outlinewidth\":0,\"ticks\":\"\"}}}],\"bar\":[{\"error_x\":{\"color\":\"#2a3f5f\"},\"error_y\":{\"color\":\"#2a3f5f\"},\"marker\":{\"line\":{\"color\":\"#E5ECF6\",\"width\":0.5},\"pattern\":{\"fillmode\":\"overlay\",\"size\":10,\"solidity\":0.2}},\"type\":\"bar\"}],\"scattergeo\":[{\"type\":\"scattergeo\",\"marker\":{\"colorbar\":{\"outlinewidth\":0,\"ticks\":\"\"}}}],\"scatterpolar\":[{\"type\":\"scatterpolar\",\"marker\":{\"colorbar\":{\"outlinewidth\":0,\"ticks\":\"\"}}}],\"histogram\":[{\"marker\":{\"pattern\":{\"fillmode\":\"overlay\",\"size\":10,\"solidity\":0.2}},\"type\":\"histogram\"}],\"scattergl\":[{\"type\":\"scattergl\",\"marker\":{\"colorbar\":{\"outlinewidth\":0,\"ticks\":\"\"}}}],\"scatter3d\":[{\"type\":\"scatter3d\",\"line\":{\"colorbar\":{\"outlinewidth\":0,\"ticks\":\"\"}},\"marker\":{\"colorbar\":{\"outlinewidth\":0,\"ticks\":\"\"}}}],\"scattermapbox\":[{\"type\":\"scattermapbox\",\"marker\":{\"colorbar\":{\"outlinewidth\":0,\"ticks\":\"\"}}}],\"scatterternary\":[{\"type\":\"scatterternary\",\"marker\":{\"colorbar\":{\"outlinewidth\":0,\"ticks\":\"\"}}}],\"scattercarpet\":[{\"type\":\"scattercarpet\",\"marker\":{\"colorbar\":{\"outlinewidth\":0,\"ticks\":\"\"}}}],\"carpet\":[{\"aaxis\":{\"endlinecolor\":\"#2a3f5f\",\"gridcolor\":\"white\",\"linecolor\":\"white\",\"minorgridcolor\":\"white\",\"startlinecolor\":\"#2a3f5f\"},\"baxis\":{\"endlinecolor\":\"#2a3f5f\",\"gridcolor\":\"white\",\"linecolor\":\"white\",\"minorgridcolor\":\"white\",\"startlinecolor\":\"#2a3f5f\"},\"type\":\"carpet\"}],\"table\":[{\"cells\":{\"fill\":{\"color\":\"#EBF0F8\"},\"line\":{\"color\":\"white\"}},\"header\":{\"fill\":{\"color\":\"#C8D4E3\"},\"line\":{\"color\":\"white\"}},\"type\":\"table\"}],\"barpolar\":[{\"marker\":{\"line\":{\"color\":\"#E5ECF6\",\"width\":0.5},\"pattern\":{\"fillmode\":\"overlay\",\"size\":10,\"solidity\":0.2}},\"type\":\"barpolar\"}],\"pie\":[{\"automargin\":true,\"type\":\"pie\"}]},\"layout\":{\"autotypenumbers\":\"strict\",\"colorway\":[\"#636efa\",\"#EF553B\",\"#00cc96\",\"#ab63fa\",\"#FFA15A\",\"#19d3f3\",\"#FF6692\",\"#B6E880\",\"#FF97FF\",\"#FECB52\"],\"font\":{\"color\":\"#2a3f5f\"},\"hovermode\":\"closest\",\"hoverlabel\":{\"align\":\"left\"},\"paper_bgcolor\":\"white\",\"plot_bgcolor\":\"#E5ECF6\",\"polar\":{\"bgcolor\":\"#E5ECF6\",\"angularaxis\":{\"gridcolor\":\"white\",\"linecolor\":\"white\",\"ticks\":\"\"},\"radialaxis\":{\"gridcolor\":\"white\",\"linecolor\":\"white\",\"ticks\":\"\"}},\"ternary\":{\"bgcolor\":\"#E5ECF6\",\"aaxis\":{\"gridcolor\":\"white\",\"linecolor\":\"white\",\"ticks\":\"\"},\"baxis\":{\"gridcolor\":\"white\",\"linecolor\":\"white\",\"ticks\":\"\"},\"caxis\":{\"gridcolor\":\"white\",\"linecolor\":\"white\",\"ticks\":\"\"}},\"coloraxis\":{\"colorbar\":{\"outlinewidth\":0,\"ticks\":\"\"}},\"colorscale\":{\"sequential\":[[0.0,\"#0d0887\"],[0.1111111111111111,\"#46039f\"],[0.2222222222222222,\"#7201a8\"],[0.3333333333333333,\"#9c179e\"],[0.4444444444444444,\"#bd3786\"],[0.5555555555555556,\"#d8576b\"],[0.6666666666666666,\"#ed7953\"],[0.7777777777777778,\"#fb9f3a\"],[0.8888888888888888,\"#fdca26\"],[1.0,\"#f0f921\"]],\"sequentialminus\":[[0.0,\"#0d0887\"],[0.1111111111111111,\"#46039f\"],[0.2222222222222222,\"#7201a8\"],[0.3333333333333333,\"#9c179e\"],[0.4444444444444444,\"#bd3786\"],[0.5555555555555556,\"#d8576b\"],[0.6666666666666666,\"#ed7953\"],[0.7777777777777778,\"#fb9f3a\"],[0.8888888888888888,\"#fdca26\"],[1.0,\"#f0f921\"]],\"diverging\":[[0,\"#8e0152\"],[0.1,\"#c51b7d\"],[0.2,\"#de77ae\"],[0.3,\"#f1b6da\"],[0.4,\"#fde0ef\"],[0.5,\"#f7f7f7\"],[0.6,\"#e6f5d0\"],[0.7,\"#b8e186\"],[0.8,\"#7fbc41\"],[0.9,\"#4d9221\"],[1,\"#276419\"]]},\"xaxis\":{\"gridcolor\":\"white\",\"linecolor\":\"white\",\"ticks\":\"\",\"title\":{\"standoff\":15},\"zerolinecolor\":\"white\",\"automargin\":true,\"zerolinewidth\":2},\"yaxis\":{\"gridcolor\":\"white\",\"linecolor\":\"white\",\"ticks\":\"\",\"title\":{\"standoff\":15},\"zerolinecolor\":\"white\",\"automargin\":true,\"zerolinewidth\":2},\"scene\":{\"xaxis\":{\"backgroundcolor\":\"#E5ECF6\",\"gridcolor\":\"white\",\"linecolor\":\"white\",\"showbackground\":true,\"ticks\":\"\",\"zerolinecolor\":\"white\",\"gridwidth\":2},\"yaxis\":{\"backgroundcolor\":\"#E5ECF6\",\"gridcolor\":\"white\",\"linecolor\":\"white\",\"showbackground\":true,\"ticks\":\"\",\"zerolinecolor\":\"white\",\"gridwidth\":2},\"zaxis\":{\"backgroundcolor\":\"#E5ECF6\",\"gridcolor\":\"white\",\"linecolor\":\"white\",\"showbackground\":true,\"ticks\":\"\",\"zerolinecolor\":\"white\",\"gridwidth\":2}},\"shapedefaults\":{\"line\":{\"color\":\"#2a3f5f\"}},\"annotationdefaults\":{\"arrowcolor\":\"#2a3f5f\",\"arrowhead\":0,\"arrowwidth\":1},\"geo\":{\"bgcolor\":\"white\",\"landcolor\":\"#E5ECF6\",\"subunitcolor\":\"white\",\"showland\":true,\"showlakes\":true,\"lakecolor\":\"white\"},\"title\":{\"x\":0.05},\"mapbox\":{\"style\":\"light\"}}},\"xaxis\":{\"anchor\":\"y\",\"domain\":[0.0,1.0],\"title\":{\"text\":\"Value Patch\"},\"range\":[-0.5,0.5]},\"yaxis\":{\"anchor\":\"x\",\"domain\":[0.0,1.0],\"title\":{\"text\":\"Output Patch\"},\"range\":[-0.5,0.5]},\"coloraxis\":{\"colorbar\":{\"title\":{\"text\":\"Layer\"}},\"colorscale\":[[0.0,\"#0d0887\"],[0.1111111111111111,\"#46039f\"],[0.2222222222222222,\"#7201a8\"],[0.3333333333333333,\"#9c179e\"],[0.4444444444444444,\"#bd3786\"],[0.5555555555555556,\"#d8576b\"],[0.6666666666666666,\"#ed7953\"],[0.7777777777777778,\"#fb9f3a\"],[0.8888888888888888,\"#fdca26\"],[1.0,\"#f0f921\"]]},\"legend\":{\"tracegroupgap\":0},\"title\":{\"text\":\"Scatter plot of output patching vs value patching\"}},                        {\"responsive\": true}                    ).then(function(){\n",
       "                            \n",
       "var gd = document.getElementById('791b46ff-a973-4c38-bbcf-c878734852fd');\n",
       "var x = new MutationObserver(function (mutations, observer) {{\n",
       "        var display = window.getComputedStyle(gd).display;\n",
       "        if (!display || display === 'none') {{\n",
       "            console.log([gd, 'removed!']);\n",
       "            Plotly.purge(gd);\n",
       "            observer.disconnect();\n",
       "        }}\n",
       "}});\n",
       "\n",
       "// Listen for the removal of the full notebook cells\n",
       "var notebookContainer = gd.closest('#notebook-container');\n",
       "if (notebookContainer) {{\n",
       "    x.observe(notebookContainer, {childList: true});\n",
       "}}\n",
       "\n",
       "// Listen for the clearing of the current output cell\n",
       "var outputEl = gd.closest('.output');\n",
       "if (outputEl) {{\n",
       "    x.observe(outputEl, {childList: true});\n",
       "}}\n",
       "\n",
       "                        })                };                });            </script>        </div>"
      ]
     },
     "metadata": {},
     "output_type": "display_data"
    }
   ],
   "source": [
    "head_labels = [\n",
    "    f\"L{l}H{h}\" for l in range(model.cfg.n_layers) for h in range(model.cfg.n_heads)\n",
    "]\n",
    "scatter(\n",
    "    x=utils.to_numpy(patched_head_v_diff.flatten()),\n",
    "    y=utils.to_numpy(patched_head_z_diff.flatten()),\n",
    "    xaxis=\"Value Patch\",\n",
    "    yaxis=\"Output Patch\",\n",
    "    caxis=\"Layer\",\n",
    "    hover_name=head_labels,\n",
    "    color=einops.repeat(\n",
    "        np.arange(model.cfg.n_layers), \"layer -> (layer head)\", head=model.cfg.n_heads\n",
    "    ),\n",
    "    range_x=(-0.5, 0.5),\n",
    "    range_y=(-0.5, 0.5),\n",
    "    title=\"Scatter plot of output patching vs value patching\",\n",
    ")"
   ]
  },
  {
   "cell_type": "code",
   "execution_count": 120,
   "metadata": {},
   "outputs": [],
   "source": [
    "def patch_head_pattern(\n",
    "    corrupted_head_pattern: Float[torch.Tensor, \"batch head_index query_pos d_head\"],\n",
    "    hook,\n",
    "    head_index,\n",
    "    clean_cache,\n",
    "):\n",
    "    corrupted_head_pattern[:, head_index, :, :] = clean_cache[hook.name][\n",
    "        :, head_index, :, :\n",
    "    ]\n",
    "    return corrupted_head_pattern\n",
    "\n",
    "\n",
    "patched_head_attn_diff = torch.zeros(\n",
    "    model.cfg.n_layers, model.cfg.n_heads, device=device, dtype=torch.float32\n",
    ")\n",
    "for layer in range(model.cfg.n_layers):\n",
    "    for head_index in range(model.cfg.n_heads):\n",
    "        hook_fn = partial(patch_head_pattern, head_index=head_index, clean_cache=cache)\n",
    "        patched_logits = model.run_with_hooks(\n",
    "            corrupted_tokens,\n",
    "            fwd_hooks=[(utils.get_act_name(\"attn\", layer, \"attn\"), hook_fn)],\n",
    "            return_type=\"logits\",\n",
    "        )\n",
    "        patched_logit_diff = logits_to_ave_logit_diff(patched_logits, answer_tokens)\n",
    "\n",
    "        patched_head_attn_diff[layer, head_index] = normalize_patched_logit_diff(\n",
    "            patched_logit_diff\n",
    "        )"
   ]
  },
  {
   "cell_type": "code",
   "execution_count": 121,
   "metadata": {},
   "outputs": [
    {
     "data": {
      "application/vnd.plotly.v1+json": {
       "config": {
        "plotlyServerURL": "https://plot.ly"
       },
       "data": [
        {
         "coloraxis": "coloraxis",
         "hovertemplate": "Head: %{x}<br>Layer: %{y}<br>color: %{z}<extra></extra>",
         "name": "0",
         "type": "heatmap",
         "xaxis": "x",
         "yaxis": "y",
         "z": [
          [
           -0.005076971370726824,
           -0.1446218639612198,
           -0.011396476998925209,
           0.00961462501436472,
           0.004741066601127386,
           -0.0011719982139766216,
           0.0034975025337189436,
           -0.00003651231963885948,
           0.007088281214237213,
           -0.012240637093782425,
           -0.03597373142838478,
           -0.004444077145308256
          ],
          [
           0.00015432997315656394,
           -0.009571590460836887,
           0.00005307372339302674,
           0.0023141345009207726,
           -0.00163460208568722,
           0.030774394050240517,
           -0.007558436132967472,
           -0.004127737134695053,
           0.007144658360630274,
           -0.0024559791199862957,
           -0.001966216368600726,
           0.02765621617436409
          ],
          [
           -0.0005326679674908519,
           -0.0012397455284371972,
           0.011652450077235699,
           -0.000791300495620817,
           0.014756683260202408,
           -0.0016894348664209247,
           0.0047092740423977375,
           -0.003651660867035389,
           -0.008494884707033634,
           -0.006930476054549217,
           -0.003807578468695283,
           -0.0009962585754692554
          ],
          [
           -0.08237243443727493,
           -0.004903892055153847,
           -0.026540465652942657,
           -0.005552532617002726,
           -0.024787703529000282,
           0.005279612727463245,
           -0.05364719405770302,
           -0.017985127866268158,
           -0.0015182431088760495,
           0.0034681984689086676,
           0.0011992859654128551,
           -0.007449199445545673
          ],
          [
           0.0024207967799156904,
           -0.020356453955173492,
           0.006904518231749535,
           -0.028754502534866333,
           -0.014111303724348545,
           0.0044750976376235485,
           -0.024126920849084854,
           -0.0024069813080132008,
           0.0020536999218165874,
           -0.0054112887009978294,
           -0.011449422687292099,
           -0.00004376329525257461
          ],
          [
           0.008624287322163582,
           0.02064872533082962,
           0.015710165724158287,
           -0.009039738215506077,
           0.0012485411716625094,
           -0.22452832758426666,
           0.01424937229603529,
           0.0013700915733352304,
           -0.052572377026081085,
           -0.017702767625451088,
           -0.02554944157600403,
           -0.0038017432671040297
          ],
          [
           -0.012285730801522732,
           -0.02787734940648079,
           -0.004118727054446936,
           0.00906964298337698,
           -0.0058275549672544,
           0.0019841506145894527,
           -0.016017194837331772,
           -0.010222033597528934,
           -0.004124047234654427,
           0.01627582684159279,
           -0.0005088126636110246,
           -0.006214645691215992
          ],
          [
           -0.008731978945434093,
           -0.008653591386973858,
           -0.013721896335482597,
           -0.03891483694314957,
           -0.005745477508753538,
           0.0021338039077818394,
           0.006299898028373718,
           0.005274764262139797,
           -0.002164052100852132,
           -0.05435946211218834,
           0.002372871618717909,
           0.00428288197144866
          ],
          [
           -0.0051540290005505085,
           -0.002600011881440878,
           -0.008631237782537937,
           0.017188936471939087,
           -0.000059638219681801274,
           -0.0009090752573683858,
           -0.032995980232954025,
           0.005614916794002056,
           0.010311920195817947,
           0.003565979190170765,
           -0.03540879860520363,
           -0.008114487864077091
          ],
          [
           0.005103057716041803,
           0.013236680999398232,
           0.018960362300276756,
           -0.0013554180040955544,
           -0.001672229846008122,
           0.0026447619311511517,
           -0.033703189343214035,
           -0.19947396218776703,
           -0.011013505980372429,
           -0.09845312684774399,
           0.0014938301173970103,
           0.007399257738143206
          ],
          [
           0.12118589133024216,
           0.03865298628807068,
           -0.07839997112751007,
           -0.01734875701367855,
           0.00945759192109108,
           0.002882070606574416,
           0.06970059871673584,
           -0.26111581921577454,
           -0.0022737178951501846,
           0.0005013042828068137,
           -0.015980811789631844,
           0.001378543907776475
          ],
          [
           -0.0024212258867919445,
           0.09102083742618561,
           -0.11608300358057022,
           -0.006312512326985598,
           0.00710634421557188,
           -0.02348930574953556,
           -0.02237531542778015,
           0.008658654056489468,
           0.0008024987182579935,
           0.08126955479383469,
           -0.3214975595474243,
           -0.00323655316606164
          ]
         ]
        }
       ],
       "layout": {
        "coloraxis": {
         "cmid": 0,
         "colorscale": [
          [
           0,
           "rgb(103,0,31)"
          ],
          [
           0.1,
           "rgb(178,24,43)"
          ],
          [
           0.2,
           "rgb(214,96,77)"
          ],
          [
           0.3,
           "rgb(244,165,130)"
          ],
          [
           0.4,
           "rgb(253,219,199)"
          ],
          [
           0.5,
           "rgb(247,247,247)"
          ],
          [
           0.6,
           "rgb(209,229,240)"
          ],
          [
           0.7,
           "rgb(146,197,222)"
          ],
          [
           0.8,
           "rgb(67,147,195)"
          ],
          [
           0.9,
           "rgb(33,102,172)"
          ],
          [
           1,
           "rgb(5,48,97)"
          ]
         ]
        },
        "template": {
         "data": {
          "bar": [
           {
            "error_x": {
             "color": "#2a3f5f"
            },
            "error_y": {
             "color": "#2a3f5f"
            },
            "marker": {
             "line": {
              "color": "#E5ECF6",
              "width": 0.5
             },
             "pattern": {
              "fillmode": "overlay",
              "size": 10,
              "solidity": 0.2
             }
            },
            "type": "bar"
           }
          ],
          "barpolar": [
           {
            "marker": {
             "line": {
              "color": "#E5ECF6",
              "width": 0.5
             },
             "pattern": {
              "fillmode": "overlay",
              "size": 10,
              "solidity": 0.2
             }
            },
            "type": "barpolar"
           }
          ],
          "carpet": [
           {
            "aaxis": {
             "endlinecolor": "#2a3f5f",
             "gridcolor": "white",
             "linecolor": "white",
             "minorgridcolor": "white",
             "startlinecolor": "#2a3f5f"
            },
            "baxis": {
             "endlinecolor": "#2a3f5f",
             "gridcolor": "white",
             "linecolor": "white",
             "minorgridcolor": "white",
             "startlinecolor": "#2a3f5f"
            },
            "type": "carpet"
           }
          ],
          "choropleth": [
           {
            "colorbar": {
             "outlinewidth": 0,
             "ticks": ""
            },
            "type": "choropleth"
           }
          ],
          "contour": [
           {
            "colorbar": {
             "outlinewidth": 0,
             "ticks": ""
            },
            "colorscale": [
             [
              0,
              "#0d0887"
             ],
             [
              0.1111111111111111,
              "#46039f"
             ],
             [
              0.2222222222222222,
              "#7201a8"
             ],
             [
              0.3333333333333333,
              "#9c179e"
             ],
             [
              0.4444444444444444,
              "#bd3786"
             ],
             [
              0.5555555555555556,
              "#d8576b"
             ],
             [
              0.6666666666666666,
              "#ed7953"
             ],
             [
              0.7777777777777778,
              "#fb9f3a"
             ],
             [
              0.8888888888888888,
              "#fdca26"
             ],
             [
              1,
              "#f0f921"
             ]
            ],
            "type": "contour"
           }
          ],
          "contourcarpet": [
           {
            "colorbar": {
             "outlinewidth": 0,
             "ticks": ""
            },
            "type": "contourcarpet"
           }
          ],
          "heatmap": [
           {
            "colorbar": {
             "outlinewidth": 0,
             "ticks": ""
            },
            "colorscale": [
             [
              0,
              "#0d0887"
             ],
             [
              0.1111111111111111,
              "#46039f"
             ],
             [
              0.2222222222222222,
              "#7201a8"
             ],
             [
              0.3333333333333333,
              "#9c179e"
             ],
             [
              0.4444444444444444,
              "#bd3786"
             ],
             [
              0.5555555555555556,
              "#d8576b"
             ],
             [
              0.6666666666666666,
              "#ed7953"
             ],
             [
              0.7777777777777778,
              "#fb9f3a"
             ],
             [
              0.8888888888888888,
              "#fdca26"
             ],
             [
              1,
              "#f0f921"
             ]
            ],
            "type": "heatmap"
           }
          ],
          "heatmapgl": [
           {
            "colorbar": {
             "outlinewidth": 0,
             "ticks": ""
            },
            "colorscale": [
             [
              0,
              "#0d0887"
             ],
             [
              0.1111111111111111,
              "#46039f"
             ],
             [
              0.2222222222222222,
              "#7201a8"
             ],
             [
              0.3333333333333333,
              "#9c179e"
             ],
             [
              0.4444444444444444,
              "#bd3786"
             ],
             [
              0.5555555555555556,
              "#d8576b"
             ],
             [
              0.6666666666666666,
              "#ed7953"
             ],
             [
              0.7777777777777778,
              "#fb9f3a"
             ],
             [
              0.8888888888888888,
              "#fdca26"
             ],
             [
              1,
              "#f0f921"
             ]
            ],
            "type": "heatmapgl"
           }
          ],
          "histogram": [
           {
            "marker": {
             "pattern": {
              "fillmode": "overlay",
              "size": 10,
              "solidity": 0.2
             }
            },
            "type": "histogram"
           }
          ],
          "histogram2d": [
           {
            "colorbar": {
             "outlinewidth": 0,
             "ticks": ""
            },
            "colorscale": [
             [
              0,
              "#0d0887"
             ],
             [
              0.1111111111111111,
              "#46039f"
             ],
             [
              0.2222222222222222,
              "#7201a8"
             ],
             [
              0.3333333333333333,
              "#9c179e"
             ],
             [
              0.4444444444444444,
              "#bd3786"
             ],
             [
              0.5555555555555556,
              "#d8576b"
             ],
             [
              0.6666666666666666,
              "#ed7953"
             ],
             [
              0.7777777777777778,
              "#fb9f3a"
             ],
             [
              0.8888888888888888,
              "#fdca26"
             ],
             [
              1,
              "#f0f921"
             ]
            ],
            "type": "histogram2d"
           }
          ],
          "histogram2dcontour": [
           {
            "colorbar": {
             "outlinewidth": 0,
             "ticks": ""
            },
            "colorscale": [
             [
              0,
              "#0d0887"
             ],
             [
              0.1111111111111111,
              "#46039f"
             ],
             [
              0.2222222222222222,
              "#7201a8"
             ],
             [
              0.3333333333333333,
              "#9c179e"
             ],
             [
              0.4444444444444444,
              "#bd3786"
             ],
             [
              0.5555555555555556,
              "#d8576b"
             ],
             [
              0.6666666666666666,
              "#ed7953"
             ],
             [
              0.7777777777777778,
              "#fb9f3a"
             ],
             [
              0.8888888888888888,
              "#fdca26"
             ],
             [
              1,
              "#f0f921"
             ]
            ],
            "type": "histogram2dcontour"
           }
          ],
          "mesh3d": [
           {
            "colorbar": {
             "outlinewidth": 0,
             "ticks": ""
            },
            "type": "mesh3d"
           }
          ],
          "parcoords": [
           {
            "line": {
             "colorbar": {
              "outlinewidth": 0,
              "ticks": ""
             }
            },
            "type": "parcoords"
           }
          ],
          "pie": [
           {
            "automargin": true,
            "type": "pie"
           }
          ],
          "scatter": [
           {
            "fillpattern": {
             "fillmode": "overlay",
             "size": 10,
             "solidity": 0.2
            },
            "type": "scatter"
           }
          ],
          "scatter3d": [
           {
            "line": {
             "colorbar": {
              "outlinewidth": 0,
              "ticks": ""
             }
            },
            "marker": {
             "colorbar": {
              "outlinewidth": 0,
              "ticks": ""
             }
            },
            "type": "scatter3d"
           }
          ],
          "scattercarpet": [
           {
            "marker": {
             "colorbar": {
              "outlinewidth": 0,
              "ticks": ""
             }
            },
            "type": "scattercarpet"
           }
          ],
          "scattergeo": [
           {
            "marker": {
             "colorbar": {
              "outlinewidth": 0,
              "ticks": ""
             }
            },
            "type": "scattergeo"
           }
          ],
          "scattergl": [
           {
            "marker": {
             "colorbar": {
              "outlinewidth": 0,
              "ticks": ""
             }
            },
            "type": "scattergl"
           }
          ],
          "scattermapbox": [
           {
            "marker": {
             "colorbar": {
              "outlinewidth": 0,
              "ticks": ""
             }
            },
            "type": "scattermapbox"
           }
          ],
          "scatterpolar": [
           {
            "marker": {
             "colorbar": {
              "outlinewidth": 0,
              "ticks": ""
             }
            },
            "type": "scatterpolar"
           }
          ],
          "scatterpolargl": [
           {
            "marker": {
             "colorbar": {
              "outlinewidth": 0,
              "ticks": ""
             }
            },
            "type": "scatterpolargl"
           }
          ],
          "scatterternary": [
           {
            "marker": {
             "colorbar": {
              "outlinewidth": 0,
              "ticks": ""
             }
            },
            "type": "scatterternary"
           }
          ],
          "surface": [
           {
            "colorbar": {
             "outlinewidth": 0,
             "ticks": ""
            },
            "colorscale": [
             [
              0,
              "#0d0887"
             ],
             [
              0.1111111111111111,
              "#46039f"
             ],
             [
              0.2222222222222222,
              "#7201a8"
             ],
             [
              0.3333333333333333,
              "#9c179e"
             ],
             [
              0.4444444444444444,
              "#bd3786"
             ],
             [
              0.5555555555555556,
              "#d8576b"
             ],
             [
              0.6666666666666666,
              "#ed7953"
             ],
             [
              0.7777777777777778,
              "#fb9f3a"
             ],
             [
              0.8888888888888888,
              "#fdca26"
             ],
             [
              1,
              "#f0f921"
             ]
            ],
            "type": "surface"
           }
          ],
          "table": [
           {
            "cells": {
             "fill": {
              "color": "#EBF0F8"
             },
             "line": {
              "color": "white"
             }
            },
            "header": {
             "fill": {
              "color": "#C8D4E3"
             },
             "line": {
              "color": "white"
             }
            },
            "type": "table"
           }
          ]
         },
         "layout": {
          "annotationdefaults": {
           "arrowcolor": "#2a3f5f",
           "arrowhead": 0,
           "arrowwidth": 1
          },
          "autotypenumbers": "strict",
          "coloraxis": {
           "colorbar": {
            "outlinewidth": 0,
            "ticks": ""
           }
          },
          "colorscale": {
           "diverging": [
            [
             0,
             "#8e0152"
            ],
            [
             0.1,
             "#c51b7d"
            ],
            [
             0.2,
             "#de77ae"
            ],
            [
             0.3,
             "#f1b6da"
            ],
            [
             0.4,
             "#fde0ef"
            ],
            [
             0.5,
             "#f7f7f7"
            ],
            [
             0.6,
             "#e6f5d0"
            ],
            [
             0.7,
             "#b8e186"
            ],
            [
             0.8,
             "#7fbc41"
            ],
            [
             0.9,
             "#4d9221"
            ],
            [
             1,
             "#276419"
            ]
           ],
           "sequential": [
            [
             0,
             "#0d0887"
            ],
            [
             0.1111111111111111,
             "#46039f"
            ],
            [
             0.2222222222222222,
             "#7201a8"
            ],
            [
             0.3333333333333333,
             "#9c179e"
            ],
            [
             0.4444444444444444,
             "#bd3786"
            ],
            [
             0.5555555555555556,
             "#d8576b"
            ],
            [
             0.6666666666666666,
             "#ed7953"
            ],
            [
             0.7777777777777778,
             "#fb9f3a"
            ],
            [
             0.8888888888888888,
             "#fdca26"
            ],
            [
             1,
             "#f0f921"
            ]
           ],
           "sequentialminus": [
            [
             0,
             "#0d0887"
            ],
            [
             0.1111111111111111,
             "#46039f"
            ],
            [
             0.2222222222222222,
             "#7201a8"
            ],
            [
             0.3333333333333333,
             "#9c179e"
            ],
            [
             0.4444444444444444,
             "#bd3786"
            ],
            [
             0.5555555555555556,
             "#d8576b"
            ],
            [
             0.6666666666666666,
             "#ed7953"
            ],
            [
             0.7777777777777778,
             "#fb9f3a"
            ],
            [
             0.8888888888888888,
             "#fdca26"
            ],
            [
             1,
             "#f0f921"
            ]
           ]
          },
          "colorway": [
           "#636efa",
           "#EF553B",
           "#00cc96",
           "#ab63fa",
           "#FFA15A",
           "#19d3f3",
           "#FF6692",
           "#B6E880",
           "#FF97FF",
           "#FECB52"
          ],
          "font": {
           "color": "#2a3f5f"
          },
          "geo": {
           "bgcolor": "white",
           "lakecolor": "white",
           "landcolor": "#E5ECF6",
           "showlakes": true,
           "showland": true,
           "subunitcolor": "white"
          },
          "hoverlabel": {
           "align": "left"
          },
          "hovermode": "closest",
          "mapbox": {
           "style": "light"
          },
          "paper_bgcolor": "white",
          "plot_bgcolor": "#E5ECF6",
          "polar": {
           "angularaxis": {
            "gridcolor": "white",
            "linecolor": "white",
            "ticks": ""
           },
           "bgcolor": "#E5ECF6",
           "radialaxis": {
            "gridcolor": "white",
            "linecolor": "white",
            "ticks": ""
           }
          },
          "scene": {
           "xaxis": {
            "backgroundcolor": "#E5ECF6",
            "gridcolor": "white",
            "gridwidth": 2,
            "linecolor": "white",
            "showbackground": true,
            "ticks": "",
            "zerolinecolor": "white"
           },
           "yaxis": {
            "backgroundcolor": "#E5ECF6",
            "gridcolor": "white",
            "gridwidth": 2,
            "linecolor": "white",
            "showbackground": true,
            "ticks": "",
            "zerolinecolor": "white"
           },
           "zaxis": {
            "backgroundcolor": "#E5ECF6",
            "gridcolor": "white",
            "gridwidth": 2,
            "linecolor": "white",
            "showbackground": true,
            "ticks": "",
            "zerolinecolor": "white"
           }
          },
          "shapedefaults": {
           "line": {
            "color": "#2a3f5f"
           }
          },
          "ternary": {
           "aaxis": {
            "gridcolor": "white",
            "linecolor": "white",
            "ticks": ""
           },
           "baxis": {
            "gridcolor": "white",
            "linecolor": "white",
            "ticks": ""
           },
           "bgcolor": "#E5ECF6",
           "caxis": {
            "gridcolor": "white",
            "linecolor": "white",
            "ticks": ""
           }
          },
          "title": {
           "x": 0.05
          },
          "xaxis": {
           "automargin": true,
           "gridcolor": "white",
           "linecolor": "white",
           "ticks": "",
           "title": {
            "standoff": 15
           },
           "zerolinecolor": "white",
           "zerolinewidth": 2
          },
          "yaxis": {
           "automargin": true,
           "gridcolor": "white",
           "linecolor": "white",
           "ticks": "",
           "title": {
            "standoff": 15
           },
           "zerolinecolor": "white",
           "zerolinewidth": 2
          }
         }
        },
        "title": {
         "text": "Logit Difference From Patched Head Pattern"
        },
        "xaxis": {
         "anchor": "y",
         "constrain": "domain",
         "domain": [
          0,
          1
         ],
         "scaleanchor": "y",
         "title": {
          "text": "Head"
         }
        },
        "yaxis": {
         "anchor": "x",
         "autorange": "reversed",
         "constrain": "domain",
         "domain": [
          0,
          1
         ],
         "title": {
          "text": "Layer"
         }
        }
       }
      },
      "text/html": [
       "<div>                            <div id=\"120210d3-8eef-4bfd-9650-1891c117e84a\" class=\"plotly-graph-div\" style=\"height:525px; width:100%;\"></div>            <script type=\"text/javascript\">                require([\"plotly\"], function(Plotly) {                    window.PLOTLYENV=window.PLOTLYENV || {};                                    if (document.getElementById(\"120210d3-8eef-4bfd-9650-1891c117e84a\")) {                    Plotly.newPlot(                        \"120210d3-8eef-4bfd-9650-1891c117e84a\",                        [{\"coloraxis\":\"coloraxis\",\"name\":\"0\",\"z\":[[-0.005076971370726824,-0.1446218639612198,-0.011396476998925209,0.00961462501436472,0.004741066601127386,-0.0011719982139766216,0.0034975025337189436,-3.651231963885948e-05,0.007088281214237213,-0.012240637093782425,-0.03597373142838478,-0.004444077145308256],[0.00015432997315656394,-0.009571590460836887,5.307372339302674e-05,0.0023141345009207726,-0.00163460208568722,0.030774394050240517,-0.007558436132967472,-0.004127737134695053,0.007144658360630274,-0.0024559791199862957,-0.001966216368600726,0.02765621617436409],[-0.0005326679674908519,-0.0012397455284371972,0.011652450077235699,-0.000791300495620817,0.014756683260202408,-0.0016894348664209247,0.0047092740423977375,-0.003651660867035389,-0.008494884707033634,-0.006930476054549217,-0.003807578468695283,-0.0009962585754692554],[-0.08237243443727493,-0.004903892055153847,-0.026540465652942657,-0.005552532617002726,-0.024787703529000282,0.005279612727463245,-0.05364719405770302,-0.017985127866268158,-0.0015182431088760495,0.0034681984689086676,0.0011992859654128551,-0.007449199445545673],[0.0024207967799156904,-0.020356453955173492,0.006904518231749535,-0.028754502534866333,-0.014111303724348545,0.0044750976376235485,-0.024126920849084854,-0.0024069813080132008,0.0020536999218165874,-0.0054112887009978294,-0.011449422687292099,-4.376329525257461e-05],[0.008624287322163582,0.02064872533082962,0.015710165724158287,-0.009039738215506077,0.0012485411716625094,-0.22452832758426666,0.01424937229603529,0.0013700915733352304,-0.052572377026081085,-0.017702767625451088,-0.02554944157600403,-0.0038017432671040297],[-0.012285730801522732,-0.02787734940648079,-0.004118727054446936,0.00906964298337698,-0.0058275549672544,0.0019841506145894527,-0.016017194837331772,-0.010222033597528934,-0.004124047234654427,0.01627582684159279,-0.0005088126636110246,-0.006214645691215992],[-0.008731978945434093,-0.008653591386973858,-0.013721896335482597,-0.03891483694314957,-0.005745477508753538,0.0021338039077818394,0.006299898028373718,0.005274764262139797,-0.002164052100852132,-0.05435946211218834,0.002372871618717909,0.00428288197144866],[-0.0051540290005505085,-0.002600011881440878,-0.008631237782537937,0.017188936471939087,-5.9638219681801274e-05,-0.0009090752573683858,-0.032995980232954025,0.005614916794002056,0.010311920195817947,0.003565979190170765,-0.03540879860520363,-0.008114487864077091],[0.005103057716041803,0.013236680999398232,0.018960362300276756,-0.0013554180040955544,-0.001672229846008122,0.0026447619311511517,-0.033703189343214035,-0.19947396218776703,-0.011013505980372429,-0.09845312684774399,0.0014938301173970103,0.007399257738143206],[0.12118589133024216,0.03865298628807068,-0.07839997112751007,-0.01734875701367855,0.00945759192109108,0.002882070606574416,0.06970059871673584,-0.26111581921577454,-0.0022737178951501846,0.0005013042828068137,-0.015980811789631844,0.001378543907776475],[-0.0024212258867919445,0.09102083742618561,-0.11608300358057022,-0.006312512326985598,0.00710634421557188,-0.02348930574953556,-0.02237531542778015,0.008658654056489468,0.0008024987182579935,0.08126955479383469,-0.3214975595474243,-0.00323655316606164]],\"type\":\"heatmap\",\"xaxis\":\"x\",\"yaxis\":\"y\",\"hovertemplate\":\"Head: %{x}\\u003cbr\\u003eLayer: %{y}\\u003cbr\\u003ecolor: %{z}\\u003cextra\\u003e\\u003c\\u002fextra\\u003e\"}],                        {\"template\":{\"data\":{\"histogram2dcontour\":[{\"type\":\"histogram2dcontour\",\"colorbar\":{\"outlinewidth\":0,\"ticks\":\"\"},\"colorscale\":[[0.0,\"#0d0887\"],[0.1111111111111111,\"#46039f\"],[0.2222222222222222,\"#7201a8\"],[0.3333333333333333,\"#9c179e\"],[0.4444444444444444,\"#bd3786\"],[0.5555555555555556,\"#d8576b\"],[0.6666666666666666,\"#ed7953\"],[0.7777777777777778,\"#fb9f3a\"],[0.8888888888888888,\"#fdca26\"],[1.0,\"#f0f921\"]]}],\"choropleth\":[{\"type\":\"choropleth\",\"colorbar\":{\"outlinewidth\":0,\"ticks\":\"\"}}],\"histogram2d\":[{\"type\":\"histogram2d\",\"colorbar\":{\"outlinewidth\":0,\"ticks\":\"\"},\"colorscale\":[[0.0,\"#0d0887\"],[0.1111111111111111,\"#46039f\"],[0.2222222222222222,\"#7201a8\"],[0.3333333333333333,\"#9c179e\"],[0.4444444444444444,\"#bd3786\"],[0.5555555555555556,\"#d8576b\"],[0.6666666666666666,\"#ed7953\"],[0.7777777777777778,\"#fb9f3a\"],[0.8888888888888888,\"#fdca26\"],[1.0,\"#f0f921\"]]}],\"heatmap\":[{\"type\":\"heatmap\",\"colorbar\":{\"outlinewidth\":0,\"ticks\":\"\"},\"colorscale\":[[0.0,\"#0d0887\"],[0.1111111111111111,\"#46039f\"],[0.2222222222222222,\"#7201a8\"],[0.3333333333333333,\"#9c179e\"],[0.4444444444444444,\"#bd3786\"],[0.5555555555555556,\"#d8576b\"],[0.6666666666666666,\"#ed7953\"],[0.7777777777777778,\"#fb9f3a\"],[0.8888888888888888,\"#fdca26\"],[1.0,\"#f0f921\"]]}],\"heatmapgl\":[{\"type\":\"heatmapgl\",\"colorbar\":{\"outlinewidth\":0,\"ticks\":\"\"},\"colorscale\":[[0.0,\"#0d0887\"],[0.1111111111111111,\"#46039f\"],[0.2222222222222222,\"#7201a8\"],[0.3333333333333333,\"#9c179e\"],[0.4444444444444444,\"#bd3786\"],[0.5555555555555556,\"#d8576b\"],[0.6666666666666666,\"#ed7953\"],[0.7777777777777778,\"#fb9f3a\"],[0.8888888888888888,\"#fdca26\"],[1.0,\"#f0f921\"]]}],\"contourcarpet\":[{\"type\":\"contourcarpet\",\"colorbar\":{\"outlinewidth\":0,\"ticks\":\"\"}}],\"contour\":[{\"type\":\"contour\",\"colorbar\":{\"outlinewidth\":0,\"ticks\":\"\"},\"colorscale\":[[0.0,\"#0d0887\"],[0.1111111111111111,\"#46039f\"],[0.2222222222222222,\"#7201a8\"],[0.3333333333333333,\"#9c179e\"],[0.4444444444444444,\"#bd3786\"],[0.5555555555555556,\"#d8576b\"],[0.6666666666666666,\"#ed7953\"],[0.7777777777777778,\"#fb9f3a\"],[0.8888888888888888,\"#fdca26\"],[1.0,\"#f0f921\"]]}],\"surface\":[{\"type\":\"surface\",\"colorbar\":{\"outlinewidth\":0,\"ticks\":\"\"},\"colorscale\":[[0.0,\"#0d0887\"],[0.1111111111111111,\"#46039f\"],[0.2222222222222222,\"#7201a8\"],[0.3333333333333333,\"#9c179e\"],[0.4444444444444444,\"#bd3786\"],[0.5555555555555556,\"#d8576b\"],[0.6666666666666666,\"#ed7953\"],[0.7777777777777778,\"#fb9f3a\"],[0.8888888888888888,\"#fdca26\"],[1.0,\"#f0f921\"]]}],\"mesh3d\":[{\"type\":\"mesh3d\",\"colorbar\":{\"outlinewidth\":0,\"ticks\":\"\"}}],\"scatter\":[{\"fillpattern\":{\"fillmode\":\"overlay\",\"size\":10,\"solidity\":0.2},\"type\":\"scatter\"}],\"parcoords\":[{\"type\":\"parcoords\",\"line\":{\"colorbar\":{\"outlinewidth\":0,\"ticks\":\"\"}}}],\"scatterpolargl\":[{\"type\":\"scatterpolargl\",\"marker\":{\"colorbar\":{\"outlinewidth\":0,\"ticks\":\"\"}}}],\"bar\":[{\"error_x\":{\"color\":\"#2a3f5f\"},\"error_y\":{\"color\":\"#2a3f5f\"},\"marker\":{\"line\":{\"color\":\"#E5ECF6\",\"width\":0.5},\"pattern\":{\"fillmode\":\"overlay\",\"size\":10,\"solidity\":0.2}},\"type\":\"bar\"}],\"scattergeo\":[{\"type\":\"scattergeo\",\"marker\":{\"colorbar\":{\"outlinewidth\":0,\"ticks\":\"\"}}}],\"scatterpolar\":[{\"type\":\"scatterpolar\",\"marker\":{\"colorbar\":{\"outlinewidth\":0,\"ticks\":\"\"}}}],\"histogram\":[{\"marker\":{\"pattern\":{\"fillmode\":\"overlay\",\"size\":10,\"solidity\":0.2}},\"type\":\"histogram\"}],\"scattergl\":[{\"type\":\"scattergl\",\"marker\":{\"colorbar\":{\"outlinewidth\":0,\"ticks\":\"\"}}}],\"scatter3d\":[{\"type\":\"scatter3d\",\"line\":{\"colorbar\":{\"outlinewidth\":0,\"ticks\":\"\"}},\"marker\":{\"colorbar\":{\"outlinewidth\":0,\"ticks\":\"\"}}}],\"scattermapbox\":[{\"type\":\"scattermapbox\",\"marker\":{\"colorbar\":{\"outlinewidth\":0,\"ticks\":\"\"}}}],\"scatterternary\":[{\"type\":\"scatterternary\",\"marker\":{\"colorbar\":{\"outlinewidth\":0,\"ticks\":\"\"}}}],\"scattercarpet\":[{\"type\":\"scattercarpet\",\"marker\":{\"colorbar\":{\"outlinewidth\":0,\"ticks\":\"\"}}}],\"carpet\":[{\"aaxis\":{\"endlinecolor\":\"#2a3f5f\",\"gridcolor\":\"white\",\"linecolor\":\"white\",\"minorgridcolor\":\"white\",\"startlinecolor\":\"#2a3f5f\"},\"baxis\":{\"endlinecolor\":\"#2a3f5f\",\"gridcolor\":\"white\",\"linecolor\":\"white\",\"minorgridcolor\":\"white\",\"startlinecolor\":\"#2a3f5f\"},\"type\":\"carpet\"}],\"table\":[{\"cells\":{\"fill\":{\"color\":\"#EBF0F8\"},\"line\":{\"color\":\"white\"}},\"header\":{\"fill\":{\"color\":\"#C8D4E3\"},\"line\":{\"color\":\"white\"}},\"type\":\"table\"}],\"barpolar\":[{\"marker\":{\"line\":{\"color\":\"#E5ECF6\",\"width\":0.5},\"pattern\":{\"fillmode\":\"overlay\",\"size\":10,\"solidity\":0.2}},\"type\":\"barpolar\"}],\"pie\":[{\"automargin\":true,\"type\":\"pie\"}]},\"layout\":{\"autotypenumbers\":\"strict\",\"colorway\":[\"#636efa\",\"#EF553B\",\"#00cc96\",\"#ab63fa\",\"#FFA15A\",\"#19d3f3\",\"#FF6692\",\"#B6E880\",\"#FF97FF\",\"#FECB52\"],\"font\":{\"color\":\"#2a3f5f\"},\"hovermode\":\"closest\",\"hoverlabel\":{\"align\":\"left\"},\"paper_bgcolor\":\"white\",\"plot_bgcolor\":\"#E5ECF6\",\"polar\":{\"bgcolor\":\"#E5ECF6\",\"angularaxis\":{\"gridcolor\":\"white\",\"linecolor\":\"white\",\"ticks\":\"\"},\"radialaxis\":{\"gridcolor\":\"white\",\"linecolor\":\"white\",\"ticks\":\"\"}},\"ternary\":{\"bgcolor\":\"#E5ECF6\",\"aaxis\":{\"gridcolor\":\"white\",\"linecolor\":\"white\",\"ticks\":\"\"},\"baxis\":{\"gridcolor\":\"white\",\"linecolor\":\"white\",\"ticks\":\"\"},\"caxis\":{\"gridcolor\":\"white\",\"linecolor\":\"white\",\"ticks\":\"\"}},\"coloraxis\":{\"colorbar\":{\"outlinewidth\":0,\"ticks\":\"\"}},\"colorscale\":{\"sequential\":[[0.0,\"#0d0887\"],[0.1111111111111111,\"#46039f\"],[0.2222222222222222,\"#7201a8\"],[0.3333333333333333,\"#9c179e\"],[0.4444444444444444,\"#bd3786\"],[0.5555555555555556,\"#d8576b\"],[0.6666666666666666,\"#ed7953\"],[0.7777777777777778,\"#fb9f3a\"],[0.8888888888888888,\"#fdca26\"],[1.0,\"#f0f921\"]],\"sequentialminus\":[[0.0,\"#0d0887\"],[0.1111111111111111,\"#46039f\"],[0.2222222222222222,\"#7201a8\"],[0.3333333333333333,\"#9c179e\"],[0.4444444444444444,\"#bd3786\"],[0.5555555555555556,\"#d8576b\"],[0.6666666666666666,\"#ed7953\"],[0.7777777777777778,\"#fb9f3a\"],[0.8888888888888888,\"#fdca26\"],[1.0,\"#f0f921\"]],\"diverging\":[[0,\"#8e0152\"],[0.1,\"#c51b7d\"],[0.2,\"#de77ae\"],[0.3,\"#f1b6da\"],[0.4,\"#fde0ef\"],[0.5,\"#f7f7f7\"],[0.6,\"#e6f5d0\"],[0.7,\"#b8e186\"],[0.8,\"#7fbc41\"],[0.9,\"#4d9221\"],[1,\"#276419\"]]},\"xaxis\":{\"gridcolor\":\"white\",\"linecolor\":\"white\",\"ticks\":\"\",\"title\":{\"standoff\":15},\"zerolinecolor\":\"white\",\"automargin\":true,\"zerolinewidth\":2},\"yaxis\":{\"gridcolor\":\"white\",\"linecolor\":\"white\",\"ticks\":\"\",\"title\":{\"standoff\":15},\"zerolinecolor\":\"white\",\"automargin\":true,\"zerolinewidth\":2},\"scene\":{\"xaxis\":{\"backgroundcolor\":\"#E5ECF6\",\"gridcolor\":\"white\",\"linecolor\":\"white\",\"showbackground\":true,\"ticks\":\"\",\"zerolinecolor\":\"white\",\"gridwidth\":2},\"yaxis\":{\"backgroundcolor\":\"#E5ECF6\",\"gridcolor\":\"white\",\"linecolor\":\"white\",\"showbackground\":true,\"ticks\":\"\",\"zerolinecolor\":\"white\",\"gridwidth\":2},\"zaxis\":{\"backgroundcolor\":\"#E5ECF6\",\"gridcolor\":\"white\",\"linecolor\":\"white\",\"showbackground\":true,\"ticks\":\"\",\"zerolinecolor\":\"white\",\"gridwidth\":2}},\"shapedefaults\":{\"line\":{\"color\":\"#2a3f5f\"}},\"annotationdefaults\":{\"arrowcolor\":\"#2a3f5f\",\"arrowhead\":0,\"arrowwidth\":1},\"geo\":{\"bgcolor\":\"white\",\"landcolor\":\"#E5ECF6\",\"subunitcolor\":\"white\",\"showland\":true,\"showlakes\":true,\"lakecolor\":\"white\"},\"title\":{\"x\":0.05},\"mapbox\":{\"style\":\"light\"}}},\"xaxis\":{\"anchor\":\"y\",\"domain\":[0.0,1.0],\"scaleanchor\":\"y\",\"constrain\":\"domain\",\"title\":{\"text\":\"Head\"}},\"yaxis\":{\"anchor\":\"x\",\"domain\":[0.0,1.0],\"autorange\":\"reversed\",\"constrain\":\"domain\",\"title\":{\"text\":\"Layer\"}},\"coloraxis\":{\"colorscale\":[[0.0,\"rgb(103,0,31)\"],[0.1,\"rgb(178,24,43)\"],[0.2,\"rgb(214,96,77)\"],[0.3,\"rgb(244,165,130)\"],[0.4,\"rgb(253,219,199)\"],[0.5,\"rgb(247,247,247)\"],[0.6,\"rgb(209,229,240)\"],[0.7,\"rgb(146,197,222)\"],[0.8,\"rgb(67,147,195)\"],[0.9,\"rgb(33,102,172)\"],[1.0,\"rgb(5,48,97)\"]],\"cmid\":0.0},\"title\":{\"text\":\"Logit Difference From Patched Head Pattern\"}},                        {\"responsive\": true}                    ).then(function(){\n",
       "                            \n",
       "var gd = document.getElementById('120210d3-8eef-4bfd-9650-1891c117e84a');\n",
       "var x = new MutationObserver(function (mutations, observer) {{\n",
       "        var display = window.getComputedStyle(gd).display;\n",
       "        if (!display || display === 'none') {{\n",
       "            console.log([gd, 'removed!']);\n",
       "            Plotly.purge(gd);\n",
       "            observer.disconnect();\n",
       "        }}\n",
       "}});\n",
       "\n",
       "// Listen for the removal of the full notebook cells\n",
       "var notebookContainer = gd.closest('#notebook-container');\n",
       "if (notebookContainer) {{\n",
       "    x.observe(notebookContainer, {childList: true});\n",
       "}}\n",
       "\n",
       "// Listen for the clearing of the current output cell\n",
       "var outputEl = gd.closest('.output');\n",
       "if (outputEl) {{\n",
       "    x.observe(outputEl, {childList: true});\n",
       "}}\n",
       "\n",
       "                        })                };                });            </script>        </div>"
      ]
     },
     "metadata": {},
     "output_type": "display_data"
    },
    {
     "data": {
      "application/vnd.plotly.v1+json": {
       "config": {
        "plotlyServerURL": "https://plot.ly"
       },
       "data": [
        {
         "hovertemplate": "<b>%{hovertext}</b><br><br>Attention Patch=%{x}<br>Output Patch=%{y}<extra></extra>",
         "hovertext": [
          "L0H0",
          "L0H1",
          "L0H2",
          "L0H3",
          "L0H4",
          "L0H5",
          "L0H6",
          "L0H7",
          "L0H8",
          "L0H9",
          "L0H10",
          "L0H11",
          "L1H0",
          "L1H1",
          "L1H2",
          "L1H3",
          "L1H4",
          "L1H5",
          "L1H6",
          "L1H7",
          "L1H8",
          "L1H9",
          "L1H10",
          "L1H11",
          "L2H0",
          "L2H1",
          "L2H2",
          "L2H3",
          "L2H4",
          "L2H5",
          "L2H6",
          "L2H7",
          "L2H8",
          "L2H9",
          "L2H10",
          "L2H11",
          "L3H0",
          "L3H1",
          "L3H2",
          "L3H3",
          "L3H4",
          "L3H5",
          "L3H6",
          "L3H7",
          "L3H8",
          "L3H9",
          "L3H10",
          "L3H11",
          "L4H0",
          "L4H1",
          "L4H2",
          "L4H3",
          "L4H4",
          "L4H5",
          "L4H6",
          "L4H7",
          "L4H8",
          "L4H9",
          "L4H10",
          "L4H11",
          "L5H0",
          "L5H1",
          "L5H2",
          "L5H3",
          "L5H4",
          "L5H5",
          "L5H6",
          "L5H7",
          "L5H8",
          "L5H9",
          "L5H10",
          "L5H11",
          "L6H0",
          "L6H1",
          "L6H2",
          "L6H3",
          "L6H4",
          "L6H5",
          "L6H6",
          "L6H7",
          "L6H8",
          "L6H9",
          "L6H10",
          "L6H11",
          "L7H0",
          "L7H1",
          "L7H2",
          "L7H3",
          "L7H4",
          "L7H5",
          "L7H6",
          "L7H7",
          "L7H8",
          "L7H9",
          "L7H10",
          "L7H11",
          "L8H0",
          "L8H1",
          "L8H2",
          "L8H3",
          "L8H4",
          "L8H5",
          "L8H6",
          "L8H7",
          "L8H8",
          "L8H9",
          "L8H10",
          "L8H11",
          "L9H0",
          "L9H1",
          "L9H2",
          "L9H3",
          "L9H4",
          "L9H5",
          "L9H6",
          "L9H7",
          "L9H8",
          "L9H9",
          "L9H10",
          "L9H11",
          "L10H0",
          "L10H1",
          "L10H2",
          "L10H3",
          "L10H4",
          "L10H5",
          "L10H6",
          "L10H7",
          "L10H8",
          "L10H9",
          "L10H10",
          "L10H11",
          "L11H0",
          "L11H1",
          "L11H2",
          "L11H3",
          "L11H4",
          "L11H5",
          "L11H6",
          "L11H7",
          "L11H8",
          "L11H9",
          "L11H10",
          "L11H11"
         ],
         "legendgroup": "",
         "marker": {
          "color": "#636efa",
          "symbol": "circle"
         },
         "mode": "markers",
         "name": "",
         "orientation": "v",
         "showlegend": false,
         "type": "scatter",
         "x": [
          -0.005076971370726824,
          -0.1446218639612198,
          -0.011396476998925209,
          0.00961462501436472,
          0.004741066601127386,
          -0.0011719982139766216,
          0.0034975025337189436,
          -0.00003651231963885948,
          0.007088281214237213,
          -0.012240637093782425,
          -0.03597373142838478,
          -0.004444077145308256,
          0.00015432997315656394,
          -0.009571590460836887,
          0.00005307372339302674,
          0.0023141345009207726,
          -0.00163460208568722,
          0.030774394050240517,
          -0.007558436132967472,
          -0.004127737134695053,
          0.007144658360630274,
          -0.0024559791199862957,
          -0.001966216368600726,
          0.02765621617436409,
          -0.0005326679674908519,
          -0.0012397455284371972,
          0.011652450077235699,
          -0.000791300495620817,
          0.014756683260202408,
          -0.0016894348664209247,
          0.0047092740423977375,
          -0.003651660867035389,
          -0.008494884707033634,
          -0.006930476054549217,
          -0.003807578468695283,
          -0.0009962585754692554,
          -0.08237243443727493,
          -0.004903892055153847,
          -0.026540465652942657,
          -0.005552532617002726,
          -0.024787703529000282,
          0.005279612727463245,
          -0.05364719405770302,
          -0.017985127866268158,
          -0.0015182431088760495,
          0.0034681984689086676,
          0.0011992859654128551,
          -0.007449199445545673,
          0.0024207967799156904,
          -0.020356453955173492,
          0.006904518231749535,
          -0.028754502534866333,
          -0.014111303724348545,
          0.0044750976376235485,
          -0.024126920849084854,
          -0.0024069813080132008,
          0.0020536999218165874,
          -0.0054112887009978294,
          -0.011449422687292099,
          -0.00004376329525257461,
          0.008624287322163582,
          0.02064872533082962,
          0.015710165724158287,
          -0.009039738215506077,
          0.0012485411716625094,
          -0.22452832758426666,
          0.01424937229603529,
          0.0013700915733352304,
          -0.052572377026081085,
          -0.017702767625451088,
          -0.02554944157600403,
          -0.0038017432671040297,
          -0.012285730801522732,
          -0.02787734940648079,
          -0.004118727054446936,
          0.00906964298337698,
          -0.0058275549672544,
          0.0019841506145894527,
          -0.016017194837331772,
          -0.010222033597528934,
          -0.004124047234654427,
          0.01627582684159279,
          -0.0005088126636110246,
          -0.006214645691215992,
          -0.008731978945434093,
          -0.008653591386973858,
          -0.013721896335482597,
          -0.03891483694314957,
          -0.005745477508753538,
          0.0021338039077818394,
          0.006299898028373718,
          0.005274764262139797,
          -0.002164052100852132,
          -0.05435946211218834,
          0.002372871618717909,
          0.00428288197144866,
          -0.0051540290005505085,
          -0.002600011881440878,
          -0.008631237782537937,
          0.017188936471939087,
          -0.000059638219681801274,
          -0.0009090752573683858,
          -0.032995980232954025,
          0.005614916794002056,
          0.010311920195817947,
          0.003565979190170765,
          -0.03540879860520363,
          -0.008114487864077091,
          0.005103057716041803,
          0.013236680999398232,
          0.018960362300276756,
          -0.0013554180040955544,
          -0.001672229846008122,
          0.0026447619311511517,
          -0.033703189343214035,
          -0.19947396218776703,
          -0.011013505980372429,
          -0.09845312684774399,
          0.0014938301173970103,
          0.007399257738143206,
          0.12118589133024216,
          0.03865298628807068,
          -0.07839997112751007,
          -0.01734875701367855,
          0.00945759192109108,
          0.002882070606574416,
          0.06970059871673584,
          -0.26111581921577454,
          -0.0022737178951501846,
          0.0005013042828068137,
          -0.015980811789631844,
          0.001378543907776475,
          -0.0024212258867919445,
          0.09102083742618561,
          -0.11608300358057022,
          -0.006312512326985598,
          0.00710634421557188,
          -0.02348930574953556,
          -0.02237531542778015,
          0.008658654056489468,
          0.0008024987182579935,
          0.08126955479383469,
          -0.3214975595474243,
          -0.00323655316606164
         ],
         "xaxis": "x",
         "y": [
          0.027604686096310616,
          -0.17525604367256165,
          0.0575047992169857,
          0.10173237323760986,
          0.03230014443397522,
          -0.004374356009066105,
          0.01860094629228115,
          0.015283344313502312,
          0.005278926342725754,
          0.0031555911991745234,
          -0.08810006082057953,
          -0.015406182035803795,
          -0.006304961163550615,
          -0.014976143836975098,
          -0.005799323320388794,
          0.003807578468695283,
          -0.007701096124947071,
          -0.027228236198425293,
          0.0018192660063505173,
          -0.006768336985260248,
          0.01015153992921114,
          -0.004818896763026714,
          -0.018635742366313934,
          0.03841941058635712,
          0.004197672475129366,
          -0.0008290141122415662,
          0.035190239548683167,
          0.01902519166469574,
          0.003309449180960655,
          -0.0035217441618442535,
          -0.012830025516450405,
          -0.008340512402355671,
          0.0008768963161855936,
          -0.0020281283650547266,
          -0.006527596153318882,
          -0.008000616915524006,
          -0.05992220714688301,
          -0.021362151950597763,
          -0.016064004972577095,
          -0.0012019460555166006,
          -0.10464130342006683,
          -0.016974110156297684,
          0.03542239964008331,
          0.01168673112988472,
          -0.0019124561222270131,
          0.014176648110151291,
          0.020774737000465393,
          0.0016796954441815615,
          -0.0015889938222244382,
          -0.015309430658817291,
          0.00615200400352478,
          0.14682114124298096,
          -0.06591327488422394,
          0.009469390846788883,
          -0.04345386475324631,
          -0.0011275485157966614,
          0.006170710548758507,
          -0.0155936349183321,
          -0.0014765392988920212,
          0.012955738231539726,
          0.004133142996579409,
          0.019387012347579002,
          0.05480816587805748,
          -0.01271915901452303,
          -0.007424657698720694,
          -0.22583165764808655,
          0.03330545499920845,
          0.016696127131581306,
          -0.06560778617858887,
          -0.10944321006536484,
          -0.010508297011256218,
          -0.036419257521629333,
          0.17250555753707886,
          -0.05415506288409233,
          0.004544903989881277,
          0.011823555454611778,
          -0.0032367678359150887,
          -0.024921180680394173,
          -0.03612273931503296,
          0.002839551540091634,
          -0.0027994781266897917,
          0.012980193831026554,
          -0.007318038493394852,
          0.019179049879312515,
          0.004359253216534853,
          -0.00534564396366477,
          0.0028034253045916557,
          0.11326748132705688,
          0.0015731188468635082,
          -0.018593352288007736,
          0.011171482503414154,
          0.000920616730581969,
          0.021533988416194916,
          0.28129810094833374,
          -0.004104825668036938,
          0.0038139712996780872,
          -0.004469262436032295,
          -0.004050679039210081,
          -0.014173815958201885,
          -0.016129564493894577,
          -0.004331021569669247,
          0.03133730962872505,
          -0.07597458362579346,
          0.01659821718931198,
          0.005286606028676033,
          -0.006474522408097982,
          0.3398260474205017,
          -0.019245339557528496,
          -0.0037321511190384626,
          0.027829939499497414,
          -0.005505036562681198,
          0.015423472970724106,
          -0.06413858383893967,
          0.045362330973148346,
          0.04280693829059601,
          0.2307412177324295,
          -0.01744808256626129,
          0.3614153265953064,
          0.001073144725523889,
          0.02867070958018303,
          0.29022523760795593,
          0.04568703845143318,
          -0.08170203864574432,
          -0.004223715979605913,
          0.0052661835215985775,
          0.0018925052136182785,
          0.02020568586885929,
          -0.17669101059436798,
          -0.009186516515910625,
          0.004714937414973974,
          0.046592336148023605,
          -0.024440256878733635,
          0.018546799197793007,
          -0.10287884622812271,
          -0.2649326026439667,
          -0.002515746047720313,
          -0.0003237625933252275,
          -0.03249158710241318,
          -0.05200924724340439,
          0.020751353353261948,
          0.003457128768786788,
          0.024378130212426186,
          -0.40415331721305847,
          0.004604842513799667
         ],
         "yaxis": "y"
        }
       ],
       "layout": {
        "legend": {
         "tracegroupgap": 0
        },
        "template": {
         "data": {
          "bar": [
           {
            "error_x": {
             "color": "#2a3f5f"
            },
            "error_y": {
             "color": "#2a3f5f"
            },
            "marker": {
             "line": {
              "color": "#E5ECF6",
              "width": 0.5
             },
             "pattern": {
              "fillmode": "overlay",
              "size": 10,
              "solidity": 0.2
             }
            },
            "type": "bar"
           }
          ],
          "barpolar": [
           {
            "marker": {
             "line": {
              "color": "#E5ECF6",
              "width": 0.5
             },
             "pattern": {
              "fillmode": "overlay",
              "size": 10,
              "solidity": 0.2
             }
            },
            "type": "barpolar"
           }
          ],
          "carpet": [
           {
            "aaxis": {
             "endlinecolor": "#2a3f5f",
             "gridcolor": "white",
             "linecolor": "white",
             "minorgridcolor": "white",
             "startlinecolor": "#2a3f5f"
            },
            "baxis": {
             "endlinecolor": "#2a3f5f",
             "gridcolor": "white",
             "linecolor": "white",
             "minorgridcolor": "white",
             "startlinecolor": "#2a3f5f"
            },
            "type": "carpet"
           }
          ],
          "choropleth": [
           {
            "colorbar": {
             "outlinewidth": 0,
             "ticks": ""
            },
            "type": "choropleth"
           }
          ],
          "contour": [
           {
            "colorbar": {
             "outlinewidth": 0,
             "ticks": ""
            },
            "colorscale": [
             [
              0,
              "#0d0887"
             ],
             [
              0.1111111111111111,
              "#46039f"
             ],
             [
              0.2222222222222222,
              "#7201a8"
             ],
             [
              0.3333333333333333,
              "#9c179e"
             ],
             [
              0.4444444444444444,
              "#bd3786"
             ],
             [
              0.5555555555555556,
              "#d8576b"
             ],
             [
              0.6666666666666666,
              "#ed7953"
             ],
             [
              0.7777777777777778,
              "#fb9f3a"
             ],
             [
              0.8888888888888888,
              "#fdca26"
             ],
             [
              1,
              "#f0f921"
             ]
            ],
            "type": "contour"
           }
          ],
          "contourcarpet": [
           {
            "colorbar": {
             "outlinewidth": 0,
             "ticks": ""
            },
            "type": "contourcarpet"
           }
          ],
          "heatmap": [
           {
            "colorbar": {
             "outlinewidth": 0,
             "ticks": ""
            },
            "colorscale": [
             [
              0,
              "#0d0887"
             ],
             [
              0.1111111111111111,
              "#46039f"
             ],
             [
              0.2222222222222222,
              "#7201a8"
             ],
             [
              0.3333333333333333,
              "#9c179e"
             ],
             [
              0.4444444444444444,
              "#bd3786"
             ],
             [
              0.5555555555555556,
              "#d8576b"
             ],
             [
              0.6666666666666666,
              "#ed7953"
             ],
             [
              0.7777777777777778,
              "#fb9f3a"
             ],
             [
              0.8888888888888888,
              "#fdca26"
             ],
             [
              1,
              "#f0f921"
             ]
            ],
            "type": "heatmap"
           }
          ],
          "heatmapgl": [
           {
            "colorbar": {
             "outlinewidth": 0,
             "ticks": ""
            },
            "colorscale": [
             [
              0,
              "#0d0887"
             ],
             [
              0.1111111111111111,
              "#46039f"
             ],
             [
              0.2222222222222222,
              "#7201a8"
             ],
             [
              0.3333333333333333,
              "#9c179e"
             ],
             [
              0.4444444444444444,
              "#bd3786"
             ],
             [
              0.5555555555555556,
              "#d8576b"
             ],
             [
              0.6666666666666666,
              "#ed7953"
             ],
             [
              0.7777777777777778,
              "#fb9f3a"
             ],
             [
              0.8888888888888888,
              "#fdca26"
             ],
             [
              1,
              "#f0f921"
             ]
            ],
            "type": "heatmapgl"
           }
          ],
          "histogram": [
           {
            "marker": {
             "pattern": {
              "fillmode": "overlay",
              "size": 10,
              "solidity": 0.2
             }
            },
            "type": "histogram"
           }
          ],
          "histogram2d": [
           {
            "colorbar": {
             "outlinewidth": 0,
             "ticks": ""
            },
            "colorscale": [
             [
              0,
              "#0d0887"
             ],
             [
              0.1111111111111111,
              "#46039f"
             ],
             [
              0.2222222222222222,
              "#7201a8"
             ],
             [
              0.3333333333333333,
              "#9c179e"
             ],
             [
              0.4444444444444444,
              "#bd3786"
             ],
             [
              0.5555555555555556,
              "#d8576b"
             ],
             [
              0.6666666666666666,
              "#ed7953"
             ],
             [
              0.7777777777777778,
              "#fb9f3a"
             ],
             [
              0.8888888888888888,
              "#fdca26"
             ],
             [
              1,
              "#f0f921"
             ]
            ],
            "type": "histogram2d"
           }
          ],
          "histogram2dcontour": [
           {
            "colorbar": {
             "outlinewidth": 0,
             "ticks": ""
            },
            "colorscale": [
             [
              0,
              "#0d0887"
             ],
             [
              0.1111111111111111,
              "#46039f"
             ],
             [
              0.2222222222222222,
              "#7201a8"
             ],
             [
              0.3333333333333333,
              "#9c179e"
             ],
             [
              0.4444444444444444,
              "#bd3786"
             ],
             [
              0.5555555555555556,
              "#d8576b"
             ],
             [
              0.6666666666666666,
              "#ed7953"
             ],
             [
              0.7777777777777778,
              "#fb9f3a"
             ],
             [
              0.8888888888888888,
              "#fdca26"
             ],
             [
              1,
              "#f0f921"
             ]
            ],
            "type": "histogram2dcontour"
           }
          ],
          "mesh3d": [
           {
            "colorbar": {
             "outlinewidth": 0,
             "ticks": ""
            },
            "type": "mesh3d"
           }
          ],
          "parcoords": [
           {
            "line": {
             "colorbar": {
              "outlinewidth": 0,
              "ticks": ""
             }
            },
            "type": "parcoords"
           }
          ],
          "pie": [
           {
            "automargin": true,
            "type": "pie"
           }
          ],
          "scatter": [
           {
            "fillpattern": {
             "fillmode": "overlay",
             "size": 10,
             "solidity": 0.2
            },
            "type": "scatter"
           }
          ],
          "scatter3d": [
           {
            "line": {
             "colorbar": {
              "outlinewidth": 0,
              "ticks": ""
             }
            },
            "marker": {
             "colorbar": {
              "outlinewidth": 0,
              "ticks": ""
             }
            },
            "type": "scatter3d"
           }
          ],
          "scattercarpet": [
           {
            "marker": {
             "colorbar": {
              "outlinewidth": 0,
              "ticks": ""
             }
            },
            "type": "scattercarpet"
           }
          ],
          "scattergeo": [
           {
            "marker": {
             "colorbar": {
              "outlinewidth": 0,
              "ticks": ""
             }
            },
            "type": "scattergeo"
           }
          ],
          "scattergl": [
           {
            "marker": {
             "colorbar": {
              "outlinewidth": 0,
              "ticks": ""
             }
            },
            "type": "scattergl"
           }
          ],
          "scattermapbox": [
           {
            "marker": {
             "colorbar": {
              "outlinewidth": 0,
              "ticks": ""
             }
            },
            "type": "scattermapbox"
           }
          ],
          "scatterpolar": [
           {
            "marker": {
             "colorbar": {
              "outlinewidth": 0,
              "ticks": ""
             }
            },
            "type": "scatterpolar"
           }
          ],
          "scatterpolargl": [
           {
            "marker": {
             "colorbar": {
              "outlinewidth": 0,
              "ticks": ""
             }
            },
            "type": "scatterpolargl"
           }
          ],
          "scatterternary": [
           {
            "marker": {
             "colorbar": {
              "outlinewidth": 0,
              "ticks": ""
             }
            },
            "type": "scatterternary"
           }
          ],
          "surface": [
           {
            "colorbar": {
             "outlinewidth": 0,
             "ticks": ""
            },
            "colorscale": [
             [
              0,
              "#0d0887"
             ],
             [
              0.1111111111111111,
              "#46039f"
             ],
             [
              0.2222222222222222,
              "#7201a8"
             ],
             [
              0.3333333333333333,
              "#9c179e"
             ],
             [
              0.4444444444444444,
              "#bd3786"
             ],
             [
              0.5555555555555556,
              "#d8576b"
             ],
             [
              0.6666666666666666,
              "#ed7953"
             ],
             [
              0.7777777777777778,
              "#fb9f3a"
             ],
             [
              0.8888888888888888,
              "#fdca26"
             ],
             [
              1,
              "#f0f921"
             ]
            ],
            "type": "surface"
           }
          ],
          "table": [
           {
            "cells": {
             "fill": {
              "color": "#EBF0F8"
             },
             "line": {
              "color": "white"
             }
            },
            "header": {
             "fill": {
              "color": "#C8D4E3"
             },
             "line": {
              "color": "white"
             }
            },
            "type": "table"
           }
          ]
         },
         "layout": {
          "annotationdefaults": {
           "arrowcolor": "#2a3f5f",
           "arrowhead": 0,
           "arrowwidth": 1
          },
          "autotypenumbers": "strict",
          "coloraxis": {
           "colorbar": {
            "outlinewidth": 0,
            "ticks": ""
           }
          },
          "colorscale": {
           "diverging": [
            [
             0,
             "#8e0152"
            ],
            [
             0.1,
             "#c51b7d"
            ],
            [
             0.2,
             "#de77ae"
            ],
            [
             0.3,
             "#f1b6da"
            ],
            [
             0.4,
             "#fde0ef"
            ],
            [
             0.5,
             "#f7f7f7"
            ],
            [
             0.6,
             "#e6f5d0"
            ],
            [
             0.7,
             "#b8e186"
            ],
            [
             0.8,
             "#7fbc41"
            ],
            [
             0.9,
             "#4d9221"
            ],
            [
             1,
             "#276419"
            ]
           ],
           "sequential": [
            [
             0,
             "#0d0887"
            ],
            [
             0.1111111111111111,
             "#46039f"
            ],
            [
             0.2222222222222222,
             "#7201a8"
            ],
            [
             0.3333333333333333,
             "#9c179e"
            ],
            [
             0.4444444444444444,
             "#bd3786"
            ],
            [
             0.5555555555555556,
             "#d8576b"
            ],
            [
             0.6666666666666666,
             "#ed7953"
            ],
            [
             0.7777777777777778,
             "#fb9f3a"
            ],
            [
             0.8888888888888888,
             "#fdca26"
            ],
            [
             1,
             "#f0f921"
            ]
           ],
           "sequentialminus": [
            [
             0,
             "#0d0887"
            ],
            [
             0.1111111111111111,
             "#46039f"
            ],
            [
             0.2222222222222222,
             "#7201a8"
            ],
            [
             0.3333333333333333,
             "#9c179e"
            ],
            [
             0.4444444444444444,
             "#bd3786"
            ],
            [
             0.5555555555555556,
             "#d8576b"
            ],
            [
             0.6666666666666666,
             "#ed7953"
            ],
            [
             0.7777777777777778,
             "#fb9f3a"
            ],
            [
             0.8888888888888888,
             "#fdca26"
            ],
            [
             1,
             "#f0f921"
            ]
           ]
          },
          "colorway": [
           "#636efa",
           "#EF553B",
           "#00cc96",
           "#ab63fa",
           "#FFA15A",
           "#19d3f3",
           "#FF6692",
           "#B6E880",
           "#FF97FF",
           "#FECB52"
          ],
          "font": {
           "color": "#2a3f5f"
          },
          "geo": {
           "bgcolor": "white",
           "lakecolor": "white",
           "landcolor": "#E5ECF6",
           "showlakes": true,
           "showland": true,
           "subunitcolor": "white"
          },
          "hoverlabel": {
           "align": "left"
          },
          "hovermode": "closest",
          "mapbox": {
           "style": "light"
          },
          "paper_bgcolor": "white",
          "plot_bgcolor": "#E5ECF6",
          "polar": {
           "angularaxis": {
            "gridcolor": "white",
            "linecolor": "white",
            "ticks": ""
           },
           "bgcolor": "#E5ECF6",
           "radialaxis": {
            "gridcolor": "white",
            "linecolor": "white",
            "ticks": ""
           }
          },
          "scene": {
           "xaxis": {
            "backgroundcolor": "#E5ECF6",
            "gridcolor": "white",
            "gridwidth": 2,
            "linecolor": "white",
            "showbackground": true,
            "ticks": "",
            "zerolinecolor": "white"
           },
           "yaxis": {
            "backgroundcolor": "#E5ECF6",
            "gridcolor": "white",
            "gridwidth": 2,
            "linecolor": "white",
            "showbackground": true,
            "ticks": "",
            "zerolinecolor": "white"
           },
           "zaxis": {
            "backgroundcolor": "#E5ECF6",
            "gridcolor": "white",
            "gridwidth": 2,
            "linecolor": "white",
            "showbackground": true,
            "ticks": "",
            "zerolinecolor": "white"
           }
          },
          "shapedefaults": {
           "line": {
            "color": "#2a3f5f"
           }
          },
          "ternary": {
           "aaxis": {
            "gridcolor": "white",
            "linecolor": "white",
            "ticks": ""
           },
           "baxis": {
            "gridcolor": "white",
            "linecolor": "white",
            "ticks": ""
           },
           "bgcolor": "#E5ECF6",
           "caxis": {
            "gridcolor": "white",
            "linecolor": "white",
            "ticks": ""
           }
          },
          "title": {
           "x": 0.05
          },
          "xaxis": {
           "automargin": true,
           "gridcolor": "white",
           "linecolor": "white",
           "ticks": "",
           "title": {
            "standoff": 15
           },
           "zerolinecolor": "white",
           "zerolinewidth": 2
          },
          "yaxis": {
           "automargin": true,
           "gridcolor": "white",
           "linecolor": "white",
           "ticks": "",
           "title": {
            "standoff": 15
           },
           "zerolinecolor": "white",
           "zerolinewidth": 2
          }
         }
        },
        "title": {
         "text": "Scatter plot of output patching vs attention patching"
        },
        "xaxis": {
         "anchor": "y",
         "domain": [
          0,
          1
         ],
         "title": {
          "text": "Attention Patch"
         }
        },
        "yaxis": {
         "anchor": "x",
         "domain": [
          0,
          1
         ],
         "title": {
          "text": "Output Patch"
         }
        }
       }
      },
      "text/html": [
       "<div>                            <div id=\"9a8bf488-074c-4f95-89d2-c895b253ba32\" class=\"plotly-graph-div\" style=\"height:525px; width:100%;\"></div>            <script type=\"text/javascript\">                require([\"plotly\"], function(Plotly) {                    window.PLOTLYENV=window.PLOTLYENV || {};                                    if (document.getElementById(\"9a8bf488-074c-4f95-89d2-c895b253ba32\")) {                    Plotly.newPlot(                        \"9a8bf488-074c-4f95-89d2-c895b253ba32\",                        [{\"hovertemplate\":\"\\u003cb\\u003e%{hovertext}\\u003c\\u002fb\\u003e\\u003cbr\\u003e\\u003cbr\\u003eAttention Patch=%{x}\\u003cbr\\u003eOutput Patch=%{y}\\u003cextra\\u003e\\u003c\\u002fextra\\u003e\",\"hovertext\":[\"L0H0\",\"L0H1\",\"L0H2\",\"L0H3\",\"L0H4\",\"L0H5\",\"L0H6\",\"L0H7\",\"L0H8\",\"L0H9\",\"L0H10\",\"L0H11\",\"L1H0\",\"L1H1\",\"L1H2\",\"L1H3\",\"L1H4\",\"L1H5\",\"L1H6\",\"L1H7\",\"L1H8\",\"L1H9\",\"L1H10\",\"L1H11\",\"L2H0\",\"L2H1\",\"L2H2\",\"L2H3\",\"L2H4\",\"L2H5\",\"L2H6\",\"L2H7\",\"L2H8\",\"L2H9\",\"L2H10\",\"L2H11\",\"L3H0\",\"L3H1\",\"L3H2\",\"L3H3\",\"L3H4\",\"L3H5\",\"L3H6\",\"L3H7\",\"L3H8\",\"L3H9\",\"L3H10\",\"L3H11\",\"L4H0\",\"L4H1\",\"L4H2\",\"L4H3\",\"L4H4\",\"L4H5\",\"L4H6\",\"L4H7\",\"L4H8\",\"L4H9\",\"L4H10\",\"L4H11\",\"L5H0\",\"L5H1\",\"L5H2\",\"L5H3\",\"L5H4\",\"L5H5\",\"L5H6\",\"L5H7\",\"L5H8\",\"L5H9\",\"L5H10\",\"L5H11\",\"L6H0\",\"L6H1\",\"L6H2\",\"L6H3\",\"L6H4\",\"L6H5\",\"L6H6\",\"L6H7\",\"L6H8\",\"L6H9\",\"L6H10\",\"L6H11\",\"L7H0\",\"L7H1\",\"L7H2\",\"L7H3\",\"L7H4\",\"L7H5\",\"L7H6\",\"L7H7\",\"L7H8\",\"L7H9\",\"L7H10\",\"L7H11\",\"L8H0\",\"L8H1\",\"L8H2\",\"L8H3\",\"L8H4\",\"L8H5\",\"L8H6\",\"L8H7\",\"L8H8\",\"L8H9\",\"L8H10\",\"L8H11\",\"L9H0\",\"L9H1\",\"L9H2\",\"L9H3\",\"L9H4\",\"L9H5\",\"L9H6\",\"L9H7\",\"L9H8\",\"L9H9\",\"L9H10\",\"L9H11\",\"L10H0\",\"L10H1\",\"L10H2\",\"L10H3\",\"L10H4\",\"L10H5\",\"L10H6\",\"L10H7\",\"L10H8\",\"L10H9\",\"L10H10\",\"L10H11\",\"L11H0\",\"L11H1\",\"L11H2\",\"L11H3\",\"L11H4\",\"L11H5\",\"L11H6\",\"L11H7\",\"L11H8\",\"L11H9\",\"L11H10\",\"L11H11\"],\"legendgroup\":\"\",\"marker\":{\"color\":\"#636efa\",\"symbol\":\"circle\"},\"mode\":\"markers\",\"name\":\"\",\"orientation\":\"v\",\"showlegend\":false,\"x\":[-0.005076971370726824,-0.1446218639612198,-0.011396476998925209,0.00961462501436472,0.004741066601127386,-0.0011719982139766216,0.0034975025337189436,-3.651231963885948e-05,0.007088281214237213,-0.012240637093782425,-0.03597373142838478,-0.004444077145308256,0.00015432997315656394,-0.009571590460836887,5.307372339302674e-05,0.0023141345009207726,-0.00163460208568722,0.030774394050240517,-0.007558436132967472,-0.004127737134695053,0.007144658360630274,-0.0024559791199862957,-0.001966216368600726,0.02765621617436409,-0.0005326679674908519,-0.0012397455284371972,0.011652450077235699,-0.000791300495620817,0.014756683260202408,-0.0016894348664209247,0.0047092740423977375,-0.003651660867035389,-0.008494884707033634,-0.006930476054549217,-0.003807578468695283,-0.0009962585754692554,-0.08237243443727493,-0.004903892055153847,-0.026540465652942657,-0.005552532617002726,-0.024787703529000282,0.005279612727463245,-0.05364719405770302,-0.017985127866268158,-0.0015182431088760495,0.0034681984689086676,0.0011992859654128551,-0.007449199445545673,0.0024207967799156904,-0.020356453955173492,0.006904518231749535,-0.028754502534866333,-0.014111303724348545,0.0044750976376235485,-0.024126920849084854,-0.0024069813080132008,0.0020536999218165874,-0.0054112887009978294,-0.011449422687292099,-4.376329525257461e-05,0.008624287322163582,0.02064872533082962,0.015710165724158287,-0.009039738215506077,0.0012485411716625094,-0.22452832758426666,0.01424937229603529,0.0013700915733352304,-0.052572377026081085,-0.017702767625451088,-0.02554944157600403,-0.0038017432671040297,-0.012285730801522732,-0.02787734940648079,-0.004118727054446936,0.00906964298337698,-0.0058275549672544,0.0019841506145894527,-0.016017194837331772,-0.010222033597528934,-0.004124047234654427,0.01627582684159279,-0.0005088126636110246,-0.006214645691215992,-0.008731978945434093,-0.008653591386973858,-0.013721896335482597,-0.03891483694314957,-0.005745477508753538,0.0021338039077818394,0.006299898028373718,0.005274764262139797,-0.002164052100852132,-0.05435946211218834,0.002372871618717909,0.00428288197144866,-0.0051540290005505085,-0.002600011881440878,-0.008631237782537937,0.017188936471939087,-5.9638219681801274e-05,-0.0009090752573683858,-0.032995980232954025,0.005614916794002056,0.010311920195817947,0.003565979190170765,-0.03540879860520363,-0.008114487864077091,0.005103057716041803,0.013236680999398232,0.018960362300276756,-0.0013554180040955544,-0.001672229846008122,0.0026447619311511517,-0.033703189343214035,-0.19947396218776703,-0.011013505980372429,-0.09845312684774399,0.0014938301173970103,0.007399257738143206,0.12118589133024216,0.03865298628807068,-0.07839997112751007,-0.01734875701367855,0.00945759192109108,0.002882070606574416,0.06970059871673584,-0.26111581921577454,-0.0022737178951501846,0.0005013042828068137,-0.015980811789631844,0.001378543907776475,-0.0024212258867919445,0.09102083742618561,-0.11608300358057022,-0.006312512326985598,0.00710634421557188,-0.02348930574953556,-0.02237531542778015,0.008658654056489468,0.0008024987182579935,0.08126955479383469,-0.3214975595474243,-0.00323655316606164],\"xaxis\":\"x\",\"y\":[0.027604686096310616,-0.17525604367256165,0.0575047992169857,0.10173237323760986,0.03230014443397522,-0.004374356009066105,0.01860094629228115,0.015283344313502312,0.005278926342725754,0.0031555911991745234,-0.08810006082057953,-0.015406182035803795,-0.006304961163550615,-0.014976143836975098,-0.005799323320388794,0.003807578468695283,-0.007701096124947071,-0.027228236198425293,0.0018192660063505173,-0.006768336985260248,0.01015153992921114,-0.004818896763026714,-0.018635742366313934,0.03841941058635712,0.004197672475129366,-0.0008290141122415662,0.035190239548683167,0.01902519166469574,0.003309449180960655,-0.0035217441618442535,-0.012830025516450405,-0.008340512402355671,0.0008768963161855936,-0.0020281283650547266,-0.006527596153318882,-0.008000616915524006,-0.05992220714688301,-0.021362151950597763,-0.016064004972577095,-0.0012019460555166006,-0.10464130342006683,-0.016974110156297684,0.03542239964008331,0.01168673112988472,-0.0019124561222270131,0.014176648110151291,0.020774737000465393,0.0016796954441815615,-0.0015889938222244382,-0.015309430658817291,0.00615200400352478,0.14682114124298096,-0.06591327488422394,0.009469390846788883,-0.04345386475324631,-0.0011275485157966614,0.006170710548758507,-0.0155936349183321,-0.0014765392988920212,0.012955738231539726,0.004133142996579409,0.019387012347579002,0.05480816587805748,-0.01271915901452303,-0.007424657698720694,-0.22583165764808655,0.03330545499920845,0.016696127131581306,-0.06560778617858887,-0.10944321006536484,-0.010508297011256218,-0.036419257521629333,0.17250555753707886,-0.05415506288409233,0.004544903989881277,0.011823555454611778,-0.0032367678359150887,-0.024921180680394173,-0.03612273931503296,0.002839551540091634,-0.0027994781266897917,0.012980193831026554,-0.007318038493394852,0.019179049879312515,0.004359253216534853,-0.00534564396366477,0.0028034253045916557,0.11326748132705688,0.0015731188468635082,-0.018593352288007736,0.011171482503414154,0.000920616730581969,0.021533988416194916,0.28129810094833374,-0.004104825668036938,0.0038139712996780872,-0.004469262436032295,-0.004050679039210081,-0.014173815958201885,-0.016129564493894577,-0.004331021569669247,0.03133730962872505,-0.07597458362579346,0.01659821718931198,0.005286606028676033,-0.006474522408097982,0.3398260474205017,-0.019245339557528496,-0.0037321511190384626,0.027829939499497414,-0.005505036562681198,0.015423472970724106,-0.06413858383893967,0.045362330973148346,0.04280693829059601,0.2307412177324295,-0.01744808256626129,0.3614153265953064,0.001073144725523889,0.02867070958018303,0.29022523760795593,0.04568703845143318,-0.08170203864574432,-0.004223715979605913,0.0052661835215985775,0.0018925052136182785,0.02020568586885929,-0.17669101059436798,-0.009186516515910625,0.004714937414973974,0.046592336148023605,-0.024440256878733635,0.018546799197793007,-0.10287884622812271,-0.2649326026439667,-0.002515746047720313,-0.0003237625933252275,-0.03249158710241318,-0.05200924724340439,0.020751353353261948,0.003457128768786788,0.024378130212426186,-0.40415331721305847,0.004604842513799667],\"yaxis\":\"y\",\"type\":\"scatter\"}],                        {\"template\":{\"data\":{\"histogram2dcontour\":[{\"type\":\"histogram2dcontour\",\"colorbar\":{\"outlinewidth\":0,\"ticks\":\"\"},\"colorscale\":[[0.0,\"#0d0887\"],[0.1111111111111111,\"#46039f\"],[0.2222222222222222,\"#7201a8\"],[0.3333333333333333,\"#9c179e\"],[0.4444444444444444,\"#bd3786\"],[0.5555555555555556,\"#d8576b\"],[0.6666666666666666,\"#ed7953\"],[0.7777777777777778,\"#fb9f3a\"],[0.8888888888888888,\"#fdca26\"],[1.0,\"#f0f921\"]]}],\"choropleth\":[{\"type\":\"choropleth\",\"colorbar\":{\"outlinewidth\":0,\"ticks\":\"\"}}],\"histogram2d\":[{\"type\":\"histogram2d\",\"colorbar\":{\"outlinewidth\":0,\"ticks\":\"\"},\"colorscale\":[[0.0,\"#0d0887\"],[0.1111111111111111,\"#46039f\"],[0.2222222222222222,\"#7201a8\"],[0.3333333333333333,\"#9c179e\"],[0.4444444444444444,\"#bd3786\"],[0.5555555555555556,\"#d8576b\"],[0.6666666666666666,\"#ed7953\"],[0.7777777777777778,\"#fb9f3a\"],[0.8888888888888888,\"#fdca26\"],[1.0,\"#f0f921\"]]}],\"heatmap\":[{\"type\":\"heatmap\",\"colorbar\":{\"outlinewidth\":0,\"ticks\":\"\"},\"colorscale\":[[0.0,\"#0d0887\"],[0.1111111111111111,\"#46039f\"],[0.2222222222222222,\"#7201a8\"],[0.3333333333333333,\"#9c179e\"],[0.4444444444444444,\"#bd3786\"],[0.5555555555555556,\"#d8576b\"],[0.6666666666666666,\"#ed7953\"],[0.7777777777777778,\"#fb9f3a\"],[0.8888888888888888,\"#fdca26\"],[1.0,\"#f0f921\"]]}],\"heatmapgl\":[{\"type\":\"heatmapgl\",\"colorbar\":{\"outlinewidth\":0,\"ticks\":\"\"},\"colorscale\":[[0.0,\"#0d0887\"],[0.1111111111111111,\"#46039f\"],[0.2222222222222222,\"#7201a8\"],[0.3333333333333333,\"#9c179e\"],[0.4444444444444444,\"#bd3786\"],[0.5555555555555556,\"#d8576b\"],[0.6666666666666666,\"#ed7953\"],[0.7777777777777778,\"#fb9f3a\"],[0.8888888888888888,\"#fdca26\"],[1.0,\"#f0f921\"]]}],\"contourcarpet\":[{\"type\":\"contourcarpet\",\"colorbar\":{\"outlinewidth\":0,\"ticks\":\"\"}}],\"contour\":[{\"type\":\"contour\",\"colorbar\":{\"outlinewidth\":0,\"ticks\":\"\"},\"colorscale\":[[0.0,\"#0d0887\"],[0.1111111111111111,\"#46039f\"],[0.2222222222222222,\"#7201a8\"],[0.3333333333333333,\"#9c179e\"],[0.4444444444444444,\"#bd3786\"],[0.5555555555555556,\"#d8576b\"],[0.6666666666666666,\"#ed7953\"],[0.7777777777777778,\"#fb9f3a\"],[0.8888888888888888,\"#fdca26\"],[1.0,\"#f0f921\"]]}],\"surface\":[{\"type\":\"surface\",\"colorbar\":{\"outlinewidth\":0,\"ticks\":\"\"},\"colorscale\":[[0.0,\"#0d0887\"],[0.1111111111111111,\"#46039f\"],[0.2222222222222222,\"#7201a8\"],[0.3333333333333333,\"#9c179e\"],[0.4444444444444444,\"#bd3786\"],[0.5555555555555556,\"#d8576b\"],[0.6666666666666666,\"#ed7953\"],[0.7777777777777778,\"#fb9f3a\"],[0.8888888888888888,\"#fdca26\"],[1.0,\"#f0f921\"]]}],\"mesh3d\":[{\"type\":\"mesh3d\",\"colorbar\":{\"outlinewidth\":0,\"ticks\":\"\"}}],\"scatter\":[{\"fillpattern\":{\"fillmode\":\"overlay\",\"size\":10,\"solidity\":0.2},\"type\":\"scatter\"}],\"parcoords\":[{\"type\":\"parcoords\",\"line\":{\"colorbar\":{\"outlinewidth\":0,\"ticks\":\"\"}}}],\"scatterpolargl\":[{\"type\":\"scatterpolargl\",\"marker\":{\"colorbar\":{\"outlinewidth\":0,\"ticks\":\"\"}}}],\"bar\":[{\"error_x\":{\"color\":\"#2a3f5f\"},\"error_y\":{\"color\":\"#2a3f5f\"},\"marker\":{\"line\":{\"color\":\"#E5ECF6\",\"width\":0.5},\"pattern\":{\"fillmode\":\"overlay\",\"size\":10,\"solidity\":0.2}},\"type\":\"bar\"}],\"scattergeo\":[{\"type\":\"scattergeo\",\"marker\":{\"colorbar\":{\"outlinewidth\":0,\"ticks\":\"\"}}}],\"scatterpolar\":[{\"type\":\"scatterpolar\",\"marker\":{\"colorbar\":{\"outlinewidth\":0,\"ticks\":\"\"}}}],\"histogram\":[{\"marker\":{\"pattern\":{\"fillmode\":\"overlay\",\"size\":10,\"solidity\":0.2}},\"type\":\"histogram\"}],\"scattergl\":[{\"type\":\"scattergl\",\"marker\":{\"colorbar\":{\"outlinewidth\":0,\"ticks\":\"\"}}}],\"scatter3d\":[{\"type\":\"scatter3d\",\"line\":{\"colorbar\":{\"outlinewidth\":0,\"ticks\":\"\"}},\"marker\":{\"colorbar\":{\"outlinewidth\":0,\"ticks\":\"\"}}}],\"scattermapbox\":[{\"type\":\"scattermapbox\",\"marker\":{\"colorbar\":{\"outlinewidth\":0,\"ticks\":\"\"}}}],\"scatterternary\":[{\"type\":\"scatterternary\",\"marker\":{\"colorbar\":{\"outlinewidth\":0,\"ticks\":\"\"}}}],\"scattercarpet\":[{\"type\":\"scattercarpet\",\"marker\":{\"colorbar\":{\"outlinewidth\":0,\"ticks\":\"\"}}}],\"carpet\":[{\"aaxis\":{\"endlinecolor\":\"#2a3f5f\",\"gridcolor\":\"white\",\"linecolor\":\"white\",\"minorgridcolor\":\"white\",\"startlinecolor\":\"#2a3f5f\"},\"baxis\":{\"endlinecolor\":\"#2a3f5f\",\"gridcolor\":\"white\",\"linecolor\":\"white\",\"minorgridcolor\":\"white\",\"startlinecolor\":\"#2a3f5f\"},\"type\":\"carpet\"}],\"table\":[{\"cells\":{\"fill\":{\"color\":\"#EBF0F8\"},\"line\":{\"color\":\"white\"}},\"header\":{\"fill\":{\"color\":\"#C8D4E3\"},\"line\":{\"color\":\"white\"}},\"type\":\"table\"}],\"barpolar\":[{\"marker\":{\"line\":{\"color\":\"#E5ECF6\",\"width\":0.5},\"pattern\":{\"fillmode\":\"overlay\",\"size\":10,\"solidity\":0.2}},\"type\":\"barpolar\"}],\"pie\":[{\"automargin\":true,\"type\":\"pie\"}]},\"layout\":{\"autotypenumbers\":\"strict\",\"colorway\":[\"#636efa\",\"#EF553B\",\"#00cc96\",\"#ab63fa\",\"#FFA15A\",\"#19d3f3\",\"#FF6692\",\"#B6E880\",\"#FF97FF\",\"#FECB52\"],\"font\":{\"color\":\"#2a3f5f\"},\"hovermode\":\"closest\",\"hoverlabel\":{\"align\":\"left\"},\"paper_bgcolor\":\"white\",\"plot_bgcolor\":\"#E5ECF6\",\"polar\":{\"bgcolor\":\"#E5ECF6\",\"angularaxis\":{\"gridcolor\":\"white\",\"linecolor\":\"white\",\"ticks\":\"\"},\"radialaxis\":{\"gridcolor\":\"white\",\"linecolor\":\"white\",\"ticks\":\"\"}},\"ternary\":{\"bgcolor\":\"#E5ECF6\",\"aaxis\":{\"gridcolor\":\"white\",\"linecolor\":\"white\",\"ticks\":\"\"},\"baxis\":{\"gridcolor\":\"white\",\"linecolor\":\"white\",\"ticks\":\"\"},\"caxis\":{\"gridcolor\":\"white\",\"linecolor\":\"white\",\"ticks\":\"\"}},\"coloraxis\":{\"colorbar\":{\"outlinewidth\":0,\"ticks\":\"\"}},\"colorscale\":{\"sequential\":[[0.0,\"#0d0887\"],[0.1111111111111111,\"#46039f\"],[0.2222222222222222,\"#7201a8\"],[0.3333333333333333,\"#9c179e\"],[0.4444444444444444,\"#bd3786\"],[0.5555555555555556,\"#d8576b\"],[0.6666666666666666,\"#ed7953\"],[0.7777777777777778,\"#fb9f3a\"],[0.8888888888888888,\"#fdca26\"],[1.0,\"#f0f921\"]],\"sequentialminus\":[[0.0,\"#0d0887\"],[0.1111111111111111,\"#46039f\"],[0.2222222222222222,\"#7201a8\"],[0.3333333333333333,\"#9c179e\"],[0.4444444444444444,\"#bd3786\"],[0.5555555555555556,\"#d8576b\"],[0.6666666666666666,\"#ed7953\"],[0.7777777777777778,\"#fb9f3a\"],[0.8888888888888888,\"#fdca26\"],[1.0,\"#f0f921\"]],\"diverging\":[[0,\"#8e0152\"],[0.1,\"#c51b7d\"],[0.2,\"#de77ae\"],[0.3,\"#f1b6da\"],[0.4,\"#fde0ef\"],[0.5,\"#f7f7f7\"],[0.6,\"#e6f5d0\"],[0.7,\"#b8e186\"],[0.8,\"#7fbc41\"],[0.9,\"#4d9221\"],[1,\"#276419\"]]},\"xaxis\":{\"gridcolor\":\"white\",\"linecolor\":\"white\",\"ticks\":\"\",\"title\":{\"standoff\":15},\"zerolinecolor\":\"white\",\"automargin\":true,\"zerolinewidth\":2},\"yaxis\":{\"gridcolor\":\"white\",\"linecolor\":\"white\",\"ticks\":\"\",\"title\":{\"standoff\":15},\"zerolinecolor\":\"white\",\"automargin\":true,\"zerolinewidth\":2},\"scene\":{\"xaxis\":{\"backgroundcolor\":\"#E5ECF6\",\"gridcolor\":\"white\",\"linecolor\":\"white\",\"showbackground\":true,\"ticks\":\"\",\"zerolinecolor\":\"white\",\"gridwidth\":2},\"yaxis\":{\"backgroundcolor\":\"#E5ECF6\",\"gridcolor\":\"white\",\"linecolor\":\"white\",\"showbackground\":true,\"ticks\":\"\",\"zerolinecolor\":\"white\",\"gridwidth\":2},\"zaxis\":{\"backgroundcolor\":\"#E5ECF6\",\"gridcolor\":\"white\",\"linecolor\":\"white\",\"showbackground\":true,\"ticks\":\"\",\"zerolinecolor\":\"white\",\"gridwidth\":2}},\"shapedefaults\":{\"line\":{\"color\":\"#2a3f5f\"}},\"annotationdefaults\":{\"arrowcolor\":\"#2a3f5f\",\"arrowhead\":0,\"arrowwidth\":1},\"geo\":{\"bgcolor\":\"white\",\"landcolor\":\"#E5ECF6\",\"subunitcolor\":\"white\",\"showland\":true,\"showlakes\":true,\"lakecolor\":\"white\"},\"title\":{\"x\":0.05},\"mapbox\":{\"style\":\"light\"}}},\"xaxis\":{\"anchor\":\"y\",\"domain\":[0.0,1.0],\"title\":{\"text\":\"Attention Patch\"}},\"yaxis\":{\"anchor\":\"x\",\"domain\":[0.0,1.0],\"title\":{\"text\":\"Output Patch\"}},\"legend\":{\"tracegroupgap\":0},\"title\":{\"text\":\"Scatter plot of output patching vs attention patching\"}},                        {\"responsive\": true}                    ).then(function(){\n",
       "                            \n",
       "var gd = document.getElementById('9a8bf488-074c-4f95-89d2-c895b253ba32');\n",
       "var x = new MutationObserver(function (mutations, observer) {{\n",
       "        var display = window.getComputedStyle(gd).display;\n",
       "        if (!display || display === 'none') {{\n",
       "            console.log([gd, 'removed!']);\n",
       "            Plotly.purge(gd);\n",
       "            observer.disconnect();\n",
       "        }}\n",
       "}});\n",
       "\n",
       "// Listen for the removal of the full notebook cells\n",
       "var notebookContainer = gd.closest('#notebook-container');\n",
       "if (notebookContainer) {{\n",
       "    x.observe(notebookContainer, {childList: true});\n",
       "}}\n",
       "\n",
       "// Listen for the clearing of the current output cell\n",
       "var outputEl = gd.closest('.output');\n",
       "if (outputEl) {{\n",
       "    x.observe(outputEl, {childList: true});\n",
       "}}\n",
       "\n",
       "                        })                };                });            </script>        </div>"
      ]
     },
     "metadata": {},
     "output_type": "display_data"
    }
   ],
   "source": [
    "imshow(\n",
    "    patched_head_attn_diff,\n",
    "    title=\"Logit Difference From Patched Head Pattern\",\n",
    "    labels={\"x\": \"Head\", \"y\": \"Layer\"},\n",
    ")\n",
    "head_labels = [\n",
    "    f\"L{l}H{h}\" for l in range(model.cfg.n_layers) for h in range(model.cfg.n_heads)\n",
    "]\n",
    "scatter(\n",
    "    x=utils.to_numpy(patched_head_attn_diff.flatten()),\n",
    "    y=utils.to_numpy(patched_head_z_diff.flatten()),\n",
    "    hover_name=head_labels,\n",
    "    xaxis=\"Attention Patch\",\n",
    "    yaxis=\"Output Patch\",\n",
    "    title=\"Scatter plot of output patching vs attention patching\",\n",
    ")"
   ]
  },
  {
   "cell_type": "code",
   "execution_count": 122,
   "metadata": {},
   "outputs": [
    {
     "data": {
      "text/html": [
       "<div style='max-width: 700px;'><h2>Top Early Heads</h2><br/><div id=\"circuits-vis-2ddbe8e2-b498\" style=\"margin: 15px 0;\"/>\n",
       "    <script crossorigin type=\"module\">\n",
       "    import { render, AttentionHeads } from \"https://unpkg.com/circuitsvis@1.43.2/dist/cdn/esm.js\";\n",
       "    render(\n",
       "      \"circuits-vis-2ddbe8e2-b498\",\n",
       "      AttentionHeads,\n",
       "      {\"attention\": [[[1.0, 0.0, 0.0, 0.0, 0.0, 0.0, 0.0, 0.0, 0.0, 0.0, 0.0, 0.0, 0.0, 0.0, 0.0, 0.0, 0.0, 0.0, 0.0, 0.0, 0.0, 0.0, 0.0, 0.0, 0.0], [0.9949583411216736, 0.005041702650487423, 0.0, 0.0, 0.0, 0.0, 0.0, 0.0, 0.0, 0.0, 0.0, 0.0, 0.0, 0.0, 0.0, 0.0, 0.0, 0.0, 0.0, 0.0, 0.0, 0.0, 0.0, 0.0, 0.0], [0.9859539866447449, 0.004255226347595453, 0.009790824726223946, 0.0, 0.0, 0.0, 0.0, 0.0, 0.0, 0.0, 0.0, 0.0, 0.0, 0.0, 0.0, 0.0, 0.0, 0.0, 0.0, 0.0, 0.0, 0.0, 0.0, 0.0, 0.0], [0.9148315191268921, 0.017375050112605095, 0.021985379979014397, 0.045808061957359314, 0.0, 0.0, 0.0, 0.0, 0.0, 0.0, 0.0, 0.0, 0.0, 0.0, 0.0, 0.0, 0.0, 0.0, 0.0, 0.0, 0.0, 0.0, 0.0, 0.0, 0.0], [0.9790284037590027, 0.013004246167838573, 0.0034918084274977446, 0.0029159700497984886, 0.0015595676377415657, 0.0, 0.0, 0.0, 0.0, 0.0, 0.0, 0.0, 0.0, 0.0, 0.0, 0.0, 0.0, 0.0, 0.0, 0.0, 0.0, 0.0, 0.0, 0.0, 0.0], [0.7423357963562012, 0.019458459690213203, 0.037580523639917374, 0.05490022152662277, 0.10354363173246384, 0.042181406170129776, 0.0, 0.0, 0.0, 0.0, 0.0, 0.0, 0.0, 0.0, 0.0, 0.0, 0.0, 0.0, 0.0, 0.0, 0.0, 0.0, 0.0, 0.0, 0.0], [0.9531315565109253, 0.006063541397452354, 0.005223811138421297, 0.00812339223921299, 0.020043600350618362, 0.0033447006717324257, 0.004069342277944088, 0.0, 0.0, 0.0, 0.0, 0.0, 0.0, 0.0, 0.0, 0.0, 0.0, 0.0, 0.0, 0.0, 0.0, 0.0, 0.0, 0.0, 0.0], [0.8894636034965515, 0.0345882773399353, 0.026410967111587524, 0.007676603738218546, 0.029795899987220764, 0.0010626299772411585, 0.0076632071286439896, 0.0033388317096978426, 0.0, 0.0, 0.0, 0.0, 0.0, 0.0, 0.0, 0.0, 0.0, 0.0, 0.0, 0.0, 0.0, 0.0, 0.0, 0.0, 0.0], [0.9580981135368347, 0.007099807728081942, 0.014983530156314373, 0.00229543331079185, 0.008662920445203781, 0.00038755391142331064, 0.005656874272972345, 0.0006270005251280963, 0.0021886348258703947, 0.0, 0.0, 0.0, 0.0, 0.0, 0.0, 0.0, 0.0, 0.0, 0.0, 0.0, 0.0, 0.0, 0.0, 0.0, 0.0], [0.9312703609466553, 0.03788322955369949, 0.004000375047326088, 0.0010471936548128724, 0.010009625926613808, 0.0004541896632872522, 0.00441334955394268, 0.001226734952069819, 0.0028045233339071274, 0.006890470627695322, 0.0, 0.0, 0.0, 0.0, 0.0, 0.0, 0.0, 0.0, 0.0, 0.0, 0.0, 0.0, 0.0, 0.0, 0.0], [0.9014970064163208, 0.07557908445596695, 0.004880020394921303, 3.518417724990286e-05, 0.0013469060650095344, 0.00011013710172846913, 0.0056642331182956696, 0.0002678388264030218, 8.450207678833976e-05, 0.002808411605656147, 0.007726730778813362, 0.0, 0.0, 0.0, 0.0, 0.0, 0.0, 0.0, 0.0, 0.0, 0.0, 0.0, 0.0, 0.0, 0.0], [0.9259504079818726, 0.01786709763109684, 0.004017829895019531, 2.5033366455318173e-06, 0.0008299701730720699, 1.1880453712365124e-05, 0.0033900425769388676, 0.00020074767235200852, 4.325338886701502e-05, 0.0007559004588983953, 0.0053118932992219925, 0.04161842539906502, 0.0, 0.0, 0.0, 0.0, 0.0, 0.0, 0.0, 0.0, 0.0, 0.0, 0.0, 0.0, 0.0], [0.8444719910621643, 0.017216747626662254, 0.017374025657773018, 0.0004903163644485176, 0.013928818516433239, 9.592922287993133e-05, 0.051435042172670364, 0.005645799916237593, 0.0005607227794826031, 0.0024741014931350946, 0.013697481714189053, 0.014387497678399086, 0.018221566453576088, 0.0, 0.0, 0.0, 0.0, 0.0, 0.0, 0.0, 0.0, 0.0, 0.0, 0.0, 0.0], [0.9146263599395752, 0.00806341227144003, 0.015641070902347565, 0.0006677950732409954, 0.004824826028198004, 1.9797447748715058e-05, 0.004741774871945381, 0.0003502282779663801, 0.006979283411055803, 0.006756967399269342, 0.032066233456134796, 0.0002848841540981084, 4.807145523955114e-05, 0.00492944847792387, 0.0, 0.0, 0.0, 0.0, 0.0, 0.0, 0.0, 0.0, 0.0, 0.0, 0.0], [0.7142086625099182, 0.03417186811566353, 0.00902088638395071, 0.0005799935897812247, 0.1310042440891266, 0.004830908961594105, 0.03431353345513344, 0.00443518441170454, 0.004045840818434954, 0.00259648566134274, 0.007621062453836203, 0.0055452133528888226, 0.00986360665410757, 0.02439415082335472, 0.013368259184062481, 0.0, 0.0, 0.0, 0.0, 0.0, 0.0, 0.0, 0.0, 0.0, 0.0], [0.9319028258323669, 0.02298974245786667, 0.015865569934248924, 0.0010733262170106173, 0.005056805443018675, 0.00016730489733163267, 0.00422194879502058, 0.0011362609220668674, 0.0016819711308926344, 0.002249223878607154, 0.006425987929105759, 0.0005415765335783362, 2.972036600112915e-05, 0.000480371032608673, 0.0015805388102307916, 0.004596887622028589, 0.0, 0.0, 0.0, 0.0, 0.0, 0.0, 0.0, 0.0, 0.0], [0.10797538608312607, 0.0059711020439863205, 0.001163403270766139, 0.008189846761524677, 0.020837849006056786, 0.002230582293123007, 0.003255703719332814, 0.8321802020072937, 0.000640744052361697, 0.0007475099992007017, 0.007817707024514675, 0.00039587481296621263, 1.5341141988756135e-05, 0.0012575045693665743, 1.1409922080929391e-05, 0.001568815903738141, 0.005741046275943518, 0.0, 0.0, 0.0, 0.0, 0.0, 0.0, 0.0, 0.0], [0.22372543811798096, 0.0034937825985252857, 0.00658146059140563, 0.0217791348695755, 0.1112624928355217, 0.0006590099073946476, 0.10385105758905411, 0.37079867720603943, 0.0029078503139317036, 0.005694293882697821, 0.011987203732132912, 0.003199155442416668, 0.00015077897114679217, 0.05130690708756447, 0.0008619916625320911, 0.02451527863740921, 0.014500722289085388, 0.04272481054067612, 0.0, 0.0, 0.0, 0.0, 0.0, 0.0, 0.0], [0.07066412270069122, 0.0015070686349645257, 0.0006903588655404747, 0.3934047520160675, 0.1870783567428589, 0.0009338079253211617, 0.019825583323836327, 0.09593479335308075, 0.0014736296143382788, 0.0023442881647497416, 0.02292974665760994, 0.00040903076296672225, 2.634664497236372e-06, 0.000888652226421982, 0.0004982109530828893, 0.007327941711992025, 0.005992224905639887, 0.04613015428185463, 0.1419646143913269, 0.0, 0.0, 0.0, 0.0, 0.0, 0.0], [0.8479407429695129, 0.008756442926824093, 0.011207744479179382, 0.002226049778982997, 0.02170371450483799, 3.3490148780401796e-05, 0.004831468686461449, 0.0010935042519122362, 0.0004219261172693223, 0.0005668628728017211, 0.0049557676538825035, 0.002181046176701784, 0.00015421741409227252, 0.0031151720322668552, 0.02020079642534256, 0.05808752402663231, 0.007599818520247936, 6.263314571697265e-05, 0.00159444788005203, 0.0032667089253664017, 0.0, 0.0, 0.0, 0.0, 0.0], [0.9188425540924072, 0.021620288491249084, 0.004085551481693983, 0.0003811588103417307, 0.005252615548670292, 5.23202215845231e-05, 0.0009685130207799375, 0.00027049120399169624, 0.00029373864526860416, 0.00015569545212201774, 0.004060477949678898, 0.0015945632476359606, 0.0007712921942584217, 0.001642317627556622, 0.0021658402401953936, 0.018634699285030365, 0.010803435929119587, 0.00010245796147501096, 0.0006292816833592951, 0.0003120295878034085, 0.0073606520891189575, 0.0, 0.0, 0.0, 0.0], [0.944227397441864, 0.026126353070139885, 0.0017941378755494952, 1.8959677845487022e-06, 0.000285321002593264, 4.669503596232971e-06, 0.0008291528793051839, 1.4278286471380852e-05, 3.188574191881344e-05, 7.999015360837802e-05, 0.0006475249538198113, 0.0031574296299368143, 0.0005989117780700326, 0.0043136682361364365, 0.0011353844311088324, 0.005201123654842377, 0.0016101041110232472, 2.016168423324416e-07, 1.4810356333327945e-05, 5.259545105218422e-06, 0.00034045486245304346, 0.009580075740814209, 0.0, 0.0, 0.0], [0.9465370774269104, 0.007668638601899147, 0.002206941368058324, 2.9213558718765853e-06, 0.0008259043679572642, 3.3249439184146468e-06, 0.0014236269053071737, 3.650067083071917e-05, 1.8619088223204017e-05, 0.0006593524594791234, 0.002440589712932706, 0.0005819564103148878, 0.0002462164266034961, 0.002234555082395673, 0.0011924493592232466, 0.00396816898137331, 0.0038313898257911205, 5.168685106582416e-07, 7.252721843542531e-05, 2.038847014773637e-05, 0.0007908653933554888, 0.019353710114955902, 0.00588377146050334, 0.0, 0.0], [0.8960000872612, 0.032532695680856705, 0.0008859012159518898, 1.589901148690842e-05, 0.0009117540903389454, 0.001011657644994557, 0.006832064129412174, 0.0005300618358887732, 2.7477735784486867e-05, 0.000314130331389606, 0.0016080565983429551, 0.011328564956784248, 0.0005217952420935035, 0.004057181999087334, 0.000775947468355298, 0.00966769177466631, 0.0022353543899953365, 1.372324004478287e-05, 0.0001665738964220509, 2.652008151926566e-05, 0.00034426123602315784, 0.001687165000475943, 0.0017811832949519157, 0.026724349707365036, 0.0], [0.7729904055595398, 0.015267569571733475, 0.010190632194280624, 0.0005261913756839931, 0.003492692019790411, 0.0003035599074792117, 0.007490172516554594, 0.0003709034062922001, 1.2916744708491024e-05, 0.009556465782225132, 0.009138875640928745, 0.009091628715395927, 0.0022715930826961994, 0.00865776278078556, 0.003556170966476202, 0.005784295033663511, 0.006333900615572929, 5.019717718823813e-05, 0.0010669269831851125, 0.00019952011643908918, 0.003959207329899073, 0.014790646731853485, 0.0007266546599566936, 0.039381589740514755, 0.07478947937488556]], [[1.0, 0.0, 0.0, 0.0, 0.0, 0.0, 0.0, 0.0, 0.0, 0.0, 0.0, 0.0, 0.0, 0.0, 0.0, 0.0, 0.0, 0.0, 0.0, 0.0, 0.0, 0.0, 0.0, 0.0, 0.0], [0.00017649606161285192, 0.9998235106468201, 0.0, 0.0, 0.0, 0.0, 0.0, 0.0, 0.0, 0.0, 0.0, 0.0, 0.0, 0.0, 0.0, 0.0, 0.0, 0.0, 0.0, 0.0, 0.0, 0.0, 0.0, 0.0, 0.0], [0.0005661632749252021, 0.020750384777784348, 0.9786834716796875, 0.0, 0.0, 0.0, 0.0, 0.0, 0.0, 0.0, 0.0, 0.0, 0.0, 0.0, 0.0, 0.0, 0.0, 0.0, 0.0, 0.0, 0.0, 0.0, 0.0, 0.0, 0.0], [0.001272593974135816, 0.0026982761919498444, 0.00017572366050444543, 0.9958534240722656, 0.0, 0.0, 0.0, 0.0, 0.0, 0.0, 0.0, 0.0, 0.0, 0.0, 0.0, 0.0, 0.0, 0.0, 0.0, 0.0, 0.0, 0.0, 0.0, 0.0, 0.0], [3.091493636020459e-05, 0.0008369834977202117, 0.0002186982164857909, 4.5167311327531934e-05, 0.9988682270050049, 0.0, 0.0, 0.0, 0.0, 0.0, 0.0, 0.0, 0.0, 0.0, 0.0, 0.0, 0.0, 0.0, 0.0, 0.0, 0.0, 0.0, 0.0, 0.0, 0.0], [0.0003289406595285982, 0.009718420915305614, 0.0006152551504783332, 0.02423480711877346, 0.0010713262017816305, 0.9640312790870667, 0.0, 0.0, 0.0, 0.0, 0.0, 0.0, 0.0, 0.0, 0.0, 0.0, 0.0, 0.0, 0.0, 0.0, 0.0, 0.0, 0.0, 0.0, 0.0], [0.00010394707351224497, 0.0023331441916525364, 0.0021258718334138393, 0.00018871524662245065, 0.0009851432405412197, 0.0002492947387509048, 0.9940139651298523, 0.0, 0.0, 0.0, 0.0, 0.0, 0.0, 0.0, 0.0, 0.0, 0.0, 0.0, 0.0, 0.0, 0.0, 0.0, 0.0, 0.0, 0.0], [0.0005687735974788666, 0.007866769097745419, 0.0014364832313731313, 0.0007388506783172488, 0.0003780401311814785, 0.0008449869346804917, 0.0013962137745693326, 0.9867699146270752, 0.0, 0.0, 0.0, 0.0, 0.0, 0.0, 0.0, 0.0, 0.0, 0.0, 0.0, 0.0, 0.0, 0.0, 0.0, 0.0, 0.0], [0.0006275387713685632, 0.0091768279671669, 0.00042531025246717036, 0.013609318062663078, 0.00014562792785000056, 0.043798740953207016, 0.0003789781767409295, 0.0004852491256315261, 0.9313523769378662, 0.0, 0.0, 0.0, 0.0, 0.0, 0.0, 0.0, 0.0, 0.0, 0.0, 0.0, 0.0, 0.0, 0.0, 0.0, 0.0], [0.0007167051662690938, 0.009191690012812614, 0.007212573196738958, 0.01750115677714348, 0.0012524814810603857, 0.04129388928413391, 0.0006500050658360124, 0.00010290204227203503, 0.06853567808866501, 0.8535429239273071, 0.0, 0.0, 0.0, 0.0, 0.0, 0.0, 0.0, 0.0, 0.0, 0.0, 0.0, 0.0, 0.0, 0.0, 0.0], [0.0005161603330634534, 0.0014641638845205307, 0.0005638064467348158, 4.795461063622497e-05, 0.0009661371586844325, 0.00023715822317171842, 0.0017550975317135453, 0.00033096096012741327, 0.00026181567227467895, 4.9958296585828066e-05, 0.9938067197799683, 0.0, 0.0, 0.0, 0.0, 0.0, 0.0, 0.0, 0.0, 0.0, 0.0, 0.0, 0.0, 0.0, 0.0], [0.0009497581049799919, 0.0021762896794825792, 0.00011791811266448349, 0.0012834721710532904, 0.004686723463237286, 0.0013932164292782545, 0.0010876250453293324, 0.0010552903404459357, 0.0007976688793860376, 0.0010564886033535004, 0.025660449638962746, 0.959735095500946, 0.0, 0.0, 0.0, 0.0, 0.0, 0.0, 0.0, 0.0, 0.0, 0.0, 0.0, 0.0, 0.0], [0.00013198931992519647, 0.0019121923251077533, 0.00017329321417491883, 0.010192840360105038, 0.00037340898416005075, 0.48355403542518616, 0.00023774873989168555, 0.00014727281813975424, 0.01577952317893505, 0.0005064898869022727, 4.84596639580559e-05, 4.651239942177199e-05, 0.48689618706703186, 0.0, 0.0, 0.0, 0.0, 0.0, 0.0, 0.0, 0.0, 0.0, 0.0, 0.0, 0.0], [0.0001911306317197159, 0.009716815315186977, 0.00042007394949905574, 3.2888678106246516e-05, 0.00010873037535930052, 0.0002983634767588228, 0.00014328282850328833, 0.0019033510470762849, 0.0006514514680020511, 9.700829104986042e-05, 0.00030249435803852975, 0.0005015573115088046, 0.00019994245667476207, 0.9854329228401184, 0.0, 0.0, 0.0, 0.0, 0.0, 0.0, 0.0, 0.0, 0.0, 0.0, 0.0], [0.0003224315878469497, 0.00020374087034724653, 2.387785389146302e-05, 0.38703611493110657, 0.0003171074786223471, 0.006614696700125933, 5.4573407396674156e-05, 0.00013968287385068834, 0.002566499402746558, 0.000378533179173246, 3.639019723777892e-06, 1.8584922145237215e-05, 0.006238332949578762, 5.323110599420033e-06, 0.5960769057273865, 0.0, 0.0, 0.0, 0.0, 0.0, 0.0, 0.0, 0.0, 0.0, 0.0], [0.0008189900545403361, 0.0006996050360612571, 0.00016847187362145633, 0.0002991099318023771, 0.0001031006540870294, 0.00020939546811860055, 0.00013390922686085105, 0.0001651071652304381, 0.00011132433428429067, 0.00011091676424257457, 2.3099266400095075e-05, 4.423959398991428e-05, 0.00013205877621658146, 1.634088584978599e-05, 0.00013900487101636827, 0.9968254566192627, 0.0, 0.0, 0.0, 0.0, 0.0, 0.0, 0.0, 0.0, 0.0], [4.8777557822177187e-05, 0.00045865256106480956, 0.0007042890647426248, 6.302720430539921e-05, 0.00036598718725144863, 8.052174234762788e-05, 0.5086605548858643, 0.0002298017789144069, 9.749396122060716e-05, 2.4648290491313674e-05, 1.2425121894921176e-05, 1.1458638255135156e-05, 5.047714148531668e-05, 2.026585025305394e-05, 2.4939408831414767e-05, 7.471771823475137e-05, 0.48907196521759033, 0.0, 0.0, 0.0, 0.0, 0.0, 0.0, 0.0, 0.0], [8.230697130784392e-05, 0.0008491574553772807, 8.708957466296852e-05, 0.0056150006130337715, 0.00018655169697012752, 0.2747836709022522, 0.00012062201858498156, 8.02874710643664e-05, 0.00875988882035017, 0.0002957435790449381, 3.1012139515951276e-05, 3.0837989470455796e-05, 0.31921687722206116, 1.2832733773393556e-05, 0.0053178006783127785, 0.00013052491704002023, 0.00010785648919409141, 0.3842918872833252, 0.0, 0.0, 0.0, 0.0, 0.0, 0.0, 0.0], [0.00017408754501957446, 0.0017165126046165824, 0.3942350745201111, 5.320033960742876e-05, 0.0009624920785427094, 0.00019319176499266177, 0.0010473241563886404, 0.0006822982104495168, 0.0001128067888203077, 0.0005581170553341508, 8.501081902068108e-05, 1.917926419992e-05, 0.0001563050172990188, 0.0003911467210855335, 2.948806286440231e-05, 0.00037183327367529273, 0.0009504802292212844, 0.00014477413787972182, 0.5981167554855347, 0.0, 0.0, 0.0, 0.0, 0.0, 0.0], [0.00012348727614153177, 0.005226746201515198, 0.00043358656694181263, 0.00029930853634141386, 0.0003977320739068091, 0.000814765808172524, 0.00015119806630536914, 0.00457379687577486, 0.00046638870844617486, 0.0001463512162445113, 0.00012482664897106588, 0.0005389455473050475, 0.0007213387289084494, 0.001042720628902316, 0.00021803463459946215, 0.00014987557369749993, 0.00012847197649534792, 0.0007089441642165184, 0.00027956528356298804, 0.9834538698196411, 0.0, 0.0, 0.0, 0.0, 0.0], [0.0005688403616659343, 0.0009615402086637914, 0.0014561269199475646, 0.0009214048623107374, 0.00066160544520244, 0.001306795747950673, 0.00033907260512933135, 5.293335561873391e-05, 0.0050478545017540455, 0.021564796566963196, 9.207289258483797e-05, 8.412870374741033e-05, 0.0011641142191365361, 0.0001391061523463577, 0.0007269118214026093, 0.002135394373908639, 0.0003344703000038862, 0.0012448109919205308, 0.001107650576159358, 0.00020429486175999045, 0.9598861336708069, 0.0, 0.0, 0.0, 0.0], [0.00031206154380925, 0.0008311346173286438, 0.0001064072348526679, 3.303955600131303e-05, 0.0010644809808582067, 7.734820246696472e-05, 0.0002004117559408769, 0.00015331749455071986, 8.01813366706483e-05, 6.723194474034244e-06, 0.006397767458111048, 0.0008870099554769695, 5.1392795285210013e-05, 0.00015861376596149057, 1.63114964379929e-05, 6.260479858610779e-05, 0.00015728895959910005, 4.7243778681149706e-05, 4.4664720917353407e-05, 0.0002327095135115087, 6.231217867025407e-06, 0.9890730977058411, 0.0, 0.0, 0.0], [0.0002761199721135199, 0.0010553820757195354, 8.045172580750659e-05, 0.0060622114688158035, 9.284333646064624e-05, 0.008978651836514473, 6.377464160323143e-05, 0.0001320444862358272, 0.04774755612015724, 0.0007881386554799974, 1.1570158676477149e-05, 1.168062681244919e-05, 0.008756641298532486, 2.9006487238802947e-05, 0.005653731524944305, 0.0004559796361718327, 5.4597738198935986e-05, 0.009957659058272839, 3.9311929867835715e-05, 0.0003724686102941632, 0.00013298800331540406, 1.3054189366812352e-05, 0.9092342853546143, 0.0, 0.0], [0.0002824196999426931, 0.00031144690001383424, 6.905321060912684e-05, 2.6943265766021796e-05, 0.0033828560262918472, 0.00018751966126728803, 0.0010012704879045486, 0.00037761341081932187, 9.76930750766769e-05, 1.8408331015962176e-05, 0.002297687577083707, 0.0001725458714645356, 0.00012772140325978398, 3.6404449929250404e-05, 1.1383901437511668e-05, 0.0011012216564267874, 0.0008103456348180771, 0.00011516778613440692, 2.151236913050525e-05, 9.715160558698699e-05, 3.0977989808889106e-05, 0.0033779428340494633, 9.300324745709077e-05, 0.9859517812728882, 0.0], [0.00027432519709691405, 0.0013781182933598757, 9.134868014371023e-05, 0.003693396458402276, 3.043140168301761e-05, 0.011848288588225842, 9.490818774793297e-05, 0.00014940225810278207, 0.31590887904167175, 0.0006839374545961618, 4.443356010597199e-05, 3.8551308534806594e-05, 0.012692052870988846, 0.0002471811603754759, 0.004134349059313536, 0.00023737015726510435, 9.683307871455327e-05, 0.015518431551754475, 6.55039184493944e-05, 0.00042562224552966654, 0.0005366019322536886, 3.0923099984647706e-05, 0.01660935953259468, 5.198323560762219e-05, 0.6151177287101746]]], \"attentionHeadNames\": [\"L5H5\", \"L0H1\"], \"tokens\": [\"<|endoftext|>\", \"After\", \" John\", \",\", \" Mary\", \" and\", \" Jim\", \" went\", \" to\", \" the\", \" grocery\", \" store\", \" and\", \" return\", \",\", \" \", \" Jim\", \" and\", \" John\", \" gave\", \" a\", \" bottle\", \" of\", \" milk\", \" to\"]}\n",
       "    )\n",
       "    </script></div><div style='max-width: 700px;'><h2>Top Middle Heads</h2><br/><div id=\"circuits-vis-c0f8c7a2-ead1\" style=\"margin: 15px 0;\"/>\n",
       "    <script crossorigin type=\"module\">\n",
       "    import { render, AttentionHeads } from \"https://unpkg.com/circuitsvis@1.43.2/dist/cdn/esm.js\";\n",
       "    render(\n",
       "      \"circuits-vis-c0f8c7a2-ead1\",\n",
       "      AttentionHeads,\n",
       "      {\"attention\": [[[1.0, 0.0, 0.0, 0.0, 0.0, 0.0, 0.0, 0.0, 0.0, 0.0, 0.0, 0.0, 0.0, 0.0, 0.0, 0.0, 0.0, 0.0, 0.0, 0.0, 0.0, 0.0, 0.0, 0.0, 0.0], [0.9522640109062195, 0.04773595929145813, 0.0, 0.0, 0.0, 0.0, 0.0, 0.0, 0.0, 0.0, 0.0, 0.0, 0.0, 0.0, 0.0, 0.0, 0.0, 0.0, 0.0, 0.0, 0.0, 0.0, 0.0, 0.0, 0.0], [0.9636170268058777, 0.007046094164252281, 0.029336825013160706, 0.0, 0.0, 0.0, 0.0, 0.0, 0.0, 0.0, 0.0, 0.0, 0.0, 0.0, 0.0, 0.0, 0.0, 0.0, 0.0, 0.0, 0.0, 0.0, 0.0, 0.0, 0.0], [0.6972867250442505, 0.055937085300683975, 0.12583579123020172, 0.12094037234783173, 0.0, 0.0, 0.0, 0.0, 0.0, 0.0, 0.0, 0.0, 0.0, 0.0, 0.0, 0.0, 0.0, 0.0, 0.0, 0.0, 0.0, 0.0, 0.0, 0.0, 0.0], [0.8896422982215881, 0.010692850686609745, 0.01590595208108425, 0.04992011561989784, 0.03383885324001312, 0.0, 0.0, 0.0, 0.0, 0.0, 0.0, 0.0, 0.0, 0.0, 0.0, 0.0, 0.0, 0.0, 0.0, 0.0, 0.0, 0.0, 0.0, 0.0, 0.0], [0.5650463700294495, 0.024617040529847145, 0.06407985091209412, 0.11595684289932251, 0.17519783973693848, 0.05510198324918747, 0.0, 0.0, 0.0, 0.0, 0.0, 0.0, 0.0, 0.0, 0.0, 0.0, 0.0, 0.0, 0.0, 0.0, 0.0, 0.0, 0.0, 0.0, 0.0], [0.8884100914001465, 0.012375732883810997, 0.014561880379915237, 0.025835327804088593, 0.012703466229140759, 0.013358140364289284, 0.03275538235902786, 0.0, 0.0, 0.0, 0.0, 0.0, 0.0, 0.0, 0.0, 0.0, 0.0, 0.0, 0.0, 0.0, 0.0, 0.0, 0.0, 0.0, 0.0], [0.812099814414978, 0.027238305658102036, 0.015153576619923115, 0.03695213422179222, 0.014024836011230946, 0.031510129570961, 0.019568227231502533, 0.043452922254800797, 0.0, 0.0, 0.0, 0.0, 0.0, 0.0, 0.0, 0.0, 0.0, 0.0, 0.0, 0.0, 0.0, 0.0, 0.0, 0.0, 0.0], [0.6100403666496277, 0.01615210250020027, 0.054170116782188416, 0.06282085925340652, 0.07828317582607269, 0.03566133975982666, 0.08818252384662628, 0.020071588456630707, 0.03461785987019539, 0.0, 0.0, 0.0, 0.0, 0.0, 0.0, 0.0, 0.0, 0.0, 0.0, 0.0, 0.0, 0.0, 0.0, 0.0, 0.0], [0.6719849109649658, 0.02827611193060875, 0.022385315969586372, 0.04106125980615616, 0.0243502426892519, 0.02415916696190834, 0.027552638202905655, 0.011021479964256287, 0.03614378347992897, 0.11306504905223846, 0.0, 0.0, 0.0, 0.0, 0.0, 0.0, 0.0, 0.0, 0.0, 0.0, 0.0, 0.0, 0.0, 0.0, 0.0], [0.8282981514930725, 0.022159792482852936, 0.006591659039258957, 0.012218551710247993, 0.0032968828454613686, 0.007544829975813627, 0.007795408368110657, 0.009185920469462872, 0.024625232443213463, 0.04292051121592522, 0.03536301106214523, 0.0, 0.0, 0.0, 0.0, 0.0, 0.0, 0.0, 0.0, 0.0, 0.0, 0.0, 0.0, 0.0, 0.0], [0.6940320134162903, 0.05733085796236992, 0.014765672385692596, 0.029316484928131104, 0.010251783765852451, 0.010375753976404667, 0.018032044172286987, 0.014226214960217476, 0.030889052897691727, 0.045133646577596664, 0.021192602813243866, 0.05445388704538345, 0.0, 0.0, 0.0, 0.0, 0.0, 0.0, 0.0, 0.0, 0.0, 0.0, 0.0, 0.0, 0.0], [0.5255808234214783, 0.026243319734930992, 0.01767844147980213, 0.03990529850125313, 0.018983041867613792, 0.024121679365634918, 0.03066978044807911, 0.06616818159818649, 0.05497658625245094, 0.06579620391130447, 0.018174393102526665, 0.04940961301326752, 0.06229265406727791, 0.0, 0.0, 0.0, 0.0, 0.0, 0.0, 0.0, 0.0, 0.0, 0.0, 0.0, 0.0], [0.6522148251533508, 0.020257296040654182, 0.00842459686100483, 0.03856171295046806, 0.022399073466658592, 0.028461355715990067, 0.015982380136847496, 0.010419877246022224, 0.030208494514226913, 0.028233185410499573, 0.017506057396531105, 0.03959841653704643, 0.05143403261899948, 0.03629881516098976, 0.0, 0.0, 0.0, 0.0, 0.0, 0.0, 0.0, 0.0, 0.0, 0.0, 0.0], [0.4292623996734619, 0.03272850438952446, 0.06442192196846008, 0.04517337679862976, 0.10494264960289001, 0.049527231603860855, 0.10518893599510193, 0.0352962464094162, 0.01658380776643753, 0.01018651481717825, 0.0068223862908780575, 0.010584823787212372, 0.01962195709347725, 0.022067366167902946, 0.04759189113974571, 0.0, 0.0, 0.0, 0.0, 0.0, 0.0, 0.0, 0.0, 0.0, 0.0], [0.8895182609558105, 0.010652847588062286, 0.009308194741606712, 0.006645542103797197, 0.010462810285389423, 0.006977378856390715, 0.010046165436506271, 0.004042132757604122, 0.0032909440342336893, 0.004368643742054701, 0.0012408659094944596, 0.0009173209546133876, 0.0030699747148901224, 0.0022489812690764666, 0.008470145054161549, 0.028739845380187035, 0.0, 0.0, 0.0, 0.0, 0.0, 0.0, 0.0, 0.0, 0.0], [0.8309728503227234, 0.005568952299654484, 0.002846952062100172, 0.009765979833900928, 0.0029109823517501354, 0.007541532162576914, 0.005466634873300791, 0.008773797191679478, 0.008394761942327023, 0.005664526950567961, 0.002987064654007554, 0.005025497172027826, 0.01168501004576683, 0.016949495300650597, 0.020337464287877083, 0.011288115754723549, 0.04382050037384033, 0.0, 0.0, 0.0, 0.0, 0.0, 0.0, 0.0, 0.0], [0.36752134561538696, 0.005751629825681448, 0.013109145686030388, 0.018380915746092796, 0.02473324164748192, 0.006589759141206741, 0.01495245099067688, 0.0022525296080857515, 0.0011933649657294154, 0.002336143283173442, 0.00047115370398387313, 0.0005446045543067157, 0.0016158566577360034, 0.0023708308581262827, 0.009294289164245129, 0.020747600123286247, 0.41738662123680115, 0.09074851870536804, 0.0, 0.0, 0.0, 0.0, 0.0, 0.0, 0.0], [0.5717030763626099, 0.00323730637319386, 0.002061679493635893, 0.017317524179816246, 0.0028867116197943687, 0.010379121638834476, 0.005720370914787054, 0.01839282549917698, 0.01315129455178976, 0.006800529547035694, 0.0018090404337272048, 0.006188977509737015, 0.017262401059269905, 0.036771539598703384, 0.04975394159555435, 0.010562289506196976, 0.06965811550617218, 0.07904409617185593, 0.07729922235012054, 0.0, 0.0, 0.0, 0.0, 0.0, 0.0], [0.21079014241695404, 0.004588746465742588, 0.014717979356646538, 0.01753901317715645, 0.0394439660012722, 0.022990994155406952, 0.02161364257335663, 0.004145138897001743, 0.004360354505479336, 0.005062213633209467, 0.007313419133424759, 0.009322392754256725, 0.006373757496476173, 0.012591533362865448, 0.015178659930825233, 0.010047607123851776, 0.23243634402751923, 0.08905517309904099, 0.22435979545116425, 0.04806916043162346, 0.0, 0.0, 0.0, 0.0, 0.0], [0.5359536409378052, 0.013104544021189213, 0.008805541321635246, 0.012339397333562374, 0.009380755946040154, 0.011571241542696953, 0.009264388121664524, 0.004241563845425844, 0.006668870337307453, 0.007462390698492527, 0.01633942686021328, 0.009713375009596348, 0.008484081365168095, 0.009558971971273422, 0.028586378321051598, 0.019782597199082375, 0.058011338114738464, 0.030649805441498756, 0.035860877484083176, 0.05400000885128975, 0.11022090166807175, 0.0, 0.0, 0.0, 0.0], [0.5852494239807129, 0.008528722450137138, 0.002345423214137554, 0.009669516235589981, 0.0036937978584319353, 0.006076241377741098, 0.003236066550016403, 0.002851785160601139, 0.006521692033857107, 0.00899102445691824, 0.005108132027089596, 0.0061707692220807076, 0.010307724587619305, 0.007854471914470196, 0.03769386187195778, 0.01421468984335661, 0.023745203390717506, 0.016565311700105667, 0.010360782034695148, 0.03311751037836075, 0.05177291855216026, 0.14592494070529938, 0.0, 0.0, 0.0], [0.5714909434318542, 0.00998757779598236, 0.0040306043811142445, 0.0069610425271093845, 0.008834305219352245, 0.0026516199577599764, 0.0053693209774792194, 0.0004644847649615258, 0.0008219107403419912, 0.0027395065408200026, 0.006429803557693958, 0.00122640875633806, 0.001637220149859786, 0.0008174265385605395, 0.008287948556244373, 0.02833748422563076, 0.04372544214129448, 0.010438412427902222, 0.013604814186692238, 0.011819800361990929, 0.05030302703380585, 0.10842117667198181, 0.1015997901558876, 0.0, 0.0], [0.5091567039489746, 0.012590264901518822, 0.0020708355586975813, 0.006866935174912214, 0.002487956080585718, 0.005177226848900318, 0.002628696383908391, 0.004361107479780912, 0.007541252300143242, 0.00799274630844593, 0.004305841401219368, 0.0081240925937891, 0.009823160246014595, 0.011787530034780502, 0.03046729415655136, 0.011342166922986507, 0.016389284282922745, 0.010345603339374065, 0.0058418456465005875, 0.028036819770932198, 0.03304518759250641, 0.06640975922346115, 0.05167638137936592, 0.15153121948242188, 0.0], [0.020418277010321617, 0.0007940601790323853, 0.013776675797998905, 0.016245238482952118, 0.04456007480621338, 0.0063569447956979275, 0.025213290005922318, 0.0008173524402081966, 0.0003429077041801065, 0.0006400405545718968, 0.00028064235812053084, 0.00047158534289337695, 0.00038330809911713004, 0.0010481178760528564, 0.0014532592613250017, 0.0016733461525291204, 0.4696996212005615, 0.04675775766372681, 0.33086729049682617, 0.008956859819591045, 0.0018642385257408023, 0.0007125940755940974, 0.0006433764356188476, 0.001209536218084395, 0.004813674371689558]], [[1.0, 0.0, 0.0, 0.0, 0.0, 0.0, 0.0, 0.0, 0.0, 0.0, 0.0, 0.0, 0.0, 0.0, 0.0, 0.0, 0.0, 0.0, 0.0, 0.0, 0.0, 0.0, 0.0, 0.0, 0.0], [0.9737128019332886, 0.026287123560905457, 0.0, 0.0, 0.0, 0.0, 0.0, 0.0, 0.0, 0.0, 0.0, 0.0, 0.0, 0.0, 0.0, 0.0, 0.0, 0.0, 0.0, 0.0, 0.0, 0.0, 0.0, 0.0, 0.0], [0.8760247230529785, 0.09661056101322174, 0.027364691719412804, 0.0, 0.0, 0.0, 0.0, 0.0, 0.0, 0.0, 0.0, 0.0, 0.0, 0.0, 0.0, 0.0, 0.0, 0.0, 0.0, 0.0, 0.0, 0.0, 0.0, 0.0, 0.0], [0.5203399062156677, 0.08266560733318329, 0.2996615171432495, 0.09733299165964127, 0.0, 0.0, 0.0, 0.0, 0.0, 0.0, 0.0, 0.0, 0.0, 0.0, 0.0, 0.0, 0.0, 0.0, 0.0, 0.0, 0.0, 0.0, 0.0, 0.0, 0.0], [0.7134517431259155, 0.020936591550707817, 0.01969985105097294, 0.2240840345621109, 0.02182782255113125, 0.0, 0.0, 0.0, 0.0, 0.0, 0.0, 0.0, 0.0, 0.0, 0.0, 0.0, 0.0, 0.0, 0.0, 0.0, 0.0, 0.0, 0.0, 0.0, 0.0], [0.16326504945755005, 0.05349612608551979, 0.26864877343177795, 0.0841977670788765, 0.4225062131881714, 0.00788598507642746, 0.0, 0.0, 0.0, 0.0, 0.0, 0.0, 0.0, 0.0, 0.0, 0.0, 0.0, 0.0, 0.0, 0.0, 0.0, 0.0, 0.0, 0.0, 0.0], [0.594164252281189, 0.18862606585025787, 0.026657870039343834, 0.1309666484594345, 0.026797272264957428, 0.021582385525107384, 0.011205545626580715, 0.0, 0.0, 0.0, 0.0, 0.0, 0.0, 0.0, 0.0, 0.0, 0.0, 0.0, 0.0, 0.0, 0.0, 0.0, 0.0, 0.0, 0.0], [0.37825560569763184, 0.41298165917396545, 0.05592045187950134, 0.05659586936235428, 0.025006666779518127, 0.007822218351066113, 0.011864020489156246, 0.05155352130532265, 0.0, 0.0, 0.0, 0.0, 0.0, 0.0, 0.0, 0.0, 0.0, 0.0, 0.0, 0.0, 0.0, 0.0, 0.0, 0.0, 0.0], [0.2248358577489853, 0.2807624340057373, 0.15185144543647766, 0.052252545952796936, 0.09670192003250122, 0.011287701316177845, 0.10382769256830215, 0.06060583516955376, 0.01787456125020981, 0.0, 0.0, 0.0, 0.0, 0.0, 0.0, 0.0, 0.0, 0.0, 0.0, 0.0, 0.0, 0.0, 0.0, 0.0, 0.0], [0.46633055806159973, 0.2700825333595276, 0.07261116802692413, 0.02570030279457569, 0.03890139237046242, 0.008197842165827751, 0.03104257583618164, 0.05058128759264946, 0.02469974011182785, 0.011852549389004707, 0.0, 0.0, 0.0, 0.0, 0.0, 0.0, 0.0, 0.0, 0.0, 0.0, 0.0, 0.0, 0.0, 0.0, 0.0], [0.8093880414962769, 0.05251374840736389, 0.01987806335091591, 0.012407166883349419, 0.014966104179620743, 0.0035744088236242533, 0.010764790698885918, 0.012144184671342373, 0.013988278806209564, 0.019434280693531036, 0.030940959230065346, 0.0, 0.0, 0.0, 0.0, 0.0, 0.0, 0.0, 0.0, 0.0, 0.0, 0.0, 0.0, 0.0, 0.0], [0.5617738962173462, 0.1360238790512085, 0.08150438219308853, 0.044031061232089996, 0.02796100080013275, 0.008546547032892704, 0.02803204208612442, 0.039704155176877975, 0.030292736366391182, 0.023911666125059128, 0.009459965862333775, 0.008758648298680782, 0.0, 0.0, 0.0, 0.0, 0.0, 0.0, 0.0, 0.0, 0.0, 0.0, 0.0, 0.0, 0.0], [0.386715292930603, 0.12236558645963669, 0.08895420283079147, 0.04122636467218399, 0.08220183849334717, 0.007517099380493164, 0.0890241339802742, 0.07958255708217621, 0.036124881356954575, 0.014648686163127422, 0.007330246735364199, 0.012500401586294174, 0.03180867061018944, 0.0, 0.0, 0.0, 0.0, 0.0, 0.0, 0.0, 0.0, 0.0, 0.0, 0.0, 0.0], [0.3294430673122406, 0.13638032972812653, 0.05892804265022278, 0.03849392756819725, 0.040050432085990906, 0.033884722739458084, 0.06899234652519226, 0.04678696021437645, 0.0407232902944088, 0.015541565604507923, 0.013076737523078918, 0.015551715157926083, 0.08374278992414474, 0.07840403914451599, 0.0, 0.0, 0.0, 0.0, 0.0, 0.0, 0.0, 0.0, 0.0, 0.0, 0.0], [0.36352774500846863, 0.026543689891695976, 0.21770815551280975, 0.022133437916636467, 0.11046050488948822, 0.0049543799832463264, 0.15634994208812714, 0.016702596098184586, 0.006974236574023962, 0.0022200008388608694, 0.00208360911346972, 0.004295844119042158, 0.011103158816695213, 0.015247208997607231, 0.039695512503385544, 0.0, 0.0, 0.0, 0.0, 0.0, 0.0, 0.0, 0.0, 0.0, 0.0], [0.9484074711799622, 0.006059702951461077, 0.001744550303556025, 0.004026889335364103, 0.0011872545583173633, 0.0005863479455001652, 0.0008087089518085122, 0.0015024127205833793, 0.0017268257215619087, 0.0012004169402644038, 0.0002982197911478579, 0.0002241426263935864, 0.003815906587988138, 0.0022159945219755173, 0.02208048291504383, 0.004114618990570307, 0.0, 0.0, 0.0, 0.0, 0.0, 0.0, 0.0, 0.0, 0.0], [0.6910629868507385, 0.003784952685236931, 0.001281899050809443, 0.018073586747050285, 0.0018326500430703163, 0.0007986694690771401, 0.0011287652887403965, 0.0019634165801107883, 0.002649076981469989, 0.0028897589072585106, 0.002900536637753248, 0.005368017591536045, 0.007897084578871727, 0.015398534014821053, 0.09808707982301712, 0.05566379800438881, 0.08921919018030167, 0.0, 0.0, 0.0, 0.0, 0.0, 0.0, 0.0, 0.0], [0.047909967601299286, 0.0009052652749232948, 0.004420439247041941, 0.0032680383883416653, 0.008196267299354076, 0.00011899673700099811, 0.006387210916727781, 0.00017255735292565078, 9.533176489640027e-05, 9.784531721379608e-05, 0.00017531101184431463, 0.0001274168462259695, 0.0002765944809652865, 0.0006454860558733344, 0.007958767004311085, 0.008406277745962143, 0.903681218624115, 0.007156974170356989, 0.0, 0.0, 0.0, 0.0, 0.0, 0.0, 0.0], [0.2283826619386673, 0.009605922736227512, 0.0007890915148891509, 0.025979306548833847, 0.0016428662929683924, 0.0023761671036481857, 0.0011064154095947742, 0.002548909978941083, 0.0016536740586161613, 0.0022183943074196577, 0.0017742770723998547, 0.003055096138268709, 0.027355151250958443, 0.015759004279971123, 0.26103776693344116, 0.04732799530029297, 0.09874588996171951, 0.16565465927124023, 0.10298673063516617, 0.0, 0.0, 0.0, 0.0, 0.0, 0.0], [0.13332951068878174, 0.007881417870521545, 0.006670936942100525, 0.004537067376077175, 0.006829547695815563, 0.0004442269855644554, 0.006068308837711811, 0.0008091677445918322, 0.0008460023673251271, 0.0009717376669868827, 0.0013705618912354112, 0.001766013097949326, 0.0034669097512960434, 0.0033491028007119894, 0.049061428755521774, 0.024744128808379173, 0.410861074924469, 0.019134001806378365, 0.3071424663066864, 0.010716489516198635, 0.0, 0.0, 0.0, 0.0, 0.0], [0.7868819236755371, 0.009528355672955513, 0.003277416108176112, 0.0031494342256337404, 0.001303128432482481, 0.00038144056452438235, 0.0009630699059925973, 0.0012957259314134717, 0.0010228274622932076, 0.0002870987809728831, 0.0019934147130697966, 0.0010498884366825223, 0.0013031974667683244, 0.0036321619991213083, 0.015407302416861057, 0.023384617641568184, 0.05677337571978569, 0.02508672885596752, 0.03733958676457405, 0.020994074642658234, 0.004945219028741121, 0.0, 0.0, 0.0, 0.0], [0.6517639756202698, 0.008801075629889965, 0.004248077515512705, 0.00396845955401659, 0.0012046134797856212, 0.0004203994758427143, 0.0014232725370675325, 0.0012115288991481066, 0.0011093663051724434, 0.000822557311039418, 0.0005619258154183626, 0.0003214887692593038, 0.0020429897122085094, 0.0026177947875112295, 0.018455728888511658, 0.03893006965517998, 0.13077446818351746, 0.022105831652879715, 0.031223539263010025, 0.03689043968915939, 0.017769165337085724, 0.023333195596933365, 0.0, 0.0, 0.0], [0.5572041273117065, 0.005134717561304569, 0.005904471501708031, 0.002803908661007881, 0.0018795463256537914, 0.0002151456574210897, 0.0015088492073118687, 0.0008522011339664459, 0.0005009734304621816, 0.0005368402926251292, 0.0007041255012154579, 6.256753113120794e-05, 0.0003536997828632593, 0.0011366285616531968, 0.006136691197752953, 0.039839066565036774, 0.24002285301685333, 0.01806328445672989, 0.048047710210084915, 0.02347451075911522, 0.014001688919961452, 0.026345472782850266, 0.005270868539810181, 0.0, 0.0], [0.5575076341629028, 0.006864465307444334, 0.0040360805578529835, 0.003141694935038686, 0.0016661930130794644, 0.0006403375300578773, 0.0022365455515682697, 0.0021805595606565475, 0.0017466740682721138, 0.0019480669870972633, 0.00044833257561549544, 0.0008383403765037656, 0.00460147624835372, 0.004935401491820812, 0.034597791731357574, 0.030402859672904015, 0.10996314883232117, 0.01871398277580738, 0.07094224542379379, 0.05563110485672951, 0.027671435847878456, 0.026703419163823128, 0.007767905946820974, 0.02481425553560257, 0.0], [0.0009263991378247738, 0.00023367481480818242, 0.004575430415570736, 0.0003882598830386996, 0.0030800942331552505, 3.550075780367479e-05, 0.006552354898303747, 0.00015052070375531912, 1.6482026694575325e-05, 6.893729732837528e-06, 1.7152160580735654e-06, 5.784301720268559e-06, 0.0001698734558885917, 0.00012138936290284619, 0.0012592595303431153, 0.0003727031871676445, 0.4751616418361664, 0.0006160152843222022, 0.5057136416435242, 0.0004681287391576916, 8.072352648014203e-05, 3.0143903131829575e-05, 2.1930709408479743e-06, 1.866997808974702e-05, 1.2575365872180555e-05]]], \"attentionHeadNames\": [\"L8H10\", \"L7H9\"], \"tokens\": [\"<|endoftext|>\", \"After\", \" John\", \",\", \" Mary\", \" and\", \" Jim\", \" went\", \" to\", \" the\", \" grocery\", \" store\", \" and\", \" return\", \",\", \" \", \" Jim\", \" and\", \" John\", \" gave\", \" a\", \" bottle\", \" of\", \" milk\", \" to\"]}\n",
       "    )\n",
       "    </script></div><div style='max-width: 700px;'><h2>Top Late Heads</h2><br/><div id=\"circuits-vis-b67288f3-6e4a\" style=\"margin: 15px 0;\"/>\n",
       "    <script crossorigin type=\"module\">\n",
       "    import { render, AttentionHeads } from \"https://unpkg.com/circuitsvis@1.43.2/dist/cdn/esm.js\";\n",
       "    render(\n",
       "      \"circuits-vis-b67288f3-6e4a\",\n",
       "      AttentionHeads,\n",
       "      {\"attention\": [[[1.0, 0.0, 0.0, 0.0, 0.0, 0.0, 0.0, 0.0, 0.0, 0.0, 0.0, 0.0, 0.0, 0.0, 0.0, 0.0, 0.0, 0.0, 0.0, 0.0, 0.0, 0.0, 0.0, 0.0, 0.0], [0.8979308009147644, 0.10206916928291321, 0.0, 0.0, 0.0, 0.0, 0.0, 0.0, 0.0, 0.0, 0.0, 0.0, 0.0, 0.0, 0.0, 0.0, 0.0, 0.0, 0.0, 0.0, 0.0, 0.0, 0.0, 0.0, 0.0], [0.8729650378227234, 0.04218238592147827, 0.0848526880145073, 0.0, 0.0, 0.0, 0.0, 0.0, 0.0, 0.0, 0.0, 0.0, 0.0, 0.0, 0.0, 0.0, 0.0, 0.0, 0.0, 0.0, 0.0, 0.0, 0.0, 0.0, 0.0], [0.3247550427913666, 0.027095647528767586, 0.46381112933158875, 0.18433810770511627, 0.0, 0.0, 0.0, 0.0, 0.0, 0.0, 0.0, 0.0, 0.0, 0.0, 0.0, 0.0, 0.0, 0.0, 0.0, 0.0, 0.0, 0.0, 0.0, 0.0, 0.0], [0.6239738464355469, 0.027887580916285515, 0.10586688667535782, 0.1380114108324051, 0.10426029562950134, 0.0, 0.0, 0.0, 0.0, 0.0, 0.0, 0.0, 0.0, 0.0, 0.0, 0.0, 0.0, 0.0, 0.0, 0.0, 0.0, 0.0, 0.0, 0.0, 0.0], [0.18250590562820435, 0.012433386407792568, 0.29612597823143005, 0.13473808765411377, 0.2847920358181, 0.08940460532903671, 0.0, 0.0, 0.0, 0.0, 0.0, 0.0, 0.0, 0.0, 0.0, 0.0, 0.0, 0.0, 0.0, 0.0, 0.0, 0.0, 0.0, 0.0, 0.0], [0.4079042971134186, 0.020753171294927597, 0.20631179213523865, 0.1096625030040741, 0.09268713742494583, 0.055323630571365356, 0.10735747218132019, 0.0, 0.0, 0.0, 0.0, 0.0, 0.0, 0.0, 0.0, 0.0, 0.0, 0.0, 0.0, 0.0, 0.0, 0.0, 0.0, 0.0, 0.0], [0.8634949922561646, 0.02658367156982422, 0.004181889351457357, 0.05373094603419304, 0.0033986642956733704, 0.022977590560913086, 0.0019379828590899706, 0.023694247007369995, 0.0, 0.0, 0.0, 0.0, 0.0, 0.0, 0.0, 0.0, 0.0, 0.0, 0.0, 0.0, 0.0, 0.0, 0.0, 0.0, 0.0], [0.21002493798732758, 0.025435704737901688, 0.20914462208747864, 0.06592583656311035, 0.14231182634830475, 0.030056167393922806, 0.25567570328712463, 0.03409799560904503, 0.027327202260494232, 0.0, 0.0, 0.0, 0.0, 0.0, 0.0, 0.0, 0.0, 0.0, 0.0, 0.0, 0.0, 0.0, 0.0, 0.0, 0.0], [0.6242587566375732, 0.03304111585021019, 0.036971479654312134, 0.05037368834018707, 0.02257029339671135, 0.05813517048954964, 0.01723746582865715, 0.016345104202628136, 0.06808111071586609, 0.07298588007688522, 0.0, 0.0, 0.0, 0.0, 0.0, 0.0, 0.0, 0.0, 0.0, 0.0, 0.0, 0.0, 0.0, 0.0, 0.0], [0.8173179626464844, 0.016834145411849022, 0.007294452283531427, 0.016665248200297356, 0.001353433821350336, 0.010659032501280308, 0.002090758876875043, 0.019662678241729736, 0.017081502825021744, 0.04296588525176048, 0.04807492345571518, 0.0, 0.0, 0.0, 0.0, 0.0, 0.0, 0.0, 0.0, 0.0, 0.0, 0.0, 0.0, 0.0, 0.0], [0.013134762644767761, 0.009498253464698792, 0.5092244744300842, 0.04143957048654556, 0.07954834401607513, 0.026486773043870926, 0.2923159599304199, 0.006192346569150686, 0.006315675098448992, 0.00944521278142929, 0.0011256136931478977, 0.005272888578474522, 0.0, 0.0, 0.0, 0.0, 0.0, 0.0, 0.0, 0.0, 0.0, 0.0, 0.0, 0.0, 0.0], [0.02448638156056404, 0.006308132316917181, 0.21260438859462738, 0.03829159215092659, 0.29539310932159424, 0.029309770092368126, 0.32937178015708923, 0.016986027359962463, 0.006366746500134468, 0.0012666390975937247, 0.0020915959030389786, 0.003987959586083889, 0.03353586047887802, 0.0, 0.0, 0.0, 0.0, 0.0, 0.0, 0.0, 0.0, 0.0, 0.0, 0.0, 0.0], [0.12164583057165146, 0.014040842652320862, 0.2375398576259613, 0.07869647443294525, 0.1528405249118805, 0.07020308822393417, 0.19281430542469025, 0.01138367597013712, 0.005771238822489977, 0.008204060606658459, 0.008505546487867832, 0.011651581153273582, 0.06199890375137329, 0.02470416948199272, 0.0, 0.0, 0.0, 0.0, 0.0, 0.0, 0.0, 0.0, 0.0, 0.0, 0.0], [0.009860504418611526, 0.0047051748260855675, 0.1098182275891304, 0.021881308406591415, 0.277692973613739, 0.01666022650897503, 0.5371700525283813, 0.0013624511193484068, 0.000997222145088017, 0.0011464495910331607, 0.0001291281805606559, 0.0004758007125928998, 0.006720923352986574, 0.001438612467609346, 0.009940961375832558, 0.0, 0.0, 0.0, 0.0, 0.0, 0.0, 0.0, 0.0, 0.0, 0.0], [0.5480992197990417, 0.03879379853606224, 0.04421796277165413, 0.0906938910484314, 0.04783490300178528, 0.026246286928653717, 0.0860619992017746, 0.006134707015007734, 0.004210872575640678, 0.0053766462951898575, 0.0005852816975675523, 0.0027186053339391947, 0.018584134057164192, 0.0037211854942142963, 0.05012543499469757, 0.026595115661621094, 0.0, 0.0, 0.0, 0.0, 0.0, 0.0, 0.0, 0.0, 0.0], [0.09944356977939606, 0.013377092778682709, 0.03047143667936325, 0.143180713057518, 0.05048716440796852, 0.0496085025370121, 0.15084226429462433, 0.007209631614387035, 0.0017347735119983554, 0.0016205344581976533, 0.0001745218614814803, 0.0008546101744286716, 0.022603783756494522, 0.004292279947549105, 0.039900392293930054, 0.004076844546943903, 0.3801218867301941, 0.0, 0.0, 0.0, 0.0, 0.0, 0.0, 0.0, 0.0], [0.027918310835957527, 0.0026183295994997025, 0.03400165215134621, 0.035097260028123856, 0.5428775548934937, 0.025951411575078964, 0.09954967349767685, 0.0004502817173488438, 0.00045873119961470366, 0.0006965425563976169, 1.6747617337387055e-05, 9.502425382379442e-05, 0.003880780888721347, 0.00032328307861462235, 0.012606809847056866, 0.008013891987502575, 0.1497924029827118, 0.05565136298537254, 0.0, 0.0, 0.0, 0.0, 0.0, 0.0, 0.0], [0.02443874627351761, 0.006924885790795088, 0.03595203906297684, 0.07393909990787506, 0.07048873603343964, 0.0719725638628006, 0.1289987862110138, 0.006617793347686529, 0.0018403632566332817, 0.0013146820710971951, 0.0001693538506515324, 0.0006200318457558751, 0.02589794062077999, 0.002958372002467513, 0.030345873907208443, 0.0032506173010915518, 0.32951807975769043, 0.08550168573856354, 0.09925033152103424, 0.0, 0.0, 0.0, 0.0, 0.0, 0.0], [0.008160312660038471, 0.0027213781140744686, 0.049041997641325, 0.01968781091272831, 0.3097977340221405, 0.019499750807881355, 0.2220924198627472, 0.0006137824384495616, 0.0003931363462470472, 0.0011167554184794426, 0.00016661638801451772, 0.0003574092697817832, 0.004049315582960844, 0.0006995224975980818, 0.010064690373837948, 0.0034478972665965557, 0.25687336921691895, 0.03961455076932907, 0.046402815729379654, 0.00519872922450304, 0.0, 0.0, 0.0, 0.0, 0.0], [0.4187193810939789, 0.020606232807040215, 0.01997317187488079, 0.034077197313308716, 0.011142436414957047, 0.0189152043312788, 0.004577816464006901, 0.012024513445794582, 0.005112856160849333, 0.0029280732851475477, 0.008534019812941551, 0.006682405713945627, 0.009727349504828453, 0.03951761871576309, 0.024062687531113625, 0.03857671841979027, 0.013666626997292042, 0.03189452365040779, 0.007661751471459866, 0.20824389159679413, 0.06335553526878357, 0.0, 0.0, 0.0, 0.0], [0.17161092162132263, 0.024571217596530914, 0.037215691059827805, 0.08429621905088425, 0.01929745264351368, 0.05476302281022072, 0.025539977476000786, 0.01207452081143856, 0.009909619577229023, 0.013175766915082932, 0.0010939933126792312, 0.0023085966240614653, 0.028362883254885674, 0.017667533829808235, 0.05581095442175865, 0.07125335931777954, 0.06100703775882721, 0.06834746152162552, 0.02104335092008114, 0.0876307487487793, 0.10536060482263565, 0.027659131214022636, 0.0, 0.0, 0.0], [0.11506244540214539, 0.01749754138290882, 0.07668539881706238, 0.0409897044301033, 0.1402779072523117, 0.0334828682243824, 0.10262276232242584, 0.0021442980505526066, 0.0034912738483399153, 0.0038818742614239454, 0.0015774248167872429, 0.0009760109824128449, 0.007458328269422054, 0.0009567034430801868, 0.023296091705560684, 0.030993059277534485, 0.11869315057992935, 0.07747727632522583, 0.03570973500609398, 0.027577105909585953, 0.010216635651886463, 0.04838443174958229, 0.08054795861244202, 0.0, 0.0], [0.13818028569221497, 0.020472008734941483, 0.07548537105321884, 0.044367533177137375, 0.01888756826519966, 0.03200489282608032, 0.03176932781934738, 0.00940644834190607, 0.007326007355004549, 0.007118696812540293, 0.0014220221200957894, 0.003046893747523427, 0.02163245715200901, 0.012204109691083431, 0.05660327896475792, 0.10820860415697098, 0.07730758190155029, 0.06163368374109268, 0.03093598783016205, 0.043348558247089386, 0.04563925415277481, 0.03815273568034172, 0.0755264163017273, 0.03932025656104088, 0.0], [0.0031587870325893164, 0.0014398788334801793, 0.028277933597564697, 0.02001572586596012, 0.46785247325897217, 0.013167577795684338, 0.18137703835964203, 0.00012189380504423752, 9.376535308547318e-05, 0.0002708638785406947, 9.251933988707606e-06, 4.052196891279891e-05, 0.001041472190991044, 9.312834299635142e-05, 0.005364934913814068, 0.0029330304823815823, 0.21146851778030396, 0.030593499541282654, 0.023411046713590622, 0.0013848076341673732, 8.847427670843899e-05, 2.7713418603525497e-05, 0.0002526382450014353, 0.00030088084167800844, 0.007214163895696402]], [[1.0, 0.0, 0.0, 0.0, 0.0, 0.0, 0.0, 0.0, 0.0, 0.0, 0.0, 0.0, 0.0, 0.0, 0.0, 0.0, 0.0, 0.0, 0.0, 0.0, 0.0, 0.0, 0.0, 0.0, 0.0], [0.9847356081008911, 0.015264462679624557, 0.0, 0.0, 0.0, 0.0, 0.0, 0.0, 0.0, 0.0, 0.0, 0.0, 0.0, 0.0, 0.0, 0.0, 0.0, 0.0, 0.0, 0.0, 0.0, 0.0, 0.0, 0.0, 0.0], [0.9594191312789917, 0.005407329648733139, 0.035173531621694565, 0.0, 0.0, 0.0, 0.0, 0.0, 0.0, 0.0, 0.0, 0.0, 0.0, 0.0, 0.0, 0.0, 0.0, 0.0, 0.0, 0.0, 0.0, 0.0, 0.0, 0.0, 0.0], [0.794948399066925, 0.01754068210721016, 0.1781478077173233, 0.00936304684728384, 0.0, 0.0, 0.0, 0.0, 0.0, 0.0, 0.0, 0.0, 0.0, 0.0, 0.0, 0.0, 0.0, 0.0, 0.0, 0.0, 0.0, 0.0, 0.0, 0.0, 0.0], [0.9262835383415222, 0.01260426826775074, 0.026591124013066292, 0.0026284148916602135, 0.031892675906419754, 0.0, 0.0, 0.0, 0.0, 0.0, 0.0, 0.0, 0.0, 0.0, 0.0, 0.0, 0.0, 0.0, 0.0, 0.0, 0.0, 0.0, 0.0, 0.0, 0.0], [0.865225076675415, 0.012326393276453018, 0.07510707527399063, 0.00198023347184062, 0.0432971827685833, 0.0020639654248952866, 0.0, 0.0, 0.0, 0.0, 0.0, 0.0, 0.0, 0.0, 0.0, 0.0, 0.0, 0.0, 0.0, 0.0, 0.0, 0.0, 0.0, 0.0, 0.0], [0.8124770522117615, 0.02772386185824871, 0.05965818464756012, 0.005389590747654438, 0.025030743330717087, 0.0018385415896773338, 0.06788202375173569, 0.0, 0.0, 0.0, 0.0, 0.0, 0.0, 0.0, 0.0, 0.0, 0.0, 0.0, 0.0, 0.0, 0.0, 0.0, 0.0, 0.0, 0.0], [0.9577632546424866, 0.014109996147453785, 0.010525504127144814, 0.0017377253388985991, 0.001392921432852745, 0.000645973370410502, 0.00901870522648096, 0.0048058610409498215, 0.0, 0.0, 0.0, 0.0, 0.0, 0.0, 0.0, 0.0, 0.0, 0.0, 0.0, 0.0, 0.0, 0.0, 0.0, 0.0, 0.0], [0.7688183784484863, 0.005625465419143438, 0.07284621149301529, 0.0016648932360112667, 0.02601083740592003, 0.0005185145419090986, 0.11866163462400436, 0.0021596853621304035, 0.0036944299936294556, 0.0, 0.0, 0.0, 0.0, 0.0, 0.0, 0.0, 0.0, 0.0, 0.0, 0.0, 0.0, 0.0, 0.0, 0.0, 0.0], [0.9614661931991577, 0.003666609525680542, 0.006167003884911537, 0.001439155312255025, 0.0032168047036975622, 0.0006941066239960492, 0.01321153249591589, 0.0006400611600838602, 0.000793621176853776, 0.008704976178705692, 0.0, 0.0, 0.0, 0.0, 0.0, 0.0, 0.0, 0.0, 0.0, 0.0, 0.0, 0.0, 0.0, 0.0, 0.0], [0.9696208834648132, 0.010497597977519035, 0.0016808948712423444, 0.00022624565463047475, 0.0005438412772491574, 0.0003675633925013244, 0.003227033419534564, 0.0003888006031047553, 8.841734234010801e-05, 0.00047207411262206733, 0.012886663898825645, 0.0, 0.0, 0.0, 0.0, 0.0, 0.0, 0.0, 0.0, 0.0, 0.0, 0.0, 0.0, 0.0, 0.0], [0.7260898351669312, 0.11137884855270386, 0.04791907221078873, 0.0007692626095376909, 0.026948554441332817, 0.0036305978428572416, 0.06875927746295929, 0.0009434483363293111, 0.0007006875239312649, 0.0014502116246148944, 0.003247989807277918, 0.008162222802639008, 0.0, 0.0, 0.0, 0.0, 0.0, 0.0, 0.0, 0.0, 0.0, 0.0, 0.0, 0.0, 0.0], [0.49927306175231934, 0.02012251690030098, 0.1790812462568283, 0.006564212962985039, 0.07540451735258102, 0.0032174689695239067, 0.1859234720468521, 0.007688469719141722, 0.0033883817959576845, 0.00460725137963891, 0.003771640593186021, 0.004806789569556713, 0.0061510102823376656, 0.0, 0.0, 0.0, 0.0, 0.0, 0.0, 0.0, 0.0, 0.0, 0.0, 0.0, 0.0], [0.8066196441650391, 0.02140912599861622, 0.05339008569717407, 0.002025584690272808, 0.04238246753811836, 0.0018234818708151579, 0.06303247064352036, 0.00022121482470538467, 0.001608321093954146, 0.0008028034935705364, 0.0027445186860859394, 0.001077383174560964, 0.0009983698837459087, 0.00186453340575099, 0.0, 0.0, 0.0, 0.0, 0.0, 0.0, 0.0, 0.0, 0.0, 0.0, 0.0], [0.09347463399171829, 0.014095389284193516, 0.30286452174186707, 0.002122994977980852, 0.27396538853645325, 0.001356842345558107, 0.3054988384246826, 0.0005829943693242967, 0.00037167395930737257, 0.0007615164504386485, 0.0008338661282323301, 0.00018931776867248118, 0.0004940766957588494, 0.0009111172403208911, 0.002476881258189678, 0.0, 0.0, 0.0, 0.0, 0.0, 0.0, 0.0, 0.0, 0.0, 0.0], [0.8442932963371277, 0.01811516284942627, 0.03992457687854767, 0.003322779666632414, 0.0304454006254673, 0.0011834462638944387, 0.03621352091431618, 0.0003863434831146151, 8.201420860132203e-05, 0.0006069547380320728, 0.0011086532613262534, 0.0008025758434087038, 0.001379975350573659, 0.000138023795443587, 0.0036441010888665915, 0.018353085964918137, 0.0, 0.0, 0.0, 0.0, 0.0, 0.0, 0.0, 0.0, 0.0], [0.40393826365470886, 0.04810061305761337, 0.05933784693479538, 0.023462848737835884, 0.06330598890781403, 0.013306360691785812, 0.17730994522571564, 0.03187919408082962, 0.004531772341579199, 0.0037445463240146637, 0.00310504250228405, 0.0040100314654409885, 0.0038276740815490484, 0.011010771617293358, 0.006326284725219011, 0.012754577212035656, 0.1300482153892517, 0.0, 0.0, 0.0, 0.0, 0.0, 0.0, 0.0, 0.0], [0.16154660284519196, 0.05182310938835144, 0.2002580463886261, 0.00973028689622879, 0.26436132192611694, 0.0030088969506323338, 0.11526571214199066, 0.0005715248407796025, 0.0004897178732790053, 0.0021722677629441023, 0.0005130124627612531, 0.0001160277024609968, 0.0003935323911719024, 0.00024566694628447294, 0.0040189907886087894, 0.017252182587981224, 0.16511568427085876, 0.0031174339819699526, 0.0, 0.0, 0.0, 0.0, 0.0, 0.0, 0.0], [0.15649069845676422, 0.030692532658576965, 0.042975932359695435, 0.1038009375333786, 0.11491118371486664, 0.020489340648055077, 0.0496082678437233, 0.06356172263622284, 0.005845191422849894, 0.0018109467346221209, 0.0012459434801712632, 0.0025011927355080843, 0.0004671824863180518, 0.003552256152033806, 0.004141987767070532, 0.006531964521855116, 0.02908339910209179, 0.15425053238868713, 0.20803874731063843, 0.0, 0.0, 0.0, 0.0, 0.0, 0.0], [0.1028677299618721, 0.03816026449203491, 0.2333383560180664, 0.0084022656083107, 0.21294789016246796, 0.0018255430040881038, 0.20484702289104462, 0.0014391778968274593, 0.000906539149582386, 0.0020967433229088783, 0.005271126050502062, 0.0013236396480351686, 0.0004829350800719112, 0.0015526750357821584, 0.00690756319090724, 0.02411600761115551, 0.10241317749023438, 0.0006351451738737524, 0.04416978359222412, 0.006296447012573481, 0.0, 0.0, 0.0, 0.0, 0.0], [0.7900339961051941, 0.03739214316010475, 0.030411582440137863, 0.005486452020704746, 0.02027115412056446, 0.004062160849571228, 0.029358215630054474, 0.0020491303876042366, 0.0014541796408593655, 0.0008766342070885003, 0.015573941171169281, 0.00447086850181222, 0.0012507594656199217, 0.00418951315805316, 0.00468262005597353, 0.0074317255057394505, 0.006591381970793009, 0.0007902072393335402, 0.0016937627224251628, 0.007085017394274473, 0.02484445832669735, 0.0, 0.0, 0.0, 0.0], [0.77166748046875, 0.058791518211364746, 0.020455647259950638, 0.0018672302830964327, 0.010359366424381733, 0.0037524413783103228, 0.02481437847018242, 0.0008988526533357799, 0.0040155746974051, 0.001428517047315836, 0.00239047990180552, 0.0026961902622133493, 0.003749073250219226, 0.004955804906785488, 0.004368299152702093, 0.009733431972563267, 0.004999465309083462, 0.0002978536067530513, 0.0011590521316975355, 0.002497375011444092, 0.009941070340573788, 0.055160947144031525, 0.0, 0.0, 0.0], [0.6088755130767822, 0.05780252814292908, 0.06175563111901283, 0.0015089277876541018, 0.07932672649621964, 0.0011878447839990258, 0.07268769294023514, 0.00012730818707495928, 0.00024386811128351837, 0.001450281823053956, 0.0058859894052147865, 0.000757531204726547, 0.0007310572545975447, 0.0005929429898969829, 0.002457659225910902, 0.02426808886229992, 0.016508618369698524, 0.00012784352293238044, 0.010563056915998459, 0.0007929522544145584, 0.026106158271431923, 0.02260444313287735, 0.003637313609942794, 0.0, 0.0], [0.6431015133857727, 0.10125464200973511, 0.02206626906991005, 0.001830519293434918, 0.021571623161435127, 0.00490074697881937, 0.04322395473718643, 0.0006722842226736248, 0.002705917926505208, 0.001047900295816362, 0.0017848254647105932, 0.0034687528386712074, 0.003237660974264145, 0.003889104351401329, 0.0037504248321056366, 0.024054037407040596, 0.0067239487543702126, 0.0004384234780445695, 0.0009242917876690626, 0.001793541363440454, 0.008326182141900063, 0.029580645263195038, 0.00865568034350872, 0.06099706515669823, 0.0], [0.0076843006536364555, 0.004959964193403721, 0.17897087335586548, 0.003742724424228072, 0.4145098924636841, 0.0010101828956976533, 0.2683686316013336, 7.42498305044137e-05, 5.449210584629327e-05, 0.000827375624794513, 0.00015502992027904838, 3.0317889468278736e-05, 0.00011249024828430265, 4.585584974847734e-05, 0.0007379763992503285, 0.008931917138397694, 0.08723487704992294, 8.317347237607464e-05, 0.020225388929247856, 4.645837179850787e-05, 0.0004437754687387496, 0.00012983864871785045, 2.5173992980853654e-05, 0.0003992035344708711, 0.001195850083604455]], [[1.0, 0.0, 0.0, 0.0, 0.0, 0.0, 0.0, 0.0, 0.0, 0.0, 0.0, 0.0, 0.0, 0.0, 0.0, 0.0, 0.0, 0.0, 0.0, 0.0, 0.0, 0.0, 0.0, 0.0, 0.0], [0.9632198810577393, 0.03678012639284134, 0.0, 0.0, 0.0, 0.0, 0.0, 0.0, 0.0, 0.0, 0.0, 0.0, 0.0, 0.0, 0.0, 0.0, 0.0, 0.0, 0.0, 0.0, 0.0, 0.0, 0.0, 0.0, 0.0], [0.7870935201644897, 0.011823760345578194, 0.20108270645141602, 0.0, 0.0, 0.0, 0.0, 0.0, 0.0, 0.0, 0.0, 0.0, 0.0, 0.0, 0.0, 0.0, 0.0, 0.0, 0.0, 0.0, 0.0, 0.0, 0.0, 0.0, 0.0], [0.7344034910202026, 0.010742849670350552, 0.23067176342010498, 0.024181876331567764, 0.0, 0.0, 0.0, 0.0, 0.0, 0.0, 0.0, 0.0, 0.0, 0.0, 0.0, 0.0, 0.0, 0.0, 0.0, 0.0, 0.0, 0.0, 0.0, 0.0, 0.0], [0.5959656238555908, 0.012918507680296898, 0.17132385075092316, 0.016840288415551186, 0.20295163989067078, 0.0, 0.0, 0.0, 0.0, 0.0, 0.0, 0.0, 0.0, 0.0, 0.0, 0.0, 0.0, 0.0, 0.0, 0.0, 0.0, 0.0, 0.0, 0.0, 0.0], [0.6546053886413574, 0.004843628965318203, 0.17516106367111206, 0.006677390541881323, 0.1525154411792755, 0.006197185255587101, 0.0, 0.0, 0.0, 0.0, 0.0, 0.0, 0.0, 0.0, 0.0, 0.0, 0.0, 0.0, 0.0, 0.0, 0.0, 0.0, 0.0, 0.0, 0.0], [0.4568638503551483, 0.008123247884213924, 0.1975451558828354, 0.013293860480189323, 0.15218877792358398, 0.0045348661951720715, 0.1674501895904541, 0.0, 0.0, 0.0, 0.0, 0.0, 0.0, 0.0, 0.0, 0.0, 0.0, 0.0, 0.0, 0.0, 0.0, 0.0, 0.0, 0.0, 0.0], [0.8981605768203735, 0.007523315493017435, 0.015236742794513702, 0.01436876691877842, 0.029103897511959076, 0.003943419083952904, 0.012666293419897556, 0.01899692602455616, 0.0, 0.0, 0.0, 0.0, 0.0, 0.0, 0.0, 0.0, 0.0, 0.0, 0.0, 0.0, 0.0, 0.0, 0.0, 0.0, 0.0], [0.5271966457366943, 0.008721575140953064, 0.144373819231987, 0.011553017422556877, 0.10285452753305435, 0.004731338005512953, 0.1777305006980896, 0.01477896235883236, 0.008059663698077202, 0.0, 0.0, 0.0, 0.0, 0.0, 0.0, 0.0, 0.0, 0.0, 0.0, 0.0, 0.0, 0.0, 0.0, 0.0, 0.0], [0.7758954167366028, 0.011928060092031956, 0.04511971399188042, 0.01829960197210312, 0.042543962597846985, 0.01035274751484394, 0.05316312983632088, 0.013343856669962406, 0.01407352089881897, 0.01527996826916933, 0.0, 0.0, 0.0, 0.0, 0.0, 0.0, 0.0, 0.0, 0.0, 0.0, 0.0, 0.0, 0.0, 0.0, 0.0], [0.9218538999557495, 0.009221743792295456, 0.015899786725640297, 0.0020640750881284475, 0.005037535447627306, 0.0006552904960699379, 0.0066843763925135136, 0.0015591291012242436, 0.0010485296370461583, 0.0011863606050610542, 0.03478923812508583, 0.0, 0.0, 0.0, 0.0, 0.0, 0.0, 0.0, 0.0, 0.0, 0.0, 0.0, 0.0, 0.0, 0.0], [0.15983743965625763, 0.009409066289663315, 0.2989431619644165, 0.0016402751207351685, 0.22534458339214325, 0.00047676105168648064, 0.2922145426273346, 0.0015671920264139771, 0.00025521250790916383, 0.0003759629325941205, 0.0066678402945399284, 0.003267910098657012, 0.0, 0.0, 0.0, 0.0, 0.0, 0.0, 0.0, 0.0, 0.0, 0.0, 0.0, 0.0, 0.0], [0.25648802518844604, 0.011625264771282673, 0.18640825152397156, 0.010408470407128334, 0.23909637331962585, 0.0037598388735204935, 0.23366370797157288, 0.011461745016276836, 0.0034260733518749475, 0.004551926627755165, 0.024268437176942825, 0.010509926825761795, 0.0043319459073245525, 0.0, 0.0, 0.0, 0.0, 0.0, 0.0, 0.0, 0.0, 0.0, 0.0, 0.0, 0.0], [0.39638781547546387, 0.011390874162316322, 0.10150570422410965, 0.006917946971952915, 0.22308628261089325, 0.0034440557938069105, 0.1790325939655304, 0.005655077286064625, 0.0014119778061285615, 0.0014260750031098723, 0.04437759518623352, 0.01757126860320568, 0.002198009518906474, 0.00559477973729372, 0.0, 0.0, 0.0, 0.0, 0.0, 0.0, 0.0, 0.0, 0.0, 0.0, 0.0], [0.14473795890808105, 0.006736429408192635, 0.19780333340168, 0.00327688897959888, 0.33007922768592834, 0.0018772922921925783, 0.3014228641986847, 0.0021949193906039, 0.0003736827347893268, 0.0004997123614884913, 0.006377963814884424, 0.0009872607188299298, 0.0005571266519837081, 0.0009048786014318466, 0.002170523162931204, 0.0, 0.0, 0.0, 0.0, 0.0, 0.0, 0.0, 0.0, 0.0, 0.0], [0.603057324886322, 0.023206567391753197, 0.05862203612923622, 0.005389735102653503, 0.12136530876159668, 0.004357059020549059, 0.10724060982465744, 0.001159698236733675, 0.0004311013035476208, 0.00030201266054064035, 0.006386192515492439, 0.002657652134075761, 0.0018519709119573236, 0.00071849295636639, 0.006755544804036617, 0.056498702615499496, 0.0, 0.0, 0.0, 0.0, 0.0, 0.0, 0.0, 0.0, 0.0], [0.16701968014240265, 0.005153031088411808, 0.0836927592754364, 0.004557020962238312, 0.22853060066699982, 0.0012676150072366, 0.17350104451179504, 0.005875153932720423, 0.0005615113768726587, 0.0005736990715377033, 0.008837925270199776, 0.002885224064812064, 0.0005018266965635121, 0.002554135862737894, 0.0027275586035102606, 0.04738028347492218, 0.26438093185424805, 0.0, 0.0, 0.0, 0.0, 0.0, 0.0, 0.0, 0.0], [0.21117910742759705, 0.009073236957192421, 0.1439979523420334, 0.0009813050273805857, 0.4240032732486725, 0.0005689834360964596, 0.10171319544315338, 0.0008375987526960671, 0.00026385459932498634, 0.00028924987418577075, 0.003598310984671116, 0.00034005165798589587, 0.00013508221309166402, 0.00024929357459768653, 0.0004389090754557401, 0.014019793830811977, 0.08792564272880554, 0.0003851122746709734, 0.0, 0.0, 0.0, 0.0, 0.0, 0.0, 0.0], [0.0663369670510292, 0.003512459574267268, 0.03940605744719505, 0.002006791764870286, 0.2244383841753006, 0.0005355612956918776, 0.16466496884822845, 0.010594343766570091, 0.0005113250808790326, 0.00014155292592477053, 0.006819728296250105, 0.0023534907959401608, 0.00011593128147069365, 0.006361968349665403, 0.0010081601794809103, 0.04339149594306946, 0.2406255155801773, 0.0020521660335361958, 0.18512310087680817, 0.0, 0.0, 0.0, 0.0, 0.0, 0.0], [0.18856514990329742, 0.01355030294507742, 0.1303897351026535, 0.0030299455393105745, 0.36888593435287476, 0.0016465219669044018, 0.1369819939136505, 0.0029608733020722866, 0.0009922031313180923, 0.0012381917331367731, 0.012147722765803337, 0.0017922528786584735, 0.0005040060495957732, 0.0010425724321976304, 0.0019397663418203592, 0.046744026243686676, 0.06312134861946106, 0.0005672377883456647, 0.018853791058063507, 0.005046512931585312, 0.0, 0.0, 0.0, 0.0, 0.0], [0.5291765928268433, 0.012239081785082817, 0.0327729731798172, 0.015267967246472836, 0.05364791303873062, 0.008708900772035122, 0.027949275448918343, 0.006991908419877291, 0.005974114872515202, 0.002971019595861435, 0.1262236386537552, 0.024914434179663658, 0.0024940117727965117, 0.0045079137198626995, 0.010322497226297855, 0.07084855437278748, 0.01402005273848772, 0.005141894333064556, 0.006068653427064419, 0.03164651244878769, 0.008112101815640926, 0.0, 0.0, 0.0, 0.0], [0.6566891670227051, 0.015260943211615086, 0.041754014790058136, 0.003131059231236577, 0.048516061156988144, 0.0016707185423001647, 0.04380999132990837, 0.002131963614374399, 0.001360586960799992, 0.000789221259765327, 0.011473173275589943, 0.005982716102153063, 0.0011816543992608786, 0.0014144298620522022, 0.0036502289585769176, 0.07971645146608353, 0.029024986550211906, 0.001201312872581184, 0.005915505345910788, 0.007528217509388924, 0.0016923287184908986, 0.036105282604694366, 0.0, 0.0, 0.0], [0.4032304286956787, 0.007356541696935892, 0.03334667161107063, 0.0026345280930399895, 0.12288433313369751, 0.002414035378023982, 0.09150492399930954, 0.0019779407884925604, 0.001501961494795978, 0.001602435251697898, 0.09305631369352341, 0.009895268827676773, 0.0011760082561522722, 0.0009255876066163182, 0.0021383098792284727, 0.04122019559144974, 0.03505643084645271, 0.0009136006119661033, 0.00451194541528821, 0.004449027590453625, 0.002244444563984871, 0.12029018253087997, 0.015668924897909164, 0.0, 0.0], [0.4913772642612457, 0.012245574966073036, 0.07182793319225311, 0.0026963897980749607, 0.08580363541841507, 0.0015844691079109907, 0.10030987858772278, 0.0013761493610218167, 0.0007239615079015493, 0.00046831858344376087, 0.009797682985663414, 0.004035032354295254, 0.0007040768978185952, 0.0006002280279062688, 0.0024223611690104008, 0.06749533116817474, 0.03198879584670067, 0.000728679180610925, 0.005909345578402281, 0.0026004912797361612, 0.0008512284839525819, 0.025957651436328888, 0.004292961675673723, 0.07420259714126587, 0.0], [0.08249151706695557, 0.00864393264055252, 0.11890317499637604, 0.0012741649989038706, 0.5492374300956726, 0.0003204320964869112, 0.13772976398468018, 0.0007445848314091563, 0.00014814849419053644, 0.00017471180763095617, 0.0014693799894303083, 0.0002315688325325027, 8.830799197312444e-05, 0.00010036674211733043, 0.00038718804717063904, 0.014749256893992424, 0.060957178473472595, 0.00012617716856766492, 0.010246694087982178, 0.0006159432232379913, 0.00018674577586352825, 0.0007286969921551645, 0.0001295511901844293, 0.009118513204157352, 0.0011965044541284442]], [[1.0, 0.0, 0.0, 0.0, 0.0, 0.0, 0.0, 0.0, 0.0, 0.0, 0.0, 0.0, 0.0, 0.0, 0.0, 0.0, 0.0, 0.0, 0.0, 0.0, 0.0, 0.0, 0.0, 0.0, 0.0], [0.9374700784683228, 0.06252991408109665, 0.0, 0.0, 0.0, 0.0, 0.0, 0.0, 0.0, 0.0, 0.0, 0.0, 0.0, 0.0, 0.0, 0.0, 0.0, 0.0, 0.0, 0.0, 0.0, 0.0, 0.0, 0.0, 0.0], [0.9412386417388916, 0.020480560138821602, 0.03828079625964165, 0.0, 0.0, 0.0, 0.0, 0.0, 0.0, 0.0, 0.0, 0.0, 0.0, 0.0, 0.0, 0.0, 0.0, 0.0, 0.0, 0.0, 0.0, 0.0, 0.0, 0.0, 0.0], [0.811972439289093, 0.036437273025512695, 0.07202401012182236, 0.07956631481647491, 0.0, 0.0, 0.0, 0.0, 0.0, 0.0, 0.0, 0.0, 0.0, 0.0, 0.0, 0.0, 0.0, 0.0, 0.0, 0.0, 0.0, 0.0, 0.0, 0.0, 0.0], [0.8230701684951782, 0.0233079232275486, 0.034882523119449615, 0.062272343784570694, 0.056467048823833466, 0.0, 0.0, 0.0, 0.0, 0.0, 0.0, 0.0, 0.0, 0.0, 0.0, 0.0, 0.0, 0.0, 0.0, 0.0, 0.0, 0.0, 0.0, 0.0, 0.0], [0.6690689325332642, 0.018453678116202354, 0.07722410559654236, 0.059577297419309616, 0.10875505208969116, 0.06692096590995789, 0.0, 0.0, 0.0, 0.0, 0.0, 0.0, 0.0, 0.0, 0.0, 0.0, 0.0, 0.0, 0.0, 0.0, 0.0, 0.0, 0.0, 0.0, 0.0], [0.7433889508247375, 0.027123330160975456, 0.04980657622218132, 0.03356648236513138, 0.10002294182777405, 0.006768607068806887, 0.039323046803474426, 0.0, 0.0, 0.0, 0.0, 0.0, 0.0, 0.0, 0.0, 0.0, 0.0, 0.0, 0.0, 0.0, 0.0, 0.0, 0.0, 0.0, 0.0], [0.8600085973739624, 0.030501333996653557, 0.01953382045030594, 0.015336355194449425, 0.055500127375125885, 0.0046673184260725975, 0.009481500834226608, 0.0049709053710103035, 0.0, 0.0, 0.0, 0.0, 0.0, 0.0, 0.0, 0.0, 0.0, 0.0, 0.0, 0.0, 0.0, 0.0, 0.0, 0.0, 0.0], [0.8001765608787537, 0.03157429397106171, 0.04645055904984474, 0.023438572883605957, 0.046958837658166885, 0.008848893456161022, 0.030732683837413788, 0.0027970445808023214, 0.009022627025842667, 0.0, 0.0, 0.0, 0.0, 0.0, 0.0, 0.0, 0.0, 0.0, 0.0, 0.0, 0.0, 0.0, 0.0, 0.0, 0.0], [0.8600288033485413, 0.029583318158984184, 0.016742879524827003, 0.016970017924904823, 0.016665397211909294, 0.00644534220919013, 0.010682911612093449, 0.0019518891349434853, 0.01134524680674076, 0.029584171250462532, 0.0, 0.0, 0.0, 0.0, 0.0, 0.0, 0.0, 0.0, 0.0, 0.0, 0.0, 0.0, 0.0, 0.0, 0.0], [0.9080935716629028, 0.027304047718644142, 0.008151245303452015, 0.013678629882633686, 0.014774033799767494, 0.003305710619315505, 0.005401805508881807, 0.0029278455767780542, 0.002749817678704858, 0.002439154777675867, 0.011174056679010391, 0.0, 0.0, 0.0, 0.0, 0.0, 0.0, 0.0, 0.0, 0.0, 0.0, 0.0, 0.0, 0.0, 0.0], [0.30050140619277954, 0.052370037883520126, 0.1197127252817154, 0.03901302069425583, 0.33557432889938354, 0.010525117628276348, 0.11348053067922592, 0.002379746176302433, 0.0030427593737840652, 0.0029460862278938293, 0.004884414840489626, 0.015569896437227726, 0.0, 0.0, 0.0, 0.0, 0.0, 0.0, 0.0, 0.0, 0.0, 0.0, 0.0, 0.0, 0.0], [0.5185335278511047, 0.034104760736227036, 0.10116022080183029, 0.025301821529865265, 0.16330192983150482, 0.013479121029376984, 0.10285360366106033, 0.0041874065063893795, 0.0030699260532855988, 0.003845102386549115, 0.011895985342562199, 0.008487734943628311, 0.009778901003301144, 0.0, 0.0, 0.0, 0.0, 0.0, 0.0, 0.0, 0.0, 0.0, 0.0, 0.0, 0.0], [0.5653917789459229, 0.029821712523698807, 0.07020872831344604, 0.03047310933470726, 0.18440453708171844, 0.00879975501447916, 0.057565901428461075, 0.0036982286255806684, 0.001965864561498165, 0.0025935235898941755, 0.022306906059384346, 0.011671901680529118, 0.00688164122402668, 0.004216318018734455, 0.0, 0.0, 0.0, 0.0, 0.0, 0.0, 0.0, 0.0, 0.0, 0.0, 0.0], [0.681826651096344, 0.027075279504060745, 0.053727105259895325, 0.02183840237557888, 0.10763297975063324, 0.0124796312302351, 0.042634543031454086, 0.001713744830340147, 0.0020709566306322813, 0.00285061402246356, 0.011313657276332378, 0.006642312742769718, 0.005795387551188469, 0.0021993224509060383, 0.02019946649670601, 0.0, 0.0, 0.0, 0.0, 0.0, 0.0, 0.0, 0.0, 0.0, 0.0], [0.7429198622703552, 0.03046097420156002, 0.03423955664038658, 0.0156412310898304, 0.051879338920116425, 0.006736528128385544, 0.018687384203076363, 0.0014756531454622746, 0.0010733924573287368, 0.0009778633248060942, 0.0018164529465138912, 0.0015705629484727979, 0.002058063866570592, 0.000580238935071975, 0.010249282233417034, 0.07963362336158752, 0.0, 0.0, 0.0, 0.0, 0.0, 0.0, 0.0, 0.0, 0.0], [0.46643248200416565, 0.019244983792304993, 0.04093708470463753, 0.01470956951379776, 0.12872633337974548, 0.004583684727549553, 0.02236223965883255, 0.0044028074480593204, 0.0007551861344836652, 0.0008594622486270964, 0.018183309584856033, 0.010181277059018612, 0.0022791416849941015, 0.003918136470019817, 0.01129208318889141, 0.19118274748325348, 0.05994945764541626, 0.0, 0.0, 0.0, 0.0, 0.0, 0.0, 0.0, 0.0], [0.6564584970474243, 0.012221988290548325, 0.03465103358030319, 0.015580030158162117, 0.12176332622766495, 0.011614013463258743, 0.029355879873037338, 0.000901959661860019, 0.0009917857823893428, 0.0010988825233653188, 0.004045466892421246, 0.0021209451369941235, 0.0019861487671732903, 0.0011566049652174115, 0.009650920517742634, 0.06491680443286896, 0.01987791620194912, 0.01160773541778326, 0.0, 0.0, 0.0, 0.0, 0.0, 0.0, 0.0], [0.4899100363254547, 0.020098688080906868, 0.021668143570423126, 0.02075071819126606, 0.07680179923772812, 0.008967796340584755, 0.01567034237086773, 0.0034165435936301947, 0.0008550112252123654, 0.0009213374578393996, 0.009950359351933002, 0.009527799673378468, 0.0028822387102991343, 0.004170007072389126, 0.013800112530589104, 0.19626392424106598, 0.041965264827013016, 0.015663044527173042, 0.0467168428003788, 0.0, 0.0, 0.0, 0.0, 0.0, 0.0], [0.5190324187278748, 0.022445477545261383, 0.049833618104457855, 0.01662568561732769, 0.12758710980415344, 0.012047982774674892, 0.03755005821585655, 0.0014146615285426378, 0.002282315632328391, 0.00449034571647644, 0.013779109343886375, 0.005672618746757507, 0.003738617757335305, 0.002402407582849264, 0.016221793368458748, 0.08690281957387924, 0.02599192224442959, 0.013247501105070114, 0.02211935818195343, 0.016614148393273354, 0.0, 0.0, 0.0, 0.0, 0.0], [0.6294369697570801, 0.016575375571846962, 0.03421037644147873, 0.009474938735365868, 0.053971316665410995, 0.005799676291644573, 0.020926758646965027, 0.0039643701165914536, 0.004389886744320393, 0.005296030081808567, 0.0494685061275959, 0.018151484429836273, 0.002560707274824381, 0.008307402953505516, 0.009467852301895618, 0.061709653586149216, 0.01666194573044777, 0.006023897789418697, 0.016559531912207603, 0.02167646400630474, 0.005366880912333727, 0.0, 0.0, 0.0, 0.0], [0.4257907271385193, 0.016471408307552338, 0.05405299738049507, 0.020297378301620483, 0.07051390409469604, 0.008630003780126572, 0.05199470371007919, 0.004127818159759045, 0.0015458547277376056, 0.0011711372062563896, 0.0071099549531936646, 0.0045014857314527035, 0.004521636757999659, 0.007337859831750393, 0.014907277189195156, 0.14376895129680634, 0.0539998784661293, 0.009283969178795815, 0.039873745292425156, 0.027552058920264244, 0.004707173444330692, 0.027840103954076767, 0.0, 0.0, 0.0], [0.6010223031044006, 0.014279868453741074, 0.05193397402763367, 0.010075495578348637, 0.06534278392791748, 0.005271474830806255, 0.040465567260980606, 0.000708914187271148, 0.0013748506316915154, 0.002816913416609168, 0.02195112220942974, 0.0027044792659580708, 0.0019219372188672423, 0.0007452163263224065, 0.0076647293753921986, 0.06699596345424652, 0.01730521209537983, 0.004798654932528734, 0.013061173260211945, 0.005538762081414461, 0.0019634959753602743, 0.03708964213728905, 0.024967538192868233, 0.0, 0.0], [0.35585135221481323, 0.0273470189422369, 0.06511193513870239, 0.01649712584912777, 0.0850084125995636, 0.008509046398103237, 0.06650802493095398, 0.002191212959587574, 0.001885587815195322, 0.0013408286031335592, 0.006351508665829897, 0.005340087227523327, 0.003640740877017379, 0.004198831971734762, 0.01701330952346325, 0.12837672233581543, 0.0607210248708725, 0.008004747331142426, 0.023562677204608917, 0.009161091409623623, 0.0028015500865876675, 0.032993581146001816, 0.015145054087042809, 0.05243851989507675, 0.0], [0.4631921350955963, 0.017242979258298874, 0.03954806923866272, 0.019181737676262856, 0.11644135415554047, 0.01103231217712164, 0.03986261785030365, 0.0009792385390028358, 0.0010462079662829638, 0.0016584486002102494, 0.003579160198569298, 0.0020001514349132776, 0.0023129333276301622, 0.001160009647719562, 0.010503720492124557, 0.1350744515657425, 0.030448783189058304, 0.010852578096091747, 0.022128861397504807, 0.011947673745453358, 0.0008890244062058628, 0.0046109771355986595, 0.0003746530564967543, 0.01979803666472435, 0.034133896231651306]], [[1.0, 0.0, 0.0, 0.0, 0.0, 0.0, 0.0, 0.0, 0.0, 0.0, 0.0, 0.0, 0.0, 0.0, 0.0, 0.0, 0.0, 0.0, 0.0, 0.0, 0.0, 0.0, 0.0, 0.0, 0.0], [0.9738439321517944, 0.026156030595302582, 0.0, 0.0, 0.0, 0.0, 0.0, 0.0, 0.0, 0.0, 0.0, 0.0, 0.0, 0.0, 0.0, 0.0, 0.0, 0.0, 0.0, 0.0, 0.0, 0.0, 0.0, 0.0, 0.0], [0.912888765335083, 0.062494631856679916, 0.02461661770939827, 0.0, 0.0, 0.0, 0.0, 0.0, 0.0, 0.0, 0.0, 0.0, 0.0, 0.0, 0.0, 0.0, 0.0, 0.0, 0.0, 0.0, 0.0, 0.0, 0.0, 0.0, 0.0], [0.759903073310852, 0.04753446206450462, 0.12011592835187912, 0.07244648784399033, 0.0, 0.0, 0.0, 0.0, 0.0, 0.0, 0.0, 0.0, 0.0, 0.0, 0.0, 0.0, 0.0, 0.0, 0.0, 0.0, 0.0, 0.0, 0.0, 0.0, 0.0], [0.8739426136016846, 0.05241372808814049, 0.03680930286645889, 0.027091000229120255, 0.009743381291627884, 0.0, 0.0, 0.0, 0.0, 0.0, 0.0, 0.0, 0.0, 0.0, 0.0, 0.0, 0.0, 0.0, 0.0, 0.0, 0.0, 0.0, 0.0, 0.0, 0.0], [0.683384895324707, 0.0275883711874485, 0.09758727997541428, 0.046084482222795486, 0.10987874120473862, 0.03547627478837967, 0.0, 0.0, 0.0, 0.0, 0.0, 0.0, 0.0, 0.0, 0.0, 0.0, 0.0, 0.0, 0.0, 0.0, 0.0, 0.0, 0.0, 0.0, 0.0], [0.8684506416320801, 0.04681728407740593, 0.019893663004040718, 0.02655269205570221, 0.007027844898402691, 0.025818387046456337, 0.005439439322799444, 0.0, 0.0, 0.0, 0.0, 0.0, 0.0, 0.0, 0.0, 0.0, 0.0, 0.0, 0.0, 0.0, 0.0, 0.0, 0.0, 0.0, 0.0], [0.722636878490448, 0.07097023725509644, 0.024669725447893143, 0.03970300406217575, 0.019717758521437645, 0.08638682961463928, 0.012845462188124657, 0.02307007648050785, 0.0, 0.0, 0.0, 0.0, 0.0, 0.0, 0.0, 0.0, 0.0, 0.0, 0.0, 0.0, 0.0, 0.0, 0.0, 0.0, 0.0], [0.5715559720993042, 0.03686443716287613, 0.08558475226163864, 0.06537966430187225, 0.08314383029937744, 0.067884661257267, 0.04704960435628891, 0.022837983444333076, 0.01969906874001026, 0.0, 0.0, 0.0, 0.0, 0.0, 0.0, 0.0, 0.0, 0.0, 0.0, 0.0, 0.0, 0.0, 0.0, 0.0, 0.0], [0.7170517444610596, 0.04357308894395828, 0.03917187079787254, 0.047331225126981735, 0.026585809886455536, 0.07425597310066223, 0.018943237140774727, 0.007152278907597065, 0.012866008095443249, 0.013068730011582375, 0.0, 0.0, 0.0, 0.0, 0.0, 0.0, 0.0, 0.0, 0.0, 0.0, 0.0, 0.0, 0.0, 0.0, 0.0], [0.8842698335647583, 0.025210095569491386, 0.014525415375828743, 0.009989781305193901, 0.008593487553298473, 0.005508742295205593, 0.008354845456779003, 0.002347394824028015, 0.009490367956459522, 0.016443178057670593, 0.01526685245335102, 0.0, 0.0, 0.0, 0.0, 0.0, 0.0, 0.0, 0.0, 0.0, 0.0, 0.0, 0.0, 0.0, 0.0], [0.5654528737068176, 0.10232249647378922, 0.08230014145374298, 0.03614276647567749, 0.03495623171329498, 0.013039201498031616, 0.023462092503905296, 0.018860898911952972, 0.027243217453360558, 0.030959082767367363, 0.020855490118265152, 0.044405415654182434, 0.0, 0.0, 0.0, 0.0, 0.0, 0.0, 0.0, 0.0, 0.0, 0.0, 0.0, 0.0, 0.0], [0.38767844438552856, 0.029366616159677505, 0.06760764122009277, 0.07039255648851395, 0.05110551044344902, 0.04029686003923416, 0.03148624673485756, 0.07221416383981705, 0.046433571726083755, 0.04907877370715141, 0.03152807429432869, 0.08128762245178223, 0.04152396321296692, 0.0, 0.0, 0.0, 0.0, 0.0, 0.0, 0.0, 0.0, 0.0, 0.0, 0.0, 0.0], [0.5117579698562622, 0.04433979466557503, 0.07065781205892563, 0.035303931683301926, 0.030653171241283417, 0.011012398637831211, 0.04164830967783928, 0.04782882332801819, 0.03028065152466297, 0.02082889713346958, 0.02677452191710472, 0.0511070117354393, 0.021419323980808258, 0.056387390941381454, 0.0, 0.0, 0.0, 0.0, 0.0, 0.0, 0.0, 0.0, 0.0, 0.0, 0.0], [0.32965272665023804, 0.024378571659326553, 0.08838927745819092, 0.042205579578876495, 0.07243842631578445, 0.08444575220346451, 0.07640048116445541, 0.06398874521255493, 0.05076378583908081, 0.015406059101223946, 0.009720182977616787, 0.01853288523852825, 0.023364663124084473, 0.06954090297222137, 0.030771946534514427, 0.0, 0.0, 0.0, 0.0, 0.0, 0.0, 0.0, 0.0, 0.0, 0.0], [0.8360132575035095, 0.036995820701122284, 0.01518066693097353, 0.010361146181821823, 0.017102064564824104, 0.013856900855898857, 0.010596566833555698, 0.002082712948322296, 0.003917205147445202, 0.002854631282389164, 0.0010012454586103559, 0.0016010708641260862, 0.002696865936741233, 0.0020626874174922705, 0.014195548370480537, 0.02948157675564289, 0.0, 0.0, 0.0, 0.0, 0.0, 0.0, 0.0, 0.0, 0.0], [0.6290279030799866, 0.07830740511417389, 0.007868921384215355, 0.010649559088051319, 0.006011156365275383, 0.006842268630862236, 0.005159909836947918, 0.005312362685799599, 0.012605954892933369, 0.009076454676687717, 0.009033502079546452, 0.024511724710464478, 0.017203960567712784, 0.042647361755371094, 0.049140557646751404, 0.034716639667749405, 0.05188431590795517, 0.0, 0.0, 0.0, 0.0, 0.0, 0.0, 0.0, 0.0], [0.430759996175766, 0.015222733840346336, 0.025304634124040604, 0.013320157304406166, 0.0571880005300045, 0.006150069180876017, 0.01757286861538887, 0.0017492284532636404, 0.0016418586019426584, 0.002040889812633395, 0.0009411776554770768, 0.0014875134220346808, 0.0018973828991875052, 0.0019856507424265146, 0.0074933674186468124, 0.016590865328907967, 0.38144931197166443, 0.01720423437654972, 0.0, 0.0, 0.0, 0.0, 0.0, 0.0, 0.0], [0.5079380869865417, 0.06542433798313141, 0.008073127828538418, 0.014470740221440792, 0.0046977149322628975, 0.030899258330464363, 0.003370675491169095, 0.008285603486001492, 0.009089035913348198, 0.007708029355853796, 0.008696216158568859, 0.024801120162010193, 0.02581760659813881, 0.06985651701688766, 0.041224852204322815, 0.020274784415960312, 0.04202236980199814, 0.07759395241737366, 0.029756011441349983, 0.0, 0.0, 0.0, 0.0, 0.0, 0.0], [0.286807119846344, 0.014448056928813457, 0.016995737329125404, 0.022947965189814568, 0.02676827274262905, 0.05625510960817337, 0.01836497336626053, 0.014256807044148445, 0.013369309715926647, 0.007296474184840918, 0.008487331680953503, 0.015965880826115608, 0.008786113932728767, 0.03105778992176056, 0.01989879459142685, 0.031737130135297775, 0.13417279720306396, 0.07564335316419601, 0.14297693967819214, 0.05376402661204338, 0.0, 0.0, 0.0, 0.0, 0.0], [0.5286826491355896, 0.02735135704278946, 0.022308815270662308, 0.015291706658899784, 0.021923532709479332, 0.03688069060444832, 0.01508553046733141, 0.0063671632669866085, 0.006224082317203283, 0.005076495464891195, 0.008051151409745216, 0.010854793712496758, 0.010402007028460503, 0.021718047559261322, 0.026580974459648132, 0.028442103415727615, 0.07398980110883713, 0.0249238982796669, 0.04961644485592842, 0.024082178249955177, 0.03614659607410431, 0.0, 0.0, 0.0, 0.0], [0.6873535513877869, 0.011924052610993385, 0.028090965002775192, 0.01937411166727543, 0.023015199229121208, 0.021258888766169548, 0.014494718052446842, 0.005729896482080221, 0.00712087657302618, 0.007000145968049765, 0.006459078285843134, 0.011010921560227871, 0.005223714280873537, 0.005915931425988674, 0.013422896154224873, 0.006065751891583204, 0.030657842755317688, 0.022385073825716972, 0.02706150896847248, 0.011786836199462414, 0.020579904317855835, 0.014068047516047955, 0.0, 0.0, 0.0], [0.3806765377521515, 0.015663553029298782, 0.04451118782162666, 0.023137670010328293, 0.04222964495420456, 0.022810231894254684, 0.027072938159108162, 0.0061648511327803135, 0.0042772721499204636, 0.0034676797222346067, 0.005781365092843771, 0.0039650932885706425, 0.004286131355911493, 0.0010697408579289913, 0.009950659237802029, 0.031138211488723755, 0.17738129198551178, 0.021282104775309563, 0.10267508774995804, 0.015899790450930595, 0.017292845994234085, 0.027013668790459633, 0.012252439744770527, 0.0, 0.0], [0.6113143563270569, 0.019237862899899483, 0.02030780538916588, 0.012051175348460674, 0.012111521326005459, 0.012377784587442875, 0.009293793700635433, 0.005067449528723955, 0.011265399865806103, 0.011618303135037422, 0.014318716712296009, 0.02383837103843689, 0.006057333201169968, 0.0073506394401192665, 0.015727432444691658, 0.012144999578595161, 0.02496163547039032, 0.018893681466579437, 0.0190163291990757, 0.0177333764731884, 0.026747312396764755, 0.02435588277876377, 0.024691995233297348, 0.03951675444841385, 0.0], [0.09170587360858917, 0.008790137246251106, 0.03816007822751999, 0.013338964432477951, 0.038910288363695145, 0.004626106005162001, 0.021685129031538963, 0.001246472354978323, 0.0007199951796792448, 0.0010442811762914062, 0.0005361181101761758, 0.0008087619207799435, 0.0005414691986516118, 0.00047898554475978017, 0.0024148498196154833, 0.02308216691017151, 0.5215944051742554, 0.009604903869330883, 0.20307545363903046, 0.005546114407479763, 0.004624738357961178, 0.0005076622474007308, 0.0008796711335889995, 0.003917147405445576, 0.002160198986530304]], [[1.0, 0.0, 0.0, 0.0, 0.0, 0.0, 0.0, 0.0, 0.0, 0.0, 0.0, 0.0, 0.0, 0.0, 0.0, 0.0, 0.0, 0.0, 0.0, 0.0, 0.0, 0.0, 0.0, 0.0, 0.0], [0.9404988288879395, 0.05950121581554413, 0.0, 0.0, 0.0, 0.0, 0.0, 0.0, 0.0, 0.0, 0.0, 0.0, 0.0, 0.0, 0.0, 0.0, 0.0, 0.0, 0.0, 0.0, 0.0, 0.0, 0.0, 0.0, 0.0], [0.9067906737327576, 0.007377409376204014, 0.0858319029211998, 0.0, 0.0, 0.0, 0.0, 0.0, 0.0, 0.0, 0.0, 0.0, 0.0, 0.0, 0.0, 0.0, 0.0, 0.0, 0.0, 0.0, 0.0, 0.0, 0.0, 0.0, 0.0], [0.566180944442749, 0.01822124421596527, 0.24611042439937592, 0.16948743164539337, 0.0, 0.0, 0.0, 0.0, 0.0, 0.0, 0.0, 0.0, 0.0, 0.0, 0.0, 0.0, 0.0, 0.0, 0.0, 0.0, 0.0, 0.0, 0.0, 0.0, 0.0], [0.7234638333320618, 0.01165748294442892, 0.046748336404561996, 0.08578110486268997, 0.1323491632938385, 0.0, 0.0, 0.0, 0.0, 0.0, 0.0, 0.0, 0.0, 0.0, 0.0, 0.0, 0.0, 0.0, 0.0, 0.0, 0.0, 0.0, 0.0, 0.0, 0.0], [0.351190984249115, 0.006437838543206453, 0.14148211479187012, 0.044776756316423416, 0.4253618121147156, 0.030750490725040436, 0.0, 0.0, 0.0, 0.0, 0.0, 0.0, 0.0, 0.0, 0.0, 0.0, 0.0, 0.0, 0.0, 0.0, 0.0, 0.0, 0.0, 0.0, 0.0], [0.6839714050292969, 0.016454007476568222, 0.08618103712797165, 0.08106842637062073, 0.03978779539465904, 0.043210502713918686, 0.049326758831739426, 0.0, 0.0, 0.0, 0.0, 0.0, 0.0, 0.0, 0.0, 0.0, 0.0, 0.0, 0.0, 0.0, 0.0, 0.0, 0.0, 0.0, 0.0], [0.8951897025108337, 0.019959764555096626, 0.0037378568667918444, 0.025453947484493256, 0.0014014998450875282, 0.015526888892054558, 0.0005915003130212426, 0.03813891112804413, 0.0, 0.0, 0.0, 0.0, 0.0, 0.0, 0.0, 0.0, 0.0, 0.0, 0.0, 0.0, 0.0, 0.0, 0.0, 0.0, 0.0], [0.41483941674232483, 0.011509804986417294, 0.1268705129623413, 0.059086136519908905, 0.11699678003787994, 0.04161515086889267, 0.14468932151794434, 0.028544101864099503, 0.05584879592061043, 0.0, 0.0, 0.0, 0.0, 0.0, 0.0, 0.0, 0.0, 0.0, 0.0, 0.0, 0.0, 0.0, 0.0, 0.0, 0.0], [0.6998870372772217, 0.016260582953691483, 0.02236415445804596, 0.05865607410669327, 0.021329089999198914, 0.05837438628077507, 0.013686208985745907, 0.01027075294405222, 0.05934212729334831, 0.039829567074775696, 0.0, 0.0, 0.0, 0.0, 0.0, 0.0, 0.0, 0.0, 0.0, 0.0, 0.0, 0.0, 0.0, 0.0, 0.0], [0.9397880434989929, 0.007674774620682001, 0.0014298480236902833, 0.008362713269889355, 0.0005257460870780051, 0.005683272611349821, 0.0005806307308375835, 0.0021895531099289656, 0.006544142961502075, 0.006019516848027706, 0.021201753988862038, 0.0, 0.0, 0.0, 0.0, 0.0, 0.0, 0.0, 0.0, 0.0, 0.0, 0.0, 0.0, 0.0, 0.0], [0.3514222502708435, 0.22236308455467224, 0.076483815908432, 0.10712563991546631, 0.04139436408877373, 0.05140608549118042, 0.04105177894234657, 0.02816082537174225, 0.03794937580823898, 0.018214818090200424, 0.004492436069995165, 0.019935570657253265, 0.0, 0.0, 0.0, 0.0, 0.0, 0.0, 0.0, 0.0, 0.0, 0.0, 0.0, 0.0, 0.0], [0.46100300550460815, 0.02008208818733692, 0.08947224169969559, 0.08134765177965164, 0.043814048171043396, 0.04453415051102638, 0.06461042910814285, 0.06711297482252121, 0.06453505158424377, 0.015896324068307877, 0.0024053878150880337, 0.009943804703652859, 0.035242773592472076, 0.0, 0.0, 0.0, 0.0, 0.0, 0.0, 0.0, 0.0, 0.0, 0.0, 0.0, 0.0], [0.6592568159103394, 0.01916823908686638, 0.053845085203647614, 0.0250877495855093, 0.07979528605937958, 0.024574067443609238, 0.01988346502184868, 0.01378351915627718, 0.02744736708700657, 0.007673322688788176, 0.004957587458193302, 0.016713496297597885, 0.028450006619095802, 0.019363930448889732, 0.0, 0.0, 0.0, 0.0, 0.0, 0.0, 0.0, 0.0, 0.0, 0.0, 0.0], [0.05418888479471207, 0.006147416308522224, 0.3371485769748688, 0.029025107622146606, 0.3774246871471405, 0.02304433472454548, 0.12568578124046326, 0.0034805687610059977, 0.006539489608258009, 0.003251972608268261, 0.00020384926756378263, 0.00039786301204003394, 0.005037378054112196, 0.0024752221070230007, 0.02594889886677265, 0.0, 0.0, 0.0, 0.0, 0.0, 0.0, 0.0, 0.0, 0.0, 0.0], [0.8408015370368958, 0.006852366495877504, 0.01987084001302719, 0.01329293567687273, 0.007446410600095987, 0.007433145307004452, 0.005548694636672735, 0.001042281510308385, 0.0020072096958756447, 0.0009503340697847307, 9.145903459284455e-05, 0.000315714132739231, 0.0026137216482311487, 0.0008634935948066413, 0.01198592409491539, 0.07888387888669968, 0.0, 0.0, 0.0, 0.0, 0.0, 0.0, 0.0, 0.0, 0.0], [0.37455883622169495, 0.025519786402583122, 0.03648802265524864, 0.14768171310424805, 0.007183015812188387, 0.062163885682821274, 0.04527129605412483, 0.03253449127078056, 0.0227322019636631, 0.004236621782183647, 4.583924601320177e-05, 0.00046603931696154177, 0.019046876579523087, 0.006076768506318331, 0.059278760105371475, 0.0726306363940239, 0.0840851366519928, 0.0, 0.0, 0.0, 0.0, 0.0, 0.0, 0.0, 0.0], [0.11439833790063858, 0.004839516244828701, 0.12456225603818893, 0.04070614278316498, 0.3881063759326935, 0.01698143221437931, 0.044882338494062424, 0.0006298852385953069, 0.0035934268962591887, 0.004135568626224995, 3.742954504559748e-05, 0.00011978412658208981, 0.002967987209558487, 0.00024753506295382977, 0.024070756509900093, 0.011281217448413372, 0.1983804851770401, 0.02005947008728981, 0.0, 0.0, 0.0, 0.0, 0.0, 0.0, 0.0], [0.1890055537223816, 0.0212111696600914, 0.05299964174628258, 0.24515625834465027, 0.012762660160660744, 0.07928414642810822, 0.006180647294968367, 0.04367366433143616, 0.029069168493151665, 0.003982091788202524, 1.949256329680793e-05, 9.507543290965259e-05, 0.011913858354091644, 0.004059283994138241, 0.07155589759349823, 0.0497727207839489, 0.0190478153526783, 0.11934706568717957, 0.040863871574401855, 0.0, 0.0, 0.0, 0.0, 0.0, 0.0], [0.11043662577867508, 0.00735945301130414, 0.18130652606487274, 0.03583729639649391, 0.15792161226272583, 0.030846158042550087, 0.08294326066970825, 0.006926388945430517, 0.014295471832156181, 0.006679624319076538, 0.00047724603791721165, 0.0013910576235502958, 0.011351853609085083, 0.00581948459148407, 0.04276030883193016, 0.04120844230055809, 0.0942203551530838, 0.02824140153825283, 0.10798816382884979, 0.03198930621147156, 0.0, 0.0, 0.0, 0.0, 0.0], [0.5705823302268982, 0.010926091112196445, 0.015718065202236176, 0.025976061820983887, 0.0035048064310103655, 0.021969059482216835, 0.005139692220836878, 0.007654573768377304, 0.030039437115192413, 0.011883636936545372, 0.003124452428892255, 0.009305000305175781, 0.023016834631562233, 0.0170612595975399, 0.04053330048918724, 0.04750910401344299, 0.004024249501526356, 0.024880794808268547, 0.003989750519394875, 0.07294953614473343, 0.05021199956536293, 0.0, 0.0, 0.0, 0.0], [0.6128436326980591, 0.011117110028862953, 0.009161794558167458, 0.019922776147723198, 0.006203213706612587, 0.019753169268369675, 0.004632613155990839, 0.004040224477648735, 0.012108870781958103, 0.004260961432009935, 0.0010717931436374784, 0.004326990805566311, 0.015946339815855026, 0.009729765355587006, 0.034128155559301376, 0.04474491626024246, 0.006027631927281618, 0.023062018677592278, 0.0027549415826797485, 0.07298070937395096, 0.01896791346371174, 0.06221450865268707, 0.0, 0.0, 0.0], [0.5102652311325073, 0.004160542506724596, 0.028429578989744186, 0.03022964671254158, 0.0421530045568943, 0.02328488416969776, 0.018446004018187523, 0.00079589948290959, 0.005940354894846678, 0.005966850556433201, 0.000887205358594656, 0.0014872777974233031, 0.008498153649270535, 0.0003140037297271192, 0.025852588936686516, 0.03962229564785957, 0.0160366203635931, 0.019755231216549873, 0.008052533492445946, 0.007270578294992447, 0.015361176803708076, 0.03624069318175316, 0.15094970166683197, 0.0, 0.0], [0.4556232988834381, 0.013557068072259426, 0.010556470602750778, 0.015361557714641094, 0.010231326334178448, 0.015798550099134445, 0.007439888548105955, 0.004000959452241659, 0.008997045457363129, 0.0029127979651093483, 0.0014515251386910677, 0.0032366844825446606, 0.015307901427149773, 0.006243131589144468, 0.03266085311770439, 0.06876999884843826, 0.009890020824968815, 0.021192517131567, 0.0032297344878315926, 0.06947717070579529, 0.016841290518641472, 0.04147043451666832, 0.0759272575378418, 0.08982247114181519, 0.0], [0.01992184855043888, 0.0025683261919766665, 0.0728687196969986, 0.02790754847228527, 0.5867248773574829, 0.018355704843997955, 0.03444639593362808, 0.00027877255342900753, 0.0017758950125426054, 0.002268975367769599, 8.754574992053676e-06, 4.8791818699100986e-05, 0.0013232752680778503, 8.513267675880343e-05, 0.01157346460968256, 0.0034236612264066935, 0.07898532599210739, 0.014176384545862675, 0.09773410856723785, 0.0014748600078746676, 0.003406053874641657, 2.167669117625337e-05, 0.0009949359809979796, 0.0004637344682123512, 0.01916278712451458]]], \"attentionHeadNames\": [\"L11H10\", \"L9H9\", \"L10H0\", \"L11H2\", \"L9H7\", \"L10H7\"], \"tokens\": [\"<|endoftext|>\", \"After\", \" John\", \",\", \" Mary\", \" and\", \" Jim\", \" went\", \" to\", \" the\", \" grocery\", \" store\", \" and\", \" return\", \",\", \" \", \" Jim\", \" and\", \" John\", \" gave\", \" a\", \" bottle\", \" of\", \" milk\", \" to\"]}\n",
       "    )\n",
       "    </script></div>"
      ],
      "text/plain": [
       "<IPython.core.display.HTML object>"
      ]
     },
     "execution_count": 122,
     "metadata": {},
     "output_type": "execute_result"
    }
   ],
   "source": [
    "top_k = 10\n",
    "top_heads_by_output_patch = torch.topk(\n",
    "    patched_head_z_diff.abs().flatten(), k=top_k\n",
    ").indices\n",
    "first_mid_layer = 7\n",
    "first_late_layer = 9\n",
    "early_heads = top_heads_by_output_patch[\n",
    "    top_heads_by_output_patch < model.cfg.n_heads * first_mid_layer\n",
    "]\n",
    "mid_heads = top_heads_by_output_patch[\n",
    "    torch.logical_and(\n",
    "        model.cfg.n_heads * first_mid_layer <= top_heads_by_output_patch,\n",
    "        top_heads_by_output_patch < model.cfg.n_heads * first_late_layer,\n",
    "    )\n",
    "]\n",
    "late_heads = top_heads_by_output_patch[\n",
    "    model.cfg.n_heads * first_late_layer <= top_heads_by_output_patch\n",
    "]\n",
    "\n",
    "early = visualize_attention_patterns(\n",
    "    early_heads, cache, tokens[0], title=f\"Top Early Heads\"\n",
    ")\n",
    "mid = visualize_attention_patterns(\n",
    "    mid_heads, cache, tokens[0], title=f\"Top Middle Heads\"\n",
    ")\n",
    "late = visualize_attention_patterns(\n",
    "    late_heads, cache, tokens[0], title=f\"Top Late Heads\"\n",
    ")\n",
    "\n",
    "HTML(early + mid + late)"
   ]
  }
 ],
 "metadata": {
  "kernelspec": {
   "display_name": "hantao_interp",
   "language": "python",
   "name": "python3"
  },
  "language_info": {
   "codemirror_mode": {
    "name": "ipython",
    "version": 3
   },
   "file_extension": ".py",
   "mimetype": "text/x-python",
   "name": "python",
   "nbconvert_exporter": "python",
   "pygments_lexer": "ipython3",
   "version": "3.10.14"
  }
 },
 "nbformat": 4,
 "nbformat_minor": 2
}
