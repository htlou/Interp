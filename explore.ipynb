{
 "cells": [
  {
   "cell_type": "code",
   "execution_count": 61,
   "metadata": {},
   "outputs": [],
   "source": [
    "from functools import partial\n",
    "from typing import List, Optional, Union\n",
    "\n",
    "import einops\n",
    "import numpy as np\n",
    "import plotly.express as px\n",
    "import plotly.io as pio\n",
    "import torch\n",
    "from circuitsvis.attention import attention_heads\n",
    "from fancy_einsum import einsum\n",
    "from IPython.display import HTML, IFrame\n",
    "from jaxtyping import Float\n",
    "from transformers import AutoModelForCausalLM\n",
    "\n",
    "import transformer_lens.utils as utils\n",
    "from transformer_lens import ActivationCache, HookedTransformer"
   ]
  },
  {
   "cell_type": "code",
   "execution_count": 62,
   "metadata": {},
   "outputs": [],
   "source": [
    "def imshow(tensor, **kwargs):\n",
    "    px.imshow(\n",
    "        utils.to_numpy(tensor),\n",
    "        color_continuous_midpoint=0.0,\n",
    "        color_continuous_scale=\"RdBu\",\n",
    "        **kwargs,\n",
    "    ).show()\n",
    "\n",
    "\n",
    "def line(tensor, **kwargs):\n",
    "    px.line(\n",
    "        y=utils.to_numpy(tensor),\n",
    "        **kwargs,\n",
    "    ).show()\n",
    "\n",
    "\n",
    "def scatter(x, y, xaxis=\"\", yaxis=\"\", caxis=\"\", **kwargs):\n",
    "    x = utils.to_numpy(x)\n",
    "    y = utils.to_numpy(y)\n",
    "    px.scatter(\n",
    "        y=y,\n",
    "        x=x,\n",
    "        labels={\"x\": xaxis, \"y\": yaxis, \"color\": caxis},\n",
    "        **kwargs,\n",
    "    ).show()"
   ]
  },
  {
   "cell_type": "code",
   "execution_count": 63,
   "metadata": {},
   "outputs": [
    {
     "name": "stdout",
     "output_type": "stream",
     "text": [
      "Disabled automatic differentiation\n"
     ]
    }
   ],
   "source": [
    "torch.set_grad_enabled(False)\n",
    "print(\"Disabled automatic differentiation\")"
   ]
  },
  {
   "cell_type": "code",
   "execution_count": 93,
   "metadata": {},
   "outputs": [
    {
     "name": "stdout",
     "output_type": "stream",
     "text": [
      "Loaded pretrained model gpt2 into HookedTransformer\n"
     ]
    }
   ],
   "source": [
    "# NBVAL_IGNORE_OUTPUT\n",
    "hf_model = AutoModelForCausalLM.from_pretrained(\"/mnt/hantao/models/gpt2_sft_2e5_3ep\")\n",
    "model = HookedTransformer.from_pretrained(\n",
    "    \"gpt2\",\n",
    "    hf_model=hf_model,\n",
    "    center_unembed=True,\n",
    "    center_writing_weights=True,\n",
    "    fold_ln=True,\n",
    "    refactor_factored_attn_matrices=True,\n",
    ")\n",
    "\n",
    "# Get the default device used\n",
    "device: torch.device = utils.get_device()"
   ]
  },
  {
   "cell_type": "code",
   "execution_count": 95,
   "metadata": {},
   "outputs": [
    {
     "name": "stdout",
     "output_type": "stream",
     "text": [
      "Tokenized prompt: ['<|endoftext|>', 'During', ' their', ' visit', ' to', ' the', ' Billy', ',', ' Jack', ' and', ' Ted', ' decided', ' to', ' buy', ' a', ' cake', ' for', ' someone', \"'s\", ' birthday', '.', ' Ted', ' and', ' Billy', ' chose', ' a', ' chocolate', ' cake', ' to', ' give', ' to']\n",
      "Tokenized answer: [' Jack']\n"
     ]
    },
    {
     "data": {
      "text/html": [
       "<pre style=\"white-space:pre;overflow-x:auto;line-height:normal;font-family:Menlo,'DejaVu Sans Mono',consolas,'Courier New',monospace\">Performance on answer token:\n",
       "<span style=\"font-weight: bold\">Rank: </span><span style=\"color: #008080; text-decoration-color: #008080; font-weight: bold\">0</span><span style=\"font-weight: bold\">        Logit: </span><span style=\"color: #008080; text-decoration-color: #008080; font-weight: bold\">19.11</span><span style=\"font-weight: bold\"> Prob: </span><span style=\"color: #008080; text-decoration-color: #008080; font-weight: bold\">57.71</span><span style=\"font-weight: bold\">% Token: | Jack|</span>\n",
       "</pre>\n"
      ],
      "text/plain": [
       "Performance on answer token:\n",
       "\u001b[1mRank: \u001b[0m\u001b[1;36m0\u001b[0m\u001b[1m        Logit: \u001b[0m\u001b[1;36m19.11\u001b[0m\u001b[1m Prob: \u001b[0m\u001b[1;36m57.71\u001b[0m\u001b[1m% Token: | Jack|\u001b[0m\n"
      ]
     },
     "metadata": {},
     "output_type": "display_data"
    },
    {
     "name": "stdout",
     "output_type": "stream",
     "text": [
      "Top 0th token. Logit: 19.11 Prob: 57.71% Token: | Jack|\n",
      "Top 1th token. Logit: 18.03 Prob: 19.59% Token: | Ted|\n",
      "Top 2th token. Logit: 17.29 Prob:  9.41% Token: | Billy|\n",
      "Top 3th token. Logit: 16.41 Prob:  3.87% Token: | Bob|\n",
      "Top 4th token. Logit: 16.28 Prob:  3.41% Token: | Jackie|\n",
      "Top 5th token. Logit: 14.42 Prob:  0.53% Token: | Bobby|\n",
      "Top 6th token. Logit: 14.18 Prob:  0.42% Token: | Sam|\n",
      "Top 7th token. Logit: 13.78 Prob:  0.28% Token: | Charlie|\n",
      "Top 8th token. Logit: 13.74 Prob:  0.27% Token: | Alice|\n",
      "Top 9th token. Logit: 13.18 Prob:  0.15% Token: | John|\n"
     ]
    },
    {
     "data": {
      "text/html": [
       "<pre style=\"white-space:pre;overflow-x:auto;line-height:normal;font-family:Menlo,'DejaVu Sans Mono',consolas,'Courier New',monospace\"><span style=\"font-weight: bold\">Ranks of the answer tokens:</span> <span style=\"font-weight: bold\">[(</span><span style=\"color: #008000; text-decoration-color: #008000\">' Jack'</span>, <span style=\"color: #008080; text-decoration-color: #008080; font-weight: bold\">0</span><span style=\"font-weight: bold\">)]</span>\n",
       "</pre>\n"
      ],
      "text/plain": [
       "\u001b[1mRanks of the answer tokens:\u001b[0m \u001b[1m[\u001b[0m\u001b[1m(\u001b[0m\u001b[32m' Jack'\u001b[0m, \u001b[1;36m0\u001b[0m\u001b[1m)\u001b[0m\u001b[1m]\u001b[0m\n"
      ]
     },
     "metadata": {},
     "output_type": "display_data"
    }
   ],
   "source": [
    "example_prompt = \"During their visit to the Billy, Jack and Ted decided to buy a cake for someone's birthday. Ted and Billy chose a chocolate cake to give to\"\n",
    "example_answer = \" Jack\"\n",
    "utils.test_prompt(example_prompt, example_answer, model, prepend_bos=True)"
   ]
  },
  {
   "cell_type": "code",
   "execution_count": 96,
   "metadata": {},
   "outputs": [
    {
     "name": "stdout",
     "output_type": "stream",
     "text": [
      "['After John, Mary and Jim went to the grocery store and return,  Jim and John gave a bottle of milk to', 'After John, Mary and Jim went to the grocery store and return,  Mary and Jim gave a bottle of milk to', 'After John, Mary and Jim went to the grocery store and return,  John and Mary gave a bottle of milk to', 'During the picnic, Billy, Jack, and Ted shared a blanket.  Ted and Jack passed a frisbee to', 'During the picnic, Billy, Jack, and Ted shared a blanket.  Billy and Ted passed a frisbee to', 'During the picnic, Billy, Jack, and Ted shared a blanket.  Jack and Billy passed a frisbee to', 'After Sarah, Tom, and Alex went to the bookstore in the downtown,  Alex and Tom bought a new novel for', 'After Sarah, Tom, and Alex went to the bookstore in the downtown,  Sara and Alex bought a new novel for', 'After Sarah, Tom, and Alex went to the bookstore in the downtown,  Tom and Sara bought a new novel for', 'Anna, Liam, and Noah decided to buy a cake for someone.  Noah and Liam chose a cake to give to', 'Anna, Liam, and Noah decided to buy a cake for someone.  Anna and Noah chose a cake to give to', 'Anna, Liam, and Noah decided to buy a cake for someone.  Liam and Anna chose a cake to give to']\n",
      "[(' Mary', ' Jim', ' John'), (' John', ' Mary', ' Jim'), (' Jim', ' John', ' Mary'), (' Billy', ' Ted', ' Jack'), (' Jack', ' Billy', ' Ted'), (' Ted', ' Jack', ' Billy'), (' Sara', ' Alex', ' Tom'), (' Tom', ' Sara', ' Alex'), (' Alex', ' Tom', ' Sara'), (' Anna', ' Noah', ' Liam'), (' Liam', ' Anna', ' Noah'), (' Noah', ' Liam', ' Anna')]\n"
     ]
    }
   ],
   "source": [
    "prompt_format = [\n",
    "    \"After John, Mary and Jim went to the grocery store and return, {} gave a bottle of milk to\",\n",
    "    \"During the picnic, Billy, Jack, and Ted shared a blanket. {} passed a frisbee to\",\n",
    "    \"After Sarah, Tom, and Alex went to the bookstore in the downtown, {} bought a new novel for\",\n",
    "    \"Anna, Liam, and Noah decided to buy a cake for someone. {} chose a cake to give to\",\n",
    "]\n",
    "names = [\n",
    "    (\" Mary\", \" John\", \" Jim\"),\n",
    "    (\" Billy\", \" Jack\", \" Ted\"),\n",
    "    (\" Sara\", \" Tom\", \" Alex\"),\n",
    "    (\" Anna\", \" Liam\", \" Noah\"),\n",
    "]\n",
    "# List of prompts\n",
    "prompts = []\n",
    "# List of answers, in the format (correct, incorrect)\n",
    "answers = []\n",
    "# List of the token (ie an integer) corresponding to each answer, in the format (correct_token, incorrect_token)\n",
    "answer_tokens = []\n",
    "for i in range(len(prompt_format)):\n",
    "    for j in range(3):\n",
    "        answers.append((names[i][j], names[i][(j - 1)%3], names[i][(j - 2)%3]))\n",
    "        answer_tokens.append(\n",
    "            (\n",
    "                model.to_single_token(answers[-1][0]),\n",
    "                model.to_single_token(answers[-1][1]),\n",
    "                model.to_single_token(answers[-1][2]),\n",
    "            )\n",
    "        )\n",
    "        # Insert the *incorrect* answer to the prompt, making the correct answer the indirect object.\n",
    "        prompts.append(prompt_format[i].format(answers[-1][1] + \" and\" + answers[-1][2]))\n",
    "answer_tokens = torch.tensor(answer_tokens).to(device)\n",
    "print(prompts)\n",
    "print(answers)"
   ]
  },
  {
   "cell_type": "code",
   "execution_count": 97,
   "metadata": {},
   "outputs": [
    {
     "name": "stdout",
     "output_type": "stream",
     "text": [
      "Prompt length: 25\n",
      "Prompt as tokens: ['<|endoftext|>', 'After', ' John', ',', ' Mary', ' and', ' Jim', ' went', ' to', ' the', ' grocery', ' store', ' and', ' return', ',', ' ', ' Jim', ' and', ' John', ' gave', ' a', ' bottle', ' of', ' milk', ' to']\n",
      "Prompt length: 25\n",
      "Prompt as tokens: ['<|endoftext|>', 'After', ' John', ',', ' Mary', ' and', ' Jim', ' went', ' to', ' the', ' grocery', ' store', ' and', ' return', ',', ' ', ' Mary', ' and', ' Jim', ' gave', ' a', ' bottle', ' of', ' milk', ' to']\n",
      "Prompt length: 25\n",
      "Prompt as tokens: ['<|endoftext|>', 'After', ' John', ',', ' Mary', ' and', ' Jim', ' went', ' to', ' the', ' grocery', ' store', ' and', ' return', ',', ' ', ' John', ' and', ' Mary', ' gave', ' a', ' bottle', ' of', ' milk', ' to']\n",
      "Prompt length: 25\n",
      "Prompt as tokens: ['<|endoftext|>', 'During', ' the', ' picnic', ',', ' Billy', ',', ' Jack', ',', ' and', ' Ted', ' shared', ' a', ' blanket', '.', ' ', ' Ted', ' and', ' Jack', ' passed', ' a', ' fr', 'is', 'bee', ' to']\n",
      "Prompt length: 25\n",
      "Prompt as tokens: ['<|endoftext|>', 'During', ' the', ' picnic', ',', ' Billy', ',', ' Jack', ',', ' and', ' Ted', ' shared', ' a', ' blanket', '.', ' ', ' Billy', ' and', ' Ted', ' passed', ' a', ' fr', 'is', 'bee', ' to']\n",
      "Prompt length: 25\n",
      "Prompt as tokens: ['<|endoftext|>', 'During', ' the', ' picnic', ',', ' Billy', ',', ' Jack', ',', ' and', ' Ted', ' shared', ' a', ' blanket', '.', ' ', ' Jack', ' and', ' Billy', ' passed', ' a', ' fr', 'is', 'bee', ' to']\n",
      "Prompt length: 25\n",
      "Prompt as tokens: ['<|endoftext|>', 'After', ' Sarah', ',', ' Tom', ',', ' and', ' Alex', ' went', ' to', ' the', ' bookstore', ' in', ' the', ' downtown', ',', ' ', ' Alex', ' and', ' Tom', ' bought', ' a', ' new', ' novel', ' for']\n",
      "Prompt length: 25\n",
      "Prompt as tokens: ['<|endoftext|>', 'After', ' Sarah', ',', ' Tom', ',', ' and', ' Alex', ' went', ' to', ' the', ' bookstore', ' in', ' the', ' downtown', ',', ' ', ' Sara', ' and', ' Alex', ' bought', ' a', ' new', ' novel', ' for']\n",
      "Prompt length: 25\n",
      "Prompt as tokens: ['<|endoftext|>', 'After', ' Sarah', ',', ' Tom', ',', ' and', ' Alex', ' went', ' to', ' the', ' bookstore', ' in', ' the', ' downtown', ',', ' ', ' Tom', ' and', ' Sara', ' bought', ' a', ' new', ' novel', ' for']\n",
      "Prompt length: 25\n",
      "Prompt as tokens: ['<|endoftext|>', 'Anna', ',', ' Liam', ',', ' and', ' Noah', ' decided', ' to', ' buy', ' a', ' cake', ' for', ' someone', '.', ' ', ' Noah', ' and', ' Liam', ' chose', ' a', ' cake', ' to', ' give', ' to']\n",
      "Prompt length: 25\n",
      "Prompt as tokens: ['<|endoftext|>', 'Anna', ',', ' Liam', ',', ' and', ' Noah', ' decided', ' to', ' buy', ' a', ' cake', ' for', ' someone', '.', ' ', ' Anna', ' and', ' Noah', ' chose', ' a', ' cake', ' to', ' give', ' to']\n",
      "Prompt length: 25\n",
      "Prompt as tokens: ['<|endoftext|>', 'Anna', ',', ' Liam', ',', ' and', ' Noah', ' decided', ' to', ' buy', ' a', ' cake', ' for', ' someone', '.', ' ', ' Liam', ' and', ' Anna', ' chose', ' a', ' cake', ' to', ' give', ' to']\n"
     ]
    }
   ],
   "source": [
    "for prompt in prompts:\n",
    "    str_tokens = model.to_str_tokens(prompt)\n",
    "    print(\"Prompt length:\", len(str_tokens))\n",
    "    print(\"Prompt as tokens:\", str_tokens)"
   ]
  },
  {
   "cell_type": "code",
   "execution_count": 98,
   "metadata": {},
   "outputs": [],
   "source": [
    "tokens = model.to_tokens(prompts, prepend_bos=True)\n",
    "\n",
    "# Run the model and cache all activations\n",
    "original_logits, cache = model.run_with_cache(tokens)"
   ]
  },
  {
   "cell_type": "code",
   "execution_count": 99,
   "metadata": {},
   "outputs": [
    {
     "name": "stdout",
     "output_type": "stream",
     "text": [
      "Per prompt logit difference: tensor([ 2.3410,  1.9170,  3.9460,  3.2890,  1.0880,  1.9460, -6.8480,  4.4840,\n",
      "         4.4410,  5.2270,  3.9910,  0.9180])\n",
      "Average logit difference: 2.228\n"
     ]
    }
   ],
   "source": [
    "def logits_to_ave_logit_diff(logits, answer_tokens, per_prompt=False):\n",
    "    # Only the final logits are relevant for the answer\n",
    "    final_logits = logits[:, -1, :]\n",
    "    answer_logits = final_logits.gather(dim=-1, index=answer_tokens)\n",
    "    answer_logit_diff = answer_logits[:, 0] - answer_logits[:, 1]\n",
    "    if per_prompt:\n",
    "        return answer_logit_diff\n",
    "    else:\n",
    "        return answer_logit_diff.mean()\n",
    "\n",
    "\n",
    "print(\n",
    "    \"Per prompt logit difference:\",\n",
    "    logits_to_ave_logit_diff(original_logits, answer_tokens, per_prompt=True)\n",
    "    .detach()\n",
    "    .cpu()\n",
    "    .round(decimals=3),\n",
    ")\n",
    "original_average_logit_diff = logits_to_ave_logit_diff(original_logits, answer_tokens)\n",
    "print(\n",
    "    \"Average logit difference:\",\n",
    "    round(logits_to_ave_logit_diff(original_logits, answer_tokens).item(), 3),\n",
    ")"
   ]
  },
  {
   "cell_type": "code",
   "execution_count": 100,
   "metadata": {},
   "outputs": [
    {
     "name": "stdout",
     "output_type": "stream",
     "text": [
      "Answer residual directions shape: torch.Size([12, 3, 768])\n",
      "Logit difference directions shape: torch.Size([12, 768])\n"
     ]
    }
   ],
   "source": [
    "answer_residual_directions = model.tokens_to_residual_directions(answer_tokens)\n",
    "print(\"Answer residual directions shape:\", answer_residual_directions.shape)\n",
    "logit_diff_directions = (\n",
    "    answer_residual_directions[:, 0] - answer_residual_directions[:, 1]\n",
    ")\n",
    "print(\"Logit difference directions shape:\", logit_diff_directions.shape)"
   ]
  },
  {
   "cell_type": "code",
   "execution_count": 101,
   "metadata": {},
   "outputs": [
    {
     "name": "stdout",
     "output_type": "stream",
     "text": [
      "Final residual stream shape: torch.Size([12, 25, 768])\n",
      "Calculated average logit diff: 2.228\n",
      "Original logit difference: 2.228\n"
     ]
    }
   ],
   "source": [
    "# cache syntax - resid_post is the residual stream at the end of the layer, -1 gets the final layer. The general syntax is [activation_name, layer_index, sub_layer_type].\n",
    "final_residual_stream = cache[\"resid_post\", -1]\n",
    "print(\"Final residual stream shape:\", final_residual_stream.shape)\n",
    "final_token_residual_stream = final_residual_stream[:, -1, :]\n",
    "# Apply LayerNorm scaling\n",
    "# pos_slice is the subset of the positions we take - here the final token of each prompt\n",
    "scaled_final_token_residual_stream = cache.apply_ln_to_stack(\n",
    "    final_token_residual_stream, layer=-1, pos_slice=-1\n",
    ")\n",
    "\n",
    "average_logit_diff = einsum(\n",
    "    \"batch d_model, batch d_model -> \",\n",
    "    scaled_final_token_residual_stream,\n",
    "    logit_diff_directions,\n",
    ") / len(prompts)\n",
    "print(\"Calculated average logit diff:\", round(average_logit_diff.item(), 3))\n",
    "print(\"Original logit difference:\", round(original_average_logit_diff.item(), 3))"
   ]
  },
  {
   "cell_type": "code",
   "execution_count": 102,
   "metadata": {},
   "outputs": [],
   "source": [
    "def residual_stack_to_logit_diff(\n",
    "    residual_stack: Float[torch.Tensor, \"components batch d_model\"],\n",
    "    cache: ActivationCache,\n",
    ") -> float:\n",
    "    scaled_residual_stack = cache.apply_ln_to_stack(\n",
    "        residual_stack, layer=-1, pos_slice=-1\n",
    "    )\n",
    "    return einsum(\n",
    "        \"... batch d_model, batch d_model -> ...\",\n",
    "        scaled_residual_stack,\n",
    "        logit_diff_directions,\n",
    "    ) / len(prompts)"
   ]
  },
  {
   "cell_type": "code",
   "execution_count": 103,
   "metadata": {},
   "outputs": [
    {
     "data": {
      "application/vnd.plotly.v1+json": {
       "config": {
        "plotlyServerURL": "https://plot.ly"
       },
       "data": [
        {
         "hovertemplate": "<b>%{hovertext}</b><br><br>x=%{x}<br>y=%{y}<extra></extra>",
         "hovertext": [
          "0_pre",
          "0_mid",
          "1_pre",
          "1_mid",
          "2_pre",
          "2_mid",
          "3_pre",
          "3_mid",
          "4_pre",
          "4_mid",
          "5_pre",
          "5_mid",
          "6_pre",
          "6_mid",
          "7_pre",
          "7_mid",
          "8_pre",
          "8_mid",
          "9_pre",
          "9_mid",
          "10_pre",
          "10_mid",
          "11_pre",
          "11_mid",
          "final_post"
         ],
         "legendgroup": "",
         "line": {
          "color": "#636efa",
          "dash": "solid"
         },
         "marker": {
          "symbol": "circle"
         },
         "mode": "lines",
         "name": "",
         "orientation": "v",
         "showlegend": false,
         "type": "scatter",
         "x": [
          0,
          0.5,
          1,
          1.5,
          2,
          2.5,
          3,
          3.5,
          4,
          4.5,
          5,
          5.5,
          6,
          6.5,
          7,
          7.5,
          8,
          8.5,
          9,
          9.5,
          10,
          10.5,
          11,
          11.5,
          12
         ],
         "xaxis": "x",
         "y": [
          0.0001051437429850921,
          -0.010716266930103302,
          -0.007360788993537426,
          -0.007833089679479599,
          -0.004911159165203571,
          -0.003517143428325653,
          -0.0031011924147605896,
          -0.004988258238881826,
          -0.004946249071508646,
          -0.004103659652173519,
          -0.0016880454495549202,
          -0.0010617681546136737,
          -0.0012515104608610272,
          -0.02471861243247986,
          -0.01955573633313179,
          0.24237173795700073,
          0.26564860343933105,
          0.3914194107055664,
          0.4270467162132263,
          1.8550857305526733,
          2.000819683074951,
          2.69083571434021,
          2.9350337982177734,
          2.1693780422210693,
          2.228362798690796
         ],
         "yaxis": "y"
        }
       ],
       "layout": {
        "legend": {
         "tracegroupgap": 0
        },
        "template": {
         "data": {
          "bar": [
           {
            "error_x": {
             "color": "#2a3f5f"
            },
            "error_y": {
             "color": "#2a3f5f"
            },
            "marker": {
             "line": {
              "color": "#E5ECF6",
              "width": 0.5
             },
             "pattern": {
              "fillmode": "overlay",
              "size": 10,
              "solidity": 0.2
             }
            },
            "type": "bar"
           }
          ],
          "barpolar": [
           {
            "marker": {
             "line": {
              "color": "#E5ECF6",
              "width": 0.5
             },
             "pattern": {
              "fillmode": "overlay",
              "size": 10,
              "solidity": 0.2
             }
            },
            "type": "barpolar"
           }
          ],
          "carpet": [
           {
            "aaxis": {
             "endlinecolor": "#2a3f5f",
             "gridcolor": "white",
             "linecolor": "white",
             "minorgridcolor": "white",
             "startlinecolor": "#2a3f5f"
            },
            "baxis": {
             "endlinecolor": "#2a3f5f",
             "gridcolor": "white",
             "linecolor": "white",
             "minorgridcolor": "white",
             "startlinecolor": "#2a3f5f"
            },
            "type": "carpet"
           }
          ],
          "choropleth": [
           {
            "colorbar": {
             "outlinewidth": 0,
             "ticks": ""
            },
            "type": "choropleth"
           }
          ],
          "contour": [
           {
            "colorbar": {
             "outlinewidth": 0,
             "ticks": ""
            },
            "colorscale": [
             [
              0,
              "#0d0887"
             ],
             [
              0.1111111111111111,
              "#46039f"
             ],
             [
              0.2222222222222222,
              "#7201a8"
             ],
             [
              0.3333333333333333,
              "#9c179e"
             ],
             [
              0.4444444444444444,
              "#bd3786"
             ],
             [
              0.5555555555555556,
              "#d8576b"
             ],
             [
              0.6666666666666666,
              "#ed7953"
             ],
             [
              0.7777777777777778,
              "#fb9f3a"
             ],
             [
              0.8888888888888888,
              "#fdca26"
             ],
             [
              1,
              "#f0f921"
             ]
            ],
            "type": "contour"
           }
          ],
          "contourcarpet": [
           {
            "colorbar": {
             "outlinewidth": 0,
             "ticks": ""
            },
            "type": "contourcarpet"
           }
          ],
          "heatmap": [
           {
            "colorbar": {
             "outlinewidth": 0,
             "ticks": ""
            },
            "colorscale": [
             [
              0,
              "#0d0887"
             ],
             [
              0.1111111111111111,
              "#46039f"
             ],
             [
              0.2222222222222222,
              "#7201a8"
             ],
             [
              0.3333333333333333,
              "#9c179e"
             ],
             [
              0.4444444444444444,
              "#bd3786"
             ],
             [
              0.5555555555555556,
              "#d8576b"
             ],
             [
              0.6666666666666666,
              "#ed7953"
             ],
             [
              0.7777777777777778,
              "#fb9f3a"
             ],
             [
              0.8888888888888888,
              "#fdca26"
             ],
             [
              1,
              "#f0f921"
             ]
            ],
            "type": "heatmap"
           }
          ],
          "heatmapgl": [
           {
            "colorbar": {
             "outlinewidth": 0,
             "ticks": ""
            },
            "colorscale": [
             [
              0,
              "#0d0887"
             ],
             [
              0.1111111111111111,
              "#46039f"
             ],
             [
              0.2222222222222222,
              "#7201a8"
             ],
             [
              0.3333333333333333,
              "#9c179e"
             ],
             [
              0.4444444444444444,
              "#bd3786"
             ],
             [
              0.5555555555555556,
              "#d8576b"
             ],
             [
              0.6666666666666666,
              "#ed7953"
             ],
             [
              0.7777777777777778,
              "#fb9f3a"
             ],
             [
              0.8888888888888888,
              "#fdca26"
             ],
             [
              1,
              "#f0f921"
             ]
            ],
            "type": "heatmapgl"
           }
          ],
          "histogram": [
           {
            "marker": {
             "pattern": {
              "fillmode": "overlay",
              "size": 10,
              "solidity": 0.2
             }
            },
            "type": "histogram"
           }
          ],
          "histogram2d": [
           {
            "colorbar": {
             "outlinewidth": 0,
             "ticks": ""
            },
            "colorscale": [
             [
              0,
              "#0d0887"
             ],
             [
              0.1111111111111111,
              "#46039f"
             ],
             [
              0.2222222222222222,
              "#7201a8"
             ],
             [
              0.3333333333333333,
              "#9c179e"
             ],
             [
              0.4444444444444444,
              "#bd3786"
             ],
             [
              0.5555555555555556,
              "#d8576b"
             ],
             [
              0.6666666666666666,
              "#ed7953"
             ],
             [
              0.7777777777777778,
              "#fb9f3a"
             ],
             [
              0.8888888888888888,
              "#fdca26"
             ],
             [
              1,
              "#f0f921"
             ]
            ],
            "type": "histogram2d"
           }
          ],
          "histogram2dcontour": [
           {
            "colorbar": {
             "outlinewidth": 0,
             "ticks": ""
            },
            "colorscale": [
             [
              0,
              "#0d0887"
             ],
             [
              0.1111111111111111,
              "#46039f"
             ],
             [
              0.2222222222222222,
              "#7201a8"
             ],
             [
              0.3333333333333333,
              "#9c179e"
             ],
             [
              0.4444444444444444,
              "#bd3786"
             ],
             [
              0.5555555555555556,
              "#d8576b"
             ],
             [
              0.6666666666666666,
              "#ed7953"
             ],
             [
              0.7777777777777778,
              "#fb9f3a"
             ],
             [
              0.8888888888888888,
              "#fdca26"
             ],
             [
              1,
              "#f0f921"
             ]
            ],
            "type": "histogram2dcontour"
           }
          ],
          "mesh3d": [
           {
            "colorbar": {
             "outlinewidth": 0,
             "ticks": ""
            },
            "type": "mesh3d"
           }
          ],
          "parcoords": [
           {
            "line": {
             "colorbar": {
              "outlinewidth": 0,
              "ticks": ""
             }
            },
            "type": "parcoords"
           }
          ],
          "pie": [
           {
            "automargin": true,
            "type": "pie"
           }
          ],
          "scatter": [
           {
            "fillpattern": {
             "fillmode": "overlay",
             "size": 10,
             "solidity": 0.2
            },
            "type": "scatter"
           }
          ],
          "scatter3d": [
           {
            "line": {
             "colorbar": {
              "outlinewidth": 0,
              "ticks": ""
             }
            },
            "marker": {
             "colorbar": {
              "outlinewidth": 0,
              "ticks": ""
             }
            },
            "type": "scatter3d"
           }
          ],
          "scattercarpet": [
           {
            "marker": {
             "colorbar": {
              "outlinewidth": 0,
              "ticks": ""
             }
            },
            "type": "scattercarpet"
           }
          ],
          "scattergeo": [
           {
            "marker": {
             "colorbar": {
              "outlinewidth": 0,
              "ticks": ""
             }
            },
            "type": "scattergeo"
           }
          ],
          "scattergl": [
           {
            "marker": {
             "colorbar": {
              "outlinewidth": 0,
              "ticks": ""
             }
            },
            "type": "scattergl"
           }
          ],
          "scattermapbox": [
           {
            "marker": {
             "colorbar": {
              "outlinewidth": 0,
              "ticks": ""
             }
            },
            "type": "scattermapbox"
           }
          ],
          "scatterpolar": [
           {
            "marker": {
             "colorbar": {
              "outlinewidth": 0,
              "ticks": ""
             }
            },
            "type": "scatterpolar"
           }
          ],
          "scatterpolargl": [
           {
            "marker": {
             "colorbar": {
              "outlinewidth": 0,
              "ticks": ""
             }
            },
            "type": "scatterpolargl"
           }
          ],
          "scatterternary": [
           {
            "marker": {
             "colorbar": {
              "outlinewidth": 0,
              "ticks": ""
             }
            },
            "type": "scatterternary"
           }
          ],
          "surface": [
           {
            "colorbar": {
             "outlinewidth": 0,
             "ticks": ""
            },
            "colorscale": [
             [
              0,
              "#0d0887"
             ],
             [
              0.1111111111111111,
              "#46039f"
             ],
             [
              0.2222222222222222,
              "#7201a8"
             ],
             [
              0.3333333333333333,
              "#9c179e"
             ],
             [
              0.4444444444444444,
              "#bd3786"
             ],
             [
              0.5555555555555556,
              "#d8576b"
             ],
             [
              0.6666666666666666,
              "#ed7953"
             ],
             [
              0.7777777777777778,
              "#fb9f3a"
             ],
             [
              0.8888888888888888,
              "#fdca26"
             ],
             [
              1,
              "#f0f921"
             ]
            ],
            "type": "surface"
           }
          ],
          "table": [
           {
            "cells": {
             "fill": {
              "color": "#EBF0F8"
             },
             "line": {
              "color": "white"
             }
            },
            "header": {
             "fill": {
              "color": "#C8D4E3"
             },
             "line": {
              "color": "white"
             }
            },
            "type": "table"
           }
          ]
         },
         "layout": {
          "annotationdefaults": {
           "arrowcolor": "#2a3f5f",
           "arrowhead": 0,
           "arrowwidth": 1
          },
          "autotypenumbers": "strict",
          "coloraxis": {
           "colorbar": {
            "outlinewidth": 0,
            "ticks": ""
           }
          },
          "colorscale": {
           "diverging": [
            [
             0,
             "#8e0152"
            ],
            [
             0.1,
             "#c51b7d"
            ],
            [
             0.2,
             "#de77ae"
            ],
            [
             0.3,
             "#f1b6da"
            ],
            [
             0.4,
             "#fde0ef"
            ],
            [
             0.5,
             "#f7f7f7"
            ],
            [
             0.6,
             "#e6f5d0"
            ],
            [
             0.7,
             "#b8e186"
            ],
            [
             0.8,
             "#7fbc41"
            ],
            [
             0.9,
             "#4d9221"
            ],
            [
             1,
             "#276419"
            ]
           ],
           "sequential": [
            [
             0,
             "#0d0887"
            ],
            [
             0.1111111111111111,
             "#46039f"
            ],
            [
             0.2222222222222222,
             "#7201a8"
            ],
            [
             0.3333333333333333,
             "#9c179e"
            ],
            [
             0.4444444444444444,
             "#bd3786"
            ],
            [
             0.5555555555555556,
             "#d8576b"
            ],
            [
             0.6666666666666666,
             "#ed7953"
            ],
            [
             0.7777777777777778,
             "#fb9f3a"
            ],
            [
             0.8888888888888888,
             "#fdca26"
            ],
            [
             1,
             "#f0f921"
            ]
           ],
           "sequentialminus": [
            [
             0,
             "#0d0887"
            ],
            [
             0.1111111111111111,
             "#46039f"
            ],
            [
             0.2222222222222222,
             "#7201a8"
            ],
            [
             0.3333333333333333,
             "#9c179e"
            ],
            [
             0.4444444444444444,
             "#bd3786"
            ],
            [
             0.5555555555555556,
             "#d8576b"
            ],
            [
             0.6666666666666666,
             "#ed7953"
            ],
            [
             0.7777777777777778,
             "#fb9f3a"
            ],
            [
             0.8888888888888888,
             "#fdca26"
            ],
            [
             1,
             "#f0f921"
            ]
           ]
          },
          "colorway": [
           "#636efa",
           "#EF553B",
           "#00cc96",
           "#ab63fa",
           "#FFA15A",
           "#19d3f3",
           "#FF6692",
           "#B6E880",
           "#FF97FF",
           "#FECB52"
          ],
          "font": {
           "color": "#2a3f5f"
          },
          "geo": {
           "bgcolor": "white",
           "lakecolor": "white",
           "landcolor": "#E5ECF6",
           "showlakes": true,
           "showland": true,
           "subunitcolor": "white"
          },
          "hoverlabel": {
           "align": "left"
          },
          "hovermode": "closest",
          "mapbox": {
           "style": "light"
          },
          "paper_bgcolor": "white",
          "plot_bgcolor": "#E5ECF6",
          "polar": {
           "angularaxis": {
            "gridcolor": "white",
            "linecolor": "white",
            "ticks": ""
           },
           "bgcolor": "#E5ECF6",
           "radialaxis": {
            "gridcolor": "white",
            "linecolor": "white",
            "ticks": ""
           }
          },
          "scene": {
           "xaxis": {
            "backgroundcolor": "#E5ECF6",
            "gridcolor": "white",
            "gridwidth": 2,
            "linecolor": "white",
            "showbackground": true,
            "ticks": "",
            "zerolinecolor": "white"
           },
           "yaxis": {
            "backgroundcolor": "#E5ECF6",
            "gridcolor": "white",
            "gridwidth": 2,
            "linecolor": "white",
            "showbackground": true,
            "ticks": "",
            "zerolinecolor": "white"
           },
           "zaxis": {
            "backgroundcolor": "#E5ECF6",
            "gridcolor": "white",
            "gridwidth": 2,
            "linecolor": "white",
            "showbackground": true,
            "ticks": "",
            "zerolinecolor": "white"
           }
          },
          "shapedefaults": {
           "line": {
            "color": "#2a3f5f"
           }
          },
          "ternary": {
           "aaxis": {
            "gridcolor": "white",
            "linecolor": "white",
            "ticks": ""
           },
           "baxis": {
            "gridcolor": "white",
            "linecolor": "white",
            "ticks": ""
           },
           "bgcolor": "#E5ECF6",
           "caxis": {
            "gridcolor": "white",
            "linecolor": "white",
            "ticks": ""
           }
          },
          "title": {
           "x": 0.05
          },
          "xaxis": {
           "automargin": true,
           "gridcolor": "white",
           "linecolor": "white",
           "ticks": "",
           "title": {
            "standoff": 15
           },
           "zerolinecolor": "white",
           "zerolinewidth": 2
          },
          "yaxis": {
           "automargin": true,
           "gridcolor": "white",
           "linecolor": "white",
           "ticks": "",
           "title": {
            "standoff": 15
           },
           "zerolinecolor": "white",
           "zerolinewidth": 2
          }
         }
        },
        "title": {
         "text": "Logit Difference From Accumulate Residual Stream"
        },
        "xaxis": {
         "anchor": "y",
         "domain": [
          0,
          1
         ],
         "title": {
          "text": "x"
         }
        },
        "yaxis": {
         "anchor": "x",
         "domain": [
          0,
          1
         ],
         "title": {
          "text": "y"
         }
        }
       }
      },
      "text/html": [
       "<div>                            <div id=\"0f4b2362-05b3-463b-9b8f-71f31f3204b2\" class=\"plotly-graph-div\" style=\"height:525px; width:100%;\"></div>            <script type=\"text/javascript\">                require([\"plotly\"], function(Plotly) {                    window.PLOTLYENV=window.PLOTLYENV || {};                                    if (document.getElementById(\"0f4b2362-05b3-463b-9b8f-71f31f3204b2\")) {                    Plotly.newPlot(                        \"0f4b2362-05b3-463b-9b8f-71f31f3204b2\",                        [{\"hovertemplate\":\"\\u003cb\\u003e%{hovertext}\\u003c\\u002fb\\u003e\\u003cbr\\u003e\\u003cbr\\u003ex=%{x}\\u003cbr\\u003ey=%{y}\\u003cextra\\u003e\\u003c\\u002fextra\\u003e\",\"hovertext\":[\"0_pre\",\"0_mid\",\"1_pre\",\"1_mid\",\"2_pre\",\"2_mid\",\"3_pre\",\"3_mid\",\"4_pre\",\"4_mid\",\"5_pre\",\"5_mid\",\"6_pre\",\"6_mid\",\"7_pre\",\"7_mid\",\"8_pre\",\"8_mid\",\"9_pre\",\"9_mid\",\"10_pre\",\"10_mid\",\"11_pre\",\"11_mid\",\"final_post\"],\"legendgroup\":\"\",\"line\":{\"color\":\"#636efa\",\"dash\":\"solid\"},\"marker\":{\"symbol\":\"circle\"},\"mode\":\"lines\",\"name\":\"\",\"orientation\":\"v\",\"showlegend\":false,\"x\":[0.0,0.5,1.0,1.5,2.0,2.5,3.0,3.5,4.0,4.5,5.0,5.5,6.0,6.5,7.0,7.5,8.0,8.5,9.0,9.5,10.0,10.5,11.0,11.5,12.0],\"xaxis\":\"x\",\"y\":[0.0001051437429850921,-0.010716266930103302,-0.007360788993537426,-0.007833089679479599,-0.004911159165203571,-0.003517143428325653,-0.0031011924147605896,-0.004988258238881826,-0.004946249071508646,-0.004103659652173519,-0.0016880454495549202,-0.0010617681546136737,-0.0012515104608610272,-0.02471861243247986,-0.01955573633313179,0.24237173795700073,0.26564860343933105,0.3914194107055664,0.4270467162132263,1.8550857305526733,2.000819683074951,2.69083571434021,2.9350337982177734,2.1693780422210693,2.228362798690796],\"yaxis\":\"y\",\"type\":\"scatter\"}],                        {\"template\":{\"data\":{\"histogram2dcontour\":[{\"type\":\"histogram2dcontour\",\"colorbar\":{\"outlinewidth\":0,\"ticks\":\"\"},\"colorscale\":[[0.0,\"#0d0887\"],[0.1111111111111111,\"#46039f\"],[0.2222222222222222,\"#7201a8\"],[0.3333333333333333,\"#9c179e\"],[0.4444444444444444,\"#bd3786\"],[0.5555555555555556,\"#d8576b\"],[0.6666666666666666,\"#ed7953\"],[0.7777777777777778,\"#fb9f3a\"],[0.8888888888888888,\"#fdca26\"],[1.0,\"#f0f921\"]]}],\"choropleth\":[{\"type\":\"choropleth\",\"colorbar\":{\"outlinewidth\":0,\"ticks\":\"\"}}],\"histogram2d\":[{\"type\":\"histogram2d\",\"colorbar\":{\"outlinewidth\":0,\"ticks\":\"\"},\"colorscale\":[[0.0,\"#0d0887\"],[0.1111111111111111,\"#46039f\"],[0.2222222222222222,\"#7201a8\"],[0.3333333333333333,\"#9c179e\"],[0.4444444444444444,\"#bd3786\"],[0.5555555555555556,\"#d8576b\"],[0.6666666666666666,\"#ed7953\"],[0.7777777777777778,\"#fb9f3a\"],[0.8888888888888888,\"#fdca26\"],[1.0,\"#f0f921\"]]}],\"heatmap\":[{\"type\":\"heatmap\",\"colorbar\":{\"outlinewidth\":0,\"ticks\":\"\"},\"colorscale\":[[0.0,\"#0d0887\"],[0.1111111111111111,\"#46039f\"],[0.2222222222222222,\"#7201a8\"],[0.3333333333333333,\"#9c179e\"],[0.4444444444444444,\"#bd3786\"],[0.5555555555555556,\"#d8576b\"],[0.6666666666666666,\"#ed7953\"],[0.7777777777777778,\"#fb9f3a\"],[0.8888888888888888,\"#fdca26\"],[1.0,\"#f0f921\"]]}],\"heatmapgl\":[{\"type\":\"heatmapgl\",\"colorbar\":{\"outlinewidth\":0,\"ticks\":\"\"},\"colorscale\":[[0.0,\"#0d0887\"],[0.1111111111111111,\"#46039f\"],[0.2222222222222222,\"#7201a8\"],[0.3333333333333333,\"#9c179e\"],[0.4444444444444444,\"#bd3786\"],[0.5555555555555556,\"#d8576b\"],[0.6666666666666666,\"#ed7953\"],[0.7777777777777778,\"#fb9f3a\"],[0.8888888888888888,\"#fdca26\"],[1.0,\"#f0f921\"]]}],\"contourcarpet\":[{\"type\":\"contourcarpet\",\"colorbar\":{\"outlinewidth\":0,\"ticks\":\"\"}}],\"contour\":[{\"type\":\"contour\",\"colorbar\":{\"outlinewidth\":0,\"ticks\":\"\"},\"colorscale\":[[0.0,\"#0d0887\"],[0.1111111111111111,\"#46039f\"],[0.2222222222222222,\"#7201a8\"],[0.3333333333333333,\"#9c179e\"],[0.4444444444444444,\"#bd3786\"],[0.5555555555555556,\"#d8576b\"],[0.6666666666666666,\"#ed7953\"],[0.7777777777777778,\"#fb9f3a\"],[0.8888888888888888,\"#fdca26\"],[1.0,\"#f0f921\"]]}],\"surface\":[{\"type\":\"surface\",\"colorbar\":{\"outlinewidth\":0,\"ticks\":\"\"},\"colorscale\":[[0.0,\"#0d0887\"],[0.1111111111111111,\"#46039f\"],[0.2222222222222222,\"#7201a8\"],[0.3333333333333333,\"#9c179e\"],[0.4444444444444444,\"#bd3786\"],[0.5555555555555556,\"#d8576b\"],[0.6666666666666666,\"#ed7953\"],[0.7777777777777778,\"#fb9f3a\"],[0.8888888888888888,\"#fdca26\"],[1.0,\"#f0f921\"]]}],\"mesh3d\":[{\"type\":\"mesh3d\",\"colorbar\":{\"outlinewidth\":0,\"ticks\":\"\"}}],\"scatter\":[{\"fillpattern\":{\"fillmode\":\"overlay\",\"size\":10,\"solidity\":0.2},\"type\":\"scatter\"}],\"parcoords\":[{\"type\":\"parcoords\",\"line\":{\"colorbar\":{\"outlinewidth\":0,\"ticks\":\"\"}}}],\"scatterpolargl\":[{\"type\":\"scatterpolargl\",\"marker\":{\"colorbar\":{\"outlinewidth\":0,\"ticks\":\"\"}}}],\"bar\":[{\"error_x\":{\"color\":\"#2a3f5f\"},\"error_y\":{\"color\":\"#2a3f5f\"},\"marker\":{\"line\":{\"color\":\"#E5ECF6\",\"width\":0.5},\"pattern\":{\"fillmode\":\"overlay\",\"size\":10,\"solidity\":0.2}},\"type\":\"bar\"}],\"scattergeo\":[{\"type\":\"scattergeo\",\"marker\":{\"colorbar\":{\"outlinewidth\":0,\"ticks\":\"\"}}}],\"scatterpolar\":[{\"type\":\"scatterpolar\",\"marker\":{\"colorbar\":{\"outlinewidth\":0,\"ticks\":\"\"}}}],\"histogram\":[{\"marker\":{\"pattern\":{\"fillmode\":\"overlay\",\"size\":10,\"solidity\":0.2}},\"type\":\"histogram\"}],\"scattergl\":[{\"type\":\"scattergl\",\"marker\":{\"colorbar\":{\"outlinewidth\":0,\"ticks\":\"\"}}}],\"scatter3d\":[{\"type\":\"scatter3d\",\"line\":{\"colorbar\":{\"outlinewidth\":0,\"ticks\":\"\"}},\"marker\":{\"colorbar\":{\"outlinewidth\":0,\"ticks\":\"\"}}}],\"scattermapbox\":[{\"type\":\"scattermapbox\",\"marker\":{\"colorbar\":{\"outlinewidth\":0,\"ticks\":\"\"}}}],\"scatterternary\":[{\"type\":\"scatterternary\",\"marker\":{\"colorbar\":{\"outlinewidth\":0,\"ticks\":\"\"}}}],\"scattercarpet\":[{\"type\":\"scattercarpet\",\"marker\":{\"colorbar\":{\"outlinewidth\":0,\"ticks\":\"\"}}}],\"carpet\":[{\"aaxis\":{\"endlinecolor\":\"#2a3f5f\",\"gridcolor\":\"white\",\"linecolor\":\"white\",\"minorgridcolor\":\"white\",\"startlinecolor\":\"#2a3f5f\"},\"baxis\":{\"endlinecolor\":\"#2a3f5f\",\"gridcolor\":\"white\",\"linecolor\":\"white\",\"minorgridcolor\":\"white\",\"startlinecolor\":\"#2a3f5f\"},\"type\":\"carpet\"}],\"table\":[{\"cells\":{\"fill\":{\"color\":\"#EBF0F8\"},\"line\":{\"color\":\"white\"}},\"header\":{\"fill\":{\"color\":\"#C8D4E3\"},\"line\":{\"color\":\"white\"}},\"type\":\"table\"}],\"barpolar\":[{\"marker\":{\"line\":{\"color\":\"#E5ECF6\",\"width\":0.5},\"pattern\":{\"fillmode\":\"overlay\",\"size\":10,\"solidity\":0.2}},\"type\":\"barpolar\"}],\"pie\":[{\"automargin\":true,\"type\":\"pie\"}]},\"layout\":{\"autotypenumbers\":\"strict\",\"colorway\":[\"#636efa\",\"#EF553B\",\"#00cc96\",\"#ab63fa\",\"#FFA15A\",\"#19d3f3\",\"#FF6692\",\"#B6E880\",\"#FF97FF\",\"#FECB52\"],\"font\":{\"color\":\"#2a3f5f\"},\"hovermode\":\"closest\",\"hoverlabel\":{\"align\":\"left\"},\"paper_bgcolor\":\"white\",\"plot_bgcolor\":\"#E5ECF6\",\"polar\":{\"bgcolor\":\"#E5ECF6\",\"angularaxis\":{\"gridcolor\":\"white\",\"linecolor\":\"white\",\"ticks\":\"\"},\"radialaxis\":{\"gridcolor\":\"white\",\"linecolor\":\"white\",\"ticks\":\"\"}},\"ternary\":{\"bgcolor\":\"#E5ECF6\",\"aaxis\":{\"gridcolor\":\"white\",\"linecolor\":\"white\",\"ticks\":\"\"},\"baxis\":{\"gridcolor\":\"white\",\"linecolor\":\"white\",\"ticks\":\"\"},\"caxis\":{\"gridcolor\":\"white\",\"linecolor\":\"white\",\"ticks\":\"\"}},\"coloraxis\":{\"colorbar\":{\"outlinewidth\":0,\"ticks\":\"\"}},\"colorscale\":{\"sequential\":[[0.0,\"#0d0887\"],[0.1111111111111111,\"#46039f\"],[0.2222222222222222,\"#7201a8\"],[0.3333333333333333,\"#9c179e\"],[0.4444444444444444,\"#bd3786\"],[0.5555555555555556,\"#d8576b\"],[0.6666666666666666,\"#ed7953\"],[0.7777777777777778,\"#fb9f3a\"],[0.8888888888888888,\"#fdca26\"],[1.0,\"#f0f921\"]],\"sequentialminus\":[[0.0,\"#0d0887\"],[0.1111111111111111,\"#46039f\"],[0.2222222222222222,\"#7201a8\"],[0.3333333333333333,\"#9c179e\"],[0.4444444444444444,\"#bd3786\"],[0.5555555555555556,\"#d8576b\"],[0.6666666666666666,\"#ed7953\"],[0.7777777777777778,\"#fb9f3a\"],[0.8888888888888888,\"#fdca26\"],[1.0,\"#f0f921\"]],\"diverging\":[[0,\"#8e0152\"],[0.1,\"#c51b7d\"],[0.2,\"#de77ae\"],[0.3,\"#f1b6da\"],[0.4,\"#fde0ef\"],[0.5,\"#f7f7f7\"],[0.6,\"#e6f5d0\"],[0.7,\"#b8e186\"],[0.8,\"#7fbc41\"],[0.9,\"#4d9221\"],[1,\"#276419\"]]},\"xaxis\":{\"gridcolor\":\"white\",\"linecolor\":\"white\",\"ticks\":\"\",\"title\":{\"standoff\":15},\"zerolinecolor\":\"white\",\"automargin\":true,\"zerolinewidth\":2},\"yaxis\":{\"gridcolor\":\"white\",\"linecolor\":\"white\",\"ticks\":\"\",\"title\":{\"standoff\":15},\"zerolinecolor\":\"white\",\"automargin\":true,\"zerolinewidth\":2},\"scene\":{\"xaxis\":{\"backgroundcolor\":\"#E5ECF6\",\"gridcolor\":\"white\",\"linecolor\":\"white\",\"showbackground\":true,\"ticks\":\"\",\"zerolinecolor\":\"white\",\"gridwidth\":2},\"yaxis\":{\"backgroundcolor\":\"#E5ECF6\",\"gridcolor\":\"white\",\"linecolor\":\"white\",\"showbackground\":true,\"ticks\":\"\",\"zerolinecolor\":\"white\",\"gridwidth\":2},\"zaxis\":{\"backgroundcolor\":\"#E5ECF6\",\"gridcolor\":\"white\",\"linecolor\":\"white\",\"showbackground\":true,\"ticks\":\"\",\"zerolinecolor\":\"white\",\"gridwidth\":2}},\"shapedefaults\":{\"line\":{\"color\":\"#2a3f5f\"}},\"annotationdefaults\":{\"arrowcolor\":\"#2a3f5f\",\"arrowhead\":0,\"arrowwidth\":1},\"geo\":{\"bgcolor\":\"white\",\"landcolor\":\"#E5ECF6\",\"subunitcolor\":\"white\",\"showland\":true,\"showlakes\":true,\"lakecolor\":\"white\"},\"title\":{\"x\":0.05},\"mapbox\":{\"style\":\"light\"}}},\"xaxis\":{\"anchor\":\"y\",\"domain\":[0.0,1.0],\"title\":{\"text\":\"x\"}},\"yaxis\":{\"anchor\":\"x\",\"domain\":[0.0,1.0],\"title\":{\"text\":\"y\"}},\"legend\":{\"tracegroupgap\":0},\"title\":{\"text\":\"Logit Difference From Accumulate Residual Stream\"}},                        {\"responsive\": true}                    ).then(function(){\n",
       "                            \n",
       "var gd = document.getElementById('0f4b2362-05b3-463b-9b8f-71f31f3204b2');\n",
       "var x = new MutationObserver(function (mutations, observer) {{\n",
       "        var display = window.getComputedStyle(gd).display;\n",
       "        if (!display || display === 'none') {{\n",
       "            console.log([gd, 'removed!']);\n",
       "            Plotly.purge(gd);\n",
       "            observer.disconnect();\n",
       "        }}\n",
       "}});\n",
       "\n",
       "// Listen for the removal of the full notebook cells\n",
       "var notebookContainer = gd.closest('#notebook-container');\n",
       "if (notebookContainer) {{\n",
       "    x.observe(notebookContainer, {childList: true});\n",
       "}}\n",
       "\n",
       "// Listen for the clearing of the current output cell\n",
       "var outputEl = gd.closest('.output');\n",
       "if (outputEl) {{\n",
       "    x.observe(outputEl, {childList: true});\n",
       "}}\n",
       "\n",
       "                        })                };                });            </script>        </div>"
      ]
     },
     "metadata": {},
     "output_type": "display_data"
    }
   ],
   "source": [
    "accumulated_residual, labels = cache.accumulated_resid(\n",
    "    layer=-1, incl_mid=True, pos_slice=-1, return_labels=True\n",
    ")\n",
    "logit_lens_logit_diffs = residual_stack_to_logit_diff(accumulated_residual, cache)\n",
    "line(\n",
    "    logit_lens_logit_diffs,\n",
    "    x=np.arange(model.cfg.n_layers * 2 + 1) / 2,\n",
    "    hover_name=labels,\n",
    "    title=\"Logit Difference From Accumulate Residual Stream\",\n",
    ")"
   ]
  },
  {
   "cell_type": "code",
   "execution_count": 104,
   "metadata": {},
   "outputs": [
    {
     "data": {
      "application/vnd.plotly.v1+json": {
       "config": {
        "plotlyServerURL": "https://plot.ly"
       },
       "data": [
        {
         "hovertemplate": "<b>%{hovertext}</b><br><br>x=%{x}<br>y=%{y}<extra></extra>",
         "hovertext": [
          "embed",
          "pos_embed",
          "0_attn_out",
          "0_mlp_out",
          "1_attn_out",
          "1_mlp_out",
          "2_attn_out",
          "2_mlp_out",
          "3_attn_out",
          "3_mlp_out",
          "4_attn_out",
          "4_mlp_out",
          "5_attn_out",
          "5_mlp_out",
          "6_attn_out",
          "6_mlp_out",
          "7_attn_out",
          "7_mlp_out",
          "8_attn_out",
          "8_mlp_out",
          "9_attn_out",
          "9_mlp_out",
          "10_attn_out",
          "10_mlp_out",
          "11_attn_out",
          "11_mlp_out"
         ],
         "legendgroup": "",
         "line": {
          "color": "#636efa",
          "dash": "solid"
         },
         "marker": {
          "symbol": "circle"
         },
         "mode": "lines",
         "name": "",
         "orientation": "v",
         "showlegend": false,
         "type": "scatter",
         "x": [
          0,
          1,
          2,
          3,
          4,
          5,
          6,
          7,
          8,
          9,
          10,
          11,
          12,
          13,
          14,
          15,
          16,
          17,
          18,
          19,
          20,
          21,
          22,
          23,
          24,
          25
         ],
         "xaxis": "x",
         "y": [
          -0.00001509842331870459,
          0.00012024270836263895,
          -0.010821412317454815,
          0.0033554702531546354,
          -0.0004722903831861913,
          0.0029219118878245354,
          0.0013940294738858938,
          0.00041594679350964725,
          -0.0018870518542826176,
          0.00004199937029625289,
          0.0008426018757745624,
          0.002415624214336276,
          0.0006262705428525805,
          -0.00018976419232785702,
          -0.023467089980840683,
          0.0051628341898322105,
          0.2619275152683258,
          0.023276884108781815,
          0.12577080726623535,
          0.035627271980047226,
          1.4280389547348022,
          0.14573408663272858,
          0.6900160312652588,
          0.24419796466827393,
          -0.7656556963920593,
          0.05898435041308403
         ],
         "yaxis": "y"
        }
       ],
       "layout": {
        "legend": {
         "tracegroupgap": 0
        },
        "template": {
         "data": {
          "bar": [
           {
            "error_x": {
             "color": "#2a3f5f"
            },
            "error_y": {
             "color": "#2a3f5f"
            },
            "marker": {
             "line": {
              "color": "#E5ECF6",
              "width": 0.5
             },
             "pattern": {
              "fillmode": "overlay",
              "size": 10,
              "solidity": 0.2
             }
            },
            "type": "bar"
           }
          ],
          "barpolar": [
           {
            "marker": {
             "line": {
              "color": "#E5ECF6",
              "width": 0.5
             },
             "pattern": {
              "fillmode": "overlay",
              "size": 10,
              "solidity": 0.2
             }
            },
            "type": "barpolar"
           }
          ],
          "carpet": [
           {
            "aaxis": {
             "endlinecolor": "#2a3f5f",
             "gridcolor": "white",
             "linecolor": "white",
             "minorgridcolor": "white",
             "startlinecolor": "#2a3f5f"
            },
            "baxis": {
             "endlinecolor": "#2a3f5f",
             "gridcolor": "white",
             "linecolor": "white",
             "minorgridcolor": "white",
             "startlinecolor": "#2a3f5f"
            },
            "type": "carpet"
           }
          ],
          "choropleth": [
           {
            "colorbar": {
             "outlinewidth": 0,
             "ticks": ""
            },
            "type": "choropleth"
           }
          ],
          "contour": [
           {
            "colorbar": {
             "outlinewidth": 0,
             "ticks": ""
            },
            "colorscale": [
             [
              0,
              "#0d0887"
             ],
             [
              0.1111111111111111,
              "#46039f"
             ],
             [
              0.2222222222222222,
              "#7201a8"
             ],
             [
              0.3333333333333333,
              "#9c179e"
             ],
             [
              0.4444444444444444,
              "#bd3786"
             ],
             [
              0.5555555555555556,
              "#d8576b"
             ],
             [
              0.6666666666666666,
              "#ed7953"
             ],
             [
              0.7777777777777778,
              "#fb9f3a"
             ],
             [
              0.8888888888888888,
              "#fdca26"
             ],
             [
              1,
              "#f0f921"
             ]
            ],
            "type": "contour"
           }
          ],
          "contourcarpet": [
           {
            "colorbar": {
             "outlinewidth": 0,
             "ticks": ""
            },
            "type": "contourcarpet"
           }
          ],
          "heatmap": [
           {
            "colorbar": {
             "outlinewidth": 0,
             "ticks": ""
            },
            "colorscale": [
             [
              0,
              "#0d0887"
             ],
             [
              0.1111111111111111,
              "#46039f"
             ],
             [
              0.2222222222222222,
              "#7201a8"
             ],
             [
              0.3333333333333333,
              "#9c179e"
             ],
             [
              0.4444444444444444,
              "#bd3786"
             ],
             [
              0.5555555555555556,
              "#d8576b"
             ],
             [
              0.6666666666666666,
              "#ed7953"
             ],
             [
              0.7777777777777778,
              "#fb9f3a"
             ],
             [
              0.8888888888888888,
              "#fdca26"
             ],
             [
              1,
              "#f0f921"
             ]
            ],
            "type": "heatmap"
           }
          ],
          "heatmapgl": [
           {
            "colorbar": {
             "outlinewidth": 0,
             "ticks": ""
            },
            "colorscale": [
             [
              0,
              "#0d0887"
             ],
             [
              0.1111111111111111,
              "#46039f"
             ],
             [
              0.2222222222222222,
              "#7201a8"
             ],
             [
              0.3333333333333333,
              "#9c179e"
             ],
             [
              0.4444444444444444,
              "#bd3786"
             ],
             [
              0.5555555555555556,
              "#d8576b"
             ],
             [
              0.6666666666666666,
              "#ed7953"
             ],
             [
              0.7777777777777778,
              "#fb9f3a"
             ],
             [
              0.8888888888888888,
              "#fdca26"
             ],
             [
              1,
              "#f0f921"
             ]
            ],
            "type": "heatmapgl"
           }
          ],
          "histogram": [
           {
            "marker": {
             "pattern": {
              "fillmode": "overlay",
              "size": 10,
              "solidity": 0.2
             }
            },
            "type": "histogram"
           }
          ],
          "histogram2d": [
           {
            "colorbar": {
             "outlinewidth": 0,
             "ticks": ""
            },
            "colorscale": [
             [
              0,
              "#0d0887"
             ],
             [
              0.1111111111111111,
              "#46039f"
             ],
             [
              0.2222222222222222,
              "#7201a8"
             ],
             [
              0.3333333333333333,
              "#9c179e"
             ],
             [
              0.4444444444444444,
              "#bd3786"
             ],
             [
              0.5555555555555556,
              "#d8576b"
             ],
             [
              0.6666666666666666,
              "#ed7953"
             ],
             [
              0.7777777777777778,
              "#fb9f3a"
             ],
             [
              0.8888888888888888,
              "#fdca26"
             ],
             [
              1,
              "#f0f921"
             ]
            ],
            "type": "histogram2d"
           }
          ],
          "histogram2dcontour": [
           {
            "colorbar": {
             "outlinewidth": 0,
             "ticks": ""
            },
            "colorscale": [
             [
              0,
              "#0d0887"
             ],
             [
              0.1111111111111111,
              "#46039f"
             ],
             [
              0.2222222222222222,
              "#7201a8"
             ],
             [
              0.3333333333333333,
              "#9c179e"
             ],
             [
              0.4444444444444444,
              "#bd3786"
             ],
             [
              0.5555555555555556,
              "#d8576b"
             ],
             [
              0.6666666666666666,
              "#ed7953"
             ],
             [
              0.7777777777777778,
              "#fb9f3a"
             ],
             [
              0.8888888888888888,
              "#fdca26"
             ],
             [
              1,
              "#f0f921"
             ]
            ],
            "type": "histogram2dcontour"
           }
          ],
          "mesh3d": [
           {
            "colorbar": {
             "outlinewidth": 0,
             "ticks": ""
            },
            "type": "mesh3d"
           }
          ],
          "parcoords": [
           {
            "line": {
             "colorbar": {
              "outlinewidth": 0,
              "ticks": ""
             }
            },
            "type": "parcoords"
           }
          ],
          "pie": [
           {
            "automargin": true,
            "type": "pie"
           }
          ],
          "scatter": [
           {
            "fillpattern": {
             "fillmode": "overlay",
             "size": 10,
             "solidity": 0.2
            },
            "type": "scatter"
           }
          ],
          "scatter3d": [
           {
            "line": {
             "colorbar": {
              "outlinewidth": 0,
              "ticks": ""
             }
            },
            "marker": {
             "colorbar": {
              "outlinewidth": 0,
              "ticks": ""
             }
            },
            "type": "scatter3d"
           }
          ],
          "scattercarpet": [
           {
            "marker": {
             "colorbar": {
              "outlinewidth": 0,
              "ticks": ""
             }
            },
            "type": "scattercarpet"
           }
          ],
          "scattergeo": [
           {
            "marker": {
             "colorbar": {
              "outlinewidth": 0,
              "ticks": ""
             }
            },
            "type": "scattergeo"
           }
          ],
          "scattergl": [
           {
            "marker": {
             "colorbar": {
              "outlinewidth": 0,
              "ticks": ""
             }
            },
            "type": "scattergl"
           }
          ],
          "scattermapbox": [
           {
            "marker": {
             "colorbar": {
              "outlinewidth": 0,
              "ticks": ""
             }
            },
            "type": "scattermapbox"
           }
          ],
          "scatterpolar": [
           {
            "marker": {
             "colorbar": {
              "outlinewidth": 0,
              "ticks": ""
             }
            },
            "type": "scatterpolar"
           }
          ],
          "scatterpolargl": [
           {
            "marker": {
             "colorbar": {
              "outlinewidth": 0,
              "ticks": ""
             }
            },
            "type": "scatterpolargl"
           }
          ],
          "scatterternary": [
           {
            "marker": {
             "colorbar": {
              "outlinewidth": 0,
              "ticks": ""
             }
            },
            "type": "scatterternary"
           }
          ],
          "surface": [
           {
            "colorbar": {
             "outlinewidth": 0,
             "ticks": ""
            },
            "colorscale": [
             [
              0,
              "#0d0887"
             ],
             [
              0.1111111111111111,
              "#46039f"
             ],
             [
              0.2222222222222222,
              "#7201a8"
             ],
             [
              0.3333333333333333,
              "#9c179e"
             ],
             [
              0.4444444444444444,
              "#bd3786"
             ],
             [
              0.5555555555555556,
              "#d8576b"
             ],
             [
              0.6666666666666666,
              "#ed7953"
             ],
             [
              0.7777777777777778,
              "#fb9f3a"
             ],
             [
              0.8888888888888888,
              "#fdca26"
             ],
             [
              1,
              "#f0f921"
             ]
            ],
            "type": "surface"
           }
          ],
          "table": [
           {
            "cells": {
             "fill": {
              "color": "#EBF0F8"
             },
             "line": {
              "color": "white"
             }
            },
            "header": {
             "fill": {
              "color": "#C8D4E3"
             },
             "line": {
              "color": "white"
             }
            },
            "type": "table"
           }
          ]
         },
         "layout": {
          "annotationdefaults": {
           "arrowcolor": "#2a3f5f",
           "arrowhead": 0,
           "arrowwidth": 1
          },
          "autotypenumbers": "strict",
          "coloraxis": {
           "colorbar": {
            "outlinewidth": 0,
            "ticks": ""
           }
          },
          "colorscale": {
           "diverging": [
            [
             0,
             "#8e0152"
            ],
            [
             0.1,
             "#c51b7d"
            ],
            [
             0.2,
             "#de77ae"
            ],
            [
             0.3,
             "#f1b6da"
            ],
            [
             0.4,
             "#fde0ef"
            ],
            [
             0.5,
             "#f7f7f7"
            ],
            [
             0.6,
             "#e6f5d0"
            ],
            [
             0.7,
             "#b8e186"
            ],
            [
             0.8,
             "#7fbc41"
            ],
            [
             0.9,
             "#4d9221"
            ],
            [
             1,
             "#276419"
            ]
           ],
           "sequential": [
            [
             0,
             "#0d0887"
            ],
            [
             0.1111111111111111,
             "#46039f"
            ],
            [
             0.2222222222222222,
             "#7201a8"
            ],
            [
             0.3333333333333333,
             "#9c179e"
            ],
            [
             0.4444444444444444,
             "#bd3786"
            ],
            [
             0.5555555555555556,
             "#d8576b"
            ],
            [
             0.6666666666666666,
             "#ed7953"
            ],
            [
             0.7777777777777778,
             "#fb9f3a"
            ],
            [
             0.8888888888888888,
             "#fdca26"
            ],
            [
             1,
             "#f0f921"
            ]
           ],
           "sequentialminus": [
            [
             0,
             "#0d0887"
            ],
            [
             0.1111111111111111,
             "#46039f"
            ],
            [
             0.2222222222222222,
             "#7201a8"
            ],
            [
             0.3333333333333333,
             "#9c179e"
            ],
            [
             0.4444444444444444,
             "#bd3786"
            ],
            [
             0.5555555555555556,
             "#d8576b"
            ],
            [
             0.6666666666666666,
             "#ed7953"
            ],
            [
             0.7777777777777778,
             "#fb9f3a"
            ],
            [
             0.8888888888888888,
             "#fdca26"
            ],
            [
             1,
             "#f0f921"
            ]
           ]
          },
          "colorway": [
           "#636efa",
           "#EF553B",
           "#00cc96",
           "#ab63fa",
           "#FFA15A",
           "#19d3f3",
           "#FF6692",
           "#B6E880",
           "#FF97FF",
           "#FECB52"
          ],
          "font": {
           "color": "#2a3f5f"
          },
          "geo": {
           "bgcolor": "white",
           "lakecolor": "white",
           "landcolor": "#E5ECF6",
           "showlakes": true,
           "showland": true,
           "subunitcolor": "white"
          },
          "hoverlabel": {
           "align": "left"
          },
          "hovermode": "closest",
          "mapbox": {
           "style": "light"
          },
          "paper_bgcolor": "white",
          "plot_bgcolor": "#E5ECF6",
          "polar": {
           "angularaxis": {
            "gridcolor": "white",
            "linecolor": "white",
            "ticks": ""
           },
           "bgcolor": "#E5ECF6",
           "radialaxis": {
            "gridcolor": "white",
            "linecolor": "white",
            "ticks": ""
           }
          },
          "scene": {
           "xaxis": {
            "backgroundcolor": "#E5ECF6",
            "gridcolor": "white",
            "gridwidth": 2,
            "linecolor": "white",
            "showbackground": true,
            "ticks": "",
            "zerolinecolor": "white"
           },
           "yaxis": {
            "backgroundcolor": "#E5ECF6",
            "gridcolor": "white",
            "gridwidth": 2,
            "linecolor": "white",
            "showbackground": true,
            "ticks": "",
            "zerolinecolor": "white"
           },
           "zaxis": {
            "backgroundcolor": "#E5ECF6",
            "gridcolor": "white",
            "gridwidth": 2,
            "linecolor": "white",
            "showbackground": true,
            "ticks": "",
            "zerolinecolor": "white"
           }
          },
          "shapedefaults": {
           "line": {
            "color": "#2a3f5f"
           }
          },
          "ternary": {
           "aaxis": {
            "gridcolor": "white",
            "linecolor": "white",
            "ticks": ""
           },
           "baxis": {
            "gridcolor": "white",
            "linecolor": "white",
            "ticks": ""
           },
           "bgcolor": "#E5ECF6",
           "caxis": {
            "gridcolor": "white",
            "linecolor": "white",
            "ticks": ""
           }
          },
          "title": {
           "x": 0.05
          },
          "xaxis": {
           "automargin": true,
           "gridcolor": "white",
           "linecolor": "white",
           "ticks": "",
           "title": {
            "standoff": 15
           },
           "zerolinecolor": "white",
           "zerolinewidth": 2
          },
          "yaxis": {
           "automargin": true,
           "gridcolor": "white",
           "linecolor": "white",
           "ticks": "",
           "title": {
            "standoff": 15
           },
           "zerolinecolor": "white",
           "zerolinewidth": 2
          }
         }
        },
        "title": {
         "text": "Logit Difference From Each Layer"
        },
        "xaxis": {
         "anchor": "y",
         "domain": [
          0,
          1
         ],
         "title": {
          "text": "x"
         }
        },
        "yaxis": {
         "anchor": "x",
         "domain": [
          0,
          1
         ],
         "title": {
          "text": "y"
         }
        }
       }
      },
      "text/html": [
       "<div>                            <div id=\"1b58d225-03d3-4389-97d6-d8140db1be50\" class=\"plotly-graph-div\" style=\"height:525px; width:100%;\"></div>            <script type=\"text/javascript\">                require([\"plotly\"], function(Plotly) {                    window.PLOTLYENV=window.PLOTLYENV || {};                                    if (document.getElementById(\"1b58d225-03d3-4389-97d6-d8140db1be50\")) {                    Plotly.newPlot(                        \"1b58d225-03d3-4389-97d6-d8140db1be50\",                        [{\"hovertemplate\":\"\\u003cb\\u003e%{hovertext}\\u003c\\u002fb\\u003e\\u003cbr\\u003e\\u003cbr\\u003ex=%{x}\\u003cbr\\u003ey=%{y}\\u003cextra\\u003e\\u003c\\u002fextra\\u003e\",\"hovertext\":[\"embed\",\"pos_embed\",\"0_attn_out\",\"0_mlp_out\",\"1_attn_out\",\"1_mlp_out\",\"2_attn_out\",\"2_mlp_out\",\"3_attn_out\",\"3_mlp_out\",\"4_attn_out\",\"4_mlp_out\",\"5_attn_out\",\"5_mlp_out\",\"6_attn_out\",\"6_mlp_out\",\"7_attn_out\",\"7_mlp_out\",\"8_attn_out\",\"8_mlp_out\",\"9_attn_out\",\"9_mlp_out\",\"10_attn_out\",\"10_mlp_out\",\"11_attn_out\",\"11_mlp_out\"],\"legendgroup\":\"\",\"line\":{\"color\":\"#636efa\",\"dash\":\"solid\"},\"marker\":{\"symbol\":\"circle\"},\"mode\":\"lines\",\"name\":\"\",\"orientation\":\"v\",\"showlegend\":false,\"x\":[0,1,2,3,4,5,6,7,8,9,10,11,12,13,14,15,16,17,18,19,20,21,22,23,24,25],\"xaxis\":\"x\",\"y\":[-1.509842331870459e-05,0.00012024270836263895,-0.010821412317454815,0.0033554702531546354,-0.0004722903831861913,0.0029219118878245354,0.0013940294738858938,0.00041594679350964725,-0.0018870518542826176,4.199937029625289e-05,0.0008426018757745624,0.002415624214336276,0.0006262705428525805,-0.00018976419232785702,-0.023467089980840683,0.0051628341898322105,0.2619275152683258,0.023276884108781815,0.12577080726623535,0.035627271980047226,1.4280389547348022,0.14573408663272858,0.6900160312652588,0.24419796466827393,-0.7656556963920593,0.05898435041308403],\"yaxis\":\"y\",\"type\":\"scatter\"}],                        {\"template\":{\"data\":{\"histogram2dcontour\":[{\"type\":\"histogram2dcontour\",\"colorbar\":{\"outlinewidth\":0,\"ticks\":\"\"},\"colorscale\":[[0.0,\"#0d0887\"],[0.1111111111111111,\"#46039f\"],[0.2222222222222222,\"#7201a8\"],[0.3333333333333333,\"#9c179e\"],[0.4444444444444444,\"#bd3786\"],[0.5555555555555556,\"#d8576b\"],[0.6666666666666666,\"#ed7953\"],[0.7777777777777778,\"#fb9f3a\"],[0.8888888888888888,\"#fdca26\"],[1.0,\"#f0f921\"]]}],\"choropleth\":[{\"type\":\"choropleth\",\"colorbar\":{\"outlinewidth\":0,\"ticks\":\"\"}}],\"histogram2d\":[{\"type\":\"histogram2d\",\"colorbar\":{\"outlinewidth\":0,\"ticks\":\"\"},\"colorscale\":[[0.0,\"#0d0887\"],[0.1111111111111111,\"#46039f\"],[0.2222222222222222,\"#7201a8\"],[0.3333333333333333,\"#9c179e\"],[0.4444444444444444,\"#bd3786\"],[0.5555555555555556,\"#d8576b\"],[0.6666666666666666,\"#ed7953\"],[0.7777777777777778,\"#fb9f3a\"],[0.8888888888888888,\"#fdca26\"],[1.0,\"#f0f921\"]]}],\"heatmap\":[{\"type\":\"heatmap\",\"colorbar\":{\"outlinewidth\":0,\"ticks\":\"\"},\"colorscale\":[[0.0,\"#0d0887\"],[0.1111111111111111,\"#46039f\"],[0.2222222222222222,\"#7201a8\"],[0.3333333333333333,\"#9c179e\"],[0.4444444444444444,\"#bd3786\"],[0.5555555555555556,\"#d8576b\"],[0.6666666666666666,\"#ed7953\"],[0.7777777777777778,\"#fb9f3a\"],[0.8888888888888888,\"#fdca26\"],[1.0,\"#f0f921\"]]}],\"heatmapgl\":[{\"type\":\"heatmapgl\",\"colorbar\":{\"outlinewidth\":0,\"ticks\":\"\"},\"colorscale\":[[0.0,\"#0d0887\"],[0.1111111111111111,\"#46039f\"],[0.2222222222222222,\"#7201a8\"],[0.3333333333333333,\"#9c179e\"],[0.4444444444444444,\"#bd3786\"],[0.5555555555555556,\"#d8576b\"],[0.6666666666666666,\"#ed7953\"],[0.7777777777777778,\"#fb9f3a\"],[0.8888888888888888,\"#fdca26\"],[1.0,\"#f0f921\"]]}],\"contourcarpet\":[{\"type\":\"contourcarpet\",\"colorbar\":{\"outlinewidth\":0,\"ticks\":\"\"}}],\"contour\":[{\"type\":\"contour\",\"colorbar\":{\"outlinewidth\":0,\"ticks\":\"\"},\"colorscale\":[[0.0,\"#0d0887\"],[0.1111111111111111,\"#46039f\"],[0.2222222222222222,\"#7201a8\"],[0.3333333333333333,\"#9c179e\"],[0.4444444444444444,\"#bd3786\"],[0.5555555555555556,\"#d8576b\"],[0.6666666666666666,\"#ed7953\"],[0.7777777777777778,\"#fb9f3a\"],[0.8888888888888888,\"#fdca26\"],[1.0,\"#f0f921\"]]}],\"surface\":[{\"type\":\"surface\",\"colorbar\":{\"outlinewidth\":0,\"ticks\":\"\"},\"colorscale\":[[0.0,\"#0d0887\"],[0.1111111111111111,\"#46039f\"],[0.2222222222222222,\"#7201a8\"],[0.3333333333333333,\"#9c179e\"],[0.4444444444444444,\"#bd3786\"],[0.5555555555555556,\"#d8576b\"],[0.6666666666666666,\"#ed7953\"],[0.7777777777777778,\"#fb9f3a\"],[0.8888888888888888,\"#fdca26\"],[1.0,\"#f0f921\"]]}],\"mesh3d\":[{\"type\":\"mesh3d\",\"colorbar\":{\"outlinewidth\":0,\"ticks\":\"\"}}],\"scatter\":[{\"fillpattern\":{\"fillmode\":\"overlay\",\"size\":10,\"solidity\":0.2},\"type\":\"scatter\"}],\"parcoords\":[{\"type\":\"parcoords\",\"line\":{\"colorbar\":{\"outlinewidth\":0,\"ticks\":\"\"}}}],\"scatterpolargl\":[{\"type\":\"scatterpolargl\",\"marker\":{\"colorbar\":{\"outlinewidth\":0,\"ticks\":\"\"}}}],\"bar\":[{\"error_x\":{\"color\":\"#2a3f5f\"},\"error_y\":{\"color\":\"#2a3f5f\"},\"marker\":{\"line\":{\"color\":\"#E5ECF6\",\"width\":0.5},\"pattern\":{\"fillmode\":\"overlay\",\"size\":10,\"solidity\":0.2}},\"type\":\"bar\"}],\"scattergeo\":[{\"type\":\"scattergeo\",\"marker\":{\"colorbar\":{\"outlinewidth\":0,\"ticks\":\"\"}}}],\"scatterpolar\":[{\"type\":\"scatterpolar\",\"marker\":{\"colorbar\":{\"outlinewidth\":0,\"ticks\":\"\"}}}],\"histogram\":[{\"marker\":{\"pattern\":{\"fillmode\":\"overlay\",\"size\":10,\"solidity\":0.2}},\"type\":\"histogram\"}],\"scattergl\":[{\"type\":\"scattergl\",\"marker\":{\"colorbar\":{\"outlinewidth\":0,\"ticks\":\"\"}}}],\"scatter3d\":[{\"type\":\"scatter3d\",\"line\":{\"colorbar\":{\"outlinewidth\":0,\"ticks\":\"\"}},\"marker\":{\"colorbar\":{\"outlinewidth\":0,\"ticks\":\"\"}}}],\"scattermapbox\":[{\"type\":\"scattermapbox\",\"marker\":{\"colorbar\":{\"outlinewidth\":0,\"ticks\":\"\"}}}],\"scatterternary\":[{\"type\":\"scatterternary\",\"marker\":{\"colorbar\":{\"outlinewidth\":0,\"ticks\":\"\"}}}],\"scattercarpet\":[{\"type\":\"scattercarpet\",\"marker\":{\"colorbar\":{\"outlinewidth\":0,\"ticks\":\"\"}}}],\"carpet\":[{\"aaxis\":{\"endlinecolor\":\"#2a3f5f\",\"gridcolor\":\"white\",\"linecolor\":\"white\",\"minorgridcolor\":\"white\",\"startlinecolor\":\"#2a3f5f\"},\"baxis\":{\"endlinecolor\":\"#2a3f5f\",\"gridcolor\":\"white\",\"linecolor\":\"white\",\"minorgridcolor\":\"white\",\"startlinecolor\":\"#2a3f5f\"},\"type\":\"carpet\"}],\"table\":[{\"cells\":{\"fill\":{\"color\":\"#EBF0F8\"},\"line\":{\"color\":\"white\"}},\"header\":{\"fill\":{\"color\":\"#C8D4E3\"},\"line\":{\"color\":\"white\"}},\"type\":\"table\"}],\"barpolar\":[{\"marker\":{\"line\":{\"color\":\"#E5ECF6\",\"width\":0.5},\"pattern\":{\"fillmode\":\"overlay\",\"size\":10,\"solidity\":0.2}},\"type\":\"barpolar\"}],\"pie\":[{\"automargin\":true,\"type\":\"pie\"}]},\"layout\":{\"autotypenumbers\":\"strict\",\"colorway\":[\"#636efa\",\"#EF553B\",\"#00cc96\",\"#ab63fa\",\"#FFA15A\",\"#19d3f3\",\"#FF6692\",\"#B6E880\",\"#FF97FF\",\"#FECB52\"],\"font\":{\"color\":\"#2a3f5f\"},\"hovermode\":\"closest\",\"hoverlabel\":{\"align\":\"left\"},\"paper_bgcolor\":\"white\",\"plot_bgcolor\":\"#E5ECF6\",\"polar\":{\"bgcolor\":\"#E5ECF6\",\"angularaxis\":{\"gridcolor\":\"white\",\"linecolor\":\"white\",\"ticks\":\"\"},\"radialaxis\":{\"gridcolor\":\"white\",\"linecolor\":\"white\",\"ticks\":\"\"}},\"ternary\":{\"bgcolor\":\"#E5ECF6\",\"aaxis\":{\"gridcolor\":\"white\",\"linecolor\":\"white\",\"ticks\":\"\"},\"baxis\":{\"gridcolor\":\"white\",\"linecolor\":\"white\",\"ticks\":\"\"},\"caxis\":{\"gridcolor\":\"white\",\"linecolor\":\"white\",\"ticks\":\"\"}},\"coloraxis\":{\"colorbar\":{\"outlinewidth\":0,\"ticks\":\"\"}},\"colorscale\":{\"sequential\":[[0.0,\"#0d0887\"],[0.1111111111111111,\"#46039f\"],[0.2222222222222222,\"#7201a8\"],[0.3333333333333333,\"#9c179e\"],[0.4444444444444444,\"#bd3786\"],[0.5555555555555556,\"#d8576b\"],[0.6666666666666666,\"#ed7953\"],[0.7777777777777778,\"#fb9f3a\"],[0.8888888888888888,\"#fdca26\"],[1.0,\"#f0f921\"]],\"sequentialminus\":[[0.0,\"#0d0887\"],[0.1111111111111111,\"#46039f\"],[0.2222222222222222,\"#7201a8\"],[0.3333333333333333,\"#9c179e\"],[0.4444444444444444,\"#bd3786\"],[0.5555555555555556,\"#d8576b\"],[0.6666666666666666,\"#ed7953\"],[0.7777777777777778,\"#fb9f3a\"],[0.8888888888888888,\"#fdca26\"],[1.0,\"#f0f921\"]],\"diverging\":[[0,\"#8e0152\"],[0.1,\"#c51b7d\"],[0.2,\"#de77ae\"],[0.3,\"#f1b6da\"],[0.4,\"#fde0ef\"],[0.5,\"#f7f7f7\"],[0.6,\"#e6f5d0\"],[0.7,\"#b8e186\"],[0.8,\"#7fbc41\"],[0.9,\"#4d9221\"],[1,\"#276419\"]]},\"xaxis\":{\"gridcolor\":\"white\",\"linecolor\":\"white\",\"ticks\":\"\",\"title\":{\"standoff\":15},\"zerolinecolor\":\"white\",\"automargin\":true,\"zerolinewidth\":2},\"yaxis\":{\"gridcolor\":\"white\",\"linecolor\":\"white\",\"ticks\":\"\",\"title\":{\"standoff\":15},\"zerolinecolor\":\"white\",\"automargin\":true,\"zerolinewidth\":2},\"scene\":{\"xaxis\":{\"backgroundcolor\":\"#E5ECF6\",\"gridcolor\":\"white\",\"linecolor\":\"white\",\"showbackground\":true,\"ticks\":\"\",\"zerolinecolor\":\"white\",\"gridwidth\":2},\"yaxis\":{\"backgroundcolor\":\"#E5ECF6\",\"gridcolor\":\"white\",\"linecolor\":\"white\",\"showbackground\":true,\"ticks\":\"\",\"zerolinecolor\":\"white\",\"gridwidth\":2},\"zaxis\":{\"backgroundcolor\":\"#E5ECF6\",\"gridcolor\":\"white\",\"linecolor\":\"white\",\"showbackground\":true,\"ticks\":\"\",\"zerolinecolor\":\"white\",\"gridwidth\":2}},\"shapedefaults\":{\"line\":{\"color\":\"#2a3f5f\"}},\"annotationdefaults\":{\"arrowcolor\":\"#2a3f5f\",\"arrowhead\":0,\"arrowwidth\":1},\"geo\":{\"bgcolor\":\"white\",\"landcolor\":\"#E5ECF6\",\"subunitcolor\":\"white\",\"showland\":true,\"showlakes\":true,\"lakecolor\":\"white\"},\"title\":{\"x\":0.05},\"mapbox\":{\"style\":\"light\"}}},\"xaxis\":{\"anchor\":\"y\",\"domain\":[0.0,1.0],\"title\":{\"text\":\"x\"}},\"yaxis\":{\"anchor\":\"x\",\"domain\":[0.0,1.0],\"title\":{\"text\":\"y\"}},\"legend\":{\"tracegroupgap\":0},\"title\":{\"text\":\"Logit Difference From Each Layer\"}},                        {\"responsive\": true}                    ).then(function(){\n",
       "                            \n",
       "var gd = document.getElementById('1b58d225-03d3-4389-97d6-d8140db1be50');\n",
       "var x = new MutationObserver(function (mutations, observer) {{\n",
       "        var display = window.getComputedStyle(gd).display;\n",
       "        if (!display || display === 'none') {{\n",
       "            console.log([gd, 'removed!']);\n",
       "            Plotly.purge(gd);\n",
       "            observer.disconnect();\n",
       "        }}\n",
       "}});\n",
       "\n",
       "// Listen for the removal of the full notebook cells\n",
       "var notebookContainer = gd.closest('#notebook-container');\n",
       "if (notebookContainer) {{\n",
       "    x.observe(notebookContainer, {childList: true});\n",
       "}}\n",
       "\n",
       "// Listen for the clearing of the current output cell\n",
       "var outputEl = gd.closest('.output');\n",
       "if (outputEl) {{\n",
       "    x.observe(outputEl, {childList: true});\n",
       "}}\n",
       "\n",
       "                        })                };                });            </script>        </div>"
      ]
     },
     "metadata": {},
     "output_type": "display_data"
    }
   ],
   "source": [
    "per_layer_residual, labels = cache.decompose_resid(\n",
    "    layer=-1, pos_slice=-1, return_labels=True\n",
    ")\n",
    "per_layer_logit_diffs = residual_stack_to_logit_diff(per_layer_residual, cache)\n",
    "line(per_layer_logit_diffs, hover_name=labels, title=\"Logit Difference From Each Layer\")"
   ]
  },
  {
   "cell_type": "markdown",
   "metadata": {},
   "source": [
    "Compared with the logit difference of the original model, these two plots show that most parts of the process is quite the same, although at layer 10 is displays some difference: its logit difference continues to grow(although decreases at 11 remains the same) instead of beginning to decrease.\n",
    "That suggestst that the difference might happens in layer 10.\n",
    "Let's make a gif graph of the sliced models."
   ]
  },
  {
   "cell_type": "code",
   "execution_count": 105,
   "metadata": {},
   "outputs": [
    {
     "name": "stdout",
     "output_type": "stream",
     "text": [
      "Tried to stack head results when they weren't cached. Computing head results now\n"
     ]
    },
    {
     "data": {
      "application/vnd.plotly.v1+json": {
       "config": {
        "plotlyServerURL": "https://plot.ly"
       },
       "data": [
        {
         "coloraxis": "coloraxis",
         "hovertemplate": "Head: %{x}<br>Layer: %{y}<br>color: %{z}<extra></extra>",
         "name": "0",
         "type": "heatmap",
         "xaxis": "x",
         "yaxis": "y",
         "z": [
          [
           -0.003615856170654297,
           -0.00005231297109276056,
           -0.0006643016240559518,
           0.00017332957941107452,
           -0.00027481120196171105,
           -0.00034377630800008774,
           -0.005090353079140186,
           -0.0005658126319758594,
           -0.00023033723118714988,
           0.0000764383003115654,
           0.0002360838552704081,
           -0.0005589723587036133
          ],
          [
           -0.00039491354255005717,
           -0.00026356015587225556,
           0.0007924739038571715,
           0.000030670471460325643,
           -0.001308409497141838,
           0.0003335674700792879,
           -0.0016615442000329494,
           -0.003759504295885563,
           0.0022429318632930517,
           0.0018707036506384611,
           0.00021214217122178525,
           0.0015962067991495132
          ],
          [
           0.0002967916370835155,
           -0.002062656683847308,
           0.0003864542522933334,
           -0.00019164556579198688,
           0.00006785938603570685,
           0.00022349813662003726,
           0.00011843000538647175,
           0.003067121608182788,
           0.00004489087586989626,
           -0.0011374754831194878,
           0.0007021428900770843,
           0.0000031942133773554815
          ],
          [
           -0.000001860898919403553,
           -0.000028880311219836585,
           -0.0002142774173989892,
           0.00018470191571395844,
           0.000369903864338994,
           -0.0001159615203505382,
           -0.001187147106975317,
           -0.00024038428091444075,
           0.00017972354544326663,
           -0.0005168791394680738,
           -0.00014308406389318407,
           -0.00013558505452238023
          ],
          [
           0.0006074013072066009,
           -0.00019937430624850094,
           -0.0005290932604111731,
           0.00003269450826337561,
           0.0018537293653935194,
           -0.0006780148833058774,
           -0.00020960552501492202,
           0.0003853983653243631,
           0.00016888472600840032,
           -0.0005109463818371296,
           0.0002885739377234131,
           -0.000342153653036803
          ],
          [
           0.000241637957515195,
           -0.00009686447447165847,
           -0.0013653062051162124,
           -0.000057586643379181623,
           -0.00003636162728071213,
           -0.00019590201554819942,
           0.00002740438503678888,
           -0.0002529671764932573,
           0.0001600981195224449,
           0.0009142816998064518,
           -0.0010812202235683799,
           0.002337538404390216
          ],
          [
           -0.015734927728772163,
           -0.0008623023750260472,
           0.0017592780059203506,
           -0.005346769466996193,
           -0.004881706088781357,
           0.0018319784430786967,
           0.001244362909346819,
           -0.000506432494148612,
           -0.000280094041954726,
           -0.000012606770724232774,
           -0.0009294450283050537,
           0.00033794058253988624
          ],
          [
           -0.0001379549503326416,
           -0.0014417641796171665,
           -0.0032426384277641773,
           0.08770038932561874,
           -0.0018419234547764063,
           -0.00928907934576273,
           0.00019708053150679916,
           -0.0016266820020973682,
           -0.00521931191906333,
           0.19544515013694763,
           0.001014810986816883,
           0.00008951952622737736
          ],
          [
           0.0003968902165070176,
           -0.0011045816354453564,
           -0.03554032742977142,
           0.0006201115320436656,
           0.0012632895959541202,
           -0.007192092947661877,
           -0.02214285358786583,
           0.0004989235894754529,
           -0.0231975968927145,
           0.0015486427582800388,
           0.21460792422294617,
           -0.0041025616228580475
          ],
          [
           0.02805512398481369,
           0.0037896372377872467,
           0.023385722190141678,
           0.0011143202427774668,
           -0.03706973046064377,
           0.032100047916173935,
           0.3826056122779846,
           0.09152885526418686,
           0.009731899946928024,
           0.8968026638031006,
           -0.00005684731877408922,
           -0.004214184358716011
          ],
          [
           0.47205275297164917,
           0.17081820964813232,
           -0.05585477501153946,
           0.009176000021398067,
           0.0030212539713829756,
           -0.000013548647984862328,
           0.17535792291164398,
           -0.3602389991283417,
           0.001825019484385848,
           -0.016203150153160095,
           0.29933273792266846,
           -0.00884149968624115
          ],
          [
           0.00994451716542244,
           0.08185990154743195,
           -0.37445491552352905,
           0.01110401377081871,
           -0.0021389476023614407,
           -0.002930442336946726,
           -0.024676423519849777,
           0.00298216356895864,
           -0.0011305718217045069,
           0.026100989431142807,
           -0.4943122863769531,
           0.0023368007969111204
          ]
         ]
        }
       ],
       "layout": {
        "coloraxis": {
         "cmid": 0,
         "colorscale": [
          [
           0,
           "rgb(103,0,31)"
          ],
          [
           0.1,
           "rgb(178,24,43)"
          ],
          [
           0.2,
           "rgb(214,96,77)"
          ],
          [
           0.3,
           "rgb(244,165,130)"
          ],
          [
           0.4,
           "rgb(253,219,199)"
          ],
          [
           0.5,
           "rgb(247,247,247)"
          ],
          [
           0.6,
           "rgb(209,229,240)"
          ],
          [
           0.7,
           "rgb(146,197,222)"
          ],
          [
           0.8,
           "rgb(67,147,195)"
          ],
          [
           0.9,
           "rgb(33,102,172)"
          ],
          [
           1,
           "rgb(5,48,97)"
          ]
         ]
        },
        "template": {
         "data": {
          "bar": [
           {
            "error_x": {
             "color": "#2a3f5f"
            },
            "error_y": {
             "color": "#2a3f5f"
            },
            "marker": {
             "line": {
              "color": "#E5ECF6",
              "width": 0.5
             },
             "pattern": {
              "fillmode": "overlay",
              "size": 10,
              "solidity": 0.2
             }
            },
            "type": "bar"
           }
          ],
          "barpolar": [
           {
            "marker": {
             "line": {
              "color": "#E5ECF6",
              "width": 0.5
             },
             "pattern": {
              "fillmode": "overlay",
              "size": 10,
              "solidity": 0.2
             }
            },
            "type": "barpolar"
           }
          ],
          "carpet": [
           {
            "aaxis": {
             "endlinecolor": "#2a3f5f",
             "gridcolor": "white",
             "linecolor": "white",
             "minorgridcolor": "white",
             "startlinecolor": "#2a3f5f"
            },
            "baxis": {
             "endlinecolor": "#2a3f5f",
             "gridcolor": "white",
             "linecolor": "white",
             "minorgridcolor": "white",
             "startlinecolor": "#2a3f5f"
            },
            "type": "carpet"
           }
          ],
          "choropleth": [
           {
            "colorbar": {
             "outlinewidth": 0,
             "ticks": ""
            },
            "type": "choropleth"
           }
          ],
          "contour": [
           {
            "colorbar": {
             "outlinewidth": 0,
             "ticks": ""
            },
            "colorscale": [
             [
              0,
              "#0d0887"
             ],
             [
              0.1111111111111111,
              "#46039f"
             ],
             [
              0.2222222222222222,
              "#7201a8"
             ],
             [
              0.3333333333333333,
              "#9c179e"
             ],
             [
              0.4444444444444444,
              "#bd3786"
             ],
             [
              0.5555555555555556,
              "#d8576b"
             ],
             [
              0.6666666666666666,
              "#ed7953"
             ],
             [
              0.7777777777777778,
              "#fb9f3a"
             ],
             [
              0.8888888888888888,
              "#fdca26"
             ],
             [
              1,
              "#f0f921"
             ]
            ],
            "type": "contour"
           }
          ],
          "contourcarpet": [
           {
            "colorbar": {
             "outlinewidth": 0,
             "ticks": ""
            },
            "type": "contourcarpet"
           }
          ],
          "heatmap": [
           {
            "colorbar": {
             "outlinewidth": 0,
             "ticks": ""
            },
            "colorscale": [
             [
              0,
              "#0d0887"
             ],
             [
              0.1111111111111111,
              "#46039f"
             ],
             [
              0.2222222222222222,
              "#7201a8"
             ],
             [
              0.3333333333333333,
              "#9c179e"
             ],
             [
              0.4444444444444444,
              "#bd3786"
             ],
             [
              0.5555555555555556,
              "#d8576b"
             ],
             [
              0.6666666666666666,
              "#ed7953"
             ],
             [
              0.7777777777777778,
              "#fb9f3a"
             ],
             [
              0.8888888888888888,
              "#fdca26"
             ],
             [
              1,
              "#f0f921"
             ]
            ],
            "type": "heatmap"
           }
          ],
          "heatmapgl": [
           {
            "colorbar": {
             "outlinewidth": 0,
             "ticks": ""
            },
            "colorscale": [
             [
              0,
              "#0d0887"
             ],
             [
              0.1111111111111111,
              "#46039f"
             ],
             [
              0.2222222222222222,
              "#7201a8"
             ],
             [
              0.3333333333333333,
              "#9c179e"
             ],
             [
              0.4444444444444444,
              "#bd3786"
             ],
             [
              0.5555555555555556,
              "#d8576b"
             ],
             [
              0.6666666666666666,
              "#ed7953"
             ],
             [
              0.7777777777777778,
              "#fb9f3a"
             ],
             [
              0.8888888888888888,
              "#fdca26"
             ],
             [
              1,
              "#f0f921"
             ]
            ],
            "type": "heatmapgl"
           }
          ],
          "histogram": [
           {
            "marker": {
             "pattern": {
              "fillmode": "overlay",
              "size": 10,
              "solidity": 0.2
             }
            },
            "type": "histogram"
           }
          ],
          "histogram2d": [
           {
            "colorbar": {
             "outlinewidth": 0,
             "ticks": ""
            },
            "colorscale": [
             [
              0,
              "#0d0887"
             ],
             [
              0.1111111111111111,
              "#46039f"
             ],
             [
              0.2222222222222222,
              "#7201a8"
             ],
             [
              0.3333333333333333,
              "#9c179e"
             ],
             [
              0.4444444444444444,
              "#bd3786"
             ],
             [
              0.5555555555555556,
              "#d8576b"
             ],
             [
              0.6666666666666666,
              "#ed7953"
             ],
             [
              0.7777777777777778,
              "#fb9f3a"
             ],
             [
              0.8888888888888888,
              "#fdca26"
             ],
             [
              1,
              "#f0f921"
             ]
            ],
            "type": "histogram2d"
           }
          ],
          "histogram2dcontour": [
           {
            "colorbar": {
             "outlinewidth": 0,
             "ticks": ""
            },
            "colorscale": [
             [
              0,
              "#0d0887"
             ],
             [
              0.1111111111111111,
              "#46039f"
             ],
             [
              0.2222222222222222,
              "#7201a8"
             ],
             [
              0.3333333333333333,
              "#9c179e"
             ],
             [
              0.4444444444444444,
              "#bd3786"
             ],
             [
              0.5555555555555556,
              "#d8576b"
             ],
             [
              0.6666666666666666,
              "#ed7953"
             ],
             [
              0.7777777777777778,
              "#fb9f3a"
             ],
             [
              0.8888888888888888,
              "#fdca26"
             ],
             [
              1,
              "#f0f921"
             ]
            ],
            "type": "histogram2dcontour"
           }
          ],
          "mesh3d": [
           {
            "colorbar": {
             "outlinewidth": 0,
             "ticks": ""
            },
            "type": "mesh3d"
           }
          ],
          "parcoords": [
           {
            "line": {
             "colorbar": {
              "outlinewidth": 0,
              "ticks": ""
             }
            },
            "type": "parcoords"
           }
          ],
          "pie": [
           {
            "automargin": true,
            "type": "pie"
           }
          ],
          "scatter": [
           {
            "fillpattern": {
             "fillmode": "overlay",
             "size": 10,
             "solidity": 0.2
            },
            "type": "scatter"
           }
          ],
          "scatter3d": [
           {
            "line": {
             "colorbar": {
              "outlinewidth": 0,
              "ticks": ""
             }
            },
            "marker": {
             "colorbar": {
              "outlinewidth": 0,
              "ticks": ""
             }
            },
            "type": "scatter3d"
           }
          ],
          "scattercarpet": [
           {
            "marker": {
             "colorbar": {
              "outlinewidth": 0,
              "ticks": ""
             }
            },
            "type": "scattercarpet"
           }
          ],
          "scattergeo": [
           {
            "marker": {
             "colorbar": {
              "outlinewidth": 0,
              "ticks": ""
             }
            },
            "type": "scattergeo"
           }
          ],
          "scattergl": [
           {
            "marker": {
             "colorbar": {
              "outlinewidth": 0,
              "ticks": ""
             }
            },
            "type": "scattergl"
           }
          ],
          "scattermapbox": [
           {
            "marker": {
             "colorbar": {
              "outlinewidth": 0,
              "ticks": ""
             }
            },
            "type": "scattermapbox"
           }
          ],
          "scatterpolar": [
           {
            "marker": {
             "colorbar": {
              "outlinewidth": 0,
              "ticks": ""
             }
            },
            "type": "scatterpolar"
           }
          ],
          "scatterpolargl": [
           {
            "marker": {
             "colorbar": {
              "outlinewidth": 0,
              "ticks": ""
             }
            },
            "type": "scatterpolargl"
           }
          ],
          "scatterternary": [
           {
            "marker": {
             "colorbar": {
              "outlinewidth": 0,
              "ticks": ""
             }
            },
            "type": "scatterternary"
           }
          ],
          "surface": [
           {
            "colorbar": {
             "outlinewidth": 0,
             "ticks": ""
            },
            "colorscale": [
             [
              0,
              "#0d0887"
             ],
             [
              0.1111111111111111,
              "#46039f"
             ],
             [
              0.2222222222222222,
              "#7201a8"
             ],
             [
              0.3333333333333333,
              "#9c179e"
             ],
             [
              0.4444444444444444,
              "#bd3786"
             ],
             [
              0.5555555555555556,
              "#d8576b"
             ],
             [
              0.6666666666666666,
              "#ed7953"
             ],
             [
              0.7777777777777778,
              "#fb9f3a"
             ],
             [
              0.8888888888888888,
              "#fdca26"
             ],
             [
              1,
              "#f0f921"
             ]
            ],
            "type": "surface"
           }
          ],
          "table": [
           {
            "cells": {
             "fill": {
              "color": "#EBF0F8"
             },
             "line": {
              "color": "white"
             }
            },
            "header": {
             "fill": {
              "color": "#C8D4E3"
             },
             "line": {
              "color": "white"
             }
            },
            "type": "table"
           }
          ]
         },
         "layout": {
          "annotationdefaults": {
           "arrowcolor": "#2a3f5f",
           "arrowhead": 0,
           "arrowwidth": 1
          },
          "autotypenumbers": "strict",
          "coloraxis": {
           "colorbar": {
            "outlinewidth": 0,
            "ticks": ""
           }
          },
          "colorscale": {
           "diverging": [
            [
             0,
             "#8e0152"
            ],
            [
             0.1,
             "#c51b7d"
            ],
            [
             0.2,
             "#de77ae"
            ],
            [
             0.3,
             "#f1b6da"
            ],
            [
             0.4,
             "#fde0ef"
            ],
            [
             0.5,
             "#f7f7f7"
            ],
            [
             0.6,
             "#e6f5d0"
            ],
            [
             0.7,
             "#b8e186"
            ],
            [
             0.8,
             "#7fbc41"
            ],
            [
             0.9,
             "#4d9221"
            ],
            [
             1,
             "#276419"
            ]
           ],
           "sequential": [
            [
             0,
             "#0d0887"
            ],
            [
             0.1111111111111111,
             "#46039f"
            ],
            [
             0.2222222222222222,
             "#7201a8"
            ],
            [
             0.3333333333333333,
             "#9c179e"
            ],
            [
             0.4444444444444444,
             "#bd3786"
            ],
            [
             0.5555555555555556,
             "#d8576b"
            ],
            [
             0.6666666666666666,
             "#ed7953"
            ],
            [
             0.7777777777777778,
             "#fb9f3a"
            ],
            [
             0.8888888888888888,
             "#fdca26"
            ],
            [
             1,
             "#f0f921"
            ]
           ],
           "sequentialminus": [
            [
             0,
             "#0d0887"
            ],
            [
             0.1111111111111111,
             "#46039f"
            ],
            [
             0.2222222222222222,
             "#7201a8"
            ],
            [
             0.3333333333333333,
             "#9c179e"
            ],
            [
             0.4444444444444444,
             "#bd3786"
            ],
            [
             0.5555555555555556,
             "#d8576b"
            ],
            [
             0.6666666666666666,
             "#ed7953"
            ],
            [
             0.7777777777777778,
             "#fb9f3a"
            ],
            [
             0.8888888888888888,
             "#fdca26"
            ],
            [
             1,
             "#f0f921"
            ]
           ]
          },
          "colorway": [
           "#636efa",
           "#EF553B",
           "#00cc96",
           "#ab63fa",
           "#FFA15A",
           "#19d3f3",
           "#FF6692",
           "#B6E880",
           "#FF97FF",
           "#FECB52"
          ],
          "font": {
           "color": "#2a3f5f"
          },
          "geo": {
           "bgcolor": "white",
           "lakecolor": "white",
           "landcolor": "#E5ECF6",
           "showlakes": true,
           "showland": true,
           "subunitcolor": "white"
          },
          "hoverlabel": {
           "align": "left"
          },
          "hovermode": "closest",
          "mapbox": {
           "style": "light"
          },
          "paper_bgcolor": "white",
          "plot_bgcolor": "#E5ECF6",
          "polar": {
           "angularaxis": {
            "gridcolor": "white",
            "linecolor": "white",
            "ticks": ""
           },
           "bgcolor": "#E5ECF6",
           "radialaxis": {
            "gridcolor": "white",
            "linecolor": "white",
            "ticks": ""
           }
          },
          "scene": {
           "xaxis": {
            "backgroundcolor": "#E5ECF6",
            "gridcolor": "white",
            "gridwidth": 2,
            "linecolor": "white",
            "showbackground": true,
            "ticks": "",
            "zerolinecolor": "white"
           },
           "yaxis": {
            "backgroundcolor": "#E5ECF6",
            "gridcolor": "white",
            "gridwidth": 2,
            "linecolor": "white",
            "showbackground": true,
            "ticks": "",
            "zerolinecolor": "white"
           },
           "zaxis": {
            "backgroundcolor": "#E5ECF6",
            "gridcolor": "white",
            "gridwidth": 2,
            "linecolor": "white",
            "showbackground": true,
            "ticks": "",
            "zerolinecolor": "white"
           }
          },
          "shapedefaults": {
           "line": {
            "color": "#2a3f5f"
           }
          },
          "ternary": {
           "aaxis": {
            "gridcolor": "white",
            "linecolor": "white",
            "ticks": ""
           },
           "baxis": {
            "gridcolor": "white",
            "linecolor": "white",
            "ticks": ""
           },
           "bgcolor": "#E5ECF6",
           "caxis": {
            "gridcolor": "white",
            "linecolor": "white",
            "ticks": ""
           }
          },
          "title": {
           "x": 0.05
          },
          "xaxis": {
           "automargin": true,
           "gridcolor": "white",
           "linecolor": "white",
           "ticks": "",
           "title": {
            "standoff": 15
           },
           "zerolinecolor": "white",
           "zerolinewidth": 2
          },
          "yaxis": {
           "automargin": true,
           "gridcolor": "white",
           "linecolor": "white",
           "ticks": "",
           "title": {
            "standoff": 15
           },
           "zerolinecolor": "white",
           "zerolinewidth": 2
          }
         }
        },
        "title": {
         "text": "Logit Difference From Each Head"
        },
        "xaxis": {
         "anchor": "y",
         "constrain": "domain",
         "domain": [
          0,
          1
         ],
         "scaleanchor": "y",
         "title": {
          "text": "Head"
         }
        },
        "yaxis": {
         "anchor": "x",
         "autorange": "reversed",
         "constrain": "domain",
         "domain": [
          0,
          1
         ],
         "title": {
          "text": "Layer"
         }
        }
       }
      },
      "text/html": [
       "<div>                            <div id=\"e54332e1-8106-446a-97a7-1b1e4f616ada\" class=\"plotly-graph-div\" style=\"height:525px; width:100%;\"></div>            <script type=\"text/javascript\">                require([\"plotly\"], function(Plotly) {                    window.PLOTLYENV=window.PLOTLYENV || {};                                    if (document.getElementById(\"e54332e1-8106-446a-97a7-1b1e4f616ada\")) {                    Plotly.newPlot(                        \"e54332e1-8106-446a-97a7-1b1e4f616ada\",                        [{\"coloraxis\":\"coloraxis\",\"name\":\"0\",\"z\":[[-0.003615856170654297,-5.231297109276056e-05,-0.0006643016240559518,0.00017332957941107452,-0.00027481120196171105,-0.00034377630800008774,-0.005090353079140186,-0.0005658126319758594,-0.00023033723118714988,7.64383003115654e-05,0.0002360838552704081,-0.0005589723587036133],[-0.00039491354255005717,-0.00026356015587225556,0.0007924739038571715,3.0670471460325643e-05,-0.001308409497141838,0.0003335674700792879,-0.0016615442000329494,-0.003759504295885563,0.0022429318632930517,0.0018707036506384611,0.00021214217122178525,0.0015962067991495132],[0.0002967916370835155,-0.002062656683847308,0.0003864542522933334,-0.00019164556579198688,6.785938603570685e-05,0.00022349813662003726,0.00011843000538647175,0.003067121608182788,4.489087586989626e-05,-0.0011374754831194878,0.0007021428900770843,3.1942133773554815e-06],[-1.860898919403553e-06,-2.8880311219836585e-05,-0.0002142774173989892,0.00018470191571395844,0.000369903864338994,-0.0001159615203505382,-0.001187147106975317,-0.00024038428091444075,0.00017972354544326663,-0.0005168791394680738,-0.00014308406389318407,-0.00013558505452238023],[0.0006074013072066009,-0.00019937430624850094,-0.0005290932604111731,3.269450826337561e-05,0.0018537293653935194,-0.0006780148833058774,-0.00020960552501492202,0.0003853983653243631,0.00016888472600840032,-0.0005109463818371296,0.0002885739377234131,-0.000342153653036803],[0.000241637957515195,-9.686447447165847e-05,-0.0013653062051162124,-5.7586643379181623e-05,-3.636162728071213e-05,-0.00019590201554819942,2.740438503678888e-05,-0.0002529671764932573,0.0001600981195224449,0.0009142816998064518,-0.0010812202235683799,0.002337538404390216],[-0.015734927728772163,-0.0008623023750260472,0.0017592780059203506,-0.005346769466996193,-0.004881706088781357,0.0018319784430786967,0.001244362909346819,-0.000506432494148612,-0.000280094041954726,-1.2606770724232774e-05,-0.0009294450283050537,0.00033794058253988624],[-0.0001379549503326416,-0.0014417641796171665,-0.0032426384277641773,0.08770038932561874,-0.0018419234547764063,-0.00928907934576273,0.00019708053150679916,-0.0016266820020973682,-0.00521931191906333,0.19544515013694763,0.001014810986816883,8.951952622737736e-05],[0.0003968902165070176,-0.0011045816354453564,-0.03554032742977142,0.0006201115320436656,0.0012632895959541202,-0.007192092947661877,-0.02214285358786583,0.0004989235894754529,-0.0231975968927145,0.0015486427582800388,0.21460792422294617,-0.0041025616228580475],[0.02805512398481369,0.0037896372377872467,0.023385722190141678,0.0011143202427774668,-0.03706973046064377,0.032100047916173935,0.3826056122779846,0.09152885526418686,0.009731899946928024,0.8968026638031006,-5.684731877408922e-05,-0.004214184358716011],[0.47205275297164917,0.17081820964813232,-0.05585477501153946,0.009176000021398067,0.0030212539713829756,-1.3548647984862328e-05,0.17535792291164398,-0.3602389991283417,0.001825019484385848,-0.016203150153160095,0.29933273792266846,-0.00884149968624115],[0.00994451716542244,0.08185990154743195,-0.37445491552352905,0.01110401377081871,-0.0021389476023614407,-0.002930442336946726,-0.024676423519849777,0.00298216356895864,-0.0011305718217045069,0.026100989431142807,-0.4943122863769531,0.0023368007969111204]],\"type\":\"heatmap\",\"xaxis\":\"x\",\"yaxis\":\"y\",\"hovertemplate\":\"Head: %{x}\\u003cbr\\u003eLayer: %{y}\\u003cbr\\u003ecolor: %{z}\\u003cextra\\u003e\\u003c\\u002fextra\\u003e\"}],                        {\"template\":{\"data\":{\"histogram2dcontour\":[{\"type\":\"histogram2dcontour\",\"colorbar\":{\"outlinewidth\":0,\"ticks\":\"\"},\"colorscale\":[[0.0,\"#0d0887\"],[0.1111111111111111,\"#46039f\"],[0.2222222222222222,\"#7201a8\"],[0.3333333333333333,\"#9c179e\"],[0.4444444444444444,\"#bd3786\"],[0.5555555555555556,\"#d8576b\"],[0.6666666666666666,\"#ed7953\"],[0.7777777777777778,\"#fb9f3a\"],[0.8888888888888888,\"#fdca26\"],[1.0,\"#f0f921\"]]}],\"choropleth\":[{\"type\":\"choropleth\",\"colorbar\":{\"outlinewidth\":0,\"ticks\":\"\"}}],\"histogram2d\":[{\"type\":\"histogram2d\",\"colorbar\":{\"outlinewidth\":0,\"ticks\":\"\"},\"colorscale\":[[0.0,\"#0d0887\"],[0.1111111111111111,\"#46039f\"],[0.2222222222222222,\"#7201a8\"],[0.3333333333333333,\"#9c179e\"],[0.4444444444444444,\"#bd3786\"],[0.5555555555555556,\"#d8576b\"],[0.6666666666666666,\"#ed7953\"],[0.7777777777777778,\"#fb9f3a\"],[0.8888888888888888,\"#fdca26\"],[1.0,\"#f0f921\"]]}],\"heatmap\":[{\"type\":\"heatmap\",\"colorbar\":{\"outlinewidth\":0,\"ticks\":\"\"},\"colorscale\":[[0.0,\"#0d0887\"],[0.1111111111111111,\"#46039f\"],[0.2222222222222222,\"#7201a8\"],[0.3333333333333333,\"#9c179e\"],[0.4444444444444444,\"#bd3786\"],[0.5555555555555556,\"#d8576b\"],[0.6666666666666666,\"#ed7953\"],[0.7777777777777778,\"#fb9f3a\"],[0.8888888888888888,\"#fdca26\"],[1.0,\"#f0f921\"]]}],\"heatmapgl\":[{\"type\":\"heatmapgl\",\"colorbar\":{\"outlinewidth\":0,\"ticks\":\"\"},\"colorscale\":[[0.0,\"#0d0887\"],[0.1111111111111111,\"#46039f\"],[0.2222222222222222,\"#7201a8\"],[0.3333333333333333,\"#9c179e\"],[0.4444444444444444,\"#bd3786\"],[0.5555555555555556,\"#d8576b\"],[0.6666666666666666,\"#ed7953\"],[0.7777777777777778,\"#fb9f3a\"],[0.8888888888888888,\"#fdca26\"],[1.0,\"#f0f921\"]]}],\"contourcarpet\":[{\"type\":\"contourcarpet\",\"colorbar\":{\"outlinewidth\":0,\"ticks\":\"\"}}],\"contour\":[{\"type\":\"contour\",\"colorbar\":{\"outlinewidth\":0,\"ticks\":\"\"},\"colorscale\":[[0.0,\"#0d0887\"],[0.1111111111111111,\"#46039f\"],[0.2222222222222222,\"#7201a8\"],[0.3333333333333333,\"#9c179e\"],[0.4444444444444444,\"#bd3786\"],[0.5555555555555556,\"#d8576b\"],[0.6666666666666666,\"#ed7953\"],[0.7777777777777778,\"#fb9f3a\"],[0.8888888888888888,\"#fdca26\"],[1.0,\"#f0f921\"]]}],\"surface\":[{\"type\":\"surface\",\"colorbar\":{\"outlinewidth\":0,\"ticks\":\"\"},\"colorscale\":[[0.0,\"#0d0887\"],[0.1111111111111111,\"#46039f\"],[0.2222222222222222,\"#7201a8\"],[0.3333333333333333,\"#9c179e\"],[0.4444444444444444,\"#bd3786\"],[0.5555555555555556,\"#d8576b\"],[0.6666666666666666,\"#ed7953\"],[0.7777777777777778,\"#fb9f3a\"],[0.8888888888888888,\"#fdca26\"],[1.0,\"#f0f921\"]]}],\"mesh3d\":[{\"type\":\"mesh3d\",\"colorbar\":{\"outlinewidth\":0,\"ticks\":\"\"}}],\"scatter\":[{\"fillpattern\":{\"fillmode\":\"overlay\",\"size\":10,\"solidity\":0.2},\"type\":\"scatter\"}],\"parcoords\":[{\"type\":\"parcoords\",\"line\":{\"colorbar\":{\"outlinewidth\":0,\"ticks\":\"\"}}}],\"scatterpolargl\":[{\"type\":\"scatterpolargl\",\"marker\":{\"colorbar\":{\"outlinewidth\":0,\"ticks\":\"\"}}}],\"bar\":[{\"error_x\":{\"color\":\"#2a3f5f\"},\"error_y\":{\"color\":\"#2a3f5f\"},\"marker\":{\"line\":{\"color\":\"#E5ECF6\",\"width\":0.5},\"pattern\":{\"fillmode\":\"overlay\",\"size\":10,\"solidity\":0.2}},\"type\":\"bar\"}],\"scattergeo\":[{\"type\":\"scattergeo\",\"marker\":{\"colorbar\":{\"outlinewidth\":0,\"ticks\":\"\"}}}],\"scatterpolar\":[{\"type\":\"scatterpolar\",\"marker\":{\"colorbar\":{\"outlinewidth\":0,\"ticks\":\"\"}}}],\"histogram\":[{\"marker\":{\"pattern\":{\"fillmode\":\"overlay\",\"size\":10,\"solidity\":0.2}},\"type\":\"histogram\"}],\"scattergl\":[{\"type\":\"scattergl\",\"marker\":{\"colorbar\":{\"outlinewidth\":0,\"ticks\":\"\"}}}],\"scatter3d\":[{\"type\":\"scatter3d\",\"line\":{\"colorbar\":{\"outlinewidth\":0,\"ticks\":\"\"}},\"marker\":{\"colorbar\":{\"outlinewidth\":0,\"ticks\":\"\"}}}],\"scattermapbox\":[{\"type\":\"scattermapbox\",\"marker\":{\"colorbar\":{\"outlinewidth\":0,\"ticks\":\"\"}}}],\"scatterternary\":[{\"type\":\"scatterternary\",\"marker\":{\"colorbar\":{\"outlinewidth\":0,\"ticks\":\"\"}}}],\"scattercarpet\":[{\"type\":\"scattercarpet\",\"marker\":{\"colorbar\":{\"outlinewidth\":0,\"ticks\":\"\"}}}],\"carpet\":[{\"aaxis\":{\"endlinecolor\":\"#2a3f5f\",\"gridcolor\":\"white\",\"linecolor\":\"white\",\"minorgridcolor\":\"white\",\"startlinecolor\":\"#2a3f5f\"},\"baxis\":{\"endlinecolor\":\"#2a3f5f\",\"gridcolor\":\"white\",\"linecolor\":\"white\",\"minorgridcolor\":\"white\",\"startlinecolor\":\"#2a3f5f\"},\"type\":\"carpet\"}],\"table\":[{\"cells\":{\"fill\":{\"color\":\"#EBF0F8\"},\"line\":{\"color\":\"white\"}},\"header\":{\"fill\":{\"color\":\"#C8D4E3\"},\"line\":{\"color\":\"white\"}},\"type\":\"table\"}],\"barpolar\":[{\"marker\":{\"line\":{\"color\":\"#E5ECF6\",\"width\":0.5},\"pattern\":{\"fillmode\":\"overlay\",\"size\":10,\"solidity\":0.2}},\"type\":\"barpolar\"}],\"pie\":[{\"automargin\":true,\"type\":\"pie\"}]},\"layout\":{\"autotypenumbers\":\"strict\",\"colorway\":[\"#636efa\",\"#EF553B\",\"#00cc96\",\"#ab63fa\",\"#FFA15A\",\"#19d3f3\",\"#FF6692\",\"#B6E880\",\"#FF97FF\",\"#FECB52\"],\"font\":{\"color\":\"#2a3f5f\"},\"hovermode\":\"closest\",\"hoverlabel\":{\"align\":\"left\"},\"paper_bgcolor\":\"white\",\"plot_bgcolor\":\"#E5ECF6\",\"polar\":{\"bgcolor\":\"#E5ECF6\",\"angularaxis\":{\"gridcolor\":\"white\",\"linecolor\":\"white\",\"ticks\":\"\"},\"radialaxis\":{\"gridcolor\":\"white\",\"linecolor\":\"white\",\"ticks\":\"\"}},\"ternary\":{\"bgcolor\":\"#E5ECF6\",\"aaxis\":{\"gridcolor\":\"white\",\"linecolor\":\"white\",\"ticks\":\"\"},\"baxis\":{\"gridcolor\":\"white\",\"linecolor\":\"white\",\"ticks\":\"\"},\"caxis\":{\"gridcolor\":\"white\",\"linecolor\":\"white\",\"ticks\":\"\"}},\"coloraxis\":{\"colorbar\":{\"outlinewidth\":0,\"ticks\":\"\"}},\"colorscale\":{\"sequential\":[[0.0,\"#0d0887\"],[0.1111111111111111,\"#46039f\"],[0.2222222222222222,\"#7201a8\"],[0.3333333333333333,\"#9c179e\"],[0.4444444444444444,\"#bd3786\"],[0.5555555555555556,\"#d8576b\"],[0.6666666666666666,\"#ed7953\"],[0.7777777777777778,\"#fb9f3a\"],[0.8888888888888888,\"#fdca26\"],[1.0,\"#f0f921\"]],\"sequentialminus\":[[0.0,\"#0d0887\"],[0.1111111111111111,\"#46039f\"],[0.2222222222222222,\"#7201a8\"],[0.3333333333333333,\"#9c179e\"],[0.4444444444444444,\"#bd3786\"],[0.5555555555555556,\"#d8576b\"],[0.6666666666666666,\"#ed7953\"],[0.7777777777777778,\"#fb9f3a\"],[0.8888888888888888,\"#fdca26\"],[1.0,\"#f0f921\"]],\"diverging\":[[0,\"#8e0152\"],[0.1,\"#c51b7d\"],[0.2,\"#de77ae\"],[0.3,\"#f1b6da\"],[0.4,\"#fde0ef\"],[0.5,\"#f7f7f7\"],[0.6,\"#e6f5d0\"],[0.7,\"#b8e186\"],[0.8,\"#7fbc41\"],[0.9,\"#4d9221\"],[1,\"#276419\"]]},\"xaxis\":{\"gridcolor\":\"white\",\"linecolor\":\"white\",\"ticks\":\"\",\"title\":{\"standoff\":15},\"zerolinecolor\":\"white\",\"automargin\":true,\"zerolinewidth\":2},\"yaxis\":{\"gridcolor\":\"white\",\"linecolor\":\"white\",\"ticks\":\"\",\"title\":{\"standoff\":15},\"zerolinecolor\":\"white\",\"automargin\":true,\"zerolinewidth\":2},\"scene\":{\"xaxis\":{\"backgroundcolor\":\"#E5ECF6\",\"gridcolor\":\"white\",\"linecolor\":\"white\",\"showbackground\":true,\"ticks\":\"\",\"zerolinecolor\":\"white\",\"gridwidth\":2},\"yaxis\":{\"backgroundcolor\":\"#E5ECF6\",\"gridcolor\":\"white\",\"linecolor\":\"white\",\"showbackground\":true,\"ticks\":\"\",\"zerolinecolor\":\"white\",\"gridwidth\":2},\"zaxis\":{\"backgroundcolor\":\"#E5ECF6\",\"gridcolor\":\"white\",\"linecolor\":\"white\",\"showbackground\":true,\"ticks\":\"\",\"zerolinecolor\":\"white\",\"gridwidth\":2}},\"shapedefaults\":{\"line\":{\"color\":\"#2a3f5f\"}},\"annotationdefaults\":{\"arrowcolor\":\"#2a3f5f\",\"arrowhead\":0,\"arrowwidth\":1},\"geo\":{\"bgcolor\":\"white\",\"landcolor\":\"#E5ECF6\",\"subunitcolor\":\"white\",\"showland\":true,\"showlakes\":true,\"lakecolor\":\"white\"},\"title\":{\"x\":0.05},\"mapbox\":{\"style\":\"light\"}}},\"xaxis\":{\"anchor\":\"y\",\"domain\":[0.0,1.0],\"scaleanchor\":\"y\",\"constrain\":\"domain\",\"title\":{\"text\":\"Head\"}},\"yaxis\":{\"anchor\":\"x\",\"domain\":[0.0,1.0],\"autorange\":\"reversed\",\"constrain\":\"domain\",\"title\":{\"text\":\"Layer\"}},\"coloraxis\":{\"colorscale\":[[0.0,\"rgb(103,0,31)\"],[0.1,\"rgb(178,24,43)\"],[0.2,\"rgb(214,96,77)\"],[0.3,\"rgb(244,165,130)\"],[0.4,\"rgb(253,219,199)\"],[0.5,\"rgb(247,247,247)\"],[0.6,\"rgb(209,229,240)\"],[0.7,\"rgb(146,197,222)\"],[0.8,\"rgb(67,147,195)\"],[0.9,\"rgb(33,102,172)\"],[1.0,\"rgb(5,48,97)\"]],\"cmid\":0.0},\"title\":{\"text\":\"Logit Difference From Each Head\"}},                        {\"responsive\": true}                    ).then(function(){\n",
       "                            \n",
       "var gd = document.getElementById('e54332e1-8106-446a-97a7-1b1e4f616ada');\n",
       "var x = new MutationObserver(function (mutations, observer) {{\n",
       "        var display = window.getComputedStyle(gd).display;\n",
       "        if (!display || display === 'none') {{\n",
       "            console.log([gd, 'removed!']);\n",
       "            Plotly.purge(gd);\n",
       "            observer.disconnect();\n",
       "        }}\n",
       "}});\n",
       "\n",
       "// Listen for the removal of the full notebook cells\n",
       "var notebookContainer = gd.closest('#notebook-container');\n",
       "if (notebookContainer) {{\n",
       "    x.observe(notebookContainer, {childList: true});\n",
       "}}\n",
       "\n",
       "// Listen for the clearing of the current output cell\n",
       "var outputEl = gd.closest('.output');\n",
       "if (outputEl) {{\n",
       "    x.observe(outputEl, {childList: true});\n",
       "}}\n",
       "\n",
       "                        })                };                });            </script>        </div>"
      ]
     },
     "metadata": {},
     "output_type": "display_data"
    }
   ],
   "source": [
    "per_head_residual, labels = cache.stack_head_results(\n",
    "    layer=-1, pos_slice=-1, return_labels=True\n",
    ")\n",
    "per_head_logit_diffs = residual_stack_to_logit_diff(per_head_residual, cache)\n",
    "per_head_logit_diffs = einops.rearrange(\n",
    "    per_head_logit_diffs,\n",
    "    \"(layer head_index) -> layer head_index\",\n",
    "    layer=model.cfg.n_layers,\n",
    "    head_index=model.cfg.n_heads,\n",
    ")\n",
    "imshow(\n",
    "    per_head_logit_diffs,\n",
    "    labels={\"x\": \"Head\", \"y\": \"Layer\"},\n",
    "    title=\"Logit Difference From Each Head\",\n",
    ")"
   ]
  },
  {
   "cell_type": "markdown",
   "metadata": {},
   "source": [
    "L10H0 and L10H7 calls for my attention. its activation rate has the biggest changing over the time. "
   ]
  },
  {
   "cell_type": "code",
   "execution_count": 106,
   "metadata": {},
   "outputs": [],
   "source": [
    "def visualize_attention_patterns(\n",
    "    heads: Union[List[int], int, Float[torch.Tensor, \"heads\"]],\n",
    "    local_cache: ActivationCache,\n",
    "    local_tokens: torch.Tensor,\n",
    "    title: Optional[str] = \"\",\n",
    "    max_width: Optional[int] = 700,\n",
    ") -> str:\n",
    "    # If a single head is given, convert to a list\n",
    "    if isinstance(heads, int):\n",
    "        heads = [heads]\n",
    "\n",
    "    # Create the plotting data\n",
    "    labels: List[str] = []\n",
    "    patterns: List[Float[torch.Tensor, \"dest_pos src_pos\"]] = []\n",
    "\n",
    "    # Assume we have a single batch item\n",
    "    batch_index = 0\n",
    "\n",
    "    for head in heads:\n",
    "        # Set the label\n",
    "        layer = head // model.cfg.n_heads\n",
    "        head_index = head % model.cfg.n_heads\n",
    "        labels.append(f\"L{layer}H{head_index}\")\n",
    "\n",
    "        # Get the attention patterns for the head\n",
    "        # Attention patterns have shape [batch, head_index, query_pos, key_pos]\n",
    "        patterns.append(local_cache[\"attn\", layer][batch_index, head_index])\n",
    "\n",
    "    # Convert the tokens to strings (for the axis labels)\n",
    "    str_tokens = model.to_str_tokens(local_tokens)\n",
    "\n",
    "    # Combine the patterns into a single tensor\n",
    "    patterns: Float[torch.Tensor, \"head_index dest_pos src_pos\"] = torch.stack(\n",
    "        patterns, dim=0\n",
    "    )\n",
    "\n",
    "    # Circuitsvis Plot (note we get the code version so we can concatenate with the title)\n",
    "    plot = attention_heads(\n",
    "        attention=patterns, tokens=str_tokens, attention_head_names=labels\n",
    "    ).show_code()\n",
    "\n",
    "    # Display the title\n",
    "    title_html = f\"<h2>{title}</h2><br/>\"\n",
    "\n",
    "    # Return the visualisation as raw code\n",
    "    return f\"<div style='max-width: {str(max_width)}px;'>{title_html + plot}</div>\""
   ]
  },
  {
   "cell_type": "code",
   "execution_count": 107,
   "metadata": {},
   "outputs": [
    {
     "data": {
      "text/html": [
       "<div style='max-width: 700px;'><h2>Top 3 Positive Logit Attribution Heads</h2><br/><div id=\"circuits-vis-7a1c1856-5ad3\" style=\"margin: 15px 0;\"/>\n",
       "    <script crossorigin type=\"module\">\n",
       "    import { render, AttentionHeads } from \"https://unpkg.com/circuitsvis@1.43.2/dist/cdn/esm.js\";\n",
       "    render(\n",
       "      \"circuits-vis-7a1c1856-5ad3\",\n",
       "      AttentionHeads,\n",
       "      {\"attention\": [[[1.0, 0.0, 0.0, 0.0, 0.0, 0.0, 0.0, 0.0, 0.0, 0.0, 0.0, 0.0, 0.0, 0.0, 0.0, 0.0, 0.0, 0.0, 0.0, 0.0, 0.0, 0.0, 0.0, 0.0, 0.0], [0.9847356081008911, 0.015264462679624557, 0.0, 0.0, 0.0, 0.0, 0.0, 0.0, 0.0, 0.0, 0.0, 0.0, 0.0, 0.0, 0.0, 0.0, 0.0, 0.0, 0.0, 0.0, 0.0, 0.0, 0.0, 0.0, 0.0], [0.9594191312789917, 0.005407329648733139, 0.035173531621694565, 0.0, 0.0, 0.0, 0.0, 0.0, 0.0, 0.0, 0.0, 0.0, 0.0, 0.0, 0.0, 0.0, 0.0, 0.0, 0.0, 0.0, 0.0, 0.0, 0.0, 0.0, 0.0], [0.794948399066925, 0.01754068210721016, 0.1781478077173233, 0.00936304684728384, 0.0, 0.0, 0.0, 0.0, 0.0, 0.0, 0.0, 0.0, 0.0, 0.0, 0.0, 0.0, 0.0, 0.0, 0.0, 0.0, 0.0, 0.0, 0.0, 0.0, 0.0], [0.9262835383415222, 0.01260426826775074, 0.026591124013066292, 0.0026284148916602135, 0.031892675906419754, 0.0, 0.0, 0.0, 0.0, 0.0, 0.0, 0.0, 0.0, 0.0, 0.0, 0.0, 0.0, 0.0, 0.0, 0.0, 0.0, 0.0, 0.0, 0.0, 0.0], [0.865225076675415, 0.012326393276453018, 0.07510707527399063, 0.00198023347184062, 0.0432971827685833, 0.0020639654248952866, 0.0, 0.0, 0.0, 0.0, 0.0, 0.0, 0.0, 0.0, 0.0, 0.0, 0.0, 0.0, 0.0, 0.0, 0.0, 0.0, 0.0, 0.0, 0.0], [0.8124770522117615, 0.02772386185824871, 0.05965818464756012, 0.005389590747654438, 0.025030743330717087, 0.0018385415896773338, 0.06788202375173569, 0.0, 0.0, 0.0, 0.0, 0.0, 0.0, 0.0, 0.0, 0.0, 0.0, 0.0, 0.0, 0.0, 0.0, 0.0, 0.0, 0.0, 0.0], [0.9577632546424866, 0.014109996147453785, 0.010525504127144814, 0.0017377253388985991, 0.001392921432852745, 0.000645973370410502, 0.00901870522648096, 0.0048058610409498215, 0.0, 0.0, 0.0, 0.0, 0.0, 0.0, 0.0, 0.0, 0.0, 0.0, 0.0, 0.0, 0.0, 0.0, 0.0, 0.0, 0.0], [0.7688183784484863, 0.005625465419143438, 0.07284621149301529, 0.0016648932360112667, 0.02601083740592003, 0.0005185145419090986, 0.11866163462400436, 0.0021596853621304035, 0.0036944299936294556, 0.0, 0.0, 0.0, 0.0, 0.0, 0.0, 0.0, 0.0, 0.0, 0.0, 0.0, 0.0, 0.0, 0.0, 0.0, 0.0], [0.9614661931991577, 0.003666609525680542, 0.006167003884911537, 0.001439155312255025, 0.0032168047036975622, 0.0006941066239960492, 0.01321153249591589, 0.0006400611600838602, 0.000793621176853776, 0.008704976178705692, 0.0, 0.0, 0.0, 0.0, 0.0, 0.0, 0.0, 0.0, 0.0, 0.0, 0.0, 0.0, 0.0, 0.0, 0.0], [0.9696208834648132, 0.010497597977519035, 0.0016808948712423444, 0.00022624565463047475, 0.0005438412772491574, 0.0003675633925013244, 0.003227033419534564, 0.0003888006031047553, 8.841734234010801e-05, 0.00047207411262206733, 0.012886663898825645, 0.0, 0.0, 0.0, 0.0, 0.0, 0.0, 0.0, 0.0, 0.0, 0.0, 0.0, 0.0, 0.0, 0.0], [0.7260898351669312, 0.11137884855270386, 0.04791907221078873, 0.0007692626095376909, 0.026948554441332817, 0.0036305978428572416, 0.06875927746295929, 0.0009434483363293111, 0.0007006875239312649, 0.0014502116246148944, 0.003247989807277918, 0.008162222802639008, 0.0, 0.0, 0.0, 0.0, 0.0, 0.0, 0.0, 0.0, 0.0, 0.0, 0.0, 0.0, 0.0], [0.49927306175231934, 0.02012251690030098, 0.1790812462568283, 0.006564212962985039, 0.07540451735258102, 0.0032174689695239067, 0.1859234720468521, 0.007688469719141722, 0.0033883817959576845, 0.00460725137963891, 0.003771640593186021, 0.004806789569556713, 0.0061510102823376656, 0.0, 0.0, 0.0, 0.0, 0.0, 0.0, 0.0, 0.0, 0.0, 0.0, 0.0, 0.0], [0.8066196441650391, 0.02140912599861622, 0.05339008569717407, 0.002025584690272808, 0.04238246753811836, 0.0018234818708151579, 0.06303247064352036, 0.00022121482470538467, 0.001608321093954146, 0.0008028034935705364, 0.0027445186860859394, 0.001077383174560964, 0.0009983698837459087, 0.00186453340575099, 0.0, 0.0, 0.0, 0.0, 0.0, 0.0, 0.0, 0.0, 0.0, 0.0, 0.0], [0.09347463399171829, 0.014095389284193516, 0.30286452174186707, 0.002122994977980852, 0.27396538853645325, 0.001356842345558107, 0.3054988384246826, 0.0005829943693242967, 0.00037167395930737257, 0.0007615164504386485, 0.0008338661282323301, 0.00018931776867248118, 0.0004940766957588494, 0.0009111172403208911, 0.002476881258189678, 0.0, 0.0, 0.0, 0.0, 0.0, 0.0, 0.0, 0.0, 0.0, 0.0], [0.8442932963371277, 0.01811516284942627, 0.03992457687854767, 0.003322779666632414, 0.0304454006254673, 0.0011834462638944387, 0.03621352091431618, 0.0003863434831146151, 8.201420860132203e-05, 0.0006069547380320728, 0.0011086532613262534, 0.0008025758434087038, 0.001379975350573659, 0.000138023795443587, 0.0036441010888665915, 0.018353085964918137, 0.0, 0.0, 0.0, 0.0, 0.0, 0.0, 0.0, 0.0, 0.0], [0.40393826365470886, 0.04810061305761337, 0.05933784693479538, 0.023462848737835884, 0.06330598890781403, 0.013306360691785812, 0.17730994522571564, 0.03187919408082962, 0.004531772341579199, 0.0037445463240146637, 0.00310504250228405, 0.0040100314654409885, 0.0038276740815490484, 0.011010771617293358, 0.006326284725219011, 0.012754577212035656, 0.1300482153892517, 0.0, 0.0, 0.0, 0.0, 0.0, 0.0, 0.0, 0.0], [0.16154660284519196, 0.05182310938835144, 0.2002580463886261, 0.00973028689622879, 0.26436132192611694, 0.0030088969506323338, 0.11526571214199066, 0.0005715248407796025, 0.0004897178732790053, 0.0021722677629441023, 0.0005130124627612531, 0.0001160277024609968, 0.0003935323911719024, 0.00024566694628447294, 0.0040189907886087894, 0.017252182587981224, 0.16511568427085876, 0.0031174339819699526, 0.0, 0.0, 0.0, 0.0, 0.0, 0.0, 0.0], [0.15649069845676422, 0.030692532658576965, 0.042975932359695435, 0.1038009375333786, 0.11491118371486664, 0.020489340648055077, 0.0496082678437233, 0.06356172263622284, 0.005845191422849894, 0.0018109467346221209, 0.0012459434801712632, 0.0025011927355080843, 0.0004671824863180518, 0.003552256152033806, 0.004141987767070532, 0.006531964521855116, 0.02908339910209179, 0.15425053238868713, 0.20803874731063843, 0.0, 0.0, 0.0, 0.0, 0.0, 0.0], [0.1028677299618721, 0.03816026449203491, 0.2333383560180664, 0.0084022656083107, 0.21294789016246796, 0.0018255430040881038, 0.20484702289104462, 0.0014391778968274593, 0.000906539149582386, 0.0020967433229088783, 0.005271126050502062, 0.0013236396480351686, 0.0004829350800719112, 0.0015526750357821584, 0.00690756319090724, 0.02411600761115551, 0.10241317749023438, 0.0006351451738737524, 0.04416978359222412, 0.006296447012573481, 0.0, 0.0, 0.0, 0.0, 0.0], [0.7900339961051941, 0.03739214316010475, 0.030411582440137863, 0.005486452020704746, 0.02027115412056446, 0.004062160849571228, 0.029358215630054474, 0.0020491303876042366, 0.0014541796408593655, 0.0008766342070885003, 0.015573941171169281, 0.00447086850181222, 0.0012507594656199217, 0.00418951315805316, 0.00468262005597353, 0.0074317255057394505, 0.006591381970793009, 0.0007902072393335402, 0.0016937627224251628, 0.007085017394274473, 0.02484445832669735, 0.0, 0.0, 0.0, 0.0], [0.77166748046875, 0.058791518211364746, 0.020455647259950638, 0.0018672302830964327, 0.010359366424381733, 0.0037524413783103228, 0.02481437847018242, 0.0008988526533357799, 0.0040155746974051, 0.001428517047315836, 0.00239047990180552, 0.0026961902622133493, 0.003749073250219226, 0.004955804906785488, 0.004368299152702093, 0.009733431972563267, 0.004999465309083462, 0.0002978536067530513, 0.0011590521316975355, 0.002497375011444092, 0.009941070340573788, 0.055160947144031525, 0.0, 0.0, 0.0], [0.6088755130767822, 0.05780252814292908, 0.06175563111901283, 0.0015089277876541018, 0.07932672649621964, 0.0011878447839990258, 0.07268769294023514, 0.00012730818707495928, 0.00024386811128351837, 0.001450281823053956, 0.0058859894052147865, 0.000757531204726547, 0.0007310572545975447, 0.0005929429898969829, 0.002457659225910902, 0.02426808886229992, 0.016508618369698524, 0.00012784352293238044, 0.010563056915998459, 0.0007929522544145584, 0.026106158271431923, 0.02260444313287735, 0.003637313609942794, 0.0, 0.0], [0.6431015133857727, 0.10125464200973511, 0.02206626906991005, 0.001830519293434918, 0.021571623161435127, 0.00490074697881937, 0.04322395473718643, 0.0006722842226736248, 0.002705917926505208, 0.001047900295816362, 0.0017848254647105932, 0.0034687528386712074, 0.003237660974264145, 0.003889104351401329, 0.0037504248321056366, 0.024054037407040596, 0.0067239487543702126, 0.0004384234780445695, 0.0009242917876690626, 0.001793541363440454, 0.008326182141900063, 0.029580645263195038, 0.00865568034350872, 0.06099706515669823, 0.0], [0.0076843006536364555, 0.004959964193403721, 0.17897087335586548, 0.003742724424228072, 0.4145098924636841, 0.0010101828956976533, 0.2683686316013336, 7.42498305044137e-05, 5.449210584629327e-05, 0.000827375624794513, 0.00015502992027904838, 3.0317889468278736e-05, 0.00011249024828430265, 4.585584974847734e-05, 0.0007379763992503285, 0.008931917138397694, 0.08723487704992294, 8.317347237607464e-05, 0.020225388929247856, 4.645837179850787e-05, 0.0004437754687387496, 0.00012983864871785045, 2.5173992980853654e-05, 0.0003992035344708711, 0.001195850083604455]], [[1.0, 0.0, 0.0, 0.0, 0.0, 0.0, 0.0, 0.0, 0.0, 0.0, 0.0, 0.0, 0.0, 0.0, 0.0, 0.0, 0.0, 0.0, 0.0, 0.0, 0.0, 0.0, 0.0, 0.0, 0.0], [0.9632198810577393, 0.03678012639284134, 0.0, 0.0, 0.0, 0.0, 0.0, 0.0, 0.0, 0.0, 0.0, 0.0, 0.0, 0.0, 0.0, 0.0, 0.0, 0.0, 0.0, 0.0, 0.0, 0.0, 0.0, 0.0, 0.0], [0.7870935201644897, 0.011823760345578194, 0.20108270645141602, 0.0, 0.0, 0.0, 0.0, 0.0, 0.0, 0.0, 0.0, 0.0, 0.0, 0.0, 0.0, 0.0, 0.0, 0.0, 0.0, 0.0, 0.0, 0.0, 0.0, 0.0, 0.0], [0.7344034910202026, 0.010742849670350552, 0.23067176342010498, 0.024181876331567764, 0.0, 0.0, 0.0, 0.0, 0.0, 0.0, 0.0, 0.0, 0.0, 0.0, 0.0, 0.0, 0.0, 0.0, 0.0, 0.0, 0.0, 0.0, 0.0, 0.0, 0.0], [0.5959656238555908, 0.012918507680296898, 0.17132385075092316, 0.016840288415551186, 0.20295163989067078, 0.0, 0.0, 0.0, 0.0, 0.0, 0.0, 0.0, 0.0, 0.0, 0.0, 0.0, 0.0, 0.0, 0.0, 0.0, 0.0, 0.0, 0.0, 0.0, 0.0], [0.6546053886413574, 0.004843628965318203, 0.17516106367111206, 0.006677390541881323, 0.1525154411792755, 0.006197185255587101, 0.0, 0.0, 0.0, 0.0, 0.0, 0.0, 0.0, 0.0, 0.0, 0.0, 0.0, 0.0, 0.0, 0.0, 0.0, 0.0, 0.0, 0.0, 0.0], [0.4568638503551483, 0.008123247884213924, 0.1975451558828354, 0.013293860480189323, 0.15218877792358398, 0.0045348661951720715, 0.1674501895904541, 0.0, 0.0, 0.0, 0.0, 0.0, 0.0, 0.0, 0.0, 0.0, 0.0, 0.0, 0.0, 0.0, 0.0, 0.0, 0.0, 0.0, 0.0], [0.8981605768203735, 0.007523315493017435, 0.015236742794513702, 0.01436876691877842, 0.029103897511959076, 0.003943419083952904, 0.012666293419897556, 0.01899692602455616, 0.0, 0.0, 0.0, 0.0, 0.0, 0.0, 0.0, 0.0, 0.0, 0.0, 0.0, 0.0, 0.0, 0.0, 0.0, 0.0, 0.0], [0.5271966457366943, 0.008721575140953064, 0.144373819231987, 0.011553017422556877, 0.10285452753305435, 0.004731338005512953, 0.1777305006980896, 0.01477896235883236, 0.008059663698077202, 0.0, 0.0, 0.0, 0.0, 0.0, 0.0, 0.0, 0.0, 0.0, 0.0, 0.0, 0.0, 0.0, 0.0, 0.0, 0.0], [0.7758954167366028, 0.011928060092031956, 0.04511971399188042, 0.01829960197210312, 0.042543962597846985, 0.01035274751484394, 0.05316312983632088, 0.013343856669962406, 0.01407352089881897, 0.01527996826916933, 0.0, 0.0, 0.0, 0.0, 0.0, 0.0, 0.0, 0.0, 0.0, 0.0, 0.0, 0.0, 0.0, 0.0, 0.0], [0.9218538999557495, 0.009221743792295456, 0.015899786725640297, 0.0020640750881284475, 0.005037535447627306, 0.0006552904960699379, 0.0066843763925135136, 0.0015591291012242436, 0.0010485296370461583, 0.0011863606050610542, 0.03478923812508583, 0.0, 0.0, 0.0, 0.0, 0.0, 0.0, 0.0, 0.0, 0.0, 0.0, 0.0, 0.0, 0.0, 0.0], [0.15983743965625763, 0.009409066289663315, 0.2989431619644165, 0.0016402751207351685, 0.22534458339214325, 0.00047676105168648064, 0.2922145426273346, 0.0015671920264139771, 0.00025521250790916383, 0.0003759629325941205, 0.0066678402945399284, 0.003267910098657012, 0.0, 0.0, 0.0, 0.0, 0.0, 0.0, 0.0, 0.0, 0.0, 0.0, 0.0, 0.0, 0.0], [0.25648802518844604, 0.011625264771282673, 0.18640825152397156, 0.010408470407128334, 0.23909637331962585, 0.0037598388735204935, 0.23366370797157288, 0.011461745016276836, 0.0034260733518749475, 0.004551926627755165, 0.024268437176942825, 0.010509926825761795, 0.0043319459073245525, 0.0, 0.0, 0.0, 0.0, 0.0, 0.0, 0.0, 0.0, 0.0, 0.0, 0.0, 0.0], [0.39638781547546387, 0.011390874162316322, 0.10150570422410965, 0.006917946971952915, 0.22308628261089325, 0.0034440557938069105, 0.1790325939655304, 0.005655077286064625, 0.0014119778061285615, 0.0014260750031098723, 0.04437759518623352, 0.01757126860320568, 0.002198009518906474, 0.00559477973729372, 0.0, 0.0, 0.0, 0.0, 0.0, 0.0, 0.0, 0.0, 0.0, 0.0, 0.0], [0.14473795890808105, 0.006736429408192635, 0.19780333340168, 0.00327688897959888, 0.33007922768592834, 0.0018772922921925783, 0.3014228641986847, 0.0021949193906039, 0.0003736827347893268, 0.0004997123614884913, 0.006377963814884424, 0.0009872607188299298, 0.0005571266519837081, 0.0009048786014318466, 0.002170523162931204, 0.0, 0.0, 0.0, 0.0, 0.0, 0.0, 0.0, 0.0, 0.0, 0.0], [0.603057324886322, 0.023206567391753197, 0.05862203612923622, 0.005389735102653503, 0.12136530876159668, 0.004357059020549059, 0.10724060982465744, 0.001159698236733675, 0.0004311013035476208, 0.00030201266054064035, 0.006386192515492439, 0.002657652134075761, 0.0018519709119573236, 0.00071849295636639, 0.006755544804036617, 0.056498702615499496, 0.0, 0.0, 0.0, 0.0, 0.0, 0.0, 0.0, 0.0, 0.0], [0.16701968014240265, 0.005153031088411808, 0.0836927592754364, 0.004557020962238312, 0.22853060066699982, 0.0012676150072366, 0.17350104451179504, 0.005875153932720423, 0.0005615113768726587, 0.0005736990715377033, 0.008837925270199776, 0.002885224064812064, 0.0005018266965635121, 0.002554135862737894, 0.0027275586035102606, 0.04738028347492218, 0.26438093185424805, 0.0, 0.0, 0.0, 0.0, 0.0, 0.0, 0.0, 0.0], [0.21117910742759705, 0.009073236957192421, 0.1439979523420334, 0.0009813050273805857, 0.4240032732486725, 0.0005689834360964596, 0.10171319544315338, 0.0008375987526960671, 0.00026385459932498634, 0.00028924987418577075, 0.003598310984671116, 0.00034005165798589587, 0.00013508221309166402, 0.00024929357459768653, 0.0004389090754557401, 0.014019793830811977, 0.08792564272880554, 0.0003851122746709734, 0.0, 0.0, 0.0, 0.0, 0.0, 0.0, 0.0], [0.0663369670510292, 0.003512459574267268, 0.03940605744719505, 0.002006791764870286, 0.2244383841753006, 0.0005355612956918776, 0.16466496884822845, 0.010594343766570091, 0.0005113250808790326, 0.00014155292592477053, 0.006819728296250105, 0.0023534907959401608, 0.00011593128147069365, 0.006361968349665403, 0.0010081601794809103, 0.04339149594306946, 0.2406255155801773, 0.0020521660335361958, 0.18512310087680817, 0.0, 0.0, 0.0, 0.0, 0.0, 0.0], [0.18856514990329742, 0.01355030294507742, 0.1303897351026535, 0.0030299455393105745, 0.36888593435287476, 0.0016465219669044018, 0.1369819939136505, 0.0029608733020722866, 0.0009922031313180923, 0.0012381917331367731, 0.012147722765803337, 0.0017922528786584735, 0.0005040060495957732, 0.0010425724321976304, 0.0019397663418203592, 0.046744026243686676, 0.06312134861946106, 0.0005672377883456647, 0.018853791058063507, 0.005046512931585312, 0.0, 0.0, 0.0, 0.0, 0.0], [0.5291765928268433, 0.012239081785082817, 0.0327729731798172, 0.015267967246472836, 0.05364791303873062, 0.008708900772035122, 0.027949275448918343, 0.006991908419877291, 0.005974114872515202, 0.002971019595861435, 0.1262236386537552, 0.024914434179663658, 0.0024940117727965117, 0.0045079137198626995, 0.010322497226297855, 0.07084855437278748, 0.01402005273848772, 0.005141894333064556, 0.006068653427064419, 0.03164651244878769, 0.008112101815640926, 0.0, 0.0, 0.0, 0.0], [0.6566891670227051, 0.015260943211615086, 0.041754014790058136, 0.003131059231236577, 0.048516061156988144, 0.0016707185423001647, 0.04380999132990837, 0.002131963614374399, 0.001360586960799992, 0.000789221259765327, 0.011473173275589943, 0.005982716102153063, 0.0011816543992608786, 0.0014144298620522022, 0.0036502289585769176, 0.07971645146608353, 0.029024986550211906, 0.001201312872581184, 0.005915505345910788, 0.007528217509388924, 0.0016923287184908986, 0.036105282604694366, 0.0, 0.0, 0.0], [0.4032304286956787, 0.007356541696935892, 0.03334667161107063, 0.0026345280930399895, 0.12288433313369751, 0.002414035378023982, 0.09150492399930954, 0.0019779407884925604, 0.001501961494795978, 0.001602435251697898, 0.09305631369352341, 0.009895268827676773, 0.0011760082561522722, 0.0009255876066163182, 0.0021383098792284727, 0.04122019559144974, 0.03505643084645271, 0.0009136006119661033, 0.00451194541528821, 0.004449027590453625, 0.002244444563984871, 0.12029018253087997, 0.015668924897909164, 0.0, 0.0], [0.4913772642612457, 0.012245574966073036, 0.07182793319225311, 0.0026963897980749607, 0.08580363541841507, 0.0015844691079109907, 0.10030987858772278, 0.0013761493610218167, 0.0007239615079015493, 0.00046831858344376087, 0.009797682985663414, 0.004035032354295254, 0.0007040768978185952, 0.0006002280279062688, 0.0024223611690104008, 0.06749533116817474, 0.03198879584670067, 0.000728679180610925, 0.005909345578402281, 0.0026004912797361612, 0.0008512284839525819, 0.025957651436328888, 0.004292961675673723, 0.07420259714126587, 0.0], [0.08249151706695557, 0.00864393264055252, 0.11890317499637604, 0.0012741649989038706, 0.5492374300956726, 0.0003204320964869112, 0.13772976398468018, 0.0007445848314091563, 0.00014814849419053644, 0.00017471180763095617, 0.0014693799894303083, 0.0002315688325325027, 8.830799197312444e-05, 0.00010036674211733043, 0.00038718804717063904, 0.014749256893992424, 0.060957178473472595, 0.00012617716856766492, 0.010246694087982178, 0.0006159432232379913, 0.00018674577586352825, 0.0007286969921551645, 0.0001295511901844293, 0.009118513204157352, 0.0011965044541284442]], [[1.0, 0.0, 0.0, 0.0, 0.0, 0.0, 0.0, 0.0, 0.0, 0.0, 0.0, 0.0, 0.0, 0.0, 0.0, 0.0, 0.0, 0.0, 0.0, 0.0, 0.0, 0.0, 0.0, 0.0, 0.0], [0.9927243590354919, 0.00727563351392746, 0.0, 0.0, 0.0, 0.0, 0.0, 0.0, 0.0, 0.0, 0.0, 0.0, 0.0, 0.0, 0.0, 0.0, 0.0, 0.0, 0.0, 0.0, 0.0, 0.0, 0.0, 0.0, 0.0], [0.9745466113090515, 0.001956529449671507, 0.023496849462389946, 0.0, 0.0, 0.0, 0.0, 0.0, 0.0, 0.0, 0.0, 0.0, 0.0, 0.0, 0.0, 0.0, 0.0, 0.0, 0.0, 0.0, 0.0, 0.0, 0.0, 0.0, 0.0], [0.8715685606002808, 0.006636958569288254, 0.11739953607320786, 0.004394961055368185, 0.0, 0.0, 0.0, 0.0, 0.0, 0.0, 0.0, 0.0, 0.0, 0.0, 0.0, 0.0, 0.0, 0.0, 0.0, 0.0, 0.0, 0.0, 0.0, 0.0, 0.0], [0.9483657479286194, 0.009188322350382805, 0.010807785205543041, 0.00352019676938653, 0.028117986395955086, 0.0, 0.0, 0.0, 0.0, 0.0, 0.0, 0.0, 0.0, 0.0, 0.0, 0.0, 0.0, 0.0, 0.0, 0.0, 0.0, 0.0, 0.0, 0.0, 0.0], [0.7779544591903687, 0.002631950192153454, 0.10535293817520142, 0.0016283141449093819, 0.10987874865531921, 0.002553566824644804, 0.0, 0.0, 0.0, 0.0, 0.0, 0.0, 0.0, 0.0, 0.0, 0.0, 0.0, 0.0, 0.0, 0.0, 0.0, 0.0, 0.0, 0.0, 0.0], [0.860560953617096, 0.016436636447906494, 0.040516484528779984, 0.004399414174258709, 0.03868895769119263, 0.004216348752379417, 0.03518115356564522, 0.0, 0.0, 0.0, 0.0, 0.0, 0.0, 0.0, 0.0, 0.0, 0.0, 0.0, 0.0, 0.0, 0.0, 0.0, 0.0, 0.0, 0.0], [0.968377411365509, 0.006711618509143591, 0.005923558957874775, 0.0014876472996547818, 0.005530836991965771, 0.0008017002255655825, 0.006149386987090111, 0.005017932970076799, 0.0, 0.0, 0.0, 0.0, 0.0, 0.0, 0.0, 0.0, 0.0, 0.0, 0.0, 0.0, 0.0, 0.0, 0.0, 0.0, 0.0], [0.8129168152809143, 0.005953728221356869, 0.06150961294770241, 0.0008898820960894227, 0.056914594024419785, 0.0006248456775210798, 0.05855468660593033, 0.0016314084641635418, 0.0010044482769444585, 0.0, 0.0, 0.0, 0.0, 0.0, 0.0, 0.0, 0.0, 0.0, 0.0, 0.0, 0.0, 0.0, 0.0, 0.0, 0.0], [0.983472466468811, 0.0028878168668597937, 0.0028164167888462543, 0.0006155659793876112, 0.003595449263229966, 0.0004831563855987042, 0.004057456273585558, 0.0007560068625025451, 0.00042911185300908983, 0.0008865198469720781, 0.0, 0.0, 0.0, 0.0, 0.0, 0.0, 0.0, 0.0, 0.0, 0.0, 0.0, 0.0, 0.0, 0.0, 0.0], [0.980535089969635, 0.005497694481164217, 0.0014184932224452496, 0.0003328151360619813, 0.00040109638939611614, 0.00021533404651563615, 0.0008777697803452611, 0.00020679147564806044, 0.00023060105741024017, 0.0004675986128859222, 0.009816821664571762, 0.0, 0.0, 0.0, 0.0, 0.0, 0.0, 0.0, 0.0, 0.0, 0.0, 0.0, 0.0, 0.0, 0.0], [0.8505634665489197, 0.07388534396886826, 0.02491004951298237, 0.0012346653966233134, 0.014717609621584415, 0.0004952246672473848, 0.020903095602989197, 0.0010253883665427566, 0.0006927364156581461, 0.000816098996438086, 0.005520957056432962, 0.005235373508185148, 0.0, 0.0, 0.0, 0.0, 0.0, 0.0, 0.0, 0.0, 0.0, 0.0, 0.0, 0.0, 0.0], [0.6077778935432434, 0.022802893072366714, 0.09363872557878494, 0.004202316515147686, 0.1506653130054474, 0.0033715269528329372, 0.09786327183246613, 0.00717809097841382, 0.0015969197265803814, 0.0009569436660967767, 0.005206563044339418, 0.003068346995860338, 0.0016712137730792165, 0.0, 0.0, 0.0, 0.0, 0.0, 0.0, 0.0, 0.0, 0.0, 0.0, 0.0, 0.0], [0.8764580488204956, 0.013838977552950382, 0.017242684960365295, 0.003857230069115758, 0.0365477092564106, 0.0022405944764614105, 0.03327864408493042, 0.002359663601964712, 0.002724831225350499, 0.0014049054589122534, 0.0031942962668836117, 0.0027483508456498384, 0.001230885274708271, 0.002873268909752369, 0.0, 0.0, 0.0, 0.0, 0.0, 0.0, 0.0, 0.0, 0.0, 0.0, 0.0], [0.2187540978193283, 0.011610067449510098, 0.17255420982837677, 0.0009431520593352616, 0.42294710874557495, 0.00044383882777765393, 0.16888144612312317, 0.000493222672957927, 8.201107266359031e-05, 0.00014652073150500655, 0.001245461287908256, 0.0002646941284183413, 9.834545198827982e-05, 0.0007927373517304659, 0.0007429967517964542, 0.0, 0.0, 0.0, 0.0, 0.0, 0.0, 0.0, 0.0, 0.0, 0.0], [0.8762423396110535, 0.0223959069699049, 0.020802810788154602, 0.006702927406877279, 0.02030864544212818, 0.0017919172532856464, 0.030218807980418205, 0.0008767576073296368, 0.0005169087089598179, 0.0008916311198845506, 0.000673128932248801, 0.0005239614401943982, 0.0008144270395860076, 0.0002174096298404038, 0.005061186384409666, 0.011961191892623901, 0.0, 0.0, 0.0, 0.0, 0.0, 0.0, 0.0, 0.0, 0.0], [0.7474998235702515, 0.01873977668583393, 0.018468838185071945, 0.0030602263286709785, 0.06491879373788834, 0.0044505479745566845, 0.04031357914209366, 0.007048215717077255, 0.0009703963296487927, 0.00038860022323206067, 0.007178276777267456, 0.007592353038489819, 0.0012294440530240536, 0.004369801376014948, 0.0010255725355818868, 0.014297003857791424, 0.058448806405067444, 0.0, 0.0, 0.0, 0.0, 0.0, 0.0, 0.0, 0.0], [0.21868722140789032, 0.0018449320923537016, 0.1232573390007019, 0.00014999111590441316, 0.4721706807613373, 0.00019406889623496681, 0.10072961449623108, 6.42144659650512e-05, 1.0977913916576654e-05, 4.946026820107363e-05, 0.0005586346378549933, 0.00015545407950412482, 7.198228558991104e-06, 2.875967948057223e-05, 1.7997999748331495e-05, 0.007832038216292858, 0.07415556162595749, 8.584989700466394e-05, 0.0, 0.0, 0.0, 0.0, 0.0, 0.0, 0.0], [0.6151404976844788, 0.012020348571240902, 0.01946279965341091, 0.004752081818878651, 0.08901586383581161, 0.007050562649965286, 0.03906481713056564, 0.020937800407409668, 0.0007272925577126443, 0.0001264173915842548, 0.008560912683606148, 0.007721811067312956, 0.00036713993176817894, 0.004001512657850981, 0.0008317478932440281, 0.00824639480561018, 0.07888354361057281, 0.007384963799268007, 0.07570348680019379, 0.0, 0.0, 0.0, 0.0, 0.0, 0.0], [0.19697648286819458, 0.004302185494452715, 0.12038114666938782, 0.0013952931622043252, 0.41239067912101746, 0.0011443148832768202, 0.13727988302707672, 0.000844233320094645, 0.0002762660733424127, 0.000877726823091507, 0.005100471433252096, 0.0017126869643107057, 8.506904123350978e-05, 0.0013790650991722941, 0.0003746126894839108, 0.02670271508395672, 0.0513869933784008, 0.00017642909369897097, 0.03524084761738777, 0.0019729607738554478, 0.0, 0.0, 0.0, 0.0, 0.0], [0.896481990814209, 0.01042457390576601, 0.005662188865244389, 0.0033481549471616745, 0.013335267081856728, 0.001392363104969263, 0.006412955932319164, 0.0023188453633338213, 0.000904940243344754, 0.00038195180241018534, 0.007782911416143179, 0.002654430689290166, 0.0002912151103373617, 0.005518000572919846, 0.0020945763681083918, 0.0032358872704207897, 0.0062146722339093685, 0.0005526716122403741, 0.0016413041157647967, 0.004215545486658812, 0.025135552510619164, 0.0, 0.0, 0.0, 0.0], [0.9189496636390686, 0.014272714033722878, 0.009725745767354965, 0.0008841013186611235, 0.011660438030958176, 0.0003736821818165481, 0.013158475048840046, 0.0005764759262092412, 0.00045032522757537663, 0.00022003223421052098, 0.0006577838212251663, 0.0007799142622388899, 0.0003770367184188217, 0.0011484891874715686, 0.0012436173856258392, 0.0038700385484844446, 0.0063681891188025475, 0.00010576419299468398, 0.0008168853237293661, 0.000732860469724983, 0.001921929302625358, 0.011705823242664337, 0.0, 0.0, 0.0], [0.8127987384796143, 0.01111103966832161, 0.03543471172451973, 0.0004872240824624896, 0.04622860997915268, 0.00013396976282820106, 0.03489260375499725, 6.6587861510925e-05, 3.2326362997991964e-05, 0.00010365679190726951, 0.0023043048568069935, 0.0005544726736843586, 2.541529647714924e-05, 0.00010811986430780962, 0.0002504023432265967, 0.009331496432423592, 0.022811368107795715, 5.169513315195218e-05, 0.0038867422845214605, 0.00024369137827306986, 0.002088588662445545, 0.016400741413235664, 0.0006534656276926398, 0.0, 0.0], [0.8030685186386108, 0.04727598652243614, 0.009467779658734798, 0.00108159682713449, 0.008633075281977654, 0.0005944951553829014, 0.01528126560151577, 0.0008338784682564437, 0.00038229639176279306, 0.00017403991660103202, 0.0010484474478289485, 0.0021905042231082916, 0.0007628549356013536, 0.0013315222458913922, 0.003450714750215411, 0.023704461753368378, 0.011167038232088089, 0.00011687451478792354, 0.0006044033216312528, 0.0011485392460599542, 0.0022385509219020605, 0.013464702293276787, 0.002405129373073578, 0.04957349970936775, 0.0], [0.02337353304028511, 0.0006014850805513561, 0.1490890085697174, 8.88667709659785e-05, 0.6172617077827454, 6.58089411444962e-05, 0.13967639207839966, 2.576997212599963e-05, 2.625570232339669e-06, 1.6186973880394362e-05, 0.00022442986664827913, 3.932671825168654e-05, 1.7269398995267693e-06, 1.7426078557036817e-05, 4.4687594709102996e-06, 0.005408687982708216, 0.04863376542925835, 6.7808018684445415e-06, 0.012701368890702724, 2.540281457186211e-05, 2.3938498998177238e-05, 0.0002398476208327338, 3.2235650451184483e-06, 0.00235849735327065, 0.00010977422789437696]]], \"attentionHeadNames\": [\"L9H9\", \"L10H0\", \"L9H6\"], \"tokens\": [\"<|endoftext|>\", \"After\", \" John\", \",\", \" Mary\", \" and\", \" Jim\", \" went\", \" to\", \" the\", \" grocery\", \" store\", \" and\", \" return\", \",\", \" \", \" Jim\", \" and\", \" John\", \" gave\", \" a\", \" bottle\", \" of\", \" milk\", \" to\"]}\n",
       "    )\n",
       "    </script></div><div style='max-width: 700px;'><h2>Top 3 Negative Logit Attribution Heads</h2><br/><div id=\"circuits-vis-8105e92e-9045\" style=\"margin: 15px 0;\"/>\n",
       "    <script crossorigin type=\"module\">\n",
       "    import { render, AttentionHeads } from \"https://unpkg.com/circuitsvis@1.43.2/dist/cdn/esm.js\";\n",
       "    render(\n",
       "      \"circuits-vis-8105e92e-9045\",\n",
       "      AttentionHeads,\n",
       "      {\"attention\": [[[1.0, 0.0, 0.0, 0.0, 0.0, 0.0, 0.0, 0.0, 0.0, 0.0, 0.0, 0.0, 0.0, 0.0, 0.0, 0.0, 0.0, 0.0, 0.0, 0.0, 0.0, 0.0, 0.0, 0.0, 0.0], [0.8979308009147644, 0.10206916928291321, 0.0, 0.0, 0.0, 0.0, 0.0, 0.0, 0.0, 0.0, 0.0, 0.0, 0.0, 0.0, 0.0, 0.0, 0.0, 0.0, 0.0, 0.0, 0.0, 0.0, 0.0, 0.0, 0.0], [0.8729650378227234, 0.04218238592147827, 0.0848526880145073, 0.0, 0.0, 0.0, 0.0, 0.0, 0.0, 0.0, 0.0, 0.0, 0.0, 0.0, 0.0, 0.0, 0.0, 0.0, 0.0, 0.0, 0.0, 0.0, 0.0, 0.0, 0.0], [0.3247550427913666, 0.027095647528767586, 0.46381112933158875, 0.18433810770511627, 0.0, 0.0, 0.0, 0.0, 0.0, 0.0, 0.0, 0.0, 0.0, 0.0, 0.0, 0.0, 0.0, 0.0, 0.0, 0.0, 0.0, 0.0, 0.0, 0.0, 0.0], [0.6239738464355469, 0.027887580916285515, 0.10586688667535782, 0.1380114108324051, 0.10426029562950134, 0.0, 0.0, 0.0, 0.0, 0.0, 0.0, 0.0, 0.0, 0.0, 0.0, 0.0, 0.0, 0.0, 0.0, 0.0, 0.0, 0.0, 0.0, 0.0, 0.0], [0.18250590562820435, 0.012433386407792568, 0.29612597823143005, 0.13473808765411377, 0.2847920358181, 0.08940460532903671, 0.0, 0.0, 0.0, 0.0, 0.0, 0.0, 0.0, 0.0, 0.0, 0.0, 0.0, 0.0, 0.0, 0.0, 0.0, 0.0, 0.0, 0.0, 0.0], [0.4079042971134186, 0.020753171294927597, 0.20631179213523865, 0.1096625030040741, 0.09268713742494583, 0.055323630571365356, 0.10735747218132019, 0.0, 0.0, 0.0, 0.0, 0.0, 0.0, 0.0, 0.0, 0.0, 0.0, 0.0, 0.0, 0.0, 0.0, 0.0, 0.0, 0.0, 0.0], [0.8634949922561646, 0.02658367156982422, 0.004181889351457357, 0.05373094603419304, 0.0033986642956733704, 0.022977590560913086, 0.0019379828590899706, 0.023694247007369995, 0.0, 0.0, 0.0, 0.0, 0.0, 0.0, 0.0, 0.0, 0.0, 0.0, 0.0, 0.0, 0.0, 0.0, 0.0, 0.0, 0.0], [0.21002493798732758, 0.025435704737901688, 0.20914462208747864, 0.06592583656311035, 0.14231182634830475, 0.030056167393922806, 0.25567570328712463, 0.03409799560904503, 0.027327202260494232, 0.0, 0.0, 0.0, 0.0, 0.0, 0.0, 0.0, 0.0, 0.0, 0.0, 0.0, 0.0, 0.0, 0.0, 0.0, 0.0], [0.6242587566375732, 0.03304111585021019, 0.036971479654312134, 0.05037368834018707, 0.02257029339671135, 0.05813517048954964, 0.01723746582865715, 0.016345104202628136, 0.06808111071586609, 0.07298588007688522, 0.0, 0.0, 0.0, 0.0, 0.0, 0.0, 0.0, 0.0, 0.0, 0.0, 0.0, 0.0, 0.0, 0.0, 0.0], [0.8173179626464844, 0.016834145411849022, 0.007294452283531427, 0.016665248200297356, 0.001353433821350336, 0.010659032501280308, 0.002090758876875043, 0.019662678241729736, 0.017081502825021744, 0.04296588525176048, 0.04807492345571518, 0.0, 0.0, 0.0, 0.0, 0.0, 0.0, 0.0, 0.0, 0.0, 0.0, 0.0, 0.0, 0.0, 0.0], [0.013134762644767761, 0.009498253464698792, 0.5092244744300842, 0.04143957048654556, 0.07954834401607513, 0.026486773043870926, 0.2923159599304199, 0.006192346569150686, 0.006315675098448992, 0.00944521278142929, 0.0011256136931478977, 0.005272888578474522, 0.0, 0.0, 0.0, 0.0, 0.0, 0.0, 0.0, 0.0, 0.0, 0.0, 0.0, 0.0, 0.0], [0.02448638156056404, 0.006308132316917181, 0.21260438859462738, 0.03829159215092659, 0.29539310932159424, 0.029309770092368126, 0.32937178015708923, 0.016986027359962463, 0.006366746500134468, 0.0012666390975937247, 0.0020915959030389786, 0.003987959586083889, 0.03353586047887802, 0.0, 0.0, 0.0, 0.0, 0.0, 0.0, 0.0, 0.0, 0.0, 0.0, 0.0, 0.0], [0.12164583057165146, 0.014040842652320862, 0.2375398576259613, 0.07869647443294525, 0.1528405249118805, 0.07020308822393417, 0.19281430542469025, 0.01138367597013712, 0.005771238822489977, 0.008204060606658459, 0.008505546487867832, 0.011651581153273582, 0.06199890375137329, 0.02470416948199272, 0.0, 0.0, 0.0, 0.0, 0.0, 0.0, 0.0, 0.0, 0.0, 0.0, 0.0], [0.009860504418611526, 0.0047051748260855675, 0.1098182275891304, 0.021881308406591415, 0.277692973613739, 0.01666022650897503, 0.5371700525283813, 0.0013624511193484068, 0.000997222145088017, 0.0011464495910331607, 0.0001291281805606559, 0.0004758007125928998, 0.006720923352986574, 0.001438612467609346, 0.009940961375832558, 0.0, 0.0, 0.0, 0.0, 0.0, 0.0, 0.0, 0.0, 0.0, 0.0], [0.5480992197990417, 0.03879379853606224, 0.04421796277165413, 0.0906938910484314, 0.04783490300178528, 0.026246286928653717, 0.0860619992017746, 0.006134707015007734, 0.004210872575640678, 0.0053766462951898575, 0.0005852816975675523, 0.0027186053339391947, 0.018584134057164192, 0.0037211854942142963, 0.05012543499469757, 0.026595115661621094, 0.0, 0.0, 0.0, 0.0, 0.0, 0.0, 0.0, 0.0, 0.0], [0.09944356977939606, 0.013377092778682709, 0.03047143667936325, 0.143180713057518, 0.05048716440796852, 0.0496085025370121, 0.15084226429462433, 0.007209631614387035, 0.0017347735119983554, 0.0016205344581976533, 0.0001745218614814803, 0.0008546101744286716, 0.022603783756494522, 0.004292279947549105, 0.039900392293930054, 0.004076844546943903, 0.3801218867301941, 0.0, 0.0, 0.0, 0.0, 0.0, 0.0, 0.0, 0.0], [0.027918310835957527, 0.0026183295994997025, 0.03400165215134621, 0.035097260028123856, 0.5428775548934937, 0.025951411575078964, 0.09954967349767685, 0.0004502817173488438, 0.00045873119961470366, 0.0006965425563976169, 1.6747617337387055e-05, 9.502425382379442e-05, 0.003880780888721347, 0.00032328307861462235, 0.012606809847056866, 0.008013891987502575, 0.1497924029827118, 0.05565136298537254, 0.0, 0.0, 0.0, 0.0, 0.0, 0.0, 0.0], [0.02443874627351761, 0.006924885790795088, 0.03595203906297684, 0.07393909990787506, 0.07048873603343964, 0.0719725638628006, 0.1289987862110138, 0.006617793347686529, 0.0018403632566332817, 0.0013146820710971951, 0.0001693538506515324, 0.0006200318457558751, 0.02589794062077999, 0.002958372002467513, 0.030345873907208443, 0.0032506173010915518, 0.32951807975769043, 0.08550168573856354, 0.09925033152103424, 0.0, 0.0, 0.0, 0.0, 0.0, 0.0], [0.008160312660038471, 0.0027213781140744686, 0.049041997641325, 0.01968781091272831, 0.3097977340221405, 0.019499750807881355, 0.2220924198627472, 0.0006137824384495616, 0.0003931363462470472, 0.0011167554184794426, 0.00016661638801451772, 0.0003574092697817832, 0.004049315582960844, 0.0006995224975980818, 0.010064690373837948, 0.0034478972665965557, 0.25687336921691895, 0.03961455076932907, 0.046402815729379654, 0.00519872922450304, 0.0, 0.0, 0.0, 0.0, 0.0], [0.4187193810939789, 0.020606232807040215, 0.01997317187488079, 0.034077197313308716, 0.011142436414957047, 0.0189152043312788, 0.004577816464006901, 0.012024513445794582, 0.005112856160849333, 0.0029280732851475477, 0.008534019812941551, 0.006682405713945627, 0.009727349504828453, 0.03951761871576309, 0.024062687531113625, 0.03857671841979027, 0.013666626997292042, 0.03189452365040779, 0.007661751471459866, 0.20824389159679413, 0.06335553526878357, 0.0, 0.0, 0.0, 0.0], [0.17161092162132263, 0.024571217596530914, 0.037215691059827805, 0.08429621905088425, 0.01929745264351368, 0.05476302281022072, 0.025539977476000786, 0.01207452081143856, 0.009909619577229023, 0.013175766915082932, 0.0010939933126792312, 0.0023085966240614653, 0.028362883254885674, 0.017667533829808235, 0.05581095442175865, 0.07125335931777954, 0.06100703775882721, 0.06834746152162552, 0.02104335092008114, 0.0876307487487793, 0.10536060482263565, 0.027659131214022636, 0.0, 0.0, 0.0], [0.11506244540214539, 0.01749754138290882, 0.07668539881706238, 0.0409897044301033, 0.1402779072523117, 0.0334828682243824, 0.10262276232242584, 0.0021442980505526066, 0.0034912738483399153, 0.0038818742614239454, 0.0015774248167872429, 0.0009760109824128449, 0.007458328269422054, 0.0009567034430801868, 0.023296091705560684, 0.030993059277534485, 0.11869315057992935, 0.07747727632522583, 0.03570973500609398, 0.027577105909585953, 0.010216635651886463, 0.04838443174958229, 0.08054795861244202, 0.0, 0.0], [0.13818028569221497, 0.020472008734941483, 0.07548537105321884, 0.044367533177137375, 0.01888756826519966, 0.03200489282608032, 0.03176932781934738, 0.00940644834190607, 0.007326007355004549, 0.007118696812540293, 0.0014220221200957894, 0.003046893747523427, 0.02163245715200901, 0.012204109691083431, 0.05660327896475792, 0.10820860415697098, 0.07730758190155029, 0.06163368374109268, 0.03093598783016205, 0.043348558247089386, 0.04563925415277481, 0.03815273568034172, 0.0755264163017273, 0.03932025656104088, 0.0], [0.0031587870325893164, 0.0014398788334801793, 0.028277933597564697, 0.02001572586596012, 0.46785247325897217, 0.013167577795684338, 0.18137703835964203, 0.00012189380504423752, 9.376535308547318e-05, 0.0002708638785406947, 9.251933988707606e-06, 4.052196891279891e-05, 0.001041472190991044, 9.312834299635142e-05, 0.005364934913814068, 0.0029330304823815823, 0.21146851778030396, 0.030593499541282654, 0.023411046713590622, 0.0013848076341673732, 8.847427670843899e-05, 2.7713418603525497e-05, 0.0002526382450014353, 0.00030088084167800844, 0.007214163895696402]], [[1.0, 0.0, 0.0, 0.0, 0.0, 0.0, 0.0, 0.0, 0.0, 0.0, 0.0, 0.0, 0.0, 0.0, 0.0, 0.0, 0.0, 0.0, 0.0, 0.0, 0.0, 0.0, 0.0, 0.0, 0.0], [0.9374700784683228, 0.06252991408109665, 0.0, 0.0, 0.0, 0.0, 0.0, 0.0, 0.0, 0.0, 0.0, 0.0, 0.0, 0.0, 0.0, 0.0, 0.0, 0.0, 0.0, 0.0, 0.0, 0.0, 0.0, 0.0, 0.0], [0.9412386417388916, 0.020480560138821602, 0.03828079625964165, 0.0, 0.0, 0.0, 0.0, 0.0, 0.0, 0.0, 0.0, 0.0, 0.0, 0.0, 0.0, 0.0, 0.0, 0.0, 0.0, 0.0, 0.0, 0.0, 0.0, 0.0, 0.0], [0.811972439289093, 0.036437273025512695, 0.07202401012182236, 0.07956631481647491, 0.0, 0.0, 0.0, 0.0, 0.0, 0.0, 0.0, 0.0, 0.0, 0.0, 0.0, 0.0, 0.0, 0.0, 0.0, 0.0, 0.0, 0.0, 0.0, 0.0, 0.0], [0.8230701684951782, 0.0233079232275486, 0.034882523119449615, 0.062272343784570694, 0.056467048823833466, 0.0, 0.0, 0.0, 0.0, 0.0, 0.0, 0.0, 0.0, 0.0, 0.0, 0.0, 0.0, 0.0, 0.0, 0.0, 0.0, 0.0, 0.0, 0.0, 0.0], [0.6690689325332642, 0.018453678116202354, 0.07722410559654236, 0.059577297419309616, 0.10875505208969116, 0.06692096590995789, 0.0, 0.0, 0.0, 0.0, 0.0, 0.0, 0.0, 0.0, 0.0, 0.0, 0.0, 0.0, 0.0, 0.0, 0.0, 0.0, 0.0, 0.0, 0.0], [0.7433889508247375, 0.027123330160975456, 0.04980657622218132, 0.03356648236513138, 0.10002294182777405, 0.006768607068806887, 0.039323046803474426, 0.0, 0.0, 0.0, 0.0, 0.0, 0.0, 0.0, 0.0, 0.0, 0.0, 0.0, 0.0, 0.0, 0.0, 0.0, 0.0, 0.0, 0.0], [0.8600085973739624, 0.030501333996653557, 0.01953382045030594, 0.015336355194449425, 0.055500127375125885, 0.0046673184260725975, 0.009481500834226608, 0.0049709053710103035, 0.0, 0.0, 0.0, 0.0, 0.0, 0.0, 0.0, 0.0, 0.0, 0.0, 0.0, 0.0, 0.0, 0.0, 0.0, 0.0, 0.0], [0.8001765608787537, 0.03157429397106171, 0.04645055904984474, 0.023438572883605957, 0.046958837658166885, 0.008848893456161022, 0.030732683837413788, 0.0027970445808023214, 0.009022627025842667, 0.0, 0.0, 0.0, 0.0, 0.0, 0.0, 0.0, 0.0, 0.0, 0.0, 0.0, 0.0, 0.0, 0.0, 0.0, 0.0], [0.8600288033485413, 0.029583318158984184, 0.016742879524827003, 0.016970017924904823, 0.016665397211909294, 0.00644534220919013, 0.010682911612093449, 0.0019518891349434853, 0.01134524680674076, 0.029584171250462532, 0.0, 0.0, 0.0, 0.0, 0.0, 0.0, 0.0, 0.0, 0.0, 0.0, 0.0, 0.0, 0.0, 0.0, 0.0], [0.9080935716629028, 0.027304047718644142, 0.008151245303452015, 0.013678629882633686, 0.014774033799767494, 0.003305710619315505, 0.005401805508881807, 0.0029278455767780542, 0.002749817678704858, 0.002439154777675867, 0.011174056679010391, 0.0, 0.0, 0.0, 0.0, 0.0, 0.0, 0.0, 0.0, 0.0, 0.0, 0.0, 0.0, 0.0, 0.0], [0.30050140619277954, 0.052370037883520126, 0.1197127252817154, 0.03901302069425583, 0.33557432889938354, 0.010525117628276348, 0.11348053067922592, 0.002379746176302433, 0.0030427593737840652, 0.0029460862278938293, 0.004884414840489626, 0.015569896437227726, 0.0, 0.0, 0.0, 0.0, 0.0, 0.0, 0.0, 0.0, 0.0, 0.0, 0.0, 0.0, 0.0], [0.5185335278511047, 0.034104760736227036, 0.10116022080183029, 0.025301821529865265, 0.16330192983150482, 0.013479121029376984, 0.10285360366106033, 0.0041874065063893795, 0.0030699260532855988, 0.003845102386549115, 0.011895985342562199, 0.008487734943628311, 0.009778901003301144, 0.0, 0.0, 0.0, 0.0, 0.0, 0.0, 0.0, 0.0, 0.0, 0.0, 0.0, 0.0], [0.5653917789459229, 0.029821712523698807, 0.07020872831344604, 0.03047310933470726, 0.18440453708171844, 0.00879975501447916, 0.057565901428461075, 0.0036982286255806684, 0.001965864561498165, 0.0025935235898941755, 0.022306906059384346, 0.011671901680529118, 0.00688164122402668, 0.004216318018734455, 0.0, 0.0, 0.0, 0.0, 0.0, 0.0, 0.0, 0.0, 0.0, 0.0, 0.0], [0.681826651096344, 0.027075279504060745, 0.053727105259895325, 0.02183840237557888, 0.10763297975063324, 0.0124796312302351, 0.042634543031454086, 0.001713744830340147, 0.0020709566306322813, 0.00285061402246356, 0.011313657276332378, 0.006642312742769718, 0.005795387551188469, 0.0021993224509060383, 0.02019946649670601, 0.0, 0.0, 0.0, 0.0, 0.0, 0.0, 0.0, 0.0, 0.0, 0.0], [0.7429198622703552, 0.03046097420156002, 0.03423955664038658, 0.0156412310898304, 0.051879338920116425, 0.006736528128385544, 0.018687384203076363, 0.0014756531454622746, 0.0010733924573287368, 0.0009778633248060942, 0.0018164529465138912, 0.0015705629484727979, 0.002058063866570592, 0.000580238935071975, 0.010249282233417034, 0.07963362336158752, 0.0, 0.0, 0.0, 0.0, 0.0, 0.0, 0.0, 0.0, 0.0], [0.46643248200416565, 0.019244983792304993, 0.04093708470463753, 0.01470956951379776, 0.12872633337974548, 0.004583684727549553, 0.02236223965883255, 0.0044028074480593204, 0.0007551861344836652, 0.0008594622486270964, 0.018183309584856033, 0.010181277059018612, 0.0022791416849941015, 0.003918136470019817, 0.01129208318889141, 0.19118274748325348, 0.05994945764541626, 0.0, 0.0, 0.0, 0.0, 0.0, 0.0, 0.0, 0.0], [0.6564584970474243, 0.012221988290548325, 0.03465103358030319, 0.015580030158162117, 0.12176332622766495, 0.011614013463258743, 0.029355879873037338, 0.000901959661860019, 0.0009917857823893428, 0.0010988825233653188, 0.004045466892421246, 0.0021209451369941235, 0.0019861487671732903, 0.0011566049652174115, 0.009650920517742634, 0.06491680443286896, 0.01987791620194912, 0.01160773541778326, 0.0, 0.0, 0.0, 0.0, 0.0, 0.0, 0.0], [0.4899100363254547, 0.020098688080906868, 0.021668143570423126, 0.02075071819126606, 0.07680179923772812, 0.008967796340584755, 0.01567034237086773, 0.0034165435936301947, 0.0008550112252123654, 0.0009213374578393996, 0.009950359351933002, 0.009527799673378468, 0.0028822387102991343, 0.004170007072389126, 0.013800112530589104, 0.19626392424106598, 0.041965264827013016, 0.015663044527173042, 0.0467168428003788, 0.0, 0.0, 0.0, 0.0, 0.0, 0.0], [0.5190324187278748, 0.022445477545261383, 0.049833618104457855, 0.01662568561732769, 0.12758710980415344, 0.012047982774674892, 0.03755005821585655, 0.0014146615285426378, 0.002282315632328391, 0.00449034571647644, 0.013779109343886375, 0.005672618746757507, 0.003738617757335305, 0.002402407582849264, 0.016221793368458748, 0.08690281957387924, 0.02599192224442959, 0.013247501105070114, 0.02211935818195343, 0.016614148393273354, 0.0, 0.0, 0.0, 0.0, 0.0], [0.6294369697570801, 0.016575375571846962, 0.03421037644147873, 0.009474938735365868, 0.053971316665410995, 0.005799676291644573, 0.020926758646965027, 0.0039643701165914536, 0.004389886744320393, 0.005296030081808567, 0.0494685061275959, 0.018151484429836273, 0.002560707274824381, 0.008307402953505516, 0.009467852301895618, 0.061709653586149216, 0.01666194573044777, 0.006023897789418697, 0.016559531912207603, 0.02167646400630474, 0.005366880912333727, 0.0, 0.0, 0.0, 0.0], [0.4257907271385193, 0.016471408307552338, 0.05405299738049507, 0.020297378301620483, 0.07051390409469604, 0.008630003780126572, 0.05199470371007919, 0.004127818159759045, 0.0015458547277376056, 0.0011711372062563896, 0.0071099549531936646, 0.0045014857314527035, 0.004521636757999659, 0.007337859831750393, 0.014907277189195156, 0.14376895129680634, 0.0539998784661293, 0.009283969178795815, 0.039873745292425156, 0.027552058920264244, 0.004707173444330692, 0.027840103954076767, 0.0, 0.0, 0.0], [0.6010223031044006, 0.014279868453741074, 0.05193397402763367, 0.010075495578348637, 0.06534278392791748, 0.005271474830806255, 0.040465567260980606, 0.000708914187271148, 0.0013748506316915154, 0.002816913416609168, 0.02195112220942974, 0.0027044792659580708, 0.0019219372188672423, 0.0007452163263224065, 0.0076647293753921986, 0.06699596345424652, 0.01730521209537983, 0.004798654932528734, 0.013061173260211945, 0.005538762081414461, 0.0019634959753602743, 0.03708964213728905, 0.024967538192868233, 0.0, 0.0], [0.35585135221481323, 0.0273470189422369, 0.06511193513870239, 0.01649712584912777, 0.0850084125995636, 0.008509046398103237, 0.06650802493095398, 0.002191212959587574, 0.001885587815195322, 0.0013408286031335592, 0.006351508665829897, 0.005340087227523327, 0.003640740877017379, 0.004198831971734762, 0.01701330952346325, 0.12837672233581543, 0.0607210248708725, 0.008004747331142426, 0.023562677204608917, 0.009161091409623623, 0.0028015500865876675, 0.032993581146001816, 0.015145054087042809, 0.05243851989507675, 0.0], [0.4631921350955963, 0.017242979258298874, 0.03954806923866272, 0.019181737676262856, 0.11644135415554047, 0.01103231217712164, 0.03986261785030365, 0.0009792385390028358, 0.0010462079662829638, 0.0016584486002102494, 0.003579160198569298, 0.0020001514349132776, 0.0023129333276301622, 0.001160009647719562, 0.010503720492124557, 0.1350744515657425, 0.030448783189058304, 0.010852578096091747, 0.022128861397504807, 0.011947673745453358, 0.0008890244062058628, 0.0046109771355986595, 0.0003746530564967543, 0.01979803666472435, 0.034133896231651306]], [[1.0, 0.0, 0.0, 0.0, 0.0, 0.0, 0.0, 0.0, 0.0, 0.0, 0.0, 0.0, 0.0, 0.0, 0.0, 0.0, 0.0, 0.0, 0.0, 0.0, 0.0, 0.0, 0.0, 0.0, 0.0], [0.9404988288879395, 0.05950121581554413, 0.0, 0.0, 0.0, 0.0, 0.0, 0.0, 0.0, 0.0, 0.0, 0.0, 0.0, 0.0, 0.0, 0.0, 0.0, 0.0, 0.0, 0.0, 0.0, 0.0, 0.0, 0.0, 0.0], [0.9067906737327576, 0.007377409376204014, 0.0858319029211998, 0.0, 0.0, 0.0, 0.0, 0.0, 0.0, 0.0, 0.0, 0.0, 0.0, 0.0, 0.0, 0.0, 0.0, 0.0, 0.0, 0.0, 0.0, 0.0, 0.0, 0.0, 0.0], [0.566180944442749, 0.01822124421596527, 0.24611042439937592, 0.16948743164539337, 0.0, 0.0, 0.0, 0.0, 0.0, 0.0, 0.0, 0.0, 0.0, 0.0, 0.0, 0.0, 0.0, 0.0, 0.0, 0.0, 0.0, 0.0, 0.0, 0.0, 0.0], [0.7234638333320618, 0.01165748294442892, 0.046748336404561996, 0.08578110486268997, 0.1323491632938385, 0.0, 0.0, 0.0, 0.0, 0.0, 0.0, 0.0, 0.0, 0.0, 0.0, 0.0, 0.0, 0.0, 0.0, 0.0, 0.0, 0.0, 0.0, 0.0, 0.0], [0.351190984249115, 0.006437838543206453, 0.14148211479187012, 0.044776756316423416, 0.4253618121147156, 0.030750490725040436, 0.0, 0.0, 0.0, 0.0, 0.0, 0.0, 0.0, 0.0, 0.0, 0.0, 0.0, 0.0, 0.0, 0.0, 0.0, 0.0, 0.0, 0.0, 0.0], [0.6839714050292969, 0.016454007476568222, 0.08618103712797165, 0.08106842637062073, 0.03978779539465904, 0.043210502713918686, 0.049326758831739426, 0.0, 0.0, 0.0, 0.0, 0.0, 0.0, 0.0, 0.0, 0.0, 0.0, 0.0, 0.0, 0.0, 0.0, 0.0, 0.0, 0.0, 0.0], [0.8951897025108337, 0.019959764555096626, 0.0037378568667918444, 0.025453947484493256, 0.0014014998450875282, 0.015526888892054558, 0.0005915003130212426, 0.03813891112804413, 0.0, 0.0, 0.0, 0.0, 0.0, 0.0, 0.0, 0.0, 0.0, 0.0, 0.0, 0.0, 0.0, 0.0, 0.0, 0.0, 0.0], [0.41483941674232483, 0.011509804986417294, 0.1268705129623413, 0.059086136519908905, 0.11699678003787994, 0.04161515086889267, 0.14468932151794434, 0.028544101864099503, 0.05584879592061043, 0.0, 0.0, 0.0, 0.0, 0.0, 0.0, 0.0, 0.0, 0.0, 0.0, 0.0, 0.0, 0.0, 0.0, 0.0, 0.0], [0.6998870372772217, 0.016260582953691483, 0.02236415445804596, 0.05865607410669327, 0.021329089999198914, 0.05837438628077507, 0.013686208985745907, 0.01027075294405222, 0.05934212729334831, 0.039829567074775696, 0.0, 0.0, 0.0, 0.0, 0.0, 0.0, 0.0, 0.0, 0.0, 0.0, 0.0, 0.0, 0.0, 0.0, 0.0], [0.9397880434989929, 0.007674774620682001, 0.0014298480236902833, 0.008362713269889355, 0.0005257460870780051, 0.005683272611349821, 0.0005806307308375835, 0.0021895531099289656, 0.006544142961502075, 0.006019516848027706, 0.021201753988862038, 0.0, 0.0, 0.0, 0.0, 0.0, 0.0, 0.0, 0.0, 0.0, 0.0, 0.0, 0.0, 0.0, 0.0], [0.3514222502708435, 0.22236308455467224, 0.076483815908432, 0.10712563991546631, 0.04139436408877373, 0.05140608549118042, 0.04105177894234657, 0.02816082537174225, 0.03794937580823898, 0.018214818090200424, 0.004492436069995165, 0.019935570657253265, 0.0, 0.0, 0.0, 0.0, 0.0, 0.0, 0.0, 0.0, 0.0, 0.0, 0.0, 0.0, 0.0], [0.46100300550460815, 0.02008208818733692, 0.08947224169969559, 0.08134765177965164, 0.043814048171043396, 0.04453415051102638, 0.06461042910814285, 0.06711297482252121, 0.06453505158424377, 0.015896324068307877, 0.0024053878150880337, 0.009943804703652859, 0.035242773592472076, 0.0, 0.0, 0.0, 0.0, 0.0, 0.0, 0.0, 0.0, 0.0, 0.0, 0.0, 0.0], [0.6592568159103394, 0.01916823908686638, 0.053845085203647614, 0.0250877495855093, 0.07979528605937958, 0.024574067443609238, 0.01988346502184868, 0.01378351915627718, 0.02744736708700657, 0.007673322688788176, 0.004957587458193302, 0.016713496297597885, 0.028450006619095802, 0.019363930448889732, 0.0, 0.0, 0.0, 0.0, 0.0, 0.0, 0.0, 0.0, 0.0, 0.0, 0.0], [0.05418888479471207, 0.006147416308522224, 0.3371485769748688, 0.029025107622146606, 0.3774246871471405, 0.02304433472454548, 0.12568578124046326, 0.0034805687610059977, 0.006539489608258009, 0.003251972608268261, 0.00020384926756378263, 0.00039786301204003394, 0.005037378054112196, 0.0024752221070230007, 0.02594889886677265, 0.0, 0.0, 0.0, 0.0, 0.0, 0.0, 0.0, 0.0, 0.0, 0.0], [0.8408015370368958, 0.006852366495877504, 0.01987084001302719, 0.01329293567687273, 0.007446410600095987, 0.007433145307004452, 0.005548694636672735, 0.001042281510308385, 0.0020072096958756447, 0.0009503340697847307, 9.145903459284455e-05, 0.000315714132739231, 0.0026137216482311487, 0.0008634935948066413, 0.01198592409491539, 0.07888387888669968, 0.0, 0.0, 0.0, 0.0, 0.0, 0.0, 0.0, 0.0, 0.0], [0.37455883622169495, 0.025519786402583122, 0.03648802265524864, 0.14768171310424805, 0.007183015812188387, 0.062163885682821274, 0.04527129605412483, 0.03253449127078056, 0.0227322019636631, 0.004236621782183647, 4.583924601320177e-05, 0.00046603931696154177, 0.019046876579523087, 0.006076768506318331, 0.059278760105371475, 0.0726306363940239, 0.0840851366519928, 0.0, 0.0, 0.0, 0.0, 0.0, 0.0, 0.0, 0.0], [0.11439833790063858, 0.004839516244828701, 0.12456225603818893, 0.04070614278316498, 0.3881063759326935, 0.01698143221437931, 0.044882338494062424, 0.0006298852385953069, 0.0035934268962591887, 0.004135568626224995, 3.742954504559748e-05, 0.00011978412658208981, 0.002967987209558487, 0.00024753506295382977, 0.024070756509900093, 0.011281217448413372, 0.1983804851770401, 0.02005947008728981, 0.0, 0.0, 0.0, 0.0, 0.0, 0.0, 0.0], [0.1890055537223816, 0.0212111696600914, 0.05299964174628258, 0.24515625834465027, 0.012762660160660744, 0.07928414642810822, 0.006180647294968367, 0.04367366433143616, 0.029069168493151665, 0.003982091788202524, 1.949256329680793e-05, 9.507543290965259e-05, 0.011913858354091644, 0.004059283994138241, 0.07155589759349823, 0.0497727207839489, 0.0190478153526783, 0.11934706568717957, 0.040863871574401855, 0.0, 0.0, 0.0, 0.0, 0.0, 0.0], [0.11043662577867508, 0.00735945301130414, 0.18130652606487274, 0.03583729639649391, 0.15792161226272583, 0.030846158042550087, 0.08294326066970825, 0.006926388945430517, 0.014295471832156181, 0.006679624319076538, 0.00047724603791721165, 0.0013910576235502958, 0.011351853609085083, 0.00581948459148407, 0.04276030883193016, 0.04120844230055809, 0.0942203551530838, 0.02824140153825283, 0.10798816382884979, 0.03198930621147156, 0.0, 0.0, 0.0, 0.0, 0.0], [0.5705823302268982, 0.010926091112196445, 0.015718065202236176, 0.025976061820983887, 0.0035048064310103655, 0.021969059482216835, 0.005139692220836878, 0.007654573768377304, 0.030039437115192413, 0.011883636936545372, 0.003124452428892255, 0.009305000305175781, 0.023016834631562233, 0.0170612595975399, 0.04053330048918724, 0.04750910401344299, 0.004024249501526356, 0.024880794808268547, 0.003989750519394875, 0.07294953614473343, 0.05021199956536293, 0.0, 0.0, 0.0, 0.0], [0.6128436326980591, 0.011117110028862953, 0.009161794558167458, 0.019922776147723198, 0.006203213706612587, 0.019753169268369675, 0.004632613155990839, 0.004040224477648735, 0.012108870781958103, 0.004260961432009935, 0.0010717931436374784, 0.004326990805566311, 0.015946339815855026, 0.009729765355587006, 0.034128155559301376, 0.04474491626024246, 0.006027631927281618, 0.023062018677592278, 0.0027549415826797485, 0.07298070937395096, 0.01896791346371174, 0.06221450865268707, 0.0, 0.0, 0.0], [0.5102652311325073, 0.004160542506724596, 0.028429578989744186, 0.03022964671254158, 0.0421530045568943, 0.02328488416969776, 0.018446004018187523, 0.00079589948290959, 0.005940354894846678, 0.005966850556433201, 0.000887205358594656, 0.0014872777974233031, 0.008498153649270535, 0.0003140037297271192, 0.025852588936686516, 0.03962229564785957, 0.0160366203635931, 0.019755231216549873, 0.008052533492445946, 0.007270578294992447, 0.015361176803708076, 0.03624069318175316, 0.15094970166683197, 0.0, 0.0], [0.4556232988834381, 0.013557068072259426, 0.010556470602750778, 0.015361557714641094, 0.010231326334178448, 0.015798550099134445, 0.007439888548105955, 0.004000959452241659, 0.008997045457363129, 0.0029127979651093483, 0.0014515251386910677, 0.0032366844825446606, 0.015307901427149773, 0.006243131589144468, 0.03266085311770439, 0.06876999884843826, 0.009890020824968815, 0.021192517131567, 0.0032297344878315926, 0.06947717070579529, 0.016841290518641472, 0.04147043451666832, 0.0759272575378418, 0.08982247114181519, 0.0], [0.01992184855043888, 0.0025683261919766665, 0.0728687196969986, 0.02790754847228527, 0.5867248773574829, 0.018355704843997955, 0.03444639593362808, 0.00027877255342900753, 0.0017758950125426054, 0.002268975367769599, 8.754574992053676e-06, 4.8791818699100986e-05, 0.0013232752680778503, 8.513267675880343e-05, 0.01157346460968256, 0.0034236612264066935, 0.07898532599210739, 0.014176384545862675, 0.09773410856723785, 0.0014748600078746676, 0.003406053874641657, 2.167669117625337e-05, 0.0009949359809979796, 0.0004637344682123512, 0.01916278712451458]]], \"attentionHeadNames\": [\"L11H10\", \"L11H2\", \"L10H7\"], \"tokens\": [\"<|endoftext|>\", \"After\", \" John\", \",\", \" Mary\", \" and\", \" Jim\", \" went\", \" to\", \" the\", \" grocery\", \" store\", \" and\", \" return\", \",\", \" \", \" Jim\", \" and\", \" John\", \" gave\", \" a\", \" bottle\", \" of\", \" milk\", \" to\"]}\n",
       "    )\n",
       "    </script></div>"
      ],
      "text/plain": [
       "<IPython.core.display.HTML object>"
      ]
     },
     "execution_count": 107,
     "metadata": {},
     "output_type": "execute_result"
    }
   ],
   "source": [
    "top_k = 3\n",
    "\n",
    "top_positive_logit_attr_heads = torch.topk(\n",
    "    per_head_logit_diffs.flatten(), k=top_k\n",
    ").indices\n",
    "\n",
    "positive_html = visualize_attention_patterns(\n",
    "    top_positive_logit_attr_heads,\n",
    "    cache,\n",
    "    tokens[0],\n",
    "    f\"Top {top_k} Positive Logit Attribution Heads\",\n",
    ")\n",
    "\n",
    "top_negative_logit_attr_heads = torch.topk(\n",
    "    -per_head_logit_diffs.flatten(), k=top_k\n",
    ").indices\n",
    "\n",
    "negative_html = visualize_attention_patterns(\n",
    "    top_negative_logit_attr_heads,\n",
    "    cache,\n",
    "    tokens[0],\n",
    "    title=f\"Top {top_k} Negative Logit Attribution Heads\",\n",
    ")\n",
    "\n",
    "HTML(positive_html + negative_html)"
   ]
  },
  {
   "cell_type": "code",
   "execution_count": 133,
   "metadata": {},
   "outputs": [
    {
     "name": "stdout",
     "output_type": "stream",
     "text": [
      "Corrupted Average Logit Diff: 0.14\n",
      "Clean Average Logit Diff: 2.23\n"
     ]
    }
   ],
   "source": [
    "corrupted_prompts = []\n",
    "for i in range(0, len(prompts), 3):\n",
    "    # Add second prompt in the trio first\n",
    "    corrupted_prompts.append(prompts[(i + 1) % len(prompts)])\n",
    "    # Then add the first prompt\n",
    "    corrupted_prompts.append(prompts[i % len(prompts)])\n",
    "    # Finally, add the third prompt, wrapping around the list safely\n",
    "    corrupted_prompts.append(prompts[(i + 2) % len(prompts)])\n",
    "    \n",
    "\n",
    "# Proceed with tokenization and model running as before\n",
    "corrupted_tokens = model.to_tokens(corrupted_prompts, prepend_bos=True)\n",
    "corrupted_logits, corrupted_cache = model.run_with_cache(corrupted_tokens, return_type=\"logits\")\n",
    "corrupted_average_logit_diff = logits_to_ave_logit_diff(corrupted_logits, answer_tokens)\n",
    "print(\"Corrupted Average Logit Diff:\", round(corrupted_average_logit_diff.item(), 2))\n",
    "print(\"Clean Average Logit Diff:\", round(original_average_logit_diff.item(), 2))"
   ]
  },
  {
   "cell_type": "code",
   "execution_count": 134,
   "metadata": {},
   "outputs": [
    {
     "data": {
      "text/plain": [
       "['<|endoftext|>After John, Mary and Jim went to the grocery store and return,  Mary and Jim gave a bottle of milk to',\n",
       " '<|endoftext|>After John, Mary and Jim went to the grocery store and return,  Jim and John gave a bottle of milk to',\n",
       " '<|endoftext|>After John, Mary and Jim went to the grocery store and return,  John and Mary gave a bottle of milk to',\n",
       " '<|endoftext|>During the picnic, Billy, Jack, and Ted shared a blanket.  Billy and Ted passed a frisbee to',\n",
       " '<|endoftext|>During the picnic, Billy, Jack, and Ted shared a blanket.  Ted and Jack passed a frisbee to',\n",
       " '<|endoftext|>During the picnic, Billy, Jack, and Ted shared a blanket.  Jack and Billy passed a frisbee to',\n",
       " '<|endoftext|>After Sarah, Tom, and Alex went to the bookstore in the downtown,  Sara and Alex bought a new novel for',\n",
       " '<|endoftext|>After Sarah, Tom, and Alex went to the bookstore in the downtown,  Alex and Tom bought a new novel for',\n",
       " '<|endoftext|>After Sarah, Tom, and Alex went to the bookstore in the downtown,  Tom and Sara bought a new novel for',\n",
       " '<|endoftext|>Anna, Liam, and Noah decided to buy a cake for someone.  Anna and Noah chose a cake to give to',\n",
       " '<|endoftext|>Anna, Liam, and Noah decided to buy a cake for someone.  Noah and Liam chose a cake to give to',\n",
       " '<|endoftext|>Anna, Liam, and Noah decided to buy a cake for someone.  Liam and Anna chose a cake to give to']"
      ]
     },
     "execution_count": 134,
     "metadata": {},
     "output_type": "execute_result"
    }
   ],
   "source": [
    "model.to_string(corrupted_tokens)"
   ]
  },
  {
   "cell_type": "code",
   "execution_count": 135,
   "metadata": {},
   "outputs": [],
   "source": [
    "def patch_residual_component(\n",
    "    corrupted_residual_component: Float[torch.Tensor, \"batch pos d_model\"],\n",
    "    hook,\n",
    "    pos,\n",
    "    clean_cache,\n",
    "):\n",
    "    corrupted_residual_component[:, pos, :] = clean_cache[hook.name][:, pos, :]\n",
    "    return corrupted_residual_component\n",
    "\n",
    "\n",
    "def normalize_patched_logit_diff(patched_logit_diff):\n",
    "    # Subtract corrupted logit diff to measure the improvement, divide by the total improvement from clean to corrupted to normalise\n",
    "    # 0 means zero change, negative means actively made worse, 1 means totally recovered clean performance, >1 means actively *improved* on clean performance\n",
    "    return (patched_logit_diff - corrupted_average_logit_diff) / (\n",
    "        original_average_logit_diff - corrupted_average_logit_diff\n",
    "    )\n",
    "\n",
    "\n",
    "patched_residual_stream_diff = torch.zeros(\n",
    "    model.cfg.n_layers, tokens.shape[1], device=device, dtype=torch.float32\n",
    ")\n",
    "for layer in range(model.cfg.n_layers):\n",
    "    for position in range(tokens.shape[1]):\n",
    "        hook_fn = partial(patch_residual_component, pos=position, clean_cache=cache)\n",
    "        patched_logits = model.run_with_hooks(\n",
    "            corrupted_tokens,\n",
    "            fwd_hooks=[(utils.get_act_name(\"resid_pre\", layer), hook_fn)],\n",
    "            return_type=\"logits\",\n",
    "        )\n",
    "        patched_logit_diff = logits_to_ave_logit_diff(patched_logits, answer_tokens)\n",
    "\n",
    "        patched_residual_stream_diff[layer, position] = normalize_patched_logit_diff(\n",
    "            patched_logit_diff\n",
    "        )"
   ]
  },
  {
   "cell_type": "code",
   "execution_count": 136,
   "metadata": {},
   "outputs": [
    {
     "data": {
      "application/vnd.plotly.v1+json": {
       "config": {
        "plotlyServerURL": "https://plot.ly"
       },
       "data": [
        {
         "coloraxis": "coloraxis",
         "hovertemplate": "Position: %{x}<br>Layer: %{y}<br>color: %{z}<extra></extra>",
         "name": "0",
         "type": "heatmap",
         "x": [
          "<|endoftext|>_0",
          "After_1",
          " John_2",
          ",_3",
          " Mary_4",
          " and_5",
          " Jim_6",
          " went_7",
          " to_8",
          " the_9",
          " grocery_10",
          " store_11",
          " and_12",
          " return_13",
          ",_14",
          " _15",
          " Jim_16",
          " and_17",
          " John_18",
          " gave_19",
          " a_20",
          " bottle_21",
          " of_22",
          " milk_23",
          " to_24"
         ],
         "xaxis": "x",
         "yaxis": "y",
         "z": [
          [
           0,
           0,
           0,
           0,
           0,
           0,
           0,
           0,
           0,
           0,
           0,
           0,
           0,
           0,
           0,
           0,
           1.0507057905197144,
           -0.3672848343849182,
           -0.018772758543491364,
           -0.014716530218720436,
           0,
           0,
           0,
           0,
           0
          ],
          [
           0,
           0,
           0,
           0,
           0,
           0,
           0,
           0,
           0,
           0,
           0,
           0,
           0,
           0,
           0,
           0,
           1.032220482826233,
           -0.37286651134490967,
           0.009338384494185448,
           -0.005928853061050177,
           -0.0006009693024680018,
           0.0004322501190472394,
           -0.00018977338913828135,
           -0.0015602384228259325,
           0.00026216014521196485
          ],
          [
           0,
           0,
           0,
           0,
           0,
           0,
           0,
           0,
           0,
           0,
           0,
           0,
           0,
           0,
           0,
           0,
           1.0495895147323608,
           -0.3658182621002197,
           -0.006135611329227686,
           -0.00920785404741764,
           -0.0008099692058749497,
           0.0007157357758842409,
           0.000043907541112275794,
           -0.0015750884776934981,
           -0.0003518671728670597
          ],
          [
           0,
           0,
           0,
           0,
           0,
           0,
           0,
           0,
           0,
           0,
           0,
           0,
           0,
           0,
           0,
           0,
           1.0641448497772217,
           -0.3664410412311554,
           -0.005218186415731907,
           0.0001948780845850706,
           -0.0010262869764119387,
           0.00006519020098494366,
           0.000546481111086905,
           -0.000927362940274179,
           -0.0027758132200688124
          ],
          [
           0,
           0,
           0,
           0,
           0,
           0,
           0,
           0,
           0,
           0,
           0,
           0,
           0,
           0,
           0,
           0,
           1.1653976440429688,
           -0.4235265851020813,
           -0.058267634361982346,
           0.002738574054092169,
           -0.001111810328438878,
           -0.00039755957550369203,
           0.0007619992829859257,
           0.0005663572810590267,
           -0.0031373901292681694
          ],
          [
           0,
           0,
           0,
           0,
           0,
           0,
           0,
           0,
           0,
           0,
           0,
           0,
           0,
           0,
           0,
           0,
           1.191404938697815,
           -0.584420382976532,
           -0.09939167648553848,
           0.015786267817020416,
           -0.00036641021142713726,
           -0.000448585138656199,
           0.0006537440349347889,
           -0.0013486112002283335,
           -0.004999733995646238
          ],
          [
           0,
           0,
           0,
           0,
           0,
           0,
           0,
           0,
           0,
           0,
           0,
           0,
           0,
           0,
           0,
           0,
           1.2341521978378296,
           -0.37165552377700806,
           -0.17036877572536469,
           0.0335673950612545,
           -0.0006764331483282149,
           -0.00022933301806915551,
           0.0005393630708567798,
           -0.0002735047019086778,
           -0.002130101202055812
          ],
          [
           0,
           0,
           0,
           0,
           0,
           0,
           0,
           0,
           0,
           0,
           0,
           0,
           0,
           0,
           0,
           0,
           1.1923283338546753,
           -0.34579232335090637,
           -0.09835498780012131,
           0.04008682072162628,
           -0.0029111341573297977,
           -0.001280029769986868,
           -0.0007003074279054999,
           -0.0014308147365227342,
           0.014799125492572784
          ],
          [
           0,
           0,
           0,
           0,
           0,
           0,
           0,
           0,
           0,
           0,
           0,
           0,
           0,
           0,
           0,
           0,
           0.7558143138885498,
           -0.3539123237133026,
           -0.03362347558140755,
           0.03730563819408417,
           -0.0006344389985315502,
           0.00039402555557899177,
           0.012553266249597073,
           0.010504454374313354,
           0.48649829626083374
          ],
          [
           0,
           0,
           0,
           0,
           0,
           0,
           0,
           0,
           0,
           0,
           0,
           0,
           0,
           0,
           0,
           0,
           0.35346245765686035,
           -0.3802545666694641,
           -0.0488915890455246,
           0.057885002344846725,
           -0.0010757846757769585,
           0.0012758102966472507,
           0.014849879778921604,
           0.016223128885030746,
           1.0352190732955933
          ],
          [
           0,
           0,
           0,
           0,
           0,
           0,
           0,
           0,
           0,
           0,
           0,
           0,
           0,
           0,
           0,
           0,
           0.1045510396361351,
           -0.31877973675727844,
           -0.0236126109957695,
           0.015049213543534279,
           -0.00011407393321860582,
           -0.00008391695155296475,
           0.0068723298609256744,
           0.005884652957320213,
           1.204937219619751
          ],
          [
           0,
           0,
           0,
           0,
           0,
           0,
           0,
           0,
           0,
           0,
           0,
           0,
           0,
           0,
           0,
           0,
           -0.008870911784470081,
           -0.15652011334896088,
           -0.03584187850356102,
           -0.00777452252805233,
           -0.0017480769893154502,
           -0.00021638920588884503,
           0.006351207848638296,
           0.0044748494401574135,
           1.1916818618774414
          ]
         ]
        }
       ],
       "layout": {
        "coloraxis": {
         "cmid": 0,
         "colorscale": [
          [
           0,
           "rgb(103,0,31)"
          ],
          [
           0.1,
           "rgb(178,24,43)"
          ],
          [
           0.2,
           "rgb(214,96,77)"
          ],
          [
           0.3,
           "rgb(244,165,130)"
          ],
          [
           0.4,
           "rgb(253,219,199)"
          ],
          [
           0.5,
           "rgb(247,247,247)"
          ],
          [
           0.6,
           "rgb(209,229,240)"
          ],
          [
           0.7,
           "rgb(146,197,222)"
          ],
          [
           0.8,
           "rgb(67,147,195)"
          ],
          [
           0.9,
           "rgb(33,102,172)"
          ],
          [
           1,
           "rgb(5,48,97)"
          ]
         ]
        },
        "template": {
         "data": {
          "bar": [
           {
            "error_x": {
             "color": "#2a3f5f"
            },
            "error_y": {
             "color": "#2a3f5f"
            },
            "marker": {
             "line": {
              "color": "#E5ECF6",
              "width": 0.5
             },
             "pattern": {
              "fillmode": "overlay",
              "size": 10,
              "solidity": 0.2
             }
            },
            "type": "bar"
           }
          ],
          "barpolar": [
           {
            "marker": {
             "line": {
              "color": "#E5ECF6",
              "width": 0.5
             },
             "pattern": {
              "fillmode": "overlay",
              "size": 10,
              "solidity": 0.2
             }
            },
            "type": "barpolar"
           }
          ],
          "carpet": [
           {
            "aaxis": {
             "endlinecolor": "#2a3f5f",
             "gridcolor": "white",
             "linecolor": "white",
             "minorgridcolor": "white",
             "startlinecolor": "#2a3f5f"
            },
            "baxis": {
             "endlinecolor": "#2a3f5f",
             "gridcolor": "white",
             "linecolor": "white",
             "minorgridcolor": "white",
             "startlinecolor": "#2a3f5f"
            },
            "type": "carpet"
           }
          ],
          "choropleth": [
           {
            "colorbar": {
             "outlinewidth": 0,
             "ticks": ""
            },
            "type": "choropleth"
           }
          ],
          "contour": [
           {
            "colorbar": {
             "outlinewidth": 0,
             "ticks": ""
            },
            "colorscale": [
             [
              0,
              "#0d0887"
             ],
             [
              0.1111111111111111,
              "#46039f"
             ],
             [
              0.2222222222222222,
              "#7201a8"
             ],
             [
              0.3333333333333333,
              "#9c179e"
             ],
             [
              0.4444444444444444,
              "#bd3786"
             ],
             [
              0.5555555555555556,
              "#d8576b"
             ],
             [
              0.6666666666666666,
              "#ed7953"
             ],
             [
              0.7777777777777778,
              "#fb9f3a"
             ],
             [
              0.8888888888888888,
              "#fdca26"
             ],
             [
              1,
              "#f0f921"
             ]
            ],
            "type": "contour"
           }
          ],
          "contourcarpet": [
           {
            "colorbar": {
             "outlinewidth": 0,
             "ticks": ""
            },
            "type": "contourcarpet"
           }
          ],
          "heatmap": [
           {
            "colorbar": {
             "outlinewidth": 0,
             "ticks": ""
            },
            "colorscale": [
             [
              0,
              "#0d0887"
             ],
             [
              0.1111111111111111,
              "#46039f"
             ],
             [
              0.2222222222222222,
              "#7201a8"
             ],
             [
              0.3333333333333333,
              "#9c179e"
             ],
             [
              0.4444444444444444,
              "#bd3786"
             ],
             [
              0.5555555555555556,
              "#d8576b"
             ],
             [
              0.6666666666666666,
              "#ed7953"
             ],
             [
              0.7777777777777778,
              "#fb9f3a"
             ],
             [
              0.8888888888888888,
              "#fdca26"
             ],
             [
              1,
              "#f0f921"
             ]
            ],
            "type": "heatmap"
           }
          ],
          "heatmapgl": [
           {
            "colorbar": {
             "outlinewidth": 0,
             "ticks": ""
            },
            "colorscale": [
             [
              0,
              "#0d0887"
             ],
             [
              0.1111111111111111,
              "#46039f"
             ],
             [
              0.2222222222222222,
              "#7201a8"
             ],
             [
              0.3333333333333333,
              "#9c179e"
             ],
             [
              0.4444444444444444,
              "#bd3786"
             ],
             [
              0.5555555555555556,
              "#d8576b"
             ],
             [
              0.6666666666666666,
              "#ed7953"
             ],
             [
              0.7777777777777778,
              "#fb9f3a"
             ],
             [
              0.8888888888888888,
              "#fdca26"
             ],
             [
              1,
              "#f0f921"
             ]
            ],
            "type": "heatmapgl"
           }
          ],
          "histogram": [
           {
            "marker": {
             "pattern": {
              "fillmode": "overlay",
              "size": 10,
              "solidity": 0.2
             }
            },
            "type": "histogram"
           }
          ],
          "histogram2d": [
           {
            "colorbar": {
             "outlinewidth": 0,
             "ticks": ""
            },
            "colorscale": [
             [
              0,
              "#0d0887"
             ],
             [
              0.1111111111111111,
              "#46039f"
             ],
             [
              0.2222222222222222,
              "#7201a8"
             ],
             [
              0.3333333333333333,
              "#9c179e"
             ],
             [
              0.4444444444444444,
              "#bd3786"
             ],
             [
              0.5555555555555556,
              "#d8576b"
             ],
             [
              0.6666666666666666,
              "#ed7953"
             ],
             [
              0.7777777777777778,
              "#fb9f3a"
             ],
             [
              0.8888888888888888,
              "#fdca26"
             ],
             [
              1,
              "#f0f921"
             ]
            ],
            "type": "histogram2d"
           }
          ],
          "histogram2dcontour": [
           {
            "colorbar": {
             "outlinewidth": 0,
             "ticks": ""
            },
            "colorscale": [
             [
              0,
              "#0d0887"
             ],
             [
              0.1111111111111111,
              "#46039f"
             ],
             [
              0.2222222222222222,
              "#7201a8"
             ],
             [
              0.3333333333333333,
              "#9c179e"
             ],
             [
              0.4444444444444444,
              "#bd3786"
             ],
             [
              0.5555555555555556,
              "#d8576b"
             ],
             [
              0.6666666666666666,
              "#ed7953"
             ],
             [
              0.7777777777777778,
              "#fb9f3a"
             ],
             [
              0.8888888888888888,
              "#fdca26"
             ],
             [
              1,
              "#f0f921"
             ]
            ],
            "type": "histogram2dcontour"
           }
          ],
          "mesh3d": [
           {
            "colorbar": {
             "outlinewidth": 0,
             "ticks": ""
            },
            "type": "mesh3d"
           }
          ],
          "parcoords": [
           {
            "line": {
             "colorbar": {
              "outlinewidth": 0,
              "ticks": ""
             }
            },
            "type": "parcoords"
           }
          ],
          "pie": [
           {
            "automargin": true,
            "type": "pie"
           }
          ],
          "scatter": [
           {
            "fillpattern": {
             "fillmode": "overlay",
             "size": 10,
             "solidity": 0.2
            },
            "type": "scatter"
           }
          ],
          "scatter3d": [
           {
            "line": {
             "colorbar": {
              "outlinewidth": 0,
              "ticks": ""
             }
            },
            "marker": {
             "colorbar": {
              "outlinewidth": 0,
              "ticks": ""
             }
            },
            "type": "scatter3d"
           }
          ],
          "scattercarpet": [
           {
            "marker": {
             "colorbar": {
              "outlinewidth": 0,
              "ticks": ""
             }
            },
            "type": "scattercarpet"
           }
          ],
          "scattergeo": [
           {
            "marker": {
             "colorbar": {
              "outlinewidth": 0,
              "ticks": ""
             }
            },
            "type": "scattergeo"
           }
          ],
          "scattergl": [
           {
            "marker": {
             "colorbar": {
              "outlinewidth": 0,
              "ticks": ""
             }
            },
            "type": "scattergl"
           }
          ],
          "scattermapbox": [
           {
            "marker": {
             "colorbar": {
              "outlinewidth": 0,
              "ticks": ""
             }
            },
            "type": "scattermapbox"
           }
          ],
          "scatterpolar": [
           {
            "marker": {
             "colorbar": {
              "outlinewidth": 0,
              "ticks": ""
             }
            },
            "type": "scatterpolar"
           }
          ],
          "scatterpolargl": [
           {
            "marker": {
             "colorbar": {
              "outlinewidth": 0,
              "ticks": ""
             }
            },
            "type": "scatterpolargl"
           }
          ],
          "scatterternary": [
           {
            "marker": {
             "colorbar": {
              "outlinewidth": 0,
              "ticks": ""
             }
            },
            "type": "scatterternary"
           }
          ],
          "surface": [
           {
            "colorbar": {
             "outlinewidth": 0,
             "ticks": ""
            },
            "colorscale": [
             [
              0,
              "#0d0887"
             ],
             [
              0.1111111111111111,
              "#46039f"
             ],
             [
              0.2222222222222222,
              "#7201a8"
             ],
             [
              0.3333333333333333,
              "#9c179e"
             ],
             [
              0.4444444444444444,
              "#bd3786"
             ],
             [
              0.5555555555555556,
              "#d8576b"
             ],
             [
              0.6666666666666666,
              "#ed7953"
             ],
             [
              0.7777777777777778,
              "#fb9f3a"
             ],
             [
              0.8888888888888888,
              "#fdca26"
             ],
             [
              1,
              "#f0f921"
             ]
            ],
            "type": "surface"
           }
          ],
          "table": [
           {
            "cells": {
             "fill": {
              "color": "#EBF0F8"
             },
             "line": {
              "color": "white"
             }
            },
            "header": {
             "fill": {
              "color": "#C8D4E3"
             },
             "line": {
              "color": "white"
             }
            },
            "type": "table"
           }
          ]
         },
         "layout": {
          "annotationdefaults": {
           "arrowcolor": "#2a3f5f",
           "arrowhead": 0,
           "arrowwidth": 1
          },
          "autotypenumbers": "strict",
          "coloraxis": {
           "colorbar": {
            "outlinewidth": 0,
            "ticks": ""
           }
          },
          "colorscale": {
           "diverging": [
            [
             0,
             "#8e0152"
            ],
            [
             0.1,
             "#c51b7d"
            ],
            [
             0.2,
             "#de77ae"
            ],
            [
             0.3,
             "#f1b6da"
            ],
            [
             0.4,
             "#fde0ef"
            ],
            [
             0.5,
             "#f7f7f7"
            ],
            [
             0.6,
             "#e6f5d0"
            ],
            [
             0.7,
             "#b8e186"
            ],
            [
             0.8,
             "#7fbc41"
            ],
            [
             0.9,
             "#4d9221"
            ],
            [
             1,
             "#276419"
            ]
           ],
           "sequential": [
            [
             0,
             "#0d0887"
            ],
            [
             0.1111111111111111,
             "#46039f"
            ],
            [
             0.2222222222222222,
             "#7201a8"
            ],
            [
             0.3333333333333333,
             "#9c179e"
            ],
            [
             0.4444444444444444,
             "#bd3786"
            ],
            [
             0.5555555555555556,
             "#d8576b"
            ],
            [
             0.6666666666666666,
             "#ed7953"
            ],
            [
             0.7777777777777778,
             "#fb9f3a"
            ],
            [
             0.8888888888888888,
             "#fdca26"
            ],
            [
             1,
             "#f0f921"
            ]
           ],
           "sequentialminus": [
            [
             0,
             "#0d0887"
            ],
            [
             0.1111111111111111,
             "#46039f"
            ],
            [
             0.2222222222222222,
             "#7201a8"
            ],
            [
             0.3333333333333333,
             "#9c179e"
            ],
            [
             0.4444444444444444,
             "#bd3786"
            ],
            [
             0.5555555555555556,
             "#d8576b"
            ],
            [
             0.6666666666666666,
             "#ed7953"
            ],
            [
             0.7777777777777778,
             "#fb9f3a"
            ],
            [
             0.8888888888888888,
             "#fdca26"
            ],
            [
             1,
             "#f0f921"
            ]
           ]
          },
          "colorway": [
           "#636efa",
           "#EF553B",
           "#00cc96",
           "#ab63fa",
           "#FFA15A",
           "#19d3f3",
           "#FF6692",
           "#B6E880",
           "#FF97FF",
           "#FECB52"
          ],
          "font": {
           "color": "#2a3f5f"
          },
          "geo": {
           "bgcolor": "white",
           "lakecolor": "white",
           "landcolor": "#E5ECF6",
           "showlakes": true,
           "showland": true,
           "subunitcolor": "white"
          },
          "hoverlabel": {
           "align": "left"
          },
          "hovermode": "closest",
          "mapbox": {
           "style": "light"
          },
          "paper_bgcolor": "white",
          "plot_bgcolor": "#E5ECF6",
          "polar": {
           "angularaxis": {
            "gridcolor": "white",
            "linecolor": "white",
            "ticks": ""
           },
           "bgcolor": "#E5ECF6",
           "radialaxis": {
            "gridcolor": "white",
            "linecolor": "white",
            "ticks": ""
           }
          },
          "scene": {
           "xaxis": {
            "backgroundcolor": "#E5ECF6",
            "gridcolor": "white",
            "gridwidth": 2,
            "linecolor": "white",
            "showbackground": true,
            "ticks": "",
            "zerolinecolor": "white"
           },
           "yaxis": {
            "backgroundcolor": "#E5ECF6",
            "gridcolor": "white",
            "gridwidth": 2,
            "linecolor": "white",
            "showbackground": true,
            "ticks": "",
            "zerolinecolor": "white"
           },
           "zaxis": {
            "backgroundcolor": "#E5ECF6",
            "gridcolor": "white",
            "gridwidth": 2,
            "linecolor": "white",
            "showbackground": true,
            "ticks": "",
            "zerolinecolor": "white"
           }
          },
          "shapedefaults": {
           "line": {
            "color": "#2a3f5f"
           }
          },
          "ternary": {
           "aaxis": {
            "gridcolor": "white",
            "linecolor": "white",
            "ticks": ""
           },
           "baxis": {
            "gridcolor": "white",
            "linecolor": "white",
            "ticks": ""
           },
           "bgcolor": "#E5ECF6",
           "caxis": {
            "gridcolor": "white",
            "linecolor": "white",
            "ticks": ""
           }
          },
          "title": {
           "x": 0.05
          },
          "xaxis": {
           "automargin": true,
           "gridcolor": "white",
           "linecolor": "white",
           "ticks": "",
           "title": {
            "standoff": 15
           },
           "zerolinecolor": "white",
           "zerolinewidth": 2
          },
          "yaxis": {
           "automargin": true,
           "gridcolor": "white",
           "linecolor": "white",
           "ticks": "",
           "title": {
            "standoff": 15
           },
           "zerolinecolor": "white",
           "zerolinewidth": 2
          }
         }
        },
        "title": {
         "text": "Logit Difference From Patched Residual Stream"
        },
        "xaxis": {
         "anchor": "y",
         "constrain": "domain",
         "domain": [
          0,
          1
         ],
         "scaleanchor": "y",
         "title": {
          "text": "Position"
         }
        },
        "yaxis": {
         "anchor": "x",
         "autorange": "reversed",
         "constrain": "domain",
         "domain": [
          0,
          1
         ],
         "title": {
          "text": "Layer"
         }
        }
       }
      },
      "text/html": [
       "<div>                            <div id=\"110f8ec5-2b1e-41eb-95fe-cf2119c62250\" class=\"plotly-graph-div\" style=\"height:525px; width:100%;\"></div>            <script type=\"text/javascript\">                require([\"plotly\"], function(Plotly) {                    window.PLOTLYENV=window.PLOTLYENV || {};                                    if (document.getElementById(\"110f8ec5-2b1e-41eb-95fe-cf2119c62250\")) {                    Plotly.newPlot(                        \"110f8ec5-2b1e-41eb-95fe-cf2119c62250\",                        [{\"coloraxis\":\"coloraxis\",\"name\":\"0\",\"x\":[\"\\u003c|endoftext|\\u003e_0\",\"After_1\",\" John_2\",\",_3\",\" Mary_4\",\" and_5\",\" Jim_6\",\" went_7\",\" to_8\",\" the_9\",\" grocery_10\",\" store_11\",\" and_12\",\" return_13\",\",_14\",\" _15\",\" Jim_16\",\" and_17\",\" John_18\",\" gave_19\",\" a_20\",\" bottle_21\",\" of_22\",\" milk_23\",\" to_24\"],\"z\":[[0.0,0.0,0.0,0.0,0.0,0.0,0.0,0.0,0.0,0.0,0.0,0.0,0.0,0.0,0.0,0.0,1.0507057905197144,-0.3672848343849182,-0.018772758543491364,-0.014716530218720436,0.0,0.0,0.0,0.0,0.0],[0.0,0.0,0.0,0.0,0.0,0.0,0.0,0.0,0.0,0.0,0.0,0.0,0.0,0.0,0.0,0.0,1.032220482826233,-0.37286651134490967,0.009338384494185448,-0.005928853061050177,-0.0006009693024680018,0.0004322501190472394,-0.00018977338913828135,-0.0015602384228259325,0.00026216014521196485],[0.0,0.0,0.0,0.0,0.0,0.0,0.0,0.0,0.0,0.0,0.0,0.0,0.0,0.0,0.0,0.0,1.0495895147323608,-0.3658182621002197,-0.006135611329227686,-0.00920785404741764,-0.0008099692058749497,0.0007157357758842409,4.3907541112275794e-05,-0.0015750884776934981,-0.0003518671728670597],[0.0,0.0,0.0,0.0,0.0,0.0,0.0,0.0,0.0,0.0,0.0,0.0,0.0,0.0,0.0,0.0,1.0641448497772217,-0.3664410412311554,-0.005218186415731907,0.0001948780845850706,-0.0010262869764119387,6.519020098494366e-05,0.000546481111086905,-0.000927362940274179,-0.0027758132200688124],[0.0,0.0,0.0,0.0,0.0,0.0,0.0,0.0,0.0,0.0,0.0,0.0,0.0,0.0,0.0,0.0,1.1653976440429688,-0.4235265851020813,-0.058267634361982346,0.002738574054092169,-0.001111810328438878,-0.00039755957550369203,0.0007619992829859257,0.0005663572810590267,-0.0031373901292681694],[0.0,0.0,0.0,0.0,0.0,0.0,0.0,0.0,0.0,0.0,0.0,0.0,0.0,0.0,0.0,0.0,1.191404938697815,-0.584420382976532,-0.09939167648553848,0.015786267817020416,-0.00036641021142713726,-0.000448585138656199,0.0006537440349347889,-0.0013486112002283335,-0.004999733995646238],[0.0,0.0,0.0,0.0,0.0,0.0,0.0,0.0,0.0,0.0,0.0,0.0,0.0,0.0,0.0,0.0,1.2341521978378296,-0.37165552377700806,-0.17036877572536469,0.0335673950612545,-0.0006764331483282149,-0.00022933301806915551,0.0005393630708567798,-0.0002735047019086778,-0.002130101202055812],[0.0,0.0,0.0,0.0,0.0,0.0,0.0,0.0,0.0,0.0,0.0,0.0,0.0,0.0,0.0,0.0,1.1923283338546753,-0.34579232335090637,-0.09835498780012131,0.04008682072162628,-0.0029111341573297977,-0.001280029769986868,-0.0007003074279054999,-0.0014308147365227342,0.014799125492572784],[0.0,0.0,0.0,0.0,0.0,0.0,0.0,0.0,0.0,0.0,0.0,0.0,0.0,0.0,0.0,0.0,0.7558143138885498,-0.3539123237133026,-0.03362347558140755,0.03730563819408417,-0.0006344389985315502,0.00039402555557899177,0.012553266249597073,0.010504454374313354,0.48649829626083374],[0.0,0.0,0.0,0.0,0.0,0.0,0.0,0.0,0.0,0.0,0.0,0.0,0.0,0.0,0.0,0.0,0.35346245765686035,-0.3802545666694641,-0.0488915890455246,0.057885002344846725,-0.0010757846757769585,0.0012758102966472507,0.014849879778921604,0.016223128885030746,1.0352190732955933],[0.0,0.0,0.0,0.0,0.0,0.0,0.0,0.0,0.0,0.0,0.0,0.0,0.0,0.0,0.0,0.0,0.1045510396361351,-0.31877973675727844,-0.0236126109957695,0.015049213543534279,-0.00011407393321860582,-8.391695155296475e-05,0.0068723298609256744,0.005884652957320213,1.204937219619751],[0.0,0.0,0.0,0.0,0.0,0.0,0.0,0.0,0.0,0.0,0.0,0.0,0.0,0.0,0.0,0.0,-0.008870911784470081,-0.15652011334896088,-0.03584187850356102,-0.00777452252805233,-0.0017480769893154502,-0.00021638920588884503,0.006351207848638296,0.0044748494401574135,1.1916818618774414]],\"type\":\"heatmap\",\"xaxis\":\"x\",\"yaxis\":\"y\",\"hovertemplate\":\"Position: %{x}\\u003cbr\\u003eLayer: %{y}\\u003cbr\\u003ecolor: %{z}\\u003cextra\\u003e\\u003c\\u002fextra\\u003e\"}],                        {\"template\":{\"data\":{\"histogram2dcontour\":[{\"type\":\"histogram2dcontour\",\"colorbar\":{\"outlinewidth\":0,\"ticks\":\"\"},\"colorscale\":[[0.0,\"#0d0887\"],[0.1111111111111111,\"#46039f\"],[0.2222222222222222,\"#7201a8\"],[0.3333333333333333,\"#9c179e\"],[0.4444444444444444,\"#bd3786\"],[0.5555555555555556,\"#d8576b\"],[0.6666666666666666,\"#ed7953\"],[0.7777777777777778,\"#fb9f3a\"],[0.8888888888888888,\"#fdca26\"],[1.0,\"#f0f921\"]]}],\"choropleth\":[{\"type\":\"choropleth\",\"colorbar\":{\"outlinewidth\":0,\"ticks\":\"\"}}],\"histogram2d\":[{\"type\":\"histogram2d\",\"colorbar\":{\"outlinewidth\":0,\"ticks\":\"\"},\"colorscale\":[[0.0,\"#0d0887\"],[0.1111111111111111,\"#46039f\"],[0.2222222222222222,\"#7201a8\"],[0.3333333333333333,\"#9c179e\"],[0.4444444444444444,\"#bd3786\"],[0.5555555555555556,\"#d8576b\"],[0.6666666666666666,\"#ed7953\"],[0.7777777777777778,\"#fb9f3a\"],[0.8888888888888888,\"#fdca26\"],[1.0,\"#f0f921\"]]}],\"heatmap\":[{\"type\":\"heatmap\",\"colorbar\":{\"outlinewidth\":0,\"ticks\":\"\"},\"colorscale\":[[0.0,\"#0d0887\"],[0.1111111111111111,\"#46039f\"],[0.2222222222222222,\"#7201a8\"],[0.3333333333333333,\"#9c179e\"],[0.4444444444444444,\"#bd3786\"],[0.5555555555555556,\"#d8576b\"],[0.6666666666666666,\"#ed7953\"],[0.7777777777777778,\"#fb9f3a\"],[0.8888888888888888,\"#fdca26\"],[1.0,\"#f0f921\"]]}],\"heatmapgl\":[{\"type\":\"heatmapgl\",\"colorbar\":{\"outlinewidth\":0,\"ticks\":\"\"},\"colorscale\":[[0.0,\"#0d0887\"],[0.1111111111111111,\"#46039f\"],[0.2222222222222222,\"#7201a8\"],[0.3333333333333333,\"#9c179e\"],[0.4444444444444444,\"#bd3786\"],[0.5555555555555556,\"#d8576b\"],[0.6666666666666666,\"#ed7953\"],[0.7777777777777778,\"#fb9f3a\"],[0.8888888888888888,\"#fdca26\"],[1.0,\"#f0f921\"]]}],\"contourcarpet\":[{\"type\":\"contourcarpet\",\"colorbar\":{\"outlinewidth\":0,\"ticks\":\"\"}}],\"contour\":[{\"type\":\"contour\",\"colorbar\":{\"outlinewidth\":0,\"ticks\":\"\"},\"colorscale\":[[0.0,\"#0d0887\"],[0.1111111111111111,\"#46039f\"],[0.2222222222222222,\"#7201a8\"],[0.3333333333333333,\"#9c179e\"],[0.4444444444444444,\"#bd3786\"],[0.5555555555555556,\"#d8576b\"],[0.6666666666666666,\"#ed7953\"],[0.7777777777777778,\"#fb9f3a\"],[0.8888888888888888,\"#fdca26\"],[1.0,\"#f0f921\"]]}],\"surface\":[{\"type\":\"surface\",\"colorbar\":{\"outlinewidth\":0,\"ticks\":\"\"},\"colorscale\":[[0.0,\"#0d0887\"],[0.1111111111111111,\"#46039f\"],[0.2222222222222222,\"#7201a8\"],[0.3333333333333333,\"#9c179e\"],[0.4444444444444444,\"#bd3786\"],[0.5555555555555556,\"#d8576b\"],[0.6666666666666666,\"#ed7953\"],[0.7777777777777778,\"#fb9f3a\"],[0.8888888888888888,\"#fdca26\"],[1.0,\"#f0f921\"]]}],\"mesh3d\":[{\"type\":\"mesh3d\",\"colorbar\":{\"outlinewidth\":0,\"ticks\":\"\"}}],\"scatter\":[{\"fillpattern\":{\"fillmode\":\"overlay\",\"size\":10,\"solidity\":0.2},\"type\":\"scatter\"}],\"parcoords\":[{\"type\":\"parcoords\",\"line\":{\"colorbar\":{\"outlinewidth\":0,\"ticks\":\"\"}}}],\"scatterpolargl\":[{\"type\":\"scatterpolargl\",\"marker\":{\"colorbar\":{\"outlinewidth\":0,\"ticks\":\"\"}}}],\"bar\":[{\"error_x\":{\"color\":\"#2a3f5f\"},\"error_y\":{\"color\":\"#2a3f5f\"},\"marker\":{\"line\":{\"color\":\"#E5ECF6\",\"width\":0.5},\"pattern\":{\"fillmode\":\"overlay\",\"size\":10,\"solidity\":0.2}},\"type\":\"bar\"}],\"scattergeo\":[{\"type\":\"scattergeo\",\"marker\":{\"colorbar\":{\"outlinewidth\":0,\"ticks\":\"\"}}}],\"scatterpolar\":[{\"type\":\"scatterpolar\",\"marker\":{\"colorbar\":{\"outlinewidth\":0,\"ticks\":\"\"}}}],\"histogram\":[{\"marker\":{\"pattern\":{\"fillmode\":\"overlay\",\"size\":10,\"solidity\":0.2}},\"type\":\"histogram\"}],\"scattergl\":[{\"type\":\"scattergl\",\"marker\":{\"colorbar\":{\"outlinewidth\":0,\"ticks\":\"\"}}}],\"scatter3d\":[{\"type\":\"scatter3d\",\"line\":{\"colorbar\":{\"outlinewidth\":0,\"ticks\":\"\"}},\"marker\":{\"colorbar\":{\"outlinewidth\":0,\"ticks\":\"\"}}}],\"scattermapbox\":[{\"type\":\"scattermapbox\",\"marker\":{\"colorbar\":{\"outlinewidth\":0,\"ticks\":\"\"}}}],\"scatterternary\":[{\"type\":\"scatterternary\",\"marker\":{\"colorbar\":{\"outlinewidth\":0,\"ticks\":\"\"}}}],\"scattercarpet\":[{\"type\":\"scattercarpet\",\"marker\":{\"colorbar\":{\"outlinewidth\":0,\"ticks\":\"\"}}}],\"carpet\":[{\"aaxis\":{\"endlinecolor\":\"#2a3f5f\",\"gridcolor\":\"white\",\"linecolor\":\"white\",\"minorgridcolor\":\"white\",\"startlinecolor\":\"#2a3f5f\"},\"baxis\":{\"endlinecolor\":\"#2a3f5f\",\"gridcolor\":\"white\",\"linecolor\":\"white\",\"minorgridcolor\":\"white\",\"startlinecolor\":\"#2a3f5f\"},\"type\":\"carpet\"}],\"table\":[{\"cells\":{\"fill\":{\"color\":\"#EBF0F8\"},\"line\":{\"color\":\"white\"}},\"header\":{\"fill\":{\"color\":\"#C8D4E3\"},\"line\":{\"color\":\"white\"}},\"type\":\"table\"}],\"barpolar\":[{\"marker\":{\"line\":{\"color\":\"#E5ECF6\",\"width\":0.5},\"pattern\":{\"fillmode\":\"overlay\",\"size\":10,\"solidity\":0.2}},\"type\":\"barpolar\"}],\"pie\":[{\"automargin\":true,\"type\":\"pie\"}]},\"layout\":{\"autotypenumbers\":\"strict\",\"colorway\":[\"#636efa\",\"#EF553B\",\"#00cc96\",\"#ab63fa\",\"#FFA15A\",\"#19d3f3\",\"#FF6692\",\"#B6E880\",\"#FF97FF\",\"#FECB52\"],\"font\":{\"color\":\"#2a3f5f\"},\"hovermode\":\"closest\",\"hoverlabel\":{\"align\":\"left\"},\"paper_bgcolor\":\"white\",\"plot_bgcolor\":\"#E5ECF6\",\"polar\":{\"bgcolor\":\"#E5ECF6\",\"angularaxis\":{\"gridcolor\":\"white\",\"linecolor\":\"white\",\"ticks\":\"\"},\"radialaxis\":{\"gridcolor\":\"white\",\"linecolor\":\"white\",\"ticks\":\"\"}},\"ternary\":{\"bgcolor\":\"#E5ECF6\",\"aaxis\":{\"gridcolor\":\"white\",\"linecolor\":\"white\",\"ticks\":\"\"},\"baxis\":{\"gridcolor\":\"white\",\"linecolor\":\"white\",\"ticks\":\"\"},\"caxis\":{\"gridcolor\":\"white\",\"linecolor\":\"white\",\"ticks\":\"\"}},\"coloraxis\":{\"colorbar\":{\"outlinewidth\":0,\"ticks\":\"\"}},\"colorscale\":{\"sequential\":[[0.0,\"#0d0887\"],[0.1111111111111111,\"#46039f\"],[0.2222222222222222,\"#7201a8\"],[0.3333333333333333,\"#9c179e\"],[0.4444444444444444,\"#bd3786\"],[0.5555555555555556,\"#d8576b\"],[0.6666666666666666,\"#ed7953\"],[0.7777777777777778,\"#fb9f3a\"],[0.8888888888888888,\"#fdca26\"],[1.0,\"#f0f921\"]],\"sequentialminus\":[[0.0,\"#0d0887\"],[0.1111111111111111,\"#46039f\"],[0.2222222222222222,\"#7201a8\"],[0.3333333333333333,\"#9c179e\"],[0.4444444444444444,\"#bd3786\"],[0.5555555555555556,\"#d8576b\"],[0.6666666666666666,\"#ed7953\"],[0.7777777777777778,\"#fb9f3a\"],[0.8888888888888888,\"#fdca26\"],[1.0,\"#f0f921\"]],\"diverging\":[[0,\"#8e0152\"],[0.1,\"#c51b7d\"],[0.2,\"#de77ae\"],[0.3,\"#f1b6da\"],[0.4,\"#fde0ef\"],[0.5,\"#f7f7f7\"],[0.6,\"#e6f5d0\"],[0.7,\"#b8e186\"],[0.8,\"#7fbc41\"],[0.9,\"#4d9221\"],[1,\"#276419\"]]},\"xaxis\":{\"gridcolor\":\"white\",\"linecolor\":\"white\",\"ticks\":\"\",\"title\":{\"standoff\":15},\"zerolinecolor\":\"white\",\"automargin\":true,\"zerolinewidth\":2},\"yaxis\":{\"gridcolor\":\"white\",\"linecolor\":\"white\",\"ticks\":\"\",\"title\":{\"standoff\":15},\"zerolinecolor\":\"white\",\"automargin\":true,\"zerolinewidth\":2},\"scene\":{\"xaxis\":{\"backgroundcolor\":\"#E5ECF6\",\"gridcolor\":\"white\",\"linecolor\":\"white\",\"showbackground\":true,\"ticks\":\"\",\"zerolinecolor\":\"white\",\"gridwidth\":2},\"yaxis\":{\"backgroundcolor\":\"#E5ECF6\",\"gridcolor\":\"white\",\"linecolor\":\"white\",\"showbackground\":true,\"ticks\":\"\",\"zerolinecolor\":\"white\",\"gridwidth\":2},\"zaxis\":{\"backgroundcolor\":\"#E5ECF6\",\"gridcolor\":\"white\",\"linecolor\":\"white\",\"showbackground\":true,\"ticks\":\"\",\"zerolinecolor\":\"white\",\"gridwidth\":2}},\"shapedefaults\":{\"line\":{\"color\":\"#2a3f5f\"}},\"annotationdefaults\":{\"arrowcolor\":\"#2a3f5f\",\"arrowhead\":0,\"arrowwidth\":1},\"geo\":{\"bgcolor\":\"white\",\"landcolor\":\"#E5ECF6\",\"subunitcolor\":\"white\",\"showland\":true,\"showlakes\":true,\"lakecolor\":\"white\"},\"title\":{\"x\":0.05},\"mapbox\":{\"style\":\"light\"}}},\"xaxis\":{\"anchor\":\"y\",\"domain\":[0.0,1.0],\"scaleanchor\":\"y\",\"constrain\":\"domain\",\"title\":{\"text\":\"Position\"}},\"yaxis\":{\"anchor\":\"x\",\"domain\":[0.0,1.0],\"autorange\":\"reversed\",\"constrain\":\"domain\",\"title\":{\"text\":\"Layer\"}},\"coloraxis\":{\"colorscale\":[[0.0,\"rgb(103,0,31)\"],[0.1,\"rgb(178,24,43)\"],[0.2,\"rgb(214,96,77)\"],[0.3,\"rgb(244,165,130)\"],[0.4,\"rgb(253,219,199)\"],[0.5,\"rgb(247,247,247)\"],[0.6,\"rgb(209,229,240)\"],[0.7,\"rgb(146,197,222)\"],[0.8,\"rgb(67,147,195)\"],[0.9,\"rgb(33,102,172)\"],[1.0,\"rgb(5,48,97)\"]],\"cmid\":0.0},\"title\":{\"text\":\"Logit Difference From Patched Residual Stream\"}},                        {\"responsive\": true}                    ).then(function(){\n",
       "                            \n",
       "var gd = document.getElementById('110f8ec5-2b1e-41eb-95fe-cf2119c62250');\n",
       "var x = new MutationObserver(function (mutations, observer) {{\n",
       "        var display = window.getComputedStyle(gd).display;\n",
       "        if (!display || display === 'none') {{\n",
       "            console.log([gd, 'removed!']);\n",
       "            Plotly.purge(gd);\n",
       "            observer.disconnect();\n",
       "        }}\n",
       "}});\n",
       "\n",
       "// Listen for the removal of the full notebook cells\n",
       "var notebookContainer = gd.closest('#notebook-container');\n",
       "if (notebookContainer) {{\n",
       "    x.observe(notebookContainer, {childList: true});\n",
       "}}\n",
       "\n",
       "// Listen for the clearing of the current output cell\n",
       "var outputEl = gd.closest('.output');\n",
       "if (outputEl) {{\n",
       "    x.observe(outputEl, {childList: true});\n",
       "}}\n",
       "\n",
       "                        })                };                });            </script>        </div>"
      ]
     },
     "metadata": {},
     "output_type": "display_data"
    }
   ],
   "source": [
    "prompt_position_labels = [\n",
    "    f\"{tok}_{i}\" for i, tok in enumerate(model.to_str_tokens(tokens[0]))\n",
    "]\n",
    "imshow(\n",
    "    patched_residual_stream_diff,\n",
    "    x=prompt_position_labels,\n",
    "    title=\"Logit Difference From Patched Residual Stream\",\n",
    "    labels={\"x\": \"Position\", \"y\": \"Layer\"},\n",
    ")"
   ]
  },
  {
   "cell_type": "markdown",
   "metadata": {},
   "source": [
    "The info of \"Jim\", \"and\", \"John\"(John is mild, but exists) is moved to the last token in the 7/8 layers. The difference is that \"and\" and a little bit of \"John\" is moved toward the last token too. Let's make a gif out of that. Alas, I don't have enough time... move that to later TAT"
   ]
  },
  {
   "cell_type": "code",
   "execution_count": 137,
   "metadata": {},
   "outputs": [],
   "source": [
    "patched_attn_diff = torch.zeros(\n",
    "    model.cfg.n_layers, tokens.shape[1], device=device, dtype=torch.float32\n",
    ")\n",
    "patched_mlp_diff = torch.zeros(\n",
    "    model.cfg.n_layers, tokens.shape[1], device=device, dtype=torch.float32\n",
    ")\n",
    "for layer in range(model.cfg.n_layers):\n",
    "    for position in range(tokens.shape[1]):\n",
    "        hook_fn = partial(patch_residual_component, pos=position, clean_cache=cache)\n",
    "        patched_attn_logits = model.run_with_hooks(\n",
    "            corrupted_tokens,\n",
    "            fwd_hooks=[(utils.get_act_name(\"attn_out\", layer), hook_fn)],\n",
    "            return_type=\"logits\",\n",
    "        )\n",
    "        patched_attn_logit_diff = logits_to_ave_logit_diff(\n",
    "            patched_attn_logits, answer_tokens\n",
    "        )\n",
    "        patched_mlp_logits = model.run_with_hooks(\n",
    "            corrupted_tokens,\n",
    "            fwd_hooks=[(utils.get_act_name(\"mlp_out\", layer), hook_fn)],\n",
    "            return_type=\"logits\",\n",
    "        )\n",
    "        patched_mlp_logit_diff = logits_to_ave_logit_diff(\n",
    "            patched_mlp_logits, answer_tokens\n",
    "        )\n",
    "\n",
    "        patched_attn_diff[layer, position] = normalize_patched_logit_diff(\n",
    "            patched_attn_logit_diff\n",
    "        )\n",
    "        patched_mlp_diff[layer, position] = normalize_patched_logit_diff(\n",
    "            patched_mlp_logit_diff\n",
    "        )"
   ]
  },
  {
   "cell_type": "code",
   "execution_count": 138,
   "metadata": {},
   "outputs": [
    {
     "data": {
      "application/vnd.plotly.v1+json": {
       "config": {
        "plotlyServerURL": "https://plot.ly"
       },
       "data": [
        {
         "coloraxis": "coloraxis",
         "hovertemplate": "Position: %{x}<br>Layer: %{y}<br>color: %{z}<extra></extra>",
         "name": "0",
         "type": "heatmap",
         "x": [
          "<|endoftext|>_0",
          "After_1",
          " John_2",
          ",_3",
          " Mary_4",
          " and_5",
          " Jim_6",
          " went_7",
          " to_8",
          " the_9",
          " grocery_10",
          " store_11",
          " and_12",
          " return_13",
          ",_14",
          " _15",
          " Jim_16",
          " and_17",
          " John_18",
          " gave_19",
          " a_20",
          " bottle_21",
          " of_22",
          " milk_23",
          " to_24"
         ],
         "xaxis": "x",
         "yaxis": "y",
         "z": [
          [
           0,
           0,
           0,
           0,
           0,
           0,
           0,
           0,
           0,
           0,
           0,
           0,
           0,
           0,
           0,
           0,
           0.10344748198986053,
           -0.1933029592037201,
           -0.029066763818264008,
           0.006680614314973354,
           -0.0006009693024680018,
           0.0004322501190472394,
           -0.00018977338913828135,
           -0.0015602384228259325,
           0.00026216014521196485
          ],
          [
           0,
           0,
           0,
           0,
           0,
           0,
           0,
           0,
           0,
           0,
           0,
           0,
           0,
           0,
           0,
           0,
           0.01266928855329752,
           -0.0031727231107652187,
           -0.0033988649956882,
           -0.0029240422882139683,
           -0.0006223304662853479,
           0.00015786723815836012,
           0.00003191328505636193,
           0.00036987997009418905,
           -0.0010637547820806503
          ],
          [
           0,
           0,
           0,
           0,
           0,
           0,
           0,
           0,
           0,
           0,
           0,
           0,
           0,
           0,
           0,
           0,
           0.001627449062652886,
           -0.0023207170888781548,
           -0.027459265664219856,
           0.01355484314262867,
           -0.0005909883766435087,
           -0.000396838499000296,
           0.00016708426119294018,
           -0.0005036802031099796,
           -0.0011002729879692197
          ],
          [
           0,
           0,
           0,
           0,
           0,
           0,
           0,
           0,
           0,
           0,
           0,
           0,
           0,
           0,
           0,
           0,
           0.13351620733737946,
           -0.039030637592077255,
           -0.07776766270399094,
           -0.04229261726140976,
           -0.000890502065885812,
           -0.0003180190979037434,
           -0.000110190077975858,
           0.0008128320914693177,
           -0.0002619316801428795
          ],
          [
           0,
           0,
           0,
           0,
           0,
           0,
           0,
           0,
           0,
           0,
           0,
           0,
           0,
           0,
           0,
           0,
           0.012613351456820965,
           -0.015543447807431221,
           0.020671891048550606,
           0.015346364118158817,
           0.0002009323361562565,
           -0.00020961389236617833,
           -0.00014240322343539447,
           -0.0014419378712773323,
           -0.0013624331913888454
          ],
          [
           0,
           0,
           0,
           0,
           0,
           0,
           0,
           0,
           0,
           0,
           0,
           0,
           0,
           0,
           0,
           0,
           0.3245820701122284,
           -0.05268588662147522,
           0.010698647238314152,
           -0.031106090173125267,
           0.0002466675650794059,
           -0.00011434523185016587,
           0.0004925283719785511,
           0.001283042598515749,
           0.0032651075161993504
          ],
          [
           0,
           0,
           0,
           0,
           0,
           0,
           0,
           0,
           0,
           0,
           0,
           0,
           0,
           0,
           0,
           0,
           0.03318924456834793,
           -0.010376247577369213,
           0.029903504997491837,
           0.0033904188312590122,
           -0.0017789193661883473,
           -0.001221586368046701,
           -0.0005686419317498803,
           -0.0007401383481919765,
           0.017787251621484756
          ],
          [
           0,
           0,
           0,
           0,
           0,
           0,
           0,
           0,
           0,
           0,
           0,
           0,
           0,
           0,
           0,
           0,
           0.01364482194185257,
           0.005039264913648367,
           0.008824309334158897,
           0.016044657677412033,
           0.0007981748203746974,
           0.0006823802832514048,
           0.012912293896079063,
           0.011220796965062618,
           0.47481971979141235
          ],
          [
           0,
           0,
           0,
           0,
           0,
           0,
           0,
           0,
           0,
           0,
           0,
           0,
           0,
           0,
           0,
           0,
           0.0074085658416152,
           0.002694823546335101,
           -0.0052567534148693085,
           0.005850683432072401,
           0.00038423738442361355,
           0.0012245206162333488,
           0.006847234442830086,
           0.010533854365348816,
           0.49365705251693726
          ],
          [
           0,
           0,
           0,
           0,
           0,
           0,
           0,
           0,
           0,
           0,
           0,
           0,
           0,
           0,
           0,
           0,
           -0.017758728936314583,
           -0.022523954510688782,
           -0.006641847547143698,
           0.0002982571313623339,
           -0.0008125607855618,
           -0.00008722965139895678,
           0.0017332269344478846,
           0.001962302951142192,
           0.2728588879108429
          ],
          [
           0,
           0,
           0,
           0,
           0,
           0,
           0,
           0,
           0,
           0,
           0,
           0,
           0,
           0,
           0,
           0,
           -0.02191179059445858,
           -0.005080609582364559,
           -0.004334531258791685,
           -0.0030979018192738295,
           -0.0012638875050470233,
           -0.00014103244757279754,
           0.003667921759188175,
           0.0021511625964194536,
           0.15016445517539978
          ],
          [
           0,
           0,
           0,
           0,
           0,
           0,
           0,
           0,
           0,
           0,
           0,
           0,
           0,
           0,
           0,
           0,
           0,
           0,
           0,
           0,
           0,
           0,
           0,
           0,
           -0.3242412209510803
          ]
         ]
        }
       ],
       "layout": {
        "coloraxis": {
         "cmid": 0,
         "colorscale": [
          [
           0,
           "rgb(103,0,31)"
          ],
          [
           0.1,
           "rgb(178,24,43)"
          ],
          [
           0.2,
           "rgb(214,96,77)"
          ],
          [
           0.3,
           "rgb(244,165,130)"
          ],
          [
           0.4,
           "rgb(253,219,199)"
          ],
          [
           0.5,
           "rgb(247,247,247)"
          ],
          [
           0.6,
           "rgb(209,229,240)"
          ],
          [
           0.7,
           "rgb(146,197,222)"
          ],
          [
           0.8,
           "rgb(67,147,195)"
          ],
          [
           0.9,
           "rgb(33,102,172)"
          ],
          [
           1,
           "rgb(5,48,97)"
          ]
         ]
        },
        "template": {
         "data": {
          "bar": [
           {
            "error_x": {
             "color": "#2a3f5f"
            },
            "error_y": {
             "color": "#2a3f5f"
            },
            "marker": {
             "line": {
              "color": "#E5ECF6",
              "width": 0.5
             },
             "pattern": {
              "fillmode": "overlay",
              "size": 10,
              "solidity": 0.2
             }
            },
            "type": "bar"
           }
          ],
          "barpolar": [
           {
            "marker": {
             "line": {
              "color": "#E5ECF6",
              "width": 0.5
             },
             "pattern": {
              "fillmode": "overlay",
              "size": 10,
              "solidity": 0.2
             }
            },
            "type": "barpolar"
           }
          ],
          "carpet": [
           {
            "aaxis": {
             "endlinecolor": "#2a3f5f",
             "gridcolor": "white",
             "linecolor": "white",
             "minorgridcolor": "white",
             "startlinecolor": "#2a3f5f"
            },
            "baxis": {
             "endlinecolor": "#2a3f5f",
             "gridcolor": "white",
             "linecolor": "white",
             "minorgridcolor": "white",
             "startlinecolor": "#2a3f5f"
            },
            "type": "carpet"
           }
          ],
          "choropleth": [
           {
            "colorbar": {
             "outlinewidth": 0,
             "ticks": ""
            },
            "type": "choropleth"
           }
          ],
          "contour": [
           {
            "colorbar": {
             "outlinewidth": 0,
             "ticks": ""
            },
            "colorscale": [
             [
              0,
              "#0d0887"
             ],
             [
              0.1111111111111111,
              "#46039f"
             ],
             [
              0.2222222222222222,
              "#7201a8"
             ],
             [
              0.3333333333333333,
              "#9c179e"
             ],
             [
              0.4444444444444444,
              "#bd3786"
             ],
             [
              0.5555555555555556,
              "#d8576b"
             ],
             [
              0.6666666666666666,
              "#ed7953"
             ],
             [
              0.7777777777777778,
              "#fb9f3a"
             ],
             [
              0.8888888888888888,
              "#fdca26"
             ],
             [
              1,
              "#f0f921"
             ]
            ],
            "type": "contour"
           }
          ],
          "contourcarpet": [
           {
            "colorbar": {
             "outlinewidth": 0,
             "ticks": ""
            },
            "type": "contourcarpet"
           }
          ],
          "heatmap": [
           {
            "colorbar": {
             "outlinewidth": 0,
             "ticks": ""
            },
            "colorscale": [
             [
              0,
              "#0d0887"
             ],
             [
              0.1111111111111111,
              "#46039f"
             ],
             [
              0.2222222222222222,
              "#7201a8"
             ],
             [
              0.3333333333333333,
              "#9c179e"
             ],
             [
              0.4444444444444444,
              "#bd3786"
             ],
             [
              0.5555555555555556,
              "#d8576b"
             ],
             [
              0.6666666666666666,
              "#ed7953"
             ],
             [
              0.7777777777777778,
              "#fb9f3a"
             ],
             [
              0.8888888888888888,
              "#fdca26"
             ],
             [
              1,
              "#f0f921"
             ]
            ],
            "type": "heatmap"
           }
          ],
          "heatmapgl": [
           {
            "colorbar": {
             "outlinewidth": 0,
             "ticks": ""
            },
            "colorscale": [
             [
              0,
              "#0d0887"
             ],
             [
              0.1111111111111111,
              "#46039f"
             ],
             [
              0.2222222222222222,
              "#7201a8"
             ],
             [
              0.3333333333333333,
              "#9c179e"
             ],
             [
              0.4444444444444444,
              "#bd3786"
             ],
             [
              0.5555555555555556,
              "#d8576b"
             ],
             [
              0.6666666666666666,
              "#ed7953"
             ],
             [
              0.7777777777777778,
              "#fb9f3a"
             ],
             [
              0.8888888888888888,
              "#fdca26"
             ],
             [
              1,
              "#f0f921"
             ]
            ],
            "type": "heatmapgl"
           }
          ],
          "histogram": [
           {
            "marker": {
             "pattern": {
              "fillmode": "overlay",
              "size": 10,
              "solidity": 0.2
             }
            },
            "type": "histogram"
           }
          ],
          "histogram2d": [
           {
            "colorbar": {
             "outlinewidth": 0,
             "ticks": ""
            },
            "colorscale": [
             [
              0,
              "#0d0887"
             ],
             [
              0.1111111111111111,
              "#46039f"
             ],
             [
              0.2222222222222222,
              "#7201a8"
             ],
             [
              0.3333333333333333,
              "#9c179e"
             ],
             [
              0.4444444444444444,
              "#bd3786"
             ],
             [
              0.5555555555555556,
              "#d8576b"
             ],
             [
              0.6666666666666666,
              "#ed7953"
             ],
             [
              0.7777777777777778,
              "#fb9f3a"
             ],
             [
              0.8888888888888888,
              "#fdca26"
             ],
             [
              1,
              "#f0f921"
             ]
            ],
            "type": "histogram2d"
           }
          ],
          "histogram2dcontour": [
           {
            "colorbar": {
             "outlinewidth": 0,
             "ticks": ""
            },
            "colorscale": [
             [
              0,
              "#0d0887"
             ],
             [
              0.1111111111111111,
              "#46039f"
             ],
             [
              0.2222222222222222,
              "#7201a8"
             ],
             [
              0.3333333333333333,
              "#9c179e"
             ],
             [
              0.4444444444444444,
              "#bd3786"
             ],
             [
              0.5555555555555556,
              "#d8576b"
             ],
             [
              0.6666666666666666,
              "#ed7953"
             ],
             [
              0.7777777777777778,
              "#fb9f3a"
             ],
             [
              0.8888888888888888,
              "#fdca26"
             ],
             [
              1,
              "#f0f921"
             ]
            ],
            "type": "histogram2dcontour"
           }
          ],
          "mesh3d": [
           {
            "colorbar": {
             "outlinewidth": 0,
             "ticks": ""
            },
            "type": "mesh3d"
           }
          ],
          "parcoords": [
           {
            "line": {
             "colorbar": {
              "outlinewidth": 0,
              "ticks": ""
             }
            },
            "type": "parcoords"
           }
          ],
          "pie": [
           {
            "automargin": true,
            "type": "pie"
           }
          ],
          "scatter": [
           {
            "fillpattern": {
             "fillmode": "overlay",
             "size": 10,
             "solidity": 0.2
            },
            "type": "scatter"
           }
          ],
          "scatter3d": [
           {
            "line": {
             "colorbar": {
              "outlinewidth": 0,
              "ticks": ""
             }
            },
            "marker": {
             "colorbar": {
              "outlinewidth": 0,
              "ticks": ""
             }
            },
            "type": "scatter3d"
           }
          ],
          "scattercarpet": [
           {
            "marker": {
             "colorbar": {
              "outlinewidth": 0,
              "ticks": ""
             }
            },
            "type": "scattercarpet"
           }
          ],
          "scattergeo": [
           {
            "marker": {
             "colorbar": {
              "outlinewidth": 0,
              "ticks": ""
             }
            },
            "type": "scattergeo"
           }
          ],
          "scattergl": [
           {
            "marker": {
             "colorbar": {
              "outlinewidth": 0,
              "ticks": ""
             }
            },
            "type": "scattergl"
           }
          ],
          "scattermapbox": [
           {
            "marker": {
             "colorbar": {
              "outlinewidth": 0,
              "ticks": ""
             }
            },
            "type": "scattermapbox"
           }
          ],
          "scatterpolar": [
           {
            "marker": {
             "colorbar": {
              "outlinewidth": 0,
              "ticks": ""
             }
            },
            "type": "scatterpolar"
           }
          ],
          "scatterpolargl": [
           {
            "marker": {
             "colorbar": {
              "outlinewidth": 0,
              "ticks": ""
             }
            },
            "type": "scatterpolargl"
           }
          ],
          "scatterternary": [
           {
            "marker": {
             "colorbar": {
              "outlinewidth": 0,
              "ticks": ""
             }
            },
            "type": "scatterternary"
           }
          ],
          "surface": [
           {
            "colorbar": {
             "outlinewidth": 0,
             "ticks": ""
            },
            "colorscale": [
             [
              0,
              "#0d0887"
             ],
             [
              0.1111111111111111,
              "#46039f"
             ],
             [
              0.2222222222222222,
              "#7201a8"
             ],
             [
              0.3333333333333333,
              "#9c179e"
             ],
             [
              0.4444444444444444,
              "#bd3786"
             ],
             [
              0.5555555555555556,
              "#d8576b"
             ],
             [
              0.6666666666666666,
              "#ed7953"
             ],
             [
              0.7777777777777778,
              "#fb9f3a"
             ],
             [
              0.8888888888888888,
              "#fdca26"
             ],
             [
              1,
              "#f0f921"
             ]
            ],
            "type": "surface"
           }
          ],
          "table": [
           {
            "cells": {
             "fill": {
              "color": "#EBF0F8"
             },
             "line": {
              "color": "white"
             }
            },
            "header": {
             "fill": {
              "color": "#C8D4E3"
             },
             "line": {
              "color": "white"
             }
            },
            "type": "table"
           }
          ]
         },
         "layout": {
          "annotationdefaults": {
           "arrowcolor": "#2a3f5f",
           "arrowhead": 0,
           "arrowwidth": 1
          },
          "autotypenumbers": "strict",
          "coloraxis": {
           "colorbar": {
            "outlinewidth": 0,
            "ticks": ""
           }
          },
          "colorscale": {
           "diverging": [
            [
             0,
             "#8e0152"
            ],
            [
             0.1,
             "#c51b7d"
            ],
            [
             0.2,
             "#de77ae"
            ],
            [
             0.3,
             "#f1b6da"
            ],
            [
             0.4,
             "#fde0ef"
            ],
            [
             0.5,
             "#f7f7f7"
            ],
            [
             0.6,
             "#e6f5d0"
            ],
            [
             0.7,
             "#b8e186"
            ],
            [
             0.8,
             "#7fbc41"
            ],
            [
             0.9,
             "#4d9221"
            ],
            [
             1,
             "#276419"
            ]
           ],
           "sequential": [
            [
             0,
             "#0d0887"
            ],
            [
             0.1111111111111111,
             "#46039f"
            ],
            [
             0.2222222222222222,
             "#7201a8"
            ],
            [
             0.3333333333333333,
             "#9c179e"
            ],
            [
             0.4444444444444444,
             "#bd3786"
            ],
            [
             0.5555555555555556,
             "#d8576b"
            ],
            [
             0.6666666666666666,
             "#ed7953"
            ],
            [
             0.7777777777777778,
             "#fb9f3a"
            ],
            [
             0.8888888888888888,
             "#fdca26"
            ],
            [
             1,
             "#f0f921"
            ]
           ],
           "sequentialminus": [
            [
             0,
             "#0d0887"
            ],
            [
             0.1111111111111111,
             "#46039f"
            ],
            [
             0.2222222222222222,
             "#7201a8"
            ],
            [
             0.3333333333333333,
             "#9c179e"
            ],
            [
             0.4444444444444444,
             "#bd3786"
            ],
            [
             0.5555555555555556,
             "#d8576b"
            ],
            [
             0.6666666666666666,
             "#ed7953"
            ],
            [
             0.7777777777777778,
             "#fb9f3a"
            ],
            [
             0.8888888888888888,
             "#fdca26"
            ],
            [
             1,
             "#f0f921"
            ]
           ]
          },
          "colorway": [
           "#636efa",
           "#EF553B",
           "#00cc96",
           "#ab63fa",
           "#FFA15A",
           "#19d3f3",
           "#FF6692",
           "#B6E880",
           "#FF97FF",
           "#FECB52"
          ],
          "font": {
           "color": "#2a3f5f"
          },
          "geo": {
           "bgcolor": "white",
           "lakecolor": "white",
           "landcolor": "#E5ECF6",
           "showlakes": true,
           "showland": true,
           "subunitcolor": "white"
          },
          "hoverlabel": {
           "align": "left"
          },
          "hovermode": "closest",
          "mapbox": {
           "style": "light"
          },
          "paper_bgcolor": "white",
          "plot_bgcolor": "#E5ECF6",
          "polar": {
           "angularaxis": {
            "gridcolor": "white",
            "linecolor": "white",
            "ticks": ""
           },
           "bgcolor": "#E5ECF6",
           "radialaxis": {
            "gridcolor": "white",
            "linecolor": "white",
            "ticks": ""
           }
          },
          "scene": {
           "xaxis": {
            "backgroundcolor": "#E5ECF6",
            "gridcolor": "white",
            "gridwidth": 2,
            "linecolor": "white",
            "showbackground": true,
            "ticks": "",
            "zerolinecolor": "white"
           },
           "yaxis": {
            "backgroundcolor": "#E5ECF6",
            "gridcolor": "white",
            "gridwidth": 2,
            "linecolor": "white",
            "showbackground": true,
            "ticks": "",
            "zerolinecolor": "white"
           },
           "zaxis": {
            "backgroundcolor": "#E5ECF6",
            "gridcolor": "white",
            "gridwidth": 2,
            "linecolor": "white",
            "showbackground": true,
            "ticks": "",
            "zerolinecolor": "white"
           }
          },
          "shapedefaults": {
           "line": {
            "color": "#2a3f5f"
           }
          },
          "ternary": {
           "aaxis": {
            "gridcolor": "white",
            "linecolor": "white",
            "ticks": ""
           },
           "baxis": {
            "gridcolor": "white",
            "linecolor": "white",
            "ticks": ""
           },
           "bgcolor": "#E5ECF6",
           "caxis": {
            "gridcolor": "white",
            "linecolor": "white",
            "ticks": ""
           }
          },
          "title": {
           "x": 0.05
          },
          "xaxis": {
           "automargin": true,
           "gridcolor": "white",
           "linecolor": "white",
           "ticks": "",
           "title": {
            "standoff": 15
           },
           "zerolinecolor": "white",
           "zerolinewidth": 2
          },
          "yaxis": {
           "automargin": true,
           "gridcolor": "white",
           "linecolor": "white",
           "ticks": "",
           "title": {
            "standoff": 15
           },
           "zerolinecolor": "white",
           "zerolinewidth": 2
          }
         }
        },
        "title": {
         "text": "Logit Difference From Patched Attention Layer"
        },
        "xaxis": {
         "anchor": "y",
         "constrain": "domain",
         "domain": [
          0,
          1
         ],
         "scaleanchor": "y",
         "title": {
          "text": "Position"
         }
        },
        "yaxis": {
         "anchor": "x",
         "autorange": "reversed",
         "constrain": "domain",
         "domain": [
          0,
          1
         ],
         "title": {
          "text": "Layer"
         }
        }
       }
      },
      "text/html": [
       "<div>                            <div id=\"986f21bf-b913-4d54-a313-a52c75576e94\" class=\"plotly-graph-div\" style=\"height:525px; width:100%;\"></div>            <script type=\"text/javascript\">                require([\"plotly\"], function(Plotly) {                    window.PLOTLYENV=window.PLOTLYENV || {};                                    if (document.getElementById(\"986f21bf-b913-4d54-a313-a52c75576e94\")) {                    Plotly.newPlot(                        \"986f21bf-b913-4d54-a313-a52c75576e94\",                        [{\"coloraxis\":\"coloraxis\",\"name\":\"0\",\"x\":[\"\\u003c|endoftext|\\u003e_0\",\"After_1\",\" John_2\",\",_3\",\" Mary_4\",\" and_5\",\" Jim_6\",\" went_7\",\" to_8\",\" the_9\",\" grocery_10\",\" store_11\",\" and_12\",\" return_13\",\",_14\",\" _15\",\" Jim_16\",\" and_17\",\" John_18\",\" gave_19\",\" a_20\",\" bottle_21\",\" of_22\",\" milk_23\",\" to_24\"],\"z\":[[0.0,0.0,0.0,0.0,0.0,0.0,0.0,0.0,0.0,0.0,0.0,0.0,0.0,0.0,0.0,0.0,0.10344748198986053,-0.1933029592037201,-0.029066763818264008,0.006680614314973354,-0.0006009693024680018,0.0004322501190472394,-0.00018977338913828135,-0.0015602384228259325,0.00026216014521196485],[0.0,0.0,0.0,0.0,0.0,0.0,0.0,0.0,0.0,0.0,0.0,0.0,0.0,0.0,0.0,0.0,0.01266928855329752,-0.0031727231107652187,-0.0033988649956882,-0.0029240422882139683,-0.0006223304662853479,0.00015786723815836012,3.191328505636193e-05,0.00036987997009418905,-0.0010637547820806503],[0.0,0.0,0.0,0.0,0.0,0.0,0.0,0.0,0.0,0.0,0.0,0.0,0.0,0.0,0.0,0.0,0.001627449062652886,-0.0023207170888781548,-0.027459265664219856,0.01355484314262867,-0.0005909883766435087,-0.000396838499000296,0.00016708426119294018,-0.0005036802031099796,-0.0011002729879692197],[0.0,0.0,0.0,0.0,0.0,0.0,0.0,0.0,0.0,0.0,0.0,0.0,0.0,0.0,0.0,0.0,0.13351620733737946,-0.039030637592077255,-0.07776766270399094,-0.04229261726140976,-0.000890502065885812,-0.0003180190979037434,-0.000110190077975858,0.0008128320914693177,-0.0002619316801428795],[0.0,0.0,0.0,0.0,0.0,0.0,0.0,0.0,0.0,0.0,0.0,0.0,0.0,0.0,0.0,0.0,0.012613351456820965,-0.015543447807431221,0.020671891048550606,0.015346364118158817,0.0002009323361562565,-0.00020961389236617833,-0.00014240322343539447,-0.0014419378712773323,-0.0013624331913888454],[0.0,0.0,0.0,0.0,0.0,0.0,0.0,0.0,0.0,0.0,0.0,0.0,0.0,0.0,0.0,0.0,0.3245820701122284,-0.05268588662147522,0.010698647238314152,-0.031106090173125267,0.0002466675650794059,-0.00011434523185016587,0.0004925283719785511,0.001283042598515749,0.0032651075161993504],[0.0,0.0,0.0,0.0,0.0,0.0,0.0,0.0,0.0,0.0,0.0,0.0,0.0,0.0,0.0,0.0,0.03318924456834793,-0.010376247577369213,0.029903504997491837,0.0033904188312590122,-0.0017789193661883473,-0.001221586368046701,-0.0005686419317498803,-0.0007401383481919765,0.017787251621484756],[0.0,0.0,0.0,0.0,0.0,0.0,0.0,0.0,0.0,0.0,0.0,0.0,0.0,0.0,0.0,0.0,0.01364482194185257,0.005039264913648367,0.008824309334158897,0.016044657677412033,0.0007981748203746974,0.0006823802832514048,0.012912293896079063,0.011220796965062618,0.47481971979141235],[0.0,0.0,0.0,0.0,0.0,0.0,0.0,0.0,0.0,0.0,0.0,0.0,0.0,0.0,0.0,0.0,0.0074085658416152,0.002694823546335101,-0.0052567534148693085,0.005850683432072401,0.00038423738442361355,0.0012245206162333488,0.006847234442830086,0.010533854365348816,0.49365705251693726],[0.0,0.0,0.0,0.0,0.0,0.0,0.0,0.0,0.0,0.0,0.0,0.0,0.0,0.0,0.0,0.0,-0.017758728936314583,-0.022523954510688782,-0.006641847547143698,0.0002982571313623339,-0.0008125607855618,-8.722965139895678e-05,0.0017332269344478846,0.001962302951142192,0.2728588879108429],[0.0,0.0,0.0,0.0,0.0,0.0,0.0,0.0,0.0,0.0,0.0,0.0,0.0,0.0,0.0,0.0,-0.02191179059445858,-0.005080609582364559,-0.004334531258791685,-0.0030979018192738295,-0.0012638875050470233,-0.00014103244757279754,0.003667921759188175,0.0021511625964194536,0.15016445517539978],[0.0,0.0,0.0,0.0,0.0,0.0,0.0,0.0,0.0,0.0,0.0,0.0,0.0,0.0,0.0,0.0,0.0,0.0,0.0,0.0,0.0,0.0,0.0,0.0,-0.3242412209510803]],\"type\":\"heatmap\",\"xaxis\":\"x\",\"yaxis\":\"y\",\"hovertemplate\":\"Position: %{x}\\u003cbr\\u003eLayer: %{y}\\u003cbr\\u003ecolor: %{z}\\u003cextra\\u003e\\u003c\\u002fextra\\u003e\"}],                        {\"template\":{\"data\":{\"histogram2dcontour\":[{\"type\":\"histogram2dcontour\",\"colorbar\":{\"outlinewidth\":0,\"ticks\":\"\"},\"colorscale\":[[0.0,\"#0d0887\"],[0.1111111111111111,\"#46039f\"],[0.2222222222222222,\"#7201a8\"],[0.3333333333333333,\"#9c179e\"],[0.4444444444444444,\"#bd3786\"],[0.5555555555555556,\"#d8576b\"],[0.6666666666666666,\"#ed7953\"],[0.7777777777777778,\"#fb9f3a\"],[0.8888888888888888,\"#fdca26\"],[1.0,\"#f0f921\"]]}],\"choropleth\":[{\"type\":\"choropleth\",\"colorbar\":{\"outlinewidth\":0,\"ticks\":\"\"}}],\"histogram2d\":[{\"type\":\"histogram2d\",\"colorbar\":{\"outlinewidth\":0,\"ticks\":\"\"},\"colorscale\":[[0.0,\"#0d0887\"],[0.1111111111111111,\"#46039f\"],[0.2222222222222222,\"#7201a8\"],[0.3333333333333333,\"#9c179e\"],[0.4444444444444444,\"#bd3786\"],[0.5555555555555556,\"#d8576b\"],[0.6666666666666666,\"#ed7953\"],[0.7777777777777778,\"#fb9f3a\"],[0.8888888888888888,\"#fdca26\"],[1.0,\"#f0f921\"]]}],\"heatmap\":[{\"type\":\"heatmap\",\"colorbar\":{\"outlinewidth\":0,\"ticks\":\"\"},\"colorscale\":[[0.0,\"#0d0887\"],[0.1111111111111111,\"#46039f\"],[0.2222222222222222,\"#7201a8\"],[0.3333333333333333,\"#9c179e\"],[0.4444444444444444,\"#bd3786\"],[0.5555555555555556,\"#d8576b\"],[0.6666666666666666,\"#ed7953\"],[0.7777777777777778,\"#fb9f3a\"],[0.8888888888888888,\"#fdca26\"],[1.0,\"#f0f921\"]]}],\"heatmapgl\":[{\"type\":\"heatmapgl\",\"colorbar\":{\"outlinewidth\":0,\"ticks\":\"\"},\"colorscale\":[[0.0,\"#0d0887\"],[0.1111111111111111,\"#46039f\"],[0.2222222222222222,\"#7201a8\"],[0.3333333333333333,\"#9c179e\"],[0.4444444444444444,\"#bd3786\"],[0.5555555555555556,\"#d8576b\"],[0.6666666666666666,\"#ed7953\"],[0.7777777777777778,\"#fb9f3a\"],[0.8888888888888888,\"#fdca26\"],[1.0,\"#f0f921\"]]}],\"contourcarpet\":[{\"type\":\"contourcarpet\",\"colorbar\":{\"outlinewidth\":0,\"ticks\":\"\"}}],\"contour\":[{\"type\":\"contour\",\"colorbar\":{\"outlinewidth\":0,\"ticks\":\"\"},\"colorscale\":[[0.0,\"#0d0887\"],[0.1111111111111111,\"#46039f\"],[0.2222222222222222,\"#7201a8\"],[0.3333333333333333,\"#9c179e\"],[0.4444444444444444,\"#bd3786\"],[0.5555555555555556,\"#d8576b\"],[0.6666666666666666,\"#ed7953\"],[0.7777777777777778,\"#fb9f3a\"],[0.8888888888888888,\"#fdca26\"],[1.0,\"#f0f921\"]]}],\"surface\":[{\"type\":\"surface\",\"colorbar\":{\"outlinewidth\":0,\"ticks\":\"\"},\"colorscale\":[[0.0,\"#0d0887\"],[0.1111111111111111,\"#46039f\"],[0.2222222222222222,\"#7201a8\"],[0.3333333333333333,\"#9c179e\"],[0.4444444444444444,\"#bd3786\"],[0.5555555555555556,\"#d8576b\"],[0.6666666666666666,\"#ed7953\"],[0.7777777777777778,\"#fb9f3a\"],[0.8888888888888888,\"#fdca26\"],[1.0,\"#f0f921\"]]}],\"mesh3d\":[{\"type\":\"mesh3d\",\"colorbar\":{\"outlinewidth\":0,\"ticks\":\"\"}}],\"scatter\":[{\"fillpattern\":{\"fillmode\":\"overlay\",\"size\":10,\"solidity\":0.2},\"type\":\"scatter\"}],\"parcoords\":[{\"type\":\"parcoords\",\"line\":{\"colorbar\":{\"outlinewidth\":0,\"ticks\":\"\"}}}],\"scatterpolargl\":[{\"type\":\"scatterpolargl\",\"marker\":{\"colorbar\":{\"outlinewidth\":0,\"ticks\":\"\"}}}],\"bar\":[{\"error_x\":{\"color\":\"#2a3f5f\"},\"error_y\":{\"color\":\"#2a3f5f\"},\"marker\":{\"line\":{\"color\":\"#E5ECF6\",\"width\":0.5},\"pattern\":{\"fillmode\":\"overlay\",\"size\":10,\"solidity\":0.2}},\"type\":\"bar\"}],\"scattergeo\":[{\"type\":\"scattergeo\",\"marker\":{\"colorbar\":{\"outlinewidth\":0,\"ticks\":\"\"}}}],\"scatterpolar\":[{\"type\":\"scatterpolar\",\"marker\":{\"colorbar\":{\"outlinewidth\":0,\"ticks\":\"\"}}}],\"histogram\":[{\"marker\":{\"pattern\":{\"fillmode\":\"overlay\",\"size\":10,\"solidity\":0.2}},\"type\":\"histogram\"}],\"scattergl\":[{\"type\":\"scattergl\",\"marker\":{\"colorbar\":{\"outlinewidth\":0,\"ticks\":\"\"}}}],\"scatter3d\":[{\"type\":\"scatter3d\",\"line\":{\"colorbar\":{\"outlinewidth\":0,\"ticks\":\"\"}},\"marker\":{\"colorbar\":{\"outlinewidth\":0,\"ticks\":\"\"}}}],\"scattermapbox\":[{\"type\":\"scattermapbox\",\"marker\":{\"colorbar\":{\"outlinewidth\":0,\"ticks\":\"\"}}}],\"scatterternary\":[{\"type\":\"scatterternary\",\"marker\":{\"colorbar\":{\"outlinewidth\":0,\"ticks\":\"\"}}}],\"scattercarpet\":[{\"type\":\"scattercarpet\",\"marker\":{\"colorbar\":{\"outlinewidth\":0,\"ticks\":\"\"}}}],\"carpet\":[{\"aaxis\":{\"endlinecolor\":\"#2a3f5f\",\"gridcolor\":\"white\",\"linecolor\":\"white\",\"minorgridcolor\":\"white\",\"startlinecolor\":\"#2a3f5f\"},\"baxis\":{\"endlinecolor\":\"#2a3f5f\",\"gridcolor\":\"white\",\"linecolor\":\"white\",\"minorgridcolor\":\"white\",\"startlinecolor\":\"#2a3f5f\"},\"type\":\"carpet\"}],\"table\":[{\"cells\":{\"fill\":{\"color\":\"#EBF0F8\"},\"line\":{\"color\":\"white\"}},\"header\":{\"fill\":{\"color\":\"#C8D4E3\"},\"line\":{\"color\":\"white\"}},\"type\":\"table\"}],\"barpolar\":[{\"marker\":{\"line\":{\"color\":\"#E5ECF6\",\"width\":0.5},\"pattern\":{\"fillmode\":\"overlay\",\"size\":10,\"solidity\":0.2}},\"type\":\"barpolar\"}],\"pie\":[{\"automargin\":true,\"type\":\"pie\"}]},\"layout\":{\"autotypenumbers\":\"strict\",\"colorway\":[\"#636efa\",\"#EF553B\",\"#00cc96\",\"#ab63fa\",\"#FFA15A\",\"#19d3f3\",\"#FF6692\",\"#B6E880\",\"#FF97FF\",\"#FECB52\"],\"font\":{\"color\":\"#2a3f5f\"},\"hovermode\":\"closest\",\"hoverlabel\":{\"align\":\"left\"},\"paper_bgcolor\":\"white\",\"plot_bgcolor\":\"#E5ECF6\",\"polar\":{\"bgcolor\":\"#E5ECF6\",\"angularaxis\":{\"gridcolor\":\"white\",\"linecolor\":\"white\",\"ticks\":\"\"},\"radialaxis\":{\"gridcolor\":\"white\",\"linecolor\":\"white\",\"ticks\":\"\"}},\"ternary\":{\"bgcolor\":\"#E5ECF6\",\"aaxis\":{\"gridcolor\":\"white\",\"linecolor\":\"white\",\"ticks\":\"\"},\"baxis\":{\"gridcolor\":\"white\",\"linecolor\":\"white\",\"ticks\":\"\"},\"caxis\":{\"gridcolor\":\"white\",\"linecolor\":\"white\",\"ticks\":\"\"}},\"coloraxis\":{\"colorbar\":{\"outlinewidth\":0,\"ticks\":\"\"}},\"colorscale\":{\"sequential\":[[0.0,\"#0d0887\"],[0.1111111111111111,\"#46039f\"],[0.2222222222222222,\"#7201a8\"],[0.3333333333333333,\"#9c179e\"],[0.4444444444444444,\"#bd3786\"],[0.5555555555555556,\"#d8576b\"],[0.6666666666666666,\"#ed7953\"],[0.7777777777777778,\"#fb9f3a\"],[0.8888888888888888,\"#fdca26\"],[1.0,\"#f0f921\"]],\"sequentialminus\":[[0.0,\"#0d0887\"],[0.1111111111111111,\"#46039f\"],[0.2222222222222222,\"#7201a8\"],[0.3333333333333333,\"#9c179e\"],[0.4444444444444444,\"#bd3786\"],[0.5555555555555556,\"#d8576b\"],[0.6666666666666666,\"#ed7953\"],[0.7777777777777778,\"#fb9f3a\"],[0.8888888888888888,\"#fdca26\"],[1.0,\"#f0f921\"]],\"diverging\":[[0,\"#8e0152\"],[0.1,\"#c51b7d\"],[0.2,\"#de77ae\"],[0.3,\"#f1b6da\"],[0.4,\"#fde0ef\"],[0.5,\"#f7f7f7\"],[0.6,\"#e6f5d0\"],[0.7,\"#b8e186\"],[0.8,\"#7fbc41\"],[0.9,\"#4d9221\"],[1,\"#276419\"]]},\"xaxis\":{\"gridcolor\":\"white\",\"linecolor\":\"white\",\"ticks\":\"\",\"title\":{\"standoff\":15},\"zerolinecolor\":\"white\",\"automargin\":true,\"zerolinewidth\":2},\"yaxis\":{\"gridcolor\":\"white\",\"linecolor\":\"white\",\"ticks\":\"\",\"title\":{\"standoff\":15},\"zerolinecolor\":\"white\",\"automargin\":true,\"zerolinewidth\":2},\"scene\":{\"xaxis\":{\"backgroundcolor\":\"#E5ECF6\",\"gridcolor\":\"white\",\"linecolor\":\"white\",\"showbackground\":true,\"ticks\":\"\",\"zerolinecolor\":\"white\",\"gridwidth\":2},\"yaxis\":{\"backgroundcolor\":\"#E5ECF6\",\"gridcolor\":\"white\",\"linecolor\":\"white\",\"showbackground\":true,\"ticks\":\"\",\"zerolinecolor\":\"white\",\"gridwidth\":2},\"zaxis\":{\"backgroundcolor\":\"#E5ECF6\",\"gridcolor\":\"white\",\"linecolor\":\"white\",\"showbackground\":true,\"ticks\":\"\",\"zerolinecolor\":\"white\",\"gridwidth\":2}},\"shapedefaults\":{\"line\":{\"color\":\"#2a3f5f\"}},\"annotationdefaults\":{\"arrowcolor\":\"#2a3f5f\",\"arrowhead\":0,\"arrowwidth\":1},\"geo\":{\"bgcolor\":\"white\",\"landcolor\":\"#E5ECF6\",\"subunitcolor\":\"white\",\"showland\":true,\"showlakes\":true,\"lakecolor\":\"white\"},\"title\":{\"x\":0.05},\"mapbox\":{\"style\":\"light\"}}},\"xaxis\":{\"anchor\":\"y\",\"domain\":[0.0,1.0],\"scaleanchor\":\"y\",\"constrain\":\"domain\",\"title\":{\"text\":\"Position\"}},\"yaxis\":{\"anchor\":\"x\",\"domain\":[0.0,1.0],\"autorange\":\"reversed\",\"constrain\":\"domain\",\"title\":{\"text\":\"Layer\"}},\"coloraxis\":{\"colorscale\":[[0.0,\"rgb(103,0,31)\"],[0.1,\"rgb(178,24,43)\"],[0.2,\"rgb(214,96,77)\"],[0.3,\"rgb(244,165,130)\"],[0.4,\"rgb(253,219,199)\"],[0.5,\"rgb(247,247,247)\"],[0.6,\"rgb(209,229,240)\"],[0.7,\"rgb(146,197,222)\"],[0.8,\"rgb(67,147,195)\"],[0.9,\"rgb(33,102,172)\"],[1.0,\"rgb(5,48,97)\"]],\"cmid\":0.0},\"title\":{\"text\":\"Logit Difference From Patched Attention Layer\"}},                        {\"responsive\": true}                    ).then(function(){\n",
       "                            \n",
       "var gd = document.getElementById('986f21bf-b913-4d54-a313-a52c75576e94');\n",
       "var x = new MutationObserver(function (mutations, observer) {{\n",
       "        var display = window.getComputedStyle(gd).display;\n",
       "        if (!display || display === 'none') {{\n",
       "            console.log([gd, 'removed!']);\n",
       "            Plotly.purge(gd);\n",
       "            observer.disconnect();\n",
       "        }}\n",
       "}});\n",
       "\n",
       "// Listen for the removal of the full notebook cells\n",
       "var notebookContainer = gd.closest('#notebook-container');\n",
       "if (notebookContainer) {{\n",
       "    x.observe(notebookContainer, {childList: true});\n",
       "}}\n",
       "\n",
       "// Listen for the clearing of the current output cell\n",
       "var outputEl = gd.closest('.output');\n",
       "if (outputEl) {{\n",
       "    x.observe(outputEl, {childList: true});\n",
       "}}\n",
       "\n",
       "                        })                };                });            </script>        </div>"
      ]
     },
     "metadata": {},
     "output_type": "display_data"
    }
   ],
   "source": [
    "imshow(\n",
    "    patched_attn_diff,\n",
    "    x=prompt_position_labels,\n",
    "    title=\"Logit Difference From Patched Attention Layer\",\n",
    "    labels={\"x\": \"Position\", \"y\": \"Layer\"},\n",
    ")"
   ]
  },
  {
   "cell_type": "code",
   "execution_count": 139,
   "metadata": {},
   "outputs": [
    {
     "data": {
      "application/vnd.plotly.v1+json": {
       "config": {
        "plotlyServerURL": "https://plot.ly"
       },
       "data": [
        {
         "coloraxis": "coloraxis",
         "hovertemplate": "Position: %{x}<br>Layer: %{y}<br>color: %{z}<extra></extra>",
         "name": "0",
         "type": "heatmap",
         "x": [
          "<|endoftext|>_0",
          "After_1",
          " John_2",
          ",_3",
          " Mary_4",
          " and_5",
          " Jim_6",
          " went_7",
          " to_8",
          " the_9",
          " grocery_10",
          " store_11",
          " and_12",
          " return_13",
          ",_14",
          " _15",
          " Jim_16",
          " and_17",
          " John_18",
          " gave_19",
          " a_20",
          " bottle_21",
          " of_22",
          " milk_23",
          " to_24"
         ],
         "xaxis": "x",
         "yaxis": "y",
         "z": [
          [
           0,
           0,
           0,
           0,
           0,
           0,
           0,
           0,
           0,
           0,
           0,
           0,
           0,
           0,
           0,
           0,
           0.9680747389793396,
           -0.33385732769966125,
           0.0016247074818238616,
           0.027459347620606422,
           -0.0005111837526783347,
           0.00008483793499181047,
           -0.0005099271656945348,
           -0.0016208951128646731,
           0.00013784112525172532
          ],
          [
           0,
           0,
           0,
           0,
           0,
           0,
           0,
           0,
           0,
           0,
           0,
           0,
           0,
           0,
           0,
           0,
           0.08003866672515869,
           -0.02748706378042698,
           0.03272197023034096,
           0.020529596135020256,
           0.0014936845982447267,
           0.0003464626206550747,
           -0.00013810528616886586,
           -0.000373685295926407,
           0.0003298991359770298
          ],
          [
           0,
           0,
           0,
           0,
           0,
           0,
           0,
           0,
           0,
           0,
           0,
           0,
           0,
           0,
           0,
           0,
           -0.017424073070287704,
           -0.026472270488739014,
           -0.017384737730026245,
           -0.008128371089696884,
           -0.0005836418713442981,
           0.0004022073408123106,
           -0.000016484960724483244,
           0.0006297554937191308,
           -0.00031671972828917205
          ],
          [
           0,
           0,
           0,
           0,
           0,
           0,
           0,
           0,
           0,
           0,
           0,
           0,
           0,
           0,
           0,
           0,
           0.08454553037881851,
           -0.01538687665015459,
           -0.0334341935813427,
           0.0258971955627203,
           0.0007526323897764087,
           0.00007158714288379997,
           0.0006450624787248671,
           0.0010644044959917665,
           -0.0027903562877327204
          ],
          [
           0,
           0,
           0,
           0,
           0,
           0,
           0,
           0,
           0,
           0,
           0,
           0,
           0,
           0,
           0,
           0,
           0.025460682809352875,
           -0.0041208406910300255,
           0.004663137719035149,
           0.008282283321022987,
           -0.0018809633329510689,
           0.00020569433399941772,
           0.00005277472155285068,
           0.00033009189064614475,
           -0.000034304997825529426
          ],
          [
           0,
           0,
           0,
           0,
           0,
           0,
           0,
           0,
           0,
           0,
           0,
           0,
           0,
           0,
           0,
           0,
           0.131175234913826,
           0.0033040959388017654,
           0.04646128788590431,
           0.02459576167166233,
           0.00007744861795799807,
           -0.00019956156029365957,
           0.0010379457380622625,
           0.00019092284492217004,
           0.0012376571539789438
          ],
          [
           0,
           0,
           0,
           0,
           0,
           0,
           0,
           0,
           0,
           0,
           0,
           0,
           0,
           0,
           0,
           0,
           0.00776485214009881,
           -0.03256051987409592,
           -0.09641119092702866,
           0.00495210662484169,
           -0.000472116720629856,
           -0.0005312455468811095,
           -0.0007487413822673261,
           0.0009226866532117128,
           -0.005747418384999037
          ],
          [
           0,
           0,
           0,
           0,
           0,
           0,
           0,
           0,
           0,
           0,
           0,
           0,
           0,
           0,
           0,
           0,
           0.041480667889118195,
           -0.005349437706172466,
           0.016586991026997566,
           -0.032628294080495834,
           -0.0005906099686399102,
           -0.00018044214812107384,
           0.0017955971416085958,
           0.0019377432763576508,
           0.06377217173576355
          ],
          [
           0,
           0,
           0,
           0,
           0,
           0,
           0,
           0,
           0,
           0,
           0,
           0,
           0,
           0,
           0,
           0,
           -0.005132127553224564,
           -0.003035346046090126,
           0.0016251644119620323,
           0.0013113004388287663,
           0.0002864556445274502,
           -0.00040974660078063607,
           0.0015030158683657646,
           0.0034188623540103436,
           0.014885598793625832
          ],
          [
           0,
           0,
           0,
           0,
           0,
           0,
           0,
           0,
           0,
           0,
           0,
           0,
           0,
           0,
           0,
           0,
           -0.003568840678781271,
           -0.017184946686029434,
           -0.024672942236065865,
           -0.0027245592791587114,
           0.00020535163639578968,
           0.000007653477041458245,
           0.0006173043511807919,
           0.00007569945591967553,
           0.09118418395519257
          ],
          [
           0,
           0,
           0,
           0,
           0,
           0,
           0,
           0,
           0,
           0,
           0,
           0,
           0,
           0,
           0,
           0,
           -0.0015626015374436975,
           0.009896937757730484,
           0.00000933124465518631,
           -0.0009611396235413849,
           -0.00003110653051408008,
           -0.00002040451181528624,
           0.00007029490370769054,
           0.00045829478767700493,
           0.0856253132224083
          ],
          [
           0,
           0,
           0,
           0,
           0,
           0,
           0,
           0,
           0,
           0,
           0,
           0,
           0,
           0,
           0,
           0,
           0,
           0,
           0,
           0,
           0,
           0,
           0,
           0,
           0.04553065076470375
          ]
         ]
        }
       ],
       "layout": {
        "coloraxis": {
         "cmid": 0,
         "colorscale": [
          [
           0,
           "rgb(103,0,31)"
          ],
          [
           0.1,
           "rgb(178,24,43)"
          ],
          [
           0.2,
           "rgb(214,96,77)"
          ],
          [
           0.3,
           "rgb(244,165,130)"
          ],
          [
           0.4,
           "rgb(253,219,199)"
          ],
          [
           0.5,
           "rgb(247,247,247)"
          ],
          [
           0.6,
           "rgb(209,229,240)"
          ],
          [
           0.7,
           "rgb(146,197,222)"
          ],
          [
           0.8,
           "rgb(67,147,195)"
          ],
          [
           0.9,
           "rgb(33,102,172)"
          ],
          [
           1,
           "rgb(5,48,97)"
          ]
         ]
        },
        "template": {
         "data": {
          "bar": [
           {
            "error_x": {
             "color": "#2a3f5f"
            },
            "error_y": {
             "color": "#2a3f5f"
            },
            "marker": {
             "line": {
              "color": "#E5ECF6",
              "width": 0.5
             },
             "pattern": {
              "fillmode": "overlay",
              "size": 10,
              "solidity": 0.2
             }
            },
            "type": "bar"
           }
          ],
          "barpolar": [
           {
            "marker": {
             "line": {
              "color": "#E5ECF6",
              "width": 0.5
             },
             "pattern": {
              "fillmode": "overlay",
              "size": 10,
              "solidity": 0.2
             }
            },
            "type": "barpolar"
           }
          ],
          "carpet": [
           {
            "aaxis": {
             "endlinecolor": "#2a3f5f",
             "gridcolor": "white",
             "linecolor": "white",
             "minorgridcolor": "white",
             "startlinecolor": "#2a3f5f"
            },
            "baxis": {
             "endlinecolor": "#2a3f5f",
             "gridcolor": "white",
             "linecolor": "white",
             "minorgridcolor": "white",
             "startlinecolor": "#2a3f5f"
            },
            "type": "carpet"
           }
          ],
          "choropleth": [
           {
            "colorbar": {
             "outlinewidth": 0,
             "ticks": ""
            },
            "type": "choropleth"
           }
          ],
          "contour": [
           {
            "colorbar": {
             "outlinewidth": 0,
             "ticks": ""
            },
            "colorscale": [
             [
              0,
              "#0d0887"
             ],
             [
              0.1111111111111111,
              "#46039f"
             ],
             [
              0.2222222222222222,
              "#7201a8"
             ],
             [
              0.3333333333333333,
              "#9c179e"
             ],
             [
              0.4444444444444444,
              "#bd3786"
             ],
             [
              0.5555555555555556,
              "#d8576b"
             ],
             [
              0.6666666666666666,
              "#ed7953"
             ],
             [
              0.7777777777777778,
              "#fb9f3a"
             ],
             [
              0.8888888888888888,
              "#fdca26"
             ],
             [
              1,
              "#f0f921"
             ]
            ],
            "type": "contour"
           }
          ],
          "contourcarpet": [
           {
            "colorbar": {
             "outlinewidth": 0,
             "ticks": ""
            },
            "type": "contourcarpet"
           }
          ],
          "heatmap": [
           {
            "colorbar": {
             "outlinewidth": 0,
             "ticks": ""
            },
            "colorscale": [
             [
              0,
              "#0d0887"
             ],
             [
              0.1111111111111111,
              "#46039f"
             ],
             [
              0.2222222222222222,
              "#7201a8"
             ],
             [
              0.3333333333333333,
              "#9c179e"
             ],
             [
              0.4444444444444444,
              "#bd3786"
             ],
             [
              0.5555555555555556,
              "#d8576b"
             ],
             [
              0.6666666666666666,
              "#ed7953"
             ],
             [
              0.7777777777777778,
              "#fb9f3a"
             ],
             [
              0.8888888888888888,
              "#fdca26"
             ],
             [
              1,
              "#f0f921"
             ]
            ],
            "type": "heatmap"
           }
          ],
          "heatmapgl": [
           {
            "colorbar": {
             "outlinewidth": 0,
             "ticks": ""
            },
            "colorscale": [
             [
              0,
              "#0d0887"
             ],
             [
              0.1111111111111111,
              "#46039f"
             ],
             [
              0.2222222222222222,
              "#7201a8"
             ],
             [
              0.3333333333333333,
              "#9c179e"
             ],
             [
              0.4444444444444444,
              "#bd3786"
             ],
             [
              0.5555555555555556,
              "#d8576b"
             ],
             [
              0.6666666666666666,
              "#ed7953"
             ],
             [
              0.7777777777777778,
              "#fb9f3a"
             ],
             [
              0.8888888888888888,
              "#fdca26"
             ],
             [
              1,
              "#f0f921"
             ]
            ],
            "type": "heatmapgl"
           }
          ],
          "histogram": [
           {
            "marker": {
             "pattern": {
              "fillmode": "overlay",
              "size": 10,
              "solidity": 0.2
             }
            },
            "type": "histogram"
           }
          ],
          "histogram2d": [
           {
            "colorbar": {
             "outlinewidth": 0,
             "ticks": ""
            },
            "colorscale": [
             [
              0,
              "#0d0887"
             ],
             [
              0.1111111111111111,
              "#46039f"
             ],
             [
              0.2222222222222222,
              "#7201a8"
             ],
             [
              0.3333333333333333,
              "#9c179e"
             ],
             [
              0.4444444444444444,
              "#bd3786"
             ],
             [
              0.5555555555555556,
              "#d8576b"
             ],
             [
              0.6666666666666666,
              "#ed7953"
             ],
             [
              0.7777777777777778,
              "#fb9f3a"
             ],
             [
              0.8888888888888888,
              "#fdca26"
             ],
             [
              1,
              "#f0f921"
             ]
            ],
            "type": "histogram2d"
           }
          ],
          "histogram2dcontour": [
           {
            "colorbar": {
             "outlinewidth": 0,
             "ticks": ""
            },
            "colorscale": [
             [
              0,
              "#0d0887"
             ],
             [
              0.1111111111111111,
              "#46039f"
             ],
             [
              0.2222222222222222,
              "#7201a8"
             ],
             [
              0.3333333333333333,
              "#9c179e"
             ],
             [
              0.4444444444444444,
              "#bd3786"
             ],
             [
              0.5555555555555556,
              "#d8576b"
             ],
             [
              0.6666666666666666,
              "#ed7953"
             ],
             [
              0.7777777777777778,
              "#fb9f3a"
             ],
             [
              0.8888888888888888,
              "#fdca26"
             ],
             [
              1,
              "#f0f921"
             ]
            ],
            "type": "histogram2dcontour"
           }
          ],
          "mesh3d": [
           {
            "colorbar": {
             "outlinewidth": 0,
             "ticks": ""
            },
            "type": "mesh3d"
           }
          ],
          "parcoords": [
           {
            "line": {
             "colorbar": {
              "outlinewidth": 0,
              "ticks": ""
             }
            },
            "type": "parcoords"
           }
          ],
          "pie": [
           {
            "automargin": true,
            "type": "pie"
           }
          ],
          "scatter": [
           {
            "fillpattern": {
             "fillmode": "overlay",
             "size": 10,
             "solidity": 0.2
            },
            "type": "scatter"
           }
          ],
          "scatter3d": [
           {
            "line": {
             "colorbar": {
              "outlinewidth": 0,
              "ticks": ""
             }
            },
            "marker": {
             "colorbar": {
              "outlinewidth": 0,
              "ticks": ""
             }
            },
            "type": "scatter3d"
           }
          ],
          "scattercarpet": [
           {
            "marker": {
             "colorbar": {
              "outlinewidth": 0,
              "ticks": ""
             }
            },
            "type": "scattercarpet"
           }
          ],
          "scattergeo": [
           {
            "marker": {
             "colorbar": {
              "outlinewidth": 0,
              "ticks": ""
             }
            },
            "type": "scattergeo"
           }
          ],
          "scattergl": [
           {
            "marker": {
             "colorbar": {
              "outlinewidth": 0,
              "ticks": ""
             }
            },
            "type": "scattergl"
           }
          ],
          "scattermapbox": [
           {
            "marker": {
             "colorbar": {
              "outlinewidth": 0,
              "ticks": ""
             }
            },
            "type": "scattermapbox"
           }
          ],
          "scatterpolar": [
           {
            "marker": {
             "colorbar": {
              "outlinewidth": 0,
              "ticks": ""
             }
            },
            "type": "scatterpolar"
           }
          ],
          "scatterpolargl": [
           {
            "marker": {
             "colorbar": {
              "outlinewidth": 0,
              "ticks": ""
             }
            },
            "type": "scatterpolargl"
           }
          ],
          "scatterternary": [
           {
            "marker": {
             "colorbar": {
              "outlinewidth": 0,
              "ticks": ""
             }
            },
            "type": "scatterternary"
           }
          ],
          "surface": [
           {
            "colorbar": {
             "outlinewidth": 0,
             "ticks": ""
            },
            "colorscale": [
             [
              0,
              "#0d0887"
             ],
             [
              0.1111111111111111,
              "#46039f"
             ],
             [
              0.2222222222222222,
              "#7201a8"
             ],
             [
              0.3333333333333333,
              "#9c179e"
             ],
             [
              0.4444444444444444,
              "#bd3786"
             ],
             [
              0.5555555555555556,
              "#d8576b"
             ],
             [
              0.6666666666666666,
              "#ed7953"
             ],
             [
              0.7777777777777778,
              "#fb9f3a"
             ],
             [
              0.8888888888888888,
              "#fdca26"
             ],
             [
              1,
              "#f0f921"
             ]
            ],
            "type": "surface"
           }
          ],
          "table": [
           {
            "cells": {
             "fill": {
              "color": "#EBF0F8"
             },
             "line": {
              "color": "white"
             }
            },
            "header": {
             "fill": {
              "color": "#C8D4E3"
             },
             "line": {
              "color": "white"
             }
            },
            "type": "table"
           }
          ]
         },
         "layout": {
          "annotationdefaults": {
           "arrowcolor": "#2a3f5f",
           "arrowhead": 0,
           "arrowwidth": 1
          },
          "autotypenumbers": "strict",
          "coloraxis": {
           "colorbar": {
            "outlinewidth": 0,
            "ticks": ""
           }
          },
          "colorscale": {
           "diverging": [
            [
             0,
             "#8e0152"
            ],
            [
             0.1,
             "#c51b7d"
            ],
            [
             0.2,
             "#de77ae"
            ],
            [
             0.3,
             "#f1b6da"
            ],
            [
             0.4,
             "#fde0ef"
            ],
            [
             0.5,
             "#f7f7f7"
            ],
            [
             0.6,
             "#e6f5d0"
            ],
            [
             0.7,
             "#b8e186"
            ],
            [
             0.8,
             "#7fbc41"
            ],
            [
             0.9,
             "#4d9221"
            ],
            [
             1,
             "#276419"
            ]
           ],
           "sequential": [
            [
             0,
             "#0d0887"
            ],
            [
             0.1111111111111111,
             "#46039f"
            ],
            [
             0.2222222222222222,
             "#7201a8"
            ],
            [
             0.3333333333333333,
             "#9c179e"
            ],
            [
             0.4444444444444444,
             "#bd3786"
            ],
            [
             0.5555555555555556,
             "#d8576b"
            ],
            [
             0.6666666666666666,
             "#ed7953"
            ],
            [
             0.7777777777777778,
             "#fb9f3a"
            ],
            [
             0.8888888888888888,
             "#fdca26"
            ],
            [
             1,
             "#f0f921"
            ]
           ],
           "sequentialminus": [
            [
             0,
             "#0d0887"
            ],
            [
             0.1111111111111111,
             "#46039f"
            ],
            [
             0.2222222222222222,
             "#7201a8"
            ],
            [
             0.3333333333333333,
             "#9c179e"
            ],
            [
             0.4444444444444444,
             "#bd3786"
            ],
            [
             0.5555555555555556,
             "#d8576b"
            ],
            [
             0.6666666666666666,
             "#ed7953"
            ],
            [
             0.7777777777777778,
             "#fb9f3a"
            ],
            [
             0.8888888888888888,
             "#fdca26"
            ],
            [
             1,
             "#f0f921"
            ]
           ]
          },
          "colorway": [
           "#636efa",
           "#EF553B",
           "#00cc96",
           "#ab63fa",
           "#FFA15A",
           "#19d3f3",
           "#FF6692",
           "#B6E880",
           "#FF97FF",
           "#FECB52"
          ],
          "font": {
           "color": "#2a3f5f"
          },
          "geo": {
           "bgcolor": "white",
           "lakecolor": "white",
           "landcolor": "#E5ECF6",
           "showlakes": true,
           "showland": true,
           "subunitcolor": "white"
          },
          "hoverlabel": {
           "align": "left"
          },
          "hovermode": "closest",
          "mapbox": {
           "style": "light"
          },
          "paper_bgcolor": "white",
          "plot_bgcolor": "#E5ECF6",
          "polar": {
           "angularaxis": {
            "gridcolor": "white",
            "linecolor": "white",
            "ticks": ""
           },
           "bgcolor": "#E5ECF6",
           "radialaxis": {
            "gridcolor": "white",
            "linecolor": "white",
            "ticks": ""
           }
          },
          "scene": {
           "xaxis": {
            "backgroundcolor": "#E5ECF6",
            "gridcolor": "white",
            "gridwidth": 2,
            "linecolor": "white",
            "showbackground": true,
            "ticks": "",
            "zerolinecolor": "white"
           },
           "yaxis": {
            "backgroundcolor": "#E5ECF6",
            "gridcolor": "white",
            "gridwidth": 2,
            "linecolor": "white",
            "showbackground": true,
            "ticks": "",
            "zerolinecolor": "white"
           },
           "zaxis": {
            "backgroundcolor": "#E5ECF6",
            "gridcolor": "white",
            "gridwidth": 2,
            "linecolor": "white",
            "showbackground": true,
            "ticks": "",
            "zerolinecolor": "white"
           }
          },
          "shapedefaults": {
           "line": {
            "color": "#2a3f5f"
           }
          },
          "ternary": {
           "aaxis": {
            "gridcolor": "white",
            "linecolor": "white",
            "ticks": ""
           },
           "baxis": {
            "gridcolor": "white",
            "linecolor": "white",
            "ticks": ""
           },
           "bgcolor": "#E5ECF6",
           "caxis": {
            "gridcolor": "white",
            "linecolor": "white",
            "ticks": ""
           }
          },
          "title": {
           "x": 0.05
          },
          "xaxis": {
           "automargin": true,
           "gridcolor": "white",
           "linecolor": "white",
           "ticks": "",
           "title": {
            "standoff": 15
           },
           "zerolinecolor": "white",
           "zerolinewidth": 2
          },
          "yaxis": {
           "automargin": true,
           "gridcolor": "white",
           "linecolor": "white",
           "ticks": "",
           "title": {
            "standoff": 15
           },
           "zerolinecolor": "white",
           "zerolinewidth": 2
          }
         }
        },
        "title": {
         "text": "Logit Difference From Patched MLP Layer"
        },
        "xaxis": {
         "anchor": "y",
         "constrain": "domain",
         "domain": [
          0,
          1
         ],
         "scaleanchor": "y",
         "title": {
          "text": "Position"
         }
        },
        "yaxis": {
         "anchor": "x",
         "autorange": "reversed",
         "constrain": "domain",
         "domain": [
          0,
          1
         ],
         "title": {
          "text": "Layer"
         }
        }
       }
      },
      "text/html": [
       "<div>                            <div id=\"5b33704a-5f4a-4d8a-96bc-707dcc74839a\" class=\"plotly-graph-div\" style=\"height:525px; width:100%;\"></div>            <script type=\"text/javascript\">                require([\"plotly\"], function(Plotly) {                    window.PLOTLYENV=window.PLOTLYENV || {};                                    if (document.getElementById(\"5b33704a-5f4a-4d8a-96bc-707dcc74839a\")) {                    Plotly.newPlot(                        \"5b33704a-5f4a-4d8a-96bc-707dcc74839a\",                        [{\"coloraxis\":\"coloraxis\",\"name\":\"0\",\"x\":[\"\\u003c|endoftext|\\u003e_0\",\"After_1\",\" John_2\",\",_3\",\" Mary_4\",\" and_5\",\" Jim_6\",\" went_7\",\" to_8\",\" the_9\",\" grocery_10\",\" store_11\",\" and_12\",\" return_13\",\",_14\",\" _15\",\" Jim_16\",\" and_17\",\" John_18\",\" gave_19\",\" a_20\",\" bottle_21\",\" of_22\",\" milk_23\",\" to_24\"],\"z\":[[0.0,0.0,0.0,0.0,0.0,0.0,0.0,0.0,0.0,0.0,0.0,0.0,0.0,0.0,0.0,0.0,0.9680747389793396,-0.33385732769966125,0.0016247074818238616,0.027459347620606422,-0.0005111837526783347,8.483793499181047e-05,-0.0005099271656945348,-0.0016208951128646731,0.00013784112525172532],[0.0,0.0,0.0,0.0,0.0,0.0,0.0,0.0,0.0,0.0,0.0,0.0,0.0,0.0,0.0,0.0,0.08003866672515869,-0.02748706378042698,0.03272197023034096,0.020529596135020256,0.0014936845982447267,0.0003464626206550747,-0.00013810528616886586,-0.000373685295926407,0.0003298991359770298],[0.0,0.0,0.0,0.0,0.0,0.0,0.0,0.0,0.0,0.0,0.0,0.0,0.0,0.0,0.0,0.0,-0.017424073070287704,-0.026472270488739014,-0.017384737730026245,-0.008128371089696884,-0.0005836418713442981,0.0004022073408123106,-1.6484960724483244e-05,0.0006297554937191308,-0.00031671972828917205],[0.0,0.0,0.0,0.0,0.0,0.0,0.0,0.0,0.0,0.0,0.0,0.0,0.0,0.0,0.0,0.0,0.08454553037881851,-0.01538687665015459,-0.0334341935813427,0.0258971955627203,0.0007526323897764087,7.158714288379997e-05,0.0006450624787248671,0.0010644044959917665,-0.0027903562877327204],[0.0,0.0,0.0,0.0,0.0,0.0,0.0,0.0,0.0,0.0,0.0,0.0,0.0,0.0,0.0,0.0,0.025460682809352875,-0.0041208406910300255,0.004663137719035149,0.008282283321022987,-0.0018809633329510689,0.00020569433399941772,5.277472155285068e-05,0.00033009189064614475,-3.4304997825529426e-05],[0.0,0.0,0.0,0.0,0.0,0.0,0.0,0.0,0.0,0.0,0.0,0.0,0.0,0.0,0.0,0.0,0.131175234913826,0.0033040959388017654,0.04646128788590431,0.02459576167166233,7.744861795799807e-05,-0.00019956156029365957,0.0010379457380622625,0.00019092284492217004,0.0012376571539789438],[0.0,0.0,0.0,0.0,0.0,0.0,0.0,0.0,0.0,0.0,0.0,0.0,0.0,0.0,0.0,0.0,0.00776485214009881,-0.03256051987409592,-0.09641119092702866,0.00495210662484169,-0.000472116720629856,-0.0005312455468811095,-0.0007487413822673261,0.0009226866532117128,-0.005747418384999037],[0.0,0.0,0.0,0.0,0.0,0.0,0.0,0.0,0.0,0.0,0.0,0.0,0.0,0.0,0.0,0.0,0.041480667889118195,-0.005349437706172466,0.016586991026997566,-0.032628294080495834,-0.0005906099686399102,-0.00018044214812107384,0.0017955971416085958,0.0019377432763576508,0.06377217173576355],[0.0,0.0,0.0,0.0,0.0,0.0,0.0,0.0,0.0,0.0,0.0,0.0,0.0,0.0,0.0,0.0,-0.005132127553224564,-0.003035346046090126,0.0016251644119620323,0.0013113004388287663,0.0002864556445274502,-0.00040974660078063607,0.0015030158683657646,0.0034188623540103436,0.014885598793625832],[0.0,0.0,0.0,0.0,0.0,0.0,0.0,0.0,0.0,0.0,0.0,0.0,0.0,0.0,0.0,0.0,-0.003568840678781271,-0.017184946686029434,-0.024672942236065865,-0.0027245592791587114,0.00020535163639578968,7.653477041458245e-06,0.0006173043511807919,7.569945591967553e-05,0.09118418395519257],[0.0,0.0,0.0,0.0,0.0,0.0,0.0,0.0,0.0,0.0,0.0,0.0,0.0,0.0,0.0,0.0,-0.0015626015374436975,0.009896937757730484,9.33124465518631e-06,-0.0009611396235413849,-3.110653051408008e-05,-2.040451181528624e-05,7.029490370769054e-05,0.00045829478767700493,0.0856253132224083],[0.0,0.0,0.0,0.0,0.0,0.0,0.0,0.0,0.0,0.0,0.0,0.0,0.0,0.0,0.0,0.0,0.0,0.0,0.0,0.0,0.0,0.0,0.0,0.0,0.04553065076470375]],\"type\":\"heatmap\",\"xaxis\":\"x\",\"yaxis\":\"y\",\"hovertemplate\":\"Position: %{x}\\u003cbr\\u003eLayer: %{y}\\u003cbr\\u003ecolor: %{z}\\u003cextra\\u003e\\u003c\\u002fextra\\u003e\"}],                        {\"template\":{\"data\":{\"histogram2dcontour\":[{\"type\":\"histogram2dcontour\",\"colorbar\":{\"outlinewidth\":0,\"ticks\":\"\"},\"colorscale\":[[0.0,\"#0d0887\"],[0.1111111111111111,\"#46039f\"],[0.2222222222222222,\"#7201a8\"],[0.3333333333333333,\"#9c179e\"],[0.4444444444444444,\"#bd3786\"],[0.5555555555555556,\"#d8576b\"],[0.6666666666666666,\"#ed7953\"],[0.7777777777777778,\"#fb9f3a\"],[0.8888888888888888,\"#fdca26\"],[1.0,\"#f0f921\"]]}],\"choropleth\":[{\"type\":\"choropleth\",\"colorbar\":{\"outlinewidth\":0,\"ticks\":\"\"}}],\"histogram2d\":[{\"type\":\"histogram2d\",\"colorbar\":{\"outlinewidth\":0,\"ticks\":\"\"},\"colorscale\":[[0.0,\"#0d0887\"],[0.1111111111111111,\"#46039f\"],[0.2222222222222222,\"#7201a8\"],[0.3333333333333333,\"#9c179e\"],[0.4444444444444444,\"#bd3786\"],[0.5555555555555556,\"#d8576b\"],[0.6666666666666666,\"#ed7953\"],[0.7777777777777778,\"#fb9f3a\"],[0.8888888888888888,\"#fdca26\"],[1.0,\"#f0f921\"]]}],\"heatmap\":[{\"type\":\"heatmap\",\"colorbar\":{\"outlinewidth\":0,\"ticks\":\"\"},\"colorscale\":[[0.0,\"#0d0887\"],[0.1111111111111111,\"#46039f\"],[0.2222222222222222,\"#7201a8\"],[0.3333333333333333,\"#9c179e\"],[0.4444444444444444,\"#bd3786\"],[0.5555555555555556,\"#d8576b\"],[0.6666666666666666,\"#ed7953\"],[0.7777777777777778,\"#fb9f3a\"],[0.8888888888888888,\"#fdca26\"],[1.0,\"#f0f921\"]]}],\"heatmapgl\":[{\"type\":\"heatmapgl\",\"colorbar\":{\"outlinewidth\":0,\"ticks\":\"\"},\"colorscale\":[[0.0,\"#0d0887\"],[0.1111111111111111,\"#46039f\"],[0.2222222222222222,\"#7201a8\"],[0.3333333333333333,\"#9c179e\"],[0.4444444444444444,\"#bd3786\"],[0.5555555555555556,\"#d8576b\"],[0.6666666666666666,\"#ed7953\"],[0.7777777777777778,\"#fb9f3a\"],[0.8888888888888888,\"#fdca26\"],[1.0,\"#f0f921\"]]}],\"contourcarpet\":[{\"type\":\"contourcarpet\",\"colorbar\":{\"outlinewidth\":0,\"ticks\":\"\"}}],\"contour\":[{\"type\":\"contour\",\"colorbar\":{\"outlinewidth\":0,\"ticks\":\"\"},\"colorscale\":[[0.0,\"#0d0887\"],[0.1111111111111111,\"#46039f\"],[0.2222222222222222,\"#7201a8\"],[0.3333333333333333,\"#9c179e\"],[0.4444444444444444,\"#bd3786\"],[0.5555555555555556,\"#d8576b\"],[0.6666666666666666,\"#ed7953\"],[0.7777777777777778,\"#fb9f3a\"],[0.8888888888888888,\"#fdca26\"],[1.0,\"#f0f921\"]]}],\"surface\":[{\"type\":\"surface\",\"colorbar\":{\"outlinewidth\":0,\"ticks\":\"\"},\"colorscale\":[[0.0,\"#0d0887\"],[0.1111111111111111,\"#46039f\"],[0.2222222222222222,\"#7201a8\"],[0.3333333333333333,\"#9c179e\"],[0.4444444444444444,\"#bd3786\"],[0.5555555555555556,\"#d8576b\"],[0.6666666666666666,\"#ed7953\"],[0.7777777777777778,\"#fb9f3a\"],[0.8888888888888888,\"#fdca26\"],[1.0,\"#f0f921\"]]}],\"mesh3d\":[{\"type\":\"mesh3d\",\"colorbar\":{\"outlinewidth\":0,\"ticks\":\"\"}}],\"scatter\":[{\"fillpattern\":{\"fillmode\":\"overlay\",\"size\":10,\"solidity\":0.2},\"type\":\"scatter\"}],\"parcoords\":[{\"type\":\"parcoords\",\"line\":{\"colorbar\":{\"outlinewidth\":0,\"ticks\":\"\"}}}],\"scatterpolargl\":[{\"type\":\"scatterpolargl\",\"marker\":{\"colorbar\":{\"outlinewidth\":0,\"ticks\":\"\"}}}],\"bar\":[{\"error_x\":{\"color\":\"#2a3f5f\"},\"error_y\":{\"color\":\"#2a3f5f\"},\"marker\":{\"line\":{\"color\":\"#E5ECF6\",\"width\":0.5},\"pattern\":{\"fillmode\":\"overlay\",\"size\":10,\"solidity\":0.2}},\"type\":\"bar\"}],\"scattergeo\":[{\"type\":\"scattergeo\",\"marker\":{\"colorbar\":{\"outlinewidth\":0,\"ticks\":\"\"}}}],\"scatterpolar\":[{\"type\":\"scatterpolar\",\"marker\":{\"colorbar\":{\"outlinewidth\":0,\"ticks\":\"\"}}}],\"histogram\":[{\"marker\":{\"pattern\":{\"fillmode\":\"overlay\",\"size\":10,\"solidity\":0.2}},\"type\":\"histogram\"}],\"scattergl\":[{\"type\":\"scattergl\",\"marker\":{\"colorbar\":{\"outlinewidth\":0,\"ticks\":\"\"}}}],\"scatter3d\":[{\"type\":\"scatter3d\",\"line\":{\"colorbar\":{\"outlinewidth\":0,\"ticks\":\"\"}},\"marker\":{\"colorbar\":{\"outlinewidth\":0,\"ticks\":\"\"}}}],\"scattermapbox\":[{\"type\":\"scattermapbox\",\"marker\":{\"colorbar\":{\"outlinewidth\":0,\"ticks\":\"\"}}}],\"scatterternary\":[{\"type\":\"scatterternary\",\"marker\":{\"colorbar\":{\"outlinewidth\":0,\"ticks\":\"\"}}}],\"scattercarpet\":[{\"type\":\"scattercarpet\",\"marker\":{\"colorbar\":{\"outlinewidth\":0,\"ticks\":\"\"}}}],\"carpet\":[{\"aaxis\":{\"endlinecolor\":\"#2a3f5f\",\"gridcolor\":\"white\",\"linecolor\":\"white\",\"minorgridcolor\":\"white\",\"startlinecolor\":\"#2a3f5f\"},\"baxis\":{\"endlinecolor\":\"#2a3f5f\",\"gridcolor\":\"white\",\"linecolor\":\"white\",\"minorgridcolor\":\"white\",\"startlinecolor\":\"#2a3f5f\"},\"type\":\"carpet\"}],\"table\":[{\"cells\":{\"fill\":{\"color\":\"#EBF0F8\"},\"line\":{\"color\":\"white\"}},\"header\":{\"fill\":{\"color\":\"#C8D4E3\"},\"line\":{\"color\":\"white\"}},\"type\":\"table\"}],\"barpolar\":[{\"marker\":{\"line\":{\"color\":\"#E5ECF6\",\"width\":0.5},\"pattern\":{\"fillmode\":\"overlay\",\"size\":10,\"solidity\":0.2}},\"type\":\"barpolar\"}],\"pie\":[{\"automargin\":true,\"type\":\"pie\"}]},\"layout\":{\"autotypenumbers\":\"strict\",\"colorway\":[\"#636efa\",\"#EF553B\",\"#00cc96\",\"#ab63fa\",\"#FFA15A\",\"#19d3f3\",\"#FF6692\",\"#B6E880\",\"#FF97FF\",\"#FECB52\"],\"font\":{\"color\":\"#2a3f5f\"},\"hovermode\":\"closest\",\"hoverlabel\":{\"align\":\"left\"},\"paper_bgcolor\":\"white\",\"plot_bgcolor\":\"#E5ECF6\",\"polar\":{\"bgcolor\":\"#E5ECF6\",\"angularaxis\":{\"gridcolor\":\"white\",\"linecolor\":\"white\",\"ticks\":\"\"},\"radialaxis\":{\"gridcolor\":\"white\",\"linecolor\":\"white\",\"ticks\":\"\"}},\"ternary\":{\"bgcolor\":\"#E5ECF6\",\"aaxis\":{\"gridcolor\":\"white\",\"linecolor\":\"white\",\"ticks\":\"\"},\"baxis\":{\"gridcolor\":\"white\",\"linecolor\":\"white\",\"ticks\":\"\"},\"caxis\":{\"gridcolor\":\"white\",\"linecolor\":\"white\",\"ticks\":\"\"}},\"coloraxis\":{\"colorbar\":{\"outlinewidth\":0,\"ticks\":\"\"}},\"colorscale\":{\"sequential\":[[0.0,\"#0d0887\"],[0.1111111111111111,\"#46039f\"],[0.2222222222222222,\"#7201a8\"],[0.3333333333333333,\"#9c179e\"],[0.4444444444444444,\"#bd3786\"],[0.5555555555555556,\"#d8576b\"],[0.6666666666666666,\"#ed7953\"],[0.7777777777777778,\"#fb9f3a\"],[0.8888888888888888,\"#fdca26\"],[1.0,\"#f0f921\"]],\"sequentialminus\":[[0.0,\"#0d0887\"],[0.1111111111111111,\"#46039f\"],[0.2222222222222222,\"#7201a8\"],[0.3333333333333333,\"#9c179e\"],[0.4444444444444444,\"#bd3786\"],[0.5555555555555556,\"#d8576b\"],[0.6666666666666666,\"#ed7953\"],[0.7777777777777778,\"#fb9f3a\"],[0.8888888888888888,\"#fdca26\"],[1.0,\"#f0f921\"]],\"diverging\":[[0,\"#8e0152\"],[0.1,\"#c51b7d\"],[0.2,\"#de77ae\"],[0.3,\"#f1b6da\"],[0.4,\"#fde0ef\"],[0.5,\"#f7f7f7\"],[0.6,\"#e6f5d0\"],[0.7,\"#b8e186\"],[0.8,\"#7fbc41\"],[0.9,\"#4d9221\"],[1,\"#276419\"]]},\"xaxis\":{\"gridcolor\":\"white\",\"linecolor\":\"white\",\"ticks\":\"\",\"title\":{\"standoff\":15},\"zerolinecolor\":\"white\",\"automargin\":true,\"zerolinewidth\":2},\"yaxis\":{\"gridcolor\":\"white\",\"linecolor\":\"white\",\"ticks\":\"\",\"title\":{\"standoff\":15},\"zerolinecolor\":\"white\",\"automargin\":true,\"zerolinewidth\":2},\"scene\":{\"xaxis\":{\"backgroundcolor\":\"#E5ECF6\",\"gridcolor\":\"white\",\"linecolor\":\"white\",\"showbackground\":true,\"ticks\":\"\",\"zerolinecolor\":\"white\",\"gridwidth\":2},\"yaxis\":{\"backgroundcolor\":\"#E5ECF6\",\"gridcolor\":\"white\",\"linecolor\":\"white\",\"showbackground\":true,\"ticks\":\"\",\"zerolinecolor\":\"white\",\"gridwidth\":2},\"zaxis\":{\"backgroundcolor\":\"#E5ECF6\",\"gridcolor\":\"white\",\"linecolor\":\"white\",\"showbackground\":true,\"ticks\":\"\",\"zerolinecolor\":\"white\",\"gridwidth\":2}},\"shapedefaults\":{\"line\":{\"color\":\"#2a3f5f\"}},\"annotationdefaults\":{\"arrowcolor\":\"#2a3f5f\",\"arrowhead\":0,\"arrowwidth\":1},\"geo\":{\"bgcolor\":\"white\",\"landcolor\":\"#E5ECF6\",\"subunitcolor\":\"white\",\"showland\":true,\"showlakes\":true,\"lakecolor\":\"white\"},\"title\":{\"x\":0.05},\"mapbox\":{\"style\":\"light\"}}},\"xaxis\":{\"anchor\":\"y\",\"domain\":[0.0,1.0],\"scaleanchor\":\"y\",\"constrain\":\"domain\",\"title\":{\"text\":\"Position\"}},\"yaxis\":{\"anchor\":\"x\",\"domain\":[0.0,1.0],\"autorange\":\"reversed\",\"constrain\":\"domain\",\"title\":{\"text\":\"Layer\"}},\"coloraxis\":{\"colorscale\":[[0.0,\"rgb(103,0,31)\"],[0.1,\"rgb(178,24,43)\"],[0.2,\"rgb(214,96,77)\"],[0.3,\"rgb(244,165,130)\"],[0.4,\"rgb(253,219,199)\"],[0.5,\"rgb(247,247,247)\"],[0.6,\"rgb(209,229,240)\"],[0.7,\"rgb(146,197,222)\"],[0.8,\"rgb(67,147,195)\"],[0.9,\"rgb(33,102,172)\"],[1.0,\"rgb(5,48,97)\"]],\"cmid\":0.0},\"title\":{\"text\":\"Logit Difference From Patched MLP Layer\"}},                        {\"responsive\": true}                    ).then(function(){\n",
       "                            \n",
       "var gd = document.getElementById('5b33704a-5f4a-4d8a-96bc-707dcc74839a');\n",
       "var x = new MutationObserver(function (mutations, observer) {{\n",
       "        var display = window.getComputedStyle(gd).display;\n",
       "        if (!display || display === 'none') {{\n",
       "            console.log([gd, 'removed!']);\n",
       "            Plotly.purge(gd);\n",
       "            observer.disconnect();\n",
       "        }}\n",
       "}});\n",
       "\n",
       "// Listen for the removal of the full notebook cells\n",
       "var notebookContainer = gd.closest('#notebook-container');\n",
       "if (notebookContainer) {{\n",
       "    x.observe(notebookContainer, {childList: true});\n",
       "}}\n",
       "\n",
       "// Listen for the clearing of the current output cell\n",
       "var outputEl = gd.closest('.output');\n",
       "if (outputEl) {{\n",
       "    x.observe(outputEl, {childList: true});\n",
       "}}\n",
       "\n",
       "                        })                };                });            </script>        </div>"
      ]
     },
     "metadata": {},
     "output_type": "display_data"
    }
   ],
   "source": [
    "imshow(\n",
    "    patched_mlp_diff,\n",
    "    x=prompt_position_labels,\n",
    "    title=\"Logit Difference From Patched MLP Layer\",\n",
    "    labels={\"x\": \"Position\", \"y\": \"Layer\"},\n",
    ")"
   ]
  },
  {
   "cell_type": "markdown",
   "metadata": {},
   "source": [
    "In this case, MLP layer is not again \"not mentioned much\", it begins to process the word and (which means the relation between two names given). Later on, it focused on \"John\" and \"to\". I guess is image is spoiled by the L0P16, as it has such a big diff. But whatever happens, the MLP layers are more active than 2-obj task before, that's for sure."
   ]
  },
  {
   "cell_type": "code",
   "execution_count": 140,
   "metadata": {},
   "outputs": [],
   "source": [
    "def patch_head_vector(\n",
    "    corrupted_head_vector: Float[torch.Tensor, \"batch pos head_index d_head\"],\n",
    "    hook,\n",
    "    head_index,\n",
    "    clean_cache,\n",
    "):\n",
    "    corrupted_head_vector[:, :, head_index, :] = clean_cache[hook.name][\n",
    "        :, :, head_index, :\n",
    "    ]\n",
    "    return corrupted_head_vector\n",
    "\n",
    "\n",
    "patched_head_z_diff = torch.zeros(\n",
    "    model.cfg.n_layers, model.cfg.n_heads, device=device, dtype=torch.float32\n",
    ")\n",
    "for layer in range(model.cfg.n_layers):\n",
    "    for head_index in range(model.cfg.n_heads):\n",
    "        hook_fn = partial(patch_head_vector, head_index=head_index, clean_cache=cache)\n",
    "        patched_logits = model.run_with_hooks(\n",
    "            corrupted_tokens,\n",
    "            fwd_hooks=[(utils.get_act_name(\"z\", layer, \"attn\"), hook_fn)],\n",
    "            return_type=\"logits\",\n",
    "        )\n",
    "        patched_logit_diff = logits_to_ave_logit_diff(patched_logits, answer_tokens)\n",
    "\n",
    "        patched_head_z_diff[layer, head_index] = normalize_patched_logit_diff(\n",
    "            patched_logit_diff\n",
    "        )"
   ]
  },
  {
   "cell_type": "code",
   "execution_count": 141,
   "metadata": {},
   "outputs": [
    {
     "data": {
      "application/vnd.plotly.v1+json": {
       "config": {
        "plotlyServerURL": "https://plot.ly"
       },
       "data": [
        {
         "coloraxis": "coloraxis",
         "hovertemplate": "Head: %{x}<br>Layer: %{y}<br>color: %{z}<extra></extra>",
         "name": "0",
         "type": "heatmap",
         "xaxis": "x",
         "yaxis": "y",
         "z": [
          [
           -0.0011491210898384452,
           -0.07400459051132202,
           -0.0037174909375607967,
           0.013623460195958614,
           -0.025855159386992455,
           -0.022811738774180412,
           -0.008529704064130783,
           -0.004250913858413696,
           0.007923483848571777,
           -0.003874258603900671,
           -0.007525916676968336,
           -0.0003183617955073714
          ],
          [
           -0.012311474420130253,
           -0.001002105767838657,
           0.0010380956809967756,
           0.014966588467359543,
           -0.0023640820290893316,
           -0.002638314850628376,
           0.0009509017108939588,
           -0.00564068416133523,
           -0.0008365493267774582,
           -0.0008692978881299496,
           -0.0060423631221055984,
           0.018758373335003853
          ],
          [
           -0.007966202683746815,
           0.00006241296068765223,
           -0.0026442548260092735,
           0.009321820922195911,
           -0.001256119809113443,
           -0.00025427821674384177,
           -0.0034778770059347153,
           0.0023328682873398066,
           0.00401484128087759,
           0.008590328507125378,
           0.001516230870038271,
           -0.021752284839749336
          ],
          [
           0.012895958498120308,
           -0.004345989786088467,
           -0.021169248968362808,
           -0.008329874835908413,
           -0.024744108319282532,
           -0.017199646681547165,
           0.028555622324347496,
           -0.009812021628022194,
           0.0013195608044043183,
           0.004519021138548851,
           -0.005017097108066082,
           -0.00281525868922472
          ],
          [
           -0.0009842857252806425,
           -0.014713256619870663,
           0.003387941513210535,
           0.11787204444408417,
           -0.02844119444489479,
           0.0019495447631925344,
           -0.026066979393363,
           0.006517642643302679,
           0.0164400115609169,
           -0.0038758579175919294,
           -0.0006039392901584506,
           -0.04456665366888046
          ],
          [
           -0.0031981610227376223,
           0.14429806172847748,
           0.0028001873288303614,
           -0.004829608369618654,
           -0.01423424668610096,
           0.10296261310577393,
           0.0021816978696733713,
           0.001439846120774746,
           -0.049851056188344955,
           0.015170947648584843,
           0.010465201921761036,
           -0.025762781500816345
          ],
          [
           0.16275279223918915,
           -0.00984629150480032,
           0.003692859783768654,
           -0.02197922207415104,
           -0.004078917670994997,
           -0.02064957283437252,
           -0.09202282130718231,
           0.012992027215659618,
           0.0034059116151183844,
           0.02349274791777134,
           0.005676066968590021,
           0.0035274175461381674
          ],
          [
           0.02916351705789566,
           0.019454382359981537,
           0.012652532197535038,
           0.26528751850128174,
           -0.02277209982275963,
           -0.02229560725390911,
           -0.01132497563958168,
           -0.008896728046238422,
           -0.004270483274012804,
           0.2821894586086273,
           0.0002127766638295725,
           0.0017856232589110732
          ],
          [
           -0.00587490014731884,
           -0.006188957020640373,
           -0.005780502688139677,
           0.01658025197684765,
           -0.0011596730910241604,
           -0.018084213137626648,
           0.11505789309740067,
           0.00846859347075224,
           0.001046969904564321,
           -0.001044107018969953,
           0.40613028407096863,
           -0.004206478130072355
          ],
          [
           -0.014337779022753239,
           0.003815165488049388,
           -0.00019533501472324133,
           0.024124901741743088,
           -0.04045974090695381,
           0.03850700706243515,
           -0.060013461858034134,
           0.2962854504585266,
           -0.03711662068963051,
           0.02599954605102539,
           -0.004514559172093868,
           -0.0028748088516294956
          ],
          [
           0.13067379593849182,
           0.04188493266701698,
           -0.03532189875841141,
           0.0039717406034469604,
           -0.00037673383485525846,
           -0.0008605378097854555,
           0.012026696465909481,
           -0.08412450551986694,
           -0.0005243202904239297,
           -0.002771279774606228,
           0.04165833070874214,
           -0.005761883221566677
          ],
          [
           0.0037319697439670563,
           0.06239774078130722,
           -0.14547371864318848,
           -0.006548863369971514,
           -0.00041865662205964327,
           -0.0036449970211833715,
           -0.01559470221400261,
           0.005396922118961811,
           -0.0005241275066509843,
           0.009267982095479965,
           -0.22651802003383636,
           -0.0055649131536483765
          ]
         ]
        }
       ],
       "layout": {
        "coloraxis": {
         "cmid": 0,
         "colorscale": [
          [
           0,
           "rgb(103,0,31)"
          ],
          [
           0.1,
           "rgb(178,24,43)"
          ],
          [
           0.2,
           "rgb(214,96,77)"
          ],
          [
           0.3,
           "rgb(244,165,130)"
          ],
          [
           0.4,
           "rgb(253,219,199)"
          ],
          [
           0.5,
           "rgb(247,247,247)"
          ],
          [
           0.6,
           "rgb(209,229,240)"
          ],
          [
           0.7,
           "rgb(146,197,222)"
          ],
          [
           0.8,
           "rgb(67,147,195)"
          ],
          [
           0.9,
           "rgb(33,102,172)"
          ],
          [
           1,
           "rgb(5,48,97)"
          ]
         ]
        },
        "template": {
         "data": {
          "bar": [
           {
            "error_x": {
             "color": "#2a3f5f"
            },
            "error_y": {
             "color": "#2a3f5f"
            },
            "marker": {
             "line": {
              "color": "#E5ECF6",
              "width": 0.5
             },
             "pattern": {
              "fillmode": "overlay",
              "size": 10,
              "solidity": 0.2
             }
            },
            "type": "bar"
           }
          ],
          "barpolar": [
           {
            "marker": {
             "line": {
              "color": "#E5ECF6",
              "width": 0.5
             },
             "pattern": {
              "fillmode": "overlay",
              "size": 10,
              "solidity": 0.2
             }
            },
            "type": "barpolar"
           }
          ],
          "carpet": [
           {
            "aaxis": {
             "endlinecolor": "#2a3f5f",
             "gridcolor": "white",
             "linecolor": "white",
             "minorgridcolor": "white",
             "startlinecolor": "#2a3f5f"
            },
            "baxis": {
             "endlinecolor": "#2a3f5f",
             "gridcolor": "white",
             "linecolor": "white",
             "minorgridcolor": "white",
             "startlinecolor": "#2a3f5f"
            },
            "type": "carpet"
           }
          ],
          "choropleth": [
           {
            "colorbar": {
             "outlinewidth": 0,
             "ticks": ""
            },
            "type": "choropleth"
           }
          ],
          "contour": [
           {
            "colorbar": {
             "outlinewidth": 0,
             "ticks": ""
            },
            "colorscale": [
             [
              0,
              "#0d0887"
             ],
             [
              0.1111111111111111,
              "#46039f"
             ],
             [
              0.2222222222222222,
              "#7201a8"
             ],
             [
              0.3333333333333333,
              "#9c179e"
             ],
             [
              0.4444444444444444,
              "#bd3786"
             ],
             [
              0.5555555555555556,
              "#d8576b"
             ],
             [
              0.6666666666666666,
              "#ed7953"
             ],
             [
              0.7777777777777778,
              "#fb9f3a"
             ],
             [
              0.8888888888888888,
              "#fdca26"
             ],
             [
              1,
              "#f0f921"
             ]
            ],
            "type": "contour"
           }
          ],
          "contourcarpet": [
           {
            "colorbar": {
             "outlinewidth": 0,
             "ticks": ""
            },
            "type": "contourcarpet"
           }
          ],
          "heatmap": [
           {
            "colorbar": {
             "outlinewidth": 0,
             "ticks": ""
            },
            "colorscale": [
             [
              0,
              "#0d0887"
             ],
             [
              0.1111111111111111,
              "#46039f"
             ],
             [
              0.2222222222222222,
              "#7201a8"
             ],
             [
              0.3333333333333333,
              "#9c179e"
             ],
             [
              0.4444444444444444,
              "#bd3786"
             ],
             [
              0.5555555555555556,
              "#d8576b"
             ],
             [
              0.6666666666666666,
              "#ed7953"
             ],
             [
              0.7777777777777778,
              "#fb9f3a"
             ],
             [
              0.8888888888888888,
              "#fdca26"
             ],
             [
              1,
              "#f0f921"
             ]
            ],
            "type": "heatmap"
           }
          ],
          "heatmapgl": [
           {
            "colorbar": {
             "outlinewidth": 0,
             "ticks": ""
            },
            "colorscale": [
             [
              0,
              "#0d0887"
             ],
             [
              0.1111111111111111,
              "#46039f"
             ],
             [
              0.2222222222222222,
              "#7201a8"
             ],
             [
              0.3333333333333333,
              "#9c179e"
             ],
             [
              0.4444444444444444,
              "#bd3786"
             ],
             [
              0.5555555555555556,
              "#d8576b"
             ],
             [
              0.6666666666666666,
              "#ed7953"
             ],
             [
              0.7777777777777778,
              "#fb9f3a"
             ],
             [
              0.8888888888888888,
              "#fdca26"
             ],
             [
              1,
              "#f0f921"
             ]
            ],
            "type": "heatmapgl"
           }
          ],
          "histogram": [
           {
            "marker": {
             "pattern": {
              "fillmode": "overlay",
              "size": 10,
              "solidity": 0.2
             }
            },
            "type": "histogram"
           }
          ],
          "histogram2d": [
           {
            "colorbar": {
             "outlinewidth": 0,
             "ticks": ""
            },
            "colorscale": [
             [
              0,
              "#0d0887"
             ],
             [
              0.1111111111111111,
              "#46039f"
             ],
             [
              0.2222222222222222,
              "#7201a8"
             ],
             [
              0.3333333333333333,
              "#9c179e"
             ],
             [
              0.4444444444444444,
              "#bd3786"
             ],
             [
              0.5555555555555556,
              "#d8576b"
             ],
             [
              0.6666666666666666,
              "#ed7953"
             ],
             [
              0.7777777777777778,
              "#fb9f3a"
             ],
             [
              0.8888888888888888,
              "#fdca26"
             ],
             [
              1,
              "#f0f921"
             ]
            ],
            "type": "histogram2d"
           }
          ],
          "histogram2dcontour": [
           {
            "colorbar": {
             "outlinewidth": 0,
             "ticks": ""
            },
            "colorscale": [
             [
              0,
              "#0d0887"
             ],
             [
              0.1111111111111111,
              "#46039f"
             ],
             [
              0.2222222222222222,
              "#7201a8"
             ],
             [
              0.3333333333333333,
              "#9c179e"
             ],
             [
              0.4444444444444444,
              "#bd3786"
             ],
             [
              0.5555555555555556,
              "#d8576b"
             ],
             [
              0.6666666666666666,
              "#ed7953"
             ],
             [
              0.7777777777777778,
              "#fb9f3a"
             ],
             [
              0.8888888888888888,
              "#fdca26"
             ],
             [
              1,
              "#f0f921"
             ]
            ],
            "type": "histogram2dcontour"
           }
          ],
          "mesh3d": [
           {
            "colorbar": {
             "outlinewidth": 0,
             "ticks": ""
            },
            "type": "mesh3d"
           }
          ],
          "parcoords": [
           {
            "line": {
             "colorbar": {
              "outlinewidth": 0,
              "ticks": ""
             }
            },
            "type": "parcoords"
           }
          ],
          "pie": [
           {
            "automargin": true,
            "type": "pie"
           }
          ],
          "scatter": [
           {
            "fillpattern": {
             "fillmode": "overlay",
             "size": 10,
             "solidity": 0.2
            },
            "type": "scatter"
           }
          ],
          "scatter3d": [
           {
            "line": {
             "colorbar": {
              "outlinewidth": 0,
              "ticks": ""
             }
            },
            "marker": {
             "colorbar": {
              "outlinewidth": 0,
              "ticks": ""
             }
            },
            "type": "scatter3d"
           }
          ],
          "scattercarpet": [
           {
            "marker": {
             "colorbar": {
              "outlinewidth": 0,
              "ticks": ""
             }
            },
            "type": "scattercarpet"
           }
          ],
          "scattergeo": [
           {
            "marker": {
             "colorbar": {
              "outlinewidth": 0,
              "ticks": ""
             }
            },
            "type": "scattergeo"
           }
          ],
          "scattergl": [
           {
            "marker": {
             "colorbar": {
              "outlinewidth": 0,
              "ticks": ""
             }
            },
            "type": "scattergl"
           }
          ],
          "scattermapbox": [
           {
            "marker": {
             "colorbar": {
              "outlinewidth": 0,
              "ticks": ""
             }
            },
            "type": "scattermapbox"
           }
          ],
          "scatterpolar": [
           {
            "marker": {
             "colorbar": {
              "outlinewidth": 0,
              "ticks": ""
             }
            },
            "type": "scatterpolar"
           }
          ],
          "scatterpolargl": [
           {
            "marker": {
             "colorbar": {
              "outlinewidth": 0,
              "ticks": ""
             }
            },
            "type": "scatterpolargl"
           }
          ],
          "scatterternary": [
           {
            "marker": {
             "colorbar": {
              "outlinewidth": 0,
              "ticks": ""
             }
            },
            "type": "scatterternary"
           }
          ],
          "surface": [
           {
            "colorbar": {
             "outlinewidth": 0,
             "ticks": ""
            },
            "colorscale": [
             [
              0,
              "#0d0887"
             ],
             [
              0.1111111111111111,
              "#46039f"
             ],
             [
              0.2222222222222222,
              "#7201a8"
             ],
             [
              0.3333333333333333,
              "#9c179e"
             ],
             [
              0.4444444444444444,
              "#bd3786"
             ],
             [
              0.5555555555555556,
              "#d8576b"
             ],
             [
              0.6666666666666666,
              "#ed7953"
             ],
             [
              0.7777777777777778,
              "#fb9f3a"
             ],
             [
              0.8888888888888888,
              "#fdca26"
             ],
             [
              1,
              "#f0f921"
             ]
            ],
            "type": "surface"
           }
          ],
          "table": [
           {
            "cells": {
             "fill": {
              "color": "#EBF0F8"
             },
             "line": {
              "color": "white"
             }
            },
            "header": {
             "fill": {
              "color": "#C8D4E3"
             },
             "line": {
              "color": "white"
             }
            },
            "type": "table"
           }
          ]
         },
         "layout": {
          "annotationdefaults": {
           "arrowcolor": "#2a3f5f",
           "arrowhead": 0,
           "arrowwidth": 1
          },
          "autotypenumbers": "strict",
          "coloraxis": {
           "colorbar": {
            "outlinewidth": 0,
            "ticks": ""
           }
          },
          "colorscale": {
           "diverging": [
            [
             0,
             "#8e0152"
            ],
            [
             0.1,
             "#c51b7d"
            ],
            [
             0.2,
             "#de77ae"
            ],
            [
             0.3,
             "#f1b6da"
            ],
            [
             0.4,
             "#fde0ef"
            ],
            [
             0.5,
             "#f7f7f7"
            ],
            [
             0.6,
             "#e6f5d0"
            ],
            [
             0.7,
             "#b8e186"
            ],
            [
             0.8,
             "#7fbc41"
            ],
            [
             0.9,
             "#4d9221"
            ],
            [
             1,
             "#276419"
            ]
           ],
           "sequential": [
            [
             0,
             "#0d0887"
            ],
            [
             0.1111111111111111,
             "#46039f"
            ],
            [
             0.2222222222222222,
             "#7201a8"
            ],
            [
             0.3333333333333333,
             "#9c179e"
            ],
            [
             0.4444444444444444,
             "#bd3786"
            ],
            [
             0.5555555555555556,
             "#d8576b"
            ],
            [
             0.6666666666666666,
             "#ed7953"
            ],
            [
             0.7777777777777778,
             "#fb9f3a"
            ],
            [
             0.8888888888888888,
             "#fdca26"
            ],
            [
             1,
             "#f0f921"
            ]
           ],
           "sequentialminus": [
            [
             0,
             "#0d0887"
            ],
            [
             0.1111111111111111,
             "#46039f"
            ],
            [
             0.2222222222222222,
             "#7201a8"
            ],
            [
             0.3333333333333333,
             "#9c179e"
            ],
            [
             0.4444444444444444,
             "#bd3786"
            ],
            [
             0.5555555555555556,
             "#d8576b"
            ],
            [
             0.6666666666666666,
             "#ed7953"
            ],
            [
             0.7777777777777778,
             "#fb9f3a"
            ],
            [
             0.8888888888888888,
             "#fdca26"
            ],
            [
             1,
             "#f0f921"
            ]
           ]
          },
          "colorway": [
           "#636efa",
           "#EF553B",
           "#00cc96",
           "#ab63fa",
           "#FFA15A",
           "#19d3f3",
           "#FF6692",
           "#B6E880",
           "#FF97FF",
           "#FECB52"
          ],
          "font": {
           "color": "#2a3f5f"
          },
          "geo": {
           "bgcolor": "white",
           "lakecolor": "white",
           "landcolor": "#E5ECF6",
           "showlakes": true,
           "showland": true,
           "subunitcolor": "white"
          },
          "hoverlabel": {
           "align": "left"
          },
          "hovermode": "closest",
          "mapbox": {
           "style": "light"
          },
          "paper_bgcolor": "white",
          "plot_bgcolor": "#E5ECF6",
          "polar": {
           "angularaxis": {
            "gridcolor": "white",
            "linecolor": "white",
            "ticks": ""
           },
           "bgcolor": "#E5ECF6",
           "radialaxis": {
            "gridcolor": "white",
            "linecolor": "white",
            "ticks": ""
           }
          },
          "scene": {
           "xaxis": {
            "backgroundcolor": "#E5ECF6",
            "gridcolor": "white",
            "gridwidth": 2,
            "linecolor": "white",
            "showbackground": true,
            "ticks": "",
            "zerolinecolor": "white"
           },
           "yaxis": {
            "backgroundcolor": "#E5ECF6",
            "gridcolor": "white",
            "gridwidth": 2,
            "linecolor": "white",
            "showbackground": true,
            "ticks": "",
            "zerolinecolor": "white"
           },
           "zaxis": {
            "backgroundcolor": "#E5ECF6",
            "gridcolor": "white",
            "gridwidth": 2,
            "linecolor": "white",
            "showbackground": true,
            "ticks": "",
            "zerolinecolor": "white"
           }
          },
          "shapedefaults": {
           "line": {
            "color": "#2a3f5f"
           }
          },
          "ternary": {
           "aaxis": {
            "gridcolor": "white",
            "linecolor": "white",
            "ticks": ""
           },
           "baxis": {
            "gridcolor": "white",
            "linecolor": "white",
            "ticks": ""
           },
           "bgcolor": "#E5ECF6",
           "caxis": {
            "gridcolor": "white",
            "linecolor": "white",
            "ticks": ""
           }
          },
          "title": {
           "x": 0.05
          },
          "xaxis": {
           "automargin": true,
           "gridcolor": "white",
           "linecolor": "white",
           "ticks": "",
           "title": {
            "standoff": 15
           },
           "zerolinecolor": "white",
           "zerolinewidth": 2
          },
          "yaxis": {
           "automargin": true,
           "gridcolor": "white",
           "linecolor": "white",
           "ticks": "",
           "title": {
            "standoff": 15
           },
           "zerolinecolor": "white",
           "zerolinewidth": 2
          }
         }
        },
        "title": {
         "text": "Logit Difference From Patched Head Output"
        },
        "xaxis": {
         "anchor": "y",
         "constrain": "domain",
         "domain": [
          0,
          1
         ],
         "scaleanchor": "y",
         "title": {
          "text": "Head"
         }
        },
        "yaxis": {
         "anchor": "x",
         "autorange": "reversed",
         "constrain": "domain",
         "domain": [
          0,
          1
         ],
         "title": {
          "text": "Layer"
         }
        }
       }
      },
      "text/html": [
       "<div>                            <div id=\"5396e4ec-fda9-47ae-bb4d-cb56b1a81426\" class=\"plotly-graph-div\" style=\"height:525px; width:100%;\"></div>            <script type=\"text/javascript\">                require([\"plotly\"], function(Plotly) {                    window.PLOTLYENV=window.PLOTLYENV || {};                                    if (document.getElementById(\"5396e4ec-fda9-47ae-bb4d-cb56b1a81426\")) {                    Plotly.newPlot(                        \"5396e4ec-fda9-47ae-bb4d-cb56b1a81426\",                        [{\"coloraxis\":\"coloraxis\",\"name\":\"0\",\"z\":[[-0.0011491210898384452,-0.07400459051132202,-0.0037174909375607967,0.013623460195958614,-0.025855159386992455,-0.022811738774180412,-0.008529704064130783,-0.004250913858413696,0.007923483848571777,-0.003874258603900671,-0.007525916676968336,-0.0003183617955073714],[-0.012311474420130253,-0.001002105767838657,0.0010380956809967756,0.014966588467359543,-0.0023640820290893316,-0.002638314850628376,0.0009509017108939588,-0.00564068416133523,-0.0008365493267774582,-0.0008692978881299496,-0.0060423631221055984,0.018758373335003853],[-0.007966202683746815,6.241296068765223e-05,-0.0026442548260092735,0.009321820922195911,-0.001256119809113443,-0.00025427821674384177,-0.0034778770059347153,0.0023328682873398066,0.00401484128087759,0.008590328507125378,0.001516230870038271,-0.021752284839749336],[0.012895958498120308,-0.004345989786088467,-0.021169248968362808,-0.008329874835908413,-0.024744108319282532,-0.017199646681547165,0.028555622324347496,-0.009812021628022194,0.0013195608044043183,0.004519021138548851,-0.005017097108066082,-0.00281525868922472],[-0.0009842857252806425,-0.014713256619870663,0.003387941513210535,0.11787204444408417,-0.02844119444489479,0.0019495447631925344,-0.026066979393363,0.006517642643302679,0.0164400115609169,-0.0038758579175919294,-0.0006039392901584506,-0.04456665366888046],[-0.0031981610227376223,0.14429806172847748,0.0028001873288303614,-0.004829608369618654,-0.01423424668610096,0.10296261310577393,0.0021816978696733713,0.001439846120774746,-0.049851056188344955,0.015170947648584843,0.010465201921761036,-0.025762781500816345],[0.16275279223918915,-0.00984629150480032,0.003692859783768654,-0.02197922207415104,-0.004078917670994997,-0.02064957283437252,-0.09202282130718231,0.012992027215659618,0.0034059116151183844,0.02349274791777134,0.005676066968590021,0.0035274175461381674],[0.02916351705789566,0.019454382359981537,0.012652532197535038,0.26528751850128174,-0.02277209982275963,-0.02229560725390911,-0.01132497563958168,-0.008896728046238422,-0.004270483274012804,0.2821894586086273,0.0002127766638295725,0.0017856232589110732],[-0.00587490014731884,-0.006188957020640373,-0.005780502688139677,0.01658025197684765,-0.0011596730910241604,-0.018084213137626648,0.11505789309740067,0.00846859347075224,0.001046969904564321,-0.001044107018969953,0.40613028407096863,-0.004206478130072355],[-0.014337779022753239,0.003815165488049388,-0.00019533501472324133,0.024124901741743088,-0.04045974090695381,0.03850700706243515,-0.060013461858034134,0.2962854504585266,-0.03711662068963051,0.02599954605102539,-0.004514559172093868,-0.0028748088516294956],[0.13067379593849182,0.04188493266701698,-0.03532189875841141,0.0039717406034469604,-0.00037673383485525846,-0.0008605378097854555,0.012026696465909481,-0.08412450551986694,-0.0005243202904239297,-0.002771279774606228,0.04165833070874214,-0.005761883221566677],[0.0037319697439670563,0.06239774078130722,-0.14547371864318848,-0.006548863369971514,-0.00041865662205964327,-0.0036449970211833715,-0.01559470221400261,0.005396922118961811,-0.0005241275066509843,0.009267982095479965,-0.22651802003383636,-0.0055649131536483765]],\"type\":\"heatmap\",\"xaxis\":\"x\",\"yaxis\":\"y\",\"hovertemplate\":\"Head: %{x}\\u003cbr\\u003eLayer: %{y}\\u003cbr\\u003ecolor: %{z}\\u003cextra\\u003e\\u003c\\u002fextra\\u003e\"}],                        {\"template\":{\"data\":{\"histogram2dcontour\":[{\"type\":\"histogram2dcontour\",\"colorbar\":{\"outlinewidth\":0,\"ticks\":\"\"},\"colorscale\":[[0.0,\"#0d0887\"],[0.1111111111111111,\"#46039f\"],[0.2222222222222222,\"#7201a8\"],[0.3333333333333333,\"#9c179e\"],[0.4444444444444444,\"#bd3786\"],[0.5555555555555556,\"#d8576b\"],[0.6666666666666666,\"#ed7953\"],[0.7777777777777778,\"#fb9f3a\"],[0.8888888888888888,\"#fdca26\"],[1.0,\"#f0f921\"]]}],\"choropleth\":[{\"type\":\"choropleth\",\"colorbar\":{\"outlinewidth\":0,\"ticks\":\"\"}}],\"histogram2d\":[{\"type\":\"histogram2d\",\"colorbar\":{\"outlinewidth\":0,\"ticks\":\"\"},\"colorscale\":[[0.0,\"#0d0887\"],[0.1111111111111111,\"#46039f\"],[0.2222222222222222,\"#7201a8\"],[0.3333333333333333,\"#9c179e\"],[0.4444444444444444,\"#bd3786\"],[0.5555555555555556,\"#d8576b\"],[0.6666666666666666,\"#ed7953\"],[0.7777777777777778,\"#fb9f3a\"],[0.8888888888888888,\"#fdca26\"],[1.0,\"#f0f921\"]]}],\"heatmap\":[{\"type\":\"heatmap\",\"colorbar\":{\"outlinewidth\":0,\"ticks\":\"\"},\"colorscale\":[[0.0,\"#0d0887\"],[0.1111111111111111,\"#46039f\"],[0.2222222222222222,\"#7201a8\"],[0.3333333333333333,\"#9c179e\"],[0.4444444444444444,\"#bd3786\"],[0.5555555555555556,\"#d8576b\"],[0.6666666666666666,\"#ed7953\"],[0.7777777777777778,\"#fb9f3a\"],[0.8888888888888888,\"#fdca26\"],[1.0,\"#f0f921\"]]}],\"heatmapgl\":[{\"type\":\"heatmapgl\",\"colorbar\":{\"outlinewidth\":0,\"ticks\":\"\"},\"colorscale\":[[0.0,\"#0d0887\"],[0.1111111111111111,\"#46039f\"],[0.2222222222222222,\"#7201a8\"],[0.3333333333333333,\"#9c179e\"],[0.4444444444444444,\"#bd3786\"],[0.5555555555555556,\"#d8576b\"],[0.6666666666666666,\"#ed7953\"],[0.7777777777777778,\"#fb9f3a\"],[0.8888888888888888,\"#fdca26\"],[1.0,\"#f0f921\"]]}],\"contourcarpet\":[{\"type\":\"contourcarpet\",\"colorbar\":{\"outlinewidth\":0,\"ticks\":\"\"}}],\"contour\":[{\"type\":\"contour\",\"colorbar\":{\"outlinewidth\":0,\"ticks\":\"\"},\"colorscale\":[[0.0,\"#0d0887\"],[0.1111111111111111,\"#46039f\"],[0.2222222222222222,\"#7201a8\"],[0.3333333333333333,\"#9c179e\"],[0.4444444444444444,\"#bd3786\"],[0.5555555555555556,\"#d8576b\"],[0.6666666666666666,\"#ed7953\"],[0.7777777777777778,\"#fb9f3a\"],[0.8888888888888888,\"#fdca26\"],[1.0,\"#f0f921\"]]}],\"surface\":[{\"type\":\"surface\",\"colorbar\":{\"outlinewidth\":0,\"ticks\":\"\"},\"colorscale\":[[0.0,\"#0d0887\"],[0.1111111111111111,\"#46039f\"],[0.2222222222222222,\"#7201a8\"],[0.3333333333333333,\"#9c179e\"],[0.4444444444444444,\"#bd3786\"],[0.5555555555555556,\"#d8576b\"],[0.6666666666666666,\"#ed7953\"],[0.7777777777777778,\"#fb9f3a\"],[0.8888888888888888,\"#fdca26\"],[1.0,\"#f0f921\"]]}],\"mesh3d\":[{\"type\":\"mesh3d\",\"colorbar\":{\"outlinewidth\":0,\"ticks\":\"\"}}],\"scatter\":[{\"fillpattern\":{\"fillmode\":\"overlay\",\"size\":10,\"solidity\":0.2},\"type\":\"scatter\"}],\"parcoords\":[{\"type\":\"parcoords\",\"line\":{\"colorbar\":{\"outlinewidth\":0,\"ticks\":\"\"}}}],\"scatterpolargl\":[{\"type\":\"scatterpolargl\",\"marker\":{\"colorbar\":{\"outlinewidth\":0,\"ticks\":\"\"}}}],\"bar\":[{\"error_x\":{\"color\":\"#2a3f5f\"},\"error_y\":{\"color\":\"#2a3f5f\"},\"marker\":{\"line\":{\"color\":\"#E5ECF6\",\"width\":0.5},\"pattern\":{\"fillmode\":\"overlay\",\"size\":10,\"solidity\":0.2}},\"type\":\"bar\"}],\"scattergeo\":[{\"type\":\"scattergeo\",\"marker\":{\"colorbar\":{\"outlinewidth\":0,\"ticks\":\"\"}}}],\"scatterpolar\":[{\"type\":\"scatterpolar\",\"marker\":{\"colorbar\":{\"outlinewidth\":0,\"ticks\":\"\"}}}],\"histogram\":[{\"marker\":{\"pattern\":{\"fillmode\":\"overlay\",\"size\":10,\"solidity\":0.2}},\"type\":\"histogram\"}],\"scattergl\":[{\"type\":\"scattergl\",\"marker\":{\"colorbar\":{\"outlinewidth\":0,\"ticks\":\"\"}}}],\"scatter3d\":[{\"type\":\"scatter3d\",\"line\":{\"colorbar\":{\"outlinewidth\":0,\"ticks\":\"\"}},\"marker\":{\"colorbar\":{\"outlinewidth\":0,\"ticks\":\"\"}}}],\"scattermapbox\":[{\"type\":\"scattermapbox\",\"marker\":{\"colorbar\":{\"outlinewidth\":0,\"ticks\":\"\"}}}],\"scatterternary\":[{\"type\":\"scatterternary\",\"marker\":{\"colorbar\":{\"outlinewidth\":0,\"ticks\":\"\"}}}],\"scattercarpet\":[{\"type\":\"scattercarpet\",\"marker\":{\"colorbar\":{\"outlinewidth\":0,\"ticks\":\"\"}}}],\"carpet\":[{\"aaxis\":{\"endlinecolor\":\"#2a3f5f\",\"gridcolor\":\"white\",\"linecolor\":\"white\",\"minorgridcolor\":\"white\",\"startlinecolor\":\"#2a3f5f\"},\"baxis\":{\"endlinecolor\":\"#2a3f5f\",\"gridcolor\":\"white\",\"linecolor\":\"white\",\"minorgridcolor\":\"white\",\"startlinecolor\":\"#2a3f5f\"},\"type\":\"carpet\"}],\"table\":[{\"cells\":{\"fill\":{\"color\":\"#EBF0F8\"},\"line\":{\"color\":\"white\"}},\"header\":{\"fill\":{\"color\":\"#C8D4E3\"},\"line\":{\"color\":\"white\"}},\"type\":\"table\"}],\"barpolar\":[{\"marker\":{\"line\":{\"color\":\"#E5ECF6\",\"width\":0.5},\"pattern\":{\"fillmode\":\"overlay\",\"size\":10,\"solidity\":0.2}},\"type\":\"barpolar\"}],\"pie\":[{\"automargin\":true,\"type\":\"pie\"}]},\"layout\":{\"autotypenumbers\":\"strict\",\"colorway\":[\"#636efa\",\"#EF553B\",\"#00cc96\",\"#ab63fa\",\"#FFA15A\",\"#19d3f3\",\"#FF6692\",\"#B6E880\",\"#FF97FF\",\"#FECB52\"],\"font\":{\"color\":\"#2a3f5f\"},\"hovermode\":\"closest\",\"hoverlabel\":{\"align\":\"left\"},\"paper_bgcolor\":\"white\",\"plot_bgcolor\":\"#E5ECF6\",\"polar\":{\"bgcolor\":\"#E5ECF6\",\"angularaxis\":{\"gridcolor\":\"white\",\"linecolor\":\"white\",\"ticks\":\"\"},\"radialaxis\":{\"gridcolor\":\"white\",\"linecolor\":\"white\",\"ticks\":\"\"}},\"ternary\":{\"bgcolor\":\"#E5ECF6\",\"aaxis\":{\"gridcolor\":\"white\",\"linecolor\":\"white\",\"ticks\":\"\"},\"baxis\":{\"gridcolor\":\"white\",\"linecolor\":\"white\",\"ticks\":\"\"},\"caxis\":{\"gridcolor\":\"white\",\"linecolor\":\"white\",\"ticks\":\"\"}},\"coloraxis\":{\"colorbar\":{\"outlinewidth\":0,\"ticks\":\"\"}},\"colorscale\":{\"sequential\":[[0.0,\"#0d0887\"],[0.1111111111111111,\"#46039f\"],[0.2222222222222222,\"#7201a8\"],[0.3333333333333333,\"#9c179e\"],[0.4444444444444444,\"#bd3786\"],[0.5555555555555556,\"#d8576b\"],[0.6666666666666666,\"#ed7953\"],[0.7777777777777778,\"#fb9f3a\"],[0.8888888888888888,\"#fdca26\"],[1.0,\"#f0f921\"]],\"sequentialminus\":[[0.0,\"#0d0887\"],[0.1111111111111111,\"#46039f\"],[0.2222222222222222,\"#7201a8\"],[0.3333333333333333,\"#9c179e\"],[0.4444444444444444,\"#bd3786\"],[0.5555555555555556,\"#d8576b\"],[0.6666666666666666,\"#ed7953\"],[0.7777777777777778,\"#fb9f3a\"],[0.8888888888888888,\"#fdca26\"],[1.0,\"#f0f921\"]],\"diverging\":[[0,\"#8e0152\"],[0.1,\"#c51b7d\"],[0.2,\"#de77ae\"],[0.3,\"#f1b6da\"],[0.4,\"#fde0ef\"],[0.5,\"#f7f7f7\"],[0.6,\"#e6f5d0\"],[0.7,\"#b8e186\"],[0.8,\"#7fbc41\"],[0.9,\"#4d9221\"],[1,\"#276419\"]]},\"xaxis\":{\"gridcolor\":\"white\",\"linecolor\":\"white\",\"ticks\":\"\",\"title\":{\"standoff\":15},\"zerolinecolor\":\"white\",\"automargin\":true,\"zerolinewidth\":2},\"yaxis\":{\"gridcolor\":\"white\",\"linecolor\":\"white\",\"ticks\":\"\",\"title\":{\"standoff\":15},\"zerolinecolor\":\"white\",\"automargin\":true,\"zerolinewidth\":2},\"scene\":{\"xaxis\":{\"backgroundcolor\":\"#E5ECF6\",\"gridcolor\":\"white\",\"linecolor\":\"white\",\"showbackground\":true,\"ticks\":\"\",\"zerolinecolor\":\"white\",\"gridwidth\":2},\"yaxis\":{\"backgroundcolor\":\"#E5ECF6\",\"gridcolor\":\"white\",\"linecolor\":\"white\",\"showbackground\":true,\"ticks\":\"\",\"zerolinecolor\":\"white\",\"gridwidth\":2},\"zaxis\":{\"backgroundcolor\":\"#E5ECF6\",\"gridcolor\":\"white\",\"linecolor\":\"white\",\"showbackground\":true,\"ticks\":\"\",\"zerolinecolor\":\"white\",\"gridwidth\":2}},\"shapedefaults\":{\"line\":{\"color\":\"#2a3f5f\"}},\"annotationdefaults\":{\"arrowcolor\":\"#2a3f5f\",\"arrowhead\":0,\"arrowwidth\":1},\"geo\":{\"bgcolor\":\"white\",\"landcolor\":\"#E5ECF6\",\"subunitcolor\":\"white\",\"showland\":true,\"showlakes\":true,\"lakecolor\":\"white\"},\"title\":{\"x\":0.05},\"mapbox\":{\"style\":\"light\"}}},\"xaxis\":{\"anchor\":\"y\",\"domain\":[0.0,1.0],\"scaleanchor\":\"y\",\"constrain\":\"domain\",\"title\":{\"text\":\"Head\"}},\"yaxis\":{\"anchor\":\"x\",\"domain\":[0.0,1.0],\"autorange\":\"reversed\",\"constrain\":\"domain\",\"title\":{\"text\":\"Layer\"}},\"coloraxis\":{\"colorscale\":[[0.0,\"rgb(103,0,31)\"],[0.1,\"rgb(178,24,43)\"],[0.2,\"rgb(214,96,77)\"],[0.3,\"rgb(244,165,130)\"],[0.4,\"rgb(253,219,199)\"],[0.5,\"rgb(247,247,247)\"],[0.6,\"rgb(209,229,240)\"],[0.7,\"rgb(146,197,222)\"],[0.8,\"rgb(67,147,195)\"],[0.9,\"rgb(33,102,172)\"],[1.0,\"rgb(5,48,97)\"]],\"cmid\":0.0},\"title\":{\"text\":\"Logit Difference From Patched Head Output\"}},                        {\"responsive\": true}                    ).then(function(){\n",
       "                            \n",
       "var gd = document.getElementById('5396e4ec-fda9-47ae-bb4d-cb56b1a81426');\n",
       "var x = new MutationObserver(function (mutations, observer) {{\n",
       "        var display = window.getComputedStyle(gd).display;\n",
       "        if (!display || display === 'none') {{\n",
       "            console.log([gd, 'removed!']);\n",
       "            Plotly.purge(gd);\n",
       "            observer.disconnect();\n",
       "        }}\n",
       "}});\n",
       "\n",
       "// Listen for the removal of the full notebook cells\n",
       "var notebookContainer = gd.closest('#notebook-container');\n",
       "if (notebookContainer) {{\n",
       "    x.observe(notebookContainer, {childList: true});\n",
       "}}\n",
       "\n",
       "// Listen for the clearing of the current output cell\n",
       "var outputEl = gd.closest('.output');\n",
       "if (outputEl) {{\n",
       "    x.observe(outputEl, {childList: true});\n",
       "}}\n",
       "\n",
       "                        })                };                });            </script>        </div>"
      ]
     },
     "metadata": {},
     "output_type": "display_data"
    }
   ],
   "source": [
    "imshow(\n",
    "    patched_head_z_diff,\n",
    "    title=\"Logit Difference From Patched Head Output\",\n",
    "    labels={\"x\": \"Head\", \"y\": \"Layer\"},\n",
    ")"
   ]
  },
  {
   "cell_type": "markdown",
   "metadata": {},
   "source": [
    "Early: L6H0, L4H3, L5H1, L5H5\n",
    "Mid: L8H10, L7H3, L7H9, L8H6\n",
    "Late: L9H7, L11H10, L11H2, L10H0\n",
    "Previous notable heads like L10H0 and L10H7 seems to decrease their diff in output though"
   ]
  },
  {
   "cell_type": "code",
   "execution_count": 142,
   "metadata": {},
   "outputs": [],
   "source": [
    "patched_head_v_diff = torch.zeros(\n",
    "    model.cfg.n_layers, model.cfg.n_heads, device=device, dtype=torch.float32\n",
    ")\n",
    "for layer in range(model.cfg.n_layers):\n",
    "    for head_index in range(model.cfg.n_heads):\n",
    "        hook_fn = partial(patch_head_vector, head_index=head_index, clean_cache=cache)\n",
    "        patched_logits = model.run_with_hooks(\n",
    "            corrupted_tokens,\n",
    "            fwd_hooks=[(utils.get_act_name(\"v\", layer, \"attn\"), hook_fn)],\n",
    "            return_type=\"logits\",\n",
    "        )\n",
    "        patched_logit_diff = logits_to_ave_logit_diff(patched_logits, answer_tokens)\n",
    "\n",
    "        patched_head_v_diff[layer, head_index] = normalize_patched_logit_diff(\n",
    "            patched_logit_diff\n",
    "        )"
   ]
  },
  {
   "cell_type": "code",
   "execution_count": 143,
   "metadata": {},
   "outputs": [
    {
     "data": {
      "application/vnd.plotly.v1+json": {
       "config": {
        "plotlyServerURL": "https://plot.ly"
       },
       "data": [
        {
         "coloraxis": "coloraxis",
         "hovertemplate": "Head: %{x}<br>Layer: %{y}<br>color: %{z}<extra></extra>",
         "name": "0",
         "type": "heatmap",
         "xaxis": "x",
         "yaxis": "y",
         "z": [
          [
           -0.0003135997976642102,
           -0.031184835359454155,
           -0.00018200567865278572,
           0.01411925908178091,
           -0.027778083458542824,
           -0.017835304141044617,
           -0.005838267970830202,
           -0.002763590542599559,
           0.0024137438740581274,
           -0.0010797471040859818,
           -0.0033753691241145134,
           -0.0007988173747435212
          ],
          [
           -0.0006550362450070679,
           -0.0029912886675447226,
           0.00011503061978146434,
           -0.00043491311953403056,
           0.0009790025651454926,
           -0.015297280624508858,
           0.0004599368548952043,
           -0.0015464592725038528,
           -0.0011468364391475916,
           0.0002651730028446764,
           -0.004346561152487993,
           0.009105774573981762
          ],
          [
           -0.003358805552124977,
           0.001127274357713759,
           -0.0035848687402904034,
           0.009810429997742176,
           -0.00212184083648026,
           0.0007963043171912432,
           -0.002302782842889428,
           -0.00009370511543238536,
           -0.0006891128141433001,
           0.0030792108736932278,
           -0.0021217979956418276,
           0.001621130621060729
          ],
          [
           0.011956673115491867,
           -0.002580592641606927,
           -0.013629700057208538,
           -0.005333024077117443,
           -0.03907084837555885,
           -0.01450322475284338,
           0.031331323087215424,
           0.00044047474511899054,
           0.006792289670556784,
           0.004189535975456238,
           -0.002468945924192667,
           0.00024998027947731316
          ],
          [
           -0.00008799356874078512,
           -0.011486419476568699,
           -0.0021856960374861956,
           0.10699126869440079,
           -0.034065283834934235,
           -0.0016832652036100626,
           -0.01754157617688179,
           0.0014296009903773665,
           0.002618859987705946,
           -0.0026651592925190926,
           -0.0008303451468236744,
           -0.044455695897340775
          ],
          [
           -0.00467977300286293,
           0.0003853011585306376,
           0.02366485819220543,
           -0.0040083229541778564,
           -0.004033796489238739,
           0.004210897255688906,
           0.002362604020163417,
           0.001862579258158803,
           -0.011118139140307903,
           -0.049473825842142105,
           0.01048492081463337,
           -0.03110167384147644
          ],
          [
           0.17572617530822754,
           0.0001510919100837782,
           0.0017893572803586721,
           -0.0006492104730568826,
           -0.002611777512356639,
           -0.02723415568470955,
           -0.050090327858924866,
           0.014255422167479992,
           0.02032691426575184,
           -0.003083130344748497,
           -0.00758916512131691,
           -0.000022389276637113653
          ],
          [
           0.01124197244644165,
           0.0006657025660388172,
           0.0001921008515637368,
           0.3205493688583374,
           -0.014966506510972977,
           -0.022381886839866638,
           0.00249176356010139,
           -0.008751158602535725,
           -0.003275723895058036,
           0.27290651202201843,
           -0.0018678625347092748,
           0.0009347522864118218
          ],
          [
           -0.005309985019266605,
           -0.003489942755550146,
           -0.005568604450672865,
           -0.03012964315712452,
           -0.0005634229746647179,
           -0.024567393586039543,
           0.10715272277593613,
           0.007177248131483793,
           0.00037829737993888557,
           -0.0004894012818112969,
           0.45412477850914,
           -0.011062508448958397
          ],
          [
           -0.010365927591919899,
           0.002085900865495205,
           -0.013606243766844273,
           0.027248091995716095,
           -0.0615900419652462,
           0.03243151679635048,
           -0.019958440214395523,
           0.3792473375797272,
           -0.017959434539079666,
           -0.03603074327111244,
           -0.0013040967751294374,
           -0.004709972534328699
          ],
          [
           -0.04826983064413071,
           -0.00886835902929306,
           -0.05445410683751106,
           -0.012220581993460655,
           -0.00039687418029643595,
           0.0008716610609553754,
           -0.03681120276451111,
           0.20171058177947998,
           0.001084166462533176,
           -0.004974831361323595,
           -0.05105642229318619,
           -0.008957081474363804
          ],
          [
           0.006500586401671171,
           -0.010312775149941444,
           -0.12992101907730103,
           0.012549988925457,
           0.000869454990606755,
           0.006341076921671629,
           -0.03367495536804199,
           0.0077600544318556786,
           -0.002287511480972171,
           -0.009475422091782093,
           0.06190463528037071,
           -0.002825232455506921
          ]
         ]
        }
       ],
       "layout": {
        "coloraxis": {
         "cmid": 0,
         "colorscale": [
          [
           0,
           "rgb(103,0,31)"
          ],
          [
           0.1,
           "rgb(178,24,43)"
          ],
          [
           0.2,
           "rgb(214,96,77)"
          ],
          [
           0.3,
           "rgb(244,165,130)"
          ],
          [
           0.4,
           "rgb(253,219,199)"
          ],
          [
           0.5,
           "rgb(247,247,247)"
          ],
          [
           0.6,
           "rgb(209,229,240)"
          ],
          [
           0.7,
           "rgb(146,197,222)"
          ],
          [
           0.8,
           "rgb(67,147,195)"
          ],
          [
           0.9,
           "rgb(33,102,172)"
          ],
          [
           1,
           "rgb(5,48,97)"
          ]
         ]
        },
        "template": {
         "data": {
          "bar": [
           {
            "error_x": {
             "color": "#2a3f5f"
            },
            "error_y": {
             "color": "#2a3f5f"
            },
            "marker": {
             "line": {
              "color": "#E5ECF6",
              "width": 0.5
             },
             "pattern": {
              "fillmode": "overlay",
              "size": 10,
              "solidity": 0.2
             }
            },
            "type": "bar"
           }
          ],
          "barpolar": [
           {
            "marker": {
             "line": {
              "color": "#E5ECF6",
              "width": 0.5
             },
             "pattern": {
              "fillmode": "overlay",
              "size": 10,
              "solidity": 0.2
             }
            },
            "type": "barpolar"
           }
          ],
          "carpet": [
           {
            "aaxis": {
             "endlinecolor": "#2a3f5f",
             "gridcolor": "white",
             "linecolor": "white",
             "minorgridcolor": "white",
             "startlinecolor": "#2a3f5f"
            },
            "baxis": {
             "endlinecolor": "#2a3f5f",
             "gridcolor": "white",
             "linecolor": "white",
             "minorgridcolor": "white",
             "startlinecolor": "#2a3f5f"
            },
            "type": "carpet"
           }
          ],
          "choropleth": [
           {
            "colorbar": {
             "outlinewidth": 0,
             "ticks": ""
            },
            "type": "choropleth"
           }
          ],
          "contour": [
           {
            "colorbar": {
             "outlinewidth": 0,
             "ticks": ""
            },
            "colorscale": [
             [
              0,
              "#0d0887"
             ],
             [
              0.1111111111111111,
              "#46039f"
             ],
             [
              0.2222222222222222,
              "#7201a8"
             ],
             [
              0.3333333333333333,
              "#9c179e"
             ],
             [
              0.4444444444444444,
              "#bd3786"
             ],
             [
              0.5555555555555556,
              "#d8576b"
             ],
             [
              0.6666666666666666,
              "#ed7953"
             ],
             [
              0.7777777777777778,
              "#fb9f3a"
             ],
             [
              0.8888888888888888,
              "#fdca26"
             ],
             [
              1,
              "#f0f921"
             ]
            ],
            "type": "contour"
           }
          ],
          "contourcarpet": [
           {
            "colorbar": {
             "outlinewidth": 0,
             "ticks": ""
            },
            "type": "contourcarpet"
           }
          ],
          "heatmap": [
           {
            "colorbar": {
             "outlinewidth": 0,
             "ticks": ""
            },
            "colorscale": [
             [
              0,
              "#0d0887"
             ],
             [
              0.1111111111111111,
              "#46039f"
             ],
             [
              0.2222222222222222,
              "#7201a8"
             ],
             [
              0.3333333333333333,
              "#9c179e"
             ],
             [
              0.4444444444444444,
              "#bd3786"
             ],
             [
              0.5555555555555556,
              "#d8576b"
             ],
             [
              0.6666666666666666,
              "#ed7953"
             ],
             [
              0.7777777777777778,
              "#fb9f3a"
             ],
             [
              0.8888888888888888,
              "#fdca26"
             ],
             [
              1,
              "#f0f921"
             ]
            ],
            "type": "heatmap"
           }
          ],
          "heatmapgl": [
           {
            "colorbar": {
             "outlinewidth": 0,
             "ticks": ""
            },
            "colorscale": [
             [
              0,
              "#0d0887"
             ],
             [
              0.1111111111111111,
              "#46039f"
             ],
             [
              0.2222222222222222,
              "#7201a8"
             ],
             [
              0.3333333333333333,
              "#9c179e"
             ],
             [
              0.4444444444444444,
              "#bd3786"
             ],
             [
              0.5555555555555556,
              "#d8576b"
             ],
             [
              0.6666666666666666,
              "#ed7953"
             ],
             [
              0.7777777777777778,
              "#fb9f3a"
             ],
             [
              0.8888888888888888,
              "#fdca26"
             ],
             [
              1,
              "#f0f921"
             ]
            ],
            "type": "heatmapgl"
           }
          ],
          "histogram": [
           {
            "marker": {
             "pattern": {
              "fillmode": "overlay",
              "size": 10,
              "solidity": 0.2
             }
            },
            "type": "histogram"
           }
          ],
          "histogram2d": [
           {
            "colorbar": {
             "outlinewidth": 0,
             "ticks": ""
            },
            "colorscale": [
             [
              0,
              "#0d0887"
             ],
             [
              0.1111111111111111,
              "#46039f"
             ],
             [
              0.2222222222222222,
              "#7201a8"
             ],
             [
              0.3333333333333333,
              "#9c179e"
             ],
             [
              0.4444444444444444,
              "#bd3786"
             ],
             [
              0.5555555555555556,
              "#d8576b"
             ],
             [
              0.6666666666666666,
              "#ed7953"
             ],
             [
              0.7777777777777778,
              "#fb9f3a"
             ],
             [
              0.8888888888888888,
              "#fdca26"
             ],
             [
              1,
              "#f0f921"
             ]
            ],
            "type": "histogram2d"
           }
          ],
          "histogram2dcontour": [
           {
            "colorbar": {
             "outlinewidth": 0,
             "ticks": ""
            },
            "colorscale": [
             [
              0,
              "#0d0887"
             ],
             [
              0.1111111111111111,
              "#46039f"
             ],
             [
              0.2222222222222222,
              "#7201a8"
             ],
             [
              0.3333333333333333,
              "#9c179e"
             ],
             [
              0.4444444444444444,
              "#bd3786"
             ],
             [
              0.5555555555555556,
              "#d8576b"
             ],
             [
              0.6666666666666666,
              "#ed7953"
             ],
             [
              0.7777777777777778,
              "#fb9f3a"
             ],
             [
              0.8888888888888888,
              "#fdca26"
             ],
             [
              1,
              "#f0f921"
             ]
            ],
            "type": "histogram2dcontour"
           }
          ],
          "mesh3d": [
           {
            "colorbar": {
             "outlinewidth": 0,
             "ticks": ""
            },
            "type": "mesh3d"
           }
          ],
          "parcoords": [
           {
            "line": {
             "colorbar": {
              "outlinewidth": 0,
              "ticks": ""
             }
            },
            "type": "parcoords"
           }
          ],
          "pie": [
           {
            "automargin": true,
            "type": "pie"
           }
          ],
          "scatter": [
           {
            "fillpattern": {
             "fillmode": "overlay",
             "size": 10,
             "solidity": 0.2
            },
            "type": "scatter"
           }
          ],
          "scatter3d": [
           {
            "line": {
             "colorbar": {
              "outlinewidth": 0,
              "ticks": ""
             }
            },
            "marker": {
             "colorbar": {
              "outlinewidth": 0,
              "ticks": ""
             }
            },
            "type": "scatter3d"
           }
          ],
          "scattercarpet": [
           {
            "marker": {
             "colorbar": {
              "outlinewidth": 0,
              "ticks": ""
             }
            },
            "type": "scattercarpet"
           }
          ],
          "scattergeo": [
           {
            "marker": {
             "colorbar": {
              "outlinewidth": 0,
              "ticks": ""
             }
            },
            "type": "scattergeo"
           }
          ],
          "scattergl": [
           {
            "marker": {
             "colorbar": {
              "outlinewidth": 0,
              "ticks": ""
             }
            },
            "type": "scattergl"
           }
          ],
          "scattermapbox": [
           {
            "marker": {
             "colorbar": {
              "outlinewidth": 0,
              "ticks": ""
             }
            },
            "type": "scattermapbox"
           }
          ],
          "scatterpolar": [
           {
            "marker": {
             "colorbar": {
              "outlinewidth": 0,
              "ticks": ""
             }
            },
            "type": "scatterpolar"
           }
          ],
          "scatterpolargl": [
           {
            "marker": {
             "colorbar": {
              "outlinewidth": 0,
              "ticks": ""
             }
            },
            "type": "scatterpolargl"
           }
          ],
          "scatterternary": [
           {
            "marker": {
             "colorbar": {
              "outlinewidth": 0,
              "ticks": ""
             }
            },
            "type": "scatterternary"
           }
          ],
          "surface": [
           {
            "colorbar": {
             "outlinewidth": 0,
             "ticks": ""
            },
            "colorscale": [
             [
              0,
              "#0d0887"
             ],
             [
              0.1111111111111111,
              "#46039f"
             ],
             [
              0.2222222222222222,
              "#7201a8"
             ],
             [
              0.3333333333333333,
              "#9c179e"
             ],
             [
              0.4444444444444444,
              "#bd3786"
             ],
             [
              0.5555555555555556,
              "#d8576b"
             ],
             [
              0.6666666666666666,
              "#ed7953"
             ],
             [
              0.7777777777777778,
              "#fb9f3a"
             ],
             [
              0.8888888888888888,
              "#fdca26"
             ],
             [
              1,
              "#f0f921"
             ]
            ],
            "type": "surface"
           }
          ],
          "table": [
           {
            "cells": {
             "fill": {
              "color": "#EBF0F8"
             },
             "line": {
              "color": "white"
             }
            },
            "header": {
             "fill": {
              "color": "#C8D4E3"
             },
             "line": {
              "color": "white"
             }
            },
            "type": "table"
           }
          ]
         },
         "layout": {
          "annotationdefaults": {
           "arrowcolor": "#2a3f5f",
           "arrowhead": 0,
           "arrowwidth": 1
          },
          "autotypenumbers": "strict",
          "coloraxis": {
           "colorbar": {
            "outlinewidth": 0,
            "ticks": ""
           }
          },
          "colorscale": {
           "diverging": [
            [
             0,
             "#8e0152"
            ],
            [
             0.1,
             "#c51b7d"
            ],
            [
             0.2,
             "#de77ae"
            ],
            [
             0.3,
             "#f1b6da"
            ],
            [
             0.4,
             "#fde0ef"
            ],
            [
             0.5,
             "#f7f7f7"
            ],
            [
             0.6,
             "#e6f5d0"
            ],
            [
             0.7,
             "#b8e186"
            ],
            [
             0.8,
             "#7fbc41"
            ],
            [
             0.9,
             "#4d9221"
            ],
            [
             1,
             "#276419"
            ]
           ],
           "sequential": [
            [
             0,
             "#0d0887"
            ],
            [
             0.1111111111111111,
             "#46039f"
            ],
            [
             0.2222222222222222,
             "#7201a8"
            ],
            [
             0.3333333333333333,
             "#9c179e"
            ],
            [
             0.4444444444444444,
             "#bd3786"
            ],
            [
             0.5555555555555556,
             "#d8576b"
            ],
            [
             0.6666666666666666,
             "#ed7953"
            ],
            [
             0.7777777777777778,
             "#fb9f3a"
            ],
            [
             0.8888888888888888,
             "#fdca26"
            ],
            [
             1,
             "#f0f921"
            ]
           ],
           "sequentialminus": [
            [
             0,
             "#0d0887"
            ],
            [
             0.1111111111111111,
             "#46039f"
            ],
            [
             0.2222222222222222,
             "#7201a8"
            ],
            [
             0.3333333333333333,
             "#9c179e"
            ],
            [
             0.4444444444444444,
             "#bd3786"
            ],
            [
             0.5555555555555556,
             "#d8576b"
            ],
            [
             0.6666666666666666,
             "#ed7953"
            ],
            [
             0.7777777777777778,
             "#fb9f3a"
            ],
            [
             0.8888888888888888,
             "#fdca26"
            ],
            [
             1,
             "#f0f921"
            ]
           ]
          },
          "colorway": [
           "#636efa",
           "#EF553B",
           "#00cc96",
           "#ab63fa",
           "#FFA15A",
           "#19d3f3",
           "#FF6692",
           "#B6E880",
           "#FF97FF",
           "#FECB52"
          ],
          "font": {
           "color": "#2a3f5f"
          },
          "geo": {
           "bgcolor": "white",
           "lakecolor": "white",
           "landcolor": "#E5ECF6",
           "showlakes": true,
           "showland": true,
           "subunitcolor": "white"
          },
          "hoverlabel": {
           "align": "left"
          },
          "hovermode": "closest",
          "mapbox": {
           "style": "light"
          },
          "paper_bgcolor": "white",
          "plot_bgcolor": "#E5ECF6",
          "polar": {
           "angularaxis": {
            "gridcolor": "white",
            "linecolor": "white",
            "ticks": ""
           },
           "bgcolor": "#E5ECF6",
           "radialaxis": {
            "gridcolor": "white",
            "linecolor": "white",
            "ticks": ""
           }
          },
          "scene": {
           "xaxis": {
            "backgroundcolor": "#E5ECF6",
            "gridcolor": "white",
            "gridwidth": 2,
            "linecolor": "white",
            "showbackground": true,
            "ticks": "",
            "zerolinecolor": "white"
           },
           "yaxis": {
            "backgroundcolor": "#E5ECF6",
            "gridcolor": "white",
            "gridwidth": 2,
            "linecolor": "white",
            "showbackground": true,
            "ticks": "",
            "zerolinecolor": "white"
           },
           "zaxis": {
            "backgroundcolor": "#E5ECF6",
            "gridcolor": "white",
            "gridwidth": 2,
            "linecolor": "white",
            "showbackground": true,
            "ticks": "",
            "zerolinecolor": "white"
           }
          },
          "shapedefaults": {
           "line": {
            "color": "#2a3f5f"
           }
          },
          "ternary": {
           "aaxis": {
            "gridcolor": "white",
            "linecolor": "white",
            "ticks": ""
           },
           "baxis": {
            "gridcolor": "white",
            "linecolor": "white",
            "ticks": ""
           },
           "bgcolor": "#E5ECF6",
           "caxis": {
            "gridcolor": "white",
            "linecolor": "white",
            "ticks": ""
           }
          },
          "title": {
           "x": 0.05
          },
          "xaxis": {
           "automargin": true,
           "gridcolor": "white",
           "linecolor": "white",
           "ticks": "",
           "title": {
            "standoff": 15
           },
           "zerolinecolor": "white",
           "zerolinewidth": 2
          },
          "yaxis": {
           "automargin": true,
           "gridcolor": "white",
           "linecolor": "white",
           "ticks": "",
           "title": {
            "standoff": 15
           },
           "zerolinecolor": "white",
           "zerolinewidth": 2
          }
         }
        },
        "title": {
         "text": "Logit Difference From Patched Head Value"
        },
        "xaxis": {
         "anchor": "y",
         "constrain": "domain",
         "domain": [
          0,
          1
         ],
         "scaleanchor": "y",
         "title": {
          "text": "Head"
         }
        },
        "yaxis": {
         "anchor": "x",
         "autorange": "reversed",
         "constrain": "domain",
         "domain": [
          0,
          1
         ],
         "title": {
          "text": "Layer"
         }
        }
       }
      },
      "text/html": [
       "<div>                            <div id=\"88b8fea6-bf6c-4231-80d3-659eb77f85c9\" class=\"plotly-graph-div\" style=\"height:525px; width:100%;\"></div>            <script type=\"text/javascript\">                require([\"plotly\"], function(Plotly) {                    window.PLOTLYENV=window.PLOTLYENV || {};                                    if (document.getElementById(\"88b8fea6-bf6c-4231-80d3-659eb77f85c9\")) {                    Plotly.newPlot(                        \"88b8fea6-bf6c-4231-80d3-659eb77f85c9\",                        [{\"coloraxis\":\"coloraxis\",\"name\":\"0\",\"z\":[[-0.0003135997976642102,-0.031184835359454155,-0.00018200567865278572,0.01411925908178091,-0.027778083458542824,-0.017835304141044617,-0.005838267970830202,-0.002763590542599559,0.0024137438740581274,-0.0010797471040859818,-0.0033753691241145134,-0.0007988173747435212],[-0.0006550362450070679,-0.0029912886675447226,0.00011503061978146434,-0.00043491311953403056,0.0009790025651454926,-0.015297280624508858,0.0004599368548952043,-0.0015464592725038528,-0.0011468364391475916,0.0002651730028446764,-0.004346561152487993,0.009105774573981762],[-0.003358805552124977,0.001127274357713759,-0.0035848687402904034,0.009810429997742176,-0.00212184083648026,0.0007963043171912432,-0.002302782842889428,-9.370511543238536e-05,-0.0006891128141433001,0.0030792108736932278,-0.0021217979956418276,0.001621130621060729],[0.011956673115491867,-0.002580592641606927,-0.013629700057208538,-0.005333024077117443,-0.03907084837555885,-0.01450322475284338,0.031331323087215424,0.00044047474511899054,0.006792289670556784,0.004189535975456238,-0.002468945924192667,0.00024998027947731316],[-8.799356874078512e-05,-0.011486419476568699,-0.0021856960374861956,0.10699126869440079,-0.034065283834934235,-0.0016832652036100626,-0.01754157617688179,0.0014296009903773665,0.002618859987705946,-0.0026651592925190926,-0.0008303451468236744,-0.044455695897340775],[-0.00467977300286293,0.0003853011585306376,0.02366485819220543,-0.0040083229541778564,-0.004033796489238739,0.004210897255688906,0.002362604020163417,0.001862579258158803,-0.011118139140307903,-0.049473825842142105,0.01048492081463337,-0.03110167384147644],[0.17572617530822754,0.0001510919100837782,0.0017893572803586721,-0.0006492104730568826,-0.002611777512356639,-0.02723415568470955,-0.050090327858924866,0.014255422167479992,0.02032691426575184,-0.003083130344748497,-0.00758916512131691,-2.2389276637113653e-05],[0.01124197244644165,0.0006657025660388172,0.0001921008515637368,0.3205493688583374,-0.014966506510972977,-0.022381886839866638,0.00249176356010139,-0.008751158602535725,-0.003275723895058036,0.27290651202201843,-0.0018678625347092748,0.0009347522864118218],[-0.005309985019266605,-0.003489942755550146,-0.005568604450672865,-0.03012964315712452,-0.0005634229746647179,-0.024567393586039543,0.10715272277593613,0.007177248131483793,0.00037829737993888557,-0.0004894012818112969,0.45412477850914,-0.011062508448958397],[-0.010365927591919899,0.002085900865495205,-0.013606243766844273,0.027248091995716095,-0.0615900419652462,0.03243151679635048,-0.019958440214395523,0.3792473375797272,-0.017959434539079666,-0.03603074327111244,-0.0013040967751294374,-0.004709972534328699],[-0.04826983064413071,-0.00886835902929306,-0.05445410683751106,-0.012220581993460655,-0.00039687418029643595,0.0008716610609553754,-0.03681120276451111,0.20171058177947998,0.001084166462533176,-0.004974831361323595,-0.05105642229318619,-0.008957081474363804],[0.006500586401671171,-0.010312775149941444,-0.12992101907730103,0.012549988925457,0.000869454990606755,0.006341076921671629,-0.03367495536804199,0.0077600544318556786,-0.002287511480972171,-0.009475422091782093,0.06190463528037071,-0.002825232455506921]],\"type\":\"heatmap\",\"xaxis\":\"x\",\"yaxis\":\"y\",\"hovertemplate\":\"Head: %{x}\\u003cbr\\u003eLayer: %{y}\\u003cbr\\u003ecolor: %{z}\\u003cextra\\u003e\\u003c\\u002fextra\\u003e\"}],                        {\"template\":{\"data\":{\"histogram2dcontour\":[{\"type\":\"histogram2dcontour\",\"colorbar\":{\"outlinewidth\":0,\"ticks\":\"\"},\"colorscale\":[[0.0,\"#0d0887\"],[0.1111111111111111,\"#46039f\"],[0.2222222222222222,\"#7201a8\"],[0.3333333333333333,\"#9c179e\"],[0.4444444444444444,\"#bd3786\"],[0.5555555555555556,\"#d8576b\"],[0.6666666666666666,\"#ed7953\"],[0.7777777777777778,\"#fb9f3a\"],[0.8888888888888888,\"#fdca26\"],[1.0,\"#f0f921\"]]}],\"choropleth\":[{\"type\":\"choropleth\",\"colorbar\":{\"outlinewidth\":0,\"ticks\":\"\"}}],\"histogram2d\":[{\"type\":\"histogram2d\",\"colorbar\":{\"outlinewidth\":0,\"ticks\":\"\"},\"colorscale\":[[0.0,\"#0d0887\"],[0.1111111111111111,\"#46039f\"],[0.2222222222222222,\"#7201a8\"],[0.3333333333333333,\"#9c179e\"],[0.4444444444444444,\"#bd3786\"],[0.5555555555555556,\"#d8576b\"],[0.6666666666666666,\"#ed7953\"],[0.7777777777777778,\"#fb9f3a\"],[0.8888888888888888,\"#fdca26\"],[1.0,\"#f0f921\"]]}],\"heatmap\":[{\"type\":\"heatmap\",\"colorbar\":{\"outlinewidth\":0,\"ticks\":\"\"},\"colorscale\":[[0.0,\"#0d0887\"],[0.1111111111111111,\"#46039f\"],[0.2222222222222222,\"#7201a8\"],[0.3333333333333333,\"#9c179e\"],[0.4444444444444444,\"#bd3786\"],[0.5555555555555556,\"#d8576b\"],[0.6666666666666666,\"#ed7953\"],[0.7777777777777778,\"#fb9f3a\"],[0.8888888888888888,\"#fdca26\"],[1.0,\"#f0f921\"]]}],\"heatmapgl\":[{\"type\":\"heatmapgl\",\"colorbar\":{\"outlinewidth\":0,\"ticks\":\"\"},\"colorscale\":[[0.0,\"#0d0887\"],[0.1111111111111111,\"#46039f\"],[0.2222222222222222,\"#7201a8\"],[0.3333333333333333,\"#9c179e\"],[0.4444444444444444,\"#bd3786\"],[0.5555555555555556,\"#d8576b\"],[0.6666666666666666,\"#ed7953\"],[0.7777777777777778,\"#fb9f3a\"],[0.8888888888888888,\"#fdca26\"],[1.0,\"#f0f921\"]]}],\"contourcarpet\":[{\"type\":\"contourcarpet\",\"colorbar\":{\"outlinewidth\":0,\"ticks\":\"\"}}],\"contour\":[{\"type\":\"contour\",\"colorbar\":{\"outlinewidth\":0,\"ticks\":\"\"},\"colorscale\":[[0.0,\"#0d0887\"],[0.1111111111111111,\"#46039f\"],[0.2222222222222222,\"#7201a8\"],[0.3333333333333333,\"#9c179e\"],[0.4444444444444444,\"#bd3786\"],[0.5555555555555556,\"#d8576b\"],[0.6666666666666666,\"#ed7953\"],[0.7777777777777778,\"#fb9f3a\"],[0.8888888888888888,\"#fdca26\"],[1.0,\"#f0f921\"]]}],\"surface\":[{\"type\":\"surface\",\"colorbar\":{\"outlinewidth\":0,\"ticks\":\"\"},\"colorscale\":[[0.0,\"#0d0887\"],[0.1111111111111111,\"#46039f\"],[0.2222222222222222,\"#7201a8\"],[0.3333333333333333,\"#9c179e\"],[0.4444444444444444,\"#bd3786\"],[0.5555555555555556,\"#d8576b\"],[0.6666666666666666,\"#ed7953\"],[0.7777777777777778,\"#fb9f3a\"],[0.8888888888888888,\"#fdca26\"],[1.0,\"#f0f921\"]]}],\"mesh3d\":[{\"type\":\"mesh3d\",\"colorbar\":{\"outlinewidth\":0,\"ticks\":\"\"}}],\"scatter\":[{\"fillpattern\":{\"fillmode\":\"overlay\",\"size\":10,\"solidity\":0.2},\"type\":\"scatter\"}],\"parcoords\":[{\"type\":\"parcoords\",\"line\":{\"colorbar\":{\"outlinewidth\":0,\"ticks\":\"\"}}}],\"scatterpolargl\":[{\"type\":\"scatterpolargl\",\"marker\":{\"colorbar\":{\"outlinewidth\":0,\"ticks\":\"\"}}}],\"bar\":[{\"error_x\":{\"color\":\"#2a3f5f\"},\"error_y\":{\"color\":\"#2a3f5f\"},\"marker\":{\"line\":{\"color\":\"#E5ECF6\",\"width\":0.5},\"pattern\":{\"fillmode\":\"overlay\",\"size\":10,\"solidity\":0.2}},\"type\":\"bar\"}],\"scattergeo\":[{\"type\":\"scattergeo\",\"marker\":{\"colorbar\":{\"outlinewidth\":0,\"ticks\":\"\"}}}],\"scatterpolar\":[{\"type\":\"scatterpolar\",\"marker\":{\"colorbar\":{\"outlinewidth\":0,\"ticks\":\"\"}}}],\"histogram\":[{\"marker\":{\"pattern\":{\"fillmode\":\"overlay\",\"size\":10,\"solidity\":0.2}},\"type\":\"histogram\"}],\"scattergl\":[{\"type\":\"scattergl\",\"marker\":{\"colorbar\":{\"outlinewidth\":0,\"ticks\":\"\"}}}],\"scatter3d\":[{\"type\":\"scatter3d\",\"line\":{\"colorbar\":{\"outlinewidth\":0,\"ticks\":\"\"}},\"marker\":{\"colorbar\":{\"outlinewidth\":0,\"ticks\":\"\"}}}],\"scattermapbox\":[{\"type\":\"scattermapbox\",\"marker\":{\"colorbar\":{\"outlinewidth\":0,\"ticks\":\"\"}}}],\"scatterternary\":[{\"type\":\"scatterternary\",\"marker\":{\"colorbar\":{\"outlinewidth\":0,\"ticks\":\"\"}}}],\"scattercarpet\":[{\"type\":\"scattercarpet\",\"marker\":{\"colorbar\":{\"outlinewidth\":0,\"ticks\":\"\"}}}],\"carpet\":[{\"aaxis\":{\"endlinecolor\":\"#2a3f5f\",\"gridcolor\":\"white\",\"linecolor\":\"white\",\"minorgridcolor\":\"white\",\"startlinecolor\":\"#2a3f5f\"},\"baxis\":{\"endlinecolor\":\"#2a3f5f\",\"gridcolor\":\"white\",\"linecolor\":\"white\",\"minorgridcolor\":\"white\",\"startlinecolor\":\"#2a3f5f\"},\"type\":\"carpet\"}],\"table\":[{\"cells\":{\"fill\":{\"color\":\"#EBF0F8\"},\"line\":{\"color\":\"white\"}},\"header\":{\"fill\":{\"color\":\"#C8D4E3\"},\"line\":{\"color\":\"white\"}},\"type\":\"table\"}],\"barpolar\":[{\"marker\":{\"line\":{\"color\":\"#E5ECF6\",\"width\":0.5},\"pattern\":{\"fillmode\":\"overlay\",\"size\":10,\"solidity\":0.2}},\"type\":\"barpolar\"}],\"pie\":[{\"automargin\":true,\"type\":\"pie\"}]},\"layout\":{\"autotypenumbers\":\"strict\",\"colorway\":[\"#636efa\",\"#EF553B\",\"#00cc96\",\"#ab63fa\",\"#FFA15A\",\"#19d3f3\",\"#FF6692\",\"#B6E880\",\"#FF97FF\",\"#FECB52\"],\"font\":{\"color\":\"#2a3f5f\"},\"hovermode\":\"closest\",\"hoverlabel\":{\"align\":\"left\"},\"paper_bgcolor\":\"white\",\"plot_bgcolor\":\"#E5ECF6\",\"polar\":{\"bgcolor\":\"#E5ECF6\",\"angularaxis\":{\"gridcolor\":\"white\",\"linecolor\":\"white\",\"ticks\":\"\"},\"radialaxis\":{\"gridcolor\":\"white\",\"linecolor\":\"white\",\"ticks\":\"\"}},\"ternary\":{\"bgcolor\":\"#E5ECF6\",\"aaxis\":{\"gridcolor\":\"white\",\"linecolor\":\"white\",\"ticks\":\"\"},\"baxis\":{\"gridcolor\":\"white\",\"linecolor\":\"white\",\"ticks\":\"\"},\"caxis\":{\"gridcolor\":\"white\",\"linecolor\":\"white\",\"ticks\":\"\"}},\"coloraxis\":{\"colorbar\":{\"outlinewidth\":0,\"ticks\":\"\"}},\"colorscale\":{\"sequential\":[[0.0,\"#0d0887\"],[0.1111111111111111,\"#46039f\"],[0.2222222222222222,\"#7201a8\"],[0.3333333333333333,\"#9c179e\"],[0.4444444444444444,\"#bd3786\"],[0.5555555555555556,\"#d8576b\"],[0.6666666666666666,\"#ed7953\"],[0.7777777777777778,\"#fb9f3a\"],[0.8888888888888888,\"#fdca26\"],[1.0,\"#f0f921\"]],\"sequentialminus\":[[0.0,\"#0d0887\"],[0.1111111111111111,\"#46039f\"],[0.2222222222222222,\"#7201a8\"],[0.3333333333333333,\"#9c179e\"],[0.4444444444444444,\"#bd3786\"],[0.5555555555555556,\"#d8576b\"],[0.6666666666666666,\"#ed7953\"],[0.7777777777777778,\"#fb9f3a\"],[0.8888888888888888,\"#fdca26\"],[1.0,\"#f0f921\"]],\"diverging\":[[0,\"#8e0152\"],[0.1,\"#c51b7d\"],[0.2,\"#de77ae\"],[0.3,\"#f1b6da\"],[0.4,\"#fde0ef\"],[0.5,\"#f7f7f7\"],[0.6,\"#e6f5d0\"],[0.7,\"#b8e186\"],[0.8,\"#7fbc41\"],[0.9,\"#4d9221\"],[1,\"#276419\"]]},\"xaxis\":{\"gridcolor\":\"white\",\"linecolor\":\"white\",\"ticks\":\"\",\"title\":{\"standoff\":15},\"zerolinecolor\":\"white\",\"automargin\":true,\"zerolinewidth\":2},\"yaxis\":{\"gridcolor\":\"white\",\"linecolor\":\"white\",\"ticks\":\"\",\"title\":{\"standoff\":15},\"zerolinecolor\":\"white\",\"automargin\":true,\"zerolinewidth\":2},\"scene\":{\"xaxis\":{\"backgroundcolor\":\"#E5ECF6\",\"gridcolor\":\"white\",\"linecolor\":\"white\",\"showbackground\":true,\"ticks\":\"\",\"zerolinecolor\":\"white\",\"gridwidth\":2},\"yaxis\":{\"backgroundcolor\":\"#E5ECF6\",\"gridcolor\":\"white\",\"linecolor\":\"white\",\"showbackground\":true,\"ticks\":\"\",\"zerolinecolor\":\"white\",\"gridwidth\":2},\"zaxis\":{\"backgroundcolor\":\"#E5ECF6\",\"gridcolor\":\"white\",\"linecolor\":\"white\",\"showbackground\":true,\"ticks\":\"\",\"zerolinecolor\":\"white\",\"gridwidth\":2}},\"shapedefaults\":{\"line\":{\"color\":\"#2a3f5f\"}},\"annotationdefaults\":{\"arrowcolor\":\"#2a3f5f\",\"arrowhead\":0,\"arrowwidth\":1},\"geo\":{\"bgcolor\":\"white\",\"landcolor\":\"#E5ECF6\",\"subunitcolor\":\"white\",\"showland\":true,\"showlakes\":true,\"lakecolor\":\"white\"},\"title\":{\"x\":0.05},\"mapbox\":{\"style\":\"light\"}}},\"xaxis\":{\"anchor\":\"y\",\"domain\":[0.0,1.0],\"scaleanchor\":\"y\",\"constrain\":\"domain\",\"title\":{\"text\":\"Head\"}},\"yaxis\":{\"anchor\":\"x\",\"domain\":[0.0,1.0],\"autorange\":\"reversed\",\"constrain\":\"domain\",\"title\":{\"text\":\"Layer\"}},\"coloraxis\":{\"colorscale\":[[0.0,\"rgb(103,0,31)\"],[0.1,\"rgb(178,24,43)\"],[0.2,\"rgb(214,96,77)\"],[0.3,\"rgb(244,165,130)\"],[0.4,\"rgb(253,219,199)\"],[0.5,\"rgb(247,247,247)\"],[0.6,\"rgb(209,229,240)\"],[0.7,\"rgb(146,197,222)\"],[0.8,\"rgb(67,147,195)\"],[0.9,\"rgb(33,102,172)\"],[1.0,\"rgb(5,48,97)\"]],\"cmid\":0.0},\"title\":{\"text\":\"Logit Difference From Patched Head Value\"}},                        {\"responsive\": true}                    ).then(function(){\n",
       "                            \n",
       "var gd = document.getElementById('88b8fea6-bf6c-4231-80d3-659eb77f85c9');\n",
       "var x = new MutationObserver(function (mutations, observer) {{\n",
       "        var display = window.getComputedStyle(gd).display;\n",
       "        if (!display || display === 'none') {{\n",
       "            console.log([gd, 'removed!']);\n",
       "            Plotly.purge(gd);\n",
       "            observer.disconnect();\n",
       "        }}\n",
       "}});\n",
       "\n",
       "// Listen for the removal of the full notebook cells\n",
       "var notebookContainer = gd.closest('#notebook-container');\n",
       "if (notebookContainer) {{\n",
       "    x.observe(notebookContainer, {childList: true});\n",
       "}}\n",
       "\n",
       "// Listen for the clearing of the current output cell\n",
       "var outputEl = gd.closest('.output');\n",
       "if (outputEl) {{\n",
       "    x.observe(outputEl, {childList: true});\n",
       "}}\n",
       "\n",
       "                        })                };                });            </script>        </div>"
      ]
     },
     "metadata": {},
     "output_type": "display_data"
    }
   ],
   "source": [
    "imshow(\n",
    "    patched_head_v_diff,\n",
    "    title=\"Logit Difference From Patched Head Value\",\n",
    "    labels={\"x\": \"Head\", \"y\": \"Layer\"},\n",
    ")"
   ]
  },
  {
   "cell_type": "code",
   "execution_count": 144,
   "metadata": {},
   "outputs": [
    {
     "data": {
      "application/vnd.plotly.v1+json": {
       "config": {
        "plotlyServerURL": "https://plot.ly"
       },
       "data": [
        {
         "hovertemplate": "<b>%{hovertext}</b><br><br>Value Patch=%{x}<br>Output Patch=%{y}<br>Layer=%{marker.color}<extra></extra>",
         "hovertext": [
          "L0H0",
          "L0H1",
          "L0H2",
          "L0H3",
          "L0H4",
          "L0H5",
          "L0H6",
          "L0H7",
          "L0H8",
          "L0H9",
          "L0H10",
          "L0H11",
          "L1H0",
          "L1H1",
          "L1H2",
          "L1H3",
          "L1H4",
          "L1H5",
          "L1H6",
          "L1H7",
          "L1H8",
          "L1H9",
          "L1H10",
          "L1H11",
          "L2H0",
          "L2H1",
          "L2H2",
          "L2H3",
          "L2H4",
          "L2H5",
          "L2H6",
          "L2H7",
          "L2H8",
          "L2H9",
          "L2H10",
          "L2H11",
          "L3H0",
          "L3H1",
          "L3H2",
          "L3H3",
          "L3H4",
          "L3H5",
          "L3H6",
          "L3H7",
          "L3H8",
          "L3H9",
          "L3H10",
          "L3H11",
          "L4H0",
          "L4H1",
          "L4H2",
          "L4H3",
          "L4H4",
          "L4H5",
          "L4H6",
          "L4H7",
          "L4H8",
          "L4H9",
          "L4H10",
          "L4H11",
          "L5H0",
          "L5H1",
          "L5H2",
          "L5H3",
          "L5H4",
          "L5H5",
          "L5H6",
          "L5H7",
          "L5H8",
          "L5H9",
          "L5H10",
          "L5H11",
          "L6H0",
          "L6H1",
          "L6H2",
          "L6H3",
          "L6H4",
          "L6H5",
          "L6H6",
          "L6H7",
          "L6H8",
          "L6H9",
          "L6H10",
          "L6H11",
          "L7H0",
          "L7H1",
          "L7H2",
          "L7H3",
          "L7H4",
          "L7H5",
          "L7H6",
          "L7H7",
          "L7H8",
          "L7H9",
          "L7H10",
          "L7H11",
          "L8H0",
          "L8H1",
          "L8H2",
          "L8H3",
          "L8H4",
          "L8H5",
          "L8H6",
          "L8H7",
          "L8H8",
          "L8H9",
          "L8H10",
          "L8H11",
          "L9H0",
          "L9H1",
          "L9H2",
          "L9H3",
          "L9H4",
          "L9H5",
          "L9H6",
          "L9H7",
          "L9H8",
          "L9H9",
          "L9H10",
          "L9H11",
          "L10H0",
          "L10H1",
          "L10H2",
          "L10H3",
          "L10H4",
          "L10H5",
          "L10H6",
          "L10H7",
          "L10H8",
          "L10H9",
          "L10H10",
          "L10H11",
          "L11H0",
          "L11H1",
          "L11H2",
          "L11H3",
          "L11H4",
          "L11H5",
          "L11H6",
          "L11H7",
          "L11H8",
          "L11H9",
          "L11H10",
          "L11H11"
         ],
         "legendgroup": "",
         "marker": {
          "color": [
           0,
           0,
           0,
           0,
           0,
           0,
           0,
           0,
           0,
           0,
           0,
           0,
           1,
           1,
           1,
           1,
           1,
           1,
           1,
           1,
           1,
           1,
           1,
           1,
           2,
           2,
           2,
           2,
           2,
           2,
           2,
           2,
           2,
           2,
           2,
           2,
           3,
           3,
           3,
           3,
           3,
           3,
           3,
           3,
           3,
           3,
           3,
           3,
           4,
           4,
           4,
           4,
           4,
           4,
           4,
           4,
           4,
           4,
           4,
           4,
           5,
           5,
           5,
           5,
           5,
           5,
           5,
           5,
           5,
           5,
           5,
           5,
           6,
           6,
           6,
           6,
           6,
           6,
           6,
           6,
           6,
           6,
           6,
           6,
           7,
           7,
           7,
           7,
           7,
           7,
           7,
           7,
           7,
           7,
           7,
           7,
           8,
           8,
           8,
           8,
           8,
           8,
           8,
           8,
           8,
           8,
           8,
           8,
           9,
           9,
           9,
           9,
           9,
           9,
           9,
           9,
           9,
           9,
           9,
           9,
           10,
           10,
           10,
           10,
           10,
           10,
           10,
           10,
           10,
           10,
           10,
           10,
           11,
           11,
           11,
           11,
           11,
           11,
           11,
           11,
           11,
           11,
           11,
           11
          ],
          "coloraxis": "coloraxis",
          "symbol": "circle"
         },
         "mode": "markers",
         "name": "",
         "orientation": "v",
         "showlegend": false,
         "type": "scatter",
         "x": [
          -0.0003135997976642102,
          -0.031184835359454155,
          -0.00018200567865278572,
          0.01411925908178091,
          -0.027778083458542824,
          -0.017835304141044617,
          -0.005838267970830202,
          -0.002763590542599559,
          0.0024137438740581274,
          -0.0010797471040859818,
          -0.0033753691241145134,
          -0.0007988173747435212,
          -0.0006550362450070679,
          -0.0029912886675447226,
          0.00011503061978146434,
          -0.00043491311953403056,
          0.0009790025651454926,
          -0.015297280624508858,
          0.0004599368548952043,
          -0.0015464592725038528,
          -0.0011468364391475916,
          0.0002651730028446764,
          -0.004346561152487993,
          0.009105774573981762,
          -0.003358805552124977,
          0.001127274357713759,
          -0.0035848687402904034,
          0.009810429997742176,
          -0.00212184083648026,
          0.0007963043171912432,
          -0.002302782842889428,
          -0.00009370511543238536,
          -0.0006891128141433001,
          0.0030792108736932278,
          -0.0021217979956418276,
          0.001621130621060729,
          0.011956673115491867,
          -0.002580592641606927,
          -0.013629700057208538,
          -0.005333024077117443,
          -0.03907084837555885,
          -0.01450322475284338,
          0.031331323087215424,
          0.00044047474511899054,
          0.006792289670556784,
          0.004189535975456238,
          -0.002468945924192667,
          0.00024998027947731316,
          -0.00008799356874078512,
          -0.011486419476568699,
          -0.0021856960374861956,
          0.10699126869440079,
          -0.034065283834934235,
          -0.0016832652036100626,
          -0.01754157617688179,
          0.0014296009903773665,
          0.002618859987705946,
          -0.0026651592925190926,
          -0.0008303451468236744,
          -0.044455695897340775,
          -0.00467977300286293,
          0.0003853011585306376,
          0.02366485819220543,
          -0.0040083229541778564,
          -0.004033796489238739,
          0.004210897255688906,
          0.002362604020163417,
          0.001862579258158803,
          -0.011118139140307903,
          -0.049473825842142105,
          0.01048492081463337,
          -0.03110167384147644,
          0.17572617530822754,
          0.0001510919100837782,
          0.0017893572803586721,
          -0.0006492104730568826,
          -0.002611777512356639,
          -0.02723415568470955,
          -0.050090327858924866,
          0.014255422167479992,
          0.02032691426575184,
          -0.003083130344748497,
          -0.00758916512131691,
          -0.000022389276637113653,
          0.01124197244644165,
          0.0006657025660388172,
          0.0001921008515637368,
          0.3205493688583374,
          -0.014966506510972977,
          -0.022381886839866638,
          0.00249176356010139,
          -0.008751158602535725,
          -0.003275723895058036,
          0.27290651202201843,
          -0.0018678625347092748,
          0.0009347522864118218,
          -0.005309985019266605,
          -0.003489942755550146,
          -0.005568604450672865,
          -0.03012964315712452,
          -0.0005634229746647179,
          -0.024567393586039543,
          0.10715272277593613,
          0.007177248131483793,
          0.00037829737993888557,
          -0.0004894012818112969,
          0.45412477850914,
          -0.011062508448958397,
          -0.010365927591919899,
          0.002085900865495205,
          -0.013606243766844273,
          0.027248091995716095,
          -0.0615900419652462,
          0.03243151679635048,
          -0.019958440214395523,
          0.3792473375797272,
          -0.017959434539079666,
          -0.03603074327111244,
          -0.0013040967751294374,
          -0.004709972534328699,
          -0.04826983064413071,
          -0.00886835902929306,
          -0.05445410683751106,
          -0.012220581993460655,
          -0.00039687418029643595,
          0.0008716610609553754,
          -0.03681120276451111,
          0.20171058177947998,
          0.001084166462533176,
          -0.004974831361323595,
          -0.05105642229318619,
          -0.008957081474363804,
          0.006500586401671171,
          -0.010312775149941444,
          -0.12992101907730103,
          0.012549988925457,
          0.000869454990606755,
          0.006341076921671629,
          -0.03367495536804199,
          0.0077600544318556786,
          -0.002287511480972171,
          -0.009475422091782093,
          0.06190463528037071,
          -0.002825232455506921
         ],
         "xaxis": "x",
         "y": [
          -0.0011491210898384452,
          -0.07400459051132202,
          -0.0037174909375607967,
          0.013623460195958614,
          -0.025855159386992455,
          -0.022811738774180412,
          -0.008529704064130783,
          -0.004250913858413696,
          0.007923483848571777,
          -0.003874258603900671,
          -0.007525916676968336,
          -0.0003183617955073714,
          -0.012311474420130253,
          -0.001002105767838657,
          0.0010380956809967756,
          0.014966588467359543,
          -0.0023640820290893316,
          -0.002638314850628376,
          0.0009509017108939588,
          -0.00564068416133523,
          -0.0008365493267774582,
          -0.0008692978881299496,
          -0.0060423631221055984,
          0.018758373335003853,
          -0.007966202683746815,
          0.00006241296068765223,
          -0.0026442548260092735,
          0.009321820922195911,
          -0.001256119809113443,
          -0.00025427821674384177,
          -0.0034778770059347153,
          0.0023328682873398066,
          0.00401484128087759,
          0.008590328507125378,
          0.001516230870038271,
          -0.021752284839749336,
          0.012895958498120308,
          -0.004345989786088467,
          -0.021169248968362808,
          -0.008329874835908413,
          -0.024744108319282532,
          -0.017199646681547165,
          0.028555622324347496,
          -0.009812021628022194,
          0.0013195608044043183,
          0.004519021138548851,
          -0.005017097108066082,
          -0.00281525868922472,
          -0.0009842857252806425,
          -0.014713256619870663,
          0.003387941513210535,
          0.11787204444408417,
          -0.02844119444489479,
          0.0019495447631925344,
          -0.026066979393363,
          0.006517642643302679,
          0.0164400115609169,
          -0.0038758579175919294,
          -0.0006039392901584506,
          -0.04456665366888046,
          -0.0031981610227376223,
          0.14429806172847748,
          0.0028001873288303614,
          -0.004829608369618654,
          -0.01423424668610096,
          0.10296261310577393,
          0.0021816978696733713,
          0.001439846120774746,
          -0.049851056188344955,
          0.015170947648584843,
          0.010465201921761036,
          -0.025762781500816345,
          0.16275279223918915,
          -0.00984629150480032,
          0.003692859783768654,
          -0.02197922207415104,
          -0.004078917670994997,
          -0.02064957283437252,
          -0.09202282130718231,
          0.012992027215659618,
          0.0034059116151183844,
          0.02349274791777134,
          0.005676066968590021,
          0.0035274175461381674,
          0.02916351705789566,
          0.019454382359981537,
          0.012652532197535038,
          0.26528751850128174,
          -0.02277209982275963,
          -0.02229560725390911,
          -0.01132497563958168,
          -0.008896728046238422,
          -0.004270483274012804,
          0.2821894586086273,
          0.0002127766638295725,
          0.0017856232589110732,
          -0.00587490014731884,
          -0.006188957020640373,
          -0.005780502688139677,
          0.01658025197684765,
          -0.0011596730910241604,
          -0.018084213137626648,
          0.11505789309740067,
          0.00846859347075224,
          0.001046969904564321,
          -0.001044107018969953,
          0.40613028407096863,
          -0.004206478130072355,
          -0.014337779022753239,
          0.003815165488049388,
          -0.00019533501472324133,
          0.024124901741743088,
          -0.04045974090695381,
          0.03850700706243515,
          -0.060013461858034134,
          0.2962854504585266,
          -0.03711662068963051,
          0.02599954605102539,
          -0.004514559172093868,
          -0.0028748088516294956,
          0.13067379593849182,
          0.04188493266701698,
          -0.03532189875841141,
          0.0039717406034469604,
          -0.00037673383485525846,
          -0.0008605378097854555,
          0.012026696465909481,
          -0.08412450551986694,
          -0.0005243202904239297,
          -0.002771279774606228,
          0.04165833070874214,
          -0.005761883221566677,
          0.0037319697439670563,
          0.06239774078130722,
          -0.14547371864318848,
          -0.006548863369971514,
          -0.00041865662205964327,
          -0.0036449970211833715,
          -0.01559470221400261,
          0.005396922118961811,
          -0.0005241275066509843,
          0.009267982095479965,
          -0.22651802003383636,
          -0.0055649131536483765
         ],
         "yaxis": "y"
        }
       ],
       "layout": {
        "coloraxis": {
         "colorbar": {
          "title": {
           "text": "Layer"
          }
         },
         "colorscale": [
          [
           0,
           "#0d0887"
          ],
          [
           0.1111111111111111,
           "#46039f"
          ],
          [
           0.2222222222222222,
           "#7201a8"
          ],
          [
           0.3333333333333333,
           "#9c179e"
          ],
          [
           0.4444444444444444,
           "#bd3786"
          ],
          [
           0.5555555555555556,
           "#d8576b"
          ],
          [
           0.6666666666666666,
           "#ed7953"
          ],
          [
           0.7777777777777778,
           "#fb9f3a"
          ],
          [
           0.8888888888888888,
           "#fdca26"
          ],
          [
           1,
           "#f0f921"
          ]
         ]
        },
        "legend": {
         "tracegroupgap": 0
        },
        "template": {
         "data": {
          "bar": [
           {
            "error_x": {
             "color": "#2a3f5f"
            },
            "error_y": {
             "color": "#2a3f5f"
            },
            "marker": {
             "line": {
              "color": "#E5ECF6",
              "width": 0.5
             },
             "pattern": {
              "fillmode": "overlay",
              "size": 10,
              "solidity": 0.2
             }
            },
            "type": "bar"
           }
          ],
          "barpolar": [
           {
            "marker": {
             "line": {
              "color": "#E5ECF6",
              "width": 0.5
             },
             "pattern": {
              "fillmode": "overlay",
              "size": 10,
              "solidity": 0.2
             }
            },
            "type": "barpolar"
           }
          ],
          "carpet": [
           {
            "aaxis": {
             "endlinecolor": "#2a3f5f",
             "gridcolor": "white",
             "linecolor": "white",
             "minorgridcolor": "white",
             "startlinecolor": "#2a3f5f"
            },
            "baxis": {
             "endlinecolor": "#2a3f5f",
             "gridcolor": "white",
             "linecolor": "white",
             "minorgridcolor": "white",
             "startlinecolor": "#2a3f5f"
            },
            "type": "carpet"
           }
          ],
          "choropleth": [
           {
            "colorbar": {
             "outlinewidth": 0,
             "ticks": ""
            },
            "type": "choropleth"
           }
          ],
          "contour": [
           {
            "colorbar": {
             "outlinewidth": 0,
             "ticks": ""
            },
            "colorscale": [
             [
              0,
              "#0d0887"
             ],
             [
              0.1111111111111111,
              "#46039f"
             ],
             [
              0.2222222222222222,
              "#7201a8"
             ],
             [
              0.3333333333333333,
              "#9c179e"
             ],
             [
              0.4444444444444444,
              "#bd3786"
             ],
             [
              0.5555555555555556,
              "#d8576b"
             ],
             [
              0.6666666666666666,
              "#ed7953"
             ],
             [
              0.7777777777777778,
              "#fb9f3a"
             ],
             [
              0.8888888888888888,
              "#fdca26"
             ],
             [
              1,
              "#f0f921"
             ]
            ],
            "type": "contour"
           }
          ],
          "contourcarpet": [
           {
            "colorbar": {
             "outlinewidth": 0,
             "ticks": ""
            },
            "type": "contourcarpet"
           }
          ],
          "heatmap": [
           {
            "colorbar": {
             "outlinewidth": 0,
             "ticks": ""
            },
            "colorscale": [
             [
              0,
              "#0d0887"
             ],
             [
              0.1111111111111111,
              "#46039f"
             ],
             [
              0.2222222222222222,
              "#7201a8"
             ],
             [
              0.3333333333333333,
              "#9c179e"
             ],
             [
              0.4444444444444444,
              "#bd3786"
             ],
             [
              0.5555555555555556,
              "#d8576b"
             ],
             [
              0.6666666666666666,
              "#ed7953"
             ],
             [
              0.7777777777777778,
              "#fb9f3a"
             ],
             [
              0.8888888888888888,
              "#fdca26"
             ],
             [
              1,
              "#f0f921"
             ]
            ],
            "type": "heatmap"
           }
          ],
          "heatmapgl": [
           {
            "colorbar": {
             "outlinewidth": 0,
             "ticks": ""
            },
            "colorscale": [
             [
              0,
              "#0d0887"
             ],
             [
              0.1111111111111111,
              "#46039f"
             ],
             [
              0.2222222222222222,
              "#7201a8"
             ],
             [
              0.3333333333333333,
              "#9c179e"
             ],
             [
              0.4444444444444444,
              "#bd3786"
             ],
             [
              0.5555555555555556,
              "#d8576b"
             ],
             [
              0.6666666666666666,
              "#ed7953"
             ],
             [
              0.7777777777777778,
              "#fb9f3a"
             ],
             [
              0.8888888888888888,
              "#fdca26"
             ],
             [
              1,
              "#f0f921"
             ]
            ],
            "type": "heatmapgl"
           }
          ],
          "histogram": [
           {
            "marker": {
             "pattern": {
              "fillmode": "overlay",
              "size": 10,
              "solidity": 0.2
             }
            },
            "type": "histogram"
           }
          ],
          "histogram2d": [
           {
            "colorbar": {
             "outlinewidth": 0,
             "ticks": ""
            },
            "colorscale": [
             [
              0,
              "#0d0887"
             ],
             [
              0.1111111111111111,
              "#46039f"
             ],
             [
              0.2222222222222222,
              "#7201a8"
             ],
             [
              0.3333333333333333,
              "#9c179e"
             ],
             [
              0.4444444444444444,
              "#bd3786"
             ],
             [
              0.5555555555555556,
              "#d8576b"
             ],
             [
              0.6666666666666666,
              "#ed7953"
             ],
             [
              0.7777777777777778,
              "#fb9f3a"
             ],
             [
              0.8888888888888888,
              "#fdca26"
             ],
             [
              1,
              "#f0f921"
             ]
            ],
            "type": "histogram2d"
           }
          ],
          "histogram2dcontour": [
           {
            "colorbar": {
             "outlinewidth": 0,
             "ticks": ""
            },
            "colorscale": [
             [
              0,
              "#0d0887"
             ],
             [
              0.1111111111111111,
              "#46039f"
             ],
             [
              0.2222222222222222,
              "#7201a8"
             ],
             [
              0.3333333333333333,
              "#9c179e"
             ],
             [
              0.4444444444444444,
              "#bd3786"
             ],
             [
              0.5555555555555556,
              "#d8576b"
             ],
             [
              0.6666666666666666,
              "#ed7953"
             ],
             [
              0.7777777777777778,
              "#fb9f3a"
             ],
             [
              0.8888888888888888,
              "#fdca26"
             ],
             [
              1,
              "#f0f921"
             ]
            ],
            "type": "histogram2dcontour"
           }
          ],
          "mesh3d": [
           {
            "colorbar": {
             "outlinewidth": 0,
             "ticks": ""
            },
            "type": "mesh3d"
           }
          ],
          "parcoords": [
           {
            "line": {
             "colorbar": {
              "outlinewidth": 0,
              "ticks": ""
             }
            },
            "type": "parcoords"
           }
          ],
          "pie": [
           {
            "automargin": true,
            "type": "pie"
           }
          ],
          "scatter": [
           {
            "fillpattern": {
             "fillmode": "overlay",
             "size": 10,
             "solidity": 0.2
            },
            "type": "scatter"
           }
          ],
          "scatter3d": [
           {
            "line": {
             "colorbar": {
              "outlinewidth": 0,
              "ticks": ""
             }
            },
            "marker": {
             "colorbar": {
              "outlinewidth": 0,
              "ticks": ""
             }
            },
            "type": "scatter3d"
           }
          ],
          "scattercarpet": [
           {
            "marker": {
             "colorbar": {
              "outlinewidth": 0,
              "ticks": ""
             }
            },
            "type": "scattercarpet"
           }
          ],
          "scattergeo": [
           {
            "marker": {
             "colorbar": {
              "outlinewidth": 0,
              "ticks": ""
             }
            },
            "type": "scattergeo"
           }
          ],
          "scattergl": [
           {
            "marker": {
             "colorbar": {
              "outlinewidth": 0,
              "ticks": ""
             }
            },
            "type": "scattergl"
           }
          ],
          "scattermapbox": [
           {
            "marker": {
             "colorbar": {
              "outlinewidth": 0,
              "ticks": ""
             }
            },
            "type": "scattermapbox"
           }
          ],
          "scatterpolar": [
           {
            "marker": {
             "colorbar": {
              "outlinewidth": 0,
              "ticks": ""
             }
            },
            "type": "scatterpolar"
           }
          ],
          "scatterpolargl": [
           {
            "marker": {
             "colorbar": {
              "outlinewidth": 0,
              "ticks": ""
             }
            },
            "type": "scatterpolargl"
           }
          ],
          "scatterternary": [
           {
            "marker": {
             "colorbar": {
              "outlinewidth": 0,
              "ticks": ""
             }
            },
            "type": "scatterternary"
           }
          ],
          "surface": [
           {
            "colorbar": {
             "outlinewidth": 0,
             "ticks": ""
            },
            "colorscale": [
             [
              0,
              "#0d0887"
             ],
             [
              0.1111111111111111,
              "#46039f"
             ],
             [
              0.2222222222222222,
              "#7201a8"
             ],
             [
              0.3333333333333333,
              "#9c179e"
             ],
             [
              0.4444444444444444,
              "#bd3786"
             ],
             [
              0.5555555555555556,
              "#d8576b"
             ],
             [
              0.6666666666666666,
              "#ed7953"
             ],
             [
              0.7777777777777778,
              "#fb9f3a"
             ],
             [
              0.8888888888888888,
              "#fdca26"
             ],
             [
              1,
              "#f0f921"
             ]
            ],
            "type": "surface"
           }
          ],
          "table": [
           {
            "cells": {
             "fill": {
              "color": "#EBF0F8"
             },
             "line": {
              "color": "white"
             }
            },
            "header": {
             "fill": {
              "color": "#C8D4E3"
             },
             "line": {
              "color": "white"
             }
            },
            "type": "table"
           }
          ]
         },
         "layout": {
          "annotationdefaults": {
           "arrowcolor": "#2a3f5f",
           "arrowhead": 0,
           "arrowwidth": 1
          },
          "autotypenumbers": "strict",
          "coloraxis": {
           "colorbar": {
            "outlinewidth": 0,
            "ticks": ""
           }
          },
          "colorscale": {
           "diverging": [
            [
             0,
             "#8e0152"
            ],
            [
             0.1,
             "#c51b7d"
            ],
            [
             0.2,
             "#de77ae"
            ],
            [
             0.3,
             "#f1b6da"
            ],
            [
             0.4,
             "#fde0ef"
            ],
            [
             0.5,
             "#f7f7f7"
            ],
            [
             0.6,
             "#e6f5d0"
            ],
            [
             0.7,
             "#b8e186"
            ],
            [
             0.8,
             "#7fbc41"
            ],
            [
             0.9,
             "#4d9221"
            ],
            [
             1,
             "#276419"
            ]
           ],
           "sequential": [
            [
             0,
             "#0d0887"
            ],
            [
             0.1111111111111111,
             "#46039f"
            ],
            [
             0.2222222222222222,
             "#7201a8"
            ],
            [
             0.3333333333333333,
             "#9c179e"
            ],
            [
             0.4444444444444444,
             "#bd3786"
            ],
            [
             0.5555555555555556,
             "#d8576b"
            ],
            [
             0.6666666666666666,
             "#ed7953"
            ],
            [
             0.7777777777777778,
             "#fb9f3a"
            ],
            [
             0.8888888888888888,
             "#fdca26"
            ],
            [
             1,
             "#f0f921"
            ]
           ],
           "sequentialminus": [
            [
             0,
             "#0d0887"
            ],
            [
             0.1111111111111111,
             "#46039f"
            ],
            [
             0.2222222222222222,
             "#7201a8"
            ],
            [
             0.3333333333333333,
             "#9c179e"
            ],
            [
             0.4444444444444444,
             "#bd3786"
            ],
            [
             0.5555555555555556,
             "#d8576b"
            ],
            [
             0.6666666666666666,
             "#ed7953"
            ],
            [
             0.7777777777777778,
             "#fb9f3a"
            ],
            [
             0.8888888888888888,
             "#fdca26"
            ],
            [
             1,
             "#f0f921"
            ]
           ]
          },
          "colorway": [
           "#636efa",
           "#EF553B",
           "#00cc96",
           "#ab63fa",
           "#FFA15A",
           "#19d3f3",
           "#FF6692",
           "#B6E880",
           "#FF97FF",
           "#FECB52"
          ],
          "font": {
           "color": "#2a3f5f"
          },
          "geo": {
           "bgcolor": "white",
           "lakecolor": "white",
           "landcolor": "#E5ECF6",
           "showlakes": true,
           "showland": true,
           "subunitcolor": "white"
          },
          "hoverlabel": {
           "align": "left"
          },
          "hovermode": "closest",
          "mapbox": {
           "style": "light"
          },
          "paper_bgcolor": "white",
          "plot_bgcolor": "#E5ECF6",
          "polar": {
           "angularaxis": {
            "gridcolor": "white",
            "linecolor": "white",
            "ticks": ""
           },
           "bgcolor": "#E5ECF6",
           "radialaxis": {
            "gridcolor": "white",
            "linecolor": "white",
            "ticks": ""
           }
          },
          "scene": {
           "xaxis": {
            "backgroundcolor": "#E5ECF6",
            "gridcolor": "white",
            "gridwidth": 2,
            "linecolor": "white",
            "showbackground": true,
            "ticks": "",
            "zerolinecolor": "white"
           },
           "yaxis": {
            "backgroundcolor": "#E5ECF6",
            "gridcolor": "white",
            "gridwidth": 2,
            "linecolor": "white",
            "showbackground": true,
            "ticks": "",
            "zerolinecolor": "white"
           },
           "zaxis": {
            "backgroundcolor": "#E5ECF6",
            "gridcolor": "white",
            "gridwidth": 2,
            "linecolor": "white",
            "showbackground": true,
            "ticks": "",
            "zerolinecolor": "white"
           }
          },
          "shapedefaults": {
           "line": {
            "color": "#2a3f5f"
           }
          },
          "ternary": {
           "aaxis": {
            "gridcolor": "white",
            "linecolor": "white",
            "ticks": ""
           },
           "baxis": {
            "gridcolor": "white",
            "linecolor": "white",
            "ticks": ""
           },
           "bgcolor": "#E5ECF6",
           "caxis": {
            "gridcolor": "white",
            "linecolor": "white",
            "ticks": ""
           }
          },
          "title": {
           "x": 0.05
          },
          "xaxis": {
           "automargin": true,
           "gridcolor": "white",
           "linecolor": "white",
           "ticks": "",
           "title": {
            "standoff": 15
           },
           "zerolinecolor": "white",
           "zerolinewidth": 2
          },
          "yaxis": {
           "automargin": true,
           "gridcolor": "white",
           "linecolor": "white",
           "ticks": "",
           "title": {
            "standoff": 15
           },
           "zerolinecolor": "white",
           "zerolinewidth": 2
          }
         }
        },
        "title": {
         "text": "Scatter plot of output patching vs value patching"
        },
        "xaxis": {
         "anchor": "y",
         "domain": [
          0,
          1
         ],
         "range": [
          -0.5,
          0.5
         ],
         "title": {
          "text": "Value Patch"
         }
        },
        "yaxis": {
         "anchor": "x",
         "domain": [
          0,
          1
         ],
         "range": [
          -0.5,
          0.5
         ],
         "title": {
          "text": "Output Patch"
         }
        }
       }
      },
      "text/html": [
       "<div>                            <div id=\"b64f37db-f62f-40f9-aecd-cc5f2c7c9427\" class=\"plotly-graph-div\" style=\"height:525px; width:100%;\"></div>            <script type=\"text/javascript\">                require([\"plotly\"], function(Plotly) {                    window.PLOTLYENV=window.PLOTLYENV || {};                                    if (document.getElementById(\"b64f37db-f62f-40f9-aecd-cc5f2c7c9427\")) {                    Plotly.newPlot(                        \"b64f37db-f62f-40f9-aecd-cc5f2c7c9427\",                        [{\"hovertemplate\":\"\\u003cb\\u003e%{hovertext}\\u003c\\u002fb\\u003e\\u003cbr\\u003e\\u003cbr\\u003eValue Patch=%{x}\\u003cbr\\u003eOutput Patch=%{y}\\u003cbr\\u003eLayer=%{marker.color}\\u003cextra\\u003e\\u003c\\u002fextra\\u003e\",\"hovertext\":[\"L0H0\",\"L0H1\",\"L0H2\",\"L0H3\",\"L0H4\",\"L0H5\",\"L0H6\",\"L0H7\",\"L0H8\",\"L0H9\",\"L0H10\",\"L0H11\",\"L1H0\",\"L1H1\",\"L1H2\",\"L1H3\",\"L1H4\",\"L1H5\",\"L1H6\",\"L1H7\",\"L1H8\",\"L1H9\",\"L1H10\",\"L1H11\",\"L2H0\",\"L2H1\",\"L2H2\",\"L2H3\",\"L2H4\",\"L2H5\",\"L2H6\",\"L2H7\",\"L2H8\",\"L2H9\",\"L2H10\",\"L2H11\",\"L3H0\",\"L3H1\",\"L3H2\",\"L3H3\",\"L3H4\",\"L3H5\",\"L3H6\",\"L3H7\",\"L3H8\",\"L3H9\",\"L3H10\",\"L3H11\",\"L4H0\",\"L4H1\",\"L4H2\",\"L4H3\",\"L4H4\",\"L4H5\",\"L4H6\",\"L4H7\",\"L4H8\",\"L4H9\",\"L4H10\",\"L4H11\",\"L5H0\",\"L5H1\",\"L5H2\",\"L5H3\",\"L5H4\",\"L5H5\",\"L5H6\",\"L5H7\",\"L5H8\",\"L5H9\",\"L5H10\",\"L5H11\",\"L6H0\",\"L6H1\",\"L6H2\",\"L6H3\",\"L6H4\",\"L6H5\",\"L6H6\",\"L6H7\",\"L6H8\",\"L6H9\",\"L6H10\",\"L6H11\",\"L7H0\",\"L7H1\",\"L7H2\",\"L7H3\",\"L7H4\",\"L7H5\",\"L7H6\",\"L7H7\",\"L7H8\",\"L7H9\",\"L7H10\",\"L7H11\",\"L8H0\",\"L8H1\",\"L8H2\",\"L8H3\",\"L8H4\",\"L8H5\",\"L8H6\",\"L8H7\",\"L8H8\",\"L8H9\",\"L8H10\",\"L8H11\",\"L9H0\",\"L9H1\",\"L9H2\",\"L9H3\",\"L9H4\",\"L9H5\",\"L9H6\",\"L9H7\",\"L9H8\",\"L9H9\",\"L9H10\",\"L9H11\",\"L10H0\",\"L10H1\",\"L10H2\",\"L10H3\",\"L10H4\",\"L10H5\",\"L10H6\",\"L10H7\",\"L10H8\",\"L10H9\",\"L10H10\",\"L10H11\",\"L11H0\",\"L11H1\",\"L11H2\",\"L11H3\",\"L11H4\",\"L11H5\",\"L11H6\",\"L11H7\",\"L11H8\",\"L11H9\",\"L11H10\",\"L11H11\"],\"legendgroup\":\"\",\"marker\":{\"color\":[0,0,0,0,0,0,0,0,0,0,0,0,1,1,1,1,1,1,1,1,1,1,1,1,2,2,2,2,2,2,2,2,2,2,2,2,3,3,3,3,3,3,3,3,3,3,3,3,4,4,4,4,4,4,4,4,4,4,4,4,5,5,5,5,5,5,5,5,5,5,5,5,6,6,6,6,6,6,6,6,6,6,6,6,7,7,7,7,7,7,7,7,7,7,7,7,8,8,8,8,8,8,8,8,8,8,8,8,9,9,9,9,9,9,9,9,9,9,9,9,10,10,10,10,10,10,10,10,10,10,10,10,11,11,11,11,11,11,11,11,11,11,11,11],\"coloraxis\":\"coloraxis\",\"symbol\":\"circle\"},\"mode\":\"markers\",\"name\":\"\",\"orientation\":\"v\",\"showlegend\":false,\"x\":[-0.0003135997976642102,-0.031184835359454155,-0.00018200567865278572,0.01411925908178091,-0.027778083458542824,-0.017835304141044617,-0.005838267970830202,-0.002763590542599559,0.0024137438740581274,-0.0010797471040859818,-0.0033753691241145134,-0.0007988173747435212,-0.0006550362450070679,-0.0029912886675447226,0.00011503061978146434,-0.00043491311953403056,0.0009790025651454926,-0.015297280624508858,0.0004599368548952043,-0.0015464592725038528,-0.0011468364391475916,0.0002651730028446764,-0.004346561152487993,0.009105774573981762,-0.003358805552124977,0.001127274357713759,-0.0035848687402904034,0.009810429997742176,-0.00212184083648026,0.0007963043171912432,-0.002302782842889428,-9.370511543238536e-05,-0.0006891128141433001,0.0030792108736932278,-0.0021217979956418276,0.001621130621060729,0.011956673115491867,-0.002580592641606927,-0.013629700057208538,-0.005333024077117443,-0.03907084837555885,-0.01450322475284338,0.031331323087215424,0.00044047474511899054,0.006792289670556784,0.004189535975456238,-0.002468945924192667,0.00024998027947731316,-8.799356874078512e-05,-0.011486419476568699,-0.0021856960374861956,0.10699126869440079,-0.034065283834934235,-0.0016832652036100626,-0.01754157617688179,0.0014296009903773665,0.002618859987705946,-0.0026651592925190926,-0.0008303451468236744,-0.044455695897340775,-0.00467977300286293,0.0003853011585306376,0.02366485819220543,-0.0040083229541778564,-0.004033796489238739,0.004210897255688906,0.002362604020163417,0.001862579258158803,-0.011118139140307903,-0.049473825842142105,0.01048492081463337,-0.03110167384147644,0.17572617530822754,0.0001510919100837782,0.0017893572803586721,-0.0006492104730568826,-0.002611777512356639,-0.02723415568470955,-0.050090327858924866,0.014255422167479992,0.02032691426575184,-0.003083130344748497,-0.00758916512131691,-2.2389276637113653e-05,0.01124197244644165,0.0006657025660388172,0.0001921008515637368,0.3205493688583374,-0.014966506510972977,-0.022381886839866638,0.00249176356010139,-0.008751158602535725,-0.003275723895058036,0.27290651202201843,-0.0018678625347092748,0.0009347522864118218,-0.005309985019266605,-0.003489942755550146,-0.005568604450672865,-0.03012964315712452,-0.0005634229746647179,-0.024567393586039543,0.10715272277593613,0.007177248131483793,0.00037829737993888557,-0.0004894012818112969,0.45412477850914,-0.011062508448958397,-0.010365927591919899,0.002085900865495205,-0.013606243766844273,0.027248091995716095,-0.0615900419652462,0.03243151679635048,-0.019958440214395523,0.3792473375797272,-0.017959434539079666,-0.03603074327111244,-0.0013040967751294374,-0.004709972534328699,-0.04826983064413071,-0.00886835902929306,-0.05445410683751106,-0.012220581993460655,-0.00039687418029643595,0.0008716610609553754,-0.03681120276451111,0.20171058177947998,0.001084166462533176,-0.004974831361323595,-0.05105642229318619,-0.008957081474363804,0.006500586401671171,-0.010312775149941444,-0.12992101907730103,0.012549988925457,0.000869454990606755,0.006341076921671629,-0.03367495536804199,0.0077600544318556786,-0.002287511480972171,-0.009475422091782093,0.06190463528037071,-0.002825232455506921],\"xaxis\":\"x\",\"y\":[-0.0011491210898384452,-0.07400459051132202,-0.0037174909375607967,0.013623460195958614,-0.025855159386992455,-0.022811738774180412,-0.008529704064130783,-0.004250913858413696,0.007923483848571777,-0.003874258603900671,-0.007525916676968336,-0.0003183617955073714,-0.012311474420130253,-0.001002105767838657,0.0010380956809967756,0.014966588467359543,-0.0023640820290893316,-0.002638314850628376,0.0009509017108939588,-0.00564068416133523,-0.0008365493267774582,-0.0008692978881299496,-0.0060423631221055984,0.018758373335003853,-0.007966202683746815,6.241296068765223e-05,-0.0026442548260092735,0.009321820922195911,-0.001256119809113443,-0.00025427821674384177,-0.0034778770059347153,0.0023328682873398066,0.00401484128087759,0.008590328507125378,0.001516230870038271,-0.021752284839749336,0.012895958498120308,-0.004345989786088467,-0.021169248968362808,-0.008329874835908413,-0.024744108319282532,-0.017199646681547165,0.028555622324347496,-0.009812021628022194,0.0013195608044043183,0.004519021138548851,-0.005017097108066082,-0.00281525868922472,-0.0009842857252806425,-0.014713256619870663,0.003387941513210535,0.11787204444408417,-0.02844119444489479,0.0019495447631925344,-0.026066979393363,0.006517642643302679,0.0164400115609169,-0.0038758579175919294,-0.0006039392901584506,-0.04456665366888046,-0.0031981610227376223,0.14429806172847748,0.0028001873288303614,-0.004829608369618654,-0.01423424668610096,0.10296261310577393,0.0021816978696733713,0.001439846120774746,-0.049851056188344955,0.015170947648584843,0.010465201921761036,-0.025762781500816345,0.16275279223918915,-0.00984629150480032,0.003692859783768654,-0.02197922207415104,-0.004078917670994997,-0.02064957283437252,-0.09202282130718231,0.012992027215659618,0.0034059116151183844,0.02349274791777134,0.005676066968590021,0.0035274175461381674,0.02916351705789566,0.019454382359981537,0.012652532197535038,0.26528751850128174,-0.02277209982275963,-0.02229560725390911,-0.01132497563958168,-0.008896728046238422,-0.004270483274012804,0.2821894586086273,0.0002127766638295725,0.0017856232589110732,-0.00587490014731884,-0.006188957020640373,-0.005780502688139677,0.01658025197684765,-0.0011596730910241604,-0.018084213137626648,0.11505789309740067,0.00846859347075224,0.001046969904564321,-0.001044107018969953,0.40613028407096863,-0.004206478130072355,-0.014337779022753239,0.003815165488049388,-0.00019533501472324133,0.024124901741743088,-0.04045974090695381,0.03850700706243515,-0.060013461858034134,0.2962854504585266,-0.03711662068963051,0.02599954605102539,-0.004514559172093868,-0.0028748088516294956,0.13067379593849182,0.04188493266701698,-0.03532189875841141,0.0039717406034469604,-0.00037673383485525846,-0.0008605378097854555,0.012026696465909481,-0.08412450551986694,-0.0005243202904239297,-0.002771279774606228,0.04165833070874214,-0.005761883221566677,0.0037319697439670563,0.06239774078130722,-0.14547371864318848,-0.006548863369971514,-0.00041865662205964327,-0.0036449970211833715,-0.01559470221400261,0.005396922118961811,-0.0005241275066509843,0.009267982095479965,-0.22651802003383636,-0.0055649131536483765],\"yaxis\":\"y\",\"type\":\"scatter\"}],                        {\"template\":{\"data\":{\"histogram2dcontour\":[{\"type\":\"histogram2dcontour\",\"colorbar\":{\"outlinewidth\":0,\"ticks\":\"\"},\"colorscale\":[[0.0,\"#0d0887\"],[0.1111111111111111,\"#46039f\"],[0.2222222222222222,\"#7201a8\"],[0.3333333333333333,\"#9c179e\"],[0.4444444444444444,\"#bd3786\"],[0.5555555555555556,\"#d8576b\"],[0.6666666666666666,\"#ed7953\"],[0.7777777777777778,\"#fb9f3a\"],[0.8888888888888888,\"#fdca26\"],[1.0,\"#f0f921\"]]}],\"choropleth\":[{\"type\":\"choropleth\",\"colorbar\":{\"outlinewidth\":0,\"ticks\":\"\"}}],\"histogram2d\":[{\"type\":\"histogram2d\",\"colorbar\":{\"outlinewidth\":0,\"ticks\":\"\"},\"colorscale\":[[0.0,\"#0d0887\"],[0.1111111111111111,\"#46039f\"],[0.2222222222222222,\"#7201a8\"],[0.3333333333333333,\"#9c179e\"],[0.4444444444444444,\"#bd3786\"],[0.5555555555555556,\"#d8576b\"],[0.6666666666666666,\"#ed7953\"],[0.7777777777777778,\"#fb9f3a\"],[0.8888888888888888,\"#fdca26\"],[1.0,\"#f0f921\"]]}],\"heatmap\":[{\"type\":\"heatmap\",\"colorbar\":{\"outlinewidth\":0,\"ticks\":\"\"},\"colorscale\":[[0.0,\"#0d0887\"],[0.1111111111111111,\"#46039f\"],[0.2222222222222222,\"#7201a8\"],[0.3333333333333333,\"#9c179e\"],[0.4444444444444444,\"#bd3786\"],[0.5555555555555556,\"#d8576b\"],[0.6666666666666666,\"#ed7953\"],[0.7777777777777778,\"#fb9f3a\"],[0.8888888888888888,\"#fdca26\"],[1.0,\"#f0f921\"]]}],\"heatmapgl\":[{\"type\":\"heatmapgl\",\"colorbar\":{\"outlinewidth\":0,\"ticks\":\"\"},\"colorscale\":[[0.0,\"#0d0887\"],[0.1111111111111111,\"#46039f\"],[0.2222222222222222,\"#7201a8\"],[0.3333333333333333,\"#9c179e\"],[0.4444444444444444,\"#bd3786\"],[0.5555555555555556,\"#d8576b\"],[0.6666666666666666,\"#ed7953\"],[0.7777777777777778,\"#fb9f3a\"],[0.8888888888888888,\"#fdca26\"],[1.0,\"#f0f921\"]]}],\"contourcarpet\":[{\"type\":\"contourcarpet\",\"colorbar\":{\"outlinewidth\":0,\"ticks\":\"\"}}],\"contour\":[{\"type\":\"contour\",\"colorbar\":{\"outlinewidth\":0,\"ticks\":\"\"},\"colorscale\":[[0.0,\"#0d0887\"],[0.1111111111111111,\"#46039f\"],[0.2222222222222222,\"#7201a8\"],[0.3333333333333333,\"#9c179e\"],[0.4444444444444444,\"#bd3786\"],[0.5555555555555556,\"#d8576b\"],[0.6666666666666666,\"#ed7953\"],[0.7777777777777778,\"#fb9f3a\"],[0.8888888888888888,\"#fdca26\"],[1.0,\"#f0f921\"]]}],\"surface\":[{\"type\":\"surface\",\"colorbar\":{\"outlinewidth\":0,\"ticks\":\"\"},\"colorscale\":[[0.0,\"#0d0887\"],[0.1111111111111111,\"#46039f\"],[0.2222222222222222,\"#7201a8\"],[0.3333333333333333,\"#9c179e\"],[0.4444444444444444,\"#bd3786\"],[0.5555555555555556,\"#d8576b\"],[0.6666666666666666,\"#ed7953\"],[0.7777777777777778,\"#fb9f3a\"],[0.8888888888888888,\"#fdca26\"],[1.0,\"#f0f921\"]]}],\"mesh3d\":[{\"type\":\"mesh3d\",\"colorbar\":{\"outlinewidth\":0,\"ticks\":\"\"}}],\"scatter\":[{\"fillpattern\":{\"fillmode\":\"overlay\",\"size\":10,\"solidity\":0.2},\"type\":\"scatter\"}],\"parcoords\":[{\"type\":\"parcoords\",\"line\":{\"colorbar\":{\"outlinewidth\":0,\"ticks\":\"\"}}}],\"scatterpolargl\":[{\"type\":\"scatterpolargl\",\"marker\":{\"colorbar\":{\"outlinewidth\":0,\"ticks\":\"\"}}}],\"bar\":[{\"error_x\":{\"color\":\"#2a3f5f\"},\"error_y\":{\"color\":\"#2a3f5f\"},\"marker\":{\"line\":{\"color\":\"#E5ECF6\",\"width\":0.5},\"pattern\":{\"fillmode\":\"overlay\",\"size\":10,\"solidity\":0.2}},\"type\":\"bar\"}],\"scattergeo\":[{\"type\":\"scattergeo\",\"marker\":{\"colorbar\":{\"outlinewidth\":0,\"ticks\":\"\"}}}],\"scatterpolar\":[{\"type\":\"scatterpolar\",\"marker\":{\"colorbar\":{\"outlinewidth\":0,\"ticks\":\"\"}}}],\"histogram\":[{\"marker\":{\"pattern\":{\"fillmode\":\"overlay\",\"size\":10,\"solidity\":0.2}},\"type\":\"histogram\"}],\"scattergl\":[{\"type\":\"scattergl\",\"marker\":{\"colorbar\":{\"outlinewidth\":0,\"ticks\":\"\"}}}],\"scatter3d\":[{\"type\":\"scatter3d\",\"line\":{\"colorbar\":{\"outlinewidth\":0,\"ticks\":\"\"}},\"marker\":{\"colorbar\":{\"outlinewidth\":0,\"ticks\":\"\"}}}],\"scattermapbox\":[{\"type\":\"scattermapbox\",\"marker\":{\"colorbar\":{\"outlinewidth\":0,\"ticks\":\"\"}}}],\"scatterternary\":[{\"type\":\"scatterternary\",\"marker\":{\"colorbar\":{\"outlinewidth\":0,\"ticks\":\"\"}}}],\"scattercarpet\":[{\"type\":\"scattercarpet\",\"marker\":{\"colorbar\":{\"outlinewidth\":0,\"ticks\":\"\"}}}],\"carpet\":[{\"aaxis\":{\"endlinecolor\":\"#2a3f5f\",\"gridcolor\":\"white\",\"linecolor\":\"white\",\"minorgridcolor\":\"white\",\"startlinecolor\":\"#2a3f5f\"},\"baxis\":{\"endlinecolor\":\"#2a3f5f\",\"gridcolor\":\"white\",\"linecolor\":\"white\",\"minorgridcolor\":\"white\",\"startlinecolor\":\"#2a3f5f\"},\"type\":\"carpet\"}],\"table\":[{\"cells\":{\"fill\":{\"color\":\"#EBF0F8\"},\"line\":{\"color\":\"white\"}},\"header\":{\"fill\":{\"color\":\"#C8D4E3\"},\"line\":{\"color\":\"white\"}},\"type\":\"table\"}],\"barpolar\":[{\"marker\":{\"line\":{\"color\":\"#E5ECF6\",\"width\":0.5},\"pattern\":{\"fillmode\":\"overlay\",\"size\":10,\"solidity\":0.2}},\"type\":\"barpolar\"}],\"pie\":[{\"automargin\":true,\"type\":\"pie\"}]},\"layout\":{\"autotypenumbers\":\"strict\",\"colorway\":[\"#636efa\",\"#EF553B\",\"#00cc96\",\"#ab63fa\",\"#FFA15A\",\"#19d3f3\",\"#FF6692\",\"#B6E880\",\"#FF97FF\",\"#FECB52\"],\"font\":{\"color\":\"#2a3f5f\"},\"hovermode\":\"closest\",\"hoverlabel\":{\"align\":\"left\"},\"paper_bgcolor\":\"white\",\"plot_bgcolor\":\"#E5ECF6\",\"polar\":{\"bgcolor\":\"#E5ECF6\",\"angularaxis\":{\"gridcolor\":\"white\",\"linecolor\":\"white\",\"ticks\":\"\"},\"radialaxis\":{\"gridcolor\":\"white\",\"linecolor\":\"white\",\"ticks\":\"\"}},\"ternary\":{\"bgcolor\":\"#E5ECF6\",\"aaxis\":{\"gridcolor\":\"white\",\"linecolor\":\"white\",\"ticks\":\"\"},\"baxis\":{\"gridcolor\":\"white\",\"linecolor\":\"white\",\"ticks\":\"\"},\"caxis\":{\"gridcolor\":\"white\",\"linecolor\":\"white\",\"ticks\":\"\"}},\"coloraxis\":{\"colorbar\":{\"outlinewidth\":0,\"ticks\":\"\"}},\"colorscale\":{\"sequential\":[[0.0,\"#0d0887\"],[0.1111111111111111,\"#46039f\"],[0.2222222222222222,\"#7201a8\"],[0.3333333333333333,\"#9c179e\"],[0.4444444444444444,\"#bd3786\"],[0.5555555555555556,\"#d8576b\"],[0.6666666666666666,\"#ed7953\"],[0.7777777777777778,\"#fb9f3a\"],[0.8888888888888888,\"#fdca26\"],[1.0,\"#f0f921\"]],\"sequentialminus\":[[0.0,\"#0d0887\"],[0.1111111111111111,\"#46039f\"],[0.2222222222222222,\"#7201a8\"],[0.3333333333333333,\"#9c179e\"],[0.4444444444444444,\"#bd3786\"],[0.5555555555555556,\"#d8576b\"],[0.6666666666666666,\"#ed7953\"],[0.7777777777777778,\"#fb9f3a\"],[0.8888888888888888,\"#fdca26\"],[1.0,\"#f0f921\"]],\"diverging\":[[0,\"#8e0152\"],[0.1,\"#c51b7d\"],[0.2,\"#de77ae\"],[0.3,\"#f1b6da\"],[0.4,\"#fde0ef\"],[0.5,\"#f7f7f7\"],[0.6,\"#e6f5d0\"],[0.7,\"#b8e186\"],[0.8,\"#7fbc41\"],[0.9,\"#4d9221\"],[1,\"#276419\"]]},\"xaxis\":{\"gridcolor\":\"white\",\"linecolor\":\"white\",\"ticks\":\"\",\"title\":{\"standoff\":15},\"zerolinecolor\":\"white\",\"automargin\":true,\"zerolinewidth\":2},\"yaxis\":{\"gridcolor\":\"white\",\"linecolor\":\"white\",\"ticks\":\"\",\"title\":{\"standoff\":15},\"zerolinecolor\":\"white\",\"automargin\":true,\"zerolinewidth\":2},\"scene\":{\"xaxis\":{\"backgroundcolor\":\"#E5ECF6\",\"gridcolor\":\"white\",\"linecolor\":\"white\",\"showbackground\":true,\"ticks\":\"\",\"zerolinecolor\":\"white\",\"gridwidth\":2},\"yaxis\":{\"backgroundcolor\":\"#E5ECF6\",\"gridcolor\":\"white\",\"linecolor\":\"white\",\"showbackground\":true,\"ticks\":\"\",\"zerolinecolor\":\"white\",\"gridwidth\":2},\"zaxis\":{\"backgroundcolor\":\"#E5ECF6\",\"gridcolor\":\"white\",\"linecolor\":\"white\",\"showbackground\":true,\"ticks\":\"\",\"zerolinecolor\":\"white\",\"gridwidth\":2}},\"shapedefaults\":{\"line\":{\"color\":\"#2a3f5f\"}},\"annotationdefaults\":{\"arrowcolor\":\"#2a3f5f\",\"arrowhead\":0,\"arrowwidth\":1},\"geo\":{\"bgcolor\":\"white\",\"landcolor\":\"#E5ECF6\",\"subunitcolor\":\"white\",\"showland\":true,\"showlakes\":true,\"lakecolor\":\"white\"},\"title\":{\"x\":0.05},\"mapbox\":{\"style\":\"light\"}}},\"xaxis\":{\"anchor\":\"y\",\"domain\":[0.0,1.0],\"title\":{\"text\":\"Value Patch\"},\"range\":[-0.5,0.5]},\"yaxis\":{\"anchor\":\"x\",\"domain\":[0.0,1.0],\"title\":{\"text\":\"Output Patch\"},\"range\":[-0.5,0.5]},\"coloraxis\":{\"colorbar\":{\"title\":{\"text\":\"Layer\"}},\"colorscale\":[[0.0,\"#0d0887\"],[0.1111111111111111,\"#46039f\"],[0.2222222222222222,\"#7201a8\"],[0.3333333333333333,\"#9c179e\"],[0.4444444444444444,\"#bd3786\"],[0.5555555555555556,\"#d8576b\"],[0.6666666666666666,\"#ed7953\"],[0.7777777777777778,\"#fb9f3a\"],[0.8888888888888888,\"#fdca26\"],[1.0,\"#f0f921\"]]},\"legend\":{\"tracegroupgap\":0},\"title\":{\"text\":\"Scatter plot of output patching vs value patching\"}},                        {\"responsive\": true}                    ).then(function(){\n",
       "                            \n",
       "var gd = document.getElementById('b64f37db-f62f-40f9-aecd-cc5f2c7c9427');\n",
       "var x = new MutationObserver(function (mutations, observer) {{\n",
       "        var display = window.getComputedStyle(gd).display;\n",
       "        if (!display || display === 'none') {{\n",
       "            console.log([gd, 'removed!']);\n",
       "            Plotly.purge(gd);\n",
       "            observer.disconnect();\n",
       "        }}\n",
       "}});\n",
       "\n",
       "// Listen for the removal of the full notebook cells\n",
       "var notebookContainer = gd.closest('#notebook-container');\n",
       "if (notebookContainer) {{\n",
       "    x.observe(notebookContainer, {childList: true});\n",
       "}}\n",
       "\n",
       "// Listen for the clearing of the current output cell\n",
       "var outputEl = gd.closest('.output');\n",
       "if (outputEl) {{\n",
       "    x.observe(outputEl, {childList: true});\n",
       "}}\n",
       "\n",
       "                        })                };                });            </script>        </div>"
      ]
     },
     "metadata": {},
     "output_type": "display_data"
    }
   ],
   "source": [
    "head_labels = [\n",
    "    f\"L{l}H{h}\" for l in range(model.cfg.n_layers) for h in range(model.cfg.n_heads)\n",
    "]\n",
    "scatter(\n",
    "    x=utils.to_numpy(patched_head_v_diff.flatten()),\n",
    "    y=utils.to_numpy(patched_head_z_diff.flatten()),\n",
    "    xaxis=\"Value Patch\",\n",
    "    yaxis=\"Output Patch\",\n",
    "    caxis=\"Layer\",\n",
    "    hover_name=head_labels,\n",
    "    color=einops.repeat(\n",
    "        np.arange(model.cfg.n_layers), \"layer -> (layer head)\", head=model.cfg.n_heads\n",
    "    ),\n",
    "    range_x=(-0.5, 0.5),\n",
    "    range_y=(-0.5, 0.5),\n",
    "    title=\"Scatter plot of output patching vs value patching\",\n",
    ")"
   ]
  },
  {
   "cell_type": "code",
   "execution_count": 145,
   "metadata": {},
   "outputs": [],
   "source": [
    "def patch_head_pattern(\n",
    "    corrupted_head_pattern: Float[torch.Tensor, \"batch head_index query_pos d_head\"],\n",
    "    hook,\n",
    "    head_index,\n",
    "    clean_cache,\n",
    "):\n",
    "    corrupted_head_pattern[:, head_index, :, :] = clean_cache[hook.name][\n",
    "        :, head_index, :, :\n",
    "    ]\n",
    "    return corrupted_head_pattern\n",
    "\n",
    "\n",
    "patched_head_attn_diff = torch.zeros(\n",
    "    model.cfg.n_layers, model.cfg.n_heads, device=device, dtype=torch.float32\n",
    ")\n",
    "for layer in range(model.cfg.n_layers):\n",
    "    for head_index in range(model.cfg.n_heads):\n",
    "        hook_fn = partial(patch_head_pattern, head_index=head_index, clean_cache=cache)\n",
    "        patched_logits = model.run_with_hooks(\n",
    "            corrupted_tokens,\n",
    "            fwd_hooks=[(utils.get_act_name(\"attn\", layer, \"attn\"), hook_fn)],\n",
    "            return_type=\"logits\",\n",
    "        )\n",
    "        patched_logit_diff = logits_to_ave_logit_diff(patched_logits, answer_tokens)\n",
    "\n",
    "        patched_head_attn_diff[layer, head_index] = normalize_patched_logit_diff(\n",
    "            patched_logit_diff\n",
    "        )"
   ]
  },
  {
   "cell_type": "code",
   "execution_count": 146,
   "metadata": {},
   "outputs": [
    {
     "data": {
      "application/vnd.plotly.v1+json": {
       "config": {
        "plotlyServerURL": "https://plot.ly"
       },
       "data": [
        {
         "coloraxis": "coloraxis",
         "hovertemplate": "Head: %{x}<br>Layer: %{y}<br>color: %{z}<extra></extra>",
         "name": "0",
         "type": "heatmap",
         "xaxis": "x",
         "yaxis": "y",
         "z": [
          [
           -0.0013727496843785048,
           -0.10756390541791916,
           -0.0026674082037061453,
           -0.0000836527906358242,
           -0.0037097232416272163,
           -0.011518672108650208,
           -0.006583318114280701,
           -0.00004001654815510847,
           0.007819040678441525,
           -0.0021610220428556204,
           -0.007098085712641478,
           -0.0008545192540623248
          ],
          [
           -0.00868220254778862,
           0.0016059736954048276,
           0.0010992091847583652,
           0.015255207195878029,
           -0.0035003020893782377,
           0.017827767878770828,
           0.00005110409256303683,
           -0.0036237856838852167,
           0.00023394508752971888,
           -0.0004908863338641822,
           -0.0018779933452606201,
           0.010284217074513435
          ],
          [
           -0.005490969866514206,
           0.000351188937202096,
           0.001840147189795971,
           -0.0009465180919505656,
           0.0019073935691267252,
           -0.0011380049400031567,
           -0.0014045415446162224,
           0.0024927917402237654,
           0.004523740615695715,
           0.005249414127320051,
           0.003748533083125949,
           -0.02331690676510334
          ],
          [
           -0.0034203759860247374,
           -0.002139696618542075,
           -0.008357329294085503,
           -0.0010608204174786806,
           0.029345259070396423,
           -0.0003928760997951031,
           -0.0030834730714559555,
           -0.01143197063356638,
           -0.004919086582958698,
           0.0005192941171117127,
           -0.0022653150372207165,
           -0.0030966883059591055
          ],
          [
           -0.0010575506603345275,
           -0.003321494907140732,
           0.005227403249591589,
           0.004041799809783697,
           0.006901801563799381,
           0.0035240263678133488,
           -0.009967947378754616,
           0.0053833285346627235,
           0.01433888915926218,
           -0.0012038376880809665,
           0.00016479963960591704,
           -0.0001530267036287114
          ],
          [
           0.0021421024575829506,
           0.14346624910831451,
           -0.02112789824604988,
           -0.00018074913532473147,
           -0.008921858854591846,
           0.09815029054880142,
           -0.00044382314081303775,
           -0.0002906036679632962,
           -0.03334235027432442,
           0.06944438070058823,
           -0.0013216884108260274,
           0.00527865719050169
          ],
          [
           -0.012146675027906895,
           -0.011050096713006496,
           0.003359647933393717,
           -0.02182931639254093,
           -0.001169682596810162,
           0.006289444863796234,
           -0.03355588763952255,
           -0.00996353104710579,
           -0.015875214710831642,
           0.026211902499198914,
           0.009253132157027721,
           0.0032250480726361275
          ],
          [
           0.015880050137639046,
           0.020036881789565086,
           0.012475017458200455,
           -0.0727812871336937,
           -0.004908577539026737,
           -0.0013128569116815925,
           -0.013356649316847324,
           -0.0011075837537646294,
           0.0001349496451439336,
           -0.011750292964279652,
           0.0018776578363031149,
           0.0004471001448109746
          ],
          [
           -0.0007826680084690452,
           -0.0030063672456890345,
           -0.002061826642602682,
           0.04614776745438576,
           -0.0007646195008419454,
           -0.0010580432135611773,
           0.005936170928180218,
           0.0003805462911259383,
           0.00035457301419228315,
           0.00018981622997671366,
           -0.10167694091796875,
           0.002776120323687792
          ],
          [
           -0.001544745871797204,
           0.000031070831028046086,
           0.010996033437550068,
           -0.0005817784694954753,
           0.019266393035650253,
           0.004169852938503027,
           -0.02853265590965748,
           -0.1459222286939621,
           -0.009971260093152523,
           0.0658075362443924,
           -0.0033495957031846046,
           0.0015693055465817451
          ],
          [
           0.18408742547035217,
           0.05476105585694313,
           0.01143715064972639,
           0.017849506810307503,
           0.001644283882342279,
           -0.0017581293359398842,
           0.06201472505927086,
           -0.29643189907073975,
           -0.0024400099646300077,
           0.006081315688788891,
           0.10442141443490982,
           0.002171267056837678
          ],
          [
           -0.0029893468599766493,
           0.06518573313951492,
           -0.03718302771449089,
           -0.02190752513706684,
           -0.0005380637012422085,
           -0.008379450999200344,
           0.024105411022901535,
           -0.0008711970294825733,
           0.00256307958625257,
           0.023194190114736557,
           -0.3073241710662842,
           -0.004272696562111378
          ]
         ]
        }
       ],
       "layout": {
        "coloraxis": {
         "cmid": 0,
         "colorscale": [
          [
           0,
           "rgb(103,0,31)"
          ],
          [
           0.1,
           "rgb(178,24,43)"
          ],
          [
           0.2,
           "rgb(214,96,77)"
          ],
          [
           0.3,
           "rgb(244,165,130)"
          ],
          [
           0.4,
           "rgb(253,219,199)"
          ],
          [
           0.5,
           "rgb(247,247,247)"
          ],
          [
           0.6,
           "rgb(209,229,240)"
          ],
          [
           0.7,
           "rgb(146,197,222)"
          ],
          [
           0.8,
           "rgb(67,147,195)"
          ],
          [
           0.9,
           "rgb(33,102,172)"
          ],
          [
           1,
           "rgb(5,48,97)"
          ]
         ]
        },
        "template": {
         "data": {
          "bar": [
           {
            "error_x": {
             "color": "#2a3f5f"
            },
            "error_y": {
             "color": "#2a3f5f"
            },
            "marker": {
             "line": {
              "color": "#E5ECF6",
              "width": 0.5
             },
             "pattern": {
              "fillmode": "overlay",
              "size": 10,
              "solidity": 0.2
             }
            },
            "type": "bar"
           }
          ],
          "barpolar": [
           {
            "marker": {
             "line": {
              "color": "#E5ECF6",
              "width": 0.5
             },
             "pattern": {
              "fillmode": "overlay",
              "size": 10,
              "solidity": 0.2
             }
            },
            "type": "barpolar"
           }
          ],
          "carpet": [
           {
            "aaxis": {
             "endlinecolor": "#2a3f5f",
             "gridcolor": "white",
             "linecolor": "white",
             "minorgridcolor": "white",
             "startlinecolor": "#2a3f5f"
            },
            "baxis": {
             "endlinecolor": "#2a3f5f",
             "gridcolor": "white",
             "linecolor": "white",
             "minorgridcolor": "white",
             "startlinecolor": "#2a3f5f"
            },
            "type": "carpet"
           }
          ],
          "choropleth": [
           {
            "colorbar": {
             "outlinewidth": 0,
             "ticks": ""
            },
            "type": "choropleth"
           }
          ],
          "contour": [
           {
            "colorbar": {
             "outlinewidth": 0,
             "ticks": ""
            },
            "colorscale": [
             [
              0,
              "#0d0887"
             ],
             [
              0.1111111111111111,
              "#46039f"
             ],
             [
              0.2222222222222222,
              "#7201a8"
             ],
             [
              0.3333333333333333,
              "#9c179e"
             ],
             [
              0.4444444444444444,
              "#bd3786"
             ],
             [
              0.5555555555555556,
              "#d8576b"
             ],
             [
              0.6666666666666666,
              "#ed7953"
             ],
             [
              0.7777777777777778,
              "#fb9f3a"
             ],
             [
              0.8888888888888888,
              "#fdca26"
             ],
             [
              1,
              "#f0f921"
             ]
            ],
            "type": "contour"
           }
          ],
          "contourcarpet": [
           {
            "colorbar": {
             "outlinewidth": 0,
             "ticks": ""
            },
            "type": "contourcarpet"
           }
          ],
          "heatmap": [
           {
            "colorbar": {
             "outlinewidth": 0,
             "ticks": ""
            },
            "colorscale": [
             [
              0,
              "#0d0887"
             ],
             [
              0.1111111111111111,
              "#46039f"
             ],
             [
              0.2222222222222222,
              "#7201a8"
             ],
             [
              0.3333333333333333,
              "#9c179e"
             ],
             [
              0.4444444444444444,
              "#bd3786"
             ],
             [
              0.5555555555555556,
              "#d8576b"
             ],
             [
              0.6666666666666666,
              "#ed7953"
             ],
             [
              0.7777777777777778,
              "#fb9f3a"
             ],
             [
              0.8888888888888888,
              "#fdca26"
             ],
             [
              1,
              "#f0f921"
             ]
            ],
            "type": "heatmap"
           }
          ],
          "heatmapgl": [
           {
            "colorbar": {
             "outlinewidth": 0,
             "ticks": ""
            },
            "colorscale": [
             [
              0,
              "#0d0887"
             ],
             [
              0.1111111111111111,
              "#46039f"
             ],
             [
              0.2222222222222222,
              "#7201a8"
             ],
             [
              0.3333333333333333,
              "#9c179e"
             ],
             [
              0.4444444444444444,
              "#bd3786"
             ],
             [
              0.5555555555555556,
              "#d8576b"
             ],
             [
              0.6666666666666666,
              "#ed7953"
             ],
             [
              0.7777777777777778,
              "#fb9f3a"
             ],
             [
              0.8888888888888888,
              "#fdca26"
             ],
             [
              1,
              "#f0f921"
             ]
            ],
            "type": "heatmapgl"
           }
          ],
          "histogram": [
           {
            "marker": {
             "pattern": {
              "fillmode": "overlay",
              "size": 10,
              "solidity": 0.2
             }
            },
            "type": "histogram"
           }
          ],
          "histogram2d": [
           {
            "colorbar": {
             "outlinewidth": 0,
             "ticks": ""
            },
            "colorscale": [
             [
              0,
              "#0d0887"
             ],
             [
              0.1111111111111111,
              "#46039f"
             ],
             [
              0.2222222222222222,
              "#7201a8"
             ],
             [
              0.3333333333333333,
              "#9c179e"
             ],
             [
              0.4444444444444444,
              "#bd3786"
             ],
             [
              0.5555555555555556,
              "#d8576b"
             ],
             [
              0.6666666666666666,
              "#ed7953"
             ],
             [
              0.7777777777777778,
              "#fb9f3a"
             ],
             [
              0.8888888888888888,
              "#fdca26"
             ],
             [
              1,
              "#f0f921"
             ]
            ],
            "type": "histogram2d"
           }
          ],
          "histogram2dcontour": [
           {
            "colorbar": {
             "outlinewidth": 0,
             "ticks": ""
            },
            "colorscale": [
             [
              0,
              "#0d0887"
             ],
             [
              0.1111111111111111,
              "#46039f"
             ],
             [
              0.2222222222222222,
              "#7201a8"
             ],
             [
              0.3333333333333333,
              "#9c179e"
             ],
             [
              0.4444444444444444,
              "#bd3786"
             ],
             [
              0.5555555555555556,
              "#d8576b"
             ],
             [
              0.6666666666666666,
              "#ed7953"
             ],
             [
              0.7777777777777778,
              "#fb9f3a"
             ],
             [
              0.8888888888888888,
              "#fdca26"
             ],
             [
              1,
              "#f0f921"
             ]
            ],
            "type": "histogram2dcontour"
           }
          ],
          "mesh3d": [
           {
            "colorbar": {
             "outlinewidth": 0,
             "ticks": ""
            },
            "type": "mesh3d"
           }
          ],
          "parcoords": [
           {
            "line": {
             "colorbar": {
              "outlinewidth": 0,
              "ticks": ""
             }
            },
            "type": "parcoords"
           }
          ],
          "pie": [
           {
            "automargin": true,
            "type": "pie"
           }
          ],
          "scatter": [
           {
            "fillpattern": {
             "fillmode": "overlay",
             "size": 10,
             "solidity": 0.2
            },
            "type": "scatter"
           }
          ],
          "scatter3d": [
           {
            "line": {
             "colorbar": {
              "outlinewidth": 0,
              "ticks": ""
             }
            },
            "marker": {
             "colorbar": {
              "outlinewidth": 0,
              "ticks": ""
             }
            },
            "type": "scatter3d"
           }
          ],
          "scattercarpet": [
           {
            "marker": {
             "colorbar": {
              "outlinewidth": 0,
              "ticks": ""
             }
            },
            "type": "scattercarpet"
           }
          ],
          "scattergeo": [
           {
            "marker": {
             "colorbar": {
              "outlinewidth": 0,
              "ticks": ""
             }
            },
            "type": "scattergeo"
           }
          ],
          "scattergl": [
           {
            "marker": {
             "colorbar": {
              "outlinewidth": 0,
              "ticks": ""
             }
            },
            "type": "scattergl"
           }
          ],
          "scattermapbox": [
           {
            "marker": {
             "colorbar": {
              "outlinewidth": 0,
              "ticks": ""
             }
            },
            "type": "scattermapbox"
           }
          ],
          "scatterpolar": [
           {
            "marker": {
             "colorbar": {
              "outlinewidth": 0,
              "ticks": ""
             }
            },
            "type": "scatterpolar"
           }
          ],
          "scatterpolargl": [
           {
            "marker": {
             "colorbar": {
              "outlinewidth": 0,
              "ticks": ""
             }
            },
            "type": "scatterpolargl"
           }
          ],
          "scatterternary": [
           {
            "marker": {
             "colorbar": {
              "outlinewidth": 0,
              "ticks": ""
             }
            },
            "type": "scatterternary"
           }
          ],
          "surface": [
           {
            "colorbar": {
             "outlinewidth": 0,
             "ticks": ""
            },
            "colorscale": [
             [
              0,
              "#0d0887"
             ],
             [
              0.1111111111111111,
              "#46039f"
             ],
             [
              0.2222222222222222,
              "#7201a8"
             ],
             [
              0.3333333333333333,
              "#9c179e"
             ],
             [
              0.4444444444444444,
              "#bd3786"
             ],
             [
              0.5555555555555556,
              "#d8576b"
             ],
             [
              0.6666666666666666,
              "#ed7953"
             ],
             [
              0.7777777777777778,
              "#fb9f3a"
             ],
             [
              0.8888888888888888,
              "#fdca26"
             ],
             [
              1,
              "#f0f921"
             ]
            ],
            "type": "surface"
           }
          ],
          "table": [
           {
            "cells": {
             "fill": {
              "color": "#EBF0F8"
             },
             "line": {
              "color": "white"
             }
            },
            "header": {
             "fill": {
              "color": "#C8D4E3"
             },
             "line": {
              "color": "white"
             }
            },
            "type": "table"
           }
          ]
         },
         "layout": {
          "annotationdefaults": {
           "arrowcolor": "#2a3f5f",
           "arrowhead": 0,
           "arrowwidth": 1
          },
          "autotypenumbers": "strict",
          "coloraxis": {
           "colorbar": {
            "outlinewidth": 0,
            "ticks": ""
           }
          },
          "colorscale": {
           "diverging": [
            [
             0,
             "#8e0152"
            ],
            [
             0.1,
             "#c51b7d"
            ],
            [
             0.2,
             "#de77ae"
            ],
            [
             0.3,
             "#f1b6da"
            ],
            [
             0.4,
             "#fde0ef"
            ],
            [
             0.5,
             "#f7f7f7"
            ],
            [
             0.6,
             "#e6f5d0"
            ],
            [
             0.7,
             "#b8e186"
            ],
            [
             0.8,
             "#7fbc41"
            ],
            [
             0.9,
             "#4d9221"
            ],
            [
             1,
             "#276419"
            ]
           ],
           "sequential": [
            [
             0,
             "#0d0887"
            ],
            [
             0.1111111111111111,
             "#46039f"
            ],
            [
             0.2222222222222222,
             "#7201a8"
            ],
            [
             0.3333333333333333,
             "#9c179e"
            ],
            [
             0.4444444444444444,
             "#bd3786"
            ],
            [
             0.5555555555555556,
             "#d8576b"
            ],
            [
             0.6666666666666666,
             "#ed7953"
            ],
            [
             0.7777777777777778,
             "#fb9f3a"
            ],
            [
             0.8888888888888888,
             "#fdca26"
            ],
            [
             1,
             "#f0f921"
            ]
           ],
           "sequentialminus": [
            [
             0,
             "#0d0887"
            ],
            [
             0.1111111111111111,
             "#46039f"
            ],
            [
             0.2222222222222222,
             "#7201a8"
            ],
            [
             0.3333333333333333,
             "#9c179e"
            ],
            [
             0.4444444444444444,
             "#bd3786"
            ],
            [
             0.5555555555555556,
             "#d8576b"
            ],
            [
             0.6666666666666666,
             "#ed7953"
            ],
            [
             0.7777777777777778,
             "#fb9f3a"
            ],
            [
             0.8888888888888888,
             "#fdca26"
            ],
            [
             1,
             "#f0f921"
            ]
           ]
          },
          "colorway": [
           "#636efa",
           "#EF553B",
           "#00cc96",
           "#ab63fa",
           "#FFA15A",
           "#19d3f3",
           "#FF6692",
           "#B6E880",
           "#FF97FF",
           "#FECB52"
          ],
          "font": {
           "color": "#2a3f5f"
          },
          "geo": {
           "bgcolor": "white",
           "lakecolor": "white",
           "landcolor": "#E5ECF6",
           "showlakes": true,
           "showland": true,
           "subunitcolor": "white"
          },
          "hoverlabel": {
           "align": "left"
          },
          "hovermode": "closest",
          "mapbox": {
           "style": "light"
          },
          "paper_bgcolor": "white",
          "plot_bgcolor": "#E5ECF6",
          "polar": {
           "angularaxis": {
            "gridcolor": "white",
            "linecolor": "white",
            "ticks": ""
           },
           "bgcolor": "#E5ECF6",
           "radialaxis": {
            "gridcolor": "white",
            "linecolor": "white",
            "ticks": ""
           }
          },
          "scene": {
           "xaxis": {
            "backgroundcolor": "#E5ECF6",
            "gridcolor": "white",
            "gridwidth": 2,
            "linecolor": "white",
            "showbackground": true,
            "ticks": "",
            "zerolinecolor": "white"
           },
           "yaxis": {
            "backgroundcolor": "#E5ECF6",
            "gridcolor": "white",
            "gridwidth": 2,
            "linecolor": "white",
            "showbackground": true,
            "ticks": "",
            "zerolinecolor": "white"
           },
           "zaxis": {
            "backgroundcolor": "#E5ECF6",
            "gridcolor": "white",
            "gridwidth": 2,
            "linecolor": "white",
            "showbackground": true,
            "ticks": "",
            "zerolinecolor": "white"
           }
          },
          "shapedefaults": {
           "line": {
            "color": "#2a3f5f"
           }
          },
          "ternary": {
           "aaxis": {
            "gridcolor": "white",
            "linecolor": "white",
            "ticks": ""
           },
           "baxis": {
            "gridcolor": "white",
            "linecolor": "white",
            "ticks": ""
           },
           "bgcolor": "#E5ECF6",
           "caxis": {
            "gridcolor": "white",
            "linecolor": "white",
            "ticks": ""
           }
          },
          "title": {
           "x": 0.05
          },
          "xaxis": {
           "automargin": true,
           "gridcolor": "white",
           "linecolor": "white",
           "ticks": "",
           "title": {
            "standoff": 15
           },
           "zerolinecolor": "white",
           "zerolinewidth": 2
          },
          "yaxis": {
           "automargin": true,
           "gridcolor": "white",
           "linecolor": "white",
           "ticks": "",
           "title": {
            "standoff": 15
           },
           "zerolinecolor": "white",
           "zerolinewidth": 2
          }
         }
        },
        "title": {
         "text": "Logit Difference From Patched Head Pattern"
        },
        "xaxis": {
         "anchor": "y",
         "constrain": "domain",
         "domain": [
          0,
          1
         ],
         "scaleanchor": "y",
         "title": {
          "text": "Head"
         }
        },
        "yaxis": {
         "anchor": "x",
         "autorange": "reversed",
         "constrain": "domain",
         "domain": [
          0,
          1
         ],
         "title": {
          "text": "Layer"
         }
        }
       }
      },
      "text/html": [
       "<div>                            <div id=\"8f5b56af-43d3-45c0-9827-3777f8661b2e\" class=\"plotly-graph-div\" style=\"height:525px; width:100%;\"></div>            <script type=\"text/javascript\">                require([\"plotly\"], function(Plotly) {                    window.PLOTLYENV=window.PLOTLYENV || {};                                    if (document.getElementById(\"8f5b56af-43d3-45c0-9827-3777f8661b2e\")) {                    Plotly.newPlot(                        \"8f5b56af-43d3-45c0-9827-3777f8661b2e\",                        [{\"coloraxis\":\"coloraxis\",\"name\":\"0\",\"z\":[[-0.0013727496843785048,-0.10756390541791916,-0.0026674082037061453,-8.36527906358242e-05,-0.0037097232416272163,-0.011518672108650208,-0.006583318114280701,-4.001654815510847e-05,0.007819040678441525,-0.0021610220428556204,-0.007098085712641478,-0.0008545192540623248],[-0.00868220254778862,0.0016059736954048276,0.0010992091847583652,0.015255207195878029,-0.0035003020893782377,0.017827767878770828,5.110409256303683e-05,-0.0036237856838852167,0.00023394508752971888,-0.0004908863338641822,-0.0018779933452606201,0.010284217074513435],[-0.005490969866514206,0.000351188937202096,0.001840147189795971,-0.0009465180919505656,0.0019073935691267252,-0.0011380049400031567,-0.0014045415446162224,0.0024927917402237654,0.004523740615695715,0.005249414127320051,0.003748533083125949,-0.02331690676510334],[-0.0034203759860247374,-0.002139696618542075,-0.008357329294085503,-0.0010608204174786806,0.029345259070396423,-0.0003928760997951031,-0.0030834730714559555,-0.01143197063356638,-0.004919086582958698,0.0005192941171117127,-0.0022653150372207165,-0.0030966883059591055],[-0.0010575506603345275,-0.003321494907140732,0.005227403249591589,0.004041799809783697,0.006901801563799381,0.0035240263678133488,-0.009967947378754616,0.0053833285346627235,0.01433888915926218,-0.0012038376880809665,0.00016479963960591704,-0.0001530267036287114],[0.0021421024575829506,0.14346624910831451,-0.02112789824604988,-0.00018074913532473147,-0.008921858854591846,0.09815029054880142,-0.00044382314081303775,-0.0002906036679632962,-0.03334235027432442,0.06944438070058823,-0.0013216884108260274,0.00527865719050169],[-0.012146675027906895,-0.011050096713006496,0.003359647933393717,-0.02182931639254093,-0.001169682596810162,0.006289444863796234,-0.03355588763952255,-0.00996353104710579,-0.015875214710831642,0.026211902499198914,0.009253132157027721,0.0032250480726361275],[0.015880050137639046,0.020036881789565086,0.012475017458200455,-0.0727812871336937,-0.004908577539026737,-0.0013128569116815925,-0.013356649316847324,-0.0011075837537646294,0.0001349496451439336,-0.011750292964279652,0.0018776578363031149,0.0004471001448109746],[-0.0007826680084690452,-0.0030063672456890345,-0.002061826642602682,0.04614776745438576,-0.0007646195008419454,-0.0010580432135611773,0.005936170928180218,0.0003805462911259383,0.00035457301419228315,0.00018981622997671366,-0.10167694091796875,0.002776120323687792],[-0.001544745871797204,3.1070831028046086e-05,0.010996033437550068,-0.0005817784694954753,0.019266393035650253,0.004169852938503027,-0.02853265590965748,-0.1459222286939621,-0.009971260093152523,0.0658075362443924,-0.0033495957031846046,0.0015693055465817451],[0.18408742547035217,0.05476105585694313,0.01143715064972639,0.017849506810307503,0.001644283882342279,-0.0017581293359398842,0.06201472505927086,-0.29643189907073975,-0.0024400099646300077,0.006081315688788891,0.10442141443490982,0.002171267056837678],[-0.0029893468599766493,0.06518573313951492,-0.03718302771449089,-0.02190752513706684,-0.0005380637012422085,-0.008379450999200344,0.024105411022901535,-0.0008711970294825733,0.00256307958625257,0.023194190114736557,-0.3073241710662842,-0.004272696562111378]],\"type\":\"heatmap\",\"xaxis\":\"x\",\"yaxis\":\"y\",\"hovertemplate\":\"Head: %{x}\\u003cbr\\u003eLayer: %{y}\\u003cbr\\u003ecolor: %{z}\\u003cextra\\u003e\\u003c\\u002fextra\\u003e\"}],                        {\"template\":{\"data\":{\"histogram2dcontour\":[{\"type\":\"histogram2dcontour\",\"colorbar\":{\"outlinewidth\":0,\"ticks\":\"\"},\"colorscale\":[[0.0,\"#0d0887\"],[0.1111111111111111,\"#46039f\"],[0.2222222222222222,\"#7201a8\"],[0.3333333333333333,\"#9c179e\"],[0.4444444444444444,\"#bd3786\"],[0.5555555555555556,\"#d8576b\"],[0.6666666666666666,\"#ed7953\"],[0.7777777777777778,\"#fb9f3a\"],[0.8888888888888888,\"#fdca26\"],[1.0,\"#f0f921\"]]}],\"choropleth\":[{\"type\":\"choropleth\",\"colorbar\":{\"outlinewidth\":0,\"ticks\":\"\"}}],\"histogram2d\":[{\"type\":\"histogram2d\",\"colorbar\":{\"outlinewidth\":0,\"ticks\":\"\"},\"colorscale\":[[0.0,\"#0d0887\"],[0.1111111111111111,\"#46039f\"],[0.2222222222222222,\"#7201a8\"],[0.3333333333333333,\"#9c179e\"],[0.4444444444444444,\"#bd3786\"],[0.5555555555555556,\"#d8576b\"],[0.6666666666666666,\"#ed7953\"],[0.7777777777777778,\"#fb9f3a\"],[0.8888888888888888,\"#fdca26\"],[1.0,\"#f0f921\"]]}],\"heatmap\":[{\"type\":\"heatmap\",\"colorbar\":{\"outlinewidth\":0,\"ticks\":\"\"},\"colorscale\":[[0.0,\"#0d0887\"],[0.1111111111111111,\"#46039f\"],[0.2222222222222222,\"#7201a8\"],[0.3333333333333333,\"#9c179e\"],[0.4444444444444444,\"#bd3786\"],[0.5555555555555556,\"#d8576b\"],[0.6666666666666666,\"#ed7953\"],[0.7777777777777778,\"#fb9f3a\"],[0.8888888888888888,\"#fdca26\"],[1.0,\"#f0f921\"]]}],\"heatmapgl\":[{\"type\":\"heatmapgl\",\"colorbar\":{\"outlinewidth\":0,\"ticks\":\"\"},\"colorscale\":[[0.0,\"#0d0887\"],[0.1111111111111111,\"#46039f\"],[0.2222222222222222,\"#7201a8\"],[0.3333333333333333,\"#9c179e\"],[0.4444444444444444,\"#bd3786\"],[0.5555555555555556,\"#d8576b\"],[0.6666666666666666,\"#ed7953\"],[0.7777777777777778,\"#fb9f3a\"],[0.8888888888888888,\"#fdca26\"],[1.0,\"#f0f921\"]]}],\"contourcarpet\":[{\"type\":\"contourcarpet\",\"colorbar\":{\"outlinewidth\":0,\"ticks\":\"\"}}],\"contour\":[{\"type\":\"contour\",\"colorbar\":{\"outlinewidth\":0,\"ticks\":\"\"},\"colorscale\":[[0.0,\"#0d0887\"],[0.1111111111111111,\"#46039f\"],[0.2222222222222222,\"#7201a8\"],[0.3333333333333333,\"#9c179e\"],[0.4444444444444444,\"#bd3786\"],[0.5555555555555556,\"#d8576b\"],[0.6666666666666666,\"#ed7953\"],[0.7777777777777778,\"#fb9f3a\"],[0.8888888888888888,\"#fdca26\"],[1.0,\"#f0f921\"]]}],\"surface\":[{\"type\":\"surface\",\"colorbar\":{\"outlinewidth\":0,\"ticks\":\"\"},\"colorscale\":[[0.0,\"#0d0887\"],[0.1111111111111111,\"#46039f\"],[0.2222222222222222,\"#7201a8\"],[0.3333333333333333,\"#9c179e\"],[0.4444444444444444,\"#bd3786\"],[0.5555555555555556,\"#d8576b\"],[0.6666666666666666,\"#ed7953\"],[0.7777777777777778,\"#fb9f3a\"],[0.8888888888888888,\"#fdca26\"],[1.0,\"#f0f921\"]]}],\"mesh3d\":[{\"type\":\"mesh3d\",\"colorbar\":{\"outlinewidth\":0,\"ticks\":\"\"}}],\"scatter\":[{\"fillpattern\":{\"fillmode\":\"overlay\",\"size\":10,\"solidity\":0.2},\"type\":\"scatter\"}],\"parcoords\":[{\"type\":\"parcoords\",\"line\":{\"colorbar\":{\"outlinewidth\":0,\"ticks\":\"\"}}}],\"scatterpolargl\":[{\"type\":\"scatterpolargl\",\"marker\":{\"colorbar\":{\"outlinewidth\":0,\"ticks\":\"\"}}}],\"bar\":[{\"error_x\":{\"color\":\"#2a3f5f\"},\"error_y\":{\"color\":\"#2a3f5f\"},\"marker\":{\"line\":{\"color\":\"#E5ECF6\",\"width\":0.5},\"pattern\":{\"fillmode\":\"overlay\",\"size\":10,\"solidity\":0.2}},\"type\":\"bar\"}],\"scattergeo\":[{\"type\":\"scattergeo\",\"marker\":{\"colorbar\":{\"outlinewidth\":0,\"ticks\":\"\"}}}],\"scatterpolar\":[{\"type\":\"scatterpolar\",\"marker\":{\"colorbar\":{\"outlinewidth\":0,\"ticks\":\"\"}}}],\"histogram\":[{\"marker\":{\"pattern\":{\"fillmode\":\"overlay\",\"size\":10,\"solidity\":0.2}},\"type\":\"histogram\"}],\"scattergl\":[{\"type\":\"scattergl\",\"marker\":{\"colorbar\":{\"outlinewidth\":0,\"ticks\":\"\"}}}],\"scatter3d\":[{\"type\":\"scatter3d\",\"line\":{\"colorbar\":{\"outlinewidth\":0,\"ticks\":\"\"}},\"marker\":{\"colorbar\":{\"outlinewidth\":0,\"ticks\":\"\"}}}],\"scattermapbox\":[{\"type\":\"scattermapbox\",\"marker\":{\"colorbar\":{\"outlinewidth\":0,\"ticks\":\"\"}}}],\"scatterternary\":[{\"type\":\"scatterternary\",\"marker\":{\"colorbar\":{\"outlinewidth\":0,\"ticks\":\"\"}}}],\"scattercarpet\":[{\"type\":\"scattercarpet\",\"marker\":{\"colorbar\":{\"outlinewidth\":0,\"ticks\":\"\"}}}],\"carpet\":[{\"aaxis\":{\"endlinecolor\":\"#2a3f5f\",\"gridcolor\":\"white\",\"linecolor\":\"white\",\"minorgridcolor\":\"white\",\"startlinecolor\":\"#2a3f5f\"},\"baxis\":{\"endlinecolor\":\"#2a3f5f\",\"gridcolor\":\"white\",\"linecolor\":\"white\",\"minorgridcolor\":\"white\",\"startlinecolor\":\"#2a3f5f\"},\"type\":\"carpet\"}],\"table\":[{\"cells\":{\"fill\":{\"color\":\"#EBF0F8\"},\"line\":{\"color\":\"white\"}},\"header\":{\"fill\":{\"color\":\"#C8D4E3\"},\"line\":{\"color\":\"white\"}},\"type\":\"table\"}],\"barpolar\":[{\"marker\":{\"line\":{\"color\":\"#E5ECF6\",\"width\":0.5},\"pattern\":{\"fillmode\":\"overlay\",\"size\":10,\"solidity\":0.2}},\"type\":\"barpolar\"}],\"pie\":[{\"automargin\":true,\"type\":\"pie\"}]},\"layout\":{\"autotypenumbers\":\"strict\",\"colorway\":[\"#636efa\",\"#EF553B\",\"#00cc96\",\"#ab63fa\",\"#FFA15A\",\"#19d3f3\",\"#FF6692\",\"#B6E880\",\"#FF97FF\",\"#FECB52\"],\"font\":{\"color\":\"#2a3f5f\"},\"hovermode\":\"closest\",\"hoverlabel\":{\"align\":\"left\"},\"paper_bgcolor\":\"white\",\"plot_bgcolor\":\"#E5ECF6\",\"polar\":{\"bgcolor\":\"#E5ECF6\",\"angularaxis\":{\"gridcolor\":\"white\",\"linecolor\":\"white\",\"ticks\":\"\"},\"radialaxis\":{\"gridcolor\":\"white\",\"linecolor\":\"white\",\"ticks\":\"\"}},\"ternary\":{\"bgcolor\":\"#E5ECF6\",\"aaxis\":{\"gridcolor\":\"white\",\"linecolor\":\"white\",\"ticks\":\"\"},\"baxis\":{\"gridcolor\":\"white\",\"linecolor\":\"white\",\"ticks\":\"\"},\"caxis\":{\"gridcolor\":\"white\",\"linecolor\":\"white\",\"ticks\":\"\"}},\"coloraxis\":{\"colorbar\":{\"outlinewidth\":0,\"ticks\":\"\"}},\"colorscale\":{\"sequential\":[[0.0,\"#0d0887\"],[0.1111111111111111,\"#46039f\"],[0.2222222222222222,\"#7201a8\"],[0.3333333333333333,\"#9c179e\"],[0.4444444444444444,\"#bd3786\"],[0.5555555555555556,\"#d8576b\"],[0.6666666666666666,\"#ed7953\"],[0.7777777777777778,\"#fb9f3a\"],[0.8888888888888888,\"#fdca26\"],[1.0,\"#f0f921\"]],\"sequentialminus\":[[0.0,\"#0d0887\"],[0.1111111111111111,\"#46039f\"],[0.2222222222222222,\"#7201a8\"],[0.3333333333333333,\"#9c179e\"],[0.4444444444444444,\"#bd3786\"],[0.5555555555555556,\"#d8576b\"],[0.6666666666666666,\"#ed7953\"],[0.7777777777777778,\"#fb9f3a\"],[0.8888888888888888,\"#fdca26\"],[1.0,\"#f0f921\"]],\"diverging\":[[0,\"#8e0152\"],[0.1,\"#c51b7d\"],[0.2,\"#de77ae\"],[0.3,\"#f1b6da\"],[0.4,\"#fde0ef\"],[0.5,\"#f7f7f7\"],[0.6,\"#e6f5d0\"],[0.7,\"#b8e186\"],[0.8,\"#7fbc41\"],[0.9,\"#4d9221\"],[1,\"#276419\"]]},\"xaxis\":{\"gridcolor\":\"white\",\"linecolor\":\"white\",\"ticks\":\"\",\"title\":{\"standoff\":15},\"zerolinecolor\":\"white\",\"automargin\":true,\"zerolinewidth\":2},\"yaxis\":{\"gridcolor\":\"white\",\"linecolor\":\"white\",\"ticks\":\"\",\"title\":{\"standoff\":15},\"zerolinecolor\":\"white\",\"automargin\":true,\"zerolinewidth\":2},\"scene\":{\"xaxis\":{\"backgroundcolor\":\"#E5ECF6\",\"gridcolor\":\"white\",\"linecolor\":\"white\",\"showbackground\":true,\"ticks\":\"\",\"zerolinecolor\":\"white\",\"gridwidth\":2},\"yaxis\":{\"backgroundcolor\":\"#E5ECF6\",\"gridcolor\":\"white\",\"linecolor\":\"white\",\"showbackground\":true,\"ticks\":\"\",\"zerolinecolor\":\"white\",\"gridwidth\":2},\"zaxis\":{\"backgroundcolor\":\"#E5ECF6\",\"gridcolor\":\"white\",\"linecolor\":\"white\",\"showbackground\":true,\"ticks\":\"\",\"zerolinecolor\":\"white\",\"gridwidth\":2}},\"shapedefaults\":{\"line\":{\"color\":\"#2a3f5f\"}},\"annotationdefaults\":{\"arrowcolor\":\"#2a3f5f\",\"arrowhead\":0,\"arrowwidth\":1},\"geo\":{\"bgcolor\":\"white\",\"landcolor\":\"#E5ECF6\",\"subunitcolor\":\"white\",\"showland\":true,\"showlakes\":true,\"lakecolor\":\"white\"},\"title\":{\"x\":0.05},\"mapbox\":{\"style\":\"light\"}}},\"xaxis\":{\"anchor\":\"y\",\"domain\":[0.0,1.0],\"scaleanchor\":\"y\",\"constrain\":\"domain\",\"title\":{\"text\":\"Head\"}},\"yaxis\":{\"anchor\":\"x\",\"domain\":[0.0,1.0],\"autorange\":\"reversed\",\"constrain\":\"domain\",\"title\":{\"text\":\"Layer\"}},\"coloraxis\":{\"colorscale\":[[0.0,\"rgb(103,0,31)\"],[0.1,\"rgb(178,24,43)\"],[0.2,\"rgb(214,96,77)\"],[0.3,\"rgb(244,165,130)\"],[0.4,\"rgb(253,219,199)\"],[0.5,\"rgb(247,247,247)\"],[0.6,\"rgb(209,229,240)\"],[0.7,\"rgb(146,197,222)\"],[0.8,\"rgb(67,147,195)\"],[0.9,\"rgb(33,102,172)\"],[1.0,\"rgb(5,48,97)\"]],\"cmid\":0.0},\"title\":{\"text\":\"Logit Difference From Patched Head Pattern\"}},                        {\"responsive\": true}                    ).then(function(){\n",
       "                            \n",
       "var gd = document.getElementById('8f5b56af-43d3-45c0-9827-3777f8661b2e');\n",
       "var x = new MutationObserver(function (mutations, observer) {{\n",
       "        var display = window.getComputedStyle(gd).display;\n",
       "        if (!display || display === 'none') {{\n",
       "            console.log([gd, 'removed!']);\n",
       "            Plotly.purge(gd);\n",
       "            observer.disconnect();\n",
       "        }}\n",
       "}});\n",
       "\n",
       "// Listen for the removal of the full notebook cells\n",
       "var notebookContainer = gd.closest('#notebook-container');\n",
       "if (notebookContainer) {{\n",
       "    x.observe(notebookContainer, {childList: true});\n",
       "}}\n",
       "\n",
       "// Listen for the clearing of the current output cell\n",
       "var outputEl = gd.closest('.output');\n",
       "if (outputEl) {{\n",
       "    x.observe(outputEl, {childList: true});\n",
       "}}\n",
       "\n",
       "                        })                };                });            </script>        </div>"
      ]
     },
     "metadata": {},
     "output_type": "display_data"
    },
    {
     "data": {
      "application/vnd.plotly.v1+json": {
       "config": {
        "plotlyServerURL": "https://plot.ly"
       },
       "data": [
        {
         "hovertemplate": "<b>%{hovertext}</b><br><br>Attention Patch=%{x}<br>Output Patch=%{y}<extra></extra>",
         "hovertext": [
          "L0H0",
          "L0H1",
          "L0H2",
          "L0H3",
          "L0H4",
          "L0H5",
          "L0H6",
          "L0H7",
          "L0H8",
          "L0H9",
          "L0H10",
          "L0H11",
          "L1H0",
          "L1H1",
          "L1H2",
          "L1H3",
          "L1H4",
          "L1H5",
          "L1H6",
          "L1H7",
          "L1H8",
          "L1H9",
          "L1H10",
          "L1H11",
          "L2H0",
          "L2H1",
          "L2H2",
          "L2H3",
          "L2H4",
          "L2H5",
          "L2H6",
          "L2H7",
          "L2H8",
          "L2H9",
          "L2H10",
          "L2H11",
          "L3H0",
          "L3H1",
          "L3H2",
          "L3H3",
          "L3H4",
          "L3H5",
          "L3H6",
          "L3H7",
          "L3H8",
          "L3H9",
          "L3H10",
          "L3H11",
          "L4H0",
          "L4H1",
          "L4H2",
          "L4H3",
          "L4H4",
          "L4H5",
          "L4H6",
          "L4H7",
          "L4H8",
          "L4H9",
          "L4H10",
          "L4H11",
          "L5H0",
          "L5H1",
          "L5H2",
          "L5H3",
          "L5H4",
          "L5H5",
          "L5H6",
          "L5H7",
          "L5H8",
          "L5H9",
          "L5H10",
          "L5H11",
          "L6H0",
          "L6H1",
          "L6H2",
          "L6H3",
          "L6H4",
          "L6H5",
          "L6H6",
          "L6H7",
          "L6H8",
          "L6H9",
          "L6H10",
          "L6H11",
          "L7H0",
          "L7H1",
          "L7H2",
          "L7H3",
          "L7H4",
          "L7H5",
          "L7H6",
          "L7H7",
          "L7H8",
          "L7H9",
          "L7H10",
          "L7H11",
          "L8H0",
          "L8H1",
          "L8H2",
          "L8H3",
          "L8H4",
          "L8H5",
          "L8H6",
          "L8H7",
          "L8H8",
          "L8H9",
          "L8H10",
          "L8H11",
          "L9H0",
          "L9H1",
          "L9H2",
          "L9H3",
          "L9H4",
          "L9H5",
          "L9H6",
          "L9H7",
          "L9H8",
          "L9H9",
          "L9H10",
          "L9H11",
          "L10H0",
          "L10H1",
          "L10H2",
          "L10H3",
          "L10H4",
          "L10H5",
          "L10H6",
          "L10H7",
          "L10H8",
          "L10H9",
          "L10H10",
          "L10H11",
          "L11H0",
          "L11H1",
          "L11H2",
          "L11H3",
          "L11H4",
          "L11H5",
          "L11H6",
          "L11H7",
          "L11H8",
          "L11H9",
          "L11H10",
          "L11H11"
         ],
         "legendgroup": "",
         "marker": {
          "color": "#636efa",
          "symbol": "circle"
         },
         "mode": "markers",
         "name": "",
         "orientation": "v",
         "showlegend": false,
         "type": "scatter",
         "x": [
          -0.0013727496843785048,
          -0.10756390541791916,
          -0.0026674082037061453,
          -0.0000836527906358242,
          -0.0037097232416272163,
          -0.011518672108650208,
          -0.006583318114280701,
          -0.00004001654815510847,
          0.007819040678441525,
          -0.0021610220428556204,
          -0.007098085712641478,
          -0.0008545192540623248,
          -0.00868220254778862,
          0.0016059736954048276,
          0.0010992091847583652,
          0.015255207195878029,
          -0.0035003020893782377,
          0.017827767878770828,
          0.00005110409256303683,
          -0.0036237856838852167,
          0.00023394508752971888,
          -0.0004908863338641822,
          -0.0018779933452606201,
          0.010284217074513435,
          -0.005490969866514206,
          0.000351188937202096,
          0.001840147189795971,
          -0.0009465180919505656,
          0.0019073935691267252,
          -0.0011380049400031567,
          -0.0014045415446162224,
          0.0024927917402237654,
          0.004523740615695715,
          0.005249414127320051,
          0.003748533083125949,
          -0.02331690676510334,
          -0.0034203759860247374,
          -0.002139696618542075,
          -0.008357329294085503,
          -0.0010608204174786806,
          0.029345259070396423,
          -0.0003928760997951031,
          -0.0030834730714559555,
          -0.01143197063356638,
          -0.004919086582958698,
          0.0005192941171117127,
          -0.0022653150372207165,
          -0.0030966883059591055,
          -0.0010575506603345275,
          -0.003321494907140732,
          0.005227403249591589,
          0.004041799809783697,
          0.006901801563799381,
          0.0035240263678133488,
          -0.009967947378754616,
          0.0053833285346627235,
          0.01433888915926218,
          -0.0012038376880809665,
          0.00016479963960591704,
          -0.0001530267036287114,
          0.0021421024575829506,
          0.14346624910831451,
          -0.02112789824604988,
          -0.00018074913532473147,
          -0.008921858854591846,
          0.09815029054880142,
          -0.00044382314081303775,
          -0.0002906036679632962,
          -0.03334235027432442,
          0.06944438070058823,
          -0.0013216884108260274,
          0.00527865719050169,
          -0.012146675027906895,
          -0.011050096713006496,
          0.003359647933393717,
          -0.02182931639254093,
          -0.001169682596810162,
          0.006289444863796234,
          -0.03355588763952255,
          -0.00996353104710579,
          -0.015875214710831642,
          0.026211902499198914,
          0.009253132157027721,
          0.0032250480726361275,
          0.015880050137639046,
          0.020036881789565086,
          0.012475017458200455,
          -0.0727812871336937,
          -0.004908577539026737,
          -0.0013128569116815925,
          -0.013356649316847324,
          -0.0011075837537646294,
          0.0001349496451439336,
          -0.011750292964279652,
          0.0018776578363031149,
          0.0004471001448109746,
          -0.0007826680084690452,
          -0.0030063672456890345,
          -0.002061826642602682,
          0.04614776745438576,
          -0.0007646195008419454,
          -0.0010580432135611773,
          0.005936170928180218,
          0.0003805462911259383,
          0.00035457301419228315,
          0.00018981622997671366,
          -0.10167694091796875,
          0.002776120323687792,
          -0.001544745871797204,
          0.000031070831028046086,
          0.010996033437550068,
          -0.0005817784694954753,
          0.019266393035650253,
          0.004169852938503027,
          -0.02853265590965748,
          -0.1459222286939621,
          -0.009971260093152523,
          0.0658075362443924,
          -0.0033495957031846046,
          0.0015693055465817451,
          0.18408742547035217,
          0.05476105585694313,
          0.01143715064972639,
          0.017849506810307503,
          0.001644283882342279,
          -0.0017581293359398842,
          0.06201472505927086,
          -0.29643189907073975,
          -0.0024400099646300077,
          0.006081315688788891,
          0.10442141443490982,
          0.002171267056837678,
          -0.0029893468599766493,
          0.06518573313951492,
          -0.03718302771449089,
          -0.02190752513706684,
          -0.0005380637012422085,
          -0.008379450999200344,
          0.024105411022901535,
          -0.0008711970294825733,
          0.00256307958625257,
          0.023194190114736557,
          -0.3073241710662842,
          -0.004272696562111378
         ],
         "xaxis": "x",
         "y": [
          -0.0011491210898384452,
          -0.07400459051132202,
          -0.0037174909375607967,
          0.013623460195958614,
          -0.025855159386992455,
          -0.022811738774180412,
          -0.008529704064130783,
          -0.004250913858413696,
          0.007923483848571777,
          -0.003874258603900671,
          -0.007525916676968336,
          -0.0003183617955073714,
          -0.012311474420130253,
          -0.001002105767838657,
          0.0010380956809967756,
          0.014966588467359543,
          -0.0023640820290893316,
          -0.002638314850628376,
          0.0009509017108939588,
          -0.00564068416133523,
          -0.0008365493267774582,
          -0.0008692978881299496,
          -0.0060423631221055984,
          0.018758373335003853,
          -0.007966202683746815,
          0.00006241296068765223,
          -0.0026442548260092735,
          0.009321820922195911,
          -0.001256119809113443,
          -0.00025427821674384177,
          -0.0034778770059347153,
          0.0023328682873398066,
          0.00401484128087759,
          0.008590328507125378,
          0.001516230870038271,
          -0.021752284839749336,
          0.012895958498120308,
          -0.004345989786088467,
          -0.021169248968362808,
          -0.008329874835908413,
          -0.024744108319282532,
          -0.017199646681547165,
          0.028555622324347496,
          -0.009812021628022194,
          0.0013195608044043183,
          0.004519021138548851,
          -0.005017097108066082,
          -0.00281525868922472,
          -0.0009842857252806425,
          -0.014713256619870663,
          0.003387941513210535,
          0.11787204444408417,
          -0.02844119444489479,
          0.0019495447631925344,
          -0.026066979393363,
          0.006517642643302679,
          0.0164400115609169,
          -0.0038758579175919294,
          -0.0006039392901584506,
          -0.04456665366888046,
          -0.0031981610227376223,
          0.14429806172847748,
          0.0028001873288303614,
          -0.004829608369618654,
          -0.01423424668610096,
          0.10296261310577393,
          0.0021816978696733713,
          0.001439846120774746,
          -0.049851056188344955,
          0.015170947648584843,
          0.010465201921761036,
          -0.025762781500816345,
          0.16275279223918915,
          -0.00984629150480032,
          0.003692859783768654,
          -0.02197922207415104,
          -0.004078917670994997,
          -0.02064957283437252,
          -0.09202282130718231,
          0.012992027215659618,
          0.0034059116151183844,
          0.02349274791777134,
          0.005676066968590021,
          0.0035274175461381674,
          0.02916351705789566,
          0.019454382359981537,
          0.012652532197535038,
          0.26528751850128174,
          -0.02277209982275963,
          -0.02229560725390911,
          -0.01132497563958168,
          -0.008896728046238422,
          -0.004270483274012804,
          0.2821894586086273,
          0.0002127766638295725,
          0.0017856232589110732,
          -0.00587490014731884,
          -0.006188957020640373,
          -0.005780502688139677,
          0.01658025197684765,
          -0.0011596730910241604,
          -0.018084213137626648,
          0.11505789309740067,
          0.00846859347075224,
          0.001046969904564321,
          -0.001044107018969953,
          0.40613028407096863,
          -0.004206478130072355,
          -0.014337779022753239,
          0.003815165488049388,
          -0.00019533501472324133,
          0.024124901741743088,
          -0.04045974090695381,
          0.03850700706243515,
          -0.060013461858034134,
          0.2962854504585266,
          -0.03711662068963051,
          0.02599954605102539,
          -0.004514559172093868,
          -0.0028748088516294956,
          0.13067379593849182,
          0.04188493266701698,
          -0.03532189875841141,
          0.0039717406034469604,
          -0.00037673383485525846,
          -0.0008605378097854555,
          0.012026696465909481,
          -0.08412450551986694,
          -0.0005243202904239297,
          -0.002771279774606228,
          0.04165833070874214,
          -0.005761883221566677,
          0.0037319697439670563,
          0.06239774078130722,
          -0.14547371864318848,
          -0.006548863369971514,
          -0.00041865662205964327,
          -0.0036449970211833715,
          -0.01559470221400261,
          0.005396922118961811,
          -0.0005241275066509843,
          0.009267982095479965,
          -0.22651802003383636,
          -0.0055649131536483765
         ],
         "yaxis": "y"
        }
       ],
       "layout": {
        "legend": {
         "tracegroupgap": 0
        },
        "template": {
         "data": {
          "bar": [
           {
            "error_x": {
             "color": "#2a3f5f"
            },
            "error_y": {
             "color": "#2a3f5f"
            },
            "marker": {
             "line": {
              "color": "#E5ECF6",
              "width": 0.5
             },
             "pattern": {
              "fillmode": "overlay",
              "size": 10,
              "solidity": 0.2
             }
            },
            "type": "bar"
           }
          ],
          "barpolar": [
           {
            "marker": {
             "line": {
              "color": "#E5ECF6",
              "width": 0.5
             },
             "pattern": {
              "fillmode": "overlay",
              "size": 10,
              "solidity": 0.2
             }
            },
            "type": "barpolar"
           }
          ],
          "carpet": [
           {
            "aaxis": {
             "endlinecolor": "#2a3f5f",
             "gridcolor": "white",
             "linecolor": "white",
             "minorgridcolor": "white",
             "startlinecolor": "#2a3f5f"
            },
            "baxis": {
             "endlinecolor": "#2a3f5f",
             "gridcolor": "white",
             "linecolor": "white",
             "minorgridcolor": "white",
             "startlinecolor": "#2a3f5f"
            },
            "type": "carpet"
           }
          ],
          "choropleth": [
           {
            "colorbar": {
             "outlinewidth": 0,
             "ticks": ""
            },
            "type": "choropleth"
           }
          ],
          "contour": [
           {
            "colorbar": {
             "outlinewidth": 0,
             "ticks": ""
            },
            "colorscale": [
             [
              0,
              "#0d0887"
             ],
             [
              0.1111111111111111,
              "#46039f"
             ],
             [
              0.2222222222222222,
              "#7201a8"
             ],
             [
              0.3333333333333333,
              "#9c179e"
             ],
             [
              0.4444444444444444,
              "#bd3786"
             ],
             [
              0.5555555555555556,
              "#d8576b"
             ],
             [
              0.6666666666666666,
              "#ed7953"
             ],
             [
              0.7777777777777778,
              "#fb9f3a"
             ],
             [
              0.8888888888888888,
              "#fdca26"
             ],
             [
              1,
              "#f0f921"
             ]
            ],
            "type": "contour"
           }
          ],
          "contourcarpet": [
           {
            "colorbar": {
             "outlinewidth": 0,
             "ticks": ""
            },
            "type": "contourcarpet"
           }
          ],
          "heatmap": [
           {
            "colorbar": {
             "outlinewidth": 0,
             "ticks": ""
            },
            "colorscale": [
             [
              0,
              "#0d0887"
             ],
             [
              0.1111111111111111,
              "#46039f"
             ],
             [
              0.2222222222222222,
              "#7201a8"
             ],
             [
              0.3333333333333333,
              "#9c179e"
             ],
             [
              0.4444444444444444,
              "#bd3786"
             ],
             [
              0.5555555555555556,
              "#d8576b"
             ],
             [
              0.6666666666666666,
              "#ed7953"
             ],
             [
              0.7777777777777778,
              "#fb9f3a"
             ],
             [
              0.8888888888888888,
              "#fdca26"
             ],
             [
              1,
              "#f0f921"
             ]
            ],
            "type": "heatmap"
           }
          ],
          "heatmapgl": [
           {
            "colorbar": {
             "outlinewidth": 0,
             "ticks": ""
            },
            "colorscale": [
             [
              0,
              "#0d0887"
             ],
             [
              0.1111111111111111,
              "#46039f"
             ],
             [
              0.2222222222222222,
              "#7201a8"
             ],
             [
              0.3333333333333333,
              "#9c179e"
             ],
             [
              0.4444444444444444,
              "#bd3786"
             ],
             [
              0.5555555555555556,
              "#d8576b"
             ],
             [
              0.6666666666666666,
              "#ed7953"
             ],
             [
              0.7777777777777778,
              "#fb9f3a"
             ],
             [
              0.8888888888888888,
              "#fdca26"
             ],
             [
              1,
              "#f0f921"
             ]
            ],
            "type": "heatmapgl"
           }
          ],
          "histogram": [
           {
            "marker": {
             "pattern": {
              "fillmode": "overlay",
              "size": 10,
              "solidity": 0.2
             }
            },
            "type": "histogram"
           }
          ],
          "histogram2d": [
           {
            "colorbar": {
             "outlinewidth": 0,
             "ticks": ""
            },
            "colorscale": [
             [
              0,
              "#0d0887"
             ],
             [
              0.1111111111111111,
              "#46039f"
             ],
             [
              0.2222222222222222,
              "#7201a8"
             ],
             [
              0.3333333333333333,
              "#9c179e"
             ],
             [
              0.4444444444444444,
              "#bd3786"
             ],
             [
              0.5555555555555556,
              "#d8576b"
             ],
             [
              0.6666666666666666,
              "#ed7953"
             ],
             [
              0.7777777777777778,
              "#fb9f3a"
             ],
             [
              0.8888888888888888,
              "#fdca26"
             ],
             [
              1,
              "#f0f921"
             ]
            ],
            "type": "histogram2d"
           }
          ],
          "histogram2dcontour": [
           {
            "colorbar": {
             "outlinewidth": 0,
             "ticks": ""
            },
            "colorscale": [
             [
              0,
              "#0d0887"
             ],
             [
              0.1111111111111111,
              "#46039f"
             ],
             [
              0.2222222222222222,
              "#7201a8"
             ],
             [
              0.3333333333333333,
              "#9c179e"
             ],
             [
              0.4444444444444444,
              "#bd3786"
             ],
             [
              0.5555555555555556,
              "#d8576b"
             ],
             [
              0.6666666666666666,
              "#ed7953"
             ],
             [
              0.7777777777777778,
              "#fb9f3a"
             ],
             [
              0.8888888888888888,
              "#fdca26"
             ],
             [
              1,
              "#f0f921"
             ]
            ],
            "type": "histogram2dcontour"
           }
          ],
          "mesh3d": [
           {
            "colorbar": {
             "outlinewidth": 0,
             "ticks": ""
            },
            "type": "mesh3d"
           }
          ],
          "parcoords": [
           {
            "line": {
             "colorbar": {
              "outlinewidth": 0,
              "ticks": ""
             }
            },
            "type": "parcoords"
           }
          ],
          "pie": [
           {
            "automargin": true,
            "type": "pie"
           }
          ],
          "scatter": [
           {
            "fillpattern": {
             "fillmode": "overlay",
             "size": 10,
             "solidity": 0.2
            },
            "type": "scatter"
           }
          ],
          "scatter3d": [
           {
            "line": {
             "colorbar": {
              "outlinewidth": 0,
              "ticks": ""
             }
            },
            "marker": {
             "colorbar": {
              "outlinewidth": 0,
              "ticks": ""
             }
            },
            "type": "scatter3d"
           }
          ],
          "scattercarpet": [
           {
            "marker": {
             "colorbar": {
              "outlinewidth": 0,
              "ticks": ""
             }
            },
            "type": "scattercarpet"
           }
          ],
          "scattergeo": [
           {
            "marker": {
             "colorbar": {
              "outlinewidth": 0,
              "ticks": ""
             }
            },
            "type": "scattergeo"
           }
          ],
          "scattergl": [
           {
            "marker": {
             "colorbar": {
              "outlinewidth": 0,
              "ticks": ""
             }
            },
            "type": "scattergl"
           }
          ],
          "scattermapbox": [
           {
            "marker": {
             "colorbar": {
              "outlinewidth": 0,
              "ticks": ""
             }
            },
            "type": "scattermapbox"
           }
          ],
          "scatterpolar": [
           {
            "marker": {
             "colorbar": {
              "outlinewidth": 0,
              "ticks": ""
             }
            },
            "type": "scatterpolar"
           }
          ],
          "scatterpolargl": [
           {
            "marker": {
             "colorbar": {
              "outlinewidth": 0,
              "ticks": ""
             }
            },
            "type": "scatterpolargl"
           }
          ],
          "scatterternary": [
           {
            "marker": {
             "colorbar": {
              "outlinewidth": 0,
              "ticks": ""
             }
            },
            "type": "scatterternary"
           }
          ],
          "surface": [
           {
            "colorbar": {
             "outlinewidth": 0,
             "ticks": ""
            },
            "colorscale": [
             [
              0,
              "#0d0887"
             ],
             [
              0.1111111111111111,
              "#46039f"
             ],
             [
              0.2222222222222222,
              "#7201a8"
             ],
             [
              0.3333333333333333,
              "#9c179e"
             ],
             [
              0.4444444444444444,
              "#bd3786"
             ],
             [
              0.5555555555555556,
              "#d8576b"
             ],
             [
              0.6666666666666666,
              "#ed7953"
             ],
             [
              0.7777777777777778,
              "#fb9f3a"
             ],
             [
              0.8888888888888888,
              "#fdca26"
             ],
             [
              1,
              "#f0f921"
             ]
            ],
            "type": "surface"
           }
          ],
          "table": [
           {
            "cells": {
             "fill": {
              "color": "#EBF0F8"
             },
             "line": {
              "color": "white"
             }
            },
            "header": {
             "fill": {
              "color": "#C8D4E3"
             },
             "line": {
              "color": "white"
             }
            },
            "type": "table"
           }
          ]
         },
         "layout": {
          "annotationdefaults": {
           "arrowcolor": "#2a3f5f",
           "arrowhead": 0,
           "arrowwidth": 1
          },
          "autotypenumbers": "strict",
          "coloraxis": {
           "colorbar": {
            "outlinewidth": 0,
            "ticks": ""
           }
          },
          "colorscale": {
           "diverging": [
            [
             0,
             "#8e0152"
            ],
            [
             0.1,
             "#c51b7d"
            ],
            [
             0.2,
             "#de77ae"
            ],
            [
             0.3,
             "#f1b6da"
            ],
            [
             0.4,
             "#fde0ef"
            ],
            [
             0.5,
             "#f7f7f7"
            ],
            [
             0.6,
             "#e6f5d0"
            ],
            [
             0.7,
             "#b8e186"
            ],
            [
             0.8,
             "#7fbc41"
            ],
            [
             0.9,
             "#4d9221"
            ],
            [
             1,
             "#276419"
            ]
           ],
           "sequential": [
            [
             0,
             "#0d0887"
            ],
            [
             0.1111111111111111,
             "#46039f"
            ],
            [
             0.2222222222222222,
             "#7201a8"
            ],
            [
             0.3333333333333333,
             "#9c179e"
            ],
            [
             0.4444444444444444,
             "#bd3786"
            ],
            [
             0.5555555555555556,
             "#d8576b"
            ],
            [
             0.6666666666666666,
             "#ed7953"
            ],
            [
             0.7777777777777778,
             "#fb9f3a"
            ],
            [
             0.8888888888888888,
             "#fdca26"
            ],
            [
             1,
             "#f0f921"
            ]
           ],
           "sequentialminus": [
            [
             0,
             "#0d0887"
            ],
            [
             0.1111111111111111,
             "#46039f"
            ],
            [
             0.2222222222222222,
             "#7201a8"
            ],
            [
             0.3333333333333333,
             "#9c179e"
            ],
            [
             0.4444444444444444,
             "#bd3786"
            ],
            [
             0.5555555555555556,
             "#d8576b"
            ],
            [
             0.6666666666666666,
             "#ed7953"
            ],
            [
             0.7777777777777778,
             "#fb9f3a"
            ],
            [
             0.8888888888888888,
             "#fdca26"
            ],
            [
             1,
             "#f0f921"
            ]
           ]
          },
          "colorway": [
           "#636efa",
           "#EF553B",
           "#00cc96",
           "#ab63fa",
           "#FFA15A",
           "#19d3f3",
           "#FF6692",
           "#B6E880",
           "#FF97FF",
           "#FECB52"
          ],
          "font": {
           "color": "#2a3f5f"
          },
          "geo": {
           "bgcolor": "white",
           "lakecolor": "white",
           "landcolor": "#E5ECF6",
           "showlakes": true,
           "showland": true,
           "subunitcolor": "white"
          },
          "hoverlabel": {
           "align": "left"
          },
          "hovermode": "closest",
          "mapbox": {
           "style": "light"
          },
          "paper_bgcolor": "white",
          "plot_bgcolor": "#E5ECF6",
          "polar": {
           "angularaxis": {
            "gridcolor": "white",
            "linecolor": "white",
            "ticks": ""
           },
           "bgcolor": "#E5ECF6",
           "radialaxis": {
            "gridcolor": "white",
            "linecolor": "white",
            "ticks": ""
           }
          },
          "scene": {
           "xaxis": {
            "backgroundcolor": "#E5ECF6",
            "gridcolor": "white",
            "gridwidth": 2,
            "linecolor": "white",
            "showbackground": true,
            "ticks": "",
            "zerolinecolor": "white"
           },
           "yaxis": {
            "backgroundcolor": "#E5ECF6",
            "gridcolor": "white",
            "gridwidth": 2,
            "linecolor": "white",
            "showbackground": true,
            "ticks": "",
            "zerolinecolor": "white"
           },
           "zaxis": {
            "backgroundcolor": "#E5ECF6",
            "gridcolor": "white",
            "gridwidth": 2,
            "linecolor": "white",
            "showbackground": true,
            "ticks": "",
            "zerolinecolor": "white"
           }
          },
          "shapedefaults": {
           "line": {
            "color": "#2a3f5f"
           }
          },
          "ternary": {
           "aaxis": {
            "gridcolor": "white",
            "linecolor": "white",
            "ticks": ""
           },
           "baxis": {
            "gridcolor": "white",
            "linecolor": "white",
            "ticks": ""
           },
           "bgcolor": "#E5ECF6",
           "caxis": {
            "gridcolor": "white",
            "linecolor": "white",
            "ticks": ""
           }
          },
          "title": {
           "x": 0.05
          },
          "xaxis": {
           "automargin": true,
           "gridcolor": "white",
           "linecolor": "white",
           "ticks": "",
           "title": {
            "standoff": 15
           },
           "zerolinecolor": "white",
           "zerolinewidth": 2
          },
          "yaxis": {
           "automargin": true,
           "gridcolor": "white",
           "linecolor": "white",
           "ticks": "",
           "title": {
            "standoff": 15
           },
           "zerolinecolor": "white",
           "zerolinewidth": 2
          }
         }
        },
        "title": {
         "text": "Scatter plot of output patching vs attention patching"
        },
        "xaxis": {
         "anchor": "y",
         "domain": [
          0,
          1
         ],
         "title": {
          "text": "Attention Patch"
         }
        },
        "yaxis": {
         "anchor": "x",
         "domain": [
          0,
          1
         ],
         "title": {
          "text": "Output Patch"
         }
        }
       }
      },
      "text/html": [
       "<div>                            <div id=\"5f382ca2-371d-4cd7-9eb3-d818e6f04ed1\" class=\"plotly-graph-div\" style=\"height:525px; width:100%;\"></div>            <script type=\"text/javascript\">                require([\"plotly\"], function(Plotly) {                    window.PLOTLYENV=window.PLOTLYENV || {};                                    if (document.getElementById(\"5f382ca2-371d-4cd7-9eb3-d818e6f04ed1\")) {                    Plotly.newPlot(                        \"5f382ca2-371d-4cd7-9eb3-d818e6f04ed1\",                        [{\"hovertemplate\":\"\\u003cb\\u003e%{hovertext}\\u003c\\u002fb\\u003e\\u003cbr\\u003e\\u003cbr\\u003eAttention Patch=%{x}\\u003cbr\\u003eOutput Patch=%{y}\\u003cextra\\u003e\\u003c\\u002fextra\\u003e\",\"hovertext\":[\"L0H0\",\"L0H1\",\"L0H2\",\"L0H3\",\"L0H4\",\"L0H5\",\"L0H6\",\"L0H7\",\"L0H8\",\"L0H9\",\"L0H10\",\"L0H11\",\"L1H0\",\"L1H1\",\"L1H2\",\"L1H3\",\"L1H4\",\"L1H5\",\"L1H6\",\"L1H7\",\"L1H8\",\"L1H9\",\"L1H10\",\"L1H11\",\"L2H0\",\"L2H1\",\"L2H2\",\"L2H3\",\"L2H4\",\"L2H5\",\"L2H6\",\"L2H7\",\"L2H8\",\"L2H9\",\"L2H10\",\"L2H11\",\"L3H0\",\"L3H1\",\"L3H2\",\"L3H3\",\"L3H4\",\"L3H5\",\"L3H6\",\"L3H7\",\"L3H8\",\"L3H9\",\"L3H10\",\"L3H11\",\"L4H0\",\"L4H1\",\"L4H2\",\"L4H3\",\"L4H4\",\"L4H5\",\"L4H6\",\"L4H7\",\"L4H8\",\"L4H9\",\"L4H10\",\"L4H11\",\"L5H0\",\"L5H1\",\"L5H2\",\"L5H3\",\"L5H4\",\"L5H5\",\"L5H6\",\"L5H7\",\"L5H8\",\"L5H9\",\"L5H10\",\"L5H11\",\"L6H0\",\"L6H1\",\"L6H2\",\"L6H3\",\"L6H4\",\"L6H5\",\"L6H6\",\"L6H7\",\"L6H8\",\"L6H9\",\"L6H10\",\"L6H11\",\"L7H0\",\"L7H1\",\"L7H2\",\"L7H3\",\"L7H4\",\"L7H5\",\"L7H6\",\"L7H7\",\"L7H8\",\"L7H9\",\"L7H10\",\"L7H11\",\"L8H0\",\"L8H1\",\"L8H2\",\"L8H3\",\"L8H4\",\"L8H5\",\"L8H6\",\"L8H7\",\"L8H8\",\"L8H9\",\"L8H10\",\"L8H11\",\"L9H0\",\"L9H1\",\"L9H2\",\"L9H3\",\"L9H4\",\"L9H5\",\"L9H6\",\"L9H7\",\"L9H8\",\"L9H9\",\"L9H10\",\"L9H11\",\"L10H0\",\"L10H1\",\"L10H2\",\"L10H3\",\"L10H4\",\"L10H5\",\"L10H6\",\"L10H7\",\"L10H8\",\"L10H9\",\"L10H10\",\"L10H11\",\"L11H0\",\"L11H1\",\"L11H2\",\"L11H3\",\"L11H4\",\"L11H5\",\"L11H6\",\"L11H7\",\"L11H8\",\"L11H9\",\"L11H10\",\"L11H11\"],\"legendgroup\":\"\",\"marker\":{\"color\":\"#636efa\",\"symbol\":\"circle\"},\"mode\":\"markers\",\"name\":\"\",\"orientation\":\"v\",\"showlegend\":false,\"x\":[-0.0013727496843785048,-0.10756390541791916,-0.0026674082037061453,-8.36527906358242e-05,-0.0037097232416272163,-0.011518672108650208,-0.006583318114280701,-4.001654815510847e-05,0.007819040678441525,-0.0021610220428556204,-0.007098085712641478,-0.0008545192540623248,-0.00868220254778862,0.0016059736954048276,0.0010992091847583652,0.015255207195878029,-0.0035003020893782377,0.017827767878770828,5.110409256303683e-05,-0.0036237856838852167,0.00023394508752971888,-0.0004908863338641822,-0.0018779933452606201,0.010284217074513435,-0.005490969866514206,0.000351188937202096,0.001840147189795971,-0.0009465180919505656,0.0019073935691267252,-0.0011380049400031567,-0.0014045415446162224,0.0024927917402237654,0.004523740615695715,0.005249414127320051,0.003748533083125949,-0.02331690676510334,-0.0034203759860247374,-0.002139696618542075,-0.008357329294085503,-0.0010608204174786806,0.029345259070396423,-0.0003928760997951031,-0.0030834730714559555,-0.01143197063356638,-0.004919086582958698,0.0005192941171117127,-0.0022653150372207165,-0.0030966883059591055,-0.0010575506603345275,-0.003321494907140732,0.005227403249591589,0.004041799809783697,0.006901801563799381,0.0035240263678133488,-0.009967947378754616,0.0053833285346627235,0.01433888915926218,-0.0012038376880809665,0.00016479963960591704,-0.0001530267036287114,0.0021421024575829506,0.14346624910831451,-0.02112789824604988,-0.00018074913532473147,-0.008921858854591846,0.09815029054880142,-0.00044382314081303775,-0.0002906036679632962,-0.03334235027432442,0.06944438070058823,-0.0013216884108260274,0.00527865719050169,-0.012146675027906895,-0.011050096713006496,0.003359647933393717,-0.02182931639254093,-0.001169682596810162,0.006289444863796234,-0.03355588763952255,-0.00996353104710579,-0.015875214710831642,0.026211902499198914,0.009253132157027721,0.0032250480726361275,0.015880050137639046,0.020036881789565086,0.012475017458200455,-0.0727812871336937,-0.004908577539026737,-0.0013128569116815925,-0.013356649316847324,-0.0011075837537646294,0.0001349496451439336,-0.011750292964279652,0.0018776578363031149,0.0004471001448109746,-0.0007826680084690452,-0.0030063672456890345,-0.002061826642602682,0.04614776745438576,-0.0007646195008419454,-0.0010580432135611773,0.005936170928180218,0.0003805462911259383,0.00035457301419228315,0.00018981622997671366,-0.10167694091796875,0.002776120323687792,-0.001544745871797204,3.1070831028046086e-05,0.010996033437550068,-0.0005817784694954753,0.019266393035650253,0.004169852938503027,-0.02853265590965748,-0.1459222286939621,-0.009971260093152523,0.0658075362443924,-0.0033495957031846046,0.0015693055465817451,0.18408742547035217,0.05476105585694313,0.01143715064972639,0.017849506810307503,0.001644283882342279,-0.0017581293359398842,0.06201472505927086,-0.29643189907073975,-0.0024400099646300077,0.006081315688788891,0.10442141443490982,0.002171267056837678,-0.0029893468599766493,0.06518573313951492,-0.03718302771449089,-0.02190752513706684,-0.0005380637012422085,-0.008379450999200344,0.024105411022901535,-0.0008711970294825733,0.00256307958625257,0.023194190114736557,-0.3073241710662842,-0.004272696562111378],\"xaxis\":\"x\",\"y\":[-0.0011491210898384452,-0.07400459051132202,-0.0037174909375607967,0.013623460195958614,-0.025855159386992455,-0.022811738774180412,-0.008529704064130783,-0.004250913858413696,0.007923483848571777,-0.003874258603900671,-0.007525916676968336,-0.0003183617955073714,-0.012311474420130253,-0.001002105767838657,0.0010380956809967756,0.014966588467359543,-0.0023640820290893316,-0.002638314850628376,0.0009509017108939588,-0.00564068416133523,-0.0008365493267774582,-0.0008692978881299496,-0.0060423631221055984,0.018758373335003853,-0.007966202683746815,6.241296068765223e-05,-0.0026442548260092735,0.009321820922195911,-0.001256119809113443,-0.00025427821674384177,-0.0034778770059347153,0.0023328682873398066,0.00401484128087759,0.008590328507125378,0.001516230870038271,-0.021752284839749336,0.012895958498120308,-0.004345989786088467,-0.021169248968362808,-0.008329874835908413,-0.024744108319282532,-0.017199646681547165,0.028555622324347496,-0.009812021628022194,0.0013195608044043183,0.004519021138548851,-0.005017097108066082,-0.00281525868922472,-0.0009842857252806425,-0.014713256619870663,0.003387941513210535,0.11787204444408417,-0.02844119444489479,0.0019495447631925344,-0.026066979393363,0.006517642643302679,0.0164400115609169,-0.0038758579175919294,-0.0006039392901584506,-0.04456665366888046,-0.0031981610227376223,0.14429806172847748,0.0028001873288303614,-0.004829608369618654,-0.01423424668610096,0.10296261310577393,0.0021816978696733713,0.001439846120774746,-0.049851056188344955,0.015170947648584843,0.010465201921761036,-0.025762781500816345,0.16275279223918915,-0.00984629150480032,0.003692859783768654,-0.02197922207415104,-0.004078917670994997,-0.02064957283437252,-0.09202282130718231,0.012992027215659618,0.0034059116151183844,0.02349274791777134,0.005676066968590021,0.0035274175461381674,0.02916351705789566,0.019454382359981537,0.012652532197535038,0.26528751850128174,-0.02277209982275963,-0.02229560725390911,-0.01132497563958168,-0.008896728046238422,-0.004270483274012804,0.2821894586086273,0.0002127766638295725,0.0017856232589110732,-0.00587490014731884,-0.006188957020640373,-0.005780502688139677,0.01658025197684765,-0.0011596730910241604,-0.018084213137626648,0.11505789309740067,0.00846859347075224,0.001046969904564321,-0.001044107018969953,0.40613028407096863,-0.004206478130072355,-0.014337779022753239,0.003815165488049388,-0.00019533501472324133,0.024124901741743088,-0.04045974090695381,0.03850700706243515,-0.060013461858034134,0.2962854504585266,-0.03711662068963051,0.02599954605102539,-0.004514559172093868,-0.0028748088516294956,0.13067379593849182,0.04188493266701698,-0.03532189875841141,0.0039717406034469604,-0.00037673383485525846,-0.0008605378097854555,0.012026696465909481,-0.08412450551986694,-0.0005243202904239297,-0.002771279774606228,0.04165833070874214,-0.005761883221566677,0.0037319697439670563,0.06239774078130722,-0.14547371864318848,-0.006548863369971514,-0.00041865662205964327,-0.0036449970211833715,-0.01559470221400261,0.005396922118961811,-0.0005241275066509843,0.009267982095479965,-0.22651802003383636,-0.0055649131536483765],\"yaxis\":\"y\",\"type\":\"scatter\"}],                        {\"template\":{\"data\":{\"histogram2dcontour\":[{\"type\":\"histogram2dcontour\",\"colorbar\":{\"outlinewidth\":0,\"ticks\":\"\"},\"colorscale\":[[0.0,\"#0d0887\"],[0.1111111111111111,\"#46039f\"],[0.2222222222222222,\"#7201a8\"],[0.3333333333333333,\"#9c179e\"],[0.4444444444444444,\"#bd3786\"],[0.5555555555555556,\"#d8576b\"],[0.6666666666666666,\"#ed7953\"],[0.7777777777777778,\"#fb9f3a\"],[0.8888888888888888,\"#fdca26\"],[1.0,\"#f0f921\"]]}],\"choropleth\":[{\"type\":\"choropleth\",\"colorbar\":{\"outlinewidth\":0,\"ticks\":\"\"}}],\"histogram2d\":[{\"type\":\"histogram2d\",\"colorbar\":{\"outlinewidth\":0,\"ticks\":\"\"},\"colorscale\":[[0.0,\"#0d0887\"],[0.1111111111111111,\"#46039f\"],[0.2222222222222222,\"#7201a8\"],[0.3333333333333333,\"#9c179e\"],[0.4444444444444444,\"#bd3786\"],[0.5555555555555556,\"#d8576b\"],[0.6666666666666666,\"#ed7953\"],[0.7777777777777778,\"#fb9f3a\"],[0.8888888888888888,\"#fdca26\"],[1.0,\"#f0f921\"]]}],\"heatmap\":[{\"type\":\"heatmap\",\"colorbar\":{\"outlinewidth\":0,\"ticks\":\"\"},\"colorscale\":[[0.0,\"#0d0887\"],[0.1111111111111111,\"#46039f\"],[0.2222222222222222,\"#7201a8\"],[0.3333333333333333,\"#9c179e\"],[0.4444444444444444,\"#bd3786\"],[0.5555555555555556,\"#d8576b\"],[0.6666666666666666,\"#ed7953\"],[0.7777777777777778,\"#fb9f3a\"],[0.8888888888888888,\"#fdca26\"],[1.0,\"#f0f921\"]]}],\"heatmapgl\":[{\"type\":\"heatmapgl\",\"colorbar\":{\"outlinewidth\":0,\"ticks\":\"\"},\"colorscale\":[[0.0,\"#0d0887\"],[0.1111111111111111,\"#46039f\"],[0.2222222222222222,\"#7201a8\"],[0.3333333333333333,\"#9c179e\"],[0.4444444444444444,\"#bd3786\"],[0.5555555555555556,\"#d8576b\"],[0.6666666666666666,\"#ed7953\"],[0.7777777777777778,\"#fb9f3a\"],[0.8888888888888888,\"#fdca26\"],[1.0,\"#f0f921\"]]}],\"contourcarpet\":[{\"type\":\"contourcarpet\",\"colorbar\":{\"outlinewidth\":0,\"ticks\":\"\"}}],\"contour\":[{\"type\":\"contour\",\"colorbar\":{\"outlinewidth\":0,\"ticks\":\"\"},\"colorscale\":[[0.0,\"#0d0887\"],[0.1111111111111111,\"#46039f\"],[0.2222222222222222,\"#7201a8\"],[0.3333333333333333,\"#9c179e\"],[0.4444444444444444,\"#bd3786\"],[0.5555555555555556,\"#d8576b\"],[0.6666666666666666,\"#ed7953\"],[0.7777777777777778,\"#fb9f3a\"],[0.8888888888888888,\"#fdca26\"],[1.0,\"#f0f921\"]]}],\"surface\":[{\"type\":\"surface\",\"colorbar\":{\"outlinewidth\":0,\"ticks\":\"\"},\"colorscale\":[[0.0,\"#0d0887\"],[0.1111111111111111,\"#46039f\"],[0.2222222222222222,\"#7201a8\"],[0.3333333333333333,\"#9c179e\"],[0.4444444444444444,\"#bd3786\"],[0.5555555555555556,\"#d8576b\"],[0.6666666666666666,\"#ed7953\"],[0.7777777777777778,\"#fb9f3a\"],[0.8888888888888888,\"#fdca26\"],[1.0,\"#f0f921\"]]}],\"mesh3d\":[{\"type\":\"mesh3d\",\"colorbar\":{\"outlinewidth\":0,\"ticks\":\"\"}}],\"scatter\":[{\"fillpattern\":{\"fillmode\":\"overlay\",\"size\":10,\"solidity\":0.2},\"type\":\"scatter\"}],\"parcoords\":[{\"type\":\"parcoords\",\"line\":{\"colorbar\":{\"outlinewidth\":0,\"ticks\":\"\"}}}],\"scatterpolargl\":[{\"type\":\"scatterpolargl\",\"marker\":{\"colorbar\":{\"outlinewidth\":0,\"ticks\":\"\"}}}],\"bar\":[{\"error_x\":{\"color\":\"#2a3f5f\"},\"error_y\":{\"color\":\"#2a3f5f\"},\"marker\":{\"line\":{\"color\":\"#E5ECF6\",\"width\":0.5},\"pattern\":{\"fillmode\":\"overlay\",\"size\":10,\"solidity\":0.2}},\"type\":\"bar\"}],\"scattergeo\":[{\"type\":\"scattergeo\",\"marker\":{\"colorbar\":{\"outlinewidth\":0,\"ticks\":\"\"}}}],\"scatterpolar\":[{\"type\":\"scatterpolar\",\"marker\":{\"colorbar\":{\"outlinewidth\":0,\"ticks\":\"\"}}}],\"histogram\":[{\"marker\":{\"pattern\":{\"fillmode\":\"overlay\",\"size\":10,\"solidity\":0.2}},\"type\":\"histogram\"}],\"scattergl\":[{\"type\":\"scattergl\",\"marker\":{\"colorbar\":{\"outlinewidth\":0,\"ticks\":\"\"}}}],\"scatter3d\":[{\"type\":\"scatter3d\",\"line\":{\"colorbar\":{\"outlinewidth\":0,\"ticks\":\"\"}},\"marker\":{\"colorbar\":{\"outlinewidth\":0,\"ticks\":\"\"}}}],\"scattermapbox\":[{\"type\":\"scattermapbox\",\"marker\":{\"colorbar\":{\"outlinewidth\":0,\"ticks\":\"\"}}}],\"scatterternary\":[{\"type\":\"scatterternary\",\"marker\":{\"colorbar\":{\"outlinewidth\":0,\"ticks\":\"\"}}}],\"scattercarpet\":[{\"type\":\"scattercarpet\",\"marker\":{\"colorbar\":{\"outlinewidth\":0,\"ticks\":\"\"}}}],\"carpet\":[{\"aaxis\":{\"endlinecolor\":\"#2a3f5f\",\"gridcolor\":\"white\",\"linecolor\":\"white\",\"minorgridcolor\":\"white\",\"startlinecolor\":\"#2a3f5f\"},\"baxis\":{\"endlinecolor\":\"#2a3f5f\",\"gridcolor\":\"white\",\"linecolor\":\"white\",\"minorgridcolor\":\"white\",\"startlinecolor\":\"#2a3f5f\"},\"type\":\"carpet\"}],\"table\":[{\"cells\":{\"fill\":{\"color\":\"#EBF0F8\"},\"line\":{\"color\":\"white\"}},\"header\":{\"fill\":{\"color\":\"#C8D4E3\"},\"line\":{\"color\":\"white\"}},\"type\":\"table\"}],\"barpolar\":[{\"marker\":{\"line\":{\"color\":\"#E5ECF6\",\"width\":0.5},\"pattern\":{\"fillmode\":\"overlay\",\"size\":10,\"solidity\":0.2}},\"type\":\"barpolar\"}],\"pie\":[{\"automargin\":true,\"type\":\"pie\"}]},\"layout\":{\"autotypenumbers\":\"strict\",\"colorway\":[\"#636efa\",\"#EF553B\",\"#00cc96\",\"#ab63fa\",\"#FFA15A\",\"#19d3f3\",\"#FF6692\",\"#B6E880\",\"#FF97FF\",\"#FECB52\"],\"font\":{\"color\":\"#2a3f5f\"},\"hovermode\":\"closest\",\"hoverlabel\":{\"align\":\"left\"},\"paper_bgcolor\":\"white\",\"plot_bgcolor\":\"#E5ECF6\",\"polar\":{\"bgcolor\":\"#E5ECF6\",\"angularaxis\":{\"gridcolor\":\"white\",\"linecolor\":\"white\",\"ticks\":\"\"},\"radialaxis\":{\"gridcolor\":\"white\",\"linecolor\":\"white\",\"ticks\":\"\"}},\"ternary\":{\"bgcolor\":\"#E5ECF6\",\"aaxis\":{\"gridcolor\":\"white\",\"linecolor\":\"white\",\"ticks\":\"\"},\"baxis\":{\"gridcolor\":\"white\",\"linecolor\":\"white\",\"ticks\":\"\"},\"caxis\":{\"gridcolor\":\"white\",\"linecolor\":\"white\",\"ticks\":\"\"}},\"coloraxis\":{\"colorbar\":{\"outlinewidth\":0,\"ticks\":\"\"}},\"colorscale\":{\"sequential\":[[0.0,\"#0d0887\"],[0.1111111111111111,\"#46039f\"],[0.2222222222222222,\"#7201a8\"],[0.3333333333333333,\"#9c179e\"],[0.4444444444444444,\"#bd3786\"],[0.5555555555555556,\"#d8576b\"],[0.6666666666666666,\"#ed7953\"],[0.7777777777777778,\"#fb9f3a\"],[0.8888888888888888,\"#fdca26\"],[1.0,\"#f0f921\"]],\"sequentialminus\":[[0.0,\"#0d0887\"],[0.1111111111111111,\"#46039f\"],[0.2222222222222222,\"#7201a8\"],[0.3333333333333333,\"#9c179e\"],[0.4444444444444444,\"#bd3786\"],[0.5555555555555556,\"#d8576b\"],[0.6666666666666666,\"#ed7953\"],[0.7777777777777778,\"#fb9f3a\"],[0.8888888888888888,\"#fdca26\"],[1.0,\"#f0f921\"]],\"diverging\":[[0,\"#8e0152\"],[0.1,\"#c51b7d\"],[0.2,\"#de77ae\"],[0.3,\"#f1b6da\"],[0.4,\"#fde0ef\"],[0.5,\"#f7f7f7\"],[0.6,\"#e6f5d0\"],[0.7,\"#b8e186\"],[0.8,\"#7fbc41\"],[0.9,\"#4d9221\"],[1,\"#276419\"]]},\"xaxis\":{\"gridcolor\":\"white\",\"linecolor\":\"white\",\"ticks\":\"\",\"title\":{\"standoff\":15},\"zerolinecolor\":\"white\",\"automargin\":true,\"zerolinewidth\":2},\"yaxis\":{\"gridcolor\":\"white\",\"linecolor\":\"white\",\"ticks\":\"\",\"title\":{\"standoff\":15},\"zerolinecolor\":\"white\",\"automargin\":true,\"zerolinewidth\":2},\"scene\":{\"xaxis\":{\"backgroundcolor\":\"#E5ECF6\",\"gridcolor\":\"white\",\"linecolor\":\"white\",\"showbackground\":true,\"ticks\":\"\",\"zerolinecolor\":\"white\",\"gridwidth\":2},\"yaxis\":{\"backgroundcolor\":\"#E5ECF6\",\"gridcolor\":\"white\",\"linecolor\":\"white\",\"showbackground\":true,\"ticks\":\"\",\"zerolinecolor\":\"white\",\"gridwidth\":2},\"zaxis\":{\"backgroundcolor\":\"#E5ECF6\",\"gridcolor\":\"white\",\"linecolor\":\"white\",\"showbackground\":true,\"ticks\":\"\",\"zerolinecolor\":\"white\",\"gridwidth\":2}},\"shapedefaults\":{\"line\":{\"color\":\"#2a3f5f\"}},\"annotationdefaults\":{\"arrowcolor\":\"#2a3f5f\",\"arrowhead\":0,\"arrowwidth\":1},\"geo\":{\"bgcolor\":\"white\",\"landcolor\":\"#E5ECF6\",\"subunitcolor\":\"white\",\"showland\":true,\"showlakes\":true,\"lakecolor\":\"white\"},\"title\":{\"x\":0.05},\"mapbox\":{\"style\":\"light\"}}},\"xaxis\":{\"anchor\":\"y\",\"domain\":[0.0,1.0],\"title\":{\"text\":\"Attention Patch\"}},\"yaxis\":{\"anchor\":\"x\",\"domain\":[0.0,1.0],\"title\":{\"text\":\"Output Patch\"}},\"legend\":{\"tracegroupgap\":0},\"title\":{\"text\":\"Scatter plot of output patching vs attention patching\"}},                        {\"responsive\": true}                    ).then(function(){\n",
       "                            \n",
       "var gd = document.getElementById('5f382ca2-371d-4cd7-9eb3-d818e6f04ed1');\n",
       "var x = new MutationObserver(function (mutations, observer) {{\n",
       "        var display = window.getComputedStyle(gd).display;\n",
       "        if (!display || display === 'none') {{\n",
       "            console.log([gd, 'removed!']);\n",
       "            Plotly.purge(gd);\n",
       "            observer.disconnect();\n",
       "        }}\n",
       "}});\n",
       "\n",
       "// Listen for the removal of the full notebook cells\n",
       "var notebookContainer = gd.closest('#notebook-container');\n",
       "if (notebookContainer) {{\n",
       "    x.observe(notebookContainer, {childList: true});\n",
       "}}\n",
       "\n",
       "// Listen for the clearing of the current output cell\n",
       "var outputEl = gd.closest('.output');\n",
       "if (outputEl) {{\n",
       "    x.observe(outputEl, {childList: true});\n",
       "}}\n",
       "\n",
       "                        })                };                });            </script>        </div>"
      ]
     },
     "metadata": {},
     "output_type": "display_data"
    }
   ],
   "source": [
    "imshow(\n",
    "    patched_head_attn_diff,\n",
    "    title=\"Logit Difference From Patched Head Pattern\",\n",
    "    labels={\"x\": \"Head\", \"y\": \"Layer\"},\n",
    ")\n",
    "head_labels = [\n",
    "    f\"L{l}H{h}\" for l in range(model.cfg.n_layers) for h in range(model.cfg.n_heads)\n",
    "]\n",
    "scatter(\n",
    "    x=utils.to_numpy(patched_head_attn_diff.flatten()),\n",
    "    y=utils.to_numpy(patched_head_z_diff.flatten()),\n",
    "    hover_name=head_labels,\n",
    "    xaxis=\"Attention Patch\",\n",
    "    yaxis=\"Output Patch\",\n",
    "    title=\"Scatter plot of output patching vs attention patching\",\n",
    ")"
   ]
  },
  {
   "cell_type": "markdown",
   "metadata": {},
   "source": [
    "### Sum up\n",
    "1. Layer 7 & Layer 10 might be responsible for 2-obj and 2&3-obj.\n",
    "2. MLP layers are becoming more active in the 3-obj task, since it need quite some reasoning to perform 3-2(or 3-1-1?) than 2-1 I think, some of the MLP layers focus on bound the later two names by transfering highlight from Jim to \"and John\".\n",
    "3. Heads:\n",
    "    - Early: L6H0, L4H3, L5H1, L5H5 focusing on the second & third object\n",
    "    - Mid: L8H10, L7H3, L7H9, L8H6 final output, value vectors\n",
    "    - Late: L9H7, L11H10, L11H2, L10H0 final output, attention pattern\n",
    "    - Previous notable heads like L10H0 and L10H7 seems to decrease their diff in output though\n",
    "4. Now it's time to see how this new mechenism developed from the original circuit."
   ]
  },
  {
   "cell_type": "code",
   "execution_count": 147,
   "metadata": {},
   "outputs": [
    {
     "data": {
      "text/html": [
       "<div style='max-width: 700px;'><h2>Top Early Heads</h2><br/><div id=\"circuits-vis-2149fa9d-328b\" style=\"margin: 15px 0;\"/>\n",
       "    <script crossorigin type=\"module\">\n",
       "    import { render, AttentionHeads } from \"https://unpkg.com/circuitsvis@1.43.2/dist/cdn/esm.js\";\n",
       "    render(\n",
       "      \"circuits-vis-2149fa9d-328b\",\n",
       "      AttentionHeads,\n",
       "      {\"attention\": [[[1.0, 0.0, 0.0, 0.0, 0.0, 0.0, 0.0, 0.0, 0.0, 0.0, 0.0, 0.0, 0.0, 0.0, 0.0, 0.0, 0.0, 0.0, 0.0, 0.0, 0.0, 0.0, 0.0, 0.0, 0.0], [0.9490949511528015, 0.05090499296784401, 0.0, 0.0, 0.0, 0.0, 0.0, 0.0, 0.0, 0.0, 0.0, 0.0, 0.0, 0.0, 0.0, 0.0, 0.0, 0.0, 0.0, 0.0, 0.0, 0.0, 0.0, 0.0, 0.0], [0.6647644639015198, 0.18460406363010406, 0.15063151717185974, 0.0, 0.0, 0.0, 0.0, 0.0, 0.0, 0.0, 0.0, 0.0, 0.0, 0.0, 0.0, 0.0, 0.0, 0.0, 0.0, 0.0, 0.0, 0.0, 0.0, 0.0, 0.0], [0.3703242838382721, 0.16391195356845856, 0.4201756715774536, 0.04558813199400902, 0.0, 0.0, 0.0, 0.0, 0.0, 0.0, 0.0, 0.0, 0.0, 0.0, 0.0, 0.0, 0.0, 0.0, 0.0, 0.0, 0.0, 0.0, 0.0, 0.0, 0.0], [0.5814337134361267, 0.03912508487701416, 0.06755533069372177, 0.09036082029342651, 0.22152510285377502, 0.0, 0.0, 0.0, 0.0, 0.0, 0.0, 0.0, 0.0, 0.0, 0.0, 0.0, 0.0, 0.0, 0.0, 0.0, 0.0, 0.0, 0.0, 0.0, 0.0], [0.4674188494682312, 0.06381872296333313, 0.19055575132369995, 0.06620760262012482, 0.175190269947052, 0.036808788776397705, 0.0, 0.0, 0.0, 0.0, 0.0, 0.0, 0.0, 0.0, 0.0, 0.0, 0.0, 0.0, 0.0, 0.0, 0.0, 0.0, 0.0, 0.0, 0.0], [0.2727614641189575, 0.017773650586605072, 0.13154101371765137, 0.05094239115715027, 0.09023688733577728, 0.3617679178714752, 0.07497663050889969, 0.0, 0.0, 0.0, 0.0, 0.0, 0.0, 0.0, 0.0, 0.0, 0.0, 0.0, 0.0, 0.0, 0.0, 0.0, 0.0, 0.0, 0.0], [0.42280805110931396, 0.115436851978302, 0.14770783483982086, 0.05089829862117767, 0.06543324887752533, 0.1446746289730072, 0.04363367334008217, 0.00940735824406147, 0.0, 0.0, 0.0, 0.0, 0.0, 0.0, 0.0, 0.0, 0.0, 0.0, 0.0, 0.0, 0.0, 0.0, 0.0, 0.0, 0.0], [0.23089498281478882, 0.042523276060819626, 0.12458683550357819, 0.050003357231616974, 0.11009737849235535, 0.20981276035308838, 0.08815525472164154, 0.11801974475383759, 0.025906385853886604, 0.0, 0.0, 0.0, 0.0, 0.0, 0.0, 0.0, 0.0, 0.0, 0.0, 0.0, 0.0, 0.0, 0.0, 0.0, 0.0], [0.2894142270088196, 0.07561707496643066, 0.07917509973049164, 0.04153602942824364, 0.09089794754981995, 0.11581894755363464, 0.0928986668586731, 0.08969081193208694, 0.10133715718984604, 0.02361406572163105, 0.0, 0.0, 0.0, 0.0, 0.0, 0.0, 0.0, 0.0, 0.0, 0.0, 0.0, 0.0, 0.0, 0.0, 0.0], [0.546265721321106, 0.030867058783769608, 0.023544523864984512, 0.023787828162312508, 0.026910463348031044, 0.05688173323869705, 0.03451837971806526, 0.05204525962471962, 0.05902153626084328, 0.12970292568206787, 0.01645456813275814, 0.0, 0.0, 0.0, 0.0, 0.0, 0.0, 0.0, 0.0, 0.0, 0.0, 0.0, 0.0, 0.0, 0.0], [0.2211165726184845, 0.024271730333566666, 0.03702541068196297, 0.11347484588623047, 0.07161460816860199, 0.11886820197105408, 0.06751123070716858, 0.20348688960075378, 0.07759272307157516, 0.047061700373888016, 0.01224424596875906, 0.005731850862503052, 0.0, 0.0, 0.0, 0.0, 0.0, 0.0, 0.0, 0.0, 0.0, 0.0, 0.0, 0.0, 0.0], [0.10085918009281158, 0.013859045691788197, 0.04449118673801422, 0.07385105639696121, 0.12288808077573776, 0.0477280430495739, 0.09244978427886963, 0.4275935888290405, 0.05441559851169586, 0.010266460478305817, 0.0033233854919672012, 0.0038505629636347294, 0.004423987586051226, 0.0, 0.0, 0.0, 0.0, 0.0, 0.0, 0.0, 0.0, 0.0, 0.0, 0.0, 0.0], [0.17174024879932404, 0.012721775099635124, 0.042879972606897354, 0.041638605296611786, 0.04652687907218933, 0.06032737344503403, 0.03191150724887848, 0.4058401882648468, 0.10274288058280945, 0.007846854627132416, 0.0025669389870017767, 0.0009174139704555273, 0.008600836619734764, 0.06373848021030426, 0.0, 0.0, 0.0, 0.0, 0.0, 0.0, 0.0, 0.0, 0.0, 0.0, 0.0], [0.4214305877685547, 0.03826257586479187, 0.05847369506955147, 0.039056308567523956, 0.11057694256305695, 0.02698914334177971, 0.05506730452179909, 0.09631379693746567, 0.027081429958343506, 0.012405069544911385, 0.007817097008228302, 0.005150862503796816, 0.004750807303935289, 0.07626130431890488, 0.020363090559840202, 0.0, 0.0, 0.0, 0.0, 0.0, 0.0, 0.0, 0.0, 0.0, 0.0], [0.8038597106933594, 0.006509329192340374, 0.0071067833341658115, 0.007127349730581045, 0.017606908455491066, 0.0053363339975476265, 0.005441240966320038, 0.0053083812817931175, 0.008344433270394802, 0.009767641313374043, 0.008372839540243149, 0.012727716006338596, 0.015524020418524742, 0.010040774010121822, 0.060913603752851486, 0.01601286046206951, 0.0, 0.0, 0.0, 0.0, 0.0, 0.0, 0.0, 0.0, 0.0], [0.4428158700466156, 0.001951191807165742, 0.008560956455767155, 0.003509742906317115, 0.032261017709970474, 0.008366064168512821, 0.013310345821082592, 0.0006828672485426068, 0.001141807297244668, 0.000826283183414489, 0.0039399899542331696, 0.0019399916054680943, 0.010967916809022427, 0.0047291857190430164, 0.024137040600180626, 0.16148172318935394, 0.2793780267238617, 0.0, 0.0, 0.0, 0.0, 0.0, 0.0, 0.0, 0.0], [0.17336168885231018, 0.0008404454565607011, 0.0014210502849891782, 0.000943391234613955, 0.010887389071285725, 0.00038534621126018465, 0.006644366774708033, 0.00035316648427397013, 0.00015629964764229953, 0.0001408258540323004, 0.00030292599694803357, 0.00024093291722238064, 0.0011297442251816392, 0.004147271625697613, 0.019453058019280434, 0.024863258004188538, 0.6851402521133423, 0.0695885717868805, 0.0, 0.0, 0.0, 0.0, 0.0, 0.0, 0.0], [0.07395404577255249, 0.00019107083790004253, 0.0009853048250079155, 0.0008764453232288361, 0.005183347035199404, 0.005260758567601442, 0.003293599933385849, 0.00011762954090954736, 0.00010937323531834409, 0.00010914338054135442, 0.00015508969954680651, 6.827204924775288e-05, 0.00350863765925169, 0.0010032179998233914, 0.0029993641655892134, 0.0046344636939466, 0.17512544989585876, 0.40927600860595703, 0.31314873695373535, 0.0, 0.0, 0.0, 0.0, 0.0, 0.0], [0.051417987793684006, 0.0005299216718412936, 0.0018282340606674552, 0.001158659695647657, 0.0071575534529984, 0.0033915662206709385, 0.003001281525939703, 0.0003859356220345944, 0.00022316566901281476, 0.00027254849555902183, 0.00034551246790215373, 0.000570654752664268, 0.0008222269243560731, 0.001853376510553062, 0.0025505092926323414, 0.007273049093782902, 0.13956916332244873, 0.19273583590984344, 0.5769455432891846, 0.007967214100062847, 0.0, 0.0, 0.0, 0.0, 0.0], [0.22175157070159912, 0.0017790007404983044, 0.003246361156925559, 0.0023733642883598804, 0.00906775239855051, 0.0036463893484324217, 0.005189684219658375, 0.003306308761239052, 0.0016014716820791364, 0.0004456817405298352, 0.001530358917079866, 0.0019006779184564948, 0.0022251277696341276, 0.009557689540088177, 0.009937242604792118, 0.014854354783892632, 0.13934017717838287, 0.11817852407693863, 0.35960665345191956, 0.08366088569164276, 0.006800591014325619, 0.0, 0.0, 0.0, 0.0], [0.1449066400527954, 0.0021861218847334385, 0.0025993366725742817, 0.0025474252179265022, 0.005880916025489569, 0.004356081131845713, 0.005235685966908932, 0.004074814263731241, 0.0014224267797544599, 0.00130126450676471, 0.0006593377911485732, 0.001012685359455645, 0.003097688313573599, 0.017024816945195198, 0.008568476885557175, 0.00803186185657978, 0.1596827656030655, 0.09374552220106125, 0.3218766450881958, 0.09694977104663849, 0.07181058079004288, 0.04302911087870598, 0.0, 0.0, 0.0], [0.2981177270412445, 0.0036889801267534494, 0.005578408949077129, 0.0026560856495052576, 0.005814734846353531, 0.0021643294021487236, 0.004594976082444191, 0.007361253257840872, 0.0016898822505027056, 0.0010962729575112462, 0.0017770634731277823, 0.0013707805192098022, 0.002431507222354412, 0.02953922376036644, 0.014015529304742813, 0.012238360941410065, 0.15745718777179718, 0.03896205499768257, 0.14502133429050446, 0.11917060613632202, 0.05097220465540886, 0.08673009276390076, 0.007551435846835375, 0.0, 0.0], [0.10016314685344696, 0.0006934654666110873, 0.0017675949493423104, 0.0013806972419843078, 0.0023014750331640244, 0.0015848374459892511, 0.002032910706475377, 0.0026560011319816113, 0.0014863250544294715, 0.0011771728750318289, 0.0012949735391885042, 0.0025288909673690796, 0.003240082645788789, 0.014743062667548656, 0.008529333397746086, 0.007964633405208588, 0.11382134258747101, 0.05270278453826904, 0.19564616680145264, 0.143866628408432, 0.03938537836074829, 0.11816377192735672, 0.13242992758750916, 0.05043937265872955, 0.0], [0.07965251803398132, 0.0008323265938088298, 0.0012820156989619136, 0.001247996580787003, 0.004887154791504145, 0.0026379188057035208, 0.005348351318389177, 0.005513623356819153, 0.0005540909478440881, 0.00016129910363815725, 0.00017039319209288806, 0.00019813617109321058, 0.0007052926230244339, 0.004919547121971846, 0.0025419448502361774, 0.0025156077463179827, 0.15738576650619507, 0.060914281755685806, 0.3988194167613983, 0.21747668087482452, 0.021002819761633873, 0.01692086085677147, 0.003843387123197317, 0.008393683470785618, 0.0020748809911310673]], [[1.0, 0.0, 0.0, 0.0, 0.0, 0.0, 0.0, 0.0, 0.0, 0.0, 0.0, 0.0, 0.0, 0.0, 0.0, 0.0, 0.0, 0.0, 0.0, 0.0, 0.0, 0.0, 0.0, 0.0, 0.0], [0.9999885559082031, 1.1390721738280263e-05, 0.0, 0.0, 0.0, 0.0, 0.0, 0.0, 0.0, 0.0, 0.0, 0.0, 0.0, 0.0, 0.0, 0.0, 0.0, 0.0, 0.0, 0.0, 0.0, 0.0, 0.0, 0.0, 0.0], [0.9966817498207092, 1.4622988601331599e-05, 0.003303634701296687, 0.0, 0.0, 0.0, 0.0, 0.0, 0.0, 0.0, 0.0, 0.0, 0.0, 0.0, 0.0, 0.0, 0.0, 0.0, 0.0, 0.0, 0.0, 0.0, 0.0, 0.0, 0.0], [0.9988418221473694, 4.792910840478726e-05, 0.00034857980790548027, 0.0007617495721206069, 0.0, 0.0, 0.0, 0.0, 0.0, 0.0, 0.0, 0.0, 0.0, 0.0, 0.0, 0.0, 0.0, 0.0, 0.0, 0.0, 0.0, 0.0, 0.0, 0.0, 0.0], [0.9973439574241638, 3.499704325804487e-05, 4.900423300568946e-05, 0.0009157751337625086, 0.001656314474530518, 0.0, 0.0, 0.0, 0.0, 0.0, 0.0, 0.0, 0.0, 0.0, 0.0, 0.0, 0.0, 0.0, 0.0, 0.0, 0.0, 0.0, 0.0, 0.0, 0.0], [0.9955599308013916, 6.284212577156723e-05, 0.00026132556376978755, 6.271708571148338e-06, 0.003514278680086136, 0.0005954272346571088, 0.0, 0.0, 0.0, 0.0, 0.0, 0.0, 0.0, 0.0, 0.0, 0.0, 0.0, 0.0, 0.0, 0.0, 0.0, 0.0, 0.0, 0.0, 0.0], [0.9950093030929565, 0.00020011448941659182, 0.0001942838280228898, 0.00017495894280727953, 0.0008224992780014873, 0.0004642186686396599, 0.0031346012838184834, 0.0, 0.0, 0.0, 0.0, 0.0, 0.0, 0.0, 0.0, 0.0, 0.0, 0.0, 0.0, 0.0, 0.0, 0.0, 0.0, 0.0, 0.0], [0.9924746155738831, 0.0006112271803431213, 0.0007740251021459699, 6.30679824098479e-06, 0.001611453015357256, 1.2077668998244917e-06, 0.0004877714964095503, 0.004033355042338371, 0.0, 0.0, 0.0, 0.0, 0.0, 0.0, 0.0, 0.0, 0.0, 0.0, 0.0, 0.0, 0.0, 0.0, 0.0, 0.0, 0.0], [0.9949906468391418, 7.583708793390542e-05, 0.0005209955270402133, 1.908539843498147e-06, 0.00044161092955619097, 1.9058894906720525e-08, 0.0005354766035452485, 5.0621500122360885e-05, 0.0033829514868557453, 0.0, 0.0, 0.0, 0.0, 0.0, 0.0, 0.0, 0.0, 0.0, 0.0, 0.0, 0.0, 0.0, 0.0, 0.0, 0.0], [0.9899348616600037, 0.00015782976697664708, 2.7506122933118604e-05, 1.7340026943202247e-06, 0.00010005622607422993, 2.7566160909486825e-08, 0.00015141502080950886, 1.5361276382463984e-05, 2.815483821905218e-05, 0.009582961909472942, 0.0, 0.0, 0.0, 0.0, 0.0, 0.0, 0.0, 0.0, 0.0, 0.0, 0.0, 0.0, 0.0, 0.0, 0.0], [0.9933360815048218, 0.0028145432006567717, 3.873833338730037e-05, 4.920962624055392e-07, 6.264756848395336e-06, 3.917310493761761e-07, 4.081380757270381e-05, 1.8299670045962557e-05, 1.7327027990177157e-06, 9.481081360718235e-05, 0.0036477523390203714, 0.0, 0.0, 0.0, 0.0, 0.0, 0.0, 0.0, 0.0, 0.0, 0.0, 0.0, 0.0, 0.0, 0.0], [0.9812979698181152, 0.0010878241155296564, 1.7381715224473737e-05, 3.2139677585973914e-09, 6.8776344051002525e-06, 1.4067168763176596e-08, 1.3617299373436254e-05, 4.755409918288933e-06, 2.2147749234591174e-07, 2.24614777835086e-05, 0.0005192389944568276, 0.01702955923974514, 0.0, 0.0, 0.0, 0.0, 0.0, 0.0, 0.0, 0.0, 0.0, 0.0, 0.0, 0.0, 0.0], [0.9933491349220276, 0.00013878484605811536, 0.0003265815321356058, 6.302886390585627e-08, 0.00012265684199519455, 7.490157827305666e-09, 0.0035116386134177446, 4.653855648939498e-05, 2.419925237973075e-07, 6.539552850881591e-05, 0.0008995381067506969, 0.00042332414886914194, 0.001116134226322174, 0.0, 0.0, 0.0, 0.0, 0.0, 0.0, 0.0, 0.0, 0.0, 0.0, 0.0, 0.0], [0.9953849911689758, 0.0010296968976035714, 0.0006209650309756398, 2.949509052996291e-06, 4.3055239075329155e-05, 8.624270719792548e-08, 0.00016282369324471802, 4.967627683072351e-05, 0.0012731810566037893, 0.0009024977334775031, 0.00015869537310209125, 1.1958665709244087e-05, 9.45468036661623e-06, 0.00034987495746463537, 0.0, 0.0, 0.0, 0.0, 0.0, 0.0, 0.0, 0.0, 0.0, 0.0, 0.0], [0.9650911688804626, 0.000555545324459672, 7.368469960056245e-05, 2.650703208928462e-06, 0.030078623443841934, 1.2158161553088576e-06, 0.0006337729282677174, 2.1988864318700507e-05, 1.3092612789478153e-05, 0.00010060580098070204, 0.00029954733327031136, 3.052921238122508e-05, 9.2715781647712e-06, 0.0018802854465320706, 0.001207999186590314, 0.0, 0.0, 0.0, 0.0, 0.0, 0.0, 0.0, 0.0, 0.0, 0.0], [0.999072790145874, 1.8499504221836105e-05, 2.623163345560897e-05, 6.180044692882802e-06, 0.0003849111672025174, 5.795731112812064e-07, 1.1914857168449089e-05, 1.4481068319582846e-05, 2.4378914531553164e-06, 1.3449493962980341e-06, 2.6279103622073308e-05, 2.390331417245761e-07, 1.4273489945537676e-08, 1.5802944517417927e-06, 1.2836515452363528e-05, 0.0004196948721073568, 0.0, 0.0, 0.0, 0.0, 0.0, 0.0, 0.0, 0.0, 0.0], [0.9818539023399353, 0.00044890871504321694, 0.00015001137217041105, 0.00041595505899749696, 0.0014784977538511157, 0.00018823826394509524, 0.00013671789201907814, 0.007993671111762524, 1.0657488928700332e-05, 1.6986659829854034e-05, 7.361701864283532e-05, 2.6946265279548243e-05, 9.030874252857757e-07, 6.135474450275069e-06, 8.895086693883059e-07, 3.690983066917397e-05, 0.007161248009651899, 0.0, 0.0, 0.0, 0.0, 0.0, 0.0, 0.0, 0.0], [0.8348163366317749, 0.0001072238155757077, 0.0005442876135930419, 5.315222733770497e-05, 0.036770474165678024, 1.7043556681528571e-06, 0.1107533797621727, 0.009302375838160515, 7.617681603733217e-06, 0.00022292444191407412, 0.0003161691129207611, 1.6862553820828907e-05, 9.293355418549254e-08, 0.0032250171061605215, 4.476617334603361e-07, 0.00019236870866734535, 0.0016538106137886643, 0.0020157061517238617, 0.0, 0.0, 0.0, 0.0, 0.0, 0.0, 0.0], [0.462068110704422, 4.971725502400659e-05, 4.562112007988617e-05, 0.061120759695768356, 0.05091086030006409, 0.00018347660079598427, 0.016229817643761635, 0.32489076256752014, 0.00039406048017553985, 0.0002741789794526994, 0.00038298169965855777, 2.1549498342210427e-05, 1.5726936908322386e-07, 8.317962783621624e-05, 9.281977690989152e-05, 9.320581011706963e-05, 0.0005736039602197707, 0.017039302736520767, 0.06554590910673141, 0.0, 0.0, 0.0, 0.0, 0.0, 0.0], [0.990129292011261, 0.00017200557340402156, 0.0007316343253478408, 5.90994886806584e-06, 0.0015527389477938414, 5.081471954326844e-08, 0.0008870345773175359, 0.0002701721095945686, 8.636423444841057e-05, 0.000135186652187258, 0.00016768794739618897, 1.2441696526366286e-05, 1.3602031856407848e-07, 4.6740693505853415e-05, 0.002829550765454769, 0.0003348616883158684, 0.00032849778654053807, 7.970271553858765e-07, 0.0003484959015622735, 0.0019603855907917023, 0.0, 0.0, 0.0, 0.0, 0.0], [0.9976727366447449, 0.00016549920837860554, 2.7393096388550475e-05, 3.3835311796792666e-07, 0.00010294128878740594, 5.201191033421537e-09, 7.192935299826786e-06, 7.665479415663867e-07, 1.161680529548903e-06, 1.5393965213661431e-06, 0.00017539766849949956, 1.6236033843597397e-05, 9.771286357818099e-08, 6.468646006396739e-06, 3.996345640189247e-06, 4.8458066885359585e-05, 8.549454651074484e-05, 5.1216410668075696e-08, 8.507299753546249e-07, 4.271968009561533e-06, 0.0016790543450042605, 0.0, 0.0, 0.0, 0.0], [0.9931666254997253, 0.0008316315361298621, 4.507948233367642e-06, 2.452565439625687e-08, 3.4397053241264075e-06, 4.074549764254698e-08, 3.607751295930939e-06, 1.596810932369408e-07, 1.8224096720587113e-06, 7.260342158588173e-07, 6.200131338118808e-06, 3.372642822796479e-05, 9.384400982526131e-06, 2.6414958483655937e-05, 1.4531961824104656e-05, 3.898914292221889e-05, 2.2630505554843694e-05, 1.0309700648747366e-08, 3.9535901663612094e-08, 2.324159282807159e-07, 4.8591587983537465e-05, 0.005786750465631485, 0.0, 0.0, 0.0], [0.9989054203033447, 0.00023617687111254781, 1.6668549505993724e-05, 2.2379481601220164e-10, 1.3334197319636587e-06, 4.848541360069625e-11, 2.737273234743043e-06, 4.4998258452721984e-09, 1.019117346068299e-09, 1.6495138766003947e-07, 1.694413299446751e-06, 9.426958769154226e-08, 7.126731649265139e-09, 2.364137117183418e-06, 7.797103052098464e-08, 1.0055763596028555e-05, 5.589492502622306e-06, 7.380392130773572e-11, 3.6235977773912964e-08, 9.144308421582537e-09, 4.605484264175175e-06, 0.0004878149484284222, 0.0003250611189287156, 0.0, 0.0], [0.9864577651023865, 0.0008815298206172884, 2.826538320732652e-06, 5.009969328284569e-08, 8.607721042608318e-07, 3.419519316594233e-07, 2.7615380986389937e-06, 5.808688570141385e-07, 1.4312105633962346e-07, 3.9559978404213325e-07, 2.432038627375732e-06, 1.915514985739719e-05, 1.2851478459197097e-05, 7.839949830668047e-06, 9.988088095269632e-06, 3.063624171772972e-05, 7.365934379777173e-06, 4.812199350112678e-08, 1.3368298468208195e-08, 3.3243244956793205e-07, 9.544599379296415e-06, 6.0212107200641185e-05, 0.0007897217874415219, 0.011702582240104675, 0.0], [0.993037760257721, 0.0002077067329082638, 0.0002782499650493264, 5.022451432523667e-08, 2.0013276298413984e-05, 6.03677419164228e-09, 9.312148176832125e-05, 4.7122091473283945e-07, 9.246651444527743e-09, 6.108378147473559e-05, 6.895108526805416e-05, 9.172039426630363e-06, 1.674301302045933e-06, 0.0003267841530032456, 1.463660169065406e-06, 5.6794633565004915e-05, 1.4517583622364327e-05, 9.043866100455489e-09, 1.424736183253117e-06, 5.476323394759675e-07, 1.7968088286579587e-05, 0.00015167510719038546, 1.351666924165329e-05, 0.005220334976911545, 0.0004166354483459145]], [[1.0, 0.0, 0.0, 0.0, 0.0, 0.0, 0.0, 0.0, 0.0, 0.0, 0.0, 0.0, 0.0, 0.0, 0.0, 0.0, 0.0, 0.0, 0.0, 0.0, 0.0, 0.0, 0.0, 0.0, 0.0], [0.8642850518226624, 0.13571497797966003, 0.0, 0.0, 0.0, 0.0, 0.0, 0.0, 0.0, 0.0, 0.0, 0.0, 0.0, 0.0, 0.0, 0.0, 0.0, 0.0, 0.0, 0.0, 0.0, 0.0, 0.0, 0.0, 0.0], [0.7110251188278198, 0.1330913007259369, 0.15588361024856567, 0.0, 0.0, 0.0, 0.0, 0.0, 0.0, 0.0, 0.0, 0.0, 0.0, 0.0, 0.0, 0.0, 0.0, 0.0, 0.0, 0.0, 0.0, 0.0, 0.0, 0.0, 0.0], [0.1802356243133545, 0.10613340884447098, 0.59690922498703, 0.1167217344045639, 0.0, 0.0, 0.0, 0.0, 0.0, 0.0, 0.0, 0.0, 0.0, 0.0, 0.0, 0.0, 0.0, 0.0, 0.0, 0.0, 0.0, 0.0, 0.0, 0.0, 0.0], [0.37339159846305847, 0.20842516422271729, 0.13448579609394073, 0.1546628624200821, 0.1290346384048462, 0.0, 0.0, 0.0, 0.0, 0.0, 0.0, 0.0, 0.0, 0.0, 0.0, 0.0, 0.0, 0.0, 0.0, 0.0, 0.0, 0.0, 0.0, 0.0, 0.0], [0.20659996569156647, 0.027079029008746147, 0.16014979779720306, 0.12289629876613617, 0.3902956545352936, 0.09297925978899002, 0.0, 0.0, 0.0, 0.0, 0.0, 0.0, 0.0, 0.0, 0.0, 0.0, 0.0, 0.0, 0.0, 0.0, 0.0, 0.0, 0.0, 0.0, 0.0], [0.3734240233898163, 0.09469512850046158, 0.07569250464439392, 0.08546562492847443, 0.112082339823246, 0.18613477051258087, 0.07250563055276871, 0.0, 0.0, 0.0, 0.0, 0.0, 0.0, 0.0, 0.0, 0.0, 0.0, 0.0, 0.0, 0.0, 0.0, 0.0, 0.0, 0.0, 0.0], [0.007817196659743786, 0.005149761214852333, 0.02145036682486534, 0.06520276516675949, 0.14472761750221252, 0.7010411024093628, 0.05213852971792221, 0.002472647000104189, 0.0, 0.0, 0.0, 0.0, 0.0, 0.0, 0.0, 0.0, 0.0, 0.0, 0.0, 0.0, 0.0, 0.0, 0.0, 0.0, 0.0], [0.06582985818386078, 0.01957986317574978, 0.04610133543610573, 0.11352884024381638, 0.16196966171264648, 0.5180416703224182, 0.047315001487731934, 0.016338666900992393, 0.011295090429484844, 0.0, 0.0, 0.0, 0.0, 0.0, 0.0, 0.0, 0.0, 0.0, 0.0, 0.0, 0.0, 0.0, 0.0, 0.0, 0.0], [0.22885346412658691, 0.03202028572559357, 0.05001547187566757, 0.09178748726844788, 0.12348327040672302, 0.2729223072528839, 0.0718291848897934, 0.051150280982255936, 0.06390102207660675, 0.014037157408893108, 0.0, 0.0, 0.0, 0.0, 0.0, 0.0, 0.0, 0.0, 0.0, 0.0, 0.0, 0.0, 0.0, 0.0, 0.0], [0.3313926160335541, 0.0237335953861475, 0.07184959948062897, 0.06465531885623932, 0.1462230682373047, 0.11082910746335983, 0.0320713110268116, 0.050582583993673325, 0.036067716777324677, 0.08309564739465714, 0.049499448388814926, 0.0, 0.0, 0.0, 0.0, 0.0, 0.0, 0.0, 0.0, 0.0, 0.0, 0.0, 0.0, 0.0, 0.0], [0.2514958083629608, 0.015194717794656754, 0.023965181782841682, 0.03309870511293411, 0.0767001062631607, 0.08259157836437225, 0.0365009605884552, 0.03997812792658806, 0.026513276621699333, 0.20845627784729004, 0.15566717088222504, 0.0498381182551384, 0.0, 0.0, 0.0, 0.0, 0.0, 0.0, 0.0, 0.0, 0.0, 0.0, 0.0, 0.0, 0.0], [0.3349634110927582, 0.04997239261865616, 0.020970242097973824, 0.012544266879558563, 0.04185166582465172, 0.0070701404474675655, 0.020189668983221054, 0.047558028250932693, 0.03402112051844597, 0.04574989527463913, 0.1731744110584259, 0.1695963740348816, 0.042338334023952484, 0.0, 0.0, 0.0, 0.0, 0.0, 0.0, 0.0, 0.0, 0.0, 0.0, 0.0, 0.0], [0.1125798299908638, 0.024657966569066048, 0.0397043414413929, 0.09472119808197021, 0.30983588099479675, 0.31091368198394775, 0.0746353268623352, 0.014400961808860302, 0.005964611191302538, 0.0010532181477174163, 0.001418684609234333, 0.0008185947081074119, 0.0051099443808197975, 0.0041856844909489155, 0.0, 0.0, 0.0, 0.0, 0.0, 0.0, 0.0, 0.0, 0.0, 0.0, 0.0], [0.1597777158021927, 0.05418940261006355, 0.04144684970378876, 0.026087326928973198, 0.1391535848379135, 0.09592343866825104, 0.06158580258488655, 0.04706735163927078, 0.021307162940502167, 0.015707800164818764, 0.04935092851519585, 0.0419011116027832, 0.03767142444849014, 0.1722496598958969, 0.036580462008714676, 0.0, 0.0, 0.0, 0.0, 0.0, 0.0, 0.0, 0.0, 0.0, 0.0], [0.5699552297592163, 0.07391220331192017, 0.031915370374917984, 0.03327518329024315, 0.04023846238851547, 0.008546295575797558, 0.01625725068151951, 0.031988028436899185, 0.01337297074496746, 0.018965216353535652, 0.014447128400206566, 0.007777054328471422, 0.011836429126560688, 0.02413884364068508, 0.07772206515073776, 0.025652218610048294, 0.0, 0.0, 0.0, 0.0, 0.0, 0.0, 0.0, 0.0, 0.0], [0.2116694450378418, 0.014141252264380455, 0.004963744897395372, 0.00753050297498703, 0.00996723584830761, 0.013248949311673641, 0.0034636068157851696, 0.003056511515751481, 0.004343932028859854, 0.001742063439451158, 0.004975813906639814, 0.004154933150857687, 0.007749123498797417, 0.005036822985857725, 0.04411767050623894, 0.47801217436790466, 0.1818261742591858, 0.0, 0.0, 0.0, 0.0, 0.0, 0.0, 0.0, 0.0], [0.03606494143605232, 0.0005039765383116901, 0.00109656504355371, 0.0011488450691103935, 0.005947762634605169, 0.002332216827198863, 0.0042173173278570175, 0.0011292715789750218, 0.0005763095105066895, 0.0001444060035282746, 0.0004944630200043321, 0.00028251975891180336, 0.0002460345276631415, 0.0005355501198209822, 0.0034657560754567385, 0.05217453092336655, 0.6785093545913696, 0.21113023161888123, 0.0, 0.0, 0.0, 0.0, 0.0, 0.0, 0.0], [0.11297769844532013, 0.0021455499809235334, 0.0018546064384281635, 0.0018268420826643705, 0.004240322392433882, 0.004963759332895279, 0.004524276591837406, 0.002118581673130393, 0.001742458320222795, 0.0009786523878574371, 0.002902703359723091, 0.001198403537273407, 0.0038191720377653837, 0.0038327269721776247, 0.01362363900989294, 0.08571794629096985, 0.25020283460617065, 0.23272931575775146, 0.2686004936695099, 0.0, 0.0, 0.0, 0.0, 0.0, 0.0], [0.002563779940828681, 0.00018436159007251263, 0.0001585962309036404, 0.0004965141997672617, 0.001751518459059298, 0.008162596262991428, 0.0008248841622844338, 0.00012925596092827618, 4.418849857756868e-05, 5.1606707529572304e-06, 1.805843749025371e-05, 1.3441561350191478e-05, 9.171783312922344e-05, 0.00026389319100417197, 0.0003620784846134484, 0.0015642201760783792, 0.039292532950639725, 0.8049662709236145, 0.13513295352458954, 0.003974059130996466, 0.0, 0.0, 0.0, 0.0, 0.0], [0.0590236596763134, 0.0012953763362020254, 0.001115401741117239, 0.0023114336654543877, 0.004294732119888067, 0.016118211671710014, 0.002120196120813489, 0.0020905446726828814, 0.0008203787147067487, 0.00014856386405881494, 0.0010613573249429464, 0.0008371845469810069, 0.0020804123487323523, 0.0054473006166517735, 0.004146647173911333, 0.01663007214665413, 0.05464344471693039, 0.6327696442604065, 0.08665218204259872, 0.10144202411174774, 0.004951170179992914, 0.0, 0.0, 0.0, 0.0], [0.21145844459533691, 0.0026517133228480816, 0.0033927317708730698, 0.004260933492332697, 0.005942029412835836, 0.010461839847266674, 0.002289014169946313, 0.0033307026606053114, 0.0014035658678039908, 0.0013694233493879437, 0.0021302138920873404, 0.0006581167108379304, 0.002526541706174612, 0.005536763463169336, 0.005737566389143467, 0.004006121773272753, 0.08246655017137527, 0.3730284869670868, 0.072194404900074, 0.14315052330493927, 0.03096974827349186, 0.03103458695113659, 0.0, 0.0, 0.0], [0.20006315410137177, 0.0011282532941550016, 0.0014784145168960094, 0.0005559636629186571, 0.0019285791786387563, 0.0013503881637006998, 0.0010093695018440485, 0.0018337959190830588, 0.000772211467847228, 0.0011889678426086903, 0.004793387372046709, 0.0023896971251815557, 0.006037720944732428, 0.008138440549373627, 0.006753261666744947, 0.007196801248937845, 0.030855223536491394, 0.040190234780311584, 0.06857325881719589, 0.04700719937682152, 0.061860062181949615, 0.4480016231536865, 0.05689402297139168, 0.0, 0.0], [0.30913007259368896, 0.002097917487844825, 0.005524298641830683, 0.0020426062401384115, 0.004623449873179197, 0.0028637691866606474, 0.003377348417416215, 0.002248956123366952, 0.0012336891377344728, 0.0017395184841006994, 0.0027578682638704777, 0.0025221763644367456, 0.003173218574374914, 0.004017307888716459, 0.01020703837275505, 0.005033216439187527, 0.1310623288154602, 0.13731040060520172, 0.12541432678699493, 0.07168497145175934, 0.03739146888256073, 0.04186427593231201, 0.025379478931427002, 0.0673002302646637, 0.0], [0.02621808461844921, 0.0004743400204461068, 0.0004328838549554348, 0.0003173527948092669, 0.0008563444134779274, 0.0005314887384884059, 0.00031777771073393524, 0.000310846691718325, 0.00016037520254030824, 0.00015800600522197783, 0.0011861713137477636, 0.0013793574180454016, 0.0008985301246866584, 0.0018558228621259332, 0.0028759792912751436, 0.005264642182737589, 0.012325828894972801, 0.021824220195412636, 0.010095290839672089, 0.028947079554200172, 0.020635515451431274, 0.200264573097229, 0.1655333936214447, 0.4834165871143341, 0.01371951587498188]]], \"attentionHeadNames\": [\"L6H0\", \"L5H1\", \"L4H3\"], \"tokens\": [\"<|endoftext|>\", \"After\", \" John\", \",\", \" Mary\", \" and\", \" Jim\", \" went\", \" to\", \" the\", \" grocery\", \" store\", \" and\", \" return\", \",\", \" \", \" Jim\", \" and\", \" John\", \" gave\", \" a\", \" bottle\", \" of\", \" milk\", \" to\"]}\n",
       "    )\n",
       "    </script></div><div style='max-width: 700px;'><h2>Top Middle Heads</h2><br/><div id=\"circuits-vis-6e90a707-0f86\" style=\"margin: 15px 0;\"/>\n",
       "    <script crossorigin type=\"module\">\n",
       "    import { render, AttentionHeads } from \"https://unpkg.com/circuitsvis@1.43.2/dist/cdn/esm.js\";\n",
       "    render(\n",
       "      \"circuits-vis-6e90a707-0f86\",\n",
       "      AttentionHeads,\n",
       "      {\"attention\": [[[1.0, 0.0, 0.0, 0.0, 0.0, 0.0, 0.0, 0.0, 0.0, 0.0, 0.0, 0.0, 0.0, 0.0, 0.0, 0.0, 0.0, 0.0, 0.0, 0.0, 0.0, 0.0, 0.0, 0.0, 0.0], [0.9522640109062195, 0.04773595929145813, 0.0, 0.0, 0.0, 0.0, 0.0, 0.0, 0.0, 0.0, 0.0, 0.0, 0.0, 0.0, 0.0, 0.0, 0.0, 0.0, 0.0, 0.0, 0.0, 0.0, 0.0, 0.0, 0.0], [0.9636170268058777, 0.007046094164252281, 0.029336825013160706, 0.0, 0.0, 0.0, 0.0, 0.0, 0.0, 0.0, 0.0, 0.0, 0.0, 0.0, 0.0, 0.0, 0.0, 0.0, 0.0, 0.0, 0.0, 0.0, 0.0, 0.0, 0.0], [0.6972867250442505, 0.055937085300683975, 0.12583579123020172, 0.12094037234783173, 0.0, 0.0, 0.0, 0.0, 0.0, 0.0, 0.0, 0.0, 0.0, 0.0, 0.0, 0.0, 0.0, 0.0, 0.0, 0.0, 0.0, 0.0, 0.0, 0.0, 0.0], [0.8896422982215881, 0.010692850686609745, 0.01590595208108425, 0.04992011561989784, 0.03383885324001312, 0.0, 0.0, 0.0, 0.0, 0.0, 0.0, 0.0, 0.0, 0.0, 0.0, 0.0, 0.0, 0.0, 0.0, 0.0, 0.0, 0.0, 0.0, 0.0, 0.0], [0.5650463700294495, 0.024617040529847145, 0.06407985091209412, 0.11595684289932251, 0.17519783973693848, 0.05510198324918747, 0.0, 0.0, 0.0, 0.0, 0.0, 0.0, 0.0, 0.0, 0.0, 0.0, 0.0, 0.0, 0.0, 0.0, 0.0, 0.0, 0.0, 0.0, 0.0], [0.8884100914001465, 0.012375732883810997, 0.014561880379915237, 0.025835327804088593, 0.012703466229140759, 0.013358140364289284, 0.03275538235902786, 0.0, 0.0, 0.0, 0.0, 0.0, 0.0, 0.0, 0.0, 0.0, 0.0, 0.0, 0.0, 0.0, 0.0, 0.0, 0.0, 0.0, 0.0], [0.812099814414978, 0.027238305658102036, 0.015153576619923115, 0.03695213422179222, 0.014024836011230946, 0.031510129570961, 0.019568227231502533, 0.043452922254800797, 0.0, 0.0, 0.0, 0.0, 0.0, 0.0, 0.0, 0.0, 0.0, 0.0, 0.0, 0.0, 0.0, 0.0, 0.0, 0.0, 0.0], [0.6100403666496277, 0.01615210250020027, 0.054170116782188416, 0.06282085925340652, 0.07828317582607269, 0.03566133975982666, 0.08818252384662628, 0.020071588456630707, 0.03461785987019539, 0.0, 0.0, 0.0, 0.0, 0.0, 0.0, 0.0, 0.0, 0.0, 0.0, 0.0, 0.0, 0.0, 0.0, 0.0, 0.0], [0.6719849109649658, 0.02827611193060875, 0.022385315969586372, 0.04106125980615616, 0.0243502426892519, 0.02415916696190834, 0.027552638202905655, 0.011021479964256287, 0.03614378347992897, 0.11306504905223846, 0.0, 0.0, 0.0, 0.0, 0.0, 0.0, 0.0, 0.0, 0.0, 0.0, 0.0, 0.0, 0.0, 0.0, 0.0], [0.8282981514930725, 0.022159792482852936, 0.006591659039258957, 0.012218551710247993, 0.0032968828454613686, 0.007544829975813627, 0.007795408368110657, 0.009185920469462872, 0.024625232443213463, 0.04292051121592522, 0.03536301106214523, 0.0, 0.0, 0.0, 0.0, 0.0, 0.0, 0.0, 0.0, 0.0, 0.0, 0.0, 0.0, 0.0, 0.0], [0.6940320134162903, 0.05733085796236992, 0.014765672385692596, 0.029316484928131104, 0.010251783765852451, 0.010375753976404667, 0.018032044172286987, 0.014226214960217476, 0.030889052897691727, 0.045133646577596664, 0.021192602813243866, 0.05445388704538345, 0.0, 0.0, 0.0, 0.0, 0.0, 0.0, 0.0, 0.0, 0.0, 0.0, 0.0, 0.0, 0.0], [0.5255808234214783, 0.026243319734930992, 0.01767844147980213, 0.03990529850125313, 0.018983041867613792, 0.024121679365634918, 0.03066978044807911, 0.06616818159818649, 0.05497658625245094, 0.06579620391130447, 0.018174393102526665, 0.04940961301326752, 0.06229265406727791, 0.0, 0.0, 0.0, 0.0, 0.0, 0.0, 0.0, 0.0, 0.0, 0.0, 0.0, 0.0], [0.6522148251533508, 0.020257296040654182, 0.00842459686100483, 0.03856171295046806, 0.022399073466658592, 0.028461355715990067, 0.015982380136847496, 0.010419877246022224, 0.030208494514226913, 0.028233185410499573, 0.017506057396531105, 0.03959841653704643, 0.05143403261899948, 0.03629881516098976, 0.0, 0.0, 0.0, 0.0, 0.0, 0.0, 0.0, 0.0, 0.0, 0.0, 0.0], [0.4292623996734619, 0.03272850438952446, 0.06442192196846008, 0.04517337679862976, 0.10494264960289001, 0.049527231603860855, 0.10518893599510193, 0.0352962464094162, 0.01658380776643753, 0.01018651481717825, 0.0068223862908780575, 0.010584823787212372, 0.01962195709347725, 0.022067366167902946, 0.04759189113974571, 0.0, 0.0, 0.0, 0.0, 0.0, 0.0, 0.0, 0.0, 0.0, 0.0], [0.8895182609558105, 0.010652847588062286, 0.009308194741606712, 0.006645542103797197, 0.010462810285389423, 0.006977378856390715, 0.010046165436506271, 0.004042132757604122, 0.0032909440342336893, 0.004368643742054701, 0.0012408659094944596, 0.0009173209546133876, 0.0030699747148901224, 0.0022489812690764666, 0.008470145054161549, 0.028739845380187035, 0.0, 0.0, 0.0, 0.0, 0.0, 0.0, 0.0, 0.0, 0.0], [0.8309728503227234, 0.005568952299654484, 0.002846952062100172, 0.009765979833900928, 0.0029109823517501354, 0.007541532162576914, 0.005466634873300791, 0.008773797191679478, 0.008394761942327023, 0.005664526950567961, 0.002987064654007554, 0.005025497172027826, 0.01168501004576683, 0.016949495300650597, 0.020337464287877083, 0.011288115754723549, 0.04382050037384033, 0.0, 0.0, 0.0, 0.0, 0.0, 0.0, 0.0, 0.0], [0.36752134561538696, 0.005751629825681448, 0.013109145686030388, 0.018380915746092796, 0.02473324164748192, 0.006589759141206741, 0.01495245099067688, 0.0022525296080857515, 0.0011933649657294154, 0.002336143283173442, 0.00047115370398387313, 0.0005446045543067157, 0.0016158566577360034, 0.0023708308581262827, 0.009294289164245129, 0.020747600123286247, 0.41738662123680115, 0.09074851870536804, 0.0, 0.0, 0.0, 0.0, 0.0, 0.0, 0.0], [0.5717030763626099, 0.00323730637319386, 0.002061679493635893, 0.017317524179816246, 0.0028867116197943687, 0.010379121638834476, 0.005720370914787054, 0.01839282549917698, 0.01315129455178976, 0.006800529547035694, 0.0018090404337272048, 0.006188977509737015, 0.017262401059269905, 0.036771539598703384, 0.04975394159555435, 0.010562289506196976, 0.06965811550617218, 0.07904409617185593, 0.07729922235012054, 0.0, 0.0, 0.0, 0.0, 0.0, 0.0], [0.21079014241695404, 0.004588746465742588, 0.014717979356646538, 0.01753901317715645, 0.0394439660012722, 0.022990994155406952, 0.02161364257335663, 0.004145138897001743, 0.004360354505479336, 0.005062213633209467, 0.007313419133424759, 0.009322392754256725, 0.006373757496476173, 0.012591533362865448, 0.015178659930825233, 0.010047607123851776, 0.23243634402751923, 0.08905517309904099, 0.22435979545116425, 0.04806916043162346, 0.0, 0.0, 0.0, 0.0, 0.0], [0.5359536409378052, 0.013104544021189213, 0.008805541321635246, 0.012339397333562374, 0.009380755946040154, 0.011571241542696953, 0.009264388121664524, 0.004241563845425844, 0.006668870337307453, 0.007462390698492527, 0.01633942686021328, 0.009713375009596348, 0.008484081365168095, 0.009558971971273422, 0.028586378321051598, 0.019782597199082375, 0.058011338114738464, 0.030649805441498756, 0.035860877484083176, 0.05400000885128975, 0.11022090166807175, 0.0, 0.0, 0.0, 0.0], [0.5852494239807129, 0.008528722450137138, 0.002345423214137554, 0.009669516235589981, 0.0036937978584319353, 0.006076241377741098, 0.003236066550016403, 0.002851785160601139, 0.006521692033857107, 0.00899102445691824, 0.005108132027089596, 0.0061707692220807076, 0.010307724587619305, 0.007854471914470196, 0.03769386187195778, 0.01421468984335661, 0.023745203390717506, 0.016565311700105667, 0.010360782034695148, 0.03311751037836075, 0.05177291855216026, 0.14592494070529938, 0.0, 0.0, 0.0], [0.5714909434318542, 0.00998757779598236, 0.0040306043811142445, 0.0069610425271093845, 0.008834305219352245, 0.0026516199577599764, 0.0053693209774792194, 0.0004644847649615258, 0.0008219107403419912, 0.0027395065408200026, 0.006429803557693958, 0.00122640875633806, 0.001637220149859786, 0.0008174265385605395, 0.008287948556244373, 0.02833748422563076, 0.04372544214129448, 0.010438412427902222, 0.013604814186692238, 0.011819800361990929, 0.05030302703380585, 0.10842117667198181, 0.1015997901558876, 0.0, 0.0], [0.5091567039489746, 0.012590264901518822, 0.0020708355586975813, 0.006866935174912214, 0.002487956080585718, 0.005177226848900318, 0.002628696383908391, 0.004361107479780912, 0.007541252300143242, 0.00799274630844593, 0.004305841401219368, 0.0081240925937891, 0.009823160246014595, 0.011787530034780502, 0.03046729415655136, 0.011342166922986507, 0.016389284282922745, 0.010345603339374065, 0.0058418456465005875, 0.028036819770932198, 0.03304518759250641, 0.06640975922346115, 0.05167638137936592, 0.15153121948242188, 0.0], [0.020418277010321617, 0.0007940601790323853, 0.013776675797998905, 0.016245238482952118, 0.04456007480621338, 0.0063569447956979275, 0.025213290005922318, 0.0008173524402081966, 0.0003429077041801065, 0.0006400405545718968, 0.00028064235812053084, 0.00047158534289337695, 0.00038330809911713004, 0.0010481178760528564, 0.0014532592613250017, 0.0016733461525291204, 0.4696996212005615, 0.04675775766372681, 0.33086729049682617, 0.008956859819591045, 0.0018642385257408023, 0.0007125940755940974, 0.0006433764356188476, 0.001209536218084395, 0.004813674371689558]], [[1.0, 0.0, 0.0, 0.0, 0.0, 0.0, 0.0, 0.0, 0.0, 0.0, 0.0, 0.0, 0.0, 0.0, 0.0, 0.0, 0.0, 0.0, 0.0, 0.0, 0.0, 0.0, 0.0, 0.0, 0.0], [0.9737128019332886, 0.026287123560905457, 0.0, 0.0, 0.0, 0.0, 0.0, 0.0, 0.0, 0.0, 0.0, 0.0, 0.0, 0.0, 0.0, 0.0, 0.0, 0.0, 0.0, 0.0, 0.0, 0.0, 0.0, 0.0, 0.0], [0.8760247230529785, 0.09661056101322174, 0.027364691719412804, 0.0, 0.0, 0.0, 0.0, 0.0, 0.0, 0.0, 0.0, 0.0, 0.0, 0.0, 0.0, 0.0, 0.0, 0.0, 0.0, 0.0, 0.0, 0.0, 0.0, 0.0, 0.0], [0.5203399062156677, 0.08266560733318329, 0.2996615171432495, 0.09733299165964127, 0.0, 0.0, 0.0, 0.0, 0.0, 0.0, 0.0, 0.0, 0.0, 0.0, 0.0, 0.0, 0.0, 0.0, 0.0, 0.0, 0.0, 0.0, 0.0, 0.0, 0.0], [0.7134517431259155, 0.020936591550707817, 0.01969985105097294, 0.2240840345621109, 0.02182782255113125, 0.0, 0.0, 0.0, 0.0, 0.0, 0.0, 0.0, 0.0, 0.0, 0.0, 0.0, 0.0, 0.0, 0.0, 0.0, 0.0, 0.0, 0.0, 0.0, 0.0], [0.16326504945755005, 0.05349612608551979, 0.26864877343177795, 0.0841977670788765, 0.4225062131881714, 0.00788598507642746, 0.0, 0.0, 0.0, 0.0, 0.0, 0.0, 0.0, 0.0, 0.0, 0.0, 0.0, 0.0, 0.0, 0.0, 0.0, 0.0, 0.0, 0.0, 0.0], [0.594164252281189, 0.18862606585025787, 0.026657870039343834, 0.1309666484594345, 0.026797272264957428, 0.021582385525107384, 0.011205545626580715, 0.0, 0.0, 0.0, 0.0, 0.0, 0.0, 0.0, 0.0, 0.0, 0.0, 0.0, 0.0, 0.0, 0.0, 0.0, 0.0, 0.0, 0.0], [0.37825560569763184, 0.41298165917396545, 0.05592045187950134, 0.05659586936235428, 0.025006666779518127, 0.007822218351066113, 0.011864020489156246, 0.05155352130532265, 0.0, 0.0, 0.0, 0.0, 0.0, 0.0, 0.0, 0.0, 0.0, 0.0, 0.0, 0.0, 0.0, 0.0, 0.0, 0.0, 0.0], [0.2248358577489853, 0.2807624340057373, 0.15185144543647766, 0.052252545952796936, 0.09670192003250122, 0.011287701316177845, 0.10382769256830215, 0.06060583516955376, 0.01787456125020981, 0.0, 0.0, 0.0, 0.0, 0.0, 0.0, 0.0, 0.0, 0.0, 0.0, 0.0, 0.0, 0.0, 0.0, 0.0, 0.0], [0.46633055806159973, 0.2700825333595276, 0.07261116802692413, 0.02570030279457569, 0.03890139237046242, 0.008197842165827751, 0.03104257583618164, 0.05058128759264946, 0.02469974011182785, 0.011852549389004707, 0.0, 0.0, 0.0, 0.0, 0.0, 0.0, 0.0, 0.0, 0.0, 0.0, 0.0, 0.0, 0.0, 0.0, 0.0], [0.8093880414962769, 0.05251374840736389, 0.01987806335091591, 0.012407166883349419, 0.014966104179620743, 0.0035744088236242533, 0.010764790698885918, 0.012144184671342373, 0.013988278806209564, 0.019434280693531036, 0.030940959230065346, 0.0, 0.0, 0.0, 0.0, 0.0, 0.0, 0.0, 0.0, 0.0, 0.0, 0.0, 0.0, 0.0, 0.0], [0.5617738962173462, 0.1360238790512085, 0.08150438219308853, 0.044031061232089996, 0.02796100080013275, 0.008546547032892704, 0.02803204208612442, 0.039704155176877975, 0.030292736366391182, 0.023911666125059128, 0.009459965862333775, 0.008758648298680782, 0.0, 0.0, 0.0, 0.0, 0.0, 0.0, 0.0, 0.0, 0.0, 0.0, 0.0, 0.0, 0.0], [0.386715292930603, 0.12236558645963669, 0.08895420283079147, 0.04122636467218399, 0.08220183849334717, 0.007517099380493164, 0.0890241339802742, 0.07958255708217621, 0.036124881356954575, 0.014648686163127422, 0.007330246735364199, 0.012500401586294174, 0.03180867061018944, 0.0, 0.0, 0.0, 0.0, 0.0, 0.0, 0.0, 0.0, 0.0, 0.0, 0.0, 0.0], [0.3294430673122406, 0.13638032972812653, 0.05892804265022278, 0.03849392756819725, 0.040050432085990906, 0.033884722739458084, 0.06899234652519226, 0.04678696021437645, 0.0407232902944088, 0.015541565604507923, 0.013076737523078918, 0.015551715157926083, 0.08374278992414474, 0.07840403914451599, 0.0, 0.0, 0.0, 0.0, 0.0, 0.0, 0.0, 0.0, 0.0, 0.0, 0.0], [0.36352774500846863, 0.026543689891695976, 0.21770815551280975, 0.022133437916636467, 0.11046050488948822, 0.0049543799832463264, 0.15634994208812714, 0.016702596098184586, 0.006974236574023962, 0.0022200008388608694, 0.00208360911346972, 0.004295844119042158, 0.011103158816695213, 0.015247208997607231, 0.039695512503385544, 0.0, 0.0, 0.0, 0.0, 0.0, 0.0, 0.0, 0.0, 0.0, 0.0], [0.9484074711799622, 0.006059702951461077, 0.001744550303556025, 0.004026889335364103, 0.0011872545583173633, 0.0005863479455001652, 0.0008087089518085122, 0.0015024127205833793, 0.0017268257215619087, 0.0012004169402644038, 0.0002982197911478579, 0.0002241426263935864, 0.003815906587988138, 0.0022159945219755173, 0.02208048291504383, 0.004114618990570307, 0.0, 0.0, 0.0, 0.0, 0.0, 0.0, 0.0, 0.0, 0.0], [0.6910629868507385, 0.003784952685236931, 0.001281899050809443, 0.018073586747050285, 0.0018326500430703163, 0.0007986694690771401, 0.0011287652887403965, 0.0019634165801107883, 0.002649076981469989, 0.0028897589072585106, 0.002900536637753248, 0.005368017591536045, 0.007897084578871727, 0.015398534014821053, 0.09808707982301712, 0.05566379800438881, 0.08921919018030167, 0.0, 0.0, 0.0, 0.0, 0.0, 0.0, 0.0, 0.0], [0.047909967601299286, 0.0009052652749232948, 0.004420439247041941, 0.0032680383883416653, 0.008196267299354076, 0.00011899673700099811, 0.006387210916727781, 0.00017255735292565078, 9.533176489640027e-05, 9.784531721379608e-05, 0.00017531101184431463, 0.0001274168462259695, 0.0002765944809652865, 0.0006454860558733344, 0.007958767004311085, 0.008406277745962143, 0.903681218624115, 0.007156974170356989, 0.0, 0.0, 0.0, 0.0, 0.0, 0.0, 0.0], [0.2283826619386673, 0.009605922736227512, 0.0007890915148891509, 0.025979306548833847, 0.0016428662929683924, 0.0023761671036481857, 0.0011064154095947742, 0.002548909978941083, 0.0016536740586161613, 0.0022183943074196577, 0.0017742770723998547, 0.003055096138268709, 0.027355151250958443, 0.015759004279971123, 0.26103776693344116, 0.04732799530029297, 0.09874588996171951, 0.16565465927124023, 0.10298673063516617, 0.0, 0.0, 0.0, 0.0, 0.0, 0.0], [0.13332951068878174, 0.007881417870521545, 0.006670936942100525, 0.004537067376077175, 0.006829547695815563, 0.0004442269855644554, 0.006068308837711811, 0.0008091677445918322, 0.0008460023673251271, 0.0009717376669868827, 0.0013705618912354112, 0.001766013097949326, 0.0034669097512960434, 0.0033491028007119894, 0.049061428755521774, 0.024744128808379173, 0.410861074924469, 0.019134001806378365, 0.3071424663066864, 0.010716489516198635, 0.0, 0.0, 0.0, 0.0, 0.0], [0.7868819236755371, 0.009528355672955513, 0.003277416108176112, 0.0031494342256337404, 0.001303128432482481, 0.00038144056452438235, 0.0009630699059925973, 0.0012957259314134717, 0.0010228274622932076, 0.0002870987809728831, 0.0019934147130697966, 0.0010498884366825223, 0.0013031974667683244, 0.0036321619991213083, 0.015407302416861057, 0.023384617641568184, 0.05677337571978569, 0.02508672885596752, 0.03733958676457405, 0.020994074642658234, 0.004945219028741121, 0.0, 0.0, 0.0, 0.0], [0.6517639756202698, 0.008801075629889965, 0.004248077515512705, 0.00396845955401659, 0.0012046134797856212, 0.0004203994758427143, 0.0014232725370675325, 0.0012115288991481066, 0.0011093663051724434, 0.000822557311039418, 0.0005619258154183626, 0.0003214887692593038, 0.0020429897122085094, 0.0026177947875112295, 0.018455728888511658, 0.03893006965517998, 0.13077446818351746, 0.022105831652879715, 0.031223539263010025, 0.03689043968915939, 0.017769165337085724, 0.023333195596933365, 0.0, 0.0, 0.0], [0.5572041273117065, 0.005134717561304569, 0.005904471501708031, 0.002803908661007881, 0.0018795463256537914, 0.0002151456574210897, 0.0015088492073118687, 0.0008522011339664459, 0.0005009734304621816, 0.0005368402926251292, 0.0007041255012154579, 6.256753113120794e-05, 0.0003536997828632593, 0.0011366285616531968, 0.006136691197752953, 0.039839066565036774, 0.24002285301685333, 0.01806328445672989, 0.048047710210084915, 0.02347451075911522, 0.014001688919961452, 0.026345472782850266, 0.005270868539810181, 0.0, 0.0], [0.5575076341629028, 0.006864465307444334, 0.0040360805578529835, 0.003141694935038686, 0.0016661930130794644, 0.0006403375300578773, 0.0022365455515682697, 0.0021805595606565475, 0.0017466740682721138, 0.0019480669870972633, 0.00044833257561549544, 0.0008383403765037656, 0.00460147624835372, 0.004935401491820812, 0.034597791731357574, 0.030402859672904015, 0.10996314883232117, 0.01871398277580738, 0.07094224542379379, 0.05563110485672951, 0.027671435847878456, 0.026703419163823128, 0.007767905946820974, 0.02481425553560257, 0.0], [0.0009263991378247738, 0.00023367481480818242, 0.004575430415570736, 0.0003882598830386996, 0.0030800942331552505, 3.550075780367479e-05, 0.006552354898303747, 0.00015052070375531912, 1.6482026694575325e-05, 6.893729732837528e-06, 1.7152160580735654e-06, 5.784301720268559e-06, 0.0001698734558885917, 0.00012138936290284619, 0.0012592595303431153, 0.0003727031871676445, 0.4751616418361664, 0.0006160152843222022, 0.5057136416435242, 0.0004681287391576916, 8.072352648014203e-05, 3.0143903131829575e-05, 2.1930709408479743e-06, 1.866997808974702e-05, 1.2575365872180555e-05]], [[1.0, 0.0, 0.0, 0.0, 0.0, 0.0, 0.0, 0.0, 0.0, 0.0, 0.0, 0.0, 0.0, 0.0, 0.0, 0.0, 0.0, 0.0, 0.0, 0.0, 0.0, 0.0, 0.0, 0.0, 0.0], [0.9734206199645996, 0.026579374447464943, 0.0, 0.0, 0.0, 0.0, 0.0, 0.0, 0.0, 0.0, 0.0, 0.0, 0.0, 0.0, 0.0, 0.0, 0.0, 0.0, 0.0, 0.0, 0.0, 0.0, 0.0, 0.0, 0.0], [0.9503288865089417, 0.022364027798175812, 0.02730705961585045, 0.0, 0.0, 0.0, 0.0, 0.0, 0.0, 0.0, 0.0, 0.0, 0.0, 0.0, 0.0, 0.0, 0.0, 0.0, 0.0, 0.0, 0.0, 0.0, 0.0, 0.0, 0.0], [0.5872054100036621, 0.07601261883974075, 0.22324495017528534, 0.1135370135307312, 0.0, 0.0, 0.0, 0.0, 0.0, 0.0, 0.0, 0.0, 0.0, 0.0, 0.0, 0.0, 0.0, 0.0, 0.0, 0.0, 0.0, 0.0, 0.0, 0.0, 0.0], [0.9322242736816406, 0.012697609141469002, 0.011437267996370792, 0.027449117973446846, 0.016191696748137474, 0.0, 0.0, 0.0, 0.0, 0.0, 0.0, 0.0, 0.0, 0.0, 0.0, 0.0, 0.0, 0.0, 0.0, 0.0, 0.0, 0.0, 0.0, 0.0, 0.0], [0.6602283716201782, 0.0549071803689003, 0.08584431558847427, 0.05655365437269211, 0.10598631948232651, 0.036480095237493515, 0.0, 0.0, 0.0, 0.0, 0.0, 0.0, 0.0, 0.0, 0.0, 0.0, 0.0, 0.0, 0.0, 0.0, 0.0, 0.0, 0.0, 0.0, 0.0], [0.9265193343162537, 0.012757226824760437, 0.0061453222297132015, 0.018077624961733818, 0.004696432501077652, 0.023288194090127945, 0.008515892550349236, 0.0, 0.0, 0.0, 0.0, 0.0, 0.0, 0.0, 0.0, 0.0, 0.0, 0.0, 0.0, 0.0, 0.0, 0.0, 0.0, 0.0, 0.0], [0.7930289506912231, 0.05854777619242668, 0.03286789357662201, 0.027414631098508835, 0.01490858569741249, 0.02939198724925518, 0.018138354644179344, 0.025701837614178658, 0.0, 0.0, 0.0, 0.0, 0.0, 0.0, 0.0, 0.0, 0.0, 0.0, 0.0, 0.0, 0.0, 0.0, 0.0, 0.0, 0.0], [0.6388199925422668, 0.036907561123371124, 0.07155662029981613, 0.05358909070491791, 0.049575988203287125, 0.03464227914810181, 0.05732298642396927, 0.03605645149946213, 0.021529005840420723, 0.0, 0.0, 0.0, 0.0, 0.0, 0.0, 0.0, 0.0, 0.0, 0.0, 0.0, 0.0, 0.0, 0.0, 0.0, 0.0], [0.7106428146362305, 0.05174160748720169, 0.03644397854804993, 0.04253716394305229, 0.02605900913476944, 0.026657486334443092, 0.029585756361484528, 0.04036983847618103, 0.022632071748375893, 0.013330284506082535, 0.0, 0.0, 0.0, 0.0, 0.0, 0.0, 0.0, 0.0, 0.0, 0.0, 0.0, 0.0, 0.0, 0.0, 0.0], [0.9152131676673889, 0.008287077769637108, 0.0058616274036467075, 0.00987841747701168, 0.003947660326957703, 0.006518474314361811, 0.008615147322416306, 0.011789538897573948, 0.007977592758834362, 0.007325891871005297, 0.014585408382117748, 0.0, 0.0, 0.0, 0.0, 0.0, 0.0, 0.0, 0.0, 0.0, 0.0, 0.0, 0.0, 0.0, 0.0], [0.7016943097114563, 0.01678965799510479, 0.023177586495876312, 0.032013777643442154, 0.014749805442988873, 0.028519710525870323, 0.03451778367161751, 0.042204391211271286, 0.03366541862487793, 0.02172725275158882, 0.023610347881913185, 0.027329957112669945, 0.0, 0.0, 0.0, 0.0, 0.0, 0.0, 0.0, 0.0, 0.0, 0.0, 0.0, 0.0, 0.0], [0.6483712792396545, 0.01970430463552475, 0.01339779607951641, 0.016669990494847298, 0.015784485265612602, 0.013092122972011566, 0.02581937424838543, 0.07047898322343826, 0.07458776235580444, 0.04006698727607727, 0.007412252016365528, 0.011514629237353802, 0.043100129812955856, 0.0, 0.0, 0.0, 0.0, 0.0, 0.0, 0.0, 0.0, 0.0, 0.0, 0.0, 0.0], [0.7087326645851135, 0.02759512886404991, 0.01530264038592577, 0.014343459159135818, 0.016009125858545303, 0.010589953511953354, 0.017870571464300156, 0.021104702726006508, 0.03865065425634384, 0.025220392271876335, 0.014621933922171593, 0.01462707668542862, 0.042472366243600845, 0.03285921365022659, 0.0, 0.0, 0.0, 0.0, 0.0, 0.0, 0.0, 0.0, 0.0, 0.0, 0.0], [0.26318955421447754, 0.03462142124772072, 0.047332193702459335, 0.01883823797106743, 0.02692323550581932, 0.014574932865798473, 0.05969942733645439, 0.14890307188034058, 0.04326949641108513, 0.011593063361942768, 0.005812177900224924, 0.008035539649426937, 0.03242237865924835, 0.2348153442144394, 0.04996989667415619, 0.0, 0.0, 0.0, 0.0, 0.0, 0.0, 0.0, 0.0, 0.0, 0.0], [0.866232693195343, 0.010076384991407394, 0.006044090259820223, 0.0076827178709208965, 0.004978629760444164, 0.0039345924742519855, 0.009693480096757412, 0.013711236417293549, 0.005772276781499386, 0.0029875023756176233, 0.004492749460041523, 0.003962979651987553, 0.006987544242292643, 0.018699415028095245, 0.023619651794433594, 0.011123936623334885, 0.0, 0.0, 0.0, 0.0, 0.0, 0.0, 0.0, 0.0, 0.0], [0.9115087985992432, 0.00892406702041626, 0.0019543184898793697, 0.004243823699653149, 0.0018869750201702118, 0.002588536823168397, 0.001607289770618081, 0.0049020410515367985, 0.002535145962610841, 0.0021515963599085808, 0.0009371206979267299, 0.002051932504400611, 0.003845482598990202, 0.010798399336636066, 0.021527625620365143, 0.008159677498042583, 0.010377210564911366, 0.0, 0.0, 0.0, 0.0, 0.0, 0.0, 0.0, 0.0], [0.36698484420776367, 0.009670712985098362, 0.012815401889383793, 0.007462135050445795, 0.013216347433626652, 0.003033979330211878, 0.013423238880932331, 0.009475466795265675, 0.003096028696745634, 0.0028370548970997334, 0.0005983973387628794, 0.0005161253502592444, 0.0016570115694776177, 0.01869436725974083, 0.026297088712453842, 0.023075340315699577, 0.40119844675064087, 0.08594798296689987, 0.0, 0.0, 0.0, 0.0, 0.0, 0.0, 0.0], [0.7592172622680664, 0.010635025799274445, 0.002476181834936142, 0.00637719826772809, 0.0020312375854700804, 0.005256920121610165, 0.00229721050709486, 0.006496152374893427, 0.003367481753230095, 0.0029852879233658314, 0.0009082593605853617, 0.0014779112534597516, 0.0054187653586268425, 0.02111145853996277, 0.042740706354379654, 0.012093287892639637, 0.019192365929484367, 0.03953675553202629, 0.05638059601187706, 0.0, 0.0, 0.0, 0.0, 0.0, 0.0], [0.1722836047410965, 0.005153946578502655, 0.008588934317231178, 0.0070052603259682655, 0.005458572879433632, 0.0037460336461663246, 0.004813013132661581, 0.0018228249391540885, 0.001177731086499989, 0.0014653082471340895, 0.000891198287717998, 0.0008560327696613967, 0.004585866816341877, 0.01139428373426199, 0.03027517907321453, 0.009650579653680325, 0.16148176789283752, 0.12770643830299377, 0.402574360370636, 0.03906901925802231, 0.0, 0.0, 0.0, 0.0, 0.0], [0.81385338306427, 0.007113850209861994, 0.0029696174897253513, 0.0024627717211842537, 0.0023531902115792036, 0.002444990910589695, 0.0014686702052131295, 0.0011953164357692003, 0.0011897714575752616, 0.0008314558072015643, 0.001619662158191204, 0.0015959324082359672, 0.005139305721968412, 0.005673157051205635, 0.02181515097618103, 0.008639981970191002, 0.022458167746663094, 0.023355407640337944, 0.05135650932788849, 0.015017745085060596, 0.0074461172334849834, 0.0, 0.0, 0.0, 0.0], [0.7319610118865967, 0.009950265288352966, 0.002388804918155074, 0.004481963813304901, 0.001945549389347434, 0.0030628766398876905, 0.0019938426557928324, 0.002700556069612503, 0.004125270992517471, 0.006335110869258642, 0.00271627027541399, 0.0025030532851815224, 0.014765066094696522, 0.008838296867907047, 0.0514911413192749, 0.010098263621330261, 0.02519265189766884, 0.013335423544049263, 0.02976028248667717, 0.016887471079826355, 0.020662110298871994, 0.034804847091436386, 0.0, 0.0, 0.0], [0.6991912126541138, 0.013684211298823357, 0.0044456906616687775, 0.004108022432774305, 0.004274297971278429, 0.002016626298427582, 0.0027300918009132147, 0.0016296729445457458, 0.0012243809178471565, 0.0021237528417259455, 0.003963443450629711, 0.0018172027776017785, 0.004030582029372454, 0.0016436855075880885, 0.010881269350647926, 0.012011018581688404, 0.060980215668678284, 0.010755360126495361, 0.0343780480325222, 0.013121497817337513, 0.023166421800851822, 0.0801333487033844, 0.007689804770052433, 0.0, 0.0], [0.7408999800682068, 0.004545154515653849, 0.0011352808214724064, 0.0021893815137445927, 0.0012320446548983455, 0.002902289852499962, 0.0017091900808736682, 0.0019898233003914356, 0.0023201918229460716, 0.00243742810562253, 0.0020504717249423265, 0.0024810603354126215, 0.009025242179632187, 0.006485928315669298, 0.024937769398093224, 0.004577701911330223, 0.023144491016864777, 0.01012988667935133, 0.03454533964395523, 0.015647388994693756, 0.0119570167735219, 0.023114928975701332, 0.0227008406072855, 0.047841161489486694, 0.0], [0.0041625360026955605, 0.00032113000634126365, 0.001990854972973466, 0.0019413847476243973, 0.0018326907884329557, 0.00038249793578870595, 0.0018148684175685048, 0.0008391230367124081, 0.0001154650017269887, 6.44832180114463e-05, 5.200867963139899e-05, 4.5854143536416814e-05, 0.0001297631097259, 0.0022661909461021423, 0.0017833507154136896, 0.0005685337819159031, 0.30698105692863464, 0.051390666514635086, 0.5619325041770935, 0.04797430336475372, 0.008073166012763977, 0.002095035742968321, 0.0006326281582005322, 0.0011165852192789316, 0.0014933256898075342]]], \"attentionHeadNames\": [\"L8H10\", \"L7H9\", \"L7H3\"], \"tokens\": [\"<|endoftext|>\", \"After\", \" John\", \",\", \" Mary\", \" and\", \" Jim\", \" went\", \" to\", \" the\", \" grocery\", \" store\", \" and\", \" return\", \",\", \" \", \" Jim\", \" and\", \" John\", \" gave\", \" a\", \" bottle\", \" of\", \" milk\", \" to\"]}\n",
       "    )\n",
       "    </script></div><div style='max-width: 700px;'><h2>Top Late Heads</h2><br/><div id=\"circuits-vis-a857a47d-4b7b\" style=\"margin: 15px 0;\"/>\n",
       "    <script crossorigin type=\"module\">\n",
       "    import { render, AttentionHeads } from \"https://unpkg.com/circuitsvis@1.43.2/dist/cdn/esm.js\";\n",
       "    render(\n",
       "      \"circuits-vis-a857a47d-4b7b\",\n",
       "      AttentionHeads,\n",
       "      {\"attention\": [[[1.0, 0.0, 0.0, 0.0, 0.0, 0.0, 0.0, 0.0, 0.0, 0.0, 0.0, 0.0, 0.0, 0.0, 0.0, 0.0, 0.0, 0.0, 0.0, 0.0, 0.0, 0.0, 0.0, 0.0, 0.0], [0.9738439321517944, 0.026156030595302582, 0.0, 0.0, 0.0, 0.0, 0.0, 0.0, 0.0, 0.0, 0.0, 0.0, 0.0, 0.0, 0.0, 0.0, 0.0, 0.0, 0.0, 0.0, 0.0, 0.0, 0.0, 0.0, 0.0], [0.912888765335083, 0.062494631856679916, 0.02461661770939827, 0.0, 0.0, 0.0, 0.0, 0.0, 0.0, 0.0, 0.0, 0.0, 0.0, 0.0, 0.0, 0.0, 0.0, 0.0, 0.0, 0.0, 0.0, 0.0, 0.0, 0.0, 0.0], [0.759903073310852, 0.04753446206450462, 0.12011592835187912, 0.07244648784399033, 0.0, 0.0, 0.0, 0.0, 0.0, 0.0, 0.0, 0.0, 0.0, 0.0, 0.0, 0.0, 0.0, 0.0, 0.0, 0.0, 0.0, 0.0, 0.0, 0.0, 0.0], [0.8739426136016846, 0.05241372808814049, 0.03680930286645889, 0.027091000229120255, 0.009743381291627884, 0.0, 0.0, 0.0, 0.0, 0.0, 0.0, 0.0, 0.0, 0.0, 0.0, 0.0, 0.0, 0.0, 0.0, 0.0, 0.0, 0.0, 0.0, 0.0, 0.0], [0.683384895324707, 0.0275883711874485, 0.09758727997541428, 0.046084482222795486, 0.10987874120473862, 0.03547627478837967, 0.0, 0.0, 0.0, 0.0, 0.0, 0.0, 0.0, 0.0, 0.0, 0.0, 0.0, 0.0, 0.0, 0.0, 0.0, 0.0, 0.0, 0.0, 0.0], [0.8684506416320801, 0.04681728407740593, 0.019893663004040718, 0.02655269205570221, 0.007027844898402691, 0.025818387046456337, 0.005439439322799444, 0.0, 0.0, 0.0, 0.0, 0.0, 0.0, 0.0, 0.0, 0.0, 0.0, 0.0, 0.0, 0.0, 0.0, 0.0, 0.0, 0.0, 0.0], [0.722636878490448, 0.07097023725509644, 0.024669725447893143, 0.03970300406217575, 0.019717758521437645, 0.08638682961463928, 0.012845462188124657, 0.02307007648050785, 0.0, 0.0, 0.0, 0.0, 0.0, 0.0, 0.0, 0.0, 0.0, 0.0, 0.0, 0.0, 0.0, 0.0, 0.0, 0.0, 0.0], [0.5715559720993042, 0.03686443716287613, 0.08558475226163864, 0.06537966430187225, 0.08314383029937744, 0.067884661257267, 0.04704960435628891, 0.022837983444333076, 0.01969906874001026, 0.0, 0.0, 0.0, 0.0, 0.0, 0.0, 0.0, 0.0, 0.0, 0.0, 0.0, 0.0, 0.0, 0.0, 0.0, 0.0], [0.7170517444610596, 0.04357308894395828, 0.03917187079787254, 0.047331225126981735, 0.026585809886455536, 0.07425597310066223, 0.018943237140774727, 0.007152278907597065, 0.012866008095443249, 0.013068730011582375, 0.0, 0.0, 0.0, 0.0, 0.0, 0.0, 0.0, 0.0, 0.0, 0.0, 0.0, 0.0, 0.0, 0.0, 0.0], [0.8842698335647583, 0.025210095569491386, 0.014525415375828743, 0.009989781305193901, 0.008593487553298473, 0.005508742295205593, 0.008354845456779003, 0.002347394824028015, 0.009490367956459522, 0.016443178057670593, 0.01526685245335102, 0.0, 0.0, 0.0, 0.0, 0.0, 0.0, 0.0, 0.0, 0.0, 0.0, 0.0, 0.0, 0.0, 0.0], [0.5654528737068176, 0.10232249647378922, 0.08230014145374298, 0.03614276647567749, 0.03495623171329498, 0.013039201498031616, 0.023462092503905296, 0.018860898911952972, 0.027243217453360558, 0.030959082767367363, 0.020855490118265152, 0.044405415654182434, 0.0, 0.0, 0.0, 0.0, 0.0, 0.0, 0.0, 0.0, 0.0, 0.0, 0.0, 0.0, 0.0], [0.38767844438552856, 0.029366616159677505, 0.06760764122009277, 0.07039255648851395, 0.05110551044344902, 0.04029686003923416, 0.03148624673485756, 0.07221416383981705, 0.046433571726083755, 0.04907877370715141, 0.03152807429432869, 0.08128762245178223, 0.04152396321296692, 0.0, 0.0, 0.0, 0.0, 0.0, 0.0, 0.0, 0.0, 0.0, 0.0, 0.0, 0.0], [0.5117579698562622, 0.04433979466557503, 0.07065781205892563, 0.035303931683301926, 0.030653171241283417, 0.011012398637831211, 0.04164830967783928, 0.04782882332801819, 0.03028065152466297, 0.02082889713346958, 0.02677452191710472, 0.0511070117354393, 0.021419323980808258, 0.056387390941381454, 0.0, 0.0, 0.0, 0.0, 0.0, 0.0, 0.0, 0.0, 0.0, 0.0, 0.0], [0.32965272665023804, 0.024378571659326553, 0.08838927745819092, 0.042205579578876495, 0.07243842631578445, 0.08444575220346451, 0.07640048116445541, 0.06398874521255493, 0.05076378583908081, 0.015406059101223946, 0.009720182977616787, 0.01853288523852825, 0.023364663124084473, 0.06954090297222137, 0.030771946534514427, 0.0, 0.0, 0.0, 0.0, 0.0, 0.0, 0.0, 0.0, 0.0, 0.0], [0.8360132575035095, 0.036995820701122284, 0.01518066693097353, 0.010361146181821823, 0.017102064564824104, 0.013856900855898857, 0.010596566833555698, 0.002082712948322296, 0.003917205147445202, 0.002854631282389164, 0.0010012454586103559, 0.0016010708641260862, 0.002696865936741233, 0.0020626874174922705, 0.014195548370480537, 0.02948157675564289, 0.0, 0.0, 0.0, 0.0, 0.0, 0.0, 0.0, 0.0, 0.0], [0.6290279030799866, 0.07830740511417389, 0.007868921384215355, 0.010649559088051319, 0.006011156365275383, 0.006842268630862236, 0.005159909836947918, 0.005312362685799599, 0.012605954892933369, 0.009076454676687717, 0.009033502079546452, 0.024511724710464478, 0.017203960567712784, 0.042647361755371094, 0.049140557646751404, 0.034716639667749405, 0.05188431590795517, 0.0, 0.0, 0.0, 0.0, 0.0, 0.0, 0.0, 0.0], [0.430759996175766, 0.015222733840346336, 0.025304634124040604, 0.013320157304406166, 0.0571880005300045, 0.006150069180876017, 0.01757286861538887, 0.0017492284532636404, 0.0016418586019426584, 0.002040889812633395, 0.0009411776554770768, 0.0014875134220346808, 0.0018973828991875052, 0.0019856507424265146, 0.0074933674186468124, 0.016590865328907967, 0.38144931197166443, 0.01720423437654972, 0.0, 0.0, 0.0, 0.0, 0.0, 0.0, 0.0], [0.5079380869865417, 0.06542433798313141, 0.008073127828538418, 0.014470740221440792, 0.0046977149322628975, 0.030899258330464363, 0.003370675491169095, 0.008285603486001492, 0.009089035913348198, 0.007708029355853796, 0.008696216158568859, 0.024801120162010193, 0.02581760659813881, 0.06985651701688766, 0.041224852204322815, 0.020274784415960312, 0.04202236980199814, 0.07759395241737366, 0.029756011441349983, 0.0, 0.0, 0.0, 0.0, 0.0, 0.0], [0.286807119846344, 0.014448056928813457, 0.016995737329125404, 0.022947965189814568, 0.02676827274262905, 0.05625510960817337, 0.01836497336626053, 0.014256807044148445, 0.013369309715926647, 0.007296474184840918, 0.008487331680953503, 0.015965880826115608, 0.008786113932728767, 0.03105778992176056, 0.01989879459142685, 0.031737130135297775, 0.13417279720306396, 0.07564335316419601, 0.14297693967819214, 0.05376402661204338, 0.0, 0.0, 0.0, 0.0, 0.0], [0.5286826491355896, 0.02735135704278946, 0.022308815270662308, 0.015291706658899784, 0.021923532709479332, 0.03688069060444832, 0.01508553046733141, 0.0063671632669866085, 0.006224082317203283, 0.005076495464891195, 0.008051151409745216, 0.010854793712496758, 0.010402007028460503, 0.021718047559261322, 0.026580974459648132, 0.028442103415727615, 0.07398980110883713, 0.0249238982796669, 0.04961644485592842, 0.024082178249955177, 0.03614659607410431, 0.0, 0.0, 0.0, 0.0], [0.6873535513877869, 0.011924052610993385, 0.028090965002775192, 0.01937411166727543, 0.023015199229121208, 0.021258888766169548, 0.014494718052446842, 0.005729896482080221, 0.00712087657302618, 0.007000145968049765, 0.006459078285843134, 0.011010921560227871, 0.005223714280873537, 0.005915931425988674, 0.013422896154224873, 0.006065751891583204, 0.030657842755317688, 0.022385073825716972, 0.02706150896847248, 0.011786836199462414, 0.020579904317855835, 0.014068047516047955, 0.0, 0.0, 0.0], [0.3806765377521515, 0.015663553029298782, 0.04451118782162666, 0.023137670010328293, 0.04222964495420456, 0.022810231894254684, 0.027072938159108162, 0.0061648511327803135, 0.0042772721499204636, 0.0034676797222346067, 0.005781365092843771, 0.0039650932885706425, 0.004286131355911493, 0.0010697408579289913, 0.009950659237802029, 0.031138211488723755, 0.17738129198551178, 0.021282104775309563, 0.10267508774995804, 0.015899790450930595, 0.017292845994234085, 0.027013668790459633, 0.012252439744770527, 0.0, 0.0], [0.6113143563270569, 0.019237862899899483, 0.02030780538916588, 0.012051175348460674, 0.012111521326005459, 0.012377784587442875, 0.009293793700635433, 0.005067449528723955, 0.011265399865806103, 0.011618303135037422, 0.014318716712296009, 0.02383837103843689, 0.006057333201169968, 0.0073506394401192665, 0.015727432444691658, 0.012144999578595161, 0.02496163547039032, 0.018893681466579437, 0.0190163291990757, 0.0177333764731884, 0.026747312396764755, 0.02435588277876377, 0.024691995233297348, 0.03951675444841385, 0.0], [0.09170587360858917, 0.008790137246251106, 0.03816007822751999, 0.013338964432477951, 0.038910288363695145, 0.004626106005162001, 0.021685129031538963, 0.001246472354978323, 0.0007199951796792448, 0.0010442811762914062, 0.0005361181101761758, 0.0008087619207799435, 0.0005414691986516118, 0.00047898554475978017, 0.0024148498196154833, 0.02308216691017151, 0.5215944051742554, 0.009604903869330883, 0.20307545363903046, 0.005546114407479763, 0.004624738357961178, 0.0005076622474007308, 0.0008796711335889995, 0.003917147405445576, 0.002160198986530304]], [[1.0, 0.0, 0.0, 0.0, 0.0, 0.0, 0.0, 0.0, 0.0, 0.0, 0.0, 0.0, 0.0, 0.0, 0.0, 0.0, 0.0, 0.0, 0.0, 0.0, 0.0, 0.0, 0.0, 0.0, 0.0], [0.8979308009147644, 0.10206916928291321, 0.0, 0.0, 0.0, 0.0, 0.0, 0.0, 0.0, 0.0, 0.0, 0.0, 0.0, 0.0, 0.0, 0.0, 0.0, 0.0, 0.0, 0.0, 0.0, 0.0, 0.0, 0.0, 0.0], [0.8729650378227234, 0.04218238592147827, 0.0848526880145073, 0.0, 0.0, 0.0, 0.0, 0.0, 0.0, 0.0, 0.0, 0.0, 0.0, 0.0, 0.0, 0.0, 0.0, 0.0, 0.0, 0.0, 0.0, 0.0, 0.0, 0.0, 0.0], [0.3247550427913666, 0.027095647528767586, 0.46381112933158875, 0.18433810770511627, 0.0, 0.0, 0.0, 0.0, 0.0, 0.0, 0.0, 0.0, 0.0, 0.0, 0.0, 0.0, 0.0, 0.0, 0.0, 0.0, 0.0, 0.0, 0.0, 0.0, 0.0], [0.6239738464355469, 0.027887580916285515, 0.10586688667535782, 0.1380114108324051, 0.10426029562950134, 0.0, 0.0, 0.0, 0.0, 0.0, 0.0, 0.0, 0.0, 0.0, 0.0, 0.0, 0.0, 0.0, 0.0, 0.0, 0.0, 0.0, 0.0, 0.0, 0.0], [0.18250590562820435, 0.012433386407792568, 0.29612597823143005, 0.13473808765411377, 0.2847920358181, 0.08940460532903671, 0.0, 0.0, 0.0, 0.0, 0.0, 0.0, 0.0, 0.0, 0.0, 0.0, 0.0, 0.0, 0.0, 0.0, 0.0, 0.0, 0.0, 0.0, 0.0], [0.4079042971134186, 0.020753171294927597, 0.20631179213523865, 0.1096625030040741, 0.09268713742494583, 0.055323630571365356, 0.10735747218132019, 0.0, 0.0, 0.0, 0.0, 0.0, 0.0, 0.0, 0.0, 0.0, 0.0, 0.0, 0.0, 0.0, 0.0, 0.0, 0.0, 0.0, 0.0], [0.8634949922561646, 0.02658367156982422, 0.004181889351457357, 0.05373094603419304, 0.0033986642956733704, 0.022977590560913086, 0.0019379828590899706, 0.023694247007369995, 0.0, 0.0, 0.0, 0.0, 0.0, 0.0, 0.0, 0.0, 0.0, 0.0, 0.0, 0.0, 0.0, 0.0, 0.0, 0.0, 0.0], [0.21002493798732758, 0.025435704737901688, 0.20914462208747864, 0.06592583656311035, 0.14231182634830475, 0.030056167393922806, 0.25567570328712463, 0.03409799560904503, 0.027327202260494232, 0.0, 0.0, 0.0, 0.0, 0.0, 0.0, 0.0, 0.0, 0.0, 0.0, 0.0, 0.0, 0.0, 0.0, 0.0, 0.0], [0.6242587566375732, 0.03304111585021019, 0.036971479654312134, 0.05037368834018707, 0.02257029339671135, 0.05813517048954964, 0.01723746582865715, 0.016345104202628136, 0.06808111071586609, 0.07298588007688522, 0.0, 0.0, 0.0, 0.0, 0.0, 0.0, 0.0, 0.0, 0.0, 0.0, 0.0, 0.0, 0.0, 0.0, 0.0], [0.8173179626464844, 0.016834145411849022, 0.007294452283531427, 0.016665248200297356, 0.001353433821350336, 0.010659032501280308, 0.002090758876875043, 0.019662678241729736, 0.017081502825021744, 0.04296588525176048, 0.04807492345571518, 0.0, 0.0, 0.0, 0.0, 0.0, 0.0, 0.0, 0.0, 0.0, 0.0, 0.0, 0.0, 0.0, 0.0], [0.013134762644767761, 0.009498253464698792, 0.5092244744300842, 0.04143957048654556, 0.07954834401607513, 0.026486773043870926, 0.2923159599304199, 0.006192346569150686, 0.006315675098448992, 0.00944521278142929, 0.0011256136931478977, 0.005272888578474522, 0.0, 0.0, 0.0, 0.0, 0.0, 0.0, 0.0, 0.0, 0.0, 0.0, 0.0, 0.0, 0.0], [0.02448638156056404, 0.006308132316917181, 0.21260438859462738, 0.03829159215092659, 0.29539310932159424, 0.029309770092368126, 0.32937178015708923, 0.016986027359962463, 0.006366746500134468, 0.0012666390975937247, 0.0020915959030389786, 0.003987959586083889, 0.03353586047887802, 0.0, 0.0, 0.0, 0.0, 0.0, 0.0, 0.0, 0.0, 0.0, 0.0, 0.0, 0.0], [0.12164583057165146, 0.014040842652320862, 0.2375398576259613, 0.07869647443294525, 0.1528405249118805, 0.07020308822393417, 0.19281430542469025, 0.01138367597013712, 0.005771238822489977, 0.008204060606658459, 0.008505546487867832, 0.011651581153273582, 0.06199890375137329, 0.02470416948199272, 0.0, 0.0, 0.0, 0.0, 0.0, 0.0, 0.0, 0.0, 0.0, 0.0, 0.0], [0.009860504418611526, 0.0047051748260855675, 0.1098182275891304, 0.021881308406591415, 0.277692973613739, 0.01666022650897503, 0.5371700525283813, 0.0013624511193484068, 0.000997222145088017, 0.0011464495910331607, 0.0001291281805606559, 0.0004758007125928998, 0.006720923352986574, 0.001438612467609346, 0.009940961375832558, 0.0, 0.0, 0.0, 0.0, 0.0, 0.0, 0.0, 0.0, 0.0, 0.0], [0.5480992197990417, 0.03879379853606224, 0.04421796277165413, 0.0906938910484314, 0.04783490300178528, 0.026246286928653717, 0.0860619992017746, 0.006134707015007734, 0.004210872575640678, 0.0053766462951898575, 0.0005852816975675523, 0.0027186053339391947, 0.018584134057164192, 0.0037211854942142963, 0.05012543499469757, 0.026595115661621094, 0.0, 0.0, 0.0, 0.0, 0.0, 0.0, 0.0, 0.0, 0.0], [0.09944356977939606, 0.013377092778682709, 0.03047143667936325, 0.143180713057518, 0.05048716440796852, 0.0496085025370121, 0.15084226429462433, 0.007209631614387035, 0.0017347735119983554, 0.0016205344581976533, 0.0001745218614814803, 0.0008546101744286716, 0.022603783756494522, 0.004292279947549105, 0.039900392293930054, 0.004076844546943903, 0.3801218867301941, 0.0, 0.0, 0.0, 0.0, 0.0, 0.0, 0.0, 0.0], [0.027918310835957527, 0.0026183295994997025, 0.03400165215134621, 0.035097260028123856, 0.5428775548934937, 0.025951411575078964, 0.09954967349767685, 0.0004502817173488438, 0.00045873119961470366, 0.0006965425563976169, 1.6747617337387055e-05, 9.502425382379442e-05, 0.003880780888721347, 0.00032328307861462235, 0.012606809847056866, 0.008013891987502575, 0.1497924029827118, 0.05565136298537254, 0.0, 0.0, 0.0, 0.0, 0.0, 0.0, 0.0], [0.02443874627351761, 0.006924885790795088, 0.03595203906297684, 0.07393909990787506, 0.07048873603343964, 0.0719725638628006, 0.1289987862110138, 0.006617793347686529, 0.0018403632566332817, 0.0013146820710971951, 0.0001693538506515324, 0.0006200318457558751, 0.02589794062077999, 0.002958372002467513, 0.030345873907208443, 0.0032506173010915518, 0.32951807975769043, 0.08550168573856354, 0.09925033152103424, 0.0, 0.0, 0.0, 0.0, 0.0, 0.0], [0.008160312660038471, 0.0027213781140744686, 0.049041997641325, 0.01968781091272831, 0.3097977340221405, 0.019499750807881355, 0.2220924198627472, 0.0006137824384495616, 0.0003931363462470472, 0.0011167554184794426, 0.00016661638801451772, 0.0003574092697817832, 0.004049315582960844, 0.0006995224975980818, 0.010064690373837948, 0.0034478972665965557, 0.25687336921691895, 0.03961455076932907, 0.046402815729379654, 0.00519872922450304, 0.0, 0.0, 0.0, 0.0, 0.0], [0.4187193810939789, 0.020606232807040215, 0.01997317187488079, 0.034077197313308716, 0.011142436414957047, 0.0189152043312788, 0.004577816464006901, 0.012024513445794582, 0.005112856160849333, 0.0029280732851475477, 0.008534019812941551, 0.006682405713945627, 0.009727349504828453, 0.03951761871576309, 0.024062687531113625, 0.03857671841979027, 0.013666626997292042, 0.03189452365040779, 0.007661751471459866, 0.20824389159679413, 0.06335553526878357, 0.0, 0.0, 0.0, 0.0], [0.17161092162132263, 0.024571217596530914, 0.037215691059827805, 0.08429621905088425, 0.01929745264351368, 0.05476302281022072, 0.025539977476000786, 0.01207452081143856, 0.009909619577229023, 0.013175766915082932, 0.0010939933126792312, 0.0023085966240614653, 0.028362883254885674, 0.017667533829808235, 0.05581095442175865, 0.07125335931777954, 0.06100703775882721, 0.06834746152162552, 0.02104335092008114, 0.0876307487487793, 0.10536060482263565, 0.027659131214022636, 0.0, 0.0, 0.0], [0.11506244540214539, 0.01749754138290882, 0.07668539881706238, 0.0409897044301033, 0.1402779072523117, 0.0334828682243824, 0.10262276232242584, 0.0021442980505526066, 0.0034912738483399153, 0.0038818742614239454, 0.0015774248167872429, 0.0009760109824128449, 0.007458328269422054, 0.0009567034430801868, 0.023296091705560684, 0.030993059277534485, 0.11869315057992935, 0.07747727632522583, 0.03570973500609398, 0.027577105909585953, 0.010216635651886463, 0.04838443174958229, 0.08054795861244202, 0.0, 0.0], [0.13818028569221497, 0.020472008734941483, 0.07548537105321884, 0.044367533177137375, 0.01888756826519966, 0.03200489282608032, 0.03176932781934738, 0.00940644834190607, 0.007326007355004549, 0.007118696812540293, 0.0014220221200957894, 0.003046893747523427, 0.02163245715200901, 0.012204109691083431, 0.05660327896475792, 0.10820860415697098, 0.07730758190155029, 0.06163368374109268, 0.03093598783016205, 0.043348558247089386, 0.04563925415277481, 0.03815273568034172, 0.0755264163017273, 0.03932025656104088, 0.0], [0.0031587870325893164, 0.0014398788334801793, 0.028277933597564697, 0.02001572586596012, 0.46785247325897217, 0.013167577795684338, 0.18137703835964203, 0.00012189380504423752, 9.376535308547318e-05, 0.0002708638785406947, 9.251933988707606e-06, 4.052196891279891e-05, 0.001041472190991044, 9.312834299635142e-05, 0.005364934913814068, 0.0029330304823815823, 0.21146851778030396, 0.030593499541282654, 0.023411046713590622, 0.0013848076341673732, 8.847427670843899e-05, 2.7713418603525497e-05, 0.0002526382450014353, 0.00030088084167800844, 0.007214163895696402]], [[1.0, 0.0, 0.0, 0.0, 0.0, 0.0, 0.0, 0.0, 0.0, 0.0, 0.0, 0.0, 0.0, 0.0, 0.0, 0.0, 0.0, 0.0, 0.0, 0.0, 0.0, 0.0, 0.0, 0.0, 0.0], [0.9374700784683228, 0.06252991408109665, 0.0, 0.0, 0.0, 0.0, 0.0, 0.0, 0.0, 0.0, 0.0, 0.0, 0.0, 0.0, 0.0, 0.0, 0.0, 0.0, 0.0, 0.0, 0.0, 0.0, 0.0, 0.0, 0.0], [0.9412386417388916, 0.020480560138821602, 0.03828079625964165, 0.0, 0.0, 0.0, 0.0, 0.0, 0.0, 0.0, 0.0, 0.0, 0.0, 0.0, 0.0, 0.0, 0.0, 0.0, 0.0, 0.0, 0.0, 0.0, 0.0, 0.0, 0.0], [0.811972439289093, 0.036437273025512695, 0.07202401012182236, 0.07956631481647491, 0.0, 0.0, 0.0, 0.0, 0.0, 0.0, 0.0, 0.0, 0.0, 0.0, 0.0, 0.0, 0.0, 0.0, 0.0, 0.0, 0.0, 0.0, 0.0, 0.0, 0.0], [0.8230701684951782, 0.0233079232275486, 0.034882523119449615, 0.062272343784570694, 0.056467048823833466, 0.0, 0.0, 0.0, 0.0, 0.0, 0.0, 0.0, 0.0, 0.0, 0.0, 0.0, 0.0, 0.0, 0.0, 0.0, 0.0, 0.0, 0.0, 0.0, 0.0], [0.6690689325332642, 0.018453678116202354, 0.07722410559654236, 0.059577297419309616, 0.10875505208969116, 0.06692096590995789, 0.0, 0.0, 0.0, 0.0, 0.0, 0.0, 0.0, 0.0, 0.0, 0.0, 0.0, 0.0, 0.0, 0.0, 0.0, 0.0, 0.0, 0.0, 0.0], [0.7433889508247375, 0.027123330160975456, 0.04980657622218132, 0.03356648236513138, 0.10002294182777405, 0.006768607068806887, 0.039323046803474426, 0.0, 0.0, 0.0, 0.0, 0.0, 0.0, 0.0, 0.0, 0.0, 0.0, 0.0, 0.0, 0.0, 0.0, 0.0, 0.0, 0.0, 0.0], [0.8600085973739624, 0.030501333996653557, 0.01953382045030594, 0.015336355194449425, 0.055500127375125885, 0.0046673184260725975, 0.009481500834226608, 0.0049709053710103035, 0.0, 0.0, 0.0, 0.0, 0.0, 0.0, 0.0, 0.0, 0.0, 0.0, 0.0, 0.0, 0.0, 0.0, 0.0, 0.0, 0.0], [0.8001765608787537, 0.03157429397106171, 0.04645055904984474, 0.023438572883605957, 0.046958837658166885, 0.008848893456161022, 0.030732683837413788, 0.0027970445808023214, 0.009022627025842667, 0.0, 0.0, 0.0, 0.0, 0.0, 0.0, 0.0, 0.0, 0.0, 0.0, 0.0, 0.0, 0.0, 0.0, 0.0, 0.0], [0.8600288033485413, 0.029583318158984184, 0.016742879524827003, 0.016970017924904823, 0.016665397211909294, 0.00644534220919013, 0.010682911612093449, 0.0019518891349434853, 0.01134524680674076, 0.029584171250462532, 0.0, 0.0, 0.0, 0.0, 0.0, 0.0, 0.0, 0.0, 0.0, 0.0, 0.0, 0.0, 0.0, 0.0, 0.0], [0.9080935716629028, 0.027304047718644142, 0.008151245303452015, 0.013678629882633686, 0.014774033799767494, 0.003305710619315505, 0.005401805508881807, 0.0029278455767780542, 0.002749817678704858, 0.002439154777675867, 0.011174056679010391, 0.0, 0.0, 0.0, 0.0, 0.0, 0.0, 0.0, 0.0, 0.0, 0.0, 0.0, 0.0, 0.0, 0.0], [0.30050140619277954, 0.052370037883520126, 0.1197127252817154, 0.03901302069425583, 0.33557432889938354, 0.010525117628276348, 0.11348053067922592, 0.002379746176302433, 0.0030427593737840652, 0.0029460862278938293, 0.004884414840489626, 0.015569896437227726, 0.0, 0.0, 0.0, 0.0, 0.0, 0.0, 0.0, 0.0, 0.0, 0.0, 0.0, 0.0, 0.0], [0.5185335278511047, 0.034104760736227036, 0.10116022080183029, 0.025301821529865265, 0.16330192983150482, 0.013479121029376984, 0.10285360366106033, 0.0041874065063893795, 0.0030699260532855988, 0.003845102386549115, 0.011895985342562199, 0.008487734943628311, 0.009778901003301144, 0.0, 0.0, 0.0, 0.0, 0.0, 0.0, 0.0, 0.0, 0.0, 0.0, 0.0, 0.0], [0.5653917789459229, 0.029821712523698807, 0.07020872831344604, 0.03047310933470726, 0.18440453708171844, 0.00879975501447916, 0.057565901428461075, 0.0036982286255806684, 0.001965864561498165, 0.0025935235898941755, 0.022306906059384346, 0.011671901680529118, 0.00688164122402668, 0.004216318018734455, 0.0, 0.0, 0.0, 0.0, 0.0, 0.0, 0.0, 0.0, 0.0, 0.0, 0.0], [0.681826651096344, 0.027075279504060745, 0.053727105259895325, 0.02183840237557888, 0.10763297975063324, 0.0124796312302351, 0.042634543031454086, 0.001713744830340147, 0.0020709566306322813, 0.00285061402246356, 0.011313657276332378, 0.006642312742769718, 0.005795387551188469, 0.0021993224509060383, 0.02019946649670601, 0.0, 0.0, 0.0, 0.0, 0.0, 0.0, 0.0, 0.0, 0.0, 0.0], [0.7429198622703552, 0.03046097420156002, 0.03423955664038658, 0.0156412310898304, 0.051879338920116425, 0.006736528128385544, 0.018687384203076363, 0.0014756531454622746, 0.0010733924573287368, 0.0009778633248060942, 0.0018164529465138912, 0.0015705629484727979, 0.002058063866570592, 0.000580238935071975, 0.010249282233417034, 0.07963362336158752, 0.0, 0.0, 0.0, 0.0, 0.0, 0.0, 0.0, 0.0, 0.0], [0.46643248200416565, 0.019244983792304993, 0.04093708470463753, 0.01470956951379776, 0.12872633337974548, 0.004583684727549553, 0.02236223965883255, 0.0044028074480593204, 0.0007551861344836652, 0.0008594622486270964, 0.018183309584856033, 0.010181277059018612, 0.0022791416849941015, 0.003918136470019817, 0.01129208318889141, 0.19118274748325348, 0.05994945764541626, 0.0, 0.0, 0.0, 0.0, 0.0, 0.0, 0.0, 0.0], [0.6564584970474243, 0.012221988290548325, 0.03465103358030319, 0.015580030158162117, 0.12176332622766495, 0.011614013463258743, 0.029355879873037338, 0.000901959661860019, 0.0009917857823893428, 0.0010988825233653188, 0.004045466892421246, 0.0021209451369941235, 0.0019861487671732903, 0.0011566049652174115, 0.009650920517742634, 0.06491680443286896, 0.01987791620194912, 0.01160773541778326, 0.0, 0.0, 0.0, 0.0, 0.0, 0.0, 0.0], [0.4899100363254547, 0.020098688080906868, 0.021668143570423126, 0.02075071819126606, 0.07680179923772812, 0.008967796340584755, 0.01567034237086773, 0.0034165435936301947, 0.0008550112252123654, 0.0009213374578393996, 0.009950359351933002, 0.009527799673378468, 0.0028822387102991343, 0.004170007072389126, 0.013800112530589104, 0.19626392424106598, 0.041965264827013016, 0.015663044527173042, 0.0467168428003788, 0.0, 0.0, 0.0, 0.0, 0.0, 0.0], [0.5190324187278748, 0.022445477545261383, 0.049833618104457855, 0.01662568561732769, 0.12758710980415344, 0.012047982774674892, 0.03755005821585655, 0.0014146615285426378, 0.002282315632328391, 0.00449034571647644, 0.013779109343886375, 0.005672618746757507, 0.003738617757335305, 0.002402407582849264, 0.016221793368458748, 0.08690281957387924, 0.02599192224442959, 0.013247501105070114, 0.02211935818195343, 0.016614148393273354, 0.0, 0.0, 0.0, 0.0, 0.0], [0.6294369697570801, 0.016575375571846962, 0.03421037644147873, 0.009474938735365868, 0.053971316665410995, 0.005799676291644573, 0.020926758646965027, 0.0039643701165914536, 0.004389886744320393, 0.005296030081808567, 0.0494685061275959, 0.018151484429836273, 0.002560707274824381, 0.008307402953505516, 0.009467852301895618, 0.061709653586149216, 0.01666194573044777, 0.006023897789418697, 0.016559531912207603, 0.02167646400630474, 0.005366880912333727, 0.0, 0.0, 0.0, 0.0], [0.4257907271385193, 0.016471408307552338, 0.05405299738049507, 0.020297378301620483, 0.07051390409469604, 0.008630003780126572, 0.05199470371007919, 0.004127818159759045, 0.0015458547277376056, 0.0011711372062563896, 0.0071099549531936646, 0.0045014857314527035, 0.004521636757999659, 0.007337859831750393, 0.014907277189195156, 0.14376895129680634, 0.0539998784661293, 0.009283969178795815, 0.039873745292425156, 0.027552058920264244, 0.004707173444330692, 0.027840103954076767, 0.0, 0.0, 0.0], [0.6010223031044006, 0.014279868453741074, 0.05193397402763367, 0.010075495578348637, 0.06534278392791748, 0.005271474830806255, 0.040465567260980606, 0.000708914187271148, 0.0013748506316915154, 0.002816913416609168, 0.02195112220942974, 0.0027044792659580708, 0.0019219372188672423, 0.0007452163263224065, 0.0076647293753921986, 0.06699596345424652, 0.01730521209537983, 0.004798654932528734, 0.013061173260211945, 0.005538762081414461, 0.0019634959753602743, 0.03708964213728905, 0.024967538192868233, 0.0, 0.0], [0.35585135221481323, 0.0273470189422369, 0.06511193513870239, 0.01649712584912777, 0.0850084125995636, 0.008509046398103237, 0.06650802493095398, 0.002191212959587574, 0.001885587815195322, 0.0013408286031335592, 0.006351508665829897, 0.005340087227523327, 0.003640740877017379, 0.004198831971734762, 0.01701330952346325, 0.12837672233581543, 0.0607210248708725, 0.008004747331142426, 0.023562677204608917, 0.009161091409623623, 0.0028015500865876675, 0.032993581146001816, 0.015145054087042809, 0.05243851989507675, 0.0], [0.4631921350955963, 0.017242979258298874, 0.03954806923866272, 0.019181737676262856, 0.11644135415554047, 0.01103231217712164, 0.03986261785030365, 0.0009792385390028358, 0.0010462079662829638, 0.0016584486002102494, 0.003579160198569298, 0.0020001514349132776, 0.0023129333276301622, 0.001160009647719562, 0.010503720492124557, 0.1350744515657425, 0.030448783189058304, 0.010852578096091747, 0.022128861397504807, 0.011947673745453358, 0.0008890244062058628, 0.0046109771355986595, 0.0003746530564967543, 0.01979803666472435, 0.034133896231651306]], [[1.0, 0.0, 0.0, 0.0, 0.0, 0.0, 0.0, 0.0, 0.0, 0.0, 0.0, 0.0, 0.0, 0.0, 0.0, 0.0, 0.0, 0.0, 0.0, 0.0, 0.0, 0.0, 0.0, 0.0, 0.0], [0.9632198810577393, 0.03678012639284134, 0.0, 0.0, 0.0, 0.0, 0.0, 0.0, 0.0, 0.0, 0.0, 0.0, 0.0, 0.0, 0.0, 0.0, 0.0, 0.0, 0.0, 0.0, 0.0, 0.0, 0.0, 0.0, 0.0], [0.7870935201644897, 0.011823760345578194, 0.20108270645141602, 0.0, 0.0, 0.0, 0.0, 0.0, 0.0, 0.0, 0.0, 0.0, 0.0, 0.0, 0.0, 0.0, 0.0, 0.0, 0.0, 0.0, 0.0, 0.0, 0.0, 0.0, 0.0], [0.7344034910202026, 0.010742849670350552, 0.23067176342010498, 0.024181876331567764, 0.0, 0.0, 0.0, 0.0, 0.0, 0.0, 0.0, 0.0, 0.0, 0.0, 0.0, 0.0, 0.0, 0.0, 0.0, 0.0, 0.0, 0.0, 0.0, 0.0, 0.0], [0.5959656238555908, 0.012918507680296898, 0.17132385075092316, 0.016840288415551186, 0.20295163989067078, 0.0, 0.0, 0.0, 0.0, 0.0, 0.0, 0.0, 0.0, 0.0, 0.0, 0.0, 0.0, 0.0, 0.0, 0.0, 0.0, 0.0, 0.0, 0.0, 0.0], [0.6546053886413574, 0.004843628965318203, 0.17516106367111206, 0.006677390541881323, 0.1525154411792755, 0.006197185255587101, 0.0, 0.0, 0.0, 0.0, 0.0, 0.0, 0.0, 0.0, 0.0, 0.0, 0.0, 0.0, 0.0, 0.0, 0.0, 0.0, 0.0, 0.0, 0.0], [0.4568638503551483, 0.008123247884213924, 0.1975451558828354, 0.013293860480189323, 0.15218877792358398, 0.0045348661951720715, 0.1674501895904541, 0.0, 0.0, 0.0, 0.0, 0.0, 0.0, 0.0, 0.0, 0.0, 0.0, 0.0, 0.0, 0.0, 0.0, 0.0, 0.0, 0.0, 0.0], [0.8981605768203735, 0.007523315493017435, 0.015236742794513702, 0.01436876691877842, 0.029103897511959076, 0.003943419083952904, 0.012666293419897556, 0.01899692602455616, 0.0, 0.0, 0.0, 0.0, 0.0, 0.0, 0.0, 0.0, 0.0, 0.0, 0.0, 0.0, 0.0, 0.0, 0.0, 0.0, 0.0], [0.5271966457366943, 0.008721575140953064, 0.144373819231987, 0.011553017422556877, 0.10285452753305435, 0.004731338005512953, 0.1777305006980896, 0.01477896235883236, 0.008059663698077202, 0.0, 0.0, 0.0, 0.0, 0.0, 0.0, 0.0, 0.0, 0.0, 0.0, 0.0, 0.0, 0.0, 0.0, 0.0, 0.0], [0.7758954167366028, 0.011928060092031956, 0.04511971399188042, 0.01829960197210312, 0.042543962597846985, 0.01035274751484394, 0.05316312983632088, 0.013343856669962406, 0.01407352089881897, 0.01527996826916933, 0.0, 0.0, 0.0, 0.0, 0.0, 0.0, 0.0, 0.0, 0.0, 0.0, 0.0, 0.0, 0.0, 0.0, 0.0], [0.9218538999557495, 0.009221743792295456, 0.015899786725640297, 0.0020640750881284475, 0.005037535447627306, 0.0006552904960699379, 0.0066843763925135136, 0.0015591291012242436, 0.0010485296370461583, 0.0011863606050610542, 0.03478923812508583, 0.0, 0.0, 0.0, 0.0, 0.0, 0.0, 0.0, 0.0, 0.0, 0.0, 0.0, 0.0, 0.0, 0.0], [0.15983743965625763, 0.009409066289663315, 0.2989431619644165, 0.0016402751207351685, 0.22534458339214325, 0.00047676105168648064, 0.2922145426273346, 0.0015671920264139771, 0.00025521250790916383, 0.0003759629325941205, 0.0066678402945399284, 0.003267910098657012, 0.0, 0.0, 0.0, 0.0, 0.0, 0.0, 0.0, 0.0, 0.0, 0.0, 0.0, 0.0, 0.0], [0.25648802518844604, 0.011625264771282673, 0.18640825152397156, 0.010408470407128334, 0.23909637331962585, 0.0037598388735204935, 0.23366370797157288, 0.011461745016276836, 0.0034260733518749475, 0.004551926627755165, 0.024268437176942825, 0.010509926825761795, 0.0043319459073245525, 0.0, 0.0, 0.0, 0.0, 0.0, 0.0, 0.0, 0.0, 0.0, 0.0, 0.0, 0.0], [0.39638781547546387, 0.011390874162316322, 0.10150570422410965, 0.006917946971952915, 0.22308628261089325, 0.0034440557938069105, 0.1790325939655304, 0.005655077286064625, 0.0014119778061285615, 0.0014260750031098723, 0.04437759518623352, 0.01757126860320568, 0.002198009518906474, 0.00559477973729372, 0.0, 0.0, 0.0, 0.0, 0.0, 0.0, 0.0, 0.0, 0.0, 0.0, 0.0], [0.14473795890808105, 0.006736429408192635, 0.19780333340168, 0.00327688897959888, 0.33007922768592834, 0.0018772922921925783, 0.3014228641986847, 0.0021949193906039, 0.0003736827347893268, 0.0004997123614884913, 0.006377963814884424, 0.0009872607188299298, 0.0005571266519837081, 0.0009048786014318466, 0.002170523162931204, 0.0, 0.0, 0.0, 0.0, 0.0, 0.0, 0.0, 0.0, 0.0, 0.0], [0.603057324886322, 0.023206567391753197, 0.05862203612923622, 0.005389735102653503, 0.12136530876159668, 0.004357059020549059, 0.10724060982465744, 0.001159698236733675, 0.0004311013035476208, 0.00030201266054064035, 0.006386192515492439, 0.002657652134075761, 0.0018519709119573236, 0.00071849295636639, 0.006755544804036617, 0.056498702615499496, 0.0, 0.0, 0.0, 0.0, 0.0, 0.0, 0.0, 0.0, 0.0], [0.16701968014240265, 0.005153031088411808, 0.0836927592754364, 0.004557020962238312, 0.22853060066699982, 0.0012676150072366, 0.17350104451179504, 0.005875153932720423, 0.0005615113768726587, 0.0005736990715377033, 0.008837925270199776, 0.002885224064812064, 0.0005018266965635121, 0.002554135862737894, 0.0027275586035102606, 0.04738028347492218, 0.26438093185424805, 0.0, 0.0, 0.0, 0.0, 0.0, 0.0, 0.0, 0.0], [0.21117910742759705, 0.009073236957192421, 0.1439979523420334, 0.0009813050273805857, 0.4240032732486725, 0.0005689834360964596, 0.10171319544315338, 0.0008375987526960671, 0.00026385459932498634, 0.00028924987418577075, 0.003598310984671116, 0.00034005165798589587, 0.00013508221309166402, 0.00024929357459768653, 0.0004389090754557401, 0.014019793830811977, 0.08792564272880554, 0.0003851122746709734, 0.0, 0.0, 0.0, 0.0, 0.0, 0.0, 0.0], [0.0663369670510292, 0.003512459574267268, 0.03940605744719505, 0.002006791764870286, 0.2244383841753006, 0.0005355612956918776, 0.16466496884822845, 0.010594343766570091, 0.0005113250808790326, 0.00014155292592477053, 0.006819728296250105, 0.0023534907959401608, 0.00011593128147069365, 0.006361968349665403, 0.0010081601794809103, 0.04339149594306946, 0.2406255155801773, 0.0020521660335361958, 0.18512310087680817, 0.0, 0.0, 0.0, 0.0, 0.0, 0.0], [0.18856514990329742, 0.01355030294507742, 0.1303897351026535, 0.0030299455393105745, 0.36888593435287476, 0.0016465219669044018, 0.1369819939136505, 0.0029608733020722866, 0.0009922031313180923, 0.0012381917331367731, 0.012147722765803337, 0.0017922528786584735, 0.0005040060495957732, 0.0010425724321976304, 0.0019397663418203592, 0.046744026243686676, 0.06312134861946106, 0.0005672377883456647, 0.018853791058063507, 0.005046512931585312, 0.0, 0.0, 0.0, 0.0, 0.0], [0.5291765928268433, 0.012239081785082817, 0.0327729731798172, 0.015267967246472836, 0.05364791303873062, 0.008708900772035122, 0.027949275448918343, 0.006991908419877291, 0.005974114872515202, 0.002971019595861435, 0.1262236386537552, 0.024914434179663658, 0.0024940117727965117, 0.0045079137198626995, 0.010322497226297855, 0.07084855437278748, 0.01402005273848772, 0.005141894333064556, 0.006068653427064419, 0.03164651244878769, 0.008112101815640926, 0.0, 0.0, 0.0, 0.0], [0.6566891670227051, 0.015260943211615086, 0.041754014790058136, 0.003131059231236577, 0.048516061156988144, 0.0016707185423001647, 0.04380999132990837, 0.002131963614374399, 0.001360586960799992, 0.000789221259765327, 0.011473173275589943, 0.005982716102153063, 0.0011816543992608786, 0.0014144298620522022, 0.0036502289585769176, 0.07971645146608353, 0.029024986550211906, 0.001201312872581184, 0.005915505345910788, 0.007528217509388924, 0.0016923287184908986, 0.036105282604694366, 0.0, 0.0, 0.0], [0.4032304286956787, 0.007356541696935892, 0.03334667161107063, 0.0026345280930399895, 0.12288433313369751, 0.002414035378023982, 0.09150492399930954, 0.0019779407884925604, 0.001501961494795978, 0.001602435251697898, 0.09305631369352341, 0.009895268827676773, 0.0011760082561522722, 0.0009255876066163182, 0.0021383098792284727, 0.04122019559144974, 0.03505643084645271, 0.0009136006119661033, 0.00451194541528821, 0.004449027590453625, 0.002244444563984871, 0.12029018253087997, 0.015668924897909164, 0.0, 0.0], [0.4913772642612457, 0.012245574966073036, 0.07182793319225311, 0.0026963897980749607, 0.08580363541841507, 0.0015844691079109907, 0.10030987858772278, 0.0013761493610218167, 0.0007239615079015493, 0.00046831858344376087, 0.009797682985663414, 0.004035032354295254, 0.0007040768978185952, 0.0006002280279062688, 0.0024223611690104008, 0.06749533116817474, 0.03198879584670067, 0.000728679180610925, 0.005909345578402281, 0.0026004912797361612, 0.0008512284839525819, 0.025957651436328888, 0.004292961675673723, 0.07420259714126587, 0.0], [0.08249151706695557, 0.00864393264055252, 0.11890317499637604, 0.0012741649989038706, 0.5492374300956726, 0.0003204320964869112, 0.13772976398468018, 0.0007445848314091563, 0.00014814849419053644, 0.00017471180763095617, 0.0014693799894303083, 0.0002315688325325027, 8.830799197312444e-05, 0.00010036674211733043, 0.00038718804717063904, 0.014749256893992424, 0.060957178473472595, 0.00012617716856766492, 0.010246694087982178, 0.0006159432232379913, 0.00018674577586352825, 0.0007286969921551645, 0.0001295511901844293, 0.009118513204157352, 0.0011965044541284442]]], \"attentionHeadNames\": [\"L9H7\", \"L11H10\", \"L11H2\", \"L10H0\"], \"tokens\": [\"<|endoftext|>\", \"After\", \" John\", \",\", \" Mary\", \" and\", \" Jim\", \" went\", \" to\", \" the\", \" grocery\", \" store\", \" and\", \" return\", \",\", \" \", \" Jim\", \" and\", \" John\", \" gave\", \" a\", \" bottle\", \" of\", \" milk\", \" to\"]}\n",
       "    )\n",
       "    </script></div>"
      ],
      "text/plain": [
       "<IPython.core.display.HTML object>"
      ]
     },
     "execution_count": 147,
     "metadata": {},
     "output_type": "execute_result"
    }
   ],
   "source": [
    "top_k = 10\n",
    "top_heads_by_output_patch = torch.topk(\n",
    "    patched_head_z_diff.abs().flatten(), k=top_k\n",
    ").indices\n",
    "first_mid_layer = 7\n",
    "first_late_layer = 9\n",
    "early_heads = top_heads_by_output_patch[\n",
    "    top_heads_by_output_patch < model.cfg.n_heads * first_mid_layer\n",
    "]\n",
    "mid_heads = top_heads_by_output_patch[\n",
    "    torch.logical_and(\n",
    "        model.cfg.n_heads * first_mid_layer <= top_heads_by_output_patch,\n",
    "        top_heads_by_output_patch < model.cfg.n_heads * first_late_layer,\n",
    "    )\n",
    "]\n",
    "late_heads = top_heads_by_output_patch[\n",
    "    model.cfg.n_heads * first_late_layer <= top_heads_by_output_patch\n",
    "]\n",
    "\n",
    "early = visualize_attention_patterns(\n",
    "    early_heads, cache, tokens[0], title=f\"Top Early Heads\"\n",
    ")\n",
    "mid = visualize_attention_patterns(\n",
    "    mid_heads, cache, tokens[0], title=f\"Top Middle Heads\"\n",
    ")\n",
    "late = visualize_attention_patterns(\n",
    "    late_heads, cache, tokens[0], title=f\"Top Late Heads\"\n",
    ")\n",
    "\n",
    "HTML(early + mid + late)"
   ]
  }
 ],
 "metadata": {
  "kernelspec": {
   "display_name": "hantao_interp",
   "language": "python",
   "name": "python3"
  },
  "language_info": {
   "codemirror_mode": {
    "name": "ipython",
    "version": 3
   },
   "file_extension": ".py",
   "mimetype": "text/x-python",
   "name": "python",
   "nbconvert_exporter": "python",
   "pygments_lexer": "ipython3",
   "version": "3.10.14"
  }
 },
 "nbformat": 4,
 "nbformat_minor": 2
}
