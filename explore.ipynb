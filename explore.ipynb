{
 "cells": [
  {
   "cell_type": "code",
   "execution_count": 61,
   "metadata": {},
   "outputs": [],
   "source": [
    "from functools import partial\n",
    "from typing import List, Optional, Union\n",
    "\n",
    "import einops\n",
    "import numpy as np\n",
    "import plotly.express as px\n",
    "import plotly.io as pio\n",
    "import torch\n",
    "from circuitsvis.attention import attention_heads\n",
    "from fancy_einsum import einsum\n",
    "from IPython.display import HTML, IFrame\n",
    "from jaxtyping import Float\n",
    "from transformers import AutoModelForCausalLM\n",
    "\n",
    "import transformer_lens.utils as utils\n",
    "from transformer_lens import ActivationCache, HookedTransformer"
   ]
  },
  {
   "cell_type": "code",
   "execution_count": 62,
   "metadata": {},
   "outputs": [],
   "source": [
    "def imshow(tensor, **kwargs):\n",
    "    px.imshow(\n",
    "        utils.to_numpy(tensor),\n",
    "        color_continuous_midpoint=0.0,\n",
    "        color_continuous_scale=\"RdBu\",\n",
    "        **kwargs,\n",
    "    ).show()\n",
    "\n",
    "\n",
    "def line(tensor, **kwargs):\n",
    "    px.line(\n",
    "        y=utils.to_numpy(tensor),\n",
    "        **kwargs,\n",
    "    ).show()\n",
    "\n",
    "\n",
    "def scatter(x, y, xaxis=\"\", yaxis=\"\", caxis=\"\", **kwargs):\n",
    "    x = utils.to_numpy(x)\n",
    "    y = utils.to_numpy(y)\n",
    "    px.scatter(\n",
    "        y=y,\n",
    "        x=x,\n",
    "        labels={\"x\": xaxis, \"y\": yaxis, \"color\": caxis},\n",
    "        **kwargs,\n",
    "    ).show()"
   ]
  },
  {
   "cell_type": "code",
   "execution_count": 63,
   "metadata": {},
   "outputs": [
    {
     "name": "stdout",
     "output_type": "stream",
     "text": [
      "Disabled automatic differentiation\n"
     ]
    }
   ],
   "source": [
    "torch.set_grad_enabled(False)\n",
    "print(\"Disabled automatic differentiation\")"
   ]
  },
  {
   "cell_type": "code",
   "execution_count": 64,
   "metadata": {},
   "outputs": [
    {
     "name": "stdout",
     "output_type": "stream",
     "text": [
      "Loaded pretrained model gpt2 into HookedTransformer\n"
     ]
    }
   ],
   "source": [
    "# NBVAL_IGNORE_OUTPUT\n",
    "hf_model = AutoModelForCausalLM.from_pretrained(\"/mnt/hantao/models/gpt2_sft_2e5\")\n",
    "model = HookedTransformer.from_pretrained(\n",
    "    \"gpt2\",\n",
    "    hf_model=hf_model,\n",
    "    center_unembed=True,\n",
    "    center_writing_weights=True,\n",
    "    fold_ln=True,\n",
    "    refactor_factored_attn_matrices=True,\n",
    ")\n",
    "\n",
    "# Get the default device used\n",
    "device: torch.device = utils.get_device()"
   ]
  },
  {
   "cell_type": "code",
   "execution_count": 65,
   "metadata": {},
   "outputs": [
    {
     "name": "stdout",
     "output_type": "stream",
     "text": [
      "Tokenized prompt: ['<|endoftext|>', 'During', ' their', ' visit', ' to', ' the', ' Billy', ',', ' Jack', ' and', ' Ted', ' decided', ' to', ' buy', ' a', ' cake', ' for', ' someone', \"'s\", ' birthday', '.', ' Ted', ' and', ' Billy', ' chose', ' a', ' chocolate', ' cake', ' to', ' give', ' to']\n",
      "Tokenized answer: [' Jack']\n"
     ]
    },
    {
     "data": {
      "text/html": [
       "<pre style=\"white-space:pre;overflow-x:auto;line-height:normal;font-family:Menlo,'DejaVu Sans Mono',consolas,'Courier New',monospace\">Performance on answer token:\n",
       "<span style=\"font-weight: bold\">Rank: </span><span style=\"color: #008080; text-decoration-color: #008080; font-weight: bold\">0</span><span style=\"font-weight: bold\">        Logit: </span><span style=\"color: #008080; text-decoration-color: #008080; font-weight: bold\">18.16</span><span style=\"font-weight: bold\"> Prob: </span><span style=\"color: #008080; text-decoration-color: #008080; font-weight: bold\">37.77</span><span style=\"font-weight: bold\">% Token: | Jack|</span>\n",
       "</pre>\n"
      ],
      "text/plain": [
       "Performance on answer token:\n",
       "\u001b[1mRank: \u001b[0m\u001b[1;36m0\u001b[0m\u001b[1m        Logit: \u001b[0m\u001b[1;36m18.16\u001b[0m\u001b[1m Prob: \u001b[0m\u001b[1;36m37.77\u001b[0m\u001b[1m% Token: | Jack|\u001b[0m\n"
      ]
     },
     "metadata": {},
     "output_type": "display_data"
    },
    {
     "name": "stdout",
     "output_type": "stream",
     "text": [
      "Top 0th token. Logit: 18.16 Prob: 37.77% Token: | Jack|\n",
      "Top 1th token. Logit: 18.02 Prob: 33.04% Token: | Ted|\n",
      "Top 2th token. Logit: 17.14 Prob: 13.71% Token: | Billy|\n",
      "Top 3th token. Logit: 16.02 Prob:  4.47% Token: | Bob|\n",
      "Top 4th token. Logit: 15.31 Prob:  2.19% Token: | Jackie|\n",
      "Top 5th token. Logit: 14.41 Prob:  0.89% Token: | Bobby|\n",
      "Top 6th token. Logit: 13.99 Prob:  0.59% Token: | Sam|\n",
      "Top 7th token. Logit: 13.75 Prob:  0.46% Token: | Charlie|\n",
      "Top 8th token. Logit: 13.14 Prob:  0.25% Token: | Johnny|\n",
      "Top 9th token. Logit: 13.13 Prob:  0.25% Token: | Alice|\n"
     ]
    },
    {
     "data": {
      "text/html": [
       "<pre style=\"white-space:pre;overflow-x:auto;line-height:normal;font-family:Menlo,'DejaVu Sans Mono',consolas,'Courier New',monospace\"><span style=\"font-weight: bold\">Ranks of the answer tokens:</span> <span style=\"font-weight: bold\">[(</span><span style=\"color: #008000; text-decoration-color: #008000\">' Jack'</span>, <span style=\"color: #008080; text-decoration-color: #008080; font-weight: bold\">0</span><span style=\"font-weight: bold\">)]</span>\n",
       "</pre>\n"
      ],
      "text/plain": [
       "\u001b[1mRanks of the answer tokens:\u001b[0m \u001b[1m[\u001b[0m\u001b[1m(\u001b[0m\u001b[32m' Jack'\u001b[0m, \u001b[1;36m0\u001b[0m\u001b[1m)\u001b[0m\u001b[1m]\u001b[0m\n"
      ]
     },
     "metadata": {},
     "output_type": "display_data"
    }
   ],
   "source": [
    "example_prompt = \"During their visit to the Billy, Jack and Ted decided to buy a cake for someone's birthday. Ted and Billy chose a chocolate cake to give to\"\n",
    "example_answer = \" Jack\"\n",
    "utils.test_prompt(example_prompt, example_answer, model, prepend_bos=True)"
   ]
  },
  {
   "cell_type": "code",
   "execution_count": 66,
   "metadata": {},
   "outputs": [
    {
     "name": "stdout",
     "output_type": "stream",
     "text": [
      "['After John, Mary and Jim went to the grocery store and return,  Jim and John gave a bottle of milk to', 'After John, Mary and Jim went to the grocery store and return,  Mary and Jim gave a bottle of milk to', 'After John, Mary and Jim went to the grocery store and return,  John and Mary gave a bottle of milk to', 'During the picnic, Billy, Jack, and Ted shared a blanket.  Ted and Jack passed a frisbee to', 'During the picnic, Billy, Jack, and Ted shared a blanket.  Billy and Ted passed a frisbee to', 'During the picnic, Billy, Jack, and Ted shared a blanket.  Jack and Billy passed a frisbee to', 'After Sarah, Tom, and Alex went to the bookstore in the downtown,  Alex and Tom bought a new novel for', 'After Sarah, Tom, and Alex went to the bookstore in the downtown,  Sara and Alex bought a new novel for', 'After Sarah, Tom, and Alex went to the bookstore in the downtown,  Tom and Sara bought a new novel for', 'Anna, Liam, and Noah decided to buy a cake for someone.  Noah and Liam chose a cake to give to', 'Anna, Liam, and Noah decided to buy a cake for someone.  Anna and Noah chose a cake to give to', 'Anna, Liam, and Noah decided to buy a cake for someone.  Liam and Anna chose a cake to give to']\n",
      "[(' Mary', ' Jim', ' John'), (' John', ' Mary', ' Jim'), (' Jim', ' John', ' Mary'), (' Billy', ' Ted', ' Jack'), (' Jack', ' Billy', ' Ted'), (' Ted', ' Jack', ' Billy'), (' Sara', ' Alex', ' Tom'), (' Tom', ' Sara', ' Alex'), (' Alex', ' Tom', ' Sara'), (' Anna', ' Noah', ' Liam'), (' Liam', ' Anna', ' Noah'), (' Noah', ' Liam', ' Anna')]\n"
     ]
    }
   ],
   "source": [
    "prompt_format = [\n",
    "    \"After John, Mary and Jim went to the grocery store and return, {} gave a bottle of milk to\",\n",
    "    \"During the picnic, Billy, Jack, and Ted shared a blanket. {} passed a frisbee to\",\n",
    "    \"After Sarah, Tom, and Alex went to the bookstore in the downtown, {} bought a new novel for\",\n",
    "    \"Anna, Liam, and Noah decided to buy a cake for someone. {} chose a cake to give to\",\n",
    "]\n",
    "names = [\n",
    "    (\" Mary\", \" John\", \" Jim\"),\n",
    "    (\" Billy\", \" Jack\", \" Ted\"),\n",
    "    (\" Sara\", \" Tom\", \" Alex\"),\n",
    "    (\" Anna\", \" Liam\", \" Noah\"),\n",
    "]\n",
    "# List of prompts\n",
    "prompts = []\n",
    "# List of answers, in the format (correct, incorrect)\n",
    "answers = []\n",
    "# List of the token (ie an integer) corresponding to each answer, in the format (correct_token, incorrect_token)\n",
    "answer_tokens = []\n",
    "for i in range(len(prompt_format)):\n",
    "    for j in range(3):\n",
    "        answers.append((names[i][j], names[i][(j - 1)%3], names[i][(j - 2)%3]))\n",
    "        answer_tokens.append(\n",
    "            (\n",
    "                model.to_single_token(answers[-1][0]),\n",
    "                model.to_single_token(answers[-1][1]),\n",
    "                model.to_single_token(answers[-1][2]),\n",
    "            )\n",
    "        )\n",
    "        # Insert the *incorrect* answer to the prompt, making the correct answer the indirect object.\n",
    "        prompts.append(prompt_format[i].format(answers[-1][1] + \" and\" + answers[-1][2]))\n",
    "answer_tokens = torch.tensor(answer_tokens).to(device)\n",
    "print(prompts)\n",
    "print(answers)"
   ]
  },
  {
   "cell_type": "code",
   "execution_count": 67,
   "metadata": {},
   "outputs": [
    {
     "name": "stdout",
     "output_type": "stream",
     "text": [
      "Prompt length: 25\n",
      "Prompt as tokens: ['<|endoftext|>', 'After', ' John', ',', ' Mary', ' and', ' Jim', ' went', ' to', ' the', ' grocery', ' store', ' and', ' return', ',', ' ', ' Jim', ' and', ' John', ' gave', ' a', ' bottle', ' of', ' milk', ' to']\n",
      "Prompt length: 25\n",
      "Prompt as tokens: ['<|endoftext|>', 'After', ' John', ',', ' Mary', ' and', ' Jim', ' went', ' to', ' the', ' grocery', ' store', ' and', ' return', ',', ' ', ' Mary', ' and', ' Jim', ' gave', ' a', ' bottle', ' of', ' milk', ' to']\n",
      "Prompt length: 25\n",
      "Prompt as tokens: ['<|endoftext|>', 'After', ' John', ',', ' Mary', ' and', ' Jim', ' went', ' to', ' the', ' grocery', ' store', ' and', ' return', ',', ' ', ' John', ' and', ' Mary', ' gave', ' a', ' bottle', ' of', ' milk', ' to']\n",
      "Prompt length: 25\n",
      "Prompt as tokens: ['<|endoftext|>', 'During', ' the', ' picnic', ',', ' Billy', ',', ' Jack', ',', ' and', ' Ted', ' shared', ' a', ' blanket', '.', ' ', ' Ted', ' and', ' Jack', ' passed', ' a', ' fr', 'is', 'bee', ' to']\n",
      "Prompt length: 25\n",
      "Prompt as tokens: ['<|endoftext|>', 'During', ' the', ' picnic', ',', ' Billy', ',', ' Jack', ',', ' and', ' Ted', ' shared', ' a', ' blanket', '.', ' ', ' Billy', ' and', ' Ted', ' passed', ' a', ' fr', 'is', 'bee', ' to']\n",
      "Prompt length: 25\n",
      "Prompt as tokens: ['<|endoftext|>', 'During', ' the', ' picnic', ',', ' Billy', ',', ' Jack', ',', ' and', ' Ted', ' shared', ' a', ' blanket', '.', ' ', ' Jack', ' and', ' Billy', ' passed', ' a', ' fr', 'is', 'bee', ' to']\n",
      "Prompt length: 25\n",
      "Prompt as tokens: ['<|endoftext|>', 'After', ' Sarah', ',', ' Tom', ',', ' and', ' Alex', ' went', ' to', ' the', ' bookstore', ' in', ' the', ' downtown', ',', ' ', ' Alex', ' and', ' Tom', ' bought', ' a', ' new', ' novel', ' for']\n",
      "Prompt length: 25\n",
      "Prompt as tokens: ['<|endoftext|>', 'After', ' Sarah', ',', ' Tom', ',', ' and', ' Alex', ' went', ' to', ' the', ' bookstore', ' in', ' the', ' downtown', ',', ' ', ' Sara', ' and', ' Alex', ' bought', ' a', ' new', ' novel', ' for']\n",
      "Prompt length: 25\n",
      "Prompt as tokens: ['<|endoftext|>', 'After', ' Sarah', ',', ' Tom', ',', ' and', ' Alex', ' went', ' to', ' the', ' bookstore', ' in', ' the', ' downtown', ',', ' ', ' Tom', ' and', ' Sara', ' bought', ' a', ' new', ' novel', ' for']\n",
      "Prompt length: 25\n",
      "Prompt as tokens: ['<|endoftext|>', 'Anna', ',', ' Liam', ',', ' and', ' Noah', ' decided', ' to', ' buy', ' a', ' cake', ' for', ' someone', '.', ' ', ' Noah', ' and', ' Liam', ' chose', ' a', ' cake', ' to', ' give', ' to']\n",
      "Prompt length: 25\n",
      "Prompt as tokens: ['<|endoftext|>', 'Anna', ',', ' Liam', ',', ' and', ' Noah', ' decided', ' to', ' buy', ' a', ' cake', ' for', ' someone', '.', ' ', ' Anna', ' and', ' Noah', ' chose', ' a', ' cake', ' to', ' give', ' to']\n",
      "Prompt length: 25\n",
      "Prompt as tokens: ['<|endoftext|>', 'Anna', ',', ' Liam', ',', ' and', ' Noah', ' decided', ' to', ' buy', ' a', ' cake', ' for', ' someone', '.', ' ', ' Liam', ' and', ' Anna', ' chose', ' a', ' cake', ' to', ' give', ' to']\n"
     ]
    }
   ],
   "source": [
    "for prompt in prompts:\n",
    "    str_tokens = model.to_str_tokens(prompt)\n",
    "    print(\"Prompt length:\", len(str_tokens))\n",
    "    print(\"Prompt as tokens:\", str_tokens)"
   ]
  },
  {
   "cell_type": "code",
   "execution_count": 68,
   "metadata": {},
   "outputs": [],
   "source": [
    "tokens = model.to_tokens(prompts, prepend_bos=True)\n",
    "\n",
    "# Run the model and cache all activations\n",
    "original_logits, cache = model.run_with_cache(tokens)"
   ]
  },
  {
   "cell_type": "code",
   "execution_count": 69,
   "metadata": {},
   "outputs": [
    {
     "name": "stdout",
     "output_type": "stream",
     "text": [
      "Per prompt logit difference: tensor([ 0.6800,  0.7140,  1.9070,  1.9080,  0.0400,  0.4830, -7.4280,  3.4940,\n",
      "         1.8920,  0.3190,  3.7730, -0.2250])\n",
      "Average logit difference: 0.63\n"
     ]
    }
   ],
   "source": [
    "def logits_to_ave_logit_diff(logits, answer_tokens, per_prompt=False):\n",
    "    # Only the final logits are relevant for the answer\n",
    "    final_logits = logits[:, -1, :]\n",
    "    answer_logits = final_logits.gather(dim=-1, index=answer_tokens)\n",
    "    answer_logit_diff = answer_logits[:, 0] - answer_logits[:, 1]\n",
    "    if per_prompt:\n",
    "        return answer_logit_diff\n",
    "    else:\n",
    "        return answer_logit_diff.mean()\n",
    "\n",
    "\n",
    "print(\n",
    "    \"Per prompt logit difference:\",\n",
    "    logits_to_ave_logit_diff(original_logits, answer_tokens, per_prompt=True)\n",
    "    .detach()\n",
    "    .cpu()\n",
    "    .round(decimals=3),\n",
    ")\n",
    "original_average_logit_diff = logits_to_ave_logit_diff(original_logits, answer_tokens)\n",
    "print(\n",
    "    \"Average logit difference:\",\n",
    "    round(logits_to_ave_logit_diff(original_logits, answer_tokens).item(), 3),\n",
    ")"
   ]
  },
  {
   "cell_type": "code",
   "execution_count": 70,
   "metadata": {},
   "outputs": [
    {
     "name": "stdout",
     "output_type": "stream",
     "text": [
      "Answer residual directions shape: torch.Size([12, 3, 768])\n",
      "Logit difference directions shape: torch.Size([12, 768])\n"
     ]
    }
   ],
   "source": [
    "answer_residual_directions = model.tokens_to_residual_directions(answer_tokens)\n",
    "print(\"Answer residual directions shape:\", answer_residual_directions.shape)\n",
    "logit_diff_directions = (\n",
    "    answer_residual_directions[:, 0] - answer_residual_directions[:, 1]\n",
    ")\n",
    "print(\"Logit difference directions shape:\", logit_diff_directions.shape)"
   ]
  },
  {
   "cell_type": "code",
   "execution_count": 71,
   "metadata": {},
   "outputs": [
    {
     "name": "stdout",
     "output_type": "stream",
     "text": [
      "Final residual stream shape: torch.Size([12, 25, 768])\n",
      "Calculated average logit diff: 0.63\n",
      "Original logit difference: 0.63\n"
     ]
    }
   ],
   "source": [
    "# cache syntax - resid_post is the residual stream at the end of the layer, -1 gets the final layer. The general syntax is [activation_name, layer_index, sub_layer_type].\n",
    "final_residual_stream = cache[\"resid_post\", -1]\n",
    "print(\"Final residual stream shape:\", final_residual_stream.shape)\n",
    "final_token_residual_stream = final_residual_stream[:, -1, :]\n",
    "# Apply LayerNorm scaling\n",
    "# pos_slice is the subset of the positions we take - here the final token of each prompt\n",
    "scaled_final_token_residual_stream = cache.apply_ln_to_stack(\n",
    "    final_token_residual_stream, layer=-1, pos_slice=-1\n",
    ")\n",
    "\n",
    "average_logit_diff = einsum(\n",
    "    \"batch d_model, batch d_model -> \",\n",
    "    scaled_final_token_residual_stream,\n",
    "    logit_diff_directions,\n",
    ") / len(prompts)\n",
    "print(\"Calculated average logit diff:\", round(average_logit_diff.item(), 3))\n",
    "print(\"Original logit difference:\", round(original_average_logit_diff.item(), 3))"
   ]
  },
  {
   "cell_type": "code",
   "execution_count": 72,
   "metadata": {},
   "outputs": [],
   "source": [
    "def residual_stack_to_logit_diff(\n",
    "    residual_stack: Float[torch.Tensor, \"components batch d_model\"],\n",
    "    cache: ActivationCache,\n",
    ") -> float:\n",
    "    scaled_residual_stack = cache.apply_ln_to_stack(\n",
    "        residual_stack, layer=-1, pos_slice=-1\n",
    "    )\n",
    "    return einsum(\n",
    "        \"... batch d_model, batch d_model -> ...\",\n",
    "        scaled_residual_stack,\n",
    "        logit_diff_directions,\n",
    "    ) / len(prompts)"
   ]
  },
  {
   "cell_type": "code",
   "execution_count": 73,
   "metadata": {},
   "outputs": [
    {
     "data": {
      "application/vnd.plotly.v1+json": {
       "config": {
        "plotlyServerURL": "https://plot.ly"
       },
       "data": [
        {
         "hovertemplate": "<b>%{hovertext}</b><br><br>x=%{x}<br>y=%{y}<extra></extra>",
         "hovertext": [
          "0_pre",
          "0_mid",
          "1_pre",
          "1_mid",
          "2_pre",
          "2_mid",
          "3_pre",
          "3_mid",
          "4_pre",
          "4_mid",
          "5_pre",
          "5_mid",
          "6_pre",
          "6_mid",
          "7_pre",
          "7_mid",
          "8_pre",
          "8_mid",
          "9_pre",
          "9_mid",
          "10_pre",
          "10_mid",
          "11_pre",
          "11_mid",
          "final_post"
         ],
         "legendgroup": "",
         "line": {
          "color": "#636efa",
          "dash": "solid"
         },
         "marker": {
          "symbol": "circle"
         },
         "mode": "lines",
         "name": "",
         "orientation": "v",
         "showlegend": false,
         "type": "scatter",
         "x": [
          0,
          0.5,
          1,
          1.5,
          2,
          2.5,
          3,
          3.5,
          4,
          4.5,
          5,
          5.5,
          6,
          6.5,
          7,
          7.5,
          8,
          8.5,
          9,
          9.5,
          10,
          10.5,
          11,
          11.5,
          12
         ],
         "xaxis": "x",
         "y": [
          0.0001336860004812479,
          -0.009874820709228516,
          -0.006778085138648748,
          -0.007314112037420273,
          -0.004454359412193298,
          -0.0033023301512002945,
          -0.0030540861189365387,
          -0.00463724322617054,
          -0.004473856184631586,
          -0.0034180188085883856,
          -0.0008107632747851312,
          0.0007007186650298536,
          -0.00011655587877612561,
          -0.018208283931016922,
          -0.013650303706526756,
          0.19535887241363525,
          0.20771048963069916,
          0.252632200717926,
          0.26725322008132935,
          0.907801628112793,
          0.9555791616439819,
          1.0680160522460938,
          1.1442354917526245,
          0.5923730731010437,
          0.6298245191574097
         ],
         "yaxis": "y"
        }
       ],
       "layout": {
        "legend": {
         "tracegroupgap": 0
        },
        "template": {
         "data": {
          "bar": [
           {
            "error_x": {
             "color": "#2a3f5f"
            },
            "error_y": {
             "color": "#2a3f5f"
            },
            "marker": {
             "line": {
              "color": "#E5ECF6",
              "width": 0.5
             },
             "pattern": {
              "fillmode": "overlay",
              "size": 10,
              "solidity": 0.2
             }
            },
            "type": "bar"
           }
          ],
          "barpolar": [
           {
            "marker": {
             "line": {
              "color": "#E5ECF6",
              "width": 0.5
             },
             "pattern": {
              "fillmode": "overlay",
              "size": 10,
              "solidity": 0.2
             }
            },
            "type": "barpolar"
           }
          ],
          "carpet": [
           {
            "aaxis": {
             "endlinecolor": "#2a3f5f",
             "gridcolor": "white",
             "linecolor": "white",
             "minorgridcolor": "white",
             "startlinecolor": "#2a3f5f"
            },
            "baxis": {
             "endlinecolor": "#2a3f5f",
             "gridcolor": "white",
             "linecolor": "white",
             "minorgridcolor": "white",
             "startlinecolor": "#2a3f5f"
            },
            "type": "carpet"
           }
          ],
          "choropleth": [
           {
            "colorbar": {
             "outlinewidth": 0,
             "ticks": ""
            },
            "type": "choropleth"
           }
          ],
          "contour": [
           {
            "colorbar": {
             "outlinewidth": 0,
             "ticks": ""
            },
            "colorscale": [
             [
              0,
              "#0d0887"
             ],
             [
              0.1111111111111111,
              "#46039f"
             ],
             [
              0.2222222222222222,
              "#7201a8"
             ],
             [
              0.3333333333333333,
              "#9c179e"
             ],
             [
              0.4444444444444444,
              "#bd3786"
             ],
             [
              0.5555555555555556,
              "#d8576b"
             ],
             [
              0.6666666666666666,
              "#ed7953"
             ],
             [
              0.7777777777777778,
              "#fb9f3a"
             ],
             [
              0.8888888888888888,
              "#fdca26"
             ],
             [
              1,
              "#f0f921"
             ]
            ],
            "type": "contour"
           }
          ],
          "contourcarpet": [
           {
            "colorbar": {
             "outlinewidth": 0,
             "ticks": ""
            },
            "type": "contourcarpet"
           }
          ],
          "heatmap": [
           {
            "colorbar": {
             "outlinewidth": 0,
             "ticks": ""
            },
            "colorscale": [
             [
              0,
              "#0d0887"
             ],
             [
              0.1111111111111111,
              "#46039f"
             ],
             [
              0.2222222222222222,
              "#7201a8"
             ],
             [
              0.3333333333333333,
              "#9c179e"
             ],
             [
              0.4444444444444444,
              "#bd3786"
             ],
             [
              0.5555555555555556,
              "#d8576b"
             ],
             [
              0.6666666666666666,
              "#ed7953"
             ],
             [
              0.7777777777777778,
              "#fb9f3a"
             ],
             [
              0.8888888888888888,
              "#fdca26"
             ],
             [
              1,
              "#f0f921"
             ]
            ],
            "type": "heatmap"
           }
          ],
          "heatmapgl": [
           {
            "colorbar": {
             "outlinewidth": 0,
             "ticks": ""
            },
            "colorscale": [
             [
              0,
              "#0d0887"
             ],
             [
              0.1111111111111111,
              "#46039f"
             ],
             [
              0.2222222222222222,
              "#7201a8"
             ],
             [
              0.3333333333333333,
              "#9c179e"
             ],
             [
              0.4444444444444444,
              "#bd3786"
             ],
             [
              0.5555555555555556,
              "#d8576b"
             ],
             [
              0.6666666666666666,
              "#ed7953"
             ],
             [
              0.7777777777777778,
              "#fb9f3a"
             ],
             [
              0.8888888888888888,
              "#fdca26"
             ],
             [
              1,
              "#f0f921"
             ]
            ],
            "type": "heatmapgl"
           }
          ],
          "histogram": [
           {
            "marker": {
             "pattern": {
              "fillmode": "overlay",
              "size": 10,
              "solidity": 0.2
             }
            },
            "type": "histogram"
           }
          ],
          "histogram2d": [
           {
            "colorbar": {
             "outlinewidth": 0,
             "ticks": ""
            },
            "colorscale": [
             [
              0,
              "#0d0887"
             ],
             [
              0.1111111111111111,
              "#46039f"
             ],
             [
              0.2222222222222222,
              "#7201a8"
             ],
             [
              0.3333333333333333,
              "#9c179e"
             ],
             [
              0.4444444444444444,
              "#bd3786"
             ],
             [
              0.5555555555555556,
              "#d8576b"
             ],
             [
              0.6666666666666666,
              "#ed7953"
             ],
             [
              0.7777777777777778,
              "#fb9f3a"
             ],
             [
              0.8888888888888888,
              "#fdca26"
             ],
             [
              1,
              "#f0f921"
             ]
            ],
            "type": "histogram2d"
           }
          ],
          "histogram2dcontour": [
           {
            "colorbar": {
             "outlinewidth": 0,
             "ticks": ""
            },
            "colorscale": [
             [
              0,
              "#0d0887"
             ],
             [
              0.1111111111111111,
              "#46039f"
             ],
             [
              0.2222222222222222,
              "#7201a8"
             ],
             [
              0.3333333333333333,
              "#9c179e"
             ],
             [
              0.4444444444444444,
              "#bd3786"
             ],
             [
              0.5555555555555556,
              "#d8576b"
             ],
             [
              0.6666666666666666,
              "#ed7953"
             ],
             [
              0.7777777777777778,
              "#fb9f3a"
             ],
             [
              0.8888888888888888,
              "#fdca26"
             ],
             [
              1,
              "#f0f921"
             ]
            ],
            "type": "histogram2dcontour"
           }
          ],
          "mesh3d": [
           {
            "colorbar": {
             "outlinewidth": 0,
             "ticks": ""
            },
            "type": "mesh3d"
           }
          ],
          "parcoords": [
           {
            "line": {
             "colorbar": {
              "outlinewidth": 0,
              "ticks": ""
             }
            },
            "type": "parcoords"
           }
          ],
          "pie": [
           {
            "automargin": true,
            "type": "pie"
           }
          ],
          "scatter": [
           {
            "fillpattern": {
             "fillmode": "overlay",
             "size": 10,
             "solidity": 0.2
            },
            "type": "scatter"
           }
          ],
          "scatter3d": [
           {
            "line": {
             "colorbar": {
              "outlinewidth": 0,
              "ticks": ""
             }
            },
            "marker": {
             "colorbar": {
              "outlinewidth": 0,
              "ticks": ""
             }
            },
            "type": "scatter3d"
           }
          ],
          "scattercarpet": [
           {
            "marker": {
             "colorbar": {
              "outlinewidth": 0,
              "ticks": ""
             }
            },
            "type": "scattercarpet"
           }
          ],
          "scattergeo": [
           {
            "marker": {
             "colorbar": {
              "outlinewidth": 0,
              "ticks": ""
             }
            },
            "type": "scattergeo"
           }
          ],
          "scattergl": [
           {
            "marker": {
             "colorbar": {
              "outlinewidth": 0,
              "ticks": ""
             }
            },
            "type": "scattergl"
           }
          ],
          "scattermapbox": [
           {
            "marker": {
             "colorbar": {
              "outlinewidth": 0,
              "ticks": ""
             }
            },
            "type": "scattermapbox"
           }
          ],
          "scatterpolar": [
           {
            "marker": {
             "colorbar": {
              "outlinewidth": 0,
              "ticks": ""
             }
            },
            "type": "scatterpolar"
           }
          ],
          "scatterpolargl": [
           {
            "marker": {
             "colorbar": {
              "outlinewidth": 0,
              "ticks": ""
             }
            },
            "type": "scatterpolargl"
           }
          ],
          "scatterternary": [
           {
            "marker": {
             "colorbar": {
              "outlinewidth": 0,
              "ticks": ""
             }
            },
            "type": "scatterternary"
           }
          ],
          "surface": [
           {
            "colorbar": {
             "outlinewidth": 0,
             "ticks": ""
            },
            "colorscale": [
             [
              0,
              "#0d0887"
             ],
             [
              0.1111111111111111,
              "#46039f"
             ],
             [
              0.2222222222222222,
              "#7201a8"
             ],
             [
              0.3333333333333333,
              "#9c179e"
             ],
             [
              0.4444444444444444,
              "#bd3786"
             ],
             [
              0.5555555555555556,
              "#d8576b"
             ],
             [
              0.6666666666666666,
              "#ed7953"
             ],
             [
              0.7777777777777778,
              "#fb9f3a"
             ],
             [
              0.8888888888888888,
              "#fdca26"
             ],
             [
              1,
              "#f0f921"
             ]
            ],
            "type": "surface"
           }
          ],
          "table": [
           {
            "cells": {
             "fill": {
              "color": "#EBF0F8"
             },
             "line": {
              "color": "white"
             }
            },
            "header": {
             "fill": {
              "color": "#C8D4E3"
             },
             "line": {
              "color": "white"
             }
            },
            "type": "table"
           }
          ]
         },
         "layout": {
          "annotationdefaults": {
           "arrowcolor": "#2a3f5f",
           "arrowhead": 0,
           "arrowwidth": 1
          },
          "autotypenumbers": "strict",
          "coloraxis": {
           "colorbar": {
            "outlinewidth": 0,
            "ticks": ""
           }
          },
          "colorscale": {
           "diverging": [
            [
             0,
             "#8e0152"
            ],
            [
             0.1,
             "#c51b7d"
            ],
            [
             0.2,
             "#de77ae"
            ],
            [
             0.3,
             "#f1b6da"
            ],
            [
             0.4,
             "#fde0ef"
            ],
            [
             0.5,
             "#f7f7f7"
            ],
            [
             0.6,
             "#e6f5d0"
            ],
            [
             0.7,
             "#b8e186"
            ],
            [
             0.8,
             "#7fbc41"
            ],
            [
             0.9,
             "#4d9221"
            ],
            [
             1,
             "#276419"
            ]
           ],
           "sequential": [
            [
             0,
             "#0d0887"
            ],
            [
             0.1111111111111111,
             "#46039f"
            ],
            [
             0.2222222222222222,
             "#7201a8"
            ],
            [
             0.3333333333333333,
             "#9c179e"
            ],
            [
             0.4444444444444444,
             "#bd3786"
            ],
            [
             0.5555555555555556,
             "#d8576b"
            ],
            [
             0.6666666666666666,
             "#ed7953"
            ],
            [
             0.7777777777777778,
             "#fb9f3a"
            ],
            [
             0.8888888888888888,
             "#fdca26"
            ],
            [
             1,
             "#f0f921"
            ]
           ],
           "sequentialminus": [
            [
             0,
             "#0d0887"
            ],
            [
             0.1111111111111111,
             "#46039f"
            ],
            [
             0.2222222222222222,
             "#7201a8"
            ],
            [
             0.3333333333333333,
             "#9c179e"
            ],
            [
             0.4444444444444444,
             "#bd3786"
            ],
            [
             0.5555555555555556,
             "#d8576b"
            ],
            [
             0.6666666666666666,
             "#ed7953"
            ],
            [
             0.7777777777777778,
             "#fb9f3a"
            ],
            [
             0.8888888888888888,
             "#fdca26"
            ],
            [
             1,
             "#f0f921"
            ]
           ]
          },
          "colorway": [
           "#636efa",
           "#EF553B",
           "#00cc96",
           "#ab63fa",
           "#FFA15A",
           "#19d3f3",
           "#FF6692",
           "#B6E880",
           "#FF97FF",
           "#FECB52"
          ],
          "font": {
           "color": "#2a3f5f"
          },
          "geo": {
           "bgcolor": "white",
           "lakecolor": "white",
           "landcolor": "#E5ECF6",
           "showlakes": true,
           "showland": true,
           "subunitcolor": "white"
          },
          "hoverlabel": {
           "align": "left"
          },
          "hovermode": "closest",
          "mapbox": {
           "style": "light"
          },
          "paper_bgcolor": "white",
          "plot_bgcolor": "#E5ECF6",
          "polar": {
           "angularaxis": {
            "gridcolor": "white",
            "linecolor": "white",
            "ticks": ""
           },
           "bgcolor": "#E5ECF6",
           "radialaxis": {
            "gridcolor": "white",
            "linecolor": "white",
            "ticks": ""
           }
          },
          "scene": {
           "xaxis": {
            "backgroundcolor": "#E5ECF6",
            "gridcolor": "white",
            "gridwidth": 2,
            "linecolor": "white",
            "showbackground": true,
            "ticks": "",
            "zerolinecolor": "white"
           },
           "yaxis": {
            "backgroundcolor": "#E5ECF6",
            "gridcolor": "white",
            "gridwidth": 2,
            "linecolor": "white",
            "showbackground": true,
            "ticks": "",
            "zerolinecolor": "white"
           },
           "zaxis": {
            "backgroundcolor": "#E5ECF6",
            "gridcolor": "white",
            "gridwidth": 2,
            "linecolor": "white",
            "showbackground": true,
            "ticks": "",
            "zerolinecolor": "white"
           }
          },
          "shapedefaults": {
           "line": {
            "color": "#2a3f5f"
           }
          },
          "ternary": {
           "aaxis": {
            "gridcolor": "white",
            "linecolor": "white",
            "ticks": ""
           },
           "baxis": {
            "gridcolor": "white",
            "linecolor": "white",
            "ticks": ""
           },
           "bgcolor": "#E5ECF6",
           "caxis": {
            "gridcolor": "white",
            "linecolor": "white",
            "ticks": ""
           }
          },
          "title": {
           "x": 0.05
          },
          "xaxis": {
           "automargin": true,
           "gridcolor": "white",
           "linecolor": "white",
           "ticks": "",
           "title": {
            "standoff": 15
           },
           "zerolinecolor": "white",
           "zerolinewidth": 2
          },
          "yaxis": {
           "automargin": true,
           "gridcolor": "white",
           "linecolor": "white",
           "ticks": "",
           "title": {
            "standoff": 15
           },
           "zerolinecolor": "white",
           "zerolinewidth": 2
          }
         }
        },
        "title": {
         "text": "Logit Difference From Accumulate Residual Stream"
        },
        "xaxis": {
         "anchor": "y",
         "domain": [
          0,
          1
         ],
         "title": {
          "text": "x"
         }
        },
        "yaxis": {
         "anchor": "x",
         "domain": [
          0,
          1
         ],
         "title": {
          "text": "y"
         }
        }
       }
      },
      "text/html": [
       "<div>                            <div id=\"aafbc8d8-0bb0-49b9-896b-2bc77f36b865\" class=\"plotly-graph-div\" style=\"height:525px; width:100%;\"></div>            <script type=\"text/javascript\">                require([\"plotly\"], function(Plotly) {                    window.PLOTLYENV=window.PLOTLYENV || {};                                    if (document.getElementById(\"aafbc8d8-0bb0-49b9-896b-2bc77f36b865\")) {                    Plotly.newPlot(                        \"aafbc8d8-0bb0-49b9-896b-2bc77f36b865\",                        [{\"hovertemplate\":\"\\u003cb\\u003e%{hovertext}\\u003c\\u002fb\\u003e\\u003cbr\\u003e\\u003cbr\\u003ex=%{x}\\u003cbr\\u003ey=%{y}\\u003cextra\\u003e\\u003c\\u002fextra\\u003e\",\"hovertext\":[\"0_pre\",\"0_mid\",\"1_pre\",\"1_mid\",\"2_pre\",\"2_mid\",\"3_pre\",\"3_mid\",\"4_pre\",\"4_mid\",\"5_pre\",\"5_mid\",\"6_pre\",\"6_mid\",\"7_pre\",\"7_mid\",\"8_pre\",\"8_mid\",\"9_pre\",\"9_mid\",\"10_pre\",\"10_mid\",\"11_pre\",\"11_mid\",\"final_post\"],\"legendgroup\":\"\",\"line\":{\"color\":\"#636efa\",\"dash\":\"solid\"},\"marker\":{\"symbol\":\"circle\"},\"mode\":\"lines\",\"name\":\"\",\"orientation\":\"v\",\"showlegend\":false,\"x\":[0.0,0.5,1.0,1.5,2.0,2.5,3.0,3.5,4.0,4.5,5.0,5.5,6.0,6.5,7.0,7.5,8.0,8.5,9.0,9.5,10.0,10.5,11.0,11.5,12.0],\"xaxis\":\"x\",\"y\":[0.0001336860004812479,-0.009874820709228516,-0.006778085138648748,-0.007314112037420273,-0.004454359412193298,-0.0033023301512002945,-0.0030540861189365387,-0.00463724322617054,-0.004473856184631586,-0.0034180188085883856,-0.0008107632747851312,0.0007007186650298536,-0.00011655587877612561,-0.018208283931016922,-0.013650303706526756,0.19535887241363525,0.20771048963069916,0.252632200717926,0.26725322008132935,0.907801628112793,0.9555791616439819,1.0680160522460938,1.1442354917526245,0.5923730731010437,0.6298245191574097],\"yaxis\":\"y\",\"type\":\"scatter\"}],                        {\"template\":{\"data\":{\"histogram2dcontour\":[{\"type\":\"histogram2dcontour\",\"colorbar\":{\"outlinewidth\":0,\"ticks\":\"\"},\"colorscale\":[[0.0,\"#0d0887\"],[0.1111111111111111,\"#46039f\"],[0.2222222222222222,\"#7201a8\"],[0.3333333333333333,\"#9c179e\"],[0.4444444444444444,\"#bd3786\"],[0.5555555555555556,\"#d8576b\"],[0.6666666666666666,\"#ed7953\"],[0.7777777777777778,\"#fb9f3a\"],[0.8888888888888888,\"#fdca26\"],[1.0,\"#f0f921\"]]}],\"choropleth\":[{\"type\":\"choropleth\",\"colorbar\":{\"outlinewidth\":0,\"ticks\":\"\"}}],\"histogram2d\":[{\"type\":\"histogram2d\",\"colorbar\":{\"outlinewidth\":0,\"ticks\":\"\"},\"colorscale\":[[0.0,\"#0d0887\"],[0.1111111111111111,\"#46039f\"],[0.2222222222222222,\"#7201a8\"],[0.3333333333333333,\"#9c179e\"],[0.4444444444444444,\"#bd3786\"],[0.5555555555555556,\"#d8576b\"],[0.6666666666666666,\"#ed7953\"],[0.7777777777777778,\"#fb9f3a\"],[0.8888888888888888,\"#fdca26\"],[1.0,\"#f0f921\"]]}],\"heatmap\":[{\"type\":\"heatmap\",\"colorbar\":{\"outlinewidth\":0,\"ticks\":\"\"},\"colorscale\":[[0.0,\"#0d0887\"],[0.1111111111111111,\"#46039f\"],[0.2222222222222222,\"#7201a8\"],[0.3333333333333333,\"#9c179e\"],[0.4444444444444444,\"#bd3786\"],[0.5555555555555556,\"#d8576b\"],[0.6666666666666666,\"#ed7953\"],[0.7777777777777778,\"#fb9f3a\"],[0.8888888888888888,\"#fdca26\"],[1.0,\"#f0f921\"]]}],\"heatmapgl\":[{\"type\":\"heatmapgl\",\"colorbar\":{\"outlinewidth\":0,\"ticks\":\"\"},\"colorscale\":[[0.0,\"#0d0887\"],[0.1111111111111111,\"#46039f\"],[0.2222222222222222,\"#7201a8\"],[0.3333333333333333,\"#9c179e\"],[0.4444444444444444,\"#bd3786\"],[0.5555555555555556,\"#d8576b\"],[0.6666666666666666,\"#ed7953\"],[0.7777777777777778,\"#fb9f3a\"],[0.8888888888888888,\"#fdca26\"],[1.0,\"#f0f921\"]]}],\"contourcarpet\":[{\"type\":\"contourcarpet\",\"colorbar\":{\"outlinewidth\":0,\"ticks\":\"\"}}],\"contour\":[{\"type\":\"contour\",\"colorbar\":{\"outlinewidth\":0,\"ticks\":\"\"},\"colorscale\":[[0.0,\"#0d0887\"],[0.1111111111111111,\"#46039f\"],[0.2222222222222222,\"#7201a8\"],[0.3333333333333333,\"#9c179e\"],[0.4444444444444444,\"#bd3786\"],[0.5555555555555556,\"#d8576b\"],[0.6666666666666666,\"#ed7953\"],[0.7777777777777778,\"#fb9f3a\"],[0.8888888888888888,\"#fdca26\"],[1.0,\"#f0f921\"]]}],\"surface\":[{\"type\":\"surface\",\"colorbar\":{\"outlinewidth\":0,\"ticks\":\"\"},\"colorscale\":[[0.0,\"#0d0887\"],[0.1111111111111111,\"#46039f\"],[0.2222222222222222,\"#7201a8\"],[0.3333333333333333,\"#9c179e\"],[0.4444444444444444,\"#bd3786\"],[0.5555555555555556,\"#d8576b\"],[0.6666666666666666,\"#ed7953\"],[0.7777777777777778,\"#fb9f3a\"],[0.8888888888888888,\"#fdca26\"],[1.0,\"#f0f921\"]]}],\"mesh3d\":[{\"type\":\"mesh3d\",\"colorbar\":{\"outlinewidth\":0,\"ticks\":\"\"}}],\"scatter\":[{\"fillpattern\":{\"fillmode\":\"overlay\",\"size\":10,\"solidity\":0.2},\"type\":\"scatter\"}],\"parcoords\":[{\"type\":\"parcoords\",\"line\":{\"colorbar\":{\"outlinewidth\":0,\"ticks\":\"\"}}}],\"scatterpolargl\":[{\"type\":\"scatterpolargl\",\"marker\":{\"colorbar\":{\"outlinewidth\":0,\"ticks\":\"\"}}}],\"bar\":[{\"error_x\":{\"color\":\"#2a3f5f\"},\"error_y\":{\"color\":\"#2a3f5f\"},\"marker\":{\"line\":{\"color\":\"#E5ECF6\",\"width\":0.5},\"pattern\":{\"fillmode\":\"overlay\",\"size\":10,\"solidity\":0.2}},\"type\":\"bar\"}],\"scattergeo\":[{\"type\":\"scattergeo\",\"marker\":{\"colorbar\":{\"outlinewidth\":0,\"ticks\":\"\"}}}],\"scatterpolar\":[{\"type\":\"scatterpolar\",\"marker\":{\"colorbar\":{\"outlinewidth\":0,\"ticks\":\"\"}}}],\"histogram\":[{\"marker\":{\"pattern\":{\"fillmode\":\"overlay\",\"size\":10,\"solidity\":0.2}},\"type\":\"histogram\"}],\"scattergl\":[{\"type\":\"scattergl\",\"marker\":{\"colorbar\":{\"outlinewidth\":0,\"ticks\":\"\"}}}],\"scatter3d\":[{\"type\":\"scatter3d\",\"line\":{\"colorbar\":{\"outlinewidth\":0,\"ticks\":\"\"}},\"marker\":{\"colorbar\":{\"outlinewidth\":0,\"ticks\":\"\"}}}],\"scattermapbox\":[{\"type\":\"scattermapbox\",\"marker\":{\"colorbar\":{\"outlinewidth\":0,\"ticks\":\"\"}}}],\"scatterternary\":[{\"type\":\"scatterternary\",\"marker\":{\"colorbar\":{\"outlinewidth\":0,\"ticks\":\"\"}}}],\"scattercarpet\":[{\"type\":\"scattercarpet\",\"marker\":{\"colorbar\":{\"outlinewidth\":0,\"ticks\":\"\"}}}],\"carpet\":[{\"aaxis\":{\"endlinecolor\":\"#2a3f5f\",\"gridcolor\":\"white\",\"linecolor\":\"white\",\"minorgridcolor\":\"white\",\"startlinecolor\":\"#2a3f5f\"},\"baxis\":{\"endlinecolor\":\"#2a3f5f\",\"gridcolor\":\"white\",\"linecolor\":\"white\",\"minorgridcolor\":\"white\",\"startlinecolor\":\"#2a3f5f\"},\"type\":\"carpet\"}],\"table\":[{\"cells\":{\"fill\":{\"color\":\"#EBF0F8\"},\"line\":{\"color\":\"white\"}},\"header\":{\"fill\":{\"color\":\"#C8D4E3\"},\"line\":{\"color\":\"white\"}},\"type\":\"table\"}],\"barpolar\":[{\"marker\":{\"line\":{\"color\":\"#E5ECF6\",\"width\":0.5},\"pattern\":{\"fillmode\":\"overlay\",\"size\":10,\"solidity\":0.2}},\"type\":\"barpolar\"}],\"pie\":[{\"automargin\":true,\"type\":\"pie\"}]},\"layout\":{\"autotypenumbers\":\"strict\",\"colorway\":[\"#636efa\",\"#EF553B\",\"#00cc96\",\"#ab63fa\",\"#FFA15A\",\"#19d3f3\",\"#FF6692\",\"#B6E880\",\"#FF97FF\",\"#FECB52\"],\"font\":{\"color\":\"#2a3f5f\"},\"hovermode\":\"closest\",\"hoverlabel\":{\"align\":\"left\"},\"paper_bgcolor\":\"white\",\"plot_bgcolor\":\"#E5ECF6\",\"polar\":{\"bgcolor\":\"#E5ECF6\",\"angularaxis\":{\"gridcolor\":\"white\",\"linecolor\":\"white\",\"ticks\":\"\"},\"radialaxis\":{\"gridcolor\":\"white\",\"linecolor\":\"white\",\"ticks\":\"\"}},\"ternary\":{\"bgcolor\":\"#E5ECF6\",\"aaxis\":{\"gridcolor\":\"white\",\"linecolor\":\"white\",\"ticks\":\"\"},\"baxis\":{\"gridcolor\":\"white\",\"linecolor\":\"white\",\"ticks\":\"\"},\"caxis\":{\"gridcolor\":\"white\",\"linecolor\":\"white\",\"ticks\":\"\"}},\"coloraxis\":{\"colorbar\":{\"outlinewidth\":0,\"ticks\":\"\"}},\"colorscale\":{\"sequential\":[[0.0,\"#0d0887\"],[0.1111111111111111,\"#46039f\"],[0.2222222222222222,\"#7201a8\"],[0.3333333333333333,\"#9c179e\"],[0.4444444444444444,\"#bd3786\"],[0.5555555555555556,\"#d8576b\"],[0.6666666666666666,\"#ed7953\"],[0.7777777777777778,\"#fb9f3a\"],[0.8888888888888888,\"#fdca26\"],[1.0,\"#f0f921\"]],\"sequentialminus\":[[0.0,\"#0d0887\"],[0.1111111111111111,\"#46039f\"],[0.2222222222222222,\"#7201a8\"],[0.3333333333333333,\"#9c179e\"],[0.4444444444444444,\"#bd3786\"],[0.5555555555555556,\"#d8576b\"],[0.6666666666666666,\"#ed7953\"],[0.7777777777777778,\"#fb9f3a\"],[0.8888888888888888,\"#fdca26\"],[1.0,\"#f0f921\"]],\"diverging\":[[0,\"#8e0152\"],[0.1,\"#c51b7d\"],[0.2,\"#de77ae\"],[0.3,\"#f1b6da\"],[0.4,\"#fde0ef\"],[0.5,\"#f7f7f7\"],[0.6,\"#e6f5d0\"],[0.7,\"#b8e186\"],[0.8,\"#7fbc41\"],[0.9,\"#4d9221\"],[1,\"#276419\"]]},\"xaxis\":{\"gridcolor\":\"white\",\"linecolor\":\"white\",\"ticks\":\"\",\"title\":{\"standoff\":15},\"zerolinecolor\":\"white\",\"automargin\":true,\"zerolinewidth\":2},\"yaxis\":{\"gridcolor\":\"white\",\"linecolor\":\"white\",\"ticks\":\"\",\"title\":{\"standoff\":15},\"zerolinecolor\":\"white\",\"automargin\":true,\"zerolinewidth\":2},\"scene\":{\"xaxis\":{\"backgroundcolor\":\"#E5ECF6\",\"gridcolor\":\"white\",\"linecolor\":\"white\",\"showbackground\":true,\"ticks\":\"\",\"zerolinecolor\":\"white\",\"gridwidth\":2},\"yaxis\":{\"backgroundcolor\":\"#E5ECF6\",\"gridcolor\":\"white\",\"linecolor\":\"white\",\"showbackground\":true,\"ticks\":\"\",\"zerolinecolor\":\"white\",\"gridwidth\":2},\"zaxis\":{\"backgroundcolor\":\"#E5ECF6\",\"gridcolor\":\"white\",\"linecolor\":\"white\",\"showbackground\":true,\"ticks\":\"\",\"zerolinecolor\":\"white\",\"gridwidth\":2}},\"shapedefaults\":{\"line\":{\"color\":\"#2a3f5f\"}},\"annotationdefaults\":{\"arrowcolor\":\"#2a3f5f\",\"arrowhead\":0,\"arrowwidth\":1},\"geo\":{\"bgcolor\":\"white\",\"landcolor\":\"#E5ECF6\",\"subunitcolor\":\"white\",\"showland\":true,\"showlakes\":true,\"lakecolor\":\"white\"},\"title\":{\"x\":0.05},\"mapbox\":{\"style\":\"light\"}}},\"xaxis\":{\"anchor\":\"y\",\"domain\":[0.0,1.0],\"title\":{\"text\":\"x\"}},\"yaxis\":{\"anchor\":\"x\",\"domain\":[0.0,1.0],\"title\":{\"text\":\"y\"}},\"legend\":{\"tracegroupgap\":0},\"title\":{\"text\":\"Logit Difference From Accumulate Residual Stream\"}},                        {\"responsive\": true}                    ).then(function(){\n",
       "                            \n",
       "var gd = document.getElementById('aafbc8d8-0bb0-49b9-896b-2bc77f36b865');\n",
       "var x = new MutationObserver(function (mutations, observer) {{\n",
       "        var display = window.getComputedStyle(gd).display;\n",
       "        if (!display || display === 'none') {{\n",
       "            console.log([gd, 'removed!']);\n",
       "            Plotly.purge(gd);\n",
       "            observer.disconnect();\n",
       "        }}\n",
       "}});\n",
       "\n",
       "// Listen for the removal of the full notebook cells\n",
       "var notebookContainer = gd.closest('#notebook-container');\n",
       "if (notebookContainer) {{\n",
       "    x.observe(notebookContainer, {childList: true});\n",
       "}}\n",
       "\n",
       "// Listen for the clearing of the current output cell\n",
       "var outputEl = gd.closest('.output');\n",
       "if (outputEl) {{\n",
       "    x.observe(outputEl, {childList: true});\n",
       "}}\n",
       "\n",
       "                        })                };                });            </script>        </div>"
      ]
     },
     "metadata": {},
     "output_type": "display_data"
    }
   ],
   "source": [
    "accumulated_residual, labels = cache.accumulated_resid(\n",
    "    layer=-1, incl_mid=True, pos_slice=-1, return_labels=True\n",
    ")\n",
    "logit_lens_logit_diffs = residual_stack_to_logit_diff(accumulated_residual, cache)\n",
    "line(\n",
    "    logit_lens_logit_diffs,\n",
    "    x=np.arange(model.cfg.n_layers * 2 + 1) / 2,\n",
    "    hover_name=labels,\n",
    "    title=\"Logit Difference From Accumulate Residual Stream\",\n",
    ")"
   ]
  },
  {
   "cell_type": "code",
   "execution_count": 74,
   "metadata": {},
   "outputs": [
    {
     "data": {
      "application/vnd.plotly.v1+json": {
       "config": {
        "plotlyServerURL": "https://plot.ly"
       },
       "data": [
        {
         "hovertemplate": "<b>%{hovertext}</b><br><br>x=%{x}<br>y=%{y}<extra></extra>",
         "hovertext": [
          "embed",
          "pos_embed",
          "0_attn_out",
          "0_mlp_out",
          "1_attn_out",
          "1_mlp_out",
          "2_attn_out",
          "2_mlp_out",
          "3_attn_out",
          "3_mlp_out",
          "4_attn_out",
          "4_mlp_out",
          "5_attn_out",
          "5_mlp_out",
          "6_attn_out",
          "6_mlp_out",
          "7_attn_out",
          "7_mlp_out",
          "8_attn_out",
          "8_mlp_out",
          "9_attn_out",
          "9_mlp_out",
          "10_attn_out",
          "10_mlp_out",
          "11_attn_out",
          "11_mlp_out"
         ],
         "legendgroup": "",
         "line": {
          "color": "#636efa",
          "dash": "solid"
         },
         "marker": {
          "symbol": "circle"
         },
         "mode": "lines",
         "name": "",
         "orientation": "v",
         "showlegend": false,
         "type": "scatter",
         "x": [
          0,
          1,
          2,
          3,
          4,
          5,
          6,
          7,
          8,
          9,
          10,
          11,
          12,
          13,
          14,
          15,
          16,
          17,
          18,
          19,
          20,
          21,
          22,
          23,
          24,
          25
         ],
         "xaxis": "x",
         "y": [
          0.000003744543846551096,
          0.00012994355347473174,
          -0.010008508339524269,
          0.003096724394708872,
          -0.0005360170034691691,
          0.002859757049009204,
          0.0011520176194608212,
          0.0002482461277395487,
          -0.0015831574564799666,
          0.0001633953652344644,
          0.0010558436624705791,
          0.0026072419714182615,
          0.0015114577254280448,
          -0.000817264779470861,
          -0.018091728910803795,
          0.0045579541474580765,
          0.20900917053222656,
          0.012351637706160545,
          0.044921692460775375,
          0.014620992355048656,
          0.6405484080314636,
          0.04777756333351135,
          0.11243689060211182,
          0.07621940225362778,
          -0.5518624782562256,
          0.037451665848493576
         ],
         "yaxis": "y"
        }
       ],
       "layout": {
        "legend": {
         "tracegroupgap": 0
        },
        "template": {
         "data": {
          "bar": [
           {
            "error_x": {
             "color": "#2a3f5f"
            },
            "error_y": {
             "color": "#2a3f5f"
            },
            "marker": {
             "line": {
              "color": "#E5ECF6",
              "width": 0.5
             },
             "pattern": {
              "fillmode": "overlay",
              "size": 10,
              "solidity": 0.2
             }
            },
            "type": "bar"
           }
          ],
          "barpolar": [
           {
            "marker": {
             "line": {
              "color": "#E5ECF6",
              "width": 0.5
             },
             "pattern": {
              "fillmode": "overlay",
              "size": 10,
              "solidity": 0.2
             }
            },
            "type": "barpolar"
           }
          ],
          "carpet": [
           {
            "aaxis": {
             "endlinecolor": "#2a3f5f",
             "gridcolor": "white",
             "linecolor": "white",
             "minorgridcolor": "white",
             "startlinecolor": "#2a3f5f"
            },
            "baxis": {
             "endlinecolor": "#2a3f5f",
             "gridcolor": "white",
             "linecolor": "white",
             "minorgridcolor": "white",
             "startlinecolor": "#2a3f5f"
            },
            "type": "carpet"
           }
          ],
          "choropleth": [
           {
            "colorbar": {
             "outlinewidth": 0,
             "ticks": ""
            },
            "type": "choropleth"
           }
          ],
          "contour": [
           {
            "colorbar": {
             "outlinewidth": 0,
             "ticks": ""
            },
            "colorscale": [
             [
              0,
              "#0d0887"
             ],
             [
              0.1111111111111111,
              "#46039f"
             ],
             [
              0.2222222222222222,
              "#7201a8"
             ],
             [
              0.3333333333333333,
              "#9c179e"
             ],
             [
              0.4444444444444444,
              "#bd3786"
             ],
             [
              0.5555555555555556,
              "#d8576b"
             ],
             [
              0.6666666666666666,
              "#ed7953"
             ],
             [
              0.7777777777777778,
              "#fb9f3a"
             ],
             [
              0.8888888888888888,
              "#fdca26"
             ],
             [
              1,
              "#f0f921"
             ]
            ],
            "type": "contour"
           }
          ],
          "contourcarpet": [
           {
            "colorbar": {
             "outlinewidth": 0,
             "ticks": ""
            },
            "type": "contourcarpet"
           }
          ],
          "heatmap": [
           {
            "colorbar": {
             "outlinewidth": 0,
             "ticks": ""
            },
            "colorscale": [
             [
              0,
              "#0d0887"
             ],
             [
              0.1111111111111111,
              "#46039f"
             ],
             [
              0.2222222222222222,
              "#7201a8"
             ],
             [
              0.3333333333333333,
              "#9c179e"
             ],
             [
              0.4444444444444444,
              "#bd3786"
             ],
             [
              0.5555555555555556,
              "#d8576b"
             ],
             [
              0.6666666666666666,
              "#ed7953"
             ],
             [
              0.7777777777777778,
              "#fb9f3a"
             ],
             [
              0.8888888888888888,
              "#fdca26"
             ],
             [
              1,
              "#f0f921"
             ]
            ],
            "type": "heatmap"
           }
          ],
          "heatmapgl": [
           {
            "colorbar": {
             "outlinewidth": 0,
             "ticks": ""
            },
            "colorscale": [
             [
              0,
              "#0d0887"
             ],
             [
              0.1111111111111111,
              "#46039f"
             ],
             [
              0.2222222222222222,
              "#7201a8"
             ],
             [
              0.3333333333333333,
              "#9c179e"
             ],
             [
              0.4444444444444444,
              "#bd3786"
             ],
             [
              0.5555555555555556,
              "#d8576b"
             ],
             [
              0.6666666666666666,
              "#ed7953"
             ],
             [
              0.7777777777777778,
              "#fb9f3a"
             ],
             [
              0.8888888888888888,
              "#fdca26"
             ],
             [
              1,
              "#f0f921"
             ]
            ],
            "type": "heatmapgl"
           }
          ],
          "histogram": [
           {
            "marker": {
             "pattern": {
              "fillmode": "overlay",
              "size": 10,
              "solidity": 0.2
             }
            },
            "type": "histogram"
           }
          ],
          "histogram2d": [
           {
            "colorbar": {
             "outlinewidth": 0,
             "ticks": ""
            },
            "colorscale": [
             [
              0,
              "#0d0887"
             ],
             [
              0.1111111111111111,
              "#46039f"
             ],
             [
              0.2222222222222222,
              "#7201a8"
             ],
             [
              0.3333333333333333,
              "#9c179e"
             ],
             [
              0.4444444444444444,
              "#bd3786"
             ],
             [
              0.5555555555555556,
              "#d8576b"
             ],
             [
              0.6666666666666666,
              "#ed7953"
             ],
             [
              0.7777777777777778,
              "#fb9f3a"
             ],
             [
              0.8888888888888888,
              "#fdca26"
             ],
             [
              1,
              "#f0f921"
             ]
            ],
            "type": "histogram2d"
           }
          ],
          "histogram2dcontour": [
           {
            "colorbar": {
             "outlinewidth": 0,
             "ticks": ""
            },
            "colorscale": [
             [
              0,
              "#0d0887"
             ],
             [
              0.1111111111111111,
              "#46039f"
             ],
             [
              0.2222222222222222,
              "#7201a8"
             ],
             [
              0.3333333333333333,
              "#9c179e"
             ],
             [
              0.4444444444444444,
              "#bd3786"
             ],
             [
              0.5555555555555556,
              "#d8576b"
             ],
             [
              0.6666666666666666,
              "#ed7953"
             ],
             [
              0.7777777777777778,
              "#fb9f3a"
             ],
             [
              0.8888888888888888,
              "#fdca26"
             ],
             [
              1,
              "#f0f921"
             ]
            ],
            "type": "histogram2dcontour"
           }
          ],
          "mesh3d": [
           {
            "colorbar": {
             "outlinewidth": 0,
             "ticks": ""
            },
            "type": "mesh3d"
           }
          ],
          "parcoords": [
           {
            "line": {
             "colorbar": {
              "outlinewidth": 0,
              "ticks": ""
             }
            },
            "type": "parcoords"
           }
          ],
          "pie": [
           {
            "automargin": true,
            "type": "pie"
           }
          ],
          "scatter": [
           {
            "fillpattern": {
             "fillmode": "overlay",
             "size": 10,
             "solidity": 0.2
            },
            "type": "scatter"
           }
          ],
          "scatter3d": [
           {
            "line": {
             "colorbar": {
              "outlinewidth": 0,
              "ticks": ""
             }
            },
            "marker": {
             "colorbar": {
              "outlinewidth": 0,
              "ticks": ""
             }
            },
            "type": "scatter3d"
           }
          ],
          "scattercarpet": [
           {
            "marker": {
             "colorbar": {
              "outlinewidth": 0,
              "ticks": ""
             }
            },
            "type": "scattercarpet"
           }
          ],
          "scattergeo": [
           {
            "marker": {
             "colorbar": {
              "outlinewidth": 0,
              "ticks": ""
             }
            },
            "type": "scattergeo"
           }
          ],
          "scattergl": [
           {
            "marker": {
             "colorbar": {
              "outlinewidth": 0,
              "ticks": ""
             }
            },
            "type": "scattergl"
           }
          ],
          "scattermapbox": [
           {
            "marker": {
             "colorbar": {
              "outlinewidth": 0,
              "ticks": ""
             }
            },
            "type": "scattermapbox"
           }
          ],
          "scatterpolar": [
           {
            "marker": {
             "colorbar": {
              "outlinewidth": 0,
              "ticks": ""
             }
            },
            "type": "scatterpolar"
           }
          ],
          "scatterpolargl": [
           {
            "marker": {
             "colorbar": {
              "outlinewidth": 0,
              "ticks": ""
             }
            },
            "type": "scatterpolargl"
           }
          ],
          "scatterternary": [
           {
            "marker": {
             "colorbar": {
              "outlinewidth": 0,
              "ticks": ""
             }
            },
            "type": "scatterternary"
           }
          ],
          "surface": [
           {
            "colorbar": {
             "outlinewidth": 0,
             "ticks": ""
            },
            "colorscale": [
             [
              0,
              "#0d0887"
             ],
             [
              0.1111111111111111,
              "#46039f"
             ],
             [
              0.2222222222222222,
              "#7201a8"
             ],
             [
              0.3333333333333333,
              "#9c179e"
             ],
             [
              0.4444444444444444,
              "#bd3786"
             ],
             [
              0.5555555555555556,
              "#d8576b"
             ],
             [
              0.6666666666666666,
              "#ed7953"
             ],
             [
              0.7777777777777778,
              "#fb9f3a"
             ],
             [
              0.8888888888888888,
              "#fdca26"
             ],
             [
              1,
              "#f0f921"
             ]
            ],
            "type": "surface"
           }
          ],
          "table": [
           {
            "cells": {
             "fill": {
              "color": "#EBF0F8"
             },
             "line": {
              "color": "white"
             }
            },
            "header": {
             "fill": {
              "color": "#C8D4E3"
             },
             "line": {
              "color": "white"
             }
            },
            "type": "table"
           }
          ]
         },
         "layout": {
          "annotationdefaults": {
           "arrowcolor": "#2a3f5f",
           "arrowhead": 0,
           "arrowwidth": 1
          },
          "autotypenumbers": "strict",
          "coloraxis": {
           "colorbar": {
            "outlinewidth": 0,
            "ticks": ""
           }
          },
          "colorscale": {
           "diverging": [
            [
             0,
             "#8e0152"
            ],
            [
             0.1,
             "#c51b7d"
            ],
            [
             0.2,
             "#de77ae"
            ],
            [
             0.3,
             "#f1b6da"
            ],
            [
             0.4,
             "#fde0ef"
            ],
            [
             0.5,
             "#f7f7f7"
            ],
            [
             0.6,
             "#e6f5d0"
            ],
            [
             0.7,
             "#b8e186"
            ],
            [
             0.8,
             "#7fbc41"
            ],
            [
             0.9,
             "#4d9221"
            ],
            [
             1,
             "#276419"
            ]
           ],
           "sequential": [
            [
             0,
             "#0d0887"
            ],
            [
             0.1111111111111111,
             "#46039f"
            ],
            [
             0.2222222222222222,
             "#7201a8"
            ],
            [
             0.3333333333333333,
             "#9c179e"
            ],
            [
             0.4444444444444444,
             "#bd3786"
            ],
            [
             0.5555555555555556,
             "#d8576b"
            ],
            [
             0.6666666666666666,
             "#ed7953"
            ],
            [
             0.7777777777777778,
             "#fb9f3a"
            ],
            [
             0.8888888888888888,
             "#fdca26"
            ],
            [
             1,
             "#f0f921"
            ]
           ],
           "sequentialminus": [
            [
             0,
             "#0d0887"
            ],
            [
             0.1111111111111111,
             "#46039f"
            ],
            [
             0.2222222222222222,
             "#7201a8"
            ],
            [
             0.3333333333333333,
             "#9c179e"
            ],
            [
             0.4444444444444444,
             "#bd3786"
            ],
            [
             0.5555555555555556,
             "#d8576b"
            ],
            [
             0.6666666666666666,
             "#ed7953"
            ],
            [
             0.7777777777777778,
             "#fb9f3a"
            ],
            [
             0.8888888888888888,
             "#fdca26"
            ],
            [
             1,
             "#f0f921"
            ]
           ]
          },
          "colorway": [
           "#636efa",
           "#EF553B",
           "#00cc96",
           "#ab63fa",
           "#FFA15A",
           "#19d3f3",
           "#FF6692",
           "#B6E880",
           "#FF97FF",
           "#FECB52"
          ],
          "font": {
           "color": "#2a3f5f"
          },
          "geo": {
           "bgcolor": "white",
           "lakecolor": "white",
           "landcolor": "#E5ECF6",
           "showlakes": true,
           "showland": true,
           "subunitcolor": "white"
          },
          "hoverlabel": {
           "align": "left"
          },
          "hovermode": "closest",
          "mapbox": {
           "style": "light"
          },
          "paper_bgcolor": "white",
          "plot_bgcolor": "#E5ECF6",
          "polar": {
           "angularaxis": {
            "gridcolor": "white",
            "linecolor": "white",
            "ticks": ""
           },
           "bgcolor": "#E5ECF6",
           "radialaxis": {
            "gridcolor": "white",
            "linecolor": "white",
            "ticks": ""
           }
          },
          "scene": {
           "xaxis": {
            "backgroundcolor": "#E5ECF6",
            "gridcolor": "white",
            "gridwidth": 2,
            "linecolor": "white",
            "showbackground": true,
            "ticks": "",
            "zerolinecolor": "white"
           },
           "yaxis": {
            "backgroundcolor": "#E5ECF6",
            "gridcolor": "white",
            "gridwidth": 2,
            "linecolor": "white",
            "showbackground": true,
            "ticks": "",
            "zerolinecolor": "white"
           },
           "zaxis": {
            "backgroundcolor": "#E5ECF6",
            "gridcolor": "white",
            "gridwidth": 2,
            "linecolor": "white",
            "showbackground": true,
            "ticks": "",
            "zerolinecolor": "white"
           }
          },
          "shapedefaults": {
           "line": {
            "color": "#2a3f5f"
           }
          },
          "ternary": {
           "aaxis": {
            "gridcolor": "white",
            "linecolor": "white",
            "ticks": ""
           },
           "baxis": {
            "gridcolor": "white",
            "linecolor": "white",
            "ticks": ""
           },
           "bgcolor": "#E5ECF6",
           "caxis": {
            "gridcolor": "white",
            "linecolor": "white",
            "ticks": ""
           }
          },
          "title": {
           "x": 0.05
          },
          "xaxis": {
           "automargin": true,
           "gridcolor": "white",
           "linecolor": "white",
           "ticks": "",
           "title": {
            "standoff": 15
           },
           "zerolinecolor": "white",
           "zerolinewidth": 2
          },
          "yaxis": {
           "automargin": true,
           "gridcolor": "white",
           "linecolor": "white",
           "ticks": "",
           "title": {
            "standoff": 15
           },
           "zerolinecolor": "white",
           "zerolinewidth": 2
          }
         }
        },
        "title": {
         "text": "Logit Difference From Each Layer"
        },
        "xaxis": {
         "anchor": "y",
         "domain": [
          0,
          1
         ],
         "title": {
          "text": "x"
         }
        },
        "yaxis": {
         "anchor": "x",
         "domain": [
          0,
          1
         ],
         "title": {
          "text": "y"
         }
        }
       }
      },
      "text/html": [
       "<div>                            <div id=\"8be6ed16-360e-43a7-be58-84ee189d7aa4\" class=\"plotly-graph-div\" style=\"height:525px; width:100%;\"></div>            <script type=\"text/javascript\">                require([\"plotly\"], function(Plotly) {                    window.PLOTLYENV=window.PLOTLYENV || {};                                    if (document.getElementById(\"8be6ed16-360e-43a7-be58-84ee189d7aa4\")) {                    Plotly.newPlot(                        \"8be6ed16-360e-43a7-be58-84ee189d7aa4\",                        [{\"hovertemplate\":\"\\u003cb\\u003e%{hovertext}\\u003c\\u002fb\\u003e\\u003cbr\\u003e\\u003cbr\\u003ex=%{x}\\u003cbr\\u003ey=%{y}\\u003cextra\\u003e\\u003c\\u002fextra\\u003e\",\"hovertext\":[\"embed\",\"pos_embed\",\"0_attn_out\",\"0_mlp_out\",\"1_attn_out\",\"1_mlp_out\",\"2_attn_out\",\"2_mlp_out\",\"3_attn_out\",\"3_mlp_out\",\"4_attn_out\",\"4_mlp_out\",\"5_attn_out\",\"5_mlp_out\",\"6_attn_out\",\"6_mlp_out\",\"7_attn_out\",\"7_mlp_out\",\"8_attn_out\",\"8_mlp_out\",\"9_attn_out\",\"9_mlp_out\",\"10_attn_out\",\"10_mlp_out\",\"11_attn_out\",\"11_mlp_out\"],\"legendgroup\":\"\",\"line\":{\"color\":\"#636efa\",\"dash\":\"solid\"},\"marker\":{\"symbol\":\"circle\"},\"mode\":\"lines\",\"name\":\"\",\"orientation\":\"v\",\"showlegend\":false,\"x\":[0,1,2,3,4,5,6,7,8,9,10,11,12,13,14,15,16,17,18,19,20,21,22,23,24,25],\"xaxis\":\"x\",\"y\":[3.744543846551096e-06,0.00012994355347473174,-0.010008508339524269,0.003096724394708872,-0.0005360170034691691,0.002859757049009204,0.0011520176194608212,0.0002482461277395487,-0.0015831574564799666,0.0001633953652344644,0.0010558436624705791,0.0026072419714182615,0.0015114577254280448,-0.000817264779470861,-0.018091728910803795,0.0045579541474580765,0.20900917053222656,0.012351637706160545,0.044921692460775375,0.014620992355048656,0.6405484080314636,0.04777756333351135,0.11243689060211182,0.07621940225362778,-0.5518624782562256,0.037451665848493576],\"yaxis\":\"y\",\"type\":\"scatter\"}],                        {\"template\":{\"data\":{\"histogram2dcontour\":[{\"type\":\"histogram2dcontour\",\"colorbar\":{\"outlinewidth\":0,\"ticks\":\"\"},\"colorscale\":[[0.0,\"#0d0887\"],[0.1111111111111111,\"#46039f\"],[0.2222222222222222,\"#7201a8\"],[0.3333333333333333,\"#9c179e\"],[0.4444444444444444,\"#bd3786\"],[0.5555555555555556,\"#d8576b\"],[0.6666666666666666,\"#ed7953\"],[0.7777777777777778,\"#fb9f3a\"],[0.8888888888888888,\"#fdca26\"],[1.0,\"#f0f921\"]]}],\"choropleth\":[{\"type\":\"choropleth\",\"colorbar\":{\"outlinewidth\":0,\"ticks\":\"\"}}],\"histogram2d\":[{\"type\":\"histogram2d\",\"colorbar\":{\"outlinewidth\":0,\"ticks\":\"\"},\"colorscale\":[[0.0,\"#0d0887\"],[0.1111111111111111,\"#46039f\"],[0.2222222222222222,\"#7201a8\"],[0.3333333333333333,\"#9c179e\"],[0.4444444444444444,\"#bd3786\"],[0.5555555555555556,\"#d8576b\"],[0.6666666666666666,\"#ed7953\"],[0.7777777777777778,\"#fb9f3a\"],[0.8888888888888888,\"#fdca26\"],[1.0,\"#f0f921\"]]}],\"heatmap\":[{\"type\":\"heatmap\",\"colorbar\":{\"outlinewidth\":0,\"ticks\":\"\"},\"colorscale\":[[0.0,\"#0d0887\"],[0.1111111111111111,\"#46039f\"],[0.2222222222222222,\"#7201a8\"],[0.3333333333333333,\"#9c179e\"],[0.4444444444444444,\"#bd3786\"],[0.5555555555555556,\"#d8576b\"],[0.6666666666666666,\"#ed7953\"],[0.7777777777777778,\"#fb9f3a\"],[0.8888888888888888,\"#fdca26\"],[1.0,\"#f0f921\"]]}],\"heatmapgl\":[{\"type\":\"heatmapgl\",\"colorbar\":{\"outlinewidth\":0,\"ticks\":\"\"},\"colorscale\":[[0.0,\"#0d0887\"],[0.1111111111111111,\"#46039f\"],[0.2222222222222222,\"#7201a8\"],[0.3333333333333333,\"#9c179e\"],[0.4444444444444444,\"#bd3786\"],[0.5555555555555556,\"#d8576b\"],[0.6666666666666666,\"#ed7953\"],[0.7777777777777778,\"#fb9f3a\"],[0.8888888888888888,\"#fdca26\"],[1.0,\"#f0f921\"]]}],\"contourcarpet\":[{\"type\":\"contourcarpet\",\"colorbar\":{\"outlinewidth\":0,\"ticks\":\"\"}}],\"contour\":[{\"type\":\"contour\",\"colorbar\":{\"outlinewidth\":0,\"ticks\":\"\"},\"colorscale\":[[0.0,\"#0d0887\"],[0.1111111111111111,\"#46039f\"],[0.2222222222222222,\"#7201a8\"],[0.3333333333333333,\"#9c179e\"],[0.4444444444444444,\"#bd3786\"],[0.5555555555555556,\"#d8576b\"],[0.6666666666666666,\"#ed7953\"],[0.7777777777777778,\"#fb9f3a\"],[0.8888888888888888,\"#fdca26\"],[1.0,\"#f0f921\"]]}],\"surface\":[{\"type\":\"surface\",\"colorbar\":{\"outlinewidth\":0,\"ticks\":\"\"},\"colorscale\":[[0.0,\"#0d0887\"],[0.1111111111111111,\"#46039f\"],[0.2222222222222222,\"#7201a8\"],[0.3333333333333333,\"#9c179e\"],[0.4444444444444444,\"#bd3786\"],[0.5555555555555556,\"#d8576b\"],[0.6666666666666666,\"#ed7953\"],[0.7777777777777778,\"#fb9f3a\"],[0.8888888888888888,\"#fdca26\"],[1.0,\"#f0f921\"]]}],\"mesh3d\":[{\"type\":\"mesh3d\",\"colorbar\":{\"outlinewidth\":0,\"ticks\":\"\"}}],\"scatter\":[{\"fillpattern\":{\"fillmode\":\"overlay\",\"size\":10,\"solidity\":0.2},\"type\":\"scatter\"}],\"parcoords\":[{\"type\":\"parcoords\",\"line\":{\"colorbar\":{\"outlinewidth\":0,\"ticks\":\"\"}}}],\"scatterpolargl\":[{\"type\":\"scatterpolargl\",\"marker\":{\"colorbar\":{\"outlinewidth\":0,\"ticks\":\"\"}}}],\"bar\":[{\"error_x\":{\"color\":\"#2a3f5f\"},\"error_y\":{\"color\":\"#2a3f5f\"},\"marker\":{\"line\":{\"color\":\"#E5ECF6\",\"width\":0.5},\"pattern\":{\"fillmode\":\"overlay\",\"size\":10,\"solidity\":0.2}},\"type\":\"bar\"}],\"scattergeo\":[{\"type\":\"scattergeo\",\"marker\":{\"colorbar\":{\"outlinewidth\":0,\"ticks\":\"\"}}}],\"scatterpolar\":[{\"type\":\"scatterpolar\",\"marker\":{\"colorbar\":{\"outlinewidth\":0,\"ticks\":\"\"}}}],\"histogram\":[{\"marker\":{\"pattern\":{\"fillmode\":\"overlay\",\"size\":10,\"solidity\":0.2}},\"type\":\"histogram\"}],\"scattergl\":[{\"type\":\"scattergl\",\"marker\":{\"colorbar\":{\"outlinewidth\":0,\"ticks\":\"\"}}}],\"scatter3d\":[{\"type\":\"scatter3d\",\"line\":{\"colorbar\":{\"outlinewidth\":0,\"ticks\":\"\"}},\"marker\":{\"colorbar\":{\"outlinewidth\":0,\"ticks\":\"\"}}}],\"scattermapbox\":[{\"type\":\"scattermapbox\",\"marker\":{\"colorbar\":{\"outlinewidth\":0,\"ticks\":\"\"}}}],\"scatterternary\":[{\"type\":\"scatterternary\",\"marker\":{\"colorbar\":{\"outlinewidth\":0,\"ticks\":\"\"}}}],\"scattercarpet\":[{\"type\":\"scattercarpet\",\"marker\":{\"colorbar\":{\"outlinewidth\":0,\"ticks\":\"\"}}}],\"carpet\":[{\"aaxis\":{\"endlinecolor\":\"#2a3f5f\",\"gridcolor\":\"white\",\"linecolor\":\"white\",\"minorgridcolor\":\"white\",\"startlinecolor\":\"#2a3f5f\"},\"baxis\":{\"endlinecolor\":\"#2a3f5f\",\"gridcolor\":\"white\",\"linecolor\":\"white\",\"minorgridcolor\":\"white\",\"startlinecolor\":\"#2a3f5f\"},\"type\":\"carpet\"}],\"table\":[{\"cells\":{\"fill\":{\"color\":\"#EBF0F8\"},\"line\":{\"color\":\"white\"}},\"header\":{\"fill\":{\"color\":\"#C8D4E3\"},\"line\":{\"color\":\"white\"}},\"type\":\"table\"}],\"barpolar\":[{\"marker\":{\"line\":{\"color\":\"#E5ECF6\",\"width\":0.5},\"pattern\":{\"fillmode\":\"overlay\",\"size\":10,\"solidity\":0.2}},\"type\":\"barpolar\"}],\"pie\":[{\"automargin\":true,\"type\":\"pie\"}]},\"layout\":{\"autotypenumbers\":\"strict\",\"colorway\":[\"#636efa\",\"#EF553B\",\"#00cc96\",\"#ab63fa\",\"#FFA15A\",\"#19d3f3\",\"#FF6692\",\"#B6E880\",\"#FF97FF\",\"#FECB52\"],\"font\":{\"color\":\"#2a3f5f\"},\"hovermode\":\"closest\",\"hoverlabel\":{\"align\":\"left\"},\"paper_bgcolor\":\"white\",\"plot_bgcolor\":\"#E5ECF6\",\"polar\":{\"bgcolor\":\"#E5ECF6\",\"angularaxis\":{\"gridcolor\":\"white\",\"linecolor\":\"white\",\"ticks\":\"\"},\"radialaxis\":{\"gridcolor\":\"white\",\"linecolor\":\"white\",\"ticks\":\"\"}},\"ternary\":{\"bgcolor\":\"#E5ECF6\",\"aaxis\":{\"gridcolor\":\"white\",\"linecolor\":\"white\",\"ticks\":\"\"},\"baxis\":{\"gridcolor\":\"white\",\"linecolor\":\"white\",\"ticks\":\"\"},\"caxis\":{\"gridcolor\":\"white\",\"linecolor\":\"white\",\"ticks\":\"\"}},\"coloraxis\":{\"colorbar\":{\"outlinewidth\":0,\"ticks\":\"\"}},\"colorscale\":{\"sequential\":[[0.0,\"#0d0887\"],[0.1111111111111111,\"#46039f\"],[0.2222222222222222,\"#7201a8\"],[0.3333333333333333,\"#9c179e\"],[0.4444444444444444,\"#bd3786\"],[0.5555555555555556,\"#d8576b\"],[0.6666666666666666,\"#ed7953\"],[0.7777777777777778,\"#fb9f3a\"],[0.8888888888888888,\"#fdca26\"],[1.0,\"#f0f921\"]],\"sequentialminus\":[[0.0,\"#0d0887\"],[0.1111111111111111,\"#46039f\"],[0.2222222222222222,\"#7201a8\"],[0.3333333333333333,\"#9c179e\"],[0.4444444444444444,\"#bd3786\"],[0.5555555555555556,\"#d8576b\"],[0.6666666666666666,\"#ed7953\"],[0.7777777777777778,\"#fb9f3a\"],[0.8888888888888888,\"#fdca26\"],[1.0,\"#f0f921\"]],\"diverging\":[[0,\"#8e0152\"],[0.1,\"#c51b7d\"],[0.2,\"#de77ae\"],[0.3,\"#f1b6da\"],[0.4,\"#fde0ef\"],[0.5,\"#f7f7f7\"],[0.6,\"#e6f5d0\"],[0.7,\"#b8e186\"],[0.8,\"#7fbc41\"],[0.9,\"#4d9221\"],[1,\"#276419\"]]},\"xaxis\":{\"gridcolor\":\"white\",\"linecolor\":\"white\",\"ticks\":\"\",\"title\":{\"standoff\":15},\"zerolinecolor\":\"white\",\"automargin\":true,\"zerolinewidth\":2},\"yaxis\":{\"gridcolor\":\"white\",\"linecolor\":\"white\",\"ticks\":\"\",\"title\":{\"standoff\":15},\"zerolinecolor\":\"white\",\"automargin\":true,\"zerolinewidth\":2},\"scene\":{\"xaxis\":{\"backgroundcolor\":\"#E5ECF6\",\"gridcolor\":\"white\",\"linecolor\":\"white\",\"showbackground\":true,\"ticks\":\"\",\"zerolinecolor\":\"white\",\"gridwidth\":2},\"yaxis\":{\"backgroundcolor\":\"#E5ECF6\",\"gridcolor\":\"white\",\"linecolor\":\"white\",\"showbackground\":true,\"ticks\":\"\",\"zerolinecolor\":\"white\",\"gridwidth\":2},\"zaxis\":{\"backgroundcolor\":\"#E5ECF6\",\"gridcolor\":\"white\",\"linecolor\":\"white\",\"showbackground\":true,\"ticks\":\"\",\"zerolinecolor\":\"white\",\"gridwidth\":2}},\"shapedefaults\":{\"line\":{\"color\":\"#2a3f5f\"}},\"annotationdefaults\":{\"arrowcolor\":\"#2a3f5f\",\"arrowhead\":0,\"arrowwidth\":1},\"geo\":{\"bgcolor\":\"white\",\"landcolor\":\"#E5ECF6\",\"subunitcolor\":\"white\",\"showland\":true,\"showlakes\":true,\"lakecolor\":\"white\"},\"title\":{\"x\":0.05},\"mapbox\":{\"style\":\"light\"}}},\"xaxis\":{\"anchor\":\"y\",\"domain\":[0.0,1.0],\"title\":{\"text\":\"x\"}},\"yaxis\":{\"anchor\":\"x\",\"domain\":[0.0,1.0],\"title\":{\"text\":\"y\"}},\"legend\":{\"tracegroupgap\":0},\"title\":{\"text\":\"Logit Difference From Each Layer\"}},                        {\"responsive\": true}                    ).then(function(){\n",
       "                            \n",
       "var gd = document.getElementById('8be6ed16-360e-43a7-be58-84ee189d7aa4');\n",
       "var x = new MutationObserver(function (mutations, observer) {{\n",
       "        var display = window.getComputedStyle(gd).display;\n",
       "        if (!display || display === 'none') {{\n",
       "            console.log([gd, 'removed!']);\n",
       "            Plotly.purge(gd);\n",
       "            observer.disconnect();\n",
       "        }}\n",
       "}});\n",
       "\n",
       "// Listen for the removal of the full notebook cells\n",
       "var notebookContainer = gd.closest('#notebook-container');\n",
       "if (notebookContainer) {{\n",
       "    x.observe(notebookContainer, {childList: true});\n",
       "}}\n",
       "\n",
       "// Listen for the clearing of the current output cell\n",
       "var outputEl = gd.closest('.output');\n",
       "if (outputEl) {{\n",
       "    x.observe(outputEl, {childList: true});\n",
       "}}\n",
       "\n",
       "                        })                };                });            </script>        </div>"
      ]
     },
     "metadata": {},
     "output_type": "display_data"
    }
   ],
   "source": [
    "per_layer_residual, labels = cache.decompose_resid(\n",
    "    layer=-1, pos_slice=-1, return_labels=True\n",
    ")\n",
    "per_layer_logit_diffs = residual_stack_to_logit_diff(per_layer_residual, cache)\n",
    "line(per_layer_logit_diffs, hover_name=labels, title=\"Logit Difference From Each Layer\")"
   ]
  },
  {
   "cell_type": "code",
   "execution_count": 75,
   "metadata": {},
   "outputs": [
    {
     "name": "stdout",
     "output_type": "stream",
     "text": [
      "Tried to stack head results when they weren't cached. Computing head results now\n"
     ]
    },
    {
     "data": {
      "application/vnd.plotly.v1+json": {
       "config": {
        "plotlyServerURL": "https://plot.ly"
       },
       "data": [
        {
         "coloraxis": "coloraxis",
         "hovertemplate": "Head: %{x}<br>Layer: %{y}<br>color: %{z}<extra></extra>",
         "name": "0",
         "type": "heatmap",
         "xaxis": "x",
         "yaxis": "y",
         "z": [
          [
           -0.0034408122301101685,
           -0.00005458089435705915,
           -0.0006936208228580654,
           0.0000514306993864011,
           -0.00022445461945608258,
           -0.0002113914815708995,
           -0.004705342464148998,
           -0.0006028320640325546,
           -0.00028747820761054754,
           0.00004926712063024752,
           0.0002691090921871364,
           -0.00032217203988693655
          ],
          [
           -0.0004562156682368368,
           -0.0002089551999233663,
           0.0009938344592228532,
           0.000003887728780682664,
           -0.0012398336548358202,
           0.0004431863490026444,
           -0.0015206756070256233,
           -0.0037298768293112516,
           0.0020625360775738955,
           0.0018146306974813342,
           -0.0000418285490013659,
           0.0013531597796827555
          ],
          [
           0.00010448605462443084,
           -0.0020233714021742344,
           0.00026316751609556377,
           -0.00043408037163317204,
           0.000044157332013128325,
           0.0003400464484002441,
           0.0001438565959688276,
           0.0029410142451524734,
           0.00008577264088671654,
           -0.0009867646731436253,
           0.0007440196350216866,
           -0.00008183697354979813
          ],
          [
           -0.000039856873627286404,
           -0.000008756600436754525,
           -0.00041065129335038364,
           0.00016584065451752394,
           0.00039740162901580334,
           0.0000324940774589777,
           -0.0010291443904861808,
           -0.0001774724805727601,
           0.00014118076069280505,
           -0.000725047430023551,
           -0.00015100656310096383,
           0.00018155804718844593
          ],
          [
           0.0005598592106252909,
           -0.00020626896002795547,
           -0.00047702164738439023,
           0.00007000780897215009,
           0.001752380165271461,
           -0.000613824580796063,
           -0.00004046488174935803,
           0.0003117427113465965,
           0.00035268720239400864,
           -0.0005341354408301413,
           0.00030253484146669507,
           -0.0001925692631630227
          ],
          [
           0.00011076776718255132,
           -0.00011397129128454253,
           -0.0009879684075713158,
           0.00012961006723344326,
           0.000049144749937113374,
           0.00008991912181954831,
           0.00013744167517870665,
           -0.00010105465480592102,
           0.0001126743372878991,
           0.00046991120325401425,
           -0.0002366065455134958,
           0.0016741855069994926
          ],
          [
           -0.009964266791939735,
           -0.0003121703630313277,
           0.0014550990890711546,
           -0.004119529854506254,
           -0.005042265634983778,
           0.0010445552179589868,
           -0.00010825946083059534,
           -0.0002272425190312788,
           -0.0002820800291374326,
           0.00014846018166281283,
           -0.0009476701961830258,
           0.00036805245326831937
          ],
          [
           -0.00010928857227554545,
           -0.0016811443492770195,
           -0.001964917406439781,
           0.057846397161483765,
           -0.0009122052579186857,
           -0.007937425747513771,
           -0.00046464192564599216,
           -0.0014229756779968739,
           -0.003323102369904518,
           0.1675843447446823,
           0.00030236528255045414,
           0.0007573735201731324
          ],
          [
           0.0006018176209181547,
           -0.001576298731379211,
           -0.025650911033153534,
           -0.015808911994099617,
           0.0006968487869016826,
           -0.002257693326100707,
           -0.016235381364822388,
           0.000801714020781219,
           -0.02117568999528885,
           0.0006216622423380613,
           0.14254996180534363,
           -0.01789301447570324
          ],
          [
           0.00615200400352478,
           0.004780770279467106,
           -0.000420897122239694,
           -0.000041952669562306255,
           -0.044390201568603516,
           0.02097397670149803,
           0.19485919177532196,
           0.06821836531162262,
           -0.036796197295188904,
           0.4318482279777527,
           -0.0001409629767294973,
           -0.0046637216582894325
          ],
          [
           0.2188916653394699,
           0.08322426676750183,
           -0.08785828202962875,
           -0.01451089046895504,
           0.0007317502750083804,
           -0.0004250872880220413,
           0.03506540507078171,
           -0.170047327876091,
           0.0019465943332761526,
           -0.028271228075027466,
           0.08728780597448349,
           -0.01322181336581707
          ],
          [
           0.007427716162055731,
           0.004813989158719778,
           -0.2844705581665039,
           -0.03482329472899437,
           0.0017816904000937939,
           0.006367062218487263,
           -0.04897486791014671,
           0.004514172673225403,
           -0.007265268824994564,
           0.0036318781785666943,
           -0.18963372707366943,
           -0.01515251211822033
          ]
         ]
        }
       ],
       "layout": {
        "coloraxis": {
         "cmid": 0,
         "colorscale": [
          [
           0,
           "rgb(103,0,31)"
          ],
          [
           0.1,
           "rgb(178,24,43)"
          ],
          [
           0.2,
           "rgb(214,96,77)"
          ],
          [
           0.3,
           "rgb(244,165,130)"
          ],
          [
           0.4,
           "rgb(253,219,199)"
          ],
          [
           0.5,
           "rgb(247,247,247)"
          ],
          [
           0.6,
           "rgb(209,229,240)"
          ],
          [
           0.7,
           "rgb(146,197,222)"
          ],
          [
           0.8,
           "rgb(67,147,195)"
          ],
          [
           0.9,
           "rgb(33,102,172)"
          ],
          [
           1,
           "rgb(5,48,97)"
          ]
         ]
        },
        "template": {
         "data": {
          "bar": [
           {
            "error_x": {
             "color": "#2a3f5f"
            },
            "error_y": {
             "color": "#2a3f5f"
            },
            "marker": {
             "line": {
              "color": "#E5ECF6",
              "width": 0.5
             },
             "pattern": {
              "fillmode": "overlay",
              "size": 10,
              "solidity": 0.2
             }
            },
            "type": "bar"
           }
          ],
          "barpolar": [
           {
            "marker": {
             "line": {
              "color": "#E5ECF6",
              "width": 0.5
             },
             "pattern": {
              "fillmode": "overlay",
              "size": 10,
              "solidity": 0.2
             }
            },
            "type": "barpolar"
           }
          ],
          "carpet": [
           {
            "aaxis": {
             "endlinecolor": "#2a3f5f",
             "gridcolor": "white",
             "linecolor": "white",
             "minorgridcolor": "white",
             "startlinecolor": "#2a3f5f"
            },
            "baxis": {
             "endlinecolor": "#2a3f5f",
             "gridcolor": "white",
             "linecolor": "white",
             "minorgridcolor": "white",
             "startlinecolor": "#2a3f5f"
            },
            "type": "carpet"
           }
          ],
          "choropleth": [
           {
            "colorbar": {
             "outlinewidth": 0,
             "ticks": ""
            },
            "type": "choropleth"
           }
          ],
          "contour": [
           {
            "colorbar": {
             "outlinewidth": 0,
             "ticks": ""
            },
            "colorscale": [
             [
              0,
              "#0d0887"
             ],
             [
              0.1111111111111111,
              "#46039f"
             ],
             [
              0.2222222222222222,
              "#7201a8"
             ],
             [
              0.3333333333333333,
              "#9c179e"
             ],
             [
              0.4444444444444444,
              "#bd3786"
             ],
             [
              0.5555555555555556,
              "#d8576b"
             ],
             [
              0.6666666666666666,
              "#ed7953"
             ],
             [
              0.7777777777777778,
              "#fb9f3a"
             ],
             [
              0.8888888888888888,
              "#fdca26"
             ],
             [
              1,
              "#f0f921"
             ]
            ],
            "type": "contour"
           }
          ],
          "contourcarpet": [
           {
            "colorbar": {
             "outlinewidth": 0,
             "ticks": ""
            },
            "type": "contourcarpet"
           }
          ],
          "heatmap": [
           {
            "colorbar": {
             "outlinewidth": 0,
             "ticks": ""
            },
            "colorscale": [
             [
              0,
              "#0d0887"
             ],
             [
              0.1111111111111111,
              "#46039f"
             ],
             [
              0.2222222222222222,
              "#7201a8"
             ],
             [
              0.3333333333333333,
              "#9c179e"
             ],
             [
              0.4444444444444444,
              "#bd3786"
             ],
             [
              0.5555555555555556,
              "#d8576b"
             ],
             [
              0.6666666666666666,
              "#ed7953"
             ],
             [
              0.7777777777777778,
              "#fb9f3a"
             ],
             [
              0.8888888888888888,
              "#fdca26"
             ],
             [
              1,
              "#f0f921"
             ]
            ],
            "type": "heatmap"
           }
          ],
          "heatmapgl": [
           {
            "colorbar": {
             "outlinewidth": 0,
             "ticks": ""
            },
            "colorscale": [
             [
              0,
              "#0d0887"
             ],
             [
              0.1111111111111111,
              "#46039f"
             ],
             [
              0.2222222222222222,
              "#7201a8"
             ],
             [
              0.3333333333333333,
              "#9c179e"
             ],
             [
              0.4444444444444444,
              "#bd3786"
             ],
             [
              0.5555555555555556,
              "#d8576b"
             ],
             [
              0.6666666666666666,
              "#ed7953"
             ],
             [
              0.7777777777777778,
              "#fb9f3a"
             ],
             [
              0.8888888888888888,
              "#fdca26"
             ],
             [
              1,
              "#f0f921"
             ]
            ],
            "type": "heatmapgl"
           }
          ],
          "histogram": [
           {
            "marker": {
             "pattern": {
              "fillmode": "overlay",
              "size": 10,
              "solidity": 0.2
             }
            },
            "type": "histogram"
           }
          ],
          "histogram2d": [
           {
            "colorbar": {
             "outlinewidth": 0,
             "ticks": ""
            },
            "colorscale": [
             [
              0,
              "#0d0887"
             ],
             [
              0.1111111111111111,
              "#46039f"
             ],
             [
              0.2222222222222222,
              "#7201a8"
             ],
             [
              0.3333333333333333,
              "#9c179e"
             ],
             [
              0.4444444444444444,
              "#bd3786"
             ],
             [
              0.5555555555555556,
              "#d8576b"
             ],
             [
              0.6666666666666666,
              "#ed7953"
             ],
             [
              0.7777777777777778,
              "#fb9f3a"
             ],
             [
              0.8888888888888888,
              "#fdca26"
             ],
             [
              1,
              "#f0f921"
             ]
            ],
            "type": "histogram2d"
           }
          ],
          "histogram2dcontour": [
           {
            "colorbar": {
             "outlinewidth": 0,
             "ticks": ""
            },
            "colorscale": [
             [
              0,
              "#0d0887"
             ],
             [
              0.1111111111111111,
              "#46039f"
             ],
             [
              0.2222222222222222,
              "#7201a8"
             ],
             [
              0.3333333333333333,
              "#9c179e"
             ],
             [
              0.4444444444444444,
              "#bd3786"
             ],
             [
              0.5555555555555556,
              "#d8576b"
             ],
             [
              0.6666666666666666,
              "#ed7953"
             ],
             [
              0.7777777777777778,
              "#fb9f3a"
             ],
             [
              0.8888888888888888,
              "#fdca26"
             ],
             [
              1,
              "#f0f921"
             ]
            ],
            "type": "histogram2dcontour"
           }
          ],
          "mesh3d": [
           {
            "colorbar": {
             "outlinewidth": 0,
             "ticks": ""
            },
            "type": "mesh3d"
           }
          ],
          "parcoords": [
           {
            "line": {
             "colorbar": {
              "outlinewidth": 0,
              "ticks": ""
             }
            },
            "type": "parcoords"
           }
          ],
          "pie": [
           {
            "automargin": true,
            "type": "pie"
           }
          ],
          "scatter": [
           {
            "fillpattern": {
             "fillmode": "overlay",
             "size": 10,
             "solidity": 0.2
            },
            "type": "scatter"
           }
          ],
          "scatter3d": [
           {
            "line": {
             "colorbar": {
              "outlinewidth": 0,
              "ticks": ""
             }
            },
            "marker": {
             "colorbar": {
              "outlinewidth": 0,
              "ticks": ""
             }
            },
            "type": "scatter3d"
           }
          ],
          "scattercarpet": [
           {
            "marker": {
             "colorbar": {
              "outlinewidth": 0,
              "ticks": ""
             }
            },
            "type": "scattercarpet"
           }
          ],
          "scattergeo": [
           {
            "marker": {
             "colorbar": {
              "outlinewidth": 0,
              "ticks": ""
             }
            },
            "type": "scattergeo"
           }
          ],
          "scattergl": [
           {
            "marker": {
             "colorbar": {
              "outlinewidth": 0,
              "ticks": ""
             }
            },
            "type": "scattergl"
           }
          ],
          "scattermapbox": [
           {
            "marker": {
             "colorbar": {
              "outlinewidth": 0,
              "ticks": ""
             }
            },
            "type": "scattermapbox"
           }
          ],
          "scatterpolar": [
           {
            "marker": {
             "colorbar": {
              "outlinewidth": 0,
              "ticks": ""
             }
            },
            "type": "scatterpolar"
           }
          ],
          "scatterpolargl": [
           {
            "marker": {
             "colorbar": {
              "outlinewidth": 0,
              "ticks": ""
             }
            },
            "type": "scatterpolargl"
           }
          ],
          "scatterternary": [
           {
            "marker": {
             "colorbar": {
              "outlinewidth": 0,
              "ticks": ""
             }
            },
            "type": "scatterternary"
           }
          ],
          "surface": [
           {
            "colorbar": {
             "outlinewidth": 0,
             "ticks": ""
            },
            "colorscale": [
             [
              0,
              "#0d0887"
             ],
             [
              0.1111111111111111,
              "#46039f"
             ],
             [
              0.2222222222222222,
              "#7201a8"
             ],
             [
              0.3333333333333333,
              "#9c179e"
             ],
             [
              0.4444444444444444,
              "#bd3786"
             ],
             [
              0.5555555555555556,
              "#d8576b"
             ],
             [
              0.6666666666666666,
              "#ed7953"
             ],
             [
              0.7777777777777778,
              "#fb9f3a"
             ],
             [
              0.8888888888888888,
              "#fdca26"
             ],
             [
              1,
              "#f0f921"
             ]
            ],
            "type": "surface"
           }
          ],
          "table": [
           {
            "cells": {
             "fill": {
              "color": "#EBF0F8"
             },
             "line": {
              "color": "white"
             }
            },
            "header": {
             "fill": {
              "color": "#C8D4E3"
             },
             "line": {
              "color": "white"
             }
            },
            "type": "table"
           }
          ]
         },
         "layout": {
          "annotationdefaults": {
           "arrowcolor": "#2a3f5f",
           "arrowhead": 0,
           "arrowwidth": 1
          },
          "autotypenumbers": "strict",
          "coloraxis": {
           "colorbar": {
            "outlinewidth": 0,
            "ticks": ""
           }
          },
          "colorscale": {
           "diverging": [
            [
             0,
             "#8e0152"
            ],
            [
             0.1,
             "#c51b7d"
            ],
            [
             0.2,
             "#de77ae"
            ],
            [
             0.3,
             "#f1b6da"
            ],
            [
             0.4,
             "#fde0ef"
            ],
            [
             0.5,
             "#f7f7f7"
            ],
            [
             0.6,
             "#e6f5d0"
            ],
            [
             0.7,
             "#b8e186"
            ],
            [
             0.8,
             "#7fbc41"
            ],
            [
             0.9,
             "#4d9221"
            ],
            [
             1,
             "#276419"
            ]
           ],
           "sequential": [
            [
             0,
             "#0d0887"
            ],
            [
             0.1111111111111111,
             "#46039f"
            ],
            [
             0.2222222222222222,
             "#7201a8"
            ],
            [
             0.3333333333333333,
             "#9c179e"
            ],
            [
             0.4444444444444444,
             "#bd3786"
            ],
            [
             0.5555555555555556,
             "#d8576b"
            ],
            [
             0.6666666666666666,
             "#ed7953"
            ],
            [
             0.7777777777777778,
             "#fb9f3a"
            ],
            [
             0.8888888888888888,
             "#fdca26"
            ],
            [
             1,
             "#f0f921"
            ]
           ],
           "sequentialminus": [
            [
             0,
             "#0d0887"
            ],
            [
             0.1111111111111111,
             "#46039f"
            ],
            [
             0.2222222222222222,
             "#7201a8"
            ],
            [
             0.3333333333333333,
             "#9c179e"
            ],
            [
             0.4444444444444444,
             "#bd3786"
            ],
            [
             0.5555555555555556,
             "#d8576b"
            ],
            [
             0.6666666666666666,
             "#ed7953"
            ],
            [
             0.7777777777777778,
             "#fb9f3a"
            ],
            [
             0.8888888888888888,
             "#fdca26"
            ],
            [
             1,
             "#f0f921"
            ]
           ]
          },
          "colorway": [
           "#636efa",
           "#EF553B",
           "#00cc96",
           "#ab63fa",
           "#FFA15A",
           "#19d3f3",
           "#FF6692",
           "#B6E880",
           "#FF97FF",
           "#FECB52"
          ],
          "font": {
           "color": "#2a3f5f"
          },
          "geo": {
           "bgcolor": "white",
           "lakecolor": "white",
           "landcolor": "#E5ECF6",
           "showlakes": true,
           "showland": true,
           "subunitcolor": "white"
          },
          "hoverlabel": {
           "align": "left"
          },
          "hovermode": "closest",
          "mapbox": {
           "style": "light"
          },
          "paper_bgcolor": "white",
          "plot_bgcolor": "#E5ECF6",
          "polar": {
           "angularaxis": {
            "gridcolor": "white",
            "linecolor": "white",
            "ticks": ""
           },
           "bgcolor": "#E5ECF6",
           "radialaxis": {
            "gridcolor": "white",
            "linecolor": "white",
            "ticks": ""
           }
          },
          "scene": {
           "xaxis": {
            "backgroundcolor": "#E5ECF6",
            "gridcolor": "white",
            "gridwidth": 2,
            "linecolor": "white",
            "showbackground": true,
            "ticks": "",
            "zerolinecolor": "white"
           },
           "yaxis": {
            "backgroundcolor": "#E5ECF6",
            "gridcolor": "white",
            "gridwidth": 2,
            "linecolor": "white",
            "showbackground": true,
            "ticks": "",
            "zerolinecolor": "white"
           },
           "zaxis": {
            "backgroundcolor": "#E5ECF6",
            "gridcolor": "white",
            "gridwidth": 2,
            "linecolor": "white",
            "showbackground": true,
            "ticks": "",
            "zerolinecolor": "white"
           }
          },
          "shapedefaults": {
           "line": {
            "color": "#2a3f5f"
           }
          },
          "ternary": {
           "aaxis": {
            "gridcolor": "white",
            "linecolor": "white",
            "ticks": ""
           },
           "baxis": {
            "gridcolor": "white",
            "linecolor": "white",
            "ticks": ""
           },
           "bgcolor": "#E5ECF6",
           "caxis": {
            "gridcolor": "white",
            "linecolor": "white",
            "ticks": ""
           }
          },
          "title": {
           "x": 0.05
          },
          "xaxis": {
           "automargin": true,
           "gridcolor": "white",
           "linecolor": "white",
           "ticks": "",
           "title": {
            "standoff": 15
           },
           "zerolinecolor": "white",
           "zerolinewidth": 2
          },
          "yaxis": {
           "automargin": true,
           "gridcolor": "white",
           "linecolor": "white",
           "ticks": "",
           "title": {
            "standoff": 15
           },
           "zerolinecolor": "white",
           "zerolinewidth": 2
          }
         }
        },
        "title": {
         "text": "Logit Difference From Each Head"
        },
        "xaxis": {
         "anchor": "y",
         "constrain": "domain",
         "domain": [
          0,
          1
         ],
         "scaleanchor": "y",
         "title": {
          "text": "Head"
         }
        },
        "yaxis": {
         "anchor": "x",
         "autorange": "reversed",
         "constrain": "domain",
         "domain": [
          0,
          1
         ],
         "title": {
          "text": "Layer"
         }
        }
       }
      },
      "text/html": [
       "<div>                            <div id=\"fffc97f1-0824-442a-a5ed-687bed18ec5c\" class=\"plotly-graph-div\" style=\"height:525px; width:100%;\"></div>            <script type=\"text/javascript\">                require([\"plotly\"], function(Plotly) {                    window.PLOTLYENV=window.PLOTLYENV || {};                                    if (document.getElementById(\"fffc97f1-0824-442a-a5ed-687bed18ec5c\")) {                    Plotly.newPlot(                        \"fffc97f1-0824-442a-a5ed-687bed18ec5c\",                        [{\"coloraxis\":\"coloraxis\",\"name\":\"0\",\"z\":[[-0.0034408122301101685,-5.458089435705915e-05,-0.0006936208228580654,5.14306993864011e-05,-0.00022445461945608258,-0.0002113914815708995,-0.004705342464148998,-0.0006028320640325546,-0.00028747820761054754,4.926712063024752e-05,0.0002691090921871364,-0.00032217203988693655],[-0.0004562156682368368,-0.0002089551999233663,0.0009938344592228532,3.887728780682664e-06,-0.0012398336548358202,0.0004431863490026444,-0.0015206756070256233,-0.0037298768293112516,0.0020625360775738955,0.0018146306974813342,-4.18285490013659e-05,0.0013531597796827555],[0.00010448605462443084,-0.0020233714021742344,0.00026316751609556377,-0.00043408037163317204,4.4157332013128325e-05,0.0003400464484002441,0.0001438565959688276,0.0029410142451524734,8.577264088671654e-05,-0.0009867646731436253,0.0007440196350216866,-8.183697354979813e-05],[-3.9856873627286404e-05,-8.756600436754525e-06,-0.00041065129335038364,0.00016584065451752394,0.00039740162901580334,3.24940774589777e-05,-0.0010291443904861808,-0.0001774724805727601,0.00014118076069280505,-0.000725047430023551,-0.00015100656310096383,0.00018155804718844593],[0.0005598592106252909,-0.00020626896002795547,-0.00047702164738439023,7.000780897215009e-05,0.001752380165271461,-0.000613824580796063,-4.046488174935803e-05,0.0003117427113465965,0.00035268720239400864,-0.0005341354408301413,0.00030253484146669507,-0.0001925692631630227],[0.00011076776718255132,-0.00011397129128454253,-0.0009879684075713158,0.00012961006723344326,4.9144749937113374e-05,8.991912181954831e-05,0.00013744167517870665,-0.00010105465480592102,0.0001126743372878991,0.00046991120325401425,-0.0002366065455134958,0.0016741855069994926],[-0.009964266791939735,-0.0003121703630313277,0.0014550990890711546,-0.004119529854506254,-0.005042265634983778,0.0010445552179589868,-0.00010825946083059534,-0.0002272425190312788,-0.0002820800291374326,0.00014846018166281283,-0.0009476701961830258,0.00036805245326831937],[-0.00010928857227554545,-0.0016811443492770195,-0.001964917406439781,0.057846397161483765,-0.0009122052579186857,-0.007937425747513771,-0.00046464192564599216,-0.0014229756779968739,-0.003323102369904518,0.1675843447446823,0.00030236528255045414,0.0007573735201731324],[0.0006018176209181547,-0.001576298731379211,-0.025650911033153534,-0.015808911994099617,0.0006968487869016826,-0.002257693326100707,-0.016235381364822388,0.000801714020781219,-0.02117568999528885,0.0006216622423380613,0.14254996180534363,-0.01789301447570324],[0.00615200400352478,0.004780770279467106,-0.000420897122239694,-4.1952669562306255e-05,-0.044390201568603516,0.02097397670149803,0.19485919177532196,0.06821836531162262,-0.036796197295188904,0.4318482279777527,-0.0001409629767294973,-0.0046637216582894325],[0.2188916653394699,0.08322426676750183,-0.08785828202962875,-0.01451089046895504,0.0007317502750083804,-0.0004250872880220413,0.03506540507078171,-0.170047327876091,0.0019465943332761526,-0.028271228075027466,0.08728780597448349,-0.01322181336581707],[0.007427716162055731,0.004813989158719778,-0.2844705581665039,-0.03482329472899437,0.0017816904000937939,0.006367062218487263,-0.04897486791014671,0.004514172673225403,-0.007265268824994564,0.0036318781785666943,-0.18963372707366943,-0.01515251211822033]],\"type\":\"heatmap\",\"xaxis\":\"x\",\"yaxis\":\"y\",\"hovertemplate\":\"Head: %{x}\\u003cbr\\u003eLayer: %{y}\\u003cbr\\u003ecolor: %{z}\\u003cextra\\u003e\\u003c\\u002fextra\\u003e\"}],                        {\"template\":{\"data\":{\"histogram2dcontour\":[{\"type\":\"histogram2dcontour\",\"colorbar\":{\"outlinewidth\":0,\"ticks\":\"\"},\"colorscale\":[[0.0,\"#0d0887\"],[0.1111111111111111,\"#46039f\"],[0.2222222222222222,\"#7201a8\"],[0.3333333333333333,\"#9c179e\"],[0.4444444444444444,\"#bd3786\"],[0.5555555555555556,\"#d8576b\"],[0.6666666666666666,\"#ed7953\"],[0.7777777777777778,\"#fb9f3a\"],[0.8888888888888888,\"#fdca26\"],[1.0,\"#f0f921\"]]}],\"choropleth\":[{\"type\":\"choropleth\",\"colorbar\":{\"outlinewidth\":0,\"ticks\":\"\"}}],\"histogram2d\":[{\"type\":\"histogram2d\",\"colorbar\":{\"outlinewidth\":0,\"ticks\":\"\"},\"colorscale\":[[0.0,\"#0d0887\"],[0.1111111111111111,\"#46039f\"],[0.2222222222222222,\"#7201a8\"],[0.3333333333333333,\"#9c179e\"],[0.4444444444444444,\"#bd3786\"],[0.5555555555555556,\"#d8576b\"],[0.6666666666666666,\"#ed7953\"],[0.7777777777777778,\"#fb9f3a\"],[0.8888888888888888,\"#fdca26\"],[1.0,\"#f0f921\"]]}],\"heatmap\":[{\"type\":\"heatmap\",\"colorbar\":{\"outlinewidth\":0,\"ticks\":\"\"},\"colorscale\":[[0.0,\"#0d0887\"],[0.1111111111111111,\"#46039f\"],[0.2222222222222222,\"#7201a8\"],[0.3333333333333333,\"#9c179e\"],[0.4444444444444444,\"#bd3786\"],[0.5555555555555556,\"#d8576b\"],[0.6666666666666666,\"#ed7953\"],[0.7777777777777778,\"#fb9f3a\"],[0.8888888888888888,\"#fdca26\"],[1.0,\"#f0f921\"]]}],\"heatmapgl\":[{\"type\":\"heatmapgl\",\"colorbar\":{\"outlinewidth\":0,\"ticks\":\"\"},\"colorscale\":[[0.0,\"#0d0887\"],[0.1111111111111111,\"#46039f\"],[0.2222222222222222,\"#7201a8\"],[0.3333333333333333,\"#9c179e\"],[0.4444444444444444,\"#bd3786\"],[0.5555555555555556,\"#d8576b\"],[0.6666666666666666,\"#ed7953\"],[0.7777777777777778,\"#fb9f3a\"],[0.8888888888888888,\"#fdca26\"],[1.0,\"#f0f921\"]]}],\"contourcarpet\":[{\"type\":\"contourcarpet\",\"colorbar\":{\"outlinewidth\":0,\"ticks\":\"\"}}],\"contour\":[{\"type\":\"contour\",\"colorbar\":{\"outlinewidth\":0,\"ticks\":\"\"},\"colorscale\":[[0.0,\"#0d0887\"],[0.1111111111111111,\"#46039f\"],[0.2222222222222222,\"#7201a8\"],[0.3333333333333333,\"#9c179e\"],[0.4444444444444444,\"#bd3786\"],[0.5555555555555556,\"#d8576b\"],[0.6666666666666666,\"#ed7953\"],[0.7777777777777778,\"#fb9f3a\"],[0.8888888888888888,\"#fdca26\"],[1.0,\"#f0f921\"]]}],\"surface\":[{\"type\":\"surface\",\"colorbar\":{\"outlinewidth\":0,\"ticks\":\"\"},\"colorscale\":[[0.0,\"#0d0887\"],[0.1111111111111111,\"#46039f\"],[0.2222222222222222,\"#7201a8\"],[0.3333333333333333,\"#9c179e\"],[0.4444444444444444,\"#bd3786\"],[0.5555555555555556,\"#d8576b\"],[0.6666666666666666,\"#ed7953\"],[0.7777777777777778,\"#fb9f3a\"],[0.8888888888888888,\"#fdca26\"],[1.0,\"#f0f921\"]]}],\"mesh3d\":[{\"type\":\"mesh3d\",\"colorbar\":{\"outlinewidth\":0,\"ticks\":\"\"}}],\"scatter\":[{\"fillpattern\":{\"fillmode\":\"overlay\",\"size\":10,\"solidity\":0.2},\"type\":\"scatter\"}],\"parcoords\":[{\"type\":\"parcoords\",\"line\":{\"colorbar\":{\"outlinewidth\":0,\"ticks\":\"\"}}}],\"scatterpolargl\":[{\"type\":\"scatterpolargl\",\"marker\":{\"colorbar\":{\"outlinewidth\":0,\"ticks\":\"\"}}}],\"bar\":[{\"error_x\":{\"color\":\"#2a3f5f\"},\"error_y\":{\"color\":\"#2a3f5f\"},\"marker\":{\"line\":{\"color\":\"#E5ECF6\",\"width\":0.5},\"pattern\":{\"fillmode\":\"overlay\",\"size\":10,\"solidity\":0.2}},\"type\":\"bar\"}],\"scattergeo\":[{\"type\":\"scattergeo\",\"marker\":{\"colorbar\":{\"outlinewidth\":0,\"ticks\":\"\"}}}],\"scatterpolar\":[{\"type\":\"scatterpolar\",\"marker\":{\"colorbar\":{\"outlinewidth\":0,\"ticks\":\"\"}}}],\"histogram\":[{\"marker\":{\"pattern\":{\"fillmode\":\"overlay\",\"size\":10,\"solidity\":0.2}},\"type\":\"histogram\"}],\"scattergl\":[{\"type\":\"scattergl\",\"marker\":{\"colorbar\":{\"outlinewidth\":0,\"ticks\":\"\"}}}],\"scatter3d\":[{\"type\":\"scatter3d\",\"line\":{\"colorbar\":{\"outlinewidth\":0,\"ticks\":\"\"}},\"marker\":{\"colorbar\":{\"outlinewidth\":0,\"ticks\":\"\"}}}],\"scattermapbox\":[{\"type\":\"scattermapbox\",\"marker\":{\"colorbar\":{\"outlinewidth\":0,\"ticks\":\"\"}}}],\"scatterternary\":[{\"type\":\"scatterternary\",\"marker\":{\"colorbar\":{\"outlinewidth\":0,\"ticks\":\"\"}}}],\"scattercarpet\":[{\"type\":\"scattercarpet\",\"marker\":{\"colorbar\":{\"outlinewidth\":0,\"ticks\":\"\"}}}],\"carpet\":[{\"aaxis\":{\"endlinecolor\":\"#2a3f5f\",\"gridcolor\":\"white\",\"linecolor\":\"white\",\"minorgridcolor\":\"white\",\"startlinecolor\":\"#2a3f5f\"},\"baxis\":{\"endlinecolor\":\"#2a3f5f\",\"gridcolor\":\"white\",\"linecolor\":\"white\",\"minorgridcolor\":\"white\",\"startlinecolor\":\"#2a3f5f\"},\"type\":\"carpet\"}],\"table\":[{\"cells\":{\"fill\":{\"color\":\"#EBF0F8\"},\"line\":{\"color\":\"white\"}},\"header\":{\"fill\":{\"color\":\"#C8D4E3\"},\"line\":{\"color\":\"white\"}},\"type\":\"table\"}],\"barpolar\":[{\"marker\":{\"line\":{\"color\":\"#E5ECF6\",\"width\":0.5},\"pattern\":{\"fillmode\":\"overlay\",\"size\":10,\"solidity\":0.2}},\"type\":\"barpolar\"}],\"pie\":[{\"automargin\":true,\"type\":\"pie\"}]},\"layout\":{\"autotypenumbers\":\"strict\",\"colorway\":[\"#636efa\",\"#EF553B\",\"#00cc96\",\"#ab63fa\",\"#FFA15A\",\"#19d3f3\",\"#FF6692\",\"#B6E880\",\"#FF97FF\",\"#FECB52\"],\"font\":{\"color\":\"#2a3f5f\"},\"hovermode\":\"closest\",\"hoverlabel\":{\"align\":\"left\"},\"paper_bgcolor\":\"white\",\"plot_bgcolor\":\"#E5ECF6\",\"polar\":{\"bgcolor\":\"#E5ECF6\",\"angularaxis\":{\"gridcolor\":\"white\",\"linecolor\":\"white\",\"ticks\":\"\"},\"radialaxis\":{\"gridcolor\":\"white\",\"linecolor\":\"white\",\"ticks\":\"\"}},\"ternary\":{\"bgcolor\":\"#E5ECF6\",\"aaxis\":{\"gridcolor\":\"white\",\"linecolor\":\"white\",\"ticks\":\"\"},\"baxis\":{\"gridcolor\":\"white\",\"linecolor\":\"white\",\"ticks\":\"\"},\"caxis\":{\"gridcolor\":\"white\",\"linecolor\":\"white\",\"ticks\":\"\"}},\"coloraxis\":{\"colorbar\":{\"outlinewidth\":0,\"ticks\":\"\"}},\"colorscale\":{\"sequential\":[[0.0,\"#0d0887\"],[0.1111111111111111,\"#46039f\"],[0.2222222222222222,\"#7201a8\"],[0.3333333333333333,\"#9c179e\"],[0.4444444444444444,\"#bd3786\"],[0.5555555555555556,\"#d8576b\"],[0.6666666666666666,\"#ed7953\"],[0.7777777777777778,\"#fb9f3a\"],[0.8888888888888888,\"#fdca26\"],[1.0,\"#f0f921\"]],\"sequentialminus\":[[0.0,\"#0d0887\"],[0.1111111111111111,\"#46039f\"],[0.2222222222222222,\"#7201a8\"],[0.3333333333333333,\"#9c179e\"],[0.4444444444444444,\"#bd3786\"],[0.5555555555555556,\"#d8576b\"],[0.6666666666666666,\"#ed7953\"],[0.7777777777777778,\"#fb9f3a\"],[0.8888888888888888,\"#fdca26\"],[1.0,\"#f0f921\"]],\"diverging\":[[0,\"#8e0152\"],[0.1,\"#c51b7d\"],[0.2,\"#de77ae\"],[0.3,\"#f1b6da\"],[0.4,\"#fde0ef\"],[0.5,\"#f7f7f7\"],[0.6,\"#e6f5d0\"],[0.7,\"#b8e186\"],[0.8,\"#7fbc41\"],[0.9,\"#4d9221\"],[1,\"#276419\"]]},\"xaxis\":{\"gridcolor\":\"white\",\"linecolor\":\"white\",\"ticks\":\"\",\"title\":{\"standoff\":15},\"zerolinecolor\":\"white\",\"automargin\":true,\"zerolinewidth\":2},\"yaxis\":{\"gridcolor\":\"white\",\"linecolor\":\"white\",\"ticks\":\"\",\"title\":{\"standoff\":15},\"zerolinecolor\":\"white\",\"automargin\":true,\"zerolinewidth\":2},\"scene\":{\"xaxis\":{\"backgroundcolor\":\"#E5ECF6\",\"gridcolor\":\"white\",\"linecolor\":\"white\",\"showbackground\":true,\"ticks\":\"\",\"zerolinecolor\":\"white\",\"gridwidth\":2},\"yaxis\":{\"backgroundcolor\":\"#E5ECF6\",\"gridcolor\":\"white\",\"linecolor\":\"white\",\"showbackground\":true,\"ticks\":\"\",\"zerolinecolor\":\"white\",\"gridwidth\":2},\"zaxis\":{\"backgroundcolor\":\"#E5ECF6\",\"gridcolor\":\"white\",\"linecolor\":\"white\",\"showbackground\":true,\"ticks\":\"\",\"zerolinecolor\":\"white\",\"gridwidth\":2}},\"shapedefaults\":{\"line\":{\"color\":\"#2a3f5f\"}},\"annotationdefaults\":{\"arrowcolor\":\"#2a3f5f\",\"arrowhead\":0,\"arrowwidth\":1},\"geo\":{\"bgcolor\":\"white\",\"landcolor\":\"#E5ECF6\",\"subunitcolor\":\"white\",\"showland\":true,\"showlakes\":true,\"lakecolor\":\"white\"},\"title\":{\"x\":0.05},\"mapbox\":{\"style\":\"light\"}}},\"xaxis\":{\"anchor\":\"y\",\"domain\":[0.0,1.0],\"scaleanchor\":\"y\",\"constrain\":\"domain\",\"title\":{\"text\":\"Head\"}},\"yaxis\":{\"anchor\":\"x\",\"domain\":[0.0,1.0],\"autorange\":\"reversed\",\"constrain\":\"domain\",\"title\":{\"text\":\"Layer\"}},\"coloraxis\":{\"colorscale\":[[0.0,\"rgb(103,0,31)\"],[0.1,\"rgb(178,24,43)\"],[0.2,\"rgb(214,96,77)\"],[0.3,\"rgb(244,165,130)\"],[0.4,\"rgb(253,219,199)\"],[0.5,\"rgb(247,247,247)\"],[0.6,\"rgb(209,229,240)\"],[0.7,\"rgb(146,197,222)\"],[0.8,\"rgb(67,147,195)\"],[0.9,\"rgb(33,102,172)\"],[1.0,\"rgb(5,48,97)\"]],\"cmid\":0.0},\"title\":{\"text\":\"Logit Difference From Each Head\"}},                        {\"responsive\": true}                    ).then(function(){\n",
       "                            \n",
       "var gd = document.getElementById('fffc97f1-0824-442a-a5ed-687bed18ec5c');\n",
       "var x = new MutationObserver(function (mutations, observer) {{\n",
       "        var display = window.getComputedStyle(gd).display;\n",
       "        if (!display || display === 'none') {{\n",
       "            console.log([gd, 'removed!']);\n",
       "            Plotly.purge(gd);\n",
       "            observer.disconnect();\n",
       "        }}\n",
       "}});\n",
       "\n",
       "// Listen for the removal of the full notebook cells\n",
       "var notebookContainer = gd.closest('#notebook-container');\n",
       "if (notebookContainer) {{\n",
       "    x.observe(notebookContainer, {childList: true});\n",
       "}}\n",
       "\n",
       "// Listen for the clearing of the current output cell\n",
       "var outputEl = gd.closest('.output');\n",
       "if (outputEl) {{\n",
       "    x.observe(outputEl, {childList: true});\n",
       "}}\n",
       "\n",
       "                        })                };                });            </script>        </div>"
      ]
     },
     "metadata": {},
     "output_type": "display_data"
    }
   ],
   "source": [
    "per_head_residual, labels = cache.stack_head_results(\n",
    "    layer=-1, pos_slice=-1, return_labels=True\n",
    ")\n",
    "per_head_logit_diffs = residual_stack_to_logit_diff(per_head_residual, cache)\n",
    "per_head_logit_diffs = einops.rearrange(\n",
    "    per_head_logit_diffs,\n",
    "    \"(layer head_index) -> layer head_index\",\n",
    "    layer=model.cfg.n_layers,\n",
    "    head_index=model.cfg.n_heads,\n",
    ")\n",
    "imshow(\n",
    "    per_head_logit_diffs,\n",
    "    labels={\"x\": \"Head\", \"y\": \"Layer\"},\n",
    "    title=\"Logit Difference From Each Head\",\n",
    ")"
   ]
  },
  {
   "cell_type": "code",
   "execution_count": 76,
   "metadata": {},
   "outputs": [],
   "source": [
    "def visualize_attention_patterns(\n",
    "    heads: Union[List[int], int, Float[torch.Tensor, \"heads\"]],\n",
    "    local_cache: ActivationCache,\n",
    "    local_tokens: torch.Tensor,\n",
    "    title: Optional[str] = \"\",\n",
    "    max_width: Optional[int] = 700,\n",
    ") -> str:\n",
    "    # If a single head is given, convert to a list\n",
    "    if isinstance(heads, int):\n",
    "        heads = [heads]\n",
    "\n",
    "    # Create the plotting data\n",
    "    labels: List[str] = []\n",
    "    patterns: List[Float[torch.Tensor, \"dest_pos src_pos\"]] = []\n",
    "\n",
    "    # Assume we have a single batch item\n",
    "    batch_index = 0\n",
    "\n",
    "    for head in heads:\n",
    "        # Set the label\n",
    "        layer = head // model.cfg.n_heads\n",
    "        head_index = head % model.cfg.n_heads\n",
    "        labels.append(f\"L{layer}H{head_index}\")\n",
    "\n",
    "        # Get the attention patterns for the head\n",
    "        # Attention patterns have shape [batch, head_index, query_pos, key_pos]\n",
    "        patterns.append(local_cache[\"attn\", layer][batch_index, head_index])\n",
    "\n",
    "    # Convert the tokens to strings (for the axis labels)\n",
    "    str_tokens = model.to_str_tokens(local_tokens)\n",
    "\n",
    "    # Combine the patterns into a single tensor\n",
    "    patterns: Float[torch.Tensor, \"head_index dest_pos src_pos\"] = torch.stack(\n",
    "        patterns, dim=0\n",
    "    )\n",
    "\n",
    "    # Circuitsvis Plot (note we get the code version so we can concatenate with the title)\n",
    "    plot = attention_heads(\n",
    "        attention=patterns, tokens=str_tokens, attention_head_names=labels\n",
    "    ).show_code()\n",
    "\n",
    "    # Display the title\n",
    "    title_html = f\"<h2>{title}</h2><br/>\"\n",
    "\n",
    "    # Return the visualisation as raw code\n",
    "    return f\"<div style='max-width: {str(max_width)}px;'>{title_html + plot}</div>\""
   ]
  },
  {
   "cell_type": "code",
   "execution_count": 77,
   "metadata": {},
   "outputs": [
    {
     "data": {
      "text/html": [
       "<div style='max-width: 700px;'><h2>Top 3 Positive Logit Attribution Heads</h2><br/><div id=\"circuits-vis-785c8030-4afa\" style=\"margin: 15px 0;\"/>\n",
       "    <script crossorigin type=\"module\">\n",
       "    import { render, AttentionHeads } from \"https://unpkg.com/circuitsvis@1.43.2/dist/cdn/esm.js\";\n",
       "    render(\n",
       "      \"circuits-vis-785c8030-4afa\",\n",
       "      AttentionHeads,\n",
       "      {\"attention\": [[[1.0, 0.0, 0.0, 0.0, 0.0, 0.0, 0.0, 0.0, 0.0, 0.0, 0.0, 0.0, 0.0, 0.0, 0.0, 0.0, 0.0, 0.0, 0.0, 0.0, 0.0, 0.0, 0.0, 0.0, 0.0], [0.9851462244987488, 0.014853774569928646, 0.0, 0.0, 0.0, 0.0, 0.0, 0.0, 0.0, 0.0, 0.0, 0.0, 0.0, 0.0, 0.0, 0.0, 0.0, 0.0, 0.0, 0.0, 0.0, 0.0, 0.0, 0.0, 0.0], [0.9615049958229065, 0.0055169290862977505, 0.03297807648777962, 0.0, 0.0, 0.0, 0.0, 0.0, 0.0, 0.0, 0.0, 0.0, 0.0, 0.0, 0.0, 0.0, 0.0, 0.0, 0.0, 0.0, 0.0, 0.0, 0.0, 0.0, 0.0], [0.7799097895622253, 0.017221562564373016, 0.19254161417484283, 0.010327081196010113, 0.0, 0.0, 0.0, 0.0, 0.0, 0.0, 0.0, 0.0, 0.0, 0.0, 0.0, 0.0, 0.0, 0.0, 0.0, 0.0, 0.0, 0.0, 0.0, 0.0, 0.0], [0.9182835221290588, 0.015381581149995327, 0.028809458017349243, 0.003931401297450066, 0.03359410539269447, 0.0, 0.0, 0.0, 0.0, 0.0, 0.0, 0.0, 0.0, 0.0, 0.0, 0.0, 0.0, 0.0, 0.0, 0.0, 0.0, 0.0, 0.0, 0.0, 0.0], [0.852080225944519, 0.010507701896131039, 0.08239199966192245, 0.0024956446141004562, 0.04972108080983162, 0.0028033701237291098, 0.0, 0.0, 0.0, 0.0, 0.0, 0.0, 0.0, 0.0, 0.0, 0.0, 0.0, 0.0, 0.0, 0.0, 0.0, 0.0, 0.0, 0.0, 0.0], [0.7926602959632874, 0.03012993559241295, 0.05965994670987129, 0.006613604724407196, 0.026238758116960526, 0.002756767673417926, 0.08194070309400558, 0.0, 0.0, 0.0, 0.0, 0.0, 0.0, 0.0, 0.0, 0.0, 0.0, 0.0, 0.0, 0.0, 0.0, 0.0, 0.0, 0.0, 0.0], [0.9537235498428345, 0.01377818826586008, 0.011617173440754414, 0.0020273320842534304, 0.0015257253544405103, 0.0008816329063847661, 0.010610999539494514, 0.005835384130477905, 0.0, 0.0, 0.0, 0.0, 0.0, 0.0, 0.0, 0.0, 0.0, 0.0, 0.0, 0.0, 0.0, 0.0, 0.0, 0.0, 0.0], [0.7816866636276245, 0.004689084365963936, 0.06783109903335571, 0.0017471110913902521, 0.020972467958927155, 0.0006429984932765365, 0.1150871217250824, 0.0024324236437678337, 0.004911075346171856, 0.0, 0.0, 0.0, 0.0, 0.0, 0.0, 0.0, 0.0, 0.0, 0.0, 0.0, 0.0, 0.0, 0.0, 0.0, 0.0], [0.9584619998931885, 0.003617490641772747, 0.006449034437537193, 0.0015744579723104835, 0.002851395169273019, 0.0008663760963827372, 0.013589104637503624, 0.0007499519269913435, 0.0011286716908216476, 0.010711537674069405, 0.0, 0.0, 0.0, 0.0, 0.0, 0.0, 0.0, 0.0, 0.0, 0.0, 0.0, 0.0, 0.0, 0.0, 0.0], [0.9694346189498901, 0.01121312566101551, 0.0015614228323101997, 0.0002477115485817194, 0.00047728486242704093, 0.0004670856869779527, 0.0034322484862059355, 0.00043463369365781546, 0.00010322411253582686, 0.0005006783758290112, 0.012127939611673355, 0.0, 0.0, 0.0, 0.0, 0.0, 0.0, 0.0, 0.0, 0.0, 0.0, 0.0, 0.0, 0.0, 0.0], [0.7290719151496887, 0.11654353886842728, 0.04512590542435646, 0.0007300609140656888, 0.02137865126132965, 0.004233554936945438, 0.06701131910085678, 0.0011103725992143154, 0.0008661493775434792, 0.0014724615029990673, 0.003083509858697653, 0.00937255471944809, 0.0, 0.0, 0.0, 0.0, 0.0, 0.0, 0.0, 0.0, 0.0, 0.0, 0.0, 0.0, 0.0], [0.4424764811992645, 0.01657230034470558, 0.19054679572582245, 0.0063297804445028305, 0.07869422435760498, 0.0038419472984969616, 0.2256588637828827, 0.009483222849667072, 0.004209607373923063, 0.00490275863558054, 0.003912993706762791, 0.006164774764329195, 0.0072061666287481785, 0.0, 0.0, 0.0, 0.0, 0.0, 0.0, 0.0, 0.0, 0.0, 0.0, 0.0, 0.0], [0.8112491965293884, 0.021917812526226044, 0.04908927530050278, 0.002151940483599901, 0.03778747841715813, 0.0022505673114210367, 0.06320428848266602, 0.0002822339010890573, 0.0022520283237099648, 0.0009737482178024948, 0.0030559413135051727, 0.0015456951223313808, 0.0014734797878190875, 0.0027663239743560553, 0.0, 0.0, 0.0, 0.0, 0.0, 0.0, 0.0, 0.0, 0.0, 0.0, 0.0], [0.13862869143486023, 0.014918762259185314, 0.28639334440231323, 0.0022242837585508823, 0.24113164842128754, 0.0017717418959364295, 0.30458003282546997, 0.00081632164074108, 0.0006000580033287406, 0.000933176779653877, 0.0012091681128367782, 0.0003253839095123112, 0.0007683830335736275, 0.0018759280210360885, 0.003823102917522192, 0.0, 0.0, 0.0, 0.0, 0.0, 0.0, 0.0, 0.0, 0.0, 0.0], [0.8458161950111389, 0.01932534947991371, 0.03636162355542183, 0.0037031457759439945, 0.02481825277209282, 0.0014976036036387086, 0.03656846284866333, 0.0004823158960789442, 0.00010724304593168199, 0.0006525773787871003, 0.001263637444935739, 0.0010014587314799428, 0.002242149319499731, 0.00022821425227448344, 0.0046894121915102005, 0.021242231130599976, 0.0, 0.0, 0.0, 0.0, 0.0, 0.0, 0.0, 0.0, 0.0], [0.29739877581596375, 0.02854052372276783, 0.05583104118704796, 0.012874417938292027, 0.08634595572948456, 0.011085569858551025, 0.243361696600914, 0.01964317075908184, 0.0032837754115462303, 0.00219455873593688, 0.003173497039824724, 0.003054057713598013, 0.0020048904698342085, 0.007947305217385292, 0.003252866677939892, 0.009767301380634308, 0.21024052798748016, 0.0, 0.0, 0.0, 0.0, 0.0, 0.0, 0.0, 0.0], [0.13376012444496155, 0.027834776788949966, 0.21327213943004608, 0.008545775897800922, 0.24250918626785278, 0.0025685548316687346, 0.15757691860198975, 0.0005662370822392404, 0.0005236522410996258, 0.001796495052985847, 0.0008042787667363882, 0.0001799968013074249, 0.00035096684587188065, 0.0003103211347479373, 0.0030869257170706987, 0.014512416906654835, 0.1889217495918274, 0.0028795148245990276, 0.0, 0.0, 0.0, 0.0, 0.0, 0.0, 0.0], [0.08526035398244858, 0.02164778672158718, 0.04291588068008423, 0.047615598887205124, 0.14943604171276093, 0.014306818135082722, 0.058175548911094666, 0.03490977734327316, 0.0037016605492681265, 0.0012038156855851412, 0.0012408785987645388, 0.0024670325219631195, 0.0002706381492316723, 0.0019173886394128203, 0.002152459230273962, 0.005217420402914286, 0.056973397731781006, 0.1081220731139183, 0.36246538162231445, 0.0, 0.0, 0.0, 0.0, 0.0, 0.0], [0.14714142680168152, 0.027205441147089005, 0.21801628172397614, 0.007786603178828955, 0.1307688057422638, 0.002285798778757453, 0.2033192217350006, 0.0016877584857866168, 0.0011338678887113929, 0.001964008202776313, 0.006979303900152445, 0.002347407629713416, 0.0007425628136843443, 0.002612074138596654, 0.009466822259128094, 0.023517480120062828, 0.11777842044830322, 0.0011218235595151782, 0.08326086401939392, 0.010864035226404667, 0.0, 0.0, 0.0, 0.0, 0.0], [0.7904532551765442, 0.030578868463635445, 0.028800999745726585, 0.004343785811215639, 0.01724475435912609, 0.004003484733402729, 0.02944483980536461, 0.0017107552848756313, 0.0015103338519111276, 0.0009026676998473704, 0.014736074954271317, 0.0051404754631221294, 0.0015053325332701206, 0.004994124639779329, 0.005592252593487501, 0.007763360161334276, 0.011901440098881721, 0.001101111643947661, 0.004145691636949778, 0.009011630900204182, 0.02511485479772091, 0.0, 0.0, 0.0, 0.0], [0.758637547492981, 0.055585119873285294, 0.01795378513634205, 0.0016124298563227057, 0.008605856448411942, 0.004122551996260881, 0.02295520529150963, 0.0008890092140063643, 0.004262414760887623, 0.001308165374211967, 0.002327141584828496, 0.003249696921557188, 0.004027702379971743, 0.006208471953868866, 0.005655321292579174, 0.010744663886725903, 0.007726727053523064, 0.0004948842106387019, 0.0024474395904690027, 0.004275303799659014, 0.012084687128663063, 0.0648258626461029, 0.0, 0.0, 0.0], [0.6982359886169434, 0.03565797582268715, 0.04130728542804718, 0.0011310877744108438, 0.04853173345327377, 0.0009257275960408151, 0.052368711680173874, 0.00010409301467007026, 0.0002149479405488819, 0.0010579251684248447, 0.004955568816512823, 0.0007806414505466819, 0.0007445613155141473, 0.0006410481291823089, 0.002541005378589034, 0.018277624621987343, 0.022145690396428108, 0.000146281803608872, 0.020148076117038727, 0.001128307543694973, 0.023045189678668976, 0.022529594600200653, 0.003381006419658661, 0.0, 0.0], [0.6166173815727234, 0.10256974399089813, 0.020040271803736687, 0.001427679555490613, 0.018937435001134872, 0.004829326644539833, 0.04215802252292633, 0.0005974576924927533, 0.0027145410422235727, 0.0009292981121689081, 0.001646420918405056, 0.004223814699798822, 0.003781793173402548, 0.004752523265779018, 0.0045320577919483185, 0.028679179027676582, 0.012495485134422779, 0.0006514978595077991, 0.0024354904890060425, 0.0026162646245211363, 0.010171509347856045, 0.03144818916916847, 0.010641888715326786, 0.07110275328159332, 0.0], [0.011288635432720184, 0.002386677311733365, 0.17455478012561798, 0.0028077876195311546, 0.23882544040679932, 0.0008800252107903361, 0.39365893602371216, 8.140970749082044e-05, 6.33778254268691e-05, 0.0008068744791671634, 0.00025208861916325986, 7.297526462934911e-05, 0.00020643469179049134, 0.00010445521184010431, 0.0007989227306097746, 0.00788053311407566, 0.10340410470962524, 0.00010166455467697233, 0.05921609699726105, 9.397988469572738e-05, 0.0006040767184458673, 0.00023885146947577596, 2.999918069690466e-05, 0.0006790421903133392, 0.0009628937696106732]], [[1.0, 0.0, 0.0, 0.0, 0.0, 0.0, 0.0, 0.0, 0.0, 0.0, 0.0, 0.0, 0.0, 0.0, 0.0, 0.0, 0.0, 0.0, 0.0, 0.0, 0.0, 0.0, 0.0, 0.0, 0.0], [0.9649894833564758, 0.035010531544685364, 0.0, 0.0, 0.0, 0.0, 0.0, 0.0, 0.0, 0.0, 0.0, 0.0, 0.0, 0.0, 0.0, 0.0, 0.0, 0.0, 0.0, 0.0, 0.0, 0.0, 0.0, 0.0, 0.0], [0.8224081993103027, 0.01096692681312561, 0.16662485897541046, 0.0, 0.0, 0.0, 0.0, 0.0, 0.0, 0.0, 0.0, 0.0, 0.0, 0.0, 0.0, 0.0, 0.0, 0.0, 0.0, 0.0, 0.0, 0.0, 0.0, 0.0, 0.0], [0.7275822162628174, 0.010960962623357773, 0.2399214506149292, 0.02153531275689602, 0.0, 0.0, 0.0, 0.0, 0.0, 0.0, 0.0, 0.0, 0.0, 0.0, 0.0, 0.0, 0.0, 0.0, 0.0, 0.0, 0.0, 0.0, 0.0, 0.0, 0.0], [0.6315809488296509, 0.01268397644162178, 0.15899908542633057, 0.016814447939395905, 0.17992159724235535, 0.0, 0.0, 0.0, 0.0, 0.0, 0.0, 0.0, 0.0, 0.0, 0.0, 0.0, 0.0, 0.0, 0.0, 0.0, 0.0, 0.0, 0.0, 0.0, 0.0], [0.6762229800224304, 0.004580381792038679, 0.15939883887767792, 0.005753911100327969, 0.1485200971364975, 0.0055237808264791965, 0.0, 0.0, 0.0, 0.0, 0.0, 0.0, 0.0, 0.0, 0.0, 0.0, 0.0, 0.0, 0.0, 0.0, 0.0, 0.0, 0.0, 0.0, 0.0], [0.524305522441864, 0.008771596476435661, 0.17510022222995758, 0.012878757901489735, 0.12571007013320923, 0.004406505264341831, 0.14882734417915344, 0.0, 0.0, 0.0, 0.0, 0.0, 0.0, 0.0, 0.0, 0.0, 0.0, 0.0, 0.0, 0.0, 0.0, 0.0, 0.0, 0.0, 0.0], [0.9040440917015076, 0.007022147066891193, 0.014583242125809193, 0.012944689951837063, 0.025525063276290894, 0.003634876338765025, 0.012325281277298927, 0.01992051862180233, 0.0, 0.0, 0.0, 0.0, 0.0, 0.0, 0.0, 0.0, 0.0, 0.0, 0.0, 0.0, 0.0, 0.0, 0.0, 0.0, 0.0], [0.5675762295722961, 0.008163508027791977, 0.12819068133831024, 0.0105595039203763, 0.09185820072889328, 0.004547322168946266, 0.1624322384595871, 0.01698588766157627, 0.009686457924544811, 0.0, 0.0, 0.0, 0.0, 0.0, 0.0, 0.0, 0.0, 0.0, 0.0, 0.0, 0.0, 0.0, 0.0, 0.0, 0.0], [0.7871084213256836, 0.011178417131304741, 0.04153820499777794, 0.01558409258723259, 0.04073638468980789, 0.00848138052970171, 0.052250538021326065, 0.014128606766462326, 0.01431506872177124, 0.014678890816867352, 0.0, 0.0, 0.0, 0.0, 0.0, 0.0, 0.0, 0.0, 0.0, 0.0, 0.0, 0.0, 0.0, 0.0, 0.0], [0.9264806509017944, 0.009465444833040237, 0.015200875699520111, 0.0019463716307654977, 0.00455422792583704, 0.000576167250983417, 0.006566161289811134, 0.0016583483666181564, 0.0010543103562667966, 0.001090889098122716, 0.031406573951244354, 0.0, 0.0, 0.0, 0.0, 0.0, 0.0, 0.0, 0.0, 0.0, 0.0, 0.0, 0.0, 0.0, 0.0], [0.2037610560655594, 0.010798265226185322, 0.28709137439727783, 0.00179748993832618, 0.19206401705741882, 0.0005912429769523442, 0.2885788381099701, 0.0021331070456653833, 0.00034076161682605743, 0.0004393414128571749, 0.008568237535655499, 0.0038363204803317785, 0.0, 0.0, 0.0, 0.0, 0.0, 0.0, 0.0, 0.0, 0.0, 0.0, 0.0, 0.0, 0.0], [0.2733512222766876, 0.010586785152554512, 0.19221535325050354, 0.009277093224227428, 0.21596410870552063, 0.0034218092914670706, 0.23604436218738556, 0.012163660489022732, 0.0035071857273578644, 0.004242051858454943, 0.024076297879219055, 0.0103391008451581, 0.004811006598174572, 0.0, 0.0, 0.0, 0.0, 0.0, 0.0, 0.0, 0.0, 0.0, 0.0, 0.0, 0.0], [0.4757920503616333, 0.01166000496596098, 0.08707668632268906, 0.007299148477613926, 0.17260344326496124, 0.0035890662111341953, 0.1586446315050125, 0.006825849413871765, 0.0017020251834765077, 0.001528817811049521, 0.04277458414435387, 0.01958983577787876, 0.003005069913342595, 0.007908789440989494, 0.0, 0.0, 0.0, 0.0, 0.0, 0.0, 0.0, 0.0, 0.0, 0.0, 0.0], [0.15295113623142242, 0.006472279783338308, 0.1846465915441513, 0.003304201178252697, 0.3189064562320709, 0.0022006211802363396, 0.31189048290252686, 0.0029564271681010723, 0.0004990734159946442, 0.0005778272170573473, 0.00876183994114399, 0.0015092387329787016, 0.0008910727337934077, 0.0015134820714592934, 0.0029192164074629545, 0.0, 0.0, 0.0, 0.0, 0.0, 0.0, 0.0, 0.0, 0.0, 0.0], [0.6345093846321106, 0.023064441978931427, 0.04841472581028938, 0.005079522263258696, 0.09919220209121704, 0.004446167033165693, 0.09953699260950089, 0.0012794156791642308, 0.0004434024740476161, 0.00030380443786270916, 0.006741316989064217, 0.0029290139209479094, 0.002309439703822136, 0.000980450538918376, 0.007803854066878557, 0.06296586245298386, 0.0, 0.0, 0.0, 0.0, 0.0, 0.0, 0.0, 0.0, 0.0], [0.21942460536956787, 0.004333632532507181, 0.06893787533044815, 0.004478143993765116, 0.20296770334243774, 0.0014184947358444333, 0.16573373973369598, 0.003982898313552141, 0.0005267342203296721, 0.0005926509038545191, 0.008719570003449917, 0.0026038980577141047, 0.0005677383160218596, 0.0019629027228802443, 0.0024185101501643658, 0.0382925346493721, 0.2730383276939392, 0.0, 0.0, 0.0, 0.0, 0.0, 0.0, 0.0, 0.0], [0.21925710141658783, 0.007665764540433884, 0.14354321360588074, 0.0010728612542152405, 0.33445724844932556, 0.0005850372253917158, 0.12156524509191513, 0.0009155785082839429, 0.00028147982084192336, 0.00024942500749602914, 0.005046573933213949, 0.0004545770934782922, 0.00017574999947100878, 0.0003560594341251999, 0.0004620430991053581, 0.016239678487181664, 0.14719490706920624, 0.0004774387925863266, 0.0, 0.0, 0.0, 0.0, 0.0, 0.0, 0.0], [0.10426896065473557, 0.0029599375557154417, 0.034772004932165146, 0.0019350621150806546, 0.1845853328704834, 0.0006637657643295825, 0.15427714586257935, 0.005703193135559559, 0.0003639233473222703, 0.00012940046144649386, 0.006408896762877703, 0.0017689281376078725, 0.00013104508980177343, 0.0037858993746340275, 0.0008425337728112936, 0.03730512410402298, 0.2828465402126312, 0.0017703577177599072, 0.17548198997974396, 0.0, 0.0, 0.0, 0.0, 0.0, 0.0], [0.25308170914649963, 0.0111860241740942, 0.12254757434129715, 0.00320367026142776, 0.2417016178369522, 0.0017744052456691861, 0.14818550646305084, 0.003544111270457506, 0.001253675320185721, 0.0012477803975343704, 0.015262001194059849, 0.0028516503516584635, 0.0008195863338187337, 0.0019276845268905163, 0.002976558869704604, 0.06204618886113167, 0.08627970516681671, 0.0008480853284709156, 0.03252366930246353, 0.00673878425732255, 0.0, 0.0, 0.0, 0.0, 0.0], [0.5514734387397766, 0.011011218652129173, 0.03019866719841957, 0.012592700310051441, 0.042654458433389664, 0.007171240635216236, 0.026833374053239822, 0.006553985644131899, 0.005708593409508467, 0.0027831136249005795, 0.12271461635828018, 0.026772594079375267, 0.0028190368320792913, 0.005139170214533806, 0.010689428076148033, 0.06001725420355797, 0.02282283641397953, 0.005706592928618193, 0.010796908289194107, 0.027509963139891624, 0.008030896075069904, 0.0, 0.0, 0.0, 0.0], [0.6627615094184875, 0.013520951382815838, 0.03585996851325035, 0.0026241897139698267, 0.03913743793964386, 0.001500372076407075, 0.04068422690033913, 0.0022157467901706696, 0.001336925895884633, 0.0007509329007007182, 0.011183172464370728, 0.005953444633632898, 0.0013961551012471318, 0.001577681745402515, 0.0037665609270334244, 0.07785246521234512, 0.04170532152056694, 0.0013181180693209171, 0.009702006354928017, 0.00853781495243311, 0.0017350411508232355, 0.03488008305430412, 0.0, 0.0, 0.0], [0.4652537405490875, 0.0057401880621910095, 0.025028593838214874, 0.002255199011415243, 0.08610397577285767, 0.002227327087894082, 0.07523899525403976, 0.0020774519070982933, 0.0017260079039260745, 0.001766252564266324, 0.09315590560436249, 0.011344379745423794, 0.001733145909383893, 0.0011332856956869364, 0.0023555122315883636, 0.030170604586601257, 0.04592745378613472, 0.0011894154595211148, 0.007723089307546616, 0.00524472538381815, 0.002553496975451708, 0.11304228007793427, 0.017008988186717033, 0.0, 0.0], [0.4694037437438965, 0.011359077878296375, 0.06943114101886749, 0.0020456197671592236, 0.07757905125617981, 0.0011665865313261747, 0.09859645366668701, 0.0012801203411072493, 0.0006013061502017081, 0.00038665137253701687, 0.008746389299631119, 0.0037020943127572536, 0.0007306385086849332, 0.0006758603849448264, 0.002370594535022974, 0.0776248574256897, 0.05589102953672409, 0.0007708982448093593, 0.012289232574403286, 0.0029683145694434643, 0.0008403745596297085, 0.025741275399923325, 0.004164214711636305, 0.07163450866937637, 0.0], [0.07829215377569199, 0.005163062829524279, 0.1354602724313736, 0.0012748477747663856, 0.3972046673297882, 0.00031545793171972036, 0.20570102334022522, 0.0009301745449192822, 0.00016475295706186444, 0.00015352900663856417, 0.0028273083735257387, 0.00045605425839312375, 0.00012186053209006786, 0.00019151919696014374, 0.0004585903661791235, 0.016617795452475548, 0.10961595922708511, 0.0001670283090788871, 0.02514578588306904, 0.0007554635521955788, 0.0002562580048106611, 0.001440041116438806, 0.0001439508778275922, 0.015908589586615562, 0.0012339033419266343]], [[1.0, 0.0, 0.0, 0.0, 0.0, 0.0, 0.0, 0.0, 0.0, 0.0, 0.0, 0.0, 0.0, 0.0, 0.0, 0.0, 0.0, 0.0, 0.0, 0.0, 0.0, 0.0, 0.0, 0.0, 0.0], [0.992393970489502, 0.007605976890772581, 0.0, 0.0, 0.0, 0.0, 0.0, 0.0, 0.0, 0.0, 0.0, 0.0, 0.0, 0.0, 0.0, 0.0, 0.0, 0.0, 0.0, 0.0, 0.0, 0.0, 0.0, 0.0, 0.0], [0.9741901159286499, 0.002131239278241992, 0.02367858961224556, 0.0, 0.0, 0.0, 0.0, 0.0, 0.0, 0.0, 0.0, 0.0, 0.0, 0.0, 0.0, 0.0, 0.0, 0.0, 0.0, 0.0, 0.0, 0.0, 0.0, 0.0, 0.0], [0.8602802157402039, 0.00678876880556345, 0.12681080400943756, 0.0061202580109238625, 0.0, 0.0, 0.0, 0.0, 0.0, 0.0, 0.0, 0.0, 0.0, 0.0, 0.0, 0.0, 0.0, 0.0, 0.0, 0.0, 0.0, 0.0, 0.0, 0.0, 0.0], [0.9435350894927979, 0.010441659949719906, 0.011212735436856747, 0.004787100479006767, 0.03002343699336052, 0.0, 0.0, 0.0, 0.0, 0.0, 0.0, 0.0, 0.0, 0.0, 0.0, 0.0, 0.0, 0.0, 0.0, 0.0, 0.0, 0.0, 0.0, 0.0, 0.0], [0.7464759349822998, 0.0024761520326137543, 0.11633338034152985, 0.002299607964232564, 0.1284525841474533, 0.003962286747992039, 0.0, 0.0, 0.0, 0.0, 0.0, 0.0, 0.0, 0.0, 0.0, 0.0, 0.0, 0.0, 0.0, 0.0, 0.0, 0.0, 0.0, 0.0, 0.0], [0.8494740724563599, 0.01918122172355652, 0.040768370032310486, 0.005578538402915001, 0.03957519680261612, 0.00634413817897439, 0.039078518748283386, 0.0, 0.0, 0.0, 0.0, 0.0, 0.0, 0.0, 0.0, 0.0, 0.0, 0.0, 0.0, 0.0, 0.0, 0.0, 0.0, 0.0, 0.0], [0.9644870758056641, 0.007402598857879639, 0.006625443696975708, 0.0017176771070808172, 0.006140376906841993, 0.0010680067352950573, 0.006716331001371145, 0.005842480342835188, 0.0, 0.0, 0.0, 0.0, 0.0, 0.0, 0.0, 0.0, 0.0, 0.0, 0.0, 0.0, 0.0, 0.0, 0.0, 0.0, 0.0], [0.8270184993743896, 0.00573557848110795, 0.05972088873386383, 0.0010648658499121666, 0.04845878481864929, 0.0007887029205448925, 0.054052338004112244, 0.0019054829608649015, 0.0012547837104648352, 0.0, 0.0, 0.0, 0.0, 0.0, 0.0, 0.0, 0.0, 0.0, 0.0, 0.0, 0.0, 0.0, 0.0, 0.0, 0.0], [0.9824544787406921, 0.003287654370069504, 0.0031175785697996616, 0.0007648871396668255, 0.003420670982450247, 0.0005862109828740358, 0.0038622100837528706, 0.0008804628159850836, 0.0005703124916180968, 0.0010554927866905928, 0.0, 0.0, 0.0, 0.0, 0.0, 0.0, 0.0, 0.0, 0.0, 0.0, 0.0, 0.0, 0.0, 0.0, 0.0], [0.9790511131286621, 0.006644128821790218, 0.0013539681676775217, 0.0004185211437288672, 0.0003396114334464073, 0.0002965460589621216, 0.0008665895438753068, 0.0002501926210243255, 0.00029827505932189524, 0.0005301923956722021, 0.009950760751962662, 0.0, 0.0, 0.0, 0.0, 0.0, 0.0, 0.0, 0.0, 0.0, 0.0, 0.0, 0.0, 0.0, 0.0], [0.840217649936676, 0.08763924986124039, 0.02310800738632679, 0.001449919305741787, 0.01238612737506628, 0.0006770704057998955, 0.019315723329782486, 0.001393491169437766, 0.0008763458463363349, 0.0008063658024184406, 0.005653421860188246, 0.006476730573922396, 0.0, 0.0, 0.0, 0.0, 0.0, 0.0, 0.0, 0.0, 0.0, 0.0, 0.0, 0.0, 0.0], [0.5579888820648193, 0.021394604817032814, 0.10974211990833282, 0.004846254829317331, 0.16324861347675323, 0.0042170207016170025, 0.11367963254451752, 0.008743476122617722, 0.0020277434960007668, 0.0012027407065033913, 0.0062320115976035595, 0.004377804696559906, 0.0022991395089775324, 0.0, 0.0, 0.0, 0.0, 0.0, 0.0, 0.0, 0.0, 0.0, 0.0, 0.0, 0.0], [0.8730987310409546, 0.014558730646967888, 0.017179105430841446, 0.004551226738840342, 0.03297629579901695, 0.0028236485086381435, 0.033596403896808624, 0.0028218678198754787, 0.003609333885833621, 0.0016040627378970385, 0.0033620481844991446, 0.0037049746606498957, 0.001992391422390938, 0.0041211554780602455, 0.0, 0.0, 0.0, 0.0, 0.0, 0.0, 0.0, 0.0, 0.0, 0.0, 0.0], [0.25948962569236755, 0.013434584252536297, 0.1734990030527115, 0.0015132726402953267, 0.38010162115097046, 0.0006500260788016021, 0.16424331068992615, 0.0007110438891686499, 0.00014363993250299245, 0.0002075631491607055, 0.001960964873433113, 0.0004711556248366833, 0.00022921508934814483, 0.001681211986579001, 0.0016637342050671577, 0.0, 0.0, 0.0, 0.0, 0.0, 0.0, 0.0, 0.0, 0.0, 0.0], [0.8737491965293884, 0.024130946025252342, 0.020164363086223602, 0.008070719428360462, 0.018741918727755547, 0.002160942880436778, 0.02788085676729679, 0.0009749624878168106, 0.0006166873499751091, 0.00090453727170825, 0.0007560193771496415, 0.0005931902560405433, 0.0011322750942781568, 0.00030209310352802277, 0.006570847239345312, 0.013250489719212055, 0.0, 0.0, 0.0, 0.0, 0.0, 0.0, 0.0, 0.0, 0.0], [0.6021822094917297, 0.015430576168000698, 0.023093411698937416, 0.0023641418665647507, 0.10426421463489532, 0.004144654143601656, 0.06105552613735199, 0.005184248089790344, 0.0007311076624318957, 0.0003150611591991037, 0.008509726263582706, 0.007755553815513849, 0.0008720705518499017, 0.003053097752854228, 0.0007419852772727609, 0.013638198375701904, 0.14666417241096497, 0.0, 0.0, 0.0, 0.0, 0.0, 0.0, 0.0, 0.0], [0.17433758080005646, 0.001578681985847652, 0.1398867964744568, 0.00022174518380779773, 0.4423883259296417, 0.00024286103143822402, 0.12242156267166138, 8.56744300108403e-05, 1.5917610653559677e-05, 5.810831498820335e-05, 0.0010830775136128068, 0.00030178140150383115, 1.0721409125835635e-05, 5.083391079097055e-05, 2.3861437512096018e-05, 0.0074867745861411095, 0.10967415571212769, 0.0001315070257987827, 0.0, 0.0, 0.0, 0.0, 0.0, 0.0, 0.0], [0.37671366333961487, 0.00830351933836937, 0.024667534977197647, 0.00261234724894166, 0.14185523986816406, 0.005787394475191832, 0.05587219074368477, 0.01532494556158781, 0.0004947013803757727, 0.00010851065599126741, 0.01152523048222065, 0.010014146566390991, 0.00025660390383563936, 0.0022637646179646254, 0.0004453291476238519, 0.005541336722671986, 0.21050696074962616, 0.005538480821996927, 0.1221681609749794, 0.0, 0.0, 0.0, 0.0, 0.0, 0.0], [0.2744937241077423, 0.004948514513671398, 0.12309650331735611, 0.0025799409486353397, 0.2928309738636017, 0.0018270998261868954, 0.13685135543346405, 0.0012947283685207367, 0.00046285265125334263, 0.001059555565007031, 0.007739023771136999, 0.002987629035487771, 0.0001899071503430605, 0.0027144597843289375, 0.0010045532835647464, 0.02804744988679886, 0.05859264358878136, 0.00040745388832874596, 0.05490392446517944, 0.003967697266489267, 0.0, 0.0, 0.0, 0.0, 0.0], [0.8778871893882751, 0.010020466521382332, 0.00662046205252409, 0.003585918340831995, 0.013270183466374874, 0.0013419712195172906, 0.006315258797258139, 0.0021157816518098116, 0.0009214960737153888, 0.00038651464274153113, 0.00905795767903328, 0.0033984186593443155, 0.00038689799839630723, 0.006571509875357151, 0.0029233016539365053, 0.003853969741612673, 0.013763695023953915, 0.0008742231875658035, 0.0033995856065303087, 0.005884344223886728, 0.027420811355113983, 0.0, 0.0, 0.0, 0.0], [0.8980275392532349, 0.01681438274681568, 0.010329523123800755, 0.0012190497945994139, 0.011199254542589188, 0.0005431159515865147, 0.013909398578107357, 0.000773430394474417, 0.0006328208837658167, 0.0002659372112248093, 0.0008022877154871821, 0.0012407081667333841, 0.0006233879248611629, 0.001770875882357359, 0.002366602187976241, 0.005003478843718767, 0.010785326361656189, 0.00020236277487128973, 0.0017125577433034778, 0.001211540773510933, 0.0029502809047698975, 0.017616217955946922, 0.0, 0.0, 0.0], [0.8367947340011597, 0.00849281158298254, 0.02778918296098709, 0.0006121171754784882, 0.03117278777062893, 0.00015853546210564673, 0.026320118457078934, 6.253272294998169e-05, 4.003269714303315e-05, 0.00011420187365729362, 0.0023210502695292234, 0.0006630087736994028, 3.826378451776691e-05, 0.00013341623707674444, 0.00039845434366725385, 0.008139406330883503, 0.027636250481009483, 8.139402052620426e-05, 0.005503491032868624, 0.00033528864150866866, 0.0026257417630404234, 0.01974215731024742, 0.0008250899845734239, 0.0, 0.0], [0.7456287145614624, 0.05663973093032837, 0.009710698388516903, 0.001254354603588581, 0.008435227908194065, 0.0007846900844015181, 0.015575889497995377, 0.0010622547706589103, 0.000483639189042151, 0.00017863448010757565, 0.0011465499410405755, 0.0030265788082033396, 0.0011597099946811795, 0.0018554962007328868, 0.005357363726943731, 0.03118067793548107, 0.022551225498318672, 0.00018668673874344677, 0.0013579981168732047, 0.0016777606215327978, 0.0027926431503146887, 0.017021145671606064, 0.0028534673620015383, 0.06807885318994522, 0.0], [0.033850669860839844, 0.0006209746934473515, 0.1712336540222168, 0.00017343457147944719, 0.47389495372772217, 0.00011889608867932111, 0.20945768058300018, 4.579544111038558e-05, 5.468953531817533e-06, 2.939324804174248e-05, 0.0005573506932705641, 0.00013036368181928992, 6.727633262926247e-06, 5.4828367865411565e-05, 1.3907567335991189e-05, 0.0072518615052104, 0.06542903184890747, 1.5375024304375984e-05, 0.032017119228839874, 6.347779708448797e-05, 6.08182126597967e-05, 0.0005588355707004666, 5.930030965828337e-06, 0.004252676852047443, 0.0001507552369730547]]], \"attentionHeadNames\": [\"L9H9\", \"L10H0\", \"L9H6\"], \"tokens\": [\"<|endoftext|>\", \"After\", \" John\", \",\", \" Mary\", \" and\", \" Jim\", \" went\", \" to\", \" the\", \" grocery\", \" store\", \" and\", \" return\", \",\", \" \", \" Jim\", \" and\", \" John\", \" gave\", \" a\", \" bottle\", \" of\", \" milk\", \" to\"]}\n",
       "    )\n",
       "    </script></div><div style='max-width: 700px;'><h2>Top 3 Negative Logit Attribution Heads</h2><br/><div id=\"circuits-vis-267f7623-33e3\" style=\"margin: 15px 0;\"/>\n",
       "    <script crossorigin type=\"module\">\n",
       "    import { render, AttentionHeads } from \"https://unpkg.com/circuitsvis@1.43.2/dist/cdn/esm.js\";\n",
       "    render(\n",
       "      \"circuits-vis-267f7623-33e3\",\n",
       "      AttentionHeads,\n",
       "      {\"attention\": [[[1.0, 0.0, 0.0, 0.0, 0.0, 0.0, 0.0, 0.0, 0.0, 0.0, 0.0, 0.0, 0.0, 0.0, 0.0, 0.0, 0.0, 0.0, 0.0, 0.0, 0.0, 0.0, 0.0, 0.0, 0.0], [0.9436835646629333, 0.05631640553474426, 0.0, 0.0, 0.0, 0.0, 0.0, 0.0, 0.0, 0.0, 0.0, 0.0, 0.0, 0.0, 0.0, 0.0, 0.0, 0.0, 0.0, 0.0, 0.0, 0.0, 0.0, 0.0, 0.0], [0.9497463703155518, 0.01744636334478855, 0.03280718997120857, 0.0, 0.0, 0.0, 0.0, 0.0, 0.0, 0.0, 0.0, 0.0, 0.0, 0.0, 0.0, 0.0, 0.0, 0.0, 0.0, 0.0, 0.0, 0.0, 0.0, 0.0, 0.0], [0.8314600586891174, 0.03138207644224167, 0.06661952286958694, 0.07053831219673157, 0.0, 0.0, 0.0, 0.0, 0.0, 0.0, 0.0, 0.0, 0.0, 0.0, 0.0, 0.0, 0.0, 0.0, 0.0, 0.0, 0.0, 0.0, 0.0, 0.0, 0.0], [0.83692866563797, 0.01980024389922619, 0.031086493283510208, 0.06171854957938194, 0.05046596750617027, 0.0, 0.0, 0.0, 0.0, 0.0, 0.0, 0.0, 0.0, 0.0, 0.0, 0.0, 0.0, 0.0, 0.0, 0.0, 0.0, 0.0, 0.0, 0.0, 0.0], [0.7039164900779724, 0.014765056781470776, 0.07301720231771469, 0.05689786747097969, 0.09503049403429031, 0.056372854858636856, 0.0, 0.0, 0.0, 0.0, 0.0, 0.0, 0.0, 0.0, 0.0, 0.0, 0.0, 0.0, 0.0, 0.0, 0.0, 0.0, 0.0, 0.0, 0.0], [0.7722674012184143, 0.024495450779795647, 0.04525317624211311, 0.033245787024497986, 0.08296582102775574, 0.005938087124377489, 0.03583424165844917, 0.0, 0.0, 0.0, 0.0, 0.0, 0.0, 0.0, 0.0, 0.0, 0.0, 0.0, 0.0, 0.0, 0.0, 0.0, 0.0, 0.0, 0.0], [0.8732064366340637, 0.02712159976363182, 0.017751073464751244, 0.015661919489502907, 0.047914523631334305, 0.00447115721181035, 0.008553621359169483, 0.005319643300026655, 0.0, 0.0, 0.0, 0.0, 0.0, 0.0, 0.0, 0.0, 0.0, 0.0, 0.0, 0.0, 0.0, 0.0, 0.0, 0.0, 0.0], [0.8292105197906494, 0.025159571319818497, 0.042017947882413864, 0.02247053012251854, 0.03645496815443039, 0.00715201161801815, 0.025762386620044708, 0.002944586332887411, 0.00882747583091259, 0.0, 0.0, 0.0, 0.0, 0.0, 0.0, 0.0, 0.0, 0.0, 0.0, 0.0, 0.0, 0.0, 0.0, 0.0, 0.0], [0.874406099319458, 0.024879956617951393, 0.015752673149108887, 0.01740427501499653, 0.014076290652155876, 0.005769418086856604, 0.009435775689780712, 0.0019539648201316595, 0.011233064346015453, 0.025088513270020485, 0.0, 0.0, 0.0, 0.0, 0.0, 0.0, 0.0, 0.0, 0.0, 0.0, 0.0, 0.0, 0.0, 0.0, 0.0], [0.9112218618392944, 0.026543665677309036, 0.007941247895359993, 0.01493986789137125, 0.013401210308074951, 0.003035562578588724, 0.005213978700339794, 0.0031959405168890953, 0.0026261250022798777, 0.002149490872398019, 0.009731097146868706, 0.0, 0.0, 0.0, 0.0, 0.0, 0.0, 0.0, 0.0, 0.0, 0.0, 0.0, 0.0, 0.0, 0.0], [0.3183419406414032, 0.049082644283771515, 0.12054792046546936, 0.037581656128168106, 0.31292521953582764, 0.009474382735788822, 0.12402418255805969, 0.002733806846663356, 0.0027351314201951027, 0.002554178237915039, 0.004884888883680105, 0.015113994479179382, 0.0, 0.0, 0.0, 0.0, 0.0, 0.0, 0.0, 0.0, 0.0, 0.0, 0.0, 0.0, 0.0], [0.5717027187347412, 0.02876541018486023, 0.0899951234459877, 0.02459822967648506, 0.1422412097454071, 0.011363226920366287, 0.093569815158844, 0.00418190797790885, 0.0026168215554207563, 0.0034228942822664976, 0.010640698485076427, 0.0074414657428860664, 0.009460505098104477, 0.0, 0.0, 0.0, 0.0, 0.0, 0.0, 0.0, 0.0, 0.0, 0.0, 0.0, 0.0], [0.5844112634658813, 0.026252860203385353, 0.06772661209106445, 0.03216783329844475, 0.1671462506055832, 0.007753518410027027, 0.059815406799316406, 0.004197526257485151, 0.0018280738731846213, 0.0022874223068356514, 0.022014478221535683, 0.012585232965648174, 0.007536290679126978, 0.004277232568711042, 0.0, 0.0, 0.0, 0.0, 0.0, 0.0, 0.0, 0.0, 0.0, 0.0, 0.0], [0.7038425803184509, 0.023937106132507324, 0.05320383980870247, 0.02018759399652481, 0.09227271378040314, 0.010329263284802437, 0.043764472007751465, 0.0019465312361717224, 0.001981437439098954, 0.002759314142167568, 0.011327546089887619, 0.006820585113018751, 0.005972540006041527, 0.002047513611614704, 0.019606970250606537, 0.0, 0.0, 0.0, 0.0, 0.0, 0.0, 0.0, 0.0, 0.0, 0.0], [0.77348792552948, 0.025778979063034058, 0.02574700303375721, 0.013545054942369461, 0.036413416266441345, 0.005906413309276104, 0.014500298537313938, 0.0015273221069946885, 0.0009890225483104587, 0.0008992974762804806, 0.0017006731359288096, 0.0015336917713284492, 0.0021437276154756546, 0.0005845598643645644, 0.00921793095767498, 0.08602467179298401, 0.0, 0.0, 0.0, 0.0, 0.0, 0.0, 0.0, 0.0, 0.0], [0.5115882158279419, 0.014890395104885101, 0.031188717111945152, 0.011349890381097794, 0.09945791959762573, 0.0038379128091037273, 0.020831910893321037, 0.0029419618658721447, 0.0005377082270570099, 0.0007988669676706195, 0.015662841498851776, 0.006940673105418682, 0.0017923437990248203, 0.002026522997766733, 0.007666984107345343, 0.19821372628211975, 0.07027330994606018, 0.0, 0.0, 0.0, 0.0, 0.0, 0.0, 0.0, 0.0], [0.6952956914901733, 0.009788460098206997, 0.030932242050766945, 0.01508405152708292, 0.09112820774316788, 0.0107613205909729, 0.02414770796895027, 0.0007910782005637884, 0.0007533860043622553, 0.0009856546530500054, 0.004484234377741814, 0.0020481303799897432, 0.002060734434053302, 0.0009219524217769504, 0.007439214736223221, 0.07146653532981873, 0.01894112303853035, 0.012970329262316227, 0.0, 0.0, 0.0, 0.0, 0.0, 0.0, 0.0], [0.6072320938110352, 0.013368137180805206, 0.012600474059581757, 0.014629763551056385, 0.04360004514455795, 0.007003196980804205, 0.010349229909479618, 0.0018922303570434451, 0.0005252006812952459, 0.0009456262341700494, 0.010456937365233898, 0.006835568696260452, 0.002094598952680826, 0.001907650730572641, 0.007920486852526665, 0.1721295416355133, 0.036161135882139206, 0.012616249732673168, 0.03773183375597, 0.0, 0.0, 0.0, 0.0, 0.0, 0.0], [0.5017902255058289, 0.016725990921258926, 0.05025409907102585, 0.015358645468950272, 0.10995388776063919, 0.010242925956845284, 0.038150615990161896, 0.0013585719279944897, 0.0018916487460955977, 0.004008502699434757, 0.015347909182310104, 0.0066748070530593395, 0.004194977693259716, 0.0021654979791492224, 0.01621777005493641, 0.10350726544857025, 0.03318456932902336, 0.016221195459365845, 0.04047849401831627, 0.012272458523511887, 0.0, 0.0, 0.0, 0.0, 0.0], [0.6077359914779663, 0.013711262494325638, 0.03358519822359085, 0.00913279876112938, 0.04229055345058441, 0.0052764518186450005, 0.019309401512145996, 0.0038918904028832912, 0.004266099072992802, 0.0054023731499910355, 0.05656377971172333, 0.021281158551573753, 0.0033205028157681227, 0.008074584417045116, 0.011145314201712608, 0.06637764722108841, 0.02504761517047882, 0.008508788421750069, 0.028341855853796005, 0.02139313332736492, 0.00534365139901638, 0.0, 0.0, 0.0, 0.0], [0.44545239210128784, 0.013657331466674805, 0.04191987216472626, 0.017227062955498695, 0.048835523426532745, 0.007258704397827387, 0.04066341370344162, 0.003876923117786646, 0.0012327006552368402, 0.0010781624587252736, 0.006983091589063406, 0.004321462009102106, 0.0043548098765313625, 0.00605986500158906, 0.013392098248004913, 0.15976114571094513, 0.06405584514141083, 0.010610214434564114, 0.0532621368765831, 0.022641649469733238, 0.004450524225831032, 0.028905043378472328, 0.0, 0.0, 0.0], [0.6773099303245544, 0.01094860304147005, 0.04060353338718414, 0.008545207791030407, 0.04132235422730446, 0.0038472285959869623, 0.03096012957394123, 0.0006561698392033577, 0.0011752451537176967, 0.0025722153950482607, 0.017850413918495178, 0.0023768728133291006, 0.0019393505062907934, 0.0005107415490783751, 0.006363963708281517, 0.057719893753528595, 0.017863497138023376, 0.004689369350671768, 0.01911660097539425, 0.003598949871957302, 0.0016027635429054499, 0.028135722503066063, 0.020291155204176903, 0.0, 0.0], [0.341962069272995, 0.022583071142435074, 0.056759756058454514, 0.012938409112393856, 0.06941964477300644, 0.006665097549557686, 0.056144025176763535, 0.0019487765384837985, 0.0013533291639760137, 0.001140921376645565, 0.005558418575674295, 0.004398719407618046, 0.0034511606208980083, 0.0031000920571386814, 0.015224889852106571, 0.14508020877838135, 0.0891624167561531, 0.01031438633799553, 0.04352721944451332, 0.007557722274214029, 0.0026910598389804363, 0.03154607117176056, 0.011260994710028172, 0.05621153116226196, 0.0], [0.4518211781978607, 0.012516584247350693, 0.03685455396771431, 0.017650170251727104, 0.09275811910629272, 0.00959449727088213, 0.03639708459377289, 0.0008509375620633364, 0.000734310713596642, 0.0014451569877564907, 0.004778765607625246, 0.00257944711484015, 0.0027671714778989553, 0.000935408053919673, 0.00889942329376936, 0.17733168601989746, 0.03560518100857735, 0.012369733303785324, 0.03769811615347862, 0.007174638565629721, 0.000997200608253479, 0.0046159871853888035, 0.00024325728008989245, 0.02134709432721138, 0.022034311667084694]], [[1.0, 0.0, 0.0, 0.0, 0.0, 0.0, 0.0, 0.0, 0.0, 0.0, 0.0, 0.0, 0.0, 0.0, 0.0, 0.0, 0.0, 0.0, 0.0, 0.0, 0.0, 0.0, 0.0, 0.0, 0.0], [0.9004704356193542, 0.09952950477600098, 0.0, 0.0, 0.0, 0.0, 0.0, 0.0, 0.0, 0.0, 0.0, 0.0, 0.0, 0.0, 0.0, 0.0, 0.0, 0.0, 0.0, 0.0, 0.0, 0.0, 0.0, 0.0, 0.0], [0.8859712481498718, 0.03719091787934303, 0.07683785259723663, 0.0, 0.0, 0.0, 0.0, 0.0, 0.0, 0.0, 0.0, 0.0, 0.0, 0.0, 0.0, 0.0, 0.0, 0.0, 0.0, 0.0, 0.0, 0.0, 0.0, 0.0, 0.0], [0.3079524338245392, 0.02761046402156353, 0.490182101726532, 0.17425498366355896, 0.0, 0.0, 0.0, 0.0, 0.0, 0.0, 0.0, 0.0, 0.0, 0.0, 0.0, 0.0, 0.0, 0.0, 0.0, 0.0, 0.0, 0.0, 0.0, 0.0, 0.0], [0.5938620567321777, 0.02745000645518303, 0.12055571377277374, 0.13469386100769043, 0.12343832850456238, 0.0, 0.0, 0.0, 0.0, 0.0, 0.0, 0.0, 0.0, 0.0, 0.0, 0.0, 0.0, 0.0, 0.0, 0.0, 0.0, 0.0, 0.0, 0.0, 0.0], [0.1632126122713089, 0.010855061002075672, 0.30402520298957825, 0.12559394538402557, 0.3206959068775177, 0.07561729848384857, 0.0, 0.0, 0.0, 0.0, 0.0, 0.0, 0.0, 0.0, 0.0, 0.0, 0.0, 0.0, 0.0, 0.0, 0.0, 0.0, 0.0, 0.0, 0.0], [0.40133050084114075, 0.02079720050096512, 0.22230902314186096, 0.10053214430809021, 0.09173314273357391, 0.04589558392763138, 0.11740241199731827, 0.0, 0.0, 0.0, 0.0, 0.0, 0.0, 0.0, 0.0, 0.0, 0.0, 0.0, 0.0, 0.0, 0.0, 0.0, 0.0, 0.0, 0.0], [0.872355580329895, 0.025283727794885635, 0.0045343502424657345, 0.04738721624016762, 0.0036603373009711504, 0.019703496247529984, 0.00198232545517385, 0.025092896074056625, 0.0, 0.0, 0.0, 0.0, 0.0, 0.0, 0.0, 0.0, 0.0, 0.0, 0.0, 0.0, 0.0, 0.0, 0.0, 0.0, 0.0], [0.23711878061294556, 0.025753019377589226, 0.21319153904914856, 0.06328882277011871, 0.14683666825294495, 0.026609471067786217, 0.21646803617477417, 0.03902825340628624, 0.031705405563116074, 0.0, 0.0, 0.0, 0.0, 0.0, 0.0, 0.0, 0.0, 0.0, 0.0, 0.0, 0.0, 0.0, 0.0, 0.0, 0.0], [0.6281924247741699, 0.0322994738817215, 0.03937293961644173, 0.05098063126206398, 0.02345801331102848, 0.052821312099695206, 0.01642470620572567, 0.017374714836478233, 0.07473485171794891, 0.06434087455272675, 0.0, 0.0, 0.0, 0.0, 0.0, 0.0, 0.0, 0.0, 0.0, 0.0, 0.0, 0.0, 0.0, 0.0, 0.0], [0.8088677525520325, 0.01799006760120392, 0.008862586691975594, 0.01666073314845562, 0.00146161497104913, 0.0100163035094738, 0.0024729911237955093, 0.02229146845638752, 0.017788898199796677, 0.04210347309708595, 0.0514841265976429, 0.0, 0.0, 0.0, 0.0, 0.0, 0.0, 0.0, 0.0, 0.0, 0.0, 0.0, 0.0, 0.0, 0.0], [0.016593631356954575, 0.011899128556251526, 0.5630611777305603, 0.04265764355659485, 0.06392645835876465, 0.02237364836037159, 0.24574148654937744, 0.008044645190238953, 0.007016968913376331, 0.010796889662742615, 0.0015120269963517785, 0.006376291625201702, 0.0, 0.0, 0.0, 0.0, 0.0, 0.0, 0.0, 0.0, 0.0, 0.0, 0.0, 0.0, 0.0], [0.024293432012200356, 0.005528826732188463, 0.22234804928302765, 0.03501056879758835, 0.2625580430030823, 0.023393331095576286, 0.3638840317726135, 0.018016228452324867, 0.005543079227209091, 0.0012237302726134658, 0.0020616366527974606, 0.0038381307385861874, 0.03230087459087372, 0.0, 0.0, 0.0, 0.0, 0.0, 0.0, 0.0, 0.0, 0.0, 0.0, 0.0, 0.0], [0.1658163219690323, 0.015016505494713783, 0.2501084804534912, 0.07642360031604767, 0.10887142270803452, 0.05778481066226959, 0.1639387011528015, 0.01456675585359335, 0.006069454364478588, 0.00953674130141735, 0.012250206433236599, 0.01618562825024128, 0.07182475924491882, 0.03160661831498146, 0.0, 0.0, 0.0, 0.0, 0.0, 0.0, 0.0, 0.0, 0.0, 0.0, 0.0], [0.01227594818919897, 0.0051186466589570045, 0.12572252750396729, 0.02286568656563759, 0.30186471343040466, 0.014271823689341545, 0.4926445782184601, 0.002043628366664052, 0.001152348704636097, 0.001264583203010261, 0.00020169184426777065, 0.0007137341890484095, 0.008034374564886093, 0.002009824849665165, 0.00981590524315834, 0.0, 0.0, 0.0, 0.0, 0.0, 0.0, 0.0, 0.0, 0.0, 0.0], [0.5888193845748901, 0.03703451529145241, 0.03973591700196266, 0.08607617765665054, 0.040234893560409546, 0.021041668951511383, 0.07529940456151962, 0.007010862696915865, 0.004031184129416943, 0.005344497039914131, 0.0005454662605188787, 0.002489391714334488, 0.01755528151988983, 0.0035289544612169266, 0.043629977852106094, 0.027622416615486145, 0.0, 0.0, 0.0, 0.0, 0.0, 0.0, 0.0, 0.0, 0.0], [0.09558545798063278, 0.014794467017054558, 0.034971076995134354, 0.11762090772390366, 0.07032278925180435, 0.046433139592409134, 0.2141011655330658, 0.0058233956806361675, 0.0015573035925626755, 0.0021937100682407618, 0.00015521422028541565, 0.0007075516623444855, 0.017011471092700958, 0.0025245945435017347, 0.026080062612891197, 0.0036501602735370398, 0.346467524766922, 0.0, 0.0, 0.0, 0.0, 0.0, 0.0, 0.0, 0.0], [0.024669136852025986, 0.002446096623316407, 0.04898730665445328, 0.032144688069820404, 0.4482402801513672, 0.020111430436372757, 0.17567643523216248, 0.0004978996585123241, 0.00041100900853052735, 0.0007780216401442885, 2.185725861636456e-05, 0.00010104399552801624, 0.0033931792713701725, 0.0002599656581878662, 0.007406478747725487, 0.005152030382305384, 0.18758836388587952, 0.0421147495508194, 0.0, 0.0, 0.0, 0.0, 0.0, 0.0, 0.0], [0.01788298413157463, 0.006106608081609011, 0.035509925335645676, 0.04994749277830124, 0.09420280903577805, 0.05251222476363182, 0.2505602240562439, 0.003767243353649974, 0.001147848553955555, 0.0018917388515546918, 0.00014537326933350414, 0.00045661110198125243, 0.01309631485491991, 0.0013744664611294866, 0.011900908313691616, 0.0011898481752723455, 0.3572194278240204, 0.052043430507183075, 0.049044571816921234, 0.0, 0.0, 0.0, 0.0, 0.0, 0.0], [0.011341686360538006, 0.0030116529669612646, 0.08340737223625183, 0.02260371670126915, 0.18374347686767578, 0.017198530957102776, 0.26402032375335693, 0.0009009490022435784, 0.0004547913558781147, 0.0014176992699503899, 0.0003135565493721515, 0.0005951548810116947, 0.005157564301043749, 0.0010424642823636532, 0.00994145032018423, 0.003964756149798632, 0.2826927602291107, 0.03716469183564186, 0.06492813676595688, 0.006099215708673, 0.0, 0.0, 0.0, 0.0, 0.0], [0.39607587456703186, 0.019107818603515625, 0.022904668003320694, 0.028300931677222252, 0.010437372140586376, 0.015252597630023956, 0.005119566805660725, 0.011268176138401031, 0.005351174157112837, 0.0029629564378410578, 0.010859624482691288, 0.007632898166775703, 0.010579492896795273, 0.040639761835336685, 0.021985754370689392, 0.03431093320250511, 0.017033929005265236, 0.030057812109589577, 0.008774819783866405, 0.24239425361156464, 0.05894963815808296, 0.0, 0.0, 0.0, 0.0], [0.19299620389938354, 0.025194363668560982, 0.0397559218108654, 0.07126276940107346, 0.01787872426211834, 0.04180094599723816, 0.028764160349965096, 0.012342494912445545, 0.00930554885417223, 0.013687385246157646, 0.0015378197422251105, 0.0027351989410817623, 0.026543306186795235, 0.016678553074598312, 0.04228679835796356, 0.06650883704423904, 0.07336833328008652, 0.05483585223555565, 0.025333192199468613, 0.10179969668388367, 0.10107430815696716, 0.03430952876806259, 0.0, 0.0, 0.0], [0.17584407329559326, 0.02009403146803379, 0.07674529403448105, 0.04387948662042618, 0.09194616228342056, 0.029945923015475273, 0.08484054356813431, 0.002657522214576602, 0.0048464564606547356, 0.004888415336608887, 0.0028097108006477356, 0.0016422545304521918, 0.01001920085400343, 0.0009992183186113834, 0.02392948977649212, 0.027474114671349525, 0.1043657511472702, 0.06649059802293777, 0.04307633265852928, 0.029987823218107224, 0.011709591373801231, 0.06247102841734886, 0.079336978495121, 0.0, 0.0], [0.11036937683820724, 0.020558636635541916, 0.09684232622385025, 0.038697320967912674, 0.022296326234936714, 0.02599303424358368, 0.04967830702662468, 0.00923400279134512, 0.006810817401856184, 0.0073414999060332775, 0.0016188070876523852, 0.0030902738217264414, 0.021991949528455734, 0.010983014479279518, 0.042398471385240555, 0.09609415382146835, 0.11590970307588577, 0.050549183040857315, 0.04807579144835472, 0.04005620628595352, 0.038301631808280945, 0.03820385783910751, 0.0657670646905899, 0.03913814201951027, 0.0], [0.0021024118177592754, 0.000876131933182478, 0.03756390139460564, 0.01379296462982893, 0.23033788800239563, 0.00710389344021678, 0.3737594187259674, 0.00011986037134192884, 6.375402153935283e-05, 0.00023065957066137344, 1.3639208191307262e-05, 4.565868221106939e-05, 0.0008850597660057247, 6.59148718114011e-05, 0.002520012203603983, 0.0012335071805864573, 0.2811959385871887, 0.016169482842087746, 0.027044733986258507, 0.0006915119593031704, 5.5487631470896304e-05, 1.8917320630862378e-05, 0.0001090658552129753, 0.00022234447533264756, 0.0037779207341372967]], [[1.0, 0.0, 0.0, 0.0, 0.0, 0.0, 0.0, 0.0, 0.0, 0.0, 0.0, 0.0, 0.0, 0.0, 0.0, 0.0, 0.0, 0.0, 0.0, 0.0, 0.0, 0.0, 0.0, 0.0, 0.0], [0.939100980758667, 0.060899052768945694, 0.0, 0.0, 0.0, 0.0, 0.0, 0.0, 0.0, 0.0, 0.0, 0.0, 0.0, 0.0, 0.0, 0.0, 0.0, 0.0, 0.0, 0.0, 0.0, 0.0, 0.0, 0.0, 0.0], [0.9015151262283325, 0.007700962480157614, 0.09078391641378403, 0.0, 0.0, 0.0, 0.0, 0.0, 0.0, 0.0, 0.0, 0.0, 0.0, 0.0, 0.0, 0.0, 0.0, 0.0, 0.0, 0.0, 0.0, 0.0, 0.0, 0.0, 0.0], [0.5336698889732361, 0.020909080281853676, 0.28087905049324036, 0.16454198956489563, 0.0, 0.0, 0.0, 0.0, 0.0, 0.0, 0.0, 0.0, 0.0, 0.0, 0.0, 0.0, 0.0, 0.0, 0.0, 0.0, 0.0, 0.0, 0.0, 0.0, 0.0], [0.7047005891799927, 0.014246500097215176, 0.053280968219041824, 0.08436993509531021, 0.14340205490589142, 0.0, 0.0, 0.0, 0.0, 0.0, 0.0, 0.0, 0.0, 0.0, 0.0, 0.0, 0.0, 0.0, 0.0, 0.0, 0.0, 0.0, 0.0, 0.0, 0.0], [0.284134179353714, 0.0054863509722054005, 0.1287575215101242, 0.037840861827135086, 0.5149587392807007, 0.02882229909300804, 0.0, 0.0, 0.0, 0.0, 0.0, 0.0, 0.0, 0.0, 0.0, 0.0, 0.0, 0.0, 0.0, 0.0, 0.0, 0.0, 0.0, 0.0, 0.0], [0.6701237559318542, 0.022339152172207832, 0.09056515991687775, 0.08313730359077454, 0.03852607682347298, 0.041628655046224594, 0.05367983505129814, 0.0, 0.0, 0.0, 0.0, 0.0, 0.0, 0.0, 0.0, 0.0, 0.0, 0.0, 0.0, 0.0, 0.0, 0.0, 0.0, 0.0, 0.0], [0.896051287651062, 0.0219736285507679, 0.004182492382824421, 0.023973902687430382, 0.0014240600867196918, 0.015423782169818878, 0.0007003435166552663, 0.036270447075366974, 0.0, 0.0, 0.0, 0.0, 0.0, 0.0, 0.0, 0.0, 0.0, 0.0, 0.0, 0.0, 0.0, 0.0, 0.0, 0.0, 0.0], [0.42055943608283997, 0.013019150123000145, 0.12551365792751312, 0.05520259588956833, 0.10020388662815094, 0.03894031420350075, 0.15500915050506592, 0.029411833733320236, 0.062139928340911865, 0.0, 0.0, 0.0, 0.0, 0.0, 0.0, 0.0, 0.0, 0.0, 0.0, 0.0, 0.0, 0.0, 0.0, 0.0, 0.0], [0.6871537566184998, 0.01900385692715645, 0.02709873951971531, 0.05902918055653572, 0.023183871060609818, 0.05638672783970833, 0.01659165695309639, 0.0101395258679986, 0.06265676021575928, 0.038755908608436584, 0.0, 0.0, 0.0, 0.0, 0.0, 0.0, 0.0, 0.0, 0.0, 0.0, 0.0, 0.0, 0.0, 0.0, 0.0], [0.9366796612739563, 0.0098933270201087, 0.0015540827298536897, 0.008753002621233463, 0.0005697588203474879, 0.005482121836394072, 0.0007233162177726626, 0.0022343965247273445, 0.006518959533423185, 0.005788270849734545, 0.021803027018904686, 0.0, 0.0, 0.0, 0.0, 0.0, 0.0, 0.0, 0.0, 0.0, 0.0, 0.0, 0.0, 0.0, 0.0], [0.3259122669696808, 0.2823961675167084, 0.06913488358259201, 0.10055913776159286, 0.031147625297307968, 0.04527994245290756, 0.04048362001776695, 0.028407728299498558, 0.03800443559885025, 0.016272246837615967, 0.004128872882574797, 0.01827310398221016, 0.0, 0.0, 0.0, 0.0, 0.0, 0.0, 0.0, 0.0, 0.0, 0.0, 0.0, 0.0, 0.0], [0.3683135211467743, 0.021639680489897728, 0.11932343244552612, 0.07912958413362503, 0.04854844510555267, 0.04044448584318161, 0.11272285133600235, 0.0778682604432106, 0.06903562694787979, 0.016118759289383888, 0.0022555922623723745, 0.008938721381127834, 0.03566110506653786, 0.0, 0.0, 0.0, 0.0, 0.0, 0.0, 0.0, 0.0, 0.0, 0.0, 0.0, 0.0], [0.66936856508255, 0.023840170353651047, 0.05201739817857742, 0.023209350183606148, 0.0567212738096714, 0.023373963311314583, 0.021440833806991577, 0.016932949423789978, 0.030467508360743523, 0.008025581017136574, 0.004658633377403021, 0.01802877150475979, 0.030350277200341225, 0.021564753726124763, 0.0, 0.0, 0.0, 0.0, 0.0, 0.0, 0.0, 0.0, 0.0, 0.0, 0.0], [0.05691035836935043, 0.0085206413641572, 0.3601952791213989, 0.029299596324563026, 0.30620941519737244, 0.023251399397850037, 0.16160619258880615, 0.00539407879114151, 0.008381800726056099, 0.003529677866026759, 0.0003145196824334562, 0.0006160848424769938, 0.006172860506922007, 0.004309168551117182, 0.025288863107562065, 0.0, 0.0, 0.0, 0.0, 0.0, 0.0, 0.0, 0.0, 0.0, 0.0], [0.838870108127594, 0.008487765677273273, 0.020122775807976723, 0.01242276281118393, 0.006807352881878614, 0.006872367113828659, 0.005895847454667091, 0.0010084941750392318, 0.0019303819863125682, 0.000989316962659359, 9.643491648603231e-05, 0.00031553878216072917, 0.0027158288285136223, 0.0008805748075246811, 0.009615005925297737, 0.0829693153500557, 0.0, 0.0, 0.0, 0.0, 0.0, 0.0, 0.0, 0.0, 0.0], [0.20685561001300812, 0.024650361388921738, 0.05046524107456207, 0.10940459370613098, 0.0097358338534832, 0.04054589569568634, 0.12474808096885681, 0.011273873038589954, 0.011358674615621567, 0.0038670809008181095, 3.0403127311728895e-05, 0.0003032067616004497, 0.013270514085888863, 0.0022507712710648775, 0.038661833852529526, 0.03801386058330536, 0.31456422805786133, 0.0, 0.0, 0.0, 0.0, 0.0, 0.0, 0.0, 0.0], [0.061204951256513596, 0.003461306681856513, 0.13235220313072205, 0.029800821095705032, 0.3177855610847473, 0.012351018376648426, 0.0947413221001625, 0.0005150256911292672, 0.0027175750583410263, 0.0029152489732950926, 2.3129841792979278e-05, 9.4037655799184e-05, 0.0021443520672619343, 0.0001567805593367666, 0.012512536719441414, 0.005963801871985197, 0.30756333470344543, 0.013697059825062752, 0.0, 0.0, 0.0, 0.0, 0.0, 0.0, 0.0], [0.0948067456483841, 0.01683851331472397, 0.1603410691022873, 0.20752450823783875, 0.028812823817133904, 0.05809172987937927, 0.019691310822963715, 0.014170153066515923, 0.014812245033681393, 0.0035611377097666264, 1.1623518730630167e-05, 5.133674858370796e-05, 0.006090466398745775, 0.0013542210217565298, 0.043459340929985046, 0.02372783049941063, 0.08126109093427658, 0.08501575142145157, 0.14037811756134033, 0.0, 0.0, 0.0, 0.0, 0.0, 0.0], [0.10034574568271637, 0.007974900305271149, 0.22766657173633575, 0.03262466564774513, 0.07976177334785461, 0.029902154579758644, 0.1251499056816101, 0.009239756502211094, 0.015753213316202164, 0.006622852757573128, 0.0005951700732111931, 0.0017660451121628284, 0.011446177959442139, 0.008143595419824123, 0.03661176562309265, 0.05128771811723709, 0.10354334115982056, 0.02641414664685726, 0.0991402193903923, 0.026010258123278618, 0.0, 0.0, 0.0, 0.0, 0.0], [0.5201169848442078, 0.013831314630806446, 0.02435683086514473, 0.02768678404390812, 0.004366172011941671, 0.022864345461130142, 0.009097614325582981, 0.008897473104298115, 0.03507096320390701, 0.015550623647868633, 0.0039909109473228455, 0.013467749580740929, 0.026884794235229492, 0.020721880719065666, 0.043577153235673904, 0.054168570786714554, 0.008388848043978214, 0.025052495300769806, 0.00669127656146884, 0.06619416177272797, 0.049023114144802094, 0.0, 0.0, 0.0, 0.0], [0.5888896584510803, 0.013508373871445656, 0.011156529188156128, 0.020329395309090614, 0.0069929566234350204, 0.01991911418735981, 0.006658988539129496, 0.0044805994257330894, 0.012975838035345078, 0.004776123445481062, 0.00139083422254771, 0.005557665601372719, 0.01741703785955906, 0.011799399740993977, 0.0347805917263031, 0.05318315327167511, 0.009113296866416931, 0.021190829575061798, 0.0035392767749726772, 0.062278568744659424, 0.018631139770150185, 0.07143064588308334, 0.0, 0.0, 0.0], [0.5590599179267883, 0.004090356640517712, 0.024073317646980286, 0.02733973041176796, 0.03253323584794998, 0.020756559446454048, 0.017787547782063484, 0.0006615068996325135, 0.005659081041812897, 0.005948069039732218, 0.0010819497983902693, 0.0019429285312071443, 0.00864478014409542, 0.00032619081321172416, 0.022349262610077858, 0.034187376499176025, 0.014824043028056622, 0.01498046051710844, 0.0070069641806185246, 0.005423974245786667, 0.012361535802483559, 0.041493695229291916, 0.13746754825115204, 0.0, 0.0], [0.39128151535987854, 0.01903001219034195, 0.015233214944601059, 0.0162421353161335, 0.0136899184435606, 0.01655101217329502, 0.011862735264003277, 0.0041191973723471165, 0.009139188565313816, 0.003173653967678547, 0.0016547658015042543, 0.0033093628007918596, 0.016170978546142578, 0.006936368066817522, 0.03249572589993477, 0.0975504070520401, 0.017145084217190742, 0.018217572942376137, 0.004574710037559271, 0.06000339239835739, 0.017426488921046257, 0.04658612981438637, 0.07598564028739929, 0.10162074863910675, 0.0], [0.01504325307905674, 0.0018597912276163697, 0.12426706403493881, 0.029215414077043533, 0.27657175064086914, 0.01902957819402218, 0.16453206539154053, 0.0004272605001460761, 0.0019237983506172895, 0.0023175093811005354, 1.4154679774946999e-05, 7.195746729848906e-05, 0.0013486250536516309, 7.228968024719507e-05, 0.007751584984362125, 0.0035346210934221745, 0.20162783563137054, 0.01388129498809576, 0.11737217009067535, 0.0009698942885734141, 0.0025450533721596003, 2.9271306630107574e-05, 0.000778691959567368, 0.0003878310089930892, 0.014427240006625652]]], \"attentionHeadNames\": [\"L11H2\", \"L11H10\", \"L10H7\"], \"tokens\": [\"<|endoftext|>\", \"After\", \" John\", \",\", \" Mary\", \" and\", \" Jim\", \" went\", \" to\", \" the\", \" grocery\", \" store\", \" and\", \" return\", \",\", \" \", \" Jim\", \" and\", \" John\", \" gave\", \" a\", \" bottle\", \" of\", \" milk\", \" to\"]}\n",
       "    )\n",
       "    </script></div>"
      ],
      "text/plain": [
       "<IPython.core.display.HTML object>"
      ]
     },
     "execution_count": 77,
     "metadata": {},
     "output_type": "execute_result"
    }
   ],
   "source": [
    "top_k = 3\n",
    "\n",
    "top_positive_logit_attr_heads = torch.topk(\n",
    "    per_head_logit_diffs.flatten(), k=top_k\n",
    ").indices\n",
    "\n",
    "positive_html = visualize_attention_patterns(\n",
    "    top_positive_logit_attr_heads,\n",
    "    cache,\n",
    "    tokens[0],\n",
    "    f\"Top {top_k} Positive Logit Attribution Heads\",\n",
    ")\n",
    "\n",
    "top_negative_logit_attr_heads = torch.topk(\n",
    "    -per_head_logit_diffs.flatten(), k=top_k\n",
    ").indices\n",
    "\n",
    "negative_html = visualize_attention_patterns(\n",
    "    top_negative_logit_attr_heads,\n",
    "    cache,\n",
    "    tokens[0],\n",
    "    title=f\"Top {top_k} Negative Logit Attribution Heads\",\n",
    ")\n",
    "\n",
    "HTML(positive_html + negative_html)"
   ]
  },
  {
   "cell_type": "code",
   "execution_count": 78,
   "metadata": {},
   "outputs": [
    {
     "name": "stdout",
     "output_type": "stream",
     "text": [
      "Corrupted Average Logit Diff 0.85\n",
      "Clean Average Logit Diff 0.63\n"
     ]
    }
   ],
   "source": [
    "corrupted_prompts = []\n",
    "for i in range(0, len(prompts), 2):\n",
    "    corrupted_prompts.append(prompts[i + 1])\n",
    "    corrupted_prompts.append(prompts[i])\n",
    "corrupted_tokens = model.to_tokens(corrupted_prompts, prepend_bos=True)\n",
    "corrupted_logits, corrupted_cache = model.run_with_cache(\n",
    "    corrupted_tokens, return_type=\"logits\"\n",
    ")\n",
    "corrupted_average_logit_diff = logits_to_ave_logit_diff(corrupted_logits, answer_tokens)\n",
    "print(\"Corrupted Average Logit Diff\", round(corrupted_average_logit_diff.item(), 2))\n",
    "print(\"Clean Average Logit Diff\", round(original_average_logit_diff.item(), 2))"
   ]
  },
  {
   "cell_type": "code",
   "execution_count": 79,
   "metadata": {},
   "outputs": [
    {
     "data": {
      "text/plain": [
       "['<|endoftext|>After John, Mary and Jim went to the grocery store and return,  Mary and Jim gave a bottle of milk to',\n",
       " '<|endoftext|>After John, Mary and Jim went to the grocery store and return,  Jim and John gave a bottle of milk to',\n",
       " '<|endoftext|>During the picnic, Billy, Jack, and Ted shared a blanket.  Ted and Jack passed a frisbee to',\n",
       " '<|endoftext|>After John, Mary and Jim went to the grocery store and return,  John and Mary gave a bottle of milk to',\n",
       " '<|endoftext|>During the picnic, Billy, Jack, and Ted shared a blanket.  Jack and Billy passed a frisbee to',\n",
       " '<|endoftext|>During the picnic, Billy, Jack, and Ted shared a blanket.  Billy and Ted passed a frisbee to',\n",
       " '<|endoftext|>After Sarah, Tom, and Alex went to the bookstore in the downtown,  Sara and Alex bought a new novel for',\n",
       " '<|endoftext|>After Sarah, Tom, and Alex went to the bookstore in the downtown,  Alex and Tom bought a new novel for',\n",
       " '<|endoftext|>Anna, Liam, and Noah decided to buy a cake for someone.  Noah and Liam chose a cake to give to',\n",
       " '<|endoftext|>After Sarah, Tom, and Alex went to the bookstore in the downtown,  Tom and Sara bought a new novel for',\n",
       " '<|endoftext|>Anna, Liam, and Noah decided to buy a cake for someone.  Liam and Anna chose a cake to give to',\n",
       " '<|endoftext|>Anna, Liam, and Noah decided to buy a cake for someone.  Anna and Noah chose a cake to give to']"
      ]
     },
     "execution_count": 79,
     "metadata": {},
     "output_type": "execute_result"
    }
   ],
   "source": [
    "model.to_string(corrupted_tokens)"
   ]
  },
  {
   "cell_type": "code",
   "execution_count": 80,
   "metadata": {},
   "outputs": [],
   "source": [
    "def patch_residual_component(\n",
    "    corrupted_residual_component: Float[torch.Tensor, \"batch pos d_model\"],\n",
    "    hook,\n",
    "    pos,\n",
    "    clean_cache,\n",
    "):\n",
    "    corrupted_residual_component[:, pos, :] = clean_cache[hook.name][:, pos, :]\n",
    "    return corrupted_residual_component\n",
    "\n",
    "\n",
    "def normalize_patched_logit_diff(patched_logit_diff):\n",
    "    # Subtract corrupted logit diff to measure the improvement, divide by the total improvement from clean to corrupted to normalise\n",
    "    # 0 means zero change, negative means actively made worse, 1 means totally recovered clean performance, >1 means actively *improved* on clean performance\n",
    "    return (patched_logit_diff - corrupted_average_logit_diff) / (\n",
    "        original_average_logit_diff - corrupted_average_logit_diff\n",
    "    )\n",
    "\n",
    "\n",
    "patched_residual_stream_diff = torch.zeros(\n",
    "    model.cfg.n_layers, tokens.shape[1], device=device, dtype=torch.float32\n",
    ")\n",
    "for layer in range(model.cfg.n_layers):\n",
    "    for position in range(tokens.shape[1]):\n",
    "        hook_fn = partial(patch_residual_component, pos=position, clean_cache=cache)\n",
    "        patched_logits = model.run_with_hooks(\n",
    "            corrupted_tokens,\n",
    "            fwd_hooks=[(utils.get_act_name(\"resid_pre\", layer), hook_fn)],\n",
    "            return_type=\"logits\",\n",
    "        )\n",
    "        patched_logit_diff = logits_to_ave_logit_diff(patched_logits, answer_tokens)\n",
    "\n",
    "        patched_residual_stream_diff[layer, position] = normalize_patched_logit_diff(\n",
    "            patched_logit_diff\n",
    "        )"
   ]
  },
  {
   "cell_type": "code",
   "execution_count": 81,
   "metadata": {},
   "outputs": [
    {
     "data": {
      "application/vnd.plotly.v1+json": {
       "config": {
        "plotlyServerURL": "https://plot.ly"
       },
       "data": [
        {
         "coloraxis": "coloraxis",
         "hovertemplate": "Position: %{x}<br>Layer: %{y}<br>color: %{z}<extra></extra>",
         "name": "0",
         "type": "heatmap",
         "x": [
          "<|endoftext|>_0",
          "After_1",
          " John_2",
          ",_3",
          " Mary_4",
          " and_5",
          " Jim_6",
          " went_7",
          " to_8",
          " the_9",
          " grocery_10",
          " store_11",
          " and_12",
          " return_13",
          ",_14",
          " _15",
          " Jim_16",
          " and_17",
          " John_18",
          " gave_19",
          " a_20",
          " bottle_21",
          " of_22",
          " milk_23",
          " to_24"
         ],
         "xaxis": "x",
         "yaxis": "y",
         "z": [
          [
           0,
           -1.0173747539520264,
           0.7006158828735352,
           -0.1659030169248581,
           1.4345707893371582,
           -1.176255226135254,
           2.9176025390625,
           -0.3481789827346802,
           0.015890639275312424,
           0.04160860553383827,
           0.9136469960212708,
           0.07072480767965317,
           -0.14910118281841278,
           -0.3677012026309967,
           0.14643988013267517,
           -0.013502862304449081,
           2.723073720932007,
           4.351614952087402,
           0.6120169758796692,
           0.2738606333732605,
           -0.00588204525411129,
           -0.08726202696561813,
           0.06706410646438599,
           0.5907999873161316,
           0.21438200771808624
          ],
          [
           0,
           -0.9411283135414124,
           0.6012871265411377,
           -0.291486531496048,
           1.255118489265442,
           -1.4429855346679688,
           2.7966182231903076,
           -0.3794480264186859,
           -0.00564844673499465,
           0.01927862875163555,
           0.8598958849906921,
           0.019087379798293114,
           -0.14621222019195557,
           -0.3601073622703552,
           0.1303129494190216,
           -0.017100442200899124,
           1.5159896612167358,
           3.6435770988464355,
           0.6046983003616333,
           0.20132692158222198,
           -0.04776282235980034,
           -0.12171889841556549,
           0.058668315410614014,
           0.7150493860244751,
           0.21027246117591858
          ],
          [
           0,
           -0.8714565634727478,
           0.595342218875885,
           -0.2880794107913971,
           1.394558072090149,
           -1.4912761449813843,
           2.726947546005249,
           -0.4372021555900574,
           0.024173678830266,
           0.029721509665250778,
           0.9800799489021301,
           0.0032717292197048664,
           -0.15798278152942657,
           -0.3810157775878906,
           0.08016478270292282,
           -0.0514073371887207,
           -1.137468695640564,
           3.5449132919311523,
           0.6665344834327698,
           0.23206348717212677,
           -0.03961681202054024,
           -0.09739577770233154,
           0.04362359270453453,
           0.5749635696411133,
           0.19468338787555695
          ],
          [
           0,
           -0.5468826293945312,
           0.8863712549209595,
           -0.20054952800273895,
           2.853374481201172,
           -1.8505125045776367,
           1.7871874570846558,
           -1.183927297592163,
           -0.015319320373237133,
           0.07478823512792587,
           2.5150954723358154,
           -0.031163563951849937,
           -0.12653140723705292,
           -0.3810473382472992,
           -0.06950879842042923,
           0.025088651105761528,
           -1.0722914934158325,
           3.559406042098999,
           0.7662994265556335,
           0.07712530344724655,
           0.01374104619026184,
           -0.04728510230779648,
           -0.0036272520665079355,
           0.01631413772702217,
           0.2302882969379425
          ],
          [
           0,
           -0.6194298267364502,
           0.7129957675933838,
           -0.18805064260959625,
           2.6285293102264404,
           -1.646429419517517,
           1.6913236379623413,
           -1.0003306865692139,
           -0.03332691267132759,
           0.023727791383862495,
           2.5571401119232178,
           -0.018992159515619278,
           -0.10611148923635483,
           -0.3564471900463104,
           -0.04219340905547142,
           0.05510445311665535,
           -0.49770042300224304,
           3.905991554260254,
           1.0474820137023926,
           0.01636512018740177,
           -0.009932526387274265,
           0.0036156531423330307,
           -0.05167734995484352,
           0.001431802986189723,
           0.27230745553970337
          ],
          [
           0,
           -0.6445387005805969,
           0.608681321144104,
           -0.07950633764266968,
           2.543452024459839,
           -1.527308702468872,
           1.4542694091796875,
           -1.0030033588409424,
           -0.01586177572607994,
           -0.00848292000591755,
           2.4853124618530273,
           -0.027117937803268433,
           -0.07118607312440872,
           -0.3084394335746765,
           -0.04427206143736839,
           0.002170093124732375,
           0.7318040132522583,
           3.9768569469451904,
           1.2786240577697754,
           -0.03686380013823509,
           -0.020727964118123055,
           -0.035053275525569916,
           -0.08028077334165573,
           0.016173331066966057,
           0.2461271435022354
          ],
          [
           0,
           -0.6213593482971191,
           0.6622309684753418,
           -0.12832574546337128,
           2.471301555633545,
           -1.1871696710586548,
           1.4581518173217773,
           -1.1610093116760254,
           -0.0032709199003875256,
           -0.05017649382352829,
           2.4679789543151855,
           0.00009548950038151816,
           -0.06162983924150467,
           -0.32225170731544495,
           -0.003877305192872882,
           0.05439179018139839,
           0.597209632396698,
           3.8197619915008545,
           1.296203851699829,
           -0.21429650485515594,
           -0.0678725317120552,
           -0.05688881129026413,
           -0.0768962875008583,
           -0.01796119660139084,
           0.3225942850112915
          ],
          [
           0,
           -0.5251399278640747,
           0.6373022794723511,
           -0.11385314911603928,
           2.431729555130005,
           -0.9446899890899658,
           1.5237830877304077,
           -1.1146354675292969,
           -0.000660334131680429,
           -0.01546336431056261,
           2.4307680130004883,
           0.021246682852506638,
           -0.007113427855074406,
           -0.32336950302124023,
           0.03135454282164574,
           0.02362879551947117,
           0.7278565764427185,
           4.029227256774902,
           0.8405322432518005,
           -0.20314499735832214,
           -0.03530197963118553,
           -0.05484334006905556,
           -0.031433846801519394,
           0.06645043939352036,
           0.18871529400348663
          ],
          [
           0,
           -0.4722931981086731,
           0.6384891867637634,
           -0.05990482494235039,
           2.4415597915649414,
           -0.8036434054374695,
           1.4718022346496582,
           -1.1342296600341797,
           -0.014999943785369396,
           -0.01613718457520008,
           2.375718832015991,
           0.01007899735122919,
           -0.011853375472128391,
           -0.25732421875,
           0.039874687790870667,
           0.03645055368542671,
           1.8493491411209106,
           4.184091567993164,
           0.16078947484493256,
           -0.17544172704219818,
           0.0031657195650041103,
           -0.04725920781493187,
           -0.014417295344173908,
           0.030489202588796616,
           -1.0974338054656982
          ],
          [
           0,
           -0.5223512649536133,
           0.6538063287734985,
           -0.07797418534755707,
           2.444028615951538,
           -0.930660605430603,
           1.403737187385559,
           -1.075948715209961,
           -0.013281941413879395,
           -0.010472284629940987,
           2.3601346015930176,
           0.015790294855833054,
           0.010136183351278305,
           -0.1990494728088379,
           0.019433731213212013,
           0.045603249222040176,
           2.3532071113586426,
           4.332496643066406,
           0.05755939707159996,
           -0.26317983865737915,
           0.015244062058627605,
           -0.04862033948302269,
           0.008452977985143661,
           0.026607852429151535,
           -2.090665340423584
          ],
          [
           0,
           -0.39009401202201843,
           0.49425363540649414,
           0.18275827169418335,
           2.114542007446289,
           -0.9678486585617065,
           0.7955353856086731,
           -1.2225083112716675,
           -0.018663881346583366,
           -0.03780089318752289,
           2.0312888622283936,
           0.009997264482080936,
           0.010585037991404533,
           0.027858655899763107,
           0.0392998605966568,
           0.005578313022851944,
           2.3847947120666504,
           3.4304444789886475,
           -0.012236412614583969,
           -0.05304037034511566,
           0.00024330939049832523,
           -0.007608678657561541,
           0.006741450633853674,
           0.029035281389951706,
           -3.392927408218384
          ],
          [
           0,
           -0.318364679813385,
           0.16804559528827667,
           0.18802745640277863,
           1.7590962648391724,
           -0.3413468897342682,
           0.4481319487094879,
           -0.8286001086235046,
           -0.03769029676914215,
           -0.059309229254722595,
           0.9756307601928711,
           0.004380108788609505,
           0.005945165175944567,
           -0.007186798378825188,
           0.06158694997429848,
           -0.024119190871715546,
           1.2828525304794312,
           1.8495782613754272,
           0.15712931752204895,
           0.05263952910900116,
           0.01998320035636425,
           -0.008427891880273819,
           -0.0056818947196006775,
           0.052683766931295395,
           -2.8278913497924805
          ]
         ]
        }
       ],
       "layout": {
        "coloraxis": {
         "cmid": 0,
         "colorscale": [
          [
           0,
           "rgb(103,0,31)"
          ],
          [
           0.1,
           "rgb(178,24,43)"
          ],
          [
           0.2,
           "rgb(214,96,77)"
          ],
          [
           0.3,
           "rgb(244,165,130)"
          ],
          [
           0.4,
           "rgb(253,219,199)"
          ],
          [
           0.5,
           "rgb(247,247,247)"
          ],
          [
           0.6,
           "rgb(209,229,240)"
          ],
          [
           0.7,
           "rgb(146,197,222)"
          ],
          [
           0.8,
           "rgb(67,147,195)"
          ],
          [
           0.9,
           "rgb(33,102,172)"
          ],
          [
           1,
           "rgb(5,48,97)"
          ]
         ]
        },
        "template": {
         "data": {
          "bar": [
           {
            "error_x": {
             "color": "#2a3f5f"
            },
            "error_y": {
             "color": "#2a3f5f"
            },
            "marker": {
             "line": {
              "color": "#E5ECF6",
              "width": 0.5
             },
             "pattern": {
              "fillmode": "overlay",
              "size": 10,
              "solidity": 0.2
             }
            },
            "type": "bar"
           }
          ],
          "barpolar": [
           {
            "marker": {
             "line": {
              "color": "#E5ECF6",
              "width": 0.5
             },
             "pattern": {
              "fillmode": "overlay",
              "size": 10,
              "solidity": 0.2
             }
            },
            "type": "barpolar"
           }
          ],
          "carpet": [
           {
            "aaxis": {
             "endlinecolor": "#2a3f5f",
             "gridcolor": "white",
             "linecolor": "white",
             "minorgridcolor": "white",
             "startlinecolor": "#2a3f5f"
            },
            "baxis": {
             "endlinecolor": "#2a3f5f",
             "gridcolor": "white",
             "linecolor": "white",
             "minorgridcolor": "white",
             "startlinecolor": "#2a3f5f"
            },
            "type": "carpet"
           }
          ],
          "choropleth": [
           {
            "colorbar": {
             "outlinewidth": 0,
             "ticks": ""
            },
            "type": "choropleth"
           }
          ],
          "contour": [
           {
            "colorbar": {
             "outlinewidth": 0,
             "ticks": ""
            },
            "colorscale": [
             [
              0,
              "#0d0887"
             ],
             [
              0.1111111111111111,
              "#46039f"
             ],
             [
              0.2222222222222222,
              "#7201a8"
             ],
             [
              0.3333333333333333,
              "#9c179e"
             ],
             [
              0.4444444444444444,
              "#bd3786"
             ],
             [
              0.5555555555555556,
              "#d8576b"
             ],
             [
              0.6666666666666666,
              "#ed7953"
             ],
             [
              0.7777777777777778,
              "#fb9f3a"
             ],
             [
              0.8888888888888888,
              "#fdca26"
             ],
             [
              1,
              "#f0f921"
             ]
            ],
            "type": "contour"
           }
          ],
          "contourcarpet": [
           {
            "colorbar": {
             "outlinewidth": 0,
             "ticks": ""
            },
            "type": "contourcarpet"
           }
          ],
          "heatmap": [
           {
            "colorbar": {
             "outlinewidth": 0,
             "ticks": ""
            },
            "colorscale": [
             [
              0,
              "#0d0887"
             ],
             [
              0.1111111111111111,
              "#46039f"
             ],
             [
              0.2222222222222222,
              "#7201a8"
             ],
             [
              0.3333333333333333,
              "#9c179e"
             ],
             [
              0.4444444444444444,
              "#bd3786"
             ],
             [
              0.5555555555555556,
              "#d8576b"
             ],
             [
              0.6666666666666666,
              "#ed7953"
             ],
             [
              0.7777777777777778,
              "#fb9f3a"
             ],
             [
              0.8888888888888888,
              "#fdca26"
             ],
             [
              1,
              "#f0f921"
             ]
            ],
            "type": "heatmap"
           }
          ],
          "heatmapgl": [
           {
            "colorbar": {
             "outlinewidth": 0,
             "ticks": ""
            },
            "colorscale": [
             [
              0,
              "#0d0887"
             ],
             [
              0.1111111111111111,
              "#46039f"
             ],
             [
              0.2222222222222222,
              "#7201a8"
             ],
             [
              0.3333333333333333,
              "#9c179e"
             ],
             [
              0.4444444444444444,
              "#bd3786"
             ],
             [
              0.5555555555555556,
              "#d8576b"
             ],
             [
              0.6666666666666666,
              "#ed7953"
             ],
             [
              0.7777777777777778,
              "#fb9f3a"
             ],
             [
              0.8888888888888888,
              "#fdca26"
             ],
             [
              1,
              "#f0f921"
             ]
            ],
            "type": "heatmapgl"
           }
          ],
          "histogram": [
           {
            "marker": {
             "pattern": {
              "fillmode": "overlay",
              "size": 10,
              "solidity": 0.2
             }
            },
            "type": "histogram"
           }
          ],
          "histogram2d": [
           {
            "colorbar": {
             "outlinewidth": 0,
             "ticks": ""
            },
            "colorscale": [
             [
              0,
              "#0d0887"
             ],
             [
              0.1111111111111111,
              "#46039f"
             ],
             [
              0.2222222222222222,
              "#7201a8"
             ],
             [
              0.3333333333333333,
              "#9c179e"
             ],
             [
              0.4444444444444444,
              "#bd3786"
             ],
             [
              0.5555555555555556,
              "#d8576b"
             ],
             [
              0.6666666666666666,
              "#ed7953"
             ],
             [
              0.7777777777777778,
              "#fb9f3a"
             ],
             [
              0.8888888888888888,
              "#fdca26"
             ],
             [
              1,
              "#f0f921"
             ]
            ],
            "type": "histogram2d"
           }
          ],
          "histogram2dcontour": [
           {
            "colorbar": {
             "outlinewidth": 0,
             "ticks": ""
            },
            "colorscale": [
             [
              0,
              "#0d0887"
             ],
             [
              0.1111111111111111,
              "#46039f"
             ],
             [
              0.2222222222222222,
              "#7201a8"
             ],
             [
              0.3333333333333333,
              "#9c179e"
             ],
             [
              0.4444444444444444,
              "#bd3786"
             ],
             [
              0.5555555555555556,
              "#d8576b"
             ],
             [
              0.6666666666666666,
              "#ed7953"
             ],
             [
              0.7777777777777778,
              "#fb9f3a"
             ],
             [
              0.8888888888888888,
              "#fdca26"
             ],
             [
              1,
              "#f0f921"
             ]
            ],
            "type": "histogram2dcontour"
           }
          ],
          "mesh3d": [
           {
            "colorbar": {
             "outlinewidth": 0,
             "ticks": ""
            },
            "type": "mesh3d"
           }
          ],
          "parcoords": [
           {
            "line": {
             "colorbar": {
              "outlinewidth": 0,
              "ticks": ""
             }
            },
            "type": "parcoords"
           }
          ],
          "pie": [
           {
            "automargin": true,
            "type": "pie"
           }
          ],
          "scatter": [
           {
            "fillpattern": {
             "fillmode": "overlay",
             "size": 10,
             "solidity": 0.2
            },
            "type": "scatter"
           }
          ],
          "scatter3d": [
           {
            "line": {
             "colorbar": {
              "outlinewidth": 0,
              "ticks": ""
             }
            },
            "marker": {
             "colorbar": {
              "outlinewidth": 0,
              "ticks": ""
             }
            },
            "type": "scatter3d"
           }
          ],
          "scattercarpet": [
           {
            "marker": {
             "colorbar": {
              "outlinewidth": 0,
              "ticks": ""
             }
            },
            "type": "scattercarpet"
           }
          ],
          "scattergeo": [
           {
            "marker": {
             "colorbar": {
              "outlinewidth": 0,
              "ticks": ""
             }
            },
            "type": "scattergeo"
           }
          ],
          "scattergl": [
           {
            "marker": {
             "colorbar": {
              "outlinewidth": 0,
              "ticks": ""
             }
            },
            "type": "scattergl"
           }
          ],
          "scattermapbox": [
           {
            "marker": {
             "colorbar": {
              "outlinewidth": 0,
              "ticks": ""
             }
            },
            "type": "scattermapbox"
           }
          ],
          "scatterpolar": [
           {
            "marker": {
             "colorbar": {
              "outlinewidth": 0,
              "ticks": ""
             }
            },
            "type": "scatterpolar"
           }
          ],
          "scatterpolargl": [
           {
            "marker": {
             "colorbar": {
              "outlinewidth": 0,
              "ticks": ""
             }
            },
            "type": "scatterpolargl"
           }
          ],
          "scatterternary": [
           {
            "marker": {
             "colorbar": {
              "outlinewidth": 0,
              "ticks": ""
             }
            },
            "type": "scatterternary"
           }
          ],
          "surface": [
           {
            "colorbar": {
             "outlinewidth": 0,
             "ticks": ""
            },
            "colorscale": [
             [
              0,
              "#0d0887"
             ],
             [
              0.1111111111111111,
              "#46039f"
             ],
             [
              0.2222222222222222,
              "#7201a8"
             ],
             [
              0.3333333333333333,
              "#9c179e"
             ],
             [
              0.4444444444444444,
              "#bd3786"
             ],
             [
              0.5555555555555556,
              "#d8576b"
             ],
             [
              0.6666666666666666,
              "#ed7953"
             ],
             [
              0.7777777777777778,
              "#fb9f3a"
             ],
             [
              0.8888888888888888,
              "#fdca26"
             ],
             [
              1,
              "#f0f921"
             ]
            ],
            "type": "surface"
           }
          ],
          "table": [
           {
            "cells": {
             "fill": {
              "color": "#EBF0F8"
             },
             "line": {
              "color": "white"
             }
            },
            "header": {
             "fill": {
              "color": "#C8D4E3"
             },
             "line": {
              "color": "white"
             }
            },
            "type": "table"
           }
          ]
         },
         "layout": {
          "annotationdefaults": {
           "arrowcolor": "#2a3f5f",
           "arrowhead": 0,
           "arrowwidth": 1
          },
          "autotypenumbers": "strict",
          "coloraxis": {
           "colorbar": {
            "outlinewidth": 0,
            "ticks": ""
           }
          },
          "colorscale": {
           "diverging": [
            [
             0,
             "#8e0152"
            ],
            [
             0.1,
             "#c51b7d"
            ],
            [
             0.2,
             "#de77ae"
            ],
            [
             0.3,
             "#f1b6da"
            ],
            [
             0.4,
             "#fde0ef"
            ],
            [
             0.5,
             "#f7f7f7"
            ],
            [
             0.6,
             "#e6f5d0"
            ],
            [
             0.7,
             "#b8e186"
            ],
            [
             0.8,
             "#7fbc41"
            ],
            [
             0.9,
             "#4d9221"
            ],
            [
             1,
             "#276419"
            ]
           ],
           "sequential": [
            [
             0,
             "#0d0887"
            ],
            [
             0.1111111111111111,
             "#46039f"
            ],
            [
             0.2222222222222222,
             "#7201a8"
            ],
            [
             0.3333333333333333,
             "#9c179e"
            ],
            [
             0.4444444444444444,
             "#bd3786"
            ],
            [
             0.5555555555555556,
             "#d8576b"
            ],
            [
             0.6666666666666666,
             "#ed7953"
            ],
            [
             0.7777777777777778,
             "#fb9f3a"
            ],
            [
             0.8888888888888888,
             "#fdca26"
            ],
            [
             1,
             "#f0f921"
            ]
           ],
           "sequentialminus": [
            [
             0,
             "#0d0887"
            ],
            [
             0.1111111111111111,
             "#46039f"
            ],
            [
             0.2222222222222222,
             "#7201a8"
            ],
            [
             0.3333333333333333,
             "#9c179e"
            ],
            [
             0.4444444444444444,
             "#bd3786"
            ],
            [
             0.5555555555555556,
             "#d8576b"
            ],
            [
             0.6666666666666666,
             "#ed7953"
            ],
            [
             0.7777777777777778,
             "#fb9f3a"
            ],
            [
             0.8888888888888888,
             "#fdca26"
            ],
            [
             1,
             "#f0f921"
            ]
           ]
          },
          "colorway": [
           "#636efa",
           "#EF553B",
           "#00cc96",
           "#ab63fa",
           "#FFA15A",
           "#19d3f3",
           "#FF6692",
           "#B6E880",
           "#FF97FF",
           "#FECB52"
          ],
          "font": {
           "color": "#2a3f5f"
          },
          "geo": {
           "bgcolor": "white",
           "lakecolor": "white",
           "landcolor": "#E5ECF6",
           "showlakes": true,
           "showland": true,
           "subunitcolor": "white"
          },
          "hoverlabel": {
           "align": "left"
          },
          "hovermode": "closest",
          "mapbox": {
           "style": "light"
          },
          "paper_bgcolor": "white",
          "plot_bgcolor": "#E5ECF6",
          "polar": {
           "angularaxis": {
            "gridcolor": "white",
            "linecolor": "white",
            "ticks": ""
           },
           "bgcolor": "#E5ECF6",
           "radialaxis": {
            "gridcolor": "white",
            "linecolor": "white",
            "ticks": ""
           }
          },
          "scene": {
           "xaxis": {
            "backgroundcolor": "#E5ECF6",
            "gridcolor": "white",
            "gridwidth": 2,
            "linecolor": "white",
            "showbackground": true,
            "ticks": "",
            "zerolinecolor": "white"
           },
           "yaxis": {
            "backgroundcolor": "#E5ECF6",
            "gridcolor": "white",
            "gridwidth": 2,
            "linecolor": "white",
            "showbackground": true,
            "ticks": "",
            "zerolinecolor": "white"
           },
           "zaxis": {
            "backgroundcolor": "#E5ECF6",
            "gridcolor": "white",
            "gridwidth": 2,
            "linecolor": "white",
            "showbackground": true,
            "ticks": "",
            "zerolinecolor": "white"
           }
          },
          "shapedefaults": {
           "line": {
            "color": "#2a3f5f"
           }
          },
          "ternary": {
           "aaxis": {
            "gridcolor": "white",
            "linecolor": "white",
            "ticks": ""
           },
           "baxis": {
            "gridcolor": "white",
            "linecolor": "white",
            "ticks": ""
           },
           "bgcolor": "#E5ECF6",
           "caxis": {
            "gridcolor": "white",
            "linecolor": "white",
            "ticks": ""
           }
          },
          "title": {
           "x": 0.05
          },
          "xaxis": {
           "automargin": true,
           "gridcolor": "white",
           "linecolor": "white",
           "ticks": "",
           "title": {
            "standoff": 15
           },
           "zerolinecolor": "white",
           "zerolinewidth": 2
          },
          "yaxis": {
           "automargin": true,
           "gridcolor": "white",
           "linecolor": "white",
           "ticks": "",
           "title": {
            "standoff": 15
           },
           "zerolinecolor": "white",
           "zerolinewidth": 2
          }
         }
        },
        "title": {
         "text": "Logit Difference From Patched Residual Stream"
        },
        "xaxis": {
         "anchor": "y",
         "constrain": "domain",
         "domain": [
          0,
          1
         ],
         "scaleanchor": "y",
         "title": {
          "text": "Position"
         }
        },
        "yaxis": {
         "anchor": "x",
         "autorange": "reversed",
         "constrain": "domain",
         "domain": [
          0,
          1
         ],
         "title": {
          "text": "Layer"
         }
        }
       }
      },
      "text/html": [
       "<div>                            <div id=\"865053e5-edec-4a92-a771-42fe1248ae11\" class=\"plotly-graph-div\" style=\"height:525px; width:100%;\"></div>            <script type=\"text/javascript\">                require([\"plotly\"], function(Plotly) {                    window.PLOTLYENV=window.PLOTLYENV || {};                                    if (document.getElementById(\"865053e5-edec-4a92-a771-42fe1248ae11\")) {                    Plotly.newPlot(                        \"865053e5-edec-4a92-a771-42fe1248ae11\",                        [{\"coloraxis\":\"coloraxis\",\"name\":\"0\",\"x\":[\"\\u003c|endoftext|\\u003e_0\",\"After_1\",\" John_2\",\",_3\",\" Mary_4\",\" and_5\",\" Jim_6\",\" went_7\",\" to_8\",\" the_9\",\" grocery_10\",\" store_11\",\" and_12\",\" return_13\",\",_14\",\" _15\",\" Jim_16\",\" and_17\",\" John_18\",\" gave_19\",\" a_20\",\" bottle_21\",\" of_22\",\" milk_23\",\" to_24\"],\"z\":[[-0.0,-1.0173747539520264,0.7006158828735352,-0.1659030169248581,1.4345707893371582,-1.176255226135254,2.9176025390625,-0.3481789827346802,0.015890639275312424,0.04160860553383827,0.9136469960212708,0.07072480767965317,-0.14910118281841278,-0.3677012026309967,0.14643988013267517,-0.013502862304449081,2.723073720932007,4.351614952087402,0.6120169758796692,0.2738606333732605,-0.00588204525411129,-0.08726202696561813,0.06706410646438599,0.5907999873161316,0.21438200771808624],[-0.0,-0.9411283135414124,0.6012871265411377,-0.291486531496048,1.255118489265442,-1.4429855346679688,2.7966182231903076,-0.3794480264186859,-0.00564844673499465,0.01927862875163555,0.8598958849906921,0.019087379798293114,-0.14621222019195557,-0.3601073622703552,0.1303129494190216,-0.017100442200899124,1.5159896612167358,3.6435770988464355,0.6046983003616333,0.20132692158222198,-0.04776282235980034,-0.12171889841556549,0.058668315410614014,0.7150493860244751,0.21027246117591858],[-0.0,-0.8714565634727478,0.595342218875885,-0.2880794107913971,1.394558072090149,-1.4912761449813843,2.726947546005249,-0.4372021555900574,0.024173678830266,0.029721509665250778,0.9800799489021301,0.0032717292197048664,-0.15798278152942657,-0.3810157775878906,0.08016478270292282,-0.0514073371887207,-1.137468695640564,3.5449132919311523,0.6665344834327698,0.23206348717212677,-0.03961681202054024,-0.09739577770233154,0.04362359270453453,0.5749635696411133,0.19468338787555695],[-0.0,-0.5468826293945312,0.8863712549209595,-0.20054952800273895,2.853374481201172,-1.8505125045776367,1.7871874570846558,-1.183927297592163,-0.015319320373237133,0.07478823512792587,2.5150954723358154,-0.031163563951849937,-0.12653140723705292,-0.3810473382472992,-0.06950879842042923,0.025088651105761528,-1.0722914934158325,3.559406042098999,0.7662994265556335,0.07712530344724655,0.01374104619026184,-0.04728510230779648,-0.0036272520665079355,0.01631413772702217,0.2302882969379425],[-0.0,-0.6194298267364502,0.7129957675933838,-0.18805064260959625,2.6285293102264404,-1.646429419517517,1.6913236379623413,-1.0003306865692139,-0.03332691267132759,0.023727791383862495,2.5571401119232178,-0.018992159515619278,-0.10611148923635483,-0.3564471900463104,-0.04219340905547142,0.05510445311665535,-0.49770042300224304,3.905991554260254,1.0474820137023926,0.01636512018740177,-0.009932526387274265,0.0036156531423330307,-0.05167734995484352,0.001431802986189723,0.27230745553970337],[-0.0,-0.6445387005805969,0.608681321144104,-0.07950633764266968,2.543452024459839,-1.527308702468872,1.4542694091796875,-1.0030033588409424,-0.01586177572607994,-0.00848292000591755,2.4853124618530273,-0.027117937803268433,-0.07118607312440872,-0.3084394335746765,-0.04427206143736839,0.002170093124732375,0.7318040132522583,3.9768569469451904,1.2786240577697754,-0.03686380013823509,-0.020727964118123055,-0.035053275525569916,-0.08028077334165573,0.016173331066966057,0.2461271435022354],[-0.0,-0.6213593482971191,0.6622309684753418,-0.12832574546337128,2.471301555633545,-1.1871696710586548,1.4581518173217773,-1.1610093116760254,-0.0032709199003875256,-0.05017649382352829,2.4679789543151855,9.548950038151816e-05,-0.06162983924150467,-0.32225170731544495,-0.003877305192872882,0.05439179018139839,0.597209632396698,3.8197619915008545,1.296203851699829,-0.21429650485515594,-0.0678725317120552,-0.05688881129026413,-0.0768962875008583,-0.01796119660139084,0.3225942850112915],[-0.0,-0.5251399278640747,0.6373022794723511,-0.11385314911603928,2.431729555130005,-0.9446899890899658,1.5237830877304077,-1.1146354675292969,-0.000660334131680429,-0.01546336431056261,2.4307680130004883,0.021246682852506638,-0.007113427855074406,-0.32336950302124023,0.03135454282164574,0.02362879551947117,0.7278565764427185,4.029227256774902,0.8405322432518005,-0.20314499735832214,-0.03530197963118553,-0.05484334006905556,-0.031433846801519394,0.06645043939352036,0.18871529400348663],[-0.0,-0.4722931981086731,0.6384891867637634,-0.05990482494235039,2.4415597915649414,-0.8036434054374695,1.4718022346496582,-1.1342296600341797,-0.014999943785369396,-0.01613718457520008,2.375718832015991,0.01007899735122919,-0.011853375472128391,-0.25732421875,0.039874687790870667,0.03645055368542671,1.8493491411209106,4.184091567993164,0.16078947484493256,-0.17544172704219818,0.0031657195650041103,-0.04725920781493187,-0.014417295344173908,0.030489202588796616,-1.0974338054656982],[-0.0,-0.5223512649536133,0.6538063287734985,-0.07797418534755707,2.444028615951538,-0.930660605430603,1.403737187385559,-1.075948715209961,-0.013281941413879395,-0.010472284629940987,2.3601346015930176,0.015790294855833054,0.010136183351278305,-0.1990494728088379,0.019433731213212013,0.045603249222040176,2.3532071113586426,4.332496643066406,0.05755939707159996,-0.26317983865737915,0.015244062058627605,-0.04862033948302269,0.008452977985143661,0.026607852429151535,-2.090665340423584],[-0.0,-0.39009401202201843,0.49425363540649414,0.18275827169418335,2.114542007446289,-0.9678486585617065,0.7955353856086731,-1.2225083112716675,-0.018663881346583366,-0.03780089318752289,2.0312888622283936,0.009997264482080936,0.010585037991404533,0.027858655899763107,0.0392998605966568,0.005578313022851944,2.3847947120666504,3.4304444789886475,-0.012236412614583969,-0.05304037034511566,0.00024330939049832523,-0.007608678657561541,0.006741450633853674,0.029035281389951706,-3.392927408218384],[-0.0,-0.318364679813385,0.16804559528827667,0.18802745640277863,1.7590962648391724,-0.3413468897342682,0.4481319487094879,-0.8286001086235046,-0.03769029676914215,-0.059309229254722595,0.9756307601928711,0.004380108788609505,0.005945165175944567,-0.007186798378825188,0.06158694997429848,-0.024119190871715546,1.2828525304794312,1.8495782613754272,0.15712931752204895,0.05263952910900116,0.01998320035636425,-0.008427891880273819,-0.0056818947196006775,0.052683766931295395,-2.8278913497924805]],\"type\":\"heatmap\",\"xaxis\":\"x\",\"yaxis\":\"y\",\"hovertemplate\":\"Position: %{x}\\u003cbr\\u003eLayer: %{y}\\u003cbr\\u003ecolor: %{z}\\u003cextra\\u003e\\u003c\\u002fextra\\u003e\"}],                        {\"template\":{\"data\":{\"histogram2dcontour\":[{\"type\":\"histogram2dcontour\",\"colorbar\":{\"outlinewidth\":0,\"ticks\":\"\"},\"colorscale\":[[0.0,\"#0d0887\"],[0.1111111111111111,\"#46039f\"],[0.2222222222222222,\"#7201a8\"],[0.3333333333333333,\"#9c179e\"],[0.4444444444444444,\"#bd3786\"],[0.5555555555555556,\"#d8576b\"],[0.6666666666666666,\"#ed7953\"],[0.7777777777777778,\"#fb9f3a\"],[0.8888888888888888,\"#fdca26\"],[1.0,\"#f0f921\"]]}],\"choropleth\":[{\"type\":\"choropleth\",\"colorbar\":{\"outlinewidth\":0,\"ticks\":\"\"}}],\"histogram2d\":[{\"type\":\"histogram2d\",\"colorbar\":{\"outlinewidth\":0,\"ticks\":\"\"},\"colorscale\":[[0.0,\"#0d0887\"],[0.1111111111111111,\"#46039f\"],[0.2222222222222222,\"#7201a8\"],[0.3333333333333333,\"#9c179e\"],[0.4444444444444444,\"#bd3786\"],[0.5555555555555556,\"#d8576b\"],[0.6666666666666666,\"#ed7953\"],[0.7777777777777778,\"#fb9f3a\"],[0.8888888888888888,\"#fdca26\"],[1.0,\"#f0f921\"]]}],\"heatmap\":[{\"type\":\"heatmap\",\"colorbar\":{\"outlinewidth\":0,\"ticks\":\"\"},\"colorscale\":[[0.0,\"#0d0887\"],[0.1111111111111111,\"#46039f\"],[0.2222222222222222,\"#7201a8\"],[0.3333333333333333,\"#9c179e\"],[0.4444444444444444,\"#bd3786\"],[0.5555555555555556,\"#d8576b\"],[0.6666666666666666,\"#ed7953\"],[0.7777777777777778,\"#fb9f3a\"],[0.8888888888888888,\"#fdca26\"],[1.0,\"#f0f921\"]]}],\"heatmapgl\":[{\"type\":\"heatmapgl\",\"colorbar\":{\"outlinewidth\":0,\"ticks\":\"\"},\"colorscale\":[[0.0,\"#0d0887\"],[0.1111111111111111,\"#46039f\"],[0.2222222222222222,\"#7201a8\"],[0.3333333333333333,\"#9c179e\"],[0.4444444444444444,\"#bd3786\"],[0.5555555555555556,\"#d8576b\"],[0.6666666666666666,\"#ed7953\"],[0.7777777777777778,\"#fb9f3a\"],[0.8888888888888888,\"#fdca26\"],[1.0,\"#f0f921\"]]}],\"contourcarpet\":[{\"type\":\"contourcarpet\",\"colorbar\":{\"outlinewidth\":0,\"ticks\":\"\"}}],\"contour\":[{\"type\":\"contour\",\"colorbar\":{\"outlinewidth\":0,\"ticks\":\"\"},\"colorscale\":[[0.0,\"#0d0887\"],[0.1111111111111111,\"#46039f\"],[0.2222222222222222,\"#7201a8\"],[0.3333333333333333,\"#9c179e\"],[0.4444444444444444,\"#bd3786\"],[0.5555555555555556,\"#d8576b\"],[0.6666666666666666,\"#ed7953\"],[0.7777777777777778,\"#fb9f3a\"],[0.8888888888888888,\"#fdca26\"],[1.0,\"#f0f921\"]]}],\"surface\":[{\"type\":\"surface\",\"colorbar\":{\"outlinewidth\":0,\"ticks\":\"\"},\"colorscale\":[[0.0,\"#0d0887\"],[0.1111111111111111,\"#46039f\"],[0.2222222222222222,\"#7201a8\"],[0.3333333333333333,\"#9c179e\"],[0.4444444444444444,\"#bd3786\"],[0.5555555555555556,\"#d8576b\"],[0.6666666666666666,\"#ed7953\"],[0.7777777777777778,\"#fb9f3a\"],[0.8888888888888888,\"#fdca26\"],[1.0,\"#f0f921\"]]}],\"mesh3d\":[{\"type\":\"mesh3d\",\"colorbar\":{\"outlinewidth\":0,\"ticks\":\"\"}}],\"scatter\":[{\"fillpattern\":{\"fillmode\":\"overlay\",\"size\":10,\"solidity\":0.2},\"type\":\"scatter\"}],\"parcoords\":[{\"type\":\"parcoords\",\"line\":{\"colorbar\":{\"outlinewidth\":0,\"ticks\":\"\"}}}],\"scatterpolargl\":[{\"type\":\"scatterpolargl\",\"marker\":{\"colorbar\":{\"outlinewidth\":0,\"ticks\":\"\"}}}],\"bar\":[{\"error_x\":{\"color\":\"#2a3f5f\"},\"error_y\":{\"color\":\"#2a3f5f\"},\"marker\":{\"line\":{\"color\":\"#E5ECF6\",\"width\":0.5},\"pattern\":{\"fillmode\":\"overlay\",\"size\":10,\"solidity\":0.2}},\"type\":\"bar\"}],\"scattergeo\":[{\"type\":\"scattergeo\",\"marker\":{\"colorbar\":{\"outlinewidth\":0,\"ticks\":\"\"}}}],\"scatterpolar\":[{\"type\":\"scatterpolar\",\"marker\":{\"colorbar\":{\"outlinewidth\":0,\"ticks\":\"\"}}}],\"histogram\":[{\"marker\":{\"pattern\":{\"fillmode\":\"overlay\",\"size\":10,\"solidity\":0.2}},\"type\":\"histogram\"}],\"scattergl\":[{\"type\":\"scattergl\",\"marker\":{\"colorbar\":{\"outlinewidth\":0,\"ticks\":\"\"}}}],\"scatter3d\":[{\"type\":\"scatter3d\",\"line\":{\"colorbar\":{\"outlinewidth\":0,\"ticks\":\"\"}},\"marker\":{\"colorbar\":{\"outlinewidth\":0,\"ticks\":\"\"}}}],\"scattermapbox\":[{\"type\":\"scattermapbox\",\"marker\":{\"colorbar\":{\"outlinewidth\":0,\"ticks\":\"\"}}}],\"scatterternary\":[{\"type\":\"scatterternary\",\"marker\":{\"colorbar\":{\"outlinewidth\":0,\"ticks\":\"\"}}}],\"scattercarpet\":[{\"type\":\"scattercarpet\",\"marker\":{\"colorbar\":{\"outlinewidth\":0,\"ticks\":\"\"}}}],\"carpet\":[{\"aaxis\":{\"endlinecolor\":\"#2a3f5f\",\"gridcolor\":\"white\",\"linecolor\":\"white\",\"minorgridcolor\":\"white\",\"startlinecolor\":\"#2a3f5f\"},\"baxis\":{\"endlinecolor\":\"#2a3f5f\",\"gridcolor\":\"white\",\"linecolor\":\"white\",\"minorgridcolor\":\"white\",\"startlinecolor\":\"#2a3f5f\"},\"type\":\"carpet\"}],\"table\":[{\"cells\":{\"fill\":{\"color\":\"#EBF0F8\"},\"line\":{\"color\":\"white\"}},\"header\":{\"fill\":{\"color\":\"#C8D4E3\"},\"line\":{\"color\":\"white\"}},\"type\":\"table\"}],\"barpolar\":[{\"marker\":{\"line\":{\"color\":\"#E5ECF6\",\"width\":0.5},\"pattern\":{\"fillmode\":\"overlay\",\"size\":10,\"solidity\":0.2}},\"type\":\"barpolar\"}],\"pie\":[{\"automargin\":true,\"type\":\"pie\"}]},\"layout\":{\"autotypenumbers\":\"strict\",\"colorway\":[\"#636efa\",\"#EF553B\",\"#00cc96\",\"#ab63fa\",\"#FFA15A\",\"#19d3f3\",\"#FF6692\",\"#B6E880\",\"#FF97FF\",\"#FECB52\"],\"font\":{\"color\":\"#2a3f5f\"},\"hovermode\":\"closest\",\"hoverlabel\":{\"align\":\"left\"},\"paper_bgcolor\":\"white\",\"plot_bgcolor\":\"#E5ECF6\",\"polar\":{\"bgcolor\":\"#E5ECF6\",\"angularaxis\":{\"gridcolor\":\"white\",\"linecolor\":\"white\",\"ticks\":\"\"},\"radialaxis\":{\"gridcolor\":\"white\",\"linecolor\":\"white\",\"ticks\":\"\"}},\"ternary\":{\"bgcolor\":\"#E5ECF6\",\"aaxis\":{\"gridcolor\":\"white\",\"linecolor\":\"white\",\"ticks\":\"\"},\"baxis\":{\"gridcolor\":\"white\",\"linecolor\":\"white\",\"ticks\":\"\"},\"caxis\":{\"gridcolor\":\"white\",\"linecolor\":\"white\",\"ticks\":\"\"}},\"coloraxis\":{\"colorbar\":{\"outlinewidth\":0,\"ticks\":\"\"}},\"colorscale\":{\"sequential\":[[0.0,\"#0d0887\"],[0.1111111111111111,\"#46039f\"],[0.2222222222222222,\"#7201a8\"],[0.3333333333333333,\"#9c179e\"],[0.4444444444444444,\"#bd3786\"],[0.5555555555555556,\"#d8576b\"],[0.6666666666666666,\"#ed7953\"],[0.7777777777777778,\"#fb9f3a\"],[0.8888888888888888,\"#fdca26\"],[1.0,\"#f0f921\"]],\"sequentialminus\":[[0.0,\"#0d0887\"],[0.1111111111111111,\"#46039f\"],[0.2222222222222222,\"#7201a8\"],[0.3333333333333333,\"#9c179e\"],[0.4444444444444444,\"#bd3786\"],[0.5555555555555556,\"#d8576b\"],[0.6666666666666666,\"#ed7953\"],[0.7777777777777778,\"#fb9f3a\"],[0.8888888888888888,\"#fdca26\"],[1.0,\"#f0f921\"]],\"diverging\":[[0,\"#8e0152\"],[0.1,\"#c51b7d\"],[0.2,\"#de77ae\"],[0.3,\"#f1b6da\"],[0.4,\"#fde0ef\"],[0.5,\"#f7f7f7\"],[0.6,\"#e6f5d0\"],[0.7,\"#b8e186\"],[0.8,\"#7fbc41\"],[0.9,\"#4d9221\"],[1,\"#276419\"]]},\"xaxis\":{\"gridcolor\":\"white\",\"linecolor\":\"white\",\"ticks\":\"\",\"title\":{\"standoff\":15},\"zerolinecolor\":\"white\",\"automargin\":true,\"zerolinewidth\":2},\"yaxis\":{\"gridcolor\":\"white\",\"linecolor\":\"white\",\"ticks\":\"\",\"title\":{\"standoff\":15},\"zerolinecolor\":\"white\",\"automargin\":true,\"zerolinewidth\":2},\"scene\":{\"xaxis\":{\"backgroundcolor\":\"#E5ECF6\",\"gridcolor\":\"white\",\"linecolor\":\"white\",\"showbackground\":true,\"ticks\":\"\",\"zerolinecolor\":\"white\",\"gridwidth\":2},\"yaxis\":{\"backgroundcolor\":\"#E5ECF6\",\"gridcolor\":\"white\",\"linecolor\":\"white\",\"showbackground\":true,\"ticks\":\"\",\"zerolinecolor\":\"white\",\"gridwidth\":2},\"zaxis\":{\"backgroundcolor\":\"#E5ECF6\",\"gridcolor\":\"white\",\"linecolor\":\"white\",\"showbackground\":true,\"ticks\":\"\",\"zerolinecolor\":\"white\",\"gridwidth\":2}},\"shapedefaults\":{\"line\":{\"color\":\"#2a3f5f\"}},\"annotationdefaults\":{\"arrowcolor\":\"#2a3f5f\",\"arrowhead\":0,\"arrowwidth\":1},\"geo\":{\"bgcolor\":\"white\",\"landcolor\":\"#E5ECF6\",\"subunitcolor\":\"white\",\"showland\":true,\"showlakes\":true,\"lakecolor\":\"white\"},\"title\":{\"x\":0.05},\"mapbox\":{\"style\":\"light\"}}},\"xaxis\":{\"anchor\":\"y\",\"domain\":[0.0,1.0],\"scaleanchor\":\"y\",\"constrain\":\"domain\",\"title\":{\"text\":\"Position\"}},\"yaxis\":{\"anchor\":\"x\",\"domain\":[0.0,1.0],\"autorange\":\"reversed\",\"constrain\":\"domain\",\"title\":{\"text\":\"Layer\"}},\"coloraxis\":{\"colorscale\":[[0.0,\"rgb(103,0,31)\"],[0.1,\"rgb(178,24,43)\"],[0.2,\"rgb(214,96,77)\"],[0.3,\"rgb(244,165,130)\"],[0.4,\"rgb(253,219,199)\"],[0.5,\"rgb(247,247,247)\"],[0.6,\"rgb(209,229,240)\"],[0.7,\"rgb(146,197,222)\"],[0.8,\"rgb(67,147,195)\"],[0.9,\"rgb(33,102,172)\"],[1.0,\"rgb(5,48,97)\"]],\"cmid\":0.0},\"title\":{\"text\":\"Logit Difference From Patched Residual Stream\"}},                        {\"responsive\": true}                    ).then(function(){\n",
       "                            \n",
       "var gd = document.getElementById('865053e5-edec-4a92-a771-42fe1248ae11');\n",
       "var x = new MutationObserver(function (mutations, observer) {{\n",
       "        var display = window.getComputedStyle(gd).display;\n",
       "        if (!display || display === 'none') {{\n",
       "            console.log([gd, 'removed!']);\n",
       "            Plotly.purge(gd);\n",
       "            observer.disconnect();\n",
       "        }}\n",
       "}});\n",
       "\n",
       "// Listen for the removal of the full notebook cells\n",
       "var notebookContainer = gd.closest('#notebook-container');\n",
       "if (notebookContainer) {{\n",
       "    x.observe(notebookContainer, {childList: true});\n",
       "}}\n",
       "\n",
       "// Listen for the clearing of the current output cell\n",
       "var outputEl = gd.closest('.output');\n",
       "if (outputEl) {{\n",
       "    x.observe(outputEl, {childList: true});\n",
       "}}\n",
       "\n",
       "                        })                };                });            </script>        </div>"
      ]
     },
     "metadata": {},
     "output_type": "display_data"
    }
   ],
   "source": [
    "prompt_position_labels = [\n",
    "    f\"{tok}_{i}\" for i, tok in enumerate(model.to_str_tokens(tokens[0]))\n",
    "]\n",
    "imshow(\n",
    "    patched_residual_stream_diff,\n",
    "    x=prompt_position_labels,\n",
    "    title=\"Logit Difference From Patched Residual Stream\",\n",
    "    labels={\"x\": \"Position\", \"y\": \"Layer\"},\n",
    ")"
   ]
  },
  {
   "cell_type": "code",
   "execution_count": 82,
   "metadata": {},
   "outputs": [],
   "source": [
    "patched_attn_diff = torch.zeros(\n",
    "    model.cfg.n_layers, tokens.shape[1], device=device, dtype=torch.float32\n",
    ")\n",
    "patched_mlp_diff = torch.zeros(\n",
    "    model.cfg.n_layers, tokens.shape[1], device=device, dtype=torch.float32\n",
    ")\n",
    "for layer in range(model.cfg.n_layers):\n",
    "    for position in range(tokens.shape[1]):\n",
    "        hook_fn = partial(patch_residual_component, pos=position, clean_cache=cache)\n",
    "        patched_attn_logits = model.run_with_hooks(\n",
    "            corrupted_tokens,\n",
    "            fwd_hooks=[(utils.get_act_name(\"attn_out\", layer), hook_fn)],\n",
    "            return_type=\"logits\",\n",
    "        )\n",
    "        patched_attn_logit_diff = logits_to_ave_logit_diff(\n",
    "            patched_attn_logits, answer_tokens\n",
    "        )\n",
    "        patched_mlp_logits = model.run_with_hooks(\n",
    "            corrupted_tokens,\n",
    "            fwd_hooks=[(utils.get_act_name(\"mlp_out\", layer), hook_fn)],\n",
    "            return_type=\"logits\",\n",
    "        )\n",
    "        patched_mlp_logit_diff = logits_to_ave_logit_diff(\n",
    "            patched_mlp_logits, answer_tokens\n",
    "        )\n",
    "\n",
    "        patched_attn_diff[layer, position] = normalize_patched_logit_diff(\n",
    "            patched_attn_logit_diff\n",
    "        )\n",
    "        patched_mlp_diff[layer, position] = normalize_patched_logit_diff(\n",
    "            patched_mlp_logit_diff\n",
    "        )"
   ]
  },
  {
   "cell_type": "code",
   "execution_count": 83,
   "metadata": {},
   "outputs": [
    {
     "data": {
      "application/vnd.plotly.v1+json": {
       "config": {
        "plotlyServerURL": "https://plot.ly"
       },
       "data": [
        {
         "coloraxis": "coloraxis",
         "hovertemplate": "Position: %{x}<br>Layer: %{y}<br>color: %{z}<extra></extra>",
         "name": "0",
         "type": "heatmap",
         "x": [
          "<|endoftext|>_0",
          "After_1",
          " John_2",
          ",_3",
          " Mary_4",
          " and_5",
          " Jim_6",
          " went_7",
          " to_8",
          " the_9",
          " grocery_10",
          " store_11",
          " and_12",
          " return_13",
          ",_14",
          " _15",
          " Jim_16",
          " and_17",
          " John_18",
          " gave_19",
          " a_20",
          " bottle_21",
          " of_22",
          " milk_23",
          " to_24"
         ],
         "xaxis": "x",
         "yaxis": "y",
         "z": [
          [
           0,
           0.02553291991353035,
           -0.729814350605011,
           0.011900580488145351,
           0.13435102999210358,
           0.21013516187667847,
           0.621869683265686,
           -0.05375141650438309,
           0.016560684889554977,
           -0.014866149984300137,
           0.061091966927051544,
           -0.01221348438411951,
           0.0026645346079021692,
           -0.03566640615463257,
           0.09770517796278,
           -0.04136097803711891,
           -0.06674095243215561,
           1.2882722616195679,
           -0.3538026213645935,
           -0.055785827338695526,
           0.06304033100605011,
           -0.01629094034433365,
           0.003216970944777131,
           -0.011005299165844917,
           -0.009475309401750565
          ],
          [
           0,
           -0.022366121411323547,
           0.009036704897880554,
           0.047513846307992935,
           -0.009596964344382286,
           0.008220728486776352,
           0.05380752310156822,
           0.0079396553337574,
           0.0020697482395917177,
           0.0020824263337999582,
           0.014800602570176125,
           -0.00244037713855505,
           -0.006971003022044897,
           0.0031271460466086864,
           -0.012330553494393826,
           0.0023891255259513855,
           0.06659474968910217,
           -0.043766289949417114,
           0.14143693447113037,
           0.00986859668046236,
           0.024841835722327232,
           -0.0053352732211351395,
           0.002158224582672119,
           0.004066935274749994,
           -0.02754170633852482
          ],
          [
           0,
           -0.035049229860305786,
           -0.04408566653728485,
           0.03800643980503082,
           0.008763453923165798,
           0.025073815137147903,
           -0.005020481534302235,
           -0.005493073724210262,
           0.020344387739896774,
           -0.0066389478743076324,
           0.028729120269417763,
           -0.009739389643073082,
           -0.004246315453201532,
           -0.00135492580011487,
           -0.003631837898865342,
           -0.029199015349149704,
           0.035224564373493195,
           0.08689382672309875,
           0.021900543943047523,
           -0.13230177760124207,
           0.020454714074730873,
           0.007092118263244629,
           -0.004218801390379667,
           -0.02468916028738022,
           0.003908595535904169
          ],
          [
           0,
           -0.029720161110162735,
           -0.014921178109943867,
           -0.020361920818686485,
           0.09733077138662338,
           -0.0007191384211182594,
           -0.015876073390245438,
           -0.002096992451697588,
           0.010937863029539585,
           0.007310071494430304,
           0.00920853205025196,
           -0.00543885538354516,
           0.004337489139288664,
           0.028574557974934578,
           -0.019878000020980835,
           -0.020601455122232437,
           -0.06180112436413765,
           0.005311805754899979,
           0.09127771109342575,
           0.14773817360401154,
           -0.008052407763898373,
           -0.011089189909398556,
           0.006829117424786091,
           0.009254388511180878,
           0.004520106129348278
          ],
          [
           0,
           -0.0524369515478611,
           0.002558794803917408,
           0.05070438235998154,
           0.060501497238874435,
           0.0958951935172081,
           0.08532606810331345,
           0.09832073003053665,
           -0.037759892642498016,
           0.01632438786327839,
           0.002707693725824356,
           0.039908405393362045,
           0.008611857891082764,
           0.04537855088710785,
           -0.024475522339344025,
           -0.018941987305879593,
           -0.028438067063689232,
           -0.12491510063409805,
           -0.05779164656996727,
           -0.03485690429806709,
           -0.0075647104531526566,
           -0.0011793222511187196,
           -0.008373943157494068,
           0.02232026495039463,
           -0.013783935457468033
          ],
          [
           0,
           -0.0023510917089879513,
           -0.047482285648584366,
           0.07668238133192062,
           0.06555435061454773,
           0.020083006471395493,
           0.07440304011106491,
           -0.06168270856142044,
           0.013913413509726524,
           -0.0010557794012129307,
           -0.04889332130551338,
           -0.0006608736584894359,
           -0.018335601314902306,
           0.006015298888087273,
           -0.014383307658135891,
           0.01064087450504303,
           0.034889813512563705,
           0.1441810429096222,
           0.32665392756462097,
           0.2097383588552475,
           -0.01833074726164341,
           -0.012521532364189625,
           0.0028431054670363665,
           0.0007261517457664013,
           -0.07930888235569
          ],
          [
           0,
           0.07163357734680176,
           -0.009875340387225151,
           0.021892720833420753,
           0.019665442407131195,
           0.007363480981439352,
           -0.0025809139478951693,
           0.004290014039725065,
           0.00944968406111002,
           0.019391382113099098,
           -0.009524133056402206,
           -0.005886900704354048,
           -0.005379781126976013,
           -0.015956996008753777,
           0.022093679755926132,
           -0.012030597776174545,
           -0.25719961524009705,
           0.2634131610393524,
           -0.19686265289783478,
           -0.04057008773088455,
           -0.011208416894078255,
           -0.017054855823516846,
           0.01590682379901409,
           -0.008962525054812431,
           -0.03354918211698532
          ],
          [
           0,
           0.0002300919295521453,
           -0.014254369772970676,
           -0.0019418895244598389,
           -0.030335988849401474,
           0.029212502762675285,
           -0.023517930880188942,
           -0.02927643246948719,
           0.0001224639272550121,
           -0.006498680450022221,
           -0.0003536348231136799,
           -0.002824223367497325,
           -0.007074854802340269,
           -0.0021099401637911797,
           0.00282719056122005,
           -0.017206452786922455,
           -0.014869117178022861,
           0.048505429178476334,
           -0.0031970099080353975,
           -0.07127481698989868,
           0.005951908882707357,
           -0.007135007530450821,
           0.017363443970680237,
           -0.019029654562473297,
           -1.390536904335022
          ],
          [
           0,
           0.03310518339276314,
           -0.007653186563402414,
           -0.036023546010255814,
           -0.028348781168460846,
           0.0017668254440650344,
           0.06207950413227081,
           -0.00481979176402092,
           0.003175430465489626,
           0.004399260506033897,
           -0.005097628571093082,
           0.0030429859180003405,
           0.00013379318988882005,
           -0.008321882225573063,
           0.008082889020442963,
           0.0033839428797364235,
           -0.014597484841942787,
           0.04599815234541893,
           0.0016567697748541832,
           -0.05313154309988022,
           0.00024546735221520066,
           0.0012432517250999808,
           0.006514865439385176,
           0.008974933996796608,
           -0.6542902588844299
          ],
          [
           0,
           0.013342094607651234,
           -0.12451614439487457,
           -0.007017399184405804,
           -0.04493913799524307,
           0.05377785116434097,
           -0.07768097519874573,
           -0.04349978268146515,
           -0.0041127922013401985,
           -0.0031943125650286674,
           0.0055961161851882935,
           -0.0004876977764070034,
           0.004848115146160126,
           0.005152656231075525,
           -0.06067952886223793,
           -0.006545616313815117,
           0.18128491938114166,
           0.31520408391952515,
           0.013711914420127869,
           0.09469914436340332,
           0.001122406218200922,
           0.00024600684992037714,
           0.0019513305742293596,
           0.02967025898396969,
           -1.271268367767334
          ],
          [
           0,
           0.009001098573207855,
           -0.033448297530412674,
           -0.004656596574932337,
           -0.0009316969662904739,
           0.049485139548778534,
           0.013711105100810528,
           -0.006021772511303425,
           -0.00139242026489228,
           -0.006572050973773003,
           0.007839849218726158,
           -0.0028528161346912384,
           0.008856785483658314,
           0.02348286285996437,
           -0.0017991947242990136,
           -0.008922873064875603,
           0.05007156357169151,
           0.0874289944767952,
           0.07776621729135513,
           0.08899540454149246,
           0.006145854946225882,
           0.0016551512526348233,
           0.00968867726624012,
           0.04823136702179909,
           0.6585379242897034
          ],
          [
           0,
           0,
           0,
           0,
           0,
           0,
           0,
           0,
           0,
           0,
           0,
           0,
           0,
           0,
           0,
           0,
           0,
           0,
           0,
           0,
           0,
           0,
           0,
           0,
           3.8498620986938477
          ]
         ]
        }
       ],
       "layout": {
        "coloraxis": {
         "cmid": 0,
         "colorscale": [
          [
           0,
           "rgb(103,0,31)"
          ],
          [
           0.1,
           "rgb(178,24,43)"
          ],
          [
           0.2,
           "rgb(214,96,77)"
          ],
          [
           0.3,
           "rgb(244,165,130)"
          ],
          [
           0.4,
           "rgb(253,219,199)"
          ],
          [
           0.5,
           "rgb(247,247,247)"
          ],
          [
           0.6,
           "rgb(209,229,240)"
          ],
          [
           0.7,
           "rgb(146,197,222)"
          ],
          [
           0.8,
           "rgb(67,147,195)"
          ],
          [
           0.9,
           "rgb(33,102,172)"
          ],
          [
           1,
           "rgb(5,48,97)"
          ]
         ]
        },
        "template": {
         "data": {
          "bar": [
           {
            "error_x": {
             "color": "#2a3f5f"
            },
            "error_y": {
             "color": "#2a3f5f"
            },
            "marker": {
             "line": {
              "color": "#E5ECF6",
              "width": 0.5
             },
             "pattern": {
              "fillmode": "overlay",
              "size": 10,
              "solidity": 0.2
             }
            },
            "type": "bar"
           }
          ],
          "barpolar": [
           {
            "marker": {
             "line": {
              "color": "#E5ECF6",
              "width": 0.5
             },
             "pattern": {
              "fillmode": "overlay",
              "size": 10,
              "solidity": 0.2
             }
            },
            "type": "barpolar"
           }
          ],
          "carpet": [
           {
            "aaxis": {
             "endlinecolor": "#2a3f5f",
             "gridcolor": "white",
             "linecolor": "white",
             "minorgridcolor": "white",
             "startlinecolor": "#2a3f5f"
            },
            "baxis": {
             "endlinecolor": "#2a3f5f",
             "gridcolor": "white",
             "linecolor": "white",
             "minorgridcolor": "white",
             "startlinecolor": "#2a3f5f"
            },
            "type": "carpet"
           }
          ],
          "choropleth": [
           {
            "colorbar": {
             "outlinewidth": 0,
             "ticks": ""
            },
            "type": "choropleth"
           }
          ],
          "contour": [
           {
            "colorbar": {
             "outlinewidth": 0,
             "ticks": ""
            },
            "colorscale": [
             [
              0,
              "#0d0887"
             ],
             [
              0.1111111111111111,
              "#46039f"
             ],
             [
              0.2222222222222222,
              "#7201a8"
             ],
             [
              0.3333333333333333,
              "#9c179e"
             ],
             [
              0.4444444444444444,
              "#bd3786"
             ],
             [
              0.5555555555555556,
              "#d8576b"
             ],
             [
              0.6666666666666666,
              "#ed7953"
             ],
             [
              0.7777777777777778,
              "#fb9f3a"
             ],
             [
              0.8888888888888888,
              "#fdca26"
             ],
             [
              1,
              "#f0f921"
             ]
            ],
            "type": "contour"
           }
          ],
          "contourcarpet": [
           {
            "colorbar": {
             "outlinewidth": 0,
             "ticks": ""
            },
            "type": "contourcarpet"
           }
          ],
          "heatmap": [
           {
            "colorbar": {
             "outlinewidth": 0,
             "ticks": ""
            },
            "colorscale": [
             [
              0,
              "#0d0887"
             ],
             [
              0.1111111111111111,
              "#46039f"
             ],
             [
              0.2222222222222222,
              "#7201a8"
             ],
             [
              0.3333333333333333,
              "#9c179e"
             ],
             [
              0.4444444444444444,
              "#bd3786"
             ],
             [
              0.5555555555555556,
              "#d8576b"
             ],
             [
              0.6666666666666666,
              "#ed7953"
             ],
             [
              0.7777777777777778,
              "#fb9f3a"
             ],
             [
              0.8888888888888888,
              "#fdca26"
             ],
             [
              1,
              "#f0f921"
             ]
            ],
            "type": "heatmap"
           }
          ],
          "heatmapgl": [
           {
            "colorbar": {
             "outlinewidth": 0,
             "ticks": ""
            },
            "colorscale": [
             [
              0,
              "#0d0887"
             ],
             [
              0.1111111111111111,
              "#46039f"
             ],
             [
              0.2222222222222222,
              "#7201a8"
             ],
             [
              0.3333333333333333,
              "#9c179e"
             ],
             [
              0.4444444444444444,
              "#bd3786"
             ],
             [
              0.5555555555555556,
              "#d8576b"
             ],
             [
              0.6666666666666666,
              "#ed7953"
             ],
             [
              0.7777777777777778,
              "#fb9f3a"
             ],
             [
              0.8888888888888888,
              "#fdca26"
             ],
             [
              1,
              "#f0f921"
             ]
            ],
            "type": "heatmapgl"
           }
          ],
          "histogram": [
           {
            "marker": {
             "pattern": {
              "fillmode": "overlay",
              "size": 10,
              "solidity": 0.2
             }
            },
            "type": "histogram"
           }
          ],
          "histogram2d": [
           {
            "colorbar": {
             "outlinewidth": 0,
             "ticks": ""
            },
            "colorscale": [
             [
              0,
              "#0d0887"
             ],
             [
              0.1111111111111111,
              "#46039f"
             ],
             [
              0.2222222222222222,
              "#7201a8"
             ],
             [
              0.3333333333333333,
              "#9c179e"
             ],
             [
              0.4444444444444444,
              "#bd3786"
             ],
             [
              0.5555555555555556,
              "#d8576b"
             ],
             [
              0.6666666666666666,
              "#ed7953"
             ],
             [
              0.7777777777777778,
              "#fb9f3a"
             ],
             [
              0.8888888888888888,
              "#fdca26"
             ],
             [
              1,
              "#f0f921"
             ]
            ],
            "type": "histogram2d"
           }
          ],
          "histogram2dcontour": [
           {
            "colorbar": {
             "outlinewidth": 0,
             "ticks": ""
            },
            "colorscale": [
             [
              0,
              "#0d0887"
             ],
             [
              0.1111111111111111,
              "#46039f"
             ],
             [
              0.2222222222222222,
              "#7201a8"
             ],
             [
              0.3333333333333333,
              "#9c179e"
             ],
             [
              0.4444444444444444,
              "#bd3786"
             ],
             [
              0.5555555555555556,
              "#d8576b"
             ],
             [
              0.6666666666666666,
              "#ed7953"
             ],
             [
              0.7777777777777778,
              "#fb9f3a"
             ],
             [
              0.8888888888888888,
              "#fdca26"
             ],
             [
              1,
              "#f0f921"
             ]
            ],
            "type": "histogram2dcontour"
           }
          ],
          "mesh3d": [
           {
            "colorbar": {
             "outlinewidth": 0,
             "ticks": ""
            },
            "type": "mesh3d"
           }
          ],
          "parcoords": [
           {
            "line": {
             "colorbar": {
              "outlinewidth": 0,
              "ticks": ""
             }
            },
            "type": "parcoords"
           }
          ],
          "pie": [
           {
            "automargin": true,
            "type": "pie"
           }
          ],
          "scatter": [
           {
            "fillpattern": {
             "fillmode": "overlay",
             "size": 10,
             "solidity": 0.2
            },
            "type": "scatter"
           }
          ],
          "scatter3d": [
           {
            "line": {
             "colorbar": {
              "outlinewidth": 0,
              "ticks": ""
             }
            },
            "marker": {
             "colorbar": {
              "outlinewidth": 0,
              "ticks": ""
             }
            },
            "type": "scatter3d"
           }
          ],
          "scattercarpet": [
           {
            "marker": {
             "colorbar": {
              "outlinewidth": 0,
              "ticks": ""
             }
            },
            "type": "scattercarpet"
           }
          ],
          "scattergeo": [
           {
            "marker": {
             "colorbar": {
              "outlinewidth": 0,
              "ticks": ""
             }
            },
            "type": "scattergeo"
           }
          ],
          "scattergl": [
           {
            "marker": {
             "colorbar": {
              "outlinewidth": 0,
              "ticks": ""
             }
            },
            "type": "scattergl"
           }
          ],
          "scattermapbox": [
           {
            "marker": {
             "colorbar": {
              "outlinewidth": 0,
              "ticks": ""
             }
            },
            "type": "scattermapbox"
           }
          ],
          "scatterpolar": [
           {
            "marker": {
             "colorbar": {
              "outlinewidth": 0,
              "ticks": ""
             }
            },
            "type": "scatterpolar"
           }
          ],
          "scatterpolargl": [
           {
            "marker": {
             "colorbar": {
              "outlinewidth": 0,
              "ticks": ""
             }
            },
            "type": "scatterpolargl"
           }
          ],
          "scatterternary": [
           {
            "marker": {
             "colorbar": {
              "outlinewidth": 0,
              "ticks": ""
             }
            },
            "type": "scatterternary"
           }
          ],
          "surface": [
           {
            "colorbar": {
             "outlinewidth": 0,
             "ticks": ""
            },
            "colorscale": [
             [
              0,
              "#0d0887"
             ],
             [
              0.1111111111111111,
              "#46039f"
             ],
             [
              0.2222222222222222,
              "#7201a8"
             ],
             [
              0.3333333333333333,
              "#9c179e"
             ],
             [
              0.4444444444444444,
              "#bd3786"
             ],
             [
              0.5555555555555556,
              "#d8576b"
             ],
             [
              0.6666666666666666,
              "#ed7953"
             ],
             [
              0.7777777777777778,
              "#fb9f3a"
             ],
             [
              0.8888888888888888,
              "#fdca26"
             ],
             [
              1,
              "#f0f921"
             ]
            ],
            "type": "surface"
           }
          ],
          "table": [
           {
            "cells": {
             "fill": {
              "color": "#EBF0F8"
             },
             "line": {
              "color": "white"
             }
            },
            "header": {
             "fill": {
              "color": "#C8D4E3"
             },
             "line": {
              "color": "white"
             }
            },
            "type": "table"
           }
          ]
         },
         "layout": {
          "annotationdefaults": {
           "arrowcolor": "#2a3f5f",
           "arrowhead": 0,
           "arrowwidth": 1
          },
          "autotypenumbers": "strict",
          "coloraxis": {
           "colorbar": {
            "outlinewidth": 0,
            "ticks": ""
           }
          },
          "colorscale": {
           "diverging": [
            [
             0,
             "#8e0152"
            ],
            [
             0.1,
             "#c51b7d"
            ],
            [
             0.2,
             "#de77ae"
            ],
            [
             0.3,
             "#f1b6da"
            ],
            [
             0.4,
             "#fde0ef"
            ],
            [
             0.5,
             "#f7f7f7"
            ],
            [
             0.6,
             "#e6f5d0"
            ],
            [
             0.7,
             "#b8e186"
            ],
            [
             0.8,
             "#7fbc41"
            ],
            [
             0.9,
             "#4d9221"
            ],
            [
             1,
             "#276419"
            ]
           ],
           "sequential": [
            [
             0,
             "#0d0887"
            ],
            [
             0.1111111111111111,
             "#46039f"
            ],
            [
             0.2222222222222222,
             "#7201a8"
            ],
            [
             0.3333333333333333,
             "#9c179e"
            ],
            [
             0.4444444444444444,
             "#bd3786"
            ],
            [
             0.5555555555555556,
             "#d8576b"
            ],
            [
             0.6666666666666666,
             "#ed7953"
            ],
            [
             0.7777777777777778,
             "#fb9f3a"
            ],
            [
             0.8888888888888888,
             "#fdca26"
            ],
            [
             1,
             "#f0f921"
            ]
           ],
           "sequentialminus": [
            [
             0,
             "#0d0887"
            ],
            [
             0.1111111111111111,
             "#46039f"
            ],
            [
             0.2222222222222222,
             "#7201a8"
            ],
            [
             0.3333333333333333,
             "#9c179e"
            ],
            [
             0.4444444444444444,
             "#bd3786"
            ],
            [
             0.5555555555555556,
             "#d8576b"
            ],
            [
             0.6666666666666666,
             "#ed7953"
            ],
            [
             0.7777777777777778,
             "#fb9f3a"
            ],
            [
             0.8888888888888888,
             "#fdca26"
            ],
            [
             1,
             "#f0f921"
            ]
           ]
          },
          "colorway": [
           "#636efa",
           "#EF553B",
           "#00cc96",
           "#ab63fa",
           "#FFA15A",
           "#19d3f3",
           "#FF6692",
           "#B6E880",
           "#FF97FF",
           "#FECB52"
          ],
          "font": {
           "color": "#2a3f5f"
          },
          "geo": {
           "bgcolor": "white",
           "lakecolor": "white",
           "landcolor": "#E5ECF6",
           "showlakes": true,
           "showland": true,
           "subunitcolor": "white"
          },
          "hoverlabel": {
           "align": "left"
          },
          "hovermode": "closest",
          "mapbox": {
           "style": "light"
          },
          "paper_bgcolor": "white",
          "plot_bgcolor": "#E5ECF6",
          "polar": {
           "angularaxis": {
            "gridcolor": "white",
            "linecolor": "white",
            "ticks": ""
           },
           "bgcolor": "#E5ECF6",
           "radialaxis": {
            "gridcolor": "white",
            "linecolor": "white",
            "ticks": ""
           }
          },
          "scene": {
           "xaxis": {
            "backgroundcolor": "#E5ECF6",
            "gridcolor": "white",
            "gridwidth": 2,
            "linecolor": "white",
            "showbackground": true,
            "ticks": "",
            "zerolinecolor": "white"
           },
           "yaxis": {
            "backgroundcolor": "#E5ECF6",
            "gridcolor": "white",
            "gridwidth": 2,
            "linecolor": "white",
            "showbackground": true,
            "ticks": "",
            "zerolinecolor": "white"
           },
           "zaxis": {
            "backgroundcolor": "#E5ECF6",
            "gridcolor": "white",
            "gridwidth": 2,
            "linecolor": "white",
            "showbackground": true,
            "ticks": "",
            "zerolinecolor": "white"
           }
          },
          "shapedefaults": {
           "line": {
            "color": "#2a3f5f"
           }
          },
          "ternary": {
           "aaxis": {
            "gridcolor": "white",
            "linecolor": "white",
            "ticks": ""
           },
           "baxis": {
            "gridcolor": "white",
            "linecolor": "white",
            "ticks": ""
           },
           "bgcolor": "#E5ECF6",
           "caxis": {
            "gridcolor": "white",
            "linecolor": "white",
            "ticks": ""
           }
          },
          "title": {
           "x": 0.05
          },
          "xaxis": {
           "automargin": true,
           "gridcolor": "white",
           "linecolor": "white",
           "ticks": "",
           "title": {
            "standoff": 15
           },
           "zerolinecolor": "white",
           "zerolinewidth": 2
          },
          "yaxis": {
           "automargin": true,
           "gridcolor": "white",
           "linecolor": "white",
           "ticks": "",
           "title": {
            "standoff": 15
           },
           "zerolinecolor": "white",
           "zerolinewidth": 2
          }
         }
        },
        "title": {
         "text": "Logit Difference From Patched Attention Layer"
        },
        "xaxis": {
         "anchor": "y",
         "constrain": "domain",
         "domain": [
          0,
          1
         ],
         "scaleanchor": "y",
         "title": {
          "text": "Position"
         }
        },
        "yaxis": {
         "anchor": "x",
         "autorange": "reversed",
         "constrain": "domain",
         "domain": [
          0,
          1
         ],
         "title": {
          "text": "Layer"
         }
        }
       }
      },
      "text/html": [
       "<div>                            <div id=\"68943eb3-d0a7-4ea9-be11-21b8960f5421\" class=\"plotly-graph-div\" style=\"height:525px; width:100%;\"></div>            <script type=\"text/javascript\">                require([\"plotly\"], function(Plotly) {                    window.PLOTLYENV=window.PLOTLYENV || {};                                    if (document.getElementById(\"68943eb3-d0a7-4ea9-be11-21b8960f5421\")) {                    Plotly.newPlot(                        \"68943eb3-d0a7-4ea9-be11-21b8960f5421\",                        [{\"coloraxis\":\"coloraxis\",\"name\":\"0\",\"x\":[\"\\u003c|endoftext|\\u003e_0\",\"After_1\",\" John_2\",\",_3\",\" Mary_4\",\" and_5\",\" Jim_6\",\" went_7\",\" to_8\",\" the_9\",\" grocery_10\",\" store_11\",\" and_12\",\" return_13\",\",_14\",\" _15\",\" Jim_16\",\" and_17\",\" John_18\",\" gave_19\",\" a_20\",\" bottle_21\",\" of_22\",\" milk_23\",\" to_24\"],\"z\":[[-0.0,0.02553291991353035,-0.729814350605011,0.011900580488145351,0.13435102999210358,0.21013516187667847,0.621869683265686,-0.05375141650438309,0.016560684889554977,-0.014866149984300137,0.061091966927051544,-0.01221348438411951,0.0026645346079021692,-0.03566640615463257,0.09770517796278,-0.04136097803711891,-0.06674095243215561,1.2882722616195679,-0.3538026213645935,-0.055785827338695526,0.06304033100605011,-0.01629094034433365,0.003216970944777131,-0.011005299165844917,-0.009475309401750565],[-0.0,-0.022366121411323547,0.009036704897880554,0.047513846307992935,-0.009596964344382286,0.008220728486776352,0.05380752310156822,0.0079396553337574,0.0020697482395917177,0.0020824263337999582,0.014800602570176125,-0.00244037713855505,-0.006971003022044897,0.0031271460466086864,-0.012330553494393826,0.0023891255259513855,0.06659474968910217,-0.043766289949417114,0.14143693447113037,0.00986859668046236,0.024841835722327232,-0.0053352732211351395,0.002158224582672119,0.004066935274749994,-0.02754170633852482],[-0.0,-0.035049229860305786,-0.04408566653728485,0.03800643980503082,0.008763453923165798,0.025073815137147903,-0.005020481534302235,-0.005493073724210262,0.020344387739896774,-0.0066389478743076324,0.028729120269417763,-0.009739389643073082,-0.004246315453201532,-0.00135492580011487,-0.003631837898865342,-0.029199015349149704,0.035224564373493195,0.08689382672309875,0.021900543943047523,-0.13230177760124207,0.020454714074730873,0.007092118263244629,-0.004218801390379667,-0.02468916028738022,0.003908595535904169],[-0.0,-0.029720161110162735,-0.014921178109943867,-0.020361920818686485,0.09733077138662338,-0.0007191384211182594,-0.015876073390245438,-0.002096992451697588,0.010937863029539585,0.007310071494430304,0.00920853205025196,-0.00543885538354516,0.004337489139288664,0.028574557974934578,-0.019878000020980835,-0.020601455122232437,-0.06180112436413765,0.005311805754899979,0.09127771109342575,0.14773817360401154,-0.008052407763898373,-0.011089189909398556,0.006829117424786091,0.009254388511180878,0.004520106129348278],[-0.0,-0.0524369515478611,0.002558794803917408,0.05070438235998154,0.060501497238874435,0.0958951935172081,0.08532606810331345,0.09832073003053665,-0.037759892642498016,0.01632438786327839,0.002707693725824356,0.039908405393362045,0.008611857891082764,0.04537855088710785,-0.024475522339344025,-0.018941987305879593,-0.028438067063689232,-0.12491510063409805,-0.05779164656996727,-0.03485690429806709,-0.0075647104531526566,-0.0011793222511187196,-0.008373943157494068,0.02232026495039463,-0.013783935457468033],[-0.0,-0.0023510917089879513,-0.047482285648584366,0.07668238133192062,0.06555435061454773,0.020083006471395493,0.07440304011106491,-0.06168270856142044,0.013913413509726524,-0.0010557794012129307,-0.04889332130551338,-0.0006608736584894359,-0.018335601314902306,0.006015298888087273,-0.014383307658135891,0.01064087450504303,0.034889813512563705,0.1441810429096222,0.32665392756462097,0.2097383588552475,-0.01833074726164341,-0.012521532364189625,0.0028431054670363665,0.0007261517457664013,-0.07930888235569],[-0.0,0.07163357734680176,-0.009875340387225151,0.021892720833420753,0.019665442407131195,0.007363480981439352,-0.0025809139478951693,0.004290014039725065,0.00944968406111002,0.019391382113099098,-0.009524133056402206,-0.005886900704354048,-0.005379781126976013,-0.015956996008753777,0.022093679755926132,-0.012030597776174545,-0.25719961524009705,0.2634131610393524,-0.19686265289783478,-0.04057008773088455,-0.011208416894078255,-0.017054855823516846,0.01590682379901409,-0.008962525054812431,-0.03354918211698532],[-0.0,0.0002300919295521453,-0.014254369772970676,-0.0019418895244598389,-0.030335988849401474,0.029212502762675285,-0.023517930880188942,-0.02927643246948719,0.0001224639272550121,-0.006498680450022221,-0.0003536348231136799,-0.002824223367497325,-0.007074854802340269,-0.0021099401637911797,0.00282719056122005,-0.017206452786922455,-0.014869117178022861,0.048505429178476334,-0.0031970099080353975,-0.07127481698989868,0.005951908882707357,-0.007135007530450821,0.017363443970680237,-0.019029654562473297,-1.390536904335022],[-0.0,0.03310518339276314,-0.007653186563402414,-0.036023546010255814,-0.028348781168460846,0.0017668254440650344,0.06207950413227081,-0.00481979176402092,0.003175430465489626,0.004399260506033897,-0.005097628571093082,0.0030429859180003405,0.00013379318988882005,-0.008321882225573063,0.008082889020442963,0.0033839428797364235,-0.014597484841942787,0.04599815234541893,0.0016567697748541832,-0.05313154309988022,0.00024546735221520066,0.0012432517250999808,0.006514865439385176,0.008974933996796608,-0.6542902588844299],[-0.0,0.013342094607651234,-0.12451614439487457,-0.007017399184405804,-0.04493913799524307,0.05377785116434097,-0.07768097519874573,-0.04349978268146515,-0.0041127922013401985,-0.0031943125650286674,0.0055961161851882935,-0.0004876977764070034,0.004848115146160126,0.005152656231075525,-0.06067952886223793,-0.006545616313815117,0.18128491938114166,0.31520408391952515,0.013711914420127869,0.09469914436340332,0.001122406218200922,0.00024600684992037714,0.0019513305742293596,0.02967025898396969,-1.271268367767334],[-0.0,0.009001098573207855,-0.033448297530412674,-0.004656596574932337,-0.0009316969662904739,0.049485139548778534,0.013711105100810528,-0.006021772511303425,-0.00139242026489228,-0.006572050973773003,0.007839849218726158,-0.0028528161346912384,0.008856785483658314,0.02348286285996437,-0.0017991947242990136,-0.008922873064875603,0.05007156357169151,0.0874289944767952,0.07776621729135513,0.08899540454149246,0.006145854946225882,0.0016551512526348233,0.00968867726624012,0.04823136702179909,0.6585379242897034],[-0.0,-0.0,-0.0,-0.0,-0.0,-0.0,-0.0,-0.0,-0.0,-0.0,-0.0,-0.0,-0.0,-0.0,-0.0,-0.0,-0.0,-0.0,-0.0,-0.0,-0.0,-0.0,-0.0,-0.0,3.8498620986938477]],\"type\":\"heatmap\",\"xaxis\":\"x\",\"yaxis\":\"y\",\"hovertemplate\":\"Position: %{x}\\u003cbr\\u003eLayer: %{y}\\u003cbr\\u003ecolor: %{z}\\u003cextra\\u003e\\u003c\\u002fextra\\u003e\"}],                        {\"template\":{\"data\":{\"histogram2dcontour\":[{\"type\":\"histogram2dcontour\",\"colorbar\":{\"outlinewidth\":0,\"ticks\":\"\"},\"colorscale\":[[0.0,\"#0d0887\"],[0.1111111111111111,\"#46039f\"],[0.2222222222222222,\"#7201a8\"],[0.3333333333333333,\"#9c179e\"],[0.4444444444444444,\"#bd3786\"],[0.5555555555555556,\"#d8576b\"],[0.6666666666666666,\"#ed7953\"],[0.7777777777777778,\"#fb9f3a\"],[0.8888888888888888,\"#fdca26\"],[1.0,\"#f0f921\"]]}],\"choropleth\":[{\"type\":\"choropleth\",\"colorbar\":{\"outlinewidth\":0,\"ticks\":\"\"}}],\"histogram2d\":[{\"type\":\"histogram2d\",\"colorbar\":{\"outlinewidth\":0,\"ticks\":\"\"},\"colorscale\":[[0.0,\"#0d0887\"],[0.1111111111111111,\"#46039f\"],[0.2222222222222222,\"#7201a8\"],[0.3333333333333333,\"#9c179e\"],[0.4444444444444444,\"#bd3786\"],[0.5555555555555556,\"#d8576b\"],[0.6666666666666666,\"#ed7953\"],[0.7777777777777778,\"#fb9f3a\"],[0.8888888888888888,\"#fdca26\"],[1.0,\"#f0f921\"]]}],\"heatmap\":[{\"type\":\"heatmap\",\"colorbar\":{\"outlinewidth\":0,\"ticks\":\"\"},\"colorscale\":[[0.0,\"#0d0887\"],[0.1111111111111111,\"#46039f\"],[0.2222222222222222,\"#7201a8\"],[0.3333333333333333,\"#9c179e\"],[0.4444444444444444,\"#bd3786\"],[0.5555555555555556,\"#d8576b\"],[0.6666666666666666,\"#ed7953\"],[0.7777777777777778,\"#fb9f3a\"],[0.8888888888888888,\"#fdca26\"],[1.0,\"#f0f921\"]]}],\"heatmapgl\":[{\"type\":\"heatmapgl\",\"colorbar\":{\"outlinewidth\":0,\"ticks\":\"\"},\"colorscale\":[[0.0,\"#0d0887\"],[0.1111111111111111,\"#46039f\"],[0.2222222222222222,\"#7201a8\"],[0.3333333333333333,\"#9c179e\"],[0.4444444444444444,\"#bd3786\"],[0.5555555555555556,\"#d8576b\"],[0.6666666666666666,\"#ed7953\"],[0.7777777777777778,\"#fb9f3a\"],[0.8888888888888888,\"#fdca26\"],[1.0,\"#f0f921\"]]}],\"contourcarpet\":[{\"type\":\"contourcarpet\",\"colorbar\":{\"outlinewidth\":0,\"ticks\":\"\"}}],\"contour\":[{\"type\":\"contour\",\"colorbar\":{\"outlinewidth\":0,\"ticks\":\"\"},\"colorscale\":[[0.0,\"#0d0887\"],[0.1111111111111111,\"#46039f\"],[0.2222222222222222,\"#7201a8\"],[0.3333333333333333,\"#9c179e\"],[0.4444444444444444,\"#bd3786\"],[0.5555555555555556,\"#d8576b\"],[0.6666666666666666,\"#ed7953\"],[0.7777777777777778,\"#fb9f3a\"],[0.8888888888888888,\"#fdca26\"],[1.0,\"#f0f921\"]]}],\"surface\":[{\"type\":\"surface\",\"colorbar\":{\"outlinewidth\":0,\"ticks\":\"\"},\"colorscale\":[[0.0,\"#0d0887\"],[0.1111111111111111,\"#46039f\"],[0.2222222222222222,\"#7201a8\"],[0.3333333333333333,\"#9c179e\"],[0.4444444444444444,\"#bd3786\"],[0.5555555555555556,\"#d8576b\"],[0.6666666666666666,\"#ed7953\"],[0.7777777777777778,\"#fb9f3a\"],[0.8888888888888888,\"#fdca26\"],[1.0,\"#f0f921\"]]}],\"mesh3d\":[{\"type\":\"mesh3d\",\"colorbar\":{\"outlinewidth\":0,\"ticks\":\"\"}}],\"scatter\":[{\"fillpattern\":{\"fillmode\":\"overlay\",\"size\":10,\"solidity\":0.2},\"type\":\"scatter\"}],\"parcoords\":[{\"type\":\"parcoords\",\"line\":{\"colorbar\":{\"outlinewidth\":0,\"ticks\":\"\"}}}],\"scatterpolargl\":[{\"type\":\"scatterpolargl\",\"marker\":{\"colorbar\":{\"outlinewidth\":0,\"ticks\":\"\"}}}],\"bar\":[{\"error_x\":{\"color\":\"#2a3f5f\"},\"error_y\":{\"color\":\"#2a3f5f\"},\"marker\":{\"line\":{\"color\":\"#E5ECF6\",\"width\":0.5},\"pattern\":{\"fillmode\":\"overlay\",\"size\":10,\"solidity\":0.2}},\"type\":\"bar\"}],\"scattergeo\":[{\"type\":\"scattergeo\",\"marker\":{\"colorbar\":{\"outlinewidth\":0,\"ticks\":\"\"}}}],\"scatterpolar\":[{\"type\":\"scatterpolar\",\"marker\":{\"colorbar\":{\"outlinewidth\":0,\"ticks\":\"\"}}}],\"histogram\":[{\"marker\":{\"pattern\":{\"fillmode\":\"overlay\",\"size\":10,\"solidity\":0.2}},\"type\":\"histogram\"}],\"scattergl\":[{\"type\":\"scattergl\",\"marker\":{\"colorbar\":{\"outlinewidth\":0,\"ticks\":\"\"}}}],\"scatter3d\":[{\"type\":\"scatter3d\",\"line\":{\"colorbar\":{\"outlinewidth\":0,\"ticks\":\"\"}},\"marker\":{\"colorbar\":{\"outlinewidth\":0,\"ticks\":\"\"}}}],\"scattermapbox\":[{\"type\":\"scattermapbox\",\"marker\":{\"colorbar\":{\"outlinewidth\":0,\"ticks\":\"\"}}}],\"scatterternary\":[{\"type\":\"scatterternary\",\"marker\":{\"colorbar\":{\"outlinewidth\":0,\"ticks\":\"\"}}}],\"scattercarpet\":[{\"type\":\"scattercarpet\",\"marker\":{\"colorbar\":{\"outlinewidth\":0,\"ticks\":\"\"}}}],\"carpet\":[{\"aaxis\":{\"endlinecolor\":\"#2a3f5f\",\"gridcolor\":\"white\",\"linecolor\":\"white\",\"minorgridcolor\":\"white\",\"startlinecolor\":\"#2a3f5f\"},\"baxis\":{\"endlinecolor\":\"#2a3f5f\",\"gridcolor\":\"white\",\"linecolor\":\"white\",\"minorgridcolor\":\"white\",\"startlinecolor\":\"#2a3f5f\"},\"type\":\"carpet\"}],\"table\":[{\"cells\":{\"fill\":{\"color\":\"#EBF0F8\"},\"line\":{\"color\":\"white\"}},\"header\":{\"fill\":{\"color\":\"#C8D4E3\"},\"line\":{\"color\":\"white\"}},\"type\":\"table\"}],\"barpolar\":[{\"marker\":{\"line\":{\"color\":\"#E5ECF6\",\"width\":0.5},\"pattern\":{\"fillmode\":\"overlay\",\"size\":10,\"solidity\":0.2}},\"type\":\"barpolar\"}],\"pie\":[{\"automargin\":true,\"type\":\"pie\"}]},\"layout\":{\"autotypenumbers\":\"strict\",\"colorway\":[\"#636efa\",\"#EF553B\",\"#00cc96\",\"#ab63fa\",\"#FFA15A\",\"#19d3f3\",\"#FF6692\",\"#B6E880\",\"#FF97FF\",\"#FECB52\"],\"font\":{\"color\":\"#2a3f5f\"},\"hovermode\":\"closest\",\"hoverlabel\":{\"align\":\"left\"},\"paper_bgcolor\":\"white\",\"plot_bgcolor\":\"#E5ECF6\",\"polar\":{\"bgcolor\":\"#E5ECF6\",\"angularaxis\":{\"gridcolor\":\"white\",\"linecolor\":\"white\",\"ticks\":\"\"},\"radialaxis\":{\"gridcolor\":\"white\",\"linecolor\":\"white\",\"ticks\":\"\"}},\"ternary\":{\"bgcolor\":\"#E5ECF6\",\"aaxis\":{\"gridcolor\":\"white\",\"linecolor\":\"white\",\"ticks\":\"\"},\"baxis\":{\"gridcolor\":\"white\",\"linecolor\":\"white\",\"ticks\":\"\"},\"caxis\":{\"gridcolor\":\"white\",\"linecolor\":\"white\",\"ticks\":\"\"}},\"coloraxis\":{\"colorbar\":{\"outlinewidth\":0,\"ticks\":\"\"}},\"colorscale\":{\"sequential\":[[0.0,\"#0d0887\"],[0.1111111111111111,\"#46039f\"],[0.2222222222222222,\"#7201a8\"],[0.3333333333333333,\"#9c179e\"],[0.4444444444444444,\"#bd3786\"],[0.5555555555555556,\"#d8576b\"],[0.6666666666666666,\"#ed7953\"],[0.7777777777777778,\"#fb9f3a\"],[0.8888888888888888,\"#fdca26\"],[1.0,\"#f0f921\"]],\"sequentialminus\":[[0.0,\"#0d0887\"],[0.1111111111111111,\"#46039f\"],[0.2222222222222222,\"#7201a8\"],[0.3333333333333333,\"#9c179e\"],[0.4444444444444444,\"#bd3786\"],[0.5555555555555556,\"#d8576b\"],[0.6666666666666666,\"#ed7953\"],[0.7777777777777778,\"#fb9f3a\"],[0.8888888888888888,\"#fdca26\"],[1.0,\"#f0f921\"]],\"diverging\":[[0,\"#8e0152\"],[0.1,\"#c51b7d\"],[0.2,\"#de77ae\"],[0.3,\"#f1b6da\"],[0.4,\"#fde0ef\"],[0.5,\"#f7f7f7\"],[0.6,\"#e6f5d0\"],[0.7,\"#b8e186\"],[0.8,\"#7fbc41\"],[0.9,\"#4d9221\"],[1,\"#276419\"]]},\"xaxis\":{\"gridcolor\":\"white\",\"linecolor\":\"white\",\"ticks\":\"\",\"title\":{\"standoff\":15},\"zerolinecolor\":\"white\",\"automargin\":true,\"zerolinewidth\":2},\"yaxis\":{\"gridcolor\":\"white\",\"linecolor\":\"white\",\"ticks\":\"\",\"title\":{\"standoff\":15},\"zerolinecolor\":\"white\",\"automargin\":true,\"zerolinewidth\":2},\"scene\":{\"xaxis\":{\"backgroundcolor\":\"#E5ECF6\",\"gridcolor\":\"white\",\"linecolor\":\"white\",\"showbackground\":true,\"ticks\":\"\",\"zerolinecolor\":\"white\",\"gridwidth\":2},\"yaxis\":{\"backgroundcolor\":\"#E5ECF6\",\"gridcolor\":\"white\",\"linecolor\":\"white\",\"showbackground\":true,\"ticks\":\"\",\"zerolinecolor\":\"white\",\"gridwidth\":2},\"zaxis\":{\"backgroundcolor\":\"#E5ECF6\",\"gridcolor\":\"white\",\"linecolor\":\"white\",\"showbackground\":true,\"ticks\":\"\",\"zerolinecolor\":\"white\",\"gridwidth\":2}},\"shapedefaults\":{\"line\":{\"color\":\"#2a3f5f\"}},\"annotationdefaults\":{\"arrowcolor\":\"#2a3f5f\",\"arrowhead\":0,\"arrowwidth\":1},\"geo\":{\"bgcolor\":\"white\",\"landcolor\":\"#E5ECF6\",\"subunitcolor\":\"white\",\"showland\":true,\"showlakes\":true,\"lakecolor\":\"white\"},\"title\":{\"x\":0.05},\"mapbox\":{\"style\":\"light\"}}},\"xaxis\":{\"anchor\":\"y\",\"domain\":[0.0,1.0],\"scaleanchor\":\"y\",\"constrain\":\"domain\",\"title\":{\"text\":\"Position\"}},\"yaxis\":{\"anchor\":\"x\",\"domain\":[0.0,1.0],\"autorange\":\"reversed\",\"constrain\":\"domain\",\"title\":{\"text\":\"Layer\"}},\"coloraxis\":{\"colorscale\":[[0.0,\"rgb(103,0,31)\"],[0.1,\"rgb(178,24,43)\"],[0.2,\"rgb(214,96,77)\"],[0.3,\"rgb(244,165,130)\"],[0.4,\"rgb(253,219,199)\"],[0.5,\"rgb(247,247,247)\"],[0.6,\"rgb(209,229,240)\"],[0.7,\"rgb(146,197,222)\"],[0.8,\"rgb(67,147,195)\"],[0.9,\"rgb(33,102,172)\"],[1.0,\"rgb(5,48,97)\"]],\"cmid\":0.0},\"title\":{\"text\":\"Logit Difference From Patched Attention Layer\"}},                        {\"responsive\": true}                    ).then(function(){\n",
       "                            \n",
       "var gd = document.getElementById('68943eb3-d0a7-4ea9-be11-21b8960f5421');\n",
       "var x = new MutationObserver(function (mutations, observer) {{\n",
       "        var display = window.getComputedStyle(gd).display;\n",
       "        if (!display || display === 'none') {{\n",
       "            console.log([gd, 'removed!']);\n",
       "            Plotly.purge(gd);\n",
       "            observer.disconnect();\n",
       "        }}\n",
       "}});\n",
       "\n",
       "// Listen for the removal of the full notebook cells\n",
       "var notebookContainer = gd.closest('#notebook-container');\n",
       "if (notebookContainer) {{\n",
       "    x.observe(notebookContainer, {childList: true});\n",
       "}}\n",
       "\n",
       "// Listen for the clearing of the current output cell\n",
       "var outputEl = gd.closest('.output');\n",
       "if (outputEl) {{\n",
       "    x.observe(outputEl, {childList: true});\n",
       "}}\n",
       "\n",
       "                        })                };                });            </script>        </div>"
      ]
     },
     "metadata": {},
     "output_type": "display_data"
    }
   ],
   "source": [
    "imshow(\n",
    "    patched_attn_diff,\n",
    "    x=prompt_position_labels,\n",
    "    title=\"Logit Difference From Patched Attention Layer\",\n",
    "    labels={\"x\": \"Position\", \"y\": \"Layer\"},\n",
    ")"
   ]
  },
  {
   "cell_type": "code",
   "execution_count": 84,
   "metadata": {},
   "outputs": [
    {
     "data": {
      "application/vnd.plotly.v1+json": {
       "config": {
        "plotlyServerURL": "https://plot.ly"
       },
       "data": [
        {
         "coloraxis": "coloraxis",
         "hovertemplate": "Position: %{x}<br>Layer: %{y}<br>color: %{z}<extra></extra>",
         "name": "0",
         "type": "heatmap",
         "x": [
          "<|endoftext|>_0",
          "After_1",
          " John_2",
          ",_3",
          " Mary_4",
          " and_5",
          " Jim_6",
          " went_7",
          " to_8",
          " the_9",
          " grocery_10",
          " store_11",
          " and_12",
          " return_13",
          ",_14",
          " _15",
          " Jim_16",
          " and_17",
          " John_18",
          " gave_19",
          " a_20",
          " bottle_21",
          " of_22",
          " milk_23",
          " to_24"
         ],
         "xaxis": "x",
         "yaxis": "y",
         "z": [
          [
           0,
           -0.6034102439880371,
           0.5562195777893066,
           -0.34248629212379456,
           0.8152834177017212,
           -1.6687215566635132,
           0.7808780670166016,
           -0.24360395967960358,
           0.029907094314694405,
           0.009427024982869625,
           0.7471729516983032,
           -0.030078651383519173,
           -0.15734808146953583,
           -0.3106246292591095,
           0.13548853993415833,
           -0.09599500149488449,
           -0.19859954714775085,
           3.069307804107666,
           0.27035611867904663,
           -0.12185943126678467,
           0.028069056570529938,
           -0.030438760295510292,
           0.0315546914935112,
           0.2663693130016327,
           0.19634582102298737
          ],
          [
           0,
           0.25553691387176514,
           0.04120425879955292,
           0.04445386677980423,
           -0.02324521914124489,
           -0.05175800621509552,
           0.05297994613647461,
           0.04860496148467064,
           -0.00918587390333414,
           -0.0114285284653306,
           0.027628295123577118,
           -0.0015426678583025932,
           -0.0042403810657560825,
           -0.07162413746118546,
           0.012536907568573952,
           0.011779195629060268,
           -0.10734692215919495,
           0.47014766931533813,
           0.00009710796439321712,
           -0.12765543162822723,
           0.0034430166706442833,
           -0.012752972543239594,
           -0.004218801390379667,
           0.006662145722657442,
           0.014699178747832775
          ],
          [
           0,
           -0.10255409777164459,
           -0.05319871008396149,
           0.001894144807010889,
           -0.0006673475145362318,
           -0.04529978707432747,
           0.07406990975141525,
           -0.19660450518131256,
           0.013761547394096851,
           0.012345119379460812,
           0.0998542308807373,
           -0.03431309759616852,
           0.004830851219594479,
           -0.03175700083374977,
           -0.007628100458532572,
           -0.0017679043812677264,
           0.3159550428390503,
           0.039439860731363297,
           0.04716911539435387,
           -0.07892584800720215,
           0.014203118160367012,
           -0.006395098753273487,
           0.01042534876614809,
           -0.009643360041081905,
           0.01787029206752777
          ],
          [
           0,
           0.014347701333463192,
           0.06316495686769485,
           0.011946977116167545,
           0.07128425687551498,
           -0.030955322086811066,
           0.1423896700143814,
           -0.0082622691988945,
           0.029131580144166946,
           0.0015370032051578164,
           0.06160421296954155,
           0.00447802571579814,
           -0.015113236382603645,
           -0.05928117409348488,
           0.004412208218127489,
           -0.07257094234228134,
           -0.023887479677796364,
           0.03873852267861366,
           0.13962075114250183,
           -0.2219313532114029,
           0.019563209265470505,
           -0.00477204704657197,
           0.011262365616858006,
           0.047337163239717484,
           0.08311524242162704
          ],
          [
           0,
           0.14092442393302917,
           0.0332271084189415,
           0.058977171778678894,
           0.042881257832050323,
           -0.022942835465073586,
           0.07795827090740204,
           0.07330599427223206,
           -0.018214216455817223,
           0.008716518990695477,
           0.0019510608399286866,
           -0.01880522631108761,
           -0.0023877769708633423,
           0.010855861008167267,
           0.007726017385721207,
           -0.07065629214048386,
           -0.10394220799207687,
           -0.05680438131093979,
           -0.206882044672966,
           -0.005571299698203802,
           0.03381326422095299,
           -0.007687443867325783,
           -0.003526907181367278,
           -0.02285139262676239,
           0.07971862703561783
          ],
          [
           0,
           0.09414347261190414,
           0.024548083543777466,
           0.07993198931217194,
           -0.0464116707444191,
           -0.04501979053020477,
           0.015977496281266212,
           -0.18324434757232666,
           0.00039328724960796535,
           -0.004380108788609505,
           0.008137647062540054,
           -0.00004369858288555406,
           -0.011272885836660862,
           -0.06490857899188995,
           -0.0005945165175944567,
           0.0008828732534311712,
           0.018880216404795647,
           0.05310780555009842,
           0.13799500465393066,
           -0.13619877398014069,
           -0.04715616628527641,
           0.007549065165221691,
           -0.03440697118639946,
           -0.003760236082598567,
           0.2515241801738739
          ],
          [
           0,
           0.1341773122549057,
           -0.028695402666926384,
           -0.004643918480724096,
           0.12928523123264313,
           -0.048800528049468994,
           -0.16585230827331543,
           0.004493940621614456,
           0.015768714249134064,
           -0.010172058828175068,
           -0.04289042949676514,
           -0.011903817765414715,
           -0.008814705535769463,
           -0.04376763850450516,
           0.0027859194669872522,
           0.027650143951177597,
           -0.0284933652728796,
           0.22307884693145752,
           -0.18145917356014252,
           -0.1000514104962349,
           0.015470917336642742,
           -0.011801854707300663,
           -0.009675729088485241,
           0.008744032122194767,
           0.05626543238759041
          ],
          [
           0,
           0.14471514523029327,
           -0.19096550345420837,
           -0.021581705659627914,
           0.12703150510787964,
           0.04103458672761917,
           -0.01224207691848278,
           0.05594201013445854,
           0.0019197704968973994,
           -0.02045714110136032,
           -0.04433733969926834,
           -0.00020608467457350343,
           0.0036269824486225843,
           0.021432267501950264,
           0.02788778766989708,
           -0.00867659691721201,
           -0.06046858802437782,
           0.05365700647234917,
           0.06419375538825989,
           0.17379789054393768,
           -0.010980752296745777,
           -0.008122001774609089,
           0.0134294917806983,
           0.027600780129432678,
           0.07723994553089142
          ],
          [
           0,
           -0.035601936280727386,
           -0.16434955596923828,
           -0.0576249435544014,
           -0.052077651023864746,
           -0.011162560433149338,
           -0.16045553982257843,
           0.09525589644908905,
           -0.0012653707526624203,
           -0.0033993180841207504,
           0.06568193435668945,
           0.0000323693202517461,
           -0.0021156049333512783,
           -0.05857660248875618,
           0.016950195655226707,
           -0.0015936496201902628,
           0.062323350459337234,
           0.06318734586238861,
           -0.04612196609377861,
           -0.045823898166418076,
           -0.028940869495272636,
           -0.0028878829907625914,
           0.005105720832943916,
           0.0016691780183464289,
           0.1331029236316681
          ],
          [
           0,
           0.03250662237405777,
           -0.06440146267414093,
           0.020610086619853973,
           -0.005446677561849356,
           0.12523502111434937,
           0.001048226491548121,
           0.11305255442857742,
           0.0006044970941729844,
           0.0017193504609167576,
           0.02875501662492752,
           0.0033917652908712626,
           0.00081462791422382,
           -0.02062627114355564,
           0.012049210257828236,
           0.021147416904568672,
           0.10991057008504868,
           0.10211549699306488,
           -0.017131732776761055,
           0.04064885526895523,
           -0.019277548417448997,
           0.0006314715137705207,
           -0.0007172502228058875,
           0.0030378608498722315,
           -0.13695135712623596
          ],
          [
           0,
           -0.04034566134214401,
           -0.039333850145339966,
           0.005402709357440472,
           0.029692647978663445,
           -0.032429203391075134,
           -0.06835968792438507,
           0.05201426148414612,
           -0.005811102222651243,
           -0.012527466751635075,
           0.020389974117279053,
           0.0037559201009571552,
           0.0011291498085483909,
           -0.0028458028100430965,
           0.006999865639954805,
           0.016435522586107254,
           -0.004878056701272726,
           -0.047366026788949966,
           0.05424909293651581,
           -0.009788213297724724,
           -0.0006695054471492767,
           0.0014550009509548545,
           0.0024991813115775585,
           -0.002166316844522953,
           -0.6276276707649231
          ],
          [
           0,
           0,
           0,
           0,
           0,
           0,
           0,
           0,
           0,
           0,
           0,
           0,
           0,
           0,
           0,
           0,
           0,
           0,
           0,
           0,
           0,
           0,
           0,
           0,
           -0.2311450093984604
          ]
         ]
        }
       ],
       "layout": {
        "coloraxis": {
         "cmid": 0,
         "colorscale": [
          [
           0,
           "rgb(103,0,31)"
          ],
          [
           0.1,
           "rgb(178,24,43)"
          ],
          [
           0.2,
           "rgb(214,96,77)"
          ],
          [
           0.3,
           "rgb(244,165,130)"
          ],
          [
           0.4,
           "rgb(253,219,199)"
          ],
          [
           0.5,
           "rgb(247,247,247)"
          ],
          [
           0.6,
           "rgb(209,229,240)"
          ],
          [
           0.7,
           "rgb(146,197,222)"
          ],
          [
           0.8,
           "rgb(67,147,195)"
          ],
          [
           0.9,
           "rgb(33,102,172)"
          ],
          [
           1,
           "rgb(5,48,97)"
          ]
         ]
        },
        "template": {
         "data": {
          "bar": [
           {
            "error_x": {
             "color": "#2a3f5f"
            },
            "error_y": {
             "color": "#2a3f5f"
            },
            "marker": {
             "line": {
              "color": "#E5ECF6",
              "width": 0.5
             },
             "pattern": {
              "fillmode": "overlay",
              "size": 10,
              "solidity": 0.2
             }
            },
            "type": "bar"
           }
          ],
          "barpolar": [
           {
            "marker": {
             "line": {
              "color": "#E5ECF6",
              "width": 0.5
             },
             "pattern": {
              "fillmode": "overlay",
              "size": 10,
              "solidity": 0.2
             }
            },
            "type": "barpolar"
           }
          ],
          "carpet": [
           {
            "aaxis": {
             "endlinecolor": "#2a3f5f",
             "gridcolor": "white",
             "linecolor": "white",
             "minorgridcolor": "white",
             "startlinecolor": "#2a3f5f"
            },
            "baxis": {
             "endlinecolor": "#2a3f5f",
             "gridcolor": "white",
             "linecolor": "white",
             "minorgridcolor": "white",
             "startlinecolor": "#2a3f5f"
            },
            "type": "carpet"
           }
          ],
          "choropleth": [
           {
            "colorbar": {
             "outlinewidth": 0,
             "ticks": ""
            },
            "type": "choropleth"
           }
          ],
          "contour": [
           {
            "colorbar": {
             "outlinewidth": 0,
             "ticks": ""
            },
            "colorscale": [
             [
              0,
              "#0d0887"
             ],
             [
              0.1111111111111111,
              "#46039f"
             ],
             [
              0.2222222222222222,
              "#7201a8"
             ],
             [
              0.3333333333333333,
              "#9c179e"
             ],
             [
              0.4444444444444444,
              "#bd3786"
             ],
             [
              0.5555555555555556,
              "#d8576b"
             ],
             [
              0.6666666666666666,
              "#ed7953"
             ],
             [
              0.7777777777777778,
              "#fb9f3a"
             ],
             [
              0.8888888888888888,
              "#fdca26"
             ],
             [
              1,
              "#f0f921"
             ]
            ],
            "type": "contour"
           }
          ],
          "contourcarpet": [
           {
            "colorbar": {
             "outlinewidth": 0,
             "ticks": ""
            },
            "type": "contourcarpet"
           }
          ],
          "heatmap": [
           {
            "colorbar": {
             "outlinewidth": 0,
             "ticks": ""
            },
            "colorscale": [
             [
              0,
              "#0d0887"
             ],
             [
              0.1111111111111111,
              "#46039f"
             ],
             [
              0.2222222222222222,
              "#7201a8"
             ],
             [
              0.3333333333333333,
              "#9c179e"
             ],
             [
              0.4444444444444444,
              "#bd3786"
             ],
             [
              0.5555555555555556,
              "#d8576b"
             ],
             [
              0.6666666666666666,
              "#ed7953"
             ],
             [
              0.7777777777777778,
              "#fb9f3a"
             ],
             [
              0.8888888888888888,
              "#fdca26"
             ],
             [
              1,
              "#f0f921"
             ]
            ],
            "type": "heatmap"
           }
          ],
          "heatmapgl": [
           {
            "colorbar": {
             "outlinewidth": 0,
             "ticks": ""
            },
            "colorscale": [
             [
              0,
              "#0d0887"
             ],
             [
              0.1111111111111111,
              "#46039f"
             ],
             [
              0.2222222222222222,
              "#7201a8"
             ],
             [
              0.3333333333333333,
              "#9c179e"
             ],
             [
              0.4444444444444444,
              "#bd3786"
             ],
             [
              0.5555555555555556,
              "#d8576b"
             ],
             [
              0.6666666666666666,
              "#ed7953"
             ],
             [
              0.7777777777777778,
              "#fb9f3a"
             ],
             [
              0.8888888888888888,
              "#fdca26"
             ],
             [
              1,
              "#f0f921"
             ]
            ],
            "type": "heatmapgl"
           }
          ],
          "histogram": [
           {
            "marker": {
             "pattern": {
              "fillmode": "overlay",
              "size": 10,
              "solidity": 0.2
             }
            },
            "type": "histogram"
           }
          ],
          "histogram2d": [
           {
            "colorbar": {
             "outlinewidth": 0,
             "ticks": ""
            },
            "colorscale": [
             [
              0,
              "#0d0887"
             ],
             [
              0.1111111111111111,
              "#46039f"
             ],
             [
              0.2222222222222222,
              "#7201a8"
             ],
             [
              0.3333333333333333,
              "#9c179e"
             ],
             [
              0.4444444444444444,
              "#bd3786"
             ],
             [
              0.5555555555555556,
              "#d8576b"
             ],
             [
              0.6666666666666666,
              "#ed7953"
             ],
             [
              0.7777777777777778,
              "#fb9f3a"
             ],
             [
              0.8888888888888888,
              "#fdca26"
             ],
             [
              1,
              "#f0f921"
             ]
            ],
            "type": "histogram2d"
           }
          ],
          "histogram2dcontour": [
           {
            "colorbar": {
             "outlinewidth": 0,
             "ticks": ""
            },
            "colorscale": [
             [
              0,
              "#0d0887"
             ],
             [
              0.1111111111111111,
              "#46039f"
             ],
             [
              0.2222222222222222,
              "#7201a8"
             ],
             [
              0.3333333333333333,
              "#9c179e"
             ],
             [
              0.4444444444444444,
              "#bd3786"
             ],
             [
              0.5555555555555556,
              "#d8576b"
             ],
             [
              0.6666666666666666,
              "#ed7953"
             ],
             [
              0.7777777777777778,
              "#fb9f3a"
             ],
             [
              0.8888888888888888,
              "#fdca26"
             ],
             [
              1,
              "#f0f921"
             ]
            ],
            "type": "histogram2dcontour"
           }
          ],
          "mesh3d": [
           {
            "colorbar": {
             "outlinewidth": 0,
             "ticks": ""
            },
            "type": "mesh3d"
           }
          ],
          "parcoords": [
           {
            "line": {
             "colorbar": {
              "outlinewidth": 0,
              "ticks": ""
             }
            },
            "type": "parcoords"
           }
          ],
          "pie": [
           {
            "automargin": true,
            "type": "pie"
           }
          ],
          "scatter": [
           {
            "fillpattern": {
             "fillmode": "overlay",
             "size": 10,
             "solidity": 0.2
            },
            "type": "scatter"
           }
          ],
          "scatter3d": [
           {
            "line": {
             "colorbar": {
              "outlinewidth": 0,
              "ticks": ""
             }
            },
            "marker": {
             "colorbar": {
              "outlinewidth": 0,
              "ticks": ""
             }
            },
            "type": "scatter3d"
           }
          ],
          "scattercarpet": [
           {
            "marker": {
             "colorbar": {
              "outlinewidth": 0,
              "ticks": ""
             }
            },
            "type": "scattercarpet"
           }
          ],
          "scattergeo": [
           {
            "marker": {
             "colorbar": {
              "outlinewidth": 0,
              "ticks": ""
             }
            },
            "type": "scattergeo"
           }
          ],
          "scattergl": [
           {
            "marker": {
             "colorbar": {
              "outlinewidth": 0,
              "ticks": ""
             }
            },
            "type": "scattergl"
           }
          ],
          "scattermapbox": [
           {
            "marker": {
             "colorbar": {
              "outlinewidth": 0,
              "ticks": ""
             }
            },
            "type": "scattermapbox"
           }
          ],
          "scatterpolar": [
           {
            "marker": {
             "colorbar": {
              "outlinewidth": 0,
              "ticks": ""
             }
            },
            "type": "scatterpolar"
           }
          ],
          "scatterpolargl": [
           {
            "marker": {
             "colorbar": {
              "outlinewidth": 0,
              "ticks": ""
             }
            },
            "type": "scatterpolargl"
           }
          ],
          "scatterternary": [
           {
            "marker": {
             "colorbar": {
              "outlinewidth": 0,
              "ticks": ""
             }
            },
            "type": "scatterternary"
           }
          ],
          "surface": [
           {
            "colorbar": {
             "outlinewidth": 0,
             "ticks": ""
            },
            "colorscale": [
             [
              0,
              "#0d0887"
             ],
             [
              0.1111111111111111,
              "#46039f"
             ],
             [
              0.2222222222222222,
              "#7201a8"
             ],
             [
              0.3333333333333333,
              "#9c179e"
             ],
             [
              0.4444444444444444,
              "#bd3786"
             ],
             [
              0.5555555555555556,
              "#d8576b"
             ],
             [
              0.6666666666666666,
              "#ed7953"
             ],
             [
              0.7777777777777778,
              "#fb9f3a"
             ],
             [
              0.8888888888888888,
              "#fdca26"
             ],
             [
              1,
              "#f0f921"
             ]
            ],
            "type": "surface"
           }
          ],
          "table": [
           {
            "cells": {
             "fill": {
              "color": "#EBF0F8"
             },
             "line": {
              "color": "white"
             }
            },
            "header": {
             "fill": {
              "color": "#C8D4E3"
             },
             "line": {
              "color": "white"
             }
            },
            "type": "table"
           }
          ]
         },
         "layout": {
          "annotationdefaults": {
           "arrowcolor": "#2a3f5f",
           "arrowhead": 0,
           "arrowwidth": 1
          },
          "autotypenumbers": "strict",
          "coloraxis": {
           "colorbar": {
            "outlinewidth": 0,
            "ticks": ""
           }
          },
          "colorscale": {
           "diverging": [
            [
             0,
             "#8e0152"
            ],
            [
             0.1,
             "#c51b7d"
            ],
            [
             0.2,
             "#de77ae"
            ],
            [
             0.3,
             "#f1b6da"
            ],
            [
             0.4,
             "#fde0ef"
            ],
            [
             0.5,
             "#f7f7f7"
            ],
            [
             0.6,
             "#e6f5d0"
            ],
            [
             0.7,
             "#b8e186"
            ],
            [
             0.8,
             "#7fbc41"
            ],
            [
             0.9,
             "#4d9221"
            ],
            [
             1,
             "#276419"
            ]
           ],
           "sequential": [
            [
             0,
             "#0d0887"
            ],
            [
             0.1111111111111111,
             "#46039f"
            ],
            [
             0.2222222222222222,
             "#7201a8"
            ],
            [
             0.3333333333333333,
             "#9c179e"
            ],
            [
             0.4444444444444444,
             "#bd3786"
            ],
            [
             0.5555555555555556,
             "#d8576b"
            ],
            [
             0.6666666666666666,
             "#ed7953"
            ],
            [
             0.7777777777777778,
             "#fb9f3a"
            ],
            [
             0.8888888888888888,
             "#fdca26"
            ],
            [
             1,
             "#f0f921"
            ]
           ],
           "sequentialminus": [
            [
             0,
             "#0d0887"
            ],
            [
             0.1111111111111111,
             "#46039f"
            ],
            [
             0.2222222222222222,
             "#7201a8"
            ],
            [
             0.3333333333333333,
             "#9c179e"
            ],
            [
             0.4444444444444444,
             "#bd3786"
            ],
            [
             0.5555555555555556,
             "#d8576b"
            ],
            [
             0.6666666666666666,
             "#ed7953"
            ],
            [
             0.7777777777777778,
             "#fb9f3a"
            ],
            [
             0.8888888888888888,
             "#fdca26"
            ],
            [
             1,
             "#f0f921"
            ]
           ]
          },
          "colorway": [
           "#636efa",
           "#EF553B",
           "#00cc96",
           "#ab63fa",
           "#FFA15A",
           "#19d3f3",
           "#FF6692",
           "#B6E880",
           "#FF97FF",
           "#FECB52"
          ],
          "font": {
           "color": "#2a3f5f"
          },
          "geo": {
           "bgcolor": "white",
           "lakecolor": "white",
           "landcolor": "#E5ECF6",
           "showlakes": true,
           "showland": true,
           "subunitcolor": "white"
          },
          "hoverlabel": {
           "align": "left"
          },
          "hovermode": "closest",
          "mapbox": {
           "style": "light"
          },
          "paper_bgcolor": "white",
          "plot_bgcolor": "#E5ECF6",
          "polar": {
           "angularaxis": {
            "gridcolor": "white",
            "linecolor": "white",
            "ticks": ""
           },
           "bgcolor": "#E5ECF6",
           "radialaxis": {
            "gridcolor": "white",
            "linecolor": "white",
            "ticks": ""
           }
          },
          "scene": {
           "xaxis": {
            "backgroundcolor": "#E5ECF6",
            "gridcolor": "white",
            "gridwidth": 2,
            "linecolor": "white",
            "showbackground": true,
            "ticks": "",
            "zerolinecolor": "white"
           },
           "yaxis": {
            "backgroundcolor": "#E5ECF6",
            "gridcolor": "white",
            "gridwidth": 2,
            "linecolor": "white",
            "showbackground": true,
            "ticks": "",
            "zerolinecolor": "white"
           },
           "zaxis": {
            "backgroundcolor": "#E5ECF6",
            "gridcolor": "white",
            "gridwidth": 2,
            "linecolor": "white",
            "showbackground": true,
            "ticks": "",
            "zerolinecolor": "white"
           }
          },
          "shapedefaults": {
           "line": {
            "color": "#2a3f5f"
           }
          },
          "ternary": {
           "aaxis": {
            "gridcolor": "white",
            "linecolor": "white",
            "ticks": ""
           },
           "baxis": {
            "gridcolor": "white",
            "linecolor": "white",
            "ticks": ""
           },
           "bgcolor": "#E5ECF6",
           "caxis": {
            "gridcolor": "white",
            "linecolor": "white",
            "ticks": ""
           }
          },
          "title": {
           "x": 0.05
          },
          "xaxis": {
           "automargin": true,
           "gridcolor": "white",
           "linecolor": "white",
           "ticks": "",
           "title": {
            "standoff": 15
           },
           "zerolinecolor": "white",
           "zerolinewidth": 2
          },
          "yaxis": {
           "automargin": true,
           "gridcolor": "white",
           "linecolor": "white",
           "ticks": "",
           "title": {
            "standoff": 15
           },
           "zerolinecolor": "white",
           "zerolinewidth": 2
          }
         }
        },
        "title": {
         "text": "Logit Difference From Patched MLP Layer"
        },
        "xaxis": {
         "anchor": "y",
         "constrain": "domain",
         "domain": [
          0,
          1
         ],
         "scaleanchor": "y",
         "title": {
          "text": "Position"
         }
        },
        "yaxis": {
         "anchor": "x",
         "autorange": "reversed",
         "constrain": "domain",
         "domain": [
          0,
          1
         ],
         "title": {
          "text": "Layer"
         }
        }
       }
      },
      "text/html": [
       "<div>                            <div id=\"8aeb8d5c-8bb3-490e-9120-515602f6f825\" class=\"plotly-graph-div\" style=\"height:525px; width:100%;\"></div>            <script type=\"text/javascript\">                require([\"plotly\"], function(Plotly) {                    window.PLOTLYENV=window.PLOTLYENV || {};                                    if (document.getElementById(\"8aeb8d5c-8bb3-490e-9120-515602f6f825\")) {                    Plotly.newPlot(                        \"8aeb8d5c-8bb3-490e-9120-515602f6f825\",                        [{\"coloraxis\":\"coloraxis\",\"name\":\"0\",\"x\":[\"\\u003c|endoftext|\\u003e_0\",\"After_1\",\" John_2\",\",_3\",\" Mary_4\",\" and_5\",\" Jim_6\",\" went_7\",\" to_8\",\" the_9\",\" grocery_10\",\" store_11\",\" and_12\",\" return_13\",\",_14\",\" _15\",\" Jim_16\",\" and_17\",\" John_18\",\" gave_19\",\" a_20\",\" bottle_21\",\" of_22\",\" milk_23\",\" to_24\"],\"z\":[[-0.0,-0.6034102439880371,0.5562195777893066,-0.34248629212379456,0.8152834177017212,-1.6687215566635132,0.7808780670166016,-0.24360395967960358,0.029907094314694405,0.009427024982869625,0.7471729516983032,-0.030078651383519173,-0.15734808146953583,-0.3106246292591095,0.13548853993415833,-0.09599500149488449,-0.19859954714775085,3.069307804107666,0.27035611867904663,-0.12185943126678467,0.028069056570529938,-0.030438760295510292,0.0315546914935112,0.2663693130016327,0.19634582102298737],[-0.0,0.25553691387176514,0.04120425879955292,0.04445386677980423,-0.02324521914124489,-0.05175800621509552,0.05297994613647461,0.04860496148467064,-0.00918587390333414,-0.0114285284653306,0.027628295123577118,-0.0015426678583025932,-0.0042403810657560825,-0.07162413746118546,0.012536907568573952,0.011779195629060268,-0.10734692215919495,0.47014766931533813,9.710796439321712e-05,-0.12765543162822723,0.0034430166706442833,-0.012752972543239594,-0.004218801390379667,0.006662145722657442,0.014699178747832775],[-0.0,-0.10255409777164459,-0.05319871008396149,0.001894144807010889,-0.0006673475145362318,-0.04529978707432747,0.07406990975141525,-0.19660450518131256,0.013761547394096851,0.012345119379460812,0.0998542308807373,-0.03431309759616852,0.004830851219594479,-0.03175700083374977,-0.007628100458532572,-0.0017679043812677264,0.3159550428390503,0.039439860731363297,0.04716911539435387,-0.07892584800720215,0.014203118160367012,-0.006395098753273487,0.01042534876614809,-0.009643360041081905,0.01787029206752777],[-0.0,0.014347701333463192,0.06316495686769485,0.011946977116167545,0.07128425687551498,-0.030955322086811066,0.1423896700143814,-0.0082622691988945,0.029131580144166946,0.0015370032051578164,0.06160421296954155,0.00447802571579814,-0.015113236382603645,-0.05928117409348488,0.004412208218127489,-0.07257094234228134,-0.023887479677796364,0.03873852267861366,0.13962075114250183,-0.2219313532114029,0.019563209265470505,-0.00477204704657197,0.011262365616858006,0.047337163239717484,0.08311524242162704],[-0.0,0.14092442393302917,0.0332271084189415,0.058977171778678894,0.042881257832050323,-0.022942835465073586,0.07795827090740204,0.07330599427223206,-0.018214216455817223,0.008716518990695477,0.0019510608399286866,-0.01880522631108761,-0.0023877769708633423,0.010855861008167267,0.007726017385721207,-0.07065629214048386,-0.10394220799207687,-0.05680438131093979,-0.206882044672966,-0.005571299698203802,0.03381326422095299,-0.007687443867325783,-0.003526907181367278,-0.02285139262676239,0.07971862703561783],[-0.0,0.09414347261190414,0.024548083543777466,0.07993198931217194,-0.0464116707444191,-0.04501979053020477,0.015977496281266212,-0.18324434757232666,0.00039328724960796535,-0.004380108788609505,0.008137647062540054,-4.369858288555406e-05,-0.011272885836660862,-0.06490857899188995,-0.0005945165175944567,0.0008828732534311712,0.018880216404795647,0.05310780555009842,0.13799500465393066,-0.13619877398014069,-0.04715616628527641,0.007549065165221691,-0.03440697118639946,-0.003760236082598567,0.2515241801738739],[-0.0,0.1341773122549057,-0.028695402666926384,-0.004643918480724096,0.12928523123264313,-0.048800528049468994,-0.16585230827331543,0.004493940621614456,0.015768714249134064,-0.010172058828175068,-0.04289042949676514,-0.011903817765414715,-0.008814705535769463,-0.04376763850450516,0.0027859194669872522,0.027650143951177597,-0.0284933652728796,0.22307884693145752,-0.18145917356014252,-0.1000514104962349,0.015470917336642742,-0.011801854707300663,-0.009675729088485241,0.008744032122194767,0.05626543238759041],[-0.0,0.14471514523029327,-0.19096550345420837,-0.021581705659627914,0.12703150510787964,0.04103458672761917,-0.01224207691848278,0.05594201013445854,0.0019197704968973994,-0.02045714110136032,-0.04433733969926834,-0.00020608467457350343,0.0036269824486225843,0.021432267501950264,0.02788778766989708,-0.00867659691721201,-0.06046858802437782,0.05365700647234917,0.06419375538825989,0.17379789054393768,-0.010980752296745777,-0.008122001774609089,0.0134294917806983,0.027600780129432678,0.07723994553089142],[-0.0,-0.035601936280727386,-0.16434955596923828,-0.0576249435544014,-0.052077651023864746,-0.011162560433149338,-0.16045553982257843,0.09525589644908905,-0.0012653707526624203,-0.0033993180841207504,0.06568193435668945,3.23693202517461e-05,-0.0021156049333512783,-0.05857660248875618,0.016950195655226707,-0.0015936496201902628,0.062323350459337234,0.06318734586238861,-0.04612196609377861,-0.045823898166418076,-0.028940869495272636,-0.0028878829907625914,0.005105720832943916,0.0016691780183464289,0.1331029236316681],[-0.0,0.03250662237405777,-0.06440146267414093,0.020610086619853973,-0.005446677561849356,0.12523502111434937,0.001048226491548121,0.11305255442857742,0.0006044970941729844,0.0017193504609167576,0.02875501662492752,0.0033917652908712626,0.00081462791422382,-0.02062627114355564,0.012049210257828236,0.021147416904568672,0.10991057008504868,0.10211549699306488,-0.017131732776761055,0.04064885526895523,-0.019277548417448997,0.0006314715137705207,-0.0007172502228058875,0.0030378608498722315,-0.13695135712623596],[-0.0,-0.04034566134214401,-0.039333850145339966,0.005402709357440472,0.029692647978663445,-0.032429203391075134,-0.06835968792438507,0.05201426148414612,-0.005811102222651243,-0.012527466751635075,0.020389974117279053,0.0037559201009571552,0.0011291498085483909,-0.0028458028100430965,0.006999865639954805,0.016435522586107254,-0.004878056701272726,-0.047366026788949966,0.05424909293651581,-0.009788213297724724,-0.0006695054471492767,0.0014550009509548545,0.0024991813115775585,-0.002166316844522953,-0.6276276707649231],[-0.0,-0.0,-0.0,-0.0,-0.0,-0.0,-0.0,-0.0,-0.0,-0.0,-0.0,-0.0,-0.0,-0.0,-0.0,-0.0,-0.0,-0.0,-0.0,-0.0,-0.0,-0.0,-0.0,-0.0,-0.2311450093984604]],\"type\":\"heatmap\",\"xaxis\":\"x\",\"yaxis\":\"y\",\"hovertemplate\":\"Position: %{x}\\u003cbr\\u003eLayer: %{y}\\u003cbr\\u003ecolor: %{z}\\u003cextra\\u003e\\u003c\\u002fextra\\u003e\"}],                        {\"template\":{\"data\":{\"histogram2dcontour\":[{\"type\":\"histogram2dcontour\",\"colorbar\":{\"outlinewidth\":0,\"ticks\":\"\"},\"colorscale\":[[0.0,\"#0d0887\"],[0.1111111111111111,\"#46039f\"],[0.2222222222222222,\"#7201a8\"],[0.3333333333333333,\"#9c179e\"],[0.4444444444444444,\"#bd3786\"],[0.5555555555555556,\"#d8576b\"],[0.6666666666666666,\"#ed7953\"],[0.7777777777777778,\"#fb9f3a\"],[0.8888888888888888,\"#fdca26\"],[1.0,\"#f0f921\"]]}],\"choropleth\":[{\"type\":\"choropleth\",\"colorbar\":{\"outlinewidth\":0,\"ticks\":\"\"}}],\"histogram2d\":[{\"type\":\"histogram2d\",\"colorbar\":{\"outlinewidth\":0,\"ticks\":\"\"},\"colorscale\":[[0.0,\"#0d0887\"],[0.1111111111111111,\"#46039f\"],[0.2222222222222222,\"#7201a8\"],[0.3333333333333333,\"#9c179e\"],[0.4444444444444444,\"#bd3786\"],[0.5555555555555556,\"#d8576b\"],[0.6666666666666666,\"#ed7953\"],[0.7777777777777778,\"#fb9f3a\"],[0.8888888888888888,\"#fdca26\"],[1.0,\"#f0f921\"]]}],\"heatmap\":[{\"type\":\"heatmap\",\"colorbar\":{\"outlinewidth\":0,\"ticks\":\"\"},\"colorscale\":[[0.0,\"#0d0887\"],[0.1111111111111111,\"#46039f\"],[0.2222222222222222,\"#7201a8\"],[0.3333333333333333,\"#9c179e\"],[0.4444444444444444,\"#bd3786\"],[0.5555555555555556,\"#d8576b\"],[0.6666666666666666,\"#ed7953\"],[0.7777777777777778,\"#fb9f3a\"],[0.8888888888888888,\"#fdca26\"],[1.0,\"#f0f921\"]]}],\"heatmapgl\":[{\"type\":\"heatmapgl\",\"colorbar\":{\"outlinewidth\":0,\"ticks\":\"\"},\"colorscale\":[[0.0,\"#0d0887\"],[0.1111111111111111,\"#46039f\"],[0.2222222222222222,\"#7201a8\"],[0.3333333333333333,\"#9c179e\"],[0.4444444444444444,\"#bd3786\"],[0.5555555555555556,\"#d8576b\"],[0.6666666666666666,\"#ed7953\"],[0.7777777777777778,\"#fb9f3a\"],[0.8888888888888888,\"#fdca26\"],[1.0,\"#f0f921\"]]}],\"contourcarpet\":[{\"type\":\"contourcarpet\",\"colorbar\":{\"outlinewidth\":0,\"ticks\":\"\"}}],\"contour\":[{\"type\":\"contour\",\"colorbar\":{\"outlinewidth\":0,\"ticks\":\"\"},\"colorscale\":[[0.0,\"#0d0887\"],[0.1111111111111111,\"#46039f\"],[0.2222222222222222,\"#7201a8\"],[0.3333333333333333,\"#9c179e\"],[0.4444444444444444,\"#bd3786\"],[0.5555555555555556,\"#d8576b\"],[0.6666666666666666,\"#ed7953\"],[0.7777777777777778,\"#fb9f3a\"],[0.8888888888888888,\"#fdca26\"],[1.0,\"#f0f921\"]]}],\"surface\":[{\"type\":\"surface\",\"colorbar\":{\"outlinewidth\":0,\"ticks\":\"\"},\"colorscale\":[[0.0,\"#0d0887\"],[0.1111111111111111,\"#46039f\"],[0.2222222222222222,\"#7201a8\"],[0.3333333333333333,\"#9c179e\"],[0.4444444444444444,\"#bd3786\"],[0.5555555555555556,\"#d8576b\"],[0.6666666666666666,\"#ed7953\"],[0.7777777777777778,\"#fb9f3a\"],[0.8888888888888888,\"#fdca26\"],[1.0,\"#f0f921\"]]}],\"mesh3d\":[{\"type\":\"mesh3d\",\"colorbar\":{\"outlinewidth\":0,\"ticks\":\"\"}}],\"scatter\":[{\"fillpattern\":{\"fillmode\":\"overlay\",\"size\":10,\"solidity\":0.2},\"type\":\"scatter\"}],\"parcoords\":[{\"type\":\"parcoords\",\"line\":{\"colorbar\":{\"outlinewidth\":0,\"ticks\":\"\"}}}],\"scatterpolargl\":[{\"type\":\"scatterpolargl\",\"marker\":{\"colorbar\":{\"outlinewidth\":0,\"ticks\":\"\"}}}],\"bar\":[{\"error_x\":{\"color\":\"#2a3f5f\"},\"error_y\":{\"color\":\"#2a3f5f\"},\"marker\":{\"line\":{\"color\":\"#E5ECF6\",\"width\":0.5},\"pattern\":{\"fillmode\":\"overlay\",\"size\":10,\"solidity\":0.2}},\"type\":\"bar\"}],\"scattergeo\":[{\"type\":\"scattergeo\",\"marker\":{\"colorbar\":{\"outlinewidth\":0,\"ticks\":\"\"}}}],\"scatterpolar\":[{\"type\":\"scatterpolar\",\"marker\":{\"colorbar\":{\"outlinewidth\":0,\"ticks\":\"\"}}}],\"histogram\":[{\"marker\":{\"pattern\":{\"fillmode\":\"overlay\",\"size\":10,\"solidity\":0.2}},\"type\":\"histogram\"}],\"scattergl\":[{\"type\":\"scattergl\",\"marker\":{\"colorbar\":{\"outlinewidth\":0,\"ticks\":\"\"}}}],\"scatter3d\":[{\"type\":\"scatter3d\",\"line\":{\"colorbar\":{\"outlinewidth\":0,\"ticks\":\"\"}},\"marker\":{\"colorbar\":{\"outlinewidth\":0,\"ticks\":\"\"}}}],\"scattermapbox\":[{\"type\":\"scattermapbox\",\"marker\":{\"colorbar\":{\"outlinewidth\":0,\"ticks\":\"\"}}}],\"scatterternary\":[{\"type\":\"scatterternary\",\"marker\":{\"colorbar\":{\"outlinewidth\":0,\"ticks\":\"\"}}}],\"scattercarpet\":[{\"type\":\"scattercarpet\",\"marker\":{\"colorbar\":{\"outlinewidth\":0,\"ticks\":\"\"}}}],\"carpet\":[{\"aaxis\":{\"endlinecolor\":\"#2a3f5f\",\"gridcolor\":\"white\",\"linecolor\":\"white\",\"minorgridcolor\":\"white\",\"startlinecolor\":\"#2a3f5f\"},\"baxis\":{\"endlinecolor\":\"#2a3f5f\",\"gridcolor\":\"white\",\"linecolor\":\"white\",\"minorgridcolor\":\"white\",\"startlinecolor\":\"#2a3f5f\"},\"type\":\"carpet\"}],\"table\":[{\"cells\":{\"fill\":{\"color\":\"#EBF0F8\"},\"line\":{\"color\":\"white\"}},\"header\":{\"fill\":{\"color\":\"#C8D4E3\"},\"line\":{\"color\":\"white\"}},\"type\":\"table\"}],\"barpolar\":[{\"marker\":{\"line\":{\"color\":\"#E5ECF6\",\"width\":0.5},\"pattern\":{\"fillmode\":\"overlay\",\"size\":10,\"solidity\":0.2}},\"type\":\"barpolar\"}],\"pie\":[{\"automargin\":true,\"type\":\"pie\"}]},\"layout\":{\"autotypenumbers\":\"strict\",\"colorway\":[\"#636efa\",\"#EF553B\",\"#00cc96\",\"#ab63fa\",\"#FFA15A\",\"#19d3f3\",\"#FF6692\",\"#B6E880\",\"#FF97FF\",\"#FECB52\"],\"font\":{\"color\":\"#2a3f5f\"},\"hovermode\":\"closest\",\"hoverlabel\":{\"align\":\"left\"},\"paper_bgcolor\":\"white\",\"plot_bgcolor\":\"#E5ECF6\",\"polar\":{\"bgcolor\":\"#E5ECF6\",\"angularaxis\":{\"gridcolor\":\"white\",\"linecolor\":\"white\",\"ticks\":\"\"},\"radialaxis\":{\"gridcolor\":\"white\",\"linecolor\":\"white\",\"ticks\":\"\"}},\"ternary\":{\"bgcolor\":\"#E5ECF6\",\"aaxis\":{\"gridcolor\":\"white\",\"linecolor\":\"white\",\"ticks\":\"\"},\"baxis\":{\"gridcolor\":\"white\",\"linecolor\":\"white\",\"ticks\":\"\"},\"caxis\":{\"gridcolor\":\"white\",\"linecolor\":\"white\",\"ticks\":\"\"}},\"coloraxis\":{\"colorbar\":{\"outlinewidth\":0,\"ticks\":\"\"}},\"colorscale\":{\"sequential\":[[0.0,\"#0d0887\"],[0.1111111111111111,\"#46039f\"],[0.2222222222222222,\"#7201a8\"],[0.3333333333333333,\"#9c179e\"],[0.4444444444444444,\"#bd3786\"],[0.5555555555555556,\"#d8576b\"],[0.6666666666666666,\"#ed7953\"],[0.7777777777777778,\"#fb9f3a\"],[0.8888888888888888,\"#fdca26\"],[1.0,\"#f0f921\"]],\"sequentialminus\":[[0.0,\"#0d0887\"],[0.1111111111111111,\"#46039f\"],[0.2222222222222222,\"#7201a8\"],[0.3333333333333333,\"#9c179e\"],[0.4444444444444444,\"#bd3786\"],[0.5555555555555556,\"#d8576b\"],[0.6666666666666666,\"#ed7953\"],[0.7777777777777778,\"#fb9f3a\"],[0.8888888888888888,\"#fdca26\"],[1.0,\"#f0f921\"]],\"diverging\":[[0,\"#8e0152\"],[0.1,\"#c51b7d\"],[0.2,\"#de77ae\"],[0.3,\"#f1b6da\"],[0.4,\"#fde0ef\"],[0.5,\"#f7f7f7\"],[0.6,\"#e6f5d0\"],[0.7,\"#b8e186\"],[0.8,\"#7fbc41\"],[0.9,\"#4d9221\"],[1,\"#276419\"]]},\"xaxis\":{\"gridcolor\":\"white\",\"linecolor\":\"white\",\"ticks\":\"\",\"title\":{\"standoff\":15},\"zerolinecolor\":\"white\",\"automargin\":true,\"zerolinewidth\":2},\"yaxis\":{\"gridcolor\":\"white\",\"linecolor\":\"white\",\"ticks\":\"\",\"title\":{\"standoff\":15},\"zerolinecolor\":\"white\",\"automargin\":true,\"zerolinewidth\":2},\"scene\":{\"xaxis\":{\"backgroundcolor\":\"#E5ECF6\",\"gridcolor\":\"white\",\"linecolor\":\"white\",\"showbackground\":true,\"ticks\":\"\",\"zerolinecolor\":\"white\",\"gridwidth\":2},\"yaxis\":{\"backgroundcolor\":\"#E5ECF6\",\"gridcolor\":\"white\",\"linecolor\":\"white\",\"showbackground\":true,\"ticks\":\"\",\"zerolinecolor\":\"white\",\"gridwidth\":2},\"zaxis\":{\"backgroundcolor\":\"#E5ECF6\",\"gridcolor\":\"white\",\"linecolor\":\"white\",\"showbackground\":true,\"ticks\":\"\",\"zerolinecolor\":\"white\",\"gridwidth\":2}},\"shapedefaults\":{\"line\":{\"color\":\"#2a3f5f\"}},\"annotationdefaults\":{\"arrowcolor\":\"#2a3f5f\",\"arrowhead\":0,\"arrowwidth\":1},\"geo\":{\"bgcolor\":\"white\",\"landcolor\":\"#E5ECF6\",\"subunitcolor\":\"white\",\"showland\":true,\"showlakes\":true,\"lakecolor\":\"white\"},\"title\":{\"x\":0.05},\"mapbox\":{\"style\":\"light\"}}},\"xaxis\":{\"anchor\":\"y\",\"domain\":[0.0,1.0],\"scaleanchor\":\"y\",\"constrain\":\"domain\",\"title\":{\"text\":\"Position\"}},\"yaxis\":{\"anchor\":\"x\",\"domain\":[0.0,1.0],\"autorange\":\"reversed\",\"constrain\":\"domain\",\"title\":{\"text\":\"Layer\"}},\"coloraxis\":{\"colorscale\":[[0.0,\"rgb(103,0,31)\"],[0.1,\"rgb(178,24,43)\"],[0.2,\"rgb(214,96,77)\"],[0.3,\"rgb(244,165,130)\"],[0.4,\"rgb(253,219,199)\"],[0.5,\"rgb(247,247,247)\"],[0.6,\"rgb(209,229,240)\"],[0.7,\"rgb(146,197,222)\"],[0.8,\"rgb(67,147,195)\"],[0.9,\"rgb(33,102,172)\"],[1.0,\"rgb(5,48,97)\"]],\"cmid\":0.0},\"title\":{\"text\":\"Logit Difference From Patched MLP Layer\"}},                        {\"responsive\": true}                    ).then(function(){\n",
       "                            \n",
       "var gd = document.getElementById('8aeb8d5c-8bb3-490e-9120-515602f6f825');\n",
       "var x = new MutationObserver(function (mutations, observer) {{\n",
       "        var display = window.getComputedStyle(gd).display;\n",
       "        if (!display || display === 'none') {{\n",
       "            console.log([gd, 'removed!']);\n",
       "            Plotly.purge(gd);\n",
       "            observer.disconnect();\n",
       "        }}\n",
       "}});\n",
       "\n",
       "// Listen for the removal of the full notebook cells\n",
       "var notebookContainer = gd.closest('#notebook-container');\n",
       "if (notebookContainer) {{\n",
       "    x.observe(notebookContainer, {childList: true});\n",
       "}}\n",
       "\n",
       "// Listen for the clearing of the current output cell\n",
       "var outputEl = gd.closest('.output');\n",
       "if (outputEl) {{\n",
       "    x.observe(outputEl, {childList: true});\n",
       "}}\n",
       "\n",
       "                        })                };                });            </script>        </div>"
      ]
     },
     "metadata": {},
     "output_type": "display_data"
    }
   ],
   "source": [
    "imshow(\n",
    "    patched_mlp_diff,\n",
    "    x=prompt_position_labels,\n",
    "    title=\"Logit Difference From Patched MLP Layer\",\n",
    "    labels={\"x\": \"Position\", \"y\": \"Layer\"},\n",
    ")"
   ]
  },
  {
   "cell_type": "code",
   "execution_count": 85,
   "metadata": {},
   "outputs": [],
   "source": [
    "def patch_head_vector(\n",
    "    corrupted_head_vector: Float[torch.Tensor, \"batch pos head_index d_head\"],\n",
    "    hook,\n",
    "    head_index,\n",
    "    clean_cache,\n",
    "):\n",
    "    corrupted_head_vector[:, :, head_index, :] = clean_cache[hook.name][\n",
    "        :, :, head_index, :\n",
    "    ]\n",
    "    return corrupted_head_vector\n",
    "\n",
    "\n",
    "patched_head_z_diff = torch.zeros(\n",
    "    model.cfg.n_layers, model.cfg.n_heads, device=device, dtype=torch.float32\n",
    ")\n",
    "for layer in range(model.cfg.n_layers):\n",
    "    for head_index in range(model.cfg.n_heads):\n",
    "        hook_fn = partial(patch_head_vector, head_index=head_index, clean_cache=cache)\n",
    "        patched_logits = model.run_with_hooks(\n",
    "            corrupted_tokens,\n",
    "            fwd_hooks=[(utils.get_act_name(\"z\", layer, \"attn\"), hook_fn)],\n",
    "            return_type=\"logits\",\n",
    "        )\n",
    "        patched_logit_diff = logits_to_ave_logit_diff(patched_logits, answer_tokens)\n",
    "\n",
    "        patched_head_z_diff[layer, head_index] = normalize_patched_logit_diff(\n",
    "            patched_logit_diff\n",
    "        )"
   ]
  },
  {
   "cell_type": "code",
   "execution_count": 86,
   "metadata": {},
   "outputs": [
    {
     "data": {
      "application/vnd.plotly.v1+json": {
       "config": {
        "plotlyServerURL": "https://plot.ly"
       },
       "data": [
        {
         "coloraxis": "coloraxis",
         "hovertemplate": "Head: %{x}<br>Layer: %{y}<br>color: %{z}<extra></extra>",
         "name": "0",
         "type": "heatmap",
         "xaxis": "x",
         "yaxis": "y",
         "z": [
          [
           -0.15481868386268616,
           1.2174922227859497,
           -0.27252811193466187,
           -0.3936408758163452,
           0.0841483622789383,
           0.03040369413793087,
           -0.050181079655885696,
           -0.083766408264637,
           -0.050122275948524475,
           -0.07914568483829498,
           0.3878341019153595,
           0.053085148334503174
          ],
          [
           0.02642199769616127,
           0.04544787481427193,
           0.020032832399010658,
           0.17518411576747894,
           0.05647933855652809,
           0.13204741477966309,
           -0.006211402826011181,
           -0.0024220345076173544,
           -0.04559407755732536,
           0.03682684525847435,
           0.092220738530159,
           -0.09770787507295609
          ],
          [
           -0.05405568704009056,
           0.00015429376799147576,
           -0.04390682652592659,
           -0.11206448078155518,
           0.024634672328829765,
           0.009781469590961933,
           0.054840102791786194,
           0.0228926632553339,
           -0.013254967518150806,
           0.0074881031177937984,
           0.0428011454641819,
           -0.0456027090549469
          ],
          [
           0.17011049389839172,
           0.05550394579768181,
           0.03510803356766701,
           0.030876286327838898,
           0.2512490451335907,
           0.07353176921606064,
           -0.04935026541352272,
           0.018147319555282593,
           -0.02424462139606476,
           -0.03377199172973633,
           -0.14292646944522858,
           0.021584402769804
          ],
          [
           0.0253834817558527,
           0.09226605296134949,
           -0.06148633360862732,
           -0.3431533873081207,
           0.2888813614845276,
           -0.028417836874723434,
           0.1920795440673828,
           -0.1077418252825737,
           -0.003842238336801529,
           0.08700495958328247,
           0.025141790509223938,
           0.1920938491821289
          ],
          [
           -0.07221568375825882,
           -0.1557358205318451,
           -0.09202975779771805,
           0.05605665221810341,
           0.03426211699843407,
           0.8269115090370178,
           -0.19729425013065338,
           -0.048204123973846436,
           0.11551261693239212,
           0.28115370869636536,
           0.10994590818881989,
           0.07101505249738693
          ],
          [
           -0.3996634781360626,
           0.22543776035308838,
           -0.04388497769832611,
           -0.10075139999389648,
           0.0031905360519886017,
           0.09239283204078674,
           0.12506157159805298,
           -0.02644195966422558,
           0.0079515241086483,
           -0.02471829205751419,
           0.0942772626876831,
           -0.10097825527191162
          ],
          [
           -0.008342113345861435,
           0.12399554252624512,
           -0.06212616711854935,
           -0.32575350999832153,
           -0.04653710126876831,
           0.10619295388460159,
           -0.03399749845266342,
           -0.0008650700910948217,
           -0.06121092662215233,
           -1.1330212354660034,
           -0.00048634904669597745,
           -0.07891181856393814
          ],
          [
           0.03248288482427597,
           0.01148274727165699,
           0.11451132595539093,
           0.25015658140182495,
           0.04060731455683708,
           -0.16719239950180054,
           0.43291160464286804,
           -0.07716900110244751,
           0.0006241883966140449,
           0.017110422253608704,
           -1.480268955230713,
           0.2073923945426941
          ],
          [
           0.1264844685792923,
           -0.1555008739233017,
           0.148687943816185,
           -0.07448019087314606,
           0.5228748321533203,
           -0.18441961705684662,
           0.05138036236166954,
           -0.7684120535850525,
           0.3010147213935852,
           -0.8018290996551514,
           -0.007426061667501926,
           -0.12456955760717392
          ],
          [
           -0.5591994524002075,
           0.07297663390636444,
           0.678852915763855,
           0.1427573412656784,
           -0.03046249784529209,
           0.004114679992198944,
           0.3474900424480438,
           -0.06830789893865585,
           0.03003980964422226,
           0.03334498777985573,
           0.4808095693588257,
           0.19705148041248322
          ],
          [
           -0.08624158054590225,
           1.0185325145721436,
           1.2773646116256714,
           0.29820993542671204,
           -0.008889155462384224,
           0.1498030573129654,
           0.35285067558288574,
           -0.10216809809207916,
           0.011355157941579819,
           0.011611144989728928,
           0.8173547387123108,
           0.08645576238632202
          ]
         ]
        }
       ],
       "layout": {
        "coloraxis": {
         "cmid": 0,
         "colorscale": [
          [
           0,
           "rgb(103,0,31)"
          ],
          [
           0.1,
           "rgb(178,24,43)"
          ],
          [
           0.2,
           "rgb(214,96,77)"
          ],
          [
           0.3,
           "rgb(244,165,130)"
          ],
          [
           0.4,
           "rgb(253,219,199)"
          ],
          [
           0.5,
           "rgb(247,247,247)"
          ],
          [
           0.6,
           "rgb(209,229,240)"
          ],
          [
           0.7,
           "rgb(146,197,222)"
          ],
          [
           0.8,
           "rgb(67,147,195)"
          ],
          [
           0.9,
           "rgb(33,102,172)"
          ],
          [
           1,
           "rgb(5,48,97)"
          ]
         ]
        },
        "template": {
         "data": {
          "bar": [
           {
            "error_x": {
             "color": "#2a3f5f"
            },
            "error_y": {
             "color": "#2a3f5f"
            },
            "marker": {
             "line": {
              "color": "#E5ECF6",
              "width": 0.5
             },
             "pattern": {
              "fillmode": "overlay",
              "size": 10,
              "solidity": 0.2
             }
            },
            "type": "bar"
           }
          ],
          "barpolar": [
           {
            "marker": {
             "line": {
              "color": "#E5ECF6",
              "width": 0.5
             },
             "pattern": {
              "fillmode": "overlay",
              "size": 10,
              "solidity": 0.2
             }
            },
            "type": "barpolar"
           }
          ],
          "carpet": [
           {
            "aaxis": {
             "endlinecolor": "#2a3f5f",
             "gridcolor": "white",
             "linecolor": "white",
             "minorgridcolor": "white",
             "startlinecolor": "#2a3f5f"
            },
            "baxis": {
             "endlinecolor": "#2a3f5f",
             "gridcolor": "white",
             "linecolor": "white",
             "minorgridcolor": "white",
             "startlinecolor": "#2a3f5f"
            },
            "type": "carpet"
           }
          ],
          "choropleth": [
           {
            "colorbar": {
             "outlinewidth": 0,
             "ticks": ""
            },
            "type": "choropleth"
           }
          ],
          "contour": [
           {
            "colorbar": {
             "outlinewidth": 0,
             "ticks": ""
            },
            "colorscale": [
             [
              0,
              "#0d0887"
             ],
             [
              0.1111111111111111,
              "#46039f"
             ],
             [
              0.2222222222222222,
              "#7201a8"
             ],
             [
              0.3333333333333333,
              "#9c179e"
             ],
             [
              0.4444444444444444,
              "#bd3786"
             ],
             [
              0.5555555555555556,
              "#d8576b"
             ],
             [
              0.6666666666666666,
              "#ed7953"
             ],
             [
              0.7777777777777778,
              "#fb9f3a"
             ],
             [
              0.8888888888888888,
              "#fdca26"
             ],
             [
              1,
              "#f0f921"
             ]
            ],
            "type": "contour"
           }
          ],
          "contourcarpet": [
           {
            "colorbar": {
             "outlinewidth": 0,
             "ticks": ""
            },
            "type": "contourcarpet"
           }
          ],
          "heatmap": [
           {
            "colorbar": {
             "outlinewidth": 0,
             "ticks": ""
            },
            "colorscale": [
             [
              0,
              "#0d0887"
             ],
             [
              0.1111111111111111,
              "#46039f"
             ],
             [
              0.2222222222222222,
              "#7201a8"
             ],
             [
              0.3333333333333333,
              "#9c179e"
             ],
             [
              0.4444444444444444,
              "#bd3786"
             ],
             [
              0.5555555555555556,
              "#d8576b"
             ],
             [
              0.6666666666666666,
              "#ed7953"
             ],
             [
              0.7777777777777778,
              "#fb9f3a"
             ],
             [
              0.8888888888888888,
              "#fdca26"
             ],
             [
              1,
              "#f0f921"
             ]
            ],
            "type": "heatmap"
           }
          ],
          "heatmapgl": [
           {
            "colorbar": {
             "outlinewidth": 0,
             "ticks": ""
            },
            "colorscale": [
             [
              0,
              "#0d0887"
             ],
             [
              0.1111111111111111,
              "#46039f"
             ],
             [
              0.2222222222222222,
              "#7201a8"
             ],
             [
              0.3333333333333333,
              "#9c179e"
             ],
             [
              0.4444444444444444,
              "#bd3786"
             ],
             [
              0.5555555555555556,
              "#d8576b"
             ],
             [
              0.6666666666666666,
              "#ed7953"
             ],
             [
              0.7777777777777778,
              "#fb9f3a"
             ],
             [
              0.8888888888888888,
              "#fdca26"
             ],
             [
              1,
              "#f0f921"
             ]
            ],
            "type": "heatmapgl"
           }
          ],
          "histogram": [
           {
            "marker": {
             "pattern": {
              "fillmode": "overlay",
              "size": 10,
              "solidity": 0.2
             }
            },
            "type": "histogram"
           }
          ],
          "histogram2d": [
           {
            "colorbar": {
             "outlinewidth": 0,
             "ticks": ""
            },
            "colorscale": [
             [
              0,
              "#0d0887"
             ],
             [
              0.1111111111111111,
              "#46039f"
             ],
             [
              0.2222222222222222,
              "#7201a8"
             ],
             [
              0.3333333333333333,
              "#9c179e"
             ],
             [
              0.4444444444444444,
              "#bd3786"
             ],
             [
              0.5555555555555556,
              "#d8576b"
             ],
             [
              0.6666666666666666,
              "#ed7953"
             ],
             [
              0.7777777777777778,
              "#fb9f3a"
             ],
             [
              0.8888888888888888,
              "#fdca26"
             ],
             [
              1,
              "#f0f921"
             ]
            ],
            "type": "histogram2d"
           }
          ],
          "histogram2dcontour": [
           {
            "colorbar": {
             "outlinewidth": 0,
             "ticks": ""
            },
            "colorscale": [
             [
              0,
              "#0d0887"
             ],
             [
              0.1111111111111111,
              "#46039f"
             ],
             [
              0.2222222222222222,
              "#7201a8"
             ],
             [
              0.3333333333333333,
              "#9c179e"
             ],
             [
              0.4444444444444444,
              "#bd3786"
             ],
             [
              0.5555555555555556,
              "#d8576b"
             ],
             [
              0.6666666666666666,
              "#ed7953"
             ],
             [
              0.7777777777777778,
              "#fb9f3a"
             ],
             [
              0.8888888888888888,
              "#fdca26"
             ],
             [
              1,
              "#f0f921"
             ]
            ],
            "type": "histogram2dcontour"
           }
          ],
          "mesh3d": [
           {
            "colorbar": {
             "outlinewidth": 0,
             "ticks": ""
            },
            "type": "mesh3d"
           }
          ],
          "parcoords": [
           {
            "line": {
             "colorbar": {
              "outlinewidth": 0,
              "ticks": ""
             }
            },
            "type": "parcoords"
           }
          ],
          "pie": [
           {
            "automargin": true,
            "type": "pie"
           }
          ],
          "scatter": [
           {
            "fillpattern": {
             "fillmode": "overlay",
             "size": 10,
             "solidity": 0.2
            },
            "type": "scatter"
           }
          ],
          "scatter3d": [
           {
            "line": {
             "colorbar": {
              "outlinewidth": 0,
              "ticks": ""
             }
            },
            "marker": {
             "colorbar": {
              "outlinewidth": 0,
              "ticks": ""
             }
            },
            "type": "scatter3d"
           }
          ],
          "scattercarpet": [
           {
            "marker": {
             "colorbar": {
              "outlinewidth": 0,
              "ticks": ""
             }
            },
            "type": "scattercarpet"
           }
          ],
          "scattergeo": [
           {
            "marker": {
             "colorbar": {
              "outlinewidth": 0,
              "ticks": ""
             }
            },
            "type": "scattergeo"
           }
          ],
          "scattergl": [
           {
            "marker": {
             "colorbar": {
              "outlinewidth": 0,
              "ticks": ""
             }
            },
            "type": "scattergl"
           }
          ],
          "scattermapbox": [
           {
            "marker": {
             "colorbar": {
              "outlinewidth": 0,
              "ticks": ""
             }
            },
            "type": "scattermapbox"
           }
          ],
          "scatterpolar": [
           {
            "marker": {
             "colorbar": {
              "outlinewidth": 0,
              "ticks": ""
             }
            },
            "type": "scatterpolar"
           }
          ],
          "scatterpolargl": [
           {
            "marker": {
             "colorbar": {
              "outlinewidth": 0,
              "ticks": ""
             }
            },
            "type": "scatterpolargl"
           }
          ],
          "scatterternary": [
           {
            "marker": {
             "colorbar": {
              "outlinewidth": 0,
              "ticks": ""
             }
            },
            "type": "scatterternary"
           }
          ],
          "surface": [
           {
            "colorbar": {
             "outlinewidth": 0,
             "ticks": ""
            },
            "colorscale": [
             [
              0,
              "#0d0887"
             ],
             [
              0.1111111111111111,
              "#46039f"
             ],
             [
              0.2222222222222222,
              "#7201a8"
             ],
             [
              0.3333333333333333,
              "#9c179e"
             ],
             [
              0.4444444444444444,
              "#bd3786"
             ],
             [
              0.5555555555555556,
              "#d8576b"
             ],
             [
              0.6666666666666666,
              "#ed7953"
             ],
             [
              0.7777777777777778,
              "#fb9f3a"
             ],
             [
              0.8888888888888888,
              "#fdca26"
             ],
             [
              1,
              "#f0f921"
             ]
            ],
            "type": "surface"
           }
          ],
          "table": [
           {
            "cells": {
             "fill": {
              "color": "#EBF0F8"
             },
             "line": {
              "color": "white"
             }
            },
            "header": {
             "fill": {
              "color": "#C8D4E3"
             },
             "line": {
              "color": "white"
             }
            },
            "type": "table"
           }
          ]
         },
         "layout": {
          "annotationdefaults": {
           "arrowcolor": "#2a3f5f",
           "arrowhead": 0,
           "arrowwidth": 1
          },
          "autotypenumbers": "strict",
          "coloraxis": {
           "colorbar": {
            "outlinewidth": 0,
            "ticks": ""
           }
          },
          "colorscale": {
           "diverging": [
            [
             0,
             "#8e0152"
            ],
            [
             0.1,
             "#c51b7d"
            ],
            [
             0.2,
             "#de77ae"
            ],
            [
             0.3,
             "#f1b6da"
            ],
            [
             0.4,
             "#fde0ef"
            ],
            [
             0.5,
             "#f7f7f7"
            ],
            [
             0.6,
             "#e6f5d0"
            ],
            [
             0.7,
             "#b8e186"
            ],
            [
             0.8,
             "#7fbc41"
            ],
            [
             0.9,
             "#4d9221"
            ],
            [
             1,
             "#276419"
            ]
           ],
           "sequential": [
            [
             0,
             "#0d0887"
            ],
            [
             0.1111111111111111,
             "#46039f"
            ],
            [
             0.2222222222222222,
             "#7201a8"
            ],
            [
             0.3333333333333333,
             "#9c179e"
            ],
            [
             0.4444444444444444,
             "#bd3786"
            ],
            [
             0.5555555555555556,
             "#d8576b"
            ],
            [
             0.6666666666666666,
             "#ed7953"
            ],
            [
             0.7777777777777778,
             "#fb9f3a"
            ],
            [
             0.8888888888888888,
             "#fdca26"
            ],
            [
             1,
             "#f0f921"
            ]
           ],
           "sequentialminus": [
            [
             0,
             "#0d0887"
            ],
            [
             0.1111111111111111,
             "#46039f"
            ],
            [
             0.2222222222222222,
             "#7201a8"
            ],
            [
             0.3333333333333333,
             "#9c179e"
            ],
            [
             0.4444444444444444,
             "#bd3786"
            ],
            [
             0.5555555555555556,
             "#d8576b"
            ],
            [
             0.6666666666666666,
             "#ed7953"
            ],
            [
             0.7777777777777778,
             "#fb9f3a"
            ],
            [
             0.8888888888888888,
             "#fdca26"
            ],
            [
             1,
             "#f0f921"
            ]
           ]
          },
          "colorway": [
           "#636efa",
           "#EF553B",
           "#00cc96",
           "#ab63fa",
           "#FFA15A",
           "#19d3f3",
           "#FF6692",
           "#B6E880",
           "#FF97FF",
           "#FECB52"
          ],
          "font": {
           "color": "#2a3f5f"
          },
          "geo": {
           "bgcolor": "white",
           "lakecolor": "white",
           "landcolor": "#E5ECF6",
           "showlakes": true,
           "showland": true,
           "subunitcolor": "white"
          },
          "hoverlabel": {
           "align": "left"
          },
          "hovermode": "closest",
          "mapbox": {
           "style": "light"
          },
          "paper_bgcolor": "white",
          "plot_bgcolor": "#E5ECF6",
          "polar": {
           "angularaxis": {
            "gridcolor": "white",
            "linecolor": "white",
            "ticks": ""
           },
           "bgcolor": "#E5ECF6",
           "radialaxis": {
            "gridcolor": "white",
            "linecolor": "white",
            "ticks": ""
           }
          },
          "scene": {
           "xaxis": {
            "backgroundcolor": "#E5ECF6",
            "gridcolor": "white",
            "gridwidth": 2,
            "linecolor": "white",
            "showbackground": true,
            "ticks": "",
            "zerolinecolor": "white"
           },
           "yaxis": {
            "backgroundcolor": "#E5ECF6",
            "gridcolor": "white",
            "gridwidth": 2,
            "linecolor": "white",
            "showbackground": true,
            "ticks": "",
            "zerolinecolor": "white"
           },
           "zaxis": {
            "backgroundcolor": "#E5ECF6",
            "gridcolor": "white",
            "gridwidth": 2,
            "linecolor": "white",
            "showbackground": true,
            "ticks": "",
            "zerolinecolor": "white"
           }
          },
          "shapedefaults": {
           "line": {
            "color": "#2a3f5f"
           }
          },
          "ternary": {
           "aaxis": {
            "gridcolor": "white",
            "linecolor": "white",
            "ticks": ""
           },
           "baxis": {
            "gridcolor": "white",
            "linecolor": "white",
            "ticks": ""
           },
           "bgcolor": "#E5ECF6",
           "caxis": {
            "gridcolor": "white",
            "linecolor": "white",
            "ticks": ""
           }
          },
          "title": {
           "x": 0.05
          },
          "xaxis": {
           "automargin": true,
           "gridcolor": "white",
           "linecolor": "white",
           "ticks": "",
           "title": {
            "standoff": 15
           },
           "zerolinecolor": "white",
           "zerolinewidth": 2
          },
          "yaxis": {
           "automargin": true,
           "gridcolor": "white",
           "linecolor": "white",
           "ticks": "",
           "title": {
            "standoff": 15
           },
           "zerolinecolor": "white",
           "zerolinewidth": 2
          }
         }
        },
        "title": {
         "text": "Logit Difference From Patched Head Output"
        },
        "xaxis": {
         "anchor": "y",
         "constrain": "domain",
         "domain": [
          0,
          1
         ],
         "scaleanchor": "y",
         "title": {
          "text": "Head"
         }
        },
        "yaxis": {
         "anchor": "x",
         "autorange": "reversed",
         "constrain": "domain",
         "domain": [
          0,
          1
         ],
         "title": {
          "text": "Layer"
         }
        }
       }
      },
      "text/html": [
       "<div>                            <div id=\"3f5508bf-78a2-461e-891e-7b4bf5746426\" class=\"plotly-graph-div\" style=\"height:525px; width:100%;\"></div>            <script type=\"text/javascript\">                require([\"plotly\"], function(Plotly) {                    window.PLOTLYENV=window.PLOTLYENV || {};                                    if (document.getElementById(\"3f5508bf-78a2-461e-891e-7b4bf5746426\")) {                    Plotly.newPlot(                        \"3f5508bf-78a2-461e-891e-7b4bf5746426\",                        [{\"coloraxis\":\"coloraxis\",\"name\":\"0\",\"z\":[[-0.15481868386268616,1.2174922227859497,-0.27252811193466187,-0.3936408758163452,0.0841483622789383,0.03040369413793087,-0.050181079655885696,-0.083766408264637,-0.050122275948524475,-0.07914568483829498,0.3878341019153595,0.053085148334503174],[0.02642199769616127,0.04544787481427193,0.020032832399010658,0.17518411576747894,0.05647933855652809,0.13204741477966309,-0.006211402826011181,-0.0024220345076173544,-0.04559407755732536,0.03682684525847435,0.092220738530159,-0.09770787507295609],[-0.05405568704009056,0.00015429376799147576,-0.04390682652592659,-0.11206448078155518,0.024634672328829765,0.009781469590961933,0.054840102791786194,0.0228926632553339,-0.013254967518150806,0.0074881031177937984,0.0428011454641819,-0.0456027090549469],[0.17011049389839172,0.05550394579768181,0.03510803356766701,0.030876286327838898,0.2512490451335907,0.07353176921606064,-0.04935026541352272,0.018147319555282593,-0.02424462139606476,-0.03377199172973633,-0.14292646944522858,0.021584402769804],[0.0253834817558527,0.09226605296134949,-0.06148633360862732,-0.3431533873081207,0.2888813614845276,-0.028417836874723434,0.1920795440673828,-0.1077418252825737,-0.003842238336801529,0.08700495958328247,0.025141790509223938,0.1920938491821289],[-0.07221568375825882,-0.1557358205318451,-0.09202975779771805,0.05605665221810341,0.03426211699843407,0.8269115090370178,-0.19729425013065338,-0.048204123973846436,0.11551261693239212,0.28115370869636536,0.10994590818881989,0.07101505249738693],[-0.3996634781360626,0.22543776035308838,-0.04388497769832611,-0.10075139999389648,0.0031905360519886017,0.09239283204078674,0.12506157159805298,-0.02644195966422558,0.0079515241086483,-0.02471829205751419,0.0942772626876831,-0.10097825527191162],[-0.008342113345861435,0.12399554252624512,-0.06212616711854935,-0.32575350999832153,-0.04653710126876831,0.10619295388460159,-0.03399749845266342,-0.0008650700910948217,-0.06121092662215233,-1.1330212354660034,-0.00048634904669597745,-0.07891181856393814],[0.03248288482427597,0.01148274727165699,0.11451132595539093,0.25015658140182495,0.04060731455683708,-0.16719239950180054,0.43291160464286804,-0.07716900110244751,0.0006241883966140449,0.017110422253608704,-1.480268955230713,0.2073923945426941],[0.1264844685792923,-0.1555008739233017,0.148687943816185,-0.07448019087314606,0.5228748321533203,-0.18441961705684662,0.05138036236166954,-0.7684120535850525,0.3010147213935852,-0.8018290996551514,-0.007426061667501926,-0.12456955760717392],[-0.5591994524002075,0.07297663390636444,0.678852915763855,0.1427573412656784,-0.03046249784529209,0.004114679992198944,0.3474900424480438,-0.06830789893865585,0.03003980964422226,0.03334498777985573,0.4808095693588257,0.19705148041248322],[-0.08624158054590225,1.0185325145721436,1.2773646116256714,0.29820993542671204,-0.008889155462384224,0.1498030573129654,0.35285067558288574,-0.10216809809207916,0.011355157941579819,0.011611144989728928,0.8173547387123108,0.08645576238632202]],\"type\":\"heatmap\",\"xaxis\":\"x\",\"yaxis\":\"y\",\"hovertemplate\":\"Head: %{x}\\u003cbr\\u003eLayer: %{y}\\u003cbr\\u003ecolor: %{z}\\u003cextra\\u003e\\u003c\\u002fextra\\u003e\"}],                        {\"template\":{\"data\":{\"histogram2dcontour\":[{\"type\":\"histogram2dcontour\",\"colorbar\":{\"outlinewidth\":0,\"ticks\":\"\"},\"colorscale\":[[0.0,\"#0d0887\"],[0.1111111111111111,\"#46039f\"],[0.2222222222222222,\"#7201a8\"],[0.3333333333333333,\"#9c179e\"],[0.4444444444444444,\"#bd3786\"],[0.5555555555555556,\"#d8576b\"],[0.6666666666666666,\"#ed7953\"],[0.7777777777777778,\"#fb9f3a\"],[0.8888888888888888,\"#fdca26\"],[1.0,\"#f0f921\"]]}],\"choropleth\":[{\"type\":\"choropleth\",\"colorbar\":{\"outlinewidth\":0,\"ticks\":\"\"}}],\"histogram2d\":[{\"type\":\"histogram2d\",\"colorbar\":{\"outlinewidth\":0,\"ticks\":\"\"},\"colorscale\":[[0.0,\"#0d0887\"],[0.1111111111111111,\"#46039f\"],[0.2222222222222222,\"#7201a8\"],[0.3333333333333333,\"#9c179e\"],[0.4444444444444444,\"#bd3786\"],[0.5555555555555556,\"#d8576b\"],[0.6666666666666666,\"#ed7953\"],[0.7777777777777778,\"#fb9f3a\"],[0.8888888888888888,\"#fdca26\"],[1.0,\"#f0f921\"]]}],\"heatmap\":[{\"type\":\"heatmap\",\"colorbar\":{\"outlinewidth\":0,\"ticks\":\"\"},\"colorscale\":[[0.0,\"#0d0887\"],[0.1111111111111111,\"#46039f\"],[0.2222222222222222,\"#7201a8\"],[0.3333333333333333,\"#9c179e\"],[0.4444444444444444,\"#bd3786\"],[0.5555555555555556,\"#d8576b\"],[0.6666666666666666,\"#ed7953\"],[0.7777777777777778,\"#fb9f3a\"],[0.8888888888888888,\"#fdca26\"],[1.0,\"#f0f921\"]]}],\"heatmapgl\":[{\"type\":\"heatmapgl\",\"colorbar\":{\"outlinewidth\":0,\"ticks\":\"\"},\"colorscale\":[[0.0,\"#0d0887\"],[0.1111111111111111,\"#46039f\"],[0.2222222222222222,\"#7201a8\"],[0.3333333333333333,\"#9c179e\"],[0.4444444444444444,\"#bd3786\"],[0.5555555555555556,\"#d8576b\"],[0.6666666666666666,\"#ed7953\"],[0.7777777777777778,\"#fb9f3a\"],[0.8888888888888888,\"#fdca26\"],[1.0,\"#f0f921\"]]}],\"contourcarpet\":[{\"type\":\"contourcarpet\",\"colorbar\":{\"outlinewidth\":0,\"ticks\":\"\"}}],\"contour\":[{\"type\":\"contour\",\"colorbar\":{\"outlinewidth\":0,\"ticks\":\"\"},\"colorscale\":[[0.0,\"#0d0887\"],[0.1111111111111111,\"#46039f\"],[0.2222222222222222,\"#7201a8\"],[0.3333333333333333,\"#9c179e\"],[0.4444444444444444,\"#bd3786\"],[0.5555555555555556,\"#d8576b\"],[0.6666666666666666,\"#ed7953\"],[0.7777777777777778,\"#fb9f3a\"],[0.8888888888888888,\"#fdca26\"],[1.0,\"#f0f921\"]]}],\"surface\":[{\"type\":\"surface\",\"colorbar\":{\"outlinewidth\":0,\"ticks\":\"\"},\"colorscale\":[[0.0,\"#0d0887\"],[0.1111111111111111,\"#46039f\"],[0.2222222222222222,\"#7201a8\"],[0.3333333333333333,\"#9c179e\"],[0.4444444444444444,\"#bd3786\"],[0.5555555555555556,\"#d8576b\"],[0.6666666666666666,\"#ed7953\"],[0.7777777777777778,\"#fb9f3a\"],[0.8888888888888888,\"#fdca26\"],[1.0,\"#f0f921\"]]}],\"mesh3d\":[{\"type\":\"mesh3d\",\"colorbar\":{\"outlinewidth\":0,\"ticks\":\"\"}}],\"scatter\":[{\"fillpattern\":{\"fillmode\":\"overlay\",\"size\":10,\"solidity\":0.2},\"type\":\"scatter\"}],\"parcoords\":[{\"type\":\"parcoords\",\"line\":{\"colorbar\":{\"outlinewidth\":0,\"ticks\":\"\"}}}],\"scatterpolargl\":[{\"type\":\"scatterpolargl\",\"marker\":{\"colorbar\":{\"outlinewidth\":0,\"ticks\":\"\"}}}],\"bar\":[{\"error_x\":{\"color\":\"#2a3f5f\"},\"error_y\":{\"color\":\"#2a3f5f\"},\"marker\":{\"line\":{\"color\":\"#E5ECF6\",\"width\":0.5},\"pattern\":{\"fillmode\":\"overlay\",\"size\":10,\"solidity\":0.2}},\"type\":\"bar\"}],\"scattergeo\":[{\"type\":\"scattergeo\",\"marker\":{\"colorbar\":{\"outlinewidth\":0,\"ticks\":\"\"}}}],\"scatterpolar\":[{\"type\":\"scatterpolar\",\"marker\":{\"colorbar\":{\"outlinewidth\":0,\"ticks\":\"\"}}}],\"histogram\":[{\"marker\":{\"pattern\":{\"fillmode\":\"overlay\",\"size\":10,\"solidity\":0.2}},\"type\":\"histogram\"}],\"scattergl\":[{\"type\":\"scattergl\",\"marker\":{\"colorbar\":{\"outlinewidth\":0,\"ticks\":\"\"}}}],\"scatter3d\":[{\"type\":\"scatter3d\",\"line\":{\"colorbar\":{\"outlinewidth\":0,\"ticks\":\"\"}},\"marker\":{\"colorbar\":{\"outlinewidth\":0,\"ticks\":\"\"}}}],\"scattermapbox\":[{\"type\":\"scattermapbox\",\"marker\":{\"colorbar\":{\"outlinewidth\":0,\"ticks\":\"\"}}}],\"scatterternary\":[{\"type\":\"scatterternary\",\"marker\":{\"colorbar\":{\"outlinewidth\":0,\"ticks\":\"\"}}}],\"scattercarpet\":[{\"type\":\"scattercarpet\",\"marker\":{\"colorbar\":{\"outlinewidth\":0,\"ticks\":\"\"}}}],\"carpet\":[{\"aaxis\":{\"endlinecolor\":\"#2a3f5f\",\"gridcolor\":\"white\",\"linecolor\":\"white\",\"minorgridcolor\":\"white\",\"startlinecolor\":\"#2a3f5f\"},\"baxis\":{\"endlinecolor\":\"#2a3f5f\",\"gridcolor\":\"white\",\"linecolor\":\"white\",\"minorgridcolor\":\"white\",\"startlinecolor\":\"#2a3f5f\"},\"type\":\"carpet\"}],\"table\":[{\"cells\":{\"fill\":{\"color\":\"#EBF0F8\"},\"line\":{\"color\":\"white\"}},\"header\":{\"fill\":{\"color\":\"#C8D4E3\"},\"line\":{\"color\":\"white\"}},\"type\":\"table\"}],\"barpolar\":[{\"marker\":{\"line\":{\"color\":\"#E5ECF6\",\"width\":0.5},\"pattern\":{\"fillmode\":\"overlay\",\"size\":10,\"solidity\":0.2}},\"type\":\"barpolar\"}],\"pie\":[{\"automargin\":true,\"type\":\"pie\"}]},\"layout\":{\"autotypenumbers\":\"strict\",\"colorway\":[\"#636efa\",\"#EF553B\",\"#00cc96\",\"#ab63fa\",\"#FFA15A\",\"#19d3f3\",\"#FF6692\",\"#B6E880\",\"#FF97FF\",\"#FECB52\"],\"font\":{\"color\":\"#2a3f5f\"},\"hovermode\":\"closest\",\"hoverlabel\":{\"align\":\"left\"},\"paper_bgcolor\":\"white\",\"plot_bgcolor\":\"#E5ECF6\",\"polar\":{\"bgcolor\":\"#E5ECF6\",\"angularaxis\":{\"gridcolor\":\"white\",\"linecolor\":\"white\",\"ticks\":\"\"},\"radialaxis\":{\"gridcolor\":\"white\",\"linecolor\":\"white\",\"ticks\":\"\"}},\"ternary\":{\"bgcolor\":\"#E5ECF6\",\"aaxis\":{\"gridcolor\":\"white\",\"linecolor\":\"white\",\"ticks\":\"\"},\"baxis\":{\"gridcolor\":\"white\",\"linecolor\":\"white\",\"ticks\":\"\"},\"caxis\":{\"gridcolor\":\"white\",\"linecolor\":\"white\",\"ticks\":\"\"}},\"coloraxis\":{\"colorbar\":{\"outlinewidth\":0,\"ticks\":\"\"}},\"colorscale\":{\"sequential\":[[0.0,\"#0d0887\"],[0.1111111111111111,\"#46039f\"],[0.2222222222222222,\"#7201a8\"],[0.3333333333333333,\"#9c179e\"],[0.4444444444444444,\"#bd3786\"],[0.5555555555555556,\"#d8576b\"],[0.6666666666666666,\"#ed7953\"],[0.7777777777777778,\"#fb9f3a\"],[0.8888888888888888,\"#fdca26\"],[1.0,\"#f0f921\"]],\"sequentialminus\":[[0.0,\"#0d0887\"],[0.1111111111111111,\"#46039f\"],[0.2222222222222222,\"#7201a8\"],[0.3333333333333333,\"#9c179e\"],[0.4444444444444444,\"#bd3786\"],[0.5555555555555556,\"#d8576b\"],[0.6666666666666666,\"#ed7953\"],[0.7777777777777778,\"#fb9f3a\"],[0.8888888888888888,\"#fdca26\"],[1.0,\"#f0f921\"]],\"diverging\":[[0,\"#8e0152\"],[0.1,\"#c51b7d\"],[0.2,\"#de77ae\"],[0.3,\"#f1b6da\"],[0.4,\"#fde0ef\"],[0.5,\"#f7f7f7\"],[0.6,\"#e6f5d0\"],[0.7,\"#b8e186\"],[0.8,\"#7fbc41\"],[0.9,\"#4d9221\"],[1,\"#276419\"]]},\"xaxis\":{\"gridcolor\":\"white\",\"linecolor\":\"white\",\"ticks\":\"\",\"title\":{\"standoff\":15},\"zerolinecolor\":\"white\",\"automargin\":true,\"zerolinewidth\":2},\"yaxis\":{\"gridcolor\":\"white\",\"linecolor\":\"white\",\"ticks\":\"\",\"title\":{\"standoff\":15},\"zerolinecolor\":\"white\",\"automargin\":true,\"zerolinewidth\":2},\"scene\":{\"xaxis\":{\"backgroundcolor\":\"#E5ECF6\",\"gridcolor\":\"white\",\"linecolor\":\"white\",\"showbackground\":true,\"ticks\":\"\",\"zerolinecolor\":\"white\",\"gridwidth\":2},\"yaxis\":{\"backgroundcolor\":\"#E5ECF6\",\"gridcolor\":\"white\",\"linecolor\":\"white\",\"showbackground\":true,\"ticks\":\"\",\"zerolinecolor\":\"white\",\"gridwidth\":2},\"zaxis\":{\"backgroundcolor\":\"#E5ECF6\",\"gridcolor\":\"white\",\"linecolor\":\"white\",\"showbackground\":true,\"ticks\":\"\",\"zerolinecolor\":\"white\",\"gridwidth\":2}},\"shapedefaults\":{\"line\":{\"color\":\"#2a3f5f\"}},\"annotationdefaults\":{\"arrowcolor\":\"#2a3f5f\",\"arrowhead\":0,\"arrowwidth\":1},\"geo\":{\"bgcolor\":\"white\",\"landcolor\":\"#E5ECF6\",\"subunitcolor\":\"white\",\"showland\":true,\"showlakes\":true,\"lakecolor\":\"white\"},\"title\":{\"x\":0.05},\"mapbox\":{\"style\":\"light\"}}},\"xaxis\":{\"anchor\":\"y\",\"domain\":[0.0,1.0],\"scaleanchor\":\"y\",\"constrain\":\"domain\",\"title\":{\"text\":\"Head\"}},\"yaxis\":{\"anchor\":\"x\",\"domain\":[0.0,1.0],\"autorange\":\"reversed\",\"constrain\":\"domain\",\"title\":{\"text\":\"Layer\"}},\"coloraxis\":{\"colorscale\":[[0.0,\"rgb(103,0,31)\"],[0.1,\"rgb(178,24,43)\"],[0.2,\"rgb(214,96,77)\"],[0.3,\"rgb(244,165,130)\"],[0.4,\"rgb(253,219,199)\"],[0.5,\"rgb(247,247,247)\"],[0.6,\"rgb(209,229,240)\"],[0.7,\"rgb(146,197,222)\"],[0.8,\"rgb(67,147,195)\"],[0.9,\"rgb(33,102,172)\"],[1.0,\"rgb(5,48,97)\"]],\"cmid\":0.0},\"title\":{\"text\":\"Logit Difference From Patched Head Output\"}},                        {\"responsive\": true}                    ).then(function(){\n",
       "                            \n",
       "var gd = document.getElementById('3f5508bf-78a2-461e-891e-7b4bf5746426');\n",
       "var x = new MutationObserver(function (mutations, observer) {{\n",
       "        var display = window.getComputedStyle(gd).display;\n",
       "        if (!display || display === 'none') {{\n",
       "            console.log([gd, 'removed!']);\n",
       "            Plotly.purge(gd);\n",
       "            observer.disconnect();\n",
       "        }}\n",
       "}});\n",
       "\n",
       "// Listen for the removal of the full notebook cells\n",
       "var notebookContainer = gd.closest('#notebook-container');\n",
       "if (notebookContainer) {{\n",
       "    x.observe(notebookContainer, {childList: true});\n",
       "}}\n",
       "\n",
       "// Listen for the clearing of the current output cell\n",
       "var outputEl = gd.closest('.output');\n",
       "if (outputEl) {{\n",
       "    x.observe(outputEl, {childList: true});\n",
       "}}\n",
       "\n",
       "                        })                };                });            </script>        </div>"
      ]
     },
     "metadata": {},
     "output_type": "display_data"
    }
   ],
   "source": [
    "imshow(\n",
    "    patched_head_z_diff,\n",
    "    title=\"Logit Difference From Patched Head Output\",\n",
    "    labels={\"x\": \"Head\", \"y\": \"Layer\"},\n",
    ")"
   ]
  },
  {
   "cell_type": "code",
   "execution_count": 87,
   "metadata": {},
   "outputs": [],
   "source": [
    "patched_head_v_diff = torch.zeros(\n",
    "    model.cfg.n_layers, model.cfg.n_heads, device=device, dtype=torch.float32\n",
    ")\n",
    "for layer in range(model.cfg.n_layers):\n",
    "    for head_index in range(model.cfg.n_heads):\n",
    "        hook_fn = partial(patch_head_vector, head_index=head_index, clean_cache=cache)\n",
    "        patched_logits = model.run_with_hooks(\n",
    "            corrupted_tokens,\n",
    "            fwd_hooks=[(utils.get_act_name(\"v\", layer, \"attn\"), hook_fn)],\n",
    "            return_type=\"logits\",\n",
    "        )\n",
    "        patched_logit_diff = logits_to_ave_logit_diff(patched_logits, answer_tokens)\n",
    "\n",
    "        patched_head_v_diff[layer, head_index] = normalize_patched_logit_diff(\n",
    "            patched_logit_diff\n",
    "        )"
   ]
  },
  {
   "cell_type": "code",
   "execution_count": 88,
   "metadata": {},
   "outputs": [
    {
     "data": {
      "application/vnd.plotly.v1+json": {
       "config": {
        "plotlyServerURL": "https://plot.ly"
       },
       "data": [
        {
         "coloraxis": "coloraxis",
         "hovertemplate": "Head: %{x}<br>Layer: %{y}<br>color: %{z}<extra></extra>",
         "name": "0",
         "type": "heatmap",
         "xaxis": "x",
         "yaxis": "y",
         "z": [
          [
           -0.1326376050710678,
           0.5292702317237854,
           -0.09317293018102646,
           -0.4056520462036133,
           0.0025733609218150377,
           0.08301921933889389,
           -0.003139554290100932,
           -0.047867752611637115,
           0.0008081540581770241,
           -0.09924434125423431,
           0.26379379630088806,
           0.0862356498837471
          ],
          [
           -0.0033448298927396536,
           0.05768132209777832,
           0.031272269785404205,
           -0.015363559126853943,
           0.029193351045250893,
           0.03882160410284996,
           -0.008151673711836338,
           0.0039406949654221535,
           -0.017665017396211624,
           0.04370208829641342,
           0.09111478179693222,
           0.06860408186912537
          ],
          [
           0.03300106152892113,
           -0.07785442471504211,
           -0.023680316284298897,
           -0.09798301011323929,
           -0.014678947627544403,
           0.01999129354953766,
           0.0658610463142395,
           -0.009616386145353317,
           0.10300403833389282,
           -0.03063810244202614,
           0.12658292055130005,
           0.013805515132844448
          ],
          [
           0.3688041865825653,
           -0.03012450784444809,
           0.0007631067419424653,
           -0.0028511977288872004,
           0.20403516292572021,
           0.1336933821439743,
           0.012852778658270836,
           -0.07372382283210754,
           -0.05808243155479431,
           0.03254411369562149,
           -0.1321871429681778,
           -0.00958536472171545
          ],
          [
           0.026741644367575645,
           0.11633587628602982,
           0.031604595482349396,
           -0.258133202791214,
           0.21474508941173553,
           0.011803203262388706,
           0.08659278601408005,
           -0.11117890477180481,
           0.020851507782936096,
           0.08540429919958115,
           0.056100890040397644,
           0.1511647254228592
          ],
          [
           0.11299752444028854,
           -0.021355658769607544,
           -0.07417052239179611,
           0.010369242168962955,
           -0.013395234011113644,
           0.1368674635887146,
           -0.15664134919643402,
           -0.028743956238031387,
           0.01616469956934452,
           0.28494498133659363,
           0.022293830290436745,
           0.08294233679771423
          ],
          [
           -0.4292614459991455,
           0.01743357628583908,
           -0.027734573930501938,
           -0.045902665704488754,
           0.06082357093691826,
           0.09159357845783234,
           -0.032186705619096756,
           -0.04119157791137695,
           -0.08111482113599777,
           0.07713744044303894,
           0.05316256359219551,
           -0.11202212423086166
          ],
          [
           0.009020251221954823,
           0.06321188807487488,
           0.044067054986953735,
           -0.5603793263435364,
           -0.07050874084234238,
           0.11926152557134628,
           -0.09984640777111053,
           0.027927441522479057,
           -0.0508001409471035,
           -0.9714481234550476,
           -0.013107147067785263,
           -0.05012928694486618
          ],
          [
           0.009513343684375286,
           0.01957399770617485,
           0.1302179992198944,
           0.36167484521865845,
           0.056692708283662796,
           -0.25852134823799133,
           0.24607966840267181,
           -0.06481902301311493,
           0.04919624328613281,
           -0.04103674739599228,
           -1.6015466451644897,
           0.19872955977916718
          ],
          [
           -0.03884534165263176,
           -0.08046095818281174,
           0.21233680844306946,
           -0.05355369299650192,
           0.5543615818023682,
           -0.1570761799812317,
           0.04664662107825279,
           -0.6669188737869263,
           0.14586074650287628,
           0.8196799755096436,
           0.005167762283235788,
           0.004576212726533413
          ],
          [
           0.5419260859489441,
           -0.20330145955085754,
           0.6565032601356506,
           0.18669356405735016,
           0.01567268557846546,
           0.002975280163809657,
           0.5485909581184387,
           -1.3225867748260498,
           -0.014415946789085865,
           0.06558401882648468,
           0.9382196664810181,
           0.1108066588640213
          ],
          [
           -0.1269897073507309,
           0.5572739839553833,
           1.301512360572815,
           0.17530712485313416,
           -0.03517870977520943,
           -0.06827633827924728,
           0.3738904595375061,
           -0.08643337339162827,
           0.03275046870112419,
           0.09495756030082703,
           -0.9490431547164917,
           0.055992722511291504
          ]
         ]
        }
       ],
       "layout": {
        "coloraxis": {
         "cmid": 0,
         "colorscale": [
          [
           0,
           "rgb(103,0,31)"
          ],
          [
           0.1,
           "rgb(178,24,43)"
          ],
          [
           0.2,
           "rgb(214,96,77)"
          ],
          [
           0.3,
           "rgb(244,165,130)"
          ],
          [
           0.4,
           "rgb(253,219,199)"
          ],
          [
           0.5,
           "rgb(247,247,247)"
          ],
          [
           0.6,
           "rgb(209,229,240)"
          ],
          [
           0.7,
           "rgb(146,197,222)"
          ],
          [
           0.8,
           "rgb(67,147,195)"
          ],
          [
           0.9,
           "rgb(33,102,172)"
          ],
          [
           1,
           "rgb(5,48,97)"
          ]
         ]
        },
        "template": {
         "data": {
          "bar": [
           {
            "error_x": {
             "color": "#2a3f5f"
            },
            "error_y": {
             "color": "#2a3f5f"
            },
            "marker": {
             "line": {
              "color": "#E5ECF6",
              "width": 0.5
             },
             "pattern": {
              "fillmode": "overlay",
              "size": 10,
              "solidity": 0.2
             }
            },
            "type": "bar"
           }
          ],
          "barpolar": [
           {
            "marker": {
             "line": {
              "color": "#E5ECF6",
              "width": 0.5
             },
             "pattern": {
              "fillmode": "overlay",
              "size": 10,
              "solidity": 0.2
             }
            },
            "type": "barpolar"
           }
          ],
          "carpet": [
           {
            "aaxis": {
             "endlinecolor": "#2a3f5f",
             "gridcolor": "white",
             "linecolor": "white",
             "minorgridcolor": "white",
             "startlinecolor": "#2a3f5f"
            },
            "baxis": {
             "endlinecolor": "#2a3f5f",
             "gridcolor": "white",
             "linecolor": "white",
             "minorgridcolor": "white",
             "startlinecolor": "#2a3f5f"
            },
            "type": "carpet"
           }
          ],
          "choropleth": [
           {
            "colorbar": {
             "outlinewidth": 0,
             "ticks": ""
            },
            "type": "choropleth"
           }
          ],
          "contour": [
           {
            "colorbar": {
             "outlinewidth": 0,
             "ticks": ""
            },
            "colorscale": [
             [
              0,
              "#0d0887"
             ],
             [
              0.1111111111111111,
              "#46039f"
             ],
             [
              0.2222222222222222,
              "#7201a8"
             ],
             [
              0.3333333333333333,
              "#9c179e"
             ],
             [
              0.4444444444444444,
              "#bd3786"
             ],
             [
              0.5555555555555556,
              "#d8576b"
             ],
             [
              0.6666666666666666,
              "#ed7953"
             ],
             [
              0.7777777777777778,
              "#fb9f3a"
             ],
             [
              0.8888888888888888,
              "#fdca26"
             ],
             [
              1,
              "#f0f921"
             ]
            ],
            "type": "contour"
           }
          ],
          "contourcarpet": [
           {
            "colorbar": {
             "outlinewidth": 0,
             "ticks": ""
            },
            "type": "contourcarpet"
           }
          ],
          "heatmap": [
           {
            "colorbar": {
             "outlinewidth": 0,
             "ticks": ""
            },
            "colorscale": [
             [
              0,
              "#0d0887"
             ],
             [
              0.1111111111111111,
              "#46039f"
             ],
             [
              0.2222222222222222,
              "#7201a8"
             ],
             [
              0.3333333333333333,
              "#9c179e"
             ],
             [
              0.4444444444444444,
              "#bd3786"
             ],
             [
              0.5555555555555556,
              "#d8576b"
             ],
             [
              0.6666666666666666,
              "#ed7953"
             ],
             [
              0.7777777777777778,
              "#fb9f3a"
             ],
             [
              0.8888888888888888,
              "#fdca26"
             ],
             [
              1,
              "#f0f921"
             ]
            ],
            "type": "heatmap"
           }
          ],
          "heatmapgl": [
           {
            "colorbar": {
             "outlinewidth": 0,
             "ticks": ""
            },
            "colorscale": [
             [
              0,
              "#0d0887"
             ],
             [
              0.1111111111111111,
              "#46039f"
             ],
             [
              0.2222222222222222,
              "#7201a8"
             ],
             [
              0.3333333333333333,
              "#9c179e"
             ],
             [
              0.4444444444444444,
              "#bd3786"
             ],
             [
              0.5555555555555556,
              "#d8576b"
             ],
             [
              0.6666666666666666,
              "#ed7953"
             ],
             [
              0.7777777777777778,
              "#fb9f3a"
             ],
             [
              0.8888888888888888,
              "#fdca26"
             ],
             [
              1,
              "#f0f921"
             ]
            ],
            "type": "heatmapgl"
           }
          ],
          "histogram": [
           {
            "marker": {
             "pattern": {
              "fillmode": "overlay",
              "size": 10,
              "solidity": 0.2
             }
            },
            "type": "histogram"
           }
          ],
          "histogram2d": [
           {
            "colorbar": {
             "outlinewidth": 0,
             "ticks": ""
            },
            "colorscale": [
             [
              0,
              "#0d0887"
             ],
             [
              0.1111111111111111,
              "#46039f"
             ],
             [
              0.2222222222222222,
              "#7201a8"
             ],
             [
              0.3333333333333333,
              "#9c179e"
             ],
             [
              0.4444444444444444,
              "#bd3786"
             ],
             [
              0.5555555555555556,
              "#d8576b"
             ],
             [
              0.6666666666666666,
              "#ed7953"
             ],
             [
              0.7777777777777778,
              "#fb9f3a"
             ],
             [
              0.8888888888888888,
              "#fdca26"
             ],
             [
              1,
              "#f0f921"
             ]
            ],
            "type": "histogram2d"
           }
          ],
          "histogram2dcontour": [
           {
            "colorbar": {
             "outlinewidth": 0,
             "ticks": ""
            },
            "colorscale": [
             [
              0,
              "#0d0887"
             ],
             [
              0.1111111111111111,
              "#46039f"
             ],
             [
              0.2222222222222222,
              "#7201a8"
             ],
             [
              0.3333333333333333,
              "#9c179e"
             ],
             [
              0.4444444444444444,
              "#bd3786"
             ],
             [
              0.5555555555555556,
              "#d8576b"
             ],
             [
              0.6666666666666666,
              "#ed7953"
             ],
             [
              0.7777777777777778,
              "#fb9f3a"
             ],
             [
              0.8888888888888888,
              "#fdca26"
             ],
             [
              1,
              "#f0f921"
             ]
            ],
            "type": "histogram2dcontour"
           }
          ],
          "mesh3d": [
           {
            "colorbar": {
             "outlinewidth": 0,
             "ticks": ""
            },
            "type": "mesh3d"
           }
          ],
          "parcoords": [
           {
            "line": {
             "colorbar": {
              "outlinewidth": 0,
              "ticks": ""
             }
            },
            "type": "parcoords"
           }
          ],
          "pie": [
           {
            "automargin": true,
            "type": "pie"
           }
          ],
          "scatter": [
           {
            "fillpattern": {
             "fillmode": "overlay",
             "size": 10,
             "solidity": 0.2
            },
            "type": "scatter"
           }
          ],
          "scatter3d": [
           {
            "line": {
             "colorbar": {
              "outlinewidth": 0,
              "ticks": ""
             }
            },
            "marker": {
             "colorbar": {
              "outlinewidth": 0,
              "ticks": ""
             }
            },
            "type": "scatter3d"
           }
          ],
          "scattercarpet": [
           {
            "marker": {
             "colorbar": {
              "outlinewidth": 0,
              "ticks": ""
             }
            },
            "type": "scattercarpet"
           }
          ],
          "scattergeo": [
           {
            "marker": {
             "colorbar": {
              "outlinewidth": 0,
              "ticks": ""
             }
            },
            "type": "scattergeo"
           }
          ],
          "scattergl": [
           {
            "marker": {
             "colorbar": {
              "outlinewidth": 0,
              "ticks": ""
             }
            },
            "type": "scattergl"
           }
          ],
          "scattermapbox": [
           {
            "marker": {
             "colorbar": {
              "outlinewidth": 0,
              "ticks": ""
             }
            },
            "type": "scattermapbox"
           }
          ],
          "scatterpolar": [
           {
            "marker": {
             "colorbar": {
              "outlinewidth": 0,
              "ticks": ""
             }
            },
            "type": "scatterpolar"
           }
          ],
          "scatterpolargl": [
           {
            "marker": {
             "colorbar": {
              "outlinewidth": 0,
              "ticks": ""
             }
            },
            "type": "scatterpolargl"
           }
          ],
          "scatterternary": [
           {
            "marker": {
             "colorbar": {
              "outlinewidth": 0,
              "ticks": ""
             }
            },
            "type": "scatterternary"
           }
          ],
          "surface": [
           {
            "colorbar": {
             "outlinewidth": 0,
             "ticks": ""
            },
            "colorscale": [
             [
              0,
              "#0d0887"
             ],
             [
              0.1111111111111111,
              "#46039f"
             ],
             [
              0.2222222222222222,
              "#7201a8"
             ],
             [
              0.3333333333333333,
              "#9c179e"
             ],
             [
              0.4444444444444444,
              "#bd3786"
             ],
             [
              0.5555555555555556,
              "#d8576b"
             ],
             [
              0.6666666666666666,
              "#ed7953"
             ],
             [
              0.7777777777777778,
              "#fb9f3a"
             ],
             [
              0.8888888888888888,
              "#fdca26"
             ],
             [
              1,
              "#f0f921"
             ]
            ],
            "type": "surface"
           }
          ],
          "table": [
           {
            "cells": {
             "fill": {
              "color": "#EBF0F8"
             },
             "line": {
              "color": "white"
             }
            },
            "header": {
             "fill": {
              "color": "#C8D4E3"
             },
             "line": {
              "color": "white"
             }
            },
            "type": "table"
           }
          ]
         },
         "layout": {
          "annotationdefaults": {
           "arrowcolor": "#2a3f5f",
           "arrowhead": 0,
           "arrowwidth": 1
          },
          "autotypenumbers": "strict",
          "coloraxis": {
           "colorbar": {
            "outlinewidth": 0,
            "ticks": ""
           }
          },
          "colorscale": {
           "diverging": [
            [
             0,
             "#8e0152"
            ],
            [
             0.1,
             "#c51b7d"
            ],
            [
             0.2,
             "#de77ae"
            ],
            [
             0.3,
             "#f1b6da"
            ],
            [
             0.4,
             "#fde0ef"
            ],
            [
             0.5,
             "#f7f7f7"
            ],
            [
             0.6,
             "#e6f5d0"
            ],
            [
             0.7,
             "#b8e186"
            ],
            [
             0.8,
             "#7fbc41"
            ],
            [
             0.9,
             "#4d9221"
            ],
            [
             1,
             "#276419"
            ]
           ],
           "sequential": [
            [
             0,
             "#0d0887"
            ],
            [
             0.1111111111111111,
             "#46039f"
            ],
            [
             0.2222222222222222,
             "#7201a8"
            ],
            [
             0.3333333333333333,
             "#9c179e"
            ],
            [
             0.4444444444444444,
             "#bd3786"
            ],
            [
             0.5555555555555556,
             "#d8576b"
            ],
            [
             0.6666666666666666,
             "#ed7953"
            ],
            [
             0.7777777777777778,
             "#fb9f3a"
            ],
            [
             0.8888888888888888,
             "#fdca26"
            ],
            [
             1,
             "#f0f921"
            ]
           ],
           "sequentialminus": [
            [
             0,
             "#0d0887"
            ],
            [
             0.1111111111111111,
             "#46039f"
            ],
            [
             0.2222222222222222,
             "#7201a8"
            ],
            [
             0.3333333333333333,
             "#9c179e"
            ],
            [
             0.4444444444444444,
             "#bd3786"
            ],
            [
             0.5555555555555556,
             "#d8576b"
            ],
            [
             0.6666666666666666,
             "#ed7953"
            ],
            [
             0.7777777777777778,
             "#fb9f3a"
            ],
            [
             0.8888888888888888,
             "#fdca26"
            ],
            [
             1,
             "#f0f921"
            ]
           ]
          },
          "colorway": [
           "#636efa",
           "#EF553B",
           "#00cc96",
           "#ab63fa",
           "#FFA15A",
           "#19d3f3",
           "#FF6692",
           "#B6E880",
           "#FF97FF",
           "#FECB52"
          ],
          "font": {
           "color": "#2a3f5f"
          },
          "geo": {
           "bgcolor": "white",
           "lakecolor": "white",
           "landcolor": "#E5ECF6",
           "showlakes": true,
           "showland": true,
           "subunitcolor": "white"
          },
          "hoverlabel": {
           "align": "left"
          },
          "hovermode": "closest",
          "mapbox": {
           "style": "light"
          },
          "paper_bgcolor": "white",
          "plot_bgcolor": "#E5ECF6",
          "polar": {
           "angularaxis": {
            "gridcolor": "white",
            "linecolor": "white",
            "ticks": ""
           },
           "bgcolor": "#E5ECF6",
           "radialaxis": {
            "gridcolor": "white",
            "linecolor": "white",
            "ticks": ""
           }
          },
          "scene": {
           "xaxis": {
            "backgroundcolor": "#E5ECF6",
            "gridcolor": "white",
            "gridwidth": 2,
            "linecolor": "white",
            "showbackground": true,
            "ticks": "",
            "zerolinecolor": "white"
           },
           "yaxis": {
            "backgroundcolor": "#E5ECF6",
            "gridcolor": "white",
            "gridwidth": 2,
            "linecolor": "white",
            "showbackground": true,
            "ticks": "",
            "zerolinecolor": "white"
           },
           "zaxis": {
            "backgroundcolor": "#E5ECF6",
            "gridcolor": "white",
            "gridwidth": 2,
            "linecolor": "white",
            "showbackground": true,
            "ticks": "",
            "zerolinecolor": "white"
           }
          },
          "shapedefaults": {
           "line": {
            "color": "#2a3f5f"
           }
          },
          "ternary": {
           "aaxis": {
            "gridcolor": "white",
            "linecolor": "white",
            "ticks": ""
           },
           "baxis": {
            "gridcolor": "white",
            "linecolor": "white",
            "ticks": ""
           },
           "bgcolor": "#E5ECF6",
           "caxis": {
            "gridcolor": "white",
            "linecolor": "white",
            "ticks": ""
           }
          },
          "title": {
           "x": 0.05
          },
          "xaxis": {
           "automargin": true,
           "gridcolor": "white",
           "linecolor": "white",
           "ticks": "",
           "title": {
            "standoff": 15
           },
           "zerolinecolor": "white",
           "zerolinewidth": 2
          },
          "yaxis": {
           "automargin": true,
           "gridcolor": "white",
           "linecolor": "white",
           "ticks": "",
           "title": {
            "standoff": 15
           },
           "zerolinecolor": "white",
           "zerolinewidth": 2
          }
         }
        },
        "title": {
         "text": "Logit Difference From Patched Head Value"
        },
        "xaxis": {
         "anchor": "y",
         "constrain": "domain",
         "domain": [
          0,
          1
         ],
         "scaleanchor": "y",
         "title": {
          "text": "Head"
         }
        },
        "yaxis": {
         "anchor": "x",
         "autorange": "reversed",
         "constrain": "domain",
         "domain": [
          0,
          1
         ],
         "title": {
          "text": "Layer"
         }
        }
       }
      },
      "text/html": [
       "<div>                            <div id=\"6e28c446-439e-433e-b92a-cbcf459a091b\" class=\"plotly-graph-div\" style=\"height:525px; width:100%;\"></div>            <script type=\"text/javascript\">                require([\"plotly\"], function(Plotly) {                    window.PLOTLYENV=window.PLOTLYENV || {};                                    if (document.getElementById(\"6e28c446-439e-433e-b92a-cbcf459a091b\")) {                    Plotly.newPlot(                        \"6e28c446-439e-433e-b92a-cbcf459a091b\",                        [{\"coloraxis\":\"coloraxis\",\"name\":\"0\",\"z\":[[-0.1326376050710678,0.5292702317237854,-0.09317293018102646,-0.4056520462036133,0.0025733609218150377,0.08301921933889389,-0.003139554290100932,-0.047867752611637115,0.0008081540581770241,-0.09924434125423431,0.26379379630088806,0.0862356498837471],[-0.0033448298927396536,0.05768132209777832,0.031272269785404205,-0.015363559126853943,0.029193351045250893,0.03882160410284996,-0.008151673711836338,0.0039406949654221535,-0.017665017396211624,0.04370208829641342,0.09111478179693222,0.06860408186912537],[0.03300106152892113,-0.07785442471504211,-0.023680316284298897,-0.09798301011323929,-0.014678947627544403,0.01999129354953766,0.0658610463142395,-0.009616386145353317,0.10300403833389282,-0.03063810244202614,0.12658292055130005,0.013805515132844448],[0.3688041865825653,-0.03012450784444809,0.0007631067419424653,-0.0028511977288872004,0.20403516292572021,0.1336933821439743,0.012852778658270836,-0.07372382283210754,-0.05808243155479431,0.03254411369562149,-0.1321871429681778,-0.00958536472171545],[0.026741644367575645,0.11633587628602982,0.031604595482349396,-0.258133202791214,0.21474508941173553,0.011803203262388706,0.08659278601408005,-0.11117890477180481,0.020851507782936096,0.08540429919958115,0.056100890040397644,0.1511647254228592],[0.11299752444028854,-0.021355658769607544,-0.07417052239179611,0.010369242168962955,-0.013395234011113644,0.1368674635887146,-0.15664134919643402,-0.028743956238031387,0.01616469956934452,0.28494498133659363,0.022293830290436745,0.08294233679771423],[-0.4292614459991455,0.01743357628583908,-0.027734573930501938,-0.045902665704488754,0.06082357093691826,0.09159357845783234,-0.032186705619096756,-0.04119157791137695,-0.08111482113599777,0.07713744044303894,0.05316256359219551,-0.11202212423086166],[0.009020251221954823,0.06321188807487488,0.044067054986953735,-0.5603793263435364,-0.07050874084234238,0.11926152557134628,-0.09984640777111053,0.027927441522479057,-0.0508001409471035,-0.9714481234550476,-0.013107147067785263,-0.05012928694486618],[0.009513343684375286,0.01957399770617485,0.1302179992198944,0.36167484521865845,0.056692708283662796,-0.25852134823799133,0.24607966840267181,-0.06481902301311493,0.04919624328613281,-0.04103674739599228,-1.6015466451644897,0.19872955977916718],[-0.03884534165263176,-0.08046095818281174,0.21233680844306946,-0.05355369299650192,0.5543615818023682,-0.1570761799812317,0.04664662107825279,-0.6669188737869263,0.14586074650287628,0.8196799755096436,0.005167762283235788,0.004576212726533413],[0.5419260859489441,-0.20330145955085754,0.6565032601356506,0.18669356405735016,0.01567268557846546,0.002975280163809657,0.5485909581184387,-1.3225867748260498,-0.014415946789085865,0.06558401882648468,0.9382196664810181,0.1108066588640213],[-0.1269897073507309,0.5572739839553833,1.301512360572815,0.17530712485313416,-0.03517870977520943,-0.06827633827924728,0.3738904595375061,-0.08643337339162827,0.03275046870112419,0.09495756030082703,-0.9490431547164917,0.055992722511291504]],\"type\":\"heatmap\",\"xaxis\":\"x\",\"yaxis\":\"y\",\"hovertemplate\":\"Head: %{x}\\u003cbr\\u003eLayer: %{y}\\u003cbr\\u003ecolor: %{z}\\u003cextra\\u003e\\u003c\\u002fextra\\u003e\"}],                        {\"template\":{\"data\":{\"histogram2dcontour\":[{\"type\":\"histogram2dcontour\",\"colorbar\":{\"outlinewidth\":0,\"ticks\":\"\"},\"colorscale\":[[0.0,\"#0d0887\"],[0.1111111111111111,\"#46039f\"],[0.2222222222222222,\"#7201a8\"],[0.3333333333333333,\"#9c179e\"],[0.4444444444444444,\"#bd3786\"],[0.5555555555555556,\"#d8576b\"],[0.6666666666666666,\"#ed7953\"],[0.7777777777777778,\"#fb9f3a\"],[0.8888888888888888,\"#fdca26\"],[1.0,\"#f0f921\"]]}],\"choropleth\":[{\"type\":\"choropleth\",\"colorbar\":{\"outlinewidth\":0,\"ticks\":\"\"}}],\"histogram2d\":[{\"type\":\"histogram2d\",\"colorbar\":{\"outlinewidth\":0,\"ticks\":\"\"},\"colorscale\":[[0.0,\"#0d0887\"],[0.1111111111111111,\"#46039f\"],[0.2222222222222222,\"#7201a8\"],[0.3333333333333333,\"#9c179e\"],[0.4444444444444444,\"#bd3786\"],[0.5555555555555556,\"#d8576b\"],[0.6666666666666666,\"#ed7953\"],[0.7777777777777778,\"#fb9f3a\"],[0.8888888888888888,\"#fdca26\"],[1.0,\"#f0f921\"]]}],\"heatmap\":[{\"type\":\"heatmap\",\"colorbar\":{\"outlinewidth\":0,\"ticks\":\"\"},\"colorscale\":[[0.0,\"#0d0887\"],[0.1111111111111111,\"#46039f\"],[0.2222222222222222,\"#7201a8\"],[0.3333333333333333,\"#9c179e\"],[0.4444444444444444,\"#bd3786\"],[0.5555555555555556,\"#d8576b\"],[0.6666666666666666,\"#ed7953\"],[0.7777777777777778,\"#fb9f3a\"],[0.8888888888888888,\"#fdca26\"],[1.0,\"#f0f921\"]]}],\"heatmapgl\":[{\"type\":\"heatmapgl\",\"colorbar\":{\"outlinewidth\":0,\"ticks\":\"\"},\"colorscale\":[[0.0,\"#0d0887\"],[0.1111111111111111,\"#46039f\"],[0.2222222222222222,\"#7201a8\"],[0.3333333333333333,\"#9c179e\"],[0.4444444444444444,\"#bd3786\"],[0.5555555555555556,\"#d8576b\"],[0.6666666666666666,\"#ed7953\"],[0.7777777777777778,\"#fb9f3a\"],[0.8888888888888888,\"#fdca26\"],[1.0,\"#f0f921\"]]}],\"contourcarpet\":[{\"type\":\"contourcarpet\",\"colorbar\":{\"outlinewidth\":0,\"ticks\":\"\"}}],\"contour\":[{\"type\":\"contour\",\"colorbar\":{\"outlinewidth\":0,\"ticks\":\"\"},\"colorscale\":[[0.0,\"#0d0887\"],[0.1111111111111111,\"#46039f\"],[0.2222222222222222,\"#7201a8\"],[0.3333333333333333,\"#9c179e\"],[0.4444444444444444,\"#bd3786\"],[0.5555555555555556,\"#d8576b\"],[0.6666666666666666,\"#ed7953\"],[0.7777777777777778,\"#fb9f3a\"],[0.8888888888888888,\"#fdca26\"],[1.0,\"#f0f921\"]]}],\"surface\":[{\"type\":\"surface\",\"colorbar\":{\"outlinewidth\":0,\"ticks\":\"\"},\"colorscale\":[[0.0,\"#0d0887\"],[0.1111111111111111,\"#46039f\"],[0.2222222222222222,\"#7201a8\"],[0.3333333333333333,\"#9c179e\"],[0.4444444444444444,\"#bd3786\"],[0.5555555555555556,\"#d8576b\"],[0.6666666666666666,\"#ed7953\"],[0.7777777777777778,\"#fb9f3a\"],[0.8888888888888888,\"#fdca26\"],[1.0,\"#f0f921\"]]}],\"mesh3d\":[{\"type\":\"mesh3d\",\"colorbar\":{\"outlinewidth\":0,\"ticks\":\"\"}}],\"scatter\":[{\"fillpattern\":{\"fillmode\":\"overlay\",\"size\":10,\"solidity\":0.2},\"type\":\"scatter\"}],\"parcoords\":[{\"type\":\"parcoords\",\"line\":{\"colorbar\":{\"outlinewidth\":0,\"ticks\":\"\"}}}],\"scatterpolargl\":[{\"type\":\"scatterpolargl\",\"marker\":{\"colorbar\":{\"outlinewidth\":0,\"ticks\":\"\"}}}],\"bar\":[{\"error_x\":{\"color\":\"#2a3f5f\"},\"error_y\":{\"color\":\"#2a3f5f\"},\"marker\":{\"line\":{\"color\":\"#E5ECF6\",\"width\":0.5},\"pattern\":{\"fillmode\":\"overlay\",\"size\":10,\"solidity\":0.2}},\"type\":\"bar\"}],\"scattergeo\":[{\"type\":\"scattergeo\",\"marker\":{\"colorbar\":{\"outlinewidth\":0,\"ticks\":\"\"}}}],\"scatterpolar\":[{\"type\":\"scatterpolar\",\"marker\":{\"colorbar\":{\"outlinewidth\":0,\"ticks\":\"\"}}}],\"histogram\":[{\"marker\":{\"pattern\":{\"fillmode\":\"overlay\",\"size\":10,\"solidity\":0.2}},\"type\":\"histogram\"}],\"scattergl\":[{\"type\":\"scattergl\",\"marker\":{\"colorbar\":{\"outlinewidth\":0,\"ticks\":\"\"}}}],\"scatter3d\":[{\"type\":\"scatter3d\",\"line\":{\"colorbar\":{\"outlinewidth\":0,\"ticks\":\"\"}},\"marker\":{\"colorbar\":{\"outlinewidth\":0,\"ticks\":\"\"}}}],\"scattermapbox\":[{\"type\":\"scattermapbox\",\"marker\":{\"colorbar\":{\"outlinewidth\":0,\"ticks\":\"\"}}}],\"scatterternary\":[{\"type\":\"scatterternary\",\"marker\":{\"colorbar\":{\"outlinewidth\":0,\"ticks\":\"\"}}}],\"scattercarpet\":[{\"type\":\"scattercarpet\",\"marker\":{\"colorbar\":{\"outlinewidth\":0,\"ticks\":\"\"}}}],\"carpet\":[{\"aaxis\":{\"endlinecolor\":\"#2a3f5f\",\"gridcolor\":\"white\",\"linecolor\":\"white\",\"minorgridcolor\":\"white\",\"startlinecolor\":\"#2a3f5f\"},\"baxis\":{\"endlinecolor\":\"#2a3f5f\",\"gridcolor\":\"white\",\"linecolor\":\"white\",\"minorgridcolor\":\"white\",\"startlinecolor\":\"#2a3f5f\"},\"type\":\"carpet\"}],\"table\":[{\"cells\":{\"fill\":{\"color\":\"#EBF0F8\"},\"line\":{\"color\":\"white\"}},\"header\":{\"fill\":{\"color\":\"#C8D4E3\"},\"line\":{\"color\":\"white\"}},\"type\":\"table\"}],\"barpolar\":[{\"marker\":{\"line\":{\"color\":\"#E5ECF6\",\"width\":0.5},\"pattern\":{\"fillmode\":\"overlay\",\"size\":10,\"solidity\":0.2}},\"type\":\"barpolar\"}],\"pie\":[{\"automargin\":true,\"type\":\"pie\"}]},\"layout\":{\"autotypenumbers\":\"strict\",\"colorway\":[\"#636efa\",\"#EF553B\",\"#00cc96\",\"#ab63fa\",\"#FFA15A\",\"#19d3f3\",\"#FF6692\",\"#B6E880\",\"#FF97FF\",\"#FECB52\"],\"font\":{\"color\":\"#2a3f5f\"},\"hovermode\":\"closest\",\"hoverlabel\":{\"align\":\"left\"},\"paper_bgcolor\":\"white\",\"plot_bgcolor\":\"#E5ECF6\",\"polar\":{\"bgcolor\":\"#E5ECF6\",\"angularaxis\":{\"gridcolor\":\"white\",\"linecolor\":\"white\",\"ticks\":\"\"},\"radialaxis\":{\"gridcolor\":\"white\",\"linecolor\":\"white\",\"ticks\":\"\"}},\"ternary\":{\"bgcolor\":\"#E5ECF6\",\"aaxis\":{\"gridcolor\":\"white\",\"linecolor\":\"white\",\"ticks\":\"\"},\"baxis\":{\"gridcolor\":\"white\",\"linecolor\":\"white\",\"ticks\":\"\"},\"caxis\":{\"gridcolor\":\"white\",\"linecolor\":\"white\",\"ticks\":\"\"}},\"coloraxis\":{\"colorbar\":{\"outlinewidth\":0,\"ticks\":\"\"}},\"colorscale\":{\"sequential\":[[0.0,\"#0d0887\"],[0.1111111111111111,\"#46039f\"],[0.2222222222222222,\"#7201a8\"],[0.3333333333333333,\"#9c179e\"],[0.4444444444444444,\"#bd3786\"],[0.5555555555555556,\"#d8576b\"],[0.6666666666666666,\"#ed7953\"],[0.7777777777777778,\"#fb9f3a\"],[0.8888888888888888,\"#fdca26\"],[1.0,\"#f0f921\"]],\"sequentialminus\":[[0.0,\"#0d0887\"],[0.1111111111111111,\"#46039f\"],[0.2222222222222222,\"#7201a8\"],[0.3333333333333333,\"#9c179e\"],[0.4444444444444444,\"#bd3786\"],[0.5555555555555556,\"#d8576b\"],[0.6666666666666666,\"#ed7953\"],[0.7777777777777778,\"#fb9f3a\"],[0.8888888888888888,\"#fdca26\"],[1.0,\"#f0f921\"]],\"diverging\":[[0,\"#8e0152\"],[0.1,\"#c51b7d\"],[0.2,\"#de77ae\"],[0.3,\"#f1b6da\"],[0.4,\"#fde0ef\"],[0.5,\"#f7f7f7\"],[0.6,\"#e6f5d0\"],[0.7,\"#b8e186\"],[0.8,\"#7fbc41\"],[0.9,\"#4d9221\"],[1,\"#276419\"]]},\"xaxis\":{\"gridcolor\":\"white\",\"linecolor\":\"white\",\"ticks\":\"\",\"title\":{\"standoff\":15},\"zerolinecolor\":\"white\",\"automargin\":true,\"zerolinewidth\":2},\"yaxis\":{\"gridcolor\":\"white\",\"linecolor\":\"white\",\"ticks\":\"\",\"title\":{\"standoff\":15},\"zerolinecolor\":\"white\",\"automargin\":true,\"zerolinewidth\":2},\"scene\":{\"xaxis\":{\"backgroundcolor\":\"#E5ECF6\",\"gridcolor\":\"white\",\"linecolor\":\"white\",\"showbackground\":true,\"ticks\":\"\",\"zerolinecolor\":\"white\",\"gridwidth\":2},\"yaxis\":{\"backgroundcolor\":\"#E5ECF6\",\"gridcolor\":\"white\",\"linecolor\":\"white\",\"showbackground\":true,\"ticks\":\"\",\"zerolinecolor\":\"white\",\"gridwidth\":2},\"zaxis\":{\"backgroundcolor\":\"#E5ECF6\",\"gridcolor\":\"white\",\"linecolor\":\"white\",\"showbackground\":true,\"ticks\":\"\",\"zerolinecolor\":\"white\",\"gridwidth\":2}},\"shapedefaults\":{\"line\":{\"color\":\"#2a3f5f\"}},\"annotationdefaults\":{\"arrowcolor\":\"#2a3f5f\",\"arrowhead\":0,\"arrowwidth\":1},\"geo\":{\"bgcolor\":\"white\",\"landcolor\":\"#E5ECF6\",\"subunitcolor\":\"white\",\"showland\":true,\"showlakes\":true,\"lakecolor\":\"white\"},\"title\":{\"x\":0.05},\"mapbox\":{\"style\":\"light\"}}},\"xaxis\":{\"anchor\":\"y\",\"domain\":[0.0,1.0],\"scaleanchor\":\"y\",\"constrain\":\"domain\",\"title\":{\"text\":\"Head\"}},\"yaxis\":{\"anchor\":\"x\",\"domain\":[0.0,1.0],\"autorange\":\"reversed\",\"constrain\":\"domain\",\"title\":{\"text\":\"Layer\"}},\"coloraxis\":{\"colorscale\":[[0.0,\"rgb(103,0,31)\"],[0.1,\"rgb(178,24,43)\"],[0.2,\"rgb(214,96,77)\"],[0.3,\"rgb(244,165,130)\"],[0.4,\"rgb(253,219,199)\"],[0.5,\"rgb(247,247,247)\"],[0.6,\"rgb(209,229,240)\"],[0.7,\"rgb(146,197,222)\"],[0.8,\"rgb(67,147,195)\"],[0.9,\"rgb(33,102,172)\"],[1.0,\"rgb(5,48,97)\"]],\"cmid\":0.0},\"title\":{\"text\":\"Logit Difference From Patched Head Value\"}},                        {\"responsive\": true}                    ).then(function(){\n",
       "                            \n",
       "var gd = document.getElementById('6e28c446-439e-433e-b92a-cbcf459a091b');\n",
       "var x = new MutationObserver(function (mutations, observer) {{\n",
       "        var display = window.getComputedStyle(gd).display;\n",
       "        if (!display || display === 'none') {{\n",
       "            console.log([gd, 'removed!']);\n",
       "            Plotly.purge(gd);\n",
       "            observer.disconnect();\n",
       "        }}\n",
       "}});\n",
       "\n",
       "// Listen for the removal of the full notebook cells\n",
       "var notebookContainer = gd.closest('#notebook-container');\n",
       "if (notebookContainer) {{\n",
       "    x.observe(notebookContainer, {childList: true});\n",
       "}}\n",
       "\n",
       "// Listen for the clearing of the current output cell\n",
       "var outputEl = gd.closest('.output');\n",
       "if (outputEl) {{\n",
       "    x.observe(outputEl, {childList: true});\n",
       "}}\n",
       "\n",
       "                        })                };                });            </script>        </div>"
      ]
     },
     "metadata": {},
     "output_type": "display_data"
    }
   ],
   "source": [
    "imshow(\n",
    "    patched_head_v_diff,\n",
    "    title=\"Logit Difference From Patched Head Value\",\n",
    "    labels={\"x\": \"Head\", \"y\": \"Layer\"},\n",
    ")"
   ]
  },
  {
   "cell_type": "code",
   "execution_count": 89,
   "metadata": {},
   "outputs": [
    {
     "data": {
      "application/vnd.plotly.v1+json": {
       "config": {
        "plotlyServerURL": "https://plot.ly"
       },
       "data": [
        {
         "hovertemplate": "<b>%{hovertext}</b><br><br>Value Patch=%{x}<br>Output Patch=%{y}<br>Layer=%{marker.color}<extra></extra>",
         "hovertext": [
          "L0H0",
          "L0H1",
          "L0H2",
          "L0H3",
          "L0H4",
          "L0H5",
          "L0H6",
          "L0H7",
          "L0H8",
          "L0H9",
          "L0H10",
          "L0H11",
          "L1H0",
          "L1H1",
          "L1H2",
          "L1H3",
          "L1H4",
          "L1H5",
          "L1H6",
          "L1H7",
          "L1H8",
          "L1H9",
          "L1H10",
          "L1H11",
          "L2H0",
          "L2H1",
          "L2H2",
          "L2H3",
          "L2H4",
          "L2H5",
          "L2H6",
          "L2H7",
          "L2H8",
          "L2H9",
          "L2H10",
          "L2H11",
          "L3H0",
          "L3H1",
          "L3H2",
          "L3H3",
          "L3H4",
          "L3H5",
          "L3H6",
          "L3H7",
          "L3H8",
          "L3H9",
          "L3H10",
          "L3H11",
          "L4H0",
          "L4H1",
          "L4H2",
          "L4H3",
          "L4H4",
          "L4H5",
          "L4H6",
          "L4H7",
          "L4H8",
          "L4H9",
          "L4H10",
          "L4H11",
          "L5H0",
          "L5H1",
          "L5H2",
          "L5H3",
          "L5H4",
          "L5H5",
          "L5H6",
          "L5H7",
          "L5H8",
          "L5H9",
          "L5H10",
          "L5H11",
          "L6H0",
          "L6H1",
          "L6H2",
          "L6H3",
          "L6H4",
          "L6H5",
          "L6H6",
          "L6H7",
          "L6H8",
          "L6H9",
          "L6H10",
          "L6H11",
          "L7H0",
          "L7H1",
          "L7H2",
          "L7H3",
          "L7H4",
          "L7H5",
          "L7H6",
          "L7H7",
          "L7H8",
          "L7H9",
          "L7H10",
          "L7H11",
          "L8H0",
          "L8H1",
          "L8H2",
          "L8H3",
          "L8H4",
          "L8H5",
          "L8H6",
          "L8H7",
          "L8H8",
          "L8H9",
          "L8H10",
          "L8H11",
          "L9H0",
          "L9H1",
          "L9H2",
          "L9H3",
          "L9H4",
          "L9H5",
          "L9H6",
          "L9H7",
          "L9H8",
          "L9H9",
          "L9H10",
          "L9H11",
          "L10H0",
          "L10H1",
          "L10H2",
          "L10H3",
          "L10H4",
          "L10H5",
          "L10H6",
          "L10H7",
          "L10H8",
          "L10H9",
          "L10H10",
          "L10H11",
          "L11H0",
          "L11H1",
          "L11H2",
          "L11H3",
          "L11H4",
          "L11H5",
          "L11H6",
          "L11H7",
          "L11H8",
          "L11H9",
          "L11H10",
          "L11H11"
         ],
         "legendgroup": "",
         "marker": {
          "color": [
           0,
           0,
           0,
           0,
           0,
           0,
           0,
           0,
           0,
           0,
           0,
           0,
           1,
           1,
           1,
           1,
           1,
           1,
           1,
           1,
           1,
           1,
           1,
           1,
           2,
           2,
           2,
           2,
           2,
           2,
           2,
           2,
           2,
           2,
           2,
           2,
           3,
           3,
           3,
           3,
           3,
           3,
           3,
           3,
           3,
           3,
           3,
           3,
           4,
           4,
           4,
           4,
           4,
           4,
           4,
           4,
           4,
           4,
           4,
           4,
           5,
           5,
           5,
           5,
           5,
           5,
           5,
           5,
           5,
           5,
           5,
           5,
           6,
           6,
           6,
           6,
           6,
           6,
           6,
           6,
           6,
           6,
           6,
           6,
           7,
           7,
           7,
           7,
           7,
           7,
           7,
           7,
           7,
           7,
           7,
           7,
           8,
           8,
           8,
           8,
           8,
           8,
           8,
           8,
           8,
           8,
           8,
           8,
           9,
           9,
           9,
           9,
           9,
           9,
           9,
           9,
           9,
           9,
           9,
           9,
           10,
           10,
           10,
           10,
           10,
           10,
           10,
           10,
           10,
           10,
           10,
           10,
           11,
           11,
           11,
           11,
           11,
           11,
           11,
           11,
           11,
           11,
           11,
           11
          ],
          "coloraxis": "coloraxis",
          "symbol": "circle"
         },
         "mode": "markers",
         "name": "",
         "orientation": "v",
         "showlegend": false,
         "type": "scatter",
         "x": [
          -0.1326376050710678,
          0.5292702317237854,
          -0.09317293018102646,
          -0.4056520462036133,
          0.0025733609218150377,
          0.08301921933889389,
          -0.003139554290100932,
          -0.047867752611637115,
          0.0008081540581770241,
          -0.09924434125423431,
          0.26379379630088806,
          0.0862356498837471,
          -0.0033448298927396536,
          0.05768132209777832,
          0.031272269785404205,
          -0.015363559126853943,
          0.029193351045250893,
          0.03882160410284996,
          -0.008151673711836338,
          0.0039406949654221535,
          -0.017665017396211624,
          0.04370208829641342,
          0.09111478179693222,
          0.06860408186912537,
          0.03300106152892113,
          -0.07785442471504211,
          -0.023680316284298897,
          -0.09798301011323929,
          -0.014678947627544403,
          0.01999129354953766,
          0.0658610463142395,
          -0.009616386145353317,
          0.10300403833389282,
          -0.03063810244202614,
          0.12658292055130005,
          0.013805515132844448,
          0.3688041865825653,
          -0.03012450784444809,
          0.0007631067419424653,
          -0.0028511977288872004,
          0.20403516292572021,
          0.1336933821439743,
          0.012852778658270836,
          -0.07372382283210754,
          -0.05808243155479431,
          0.03254411369562149,
          -0.1321871429681778,
          -0.00958536472171545,
          0.026741644367575645,
          0.11633587628602982,
          0.031604595482349396,
          -0.258133202791214,
          0.21474508941173553,
          0.011803203262388706,
          0.08659278601408005,
          -0.11117890477180481,
          0.020851507782936096,
          0.08540429919958115,
          0.056100890040397644,
          0.1511647254228592,
          0.11299752444028854,
          -0.021355658769607544,
          -0.07417052239179611,
          0.010369242168962955,
          -0.013395234011113644,
          0.1368674635887146,
          -0.15664134919643402,
          -0.028743956238031387,
          0.01616469956934452,
          0.28494498133659363,
          0.022293830290436745,
          0.08294233679771423,
          -0.4292614459991455,
          0.01743357628583908,
          -0.027734573930501938,
          -0.045902665704488754,
          0.06082357093691826,
          0.09159357845783234,
          -0.032186705619096756,
          -0.04119157791137695,
          -0.08111482113599777,
          0.07713744044303894,
          0.05316256359219551,
          -0.11202212423086166,
          0.009020251221954823,
          0.06321188807487488,
          0.044067054986953735,
          -0.5603793263435364,
          -0.07050874084234238,
          0.11926152557134628,
          -0.09984640777111053,
          0.027927441522479057,
          -0.0508001409471035,
          -0.9714481234550476,
          -0.013107147067785263,
          -0.05012928694486618,
          0.009513343684375286,
          0.01957399770617485,
          0.1302179992198944,
          0.36167484521865845,
          0.056692708283662796,
          -0.25852134823799133,
          0.24607966840267181,
          -0.06481902301311493,
          0.04919624328613281,
          -0.04103674739599228,
          -1.6015466451644897,
          0.19872955977916718,
          -0.03884534165263176,
          -0.08046095818281174,
          0.21233680844306946,
          -0.05355369299650192,
          0.5543615818023682,
          -0.1570761799812317,
          0.04664662107825279,
          -0.6669188737869263,
          0.14586074650287628,
          0.8196799755096436,
          0.005167762283235788,
          0.004576212726533413,
          0.5419260859489441,
          -0.20330145955085754,
          0.6565032601356506,
          0.18669356405735016,
          0.01567268557846546,
          0.002975280163809657,
          0.5485909581184387,
          -1.3225867748260498,
          -0.014415946789085865,
          0.06558401882648468,
          0.9382196664810181,
          0.1108066588640213,
          -0.1269897073507309,
          0.5572739839553833,
          1.301512360572815,
          0.17530712485313416,
          -0.03517870977520943,
          -0.06827633827924728,
          0.3738904595375061,
          -0.08643337339162827,
          0.03275046870112419,
          0.09495756030082703,
          -0.9490431547164917,
          0.055992722511291504
         ],
         "xaxis": "x",
         "y": [
          -0.15481868386268616,
          1.2174922227859497,
          -0.27252811193466187,
          -0.3936408758163452,
          0.0841483622789383,
          0.03040369413793087,
          -0.050181079655885696,
          -0.083766408264637,
          -0.050122275948524475,
          -0.07914568483829498,
          0.3878341019153595,
          0.053085148334503174,
          0.02642199769616127,
          0.04544787481427193,
          0.020032832399010658,
          0.17518411576747894,
          0.05647933855652809,
          0.13204741477966309,
          -0.006211402826011181,
          -0.0024220345076173544,
          -0.04559407755732536,
          0.03682684525847435,
          0.092220738530159,
          -0.09770787507295609,
          -0.05405568704009056,
          0.00015429376799147576,
          -0.04390682652592659,
          -0.11206448078155518,
          0.024634672328829765,
          0.009781469590961933,
          0.054840102791786194,
          0.0228926632553339,
          -0.013254967518150806,
          0.0074881031177937984,
          0.0428011454641819,
          -0.0456027090549469,
          0.17011049389839172,
          0.05550394579768181,
          0.03510803356766701,
          0.030876286327838898,
          0.2512490451335907,
          0.07353176921606064,
          -0.04935026541352272,
          0.018147319555282593,
          -0.02424462139606476,
          -0.03377199172973633,
          -0.14292646944522858,
          0.021584402769804,
          0.0253834817558527,
          0.09226605296134949,
          -0.06148633360862732,
          -0.3431533873081207,
          0.2888813614845276,
          -0.028417836874723434,
          0.1920795440673828,
          -0.1077418252825737,
          -0.003842238336801529,
          0.08700495958328247,
          0.025141790509223938,
          0.1920938491821289,
          -0.07221568375825882,
          -0.1557358205318451,
          -0.09202975779771805,
          0.05605665221810341,
          0.03426211699843407,
          0.8269115090370178,
          -0.19729425013065338,
          -0.048204123973846436,
          0.11551261693239212,
          0.28115370869636536,
          0.10994590818881989,
          0.07101505249738693,
          -0.3996634781360626,
          0.22543776035308838,
          -0.04388497769832611,
          -0.10075139999389648,
          0.0031905360519886017,
          0.09239283204078674,
          0.12506157159805298,
          -0.02644195966422558,
          0.0079515241086483,
          -0.02471829205751419,
          0.0942772626876831,
          -0.10097825527191162,
          -0.008342113345861435,
          0.12399554252624512,
          -0.06212616711854935,
          -0.32575350999832153,
          -0.04653710126876831,
          0.10619295388460159,
          -0.03399749845266342,
          -0.0008650700910948217,
          -0.06121092662215233,
          -1.1330212354660034,
          -0.00048634904669597745,
          -0.07891181856393814,
          0.03248288482427597,
          0.01148274727165699,
          0.11451132595539093,
          0.25015658140182495,
          0.04060731455683708,
          -0.16719239950180054,
          0.43291160464286804,
          -0.07716900110244751,
          0.0006241883966140449,
          0.017110422253608704,
          -1.480268955230713,
          0.2073923945426941,
          0.1264844685792923,
          -0.1555008739233017,
          0.148687943816185,
          -0.07448019087314606,
          0.5228748321533203,
          -0.18441961705684662,
          0.05138036236166954,
          -0.7684120535850525,
          0.3010147213935852,
          -0.8018290996551514,
          -0.007426061667501926,
          -0.12456955760717392,
          -0.5591994524002075,
          0.07297663390636444,
          0.678852915763855,
          0.1427573412656784,
          -0.03046249784529209,
          0.004114679992198944,
          0.3474900424480438,
          -0.06830789893865585,
          0.03003980964422226,
          0.03334498777985573,
          0.4808095693588257,
          0.19705148041248322,
          -0.08624158054590225,
          1.0185325145721436,
          1.2773646116256714,
          0.29820993542671204,
          -0.008889155462384224,
          0.1498030573129654,
          0.35285067558288574,
          -0.10216809809207916,
          0.011355157941579819,
          0.011611144989728928,
          0.8173547387123108,
          0.08645576238632202
         ],
         "yaxis": "y"
        }
       ],
       "layout": {
        "coloraxis": {
         "colorbar": {
          "title": {
           "text": "Layer"
          }
         },
         "colorscale": [
          [
           0,
           "#0d0887"
          ],
          [
           0.1111111111111111,
           "#46039f"
          ],
          [
           0.2222222222222222,
           "#7201a8"
          ],
          [
           0.3333333333333333,
           "#9c179e"
          ],
          [
           0.4444444444444444,
           "#bd3786"
          ],
          [
           0.5555555555555556,
           "#d8576b"
          ],
          [
           0.6666666666666666,
           "#ed7953"
          ],
          [
           0.7777777777777778,
           "#fb9f3a"
          ],
          [
           0.8888888888888888,
           "#fdca26"
          ],
          [
           1,
           "#f0f921"
          ]
         ]
        },
        "legend": {
         "tracegroupgap": 0
        },
        "template": {
         "data": {
          "bar": [
           {
            "error_x": {
             "color": "#2a3f5f"
            },
            "error_y": {
             "color": "#2a3f5f"
            },
            "marker": {
             "line": {
              "color": "#E5ECF6",
              "width": 0.5
             },
             "pattern": {
              "fillmode": "overlay",
              "size": 10,
              "solidity": 0.2
             }
            },
            "type": "bar"
           }
          ],
          "barpolar": [
           {
            "marker": {
             "line": {
              "color": "#E5ECF6",
              "width": 0.5
             },
             "pattern": {
              "fillmode": "overlay",
              "size": 10,
              "solidity": 0.2
             }
            },
            "type": "barpolar"
           }
          ],
          "carpet": [
           {
            "aaxis": {
             "endlinecolor": "#2a3f5f",
             "gridcolor": "white",
             "linecolor": "white",
             "minorgridcolor": "white",
             "startlinecolor": "#2a3f5f"
            },
            "baxis": {
             "endlinecolor": "#2a3f5f",
             "gridcolor": "white",
             "linecolor": "white",
             "minorgridcolor": "white",
             "startlinecolor": "#2a3f5f"
            },
            "type": "carpet"
           }
          ],
          "choropleth": [
           {
            "colorbar": {
             "outlinewidth": 0,
             "ticks": ""
            },
            "type": "choropleth"
           }
          ],
          "contour": [
           {
            "colorbar": {
             "outlinewidth": 0,
             "ticks": ""
            },
            "colorscale": [
             [
              0,
              "#0d0887"
             ],
             [
              0.1111111111111111,
              "#46039f"
             ],
             [
              0.2222222222222222,
              "#7201a8"
             ],
             [
              0.3333333333333333,
              "#9c179e"
             ],
             [
              0.4444444444444444,
              "#bd3786"
             ],
             [
              0.5555555555555556,
              "#d8576b"
             ],
             [
              0.6666666666666666,
              "#ed7953"
             ],
             [
              0.7777777777777778,
              "#fb9f3a"
             ],
             [
              0.8888888888888888,
              "#fdca26"
             ],
             [
              1,
              "#f0f921"
             ]
            ],
            "type": "contour"
           }
          ],
          "contourcarpet": [
           {
            "colorbar": {
             "outlinewidth": 0,
             "ticks": ""
            },
            "type": "contourcarpet"
           }
          ],
          "heatmap": [
           {
            "colorbar": {
             "outlinewidth": 0,
             "ticks": ""
            },
            "colorscale": [
             [
              0,
              "#0d0887"
             ],
             [
              0.1111111111111111,
              "#46039f"
             ],
             [
              0.2222222222222222,
              "#7201a8"
             ],
             [
              0.3333333333333333,
              "#9c179e"
             ],
             [
              0.4444444444444444,
              "#bd3786"
             ],
             [
              0.5555555555555556,
              "#d8576b"
             ],
             [
              0.6666666666666666,
              "#ed7953"
             ],
             [
              0.7777777777777778,
              "#fb9f3a"
             ],
             [
              0.8888888888888888,
              "#fdca26"
             ],
             [
              1,
              "#f0f921"
             ]
            ],
            "type": "heatmap"
           }
          ],
          "heatmapgl": [
           {
            "colorbar": {
             "outlinewidth": 0,
             "ticks": ""
            },
            "colorscale": [
             [
              0,
              "#0d0887"
             ],
             [
              0.1111111111111111,
              "#46039f"
             ],
             [
              0.2222222222222222,
              "#7201a8"
             ],
             [
              0.3333333333333333,
              "#9c179e"
             ],
             [
              0.4444444444444444,
              "#bd3786"
             ],
             [
              0.5555555555555556,
              "#d8576b"
             ],
             [
              0.6666666666666666,
              "#ed7953"
             ],
             [
              0.7777777777777778,
              "#fb9f3a"
             ],
             [
              0.8888888888888888,
              "#fdca26"
             ],
             [
              1,
              "#f0f921"
             ]
            ],
            "type": "heatmapgl"
           }
          ],
          "histogram": [
           {
            "marker": {
             "pattern": {
              "fillmode": "overlay",
              "size": 10,
              "solidity": 0.2
             }
            },
            "type": "histogram"
           }
          ],
          "histogram2d": [
           {
            "colorbar": {
             "outlinewidth": 0,
             "ticks": ""
            },
            "colorscale": [
             [
              0,
              "#0d0887"
             ],
             [
              0.1111111111111111,
              "#46039f"
             ],
             [
              0.2222222222222222,
              "#7201a8"
             ],
             [
              0.3333333333333333,
              "#9c179e"
             ],
             [
              0.4444444444444444,
              "#bd3786"
             ],
             [
              0.5555555555555556,
              "#d8576b"
             ],
             [
              0.6666666666666666,
              "#ed7953"
             ],
             [
              0.7777777777777778,
              "#fb9f3a"
             ],
             [
              0.8888888888888888,
              "#fdca26"
             ],
             [
              1,
              "#f0f921"
             ]
            ],
            "type": "histogram2d"
           }
          ],
          "histogram2dcontour": [
           {
            "colorbar": {
             "outlinewidth": 0,
             "ticks": ""
            },
            "colorscale": [
             [
              0,
              "#0d0887"
             ],
             [
              0.1111111111111111,
              "#46039f"
             ],
             [
              0.2222222222222222,
              "#7201a8"
             ],
             [
              0.3333333333333333,
              "#9c179e"
             ],
             [
              0.4444444444444444,
              "#bd3786"
             ],
             [
              0.5555555555555556,
              "#d8576b"
             ],
             [
              0.6666666666666666,
              "#ed7953"
             ],
             [
              0.7777777777777778,
              "#fb9f3a"
             ],
             [
              0.8888888888888888,
              "#fdca26"
             ],
             [
              1,
              "#f0f921"
             ]
            ],
            "type": "histogram2dcontour"
           }
          ],
          "mesh3d": [
           {
            "colorbar": {
             "outlinewidth": 0,
             "ticks": ""
            },
            "type": "mesh3d"
           }
          ],
          "parcoords": [
           {
            "line": {
             "colorbar": {
              "outlinewidth": 0,
              "ticks": ""
             }
            },
            "type": "parcoords"
           }
          ],
          "pie": [
           {
            "automargin": true,
            "type": "pie"
           }
          ],
          "scatter": [
           {
            "fillpattern": {
             "fillmode": "overlay",
             "size": 10,
             "solidity": 0.2
            },
            "type": "scatter"
           }
          ],
          "scatter3d": [
           {
            "line": {
             "colorbar": {
              "outlinewidth": 0,
              "ticks": ""
             }
            },
            "marker": {
             "colorbar": {
              "outlinewidth": 0,
              "ticks": ""
             }
            },
            "type": "scatter3d"
           }
          ],
          "scattercarpet": [
           {
            "marker": {
             "colorbar": {
              "outlinewidth": 0,
              "ticks": ""
             }
            },
            "type": "scattercarpet"
           }
          ],
          "scattergeo": [
           {
            "marker": {
             "colorbar": {
              "outlinewidth": 0,
              "ticks": ""
             }
            },
            "type": "scattergeo"
           }
          ],
          "scattergl": [
           {
            "marker": {
             "colorbar": {
              "outlinewidth": 0,
              "ticks": ""
             }
            },
            "type": "scattergl"
           }
          ],
          "scattermapbox": [
           {
            "marker": {
             "colorbar": {
              "outlinewidth": 0,
              "ticks": ""
             }
            },
            "type": "scattermapbox"
           }
          ],
          "scatterpolar": [
           {
            "marker": {
             "colorbar": {
              "outlinewidth": 0,
              "ticks": ""
             }
            },
            "type": "scatterpolar"
           }
          ],
          "scatterpolargl": [
           {
            "marker": {
             "colorbar": {
              "outlinewidth": 0,
              "ticks": ""
             }
            },
            "type": "scatterpolargl"
           }
          ],
          "scatterternary": [
           {
            "marker": {
             "colorbar": {
              "outlinewidth": 0,
              "ticks": ""
             }
            },
            "type": "scatterternary"
           }
          ],
          "surface": [
           {
            "colorbar": {
             "outlinewidth": 0,
             "ticks": ""
            },
            "colorscale": [
             [
              0,
              "#0d0887"
             ],
             [
              0.1111111111111111,
              "#46039f"
             ],
             [
              0.2222222222222222,
              "#7201a8"
             ],
             [
              0.3333333333333333,
              "#9c179e"
             ],
             [
              0.4444444444444444,
              "#bd3786"
             ],
             [
              0.5555555555555556,
              "#d8576b"
             ],
             [
              0.6666666666666666,
              "#ed7953"
             ],
             [
              0.7777777777777778,
              "#fb9f3a"
             ],
             [
              0.8888888888888888,
              "#fdca26"
             ],
             [
              1,
              "#f0f921"
             ]
            ],
            "type": "surface"
           }
          ],
          "table": [
           {
            "cells": {
             "fill": {
              "color": "#EBF0F8"
             },
             "line": {
              "color": "white"
             }
            },
            "header": {
             "fill": {
              "color": "#C8D4E3"
             },
             "line": {
              "color": "white"
             }
            },
            "type": "table"
           }
          ]
         },
         "layout": {
          "annotationdefaults": {
           "arrowcolor": "#2a3f5f",
           "arrowhead": 0,
           "arrowwidth": 1
          },
          "autotypenumbers": "strict",
          "coloraxis": {
           "colorbar": {
            "outlinewidth": 0,
            "ticks": ""
           }
          },
          "colorscale": {
           "diverging": [
            [
             0,
             "#8e0152"
            ],
            [
             0.1,
             "#c51b7d"
            ],
            [
             0.2,
             "#de77ae"
            ],
            [
             0.3,
             "#f1b6da"
            ],
            [
             0.4,
             "#fde0ef"
            ],
            [
             0.5,
             "#f7f7f7"
            ],
            [
             0.6,
             "#e6f5d0"
            ],
            [
             0.7,
             "#b8e186"
            ],
            [
             0.8,
             "#7fbc41"
            ],
            [
             0.9,
             "#4d9221"
            ],
            [
             1,
             "#276419"
            ]
           ],
           "sequential": [
            [
             0,
             "#0d0887"
            ],
            [
             0.1111111111111111,
             "#46039f"
            ],
            [
             0.2222222222222222,
             "#7201a8"
            ],
            [
             0.3333333333333333,
             "#9c179e"
            ],
            [
             0.4444444444444444,
             "#bd3786"
            ],
            [
             0.5555555555555556,
             "#d8576b"
            ],
            [
             0.6666666666666666,
             "#ed7953"
            ],
            [
             0.7777777777777778,
             "#fb9f3a"
            ],
            [
             0.8888888888888888,
             "#fdca26"
            ],
            [
             1,
             "#f0f921"
            ]
           ],
           "sequentialminus": [
            [
             0,
             "#0d0887"
            ],
            [
             0.1111111111111111,
             "#46039f"
            ],
            [
             0.2222222222222222,
             "#7201a8"
            ],
            [
             0.3333333333333333,
             "#9c179e"
            ],
            [
             0.4444444444444444,
             "#bd3786"
            ],
            [
             0.5555555555555556,
             "#d8576b"
            ],
            [
             0.6666666666666666,
             "#ed7953"
            ],
            [
             0.7777777777777778,
             "#fb9f3a"
            ],
            [
             0.8888888888888888,
             "#fdca26"
            ],
            [
             1,
             "#f0f921"
            ]
           ]
          },
          "colorway": [
           "#636efa",
           "#EF553B",
           "#00cc96",
           "#ab63fa",
           "#FFA15A",
           "#19d3f3",
           "#FF6692",
           "#B6E880",
           "#FF97FF",
           "#FECB52"
          ],
          "font": {
           "color": "#2a3f5f"
          },
          "geo": {
           "bgcolor": "white",
           "lakecolor": "white",
           "landcolor": "#E5ECF6",
           "showlakes": true,
           "showland": true,
           "subunitcolor": "white"
          },
          "hoverlabel": {
           "align": "left"
          },
          "hovermode": "closest",
          "mapbox": {
           "style": "light"
          },
          "paper_bgcolor": "white",
          "plot_bgcolor": "#E5ECF6",
          "polar": {
           "angularaxis": {
            "gridcolor": "white",
            "linecolor": "white",
            "ticks": ""
           },
           "bgcolor": "#E5ECF6",
           "radialaxis": {
            "gridcolor": "white",
            "linecolor": "white",
            "ticks": ""
           }
          },
          "scene": {
           "xaxis": {
            "backgroundcolor": "#E5ECF6",
            "gridcolor": "white",
            "gridwidth": 2,
            "linecolor": "white",
            "showbackground": true,
            "ticks": "",
            "zerolinecolor": "white"
           },
           "yaxis": {
            "backgroundcolor": "#E5ECF6",
            "gridcolor": "white",
            "gridwidth": 2,
            "linecolor": "white",
            "showbackground": true,
            "ticks": "",
            "zerolinecolor": "white"
           },
           "zaxis": {
            "backgroundcolor": "#E5ECF6",
            "gridcolor": "white",
            "gridwidth": 2,
            "linecolor": "white",
            "showbackground": true,
            "ticks": "",
            "zerolinecolor": "white"
           }
          },
          "shapedefaults": {
           "line": {
            "color": "#2a3f5f"
           }
          },
          "ternary": {
           "aaxis": {
            "gridcolor": "white",
            "linecolor": "white",
            "ticks": ""
           },
           "baxis": {
            "gridcolor": "white",
            "linecolor": "white",
            "ticks": ""
           },
           "bgcolor": "#E5ECF6",
           "caxis": {
            "gridcolor": "white",
            "linecolor": "white",
            "ticks": ""
           }
          },
          "title": {
           "x": 0.05
          },
          "xaxis": {
           "automargin": true,
           "gridcolor": "white",
           "linecolor": "white",
           "ticks": "",
           "title": {
            "standoff": 15
           },
           "zerolinecolor": "white",
           "zerolinewidth": 2
          },
          "yaxis": {
           "automargin": true,
           "gridcolor": "white",
           "linecolor": "white",
           "ticks": "",
           "title": {
            "standoff": 15
           },
           "zerolinecolor": "white",
           "zerolinewidth": 2
          }
         }
        },
        "title": {
         "text": "Scatter plot of output patching vs value patching"
        },
        "xaxis": {
         "anchor": "y",
         "domain": [
          0,
          1
         ],
         "range": [
          -0.5,
          0.5
         ],
         "title": {
          "text": "Value Patch"
         }
        },
        "yaxis": {
         "anchor": "x",
         "domain": [
          0,
          1
         ],
         "range": [
          -0.5,
          0.5
         ],
         "title": {
          "text": "Output Patch"
         }
        }
       }
      },
      "text/html": [
       "<div>                            <div id=\"0f241e24-20cc-41a8-9ca0-3e30aa85a8b6\" class=\"plotly-graph-div\" style=\"height:525px; width:100%;\"></div>            <script type=\"text/javascript\">                require([\"plotly\"], function(Plotly) {                    window.PLOTLYENV=window.PLOTLYENV || {};                                    if (document.getElementById(\"0f241e24-20cc-41a8-9ca0-3e30aa85a8b6\")) {                    Plotly.newPlot(                        \"0f241e24-20cc-41a8-9ca0-3e30aa85a8b6\",                        [{\"hovertemplate\":\"\\u003cb\\u003e%{hovertext}\\u003c\\u002fb\\u003e\\u003cbr\\u003e\\u003cbr\\u003eValue Patch=%{x}\\u003cbr\\u003eOutput Patch=%{y}\\u003cbr\\u003eLayer=%{marker.color}\\u003cextra\\u003e\\u003c\\u002fextra\\u003e\",\"hovertext\":[\"L0H0\",\"L0H1\",\"L0H2\",\"L0H3\",\"L0H4\",\"L0H5\",\"L0H6\",\"L0H7\",\"L0H8\",\"L0H9\",\"L0H10\",\"L0H11\",\"L1H0\",\"L1H1\",\"L1H2\",\"L1H3\",\"L1H4\",\"L1H5\",\"L1H6\",\"L1H7\",\"L1H8\",\"L1H9\",\"L1H10\",\"L1H11\",\"L2H0\",\"L2H1\",\"L2H2\",\"L2H3\",\"L2H4\",\"L2H5\",\"L2H6\",\"L2H7\",\"L2H8\",\"L2H9\",\"L2H10\",\"L2H11\",\"L3H0\",\"L3H1\",\"L3H2\",\"L3H3\",\"L3H4\",\"L3H5\",\"L3H6\",\"L3H7\",\"L3H8\",\"L3H9\",\"L3H10\",\"L3H11\",\"L4H0\",\"L4H1\",\"L4H2\",\"L4H3\",\"L4H4\",\"L4H5\",\"L4H6\",\"L4H7\",\"L4H8\",\"L4H9\",\"L4H10\",\"L4H11\",\"L5H0\",\"L5H1\",\"L5H2\",\"L5H3\",\"L5H4\",\"L5H5\",\"L5H6\",\"L5H7\",\"L5H8\",\"L5H9\",\"L5H10\",\"L5H11\",\"L6H0\",\"L6H1\",\"L6H2\",\"L6H3\",\"L6H4\",\"L6H5\",\"L6H6\",\"L6H7\",\"L6H8\",\"L6H9\",\"L6H10\",\"L6H11\",\"L7H0\",\"L7H1\",\"L7H2\",\"L7H3\",\"L7H4\",\"L7H5\",\"L7H6\",\"L7H7\",\"L7H8\",\"L7H9\",\"L7H10\",\"L7H11\",\"L8H0\",\"L8H1\",\"L8H2\",\"L8H3\",\"L8H4\",\"L8H5\",\"L8H6\",\"L8H7\",\"L8H8\",\"L8H9\",\"L8H10\",\"L8H11\",\"L9H0\",\"L9H1\",\"L9H2\",\"L9H3\",\"L9H4\",\"L9H5\",\"L9H6\",\"L9H7\",\"L9H8\",\"L9H9\",\"L9H10\",\"L9H11\",\"L10H0\",\"L10H1\",\"L10H2\",\"L10H3\",\"L10H4\",\"L10H5\",\"L10H6\",\"L10H7\",\"L10H8\",\"L10H9\",\"L10H10\",\"L10H11\",\"L11H0\",\"L11H1\",\"L11H2\",\"L11H3\",\"L11H4\",\"L11H5\",\"L11H6\",\"L11H7\",\"L11H8\",\"L11H9\",\"L11H10\",\"L11H11\"],\"legendgroup\":\"\",\"marker\":{\"color\":[0,0,0,0,0,0,0,0,0,0,0,0,1,1,1,1,1,1,1,1,1,1,1,1,2,2,2,2,2,2,2,2,2,2,2,2,3,3,3,3,3,3,3,3,3,3,3,3,4,4,4,4,4,4,4,4,4,4,4,4,5,5,5,5,5,5,5,5,5,5,5,5,6,6,6,6,6,6,6,6,6,6,6,6,7,7,7,7,7,7,7,7,7,7,7,7,8,8,8,8,8,8,8,8,8,8,8,8,9,9,9,9,9,9,9,9,9,9,9,9,10,10,10,10,10,10,10,10,10,10,10,10,11,11,11,11,11,11,11,11,11,11,11,11],\"coloraxis\":\"coloraxis\",\"symbol\":\"circle\"},\"mode\":\"markers\",\"name\":\"\",\"orientation\":\"v\",\"showlegend\":false,\"x\":[-0.1326376050710678,0.5292702317237854,-0.09317293018102646,-0.4056520462036133,0.0025733609218150377,0.08301921933889389,-0.003139554290100932,-0.047867752611637115,0.0008081540581770241,-0.09924434125423431,0.26379379630088806,0.0862356498837471,-0.0033448298927396536,0.05768132209777832,0.031272269785404205,-0.015363559126853943,0.029193351045250893,0.03882160410284996,-0.008151673711836338,0.0039406949654221535,-0.017665017396211624,0.04370208829641342,0.09111478179693222,0.06860408186912537,0.03300106152892113,-0.07785442471504211,-0.023680316284298897,-0.09798301011323929,-0.014678947627544403,0.01999129354953766,0.0658610463142395,-0.009616386145353317,0.10300403833389282,-0.03063810244202614,0.12658292055130005,0.013805515132844448,0.3688041865825653,-0.03012450784444809,0.0007631067419424653,-0.0028511977288872004,0.20403516292572021,0.1336933821439743,0.012852778658270836,-0.07372382283210754,-0.05808243155479431,0.03254411369562149,-0.1321871429681778,-0.00958536472171545,0.026741644367575645,0.11633587628602982,0.031604595482349396,-0.258133202791214,0.21474508941173553,0.011803203262388706,0.08659278601408005,-0.11117890477180481,0.020851507782936096,0.08540429919958115,0.056100890040397644,0.1511647254228592,0.11299752444028854,-0.021355658769607544,-0.07417052239179611,0.010369242168962955,-0.013395234011113644,0.1368674635887146,-0.15664134919643402,-0.028743956238031387,0.01616469956934452,0.28494498133659363,0.022293830290436745,0.08294233679771423,-0.4292614459991455,0.01743357628583908,-0.027734573930501938,-0.045902665704488754,0.06082357093691826,0.09159357845783234,-0.032186705619096756,-0.04119157791137695,-0.08111482113599777,0.07713744044303894,0.05316256359219551,-0.11202212423086166,0.009020251221954823,0.06321188807487488,0.044067054986953735,-0.5603793263435364,-0.07050874084234238,0.11926152557134628,-0.09984640777111053,0.027927441522479057,-0.0508001409471035,-0.9714481234550476,-0.013107147067785263,-0.05012928694486618,0.009513343684375286,0.01957399770617485,0.1302179992198944,0.36167484521865845,0.056692708283662796,-0.25852134823799133,0.24607966840267181,-0.06481902301311493,0.04919624328613281,-0.04103674739599228,-1.6015466451644897,0.19872955977916718,-0.03884534165263176,-0.08046095818281174,0.21233680844306946,-0.05355369299650192,0.5543615818023682,-0.1570761799812317,0.04664662107825279,-0.6669188737869263,0.14586074650287628,0.8196799755096436,0.005167762283235788,0.004576212726533413,0.5419260859489441,-0.20330145955085754,0.6565032601356506,0.18669356405735016,0.01567268557846546,0.002975280163809657,0.5485909581184387,-1.3225867748260498,-0.014415946789085865,0.06558401882648468,0.9382196664810181,0.1108066588640213,-0.1269897073507309,0.5572739839553833,1.301512360572815,0.17530712485313416,-0.03517870977520943,-0.06827633827924728,0.3738904595375061,-0.08643337339162827,0.03275046870112419,0.09495756030082703,-0.9490431547164917,0.055992722511291504],\"xaxis\":\"x\",\"y\":[-0.15481868386268616,1.2174922227859497,-0.27252811193466187,-0.3936408758163452,0.0841483622789383,0.03040369413793087,-0.050181079655885696,-0.083766408264637,-0.050122275948524475,-0.07914568483829498,0.3878341019153595,0.053085148334503174,0.02642199769616127,0.04544787481427193,0.020032832399010658,0.17518411576747894,0.05647933855652809,0.13204741477966309,-0.006211402826011181,-0.0024220345076173544,-0.04559407755732536,0.03682684525847435,0.092220738530159,-0.09770787507295609,-0.05405568704009056,0.00015429376799147576,-0.04390682652592659,-0.11206448078155518,0.024634672328829765,0.009781469590961933,0.054840102791786194,0.0228926632553339,-0.013254967518150806,0.0074881031177937984,0.0428011454641819,-0.0456027090549469,0.17011049389839172,0.05550394579768181,0.03510803356766701,0.030876286327838898,0.2512490451335907,0.07353176921606064,-0.04935026541352272,0.018147319555282593,-0.02424462139606476,-0.03377199172973633,-0.14292646944522858,0.021584402769804,0.0253834817558527,0.09226605296134949,-0.06148633360862732,-0.3431533873081207,0.2888813614845276,-0.028417836874723434,0.1920795440673828,-0.1077418252825737,-0.003842238336801529,0.08700495958328247,0.025141790509223938,0.1920938491821289,-0.07221568375825882,-0.1557358205318451,-0.09202975779771805,0.05605665221810341,0.03426211699843407,0.8269115090370178,-0.19729425013065338,-0.048204123973846436,0.11551261693239212,0.28115370869636536,0.10994590818881989,0.07101505249738693,-0.3996634781360626,0.22543776035308838,-0.04388497769832611,-0.10075139999389648,0.0031905360519886017,0.09239283204078674,0.12506157159805298,-0.02644195966422558,0.0079515241086483,-0.02471829205751419,0.0942772626876831,-0.10097825527191162,-0.008342113345861435,0.12399554252624512,-0.06212616711854935,-0.32575350999832153,-0.04653710126876831,0.10619295388460159,-0.03399749845266342,-0.0008650700910948217,-0.06121092662215233,-1.1330212354660034,-0.00048634904669597745,-0.07891181856393814,0.03248288482427597,0.01148274727165699,0.11451132595539093,0.25015658140182495,0.04060731455683708,-0.16719239950180054,0.43291160464286804,-0.07716900110244751,0.0006241883966140449,0.017110422253608704,-1.480268955230713,0.2073923945426941,0.1264844685792923,-0.1555008739233017,0.148687943816185,-0.07448019087314606,0.5228748321533203,-0.18441961705684662,0.05138036236166954,-0.7684120535850525,0.3010147213935852,-0.8018290996551514,-0.007426061667501926,-0.12456955760717392,-0.5591994524002075,0.07297663390636444,0.678852915763855,0.1427573412656784,-0.03046249784529209,0.004114679992198944,0.3474900424480438,-0.06830789893865585,0.03003980964422226,0.03334498777985573,0.4808095693588257,0.19705148041248322,-0.08624158054590225,1.0185325145721436,1.2773646116256714,0.29820993542671204,-0.008889155462384224,0.1498030573129654,0.35285067558288574,-0.10216809809207916,0.011355157941579819,0.011611144989728928,0.8173547387123108,0.08645576238632202],\"yaxis\":\"y\",\"type\":\"scatter\"}],                        {\"template\":{\"data\":{\"histogram2dcontour\":[{\"type\":\"histogram2dcontour\",\"colorbar\":{\"outlinewidth\":0,\"ticks\":\"\"},\"colorscale\":[[0.0,\"#0d0887\"],[0.1111111111111111,\"#46039f\"],[0.2222222222222222,\"#7201a8\"],[0.3333333333333333,\"#9c179e\"],[0.4444444444444444,\"#bd3786\"],[0.5555555555555556,\"#d8576b\"],[0.6666666666666666,\"#ed7953\"],[0.7777777777777778,\"#fb9f3a\"],[0.8888888888888888,\"#fdca26\"],[1.0,\"#f0f921\"]]}],\"choropleth\":[{\"type\":\"choropleth\",\"colorbar\":{\"outlinewidth\":0,\"ticks\":\"\"}}],\"histogram2d\":[{\"type\":\"histogram2d\",\"colorbar\":{\"outlinewidth\":0,\"ticks\":\"\"},\"colorscale\":[[0.0,\"#0d0887\"],[0.1111111111111111,\"#46039f\"],[0.2222222222222222,\"#7201a8\"],[0.3333333333333333,\"#9c179e\"],[0.4444444444444444,\"#bd3786\"],[0.5555555555555556,\"#d8576b\"],[0.6666666666666666,\"#ed7953\"],[0.7777777777777778,\"#fb9f3a\"],[0.8888888888888888,\"#fdca26\"],[1.0,\"#f0f921\"]]}],\"heatmap\":[{\"type\":\"heatmap\",\"colorbar\":{\"outlinewidth\":0,\"ticks\":\"\"},\"colorscale\":[[0.0,\"#0d0887\"],[0.1111111111111111,\"#46039f\"],[0.2222222222222222,\"#7201a8\"],[0.3333333333333333,\"#9c179e\"],[0.4444444444444444,\"#bd3786\"],[0.5555555555555556,\"#d8576b\"],[0.6666666666666666,\"#ed7953\"],[0.7777777777777778,\"#fb9f3a\"],[0.8888888888888888,\"#fdca26\"],[1.0,\"#f0f921\"]]}],\"heatmapgl\":[{\"type\":\"heatmapgl\",\"colorbar\":{\"outlinewidth\":0,\"ticks\":\"\"},\"colorscale\":[[0.0,\"#0d0887\"],[0.1111111111111111,\"#46039f\"],[0.2222222222222222,\"#7201a8\"],[0.3333333333333333,\"#9c179e\"],[0.4444444444444444,\"#bd3786\"],[0.5555555555555556,\"#d8576b\"],[0.6666666666666666,\"#ed7953\"],[0.7777777777777778,\"#fb9f3a\"],[0.8888888888888888,\"#fdca26\"],[1.0,\"#f0f921\"]]}],\"contourcarpet\":[{\"type\":\"contourcarpet\",\"colorbar\":{\"outlinewidth\":0,\"ticks\":\"\"}}],\"contour\":[{\"type\":\"contour\",\"colorbar\":{\"outlinewidth\":0,\"ticks\":\"\"},\"colorscale\":[[0.0,\"#0d0887\"],[0.1111111111111111,\"#46039f\"],[0.2222222222222222,\"#7201a8\"],[0.3333333333333333,\"#9c179e\"],[0.4444444444444444,\"#bd3786\"],[0.5555555555555556,\"#d8576b\"],[0.6666666666666666,\"#ed7953\"],[0.7777777777777778,\"#fb9f3a\"],[0.8888888888888888,\"#fdca26\"],[1.0,\"#f0f921\"]]}],\"surface\":[{\"type\":\"surface\",\"colorbar\":{\"outlinewidth\":0,\"ticks\":\"\"},\"colorscale\":[[0.0,\"#0d0887\"],[0.1111111111111111,\"#46039f\"],[0.2222222222222222,\"#7201a8\"],[0.3333333333333333,\"#9c179e\"],[0.4444444444444444,\"#bd3786\"],[0.5555555555555556,\"#d8576b\"],[0.6666666666666666,\"#ed7953\"],[0.7777777777777778,\"#fb9f3a\"],[0.8888888888888888,\"#fdca26\"],[1.0,\"#f0f921\"]]}],\"mesh3d\":[{\"type\":\"mesh3d\",\"colorbar\":{\"outlinewidth\":0,\"ticks\":\"\"}}],\"scatter\":[{\"fillpattern\":{\"fillmode\":\"overlay\",\"size\":10,\"solidity\":0.2},\"type\":\"scatter\"}],\"parcoords\":[{\"type\":\"parcoords\",\"line\":{\"colorbar\":{\"outlinewidth\":0,\"ticks\":\"\"}}}],\"scatterpolargl\":[{\"type\":\"scatterpolargl\",\"marker\":{\"colorbar\":{\"outlinewidth\":0,\"ticks\":\"\"}}}],\"bar\":[{\"error_x\":{\"color\":\"#2a3f5f\"},\"error_y\":{\"color\":\"#2a3f5f\"},\"marker\":{\"line\":{\"color\":\"#E5ECF6\",\"width\":0.5},\"pattern\":{\"fillmode\":\"overlay\",\"size\":10,\"solidity\":0.2}},\"type\":\"bar\"}],\"scattergeo\":[{\"type\":\"scattergeo\",\"marker\":{\"colorbar\":{\"outlinewidth\":0,\"ticks\":\"\"}}}],\"scatterpolar\":[{\"type\":\"scatterpolar\",\"marker\":{\"colorbar\":{\"outlinewidth\":0,\"ticks\":\"\"}}}],\"histogram\":[{\"marker\":{\"pattern\":{\"fillmode\":\"overlay\",\"size\":10,\"solidity\":0.2}},\"type\":\"histogram\"}],\"scattergl\":[{\"type\":\"scattergl\",\"marker\":{\"colorbar\":{\"outlinewidth\":0,\"ticks\":\"\"}}}],\"scatter3d\":[{\"type\":\"scatter3d\",\"line\":{\"colorbar\":{\"outlinewidth\":0,\"ticks\":\"\"}},\"marker\":{\"colorbar\":{\"outlinewidth\":0,\"ticks\":\"\"}}}],\"scattermapbox\":[{\"type\":\"scattermapbox\",\"marker\":{\"colorbar\":{\"outlinewidth\":0,\"ticks\":\"\"}}}],\"scatterternary\":[{\"type\":\"scatterternary\",\"marker\":{\"colorbar\":{\"outlinewidth\":0,\"ticks\":\"\"}}}],\"scattercarpet\":[{\"type\":\"scattercarpet\",\"marker\":{\"colorbar\":{\"outlinewidth\":0,\"ticks\":\"\"}}}],\"carpet\":[{\"aaxis\":{\"endlinecolor\":\"#2a3f5f\",\"gridcolor\":\"white\",\"linecolor\":\"white\",\"minorgridcolor\":\"white\",\"startlinecolor\":\"#2a3f5f\"},\"baxis\":{\"endlinecolor\":\"#2a3f5f\",\"gridcolor\":\"white\",\"linecolor\":\"white\",\"minorgridcolor\":\"white\",\"startlinecolor\":\"#2a3f5f\"},\"type\":\"carpet\"}],\"table\":[{\"cells\":{\"fill\":{\"color\":\"#EBF0F8\"},\"line\":{\"color\":\"white\"}},\"header\":{\"fill\":{\"color\":\"#C8D4E3\"},\"line\":{\"color\":\"white\"}},\"type\":\"table\"}],\"barpolar\":[{\"marker\":{\"line\":{\"color\":\"#E5ECF6\",\"width\":0.5},\"pattern\":{\"fillmode\":\"overlay\",\"size\":10,\"solidity\":0.2}},\"type\":\"barpolar\"}],\"pie\":[{\"automargin\":true,\"type\":\"pie\"}]},\"layout\":{\"autotypenumbers\":\"strict\",\"colorway\":[\"#636efa\",\"#EF553B\",\"#00cc96\",\"#ab63fa\",\"#FFA15A\",\"#19d3f3\",\"#FF6692\",\"#B6E880\",\"#FF97FF\",\"#FECB52\"],\"font\":{\"color\":\"#2a3f5f\"},\"hovermode\":\"closest\",\"hoverlabel\":{\"align\":\"left\"},\"paper_bgcolor\":\"white\",\"plot_bgcolor\":\"#E5ECF6\",\"polar\":{\"bgcolor\":\"#E5ECF6\",\"angularaxis\":{\"gridcolor\":\"white\",\"linecolor\":\"white\",\"ticks\":\"\"},\"radialaxis\":{\"gridcolor\":\"white\",\"linecolor\":\"white\",\"ticks\":\"\"}},\"ternary\":{\"bgcolor\":\"#E5ECF6\",\"aaxis\":{\"gridcolor\":\"white\",\"linecolor\":\"white\",\"ticks\":\"\"},\"baxis\":{\"gridcolor\":\"white\",\"linecolor\":\"white\",\"ticks\":\"\"},\"caxis\":{\"gridcolor\":\"white\",\"linecolor\":\"white\",\"ticks\":\"\"}},\"coloraxis\":{\"colorbar\":{\"outlinewidth\":0,\"ticks\":\"\"}},\"colorscale\":{\"sequential\":[[0.0,\"#0d0887\"],[0.1111111111111111,\"#46039f\"],[0.2222222222222222,\"#7201a8\"],[0.3333333333333333,\"#9c179e\"],[0.4444444444444444,\"#bd3786\"],[0.5555555555555556,\"#d8576b\"],[0.6666666666666666,\"#ed7953\"],[0.7777777777777778,\"#fb9f3a\"],[0.8888888888888888,\"#fdca26\"],[1.0,\"#f0f921\"]],\"sequentialminus\":[[0.0,\"#0d0887\"],[0.1111111111111111,\"#46039f\"],[0.2222222222222222,\"#7201a8\"],[0.3333333333333333,\"#9c179e\"],[0.4444444444444444,\"#bd3786\"],[0.5555555555555556,\"#d8576b\"],[0.6666666666666666,\"#ed7953\"],[0.7777777777777778,\"#fb9f3a\"],[0.8888888888888888,\"#fdca26\"],[1.0,\"#f0f921\"]],\"diverging\":[[0,\"#8e0152\"],[0.1,\"#c51b7d\"],[0.2,\"#de77ae\"],[0.3,\"#f1b6da\"],[0.4,\"#fde0ef\"],[0.5,\"#f7f7f7\"],[0.6,\"#e6f5d0\"],[0.7,\"#b8e186\"],[0.8,\"#7fbc41\"],[0.9,\"#4d9221\"],[1,\"#276419\"]]},\"xaxis\":{\"gridcolor\":\"white\",\"linecolor\":\"white\",\"ticks\":\"\",\"title\":{\"standoff\":15},\"zerolinecolor\":\"white\",\"automargin\":true,\"zerolinewidth\":2},\"yaxis\":{\"gridcolor\":\"white\",\"linecolor\":\"white\",\"ticks\":\"\",\"title\":{\"standoff\":15},\"zerolinecolor\":\"white\",\"automargin\":true,\"zerolinewidth\":2},\"scene\":{\"xaxis\":{\"backgroundcolor\":\"#E5ECF6\",\"gridcolor\":\"white\",\"linecolor\":\"white\",\"showbackground\":true,\"ticks\":\"\",\"zerolinecolor\":\"white\",\"gridwidth\":2},\"yaxis\":{\"backgroundcolor\":\"#E5ECF6\",\"gridcolor\":\"white\",\"linecolor\":\"white\",\"showbackground\":true,\"ticks\":\"\",\"zerolinecolor\":\"white\",\"gridwidth\":2},\"zaxis\":{\"backgroundcolor\":\"#E5ECF6\",\"gridcolor\":\"white\",\"linecolor\":\"white\",\"showbackground\":true,\"ticks\":\"\",\"zerolinecolor\":\"white\",\"gridwidth\":2}},\"shapedefaults\":{\"line\":{\"color\":\"#2a3f5f\"}},\"annotationdefaults\":{\"arrowcolor\":\"#2a3f5f\",\"arrowhead\":0,\"arrowwidth\":1},\"geo\":{\"bgcolor\":\"white\",\"landcolor\":\"#E5ECF6\",\"subunitcolor\":\"white\",\"showland\":true,\"showlakes\":true,\"lakecolor\":\"white\"},\"title\":{\"x\":0.05},\"mapbox\":{\"style\":\"light\"}}},\"xaxis\":{\"anchor\":\"y\",\"domain\":[0.0,1.0],\"title\":{\"text\":\"Value Patch\"},\"range\":[-0.5,0.5]},\"yaxis\":{\"anchor\":\"x\",\"domain\":[0.0,1.0],\"title\":{\"text\":\"Output Patch\"},\"range\":[-0.5,0.5]},\"coloraxis\":{\"colorbar\":{\"title\":{\"text\":\"Layer\"}},\"colorscale\":[[0.0,\"#0d0887\"],[0.1111111111111111,\"#46039f\"],[0.2222222222222222,\"#7201a8\"],[0.3333333333333333,\"#9c179e\"],[0.4444444444444444,\"#bd3786\"],[0.5555555555555556,\"#d8576b\"],[0.6666666666666666,\"#ed7953\"],[0.7777777777777778,\"#fb9f3a\"],[0.8888888888888888,\"#fdca26\"],[1.0,\"#f0f921\"]]},\"legend\":{\"tracegroupgap\":0},\"title\":{\"text\":\"Scatter plot of output patching vs value patching\"}},                        {\"responsive\": true}                    ).then(function(){\n",
       "                            \n",
       "var gd = document.getElementById('0f241e24-20cc-41a8-9ca0-3e30aa85a8b6');\n",
       "var x = new MutationObserver(function (mutations, observer) {{\n",
       "        var display = window.getComputedStyle(gd).display;\n",
       "        if (!display || display === 'none') {{\n",
       "            console.log([gd, 'removed!']);\n",
       "            Plotly.purge(gd);\n",
       "            observer.disconnect();\n",
       "        }}\n",
       "}});\n",
       "\n",
       "// Listen for the removal of the full notebook cells\n",
       "var notebookContainer = gd.closest('#notebook-container');\n",
       "if (notebookContainer) {{\n",
       "    x.observe(notebookContainer, {childList: true});\n",
       "}}\n",
       "\n",
       "// Listen for the clearing of the current output cell\n",
       "var outputEl = gd.closest('.output');\n",
       "if (outputEl) {{\n",
       "    x.observe(outputEl, {childList: true});\n",
       "}}\n",
       "\n",
       "                        })                };                });            </script>        </div>"
      ]
     },
     "metadata": {},
     "output_type": "display_data"
    }
   ],
   "source": [
    "head_labels = [\n",
    "    f\"L{l}H{h}\" for l in range(model.cfg.n_layers) for h in range(model.cfg.n_heads)\n",
    "]\n",
    "scatter(\n",
    "    x=utils.to_numpy(patched_head_v_diff.flatten()),\n",
    "    y=utils.to_numpy(patched_head_z_diff.flatten()),\n",
    "    xaxis=\"Value Patch\",\n",
    "    yaxis=\"Output Patch\",\n",
    "    caxis=\"Layer\",\n",
    "    hover_name=head_labels,\n",
    "    color=einops.repeat(\n",
    "        np.arange(model.cfg.n_layers), \"layer -> (layer head)\", head=model.cfg.n_heads\n",
    "    ),\n",
    "    range_x=(-0.5, 0.5),\n",
    "    range_y=(-0.5, 0.5),\n",
    "    title=\"Scatter plot of output patching vs value patching\",\n",
    ")"
   ]
  },
  {
   "cell_type": "code",
   "execution_count": 90,
   "metadata": {},
   "outputs": [],
   "source": [
    "def patch_head_pattern(\n",
    "    corrupted_head_pattern: Float[torch.Tensor, \"batch head_index query_pos d_head\"],\n",
    "    hook,\n",
    "    head_index,\n",
    "    clean_cache,\n",
    "):\n",
    "    corrupted_head_pattern[:, head_index, :, :] = clean_cache[hook.name][\n",
    "        :, head_index, :, :\n",
    "    ]\n",
    "    return corrupted_head_pattern\n",
    "\n",
    "\n",
    "patched_head_attn_diff = torch.zeros(\n",
    "    model.cfg.n_layers, model.cfg.n_heads, device=device, dtype=torch.float32\n",
    ")\n",
    "for layer in range(model.cfg.n_layers):\n",
    "    for head_index in range(model.cfg.n_heads):\n",
    "        hook_fn = partial(patch_head_pattern, head_index=head_index, clean_cache=cache)\n",
    "        patched_logits = model.run_with_hooks(\n",
    "            corrupted_tokens,\n",
    "            fwd_hooks=[(utils.get_act_name(\"attn\", layer, \"attn\"), hook_fn)],\n",
    "            return_type=\"logits\",\n",
    "        )\n",
    "        patched_logit_diff = logits_to_ave_logit_diff(patched_logits, answer_tokens)\n",
    "\n",
    "        patched_head_attn_diff[layer, head_index] = normalize_patched_logit_diff(\n",
    "            patched_logit_diff\n",
    "        )"
   ]
  },
  {
   "cell_type": "code",
   "execution_count": 91,
   "metadata": {},
   "outputs": [
    {
     "data": {
      "application/vnd.plotly.v1+json": {
       "config": {
        "plotlyServerURL": "https://plot.ly"
       },
       "data": [
        {
         "coloraxis": "coloraxis",
         "hovertemplate": "Head: %{x}<br>Layer: %{y}<br>color: %{z}<extra></extra>",
         "name": "0",
         "type": "heatmap",
         "xaxis": "x",
         "yaxis": "y",
         "z": [
          [
           0.01501397043466568,
           0.7215102910995483,
           0.08632142841815948,
           -0.07167916744947433,
           0.000030211365810828283,
           0.009430262260138988,
           0.010098149068653584,
           -0.008630739524960518,
           -0.07871301472187042,
           0.07562039792537689,
           0.07523951679468155,
           -0.002985260682180524
          ],
          [
           0.006544267293065786,
           0.06562826037406921,
           -0.008737558498978615,
           0.17842401564121246,
           0.01979842595756054,
           -0.17404821515083313,
           0.04372016340494156,
           0.014425927773118019,
           -0.033501166850328445,
           0.025323059409856796,
           0.014191249385476112,
           -0.11510287970304489
          ],
          [
           -0.004179958254098892,
           0.0004154062771704048,
           -0.09462200105190277,
           -0.001665671356022358,
           -0.07685663551092148,
           0.011616270057857037,
           0.0603552982211113,
           0.007253425195813179,
           0.039471421390771866,
           -0.03335415944457054,
           0.00765642337501049,
           -0.06104692071676254
          ],
          [
           0.2689949870109558,
           -0.017382865771651268,
           0.043756309896707535,
           -0.013140865601599216,
           0.03098607249557972,
           -0.009205295704305172,
           0.2526395916938782,
           0.06822589784860611,
           0.010763068683445454,
           -0.032031599432229996,
           0.01902884431183338,
           0.054851971566677094
          ],
          [
           -0.04412262141704559,
           0.11015307158231735,
           -0.0369039922952652,
           0.06542864441871643,
           0.09408386051654816,
           -0.010831584222614765,
           0.14327631890773773,
           0.007641317788511515,
           0.018127359449863434,
           0.025986630469560623,
           0.04819926619529724,
           0.02825571969151497
          ],
          [
           -0.1369359791278839,
           -0.17274481058120728,
           -0.027347220107913017,
           0.059531766921281815,
           0.02448037825524807,
           0.8482882380485535,
           -0.08117200434207916,
           0.006322267930954695,
           0.08266693353652954,
           0.03385668992996216,
           0.08964090049266815,
           0.025450918823480606
          ],
          [
           0.044936709105968475,
           0.05098923295736313,
           -0.02668364904820919,
           -0.05058758333325386,
           0.028569702059030533,
           0.004626115318387747,
           0.06281401962041855,
           0.048357877880334854,
           0.008707886561751366,
           -0.04774421080946922,
           0.04168548062443733,
           0.03823491185903549
          ],
          [
           0.03935084491968155,
           0.10875147581100464,
           0.017952024936676025,
           0.06177792698144913,
           0.012729775160551071,
           -0.0016850929241627455,
           -0.008749427273869514,
           -0.04324190691113472,
           0.029809987172484398,
           0.13873329758644104,
           -0.033068228513002396,
           -0.06530294567346573
          ],
          [
           0.0370391346514225,
           -0.011311459355056286,
           0.040520187467336655,
           -0.06845463812351227,
           -0.004670353606343269,
           0.014921717345714569,
           0.07097351551055908,
           -0.027701394632458687,
           -0.0450025275349617,
           -0.035302791744470596,
           -0.10175943374633789,
           0.08042293041944504
          ],
          [
           -0.010297490283846855,
           -0.08578085899353027,
           -0.03593749925494194,
           -0.020576637238264084,
           0.02632920630276203,
           -0.0066095455549657345,
           0.05059567466378212,
           0.6139815449714661,
           0.003438161453232169,
           0.7300614714622498,
           -0.011891139671206474,
           0.017769139260053635
          ],
          [
           -0.3640097379684448,
           -0.1743430495262146,
           0.42372143268585205,
           0.05595090985298157,
           -0.07055298238992691,
           -0.006368664093315601,
           -0.330131471157074,
           0.638366162776947,
           -0.006659448146820068,
           -0.009253310039639473,
           0.24497884511947632,
           0.007519932929426432
          ],
          [
           0.01727604679763317,
           -0.3947676122188568,
           0.17035163938999176,
           0.02164536528289318,
           -0.03524884209036827,
           0.11315613240003586,
           -0.005645749159157276,
           -0.04491863772273064,
           -0.009500126354396343,
           -0.3135233223438263,
           0.9433482885360718,
           0.04132618010044098
          ]
         ]
        }
       ],
       "layout": {
        "coloraxis": {
         "cmid": 0,
         "colorscale": [
          [
           0,
           "rgb(103,0,31)"
          ],
          [
           0.1,
           "rgb(178,24,43)"
          ],
          [
           0.2,
           "rgb(214,96,77)"
          ],
          [
           0.3,
           "rgb(244,165,130)"
          ],
          [
           0.4,
           "rgb(253,219,199)"
          ],
          [
           0.5,
           "rgb(247,247,247)"
          ],
          [
           0.6,
           "rgb(209,229,240)"
          ],
          [
           0.7,
           "rgb(146,197,222)"
          ],
          [
           0.8,
           "rgb(67,147,195)"
          ],
          [
           0.9,
           "rgb(33,102,172)"
          ],
          [
           1,
           "rgb(5,48,97)"
          ]
         ]
        },
        "template": {
         "data": {
          "bar": [
           {
            "error_x": {
             "color": "#2a3f5f"
            },
            "error_y": {
             "color": "#2a3f5f"
            },
            "marker": {
             "line": {
              "color": "#E5ECF6",
              "width": 0.5
             },
             "pattern": {
              "fillmode": "overlay",
              "size": 10,
              "solidity": 0.2
             }
            },
            "type": "bar"
           }
          ],
          "barpolar": [
           {
            "marker": {
             "line": {
              "color": "#E5ECF6",
              "width": 0.5
             },
             "pattern": {
              "fillmode": "overlay",
              "size": 10,
              "solidity": 0.2
             }
            },
            "type": "barpolar"
           }
          ],
          "carpet": [
           {
            "aaxis": {
             "endlinecolor": "#2a3f5f",
             "gridcolor": "white",
             "linecolor": "white",
             "minorgridcolor": "white",
             "startlinecolor": "#2a3f5f"
            },
            "baxis": {
             "endlinecolor": "#2a3f5f",
             "gridcolor": "white",
             "linecolor": "white",
             "minorgridcolor": "white",
             "startlinecolor": "#2a3f5f"
            },
            "type": "carpet"
           }
          ],
          "choropleth": [
           {
            "colorbar": {
             "outlinewidth": 0,
             "ticks": ""
            },
            "type": "choropleth"
           }
          ],
          "contour": [
           {
            "colorbar": {
             "outlinewidth": 0,
             "ticks": ""
            },
            "colorscale": [
             [
              0,
              "#0d0887"
             ],
             [
              0.1111111111111111,
              "#46039f"
             ],
             [
              0.2222222222222222,
              "#7201a8"
             ],
             [
              0.3333333333333333,
              "#9c179e"
             ],
             [
              0.4444444444444444,
              "#bd3786"
             ],
             [
              0.5555555555555556,
              "#d8576b"
             ],
             [
              0.6666666666666666,
              "#ed7953"
             ],
             [
              0.7777777777777778,
              "#fb9f3a"
             ],
             [
              0.8888888888888888,
              "#fdca26"
             ],
             [
              1,
              "#f0f921"
             ]
            ],
            "type": "contour"
           }
          ],
          "contourcarpet": [
           {
            "colorbar": {
             "outlinewidth": 0,
             "ticks": ""
            },
            "type": "contourcarpet"
           }
          ],
          "heatmap": [
           {
            "colorbar": {
             "outlinewidth": 0,
             "ticks": ""
            },
            "colorscale": [
             [
              0,
              "#0d0887"
             ],
             [
              0.1111111111111111,
              "#46039f"
             ],
             [
              0.2222222222222222,
              "#7201a8"
             ],
             [
              0.3333333333333333,
              "#9c179e"
             ],
             [
              0.4444444444444444,
              "#bd3786"
             ],
             [
              0.5555555555555556,
              "#d8576b"
             ],
             [
              0.6666666666666666,
              "#ed7953"
             ],
             [
              0.7777777777777778,
              "#fb9f3a"
             ],
             [
              0.8888888888888888,
              "#fdca26"
             ],
             [
              1,
              "#f0f921"
             ]
            ],
            "type": "heatmap"
           }
          ],
          "heatmapgl": [
           {
            "colorbar": {
             "outlinewidth": 0,
             "ticks": ""
            },
            "colorscale": [
             [
              0,
              "#0d0887"
             ],
             [
              0.1111111111111111,
              "#46039f"
             ],
             [
              0.2222222222222222,
              "#7201a8"
             ],
             [
              0.3333333333333333,
              "#9c179e"
             ],
             [
              0.4444444444444444,
              "#bd3786"
             ],
             [
              0.5555555555555556,
              "#d8576b"
             ],
             [
              0.6666666666666666,
              "#ed7953"
             ],
             [
              0.7777777777777778,
              "#fb9f3a"
             ],
             [
              0.8888888888888888,
              "#fdca26"
             ],
             [
              1,
              "#f0f921"
             ]
            ],
            "type": "heatmapgl"
           }
          ],
          "histogram": [
           {
            "marker": {
             "pattern": {
              "fillmode": "overlay",
              "size": 10,
              "solidity": 0.2
             }
            },
            "type": "histogram"
           }
          ],
          "histogram2d": [
           {
            "colorbar": {
             "outlinewidth": 0,
             "ticks": ""
            },
            "colorscale": [
             [
              0,
              "#0d0887"
             ],
             [
              0.1111111111111111,
              "#46039f"
             ],
             [
              0.2222222222222222,
              "#7201a8"
             ],
             [
              0.3333333333333333,
              "#9c179e"
             ],
             [
              0.4444444444444444,
              "#bd3786"
             ],
             [
              0.5555555555555556,
              "#d8576b"
             ],
             [
              0.6666666666666666,
              "#ed7953"
             ],
             [
              0.7777777777777778,
              "#fb9f3a"
             ],
             [
              0.8888888888888888,
              "#fdca26"
             ],
             [
              1,
              "#f0f921"
             ]
            ],
            "type": "histogram2d"
           }
          ],
          "histogram2dcontour": [
           {
            "colorbar": {
             "outlinewidth": 0,
             "ticks": ""
            },
            "colorscale": [
             [
              0,
              "#0d0887"
             ],
             [
              0.1111111111111111,
              "#46039f"
             ],
             [
              0.2222222222222222,
              "#7201a8"
             ],
             [
              0.3333333333333333,
              "#9c179e"
             ],
             [
              0.4444444444444444,
              "#bd3786"
             ],
             [
              0.5555555555555556,
              "#d8576b"
             ],
             [
              0.6666666666666666,
              "#ed7953"
             ],
             [
              0.7777777777777778,
              "#fb9f3a"
             ],
             [
              0.8888888888888888,
              "#fdca26"
             ],
             [
              1,
              "#f0f921"
             ]
            ],
            "type": "histogram2dcontour"
           }
          ],
          "mesh3d": [
           {
            "colorbar": {
             "outlinewidth": 0,
             "ticks": ""
            },
            "type": "mesh3d"
           }
          ],
          "parcoords": [
           {
            "line": {
             "colorbar": {
              "outlinewidth": 0,
              "ticks": ""
             }
            },
            "type": "parcoords"
           }
          ],
          "pie": [
           {
            "automargin": true,
            "type": "pie"
           }
          ],
          "scatter": [
           {
            "fillpattern": {
             "fillmode": "overlay",
             "size": 10,
             "solidity": 0.2
            },
            "type": "scatter"
           }
          ],
          "scatter3d": [
           {
            "line": {
             "colorbar": {
              "outlinewidth": 0,
              "ticks": ""
             }
            },
            "marker": {
             "colorbar": {
              "outlinewidth": 0,
              "ticks": ""
             }
            },
            "type": "scatter3d"
           }
          ],
          "scattercarpet": [
           {
            "marker": {
             "colorbar": {
              "outlinewidth": 0,
              "ticks": ""
             }
            },
            "type": "scattercarpet"
           }
          ],
          "scattergeo": [
           {
            "marker": {
             "colorbar": {
              "outlinewidth": 0,
              "ticks": ""
             }
            },
            "type": "scattergeo"
           }
          ],
          "scattergl": [
           {
            "marker": {
             "colorbar": {
              "outlinewidth": 0,
              "ticks": ""
             }
            },
            "type": "scattergl"
           }
          ],
          "scattermapbox": [
           {
            "marker": {
             "colorbar": {
              "outlinewidth": 0,
              "ticks": ""
             }
            },
            "type": "scattermapbox"
           }
          ],
          "scatterpolar": [
           {
            "marker": {
             "colorbar": {
              "outlinewidth": 0,
              "ticks": ""
             }
            },
            "type": "scatterpolar"
           }
          ],
          "scatterpolargl": [
           {
            "marker": {
             "colorbar": {
              "outlinewidth": 0,
              "ticks": ""
             }
            },
            "type": "scatterpolargl"
           }
          ],
          "scatterternary": [
           {
            "marker": {
             "colorbar": {
              "outlinewidth": 0,
              "ticks": ""
             }
            },
            "type": "scatterternary"
           }
          ],
          "surface": [
           {
            "colorbar": {
             "outlinewidth": 0,
             "ticks": ""
            },
            "colorscale": [
             [
              0,
              "#0d0887"
             ],
             [
              0.1111111111111111,
              "#46039f"
             ],
             [
              0.2222222222222222,
              "#7201a8"
             ],
             [
              0.3333333333333333,
              "#9c179e"
             ],
             [
              0.4444444444444444,
              "#bd3786"
             ],
             [
              0.5555555555555556,
              "#d8576b"
             ],
             [
              0.6666666666666666,
              "#ed7953"
             ],
             [
              0.7777777777777778,
              "#fb9f3a"
             ],
             [
              0.8888888888888888,
              "#fdca26"
             ],
             [
              1,
              "#f0f921"
             ]
            ],
            "type": "surface"
           }
          ],
          "table": [
           {
            "cells": {
             "fill": {
              "color": "#EBF0F8"
             },
             "line": {
              "color": "white"
             }
            },
            "header": {
             "fill": {
              "color": "#C8D4E3"
             },
             "line": {
              "color": "white"
             }
            },
            "type": "table"
           }
          ]
         },
         "layout": {
          "annotationdefaults": {
           "arrowcolor": "#2a3f5f",
           "arrowhead": 0,
           "arrowwidth": 1
          },
          "autotypenumbers": "strict",
          "coloraxis": {
           "colorbar": {
            "outlinewidth": 0,
            "ticks": ""
           }
          },
          "colorscale": {
           "diverging": [
            [
             0,
             "#8e0152"
            ],
            [
             0.1,
             "#c51b7d"
            ],
            [
             0.2,
             "#de77ae"
            ],
            [
             0.3,
             "#f1b6da"
            ],
            [
             0.4,
             "#fde0ef"
            ],
            [
             0.5,
             "#f7f7f7"
            ],
            [
             0.6,
             "#e6f5d0"
            ],
            [
             0.7,
             "#b8e186"
            ],
            [
             0.8,
             "#7fbc41"
            ],
            [
             0.9,
             "#4d9221"
            ],
            [
             1,
             "#276419"
            ]
           ],
           "sequential": [
            [
             0,
             "#0d0887"
            ],
            [
             0.1111111111111111,
             "#46039f"
            ],
            [
             0.2222222222222222,
             "#7201a8"
            ],
            [
             0.3333333333333333,
             "#9c179e"
            ],
            [
             0.4444444444444444,
             "#bd3786"
            ],
            [
             0.5555555555555556,
             "#d8576b"
            ],
            [
             0.6666666666666666,
             "#ed7953"
            ],
            [
             0.7777777777777778,
             "#fb9f3a"
            ],
            [
             0.8888888888888888,
             "#fdca26"
            ],
            [
             1,
             "#f0f921"
            ]
           ],
           "sequentialminus": [
            [
             0,
             "#0d0887"
            ],
            [
             0.1111111111111111,
             "#46039f"
            ],
            [
             0.2222222222222222,
             "#7201a8"
            ],
            [
             0.3333333333333333,
             "#9c179e"
            ],
            [
             0.4444444444444444,
             "#bd3786"
            ],
            [
             0.5555555555555556,
             "#d8576b"
            ],
            [
             0.6666666666666666,
             "#ed7953"
            ],
            [
             0.7777777777777778,
             "#fb9f3a"
            ],
            [
             0.8888888888888888,
             "#fdca26"
            ],
            [
             1,
             "#f0f921"
            ]
           ]
          },
          "colorway": [
           "#636efa",
           "#EF553B",
           "#00cc96",
           "#ab63fa",
           "#FFA15A",
           "#19d3f3",
           "#FF6692",
           "#B6E880",
           "#FF97FF",
           "#FECB52"
          ],
          "font": {
           "color": "#2a3f5f"
          },
          "geo": {
           "bgcolor": "white",
           "lakecolor": "white",
           "landcolor": "#E5ECF6",
           "showlakes": true,
           "showland": true,
           "subunitcolor": "white"
          },
          "hoverlabel": {
           "align": "left"
          },
          "hovermode": "closest",
          "mapbox": {
           "style": "light"
          },
          "paper_bgcolor": "white",
          "plot_bgcolor": "#E5ECF6",
          "polar": {
           "angularaxis": {
            "gridcolor": "white",
            "linecolor": "white",
            "ticks": ""
           },
           "bgcolor": "#E5ECF6",
           "radialaxis": {
            "gridcolor": "white",
            "linecolor": "white",
            "ticks": ""
           }
          },
          "scene": {
           "xaxis": {
            "backgroundcolor": "#E5ECF6",
            "gridcolor": "white",
            "gridwidth": 2,
            "linecolor": "white",
            "showbackground": true,
            "ticks": "",
            "zerolinecolor": "white"
           },
           "yaxis": {
            "backgroundcolor": "#E5ECF6",
            "gridcolor": "white",
            "gridwidth": 2,
            "linecolor": "white",
            "showbackground": true,
            "ticks": "",
            "zerolinecolor": "white"
           },
           "zaxis": {
            "backgroundcolor": "#E5ECF6",
            "gridcolor": "white",
            "gridwidth": 2,
            "linecolor": "white",
            "showbackground": true,
            "ticks": "",
            "zerolinecolor": "white"
           }
          },
          "shapedefaults": {
           "line": {
            "color": "#2a3f5f"
           }
          },
          "ternary": {
           "aaxis": {
            "gridcolor": "white",
            "linecolor": "white",
            "ticks": ""
           },
           "baxis": {
            "gridcolor": "white",
            "linecolor": "white",
            "ticks": ""
           },
           "bgcolor": "#E5ECF6",
           "caxis": {
            "gridcolor": "white",
            "linecolor": "white",
            "ticks": ""
           }
          },
          "title": {
           "x": 0.05
          },
          "xaxis": {
           "automargin": true,
           "gridcolor": "white",
           "linecolor": "white",
           "ticks": "",
           "title": {
            "standoff": 15
           },
           "zerolinecolor": "white",
           "zerolinewidth": 2
          },
          "yaxis": {
           "automargin": true,
           "gridcolor": "white",
           "linecolor": "white",
           "ticks": "",
           "title": {
            "standoff": 15
           },
           "zerolinecolor": "white",
           "zerolinewidth": 2
          }
         }
        },
        "title": {
         "text": "Logit Difference From Patched Head Pattern"
        },
        "xaxis": {
         "anchor": "y",
         "constrain": "domain",
         "domain": [
          0,
          1
         ],
         "scaleanchor": "y",
         "title": {
          "text": "Head"
         }
        },
        "yaxis": {
         "anchor": "x",
         "autorange": "reversed",
         "constrain": "domain",
         "domain": [
          0,
          1
         ],
         "title": {
          "text": "Layer"
         }
        }
       }
      },
      "text/html": [
       "<div>                            <div id=\"79c8fff7-48fa-48cc-86e7-0fae69a4c162\" class=\"plotly-graph-div\" style=\"height:525px; width:100%;\"></div>            <script type=\"text/javascript\">                require([\"plotly\"], function(Plotly) {                    window.PLOTLYENV=window.PLOTLYENV || {};                                    if (document.getElementById(\"79c8fff7-48fa-48cc-86e7-0fae69a4c162\")) {                    Plotly.newPlot(                        \"79c8fff7-48fa-48cc-86e7-0fae69a4c162\",                        [{\"coloraxis\":\"coloraxis\",\"name\":\"0\",\"z\":[[0.01501397043466568,0.7215102910995483,0.08632142841815948,-0.07167916744947433,3.0211365810828283e-05,0.009430262260138988,0.010098149068653584,-0.008630739524960518,-0.07871301472187042,0.07562039792537689,0.07523951679468155,-0.002985260682180524],[0.006544267293065786,0.06562826037406921,-0.008737558498978615,0.17842401564121246,0.01979842595756054,-0.17404821515083313,0.04372016340494156,0.014425927773118019,-0.033501166850328445,0.025323059409856796,0.014191249385476112,-0.11510287970304489],[-0.004179958254098892,0.0004154062771704048,-0.09462200105190277,-0.001665671356022358,-0.07685663551092148,0.011616270057857037,0.0603552982211113,0.007253425195813179,0.039471421390771866,-0.03335415944457054,0.00765642337501049,-0.06104692071676254],[0.2689949870109558,-0.017382865771651268,0.043756309896707535,-0.013140865601599216,0.03098607249557972,-0.009205295704305172,0.2526395916938782,0.06822589784860611,0.010763068683445454,-0.032031599432229996,0.01902884431183338,0.054851971566677094],[-0.04412262141704559,0.11015307158231735,-0.0369039922952652,0.06542864441871643,0.09408386051654816,-0.010831584222614765,0.14327631890773773,0.007641317788511515,0.018127359449863434,0.025986630469560623,0.04819926619529724,0.02825571969151497],[-0.1369359791278839,-0.17274481058120728,-0.027347220107913017,0.059531766921281815,0.02448037825524807,0.8482882380485535,-0.08117200434207916,0.006322267930954695,0.08266693353652954,0.03385668992996216,0.08964090049266815,0.025450918823480606],[0.044936709105968475,0.05098923295736313,-0.02668364904820919,-0.05058758333325386,0.028569702059030533,0.004626115318387747,0.06281401962041855,0.048357877880334854,0.008707886561751366,-0.04774421080946922,0.04168548062443733,0.03823491185903549],[0.03935084491968155,0.10875147581100464,0.017952024936676025,0.06177792698144913,0.012729775160551071,-0.0016850929241627455,-0.008749427273869514,-0.04324190691113472,0.029809987172484398,0.13873329758644104,-0.033068228513002396,-0.06530294567346573],[0.0370391346514225,-0.011311459355056286,0.040520187467336655,-0.06845463812351227,-0.004670353606343269,0.014921717345714569,0.07097351551055908,-0.027701394632458687,-0.0450025275349617,-0.035302791744470596,-0.10175943374633789,0.08042293041944504],[-0.010297490283846855,-0.08578085899353027,-0.03593749925494194,-0.020576637238264084,0.02632920630276203,-0.0066095455549657345,0.05059567466378212,0.6139815449714661,0.003438161453232169,0.7300614714622498,-0.011891139671206474,0.017769139260053635],[-0.3640097379684448,-0.1743430495262146,0.42372143268585205,0.05595090985298157,-0.07055298238992691,-0.006368664093315601,-0.330131471157074,0.638366162776947,-0.006659448146820068,-0.009253310039639473,0.24497884511947632,0.007519932929426432],[0.01727604679763317,-0.3947676122188568,0.17035163938999176,0.02164536528289318,-0.03524884209036827,0.11315613240003586,-0.005645749159157276,-0.04491863772273064,-0.009500126354396343,-0.3135233223438263,0.9433482885360718,0.04132618010044098]],\"type\":\"heatmap\",\"xaxis\":\"x\",\"yaxis\":\"y\",\"hovertemplate\":\"Head: %{x}\\u003cbr\\u003eLayer: %{y}\\u003cbr\\u003ecolor: %{z}\\u003cextra\\u003e\\u003c\\u002fextra\\u003e\"}],                        {\"template\":{\"data\":{\"histogram2dcontour\":[{\"type\":\"histogram2dcontour\",\"colorbar\":{\"outlinewidth\":0,\"ticks\":\"\"},\"colorscale\":[[0.0,\"#0d0887\"],[0.1111111111111111,\"#46039f\"],[0.2222222222222222,\"#7201a8\"],[0.3333333333333333,\"#9c179e\"],[0.4444444444444444,\"#bd3786\"],[0.5555555555555556,\"#d8576b\"],[0.6666666666666666,\"#ed7953\"],[0.7777777777777778,\"#fb9f3a\"],[0.8888888888888888,\"#fdca26\"],[1.0,\"#f0f921\"]]}],\"choropleth\":[{\"type\":\"choropleth\",\"colorbar\":{\"outlinewidth\":0,\"ticks\":\"\"}}],\"histogram2d\":[{\"type\":\"histogram2d\",\"colorbar\":{\"outlinewidth\":0,\"ticks\":\"\"},\"colorscale\":[[0.0,\"#0d0887\"],[0.1111111111111111,\"#46039f\"],[0.2222222222222222,\"#7201a8\"],[0.3333333333333333,\"#9c179e\"],[0.4444444444444444,\"#bd3786\"],[0.5555555555555556,\"#d8576b\"],[0.6666666666666666,\"#ed7953\"],[0.7777777777777778,\"#fb9f3a\"],[0.8888888888888888,\"#fdca26\"],[1.0,\"#f0f921\"]]}],\"heatmap\":[{\"type\":\"heatmap\",\"colorbar\":{\"outlinewidth\":0,\"ticks\":\"\"},\"colorscale\":[[0.0,\"#0d0887\"],[0.1111111111111111,\"#46039f\"],[0.2222222222222222,\"#7201a8\"],[0.3333333333333333,\"#9c179e\"],[0.4444444444444444,\"#bd3786\"],[0.5555555555555556,\"#d8576b\"],[0.6666666666666666,\"#ed7953\"],[0.7777777777777778,\"#fb9f3a\"],[0.8888888888888888,\"#fdca26\"],[1.0,\"#f0f921\"]]}],\"heatmapgl\":[{\"type\":\"heatmapgl\",\"colorbar\":{\"outlinewidth\":0,\"ticks\":\"\"},\"colorscale\":[[0.0,\"#0d0887\"],[0.1111111111111111,\"#46039f\"],[0.2222222222222222,\"#7201a8\"],[0.3333333333333333,\"#9c179e\"],[0.4444444444444444,\"#bd3786\"],[0.5555555555555556,\"#d8576b\"],[0.6666666666666666,\"#ed7953\"],[0.7777777777777778,\"#fb9f3a\"],[0.8888888888888888,\"#fdca26\"],[1.0,\"#f0f921\"]]}],\"contourcarpet\":[{\"type\":\"contourcarpet\",\"colorbar\":{\"outlinewidth\":0,\"ticks\":\"\"}}],\"contour\":[{\"type\":\"contour\",\"colorbar\":{\"outlinewidth\":0,\"ticks\":\"\"},\"colorscale\":[[0.0,\"#0d0887\"],[0.1111111111111111,\"#46039f\"],[0.2222222222222222,\"#7201a8\"],[0.3333333333333333,\"#9c179e\"],[0.4444444444444444,\"#bd3786\"],[0.5555555555555556,\"#d8576b\"],[0.6666666666666666,\"#ed7953\"],[0.7777777777777778,\"#fb9f3a\"],[0.8888888888888888,\"#fdca26\"],[1.0,\"#f0f921\"]]}],\"surface\":[{\"type\":\"surface\",\"colorbar\":{\"outlinewidth\":0,\"ticks\":\"\"},\"colorscale\":[[0.0,\"#0d0887\"],[0.1111111111111111,\"#46039f\"],[0.2222222222222222,\"#7201a8\"],[0.3333333333333333,\"#9c179e\"],[0.4444444444444444,\"#bd3786\"],[0.5555555555555556,\"#d8576b\"],[0.6666666666666666,\"#ed7953\"],[0.7777777777777778,\"#fb9f3a\"],[0.8888888888888888,\"#fdca26\"],[1.0,\"#f0f921\"]]}],\"mesh3d\":[{\"type\":\"mesh3d\",\"colorbar\":{\"outlinewidth\":0,\"ticks\":\"\"}}],\"scatter\":[{\"fillpattern\":{\"fillmode\":\"overlay\",\"size\":10,\"solidity\":0.2},\"type\":\"scatter\"}],\"parcoords\":[{\"type\":\"parcoords\",\"line\":{\"colorbar\":{\"outlinewidth\":0,\"ticks\":\"\"}}}],\"scatterpolargl\":[{\"type\":\"scatterpolargl\",\"marker\":{\"colorbar\":{\"outlinewidth\":0,\"ticks\":\"\"}}}],\"bar\":[{\"error_x\":{\"color\":\"#2a3f5f\"},\"error_y\":{\"color\":\"#2a3f5f\"},\"marker\":{\"line\":{\"color\":\"#E5ECF6\",\"width\":0.5},\"pattern\":{\"fillmode\":\"overlay\",\"size\":10,\"solidity\":0.2}},\"type\":\"bar\"}],\"scattergeo\":[{\"type\":\"scattergeo\",\"marker\":{\"colorbar\":{\"outlinewidth\":0,\"ticks\":\"\"}}}],\"scatterpolar\":[{\"type\":\"scatterpolar\",\"marker\":{\"colorbar\":{\"outlinewidth\":0,\"ticks\":\"\"}}}],\"histogram\":[{\"marker\":{\"pattern\":{\"fillmode\":\"overlay\",\"size\":10,\"solidity\":0.2}},\"type\":\"histogram\"}],\"scattergl\":[{\"type\":\"scattergl\",\"marker\":{\"colorbar\":{\"outlinewidth\":0,\"ticks\":\"\"}}}],\"scatter3d\":[{\"type\":\"scatter3d\",\"line\":{\"colorbar\":{\"outlinewidth\":0,\"ticks\":\"\"}},\"marker\":{\"colorbar\":{\"outlinewidth\":0,\"ticks\":\"\"}}}],\"scattermapbox\":[{\"type\":\"scattermapbox\",\"marker\":{\"colorbar\":{\"outlinewidth\":0,\"ticks\":\"\"}}}],\"scatterternary\":[{\"type\":\"scatterternary\",\"marker\":{\"colorbar\":{\"outlinewidth\":0,\"ticks\":\"\"}}}],\"scattercarpet\":[{\"type\":\"scattercarpet\",\"marker\":{\"colorbar\":{\"outlinewidth\":0,\"ticks\":\"\"}}}],\"carpet\":[{\"aaxis\":{\"endlinecolor\":\"#2a3f5f\",\"gridcolor\":\"white\",\"linecolor\":\"white\",\"minorgridcolor\":\"white\",\"startlinecolor\":\"#2a3f5f\"},\"baxis\":{\"endlinecolor\":\"#2a3f5f\",\"gridcolor\":\"white\",\"linecolor\":\"white\",\"minorgridcolor\":\"white\",\"startlinecolor\":\"#2a3f5f\"},\"type\":\"carpet\"}],\"table\":[{\"cells\":{\"fill\":{\"color\":\"#EBF0F8\"},\"line\":{\"color\":\"white\"}},\"header\":{\"fill\":{\"color\":\"#C8D4E3\"},\"line\":{\"color\":\"white\"}},\"type\":\"table\"}],\"barpolar\":[{\"marker\":{\"line\":{\"color\":\"#E5ECF6\",\"width\":0.5},\"pattern\":{\"fillmode\":\"overlay\",\"size\":10,\"solidity\":0.2}},\"type\":\"barpolar\"}],\"pie\":[{\"automargin\":true,\"type\":\"pie\"}]},\"layout\":{\"autotypenumbers\":\"strict\",\"colorway\":[\"#636efa\",\"#EF553B\",\"#00cc96\",\"#ab63fa\",\"#FFA15A\",\"#19d3f3\",\"#FF6692\",\"#B6E880\",\"#FF97FF\",\"#FECB52\"],\"font\":{\"color\":\"#2a3f5f\"},\"hovermode\":\"closest\",\"hoverlabel\":{\"align\":\"left\"},\"paper_bgcolor\":\"white\",\"plot_bgcolor\":\"#E5ECF6\",\"polar\":{\"bgcolor\":\"#E5ECF6\",\"angularaxis\":{\"gridcolor\":\"white\",\"linecolor\":\"white\",\"ticks\":\"\"},\"radialaxis\":{\"gridcolor\":\"white\",\"linecolor\":\"white\",\"ticks\":\"\"}},\"ternary\":{\"bgcolor\":\"#E5ECF6\",\"aaxis\":{\"gridcolor\":\"white\",\"linecolor\":\"white\",\"ticks\":\"\"},\"baxis\":{\"gridcolor\":\"white\",\"linecolor\":\"white\",\"ticks\":\"\"},\"caxis\":{\"gridcolor\":\"white\",\"linecolor\":\"white\",\"ticks\":\"\"}},\"coloraxis\":{\"colorbar\":{\"outlinewidth\":0,\"ticks\":\"\"}},\"colorscale\":{\"sequential\":[[0.0,\"#0d0887\"],[0.1111111111111111,\"#46039f\"],[0.2222222222222222,\"#7201a8\"],[0.3333333333333333,\"#9c179e\"],[0.4444444444444444,\"#bd3786\"],[0.5555555555555556,\"#d8576b\"],[0.6666666666666666,\"#ed7953\"],[0.7777777777777778,\"#fb9f3a\"],[0.8888888888888888,\"#fdca26\"],[1.0,\"#f0f921\"]],\"sequentialminus\":[[0.0,\"#0d0887\"],[0.1111111111111111,\"#46039f\"],[0.2222222222222222,\"#7201a8\"],[0.3333333333333333,\"#9c179e\"],[0.4444444444444444,\"#bd3786\"],[0.5555555555555556,\"#d8576b\"],[0.6666666666666666,\"#ed7953\"],[0.7777777777777778,\"#fb9f3a\"],[0.8888888888888888,\"#fdca26\"],[1.0,\"#f0f921\"]],\"diverging\":[[0,\"#8e0152\"],[0.1,\"#c51b7d\"],[0.2,\"#de77ae\"],[0.3,\"#f1b6da\"],[0.4,\"#fde0ef\"],[0.5,\"#f7f7f7\"],[0.6,\"#e6f5d0\"],[0.7,\"#b8e186\"],[0.8,\"#7fbc41\"],[0.9,\"#4d9221\"],[1,\"#276419\"]]},\"xaxis\":{\"gridcolor\":\"white\",\"linecolor\":\"white\",\"ticks\":\"\",\"title\":{\"standoff\":15},\"zerolinecolor\":\"white\",\"automargin\":true,\"zerolinewidth\":2},\"yaxis\":{\"gridcolor\":\"white\",\"linecolor\":\"white\",\"ticks\":\"\",\"title\":{\"standoff\":15},\"zerolinecolor\":\"white\",\"automargin\":true,\"zerolinewidth\":2},\"scene\":{\"xaxis\":{\"backgroundcolor\":\"#E5ECF6\",\"gridcolor\":\"white\",\"linecolor\":\"white\",\"showbackground\":true,\"ticks\":\"\",\"zerolinecolor\":\"white\",\"gridwidth\":2},\"yaxis\":{\"backgroundcolor\":\"#E5ECF6\",\"gridcolor\":\"white\",\"linecolor\":\"white\",\"showbackground\":true,\"ticks\":\"\",\"zerolinecolor\":\"white\",\"gridwidth\":2},\"zaxis\":{\"backgroundcolor\":\"#E5ECF6\",\"gridcolor\":\"white\",\"linecolor\":\"white\",\"showbackground\":true,\"ticks\":\"\",\"zerolinecolor\":\"white\",\"gridwidth\":2}},\"shapedefaults\":{\"line\":{\"color\":\"#2a3f5f\"}},\"annotationdefaults\":{\"arrowcolor\":\"#2a3f5f\",\"arrowhead\":0,\"arrowwidth\":1},\"geo\":{\"bgcolor\":\"white\",\"landcolor\":\"#E5ECF6\",\"subunitcolor\":\"white\",\"showland\":true,\"showlakes\":true,\"lakecolor\":\"white\"},\"title\":{\"x\":0.05},\"mapbox\":{\"style\":\"light\"}}},\"xaxis\":{\"anchor\":\"y\",\"domain\":[0.0,1.0],\"scaleanchor\":\"y\",\"constrain\":\"domain\",\"title\":{\"text\":\"Head\"}},\"yaxis\":{\"anchor\":\"x\",\"domain\":[0.0,1.0],\"autorange\":\"reversed\",\"constrain\":\"domain\",\"title\":{\"text\":\"Layer\"}},\"coloraxis\":{\"colorscale\":[[0.0,\"rgb(103,0,31)\"],[0.1,\"rgb(178,24,43)\"],[0.2,\"rgb(214,96,77)\"],[0.3,\"rgb(244,165,130)\"],[0.4,\"rgb(253,219,199)\"],[0.5,\"rgb(247,247,247)\"],[0.6,\"rgb(209,229,240)\"],[0.7,\"rgb(146,197,222)\"],[0.8,\"rgb(67,147,195)\"],[0.9,\"rgb(33,102,172)\"],[1.0,\"rgb(5,48,97)\"]],\"cmid\":0.0},\"title\":{\"text\":\"Logit Difference From Patched Head Pattern\"}},                        {\"responsive\": true}                    ).then(function(){\n",
       "                            \n",
       "var gd = document.getElementById('79c8fff7-48fa-48cc-86e7-0fae69a4c162');\n",
       "var x = new MutationObserver(function (mutations, observer) {{\n",
       "        var display = window.getComputedStyle(gd).display;\n",
       "        if (!display || display === 'none') {{\n",
       "            console.log([gd, 'removed!']);\n",
       "            Plotly.purge(gd);\n",
       "            observer.disconnect();\n",
       "        }}\n",
       "}});\n",
       "\n",
       "// Listen for the removal of the full notebook cells\n",
       "var notebookContainer = gd.closest('#notebook-container');\n",
       "if (notebookContainer) {{\n",
       "    x.observe(notebookContainer, {childList: true});\n",
       "}}\n",
       "\n",
       "// Listen for the clearing of the current output cell\n",
       "var outputEl = gd.closest('.output');\n",
       "if (outputEl) {{\n",
       "    x.observe(outputEl, {childList: true});\n",
       "}}\n",
       "\n",
       "                        })                };                });            </script>        </div>"
      ]
     },
     "metadata": {},
     "output_type": "display_data"
    },
    {
     "data": {
      "application/vnd.plotly.v1+json": {
       "config": {
        "plotlyServerURL": "https://plot.ly"
       },
       "data": [
        {
         "hovertemplate": "<b>%{hovertext}</b><br><br>Attention Patch=%{x}<br>Output Patch=%{y}<extra></extra>",
         "hovertext": [
          "L0H0",
          "L0H1",
          "L0H2",
          "L0H3",
          "L0H4",
          "L0H5",
          "L0H6",
          "L0H7",
          "L0H8",
          "L0H9",
          "L0H10",
          "L0H11",
          "L1H0",
          "L1H1",
          "L1H2",
          "L1H3",
          "L1H4",
          "L1H5",
          "L1H6",
          "L1H7",
          "L1H8",
          "L1H9",
          "L1H10",
          "L1H11",
          "L2H0",
          "L2H1",
          "L2H2",
          "L2H3",
          "L2H4",
          "L2H5",
          "L2H6",
          "L2H7",
          "L2H8",
          "L2H9",
          "L2H10",
          "L2H11",
          "L3H0",
          "L3H1",
          "L3H2",
          "L3H3",
          "L3H4",
          "L3H5",
          "L3H6",
          "L3H7",
          "L3H8",
          "L3H9",
          "L3H10",
          "L3H11",
          "L4H0",
          "L4H1",
          "L4H2",
          "L4H3",
          "L4H4",
          "L4H5",
          "L4H6",
          "L4H7",
          "L4H8",
          "L4H9",
          "L4H10",
          "L4H11",
          "L5H0",
          "L5H1",
          "L5H2",
          "L5H3",
          "L5H4",
          "L5H5",
          "L5H6",
          "L5H7",
          "L5H8",
          "L5H9",
          "L5H10",
          "L5H11",
          "L6H0",
          "L6H1",
          "L6H2",
          "L6H3",
          "L6H4",
          "L6H5",
          "L6H6",
          "L6H7",
          "L6H8",
          "L6H9",
          "L6H10",
          "L6H11",
          "L7H0",
          "L7H1",
          "L7H2",
          "L7H3",
          "L7H4",
          "L7H5",
          "L7H6",
          "L7H7",
          "L7H8",
          "L7H9",
          "L7H10",
          "L7H11",
          "L8H0",
          "L8H1",
          "L8H2",
          "L8H3",
          "L8H4",
          "L8H5",
          "L8H6",
          "L8H7",
          "L8H8",
          "L8H9",
          "L8H10",
          "L8H11",
          "L9H0",
          "L9H1",
          "L9H2",
          "L9H3",
          "L9H4",
          "L9H5",
          "L9H6",
          "L9H7",
          "L9H8",
          "L9H9",
          "L9H10",
          "L9H11",
          "L10H0",
          "L10H1",
          "L10H2",
          "L10H3",
          "L10H4",
          "L10H5",
          "L10H6",
          "L10H7",
          "L10H8",
          "L10H9",
          "L10H10",
          "L10H11",
          "L11H0",
          "L11H1",
          "L11H2",
          "L11H3",
          "L11H4",
          "L11H5",
          "L11H6",
          "L11H7",
          "L11H8",
          "L11H9",
          "L11H10",
          "L11H11"
         ],
         "legendgroup": "",
         "marker": {
          "color": "#636efa",
          "symbol": "circle"
         },
         "mode": "markers",
         "name": "",
         "orientation": "v",
         "showlegend": false,
         "type": "scatter",
         "x": [
          0.01501397043466568,
          0.7215102910995483,
          0.08632142841815948,
          -0.07167916744947433,
          0.000030211365810828283,
          0.009430262260138988,
          0.010098149068653584,
          -0.008630739524960518,
          -0.07871301472187042,
          0.07562039792537689,
          0.07523951679468155,
          -0.002985260682180524,
          0.006544267293065786,
          0.06562826037406921,
          -0.008737558498978615,
          0.17842401564121246,
          0.01979842595756054,
          -0.17404821515083313,
          0.04372016340494156,
          0.014425927773118019,
          -0.033501166850328445,
          0.025323059409856796,
          0.014191249385476112,
          -0.11510287970304489,
          -0.004179958254098892,
          0.0004154062771704048,
          -0.09462200105190277,
          -0.001665671356022358,
          -0.07685663551092148,
          0.011616270057857037,
          0.0603552982211113,
          0.007253425195813179,
          0.039471421390771866,
          -0.03335415944457054,
          0.00765642337501049,
          -0.06104692071676254,
          0.2689949870109558,
          -0.017382865771651268,
          0.043756309896707535,
          -0.013140865601599216,
          0.03098607249557972,
          -0.009205295704305172,
          0.2526395916938782,
          0.06822589784860611,
          0.010763068683445454,
          -0.032031599432229996,
          0.01902884431183338,
          0.054851971566677094,
          -0.04412262141704559,
          0.11015307158231735,
          -0.0369039922952652,
          0.06542864441871643,
          0.09408386051654816,
          -0.010831584222614765,
          0.14327631890773773,
          0.007641317788511515,
          0.018127359449863434,
          0.025986630469560623,
          0.04819926619529724,
          0.02825571969151497,
          -0.1369359791278839,
          -0.17274481058120728,
          -0.027347220107913017,
          0.059531766921281815,
          0.02448037825524807,
          0.8482882380485535,
          -0.08117200434207916,
          0.006322267930954695,
          0.08266693353652954,
          0.03385668992996216,
          0.08964090049266815,
          0.025450918823480606,
          0.044936709105968475,
          0.05098923295736313,
          -0.02668364904820919,
          -0.05058758333325386,
          0.028569702059030533,
          0.004626115318387747,
          0.06281401962041855,
          0.048357877880334854,
          0.008707886561751366,
          -0.04774421080946922,
          0.04168548062443733,
          0.03823491185903549,
          0.03935084491968155,
          0.10875147581100464,
          0.017952024936676025,
          0.06177792698144913,
          0.012729775160551071,
          -0.0016850929241627455,
          -0.008749427273869514,
          -0.04324190691113472,
          0.029809987172484398,
          0.13873329758644104,
          -0.033068228513002396,
          -0.06530294567346573,
          0.0370391346514225,
          -0.011311459355056286,
          0.040520187467336655,
          -0.06845463812351227,
          -0.004670353606343269,
          0.014921717345714569,
          0.07097351551055908,
          -0.027701394632458687,
          -0.0450025275349617,
          -0.035302791744470596,
          -0.10175943374633789,
          0.08042293041944504,
          -0.010297490283846855,
          -0.08578085899353027,
          -0.03593749925494194,
          -0.020576637238264084,
          0.02632920630276203,
          -0.0066095455549657345,
          0.05059567466378212,
          0.6139815449714661,
          0.003438161453232169,
          0.7300614714622498,
          -0.011891139671206474,
          0.017769139260053635,
          -0.3640097379684448,
          -0.1743430495262146,
          0.42372143268585205,
          0.05595090985298157,
          -0.07055298238992691,
          -0.006368664093315601,
          -0.330131471157074,
          0.638366162776947,
          -0.006659448146820068,
          -0.009253310039639473,
          0.24497884511947632,
          0.007519932929426432,
          0.01727604679763317,
          -0.3947676122188568,
          0.17035163938999176,
          0.02164536528289318,
          -0.03524884209036827,
          0.11315613240003586,
          -0.005645749159157276,
          -0.04491863772273064,
          -0.009500126354396343,
          -0.3135233223438263,
          0.9433482885360718,
          0.04132618010044098
         ],
         "xaxis": "x",
         "y": [
          -0.15481868386268616,
          1.2174922227859497,
          -0.27252811193466187,
          -0.3936408758163452,
          0.0841483622789383,
          0.03040369413793087,
          -0.050181079655885696,
          -0.083766408264637,
          -0.050122275948524475,
          -0.07914568483829498,
          0.3878341019153595,
          0.053085148334503174,
          0.02642199769616127,
          0.04544787481427193,
          0.020032832399010658,
          0.17518411576747894,
          0.05647933855652809,
          0.13204741477966309,
          -0.006211402826011181,
          -0.0024220345076173544,
          -0.04559407755732536,
          0.03682684525847435,
          0.092220738530159,
          -0.09770787507295609,
          -0.05405568704009056,
          0.00015429376799147576,
          -0.04390682652592659,
          -0.11206448078155518,
          0.024634672328829765,
          0.009781469590961933,
          0.054840102791786194,
          0.0228926632553339,
          -0.013254967518150806,
          0.0074881031177937984,
          0.0428011454641819,
          -0.0456027090549469,
          0.17011049389839172,
          0.05550394579768181,
          0.03510803356766701,
          0.030876286327838898,
          0.2512490451335907,
          0.07353176921606064,
          -0.04935026541352272,
          0.018147319555282593,
          -0.02424462139606476,
          -0.03377199172973633,
          -0.14292646944522858,
          0.021584402769804,
          0.0253834817558527,
          0.09226605296134949,
          -0.06148633360862732,
          -0.3431533873081207,
          0.2888813614845276,
          -0.028417836874723434,
          0.1920795440673828,
          -0.1077418252825737,
          -0.003842238336801529,
          0.08700495958328247,
          0.025141790509223938,
          0.1920938491821289,
          -0.07221568375825882,
          -0.1557358205318451,
          -0.09202975779771805,
          0.05605665221810341,
          0.03426211699843407,
          0.8269115090370178,
          -0.19729425013065338,
          -0.048204123973846436,
          0.11551261693239212,
          0.28115370869636536,
          0.10994590818881989,
          0.07101505249738693,
          -0.3996634781360626,
          0.22543776035308838,
          -0.04388497769832611,
          -0.10075139999389648,
          0.0031905360519886017,
          0.09239283204078674,
          0.12506157159805298,
          -0.02644195966422558,
          0.0079515241086483,
          -0.02471829205751419,
          0.0942772626876831,
          -0.10097825527191162,
          -0.008342113345861435,
          0.12399554252624512,
          -0.06212616711854935,
          -0.32575350999832153,
          -0.04653710126876831,
          0.10619295388460159,
          -0.03399749845266342,
          -0.0008650700910948217,
          -0.06121092662215233,
          -1.1330212354660034,
          -0.00048634904669597745,
          -0.07891181856393814,
          0.03248288482427597,
          0.01148274727165699,
          0.11451132595539093,
          0.25015658140182495,
          0.04060731455683708,
          -0.16719239950180054,
          0.43291160464286804,
          -0.07716900110244751,
          0.0006241883966140449,
          0.017110422253608704,
          -1.480268955230713,
          0.2073923945426941,
          0.1264844685792923,
          -0.1555008739233017,
          0.148687943816185,
          -0.07448019087314606,
          0.5228748321533203,
          -0.18441961705684662,
          0.05138036236166954,
          -0.7684120535850525,
          0.3010147213935852,
          -0.8018290996551514,
          -0.007426061667501926,
          -0.12456955760717392,
          -0.5591994524002075,
          0.07297663390636444,
          0.678852915763855,
          0.1427573412656784,
          -0.03046249784529209,
          0.004114679992198944,
          0.3474900424480438,
          -0.06830789893865585,
          0.03003980964422226,
          0.03334498777985573,
          0.4808095693588257,
          0.19705148041248322,
          -0.08624158054590225,
          1.0185325145721436,
          1.2773646116256714,
          0.29820993542671204,
          -0.008889155462384224,
          0.1498030573129654,
          0.35285067558288574,
          -0.10216809809207916,
          0.011355157941579819,
          0.011611144989728928,
          0.8173547387123108,
          0.08645576238632202
         ],
         "yaxis": "y"
        }
       ],
       "layout": {
        "legend": {
         "tracegroupgap": 0
        },
        "template": {
         "data": {
          "bar": [
           {
            "error_x": {
             "color": "#2a3f5f"
            },
            "error_y": {
             "color": "#2a3f5f"
            },
            "marker": {
             "line": {
              "color": "#E5ECF6",
              "width": 0.5
             },
             "pattern": {
              "fillmode": "overlay",
              "size": 10,
              "solidity": 0.2
             }
            },
            "type": "bar"
           }
          ],
          "barpolar": [
           {
            "marker": {
             "line": {
              "color": "#E5ECF6",
              "width": 0.5
             },
             "pattern": {
              "fillmode": "overlay",
              "size": 10,
              "solidity": 0.2
             }
            },
            "type": "barpolar"
           }
          ],
          "carpet": [
           {
            "aaxis": {
             "endlinecolor": "#2a3f5f",
             "gridcolor": "white",
             "linecolor": "white",
             "minorgridcolor": "white",
             "startlinecolor": "#2a3f5f"
            },
            "baxis": {
             "endlinecolor": "#2a3f5f",
             "gridcolor": "white",
             "linecolor": "white",
             "minorgridcolor": "white",
             "startlinecolor": "#2a3f5f"
            },
            "type": "carpet"
           }
          ],
          "choropleth": [
           {
            "colorbar": {
             "outlinewidth": 0,
             "ticks": ""
            },
            "type": "choropleth"
           }
          ],
          "contour": [
           {
            "colorbar": {
             "outlinewidth": 0,
             "ticks": ""
            },
            "colorscale": [
             [
              0,
              "#0d0887"
             ],
             [
              0.1111111111111111,
              "#46039f"
             ],
             [
              0.2222222222222222,
              "#7201a8"
             ],
             [
              0.3333333333333333,
              "#9c179e"
             ],
             [
              0.4444444444444444,
              "#bd3786"
             ],
             [
              0.5555555555555556,
              "#d8576b"
             ],
             [
              0.6666666666666666,
              "#ed7953"
             ],
             [
              0.7777777777777778,
              "#fb9f3a"
             ],
             [
              0.8888888888888888,
              "#fdca26"
             ],
             [
              1,
              "#f0f921"
             ]
            ],
            "type": "contour"
           }
          ],
          "contourcarpet": [
           {
            "colorbar": {
             "outlinewidth": 0,
             "ticks": ""
            },
            "type": "contourcarpet"
           }
          ],
          "heatmap": [
           {
            "colorbar": {
             "outlinewidth": 0,
             "ticks": ""
            },
            "colorscale": [
             [
              0,
              "#0d0887"
             ],
             [
              0.1111111111111111,
              "#46039f"
             ],
             [
              0.2222222222222222,
              "#7201a8"
             ],
             [
              0.3333333333333333,
              "#9c179e"
             ],
             [
              0.4444444444444444,
              "#bd3786"
             ],
             [
              0.5555555555555556,
              "#d8576b"
             ],
             [
              0.6666666666666666,
              "#ed7953"
             ],
             [
              0.7777777777777778,
              "#fb9f3a"
             ],
             [
              0.8888888888888888,
              "#fdca26"
             ],
             [
              1,
              "#f0f921"
             ]
            ],
            "type": "heatmap"
           }
          ],
          "heatmapgl": [
           {
            "colorbar": {
             "outlinewidth": 0,
             "ticks": ""
            },
            "colorscale": [
             [
              0,
              "#0d0887"
             ],
             [
              0.1111111111111111,
              "#46039f"
             ],
             [
              0.2222222222222222,
              "#7201a8"
             ],
             [
              0.3333333333333333,
              "#9c179e"
             ],
             [
              0.4444444444444444,
              "#bd3786"
             ],
             [
              0.5555555555555556,
              "#d8576b"
             ],
             [
              0.6666666666666666,
              "#ed7953"
             ],
             [
              0.7777777777777778,
              "#fb9f3a"
             ],
             [
              0.8888888888888888,
              "#fdca26"
             ],
             [
              1,
              "#f0f921"
             ]
            ],
            "type": "heatmapgl"
           }
          ],
          "histogram": [
           {
            "marker": {
             "pattern": {
              "fillmode": "overlay",
              "size": 10,
              "solidity": 0.2
             }
            },
            "type": "histogram"
           }
          ],
          "histogram2d": [
           {
            "colorbar": {
             "outlinewidth": 0,
             "ticks": ""
            },
            "colorscale": [
             [
              0,
              "#0d0887"
             ],
             [
              0.1111111111111111,
              "#46039f"
             ],
             [
              0.2222222222222222,
              "#7201a8"
             ],
             [
              0.3333333333333333,
              "#9c179e"
             ],
             [
              0.4444444444444444,
              "#bd3786"
             ],
             [
              0.5555555555555556,
              "#d8576b"
             ],
             [
              0.6666666666666666,
              "#ed7953"
             ],
             [
              0.7777777777777778,
              "#fb9f3a"
             ],
             [
              0.8888888888888888,
              "#fdca26"
             ],
             [
              1,
              "#f0f921"
             ]
            ],
            "type": "histogram2d"
           }
          ],
          "histogram2dcontour": [
           {
            "colorbar": {
             "outlinewidth": 0,
             "ticks": ""
            },
            "colorscale": [
             [
              0,
              "#0d0887"
             ],
             [
              0.1111111111111111,
              "#46039f"
             ],
             [
              0.2222222222222222,
              "#7201a8"
             ],
             [
              0.3333333333333333,
              "#9c179e"
             ],
             [
              0.4444444444444444,
              "#bd3786"
             ],
             [
              0.5555555555555556,
              "#d8576b"
             ],
             [
              0.6666666666666666,
              "#ed7953"
             ],
             [
              0.7777777777777778,
              "#fb9f3a"
             ],
             [
              0.8888888888888888,
              "#fdca26"
             ],
             [
              1,
              "#f0f921"
             ]
            ],
            "type": "histogram2dcontour"
           }
          ],
          "mesh3d": [
           {
            "colorbar": {
             "outlinewidth": 0,
             "ticks": ""
            },
            "type": "mesh3d"
           }
          ],
          "parcoords": [
           {
            "line": {
             "colorbar": {
              "outlinewidth": 0,
              "ticks": ""
             }
            },
            "type": "parcoords"
           }
          ],
          "pie": [
           {
            "automargin": true,
            "type": "pie"
           }
          ],
          "scatter": [
           {
            "fillpattern": {
             "fillmode": "overlay",
             "size": 10,
             "solidity": 0.2
            },
            "type": "scatter"
           }
          ],
          "scatter3d": [
           {
            "line": {
             "colorbar": {
              "outlinewidth": 0,
              "ticks": ""
             }
            },
            "marker": {
             "colorbar": {
              "outlinewidth": 0,
              "ticks": ""
             }
            },
            "type": "scatter3d"
           }
          ],
          "scattercarpet": [
           {
            "marker": {
             "colorbar": {
              "outlinewidth": 0,
              "ticks": ""
             }
            },
            "type": "scattercarpet"
           }
          ],
          "scattergeo": [
           {
            "marker": {
             "colorbar": {
              "outlinewidth": 0,
              "ticks": ""
             }
            },
            "type": "scattergeo"
           }
          ],
          "scattergl": [
           {
            "marker": {
             "colorbar": {
              "outlinewidth": 0,
              "ticks": ""
             }
            },
            "type": "scattergl"
           }
          ],
          "scattermapbox": [
           {
            "marker": {
             "colorbar": {
              "outlinewidth": 0,
              "ticks": ""
             }
            },
            "type": "scattermapbox"
           }
          ],
          "scatterpolar": [
           {
            "marker": {
             "colorbar": {
              "outlinewidth": 0,
              "ticks": ""
             }
            },
            "type": "scatterpolar"
           }
          ],
          "scatterpolargl": [
           {
            "marker": {
             "colorbar": {
              "outlinewidth": 0,
              "ticks": ""
             }
            },
            "type": "scatterpolargl"
           }
          ],
          "scatterternary": [
           {
            "marker": {
             "colorbar": {
              "outlinewidth": 0,
              "ticks": ""
             }
            },
            "type": "scatterternary"
           }
          ],
          "surface": [
           {
            "colorbar": {
             "outlinewidth": 0,
             "ticks": ""
            },
            "colorscale": [
             [
              0,
              "#0d0887"
             ],
             [
              0.1111111111111111,
              "#46039f"
             ],
             [
              0.2222222222222222,
              "#7201a8"
             ],
             [
              0.3333333333333333,
              "#9c179e"
             ],
             [
              0.4444444444444444,
              "#bd3786"
             ],
             [
              0.5555555555555556,
              "#d8576b"
             ],
             [
              0.6666666666666666,
              "#ed7953"
             ],
             [
              0.7777777777777778,
              "#fb9f3a"
             ],
             [
              0.8888888888888888,
              "#fdca26"
             ],
             [
              1,
              "#f0f921"
             ]
            ],
            "type": "surface"
           }
          ],
          "table": [
           {
            "cells": {
             "fill": {
              "color": "#EBF0F8"
             },
             "line": {
              "color": "white"
             }
            },
            "header": {
             "fill": {
              "color": "#C8D4E3"
             },
             "line": {
              "color": "white"
             }
            },
            "type": "table"
           }
          ]
         },
         "layout": {
          "annotationdefaults": {
           "arrowcolor": "#2a3f5f",
           "arrowhead": 0,
           "arrowwidth": 1
          },
          "autotypenumbers": "strict",
          "coloraxis": {
           "colorbar": {
            "outlinewidth": 0,
            "ticks": ""
           }
          },
          "colorscale": {
           "diverging": [
            [
             0,
             "#8e0152"
            ],
            [
             0.1,
             "#c51b7d"
            ],
            [
             0.2,
             "#de77ae"
            ],
            [
             0.3,
             "#f1b6da"
            ],
            [
             0.4,
             "#fde0ef"
            ],
            [
             0.5,
             "#f7f7f7"
            ],
            [
             0.6,
             "#e6f5d0"
            ],
            [
             0.7,
             "#b8e186"
            ],
            [
             0.8,
             "#7fbc41"
            ],
            [
             0.9,
             "#4d9221"
            ],
            [
             1,
             "#276419"
            ]
           ],
           "sequential": [
            [
             0,
             "#0d0887"
            ],
            [
             0.1111111111111111,
             "#46039f"
            ],
            [
             0.2222222222222222,
             "#7201a8"
            ],
            [
             0.3333333333333333,
             "#9c179e"
            ],
            [
             0.4444444444444444,
             "#bd3786"
            ],
            [
             0.5555555555555556,
             "#d8576b"
            ],
            [
             0.6666666666666666,
             "#ed7953"
            ],
            [
             0.7777777777777778,
             "#fb9f3a"
            ],
            [
             0.8888888888888888,
             "#fdca26"
            ],
            [
             1,
             "#f0f921"
            ]
           ],
           "sequentialminus": [
            [
             0,
             "#0d0887"
            ],
            [
             0.1111111111111111,
             "#46039f"
            ],
            [
             0.2222222222222222,
             "#7201a8"
            ],
            [
             0.3333333333333333,
             "#9c179e"
            ],
            [
             0.4444444444444444,
             "#bd3786"
            ],
            [
             0.5555555555555556,
             "#d8576b"
            ],
            [
             0.6666666666666666,
             "#ed7953"
            ],
            [
             0.7777777777777778,
             "#fb9f3a"
            ],
            [
             0.8888888888888888,
             "#fdca26"
            ],
            [
             1,
             "#f0f921"
            ]
           ]
          },
          "colorway": [
           "#636efa",
           "#EF553B",
           "#00cc96",
           "#ab63fa",
           "#FFA15A",
           "#19d3f3",
           "#FF6692",
           "#B6E880",
           "#FF97FF",
           "#FECB52"
          ],
          "font": {
           "color": "#2a3f5f"
          },
          "geo": {
           "bgcolor": "white",
           "lakecolor": "white",
           "landcolor": "#E5ECF6",
           "showlakes": true,
           "showland": true,
           "subunitcolor": "white"
          },
          "hoverlabel": {
           "align": "left"
          },
          "hovermode": "closest",
          "mapbox": {
           "style": "light"
          },
          "paper_bgcolor": "white",
          "plot_bgcolor": "#E5ECF6",
          "polar": {
           "angularaxis": {
            "gridcolor": "white",
            "linecolor": "white",
            "ticks": ""
           },
           "bgcolor": "#E5ECF6",
           "radialaxis": {
            "gridcolor": "white",
            "linecolor": "white",
            "ticks": ""
           }
          },
          "scene": {
           "xaxis": {
            "backgroundcolor": "#E5ECF6",
            "gridcolor": "white",
            "gridwidth": 2,
            "linecolor": "white",
            "showbackground": true,
            "ticks": "",
            "zerolinecolor": "white"
           },
           "yaxis": {
            "backgroundcolor": "#E5ECF6",
            "gridcolor": "white",
            "gridwidth": 2,
            "linecolor": "white",
            "showbackground": true,
            "ticks": "",
            "zerolinecolor": "white"
           },
           "zaxis": {
            "backgroundcolor": "#E5ECF6",
            "gridcolor": "white",
            "gridwidth": 2,
            "linecolor": "white",
            "showbackground": true,
            "ticks": "",
            "zerolinecolor": "white"
           }
          },
          "shapedefaults": {
           "line": {
            "color": "#2a3f5f"
           }
          },
          "ternary": {
           "aaxis": {
            "gridcolor": "white",
            "linecolor": "white",
            "ticks": ""
           },
           "baxis": {
            "gridcolor": "white",
            "linecolor": "white",
            "ticks": ""
           },
           "bgcolor": "#E5ECF6",
           "caxis": {
            "gridcolor": "white",
            "linecolor": "white",
            "ticks": ""
           }
          },
          "title": {
           "x": 0.05
          },
          "xaxis": {
           "automargin": true,
           "gridcolor": "white",
           "linecolor": "white",
           "ticks": "",
           "title": {
            "standoff": 15
           },
           "zerolinecolor": "white",
           "zerolinewidth": 2
          },
          "yaxis": {
           "automargin": true,
           "gridcolor": "white",
           "linecolor": "white",
           "ticks": "",
           "title": {
            "standoff": 15
           },
           "zerolinecolor": "white",
           "zerolinewidth": 2
          }
         }
        },
        "title": {
         "text": "Scatter plot of output patching vs attention patching"
        },
        "xaxis": {
         "anchor": "y",
         "domain": [
          0,
          1
         ],
         "title": {
          "text": "Attention Patch"
         }
        },
        "yaxis": {
         "anchor": "x",
         "domain": [
          0,
          1
         ],
         "title": {
          "text": "Output Patch"
         }
        }
       }
      },
      "text/html": [
       "<div>                            <div id=\"91fffebc-8a1b-4bf3-8d23-4d7863e61ff9\" class=\"plotly-graph-div\" style=\"height:525px; width:100%;\"></div>            <script type=\"text/javascript\">                require([\"plotly\"], function(Plotly) {                    window.PLOTLYENV=window.PLOTLYENV || {};                                    if (document.getElementById(\"91fffebc-8a1b-4bf3-8d23-4d7863e61ff9\")) {                    Plotly.newPlot(                        \"91fffebc-8a1b-4bf3-8d23-4d7863e61ff9\",                        [{\"hovertemplate\":\"\\u003cb\\u003e%{hovertext}\\u003c\\u002fb\\u003e\\u003cbr\\u003e\\u003cbr\\u003eAttention Patch=%{x}\\u003cbr\\u003eOutput Patch=%{y}\\u003cextra\\u003e\\u003c\\u002fextra\\u003e\",\"hovertext\":[\"L0H0\",\"L0H1\",\"L0H2\",\"L0H3\",\"L0H4\",\"L0H5\",\"L0H6\",\"L0H7\",\"L0H8\",\"L0H9\",\"L0H10\",\"L0H11\",\"L1H0\",\"L1H1\",\"L1H2\",\"L1H3\",\"L1H4\",\"L1H5\",\"L1H6\",\"L1H7\",\"L1H8\",\"L1H9\",\"L1H10\",\"L1H11\",\"L2H0\",\"L2H1\",\"L2H2\",\"L2H3\",\"L2H4\",\"L2H5\",\"L2H6\",\"L2H7\",\"L2H8\",\"L2H9\",\"L2H10\",\"L2H11\",\"L3H0\",\"L3H1\",\"L3H2\",\"L3H3\",\"L3H4\",\"L3H5\",\"L3H6\",\"L3H7\",\"L3H8\",\"L3H9\",\"L3H10\",\"L3H11\",\"L4H0\",\"L4H1\",\"L4H2\",\"L4H3\",\"L4H4\",\"L4H5\",\"L4H6\",\"L4H7\",\"L4H8\",\"L4H9\",\"L4H10\",\"L4H11\",\"L5H0\",\"L5H1\",\"L5H2\",\"L5H3\",\"L5H4\",\"L5H5\",\"L5H6\",\"L5H7\",\"L5H8\",\"L5H9\",\"L5H10\",\"L5H11\",\"L6H0\",\"L6H1\",\"L6H2\",\"L6H3\",\"L6H4\",\"L6H5\",\"L6H6\",\"L6H7\",\"L6H8\",\"L6H9\",\"L6H10\",\"L6H11\",\"L7H0\",\"L7H1\",\"L7H2\",\"L7H3\",\"L7H4\",\"L7H5\",\"L7H6\",\"L7H7\",\"L7H8\",\"L7H9\",\"L7H10\",\"L7H11\",\"L8H0\",\"L8H1\",\"L8H2\",\"L8H3\",\"L8H4\",\"L8H5\",\"L8H6\",\"L8H7\",\"L8H8\",\"L8H9\",\"L8H10\",\"L8H11\",\"L9H0\",\"L9H1\",\"L9H2\",\"L9H3\",\"L9H4\",\"L9H5\",\"L9H6\",\"L9H7\",\"L9H8\",\"L9H9\",\"L9H10\",\"L9H11\",\"L10H0\",\"L10H1\",\"L10H2\",\"L10H3\",\"L10H4\",\"L10H5\",\"L10H6\",\"L10H7\",\"L10H8\",\"L10H9\",\"L10H10\",\"L10H11\",\"L11H0\",\"L11H1\",\"L11H2\",\"L11H3\",\"L11H4\",\"L11H5\",\"L11H6\",\"L11H7\",\"L11H8\",\"L11H9\",\"L11H10\",\"L11H11\"],\"legendgroup\":\"\",\"marker\":{\"color\":\"#636efa\",\"symbol\":\"circle\"},\"mode\":\"markers\",\"name\":\"\",\"orientation\":\"v\",\"showlegend\":false,\"x\":[0.01501397043466568,0.7215102910995483,0.08632142841815948,-0.07167916744947433,3.0211365810828283e-05,0.009430262260138988,0.010098149068653584,-0.008630739524960518,-0.07871301472187042,0.07562039792537689,0.07523951679468155,-0.002985260682180524,0.006544267293065786,0.06562826037406921,-0.008737558498978615,0.17842401564121246,0.01979842595756054,-0.17404821515083313,0.04372016340494156,0.014425927773118019,-0.033501166850328445,0.025323059409856796,0.014191249385476112,-0.11510287970304489,-0.004179958254098892,0.0004154062771704048,-0.09462200105190277,-0.001665671356022358,-0.07685663551092148,0.011616270057857037,0.0603552982211113,0.007253425195813179,0.039471421390771866,-0.03335415944457054,0.00765642337501049,-0.06104692071676254,0.2689949870109558,-0.017382865771651268,0.043756309896707535,-0.013140865601599216,0.03098607249557972,-0.009205295704305172,0.2526395916938782,0.06822589784860611,0.010763068683445454,-0.032031599432229996,0.01902884431183338,0.054851971566677094,-0.04412262141704559,0.11015307158231735,-0.0369039922952652,0.06542864441871643,0.09408386051654816,-0.010831584222614765,0.14327631890773773,0.007641317788511515,0.018127359449863434,0.025986630469560623,0.04819926619529724,0.02825571969151497,-0.1369359791278839,-0.17274481058120728,-0.027347220107913017,0.059531766921281815,0.02448037825524807,0.8482882380485535,-0.08117200434207916,0.006322267930954695,0.08266693353652954,0.03385668992996216,0.08964090049266815,0.025450918823480606,0.044936709105968475,0.05098923295736313,-0.02668364904820919,-0.05058758333325386,0.028569702059030533,0.004626115318387747,0.06281401962041855,0.048357877880334854,0.008707886561751366,-0.04774421080946922,0.04168548062443733,0.03823491185903549,0.03935084491968155,0.10875147581100464,0.017952024936676025,0.06177792698144913,0.012729775160551071,-0.0016850929241627455,-0.008749427273869514,-0.04324190691113472,0.029809987172484398,0.13873329758644104,-0.033068228513002396,-0.06530294567346573,0.0370391346514225,-0.011311459355056286,0.040520187467336655,-0.06845463812351227,-0.004670353606343269,0.014921717345714569,0.07097351551055908,-0.027701394632458687,-0.0450025275349617,-0.035302791744470596,-0.10175943374633789,0.08042293041944504,-0.010297490283846855,-0.08578085899353027,-0.03593749925494194,-0.020576637238264084,0.02632920630276203,-0.0066095455549657345,0.05059567466378212,0.6139815449714661,0.003438161453232169,0.7300614714622498,-0.011891139671206474,0.017769139260053635,-0.3640097379684448,-0.1743430495262146,0.42372143268585205,0.05595090985298157,-0.07055298238992691,-0.006368664093315601,-0.330131471157074,0.638366162776947,-0.006659448146820068,-0.009253310039639473,0.24497884511947632,0.007519932929426432,0.01727604679763317,-0.3947676122188568,0.17035163938999176,0.02164536528289318,-0.03524884209036827,0.11315613240003586,-0.005645749159157276,-0.04491863772273064,-0.009500126354396343,-0.3135233223438263,0.9433482885360718,0.04132618010044098],\"xaxis\":\"x\",\"y\":[-0.15481868386268616,1.2174922227859497,-0.27252811193466187,-0.3936408758163452,0.0841483622789383,0.03040369413793087,-0.050181079655885696,-0.083766408264637,-0.050122275948524475,-0.07914568483829498,0.3878341019153595,0.053085148334503174,0.02642199769616127,0.04544787481427193,0.020032832399010658,0.17518411576747894,0.05647933855652809,0.13204741477966309,-0.006211402826011181,-0.0024220345076173544,-0.04559407755732536,0.03682684525847435,0.092220738530159,-0.09770787507295609,-0.05405568704009056,0.00015429376799147576,-0.04390682652592659,-0.11206448078155518,0.024634672328829765,0.009781469590961933,0.054840102791786194,0.0228926632553339,-0.013254967518150806,0.0074881031177937984,0.0428011454641819,-0.0456027090549469,0.17011049389839172,0.05550394579768181,0.03510803356766701,0.030876286327838898,0.2512490451335907,0.07353176921606064,-0.04935026541352272,0.018147319555282593,-0.02424462139606476,-0.03377199172973633,-0.14292646944522858,0.021584402769804,0.0253834817558527,0.09226605296134949,-0.06148633360862732,-0.3431533873081207,0.2888813614845276,-0.028417836874723434,0.1920795440673828,-0.1077418252825737,-0.003842238336801529,0.08700495958328247,0.025141790509223938,0.1920938491821289,-0.07221568375825882,-0.1557358205318451,-0.09202975779771805,0.05605665221810341,0.03426211699843407,0.8269115090370178,-0.19729425013065338,-0.048204123973846436,0.11551261693239212,0.28115370869636536,0.10994590818881989,0.07101505249738693,-0.3996634781360626,0.22543776035308838,-0.04388497769832611,-0.10075139999389648,0.0031905360519886017,0.09239283204078674,0.12506157159805298,-0.02644195966422558,0.0079515241086483,-0.02471829205751419,0.0942772626876831,-0.10097825527191162,-0.008342113345861435,0.12399554252624512,-0.06212616711854935,-0.32575350999832153,-0.04653710126876831,0.10619295388460159,-0.03399749845266342,-0.0008650700910948217,-0.06121092662215233,-1.1330212354660034,-0.00048634904669597745,-0.07891181856393814,0.03248288482427597,0.01148274727165699,0.11451132595539093,0.25015658140182495,0.04060731455683708,-0.16719239950180054,0.43291160464286804,-0.07716900110244751,0.0006241883966140449,0.017110422253608704,-1.480268955230713,0.2073923945426941,0.1264844685792923,-0.1555008739233017,0.148687943816185,-0.07448019087314606,0.5228748321533203,-0.18441961705684662,0.05138036236166954,-0.7684120535850525,0.3010147213935852,-0.8018290996551514,-0.007426061667501926,-0.12456955760717392,-0.5591994524002075,0.07297663390636444,0.678852915763855,0.1427573412656784,-0.03046249784529209,0.004114679992198944,0.3474900424480438,-0.06830789893865585,0.03003980964422226,0.03334498777985573,0.4808095693588257,0.19705148041248322,-0.08624158054590225,1.0185325145721436,1.2773646116256714,0.29820993542671204,-0.008889155462384224,0.1498030573129654,0.35285067558288574,-0.10216809809207916,0.011355157941579819,0.011611144989728928,0.8173547387123108,0.08645576238632202],\"yaxis\":\"y\",\"type\":\"scatter\"}],                        {\"template\":{\"data\":{\"histogram2dcontour\":[{\"type\":\"histogram2dcontour\",\"colorbar\":{\"outlinewidth\":0,\"ticks\":\"\"},\"colorscale\":[[0.0,\"#0d0887\"],[0.1111111111111111,\"#46039f\"],[0.2222222222222222,\"#7201a8\"],[0.3333333333333333,\"#9c179e\"],[0.4444444444444444,\"#bd3786\"],[0.5555555555555556,\"#d8576b\"],[0.6666666666666666,\"#ed7953\"],[0.7777777777777778,\"#fb9f3a\"],[0.8888888888888888,\"#fdca26\"],[1.0,\"#f0f921\"]]}],\"choropleth\":[{\"type\":\"choropleth\",\"colorbar\":{\"outlinewidth\":0,\"ticks\":\"\"}}],\"histogram2d\":[{\"type\":\"histogram2d\",\"colorbar\":{\"outlinewidth\":0,\"ticks\":\"\"},\"colorscale\":[[0.0,\"#0d0887\"],[0.1111111111111111,\"#46039f\"],[0.2222222222222222,\"#7201a8\"],[0.3333333333333333,\"#9c179e\"],[0.4444444444444444,\"#bd3786\"],[0.5555555555555556,\"#d8576b\"],[0.6666666666666666,\"#ed7953\"],[0.7777777777777778,\"#fb9f3a\"],[0.8888888888888888,\"#fdca26\"],[1.0,\"#f0f921\"]]}],\"heatmap\":[{\"type\":\"heatmap\",\"colorbar\":{\"outlinewidth\":0,\"ticks\":\"\"},\"colorscale\":[[0.0,\"#0d0887\"],[0.1111111111111111,\"#46039f\"],[0.2222222222222222,\"#7201a8\"],[0.3333333333333333,\"#9c179e\"],[0.4444444444444444,\"#bd3786\"],[0.5555555555555556,\"#d8576b\"],[0.6666666666666666,\"#ed7953\"],[0.7777777777777778,\"#fb9f3a\"],[0.8888888888888888,\"#fdca26\"],[1.0,\"#f0f921\"]]}],\"heatmapgl\":[{\"type\":\"heatmapgl\",\"colorbar\":{\"outlinewidth\":0,\"ticks\":\"\"},\"colorscale\":[[0.0,\"#0d0887\"],[0.1111111111111111,\"#46039f\"],[0.2222222222222222,\"#7201a8\"],[0.3333333333333333,\"#9c179e\"],[0.4444444444444444,\"#bd3786\"],[0.5555555555555556,\"#d8576b\"],[0.6666666666666666,\"#ed7953\"],[0.7777777777777778,\"#fb9f3a\"],[0.8888888888888888,\"#fdca26\"],[1.0,\"#f0f921\"]]}],\"contourcarpet\":[{\"type\":\"contourcarpet\",\"colorbar\":{\"outlinewidth\":0,\"ticks\":\"\"}}],\"contour\":[{\"type\":\"contour\",\"colorbar\":{\"outlinewidth\":0,\"ticks\":\"\"},\"colorscale\":[[0.0,\"#0d0887\"],[0.1111111111111111,\"#46039f\"],[0.2222222222222222,\"#7201a8\"],[0.3333333333333333,\"#9c179e\"],[0.4444444444444444,\"#bd3786\"],[0.5555555555555556,\"#d8576b\"],[0.6666666666666666,\"#ed7953\"],[0.7777777777777778,\"#fb9f3a\"],[0.8888888888888888,\"#fdca26\"],[1.0,\"#f0f921\"]]}],\"surface\":[{\"type\":\"surface\",\"colorbar\":{\"outlinewidth\":0,\"ticks\":\"\"},\"colorscale\":[[0.0,\"#0d0887\"],[0.1111111111111111,\"#46039f\"],[0.2222222222222222,\"#7201a8\"],[0.3333333333333333,\"#9c179e\"],[0.4444444444444444,\"#bd3786\"],[0.5555555555555556,\"#d8576b\"],[0.6666666666666666,\"#ed7953\"],[0.7777777777777778,\"#fb9f3a\"],[0.8888888888888888,\"#fdca26\"],[1.0,\"#f0f921\"]]}],\"mesh3d\":[{\"type\":\"mesh3d\",\"colorbar\":{\"outlinewidth\":0,\"ticks\":\"\"}}],\"scatter\":[{\"fillpattern\":{\"fillmode\":\"overlay\",\"size\":10,\"solidity\":0.2},\"type\":\"scatter\"}],\"parcoords\":[{\"type\":\"parcoords\",\"line\":{\"colorbar\":{\"outlinewidth\":0,\"ticks\":\"\"}}}],\"scatterpolargl\":[{\"type\":\"scatterpolargl\",\"marker\":{\"colorbar\":{\"outlinewidth\":0,\"ticks\":\"\"}}}],\"bar\":[{\"error_x\":{\"color\":\"#2a3f5f\"},\"error_y\":{\"color\":\"#2a3f5f\"},\"marker\":{\"line\":{\"color\":\"#E5ECF6\",\"width\":0.5},\"pattern\":{\"fillmode\":\"overlay\",\"size\":10,\"solidity\":0.2}},\"type\":\"bar\"}],\"scattergeo\":[{\"type\":\"scattergeo\",\"marker\":{\"colorbar\":{\"outlinewidth\":0,\"ticks\":\"\"}}}],\"scatterpolar\":[{\"type\":\"scatterpolar\",\"marker\":{\"colorbar\":{\"outlinewidth\":0,\"ticks\":\"\"}}}],\"histogram\":[{\"marker\":{\"pattern\":{\"fillmode\":\"overlay\",\"size\":10,\"solidity\":0.2}},\"type\":\"histogram\"}],\"scattergl\":[{\"type\":\"scattergl\",\"marker\":{\"colorbar\":{\"outlinewidth\":0,\"ticks\":\"\"}}}],\"scatter3d\":[{\"type\":\"scatter3d\",\"line\":{\"colorbar\":{\"outlinewidth\":0,\"ticks\":\"\"}},\"marker\":{\"colorbar\":{\"outlinewidth\":0,\"ticks\":\"\"}}}],\"scattermapbox\":[{\"type\":\"scattermapbox\",\"marker\":{\"colorbar\":{\"outlinewidth\":0,\"ticks\":\"\"}}}],\"scatterternary\":[{\"type\":\"scatterternary\",\"marker\":{\"colorbar\":{\"outlinewidth\":0,\"ticks\":\"\"}}}],\"scattercarpet\":[{\"type\":\"scattercarpet\",\"marker\":{\"colorbar\":{\"outlinewidth\":0,\"ticks\":\"\"}}}],\"carpet\":[{\"aaxis\":{\"endlinecolor\":\"#2a3f5f\",\"gridcolor\":\"white\",\"linecolor\":\"white\",\"minorgridcolor\":\"white\",\"startlinecolor\":\"#2a3f5f\"},\"baxis\":{\"endlinecolor\":\"#2a3f5f\",\"gridcolor\":\"white\",\"linecolor\":\"white\",\"minorgridcolor\":\"white\",\"startlinecolor\":\"#2a3f5f\"},\"type\":\"carpet\"}],\"table\":[{\"cells\":{\"fill\":{\"color\":\"#EBF0F8\"},\"line\":{\"color\":\"white\"}},\"header\":{\"fill\":{\"color\":\"#C8D4E3\"},\"line\":{\"color\":\"white\"}},\"type\":\"table\"}],\"barpolar\":[{\"marker\":{\"line\":{\"color\":\"#E5ECF6\",\"width\":0.5},\"pattern\":{\"fillmode\":\"overlay\",\"size\":10,\"solidity\":0.2}},\"type\":\"barpolar\"}],\"pie\":[{\"automargin\":true,\"type\":\"pie\"}]},\"layout\":{\"autotypenumbers\":\"strict\",\"colorway\":[\"#636efa\",\"#EF553B\",\"#00cc96\",\"#ab63fa\",\"#FFA15A\",\"#19d3f3\",\"#FF6692\",\"#B6E880\",\"#FF97FF\",\"#FECB52\"],\"font\":{\"color\":\"#2a3f5f\"},\"hovermode\":\"closest\",\"hoverlabel\":{\"align\":\"left\"},\"paper_bgcolor\":\"white\",\"plot_bgcolor\":\"#E5ECF6\",\"polar\":{\"bgcolor\":\"#E5ECF6\",\"angularaxis\":{\"gridcolor\":\"white\",\"linecolor\":\"white\",\"ticks\":\"\"},\"radialaxis\":{\"gridcolor\":\"white\",\"linecolor\":\"white\",\"ticks\":\"\"}},\"ternary\":{\"bgcolor\":\"#E5ECF6\",\"aaxis\":{\"gridcolor\":\"white\",\"linecolor\":\"white\",\"ticks\":\"\"},\"baxis\":{\"gridcolor\":\"white\",\"linecolor\":\"white\",\"ticks\":\"\"},\"caxis\":{\"gridcolor\":\"white\",\"linecolor\":\"white\",\"ticks\":\"\"}},\"coloraxis\":{\"colorbar\":{\"outlinewidth\":0,\"ticks\":\"\"}},\"colorscale\":{\"sequential\":[[0.0,\"#0d0887\"],[0.1111111111111111,\"#46039f\"],[0.2222222222222222,\"#7201a8\"],[0.3333333333333333,\"#9c179e\"],[0.4444444444444444,\"#bd3786\"],[0.5555555555555556,\"#d8576b\"],[0.6666666666666666,\"#ed7953\"],[0.7777777777777778,\"#fb9f3a\"],[0.8888888888888888,\"#fdca26\"],[1.0,\"#f0f921\"]],\"sequentialminus\":[[0.0,\"#0d0887\"],[0.1111111111111111,\"#46039f\"],[0.2222222222222222,\"#7201a8\"],[0.3333333333333333,\"#9c179e\"],[0.4444444444444444,\"#bd3786\"],[0.5555555555555556,\"#d8576b\"],[0.6666666666666666,\"#ed7953\"],[0.7777777777777778,\"#fb9f3a\"],[0.8888888888888888,\"#fdca26\"],[1.0,\"#f0f921\"]],\"diverging\":[[0,\"#8e0152\"],[0.1,\"#c51b7d\"],[0.2,\"#de77ae\"],[0.3,\"#f1b6da\"],[0.4,\"#fde0ef\"],[0.5,\"#f7f7f7\"],[0.6,\"#e6f5d0\"],[0.7,\"#b8e186\"],[0.8,\"#7fbc41\"],[0.9,\"#4d9221\"],[1,\"#276419\"]]},\"xaxis\":{\"gridcolor\":\"white\",\"linecolor\":\"white\",\"ticks\":\"\",\"title\":{\"standoff\":15},\"zerolinecolor\":\"white\",\"automargin\":true,\"zerolinewidth\":2},\"yaxis\":{\"gridcolor\":\"white\",\"linecolor\":\"white\",\"ticks\":\"\",\"title\":{\"standoff\":15},\"zerolinecolor\":\"white\",\"automargin\":true,\"zerolinewidth\":2},\"scene\":{\"xaxis\":{\"backgroundcolor\":\"#E5ECF6\",\"gridcolor\":\"white\",\"linecolor\":\"white\",\"showbackground\":true,\"ticks\":\"\",\"zerolinecolor\":\"white\",\"gridwidth\":2},\"yaxis\":{\"backgroundcolor\":\"#E5ECF6\",\"gridcolor\":\"white\",\"linecolor\":\"white\",\"showbackground\":true,\"ticks\":\"\",\"zerolinecolor\":\"white\",\"gridwidth\":2},\"zaxis\":{\"backgroundcolor\":\"#E5ECF6\",\"gridcolor\":\"white\",\"linecolor\":\"white\",\"showbackground\":true,\"ticks\":\"\",\"zerolinecolor\":\"white\",\"gridwidth\":2}},\"shapedefaults\":{\"line\":{\"color\":\"#2a3f5f\"}},\"annotationdefaults\":{\"arrowcolor\":\"#2a3f5f\",\"arrowhead\":0,\"arrowwidth\":1},\"geo\":{\"bgcolor\":\"white\",\"landcolor\":\"#E5ECF6\",\"subunitcolor\":\"white\",\"showland\":true,\"showlakes\":true,\"lakecolor\":\"white\"},\"title\":{\"x\":0.05},\"mapbox\":{\"style\":\"light\"}}},\"xaxis\":{\"anchor\":\"y\",\"domain\":[0.0,1.0],\"title\":{\"text\":\"Attention Patch\"}},\"yaxis\":{\"anchor\":\"x\",\"domain\":[0.0,1.0],\"title\":{\"text\":\"Output Patch\"}},\"legend\":{\"tracegroupgap\":0},\"title\":{\"text\":\"Scatter plot of output patching vs attention patching\"}},                        {\"responsive\": true}                    ).then(function(){\n",
       "                            \n",
       "var gd = document.getElementById('91fffebc-8a1b-4bf3-8d23-4d7863e61ff9');\n",
       "var x = new MutationObserver(function (mutations, observer) {{\n",
       "        var display = window.getComputedStyle(gd).display;\n",
       "        if (!display || display === 'none') {{\n",
       "            console.log([gd, 'removed!']);\n",
       "            Plotly.purge(gd);\n",
       "            observer.disconnect();\n",
       "        }}\n",
       "}});\n",
       "\n",
       "// Listen for the removal of the full notebook cells\n",
       "var notebookContainer = gd.closest('#notebook-container');\n",
       "if (notebookContainer) {{\n",
       "    x.observe(notebookContainer, {childList: true});\n",
       "}}\n",
       "\n",
       "// Listen for the clearing of the current output cell\n",
       "var outputEl = gd.closest('.output');\n",
       "if (outputEl) {{\n",
       "    x.observe(outputEl, {childList: true});\n",
       "}}\n",
       "\n",
       "                        })                };                });            </script>        </div>"
      ]
     },
     "metadata": {},
     "output_type": "display_data"
    }
   ],
   "source": [
    "imshow(\n",
    "    patched_head_attn_diff,\n",
    "    title=\"Logit Difference From Patched Head Pattern\",\n",
    "    labels={\"x\": \"Head\", \"y\": \"Layer\"},\n",
    ")\n",
    "head_labels = [\n",
    "    f\"L{l}H{h}\" for l in range(model.cfg.n_layers) for h in range(model.cfg.n_heads)\n",
    "]\n",
    "scatter(\n",
    "    x=utils.to_numpy(patched_head_attn_diff.flatten()),\n",
    "    y=utils.to_numpy(patched_head_z_diff.flatten()),\n",
    "    hover_name=head_labels,\n",
    "    xaxis=\"Attention Patch\",\n",
    "    yaxis=\"Output Patch\",\n",
    "    title=\"Scatter plot of output patching vs attention patching\",\n",
    ")"
   ]
  },
  {
   "cell_type": "code",
   "execution_count": 92,
   "metadata": {},
   "outputs": [
    {
     "data": {
      "text/html": [
       "<div style='max-width: 700px;'><h2>Top Early Heads</h2><br/><div id=\"circuits-vis-d527115f-c72c\" style=\"margin: 15px 0;\"/>\n",
       "    <script crossorigin type=\"module\">\n",
       "    import { render, AttentionHeads } from \"https://unpkg.com/circuitsvis@1.43.2/dist/cdn/esm.js\";\n",
       "    render(\n",
       "      \"circuits-vis-d527115f-c72c\",\n",
       "      AttentionHeads,\n",
       "      {\"attention\": [[[1.0, 0.0, 0.0, 0.0, 0.0, 0.0, 0.0, 0.0, 0.0, 0.0, 0.0, 0.0, 0.0, 0.0, 0.0, 0.0, 0.0, 0.0, 0.0, 0.0, 0.0, 0.0, 0.0, 0.0, 0.0], [0.00017741038755048066, 0.9998226761817932, 0.0, 0.0, 0.0, 0.0, 0.0, 0.0, 0.0, 0.0, 0.0, 0.0, 0.0, 0.0, 0.0, 0.0, 0.0, 0.0, 0.0, 0.0, 0.0, 0.0, 0.0, 0.0, 0.0], [0.0005683370982296765, 0.020606165751814842, 0.9788255095481873, 0.0, 0.0, 0.0, 0.0, 0.0, 0.0, 0.0, 0.0, 0.0, 0.0, 0.0, 0.0, 0.0, 0.0, 0.0, 0.0, 0.0, 0.0, 0.0, 0.0, 0.0, 0.0], [0.001303514582104981, 0.0027489077765494585, 0.00017914055206347257, 0.9957684278488159, 0.0, 0.0, 0.0, 0.0, 0.0, 0.0, 0.0, 0.0, 0.0, 0.0, 0.0, 0.0, 0.0, 0.0, 0.0, 0.0, 0.0, 0.0, 0.0, 0.0, 0.0], [3.0749801226193085e-05, 0.000818332249764353, 0.0002188120997743681, 4.491563595365733e-05, 0.9988871216773987, 0.0, 0.0, 0.0, 0.0, 0.0, 0.0, 0.0, 0.0, 0.0, 0.0, 0.0, 0.0, 0.0, 0.0, 0.0, 0.0, 0.0, 0.0, 0.0, 0.0], [0.0003354641085024923, 0.009829391725361347, 0.0006225532852113247, 0.024148868396878242, 0.0010898765176534653, 0.9639739394187927, 0.0, 0.0, 0.0, 0.0, 0.0, 0.0, 0.0, 0.0, 0.0, 0.0, 0.0, 0.0, 0.0, 0.0, 0.0, 0.0, 0.0, 0.0, 0.0], [0.00010503901285119355, 0.0023186621256172657, 0.0021324744448065758, 0.0001893258886411786, 0.0009916623821482062, 0.00024936857516877353, 0.9940134882926941, 0.0, 0.0, 0.0, 0.0, 0.0, 0.0, 0.0, 0.0, 0.0, 0.0, 0.0, 0.0, 0.0, 0.0, 0.0, 0.0, 0.0, 0.0], [0.0005650512175634503, 0.007760169450193644, 0.0014236409915611148, 0.0007313903770409524, 0.0003752279153559357, 0.0008346975082531571, 0.0013996199704706669, 0.9869101643562317, 0.0, 0.0, 0.0, 0.0, 0.0, 0.0, 0.0, 0.0, 0.0, 0.0, 0.0, 0.0, 0.0, 0.0, 0.0, 0.0, 0.0], [0.0006378351245075464, 0.009275602176785469, 0.00042826554272323847, 0.013534189201891422, 0.00014732555428054184, 0.04355824738740921, 0.0003826396132353693, 0.0004907635156996548, 0.931545078754425, 0.0, 0.0, 0.0, 0.0, 0.0, 0.0, 0.0, 0.0, 0.0, 0.0, 0.0, 0.0, 0.0, 0.0, 0.0, 0.0], [0.0007353320252150297, 0.0093825813382864, 0.00735367089509964, 0.017488742247223854, 0.0012864744057878852, 0.04128936305642128, 0.0006656952318735421, 0.00010480364289833233, 0.06872865557670593, 0.8529647588729858, 0.0, 0.0, 0.0, 0.0, 0.0, 0.0, 0.0, 0.0, 0.0, 0.0, 0.0, 0.0, 0.0, 0.0, 0.0], [0.0005117891705594957, 0.0014335657469928265, 0.0005534720839932561, 4.7509020077995956e-05, 0.0009565894724801183, 0.00023474784393329173, 0.0017286358634009957, 0.00032657472183927894, 0.00026239815633744, 4.974370312993415e-05, 0.9938949942588806, 0.0, 0.0, 0.0, 0.0, 0.0, 0.0, 0.0, 0.0, 0.0, 0.0, 0.0, 0.0, 0.0, 0.0], [0.0009400559938512743, 0.0021404291037470102, 0.00011668821389321238, 0.00126390450168401, 0.004655918572098017, 0.0013682051794603467, 0.0010808143997564912, 0.0010395101271569729, 0.0007914060261100531, 0.001043403521180153, 0.025631656870245934, 0.9599280953407288, 0.0, 0.0, 0.0, 0.0, 0.0, 0.0, 0.0, 0.0, 0.0, 0.0, 0.0, 0.0, 0.0], [0.00013428495731204748, 0.0019341458100825548, 0.00017551278870087117, 0.010152576491236687, 0.0003811097121797502, 0.4829671382904053, 0.00024180386390071362, 0.00014936176012270153, 0.015780173242092133, 0.000504575960803777, 4.9667287385091186e-05, 4.728951898869127e-05, 0.48748233914375305, 0.0, 0.0, 0.0, 0.0, 0.0, 0.0, 0.0, 0.0, 0.0, 0.0, 0.0, 0.0], [0.00019161697127856314, 0.009729447774589062, 0.00041665005846880376, 3.276807547081262e-05, 0.0001083776296582073, 0.0002968916960526258, 0.0001419021573383361, 0.0019020778127014637, 0.000652243965305388, 9.672918531578034e-05, 0.000300190644338727, 0.0004999719676561654, 0.0001993238547584042, 0.9854317307472229, 0.0, 0.0, 0.0, 0.0, 0.0, 0.0, 0.0, 0.0, 0.0, 0.0, 0.0], [0.00032989418832585216, 0.00020843859238084406, 2.4394877982558683e-05, 0.38770824670791626, 0.0003270802553743124, 0.00662155682221055, 5.6056527682812884e-05, 0.0001424652145942673, 0.0025667266454547644, 0.0003778431855607778, 3.734669689947623e-06, 1.8927947166957892e-05, 0.006237737834453583, 5.4363486015063245e-06, 0.5953714847564697, 0.0, 0.0, 0.0, 0.0, 0.0, 0.0, 0.0, 0.0, 0.0, 0.0], [0.0008113380754366517, 0.0006867701304145157, 0.00016589750885032117, 0.0002938446414191276, 0.0001030031853588298, 0.00020594362285919487, 0.00013185181887820363, 0.0001617222442291677, 0.00010946474503725767, 0.00010943155211862177, 2.2791891751694493e-05, 4.39110335719306e-05, 0.00013087128172628582, 1.6013236745493487e-05, 0.00013762702292297035, 0.9968695044517517, 0.0, 0.0, 0.0, 0.0, 0.0, 0.0, 0.0, 0.0, 0.0], [4.9011829105438665e-05, 0.00045422607217915356, 0.000703075435012579, 6.31624207017012e-05, 0.0003662703384179622, 8.047860319493338e-05, 0.5064572095870972, 0.00023177893308456987, 9.778709500096738e-05, 2.473011045367457e-05, 1.2470505680539645e-05, 1.156705002358649e-05, 5.086634337203577e-05, 2.0317556845839135e-05, 2.5353825549245812e-05, 7.511137664550915e-05, 0.4912765324115753, 0.0, 0.0, 0.0, 0.0, 0.0, 0.0, 0.0, 0.0], [8.385442197322845e-05, 0.0008608396747149527, 8.835069456836209e-05, 0.00560608459636569, 0.00019052044081036001, 0.2748158574104309, 0.0001230866473633796, 8.143571176333353e-05, 0.008780477568507195, 0.00029526863363571465, 3.174548692186363e-05, 3.1369898351840675e-05, 0.31974053382873535, 1.3059372577117756e-05, 0.0053080003708601, 0.00013272587966639549, 0.00011004085536114872, 0.3837067484855652, 0.0, 0.0, 0.0, 0.0, 0.0, 0.0, 0.0], [0.00017212370585184544, 0.0016844086349010468, 0.390343576669693, 5.247890294413082e-05, 0.0009577209129929543, 0.00018939263827633113, 0.0010396289872005582, 0.0006716498173773289, 0.00011122250725748017, 0.0005521744024008512, 8.360607171198353e-05, 1.899625021906104e-05, 0.0001543239486636594, 0.0003847003390546888, 2.934269650722854e-05, 0.0003691381716635078, 0.000946996093261987, 0.00014300522161647677, 0.6020955443382263, 0.0, 0.0, 0.0, 0.0, 0.0, 0.0], [0.0001231239439221099, 0.005196528974920511, 0.0004310116346459836, 0.0002996379043906927, 0.00039590380038134754, 0.0008127017645165324, 0.00015150730905588716, 0.0045584761537611485, 0.0004660631238948554, 0.00014672607358079404, 0.0001230334455613047, 0.0005351854488253593, 0.000721095479093492, 0.0010301311267539859, 0.00021872507932130247, 0.000149465529830195, 0.00012911821249872446, 0.0007090832805261016, 0.0002797963097691536, 0.9835225939750671, 0.0, 0.0, 0.0, 0.0, 0.0], [0.0005779602797701955, 0.0009773634374141693, 0.0014778239419683814, 0.000914923963136971, 0.0006771238404326141, 0.0012994498247280717, 0.00034597181365825236, 5.3620737162418664e-05, 0.005026461090892553, 0.02156253531575203, 9.433007653569803e-05, 8.541580609744415e-05, 0.001157762948423624, 0.00014093879144638777, 0.0007207375601865351, 0.0021675280295312405, 0.0003404436574783176, 0.0012358066160231829, 0.0011326925596222281, 0.00020726757065858692, 0.9598037600517273, 0.0, 0.0, 0.0, 0.0], [0.0003103954659309238, 0.0008215407724492252, 0.00010657610255293548, 3.318161179777235e-05, 0.0010654181241989136, 7.717701373621821e-05, 0.00019953447917941958, 0.00015216422616504133, 8.060153049882501e-05, 6.803281394240912e-06, 0.006383608561009169, 0.000885584217030555, 5.1668481319211423e-05, 0.00015787156007718295, 1.6537167539354414e-05, 6.289184238994494e-05, 0.00015734486805740744, 4.7506495320703834e-05, 4.5098124246578664e-05, 0.0002318506594747305, 6.3276361288444605e-06, 0.9891002774238586, 0.0, 0.0, 0.0], [0.00028260238468647003, 0.0010758639546111226, 8.168528438545763e-05, 0.006094886921346188, 9.485287591814995e-05, 0.008989685215055943, 6.510525417979807e-05, 0.00013468344695866108, 0.04795065522193909, 0.0007899259799160063, 1.184143820864847e-05, 1.1898095181095414e-05, 0.008792114444077015, 2.947459142887965e-05, 0.005675950087606907, 0.000465193297713995, 5.5869666539365426e-05, 0.009968668222427368, 4.007642201031558e-05, 0.00038080039666965604, 0.00013357825810089707, 1.3399388080870267e-05, 0.9088612198829651, 0.0, 0.0], [0.00028091389685869217, 0.00030462772701866925, 6.865601608296856e-05, 2.689042048586998e-05, 0.0034092068672180176, 0.0001858437026385218, 0.0009901105659082532, 0.00037368005723692477, 9.737704385770485e-05, 1.8395685401628725e-05, 0.0022732638753950596, 0.00017043619300238788, 0.0001275124668609351, 3.5794495488516986e-05, 1.1488156815175898e-05, 0.0011043797712773085, 0.0008048222516663373, 0.00011512576747918501, 2.1539823137572967e-05, 9.66094812611118e-05, 3.126314913970418e-05, 0.0033525789622217417, 9.282986138714477e-05, 0.9860066175460815, 0.0], [0.00027819990646094084, 0.0013962533557787538, 9.205820970237255e-05, 0.0036852883640676737, 3.0828345188638195e-05, 0.011777355335652828, 9.586589294485748e-05, 0.00015101842291187495, 0.31555071473121643, 0.000681067758705467, 4.537773929769173e-05, 3.9122758607845753e-05, 0.012619602493941784, 0.0002501945709809661, 0.004114262294024229, 0.0002391486195847392, 9.774092904990539e-05, 0.015414600260555744, 6.623612716794014e-05, 0.0004331748641561717, 0.0005349745042622089, 3.1619278161088005e-05, 0.016548672690987587, 5.2712442993652076e-05, 0.6157739758491516]], [[1.0, 0.0, 0.0, 0.0, 0.0, 0.0, 0.0, 0.0, 0.0, 0.0, 0.0, 0.0, 0.0, 0.0, 0.0, 0.0, 0.0, 0.0, 0.0, 0.0, 0.0, 0.0, 0.0, 0.0, 0.0], [0.9946388602256775, 0.00536115700379014, 0.0, 0.0, 0.0, 0.0, 0.0, 0.0, 0.0, 0.0, 0.0, 0.0, 0.0, 0.0, 0.0, 0.0, 0.0, 0.0, 0.0, 0.0, 0.0, 0.0, 0.0, 0.0, 0.0], [0.9863227605819702, 0.0036433953791856766, 0.01003383006900549, 0.0, 0.0, 0.0, 0.0, 0.0, 0.0, 0.0, 0.0, 0.0, 0.0, 0.0, 0.0, 0.0, 0.0, 0.0, 0.0, 0.0, 0.0, 0.0, 0.0, 0.0, 0.0], [0.9155270457267761, 0.018222764134407043, 0.022715745493769646, 0.043534547090530396, 0.0, 0.0, 0.0, 0.0, 0.0, 0.0, 0.0, 0.0, 0.0, 0.0, 0.0, 0.0, 0.0, 0.0, 0.0, 0.0, 0.0, 0.0, 0.0, 0.0, 0.0], [0.9835560321807861, 0.010534093715250492, 0.002905013505369425, 0.001389007898978889, 0.0016159587539732456, 0.0, 0.0, 0.0, 0.0, 0.0, 0.0, 0.0, 0.0, 0.0, 0.0, 0.0, 0.0, 0.0, 0.0, 0.0, 0.0, 0.0, 0.0, 0.0, 0.0], [0.7457221746444702, 0.019757965579628944, 0.03694538772106171, 0.03938658908009529, 0.11938942968845367, 0.03879844397306442, 0.0, 0.0, 0.0, 0.0, 0.0, 0.0, 0.0, 0.0, 0.0, 0.0, 0.0, 0.0, 0.0, 0.0, 0.0, 0.0, 0.0, 0.0, 0.0], [0.9624583721160889, 0.004904031287878752, 0.004288800992071629, 0.004385503474622965, 0.017297150567173958, 0.002275504870340228, 0.004390569403767586, 0.0, 0.0, 0.0, 0.0, 0.0, 0.0, 0.0, 0.0, 0.0, 0.0, 0.0, 0.0, 0.0, 0.0, 0.0, 0.0, 0.0, 0.0], [0.891871988773346, 0.03312264010310173, 0.03147511929273605, 0.00626002810895443, 0.02682250179350376, 0.0008034769562073052, 0.006339645013213158, 0.0033046959433704615, 0.0, 0.0, 0.0, 0.0, 0.0, 0.0, 0.0, 0.0, 0.0, 0.0, 0.0, 0.0, 0.0, 0.0, 0.0, 0.0, 0.0], [0.9584054946899414, 0.006106476299464703, 0.01626882515847683, 0.0020897863432765007, 0.00853964127600193, 0.00031615965417586267, 0.0057068634778261185, 0.0005293867434374988, 0.0020373680163174868, 0.0, 0.0, 0.0, 0.0, 0.0, 0.0, 0.0, 0.0, 0.0, 0.0, 0.0, 0.0, 0.0, 0.0, 0.0, 0.0], [0.9350861310958862, 0.03512515500187874, 0.0041539366357028484, 0.0008259282330982387, 0.009026195853948593, 0.0003578338073566556, 0.004130861721932888, 0.0011039256351068616, 0.0026022850070148706, 0.007587782572954893, 0.0, 0.0, 0.0, 0.0, 0.0, 0.0, 0.0, 0.0, 0.0, 0.0, 0.0, 0.0, 0.0, 0.0, 0.0], [0.9115001559257507, 0.06499602645635605, 0.004344697576016188, 2.196966488554608e-05, 0.0010506970575079322, 7.704568997723982e-05, 0.004806783050298691, 0.00021583076159004122, 6.680133810732514e-05, 0.002636460354551673, 0.010283447802066803, 0.0, 0.0, 0.0, 0.0, 0.0, 0.0, 0.0, 0.0, 0.0, 0.0, 0.0, 0.0, 0.0, 0.0], [0.9262611269950867, 0.015574106946587563, 0.0033038875553756952, 1.5003159887783113e-06, 0.0006400668062269688, 8.573636478104163e-06, 0.0030775724444538355, 0.00014398542407434434, 3.4330641938140616e-05, 0.0007113449973985553, 0.006448596250265837, 0.04379487782716751, 0.0, 0.0, 0.0, 0.0, 0.0, 0.0, 0.0, 0.0, 0.0, 0.0, 0.0, 0.0, 0.0], [0.8450383543968201, 0.018655402585864067, 0.017620699480175972, 0.00034959556069225073, 0.012329562567174435, 7.577742508146912e-05, 0.05019810050725937, 0.00409660255536437, 0.00046562327770516276, 0.0026518553495407104, 0.015686048194766045, 0.012458967976272106, 0.02037336863577366, 0.0, 0.0, 0.0, 0.0, 0.0, 0.0, 0.0, 0.0, 0.0, 0.0, 0.0, 0.0], [0.9188894629478455, 0.008172308094799519, 0.018291054293513298, 0.0004227689641993493, 0.0037592020817101, 1.1212013305339497e-05, 0.003058366011828184, 0.000217902721487917, 0.0055048540234565735, 0.006168837659060955, 0.029384955763816833, 0.00015592615818604827, 4.1237828554585576e-05, 0.005921931471675634, 0.0, 0.0, 0.0, 0.0, 0.0, 0.0, 0.0, 0.0, 0.0, 0.0, 0.0], [0.738348126411438, 0.0369088351726532, 0.009679045528173447, 0.000495344283990562, 0.11824378371238708, 0.0034147172700613737, 0.02438453957438469, 0.0030770974699407816, 0.003043875563889742, 0.0026287976652383804, 0.008380023762583733, 0.004297465551644564, 0.008150014095008373, 0.024370288476347923, 0.014578078873455524, 0.0, 0.0, 0.0, 0.0, 0.0, 0.0, 0.0, 0.0, 0.0, 0.0], [0.9385274648666382, 0.01884249411523342, 0.014979029074311256, 0.0007618463132530451, 0.004471207968890667, 9.968948143068701e-05, 0.0034339744597673416, 0.0009341558325104415, 0.0013007360976189375, 0.002012681681662798, 0.0055564637295901775, 0.00031516532180830836, 2.2708942196913995e-05, 0.0005594038520939648, 0.0013896002201363444, 0.006793349049985409, 0.0, 0.0, 0.0, 0.0, 0.0, 0.0, 0.0, 0.0, 0.0], [0.09458258748054504, 0.004280676133930683, 0.0007840923499315977, 0.002856313716620207, 0.014972308650612831, 0.0006001064321026206, 0.002180452225729823, 0.8611196279525757, 0.0003470930678304285, 0.00039903941797092557, 0.005173822399228811, 0.00011435844498919323, 5.5126861298049334e-06, 0.0006440940778702497, 2.87257284981024e-06, 0.001038590562529862, 0.01089849416166544, 0.0, 0.0, 0.0, 0.0, 0.0, 0.0, 0.0, 0.0], [0.23815153539180756, 0.0038458213675767183, 0.007427087519317865, 0.01402921974658966, 0.12029062956571579, 0.00037389775388874114, 0.11368607729673386, 0.3331752121448517, 0.0021448354236781597, 0.005161393899470568, 0.014196296222507954, 0.002226593205705285, 0.00014514211216010153, 0.049300339072942734, 0.0005388838471844792, 0.026675280183553696, 0.026303645223379135, 0.042328108102083206, 0.0, 0.0, 0.0, 0.0, 0.0, 0.0, 0.0], [0.11617103964090347, 0.0015836330130696297, 0.0007719509303569794, 0.2479700744152069, 0.2486618012189865, 0.0002869484596885741, 0.01548453513532877, 0.06537090241909027, 0.000897171616088599, 0.0019875429570674896, 0.026451481506228447, 0.00014592846855521202, 1.4247525541577488e-06, 0.0007685227319598198, 0.0003062259638682008, 0.009833451360464096, 0.012664666399359703, 0.0200436282902956, 0.23059901595115662, 0.0, 0.0, 0.0, 0.0, 0.0, 0.0], [0.8617757558822632, 0.0072388737462460995, 0.011755678802728653, 0.0014935879735276103, 0.017349395900964737, 1.8482154700905085e-05, 0.003517815610393882, 0.0007400691974908113, 0.00034881301689893007, 0.0005306869279593229, 0.005220148712396622, 0.0014401833759620786, 0.00011600473953876644, 0.003161790082231164, 0.01873023621737957, 0.0561724416911602, 0.0049744863063097, 3.613657463574782e-05, 0.001619737478904426, 0.0037597313057631254, 0.0, 0.0, 0.0, 0.0, 0.0], [0.912217378616333, 0.021092986688017845, 0.004981349688023329, 0.000299825391266495, 0.004530715756118298, 3.20984581776429e-05, 0.000864419445861131, 0.00022613019973505288, 0.0002857190847862512, 0.00017669177032075822, 0.005111305974423885, 0.0014330754056572914, 0.0007707900367677212, 0.0018731296295300126, 0.00220095063559711, 0.0218631774187088, 0.011558836326003075, 7.112076855264604e-05, 0.0005793533637188375, 0.0003180734347552061, 0.009512891061604023, 0.0, 0.0, 0.0, 0.0], [0.9473433494567871, 0.023493506014347076, 0.001736537553369999, 1.131269186771533e-06, 0.00020368359400890768, 3.288175548732397e-06, 0.0006824899464845657, 9.151111044047866e-06, 2.6202937078778632e-05, 7.695950625929981e-05, 0.0007615373469889164, 0.0028555570170283318, 0.0005744330701418221, 0.004619312472641468, 0.0008694417774677277, 0.005263826344162226, 0.0008941717678681016, 8.217612901262328e-08, 9.20758338907035e-06, 3.6614094369724626e-06, 0.00030846308800391853, 0.010263855569064617, 0.0, 0.0, 0.0], [0.9507941007614136, 0.0065338886342942715, 0.0021871160715818405, 1.806429850148561e-06, 0.0007100817165337503, 2.1720240965805715e-06, 0.0014754011062905192, 2.8414864573278464e-05, 1.529137989564333e-05, 0.0006143042119219899, 0.0027017376851290464, 0.00044601017725653946, 0.0002233655541203916, 0.002275084611028433, 0.0008437960059382021, 0.004252594895660877, 0.002624474000185728, 2.669438572411309e-07, 5.6595352361910045e-05, 1.4751984053873457e-05, 0.0006988156819716096, 0.018993914127349854, 0.004506046883761883, 0.0, 0.0], [0.9121659994125366, 0.02338254079222679, 0.0007092971936799586, 9.015968316816725e-06, 0.0007459461339749396, 0.0006756275543011725, 0.006442669779062271, 0.00036412524059414864, 1.9721759599633515e-05, 0.0002568642084952444, 0.0016385739436373115, 0.00825574155896902, 0.00038406840758398175, 0.003253336763009429, 0.00043534766882658005, 0.00881632138043642, 0.0016529987333342433, 6.005912382534007e-06, 9.756050712894648e-05, 1.528851680632215e-05, 0.0002376863412791863, 0.0012094087433069944, 0.0011032152688130736, 0.028122659772634506, 0.0], [0.7822896242141724, 0.012971262447535992, 0.010285983793437481, 0.0003778086684178561, 0.0033108023926615715, 0.00021281510998960584, 0.008964265696704388, 0.00032882593222893775, 1.3348697393666953e-05, 0.01142408698797226, 0.011186358518898487, 0.008061316795647144, 0.0020480628591030836, 0.009144810028374195, 0.0027699533384293318, 0.006262597627937794, 0.00634567067027092, 3.788439425989054e-05, 0.0010782842291519046, 0.00019399926532059908, 0.003980494569987059, 0.014635534025728703, 0.0004982579266652465, 0.04176345095038414, 0.0618145652115345]]], \"attentionHeadNames\": [\"L0H1\", \"L5H5\"], \"tokens\": [\"<|endoftext|>\", \"After\", \" John\", \",\", \" Mary\", \" and\", \" Jim\", \" went\", \" to\", \" the\", \" grocery\", \" store\", \" and\", \" return\", \",\", \" \", \" Jim\", \" and\", \" John\", \" gave\", \" a\", \" bottle\", \" of\", \" milk\", \" to\"]}\n",
       "    )\n",
       "    </script></div><div style='max-width: 700px;'><h2>Top Middle Heads</h2><br/><div id=\"circuits-vis-d2f9114b-ed26\" style=\"margin: 15px 0;\"/>\n",
       "    <script crossorigin type=\"module\">\n",
       "    import { render, AttentionHeads } from \"https://unpkg.com/circuitsvis@1.43.2/dist/cdn/esm.js\";\n",
       "    render(\n",
       "      \"circuits-vis-d2f9114b-ed26\",\n",
       "      AttentionHeads,\n",
       "      {\"attention\": [[[1.0, 0.0, 0.0, 0.0, 0.0, 0.0, 0.0, 0.0, 0.0, 0.0, 0.0, 0.0, 0.0, 0.0, 0.0, 0.0, 0.0, 0.0, 0.0, 0.0, 0.0, 0.0, 0.0, 0.0, 0.0], [0.9522860646247864, 0.047713931649923325, 0.0, 0.0, 0.0, 0.0, 0.0, 0.0, 0.0, 0.0, 0.0, 0.0, 0.0, 0.0, 0.0, 0.0, 0.0, 0.0, 0.0, 0.0, 0.0, 0.0, 0.0, 0.0, 0.0], [0.9636505842208862, 0.007542626466602087, 0.028806792572140694, 0.0, 0.0, 0.0, 0.0, 0.0, 0.0, 0.0, 0.0, 0.0, 0.0, 0.0, 0.0, 0.0, 0.0, 0.0, 0.0, 0.0, 0.0, 0.0, 0.0, 0.0, 0.0], [0.7227873802185059, 0.051174625754356384, 0.11806042492389679, 0.10797759890556335, 0.0, 0.0, 0.0, 0.0, 0.0, 0.0, 0.0, 0.0, 0.0, 0.0, 0.0, 0.0, 0.0, 0.0, 0.0, 0.0, 0.0, 0.0, 0.0, 0.0, 0.0], [0.8923730254173279, 0.010692295618355274, 0.016145100817084312, 0.04854603856801987, 0.03224358335137367, 0.0, 0.0, 0.0, 0.0, 0.0, 0.0, 0.0, 0.0, 0.0, 0.0, 0.0, 0.0, 0.0, 0.0, 0.0, 0.0, 0.0, 0.0, 0.0, 0.0], [0.6105761528015137, 0.021904684603214264, 0.05753321945667267, 0.10256782919168472, 0.15310421586036682, 0.05431393161416054, 0.0, 0.0, 0.0, 0.0, 0.0, 0.0, 0.0, 0.0, 0.0, 0.0, 0.0, 0.0, 0.0, 0.0, 0.0, 0.0, 0.0, 0.0, 0.0], [0.8853078484535217, 0.012691534124314785, 0.014934193342924118, 0.024590864777565002, 0.012262748554348946, 0.014610547572374344, 0.035602305084466934, 0.0, 0.0, 0.0, 0.0, 0.0, 0.0, 0.0, 0.0, 0.0, 0.0, 0.0, 0.0, 0.0, 0.0, 0.0, 0.0, 0.0, 0.0], [0.8429675102233887, 0.02543034590780735, 0.013330490328371525, 0.02863296866416931, 0.01002116035670042, 0.02591436170041561, 0.015352148562669754, 0.038351066410541534, 0.0, 0.0, 0.0, 0.0, 0.0, 0.0, 0.0, 0.0, 0.0, 0.0, 0.0, 0.0, 0.0, 0.0, 0.0, 0.0, 0.0], [0.675960123538971, 0.014701355248689651, 0.0473644994199276, 0.05111059918999672, 0.05715390667319298, 0.03041607327759266, 0.0683840662240982, 0.01872589997947216, 0.03618348762392998, 0.0, 0.0, 0.0, 0.0, 0.0, 0.0, 0.0, 0.0, 0.0, 0.0, 0.0, 0.0, 0.0, 0.0, 0.0, 0.0], [0.7049359679222107, 0.024863511323928833, 0.01974090188741684, 0.03453617915511131, 0.018826520070433617, 0.020351245999336243, 0.0216361116617918, 0.009895266965031624, 0.036207348108291626, 0.10900689661502838, 0.0, 0.0, 0.0, 0.0, 0.0, 0.0, 0.0, 0.0, 0.0, 0.0, 0.0, 0.0, 0.0, 0.0, 0.0], [0.8348501920700073, 0.019174616783857346, 0.0057886396534740925, 0.010216094553470612, 0.0025685245636850595, 0.006689784117043018, 0.006490178406238556, 0.008311731740832329, 0.025084707885980606, 0.042603716254234314, 0.0382218062877655, 0.0, 0.0, 0.0, 0.0, 0.0, 0.0, 0.0, 0.0, 0.0, 0.0, 0.0, 0.0, 0.0, 0.0], [0.7023497223854065, 0.052054114639759064, 0.013565676286816597, 0.02407762035727501, 0.008440213277935982, 0.009697649627923965, 0.01601620577275753, 0.013952593319118023, 0.032989777624607086, 0.044794611632823944, 0.02345261164009571, 0.05860909819602966, 0.0, 0.0, 0.0, 0.0, 0.0, 0.0, 0.0, 0.0, 0.0, 0.0, 0.0, 0.0, 0.0], [0.53767991065979, 0.023777030408382416, 0.016845770180225372, 0.03393474221229553, 0.015124562196433544, 0.02165628969669342, 0.028083136305212975, 0.06380583345890045, 0.05702539160847664, 0.06706694513559341, 0.018101217225193977, 0.05036008730530739, 0.06653913855552673, 0.0, 0.0, 0.0, 0.0, 0.0, 0.0, 0.0, 0.0, 0.0, 0.0, 0.0, 0.0], [0.6818200349807739, 0.01737724244594574, 0.00729698222130537, 0.03228092938661575, 0.01664941944181919, 0.02518726885318756, 0.013280012644827366, 0.00936015136539936, 0.030400600284337997, 0.02563268132507801, 0.016591327264904976, 0.03810559958219528, 0.05035500228404999, 0.03566281124949455, 0.0, 0.0, 0.0, 0.0, 0.0, 0.0, 0.0, 0.0, 0.0, 0.0, 0.0], [0.4868667423725128, 0.03609474003314972, 0.055242426693439484, 0.03930068388581276, 0.0684288889169693, 0.04431888833642006, 0.07951726764440536, 0.03497210517525673, 0.02005304954946041, 0.01087753102183342, 0.007434097118675709, 0.01176866888999939, 0.024867424741387367, 0.025722207501530647, 0.05453525111079216, 0.0, 0.0, 0.0, 0.0, 0.0, 0.0, 0.0, 0.0, 0.0, 0.0], [0.8992472290992737, 0.01156748179346323, 0.008228950202465057, 0.005327738355845213, 0.007459675893187523, 0.006068740505725145, 0.007908392697572708, 0.0032963829580694437, 0.002910841954872012, 0.003668194869533181, 0.0010745590552687645, 0.0007637931848876178, 0.0027910617645829916, 0.0020614322274923325, 0.007178926840424538, 0.030446600168943405, 0.0, 0.0, 0.0, 0.0, 0.0, 0.0, 0.0, 0.0, 0.0], [0.8228636980056763, 0.006204533390700817, 0.0038361551705747843, 0.009765462949872017, 0.003940446302294731, 0.010163974948227406, 0.007113966625183821, 0.006677783094346523, 0.006838715635240078, 0.004773641470819712, 0.003056516172364354, 0.004386049695312977, 0.009489256888628006, 0.013666653074324131, 0.014800122007727623, 0.012086053378880024, 0.06033693253993988, 0.0, 0.0, 0.0, 0.0, 0.0, 0.0, 0.0, 0.0], [0.44381970167160034, 0.005593612790107727, 0.016992801800370216, 0.02044147066771984, 0.03176961839199066, 0.008374261669814587, 0.021290317177772522, 0.0023887755814939737, 0.0014549880288541317, 0.002855864353477955, 0.000753137981519103, 0.0007792640244588256, 0.0017942233243957162, 0.002676328644156456, 0.009103327989578247, 0.01831979677081108, 0.33532822132110596, 0.07626424729824066, 0.0, 0.0, 0.0, 0.0, 0.0, 0.0, 0.0], [0.5915882587432861, 0.0031874554697424173, 0.0032583714928478003, 0.016607537865638733, 0.004704752936959267, 0.01300925761461258, 0.00985025055706501, 0.01250171847641468, 0.009634410962462425, 0.0055101108737289906, 0.0016974376048892736, 0.004947741515934467, 0.011812493205070496, 0.02046131156384945, 0.02757193148136139, 0.010337109677493572, 0.08232451975345612, 0.07971994578838348, 0.09127532690763474, 0.0, 0.0, 0.0, 0.0, 0.0, 0.0], [0.35539722442626953, 0.005742774344980717, 0.01760905422270298, 0.01941523887217045, 0.03164377436041832, 0.02397800236940384, 0.022700093686580658, 0.0054086041636765, 0.00665937177836895, 0.006833301391452551, 0.01036089938133955, 0.013102480210363865, 0.00896870344877243, 0.016756629571318626, 0.020986132323741913, 0.010398912243545055, 0.15642212331295013, 0.0793856680393219, 0.1374155730009079, 0.05081537738442421, 0.0, 0.0, 0.0, 0.0, 0.0], [0.5817691087722778, 0.012193103320896626, 0.008076020516455173, 0.010411344468593597, 0.00728433346375823, 0.009914230555295944, 0.008140257559716702, 0.003932187799364328, 0.00713783735409379, 0.007657709065824747, 0.018231507390737534, 0.012049227952957153, 0.00951493252068758, 0.009092907421290874, 0.02808533050119877, 0.017142416909337044, 0.04794982448220253, 0.029077257961034775, 0.026903251186013222, 0.04644788056612015, 0.0989893451333046, 0.0, 0.0, 0.0, 0.0], [0.6183306574821472, 0.007928494364023209, 0.00206586136482656, 0.0075153629295527935, 0.0029551589395850897, 0.005200563929975033, 0.0027517827693372965, 0.0025951513089239597, 0.006729746703058481, 0.008670859970152378, 0.005705856718122959, 0.006936211138963699, 0.009689491242170334, 0.007491093594580889, 0.03346073627471924, 0.012326590716838837, 0.01732587441802025, 0.012490330263972282, 0.006751007866114378, 0.029602333903312683, 0.05010802671313286, 0.14336881041526794, 0.0, 0.0, 0.0], [0.6167404651641846, 0.008262467570602894, 0.0032500808592885733, 0.005143068265169859, 0.0063473936170339584, 0.0020143436267971992, 0.004130183719098568, 0.00039550173096358776, 0.0008391261217184365, 0.002649368019774556, 0.006516469642519951, 0.001296284724958241, 0.001518942415714264, 0.0007432164857164025, 0.007579897530376911, 0.022271601483225822, 0.028474118560552597, 0.007300257217139006, 0.008022655732929707, 0.008578122593462467, 0.04666604846715927, 0.09841929376125336, 0.11284114420413971, 0.0, 0.0], [0.5420925617218018, 0.011441315524280071, 0.0018293005414307117, 0.0049537308514118195, 0.0019059040350839496, 0.004255606792867184, 0.0022157190833240747, 0.0038900799117982388, 0.007618844974786043, 0.007429126184433699, 0.004355922807008028, 0.007945487275719643, 0.008669598028063774, 0.010463275946676731, 0.02699376828968525, 0.010962816886603832, 0.012160868383944035, 0.007534669246524572, 0.00401187501847744, 0.024749446660280228, 0.03227928280830383, 0.0618833526968956, 0.05627661570906639, 0.14408083260059357, 0.0], [0.07534661889076233, 0.0019596125930547714, 0.031860265880823135, 0.033333491533994675, 0.06697571277618408, 0.013067909516394138, 0.05419868230819702, 0.0025877843145281076, 0.0013476192252710462, 0.0021715855691581964, 0.0013839409220963717, 0.002201203955337405, 0.001490013673901558, 0.0030608789529651403, 0.004151704255491495, 0.0027899323031306267, 0.38768303394317627, 0.04493173211812973, 0.22937357425689697, 0.01836167462170124, 0.004930985160171986, 0.001732369652017951, 0.0016623801784589887, 0.003128696931526065, 0.01026862021535635]], [[1.0, 0.0, 0.0, 0.0, 0.0, 0.0, 0.0, 0.0, 0.0, 0.0, 0.0, 0.0, 0.0, 0.0, 0.0, 0.0, 0.0, 0.0, 0.0, 0.0, 0.0, 0.0, 0.0, 0.0, 0.0], [0.9791751503944397, 0.020824899896979332, 0.0, 0.0, 0.0, 0.0, 0.0, 0.0, 0.0, 0.0, 0.0, 0.0, 0.0, 0.0, 0.0, 0.0, 0.0, 0.0, 0.0, 0.0, 0.0, 0.0, 0.0, 0.0, 0.0], [0.885353147983551, 0.0895889401435852, 0.025057805702090263, 0.0, 0.0, 0.0, 0.0, 0.0, 0.0, 0.0, 0.0, 0.0, 0.0, 0.0, 0.0, 0.0, 0.0, 0.0, 0.0, 0.0, 0.0, 0.0, 0.0, 0.0, 0.0], [0.6223832964897156, 0.06789464503526688, 0.22283241152763367, 0.08688964694738388, 0.0, 0.0, 0.0, 0.0, 0.0, 0.0, 0.0, 0.0, 0.0, 0.0, 0.0, 0.0, 0.0, 0.0, 0.0, 0.0, 0.0, 0.0, 0.0, 0.0, 0.0], [0.7549737691879272, 0.018431730568408966, 0.015177275985479355, 0.19623377919197083, 0.015183414332568645, 0.0, 0.0, 0.0, 0.0, 0.0, 0.0, 0.0, 0.0, 0.0, 0.0, 0.0, 0.0, 0.0, 0.0, 0.0, 0.0, 0.0, 0.0, 0.0, 0.0], [0.25806447863578796, 0.05336575210094452, 0.2590392827987671, 0.09123656898736954, 0.3294217884540558, 0.008872122503817081, 0.0, 0.0, 0.0, 0.0, 0.0, 0.0, 0.0, 0.0, 0.0, 0.0, 0.0, 0.0, 0.0, 0.0, 0.0, 0.0, 0.0, 0.0, 0.0], [0.6459212303161621, 0.17996661365032196, 0.025940177962183952, 0.10191386938095093, 0.018490541726350784, 0.019057033583521843, 0.008710469119250774, 0.0, 0.0, 0.0, 0.0, 0.0, 0.0, 0.0, 0.0, 0.0, 0.0, 0.0, 0.0, 0.0, 0.0, 0.0, 0.0, 0.0, 0.0], [0.4622170329093933, 0.36069998145103455, 0.048460040241479874, 0.04692607745528221, 0.01631712168455124, 0.006058154162019491, 0.007871748879551888, 0.05144988000392914, 0.0, 0.0, 0.0, 0.0, 0.0, 0.0, 0.0, 0.0, 0.0, 0.0, 0.0, 0.0, 0.0, 0.0, 0.0, 0.0, 0.0], [0.3142855167388916, 0.27186766266822815, 0.13547450304031372, 0.04590321332216263, 0.061798740178346634, 0.010167237371206284, 0.06922725588083267, 0.07024931162595749, 0.021026547998189926, 0.0, 0.0, 0.0, 0.0, 0.0, 0.0, 0.0, 0.0, 0.0, 0.0, 0.0, 0.0, 0.0, 0.0, 0.0, 0.0], [0.5302383303642273, 0.24282385408878326, 0.05660371109843254, 0.023149611428380013, 0.023136334493756294, 0.007506760768592358, 0.019850775599479675, 0.05559985339641571, 0.026665611192584038, 0.014425179921090603, 0.0, 0.0, 0.0, 0.0, 0.0, 0.0, 0.0, 0.0, 0.0, 0.0, 0.0, 0.0, 0.0, 0.0, 0.0], [0.8327932357788086, 0.04396509751677513, 0.014873593114316463, 0.009756253100931644, 0.008924377150833607, 0.002841135486960411, 0.007272085640579462, 0.012122548185288906, 0.014741549268364906, 0.019860288128256798, 0.03284985199570656, 0.0, 0.0, 0.0, 0.0, 0.0, 0.0, 0.0, 0.0, 0.0, 0.0, 0.0, 0.0, 0.0, 0.0], [0.600710391998291, 0.11987071484327316, 0.06815576553344727, 0.03589172288775444, 0.017482809722423553, 0.007409711834043264, 0.02003384940326214, 0.046508222818374634, 0.035657551139593124, 0.026669906452298164, 0.011251034215092659, 0.010358315892517567, 0.0, 0.0, 0.0, 0.0, 0.0, 0.0, 0.0, 0.0, 0.0, 0.0, 0.0, 0.0, 0.0], [0.49694061279296875, 0.10739698261022568, 0.07007142156362534, 0.03277507796883583, 0.04743901640176773, 0.005707471631467342, 0.05262839421629906, 0.07835850864648819, 0.036923229694366455, 0.01473325677216053, 0.00800496619194746, 0.015147162601351738, 0.03387390077114105, 0.0, 0.0, 0.0, 0.0, 0.0, 0.0, 0.0, 0.0, 0.0, 0.0, 0.0, 0.0], [0.3967474699020386, 0.1222662553191185, 0.04259524494409561, 0.032452985644340515, 0.02277265675365925, 0.026780620217323303, 0.042934004217386246, 0.04209563508629799, 0.0409681461751461, 0.016615763306617737, 0.013940958306193352, 0.018421590328216553, 0.09363820403814316, 0.087770476937294, 0.0, 0.0, 0.0, 0.0, 0.0, 0.0, 0.0, 0.0, 0.0, 0.0, 0.0], [0.5284831523895264, 0.02763115055859089, 0.15475919842720032, 0.018628716468811035, 0.05769652873277664, 0.004452861379832029, 0.08618088811635971, 0.01836530491709709, 0.0076572224497795105, 0.0026222586166113615, 0.00251027918420732, 0.005549447610974312, 0.015173997730016708, 0.02289521135389805, 0.0473937913775444, 0.0, 0.0, 0.0, 0.0, 0.0, 0.0, 0.0, 0.0, 0.0, 0.0], [0.9531419277191162, 0.005217410158365965, 0.0012378923129290342, 0.003013664623722434, 0.0006654741591773927, 0.00045571313239634037, 0.000496386899612844, 0.0013597245560958982, 0.0015879941638559103, 0.0010798478033393621, 0.00026737336884252727, 0.00019182972027920187, 0.003796575590968132, 0.0024578545708209276, 0.021220732480287552, 0.003809545421972871, 0.0, 0.0, 0.0, 0.0, 0.0, 0.0, 0.0, 0.0, 0.0], [0.7366793155670166, 0.0023921492975205183, 0.0010512114968150854, 0.010616662912070751, 0.0012834438821300864, 0.0007290290668606758, 0.0009068549261428416, 0.0017784922383725643, 0.0020635949913412333, 0.002834486775100231, 0.0031208302825689316, 0.00536712259054184, 0.007640691474080086, 0.018386539071798325, 0.07990343868732452, 0.04129258915781975, 0.08395348489284515, 0.0, 0.0, 0.0, 0.0, 0.0, 0.0, 0.0, 0.0], [0.07896435260772705, 0.0009894040413200855, 0.0041804239153862, 0.003175455844029784, 0.006262257695198059, 0.00012403610162436962, 0.004621999803930521, 0.00021802526316605508, 9.571705595590174e-05, 0.00011561425344552845, 0.00023857656924519688, 0.00015748223813716322, 0.0005145836039446294, 0.0011785306269302964, 0.012519440613687038, 0.008895261213183403, 0.8697012662887573, 0.00804764125496149, 0.0, 0.0, 0.0, 0.0, 0.0, 0.0, 0.0], [0.3187981843948364, 0.0087475860491395, 0.0007295476389117539, 0.016143430024385452, 0.0012463758466765285, 0.0021032211370766163, 0.000840348657220602, 0.0026830420829355717, 0.0012206140672788024, 0.0017096531810238957, 0.0013905965024605393, 0.0027769049629569054, 0.028468331322073936, 0.013911155052483082, 0.21453121304512024, 0.03525393456220627, 0.10065547376871109, 0.13940434157848358, 0.10938603430986404, 0.0, 0.0, 0.0, 0.0, 0.0, 0.0], [0.26499778032302856, 0.010033179074525833, 0.006104037631303072, 0.004985353443771601, 0.004514661617577076, 0.0005272830603644252, 0.004264898132532835, 0.0010664090514183044, 0.0010639005340635777, 0.001303883851505816, 0.002107031410560012, 0.0027521417941898108, 0.005846981890499592, 0.005767738446593285, 0.07224705070257187, 0.029749315232038498, 0.3199421167373657, 0.02839989773929119, 0.21683108806610107, 0.017495229840278625, 0.0, 0.0, 0.0, 0.0, 0.0], [0.8319995403289795, 0.007140306755900383, 0.0020306631922721863, 0.002160932868719101, 0.0006319608655758202, 0.0002946982276625931, 0.0004939925856888294, 0.0010328975040465593, 0.0007854390423744917, 0.0002565952017903328, 0.0019099951023235917, 0.0011592955561354756, 0.0015338667435571551, 0.004002723377197981, 0.014988379552960396, 0.017639663070440292, 0.04215362295508385, 0.024048270657658577, 0.019583463668823242, 0.02042517624795437, 0.0057285865768790245, 0.0, 0.0, 0.0, 0.0], [0.7128974199295044, 0.007291447836905718, 0.002758817281574011, 0.002900930820032954, 0.0006236077751964331, 0.0003513437113724649, 0.0007844379870221019, 0.001164505141787231, 0.0010166524443775415, 0.000778830552008003, 0.000548171519767493, 0.0003340352268423885, 0.002320963656529784, 0.0030940871220082045, 0.017624495550990105, 0.03298529237508774, 0.09272202104330063, 0.021201446652412415, 0.015504750423133373, 0.0384281687438488, 0.02146563120186329, 0.023202911019325256, 0.0, 0.0, 0.0], [0.6676520109176636, 0.004093666560947895, 0.003798003774136305, 0.002296647522598505, 0.0010218484094366431, 0.000206304423045367, 0.0008472882909700274, 0.0008706157095730305, 0.0004919687635265291, 0.0005510839982889593, 0.000700088741723448, 7.557043136330321e-05, 0.0004630076000466943, 0.0014076166553422809, 0.006304891314357519, 0.0319146066904068, 0.1574019342660904, 0.01901647076010704, 0.024585377424955368, 0.027193458750844002, 0.018605045974254608, 0.02422737516462803, 0.006275109015405178, 0.0, 0.0], [0.6426169276237488, 0.005738092120736837, 0.002528705634176731, 0.0021679808851331472, 0.0007779973675496876, 0.000489860656671226, 0.0011548277689144015, 0.002088682260364294, 0.001580486772581935, 0.001739454222843051, 0.00041735375998541713, 0.0008734489092603326, 0.005199937615543604, 0.005640069022774696, 0.03200819343328476, 0.026595840230584145, 0.07025888562202454, 0.01591878943145275, 0.03360303118824959, 0.057005081325769424, 0.032786689698696136, 0.025957981124520302, 0.008903734385967255, 0.023948032408952713, 0.0], [0.007013100199401379, 0.0008464843849651515, 0.009107963182032108, 0.0011162107111886144, 0.0035923938266932964, 0.00012669597344938666, 0.008889267221093178, 0.0007130904705263674, 7.699844718445092e-05, 3.850475332001224e-05, 1.07370888144942e-05, 3.762480992008932e-05, 0.0009201523498632014, 0.0007305221515707672, 0.004513944033533335, 0.0011743964860215783, 0.4891100525856018, 0.0017894799821078777, 0.46633943915367126, 0.002870125463232398, 0.0005508357426151633, 0.000187090176041238, 1.6854559362400323e-05, 0.00010425921209389344, 0.00012381818669382483]]], \"attentionHeadNames\": [\"L8H10\", \"L7H9\"], \"tokens\": [\"<|endoftext|>\", \"After\", \" John\", \",\", \" Mary\", \" and\", \" Jim\", \" went\", \" to\", \" the\", \" grocery\", \" store\", \" and\", \" return\", \",\", \" \", \" Jim\", \" and\", \" John\", \" gave\", \" a\", \" bottle\", \" of\", \" milk\", \" to\"]}\n",
       "    )\n",
       "    </script></div><div style='max-width: 700px;'><h2>Top Late Heads</h2><br/><div id=\"circuits-vis-37f5e837-412d\" style=\"margin: 15px 0;\"/>\n",
       "    <script crossorigin type=\"module\">\n",
       "    import { render, AttentionHeads } from \"https://unpkg.com/circuitsvis@1.43.2/dist/cdn/esm.js\";\n",
       "    render(\n",
       "      \"circuits-vis-37f5e837-412d\",\n",
       "      AttentionHeads,\n",
       "      {\"attention\": [[[1.0, 0.0, 0.0, 0.0, 0.0, 0.0, 0.0, 0.0, 0.0, 0.0, 0.0, 0.0, 0.0, 0.0, 0.0, 0.0, 0.0, 0.0, 0.0, 0.0, 0.0, 0.0, 0.0, 0.0, 0.0], [0.9436835646629333, 0.05631640553474426, 0.0, 0.0, 0.0, 0.0, 0.0, 0.0, 0.0, 0.0, 0.0, 0.0, 0.0, 0.0, 0.0, 0.0, 0.0, 0.0, 0.0, 0.0, 0.0, 0.0, 0.0, 0.0, 0.0], [0.9497463703155518, 0.01744636334478855, 0.03280718997120857, 0.0, 0.0, 0.0, 0.0, 0.0, 0.0, 0.0, 0.0, 0.0, 0.0, 0.0, 0.0, 0.0, 0.0, 0.0, 0.0, 0.0, 0.0, 0.0, 0.0, 0.0, 0.0], [0.8314600586891174, 0.03138207644224167, 0.06661952286958694, 0.07053831219673157, 0.0, 0.0, 0.0, 0.0, 0.0, 0.0, 0.0, 0.0, 0.0, 0.0, 0.0, 0.0, 0.0, 0.0, 0.0, 0.0, 0.0, 0.0, 0.0, 0.0, 0.0], [0.83692866563797, 0.01980024389922619, 0.031086493283510208, 0.06171854957938194, 0.05046596750617027, 0.0, 0.0, 0.0, 0.0, 0.0, 0.0, 0.0, 0.0, 0.0, 0.0, 0.0, 0.0, 0.0, 0.0, 0.0, 0.0, 0.0, 0.0, 0.0, 0.0], [0.7039164900779724, 0.014765056781470776, 0.07301720231771469, 0.05689786747097969, 0.09503049403429031, 0.056372854858636856, 0.0, 0.0, 0.0, 0.0, 0.0, 0.0, 0.0, 0.0, 0.0, 0.0, 0.0, 0.0, 0.0, 0.0, 0.0, 0.0, 0.0, 0.0, 0.0], [0.7722674012184143, 0.024495450779795647, 0.04525317624211311, 0.033245787024497986, 0.08296582102775574, 0.005938087124377489, 0.03583424165844917, 0.0, 0.0, 0.0, 0.0, 0.0, 0.0, 0.0, 0.0, 0.0, 0.0, 0.0, 0.0, 0.0, 0.0, 0.0, 0.0, 0.0, 0.0], [0.8732064366340637, 0.02712159976363182, 0.017751073464751244, 0.015661919489502907, 0.047914523631334305, 0.00447115721181035, 0.008553621359169483, 0.005319643300026655, 0.0, 0.0, 0.0, 0.0, 0.0, 0.0, 0.0, 0.0, 0.0, 0.0, 0.0, 0.0, 0.0, 0.0, 0.0, 0.0, 0.0], [0.8292105197906494, 0.025159571319818497, 0.042017947882413864, 0.02247053012251854, 0.03645496815443039, 0.00715201161801815, 0.025762386620044708, 0.002944586332887411, 0.00882747583091259, 0.0, 0.0, 0.0, 0.0, 0.0, 0.0, 0.0, 0.0, 0.0, 0.0, 0.0, 0.0, 0.0, 0.0, 0.0, 0.0], [0.874406099319458, 0.024879956617951393, 0.015752673149108887, 0.01740427501499653, 0.014076290652155876, 0.005769418086856604, 0.009435775689780712, 0.0019539648201316595, 0.011233064346015453, 0.025088513270020485, 0.0, 0.0, 0.0, 0.0, 0.0, 0.0, 0.0, 0.0, 0.0, 0.0, 0.0, 0.0, 0.0, 0.0, 0.0], [0.9112218618392944, 0.026543665677309036, 0.007941247895359993, 0.01493986789137125, 0.013401210308074951, 0.003035562578588724, 0.005213978700339794, 0.0031959405168890953, 0.0026261250022798777, 0.002149490872398019, 0.009731097146868706, 0.0, 0.0, 0.0, 0.0, 0.0, 0.0, 0.0, 0.0, 0.0, 0.0, 0.0, 0.0, 0.0, 0.0], [0.3183419406414032, 0.049082644283771515, 0.12054792046546936, 0.037581656128168106, 0.31292521953582764, 0.009474382735788822, 0.12402418255805969, 0.002733806846663356, 0.0027351314201951027, 0.002554178237915039, 0.004884888883680105, 0.015113994479179382, 0.0, 0.0, 0.0, 0.0, 0.0, 0.0, 0.0, 0.0, 0.0, 0.0, 0.0, 0.0, 0.0], [0.5717027187347412, 0.02876541018486023, 0.0899951234459877, 0.02459822967648506, 0.1422412097454071, 0.011363226920366287, 0.093569815158844, 0.00418190797790885, 0.0026168215554207563, 0.0034228942822664976, 0.010640698485076427, 0.0074414657428860664, 0.009460505098104477, 0.0, 0.0, 0.0, 0.0, 0.0, 0.0, 0.0, 0.0, 0.0, 0.0, 0.0, 0.0], [0.5844112634658813, 0.026252860203385353, 0.06772661209106445, 0.03216783329844475, 0.1671462506055832, 0.007753518410027027, 0.059815406799316406, 0.004197526257485151, 0.0018280738731846213, 0.0022874223068356514, 0.022014478221535683, 0.012585232965648174, 0.007536290679126978, 0.004277232568711042, 0.0, 0.0, 0.0, 0.0, 0.0, 0.0, 0.0, 0.0, 0.0, 0.0, 0.0], [0.7038425803184509, 0.023937106132507324, 0.05320383980870247, 0.02018759399652481, 0.09227271378040314, 0.010329263284802437, 0.043764472007751465, 0.0019465312361717224, 0.001981437439098954, 0.002759314142167568, 0.011327546089887619, 0.006820585113018751, 0.005972540006041527, 0.002047513611614704, 0.019606970250606537, 0.0, 0.0, 0.0, 0.0, 0.0, 0.0, 0.0, 0.0, 0.0, 0.0], [0.77348792552948, 0.025778979063034058, 0.02574700303375721, 0.013545054942369461, 0.036413416266441345, 0.005906413309276104, 0.014500298537313938, 0.0015273221069946885, 0.0009890225483104587, 0.0008992974762804806, 0.0017006731359288096, 0.0015336917713284492, 0.0021437276154756546, 0.0005845598643645644, 0.00921793095767498, 0.08602467179298401, 0.0, 0.0, 0.0, 0.0, 0.0, 0.0, 0.0, 0.0, 0.0], [0.5115882158279419, 0.014890395104885101, 0.031188717111945152, 0.011349890381097794, 0.09945791959762573, 0.0038379128091037273, 0.020831910893321037, 0.0029419618658721447, 0.0005377082270570099, 0.0007988669676706195, 0.015662841498851776, 0.006940673105418682, 0.0017923437990248203, 0.002026522997766733, 0.007666984107345343, 0.19821372628211975, 0.07027330994606018, 0.0, 0.0, 0.0, 0.0, 0.0, 0.0, 0.0, 0.0], [0.6952956914901733, 0.009788460098206997, 0.030932242050766945, 0.01508405152708292, 0.09112820774316788, 0.0107613205909729, 0.02414770796895027, 0.0007910782005637884, 0.0007533860043622553, 0.0009856546530500054, 0.004484234377741814, 0.0020481303799897432, 0.002060734434053302, 0.0009219524217769504, 0.007439214736223221, 0.07146653532981873, 0.01894112303853035, 0.012970329262316227, 0.0, 0.0, 0.0, 0.0, 0.0, 0.0, 0.0], [0.6072320938110352, 0.013368137180805206, 0.012600474059581757, 0.014629763551056385, 0.04360004514455795, 0.007003196980804205, 0.010349229909479618, 0.0018922303570434451, 0.0005252006812952459, 0.0009456262341700494, 0.010456937365233898, 0.006835568696260452, 0.002094598952680826, 0.001907650730572641, 0.007920486852526665, 0.1721295416355133, 0.036161135882139206, 0.012616249732673168, 0.03773183375597, 0.0, 0.0, 0.0, 0.0, 0.0, 0.0], [0.5017902255058289, 0.016725990921258926, 0.05025409907102585, 0.015358645468950272, 0.10995388776063919, 0.010242925956845284, 0.038150615990161896, 0.0013585719279944897, 0.0018916487460955977, 0.004008502699434757, 0.015347909182310104, 0.0066748070530593395, 0.004194977693259716, 0.0021654979791492224, 0.01621777005493641, 0.10350726544857025, 0.03318456932902336, 0.016221195459365845, 0.04047849401831627, 0.012272458523511887, 0.0, 0.0, 0.0, 0.0, 0.0], [0.6077359914779663, 0.013711262494325638, 0.03358519822359085, 0.00913279876112938, 0.04229055345058441, 0.0052764518186450005, 0.019309401512145996, 0.0038918904028832912, 0.004266099072992802, 0.0054023731499910355, 0.05656377971172333, 0.021281158551573753, 0.0033205028157681227, 0.008074584417045116, 0.011145314201712608, 0.06637764722108841, 0.02504761517047882, 0.008508788421750069, 0.028341855853796005, 0.02139313332736492, 0.00534365139901638, 0.0, 0.0, 0.0, 0.0], [0.44545239210128784, 0.013657331466674805, 0.04191987216472626, 0.017227062955498695, 0.048835523426532745, 0.007258704397827387, 0.04066341370344162, 0.003876923117786646, 0.0012327006552368402, 0.0010781624587252736, 0.006983091589063406, 0.004321462009102106, 0.0043548098765313625, 0.00605986500158906, 0.013392098248004913, 0.15976114571094513, 0.06405584514141083, 0.010610214434564114, 0.0532621368765831, 0.022641649469733238, 0.004450524225831032, 0.028905043378472328, 0.0, 0.0, 0.0], [0.6773099303245544, 0.01094860304147005, 0.04060353338718414, 0.008545207791030407, 0.04132235422730446, 0.0038472285959869623, 0.03096012957394123, 0.0006561698392033577, 0.0011752451537176967, 0.0025722153950482607, 0.017850413918495178, 0.0023768728133291006, 0.0019393505062907934, 0.0005107415490783751, 0.006363963708281517, 0.057719893753528595, 0.017863497138023376, 0.004689369350671768, 0.01911660097539425, 0.003598949871957302, 0.0016027635429054499, 0.028135722503066063, 0.020291155204176903, 0.0, 0.0], [0.341962069272995, 0.022583071142435074, 0.056759756058454514, 0.012938409112393856, 0.06941964477300644, 0.006665097549557686, 0.056144025176763535, 0.0019487765384837985, 0.0013533291639760137, 0.001140921376645565, 0.005558418575674295, 0.004398719407618046, 0.0034511606208980083, 0.0031000920571386814, 0.015224889852106571, 0.14508020877838135, 0.0891624167561531, 0.01031438633799553, 0.04352721944451332, 0.007557722274214029, 0.0026910598389804363, 0.03154607117176056, 0.011260994710028172, 0.05621153116226196, 0.0], [0.4518211781978607, 0.012516584247350693, 0.03685455396771431, 0.017650170251727104, 0.09275811910629272, 0.00959449727088213, 0.03639708459377289, 0.0008509375620633364, 0.000734310713596642, 0.0014451569877564907, 0.004778765607625246, 0.00257944711484015, 0.0027671714778989553, 0.000935408053919673, 0.00889942329376936, 0.17733168601989746, 0.03560518100857735, 0.012369733303785324, 0.03769811615347862, 0.007174638565629721, 0.000997200608253479, 0.0046159871853888035, 0.00024325728008989245, 0.02134709432721138, 0.022034311667084694]], [[1.0, 0.0, 0.0, 0.0, 0.0, 0.0, 0.0, 0.0, 0.0, 0.0, 0.0, 0.0, 0.0, 0.0, 0.0, 0.0, 0.0, 0.0, 0.0, 0.0, 0.0, 0.0, 0.0, 0.0, 0.0], [0.9372905492782593, 0.06270941346883774, 0.0, 0.0, 0.0, 0.0, 0.0, 0.0, 0.0, 0.0, 0.0, 0.0, 0.0, 0.0, 0.0, 0.0, 0.0, 0.0, 0.0, 0.0, 0.0, 0.0, 0.0, 0.0, 0.0], [0.7958366274833679, 0.032085683196783066, 0.1720777302980423, 0.0, 0.0, 0.0, 0.0, 0.0, 0.0, 0.0, 0.0, 0.0, 0.0, 0.0, 0.0, 0.0, 0.0, 0.0, 0.0, 0.0, 0.0, 0.0, 0.0, 0.0, 0.0], [0.4630871117115021, 0.040778808295726776, 0.2929088771343231, 0.20322522521018982, 0.0, 0.0, 0.0, 0.0, 0.0, 0.0, 0.0, 0.0, 0.0, 0.0, 0.0, 0.0, 0.0, 0.0, 0.0, 0.0, 0.0, 0.0, 0.0, 0.0, 0.0], [0.6900771260261536, 0.040422987192869186, 0.168669193983078, 0.05486660450696945, 0.045964088290929794, 0.0, 0.0, 0.0, 0.0, 0.0, 0.0, 0.0, 0.0, 0.0, 0.0, 0.0, 0.0, 0.0, 0.0, 0.0, 0.0, 0.0, 0.0, 0.0, 0.0], [0.20905634760856628, 0.02480917237699032, 0.20869609713554382, 0.21210670471191406, 0.07625096291303635, 0.26908063888549805, 0.0, 0.0, 0.0, 0.0, 0.0, 0.0, 0.0, 0.0, 0.0, 0.0, 0.0, 0.0, 0.0, 0.0, 0.0, 0.0, 0.0, 0.0, 0.0], [0.551419198513031, 0.04215530678629875, 0.2036629170179367, 0.05423162877559662, 0.06639562547206879, 0.017560988664627075, 0.06457435339689255, 0.0, 0.0, 0.0, 0.0, 0.0, 0.0, 0.0, 0.0, 0.0, 0.0, 0.0, 0.0, 0.0, 0.0, 0.0, 0.0, 0.0, 0.0], [0.6165216565132141, 0.05133916065096855, 0.11850988864898682, 0.04994715377688408, 0.03421354666352272, 0.03898194432258606, 0.03850107640028, 0.051985614001750946, 0.0, 0.0, 0.0, 0.0, 0.0, 0.0, 0.0, 0.0, 0.0, 0.0, 0.0, 0.0, 0.0, 0.0, 0.0, 0.0, 0.0], [0.2521522343158722, 0.029629141092300415, 0.30605247616767883, 0.09258333593606949, 0.09355555474758148, 0.055720433592796326, 0.1260221004486084, 0.015100705437362194, 0.029184050858020782, 0.0, 0.0, 0.0, 0.0, 0.0, 0.0, 0.0, 0.0, 0.0, 0.0, 0.0, 0.0, 0.0, 0.0, 0.0, 0.0], [0.4864577651023865, 0.0321054607629776, 0.14504531025886536, 0.03901268541812897, 0.05573514103889465, 0.03658367320895195, 0.04907717555761337, 0.013534782454371452, 0.04779922589659691, 0.09464872628450394, 0.0, 0.0, 0.0, 0.0, 0.0, 0.0, 0.0, 0.0, 0.0, 0.0, 0.0, 0.0, 0.0, 0.0, 0.0], [0.8948844075202942, 0.01107420027256012, 0.02815258502960205, 0.005720119457691908, 0.0091378353536129, 0.004842226859182119, 0.015434068627655506, 0.003913432825356722, 0.004940425977110863, 0.017653191462159157, 0.004247497301548719, 0.0, 0.0, 0.0, 0.0, 0.0, 0.0, 0.0, 0.0, 0.0, 0.0, 0.0, 0.0, 0.0, 0.0], [0.10961944609880447, 0.05509854853153229, 0.32395049929618835, 0.05237121880054474, 0.12977096438407898, 0.03328902646899223, 0.21938344836235046, 0.009658413007855415, 0.01074135396629572, 0.039255283772945404, 0.0023007350973784924, 0.014561126939952374, 0.0, 0.0, 0.0, 0.0, 0.0, 0.0, 0.0, 0.0, 0.0, 0.0, 0.0, 0.0, 0.0], [0.11592116951942444, 0.018928704783320427, 0.4292174279689789, 0.06185043975710869, 0.0895686224102974, 0.04015962406992912, 0.17632561922073364, 0.0116367656737566, 0.00807885266840458, 0.014953252859413624, 0.0017418153584003448, 0.005862229038029909, 0.02575553022325039, 0.0, 0.0, 0.0, 0.0, 0.0, 0.0, 0.0, 0.0, 0.0, 0.0, 0.0, 0.0], [0.22623105347156525, 0.020382530987262726, 0.24770136177539825, 0.06522635370492935, 0.11017860472202301, 0.03996134549379349, 0.20097558200359344, 0.014278321526944637, 0.007108626887202263, 0.019463609904050827, 0.0020218570716679096, 0.007957826368510723, 0.02745010331273079, 0.011062808334827423, 0.0, 0.0, 0.0, 0.0, 0.0, 0.0, 0.0, 0.0, 0.0, 0.0, 0.0], [0.17639432847499847, 0.027310313656926155, 0.3939554691314697, 0.06394722312688828, 0.1000179648399353, 0.03362913057208061, 0.10837513953447342, 0.007858406752347946, 0.007409060839563608, 0.02020634338259697, 0.0014734958531334996, 0.004913363140076399, 0.02200108952820301, 0.006988766137510538, 0.025519952178001404, 0.0, 0.0, 0.0, 0.0, 0.0, 0.0, 0.0, 0.0, 0.0, 0.0], [0.49558210372924805, 0.042327191680669785, 0.21754825115203857, 0.03530602902173996, 0.08672762662172318, 0.012159601785242558, 0.06124095246195793, 0.0023179268464446068, 0.0023151100613176823, 0.005968683864921331, 0.0013810646487399936, 0.005508282221853733, 0.00961023848503828, 0.003056915942579508, 0.01274112332612276, 0.006208977196365595, 0.0, 0.0, 0.0, 0.0, 0.0, 0.0, 0.0, 0.0, 0.0], [0.20856818556785583, 0.024366624653339386, 0.35637643933296204, 0.03955612704157829, 0.10878641158342361, 0.012188277207314968, 0.09260937571525574, 0.005154085345566273, 0.003876132657751441, 0.004992752801626921, 0.002244499744847417, 0.00828881748020649, 0.005367044825106859, 0.003998978063464165, 0.0066038318909704685, 0.0060600340366363525, 0.11096234619617462, 0.0, 0.0, 0.0, 0.0, 0.0, 0.0, 0.0, 0.0], [0.12573100626468658, 0.020785827189683914, 0.34582945704460144, 0.10852524638175964, 0.07876300066709518, 0.056349486112594604, 0.06654326617717743, 0.0040441351011395454, 0.00693312706425786, 0.007321261800825596, 0.0008706999360583723, 0.0035439347848296165, 0.011188368313014507, 0.0029973816126585007, 0.014828330837190151, 0.011136562563478947, 0.0499546155333519, 0.08465427905321121, 0.0, 0.0, 0.0, 0.0, 0.0, 0.0, 0.0], [0.18029391765594482, 0.027146626263856888, 0.23372526466846466, 0.041705481708049774, 0.07541145384311676, 0.014372449368238449, 0.07197202742099762, 0.013880986720323563, 0.006495960522443056, 0.010818869806826115, 0.0035696944687515497, 0.012359017506241798, 0.00573709886521101, 0.00848899781703949, 0.006498422939330339, 0.007845276035368443, 0.11519946157932281, 0.03984421119093895, 0.1246347427368164, 0.0, 0.0, 0.0, 0.0, 0.0, 0.0], [0.12186218798160553, 0.02066965587437153, 0.3347560167312622, 0.05977483093738556, 0.08118702471256256, 0.020972587168216705, 0.08680252730846405, 0.006942953448742628, 0.005418399814516306, 0.01179829053580761, 0.0015543344197794795, 0.006772701162844896, 0.014437354169785976, 0.0061300769448280334, 0.01675340346992016, 0.011466636322438717, 0.07196559756994247, 0.03360569104552269, 0.07245059311389923, 0.014679142273962498, 0.0, 0.0, 0.0, 0.0, 0.0], [0.32020506262779236, 0.026135321706533432, 0.238974928855896, 0.044644441455602646, 0.02979300729930401, 0.014249703846871853, 0.03787552937865257, 0.0168827623128891, 0.009174474515020847, 0.008498186245560646, 0.007795048411935568, 0.015721047297120094, 0.012384342029690742, 0.014448448084294796, 0.015972035005688667, 0.010739430785179138, 0.05174501985311508, 0.013985360972583294, 0.045415617525577545, 0.028131812810897827, 0.037228457629680634, 0.0, 0.0, 0.0, 0.0], [0.23338256776332855, 0.01935129053890705, 0.19918431341648102, 0.019730543717741966, 0.10517684370279312, 0.017939427867531776, 0.10130999982357025, 0.009119246155023575, 0.004339435137808323, 0.00517532043159008, 0.0024987650103867054, 0.00745790172368288, 0.0071954126469790936, 0.009507833980023861, 0.010929166339337826, 0.021264949813485146, 0.10007087141275406, 0.02101360447704792, 0.0706368014216423, 0.018682120367884636, 0.006135402247309685, 0.009898155927658081, 0.0, 0.0, 0.0], [0.19237829744815826, 0.018513770774006844, 0.26237213611602783, 0.03620138764381409, 0.1266489177942276, 0.016614094376564026, 0.09320128709077835, 0.003015041584149003, 0.00390211446210742, 0.007781713269650936, 0.004390508867800236, 0.0029346421360969543, 0.005623405799269676, 0.0031055500730872154, 0.01093652006238699, 0.010073806159198284, 0.04987093433737755, 0.012019115500152111, 0.04559006914496422, 0.013067642226815224, 0.007807563990354538, 0.010909680277109146, 0.06304171681404114, 0.0, 0.0], [0.17350557446479797, 0.021613242104649544, 0.1650824099779129, 0.0139976991340518, 0.10707996785640717, 0.010590626858174801, 0.14259064197540283, 0.006356146186590195, 0.0033612933475524187, 0.0055052414536476135, 0.0021141991019248962, 0.010173777118325233, 0.010732338763773441, 0.007297756616026163, 0.01218288391828537, 0.008960363455116749, 0.10584571212530136, 0.012700061313807964, 0.07296337187290192, 0.012264004908502102, 0.007627619430422783, 0.009515820071101189, 0.021815374493598938, 0.05612390488386154, 0.0], [0.05613727122545242, 0.022868452593684196, 0.3538201153278351, 0.07850049436092377, 0.06080140918493271, 0.029760053381323814, 0.07786151021718979, 0.0041808984242379665, 0.005106416530907154, 0.010157604701817036, 0.0009071434615179896, 0.004537085071206093, 0.013646306470036507, 0.003167220391333103, 0.015355407260358334, 0.009881535544991493, 0.047035593539476395, 0.0488847978413105, 0.04706825315952301, 0.012677771039307117, 0.0041015855967998505, 0.0008142461301758885, 0.004272678401321173, 0.012224717065691948, 0.07623142749071121]], [[1.0, 0.0, 0.0, 0.0, 0.0, 0.0, 0.0, 0.0, 0.0, 0.0, 0.0, 0.0, 0.0, 0.0, 0.0, 0.0, 0.0, 0.0, 0.0, 0.0, 0.0, 0.0, 0.0, 0.0, 0.0], [0.9004704356193542, 0.09952950477600098, 0.0, 0.0, 0.0, 0.0, 0.0, 0.0, 0.0, 0.0, 0.0, 0.0, 0.0, 0.0, 0.0, 0.0, 0.0, 0.0, 0.0, 0.0, 0.0, 0.0, 0.0, 0.0, 0.0], [0.8859712481498718, 0.03719091787934303, 0.07683785259723663, 0.0, 0.0, 0.0, 0.0, 0.0, 0.0, 0.0, 0.0, 0.0, 0.0, 0.0, 0.0, 0.0, 0.0, 0.0, 0.0, 0.0, 0.0, 0.0, 0.0, 0.0, 0.0], [0.3079524338245392, 0.02761046402156353, 0.490182101726532, 0.17425498366355896, 0.0, 0.0, 0.0, 0.0, 0.0, 0.0, 0.0, 0.0, 0.0, 0.0, 0.0, 0.0, 0.0, 0.0, 0.0, 0.0, 0.0, 0.0, 0.0, 0.0, 0.0], [0.5938620567321777, 0.02745000645518303, 0.12055571377277374, 0.13469386100769043, 0.12343832850456238, 0.0, 0.0, 0.0, 0.0, 0.0, 0.0, 0.0, 0.0, 0.0, 0.0, 0.0, 0.0, 0.0, 0.0, 0.0, 0.0, 0.0, 0.0, 0.0, 0.0], [0.1632126122713089, 0.010855061002075672, 0.30402520298957825, 0.12559394538402557, 0.3206959068775177, 0.07561729848384857, 0.0, 0.0, 0.0, 0.0, 0.0, 0.0, 0.0, 0.0, 0.0, 0.0, 0.0, 0.0, 0.0, 0.0, 0.0, 0.0, 0.0, 0.0, 0.0], [0.40133050084114075, 0.02079720050096512, 0.22230902314186096, 0.10053214430809021, 0.09173314273357391, 0.04589558392763138, 0.11740241199731827, 0.0, 0.0, 0.0, 0.0, 0.0, 0.0, 0.0, 0.0, 0.0, 0.0, 0.0, 0.0, 0.0, 0.0, 0.0, 0.0, 0.0, 0.0], [0.872355580329895, 0.025283727794885635, 0.0045343502424657345, 0.04738721624016762, 0.0036603373009711504, 0.019703496247529984, 0.00198232545517385, 0.025092896074056625, 0.0, 0.0, 0.0, 0.0, 0.0, 0.0, 0.0, 0.0, 0.0, 0.0, 0.0, 0.0, 0.0, 0.0, 0.0, 0.0, 0.0], [0.23711878061294556, 0.025753019377589226, 0.21319153904914856, 0.06328882277011871, 0.14683666825294495, 0.026609471067786217, 0.21646803617477417, 0.03902825340628624, 0.031705405563116074, 0.0, 0.0, 0.0, 0.0, 0.0, 0.0, 0.0, 0.0, 0.0, 0.0, 0.0, 0.0, 0.0, 0.0, 0.0, 0.0], [0.6281924247741699, 0.0322994738817215, 0.03937293961644173, 0.05098063126206398, 0.02345801331102848, 0.052821312099695206, 0.01642470620572567, 0.017374714836478233, 0.07473485171794891, 0.06434087455272675, 0.0, 0.0, 0.0, 0.0, 0.0, 0.0, 0.0, 0.0, 0.0, 0.0, 0.0, 0.0, 0.0, 0.0, 0.0], [0.8088677525520325, 0.01799006760120392, 0.008862586691975594, 0.01666073314845562, 0.00146161497104913, 0.0100163035094738, 0.0024729911237955093, 0.02229146845638752, 0.017788898199796677, 0.04210347309708595, 0.0514841265976429, 0.0, 0.0, 0.0, 0.0, 0.0, 0.0, 0.0, 0.0, 0.0, 0.0, 0.0, 0.0, 0.0, 0.0], [0.016593631356954575, 0.011899128556251526, 0.5630611777305603, 0.04265764355659485, 0.06392645835876465, 0.02237364836037159, 0.24574148654937744, 0.008044645190238953, 0.007016968913376331, 0.010796889662742615, 0.0015120269963517785, 0.006376291625201702, 0.0, 0.0, 0.0, 0.0, 0.0, 0.0, 0.0, 0.0, 0.0, 0.0, 0.0, 0.0, 0.0], [0.024293432012200356, 0.005528826732188463, 0.22234804928302765, 0.03501056879758835, 0.2625580430030823, 0.023393331095576286, 0.3638840317726135, 0.018016228452324867, 0.005543079227209091, 0.0012237302726134658, 0.0020616366527974606, 0.0038381307385861874, 0.03230087459087372, 0.0, 0.0, 0.0, 0.0, 0.0, 0.0, 0.0, 0.0, 0.0, 0.0, 0.0, 0.0], [0.1658163219690323, 0.015016505494713783, 0.2501084804534912, 0.07642360031604767, 0.10887142270803452, 0.05778481066226959, 0.1639387011528015, 0.01456675585359335, 0.006069454364478588, 0.00953674130141735, 0.012250206433236599, 0.01618562825024128, 0.07182475924491882, 0.03160661831498146, 0.0, 0.0, 0.0, 0.0, 0.0, 0.0, 0.0, 0.0, 0.0, 0.0, 0.0], [0.01227594818919897, 0.0051186466589570045, 0.12572252750396729, 0.02286568656563759, 0.30186471343040466, 0.014271823689341545, 0.4926445782184601, 0.002043628366664052, 0.001152348704636097, 0.001264583203010261, 0.00020169184426777065, 0.0007137341890484095, 0.008034374564886093, 0.002009824849665165, 0.00981590524315834, 0.0, 0.0, 0.0, 0.0, 0.0, 0.0, 0.0, 0.0, 0.0, 0.0], [0.5888193845748901, 0.03703451529145241, 0.03973591700196266, 0.08607617765665054, 0.040234893560409546, 0.021041668951511383, 0.07529940456151962, 0.007010862696915865, 0.004031184129416943, 0.005344497039914131, 0.0005454662605188787, 0.002489391714334488, 0.01755528151988983, 0.0035289544612169266, 0.043629977852106094, 0.027622416615486145, 0.0, 0.0, 0.0, 0.0, 0.0, 0.0, 0.0, 0.0, 0.0], [0.09558545798063278, 0.014794467017054558, 0.034971076995134354, 0.11762090772390366, 0.07032278925180435, 0.046433139592409134, 0.2141011655330658, 0.0058233956806361675, 0.0015573035925626755, 0.0021937100682407618, 0.00015521422028541565, 0.0007075516623444855, 0.017011471092700958, 0.0025245945435017347, 0.026080062612891197, 0.0036501602735370398, 0.346467524766922, 0.0, 0.0, 0.0, 0.0, 0.0, 0.0, 0.0, 0.0], [0.024669136852025986, 0.002446096623316407, 0.04898730665445328, 0.032144688069820404, 0.4482402801513672, 0.020111430436372757, 0.17567643523216248, 0.0004978996585123241, 0.00041100900853052735, 0.0007780216401442885, 2.185725861636456e-05, 0.00010104399552801624, 0.0033931792713701725, 0.0002599656581878662, 0.007406478747725487, 0.005152030382305384, 0.18758836388587952, 0.0421147495508194, 0.0, 0.0, 0.0, 0.0, 0.0, 0.0, 0.0], [0.01788298413157463, 0.006106608081609011, 0.035509925335645676, 0.04994749277830124, 0.09420280903577805, 0.05251222476363182, 0.2505602240562439, 0.003767243353649974, 0.001147848553955555, 0.0018917388515546918, 0.00014537326933350414, 0.00045661110198125243, 0.01309631485491991, 0.0013744664611294866, 0.011900908313691616, 0.0011898481752723455, 0.3572194278240204, 0.052043430507183075, 0.049044571816921234, 0.0, 0.0, 0.0, 0.0, 0.0, 0.0], [0.011341686360538006, 0.0030116529669612646, 0.08340737223625183, 0.02260371670126915, 0.18374347686767578, 0.017198530957102776, 0.26402032375335693, 0.0009009490022435784, 0.0004547913558781147, 0.0014176992699503899, 0.0003135565493721515, 0.0005951548810116947, 0.005157564301043749, 0.0010424642823636532, 0.00994145032018423, 0.003964756149798632, 0.2826927602291107, 0.03716469183564186, 0.06492813676595688, 0.006099215708673, 0.0, 0.0, 0.0, 0.0, 0.0], [0.39607587456703186, 0.019107818603515625, 0.022904668003320694, 0.028300931677222252, 0.010437372140586376, 0.015252597630023956, 0.005119566805660725, 0.011268176138401031, 0.005351174157112837, 0.0029629564378410578, 0.010859624482691288, 0.007632898166775703, 0.010579492896795273, 0.040639761835336685, 0.021985754370689392, 0.03431093320250511, 0.017033929005265236, 0.030057812109589577, 0.008774819783866405, 0.24239425361156464, 0.05894963815808296, 0.0, 0.0, 0.0, 0.0], [0.19299620389938354, 0.025194363668560982, 0.0397559218108654, 0.07126276940107346, 0.01787872426211834, 0.04180094599723816, 0.028764160349965096, 0.012342494912445545, 0.00930554885417223, 0.013687385246157646, 0.0015378197422251105, 0.0027351989410817623, 0.026543306186795235, 0.016678553074598312, 0.04228679835796356, 0.06650883704423904, 0.07336833328008652, 0.05483585223555565, 0.025333192199468613, 0.10179969668388367, 0.10107430815696716, 0.03430952876806259, 0.0, 0.0, 0.0], [0.17584407329559326, 0.02009403146803379, 0.07674529403448105, 0.04387948662042618, 0.09194616228342056, 0.029945923015475273, 0.08484054356813431, 0.002657522214576602, 0.0048464564606547356, 0.004888415336608887, 0.0028097108006477356, 0.0016422545304521918, 0.01001920085400343, 0.0009992183186113834, 0.02392948977649212, 0.027474114671349525, 0.1043657511472702, 0.06649059802293777, 0.04307633265852928, 0.029987823218107224, 0.011709591373801231, 0.06247102841734886, 0.079336978495121, 0.0, 0.0], [0.11036937683820724, 0.020558636635541916, 0.09684232622385025, 0.038697320967912674, 0.022296326234936714, 0.02599303424358368, 0.04967830702662468, 0.00923400279134512, 0.006810817401856184, 0.0073414999060332775, 0.0016188070876523852, 0.0030902738217264414, 0.021991949528455734, 0.010983014479279518, 0.042398471385240555, 0.09609415382146835, 0.11590970307588577, 0.050549183040857315, 0.04807579144835472, 0.04005620628595352, 0.038301631808280945, 0.03820385783910751, 0.0657670646905899, 0.03913814201951027, 0.0], [0.0021024118177592754, 0.000876131933182478, 0.03756390139460564, 0.01379296462982893, 0.23033788800239563, 0.00710389344021678, 0.3737594187259674, 0.00011986037134192884, 6.375402153935283e-05, 0.00023065957066137344, 1.3639208191307262e-05, 4.565868221106939e-05, 0.0008850597660057247, 6.59148718114011e-05, 0.002520012203603983, 0.0012335071805864573, 0.2811959385871887, 0.016169482842087746, 0.027044733986258507, 0.0006915119593031704, 5.5487631470896304e-05, 1.8917320630862378e-05, 0.0001090658552129753, 0.00022234447533264756, 0.0037779207341372967]], [[1.0, 0.0, 0.0, 0.0, 0.0, 0.0, 0.0, 0.0, 0.0, 0.0, 0.0, 0.0, 0.0, 0.0, 0.0, 0.0, 0.0, 0.0, 0.0, 0.0, 0.0, 0.0, 0.0, 0.0, 0.0], [0.9851462244987488, 0.014853774569928646, 0.0, 0.0, 0.0, 0.0, 0.0, 0.0, 0.0, 0.0, 0.0, 0.0, 0.0, 0.0, 0.0, 0.0, 0.0, 0.0, 0.0, 0.0, 0.0, 0.0, 0.0, 0.0, 0.0], [0.9615049958229065, 0.0055169290862977505, 0.03297807648777962, 0.0, 0.0, 0.0, 0.0, 0.0, 0.0, 0.0, 0.0, 0.0, 0.0, 0.0, 0.0, 0.0, 0.0, 0.0, 0.0, 0.0, 0.0, 0.0, 0.0, 0.0, 0.0], [0.7799097895622253, 0.017221562564373016, 0.19254161417484283, 0.010327081196010113, 0.0, 0.0, 0.0, 0.0, 0.0, 0.0, 0.0, 0.0, 0.0, 0.0, 0.0, 0.0, 0.0, 0.0, 0.0, 0.0, 0.0, 0.0, 0.0, 0.0, 0.0], [0.9182835221290588, 0.015381581149995327, 0.028809458017349243, 0.003931401297450066, 0.03359410539269447, 0.0, 0.0, 0.0, 0.0, 0.0, 0.0, 0.0, 0.0, 0.0, 0.0, 0.0, 0.0, 0.0, 0.0, 0.0, 0.0, 0.0, 0.0, 0.0, 0.0], [0.852080225944519, 0.010507701896131039, 0.08239199966192245, 0.0024956446141004562, 0.04972108080983162, 0.0028033701237291098, 0.0, 0.0, 0.0, 0.0, 0.0, 0.0, 0.0, 0.0, 0.0, 0.0, 0.0, 0.0, 0.0, 0.0, 0.0, 0.0, 0.0, 0.0, 0.0], [0.7926602959632874, 0.03012993559241295, 0.05965994670987129, 0.006613604724407196, 0.026238758116960526, 0.002756767673417926, 0.08194070309400558, 0.0, 0.0, 0.0, 0.0, 0.0, 0.0, 0.0, 0.0, 0.0, 0.0, 0.0, 0.0, 0.0, 0.0, 0.0, 0.0, 0.0, 0.0], [0.9537235498428345, 0.01377818826586008, 0.011617173440754414, 0.0020273320842534304, 0.0015257253544405103, 0.0008816329063847661, 0.010610999539494514, 0.005835384130477905, 0.0, 0.0, 0.0, 0.0, 0.0, 0.0, 0.0, 0.0, 0.0, 0.0, 0.0, 0.0, 0.0, 0.0, 0.0, 0.0, 0.0], [0.7816866636276245, 0.004689084365963936, 0.06783109903335571, 0.0017471110913902521, 0.020972467958927155, 0.0006429984932765365, 0.1150871217250824, 0.0024324236437678337, 0.004911075346171856, 0.0, 0.0, 0.0, 0.0, 0.0, 0.0, 0.0, 0.0, 0.0, 0.0, 0.0, 0.0, 0.0, 0.0, 0.0, 0.0], [0.9584619998931885, 0.003617490641772747, 0.006449034437537193, 0.0015744579723104835, 0.002851395169273019, 0.0008663760963827372, 0.013589104637503624, 0.0007499519269913435, 0.0011286716908216476, 0.010711537674069405, 0.0, 0.0, 0.0, 0.0, 0.0, 0.0, 0.0, 0.0, 0.0, 0.0, 0.0, 0.0, 0.0, 0.0, 0.0], [0.9694346189498901, 0.01121312566101551, 0.0015614228323101997, 0.0002477115485817194, 0.00047728486242704093, 0.0004670856869779527, 0.0034322484862059355, 0.00043463369365781546, 0.00010322411253582686, 0.0005006783758290112, 0.012127939611673355, 0.0, 0.0, 0.0, 0.0, 0.0, 0.0, 0.0, 0.0, 0.0, 0.0, 0.0, 0.0, 0.0, 0.0], [0.7290719151496887, 0.11654353886842728, 0.04512590542435646, 0.0007300609140656888, 0.02137865126132965, 0.004233554936945438, 0.06701131910085678, 0.0011103725992143154, 0.0008661493775434792, 0.0014724615029990673, 0.003083509858697653, 0.00937255471944809, 0.0, 0.0, 0.0, 0.0, 0.0, 0.0, 0.0, 0.0, 0.0, 0.0, 0.0, 0.0, 0.0], [0.4424764811992645, 0.01657230034470558, 0.19054679572582245, 0.0063297804445028305, 0.07869422435760498, 0.0038419472984969616, 0.2256588637828827, 0.009483222849667072, 0.004209607373923063, 0.00490275863558054, 0.003912993706762791, 0.006164774764329195, 0.0072061666287481785, 0.0, 0.0, 0.0, 0.0, 0.0, 0.0, 0.0, 0.0, 0.0, 0.0, 0.0, 0.0], [0.8112491965293884, 0.021917812526226044, 0.04908927530050278, 0.002151940483599901, 0.03778747841715813, 0.0022505673114210367, 0.06320428848266602, 0.0002822339010890573, 0.0022520283237099648, 0.0009737482178024948, 0.0030559413135051727, 0.0015456951223313808, 0.0014734797878190875, 0.0027663239743560553, 0.0, 0.0, 0.0, 0.0, 0.0, 0.0, 0.0, 0.0, 0.0, 0.0, 0.0], [0.13862869143486023, 0.014918762259185314, 0.28639334440231323, 0.0022242837585508823, 0.24113164842128754, 0.0017717418959364295, 0.30458003282546997, 0.00081632164074108, 0.0006000580033287406, 0.000933176779653877, 0.0012091681128367782, 0.0003253839095123112, 0.0007683830335736275, 0.0018759280210360885, 0.003823102917522192, 0.0, 0.0, 0.0, 0.0, 0.0, 0.0, 0.0, 0.0, 0.0, 0.0], [0.8458161950111389, 0.01932534947991371, 0.03636162355542183, 0.0037031457759439945, 0.02481825277209282, 0.0014976036036387086, 0.03656846284866333, 0.0004823158960789442, 0.00010724304593168199, 0.0006525773787871003, 0.001263637444935739, 0.0010014587314799428, 0.002242149319499731, 0.00022821425227448344, 0.0046894121915102005, 0.021242231130599976, 0.0, 0.0, 0.0, 0.0, 0.0, 0.0, 0.0, 0.0, 0.0], [0.29739877581596375, 0.02854052372276783, 0.05583104118704796, 0.012874417938292027, 0.08634595572948456, 0.011085569858551025, 0.243361696600914, 0.01964317075908184, 0.0032837754115462303, 0.00219455873593688, 0.003173497039824724, 0.003054057713598013, 0.0020048904698342085, 0.007947305217385292, 0.003252866677939892, 0.009767301380634308, 0.21024052798748016, 0.0, 0.0, 0.0, 0.0, 0.0, 0.0, 0.0, 0.0], [0.13376012444496155, 0.027834776788949966, 0.21327213943004608, 0.008545775897800922, 0.24250918626785278, 0.0025685548316687346, 0.15757691860198975, 0.0005662370822392404, 0.0005236522410996258, 0.001796495052985847, 0.0008042787667363882, 0.0001799968013074249, 0.00035096684587188065, 0.0003103211347479373, 0.0030869257170706987, 0.014512416906654835, 0.1889217495918274, 0.0028795148245990276, 0.0, 0.0, 0.0, 0.0, 0.0, 0.0, 0.0], [0.08526035398244858, 0.02164778672158718, 0.04291588068008423, 0.047615598887205124, 0.14943604171276093, 0.014306818135082722, 0.058175548911094666, 0.03490977734327316, 0.0037016605492681265, 0.0012038156855851412, 0.0012408785987645388, 0.0024670325219631195, 0.0002706381492316723, 0.0019173886394128203, 0.002152459230273962, 0.005217420402914286, 0.056973397731781006, 0.1081220731139183, 0.36246538162231445, 0.0, 0.0, 0.0, 0.0, 0.0, 0.0], [0.14714142680168152, 0.027205441147089005, 0.21801628172397614, 0.007786603178828955, 0.1307688057422638, 0.002285798778757453, 0.2033192217350006, 0.0016877584857866168, 0.0011338678887113929, 0.001964008202776313, 0.006979303900152445, 0.002347407629713416, 0.0007425628136843443, 0.002612074138596654, 0.009466822259128094, 0.023517480120062828, 0.11777842044830322, 0.0011218235595151782, 0.08326086401939392, 0.010864035226404667, 0.0, 0.0, 0.0, 0.0, 0.0], [0.7904532551765442, 0.030578868463635445, 0.028800999745726585, 0.004343785811215639, 0.01724475435912609, 0.004003484733402729, 0.02944483980536461, 0.0017107552848756313, 0.0015103338519111276, 0.0009026676998473704, 0.014736074954271317, 0.0051404754631221294, 0.0015053325332701206, 0.004994124639779329, 0.005592252593487501, 0.007763360161334276, 0.011901440098881721, 0.001101111643947661, 0.004145691636949778, 0.009011630900204182, 0.02511485479772091, 0.0, 0.0, 0.0, 0.0], [0.758637547492981, 0.055585119873285294, 0.01795378513634205, 0.0016124298563227057, 0.008605856448411942, 0.004122551996260881, 0.02295520529150963, 0.0008890092140063643, 0.004262414760887623, 0.001308165374211967, 0.002327141584828496, 0.003249696921557188, 0.004027702379971743, 0.006208471953868866, 0.005655321292579174, 0.010744663886725903, 0.007726727053523064, 0.0004948842106387019, 0.0024474395904690027, 0.004275303799659014, 0.012084687128663063, 0.0648258626461029, 0.0, 0.0, 0.0], [0.6982359886169434, 0.03565797582268715, 0.04130728542804718, 0.0011310877744108438, 0.04853173345327377, 0.0009257275960408151, 0.052368711680173874, 0.00010409301467007026, 0.0002149479405488819, 0.0010579251684248447, 0.004955568816512823, 0.0007806414505466819, 0.0007445613155141473, 0.0006410481291823089, 0.002541005378589034, 0.018277624621987343, 0.022145690396428108, 0.000146281803608872, 0.020148076117038727, 0.001128307543694973, 0.023045189678668976, 0.022529594600200653, 0.003381006419658661, 0.0, 0.0], [0.6166173815727234, 0.10256974399089813, 0.020040271803736687, 0.001427679555490613, 0.018937435001134872, 0.004829326644539833, 0.04215802252292633, 0.0005974576924927533, 0.0027145410422235727, 0.0009292981121689081, 0.001646420918405056, 0.004223814699798822, 0.003781793173402548, 0.004752523265779018, 0.0045320577919483185, 0.028679179027676582, 0.012495485134422779, 0.0006514978595077991, 0.0024354904890060425, 0.0026162646245211363, 0.010171509347856045, 0.03144818916916847, 0.010641888715326786, 0.07110275328159332, 0.0], [0.011288635432720184, 0.002386677311733365, 0.17455478012561798, 0.0028077876195311546, 0.23882544040679932, 0.0008800252107903361, 0.39365893602371216, 8.140970749082044e-05, 6.33778254268691e-05, 0.0008068744791671634, 0.00025208861916325986, 7.297526462934911e-05, 0.00020643469179049134, 0.00010445521184010431, 0.0007989227306097746, 0.00788053311407566, 0.10340410470962524, 0.00010166455467697233, 0.05921609699726105, 9.397988469572738e-05, 0.0006040767184458673, 0.00023885146947577596, 2.999918069690466e-05, 0.0006790421903133392, 0.0009628937696106732]], [[1.0, 0.0, 0.0, 0.0, 0.0, 0.0, 0.0, 0.0, 0.0, 0.0, 0.0, 0.0, 0.0, 0.0, 0.0, 0.0, 0.0, 0.0, 0.0, 0.0, 0.0, 0.0, 0.0, 0.0, 0.0], [0.9747667908668518, 0.025233186781406403, 0.0, 0.0, 0.0, 0.0, 0.0, 0.0, 0.0, 0.0, 0.0, 0.0, 0.0, 0.0, 0.0, 0.0, 0.0, 0.0, 0.0, 0.0, 0.0, 0.0, 0.0, 0.0, 0.0], [0.9169190526008606, 0.06018446385860443, 0.022896500304341316, 0.0, 0.0, 0.0, 0.0, 0.0, 0.0, 0.0, 0.0, 0.0, 0.0, 0.0, 0.0, 0.0, 0.0, 0.0, 0.0, 0.0, 0.0, 0.0, 0.0, 0.0, 0.0], [0.7819293737411499, 0.04020222648978233, 0.10766134411096573, 0.07020706683397293, 0.0, 0.0, 0.0, 0.0, 0.0, 0.0, 0.0, 0.0, 0.0, 0.0, 0.0, 0.0, 0.0, 0.0, 0.0, 0.0, 0.0, 0.0, 0.0, 0.0, 0.0], [0.8822616338729858, 0.04616612568497658, 0.03265807777643204, 0.0288180410861969, 0.010096106678247452, 0.0, 0.0, 0.0, 0.0, 0.0, 0.0, 0.0, 0.0, 0.0, 0.0, 0.0, 0.0, 0.0, 0.0, 0.0, 0.0, 0.0, 0.0, 0.0, 0.0], [0.7065796852111816, 0.025583378970623016, 0.08511955291032791, 0.049872078001499176, 0.09306922554969788, 0.03977607563138008, 0.0, 0.0, 0.0, 0.0, 0.0, 0.0, 0.0, 0.0, 0.0, 0.0, 0.0, 0.0, 0.0, 0.0, 0.0, 0.0, 0.0, 0.0, 0.0], [0.8639999032020569, 0.04276188835501671, 0.02002609707415104, 0.029622161760926247, 0.007078294642269611, 0.03143255412578583, 0.005079132504761219, 0.0, 0.0, 0.0, 0.0, 0.0, 0.0, 0.0, 0.0, 0.0, 0.0, 0.0, 0.0, 0.0, 0.0, 0.0, 0.0, 0.0, 0.0], [0.7218258380889893, 0.061084870249032974, 0.023578325286507607, 0.041937582194805145, 0.018581759184598923, 0.0959237664937973, 0.011532697826623917, 0.02553512342274189, 0.0, 0.0, 0.0, 0.0, 0.0, 0.0, 0.0, 0.0, 0.0, 0.0, 0.0, 0.0, 0.0, 0.0, 0.0, 0.0, 0.0], [0.6100785732269287, 0.030929090455174446, 0.0758218988776207, 0.06598936766386032, 0.06300291419029236, 0.06906332075595856, 0.03588031977415085, 0.025232665240764618, 0.024001820012927055, 0.0, 0.0, 0.0, 0.0, 0.0, 0.0, 0.0, 0.0, 0.0, 0.0, 0.0, 0.0, 0.0, 0.0, 0.0, 0.0], [0.7433067560195923, 0.036684438586235046, 0.03434145450592041, 0.04497545585036278, 0.0222401674836874, 0.06679413467645645, 0.01422627829015255, 0.007808423135429621, 0.015223167836666107, 0.014399739913642406, 0.0, 0.0, 0.0, 0.0, 0.0, 0.0, 0.0, 0.0, 0.0, 0.0, 0.0, 0.0, 0.0, 0.0, 0.0], [0.8935568332672119, 0.020960098132491112, 0.011521929875016212, 0.009476004168391228, 0.006410360336303711, 0.004962176084518433, 0.006160037592053413, 0.0024120511952787638, 0.010765542276203632, 0.018770206719636917, 0.015004650689661503, 0.0, 0.0, 0.0, 0.0, 0.0, 0.0, 0.0, 0.0, 0.0, 0.0, 0.0, 0.0, 0.0, 0.0], [0.6172989010810852, 0.08695913106203079, 0.06577575206756592, 0.03191365674138069, 0.023628784343600273, 0.011769126169383526, 0.01614842377603054, 0.018792683258652687, 0.03135136142373085, 0.03371933847665787, 0.01887989044189453, 0.043762996792793274, 0.0, 0.0, 0.0, 0.0, 0.0, 0.0, 0.0, 0.0, 0.0, 0.0, 0.0, 0.0, 0.0], [0.375619113445282, 0.022712342441082, 0.059928860515356064, 0.0669068992137909, 0.04215092584490776, 0.04149143025279045, 0.02604003995656967, 0.08337295055389404, 0.055666856467723846, 0.051050446927547455, 0.030073460191488266, 0.09005869925022125, 0.054927926510572433, 0.0, 0.0, 0.0, 0.0, 0.0, 0.0, 0.0, 0.0, 0.0, 0.0, 0.0, 0.0], [0.5235618352890015, 0.038041893392801285, 0.05415230244398117, 0.03100140020251274, 0.024385599419474602, 0.011418827809393406, 0.030430741608142853, 0.05045097693800926, 0.03613691031932831, 0.023126116022467613, 0.026758287101984024, 0.0647192895412445, 0.026560790836811066, 0.05925511568784714, 0.0, 0.0, 0.0, 0.0, 0.0, 0.0, 0.0, 0.0, 0.0, 0.0, 0.0], [0.3540308177471161, 0.021507998928427696, 0.07609205693006516, 0.03897477686405182, 0.05145665630698204, 0.07348373532295227, 0.04985271394252777, 0.0732622742652893, 0.06017421931028366, 0.017309492453932762, 0.009960740804672241, 0.022278310731053352, 0.03194710239768028, 0.0838162750005722, 0.03585287928581238, 0.0, 0.0, 0.0, 0.0, 0.0, 0.0, 0.0, 0.0, 0.0, 0.0], [0.8461264967918396, 0.035664163529872894, 0.012979959137737751, 0.009950950741767883, 0.013189104385674, 0.011422332376241684, 0.008100109174847603, 0.0018066669581457973, 0.0038943998515605927, 0.0028936995659023523, 0.0009471048833802342, 0.001578138442710042, 0.00318797305226326, 0.0018328631995245814, 0.015474928542971611, 0.030951105058193207, 0.0, 0.0, 0.0, 0.0, 0.0, 0.0, 0.0, 0.0, 0.0], [0.6591094136238098, 0.07186485826969147, 0.009385086596012115, 0.010936638340353966, 0.0066523198038339615, 0.006083148997277021, 0.005131861194968224, 0.003959688823670149, 0.009814680553972721, 0.006681621074676514, 0.00788543839007616, 0.019229086115956306, 0.01297946646809578, 0.02638312429189682, 0.04337028041481972, 0.03295402601361275, 0.06757927685976028, 0.0, 0.0, 0.0, 0.0, 0.0, 0.0, 0.0, 0.0], [0.4750974178314209, 0.016549840569496155, 0.02970551699399948, 0.016544466838240623, 0.054066725075244904, 0.007608314044773579, 0.017770471051335335, 0.0026429297868162394, 0.0024098644498735666, 0.002440838608890772, 0.0013729206984862685, 0.002401114907115698, 0.002576300175860524, 0.00263509014621377, 0.009151944890618324, 0.016881827265024185, 0.32047975063323975, 0.01966465264558792, 0.0, 0.0, 0.0, 0.0, 0.0, 0.0, 0.0], [0.6160235404968262, 0.050552260130643845, 0.007474218495190144, 0.013209263794124126, 0.00481672678142786, 0.028508123010396957, 0.0026830644346773624, 0.0049173664301633835, 0.006670301780104637, 0.006149343680590391, 0.007921172305941582, 0.019896265119314194, 0.015398259274661541, 0.026200223714113235, 0.03159015253186226, 0.020491108298301697, 0.03625116124749184, 0.0671306923031807, 0.0341167226433754, 0.0, 0.0, 0.0, 0.0, 0.0, 0.0], [0.35660380125045776, 0.012911374680697918, 0.015805676579475403, 0.02318849228322506, 0.020340560004115105, 0.06931320577859879, 0.013917350210249424, 0.017670568078756332, 0.017832579091191292, 0.009240686893463135, 0.011160440742969513, 0.025575434789061546, 0.013955474831163883, 0.03265143558382988, 0.02678770385682583, 0.035804808139801025, 0.07057907432317734, 0.07892366498708725, 0.0828947126865387, 0.06484287977218628, 0.0, 0.0, 0.0, 0.0, 0.0], [0.5846401453018188, 0.023869693279266357, 0.019431499764323235, 0.013390150852501392, 0.016252681612968445, 0.03076322376728058, 0.01120627298951149, 0.006270101759582758, 0.0069099836982786655, 0.005039696116000414, 0.007620012387633324, 0.012015549466013908, 0.010504892095923424, 0.018136268481612206, 0.025824202224612236, 0.028218459337949753, 0.057661574333906174, 0.02351335994899273, 0.03511657938361168, 0.026610367000102997, 0.037005238234996796, 0.0, 0.0, 0.0, 0.0], [0.7234576344490051, 0.010039737448096275, 0.022139908745884895, 0.017287829890847206, 0.015505178831517696, 0.017807168886065483, 0.010538123548030853, 0.005654738284647465, 0.008276154287159443, 0.007747833151370287, 0.006208664271980524, 0.013021758757531643, 0.006095938850194216, 0.005675698164850473, 0.014723806641995907, 0.006586924195289612, 0.022236227989196777, 0.018847612664103508, 0.01921449787914753, 0.012761135585606098, 0.021811211481690407, 0.014362138696014881, 0.0, 0.0, 0.0], [0.49748268723487854, 0.013707680627703667, 0.03791176155209541, 0.023597028106451035, 0.02840432897210121, 0.024856599047780037, 0.021133337169885635, 0.00806763581931591, 0.006229129154235125, 0.0048328000120818615, 0.007200682535767555, 0.0059980773366987705, 0.006692631170153618, 0.0012369136093184352, 0.012185557745397091, 0.0332459956407547, 0.09519275277853012, 0.023752104490995407, 0.06471762806177139, 0.01964632235467434, 0.020447995513677597, 0.030699502676725388, 0.012760804034769535, 0.0, 0.0], [0.6433940529823303, 0.01743466593325138, 0.016821131110191345, 0.010344957932829857, 0.007964526303112507, 0.010088134557008743, 0.006142588332295418, 0.00540887052193284, 0.012945791706442833, 0.012495451606810093, 0.013351748697459698, 0.025582818314433098, 0.007051082793623209, 0.006725804414600134, 0.017231475561857224, 0.013149659149348736, 0.0177591722458601, 0.015130449086427689, 0.014860155992209911, 0.01725631207227707, 0.02857295796275139, 0.023633219301700592, 0.023274803534150124, 0.03338020294904709, 0.0], [0.18704473972320557, 0.01119510643184185, 0.05574498698115349, 0.026382388547062874, 0.04451435059309006, 0.012008809484541416, 0.025583887472748756, 0.003722141729667783, 0.002239095512777567, 0.00271399412304163, 0.001509860041551292, 0.0033235985320061445, 0.001747052650898695, 0.0009841605788096786, 0.005176975391805172, 0.031353287398815155, 0.3476126194000244, 0.0170119758695364, 0.18282674252986908, 0.013363366015255451, 0.009447723627090454, 0.0012349372263997793, 0.0016226550797000527, 0.007228950038552284, 0.004406570922583342]], [[1.0, 0.0, 0.0, 0.0, 0.0, 0.0, 0.0, 0.0, 0.0, 0.0, 0.0, 0.0, 0.0, 0.0, 0.0, 0.0, 0.0, 0.0, 0.0, 0.0, 0.0, 0.0, 0.0, 0.0, 0.0], [0.9199603796005249, 0.08003964275121689, 0.0, 0.0, 0.0, 0.0, 0.0, 0.0, 0.0, 0.0, 0.0, 0.0, 0.0, 0.0, 0.0, 0.0, 0.0, 0.0, 0.0, 0.0, 0.0, 0.0, 0.0, 0.0, 0.0], [0.9384096264839172, 0.018571237102150917, 0.043019119650125504, 0.0, 0.0, 0.0, 0.0, 0.0, 0.0, 0.0, 0.0, 0.0, 0.0, 0.0, 0.0, 0.0, 0.0, 0.0, 0.0, 0.0, 0.0, 0.0, 0.0, 0.0, 0.0], [0.6643775105476379, 0.05014214664697647, 0.20560619235038757, 0.07987410575151443, 0.0, 0.0, 0.0, 0.0, 0.0, 0.0, 0.0, 0.0, 0.0, 0.0, 0.0, 0.0, 0.0, 0.0, 0.0, 0.0, 0.0, 0.0, 0.0, 0.0, 0.0], [0.7734901309013367, 0.07791861891746521, 0.07724440842866898, 0.031502313911914825, 0.03984454646706581, 0.0, 0.0, 0.0, 0.0, 0.0, 0.0, 0.0, 0.0, 0.0, 0.0, 0.0, 0.0, 0.0, 0.0, 0.0, 0.0, 0.0, 0.0, 0.0, 0.0], [0.5307068824768066, 0.015614300966262817, 0.20670197904109955, 0.02228699065744877, 0.1955510377883911, 0.029138775542378426, 0.0, 0.0, 0.0, 0.0, 0.0, 0.0, 0.0, 0.0, 0.0, 0.0, 0.0, 0.0, 0.0, 0.0, 0.0, 0.0, 0.0, 0.0, 0.0], [0.6066701412200928, 0.1026950255036354, 0.10255540907382965, 0.051005084067583084, 0.07162528485059738, 0.021973177790641785, 0.04347587004303932, 0.0, 0.0, 0.0, 0.0, 0.0, 0.0, 0.0, 0.0, 0.0, 0.0, 0.0, 0.0, 0.0, 0.0, 0.0, 0.0, 0.0, 0.0], [0.8148464560508728, 0.07023212313652039, 0.02953984960913658, 0.02324719727039337, 0.014568042010068893, 0.010762657038867474, 0.013742306269705296, 0.02306138537824154, 0.0, 0.0, 0.0, 0.0, 0.0, 0.0, 0.0, 0.0, 0.0, 0.0, 0.0, 0.0, 0.0, 0.0, 0.0, 0.0, 0.0], [0.47973254323005676, 0.011592017486691475, 0.24325443804264069, 0.011740528047084808, 0.10982707142829895, 0.004484803881496191, 0.125774085521698, 0.004884480033069849, 0.008710064925253391, 0.0, 0.0, 0.0, 0.0, 0.0, 0.0, 0.0, 0.0, 0.0, 0.0, 0.0, 0.0, 0.0, 0.0, 0.0, 0.0], [0.7728571891784668, 0.026344023644924164, 0.07094232738018036, 0.01627248525619507, 0.033272791653871536, 0.008021472953259945, 0.04865681752562523, 0.0039725536480546, 0.005831434391438961, 0.013828822411596775, 0.0, 0.0, 0.0, 0.0, 0.0, 0.0, 0.0, 0.0, 0.0, 0.0, 0.0, 0.0, 0.0, 0.0, 0.0], [0.8803663849830627, 0.05693311244249344, 0.030607495456933975, 0.004802575334906578, 0.00455279927700758, 0.002656718250364065, 0.006604986265301704, 0.004589160904288292, 0.002927712630480528, 0.0017093800706788898, 0.004249620717018843, 0.0, 0.0, 0.0, 0.0, 0.0, 0.0, 0.0, 0.0, 0.0, 0.0, 0.0, 0.0, 0.0, 0.0], [0.12811458110809326, 0.3203910291194916, 0.3459435999393463, 0.01326697412878275, 0.0913330614566803, 0.010940035805106163, 0.07395533472299576, 0.004747751168906689, 0.005110250785946846, 0.002374005736783147, 0.0012077190913259983, 0.002615680918097496, 0.0, 0.0, 0.0, 0.0, 0.0, 0.0, 0.0, 0.0, 0.0, 0.0, 0.0, 0.0, 0.0], [0.3465506434440613, 0.026062320917844772, 0.19956769049167633, 0.01959965191781521, 0.15953484177589417, 0.016571884974837303, 0.19523411989212036, 0.010646210983395576, 0.006757588125765324, 0.006093569099903107, 0.0021653848234564066, 0.0029034651815891266, 0.008312691003084183, 0.0, 0.0, 0.0, 0.0, 0.0, 0.0, 0.0, 0.0, 0.0, 0.0, 0.0, 0.0], [0.41047853231430054, 0.038276441395282745, 0.20879139006137848, 0.01804918795824051, 0.13882377743721008, 0.016101142391562462, 0.13580486178398132, 0.0051710885018110275, 0.004712505266070366, 0.0023624978493899107, 0.002375745214521885, 0.003530132584273815, 0.009924414567649364, 0.005598181858658791, 0.0, 0.0, 0.0, 0.0, 0.0, 0.0, 0.0, 0.0, 0.0, 0.0, 0.0], [0.17134371399879456, 0.033374231308698654, 0.25281211733818054, 0.021442819386720657, 0.22902527451515198, 0.011818227358162403, 0.2412433922290802, 0.005933919455856085, 0.0024604080244898796, 0.002793538151308894, 0.0012408823240548372, 0.0014828771818429232, 0.00415235199034214, 0.003971167840063572, 0.01690506935119629, 0.0, 0.0, 0.0, 0.0, 0.0, 0.0, 0.0, 0.0, 0.0, 0.0], [0.7732348442077637, 0.06953547149896622, 0.04967851564288139, 0.019294200465083122, 0.01934094727039337, 0.004811195656657219, 0.011294807307422161, 0.007340666372328997, 0.002456477377563715, 0.001967616844922304, 0.00032600827398709953, 0.0006643278757110238, 0.0017339461483061314, 0.0024599586613476276, 0.008798355236649513, 0.027062619104981422, 0.0, 0.0, 0.0, 0.0, 0.0, 0.0, 0.0, 0.0, 0.0], [0.41073718667030334, 0.08864069730043411, 0.09213422983884811, 0.03549816086888313, 0.06676037609577179, 0.021120261400938034, 0.03149835020303726, 0.02926420047879219, 0.0035741678439080715, 0.0016082029324024916, 0.0013210467295721173, 0.0036332716699689627, 0.00831531174480915, 0.008402450941503048, 0.012757986783981323, 0.12173855304718018, 0.06299561262130737, 0.0, 0.0, 0.0, 0.0, 0.0, 0.0, 0.0, 0.0], [0.20053698122501373, 0.015840791165828705, 0.18516939878463745, 0.017231903970241547, 0.15466196835041046, 0.020888177677989006, 0.15704555809497833, 0.0023632850497961044, 0.0017409566789865494, 0.0018289823783561587, 0.0007516347104683518, 0.0010841003386303782, 0.0023655714467167854, 0.0013374205445870757, 0.011296378448605537, 0.1047842875123024, 0.10453017801046371, 0.016542330384254456, 0.0, 0.0, 0.0, 0.0, 0.0, 0.0, 0.0], [0.16730692982673645, 0.054294440895318985, 0.050917938351631165, 0.03183983266353607, 0.03099929168820381, 0.019465826451778412, 0.04085282236337662, 0.06172280013561249, 0.0033056014217436314, 0.0011183553142473102, 0.0009390093036927283, 0.0027198409661650658, 0.004328614100813866, 0.007238415535539389, 0.008976580575108528, 0.23787714540958405, 0.11468835920095444, 0.04667001962661743, 0.11473828554153442, 0.0, 0.0, 0.0, 0.0, 0.0, 0.0], [0.1500464379787445, 0.015274634584784508, 0.1566547304391861, 0.00861482322216034, 0.13425077497959137, 0.006169269792735577, 0.18815211951732635, 0.0034709228202700615, 0.001968536525964737, 0.0018969563534483314, 0.0011557529214769602, 0.001766987843438983, 0.0024941014125943184, 0.00355280633084476, 0.01035777572542429, 0.12233536690473557, 0.07348853349685669, 0.004358597565442324, 0.10713482648134232, 0.006855985149741173, 0.0, 0.0, 0.0, 0.0, 0.0], [0.5284268260002136, 0.024362677708268166, 0.06337273865938187, 0.015177692286670208, 0.047059446573257446, 0.006903006229549646, 0.033820830285549164, 0.010920954868197441, 0.0070089315995574, 0.0028440693859010935, 0.01572742685675621, 0.01129439752548933, 0.005633056629449129, 0.014029180631041527, 0.014555101282894611, 0.09176688641309738, 0.028059097006917, 0.0061353882774710655, 0.024662746116518974, 0.01808246225118637, 0.030157117173075676, 0.0, 0.0, 0.0, 0.0], [0.3261531889438629, 0.06790134310722351, 0.07738868147134781, 0.010417125187814236, 0.08205924928188324, 0.005314670968800783, 0.0727701336145401, 0.012229403480887413, 0.002596268430352211, 0.0010382909094914794, 0.0009319112868979573, 0.0018053824314847589, 0.006198949180543423, 0.008832194842398167, 0.011095166206359863, 0.16584573686122894, 0.06978870928287506, 0.0049489280208945274, 0.03635169565677643, 0.013446787372231483, 0.012436392717063427, 0.010449765250086784, 0.0, 0.0, 0.0], [0.5443606376647949, 0.007307617459446192, 0.07296538352966309, 0.0037786762695759535, 0.06828723102807999, 0.002245483221486211, 0.04863131791353226, 0.0013686900492757559, 0.001076079672202468, 0.0008013322949409485, 0.004587983712553978, 0.002211212180554867, 0.0020397184416651726, 0.0020791420247405767, 0.00879167765378952, 0.07235182821750641, 0.018959032371640205, 0.0017187516205012798, 0.0351857915520668, 0.004157370422035456, 0.009175321087241173, 0.04638830944895744, 0.04153147339820862, 0.0, 0.0], [0.2619897723197937, 0.1619732528924942, 0.11448293924331665, 0.008059856481850147, 0.03632235899567604, 0.004416665527969599, 0.03966920077800751, 0.003703698515892029, 0.0014539796393364668, 0.0007045416277833283, 0.0010236880043521523, 0.0012670857831835747, 0.008014173246920109, 0.0031560901552438736, 0.016881030052900314, 0.19944608211517334, 0.056198250502347946, 0.004070419818162918, 0.022147031500935555, 0.00482214754447341, 0.006761589553207159, 0.014075029641389847, 0.015191586688160896, 0.014169507659971714, 0.0], [0.0651092529296875, 0.011703409254550934, 0.2282765507698059, 0.02075236290693283, 0.15813302993774414, 0.011443107388913631, 0.18382440507411957, 0.001349303754977882, 0.0010129179572686553, 0.0007169348536990583, 0.0002944311418104917, 0.0004361389728728682, 0.001252676360309124, 0.0006169332191348076, 0.006243047770112753, 0.06322161853313446, 0.05617186799645424, 0.0059593976475298405, 0.16328065097332, 0.0016686954768374562, 0.001768665388226509, 0.0009871646761894226, 0.0009579099132679403, 0.0017234757542610168, 0.01309600193053484]]], \"attentionHeadNames\": [\"L11H2\", \"L11H1\", \"L11H10\", \"L9H9\", \"L9H7\", \"L10H2\"], \"tokens\": [\"<|endoftext|>\", \"After\", \" John\", \",\", \" Mary\", \" and\", \" Jim\", \" went\", \" to\", \" the\", \" grocery\", \" store\", \" and\", \" return\", \",\", \" \", \" Jim\", \" and\", \" John\", \" gave\", \" a\", \" bottle\", \" of\", \" milk\", \" to\"]}\n",
       "    )\n",
       "    </script></div>"
      ],
      "text/plain": [
       "<IPython.core.display.HTML object>"
      ]
     },
     "execution_count": 92,
     "metadata": {},
     "output_type": "execute_result"
    }
   ],
   "source": [
    "top_k = 10\n",
    "top_heads_by_output_patch = torch.topk(\n",
    "    patched_head_z_diff.abs().flatten(), k=top_k\n",
    ").indices\n",
    "first_mid_layer = 7\n",
    "first_late_layer = 9\n",
    "early_heads = top_heads_by_output_patch[\n",
    "    top_heads_by_output_patch < model.cfg.n_heads * first_mid_layer\n",
    "]\n",
    "mid_heads = top_heads_by_output_patch[\n",
    "    torch.logical_and(\n",
    "        model.cfg.n_heads * first_mid_layer <= top_heads_by_output_patch,\n",
    "        top_heads_by_output_patch < model.cfg.n_heads * first_late_layer,\n",
    "    )\n",
    "]\n",
    "late_heads = top_heads_by_output_patch[\n",
    "    model.cfg.n_heads * first_late_layer <= top_heads_by_output_patch\n",
    "]\n",
    "\n",
    "early = visualize_attention_patterns(\n",
    "    early_heads, cache, tokens[0], title=f\"Top Early Heads\"\n",
    ")\n",
    "mid = visualize_attention_patterns(\n",
    "    mid_heads, cache, tokens[0], title=f\"Top Middle Heads\"\n",
    ")\n",
    "late = visualize_attention_patterns(\n",
    "    late_heads, cache, tokens[0], title=f\"Top Late Heads\"\n",
    ")\n",
    "\n",
    "HTML(early + mid + late)"
   ]
  }
 ],
 "metadata": {
  "kernelspec": {
   "display_name": "hantao_interp",
   "language": "python",
   "name": "python3"
  },
  "language_info": {
   "codemirror_mode": {
    "name": "ipython",
    "version": 3
   },
   "file_extension": ".py",
   "mimetype": "text/x-python",
   "name": "python",
   "nbconvert_exporter": "python",
   "pygments_lexer": "ipython3",
   "version": "3.10.14"
  }
 },
 "nbformat": 4,
 "nbformat_minor": 2
}
